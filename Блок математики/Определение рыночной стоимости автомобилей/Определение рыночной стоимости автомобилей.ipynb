{
 "cells": [
  {
   "cell_type": "markdown",
   "metadata": {},
   "source": [
    "## Аннотация: определение стоимости автомобилей"
   ]
  },
  {
   "cell_type": "markdown",
   "metadata": {},
   "source": [
    "Сервис по продаже автомобилей с пробегом «Не бит, не крашен» разрабатывает приложение для привлечения новых клиентов. В нём можно быстро узнать рыночную стоимость своего автомобиля. \n",
    "\n",
    "**Цель** проекта: на основе исторических данных о технических характеристиках, комплектации и ценах автомобилей построить модель для определения рыночной стоимости транспортного средства. \n",
    "\n",
    "**Задача** проекта: выбрать модель, показавшую лучшие качество предсказания (оценивается с помощью метрики RMSE), скорость предсказания и время обучения."
   ]
  },
  {
   "cell_type": "markdown",
   "metadata": {},
   "source": [
    "## Знакомство с данными"
   ]
  },
  {
   "cell_type": "code",
   "execution_count": 1,
   "metadata": {},
   "outputs": [],
   "source": [
    "#импортируем библиотеки и инструменты, которые понадобятся нам при выполнении проекта\n",
    "import pandas as pd\n",
    "import matplotlib.pyplot as plt\n",
    "import seaborn as sns\n",
    "from sklearn.model_selection import train_test_split\n",
    "from sklearn.ensemble import RandomForestRegressor\n",
    "from sklearn.metrics import mean_squared_error\n",
    "from catboost import CatBoostRegressor\n",
    "import lightgbm as lgb\n",
    "import time"
   ]
  },
  {
   "cell_type": "code",
   "execution_count": 2,
   "metadata": {},
   "outputs": [],
   "source": [
    "#применяем специальный метод для чтения файлов csv\n",
    "initial_data = pd.read_csv('/datasets/autos.csv')"
   ]
  },
  {
   "cell_type": "code",
   "execution_count": 3,
   "metadata": {},
   "outputs": [
    {
     "name": "stdout",
     "output_type": "stream",
     "text": [
      "<class 'pandas.core.frame.DataFrame'>\n",
      "RangeIndex: 354369 entries, 0 to 354368\n",
      "Data columns (total 16 columns):\n",
      " #   Column             Non-Null Count   Dtype \n",
      "---  ------             --------------   ----- \n",
      " 0   DateCrawled        354369 non-null  object\n",
      " 1   Price              354369 non-null  int64 \n",
      " 2   VehicleType        316879 non-null  object\n",
      " 3   RegistrationYear   354369 non-null  int64 \n",
      " 4   Gearbox            334536 non-null  object\n",
      " 5   Power              354369 non-null  int64 \n",
      " 6   Model              334664 non-null  object\n",
      " 7   Kilometer          354369 non-null  int64 \n",
      " 8   RegistrationMonth  354369 non-null  int64 \n",
      " 9   FuelType           321474 non-null  object\n",
      " 10  Brand              354369 non-null  object\n",
      " 11  NotRepaired        283215 non-null  object\n",
      " 12  DateCreated        354369 non-null  object\n",
      " 13  NumberOfPictures   354369 non-null  int64 \n",
      " 14  PostalCode         354369 non-null  int64 \n",
      " 15  LastSeen           354369 non-null  object\n",
      "dtypes: int64(7), object(9)\n",
      "memory usage: 43.3+ MB\n",
      "None\n",
      "\n"
     ]
    },
    {
     "data": {
      "text/html": [
       "<div>\n",
       "<style scoped>\n",
       "    .dataframe tbody tr th:only-of-type {\n",
       "        vertical-align: middle;\n",
       "    }\n",
       "\n",
       "    .dataframe tbody tr th {\n",
       "        vertical-align: top;\n",
       "    }\n",
       "\n",
       "    .dataframe thead th {\n",
       "        text-align: right;\n",
       "    }\n",
       "</style>\n",
       "<table border=\"1\" class=\"dataframe\">\n",
       "  <thead>\n",
       "    <tr style=\"text-align: right;\">\n",
       "      <th></th>\n",
       "      <th>DateCrawled</th>\n",
       "      <th>Price</th>\n",
       "      <th>VehicleType</th>\n",
       "      <th>RegistrationYear</th>\n",
       "      <th>Gearbox</th>\n",
       "      <th>Power</th>\n",
       "      <th>Model</th>\n",
       "      <th>Kilometer</th>\n",
       "      <th>RegistrationMonth</th>\n",
       "      <th>FuelType</th>\n",
       "      <th>Brand</th>\n",
       "      <th>NotRepaired</th>\n",
       "      <th>DateCreated</th>\n",
       "      <th>NumberOfPictures</th>\n",
       "      <th>PostalCode</th>\n",
       "      <th>LastSeen</th>\n",
       "    </tr>\n",
       "  </thead>\n",
       "  <tbody>\n",
       "    <tr>\n",
       "      <th>0</th>\n",
       "      <td>2016-03-24 11:52:17</td>\n",
       "      <td>480</td>\n",
       "      <td>NaN</td>\n",
       "      <td>1993</td>\n",
       "      <td>manual</td>\n",
       "      <td>0</td>\n",
       "      <td>golf</td>\n",
       "      <td>150000</td>\n",
       "      <td>0</td>\n",
       "      <td>petrol</td>\n",
       "      <td>volkswagen</td>\n",
       "      <td>NaN</td>\n",
       "      <td>2016-03-24 00:00:00</td>\n",
       "      <td>0</td>\n",
       "      <td>70435</td>\n",
       "      <td>2016-04-07 03:16:57</td>\n",
       "    </tr>\n",
       "    <tr>\n",
       "      <th>1</th>\n",
       "      <td>2016-03-24 10:58:45</td>\n",
       "      <td>18300</td>\n",
       "      <td>coupe</td>\n",
       "      <td>2011</td>\n",
       "      <td>manual</td>\n",
       "      <td>190</td>\n",
       "      <td>NaN</td>\n",
       "      <td>125000</td>\n",
       "      <td>5</td>\n",
       "      <td>gasoline</td>\n",
       "      <td>audi</td>\n",
       "      <td>yes</td>\n",
       "      <td>2016-03-24 00:00:00</td>\n",
       "      <td>0</td>\n",
       "      <td>66954</td>\n",
       "      <td>2016-04-07 01:46:50</td>\n",
       "    </tr>\n",
       "    <tr>\n",
       "      <th>2</th>\n",
       "      <td>2016-03-14 12:52:21</td>\n",
       "      <td>9800</td>\n",
       "      <td>suv</td>\n",
       "      <td>2004</td>\n",
       "      <td>auto</td>\n",
       "      <td>163</td>\n",
       "      <td>grand</td>\n",
       "      <td>125000</td>\n",
       "      <td>8</td>\n",
       "      <td>gasoline</td>\n",
       "      <td>jeep</td>\n",
       "      <td>NaN</td>\n",
       "      <td>2016-03-14 00:00:00</td>\n",
       "      <td>0</td>\n",
       "      <td>90480</td>\n",
       "      <td>2016-04-05 12:47:46</td>\n",
       "    </tr>\n",
       "    <tr>\n",
       "      <th>3</th>\n",
       "      <td>2016-03-17 16:54:04</td>\n",
       "      <td>1500</td>\n",
       "      <td>small</td>\n",
       "      <td>2001</td>\n",
       "      <td>manual</td>\n",
       "      <td>75</td>\n",
       "      <td>golf</td>\n",
       "      <td>150000</td>\n",
       "      <td>6</td>\n",
       "      <td>petrol</td>\n",
       "      <td>volkswagen</td>\n",
       "      <td>no</td>\n",
       "      <td>2016-03-17 00:00:00</td>\n",
       "      <td>0</td>\n",
       "      <td>91074</td>\n",
       "      <td>2016-03-17 17:40:17</td>\n",
       "    </tr>\n",
       "    <tr>\n",
       "      <th>4</th>\n",
       "      <td>2016-03-31 17:25:20</td>\n",
       "      <td>3600</td>\n",
       "      <td>small</td>\n",
       "      <td>2008</td>\n",
       "      <td>manual</td>\n",
       "      <td>69</td>\n",
       "      <td>fabia</td>\n",
       "      <td>90000</td>\n",
       "      <td>7</td>\n",
       "      <td>gasoline</td>\n",
       "      <td>skoda</td>\n",
       "      <td>no</td>\n",
       "      <td>2016-03-31 00:00:00</td>\n",
       "      <td>0</td>\n",
       "      <td>60437</td>\n",
       "      <td>2016-04-06 10:17:21</td>\n",
       "    </tr>\n",
       "    <tr>\n",
       "      <th>5</th>\n",
       "      <td>2016-04-04 17:36:23</td>\n",
       "      <td>650</td>\n",
       "      <td>sedan</td>\n",
       "      <td>1995</td>\n",
       "      <td>manual</td>\n",
       "      <td>102</td>\n",
       "      <td>3er</td>\n",
       "      <td>150000</td>\n",
       "      <td>10</td>\n",
       "      <td>petrol</td>\n",
       "      <td>bmw</td>\n",
       "      <td>yes</td>\n",
       "      <td>2016-04-04 00:00:00</td>\n",
       "      <td>0</td>\n",
       "      <td>33775</td>\n",
       "      <td>2016-04-06 19:17:07</td>\n",
       "    </tr>\n",
       "    <tr>\n",
       "      <th>6</th>\n",
       "      <td>2016-04-01 20:48:51</td>\n",
       "      <td>2200</td>\n",
       "      <td>convertible</td>\n",
       "      <td>2004</td>\n",
       "      <td>manual</td>\n",
       "      <td>109</td>\n",
       "      <td>2_reihe</td>\n",
       "      <td>150000</td>\n",
       "      <td>8</td>\n",
       "      <td>petrol</td>\n",
       "      <td>peugeot</td>\n",
       "      <td>no</td>\n",
       "      <td>2016-04-01 00:00:00</td>\n",
       "      <td>0</td>\n",
       "      <td>67112</td>\n",
       "      <td>2016-04-05 18:18:39</td>\n",
       "    </tr>\n",
       "    <tr>\n",
       "      <th>7</th>\n",
       "      <td>2016-03-21 18:54:38</td>\n",
       "      <td>0</td>\n",
       "      <td>sedan</td>\n",
       "      <td>1980</td>\n",
       "      <td>manual</td>\n",
       "      <td>50</td>\n",
       "      <td>other</td>\n",
       "      <td>40000</td>\n",
       "      <td>7</td>\n",
       "      <td>petrol</td>\n",
       "      <td>volkswagen</td>\n",
       "      <td>no</td>\n",
       "      <td>2016-03-21 00:00:00</td>\n",
       "      <td>0</td>\n",
       "      <td>19348</td>\n",
       "      <td>2016-03-25 16:47:58</td>\n",
       "    </tr>\n",
       "    <tr>\n",
       "      <th>8</th>\n",
       "      <td>2016-04-04 23:42:13</td>\n",
       "      <td>14500</td>\n",
       "      <td>bus</td>\n",
       "      <td>2014</td>\n",
       "      <td>manual</td>\n",
       "      <td>125</td>\n",
       "      <td>c_max</td>\n",
       "      <td>30000</td>\n",
       "      <td>8</td>\n",
       "      <td>petrol</td>\n",
       "      <td>ford</td>\n",
       "      <td>NaN</td>\n",
       "      <td>2016-04-04 00:00:00</td>\n",
       "      <td>0</td>\n",
       "      <td>94505</td>\n",
       "      <td>2016-04-04 23:42:13</td>\n",
       "    </tr>\n",
       "    <tr>\n",
       "      <th>9</th>\n",
       "      <td>2016-03-17 10:53:50</td>\n",
       "      <td>999</td>\n",
       "      <td>small</td>\n",
       "      <td>1998</td>\n",
       "      <td>manual</td>\n",
       "      <td>101</td>\n",
       "      <td>golf</td>\n",
       "      <td>150000</td>\n",
       "      <td>0</td>\n",
       "      <td>NaN</td>\n",
       "      <td>volkswagen</td>\n",
       "      <td>NaN</td>\n",
       "      <td>2016-03-17 00:00:00</td>\n",
       "      <td>0</td>\n",
       "      <td>27472</td>\n",
       "      <td>2016-03-31 17:17:06</td>\n",
       "    </tr>\n",
       "  </tbody>\n",
       "</table>\n",
       "</div>"
      ],
      "text/plain": [
       "           DateCrawled  Price  VehicleType  RegistrationYear Gearbox  Power  \\\n",
       "0  2016-03-24 11:52:17    480          NaN              1993  manual      0   \n",
       "1  2016-03-24 10:58:45  18300        coupe              2011  manual    190   \n",
       "2  2016-03-14 12:52:21   9800          suv              2004    auto    163   \n",
       "3  2016-03-17 16:54:04   1500        small              2001  manual     75   \n",
       "4  2016-03-31 17:25:20   3600        small              2008  manual     69   \n",
       "5  2016-04-04 17:36:23    650        sedan              1995  manual    102   \n",
       "6  2016-04-01 20:48:51   2200  convertible              2004  manual    109   \n",
       "7  2016-03-21 18:54:38      0        sedan              1980  manual     50   \n",
       "8  2016-04-04 23:42:13  14500          bus              2014  manual    125   \n",
       "9  2016-03-17 10:53:50    999        small              1998  manual    101   \n",
       "\n",
       "     Model  Kilometer  RegistrationMonth  FuelType       Brand NotRepaired  \\\n",
       "0     golf     150000                  0    petrol  volkswagen         NaN   \n",
       "1      NaN     125000                  5  gasoline        audi         yes   \n",
       "2    grand     125000                  8  gasoline        jeep         NaN   \n",
       "3     golf     150000                  6    petrol  volkswagen          no   \n",
       "4    fabia      90000                  7  gasoline       skoda          no   \n",
       "5      3er     150000                 10    petrol         bmw         yes   \n",
       "6  2_reihe     150000                  8    petrol     peugeot          no   \n",
       "7    other      40000                  7    petrol  volkswagen          no   \n",
       "8    c_max      30000                  8    petrol        ford         NaN   \n",
       "9     golf     150000                  0       NaN  volkswagen         NaN   \n",
       "\n",
       "           DateCreated  NumberOfPictures  PostalCode             LastSeen  \n",
       "0  2016-03-24 00:00:00                 0       70435  2016-04-07 03:16:57  \n",
       "1  2016-03-24 00:00:00                 0       66954  2016-04-07 01:46:50  \n",
       "2  2016-03-14 00:00:00                 0       90480  2016-04-05 12:47:46  \n",
       "3  2016-03-17 00:00:00                 0       91074  2016-03-17 17:40:17  \n",
       "4  2016-03-31 00:00:00                 0       60437  2016-04-06 10:17:21  \n",
       "5  2016-04-04 00:00:00                 0       33775  2016-04-06 19:17:07  \n",
       "6  2016-04-01 00:00:00                 0       67112  2016-04-05 18:18:39  \n",
       "7  2016-03-21 00:00:00                 0       19348  2016-03-25 16:47:58  \n",
       "8  2016-04-04 00:00:00                 0       94505  2016-04-04 23:42:13  \n",
       "9  2016-03-17 00:00:00                 0       27472  2016-03-31 17:17:06  "
      ]
     },
     "metadata": {},
     "output_type": "display_data"
    },
    {
     "name": "stdout",
     "output_type": "stream",
     "text": [
      "\n"
     ]
    },
    {
     "data": {
      "text/html": [
       "<div>\n",
       "<style scoped>\n",
       "    .dataframe tbody tr th:only-of-type {\n",
       "        vertical-align: middle;\n",
       "    }\n",
       "\n",
       "    .dataframe tbody tr th {\n",
       "        vertical-align: top;\n",
       "    }\n",
       "\n",
       "    .dataframe thead th {\n",
       "        text-align: right;\n",
       "    }\n",
       "</style>\n",
       "<table border=\"1\" class=\"dataframe\">\n",
       "  <thead>\n",
       "    <tr style=\"text-align: right;\">\n",
       "      <th></th>\n",
       "      <th>Price</th>\n",
       "      <th>RegistrationYear</th>\n",
       "      <th>Power</th>\n",
       "      <th>Kilometer</th>\n",
       "      <th>RegistrationMonth</th>\n",
       "      <th>NumberOfPictures</th>\n",
       "      <th>PostalCode</th>\n",
       "    </tr>\n",
       "  </thead>\n",
       "  <tbody>\n",
       "    <tr>\n",
       "      <th>count</th>\n",
       "      <td>354369.000000</td>\n",
       "      <td>354369.000000</td>\n",
       "      <td>354369.000000</td>\n",
       "      <td>354369.000000</td>\n",
       "      <td>354369.000000</td>\n",
       "      <td>354369.0</td>\n",
       "      <td>354369.000000</td>\n",
       "    </tr>\n",
       "    <tr>\n",
       "      <th>mean</th>\n",
       "      <td>4416.656776</td>\n",
       "      <td>2004.234448</td>\n",
       "      <td>110.094337</td>\n",
       "      <td>128211.172535</td>\n",
       "      <td>5.714645</td>\n",
       "      <td>0.0</td>\n",
       "      <td>50508.689087</td>\n",
       "    </tr>\n",
       "    <tr>\n",
       "      <th>std</th>\n",
       "      <td>4514.158514</td>\n",
       "      <td>90.227958</td>\n",
       "      <td>189.850405</td>\n",
       "      <td>37905.341530</td>\n",
       "      <td>3.726421</td>\n",
       "      <td>0.0</td>\n",
       "      <td>25783.096248</td>\n",
       "    </tr>\n",
       "    <tr>\n",
       "      <th>min</th>\n",
       "      <td>0.000000</td>\n",
       "      <td>1000.000000</td>\n",
       "      <td>0.000000</td>\n",
       "      <td>5000.000000</td>\n",
       "      <td>0.000000</td>\n",
       "      <td>0.0</td>\n",
       "      <td>1067.000000</td>\n",
       "    </tr>\n",
       "    <tr>\n",
       "      <th>25%</th>\n",
       "      <td>1050.000000</td>\n",
       "      <td>1999.000000</td>\n",
       "      <td>69.000000</td>\n",
       "      <td>125000.000000</td>\n",
       "      <td>3.000000</td>\n",
       "      <td>0.0</td>\n",
       "      <td>30165.000000</td>\n",
       "    </tr>\n",
       "    <tr>\n",
       "      <th>50%</th>\n",
       "      <td>2700.000000</td>\n",
       "      <td>2003.000000</td>\n",
       "      <td>105.000000</td>\n",
       "      <td>150000.000000</td>\n",
       "      <td>6.000000</td>\n",
       "      <td>0.0</td>\n",
       "      <td>49413.000000</td>\n",
       "    </tr>\n",
       "    <tr>\n",
       "      <th>75%</th>\n",
       "      <td>6400.000000</td>\n",
       "      <td>2008.000000</td>\n",
       "      <td>143.000000</td>\n",
       "      <td>150000.000000</td>\n",
       "      <td>9.000000</td>\n",
       "      <td>0.0</td>\n",
       "      <td>71083.000000</td>\n",
       "    </tr>\n",
       "    <tr>\n",
       "      <th>max</th>\n",
       "      <td>20000.000000</td>\n",
       "      <td>9999.000000</td>\n",
       "      <td>20000.000000</td>\n",
       "      <td>150000.000000</td>\n",
       "      <td>12.000000</td>\n",
       "      <td>0.0</td>\n",
       "      <td>99998.000000</td>\n",
       "    </tr>\n",
       "  </tbody>\n",
       "</table>\n",
       "</div>"
      ],
      "text/plain": [
       "               Price  RegistrationYear          Power      Kilometer  \\\n",
       "count  354369.000000     354369.000000  354369.000000  354369.000000   \n",
       "mean     4416.656776       2004.234448     110.094337  128211.172535   \n",
       "std      4514.158514         90.227958     189.850405   37905.341530   \n",
       "min         0.000000       1000.000000       0.000000    5000.000000   \n",
       "25%      1050.000000       1999.000000      69.000000  125000.000000   \n",
       "50%      2700.000000       2003.000000     105.000000  150000.000000   \n",
       "75%      6400.000000       2008.000000     143.000000  150000.000000   \n",
       "max     20000.000000       9999.000000   20000.000000  150000.000000   \n",
       "\n",
       "       RegistrationMonth  NumberOfPictures     PostalCode  \n",
       "count      354369.000000          354369.0  354369.000000  \n",
       "mean            5.714645               0.0   50508.689087  \n",
       "std             3.726421               0.0   25783.096248  \n",
       "min             0.000000               0.0    1067.000000  \n",
       "25%             3.000000               0.0   30165.000000  \n",
       "50%             6.000000               0.0   49413.000000  \n",
       "75%             9.000000               0.0   71083.000000  \n",
       "max            12.000000               0.0   99998.000000  "
      ]
     },
     "metadata": {},
     "output_type": "display_data"
    },
    {
     "name": "stdout",
     "output_type": "stream",
     "text": [
      "\n",
      "Количество явных дубликатов: 4\n"
     ]
    }
   ],
   "source": [
    "#выводим основную информацию об исходном датасете\n",
    "print(initial_data.info())\n",
    "print()\n",
    "display(initial_data.head(10))\n",
    "print()\n",
    "display(initial_data.describe()) \n",
    "print()\n",
    "print('Количество явных дубликатов:', initial_data.duplicated().sum())"
   ]
  },
  {
   "cell_type": "markdown",
   "metadata": {},
   "source": [
    "### Выводы:"
   ]
  },
  {
   "cell_type": "markdown",
   "metadata": {},
   "source": [
    "Знакомство с данными позволило выявить следующие проблемы, требующие решения:\n",
    "- некорректное название некоторых столбцов;\n",
    "- наличие пропусков в части столбцов;\n",
    "- наличие явных дубликатов;\n",
    "- возможность отсутствия ненулевых данных в колонке с количеством изображений;\n",
    "- возможное наличие выбросов в столбцах с ценой, мощностью и годом регистрации автомобиля.\n",
    "\n",
    "На следующем этапе исследования предобработаем исходные данные для улучшения их качества."
   ]
  },
  {
   "cell_type": "markdown",
   "metadata": {},
   "source": [
    "## Предобработка данных"
   ]
  },
  {
   "cell_type": "markdown",
   "metadata": {},
   "source": [
    "### Удаление дубликатов, избыточных данных и переименовывание столбцов"
   ]
  },
  {
   "cell_type": "markdown",
   "metadata": {},
   "source": [
    "Начнем предобработку данных с удаления из них явных дубликатов."
   ]
  },
  {
   "cell_type": "code",
   "execution_count": 4,
   "metadata": {},
   "outputs": [
    {
     "name": "stdout",
     "output_type": "stream",
     "text": [
      "Количество явных дубликатов: 0\n"
     ]
    }
   ],
   "source": [
    "data = initial_data.drop_duplicates().reset_index(drop=True) #удаляем дубликаты\n",
    "print('Количество явных дубликатов:', data.duplicated().sum()) #проверяем результат"
   ]
  },
  {
   "cell_type": "markdown",
   "metadata": {},
   "source": [
    "Далее переименуем столбцы согласно правилам стиля и добавим в них больше ясности и информативности."
   ]
  },
  {
   "cell_type": "code",
   "execution_count": 5,
   "metadata": {},
   "outputs": [],
   "source": [
    "data.columns = ['application_download_date', 'price', 'body_type', 'registration_year', 'gearbox_type', 'power', \n",
    "                        'model', 'mileage', 'registration_month', 'fuel_type', 'brand', 'has_been_repaired', \n",
    "                        'application_creation_date', 'number_of_pictures', 'postal_code', 'last_seen']"
   ]
  },
  {
   "cell_type": "markdown",
   "metadata": {},
   "source": [
    "Посмотрим на данные в столбце number_of_pictures с целью выяснить, присутствуют ли в них ненулевые значения."
   ]
  },
  {
   "cell_type": "code",
   "execution_count": 6,
   "metadata": {},
   "outputs": [
    {
     "name": "stdout",
     "output_type": "stream",
     "text": [
      "[0]\n"
     ]
    }
   ],
   "source": [
    "print(data['number_of_pictures'].unique())"
   ]
  },
  {
   "cell_type": "markdown",
   "metadata": {},
   "source": [
    "Как мы видим, весь столбец заполнен нулями, а значит, мы можем его удалить. Так же не несут полезной информации сведения о последней активности пользователя сервиса, дате создания и скачивания анкеты, почтовом индексе. Их мы также удалим."
   ]
  },
  {
   "cell_type": "code",
   "execution_count": 7,
   "metadata": {},
   "outputs": [],
   "source": [
    "data = data.drop(['number_of_pictures', 'application_creation_date', 'application_download_date', 'last_seen', 'postal_code'], axis = 1)"
   ]
  },
  {
   "cell_type": "markdown",
   "metadata": {},
   "source": [
    "### Исследование данных на наличие выбросов"
   ]
  },
  {
   "cell_type": "markdown",
   "metadata": {},
   "source": [
    "Теперь проверим данные на выбросы, построив \"ящики с усами\"."
   ]
  },
  {
   "cell_type": "code",
   "execution_count": 8,
   "metadata": {},
   "outputs": [
    {
     "data": {
      "image/png": "[encoded data removed]",
      "text/plain": [
       "<Figure size 432x288 with 1 Axes>"
      ]
     },
     "metadata": {
      "needs_background": "light"
     },
     "output_type": "display_data"
    }
   ],
   "source": [
    "data.boxplot(column = 'price') #строим диаграмму размаха\n",
    "plt.ylim(-2000, 16000)\n",
    "plt.title('Диаграмма размаха для стоимости автомобилей')\n",
    "plt.show()"
   ]
  },
  {
   "cell_type": "markdown",
   "metadata": {},
   "source": [
    "В данных о стоимости автомобилей действительно присутствуют выбросы с правой стороны: их зона начинается примерно со значения в 14500 евро. Однако нулевые значения тоже вряд ли релевантны, так как пользователи прилложения хотят продать машину, а не отдать ее даром. \n",
    "\n",
    "Далее изучим данные о годах регистрации автомобилей."
   ]
  },
  {
   "cell_type": "code",
   "execution_count": 9,
   "metadata": {},
   "outputs": [
    {
     "data": {
      "image/png": "[encoded data removed]",
      "text/plain": [
       "<Figure size 432x288 with 1 Axes>"
      ]
     },
     "metadata": {
      "needs_background": "light"
     },
     "output_type": "display_data"
    }
   ],
   "source": [
    "data.boxplot(column = 'registration_year') \n",
    "plt.ylim(1900, 2100)\n",
    "plt.title('Диаграмма размаха для года регистрации автомобилей')\n",
    "plt.show()"
   ]
  },
  {
   "cell_type": "markdown",
   "metadata": {},
   "source": [
    "В данном случае присутствуют обе зоны выбросов. Левая начинается с 1987 года, правая с 2019. \n",
    "\n",
    "Наконец посмотрим на мощности представленных транспортных средств."
   ]
  },
  {
   "cell_type": "code",
   "execution_count": 10,
   "metadata": {},
   "outputs": [
    {
     "data": {
      "image/png": "[encoded data removed]",
      "text/plain": [
       "<Figure size 432x288 with 1 Axes>"
      ]
     },
     "metadata": {
      "needs_background": "light"
     },
     "output_type": "display_data"
    }
   ],
   "source": [
    "data.boxplot(column = 'power') \n",
    "plt.ylim(-100, 500)\n",
    "plt.title('Диаграмма размаха для мощности автомобилей')\n",
    "plt.show()"
   ]
  },
  {
   "cell_type": "markdown",
   "metadata": {},
   "source": [
    "Здесь так же, как и в случае с ценой, одна зона выбросов и нулевые значения, от которых нужно избавиться. Правая зона выбросов начинается со значения в 250 лошадиных сил.\n",
    "\n",
    "Очистим нашу исходную таблицу от выбросов для повышения качества и сокращения времени работы будущих моделей."
   ]
  },
  {
   "cell_type": "code",
   "execution_count": 11,
   "metadata": {},
   "outputs": [],
   "source": [
    "#очищаем данные от выбросов\n",
    "data  = data.query('price < 14500 & price > 0 & registration_year < 2019 & registration_year > 1987 & power > 0 & power < 250') "
   ]
  },
  {
   "cell_type": "markdown",
   "metadata": {},
   "source": [
    "### Обработка пропусков"
   ]
  },
  {
   "cell_type": "markdown",
   "metadata": {},
   "source": [
    "Перейдем к обработке пропущенных значений. Для начала нужно определить, какую долю от всех данных они занимают:"
   ]
  },
  {
   "cell_type": "code",
   "execution_count": 12,
   "metadata": {},
   "outputs": [
    {
     "name": "stdout",
     "output_type": "stream",
     "text": [
      "price                  0.000000\n",
      "registration_year      0.000000\n",
      "power                  0.000000\n",
      "mileage                0.000000\n",
      "registration_month     0.000000\n",
      "brand                  0.000000\n",
      "gearbox_type           2.054232\n",
      "model                  3.925301\n",
      "fuel_type              6.698210\n",
      "body_type              7.302185\n",
      "has_been_repaired     15.853541\n",
      "dtype: float64\n"
     ]
    }
   ],
   "source": [
    "print(data.isna().sum().sort_values()/data.shape[0]*100)"
   ]
  },
  {
   "cell_type": "markdown",
   "metadata": {},
   "source": [
    "Доля пропущенных значений в столбцах gearbox_type, body_type и fuel_type менее 10%, что довольно мало, поэтому можно удалить соответствующие строки без опасений, что это существенно повлияет на результаты исследования. \n",
    "\n",
    "Иначе дело обстоит с фактом ремонта автомобилей. В данном столбце доля пропусков выше, при этом данные могут оказать существенное влияние на стоимость автомобиля. Однако у нас нет возможности корректно заполнить пропуски, не исказив общую картину, поэтому разумнее всего будет удалить и эти строки.    "
   ]
  },
  {
   "cell_type": "code",
   "execution_count": 13,
   "metadata": {},
   "outputs": [],
   "source": [
    "data = data.dropna(subset = ['gearbox_type', 'body_type', 'fuel_type', 'model', 'has_been_repaired']).reset_index(drop=True)"
   ]
  },
  {
   "cell_type": "markdown",
   "metadata": {},
   "source": [
    "Посмотрим, как изменился размер нашего фрейма после всех преобразований."
   ]
  },
  {
   "cell_type": "code",
   "execution_count": 14,
   "metadata": {},
   "outputs": [
    {
     "name": "stdout",
     "output_type": "stream",
     "text": [
      "(354369, 16)\n",
      "(210080, 11)\n"
     ]
    }
   ],
   "source": [
    "print(initial_data.shape)\n",
    "print(data.shape)"
   ]
  },
  {
   "cell_type": "markdown",
   "metadata": {},
   "source": [
    "Таблица значительно уменьшилась, однако качество ее данных наоборот увеличилось за счет устранения пропусков и выбросов. \n",
    "\n",
    "На этом предобработку данных можно считать оконченной."
   ]
  },
  {
   "cell_type": "markdown",
   "metadata": {},
   "source": [
    "### Выводы:"
   ]
  },
  {
   "cell_type": "markdown",
   "metadata": {},
   "source": [
    "На данном этапе была произведена предобработка исходных данных:\n",
    "- удалены явные дубликаты;\n",
    "- названия столбцов изменены согласно правилам;\n",
    "- удалены столбцы с данными, которые не пригодятся для решения поставленной задачи;\n",
    "- данные очищены от выбросов;\n",
    "- обработаны пропущенные значения.\n",
    "\n",
    "На следующем этапе преобразуем данные для целей машинного обучения."
   ]
  },
  {
   "cell_type": "markdown",
   "metadata": {},
   "source": [
    "## Подготовка данных к машинному обучению"
   ]
  },
  {
   "cell_type": "markdown",
   "metadata": {},
   "source": [
    "Преобразуем категориальные признаки в численные, используя технику прямого кодирования (OHE). Чтобы избежать дамми-ловушки, применим аргумент drop_first."
   ]
  },
  {
   "cell_type": "code",
   "execution_count": 24,
   "metadata": {},
   "outputs": [
    {
     "data": {
      "text/html": [
       "<div>\n",
       "<style scoped>\n",
       "    .dataframe tbody tr th:only-of-type {\n",
       "        vertical-align: middle;\n",
       "    }\n",
       "\n",
       "    .dataframe tbody tr th {\n",
       "        vertical-align: top;\n",
       "    }\n",
       "\n",
       "    .dataframe thead th {\n",
       "        text-align: right;\n",
       "    }\n",
       "</style>\n",
       "<table border=\"1\" class=\"dataframe\">\n",
       "  <thead>\n",
       "    <tr style=\"text-align: right;\">\n",
       "      <th></th>\n",
       "      <th>price</th>\n",
       "      <th>registration_year</th>\n",
       "      <th>power</th>\n",
       "      <th>mileage</th>\n",
       "      <th>registration_month</th>\n",
       "      <th>body_type_convertible</th>\n",
       "      <th>body_type_coupe</th>\n",
       "      <th>body_type_other</th>\n",
       "      <th>body_type_sedan</th>\n",
       "      <th>body_type_small</th>\n",
       "      <th>...</th>\n",
       "      <th>brand_seat</th>\n",
       "      <th>brand_skoda</th>\n",
       "      <th>brand_smart</th>\n",
       "      <th>brand_subaru</th>\n",
       "      <th>brand_suzuki</th>\n",
       "      <th>brand_toyota</th>\n",
       "      <th>brand_trabant</th>\n",
       "      <th>brand_volkswagen</th>\n",
       "      <th>brand_volvo</th>\n",
       "      <th>has_been_repaired_yes</th>\n",
       "    </tr>\n",
       "  </thead>\n",
       "  <tbody>\n",
       "    <tr>\n",
       "      <th>0</th>\n",
       "      <td>1500</td>\n",
       "      <td>2001</td>\n",
       "      <td>75</td>\n",
       "      <td>150000</td>\n",
       "      <td>6</td>\n",
       "      <td>0</td>\n",
       "      <td>0</td>\n",
       "      <td>0</td>\n",
       "      <td>0</td>\n",
       "      <td>1</td>\n",
       "      <td>...</td>\n",
       "      <td>0</td>\n",
       "      <td>0</td>\n",
       "      <td>0</td>\n",
       "      <td>0</td>\n",
       "      <td>0</td>\n",
       "      <td>0</td>\n",
       "      <td>0</td>\n",
       "      <td>1</td>\n",
       "      <td>0</td>\n",
       "      <td>0</td>\n",
       "    </tr>\n",
       "    <tr>\n",
       "      <th>1</th>\n",
       "      <td>3600</td>\n",
       "      <td>2008</td>\n",
       "      <td>69</td>\n",
       "      <td>90000</td>\n",
       "      <td>7</td>\n",
       "      <td>0</td>\n",
       "      <td>0</td>\n",
       "      <td>0</td>\n",
       "      <td>0</td>\n",
       "      <td>1</td>\n",
       "      <td>...</td>\n",
       "      <td>0</td>\n",
       "      <td>1</td>\n",
       "      <td>0</td>\n",
       "      <td>0</td>\n",
       "      <td>0</td>\n",
       "      <td>0</td>\n",
       "      <td>0</td>\n",
       "      <td>0</td>\n",
       "      <td>0</td>\n",
       "      <td>0</td>\n",
       "    </tr>\n",
       "    <tr>\n",
       "      <th>2</th>\n",
       "      <td>650</td>\n",
       "      <td>1995</td>\n",
       "      <td>102</td>\n",
       "      <td>150000</td>\n",
       "      <td>10</td>\n",
       "      <td>0</td>\n",
       "      <td>0</td>\n",
       "      <td>0</td>\n",
       "      <td>1</td>\n",
       "      <td>0</td>\n",
       "      <td>...</td>\n",
       "      <td>0</td>\n",
       "      <td>0</td>\n",
       "      <td>0</td>\n",
       "      <td>0</td>\n",
       "      <td>0</td>\n",
       "      <td>0</td>\n",
       "      <td>0</td>\n",
       "      <td>0</td>\n",
       "      <td>0</td>\n",
       "      <td>1</td>\n",
       "    </tr>\n",
       "    <tr>\n",
       "      <th>3</th>\n",
       "      <td>2200</td>\n",
       "      <td>2004</td>\n",
       "      <td>109</td>\n",
       "      <td>150000</td>\n",
       "      <td>8</td>\n",
       "      <td>1</td>\n",
       "      <td>0</td>\n",
       "      <td>0</td>\n",
       "      <td>0</td>\n",
       "      <td>0</td>\n",
       "      <td>...</td>\n",
       "      <td>0</td>\n",
       "      <td>0</td>\n",
       "      <td>0</td>\n",
       "      <td>0</td>\n",
       "      <td>0</td>\n",
       "      <td>0</td>\n",
       "      <td>0</td>\n",
       "      <td>0</td>\n",
       "      <td>0</td>\n",
       "      <td>0</td>\n",
       "    </tr>\n",
       "    <tr>\n",
       "      <th>4</th>\n",
       "      <td>2000</td>\n",
       "      <td>2004</td>\n",
       "      <td>105</td>\n",
       "      <td>150000</td>\n",
       "      <td>12</td>\n",
       "      <td>0</td>\n",
       "      <td>0</td>\n",
       "      <td>0</td>\n",
       "      <td>1</td>\n",
       "      <td>0</td>\n",
       "      <td>...</td>\n",
       "      <td>0</td>\n",
       "      <td>0</td>\n",
       "      <td>0</td>\n",
       "      <td>0</td>\n",
       "      <td>0</td>\n",
       "      <td>0</td>\n",
       "      <td>0</td>\n",
       "      <td>0</td>\n",
       "      <td>0</td>\n",
       "      <td>0</td>\n",
       "    </tr>\n",
       "    <tr>\n",
       "      <th>5</th>\n",
       "      <td>2799</td>\n",
       "      <td>2005</td>\n",
       "      <td>140</td>\n",
       "      <td>150000</td>\n",
       "      <td>12</td>\n",
       "      <td>0</td>\n",
       "      <td>0</td>\n",
       "      <td>0</td>\n",
       "      <td>0</td>\n",
       "      <td>0</td>\n",
       "      <td>...</td>\n",
       "      <td>0</td>\n",
       "      <td>0</td>\n",
       "      <td>0</td>\n",
       "      <td>0</td>\n",
       "      <td>0</td>\n",
       "      <td>0</td>\n",
       "      <td>0</td>\n",
       "      <td>1</td>\n",
       "      <td>0</td>\n",
       "      <td>1</td>\n",
       "    </tr>\n",
       "    <tr>\n",
       "      <th>6</th>\n",
       "      <td>1750</td>\n",
       "      <td>2004</td>\n",
       "      <td>75</td>\n",
       "      <td>150000</td>\n",
       "      <td>2</td>\n",
       "      <td>0</td>\n",
       "      <td>0</td>\n",
       "      <td>0</td>\n",
       "      <td>0</td>\n",
       "      <td>1</td>\n",
       "      <td>...</td>\n",
       "      <td>0</td>\n",
       "      <td>0</td>\n",
       "      <td>0</td>\n",
       "      <td>0</td>\n",
       "      <td>0</td>\n",
       "      <td>0</td>\n",
       "      <td>0</td>\n",
       "      <td>0</td>\n",
       "      <td>0</td>\n",
       "      <td>0</td>\n",
       "    </tr>\n",
       "    <tr>\n",
       "      <th>7</th>\n",
       "      <td>7550</td>\n",
       "      <td>2007</td>\n",
       "      <td>136</td>\n",
       "      <td>150000</td>\n",
       "      <td>6</td>\n",
       "      <td>0</td>\n",
       "      <td>0</td>\n",
       "      <td>0</td>\n",
       "      <td>0</td>\n",
       "      <td>0</td>\n",
       "      <td>...</td>\n",
       "      <td>0</td>\n",
       "      <td>0</td>\n",
       "      <td>0</td>\n",
       "      <td>0</td>\n",
       "      <td>0</td>\n",
       "      <td>0</td>\n",
       "      <td>0</td>\n",
       "      <td>0</td>\n",
       "      <td>0</td>\n",
       "      <td>0</td>\n",
       "    </tr>\n",
       "    <tr>\n",
       "      <th>8</th>\n",
       "      <td>1850</td>\n",
       "      <td>2004</td>\n",
       "      <td>102</td>\n",
       "      <td>150000</td>\n",
       "      <td>1</td>\n",
       "      <td>0</td>\n",
       "      <td>0</td>\n",
       "      <td>0</td>\n",
       "      <td>0</td>\n",
       "      <td>0</td>\n",
       "      <td>...</td>\n",
       "      <td>0</td>\n",
       "      <td>0</td>\n",
       "      <td>0</td>\n",
       "      <td>0</td>\n",
       "      <td>0</td>\n",
       "      <td>0</td>\n",
       "      <td>0</td>\n",
       "      <td>0</td>\n",
       "      <td>0</td>\n",
       "      <td>0</td>\n",
       "    </tr>\n",
       "    <tr>\n",
       "      <th>9</th>\n",
       "      <td>10400</td>\n",
       "      <td>2009</td>\n",
       "      <td>160</td>\n",
       "      <td>100000</td>\n",
       "      <td>4</td>\n",
       "      <td>0</td>\n",
       "      <td>1</td>\n",
       "      <td>0</td>\n",
       "      <td>0</td>\n",
       "      <td>0</td>\n",
       "      <td>...</td>\n",
       "      <td>0</td>\n",
       "      <td>0</td>\n",
       "      <td>0</td>\n",
       "      <td>0</td>\n",
       "      <td>0</td>\n",
       "      <td>0</td>\n",
       "      <td>0</td>\n",
       "      <td>1</td>\n",
       "      <td>0</td>\n",
       "      <td>0</td>\n",
       "    </tr>\n",
       "  </tbody>\n",
       "</table>\n",
       "<p>10 rows × 302 columns</p>\n",
       "</div>"
      ],
      "text/plain": [
       "   price  registration_year  power  mileage  registration_month  \\\n",
       "0   1500               2001     75   150000                   6   \n",
       "1   3600               2008     69    90000                   7   \n",
       "2    650               1995    102   150000                  10   \n",
       "3   2200               2004    109   150000                   8   \n",
       "4   2000               2004    105   150000                  12   \n",
       "5   2799               2005    140   150000                  12   \n",
       "6   1750               2004     75   150000                   2   \n",
       "7   7550               2007    136   150000                   6   \n",
       "8   1850               2004    102   150000                   1   \n",
       "9  10400               2009    160   100000                   4   \n",
       "\n",
       "   body_type_convertible  body_type_coupe  body_type_other  body_type_sedan  \\\n",
       "0                      0                0                0                0   \n",
       "1                      0                0                0                0   \n",
       "2                      0                0                0                1   \n",
       "3                      1                0                0                0   \n",
       "4                      0                0                0                1   \n",
       "5                      0                0                0                0   \n",
       "6                      0                0                0                0   \n",
       "7                      0                0                0                0   \n",
       "8                      0                0                0                0   \n",
       "9                      0                1                0                0   \n",
       "\n",
       "   body_type_small  ...  brand_seat  brand_skoda  brand_smart  brand_subaru  \\\n",
       "0                1  ...           0            0            0             0   \n",
       "1                1  ...           0            1            0             0   \n",
       "2                0  ...           0            0            0             0   \n",
       "3                0  ...           0            0            0             0   \n",
       "4                0  ...           0            0            0             0   \n",
       "5                0  ...           0            0            0             0   \n",
       "6                1  ...           0            0            0             0   \n",
       "7                0  ...           0            0            0             0   \n",
       "8                0  ...           0            0            0             0   \n",
       "9                0  ...           0            0            0             0   \n",
       "\n",
       "   brand_suzuki  brand_toyota  brand_trabant  brand_volkswagen  brand_volvo  \\\n",
       "0             0             0              0                 1            0   \n",
       "1             0             0              0                 0            0   \n",
       "2             0             0              0                 0            0   \n",
       "3             0             0              0                 0            0   \n",
       "4             0             0              0                 0            0   \n",
       "5             0             0              0                 1            0   \n",
       "6             0             0              0                 0            0   \n",
       "7             0             0              0                 0            0   \n",
       "8             0             0              0                 0            0   \n",
       "9             0             0              0                 1            0   \n",
       "\n",
       "   has_been_repaired_yes  \n",
       "0                      0  \n",
       "1                      0  \n",
       "2                      1  \n",
       "3                      0  \n",
       "4                      0  \n",
       "5                      1  \n",
       "6                      0  \n",
       "7                      0  \n",
       "8                      0  \n",
       "9                      0  \n",
       "\n",
       "[10 rows x 302 columns]"
      ]
     },
     "metadata": {},
     "output_type": "display_data"
    }
   ],
   "source": [
    "data_ml = data.copy(deep=True) #дублируем предобработанный фрейм для дальнейших шагов\n",
    "data_ml = pd.get_dummies(data_ml, drop_first=True) #преобразовываем категориальные признаки\n",
    "display(data_ml.head(10)) # проверяем результат"
   ]
  },
  {
   "cell_type": "markdown",
   "metadata": {},
   "source": [
    "Далее нам нужно разбить данные на три части, получив в итоге обучающую, валидационную и тестовую выборки. Делить будем в соотношении 3:1:1, т.к. тестовая выборка \"не спрятана\", а также может быть выделена из исходных данных. \n",
    "\n",
    "Для этих целей применим дважды инструмент train_test_split. \n",
    "\n",
    "Данные подготовим отдельно для разных моделей: случайного леса, СatBoost и LGB."
   ]
  },
  {
   "cell_type": "code",
   "execution_count": 15,
   "metadata": {},
   "outputs": [],
   "source": [
    "#подготавливаем данные для случайного леса и LGB\n",
    "\n",
    "#выделяем признаки и целевой признак\n",
    "features = data_ml.drop(['price'], axis=1) \n",
    "target = data_ml['price'] \n",
    "\n",
    "#отделяем от общего объема данных тестовую выборку\n",
    "features, features_test, target, target_test = train_test_split(features, target, test_size=0.2, random_state=12345)\n",
    "#делим оставшиеся данные на обучающую и валидационную выборки\n",
    "features_train, features_valid, target_train, target_valid = train_test_split(features, target, test_size=0.25, random_state=12345)\n",
    "\n",
    "#подготавливаем данные для CatBoost\n",
    "cat_features = data.drop(['price'], axis=1) \n",
    "cat_target = data['price']\n",
    "#обозначаем категориальные признаки\n",
    "cat_features_categorial = ['body_type', 'gearbox_type', 'model', 'fuel_type', 'brand', 'has_been_repaired']\n",
    "\n",
    "cat_features, cat_features_test, cat_target, cat_target_test = train_test_split(cat_features, cat_target, test_size=0.2, random_state=12345)\n",
    "cat_features_train, cat_features_valid, cat_target_train, cat_target_valid = train_test_split(cat_features, cat_target, test_size=0.25, random_state=12345)"
   ]
  },
  {
   "cell_type": "markdown",
   "metadata": {},
   "source": [
    "### Выводы:"
   ]
  },
  {
   "cell_type": "markdown",
   "metadata": {},
   "source": [
    "На данном этапе мы подготовили предобработанные данные для дальнейшего обучения и использования моделей машинного обучения: \n",
    "- для моделей случайного леса и LGB категориальные признаки были преобразованы в числовые;\n",
    "- данные разделены на обучающую, тестовую и валидационную выборки.\n",
    "\n",
    "На следующем этапе обучим выбранные модели и проверим их работу на валидационных выборках."
   ]
  },
  {
   "cell_type": "markdown",
   "metadata": {},
   "source": [
    "## Обучение моделей"
   ]
  },
  {
   "cell_type": "markdown",
   "metadata": {},
   "source": [
    "Перейдем к обучению моделей и начнем с модели случайного леса. Определим наилучшие параметры, лучшее значение метрики RMSE и время, необходимое модели для выполнения поставленных задач."
   ]
  },
  {
   "cell_type": "code",
   "execution_count": 18,
   "metadata": {},
   "outputs": [
    {
     "name": "stdout",
     "output_type": "stream",
     "text": [
      "Лучшее количество деревьев: 41\n",
      "Лучшая глубина модели: 20\n",
      "Лучший результат случайного леса: 1262.471\n",
      "CPU times: user 45min 31s, sys: 17.9 s, total: 45min 49s\n",
      "Wall time: 45min 52s\n"
     ]
    }
   ],
   "source": [
    "%%time\n",
    "\n",
    "best_forest_model = None\n",
    "best_forest_result = 10000\n",
    "best_forest_estimators = 0\n",
    "best_forest_depth = 0\n",
    "\n",
    "for est in range(1, 51, 10):\n",
    "    for depth in range(1, 21):\n",
    "            model_forest = RandomForestRegressor(random_state=12345, n_estimators=est, max_depth=depth)\n",
    "            model_forest.fit(features_train, target_train)\n",
    "            predictions_valid = model_forest.predict(features_valid)\n",
    "            result_forest = (mean_squared_error(target_valid, predictions_valid))**0.5\n",
    "            if result_forest < best_forest_result:\n",
    "                best_forest_model = model_forest\n",
    "                best_forest_result = result_forest\n",
    "                best_forest_estimators = est\n",
    "                best_forest_depth = depth\n",
    "                \n",
    "print('Лучшее количество деревьев:', best_forest_estimators)\n",
    "print('Лучшая глубина модели:', best_forest_depth)\n",
    "print('Лучший результат случайного леса:', best_forest_result.round(3))"
   ]
  },
  {
   "cell_type": "markdown",
   "metadata": {},
   "source": [
    "Лучшим результатом данной модели стала RMSE = 1262.471. Данное значение было получено при глубине 20 и количестве деревьев, равном 41. Код выполнялся очень долго: почти 46 минут. Однако пока делать выводы о достоинствах и недостатках данной модели рано - нужно сравнить ее с другими.\n",
    "\n",
    "Следующей обучим модель CatBoost:"
   ]
  },
  {
   "cell_type": "code",
   "execution_count": 19,
   "metadata": {},
   "outputs": [
    {
     "name": "stdout",
     "output_type": "stream",
     "text": [
      "Learning rate set to 0.339186\n",
      "0:\tlearn: 2738.1964894\ttotal: 123ms\tremaining: 23.3s\n",
      "10:\tlearn: 1326.3446815\ttotal: 1.21s\tremaining: 19.8s\n",
      "20:\tlearn: 1248.1306392\ttotal: 2.23s\tremaining: 18s\n",
      "30:\tlearn: 1201.6582793\ttotal: 3.25s\tremaining: 16.7s\n",
      "40:\tlearn: 1164.4591675\ttotal: 4.26s\tremaining: 15.5s\n",
      "50:\tlearn: 1137.2709370\ttotal: 5.3s\tremaining: 14.4s\n",
      "60:\tlearn: 1118.1208963\ttotal: 6.33s\tremaining: 13.4s\n",
      "70:\tlearn: 1096.4955675\ttotal: 7.39s\tremaining: 12.4s\n",
      "80:\tlearn: 1078.7225366\ttotal: 8.39s\tremaining: 11.3s\n",
      "90:\tlearn: 1065.1259486\ttotal: 9.4s\tremaining: 10.2s\n",
      "100:\tlearn: 1051.5162832\ttotal: 10.4s\tremaining: 9.2s\n",
      "110:\tlearn: 1039.2943717\ttotal: 11.4s\tremaining: 8.13s\n",
      "120:\tlearn: 1030.7670631\ttotal: 12.5s\tremaining: 7.1s\n",
      "130:\tlearn: 1017.6952271\ttotal: 13.5s\tremaining: 6.08s\n",
      "140:\tlearn: 1009.5560651\ttotal: 14.5s\tremaining: 5.04s\n",
      "150:\tlearn: 998.6865280\ttotal: 15.6s\tremaining: 4.02s\n",
      "160:\tlearn: 990.0413823\ttotal: 16.6s\tremaining: 2.99s\n",
      "170:\tlearn: 981.1770690\ttotal: 17.6s\tremaining: 1.96s\n",
      "180:\tlearn: 973.2853372\ttotal: 18.6s\tremaining: 924ms\n",
      "189:\tlearn: 965.7120590\ttotal: 19.5s\tremaining: 0us\n",
      "1212.575\n",
      "CPU times: user 19.7 s, sys: 172 ms, total: 19.9 s\n",
      "Wall time: 21 s\n"
     ]
    }
   ],
   "source": [
    "%%time\n",
    "cat_model = CatBoostRegressor(loss_function = \"RMSE\", iterations = 190, depth = 12)\n",
    "cat_model.fit(cat_features_train, cat_target_train, cat_features = cat_features_categorial, verbose = 10)\n",
    "pred_valid = cat_model.predict(cat_features_valid) \n",
    "cat_result = round(((mean_squared_error(cat_target_valid, pred_valid))**0.5), 3)\n",
    "print(cat_result)"
   ]
  },
  {
   "cell_type": "markdown",
   "metadata": {},
   "source": [
    "У данной модели результаты гораздо лучше, а работает она в разы быстрее. Я пробовала разные параметры и решила остановиться на глубине 12 и количестве итераций 190, тогда RMSE будет равна 1212.575, а время выполнения 21 секунда. \n",
    "\n",
    "При увеличении количества итераций до 210, значение RMSE незначительно снижается до 1216.019, однако значительно вырастает время выполнения кода - более, чем в три раза - и составляет 1 минуту 3 секунды. \n",
    "\n",
    "Т.к. нам важен не только результат, но и время его получения, мною было принято решение остановиться на 190 итерациях.\n",
    "\n",
    "Перейдем к модели LGB:"
   ]
  },
  {
   "cell_type": "code",
   "execution_count": 20,
   "metadata": {},
   "outputs": [
    {
     "name": "stdout",
     "output_type": "stream",
     "text": [
      "[LightGBM] [Warning] Auto-choosing row-wise multi-threading, the overhead of testing was 0.003980 seconds.\n",
      "You can set `force_row_wise=true` to remove the overhead.\n",
      "And if memory is not enough, you can set `force_col_wise=true`.\n",
      "[LightGBM] [Info] Total Bins 807\n",
      "[LightGBM] [Info] Number of data points in the train set: 126048, number of used features: 266\n",
      "[LightGBM] [Info] Start training from score 4333.180392\n",
      "[1]\tvalid_0's rmse: 3296.98\n",
      "[2]\tvalid_0's rmse: 3068.76\n",
      "[3]\tvalid_0's rmse: 2868.81\n",
      "[4]\tvalid_0's rmse: 2693.16\n",
      "[5]\tvalid_0's rmse: 2540.11\n",
      "[6]\tvalid_0's rmse: 2406.5\n",
      "[7]\tvalid_0's rmse: 2288.87\n",
      "[8]\tvalid_0's rmse: 2188.21\n",
      "[9]\tvalid_0's rmse: 2099.87\n",
      "[10]\tvalid_0's rmse: 2021.13\n",
      "[11]\tvalid_0's rmse: 1951.35\n",
      "[12]\tvalid_0's rmse: 1887.83\n",
      "[13]\tvalid_0's rmse: 1837.21\n",
      "[14]\tvalid_0's rmse: 1790.21\n",
      "[15]\tvalid_0's rmse: 1748.91\n",
      "[16]\tvalid_0's rmse: 1710.6\n",
      "[17]\tvalid_0's rmse: 1676.88\n",
      "[18]\tvalid_0's rmse: 1644.98\n",
      "[19]\tvalid_0's rmse: 1617.71\n",
      "[20]\tvalid_0's rmse: 1592.7\n",
      "[21]\tvalid_0's rmse: 1572.53\n",
      "[22]\tvalid_0's rmse: 1552.31\n",
      "[23]\tvalid_0's rmse: 1535.94\n",
      "[24]\tvalid_0's rmse: 1521\n",
      "[25]\tvalid_0's rmse: 1505.15\n",
      "[26]\tvalid_0's rmse: 1491.32\n",
      "[27]\tvalid_0's rmse: 1479.92\n",
      "[28]\tvalid_0's rmse: 1468.77\n",
      "[29]\tvalid_0's rmse: 1459.19\n",
      "[30]\tvalid_0's rmse: 1449.71\n",
      "[31]\tvalid_0's rmse: 1441.1\n",
      "[32]\tvalid_0's rmse: 1433.57\n",
      "[33]\tvalid_0's rmse: 1427.04\n",
      "[34]\tvalid_0's rmse: 1421.46\n",
      "[35]\tvalid_0's rmse: 1413.31\n",
      "[36]\tvalid_0's rmse: 1407.29\n",
      "[37]\tvalid_0's rmse: 1402.55\n",
      "[38]\tvalid_0's rmse: 1397.53\n",
      "[39]\tvalid_0's rmse: 1393.91\n",
      "[40]\tvalid_0's rmse: 1389.19\n",
      "[41]\tvalid_0's rmse: 1385.35\n",
      "[42]\tvalid_0's rmse: 1381.58\n",
      "[43]\tvalid_0's rmse: 1377.79\n",
      "[44]\tvalid_0's rmse: 1373.24\n",
      "[45]\tvalid_0's rmse: 1370.31\n",
      "[46]\tvalid_0's rmse: 1367.67\n",
      "[47]\tvalid_0's rmse: 1363.92\n",
      "[48]\tvalid_0's rmse: 1361.51\n",
      "[49]\tvalid_0's rmse: 1359.79\n",
      "[50]\tvalid_0's rmse: 1357.46\n",
      "[51]\tvalid_0's rmse: 1354.21\n",
      "[52]\tvalid_0's rmse: 1352.76\n",
      "[53]\tvalid_0's rmse: 1351.04\n",
      "[54]\tvalid_0's rmse: 1348.79\n",
      "[55]\tvalid_0's rmse: 1346.72\n",
      "[56]\tvalid_0's rmse: 1345.12\n",
      "[57]\tvalid_0's rmse: 1343.27\n",
      "[58]\tvalid_0's rmse: 1341.57\n",
      "[59]\tvalid_0's rmse: 1339.87\n",
      "[60]\tvalid_0's rmse: 1337.09\n",
      "[61]\tvalid_0's rmse: 1334.77\n",
      "[62]\tvalid_0's rmse: 1333.25\n",
      "[63]\tvalid_0's rmse: 1331.87\n",
      "[64]\tvalid_0's rmse: 1330.68\n",
      "[65]\tvalid_0's rmse: 1329.52\n",
      "[66]\tvalid_0's rmse: 1327.96\n",
      "[67]\tvalid_0's rmse: 1327.02\n",
      "[68]\tvalid_0's rmse: 1325.52\n",
      "[69]\tvalid_0's rmse: 1324.74\n",
      "[70]\tvalid_0's rmse: 1323.67\n",
      "[71]\tvalid_0's rmse: 1322.49\n",
      "[72]\tvalid_0's rmse: 1321.35\n",
      "[73]\tvalid_0's rmse: 1320.4\n",
      "[74]\tvalid_0's rmse: 1319.37\n",
      "[75]\tvalid_0's rmse: 1318.25\n",
      "[76]\tvalid_0's rmse: 1317.11\n",
      "[77]\tvalid_0's rmse: 1316.09\n",
      "[78]\tvalid_0's rmse: 1315.34\n",
      "[79]\tvalid_0's rmse: 1314.1\n",
      "[80]\tvalid_0's rmse: 1313.09\n",
      "[81]\tvalid_0's rmse: 1312.06\n",
      "[82]\tvalid_0's rmse: 1311.19\n",
      "[83]\tvalid_0's rmse: 1310.34\n",
      "[84]\tvalid_0's rmse: 1309.06\n",
      "[85]\tvalid_0's rmse: 1308.07\n",
      "[86]\tvalid_0's rmse: 1307.09\n",
      "[87]\tvalid_0's rmse: 1306.23\n",
      "[88]\tvalid_0's rmse: 1305.45\n",
      "[89]\tvalid_0's rmse: 1304.98\n",
      "[90]\tvalid_0's rmse: 1304.38\n",
      "[91]\tvalid_0's rmse: 1303.09\n",
      "[92]\tvalid_0's rmse: 1302.49\n",
      "[93]\tvalid_0's rmse: 1301.68\n",
      "[94]\tvalid_0's rmse: 1300.84\n",
      "[95]\tvalid_0's rmse: 1300.23\n",
      "[96]\tvalid_0's rmse: 1298.68\n",
      "[97]\tvalid_0's rmse: 1298.05\n",
      "[98]\tvalid_0's rmse: 1297.65\n",
      "[99]\tvalid_0's rmse: 1296.83\n",
      "[100]\tvalid_0's rmse: 1296.44\n",
      "[101]\tvalid_0's rmse: 1296.05\n",
      "[102]\tvalid_0's rmse: 1295.58\n",
      "[103]\tvalid_0's rmse: 1294.91\n",
      "[104]\tvalid_0's rmse: 1294.17\n",
      "[105]\tvalid_0's rmse: 1293.46\n",
      "[106]\tvalid_0's rmse: 1292.38\n",
      "[107]\tvalid_0's rmse: 1291.57\n",
      "[108]\tvalid_0's rmse: 1290.93\n",
      "[109]\tvalid_0's rmse: 1290.32\n",
      "[110]\tvalid_0's rmse: 1289.89\n",
      "[111]\tvalid_0's rmse: 1289.39\n",
      "[112]\tvalid_0's rmse: 1288.92\n",
      "[113]\tvalid_0's rmse: 1288.32\n",
      "[114]\tvalid_0's rmse: 1287.54\n",
      "[115]\tvalid_0's rmse: 1287.29\n",
      "[116]\tvalid_0's rmse: 1286.66\n",
      "[117]\tvalid_0's rmse: 1286.32\n",
      "[118]\tvalid_0's rmse: 1286\n",
      "[119]\tvalid_0's rmse: 1285.62\n",
      "[120]\tvalid_0's rmse: 1284.85\n",
      "[121]\tvalid_0's rmse: 1284.05\n",
      "[122]\tvalid_0's rmse: 1283.63\n",
      "[123]\tvalid_0's rmse: 1283.36\n",
      "[124]\tvalid_0's rmse: 1282.97\n",
      "[125]\tvalid_0's rmse: 1282.43\n",
      "[126]\tvalid_0's rmse: 1282.12\n",
      "[127]\tvalid_0's rmse: 1281.71\n",
      "[128]\tvalid_0's rmse: 1281.19\n",
      "[129]\tvalid_0's rmse: 1280.9\n",
      "[130]\tvalid_0's rmse: 1280.46\n",
      "[131]\tvalid_0's rmse: 1280.07\n",
      "[132]\tvalid_0's rmse: 1279.57\n",
      "[133]\tvalid_0's rmse: 1279.12\n",
      "[134]\tvalid_0's rmse: 1278.78\n",
      "[135]\tvalid_0's rmse: 1278.42\n",
      "[136]\tvalid_0's rmse: 1278\n",
      "[137]\tvalid_0's rmse: 1277.8\n",
      "[138]\tvalid_0's rmse: 1277.54\n",
      "[139]\tvalid_0's rmse: 1277.22\n",
      "[140]\tvalid_0's rmse: 1276.64\n",
      "[141]\tvalid_0's rmse: 1276.23\n",
      "[142]\tvalid_0's rmse: 1275.94\n",
      "[143]\tvalid_0's rmse: 1275.59\n",
      "[144]\tvalid_0's rmse: 1275.28\n",
      "[145]\tvalid_0's rmse: 1275.04\n",
      "[146]\tvalid_0's rmse: 1274.69\n",
      "[147]\tvalid_0's rmse: 1274.54\n",
      "[148]\tvalid_0's rmse: 1273.9\n",
      "[149]\tvalid_0's rmse: 1273.46\n",
      "[150]\tvalid_0's rmse: 1273\n",
      "[151]\tvalid_0's rmse: 1272.53\n",
      "[152]\tvalid_0's rmse: 1272.02\n",
      "[153]\tvalid_0's rmse: 1271.81\n",
      "[154]\tvalid_0's rmse: 1271.32\n",
      "[155]\tvalid_0's rmse: 1271.08\n",
      "[156]\tvalid_0's rmse: 1270.58\n",
      "[157]\tvalid_0's rmse: 1269.99\n",
      "[158]\tvalid_0's rmse: 1269.87\n",
      "[159]\tvalid_0's rmse: 1269.32\n",
      "[160]\tvalid_0's rmse: 1269.16\n",
      "[161]\tvalid_0's rmse: 1268.69\n",
      "[162]\tvalid_0's rmse: 1268.07\n",
      "[163]\tvalid_0's rmse: 1267.76\n",
      "[164]\tvalid_0's rmse: 1267.46\n",
      "[165]\tvalid_0's rmse: 1267.28\n",
      "[166]\tvalid_0's rmse: 1266.97\n",
      "[167]\tvalid_0's rmse: 1266.75\n",
      "[168]\tvalid_0's rmse: 1266.36\n",
      "[169]\tvalid_0's rmse: 1266.22\n",
      "[170]\tvalid_0's rmse: 1266.09\n",
      "[171]\tvalid_0's rmse: 1265.72\n",
      "[172]\tvalid_0's rmse: 1265.4\n",
      "[173]\tvalid_0's rmse: 1265.02\n",
      "[174]\tvalid_0's rmse: 1264.61\n",
      "[175]\tvalid_0's rmse: 1264.21\n",
      "[176]\tvalid_0's rmse: 1264.11\n",
      "[177]\tvalid_0's rmse: 1263.77\n",
      "[178]\tvalid_0's rmse: 1263.5\n",
      "[179]\tvalid_0's rmse: 1263.15\n",
      "[180]\tvalid_0's rmse: 1263.13\n",
      "[181]\tvalid_0's rmse: 1262.87\n",
      "[182]\tvalid_0's rmse: 1262.72\n",
      "[183]\tvalid_0's rmse: 1262.5\n",
      "[184]\tvalid_0's rmse: 1261.92\n",
      "[185]\tvalid_0's rmse: 1261.82\n",
      "[186]\tvalid_0's rmse: 1261.39\n",
      "[187]\tvalid_0's rmse: 1261.02\n",
      "[188]\tvalid_0's rmse: 1260.82\n",
      "[189]\tvalid_0's rmse: 1260.54\n",
      "[190]\tvalid_0's rmse: 1260.3\n",
      "[191]\tvalid_0's rmse: 1260.19\n",
      "[192]\tvalid_0's rmse: 1260.06\n",
      "[193]\tvalid_0's rmse: 1259.82\n",
      "[194]\tvalid_0's rmse: 1259.49\n",
      "[195]\tvalid_0's rmse: 1259.28\n",
      "[196]\tvalid_0's rmse: 1259.19\n",
      "[197]\tvalid_0's rmse: 1259.13\n",
      "[198]\tvalid_0's rmse: 1258.8\n",
      "[199]\tvalid_0's rmse: 1258.38\n",
      "[200]\tvalid_0's rmse: 1258.15\n",
      "[201]\tvalid_0's rmse: 1258.02\n",
      "[202]\tvalid_0's rmse: 1257.98\n",
      "[203]\tvalid_0's rmse: 1257.9\n",
      "[204]\tvalid_0's rmse: 1257.79\n",
      "[205]\tvalid_0's rmse: 1257.61\n",
      "[206]\tvalid_0's rmse: 1257.58\n",
      "[207]\tvalid_0's rmse: 1257.49\n",
      "[208]\tvalid_0's rmse: 1257.36\n",
      "[209]\tvalid_0's rmse: 1257.18\n",
      "[210]\tvalid_0's rmse: 1257.02\n",
      "[211]\tvalid_0's rmse: 1256.67\n",
      "[212]\tvalid_0's rmse: 1256.47\n",
      "[213]\tvalid_0's rmse: 1256.37\n",
      "[214]\tvalid_0's rmse: 1256.2\n",
      "[215]\tvalid_0's rmse: 1256.09\n",
      "[216]\tvalid_0's rmse: 1255.94\n",
      "[217]\tvalid_0's rmse: 1255.79\n",
      "[218]\tvalid_0's rmse: 1255.64\n",
      "[219]\tvalid_0's rmse: 1255.54\n",
      "[220]\tvalid_0's rmse: 1255.5\n",
      "[221]\tvalid_0's rmse: 1255.21\n",
      "[222]\tvalid_0's rmse: 1254.99\n",
      "[223]\tvalid_0's rmse: 1254.74\n",
      "[224]\tvalid_0's rmse: 1254.36\n",
      "[225]\tvalid_0's rmse: 1254.24\n",
      "[226]\tvalid_0's rmse: 1254.18\n",
      "[227]\tvalid_0's rmse: 1254.13\n",
      "[228]\tvalid_0's rmse: 1254.04\n",
      "[229]\tvalid_0's rmse: 1254\n",
      "[230]\tvalid_0's rmse: 1253.9\n",
      "[231]\tvalid_0's rmse: 1253.78\n",
      "[232]\tvalid_0's rmse: 1253.6\n",
      "[233]\tvalid_0's rmse: 1253.58\n",
      "[234]\tvalid_0's rmse: 1253.49\n",
      "[235]\tvalid_0's rmse: 1253.46\n",
      "[236]\tvalid_0's rmse: 1253.23\n",
      "[237]\tvalid_0's rmse: 1253.07\n",
      "[238]\tvalid_0's rmse: 1252.86\n",
      "[239]\tvalid_0's rmse: 1252.62\n",
      "[240]\tvalid_0's rmse: 1252.57\n",
      "[241]\tvalid_0's rmse: 1252.43\n",
      "[242]\tvalid_0's rmse: 1252.24\n",
      "[243]\tvalid_0's rmse: 1252.14\n",
      "[244]\tvalid_0's rmse: 1251.96\n",
      "[245]\tvalid_0's rmse: 1251.89\n",
      "[246]\tvalid_0's rmse: 1251.69\n",
      "[247]\tvalid_0's rmse: 1251.59\n",
      "[248]\tvalid_0's rmse: 1251.47\n",
      "[249]\tvalid_0's rmse: 1251.33\n",
      "[250]\tvalid_0's rmse: 1251.01\n",
      "[251]\tvalid_0's rmse: 1250.86\n",
      "[252]\tvalid_0's rmse: 1250.71\n",
      "[253]\tvalid_0's rmse: 1250.44\n",
      "[254]\tvalid_0's rmse: 1250.36\n",
      "[255]\tvalid_0's rmse: 1250.28\n",
      "[256]\tvalid_0's rmse: 1250.18\n",
      "[257]\tvalid_0's rmse: 1250.12\n",
      "[258]\tvalid_0's rmse: 1250.02\n",
      "[259]\tvalid_0's rmse: 1250\n",
      "[260]\tvalid_0's rmse: 1249.92\n",
      "[261]\tvalid_0's rmse: 1249.83\n",
      "[262]\tvalid_0's rmse: 1249.76\n",
      "[263]\tvalid_0's rmse: 1249.6\n",
      "[264]\tvalid_0's rmse: 1249.57\n",
      "[265]\tvalid_0's rmse: 1249.49\n",
      "[266]\tvalid_0's rmse: 1249.3\n",
      "[267]\tvalid_0's rmse: 1249.3\n",
      "[268]\tvalid_0's rmse: 1249.23\n",
      "[269]\tvalid_0's rmse: 1249.2\n",
      "[270]\tvalid_0's rmse: 1248.97\n",
      "[271]\tvalid_0's rmse: 1248.93\n",
      "[272]\tvalid_0's rmse: 1248.76\n",
      "[273]\tvalid_0's rmse: 1248.7\n",
      "[274]\tvalid_0's rmse: 1248.37\n",
      "[275]\tvalid_0's rmse: 1247.91\n",
      "[276]\tvalid_0's rmse: 1247.67\n",
      "[277]\tvalid_0's rmse: 1247.61\n",
      "[278]\tvalid_0's rmse: 1247.57\n",
      "[279]\tvalid_0's rmse: 1247.34\n",
      "[280]\tvalid_0's rmse: 1247.25\n",
      "[281]\tvalid_0's rmse: 1247.06\n",
      "[282]\tvalid_0's rmse: 1247.04\n",
      "[283]\tvalid_0's rmse: 1246.96\n",
      "[284]\tvalid_0's rmse: 1246.44\n",
      "[285]\tvalid_0's rmse: 1246.31\n",
      "[286]\tvalid_0's rmse: 1246.2\n",
      "[287]\tvalid_0's rmse: 1245.95\n",
      "[288]\tvalid_0's rmse: 1245.81\n",
      "[289]\tvalid_0's rmse: 1245.68\n",
      "[290]\tvalid_0's rmse: 1245.65\n",
      "[291]\tvalid_0's rmse: 1245.57\n",
      "[292]\tvalid_0's rmse: 1245.55\n",
      "[293]\tvalid_0's rmse: 1245.3\n",
      "[294]\tvalid_0's rmse: 1245.27\n",
      "[295]\tvalid_0's rmse: 1245.21\n",
      "[296]\tvalid_0's rmse: 1245.02\n",
      "[297]\tvalid_0's rmse: 1244.79\n",
      "[298]\tvalid_0's rmse: 1244.67\n",
      "[299]\tvalid_0's rmse: 1244.64\n",
      "[300]\tvalid_0's rmse: 1244.59\n",
      "[301]\tvalid_0's rmse: 1244.51\n",
      "[302]\tvalid_0's rmse: 1244.33\n",
      "[303]\tvalid_0's rmse: 1244.21\n",
      "[304]\tvalid_0's rmse: 1243.96\n",
      "[305]\tvalid_0's rmse: 1243.81\n",
      "[306]\tvalid_0's rmse: 1243.7\n",
      "[307]\tvalid_0's rmse: 1243.46\n",
      "[308]\tvalid_0's rmse: 1243.24\n",
      "[309]\tvalid_0's rmse: 1243.28\n",
      "[310]\tvalid_0's rmse: 1243.15\n",
      "[311]\tvalid_0's rmse: 1243.09\n",
      "[312]\tvalid_0's rmse: 1243.03\n",
      "[313]\tvalid_0's rmse: 1242.82\n",
      "[314]\tvalid_0's rmse: 1242.77\n",
      "[315]\tvalid_0's rmse: 1242.57\n",
      "[316]\tvalid_0's rmse: 1242.53\n",
      "[317]\tvalid_0's rmse: 1242.36\n",
      "[318]\tvalid_0's rmse: 1242.38\n",
      "[319]\tvalid_0's rmse: 1242.31\n",
      "[320]\tvalid_0's rmse: 1242.21\n",
      "[321]\tvalid_0's rmse: 1242.03\n",
      "[322]\tvalid_0's rmse: 1241.76\n",
      "[323]\tvalid_0's rmse: 1241.71\n",
      "[324]\tvalid_0's rmse: 1241.57\n",
      "[325]\tvalid_0's rmse: 1241.46\n",
      "[326]\tvalid_0's rmse: 1241.38\n",
      "[327]\tvalid_0's rmse: 1241.29\n",
      "[328]\tvalid_0's rmse: 1241.04\n",
      "[329]\tvalid_0's rmse: 1241.03\n",
      "[330]\tvalid_0's rmse: 1240.94\n",
      "[331]\tvalid_0's rmse: 1240.81\n",
      "[332]\tvalid_0's rmse: 1240.7\n",
      "[333]\tvalid_0's rmse: 1240.59\n",
      "[334]\tvalid_0's rmse: 1240.5\n",
      "[335]\tvalid_0's rmse: 1240.26\n",
      "[336]\tvalid_0's rmse: 1240.06\n",
      "[337]\tvalid_0's rmse: 1239.99\n",
      "[338]\tvalid_0's rmse: 1239.94\n",
      "[339]\tvalid_0's rmse: 1239.94\n",
      "[340]\tvalid_0's rmse: 1239.77\n",
      "[341]\tvalid_0's rmse: 1239.67\n",
      "[342]\tvalid_0's rmse: 1239.3\n",
      "[343]\tvalid_0's rmse: 1239.2\n",
      "[344]\tvalid_0's rmse: 1239.09\n",
      "[345]\tvalid_0's rmse: 1239.05\n",
      "[346]\tvalid_0's rmse: 1238.98\n",
      "[347]\tvalid_0's rmse: 1238.87\n",
      "[348]\tvalid_0's rmse: 1238.82\n",
      "[349]\tvalid_0's rmse: 1238.7\n",
      "[350]\tvalid_0's rmse: 1238.56\n",
      "[351]\tvalid_0's rmse: 1238.33\n",
      "[352]\tvalid_0's rmse: 1238.28\n",
      "[353]\tvalid_0's rmse: 1238.28\n",
      "[354]\tvalid_0's rmse: 1238.24\n",
      "[355]\tvalid_0's rmse: 1238.05\n",
      "[356]\tvalid_0's rmse: 1237.83\n",
      "[357]\tvalid_0's rmse: 1237.62\n",
      "[358]\tvalid_0's rmse: 1237.65\n",
      "[359]\tvalid_0's rmse: 1237.59\n",
      "[360]\tvalid_0's rmse: 1237.61\n",
      "[361]\tvalid_0's rmse: 1237.52\n",
      "[362]\tvalid_0's rmse: 1237.53\n",
      "[363]\tvalid_0's rmse: 1237.43\n",
      "[364]\tvalid_0's rmse: 1237.41\n",
      "[365]\tvalid_0's rmse: 1237.4\n",
      "[366]\tvalid_0's rmse: 1237.33\n",
      "[367]\tvalid_0's rmse: 1237.29\n",
      "[368]\tvalid_0's rmse: 1237.28\n",
      "[369]\tvalid_0's rmse: 1237.2\n",
      "[370]\tvalid_0's rmse: 1237.12\n",
      "[371]\tvalid_0's rmse: 1237.09\n",
      "[372]\tvalid_0's rmse: 1237.05\n",
      "[373]\tvalid_0's rmse: 1236.96\n",
      "[374]\tvalid_0's rmse: 1236.78\n",
      "[375]\tvalid_0's rmse: 1236.78\n",
      "[376]\tvalid_0's rmse: 1236.62\n",
      "[377]\tvalid_0's rmse: 1236.5\n",
      "[378]\tvalid_0's rmse: 1236.43\n",
      "[379]\tvalid_0's rmse: 1236.33\n",
      "[380]\tvalid_0's rmse: 1236.08\n",
      "[381]\tvalid_0's rmse: 1235.99\n",
      "[382]\tvalid_0's rmse: 1235.85\n",
      "[383]\tvalid_0's rmse: 1235.66\n",
      "[384]\tvalid_0's rmse: 1235.54\n",
      "[385]\tvalid_0's rmse: 1235.42\n",
      "[386]\tvalid_0's rmse: 1235.35\n",
      "[387]\tvalid_0's rmse: 1235.32\n",
      "[388]\tvalid_0's rmse: 1235.24\n",
      "[389]\tvalid_0's rmse: 1235.08\n",
      "[390]\tvalid_0's rmse: 1235.04\n",
      "[391]\tvalid_0's rmse: 1234.97\n",
      "[392]\tvalid_0's rmse: 1234.9\n",
      "[393]\tvalid_0's rmse: 1234.75\n",
      "[394]\tvalid_0's rmse: 1234.7\n",
      "[395]\tvalid_0's rmse: 1234.69\n",
      "[396]\tvalid_0's rmse: 1234.61\n",
      "[397]\tvalid_0's rmse: 1234.57\n",
      "[398]\tvalid_0's rmse: 1234.52\n",
      "[399]\tvalid_0's rmse: 1234.48\n",
      "[400]\tvalid_0's rmse: 1234.27\n",
      "[401]\tvalid_0's rmse: 1234.21\n",
      "[402]\tvalid_0's rmse: 1234.14\n",
      "[403]\tvalid_0's rmse: 1234.11\n",
      "[404]\tvalid_0's rmse: 1234.01\n",
      "[405]\tvalid_0's rmse: 1233.9\n",
      "[406]\tvalid_0's rmse: 1233.87\n",
      "[407]\tvalid_0's rmse: 1233.85\n",
      "[408]\tvalid_0's rmse: 1233.81\n",
      "[409]\tvalid_0's rmse: 1233.77\n",
      "[410]\tvalid_0's rmse: 1233.64\n",
      "[411]\tvalid_0's rmse: 1233.6\n",
      "[412]\tvalid_0's rmse: 1233.51\n",
      "[413]\tvalid_0's rmse: 1233.48\n",
      "[414]\tvalid_0's rmse: 1233.37\n",
      "[415]\tvalid_0's rmse: 1233.33\n",
      "[416]\tvalid_0's rmse: 1233.33\n",
      "[417]\tvalid_0's rmse: 1233.1\n",
      "[418]\tvalid_0's rmse: 1232.98\n",
      "[419]\tvalid_0's rmse: 1232.92\n",
      "[420]\tvalid_0's rmse: 1232.9\n",
      "[421]\tvalid_0's rmse: 1232.72\n",
      "[422]\tvalid_0's rmse: 1232.66\n",
      "[423]\tvalid_0's rmse: 1232.62\n",
      "[424]\tvalid_0's rmse: 1232.58\n",
      "[425]\tvalid_0's rmse: 1232.55\n",
      "[426]\tvalid_0's rmse: 1232.48\n",
      "[427]\tvalid_0's rmse: 1232.51\n",
      "[428]\tvalid_0's rmse: 1232.42\n",
      "[429]\tvalid_0's rmse: 1232.32\n",
      "[430]\tvalid_0's rmse: 1232.18\n",
      "[431]\tvalid_0's rmse: 1232.13\n",
      "[432]\tvalid_0's rmse: 1232.16\n",
      "[433]\tvalid_0's rmse: 1232.14\n",
      "[434]\tvalid_0's rmse: 1232.1\n",
      "[435]\tvalid_0's rmse: 1231.98\n",
      "[436]\tvalid_0's rmse: 1231.98\n",
      "[437]\tvalid_0's rmse: 1231.95\n",
      "[438]\tvalid_0's rmse: 1231.91\n",
      "[439]\tvalid_0's rmse: 1231.73\n",
      "[440]\tvalid_0's rmse: 1231.61\n",
      "[441]\tvalid_0's rmse: 1231.54\n",
      "[442]\tvalid_0's rmse: 1231.53\n",
      "[443]\tvalid_0's rmse: 1231.52\n",
      "[444]\tvalid_0's rmse: 1231.23\n",
      "[445]\tvalid_0's rmse: 1231.16\n",
      "[446]\tvalid_0's rmse: 1231\n",
      "[447]\tvalid_0's rmse: 1230.99\n",
      "[448]\tvalid_0's rmse: 1230.93\n",
      "[449]\tvalid_0's rmse: 1230.87\n",
      "[450]\tvalid_0's rmse: 1230.68\n",
      "[451]\tvalid_0's rmse: 1230.62\n",
      "[452]\tvalid_0's rmse: 1230.54\n",
      "[453]\tvalid_0's rmse: 1230.51\n",
      "[454]\tvalid_0's rmse: 1230.47\n",
      "[455]\tvalid_0's rmse: 1230.37\n",
      "[456]\tvalid_0's rmse: 1230.26\n",
      "[457]\tvalid_0's rmse: 1230.11\n",
      "[458]\tvalid_0's rmse: 1230.05\n",
      "[459]\tvalid_0's rmse: 1230\n",
      "[460]\tvalid_0's rmse: 1229.86\n",
      "[461]\tvalid_0's rmse: 1229.81\n",
      "[462]\tvalid_0's rmse: 1229.73\n",
      "[463]\tvalid_0's rmse: 1229.73\n",
      "[464]\tvalid_0's rmse: 1229.61\n",
      "[465]\tvalid_0's rmse: 1229.46\n",
      "[466]\tvalid_0's rmse: 1229.45\n",
      "[467]\tvalid_0's rmse: 1229.43\n",
      "[468]\tvalid_0's rmse: 1229.39\n",
      "[469]\tvalid_0's rmse: 1229.34\n",
      "[470]\tvalid_0's rmse: 1229.23\n",
      "[471]\tvalid_0's rmse: 1229.13\n",
      "[472]\tvalid_0's rmse: 1229.1\n",
      "[473]\tvalid_0's rmse: 1229.07\n",
      "[474]\tvalid_0's rmse: 1229.07\n",
      "[475]\tvalid_0's rmse: 1228.96\n",
      "[476]\tvalid_0's rmse: 1228.88\n",
      "[477]\tvalid_0's rmse: 1228.86\n",
      "[478]\tvalid_0's rmse: 1228.76\n",
      "[479]\tvalid_0's rmse: 1228.71\n",
      "[480]\tvalid_0's rmse: 1228.68\n",
      "[481]\tvalid_0's rmse: 1228.61\n",
      "[482]\tvalid_0's rmse: 1228.58\n",
      "[483]\tvalid_0's rmse: 1228.59\n",
      "[484]\tvalid_0's rmse: 1228.56\n",
      "[485]\tvalid_0's rmse: 1228.55\n",
      "[486]\tvalid_0's rmse: 1228.49\n",
      "[487]\tvalid_0's rmse: 1228.44\n",
      "[488]\tvalid_0's rmse: 1228.41\n",
      "[489]\tvalid_0's rmse: 1228.27\n",
      "[490]\tvalid_0's rmse: 1228.19\n",
      "[491]\tvalid_0's rmse: 1228.12\n",
      "[492]\tvalid_0's rmse: 1228.08\n",
      "[493]\tvalid_0's rmse: 1228\n",
      "[494]\tvalid_0's rmse: 1227.96\n",
      "[495]\tvalid_0's rmse: 1227.91\n",
      "[496]\tvalid_0's rmse: 1227.73\n",
      "[497]\tvalid_0's rmse: 1227.64\n",
      "[498]\tvalid_0's rmse: 1227.61\n",
      "[499]\tvalid_0's rmse: 1227.56\n",
      "[500]\tvalid_0's rmse: 1227.47\n",
      "[501]\tvalid_0's rmse: 1227.45\n",
      "[502]\tvalid_0's rmse: 1227.35\n",
      "[503]\tvalid_0's rmse: 1227.28\n",
      "[504]\tvalid_0's rmse: 1227.18\n",
      "[505]\tvalid_0's rmse: 1227.13\n",
      "[506]\tvalid_0's rmse: 1227.1\n",
      "[507]\tvalid_0's rmse: 1226.96\n",
      "[508]\tvalid_0's rmse: 1226.84\n",
      "[509]\tvalid_0's rmse: 1226.83\n",
      "[510]\tvalid_0's rmse: 1226.82\n",
      "[511]\tvalid_0's rmse: 1226.69\n",
      "[512]\tvalid_0's rmse: 1226.65\n",
      "[513]\tvalid_0's rmse: 1226.56\n",
      "[514]\tvalid_0's rmse: 1226.32\n",
      "[515]\tvalid_0's rmse: 1226.26\n",
      "[516]\tvalid_0's rmse: 1226.09\n",
      "[517]\tvalid_0's rmse: 1225.68\n",
      "[518]\tvalid_0's rmse: 1225.63\n",
      "[519]\tvalid_0's rmse: 1225.45\n",
      "[520]\tvalid_0's rmse: 1225.45\n",
      "[521]\tvalid_0's rmse: 1225.42\n",
      "[522]\tvalid_0's rmse: 1225.38\n",
      "[523]\tvalid_0's rmse: 1225.38\n",
      "[524]\tvalid_0's rmse: 1225.28\n",
      "[525]\tvalid_0's rmse: 1225.26\n",
      "[526]\tvalid_0's rmse: 1225.15\n",
      "[527]\tvalid_0's rmse: 1225.05\n",
      "[528]\tvalid_0's rmse: 1224.95\n",
      "[529]\tvalid_0's rmse: 1224.92\n",
      "[530]\tvalid_0's rmse: 1224.91\n",
      "[531]\tvalid_0's rmse: 1224.79\n",
      "[532]\tvalid_0's rmse: 1224.74\n",
      "[533]\tvalid_0's rmse: 1224.7\n",
      "[534]\tvalid_0's rmse: 1224.66\n",
      "[535]\tvalid_0's rmse: 1224.56\n",
      "[536]\tvalid_0's rmse: 1224.49\n",
      "[537]\tvalid_0's rmse: 1224.45\n",
      "[538]\tvalid_0's rmse: 1224.39\n",
      "[539]\tvalid_0's rmse: 1224.39\n",
      "[540]\tvalid_0's rmse: 1224.36\n",
      "[541]\tvalid_0's rmse: 1224.35\n",
      "[542]\tvalid_0's rmse: 1224.33\n",
      "[543]\tvalid_0's rmse: 1224.26\n",
      "[544]\tvalid_0's rmse: 1224.23\n",
      "[545]\tvalid_0's rmse: 1224.18\n",
      "[546]\tvalid_0's rmse: 1224.13\n",
      "[547]\tvalid_0's rmse: 1224.04\n",
      "[548]\tvalid_0's rmse: 1224\n",
      "[549]\tvalid_0's rmse: 1223.83\n",
      "[550]\tvalid_0's rmse: 1223.76\n",
      "[551]\tvalid_0's rmse: 1223.7\n",
      "[552]\tvalid_0's rmse: 1223.66\n",
      "[553]\tvalid_0's rmse: 1223.67\n",
      "[554]\tvalid_0's rmse: 1223.66\n",
      "[555]\tvalid_0's rmse: 1223.56\n",
      "[556]\tvalid_0's rmse: 1223.49\n",
      "[557]\tvalid_0's rmse: 1223.45\n",
      "[558]\tvalid_0's rmse: 1223.41\n",
      "[559]\tvalid_0's rmse: 1223.31\n",
      "[560]\tvalid_0's rmse: 1223.24\n",
      "[561]\tvalid_0's rmse: 1223.19\n",
      "[562]\tvalid_0's rmse: 1223.07\n",
      "[563]\tvalid_0's rmse: 1222.93\n",
      "[564]\tvalid_0's rmse: 1222.76\n",
      "[565]\tvalid_0's rmse: 1222.71\n",
      "[566]\tvalid_0's rmse: 1222.67\n",
      "[567]\tvalid_0's rmse: 1222.59\n",
      "[568]\tvalid_0's rmse: 1222.41\n",
      "[569]\tvalid_0's rmse: 1222.38\n",
      "[570]\tvalid_0's rmse: 1222.33\n",
      "[571]\tvalid_0's rmse: 1222.29\n",
      "[572]\tvalid_0's rmse: 1222.27\n",
      "[573]\tvalid_0's rmse: 1222.2\n",
      "[574]\tvalid_0's rmse: 1222.21\n",
      "[575]\tvalid_0's rmse: 1222.18\n",
      "[576]\tvalid_0's rmse: 1222.13\n",
      "[577]\tvalid_0's rmse: 1222.11\n",
      "[578]\tvalid_0's rmse: 1222.05\n",
      "[579]\tvalid_0's rmse: 1222.04\n",
      "[580]\tvalid_0's rmse: 1221.93\n",
      "[581]\tvalid_0's rmse: 1221.77\n",
      "[582]\tvalid_0's rmse: 1221.58\n",
      "[583]\tvalid_0's rmse: 1221.56\n",
      "[584]\tvalid_0's rmse: 1221.45\n",
      "[585]\tvalid_0's rmse: 1221.36\n",
      "[586]\tvalid_0's rmse: 1221.31\n",
      "[587]\tvalid_0's rmse: 1221.25\n",
      "[588]\tvalid_0's rmse: 1221.1\n",
      "[589]\tvalid_0's rmse: 1220.99\n",
      "[590]\tvalid_0's rmse: 1220.97\n",
      "[591]\tvalid_0's rmse: 1220.94\n",
      "[592]\tvalid_0's rmse: 1220.93\n",
      "[593]\tvalid_0's rmse: 1220.91\n",
      "[594]\tvalid_0's rmse: 1220.83\n",
      "[595]\tvalid_0's rmse: 1220.85\n",
      "[596]\tvalid_0's rmse: 1220.82\n",
      "[597]\tvalid_0's rmse: 1220.79\n",
      "[598]\tvalid_0's rmse: 1220.75\n",
      "[599]\tvalid_0's rmse: 1220.69\n",
      "[600]\tvalid_0's rmse: 1220.65\n",
      "[601]\tvalid_0's rmse: 1220.61\n",
      "[602]\tvalid_0's rmse: 1220.61\n",
      "[603]\tvalid_0's rmse: 1220.57\n",
      "[604]\tvalid_0's rmse: 1220.58\n",
      "[605]\tvalid_0's rmse: 1220.53\n",
      "[606]\tvalid_0's rmse: 1220.54\n",
      "[607]\tvalid_0's rmse: 1220.47\n",
      "[608]\tvalid_0's rmse: 1220.49\n",
      "[609]\tvalid_0's rmse: 1220.45\n",
      "[610]\tvalid_0's rmse: 1220.47\n",
      "[611]\tvalid_0's rmse: 1220.49\n",
      "[612]\tvalid_0's rmse: 1220.41\n",
      "[613]\tvalid_0's rmse: 1220.41\n",
      "[614]\tvalid_0's rmse: 1220.27\n",
      "[615]\tvalid_0's rmse: 1220.25\n",
      "[616]\tvalid_0's rmse: 1220.2\n",
      "[617]\tvalid_0's rmse: 1220.14\n",
      "[618]\tvalid_0's rmse: 1220.04\n",
      "[619]\tvalid_0's rmse: 1220.02\n",
      "[620]\tvalid_0's rmse: 1219.96\n",
      "[621]\tvalid_0's rmse: 1219.94\n",
      "[622]\tvalid_0's rmse: 1219.93\n",
      "[623]\tvalid_0's rmse: 1219.9\n",
      "[624]\tvalid_0's rmse: 1219.85\n",
      "[625]\tvalid_0's rmse: 1219.77\n",
      "[626]\tvalid_0's rmse: 1219.71\n",
      "[627]\tvalid_0's rmse: 1219.7\n",
      "[628]\tvalid_0's rmse: 1219.65\n",
      "[629]\tvalid_0's rmse: 1219.51\n",
      "[630]\tvalid_0's rmse: 1219.39\n",
      "[631]\tvalid_0's rmse: 1219.37\n",
      "[632]\tvalid_0's rmse: 1219.33\n",
      "[633]\tvalid_0's rmse: 1219.32\n",
      "[634]\tvalid_0's rmse: 1219.23\n",
      "[635]\tvalid_0's rmse: 1219.09\n",
      "[636]\tvalid_0's rmse: 1219.04\n",
      "[637]\tvalid_0's rmse: 1218.95\n",
      "[638]\tvalid_0's rmse: 1218.92\n",
      "[639]\tvalid_0's rmse: 1218.82\n",
      "[640]\tvalid_0's rmse: 1218.84\n",
      "[641]\tvalid_0's rmse: 1218.85\n",
      "[642]\tvalid_0's rmse: 1218.84\n",
      "[643]\tvalid_0's rmse: 1218.78\n",
      "[644]\tvalid_0's rmse: 1218.77\n",
      "[645]\tvalid_0's rmse: 1218.68\n",
      "[646]\tvalid_0's rmse: 1218.54\n",
      "[647]\tvalid_0's rmse: 1218.5\n",
      "[648]\tvalid_0's rmse: 1218.49\n",
      "[649]\tvalid_0's rmse: 1218.43\n",
      "[650]\tvalid_0's rmse: 1218.29\n",
      "[651]\tvalid_0's rmse: 1218.22\n",
      "[652]\tvalid_0's rmse: 1218.19\n",
      "[653]\tvalid_0's rmse: 1218.18\n",
      "[654]\tvalid_0's rmse: 1218.02\n",
      "[655]\tvalid_0's rmse: 1217.99\n",
      "[656]\tvalid_0's rmse: 1217.89\n",
      "[657]\tvalid_0's rmse: 1217.85\n",
      "[658]\tvalid_0's rmse: 1217.84\n",
      "[659]\tvalid_0's rmse: 1217.75\n",
      "[660]\tvalid_0's rmse: 1217.7\n",
      "[661]\tvalid_0's rmse: 1217.67\n",
      "[662]\tvalid_0's rmse: 1217.66\n",
      "[663]\tvalid_0's rmse: 1217.61\n",
      "[664]\tvalid_0's rmse: 1217.63\n",
      "[665]\tvalid_0's rmse: 1217.59\n",
      "[666]\tvalid_0's rmse: 1217.55\n",
      "[667]\tvalid_0's rmse: 1217.35\n",
      "[668]\tvalid_0's rmse: 1217.35\n",
      "[669]\tvalid_0's rmse: 1217.31\n",
      "[670]\tvalid_0's rmse: 1217.28\n",
      "[671]\tvalid_0's rmse: 1217.27\n",
      "[672]\tvalid_0's rmse: 1217.24\n",
      "[673]\tvalid_0's rmse: 1217.21\n",
      "[674]\tvalid_0's rmse: 1217.12\n",
      "[675]\tvalid_0's rmse: 1217.14\n",
      "[676]\tvalid_0's rmse: 1217.12\n",
      "[677]\tvalid_0's rmse: 1217.05\n",
      "[678]\tvalid_0's rmse: 1217\n",
      "[679]\tvalid_0's rmse: 1216.97\n",
      "[680]\tvalid_0's rmse: 1216.94\n",
      "[681]\tvalid_0's rmse: 1216.88\n",
      "[682]\tvalid_0's rmse: 1216.82\n",
      "[683]\tvalid_0's rmse: 1216.81\n",
      "[684]\tvalid_0's rmse: 1216.78\n",
      "[685]\tvalid_0's rmse: 1216.63\n",
      "[686]\tvalid_0's rmse: 1216.62\n",
      "[687]\tvalid_0's rmse: 1216.62\n",
      "[688]\tvalid_0's rmse: 1216.61\n",
      "[689]\tvalid_0's rmse: 1216.63\n",
      "[690]\tvalid_0's rmse: 1216.6\n",
      "[691]\tvalid_0's rmse: 1216.51\n",
      "[692]\tvalid_0's rmse: 1216.45\n",
      "[693]\tvalid_0's rmse: 1216.42\n",
      "[694]\tvalid_0's rmse: 1216.18\n",
      "[695]\tvalid_0's rmse: 1216.16\n",
      "[696]\tvalid_0's rmse: 1216.12\n",
      "[697]\tvalid_0's rmse: 1216.11\n",
      "[698]\tvalid_0's rmse: 1216.07\n",
      "[699]\tvalid_0's rmse: 1216.02\n",
      "[700]\tvalid_0's rmse: 1215.94\n",
      "1215.936\n",
      "CPU times: user 28.6 s, sys: 422 ms, total: 29 s\n",
      "Wall time: 29.6 s\n"
     ]
    }
   ],
   "source": [
    "%%time\n",
    "\n",
    "train_data = lgb.Dataset(features_train, target_train)\n",
    "validation_data = lgb.Dataset(features_valid, target_valid)\n",
    "params_lgb = {'objective': 'regression', 'metric': 'root_mean_squared_error'}\n",
    "\n",
    "lgb_model = lgb.train(params_lgb, train_data, num_boost_round = 700, valid_sets = (validation_data))\n",
    "lgb_predictions = lgb_model.predict(features_valid)\n",
    "lgb_result = round(((mean_squared_error(target_valid, lgb_predictions))**0.5), 3)\n",
    "print(lgb_result)"
   ]
  },
  {
   "cell_type": "markdown",
   "metadata": {},
   "source": [
    "Данная модель незначительно уступает предыдущей по результату и времени выполнения кода. При количестве деревьев в ансамбле, равному 700, значение RMSE составило 1215.936. На выполнение кода понадобилось 29.6 секунды. \n",
    "\n",
    "При увеличении количества деревьев результаты модели улучшаются, однако значительно растет время работы."
   ]
  },
  {
   "cell_type": "markdown",
   "metadata": {},
   "source": [
    "### Выводы:"
   ]
  },
  {
   "cell_type": "markdown",
   "metadata": {},
   "source": [
    "На данном этапе были обучены три модели машинного обучения: модель случайного леса, CatBoost и LGB, а также были подобраны параметры для кажлой модели. \n",
    "\n",
    "\n",
    "Лучшие результат и время показала модель CatBoost: RMSE = 1212.575, время выполнения 21 секунда. \n",
    "\n",
    "На втором месте расположилась LGB: RMSE = 1215.936, время выполнения 29.6 секунды. \n",
    "\n",
    "На третьем - модель случайного леса: RMSE = 1262.471, время выполнения 45 минут 52 секунды. \n",
    "\n",
    "\n",
    "На следующем этапе проверим данные модели с подобранными параметрами на тестовой выборке."
   ]
  },
  {
   "cell_type": "markdown",
   "metadata": {},
   "source": [
    "## Анализ моделей"
   ]
  },
  {
   "cell_type": "markdown",
   "metadata": {},
   "source": [
    "Сравним результаты и скорость предсказания выбранных моделей на данных тестовых выборок. Проверку будем осуществлять в том же порядке, что и обучение."
   ]
  },
  {
   "cell_type": "code",
   "execution_count": 21,
   "metadata": {},
   "outputs": [
    {
     "name": "stdout",
     "output_type": "stream",
     "text": [
      "1261.466\n",
      "CPU times: user 569 ms, sys: 52 ms, total: 621 ms\n",
      "Wall time: 618 ms\n"
     ]
    }
   ],
   "source": [
    "%%time\n",
    "predictions_test = best_forest_model.predict(features_test)\n",
    "best_result_forest = round(((mean_squared_error(target_test, predictions_test))**0.5),3)\n",
    "print(best_result_forest)"
   ]
  },
  {
   "cell_type": "code",
   "execution_count": 22,
   "metadata": {},
   "outputs": [
    {
     "name": "stdout",
     "output_type": "stream",
     "text": [
      "1226.881\n",
      "CPU times: user 90.9 ms, sys: 0 ns, total: 90.9 ms\n",
      "Wall time: 88.1 ms\n"
     ]
    }
   ],
   "source": [
    "%%time\n",
    "pred_test = cat_model.predict(cat_features_test) \n",
    "cat_result_test = round(((mean_squared_error(cat_target_test, pred_test))**0.5), 3)\n",
    "print(cat_result_test)"
   ]
  },
  {
   "cell_type": "code",
   "execution_count": 23,
   "metadata": {},
   "outputs": [
    {
     "name": "stdout",
     "output_type": "stream",
     "text": [
      "1228.72\n",
      "CPU times: user 2.52 s, sys: 51.5 ms, total: 2.57 s\n",
      "Wall time: 2.49 s\n"
     ]
    }
   ],
   "source": [
    "%%time\n",
    "lgb_predictions_test = lgb_model.predict(features_test)\n",
    "lgb_best_result = round(((mean_squared_error(target_test, lgb_predictions_test))**0.5), 3)\n",
    "print(lgb_best_result)"
   ]
  },
  {
   "cell_type": "markdown",
   "metadata": {},
   "source": [
    "Наилучший результат показала модель CatBoost: у нее самое низкое значение RMSE (1226.881) и самое короткое время работы (88.1 мс). Напомним, что и на этапе обучения и проверки данная модель стала лучшей.\n",
    "\n",
    "Напоследок изучим, какие признаки играли определяющую роли и оказывали наибольшее влияние на целевой признак. Анализ проведем на основе выбранной модели."
   ]
  },
  {
   "cell_type": "code",
   "execution_count": 23,
   "metadata": {},
   "outputs": [
    {
     "data": {
      "image/png": "[encoded data removed]",
      "text/plain": [
       "<Figure size 432x288 with 1 Axes>"
      ]
     },
     "metadata": {
      "needs_background": "light"
     },
     "output_type": "display_data"
    }
   ],
   "source": [
    "feature_importance = cat_model.feature_importances_\n",
    "feature_imp = pd.DataFrame(sorted(zip(feature_importance, features.columns)), columns=['Value','Feature'])\n",
    "sns.barplot(x=\"Value\", y=\"Feature\", data=feature_imp.sort_values(by=\"Value\", ascending=False))\n",
    "plt.title('Feature importance')\n",
    "plt.tight_layout()\n",
    "plt.show();"
   ]
  },
  {
   "cell_type": "markdown",
   "metadata": {},
   "source": [
    "Как показывает график, наибольшее значение на цену автомобиля оказывает год его регистрации. Большое значение также имеют мощность и марка машины. Менее всего цена зависит от типа коробки передач."
   ]
  },
  {
   "cell_type": "markdown",
   "metadata": {},
   "source": [
    "### Выводы:"
   ]
  },
  {
   "cell_type": "markdown",
   "metadata": {},
   "source": [
    "На данном этапе обученные модели были испытаны на тестовых выборках. Наилучшие результаты вновь показала модель CatBoost.\n",
    "Кроме того, была изучена степень влияния признаков на значение целевого признака."
   ]
  },
  {
   "cell_type": "markdown",
   "metadata": {},
   "source": [
    "## Итоговые выводы"
   ]
  },
  {
   "cell_type": "markdown",
   "metadata": {},
   "source": [
    "В ходе выполнения проекта на основе предобработанных исторических данных были обучены и протестированы три модели машинного обучения: модель случайного леса, CatBoost и LGB. В итоге была выбрана модель CatBoost, так как на каждом этапе она показала лучшие результаты по трем ключевым параметрам:\n",
    "- качество предсказания;\n",
    "- время обучения;\n",
    "- скорость предсказания.\n",
    "\n",
    "Таким образом, искомая модель - модель CatBoost с глубиной, равной 12, и количеством итераций, равном 190."
   ]
  }
 ],
 "metadata": {
  "ExecuteTimeLog": [
   {
    "duration": 427,
    "start_time": "2022-04-12T13:52:08.844Z"
   },
   {
    "duration": 854,
    "start_time": "2022-04-12T13:52:10.101Z"
   },
   {
    "duration": 801,
    "start_time": "2022-04-12T13:55:19.056Z"
   },
   {
    "duration": 746,
    "start_time": "2022-04-12T13:55:54.260Z"
   },
   {
    "duration": 1023,
    "start_time": "2022-04-12T14:07:53.428Z"
   },
   {
    "duration": 414,
    "start_time": "2022-04-12T17:46:14.647Z"
   },
   {
    "duration": 772,
    "start_time": "2022-04-12T17:46:15.063Z"
   },
   {
    "duration": 682,
    "start_time": "2022-04-12T17:46:15.836Z"
   },
   {
    "duration": 927,
    "start_time": "2022-04-12T17:46:16.520Z"
   },
   {
    "duration": 564,
    "start_time": "2022-04-12T17:46:17.449Z"
   },
   {
    "duration": 3,
    "start_time": "2022-04-12T17:47:29.261Z"
   },
   {
    "duration": 5,
    "start_time": "2022-04-12T17:47:31.584Z"
   },
   {
    "duration": 50,
    "start_time": "2022-04-13T10:16:36.871Z"
   },
   {
    "duration": 447,
    "start_time": "2022-04-13T10:16:43.703Z"
   },
   {
    "duration": 2449,
    "start_time": "2022-04-13T10:16:44.153Z"
   },
   {
    "duration": 772,
    "start_time": "2022-04-13T10:16:46.604Z"
   },
   {
    "duration": 1114,
    "start_time": "2022-04-13T10:16:47.378Z"
   },
   {
    "duration": 4,
    "start_time": "2022-04-13T10:16:48.494Z"
   },
   {
    "duration": 24,
    "start_time": "2022-04-13T10:16:48.499Z"
   },
   {
    "duration": 65,
    "start_time": "2022-04-13T10:16:48.525Z"
   },
   {
    "duration": 23,
    "start_time": "2022-04-13T10:17:11.542Z"
   },
   {
    "duration": 1046,
    "start_time": "2022-04-13T10:17:15.263Z"
   },
   {
    "duration": 4,
    "start_time": "2022-04-13T10:18:09.563Z"
   },
   {
    "duration": 511,
    "start_time": "2022-04-13T10:18:15.056Z"
   },
   {
    "duration": 203,
    "start_time": "2022-04-13T10:18:58.866Z"
   },
   {
    "duration": 607,
    "start_time": "2022-04-13T10:19:20.956Z"
   },
   {
    "duration": 491,
    "start_time": "2022-04-13T10:19:32.350Z"
   },
   {
    "duration": 566,
    "start_time": "2022-04-13T10:20:17.170Z"
   },
   {
    "duration": 499,
    "start_time": "2022-04-13T10:20:47.544Z"
   },
   {
    "duration": 499,
    "start_time": "2022-04-13T10:21:12.459Z"
   },
   {
    "duration": 468,
    "start_time": "2022-04-13T10:21:39.594Z"
   },
   {
    "duration": 467,
    "start_time": "2022-04-13T10:21:53.345Z"
   },
   {
    "duration": 567,
    "start_time": "2022-04-13T10:22:15.545Z"
   },
   {
    "duration": 413,
    "start_time": "2022-04-13T10:22:44.322Z"
   },
   {
    "duration": 427,
    "start_time": "2022-04-13T10:23:04.045Z"
   },
   {
    "duration": 391,
    "start_time": "2022-04-13T10:23:11.763Z"
   },
   {
    "duration": 686,
    "start_time": "2022-04-13T10:32:10.532Z"
   },
   {
    "duration": 686,
    "start_time": "2022-04-13T10:34:19.046Z"
   },
   {
    "duration": 559,
    "start_time": "2022-04-13T10:39:47.335Z"
   },
   {
    "duration": 53,
    "start_time": "2022-04-13T10:46:12.642Z"
   },
   {
    "duration": 105,
    "start_time": "2022-04-13T10:47:47.841Z"
   },
   {
    "duration": 23,
    "start_time": "2022-04-13T10:48:47.316Z"
   },
   {
    "duration": 15,
    "start_time": "2022-04-13T10:50:50.104Z"
   },
   {
    "duration": 13,
    "start_time": "2022-04-13T10:50:51.154Z"
   },
   {
    "duration": 8,
    "start_time": "2022-04-13T10:58:43.013Z"
   },
   {
    "duration": 5,
    "start_time": "2022-04-13T10:59:38.853Z"
   },
   {
    "duration": 4,
    "start_time": "2022-04-13T11:00:12.460Z"
   },
   {
    "duration": 1095,
    "start_time": "2022-04-13T11:00:12.468Z"
   },
   {
    "duration": 967,
    "start_time": "2022-04-13T11:00:13.565Z"
   },
   {
    "duration": 1303,
    "start_time": "2022-04-13T11:00:14.537Z"
   },
   {
    "duration": 16,
    "start_time": "2022-04-13T11:00:15.843Z"
   },
   {
    "duration": 8,
    "start_time": "2022-04-13T11:00:15.861Z"
   },
   {
    "duration": 55,
    "start_time": "2022-04-13T11:00:15.871Z"
   },
   {
    "duration": 728,
    "start_time": "2022-04-13T11:00:15.928Z"
   },
   {
    "duration": 647,
    "start_time": "2022-04-13T11:00:16.658Z"
   },
   {
    "duration": 535,
    "start_time": "2022-04-13T11:00:17.308Z"
   },
   {
    "duration": 24,
    "start_time": "2022-04-13T11:00:17.845Z"
   },
   {
    "duration": 13,
    "start_time": "2022-04-13T11:00:17.872Z"
   },
   {
    "duration": 11,
    "start_time": "2022-04-13T11:00:17.887Z"
   },
   {
    "duration": 7,
    "start_time": "2022-04-13T11:00:20.633Z"
   },
   {
    "duration": 3,
    "start_time": "2022-04-13T11:01:03.415Z"
   },
   {
    "duration": 1622,
    "start_time": "2022-04-13T11:01:03.426Z"
   },
   {
    "duration": 1153,
    "start_time": "2022-04-13T11:01:05.051Z"
   },
   {
    "duration": 1372,
    "start_time": "2022-04-13T11:01:06.207Z"
   },
   {
    "duration": 4,
    "start_time": "2022-04-13T11:01:07.582Z"
   },
   {
    "duration": 10,
    "start_time": "2022-04-13T11:01:07.588Z"
   },
   {
    "duration": 60,
    "start_time": "2022-04-13T11:01:13.485Z"
   },
   {
    "duration": 28,
    "start_time": "2022-04-13T11:01:59.221Z"
   },
   {
    "duration": 6,
    "start_time": "2022-04-13T11:02:11.832Z"
   },
   {
    "duration": 1152,
    "start_time": "2022-04-13T11:02:11.839Z"
   },
   {
    "duration": 1090,
    "start_time": "2022-04-13T11:02:12.993Z"
   },
   {
    "duration": 1548,
    "start_time": "2022-04-13T11:02:14.088Z"
   },
   {
    "duration": 10,
    "start_time": "2022-04-13T11:02:15.640Z"
   },
   {
    "duration": 21,
    "start_time": "2022-04-13T11:02:15.652Z"
   },
   {
    "duration": 37,
    "start_time": "2022-04-13T11:02:18.192Z"
   },
   {
    "duration": 67,
    "start_time": "2022-04-13T11:02:32.726Z"
   },
   {
    "duration": 795,
    "start_time": "2022-04-13T11:02:39.213Z"
   },
   {
    "duration": 824,
    "start_time": "2022-04-13T11:03:14.337Z"
   },
   {
    "duration": 599,
    "start_time": "2022-04-13T11:03:18.881Z"
   },
   {
    "duration": 37,
    "start_time": "2022-04-13T11:03:22.238Z"
   },
   {
    "duration": 11,
    "start_time": "2022-04-13T11:03:24.206Z"
   },
   {
    "duration": 9,
    "start_time": "2022-04-13T11:03:26.496Z"
   },
   {
    "duration": 9,
    "start_time": "2022-04-13T11:03:27.575Z"
   },
   {
    "duration": 1033,
    "start_time": "2022-04-13T14:18:30.490Z"
   },
   {
    "duration": 40,
    "start_time": "2022-04-13T14:18:34.821Z"
   },
   {
    "duration": 32,
    "start_time": "2022-04-13T14:19:57.629Z"
   },
   {
    "duration": 5,
    "start_time": "2022-04-13T14:20:48.747Z"
   },
   {
    "duration": 939,
    "start_time": "2022-04-13T14:20:48.755Z"
   },
   {
    "duration": 787,
    "start_time": "2022-04-13T14:20:49.697Z"
   },
   {
    "duration": 1067,
    "start_time": "2022-04-13T14:20:50.487Z"
   },
   {
    "duration": 16,
    "start_time": "2022-04-13T14:20:51.557Z"
   },
   {
    "duration": 22,
    "start_time": "2022-04-13T14:20:51.575Z"
   },
   {
    "duration": 59,
    "start_time": "2022-04-13T14:20:51.600Z"
   },
   {
    "duration": 710,
    "start_time": "2022-04-13T14:20:51.661Z"
   },
   {
    "duration": 678,
    "start_time": "2022-04-13T14:20:52.373Z"
   },
   {
    "duration": 444,
    "start_time": "2022-04-13T14:20:53.053Z"
   },
   {
    "duration": 43,
    "start_time": "2022-04-13T14:20:53.501Z"
   },
   {
    "duration": 15,
    "start_time": "2022-04-13T14:20:53.549Z"
   },
   {
    "duration": 13,
    "start_time": "2022-04-13T14:20:53.567Z"
   },
   {
    "duration": 11,
    "start_time": "2022-04-13T14:20:53.583Z"
   },
   {
    "duration": 39,
    "start_time": "2022-04-13T14:20:53.596Z"
   },
   {
    "duration": 32,
    "start_time": "2022-04-13T14:20:56.005Z"
   },
   {
    "duration": 23,
    "start_time": "2022-04-13T14:20:57.861Z"
   },
   {
    "duration": 3,
    "start_time": "2022-04-13T14:22:16.738Z"
   },
   {
    "duration": 935,
    "start_time": "2022-04-13T14:22:16.744Z"
   },
   {
    "duration": 1006,
    "start_time": "2022-04-13T14:22:17.680Z"
   },
   {
    "duration": 1283,
    "start_time": "2022-04-13T14:22:18.688Z"
   },
   {
    "duration": 4,
    "start_time": "2022-04-13T14:22:19.973Z"
   },
   {
    "duration": 7,
    "start_time": "2022-04-13T14:22:19.979Z"
   },
   {
    "duration": 42,
    "start_time": "2022-04-13T14:22:19.988Z"
   },
   {
    "duration": 563,
    "start_time": "2022-04-13T14:22:20.033Z"
   },
   {
    "duration": 611,
    "start_time": "2022-04-13T14:22:20.598Z"
   },
   {
    "duration": 560,
    "start_time": "2022-04-13T14:22:21.212Z"
   },
   {
    "duration": 66,
    "start_time": "2022-04-13T14:22:21.785Z"
   },
   {
    "duration": 157,
    "start_time": "2022-04-13T14:22:21.854Z"
   },
   {
    "duration": 178,
    "start_time": "2022-04-13T14:22:22.013Z"
   },
   {
    "duration": 4,
    "start_time": "2022-04-13T14:22:24.406Z"
   },
   {
    "duration": 479,
    "start_time": "2022-04-13T14:23:04.124Z"
   },
   {
    "duration": 84,
    "start_time": "2022-04-13T14:23:07.608Z"
   },
   {
    "duration": 62,
    "start_time": "2022-04-13T14:30:26.073Z"
   },
   {
    "duration": 17,
    "start_time": "2022-04-13T14:30:59.800Z"
   },
   {
    "duration": 933,
    "start_time": "2022-04-13T14:30:59.818Z"
   },
   {
    "duration": 784,
    "start_time": "2022-04-13T14:31:00.753Z"
   },
   {
    "duration": 1053,
    "start_time": "2022-04-13T14:31:01.539Z"
   },
   {
    "duration": 3,
    "start_time": "2022-04-13T14:31:02.594Z"
   },
   {
    "duration": 8,
    "start_time": "2022-04-13T14:31:02.598Z"
   },
   {
    "duration": 19,
    "start_time": "2022-04-13T14:31:02.608Z"
   },
   {
    "duration": 466,
    "start_time": "2022-04-13T14:31:02.629Z"
   },
   {
    "duration": 566,
    "start_time": "2022-04-13T14:31:03.096Z"
   },
   {
    "duration": 382,
    "start_time": "2022-04-13T14:31:03.664Z"
   },
   {
    "duration": 28,
    "start_time": "2022-04-13T14:31:04.048Z"
   },
   {
    "duration": 89,
    "start_time": "2022-04-13T14:31:04.078Z"
   },
   {
    "duration": 109,
    "start_time": "2022-04-13T14:31:04.170Z"
   },
   {
    "duration": 4,
    "start_time": "2022-04-13T14:31:04.281Z"
   },
   {
    "duration": 388,
    "start_time": "2022-04-13T14:31:04.286Z"
   },
   {
    "duration": 51,
    "start_time": "2022-04-13T14:31:04.676Z"
   },
   {
    "duration": 31,
    "start_time": "2022-04-13T14:31:04.728Z"
   },
   {
    "duration": 1449,
    "start_time": "2022-04-14T07:46:02.103Z"
   },
   {
    "duration": 741,
    "start_time": "2022-04-14T07:46:03.554Z"
   },
   {
    "duration": 674,
    "start_time": "2022-04-14T07:46:04.297Z"
   },
   {
    "duration": 929,
    "start_time": "2022-04-14T07:46:04.973Z"
   },
   {
    "duration": 3,
    "start_time": "2022-04-14T07:46:05.904Z"
   },
   {
    "duration": 10,
    "start_time": "2022-04-14T07:46:05.908Z"
   },
   {
    "duration": 38,
    "start_time": "2022-04-14T07:46:05.920Z"
   },
   {
    "duration": 671,
    "start_time": "2022-04-14T07:46:05.960Z"
   },
   {
    "duration": 385,
    "start_time": "2022-04-14T07:46:06.633Z"
   },
   {
    "duration": 330,
    "start_time": "2022-04-14T07:46:07.019Z"
   },
   {
    "duration": 36,
    "start_time": "2022-04-14T07:46:07.351Z"
   },
   {
    "duration": 164,
    "start_time": "2022-04-14T07:46:07.388Z"
   },
   {
    "duration": 0,
    "start_time": "2022-04-14T07:46:07.553Z"
   },
   {
    "duration": 0,
    "start_time": "2022-04-14T07:46:07.555Z"
   },
   {
    "duration": 0,
    "start_time": "2022-04-14T07:46:07.555Z"
   },
   {
    "duration": 1,
    "start_time": "2022-04-14T07:46:07.556Z"
   },
   {
    "duration": 0,
    "start_time": "2022-04-14T07:46:07.557Z"
   },
   {
    "duration": 61,
    "start_time": "2022-04-14T07:46:28.472Z"
   },
   {
    "duration": 90,
    "start_time": "2022-04-14T07:48:38.195Z"
   },
   {
    "duration": 3,
    "start_time": "2022-04-14T07:48:40.231Z"
   },
   {
    "duration": 295,
    "start_time": "2022-04-14T07:48:50.370Z"
   },
   {
    "duration": 32,
    "start_time": "2022-04-14T07:48:52.906Z"
   },
   {
    "duration": 59,
    "start_time": "2022-04-14T07:48:54.563Z"
   },
   {
    "duration": 102,
    "start_time": "2022-04-14T08:07:47.454Z"
   },
   {
    "duration": 6059687,
    "start_time": "2022-04-14T08:07:51.441Z"
   },
   {
    "duration": 56,
    "start_time": "2022-04-14T10:20:34.709Z"
   },
   {
    "duration": 114,
    "start_time": "2022-04-14T10:20:58.758Z"
   },
   {
    "duration": 112,
    "start_time": "2022-04-14T10:21:23.711Z"
   },
   {
    "duration": 2898,
    "start_time": "2022-04-14T10:21:41.071Z"
   },
   {
    "duration": 1632,
    "start_time": "2022-04-14T10:55:50.078Z"
   },
   {
    "duration": 3,
    "start_time": "2022-04-14T10:56:21.866Z"
   },
   {
    "duration": 778,
    "start_time": "2022-04-14T10:56:21.871Z"
   },
   {
    "duration": 632,
    "start_time": "2022-04-14T10:56:22.651Z"
   },
   {
    "duration": 889,
    "start_time": "2022-04-14T10:56:23.285Z"
   },
   {
    "duration": 3,
    "start_time": "2022-04-14T10:56:24.176Z"
   },
   {
    "duration": 9,
    "start_time": "2022-04-14T10:56:24.181Z"
   },
   {
    "duration": 18,
    "start_time": "2022-04-14T10:56:24.192Z"
   },
   {
    "duration": 423,
    "start_time": "2022-04-14T10:56:24.211Z"
   },
   {
    "duration": 414,
    "start_time": "2022-04-14T10:56:24.635Z"
   },
   {
    "duration": 307,
    "start_time": "2022-04-14T10:56:25.050Z"
   },
   {
    "duration": 29,
    "start_time": "2022-04-14T10:56:25.359Z"
   },
   {
    "duration": 73,
    "start_time": "2022-04-14T10:56:25.390Z"
   },
   {
    "duration": 96,
    "start_time": "2022-04-14T10:56:25.465Z"
   },
   {
    "duration": 3,
    "start_time": "2022-04-14T10:56:25.563Z"
   },
   {
    "duration": 1641,
    "start_time": "2022-04-14T10:56:28.767Z"
   },
   {
    "duration": 304,
    "start_time": "2022-04-14T10:56:37.864Z"
   },
   {
    "duration": 35,
    "start_time": "2022-04-14T11:01:58.951Z"
   },
   {
    "duration": 3308,
    "start_time": "2022-04-14T11:02:12.249Z"
   },
   {
    "duration": 5915489,
    "start_time": "2022-04-14T11:02:41.570Z"
   },
   {
    "duration": 5,
    "start_time": "2022-04-14T12:41:17.061Z"
   },
   {
    "duration": 11918,
    "start_time": "2022-04-14T12:53:08.367Z"
   },
   {
    "duration": 3575439,
    "start_time": "2022-04-14T12:53:29.293Z"
   },
   {
    "duration": 2321,
    "start_time": "2022-04-15T06:36:29.122Z"
   },
   {
    "duration": 1358,
    "start_time": "2022-04-15T06:36:31.446Z"
   },
   {
    "duration": 871,
    "start_time": "2022-04-15T06:36:32.806Z"
   },
   {
    "duration": 1131,
    "start_time": "2022-04-15T06:36:33.679Z"
   },
   {
    "duration": 8,
    "start_time": "2022-04-15T06:36:34.812Z"
   },
   {
    "duration": 27,
    "start_time": "2022-04-15T06:36:34.822Z"
   },
   {
    "duration": 25,
    "start_time": "2022-04-15T06:36:34.851Z"
   },
   {
    "duration": 522,
    "start_time": "2022-04-15T06:36:34.878Z"
   },
   {
    "duration": 510,
    "start_time": "2022-04-15T06:36:35.402Z"
   },
   {
    "duration": 388,
    "start_time": "2022-04-15T06:36:35.919Z"
   },
   {
    "duration": 48,
    "start_time": "2022-04-15T06:36:36.309Z"
   },
   {
    "duration": 90,
    "start_time": "2022-04-15T06:36:36.359Z"
   },
   {
    "duration": 132,
    "start_time": "2022-04-15T06:36:36.451Z"
   },
   {
    "duration": 4,
    "start_time": "2022-04-15T06:36:36.585Z"
   },
   {
    "duration": 421,
    "start_time": "2022-04-15T06:36:36.590Z"
   },
   {
    "duration": 42,
    "start_time": "2022-04-15T06:36:37.013Z"
   },
   {
    "duration": 89,
    "start_time": "2022-04-15T06:36:37.058Z"
   },
   {
    "duration": 6916338,
    "start_time": "2022-04-15T06:36:37.149Z"
   },
   {
    "duration": 8,
    "start_time": "2022-04-15T08:31:53.489Z"
   },
   {
    "duration": 722493,
    "start_time": "2022-04-15T08:32:22.864Z"
   },
   {
    "duration": 703013,
    "start_time": "2022-04-15T08:51:37.228Z"
   },
   {
    "duration": 5,
    "start_time": "2022-04-15T09:13:24.485Z"
   },
   {
    "duration": 33,
    "start_time": "2022-04-15T09:13:34.812Z"
   },
   {
    "duration": 77,
    "start_time": "2022-04-15T10:07:50.376Z"
   },
   {
    "duration": 87,
    "start_time": "2022-04-15T10:08:15.706Z"
   },
   {
    "duration": 4211,
    "start_time": "2022-04-15T10:09:03.115Z"
   },
   {
    "duration": 5,
    "start_time": "2022-04-15T10:45:54.497Z"
   },
   {
    "duration": 964,
    "start_time": "2022-04-15T10:45:54.504Z"
   },
   {
    "duration": 778,
    "start_time": "2022-04-15T10:45:55.471Z"
   },
   {
    "duration": 1034,
    "start_time": "2022-04-15T10:45:56.251Z"
   },
   {
    "duration": 4,
    "start_time": "2022-04-15T10:45:57.287Z"
   },
   {
    "duration": 12,
    "start_time": "2022-04-15T10:45:57.293Z"
   },
   {
    "duration": 44,
    "start_time": "2022-04-15T10:45:57.320Z"
   },
   {
    "duration": 511,
    "start_time": "2022-04-15T10:45:57.367Z"
   },
   {
    "duration": 528,
    "start_time": "2022-04-15T10:45:57.880Z"
   },
   {
    "duration": 392,
    "start_time": "2022-04-15T10:45:58.419Z"
   },
   {
    "duration": 45,
    "start_time": "2022-04-15T10:45:58.819Z"
   },
   {
    "duration": 93,
    "start_time": "2022-04-15T10:45:58.866Z"
   },
   {
    "duration": 116,
    "start_time": "2022-04-15T10:45:58.961Z"
   },
   {
    "duration": 4,
    "start_time": "2022-04-15T10:45:59.079Z"
   },
   {
    "duration": 351,
    "start_time": "2022-04-15T10:56:25.116Z"
   },
   {
    "duration": 40,
    "start_time": "2022-04-15T10:56:27.583Z"
   },
   {
    "duration": 67,
    "start_time": "2022-04-15T10:56:30.942Z"
   },
   {
    "duration": 603706,
    "start_time": "2022-04-15T11:23:47.085Z"
   },
   {
    "duration": 71,
    "start_time": "2022-04-15T11:43:06.232Z"
   },
   {
    "duration": 83,
    "start_time": "2022-04-15T11:43:59.419Z"
   },
   {
    "duration": 76,
    "start_time": "2022-04-15T11:44:59.892Z"
   },
   {
    "duration": 24,
    "start_time": "2022-04-15T11:47:17.090Z"
   },
   {
    "duration": 4,
    "start_time": "2022-04-15T11:47:31.046Z"
   },
   {
    "duration": 1081,
    "start_time": "2022-04-15T11:47:31.052Z"
   },
   {
    "duration": 1118,
    "start_time": "2022-04-15T11:47:32.136Z"
   },
   {
    "duration": 1215,
    "start_time": "2022-04-15T11:47:33.257Z"
   },
   {
    "duration": 4,
    "start_time": "2022-04-15T11:47:34.475Z"
   },
   {
    "duration": 58,
    "start_time": "2022-04-15T11:47:34.481Z"
   },
   {
    "duration": 40,
    "start_time": "2022-04-15T11:47:34.542Z"
   },
   {
    "duration": 525,
    "start_time": "2022-04-15T11:47:34.584Z"
   },
   {
    "duration": 525,
    "start_time": "2022-04-15T11:47:35.118Z"
   },
   {
    "duration": 372,
    "start_time": "2022-04-15T11:47:35.646Z"
   },
   {
    "duration": 33,
    "start_time": "2022-04-15T11:47:36.021Z"
   },
   {
    "duration": 85,
    "start_time": "2022-04-15T11:47:36.056Z"
   },
   {
    "duration": 136,
    "start_time": "2022-04-15T11:47:36.143Z"
   },
   {
    "duration": 4,
    "start_time": "2022-04-15T11:47:36.282Z"
   },
   {
    "duration": 406,
    "start_time": "2022-04-15T11:47:36.288Z"
   },
   {
    "duration": 60,
    "start_time": "2022-04-15T11:47:36.696Z"
   },
   {
    "duration": 77,
    "start_time": "2022-04-15T11:47:36.758Z"
   },
   {
    "duration": 602569,
    "start_time": "2022-04-15T11:47:36.837Z"
   },
   {
    "duration": 11404,
    "start_time": "2022-04-15T11:57:39.408Z"
   },
   {
    "duration": 162,
    "start_time": "2022-04-15T12:09:39.763Z"
   },
   {
    "duration": 11260,
    "start_time": "2022-04-15T12:09:45.323Z"
   },
   {
    "duration": 73,
    "start_time": "2022-04-15T12:47:05.275Z"
   },
   {
    "duration": 1696,
    "start_time": "2022-04-16T10:21:46.917Z"
   },
   {
    "duration": 745,
    "start_time": "2022-04-16T10:21:48.615Z"
   },
   {
    "duration": 685,
    "start_time": "2022-04-16T10:21:49.362Z"
   },
   {
    "duration": 973,
    "start_time": "2022-04-16T10:21:50.049Z"
   },
   {
    "duration": 3,
    "start_time": "2022-04-16T10:21:51.023Z"
   },
   {
    "duration": 9,
    "start_time": "2022-04-16T10:21:51.027Z"
   },
   {
    "duration": 30,
    "start_time": "2022-04-16T10:21:51.037Z"
   },
   {
    "duration": 403,
    "start_time": "2022-04-16T10:21:51.069Z"
   },
   {
    "duration": 398,
    "start_time": "2022-04-16T10:21:51.473Z"
   },
   {
    "duration": 318,
    "start_time": "2022-04-16T10:21:51.874Z"
   },
   {
    "duration": 38,
    "start_time": "2022-04-16T10:21:52.193Z"
   },
   {
    "duration": 69,
    "start_time": "2022-04-16T10:21:52.232Z"
   },
   {
    "duration": 99,
    "start_time": "2022-04-16T10:21:52.302Z"
   },
   {
    "duration": 4,
    "start_time": "2022-04-16T10:21:52.402Z"
   },
   {
    "duration": 306,
    "start_time": "2022-04-16T10:21:52.407Z"
   },
   {
    "duration": 35,
    "start_time": "2022-04-16T10:21:52.714Z"
   },
   {
    "duration": 170,
    "start_time": "2022-04-16T10:21:52.750Z"
   },
   {
    "duration": 478488,
    "start_time": "2022-04-16T10:21:52.922Z"
   },
   {
    "duration": 7206,
    "start_time": "2022-04-16T10:29:51.412Z"
   },
   {
    "duration": 7498,
    "start_time": "2022-04-16T10:29:58.620Z"
   },
   {
    "duration": 151121,
    "start_time": "2022-04-16T10:36:53.797Z"
   },
   {
    "duration": 1821,
    "start_time": "2022-04-16T10:48:46.542Z"
   },
   {
    "duration": 197961,
    "start_time": "2022-04-16T10:49:08.165Z"
   },
   {
    "duration": 478429,
    "start_time": "2022-04-16T10:56:44.232Z"
   },
   {
    "duration": 215393,
    "start_time": "2022-04-16T11:05:23.443Z"
   },
   {
    "duration": 590448,
    "start_time": "2022-04-16T11:11:40.370Z"
   },
   {
    "duration": 448188,
    "start_time": "2022-04-16T11:33:29.955Z"
   },
   {
    "duration": 615524,
    "start_time": "2022-04-16T11:59:24.485Z"
   },
   {
    "duration": 10274,
    "start_time": "2022-04-16T12:11:00.044Z"
   },
   {
    "duration": 1163671,
    "start_time": "2022-04-16T13:08:37.378Z"
   },
   {
    "duration": 491801,
    "start_time": "2022-04-16T13:30:25.151Z"
   },
   {
    "duration": 1071827,
    "start_time": "2022-04-16T13:40:04.375Z"
   },
   {
    "duration": 861220,
    "start_time": "2022-04-16T14:09:27.239Z"
   },
   {
    "duration": 771017,
    "start_time": "2022-04-16T14:24:16.507Z"
   },
   {
    "duration": 751108,
    "start_time": "2022-04-16T15:26:19.194Z"
   },
   {
    "duration": 481,
    "start_time": "2022-04-16T17:00:07.058Z"
   },
   {
    "duration": 133,
    "start_time": "2022-04-16T17:00:28.304Z"
   },
   {
    "duration": 706,
    "start_time": "2022-04-16T17:00:32.155Z"
   },
   {
    "duration": 131,
    "start_time": "2022-04-16T17:01:06.643Z"
   },
   {
    "duration": 145,
    "start_time": "2022-04-16T17:01:15.776Z"
   },
   {
    "duration": 809,
    "start_time": "2022-04-16T17:03:19.500Z"
   },
   {
    "duration": 3,
    "start_time": "2022-04-16T17:03:45.132Z"
   },
   {
    "duration": 696,
    "start_time": "2022-04-16T17:03:45.138Z"
   },
   {
    "duration": 809,
    "start_time": "2022-04-16T17:03:45.836Z"
   },
   {
    "duration": 1014,
    "start_time": "2022-04-16T17:03:46.647Z"
   },
   {
    "duration": 4,
    "start_time": "2022-04-16T17:03:47.662Z"
   },
   {
    "duration": 8,
    "start_time": "2022-04-16T17:03:47.667Z"
   },
   {
    "duration": 41,
    "start_time": "2022-04-16T17:03:47.676Z"
   },
   {
    "duration": 391,
    "start_time": "2022-04-16T17:03:47.718Z"
   },
   {
    "duration": 361,
    "start_time": "2022-04-16T17:03:48.111Z"
   },
   {
    "duration": 304,
    "start_time": "2022-04-16T17:03:48.474Z"
   },
   {
    "duration": 38,
    "start_time": "2022-04-16T17:03:48.780Z"
   },
   {
    "duration": 64,
    "start_time": "2022-04-16T17:03:48.819Z"
   },
   {
    "duration": 94,
    "start_time": "2022-04-16T17:03:48.884Z"
   },
   {
    "duration": 3,
    "start_time": "2022-04-16T17:03:48.980Z"
   },
   {
    "duration": 311,
    "start_time": "2022-04-16T17:03:48.984Z"
   },
   {
    "duration": 33,
    "start_time": "2022-04-16T17:03:49.296Z"
   },
   {
    "duration": 145,
    "start_time": "2022-04-16T17:03:49.331Z"
   },
   {
    "duration": 483357,
    "start_time": "2022-04-16T17:03:49.477Z"
   },
   {
    "duration": 213187,
    "start_time": "2022-04-16T17:11:52.836Z"
   },
   {
    "duration": 51894,
    "start_time": "2022-04-16T17:15:26.025Z"
   },
   {
    "duration": 545,
    "start_time": "2022-04-16T17:16:17.921Z"
   },
   {
    "duration": 135,
    "start_time": "2022-04-16T17:16:18.467Z"
   },
   {
    "duration": 718,
    "start_time": "2022-04-16T17:16:18.604Z"
   },
   {
    "duration": 207030,
    "start_time": "2022-04-16T17:33:31.685Z"
   },
   {
    "duration": 59179,
    "start_time": "2022-04-16T17:38:20.663Z"
   },
   {
    "duration": 12957,
    "start_time": "2022-04-16T17:42:34.630Z"
   },
   {
    "duration": 24733,
    "start_time": "2022-04-16T17:42:58.387Z"
   },
   {
    "duration": 18318,
    "start_time": "2022-04-16T17:43:39.186Z"
   },
   {
    "duration": 23371,
    "start_time": "2022-04-16T17:44:05.550Z"
   },
   {
    "duration": 65871,
    "start_time": "2022-04-16T17:44:41.725Z"
   },
   {
    "duration": 23281,
    "start_time": "2022-04-16T17:47:25.003Z"
   },
   {
    "duration": 3,
    "start_time": "2022-04-16T17:51:08.518Z"
   },
   {
    "duration": 677,
    "start_time": "2022-04-16T17:51:08.523Z"
   },
   {
    "duration": 589,
    "start_time": "2022-04-16T17:51:09.202Z"
   },
   {
    "duration": 1166,
    "start_time": "2022-04-16T17:51:09.799Z"
   },
   {
    "duration": 4,
    "start_time": "2022-04-16T17:51:10.967Z"
   },
   {
    "duration": 11,
    "start_time": "2022-04-16T17:51:10.973Z"
   },
   {
    "duration": 42,
    "start_time": "2022-04-16T17:51:10.986Z"
   },
   {
    "duration": 685,
    "start_time": "2022-04-16T17:51:11.030Z"
   },
   {
    "duration": 585,
    "start_time": "2022-04-16T17:51:11.717Z"
   },
   {
    "duration": 323,
    "start_time": "2022-04-16T17:51:12.303Z"
   },
   {
    "duration": 28,
    "start_time": "2022-04-16T17:51:12.628Z"
   },
   {
    "duration": 79,
    "start_time": "2022-04-16T17:51:12.658Z"
   },
   {
    "duration": 94,
    "start_time": "2022-04-16T17:51:12.738Z"
   },
   {
    "duration": 4,
    "start_time": "2022-04-16T17:51:12.833Z"
   },
   {
    "duration": 334,
    "start_time": "2022-04-16T17:51:12.838Z"
   },
   {
    "duration": 43,
    "start_time": "2022-04-16T17:51:13.173Z"
   },
   {
    "duration": 142,
    "start_time": "2022-04-16T17:51:13.217Z"
   },
   {
    "duration": 527624,
    "start_time": "2022-04-16T17:51:13.361Z"
   },
   {
    "duration": 25096,
    "start_time": "2022-04-16T18:00:00.986Z"
   },
   {
    "duration": 285124,
    "start_time": "2022-04-16T18:00:26.084Z"
   },
   {
    "duration": 504,
    "start_time": "2022-04-16T18:05:11.210Z"
   },
   {
    "duration": 101,
    "start_time": "2022-04-16T18:05:11.715Z"
   },
   {
    "duration": 826,
    "start_time": "2022-04-16T18:05:11.818Z"
   },
   {
    "duration": 402455,
    "start_time": "2022-04-16T18:11:27.546Z"
   },
   {
    "duration": 17086,
    "start_time": "2022-04-16T18:24:23.442Z"
   },
   {
    "duration": 11166,
    "start_time": "2022-04-16T18:24:57.747Z"
   },
   {
    "duration": 22371,
    "start_time": "2022-04-16T18:25:43.429Z"
   },
   {
    "duration": 473,
    "start_time": "2022-04-16T18:32:13.372Z"
   },
   {
    "duration": 87,
    "start_time": "2022-04-16T18:32:14.828Z"
   },
   {
    "duration": 2058,
    "start_time": "2022-04-16T18:32:15.759Z"
   },
   {
    "duration": 473,
    "start_time": "2022-04-16T18:36:34.738Z"
   },
   {
    "duration": 85,
    "start_time": "2022-04-16T18:36:37.886Z"
   },
   {
    "duration": 2032,
    "start_time": "2022-04-16T18:36:42.283Z"
   },
   {
    "duration": 2109,
    "start_time": "2022-04-16T18:37:01.910Z"
   },
   {
    "duration": 309,
    "start_time": "2022-04-16T20:35:21.161Z"
   },
   {
    "duration": 1572,
    "start_time": "2022-04-17T10:24:10.457Z"
   },
   {
    "duration": 767,
    "start_time": "2022-04-17T10:24:12.032Z"
   },
   {
    "duration": 693,
    "start_time": "2022-04-17T10:24:12.801Z"
   },
   {
    "duration": 996,
    "start_time": "2022-04-17T10:24:13.496Z"
   },
   {
    "duration": 4,
    "start_time": "2022-04-17T10:24:14.493Z"
   },
   {
    "duration": 6,
    "start_time": "2022-04-17T10:24:14.507Z"
   },
   {
    "duration": 29,
    "start_time": "2022-04-17T10:24:14.515Z"
   },
   {
    "duration": 461,
    "start_time": "2022-04-17T10:24:14.546Z"
   },
   {
    "duration": 431,
    "start_time": "2022-04-17T10:24:15.010Z"
   },
   {
    "duration": 323,
    "start_time": "2022-04-17T10:24:15.444Z"
   },
   {
    "duration": 112,
    "start_time": "2022-04-17T10:24:15.769Z"
   },
   {
    "duration": 68,
    "start_time": "2022-04-17T10:24:15.883Z"
   },
   {
    "duration": 102,
    "start_time": "2022-04-17T10:24:15.953Z"
   },
   {
    "duration": 3,
    "start_time": "2022-04-17T10:24:16.057Z"
   },
   {
    "duration": 321,
    "start_time": "2022-04-17T10:24:16.061Z"
   },
   {
    "duration": 39,
    "start_time": "2022-04-17T10:24:16.383Z"
   },
   {
    "duration": 166,
    "start_time": "2022-04-17T10:24:16.424Z"
   },
   {
    "duration": 505294,
    "start_time": "2022-04-17T10:24:16.592Z"
   },
   {
    "duration": 22880,
    "start_time": "2022-04-17T10:32:41.887Z"
   },
   {
    "duration": 27959,
    "start_time": "2022-04-17T10:33:04.769Z"
   },
   {
    "duration": 597,
    "start_time": "2022-04-17T10:33:32.730Z"
   },
   {
    "duration": 100,
    "start_time": "2022-04-17T10:33:33.330Z"
   },
   {
    "duration": 1975,
    "start_time": "2022-04-17T10:33:33.432Z"
   },
   {
    "duration": 375,
    "start_time": "2022-04-17T10:33:35.410Z"
   },
   {
    "duration": 1671,
    "start_time": "2022-04-17T12:05:14.749Z"
   },
   {
    "duration": 738,
    "start_time": "2022-04-17T12:05:17.893Z"
   },
   {
    "duration": 653,
    "start_time": "2022-04-17T12:05:32.544Z"
   },
   {
    "duration": 440,
    "start_time": "2022-04-17T12:08:21.067Z"
   },
   {
    "duration": 946,
    "start_time": "2022-04-17T12:17:39.111Z"
   },
   {
    "duration": 5,
    "start_time": "2022-04-17T12:18:06.657Z"
   },
   {
    "duration": 4,
    "start_time": "2022-04-17T12:18:51.345Z"
   },
   {
    "duration": 6,
    "start_time": "2022-04-17T12:18:58.998Z"
   },
   {
    "duration": 5,
    "start_time": "2022-04-17T12:19:25.767Z"
   },
   {
    "duration": 118,
    "start_time": "2022-04-17T12:19:42.401Z"
   },
   {
    "duration": 482,
    "start_time": "2022-04-17T12:22:20.225Z"
   },
   {
    "duration": 452,
    "start_time": "2022-04-17T12:23:04.286Z"
   },
   {
    "duration": 17,
    "start_time": "2022-04-17T12:24:04.383Z"
   },
   {
    "duration": 25,
    "start_time": "2022-04-17T12:25:28.412Z"
   },
   {
    "duration": 318,
    "start_time": "2022-04-17T12:30:07.378Z"
   },
   {
    "duration": 4,
    "start_time": "2022-04-17T12:30:57.137Z"
   },
   {
    "duration": 128,
    "start_time": "2022-04-17T12:30:59.603Z"
   },
   {
    "duration": 3,
    "start_time": "2022-04-17T12:31:11.051Z"
   },
   {
    "duration": 4,
    "start_time": "2022-04-17T12:31:22.405Z"
   },
   {
    "duration": 96,
    "start_time": "2022-04-17T12:39:55.968Z"
   },
   {
    "duration": 99,
    "start_time": "2022-04-17T12:40:06.474Z"
   },
   {
    "duration": 96,
    "start_time": "2022-04-17T12:40:57.928Z"
   },
   {
    "duration": 4,
    "start_time": "2022-04-17T12:42:47.634Z"
   },
   {
    "duration": 135,
    "start_time": "2022-04-17T12:42:50.324Z"
   },
   {
    "duration": 4,
    "start_time": "2022-04-17T12:42:58.228Z"
   },
   {
    "duration": 3,
    "start_time": "2022-04-17T12:43:11.591Z"
   },
   {
    "duration": 320,
    "start_time": "2022-04-17T13:05:00.681Z"
   },
   {
    "duration": 107,
    "start_time": "2022-04-17T13:05:34.790Z"
   },
   {
    "duration": 331,
    "start_time": "2022-04-17T13:10:35.208Z"
   },
   {
    "duration": 20,
    "start_time": "2022-04-17T13:11:16.305Z"
   },
   {
    "duration": 26,
    "start_time": "2022-04-17T13:14:07.121Z"
   },
   {
    "duration": 6,
    "start_time": "2022-04-17T13:14:15.019Z"
   },
   {
    "duration": 326,
    "start_time": "2022-04-17T13:15:57.702Z"
   },
   {
    "duration": 211,
    "start_time": "2022-04-17T13:16:09.210Z"
   },
   {
    "duration": 1513,
    "start_time": "2022-04-17T13:16:18.524Z"
   },
   {
    "duration": 770,
    "start_time": "2022-04-17T13:16:20.039Z"
   },
   {
    "duration": 687,
    "start_time": "2022-04-17T13:16:20.814Z"
   },
   {
    "duration": 988,
    "start_time": "2022-04-17T13:16:21.503Z"
   },
   {
    "duration": 3,
    "start_time": "2022-04-17T13:16:22.493Z"
   },
   {
    "duration": 11,
    "start_time": "2022-04-17T13:16:22.497Z"
   },
   {
    "duration": 34,
    "start_time": "2022-04-17T13:16:22.509Z"
   },
   {
    "duration": 431,
    "start_time": "2022-04-17T13:16:22.544Z"
   },
   {
    "duration": 411,
    "start_time": "2022-04-17T13:16:22.978Z"
   },
   {
    "duration": 332,
    "start_time": "2022-04-17T13:16:23.391Z"
   },
   {
    "duration": 120,
    "start_time": "2022-04-17T13:16:23.724Z"
   },
   {
    "duration": 63,
    "start_time": "2022-04-17T13:16:23.846Z"
   },
   {
    "duration": 99,
    "start_time": "2022-04-17T13:16:23.911Z"
   },
   {
    "duration": 325,
    "start_time": "2022-04-17T13:16:24.011Z"
   },
   {
    "duration": 43,
    "start_time": "2022-04-17T13:16:24.337Z"
   },
   {
    "duration": 169,
    "start_time": "2022-04-17T13:16:24.382Z"
   },
   {
    "duration": 505845,
    "start_time": "2022-04-17T13:16:24.552Z"
   },
   {
    "duration": 26876,
    "start_time": "2022-04-17T13:24:50.398Z"
   },
   {
    "duration": 1834116,
    "start_time": "2022-04-17T13:25:17.275Z"
   },
   {
    "duration": 569,
    "start_time": "2022-04-17T13:55:51.392Z"
   },
   {
    "duration": 92,
    "start_time": "2022-04-17T13:55:51.963Z"
   },
   {
    "duration": 1734,
    "start_time": "2022-04-17T13:55:52.057Z"
   },
   {
    "duration": 354,
    "start_time": "2022-04-17T13:55:53.793Z"
   },
   {
    "duration": 1648,
    "start_time": "2022-04-18T08:44:55.069Z"
   },
   {
    "duration": 781,
    "start_time": "2022-04-18T08:44:56.719Z"
   },
   {
    "duration": 703,
    "start_time": "2022-04-18T08:44:57.502Z"
   },
   {
    "duration": 955,
    "start_time": "2022-04-18T08:44:58.207Z"
   },
   {
    "duration": 17,
    "start_time": "2022-04-18T08:44:59.164Z"
   },
   {
    "duration": 12,
    "start_time": "2022-04-18T08:44:59.183Z"
   },
   {
    "duration": 32,
    "start_time": "2022-04-18T08:44:59.197Z"
   },
   {
    "duration": 458,
    "start_time": "2022-04-18T08:44:59.231Z"
   },
   {
    "duration": 437,
    "start_time": "2022-04-18T08:44:59.690Z"
   },
   {
    "duration": 347,
    "start_time": "2022-04-18T08:45:00.129Z"
   },
   {
    "duration": 125,
    "start_time": "2022-04-18T08:45:00.478Z"
   },
   {
    "duration": 76,
    "start_time": "2022-04-18T08:45:00.605Z"
   },
   {
    "duration": 105,
    "start_time": "2022-04-18T08:45:00.683Z"
   },
   {
    "duration": 454,
    "start_time": "2022-04-18T08:45:00.790Z"
   },
   {
    "duration": 589,
    "start_time": "2022-04-18T08:45:01.245Z"
   },
   {
    "duration": 118,
    "start_time": "2022-04-18T08:50:54.572Z"
   },
   {
    "duration": 3,
    "start_time": "2022-04-18T08:51:08.857Z"
   },
   {
    "duration": 2752603,
    "start_time": "2022-04-18T08:52:53.179Z"
   },
   {
    "duration": 21001,
    "start_time": "2022-04-18T09:41:24.495Z"
   },
   {
    "duration": 29647,
    "start_time": "2022-04-18T09:42:49.856Z"
   },
   {
    "duration": 622,
    "start_time": "2022-04-18T09:45:40.088Z"
   },
   {
    "duration": 92,
    "start_time": "2022-04-18T09:45:43.856Z"
   },
   {
    "duration": 2566,
    "start_time": "2022-04-18T09:45:44.608Z"
   },
   {
    "duration": 407,
    "start_time": "2022-04-18T09:51:51.986Z"
   },
   {
    "duration": 1880,
    "start_time": "2022-04-18T13:16:13.081Z"
   },
   {
    "duration": 776,
    "start_time": "2022-04-18T13:16:14.962Z"
   },
   {
    "duration": 695,
    "start_time": "2022-04-18T13:16:15.739Z"
   },
   {
    "duration": 924,
    "start_time": "2022-04-18T13:16:16.436Z"
   },
   {
    "duration": 4,
    "start_time": "2022-04-18T13:16:17.361Z"
   },
   {
    "duration": 7,
    "start_time": "2022-04-18T13:16:17.367Z"
   },
   {
    "duration": 46,
    "start_time": "2022-04-18T13:16:17.376Z"
   },
   {
    "duration": 417,
    "start_time": "2022-04-18T13:16:17.424Z"
   },
   {
    "duration": 396,
    "start_time": "2022-04-18T13:16:17.842Z"
   },
   {
    "duration": 332,
    "start_time": "2022-04-18T13:16:18.240Z"
   },
   {
    "duration": 97,
    "start_time": "2022-04-18T13:16:18.573Z"
   },
   {
    "duration": 74,
    "start_time": "2022-04-18T13:16:18.671Z"
   },
   {
    "duration": 106,
    "start_time": "2022-04-18T13:16:18.746Z"
   },
   {
    "duration": 4,
    "start_time": "2022-04-18T13:16:18.854Z"
   },
   {
    "duration": 4,
    "start_time": "2022-04-18T13:16:33.228Z"
   },
   {
    "duration": 109,
    "start_time": "2022-04-18T13:16:41.033Z"
   },
   {
    "duration": 3,
    "start_time": "2022-04-18T13:16:47.280Z"
   },
   {
    "duration": 10,
    "start_time": "2022-04-18T13:16:51.017Z"
   },
   {
    "duration": 5,
    "start_time": "2022-04-18T13:16:59.412Z"
   }
  ],
  "kernelspec": {
   "display_name": "Python 3 (ipykernel)",
   "language": "python",
   "name": "python3"
  },
  "language_info": {
   "codemirror_mode": {
    "name": "ipython",
    "version": 3
   },
   "file_extension": ".py",
   "mimetype": "text/x-python",
   "name": "python",
   "nbconvert_exporter": "python",
   "pygments_lexer": "ipython3",
   "version": "3.9.5"
  },
  "toc": {
   "base_numbering": 1,
   "nav_menu": {},
   "number_sections": true,
   "sideBar": true,
   "skip_h1_title": true,
   "title_cell": "Table of Contents",
   "title_sidebar": "Contents",
   "toc_cell": false,
   "toc_position": {
    "height": "calc(100% - 180px)",
    "left": "10px",
    "top": "150px",
    "width": "289.6px"
   },
   "toc_section_display": true,
   "toc_window_display": true
  }
 },
 "nbformat": 4,
 "nbformat_minor": 2
}
