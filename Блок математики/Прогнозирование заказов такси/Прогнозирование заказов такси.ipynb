{
 "cells": [
  {
   "cell_type": "markdown",
   "metadata": {
    "toc": true
   },
   "source": [
    "<h1>Содержание<span class=\"tocSkip\"></span></h1>\n",
    "<div class=\"toc\"><ul class=\"toc-item\"><li><span><a href=\"#Аннотация:-прогнозирование-заказов-такси\" data-toc-modified-id=\"Аннотация:-прогнозирование-заказов-такси-1\"><span class=\"toc-item-num\">1&nbsp;&nbsp;</span>Аннотация: прогнозирование заказов такси</a></span></li><li><span><a href=\"#Знакомство-с-данными\" data-toc-modified-id=\"Знакомство-с-данными-2\"><span class=\"toc-item-num\">2&nbsp;&nbsp;</span>Знакомство с данными</a></span><ul class=\"toc-item\"><li><span><a href=\"#Выводы:\" data-toc-modified-id=\"Выводы:-2.1\"><span class=\"toc-item-num\">2.1&nbsp;&nbsp;</span>Выводы:</a></span></li></ul></li><li><span><a href=\"#Обработка-данных\" data-toc-modified-id=\"Обработка-данных-3\"><span class=\"toc-item-num\">3&nbsp;&nbsp;</span>Обработка данных</a></span><ul class=\"toc-item\"><li><span><a href=\"#Выводы:\" data-toc-modified-id=\"Выводы:-3.1\"><span class=\"toc-item-num\">3.1&nbsp;&nbsp;</span>Выводы:</a></span></li></ul></li><li><span><a href=\"#Анализ-данных\" data-toc-modified-id=\"Анализ-данных-4\"><span class=\"toc-item-num\">4&nbsp;&nbsp;</span>Анализ данных</a></span><ul class=\"toc-item\"><li><span><a href=\"#Выводы:\" data-toc-modified-id=\"Выводы:-4.1\"><span class=\"toc-item-num\">4.1&nbsp;&nbsp;</span>Выводы:</a></span></li></ul></li><li><span><a href=\"#Подготовка-к-обучению-моделей\" data-toc-modified-id=\"Подготовка-к-обучению-моделей-5\"><span class=\"toc-item-num\">5&nbsp;&nbsp;</span>Подготовка к обучению моделей</a></span><ul class=\"toc-item\"><li><span><a href=\"#Выводы:\" data-toc-modified-id=\"Выводы:-5.1\"><span class=\"toc-item-num\">5.1&nbsp;&nbsp;</span>Выводы:</a></span></li></ul></li><li><span><a href=\"#Обучение-моделей\" data-toc-modified-id=\"Обучение-моделей-6\"><span class=\"toc-item-num\">6&nbsp;&nbsp;</span>Обучение моделей</a></span><ul class=\"toc-item\"><li><span><a href=\"#Выводы:\" data-toc-modified-id=\"Выводы:-6.1\"><span class=\"toc-item-num\">6.1&nbsp;&nbsp;</span>Выводы:</a></span></li></ul></li><li><span><a href=\"#Тестирование\" data-toc-modified-id=\"Тестирование-7\"><span class=\"toc-item-num\">7&nbsp;&nbsp;</span>Тестирование</a></span><ul class=\"toc-item\"><li><span><a href=\"#Выводы:\" data-toc-modified-id=\"Выводы:-7.1\"><span class=\"toc-item-num\">7.1&nbsp;&nbsp;</span>Выводы:</a></span></li></ul></li><li><span><a href=\"#Итоговые-выводы\" data-toc-modified-id=\"Итоговые-выводы-8\"><span class=\"toc-item-num\">8&nbsp;&nbsp;</span>Итоговые выводы</a></span></li></ul></div>"
   ]
  },
  {
   "cell_type": "markdown",
   "metadata": {},
   "source": [
    "##  Аннотация: прогнозирование заказов такси"
   ]
  },
  {
   "cell_type": "markdown",
   "metadata": {},
   "source": [
    "На основе исторических данных о заказах такси в аэропортах, предоставленных компанией «Чётенькое такси», нужно спрогнозировать количество заказов такси на следующий час. \n",
    "\n",
    "**Цель** проекта: построить модель, предсказывающую количество заказов такси и имеющую значение метрики *RMSE* на тестовой выборке не больше 48. \n",
    "\n",
    "**Задачи** проекта:\n",
    "- провести анализ предоставленных данных;\n",
    "- обучить разные модели с различными гиперпараметрами;\n",
    "- проверить данные на тестовой выборке и сделать выводы."
   ]
  },
  {
   "cell_type": "markdown",
   "metadata": {},
   "source": [
    "## Знакомство с данными"
   ]
  },
  {
   "cell_type": "code",
   "execution_count": 33,
   "metadata": {},
   "outputs": [],
   "source": [
    "#импортируем библиотеки и инструменты, которые понадобятся нам при выполнении проекта\n",
    "import pandas as pd\n",
    "import matplotlib.pyplot as plt\n",
    "import seaborn as sns\n",
    "import lightgbm as lgb\n",
    "import copy\n",
    "from sklearn.model_selection import train_test_split\n",
    "from statsmodels.tsa.seasonal import seasonal_decompose\n",
    "from sklearn.tree import DecisionTreeRegressor\n",
    "from sklearn.ensemble import RandomForestRegressor\n",
    "from sklearn.metrics import mean_squared_error\n",
    "from catboost import CatBoostRegressor"
   ]
  },
  {
   "cell_type": "code",
   "execution_count": 34,
   "metadata": {},
   "outputs": [],
   "source": [
    "initial_data = pd.read_csv('/datasets/taxi.csv')"
   ]
  },
  {
   "cell_type": "code",
   "execution_count": 35,
   "metadata": {},
   "outputs": [
    {
     "name": "stdout",
     "output_type": "stream",
     "text": [
      "<class 'pandas.core.frame.DataFrame'>\n",
      "RangeIndex: 26496 entries, 0 to 26495\n",
      "Data columns (total 2 columns):\n",
      " #   Column      Non-Null Count  Dtype \n",
      "---  ------      --------------  ----- \n",
      " 0   datetime    26496 non-null  object\n",
      " 1   num_orders  26496 non-null  int64 \n",
      "dtypes: int64(1), object(1)\n",
      "memory usage: 414.1+ KB\n",
      "None\n",
      "\n"
     ]
    },
    {
     "data": {
      "text/html": [
       "<div>\n",
       "<style scoped>\n",
       "    .dataframe tbody tr th:only-of-type {\n",
       "        vertical-align: middle;\n",
       "    }\n",
       "\n",
       "    .dataframe tbody tr th {\n",
       "        vertical-align: top;\n",
       "    }\n",
       "\n",
       "    .dataframe thead th {\n",
       "        text-align: right;\n",
       "    }\n",
       "</style>\n",
       "<table border=\"1\" class=\"dataframe\">\n",
       "  <thead>\n",
       "    <tr style=\"text-align: right;\">\n",
       "      <th></th>\n",
       "      <th>datetime</th>\n",
       "      <th>num_orders</th>\n",
       "    </tr>\n",
       "  </thead>\n",
       "  <tbody>\n",
       "    <tr>\n",
       "      <th>0</th>\n",
       "      <td>2018-03-01 00:00:00</td>\n",
       "      <td>9</td>\n",
       "    </tr>\n",
       "    <tr>\n",
       "      <th>1</th>\n",
       "      <td>2018-03-01 00:10:00</td>\n",
       "      <td>14</td>\n",
       "    </tr>\n",
       "    <tr>\n",
       "      <th>2</th>\n",
       "      <td>2018-03-01 00:20:00</td>\n",
       "      <td>28</td>\n",
       "    </tr>\n",
       "    <tr>\n",
       "      <th>3</th>\n",
       "      <td>2018-03-01 00:30:00</td>\n",
       "      <td>20</td>\n",
       "    </tr>\n",
       "    <tr>\n",
       "      <th>4</th>\n",
       "      <td>2018-03-01 00:40:00</td>\n",
       "      <td>32</td>\n",
       "    </tr>\n",
       "    <tr>\n",
       "      <th>5</th>\n",
       "      <td>2018-03-01 00:50:00</td>\n",
       "      <td>21</td>\n",
       "    </tr>\n",
       "    <tr>\n",
       "      <th>6</th>\n",
       "      <td>2018-03-01 01:00:00</td>\n",
       "      <td>7</td>\n",
       "    </tr>\n",
       "    <tr>\n",
       "      <th>7</th>\n",
       "      <td>2018-03-01 01:10:00</td>\n",
       "      <td>5</td>\n",
       "    </tr>\n",
       "    <tr>\n",
       "      <th>8</th>\n",
       "      <td>2018-03-01 01:20:00</td>\n",
       "      <td>17</td>\n",
       "    </tr>\n",
       "    <tr>\n",
       "      <th>9</th>\n",
       "      <td>2018-03-01 01:30:00</td>\n",
       "      <td>12</td>\n",
       "    </tr>\n",
       "  </tbody>\n",
       "</table>\n",
       "</div>"
      ],
      "text/plain": [
       "              datetime  num_orders\n",
       "0  2018-03-01 00:00:00           9\n",
       "1  2018-03-01 00:10:00          14\n",
       "2  2018-03-01 00:20:00          28\n",
       "3  2018-03-01 00:30:00          20\n",
       "4  2018-03-01 00:40:00          32\n",
       "5  2018-03-01 00:50:00          21\n",
       "6  2018-03-01 01:00:00           7\n",
       "7  2018-03-01 01:10:00           5\n",
       "8  2018-03-01 01:20:00          17\n",
       "9  2018-03-01 01:30:00          12"
      ]
     },
     "metadata": {},
     "output_type": "display_data"
    },
    {
     "name": "stdout",
     "output_type": "stream",
     "text": [
      "\n"
     ]
    },
    {
     "data": {
      "text/html": [
       "<div>\n",
       "<style scoped>\n",
       "    .dataframe tbody tr th:only-of-type {\n",
       "        vertical-align: middle;\n",
       "    }\n",
       "\n",
       "    .dataframe tbody tr th {\n",
       "        vertical-align: top;\n",
       "    }\n",
       "\n",
       "    .dataframe thead th {\n",
       "        text-align: right;\n",
       "    }\n",
       "</style>\n",
       "<table border=\"1\" class=\"dataframe\">\n",
       "  <thead>\n",
       "    <tr style=\"text-align: right;\">\n",
       "      <th></th>\n",
       "      <th>num_orders</th>\n",
       "    </tr>\n",
       "  </thead>\n",
       "  <tbody>\n",
       "    <tr>\n",
       "      <th>count</th>\n",
       "      <td>26496.000000</td>\n",
       "    </tr>\n",
       "    <tr>\n",
       "      <th>mean</th>\n",
       "      <td>14.070463</td>\n",
       "    </tr>\n",
       "    <tr>\n",
       "      <th>std</th>\n",
       "      <td>9.211330</td>\n",
       "    </tr>\n",
       "    <tr>\n",
       "      <th>min</th>\n",
       "      <td>0.000000</td>\n",
       "    </tr>\n",
       "    <tr>\n",
       "      <th>25%</th>\n",
       "      <td>8.000000</td>\n",
       "    </tr>\n",
       "    <tr>\n",
       "      <th>50%</th>\n",
       "      <td>13.000000</td>\n",
       "    </tr>\n",
       "    <tr>\n",
       "      <th>75%</th>\n",
       "      <td>19.000000</td>\n",
       "    </tr>\n",
       "    <tr>\n",
       "      <th>max</th>\n",
       "      <td>119.000000</td>\n",
       "    </tr>\n",
       "  </tbody>\n",
       "</table>\n",
       "</div>"
      ],
      "text/plain": [
       "         num_orders\n",
       "count  26496.000000\n",
       "mean      14.070463\n",
       "std        9.211330\n",
       "min        0.000000\n",
       "25%        8.000000\n",
       "50%       13.000000\n",
       "75%       19.000000\n",
       "max      119.000000"
      ]
     },
     "metadata": {},
     "output_type": "display_data"
    },
    {
     "name": "stdout",
     "output_type": "stream",
     "text": [
      "\n",
      "Количество явных дубликатов: 0\n"
     ]
    }
   ],
   "source": [
    "#выводим основную информацию об исходном датасете\n",
    "print(initial_data.info())\n",
    "print()\n",
    "display(initial_data.head(10))\n",
    "print()\n",
    "display(initial_data.describe()) \n",
    "print()\n",
    "print('Количество явных дубликатов:', initial_data.duplicated().sum())"
   ]
  },
  {
   "cell_type": "markdown",
   "metadata": {},
   "source": [
    "### Выводы:"
   ]
  },
  {
   "cell_type": "markdown",
   "metadata": {},
   "source": [
    "Данные выглядят готовыми для дальнейшей работы, пропусков и явных дубликатов нет, однако смущает максимальное значение в столбце с количеством заказов.\n",
    "\n",
    "На следующем этапе проверим данные на наличие выбросов и ресемплируем по одному часу."
   ]
  },
  {
   "cell_type": "markdown",
   "metadata": {},
   "source": [
    "## Обработка данных"
   ]
  },
  {
   "cell_type": "code",
   "execution_count": 36,
   "metadata": {},
   "outputs": [
    {
     "data": {
      "image/png": "[encoded data removed]",
      "text/plain": [
       "<Figure size 504x504 with 1 Axes>"
      ]
     },
     "metadata": {},
     "output_type": "display_data"
    }
   ],
   "source": [
    "#проверим данные на наличие выбросов\n",
    "initial_data.hist('num_orders', bins=20, figsize=(7,7))\n",
    "plt.title('Количество заказов такси')\n",
    "plt.show()"
   ]
  },
  {
   "cell_type": "markdown",
   "metadata": {},
   "source": [
    "Данные скошены вправо, но аномальных значений, на мой взгляд, в них нет: вполне логично, что в определенное время суток потребность в услугах такси снижается до нуля, а в \"часы-пик\" взлетает до значениq в 60 и более заказов.\n",
    "\n",
    "Далее ресемплируем наши данные по одному часу. Дабы сохранить исходную таблицу и не копировать ее, переоткроем данные заново и в дальнейшем будем работать с фреймом data."
   ]
  },
  {
   "cell_type": "code",
   "execution_count": 37,
   "metadata": {},
   "outputs": [],
   "source": [
    "data = pd.read_csv('/datasets/taxi.csv', index_col=[0], parse_dates=[0])\n",
    "data.sort_index(inplace=True)\n",
    "data_hour = data.resample('1H').sum()"
   ]
  },
  {
   "cell_type": "markdown",
   "metadata": {},
   "source": [
    "### Выводы:"
   ]
  },
  {
   "cell_type": "markdown",
   "metadata": {},
   "source": [
    "Мы проверили исходные данные на выбросы, отметили их скошенность, но значения вполне укладываются в норму и не выглядят ономальными в контексте задачи. \n",
    "\n",
    "Кроме того мы ресемплировали исходные данные для удобства их дальнейшего использования в создании моделей.\n",
    "\n",
    "На следующем этапе произведем анализ предоставленных компанией данных."
   ]
  },
  {
   "cell_type": "markdown",
   "metadata": {},
   "source": [
    "## Анализ данных"
   ]
  },
  {
   "cell_type": "markdown",
   "metadata": {},
   "source": [
    "Начнем анализ с выявления тренда и сезонности, прослеживающихся в данных. Для этого построим графики, применив специальную функцию seasonal_decompose()."
   ]
  },
  {
   "cell_type": "code",
   "execution_count": 38,
   "metadata": {},
   "outputs": [
    {
     "data": {
      "image/png": "[encoded data removed]",
      "text/plain": [
       "<Figure size 504x1008 with 3 Axes>"
      ]
     },
     "metadata": {},
     "output_type": "display_data"
    }
   ],
   "source": [
    "decomposed = seasonal_decompose(data_hour) #раскладываем данные на тренд, сезонность и остаток.\n",
    "\n",
    "plt.figure(figsize=(7, 14)) #строим графики для визуализации и упрощения анализа результатов\n",
    "plt.subplot(311)\n",
    "decomposed.trend.plot(ax=plt.gca())\n",
    "plt.title('Trend')\n",
    "plt.subplot(312)\n",
    "decomposed.seasonal.plot(ax=plt.gca()) \n",
    "plt.title('Seasonality')\n",
    "plt.subplot(313)\n",
    "decomposed.resid.plot(ax=plt.gca()) \n",
    "plt.title('Residuals')\n",
    "plt.tight_layout()"
   ]
  },
  {
   "cell_type": "markdown",
   "metadata": {},
   "source": [
    "Графики получились не очень наглядными: виден тренд на увеличение заказов такси в течение рассматриваемого периода, определить сезонность не представляется возможным, шум не интерпритируется.\n",
    "\n",
    "Попробуем взять более короткий период, например, первые пять дней августа, для выявления сезонности:"
   ]
  },
  {
   "cell_type": "code",
   "execution_count": 39,
   "metadata": {},
   "outputs": [
    {
     "data": {
      "text/plain": [
       "<AxesSubplot:xlabel='datetime'>"
      ]
     },
     "execution_count": 39,
     "metadata": {},
     "output_type": "execute_result"
    },
    {
     "data": {
      "image/png": "[encoded data removed]",
      "text/plain": [
       "<Figure size 432x288 with 1 Axes>"
      ]
     },
     "metadata": {},
     "output_type": "display_data"
    }
   ],
   "source": [
    "decomposed.seasonal['2018-08-01':'2018-08-05'].plot()"
   ]
  },
  {
   "cell_type": "markdown",
   "metadata": {},
   "source": [
    "Теперь график наглядно показывает сезонность:\n",
    "- пик заказов приходится на полночь;\n",
    "- примерно после 2:30 начинается спад, и минимум заказов приходится на 6 утра;\n",
    "- затем происходит резкий рост количества заказов вплоть до 10 часов утра;\n",
    "- вновь спад, и следующий пик приходится примерно на 16 часов дня;\n",
    "- начиная с 18 часов постепенное увеличение количества заказов вплоть до максимума в полночь.\n",
    "\n",
    "Т.е. сезонные колебания количества заказов такси зависят от времени суток.\n",
    "\n",
    "Теперь посмотрим динамику заказов внутри месяца. Ресемплируем даты по неделе и построим график. Возьмем данные за два месяца для сравнения, например, за май и август."
   ]
  },
  {
   "cell_type": "code",
   "execution_count": 40,
   "metadata": {},
   "outputs": [
    {
     "data": {
      "image/png": "[encoded data removed]",
      "text/plain": [
       "<Figure size 432x288 with 1 Axes>"
      ]
     },
     "metadata": {},
     "output_type": "display_data"
    },
    {
     "data": {
      "image/png": "[encoded data removed]",
      "text/plain": [
       "<Figure size 432x288 with 1 Axes>"
      ]
     },
     "metadata": {},
     "output_type": "display_data"
    }
   ],
   "source": [
    "data_may = data['2018-05-01':'2018-05-31'].resample('1W').sum()\n",
    "data_may['rolling_mean'] = data_may.rolling(2).mean()\n",
    "\n",
    "sns.set_style(\"whitegrid\")\n",
    "sns.lineplot(data = data_may, x = \"datetime\", y =\"num_orders\", color='#f04fc2', label=\"Количество заказов\")\n",
    "sns.lineplot(data = data_may, x = \"datetime\", y =\"rolling_mean\", color='#3c8be5', label=\"Скользящее среднее\")\n",
    "plt.title('Динамика заказов в мае')\n",
    "plt.legend()\n",
    "plt.xticks(rotation=45)\n",
    "plt.show()\n",
    "\n",
    "data_august = data['2018-08-01':'2018-08-30'].resample('1W').sum()\n",
    "data_august['rolling_mean'] = data_august.rolling(2).mean()\n",
    "\n",
    "sns.lineplot(data = data_august, x = \"datetime\", y =\"num_orders\", color='#f04fc2', label=\"Количество заказов\")\n",
    "sns.lineplot(data = data_august, x = \"datetime\", y =\"rolling_mean\", color='#3c8be5', label=\"Скользящее среднее\")\n",
    "plt.title('Динамика заказов в августе')\n",
    "plt.legend()\n",
    "plt.xticks(rotation=45)\n",
    "plt.show()"
   ]
  },
  {
   "cell_type": "markdown",
   "metadata": {},
   "source": [
    "Графики очень похожи между собой, четко видны закономерности:\n",
    "- с начала месяца количество заказов постоянно растет;\n",
    "- примерно 26-27 числа наступает пик, после которого количество заказов начинает резко снижаться.\n",
    "\n",
    "Теперь посмотрим, как меняется количество заказов такси в течение недели. Сравним первую и последнюю полные недели августа."
   ]
  },
  {
   "cell_type": "code",
   "execution_count": 41,
   "metadata": {},
   "outputs": [
    {
     "data": {
      "image/png": "[encoded data removed]",
      "text/plain": [
       "<Figure size 432x288 with 1 Axes>"
      ]
     },
     "metadata": {},
     "output_type": "display_data"
    },
    {
     "data": {
      "image/png": "[encoded data removed]",
      "text/plain": [
       "<Figure size 432x288 with 1 Axes>"
      ]
     },
     "metadata": {},
     "output_type": "display_data"
    }
   ],
   "source": [
    "data_week_one = data['2018-08-06':'2018-08-12'].resample('1D').sum()\n",
    "data_week_one['rolling_mean'] = data_week_one.rolling(2).mean()\n",
    "\n",
    "sns.lineplot(data = data_week_one, x = \"datetime\", y =\"num_orders\", color='#f04fc2', label=\"Количество заказов\")\n",
    "sns.lineplot(data = data_week_one, x = \"datetime\", y =\"rolling_mean\", color='#3c8be5', label=\"Скользящее среднее\")\n",
    "plt.title('Динамика заказов в первую неделю августа')\n",
    "plt.legend()\n",
    "plt.xticks(rotation=45)\n",
    "plt.show()\n",
    "\n",
    "\n",
    "data_week_two = data['2018-08-20':'2018-08-26'].resample('1D').sum()\n",
    "data_week_two['rolling_mean'] = data_week_two.rolling(2).mean()\n",
    "\n",
    "sns.lineplot(data = data_week_two, x = \"datetime\", y =\"num_orders\", color='#f04fc2', label=\"Количество заказов\")\n",
    "sns.lineplot(data = data_week_two, x = \"datetime\", y =\"rolling_mean\", color='#3c8be5', label=\"Скользящее среднее\")\n",
    "plt.title('Динамика заказов в последнюю неделю августа')\n",
    "plt.legend()\n",
    "plt.xticks(rotation=45)\n",
    "plt.show()"
   ]
  },
  {
   "cell_type": "markdown",
   "metadata": {},
   "source": [
    "В данном случае графики сильно отличаются, говорить о закономерностях преждевременно. Посмотрим на динамику заказов в течение недели другого месяца - мая."
   ]
  },
  {
   "cell_type": "code",
   "execution_count": 42,
   "metadata": {},
   "outputs": [
    {
     "data": {
      "image/png": "[encoded data removed]",
      "text/plain": [
       "<Figure size 432x288 with 1 Axes>"
      ]
     },
     "metadata": {},
     "output_type": "display_data"
    }
   ],
   "source": [
    "data_week_three = data['2018-05-14':'2018-05-20'].resample('1D').sum()\n",
    "data_week_three['rolling_mean'] = data_week_three.rolling(2).mean()\n",
    "\n",
    "sns.lineplot(data = data_week_three, x = \"datetime\", y =\"num_orders\", color='#f04fc2', label=\"Количество заказов\")\n",
    "sns.lineplot(data = data_week_three, x = \"datetime\", y =\"rolling_mean\", color='#3c8be5', label=\"Скользящее среднее\")\n",
    "plt.title('Динамика заказов в середине мая')\n",
    "plt.legend()\n",
    "plt.xticks(rotation=45)\n",
    "plt.show()"
   ]
  },
  {
   "cell_type": "markdown",
   "metadata": {},
   "source": [
    "Третий график подтверждает, что динамика количества заказов такси меняется от неделе к неделе, однако определенные закономерности все же присутствуют. Меньше всего заказов приходится на вторник. Понедельник стабильно в топе, также в двух неделях из трех максимальное количество заказов приходится на пятницу."
   ]
  },
  {
   "cell_type": "markdown",
   "metadata": {},
   "source": [
    "### Выводы:"
   ]
  },
  {
   "cell_type": "markdown",
   "metadata": {},
   "source": [
    "На данном этапе мы провели анализ исходных данных, который позволил выявить следующие особенности:\n",
    "- существует тренд на увеличение заказов такси с течением времени;\n",
    "- сезонные колебания количества заказов зависят от времени суток;\n",
    "- каждый месяц начинается с роста количества заказов такси вплоть до 26-27 числа, после которых начинается резкое снижение;\n",
    "- реже всего такси в аэропортах заказывают во вторник, чаще в понедельник и пятницу.\n",
    "\n",
    "Теперь, когда мы тщательно изучили имеющиеся данные в различных разрезах, можем перейти к обучению моделей."
   ]
  },
  {
   "cell_type": "markdown",
   "metadata": {},
   "source": [
    "## Подготовка к обучению моделей"
   ]
  },
  {
   "cell_type": "markdown",
   "metadata": {},
   "source": [
    "Прежде, чем начать обучение, необходимо скорректировать и дополнить данные, чтобы улучшить их качество. Для начала пропишем функцию, для создания признаков: календарных (час, месяц, день и день недели), отстающих значений и скользящего среднего. \n",
    "\n",
    "При создании отстающих значений учтем результаты анализа данных, проведенного ранее, а именно выявленную сезонность. Пик заказов приходится на полночь (24 часа), минимум - на 6 часов утра. Третьим значением возьмем 12, как связанное удвоением с этими значениями. \n",
    "\n",
    "При добавлении скользящего среднего учтем, что текущее значение ряда для расчёта применять нельзя, применим метод shift()."
   ]
  },
  {
   "cell_type": "code",
   "execution_count": 43,
   "metadata": {},
   "outputs": [
    {
     "data": {
      "text/html": [
       "<div>\n",
       "<style scoped>\n",
       "    .dataframe tbody tr th:only-of-type {\n",
       "        vertical-align: middle;\n",
       "    }\n",
       "\n",
       "    .dataframe tbody tr th {\n",
       "        vertical-align: top;\n",
       "    }\n",
       "\n",
       "    .dataframe thead th {\n",
       "        text-align: right;\n",
       "    }\n",
       "</style>\n",
       "<table border=\"1\" class=\"dataframe\">\n",
       "  <thead>\n",
       "    <tr style=\"text-align: right;\">\n",
       "      <th></th>\n",
       "      <th>num_orders</th>\n",
       "      <th>hour</th>\n",
       "      <th>month</th>\n",
       "      <th>day</th>\n",
       "      <th>dayofweek</th>\n",
       "      <th>lag_6</th>\n",
       "      <th>lag_12</th>\n",
       "      <th>lag_24</th>\n",
       "      <th>rolling_mean</th>\n",
       "    </tr>\n",
       "    <tr>\n",
       "      <th>datetime</th>\n",
       "      <th></th>\n",
       "      <th></th>\n",
       "      <th></th>\n",
       "      <th></th>\n",
       "      <th></th>\n",
       "      <th></th>\n",
       "      <th></th>\n",
       "      <th></th>\n",
       "      <th></th>\n",
       "    </tr>\n",
       "  </thead>\n",
       "  <tbody>\n",
       "    <tr>\n",
       "      <th>2018-03-02 00:00:00</th>\n",
       "      <td>90</td>\n",
       "      <td>0</td>\n",
       "      <td>3</td>\n",
       "      <td>2</td>\n",
       "      <td>4</td>\n",
       "      <td>73.0</td>\n",
       "      <td>30.0</td>\n",
       "      <td>124.0</td>\n",
       "      <td>69.333333</td>\n",
       "    </tr>\n",
       "    <tr>\n",
       "      <th>2018-03-02 01:00:00</th>\n",
       "      <td>120</td>\n",
       "      <td>1</td>\n",
       "      <td>3</td>\n",
       "      <td>2</td>\n",
       "      <td>4</td>\n",
       "      <td>45.0</td>\n",
       "      <td>32.0</td>\n",
       "      <td>85.0</td>\n",
       "      <td>72.166667</td>\n",
       "    </tr>\n",
       "    <tr>\n",
       "      <th>2018-03-02 02:00:00</th>\n",
       "      <td>75</td>\n",
       "      <td>2</td>\n",
       "      <td>3</td>\n",
       "      <td>2</td>\n",
       "      <td>4</td>\n",
       "      <td>61.0</td>\n",
       "      <td>48.0</td>\n",
       "      <td>71.0</td>\n",
       "      <td>84.666667</td>\n",
       "    </tr>\n",
       "    <tr>\n",
       "      <th>2018-03-02 03:00:00</th>\n",
       "      <td>64</td>\n",
       "      <td>3</td>\n",
       "      <td>3</td>\n",
       "      <td>2</td>\n",
       "      <td>4</td>\n",
       "      <td>66.0</td>\n",
       "      <td>66.0</td>\n",
       "      <td>66.0</td>\n",
       "      <td>87.000000</td>\n",
       "    </tr>\n",
       "    <tr>\n",
       "      <th>2018-03-02 04:00:00</th>\n",
       "      <td>20</td>\n",
       "      <td>4</td>\n",
       "      <td>3</td>\n",
       "      <td>2</td>\n",
       "      <td>4</td>\n",
       "      <td>113.0</td>\n",
       "      <td>43.0</td>\n",
       "      <td>43.0</td>\n",
       "      <td>86.666667</td>\n",
       "    </tr>\n",
       "  </tbody>\n",
       "</table>\n",
       "</div>"
      ],
      "text/plain": [
       "                     num_orders  hour  month  day  dayofweek  lag_6  lag_12  \\\n",
       "datetime                                                                      \n",
       "2018-03-02 00:00:00          90     0      3    2          4   73.0    30.0   \n",
       "2018-03-02 01:00:00         120     1      3    2          4   45.0    32.0   \n",
       "2018-03-02 02:00:00          75     2      3    2          4   61.0    48.0   \n",
       "2018-03-02 03:00:00          64     3      3    2          4   66.0    66.0   \n",
       "2018-03-02 04:00:00          20     4      3    2          4  113.0    43.0   \n",
       "\n",
       "                     lag_24  rolling_mean  \n",
       "datetime                                   \n",
       "2018-03-02 00:00:00   124.0     69.333333  \n",
       "2018-03-02 01:00:00    85.0     72.166667  \n",
       "2018-03-02 02:00:00    71.0     84.666667  \n",
       "2018-03-02 03:00:00    66.0     87.000000  \n",
       "2018-03-02 04:00:00    43.0     86.666667  "
      ]
     },
     "metadata": {},
     "output_type": "display_data"
    }
   ],
   "source": [
    "def make_features(data, rolling_mean_size): #создаем функцию\n",
    "    new_data = copy.deepcopy(data)\n",
    "    new_data['hour'] = data.index.hour\n",
    "    new_data['month'] = data.index.month\n",
    "    new_data['day'] = data.index.day\n",
    "    new_data['dayofweek'] = data.index.dayofweek\n",
    "    \n",
    "    new_data['lag_6'] = new_data['num_orders'].shift(6)\n",
    "    new_data['lag_12'] = new_data['num_orders'].shift(12)\n",
    "    new_data['lag_24'] = new_data['num_orders'].shift(24)\n",
    "\n",
    "    new_data['rolling_mean'] = new_data['num_orders'].shift().rolling(rolling_mean_size).mean()\n",
    "\n",
    "make_features(data_hour, 6) #применяем к ресемплированным данным\n",
    "new_data = new_data.dropna() #избавляемся от появившихся пропусков\n",
    "display(new_data.head()) #выводим результат на экран"
   ]
  },
  {
   "cell_type": "markdown",
   "metadata": {},
   "source": [
    "Теперь разделим данные на признаки и целевой признак, а также на обучающую, валидационную и тестовые выборки, помня о том, что последняя должна составлять 10% от исходных данных."
   ]
  },
  {
   "cell_type": "code",
   "execution_count": 44,
   "metadata": {},
   "outputs": [
    {
     "name": "stdout",
     "output_type": "stream",
     "text": [
      "(3512, 8) (440, 8) (440, 8)\n"
     ]
    }
   ],
   "source": [
    "#выделяем признаки и целевой признак\n",
    "features = new_data.drop('num_orders', axis=1)\n",
    "target = new_data['num_orders']\n",
    "\n",
    "#делим данные на выборки\n",
    "features, features_test, target, target_test = train_test_split(features, target, test_size = 0.1, shuffle = False)\n",
    "features_train, features_valid, target_train, target_valid = train_test_split(features, target, test_size = 0.1111, shuffle = False)\n",
    "\n",
    "print(features_train.shape, features_test.shape,  features_valid.shape) #проверяем оотношение"
   ]
  },
  {
   "cell_type": "markdown",
   "metadata": {},
   "source": [
    "### Выводы:"
   ]
  },
  {
   "cell_type": "markdown",
   "metadata": {},
   "source": [
    "Данные полностью готовы к обучению моделей: созданы дополнительные признаки, из датасета выделен целевой признак, данные разделены на выборки.\n",
    "    \n",
    "Переходим к этапу обучения."
   ]
  },
  {
   "cell_type": "markdown",
   "metadata": {},
   "source": [
    "## Обучение моделей"
   ]
  },
  {
   "cell_type": "markdown",
   "metadata": {},
   "source": [
    "В данном проекте мы будем работать с моделями, знакомство с которыми состоялось в предыдущих проектах и которые показали высокие результаты: случайный лес, CatBoost, LGB. К ним присоединится и самая первая модель машинного обучения, которая была представлена в курсе - модель дерева решений. С большой долей вероятности, она не покажет впечатляющих результатов, но пригодится для сравнения. \n",
    "\n",
    "С нее и начнем."
   ]
  },
  {
   "cell_type": "code",
   "execution_count": 45,
   "metadata": {},
   "outputs": [
    {
     "name": "stdout",
     "output_type": "stream",
     "text": [
      "Лучшая глубина модели: 5\n",
      "Лучший результат решающего дерева: 37.907\n"
     ]
    }
   ],
   "source": [
    "#обучаем дерево решений\n",
    "best_tree_model = None\n",
    "best_tree_result = 10000\n",
    "best_tree_depth = 0\n",
    "\n",
    "for depth in range(1, 21):\n",
    "            model_tree = DecisionTreeRegressor(random_state=12345,  max_depth=depth)\n",
    "            model_tree.fit(features_train, target_train)\n",
    "            predictions_valid = model_tree.predict(features_valid)\n",
    "            result_tree = (mean_squared_error(target_valid, predictions_valid))**0.5\n",
    "            if result_tree < best_tree_result:\n",
    "                best_tree_model = model_tree\n",
    "                best_tree_result = result_tree\n",
    "                best_tree_depth = depth\n",
    "                \n",
    "print('Лучшая глубина модели:', best_tree_depth)\n",
    "print('Лучший результат решающего дерева:', best_tree_result.round(3))"
   ]
  },
  {
   "cell_type": "code",
   "execution_count": 46,
   "metadata": {},
   "outputs": [
    {
     "name": "stdout",
     "output_type": "stream",
     "text": [
      "Лучшее количество деревьев: 51\n",
      "Лучшая глубина модели: 25\n",
      "Лучший результат случайного леса: 32.709\n"
     ]
    }
   ],
   "source": [
    "#обучаем случайный лес\n",
    "best_forest_model = None\n",
    "best_forest_result = 10000\n",
    "best_forest_estimators = 0\n",
    "best_forest_depth = 0\n",
    "\n",
    "for est in range(1, 61, 10):\n",
    "    for depth in range(1, 31):\n",
    "            model_forest = RandomForestRegressor(random_state=12345, n_estimators=est, max_depth=depth)\n",
    "            model_forest.fit(features_train, target_train)\n",
    "            predictions_valid = model_forest.predict(features_valid)\n",
    "            result_forest = (mean_squared_error(target_valid, predictions_valid))**0.5\n",
    "            if result_forest < best_forest_result:\n",
    "                best_forest_model = model_forest\n",
    "                best_forest_result = result_forest\n",
    "                best_forest_estimators = est\n",
    "                best_forest_depth = depth\n",
    "                \n",
    "print('Лучшее количество деревьев:', best_forest_estimators)\n",
    "print('Лучшая глубина модели:', best_forest_depth)\n",
    "print('Лучший результат случайного леса:', best_forest_result.round(3))"
   ]
  },
  {
   "cell_type": "markdown",
   "metadata": {},
   "source": [
    "Для первых двух моделей лучшие значения гиперпараметров были подобраны автоматически, с помощью циклов. Значения параметров для оставшихся моделей будут подбираться через ручной перебор."
   ]
  },
  {
   "cell_type": "code",
   "execution_count": 47,
   "metadata": {},
   "outputs": [
    {
     "name": "stdout",
     "output_type": "stream",
     "text": [
      "31.155\n"
     ]
    }
   ],
   "source": [
    "#обучаем CatBoost\n",
    "cat_model = CatBoostRegressor(loss_function = 'RMSE', iterations = 1000, depth = 6, learning_rate = 0.03)\n",
    "cat_model.fit(features_train, target_train, verbose = False)\n",
    "pred_valid = cat_model.predict(features_valid) \n",
    "cat_result = round(((mean_squared_error(target_valid, pred_valid))**0.5), 3)\n",
    "print(cat_result)"
   ]
  },
  {
   "cell_type": "code",
   "execution_count": 48,
   "metadata": {},
   "outputs": [
    {
     "name": "stdout",
     "output_type": "stream",
     "text": [
      "[LightGBM] [Warning] Auto-choosing col-wise multi-threading, the overhead of testing was 0.206657 seconds.\n",
      "You can set `force_col_wise=true` to remove the overhead.\n",
      "[LightGBM] [Info] Total Bins 852\n",
      "[LightGBM] [Info] Number of data points in the train set: 3512, number of used features: 8\n",
      "[LightGBM] [Info] Start training from score 74.420273\n",
      "[1]\tvalid_0's rmse: 55.5686\n",
      "[2]\tvalid_0's rmse: 53.1306\n",
      "[3]\tvalid_0's rmse: 50.86\n",
      "[4]\tvalid_0's rmse: 48.8292\n",
      "[5]\tvalid_0's rmse: 47.2025\n",
      "[6]\tvalid_0's rmse: 45.7028\n",
      "[7]\tvalid_0's rmse: 44.2712\n",
      "[8]\tvalid_0's rmse: 43.0358\n",
      "[9]\tvalid_0's rmse: 41.9764\n",
      "[10]\tvalid_0's rmse: 41.198\n",
      "[11]\tvalid_0's rmse: 40.2936\n",
      "[12]\tvalid_0's rmse: 39.5693\n",
      "[13]\tvalid_0's rmse: 38.7633\n",
      "[14]\tvalid_0's rmse: 38.1556\n",
      "[15]\tvalid_0's rmse: 37.5487\n",
      "[16]\tvalid_0's rmse: 37.0026\n",
      "[17]\tvalid_0's rmse: 36.5461\n",
      "[18]\tvalid_0's rmse: 36.1573\n",
      "[19]\tvalid_0's rmse: 35.823\n",
      "[20]\tvalid_0's rmse: 35.5385\n",
      "[21]\tvalid_0's rmse: 35.2675\n",
      "[22]\tvalid_0's rmse: 35.0917\n",
      "[23]\tvalid_0's rmse: 34.6802\n",
      "[24]\tvalid_0's rmse: 34.5329\n",
      "[25]\tvalid_0's rmse: 34.2301\n",
      "[26]\tvalid_0's rmse: 34.0911\n",
      "[27]\tvalid_0's rmse: 33.9957\n",
      "[28]\tvalid_0's rmse: 33.8023\n",
      "[29]\tvalid_0's rmse: 33.5836\n",
      "[30]\tvalid_0's rmse: 33.4836\n",
      "[31]\tvalid_0's rmse: 33.4067\n",
      "[32]\tvalid_0's rmse: 33.367\n",
      "[33]\tvalid_0's rmse: 33.1851\n",
      "[34]\tvalid_0's rmse: 33.0656\n",
      "[35]\tvalid_0's rmse: 32.9765\n",
      "[36]\tvalid_0's rmse: 32.8603\n",
      "[37]\tvalid_0's rmse: 32.716\n",
      "[38]\tvalid_0's rmse: 32.6707\n",
      "[39]\tvalid_0's rmse: 32.5403\n",
      "[40]\tvalid_0's rmse: 32.4394\n",
      "[41]\tvalid_0's rmse: 32.3947\n",
      "[42]\tvalid_0's rmse: 32.4131\n",
      "[43]\tvalid_0's rmse: 32.362\n",
      "[44]\tvalid_0's rmse: 32.3265\n",
      "[45]\tvalid_0's rmse: 32.2732\n",
      "[46]\tvalid_0's rmse: 32.1937\n",
      "[47]\tvalid_0's rmse: 32.0896\n",
      "[48]\tvalid_0's rmse: 32.0828\n",
      "[49]\tvalid_0's rmse: 31.969\n",
      "[50]\tvalid_0's rmse: 31.9628\n",
      "[51]\tvalid_0's rmse: 31.9253\n",
      "[52]\tvalid_0's rmse: 31.9605\n",
      "[53]\tvalid_0's rmse: 31.9151\n",
      "[54]\tvalid_0's rmse: 31.8767\n",
      "[55]\tvalid_0's rmse: 31.8641\n",
      "[56]\tvalid_0's rmse: 31.8995\n",
      "[57]\tvalid_0's rmse: 31.8778\n",
      "[58]\tvalid_0's rmse: 31.8123\n",
      "[59]\tvalid_0's rmse: 31.7609\n",
      "[60]\tvalid_0's rmse: 31.6895\n",
      "[61]\tvalid_0's rmse: 31.6823\n",
      "[62]\tvalid_0's rmse: 31.708\n",
      "[63]\tvalid_0's rmse: 31.6694\n",
      "[64]\tvalid_0's rmse: 31.6686\n",
      "[65]\tvalid_0's rmse: 31.6478\n",
      "[66]\tvalid_0's rmse: 31.6439\n",
      "[67]\tvalid_0's rmse: 31.6111\n",
      "[68]\tvalid_0's rmse: 31.6147\n",
      "[69]\tvalid_0's rmse: 31.6426\n",
      "[70]\tvalid_0's rmse: 31.6178\n",
      "[71]\tvalid_0's rmse: 31.62\n",
      "[72]\tvalid_0's rmse: 31.632\n",
      "[73]\tvalid_0's rmse: 31.6529\n",
      "[74]\tvalid_0's rmse: 31.6186\n",
      "[75]\tvalid_0's rmse: 31.6713\n",
      "[76]\tvalid_0's rmse: 31.5879\n",
      "[77]\tvalid_0's rmse: 31.5482\n",
      "[78]\tvalid_0's rmse: 31.5547\n",
      "[79]\tvalid_0's rmse: 31.5376\n",
      "[80]\tvalid_0's rmse: 31.5324\n",
      "[81]\tvalid_0's rmse: 31.4928\n",
      "[82]\tvalid_0's rmse: 31.4959\n",
      "[83]\tvalid_0's rmse: 31.4912\n",
      "[84]\tvalid_0's rmse: 31.4355\n",
      "[85]\tvalid_0's rmse: 31.4182\n",
      "[86]\tvalid_0's rmse: 31.4328\n",
      "[87]\tvalid_0's rmse: 31.4133\n",
      "[88]\tvalid_0's rmse: 31.41\n",
      "[89]\tvalid_0's rmse: 31.3867\n",
      "[90]\tvalid_0's rmse: 31.4457\n",
      "[91]\tvalid_0's rmse: 31.4332\n",
      "[92]\tvalid_0's rmse: 31.4893\n",
      "[93]\tvalid_0's rmse: 31.4551\n",
      "[94]\tvalid_0's rmse: 31.459\n",
      "[95]\tvalid_0's rmse: 31.4054\n",
      "[96]\tvalid_0's rmse: 31.3839\n",
      "[97]\tvalid_0's rmse: 31.4023\n",
      "[98]\tvalid_0's rmse: 31.3989\n",
      "[99]\tvalid_0's rmse: 31.422\n",
      "[100]\tvalid_0's rmse: 31.4257\n",
      "31.426\n"
     ]
    }
   ],
   "source": [
    "#обучаем LGB\n",
    "train_data = lgb.Dataset(features_train, target_train)\n",
    "validation_data = lgb.Dataset(features_valid, target_valid)\n",
    "params_lgb = {'objective': 'regression', 'metric': 'root_mean_squared_error'}\n",
    "\n",
    "lgb_model = lgb.train(params_lgb, train_data, num_boost_round = 100, valid_sets = (validation_data))\n",
    "lgb_predictions = lgb_model.predict(features_valid)\n",
    "lgb_result = round(((mean_squared_error(target_valid, lgb_predictions))**0.5), 3)\n",
    "print(lgb_result)"
   ]
  },
  {
   "cell_type": "markdown",
   "metadata": {},
   "source": [
    "### Выводы:"
   ]
  },
  {
   "cell_type": "markdown",
   "metadata": {},
   "source": [
    "Как и было предсказано, результат модели дерева решений на валидационной выборке значительно уступил остальным. Однако, вполне возможно, что на тестовой она покажет себя лучше. \n",
    "\n",
    "Наилучший результат у CatBoost, впрочем LGB-модель уступила ей совсем немного. На третьем месте, с чуть большим отрывом, расположилась модель случайного леса.\n",
    "\n",
    "Теперь можно перейти к финальному тестированию моделей. "
   ]
  },
  {
   "cell_type": "markdown",
   "metadata": {},
   "source": [
    "## Тестирование"
   ]
  },
  {
   "cell_type": "markdown",
   "metadata": {},
   "source": [
    "Чтобы соблюсти все условия поставленной задачи, обучим модели с подобранными значениями гиперпараметров на 90% данных и протестируем их на оставшихся 10%, приходящихся на тестовую выборку. \n",
    "\n",
    "Тестирование будем производить в том же порядке, что и обучение."
   ]
  },
  {
   "cell_type": "code",
   "execution_count": 49,
   "metadata": {},
   "outputs": [
    {
     "name": "stdout",
     "output_type": "stream",
     "text": [
      "Результат решающего дерева: 48.51\n"
     ]
    }
   ],
   "source": [
    "model_tree_test = DecisionTreeRegressor(random_state=12345,  max_depth=5)\n",
    "model_tree_test.fit(features, target)\n",
    "predictions_test = model_tree_test.predict(features_test)\n",
    "result_tree_test = (mean_squared_error(target_test, predictions_test))**0.5\n",
    "print('Результат решающего дерева:', result_tree_test.round(3))"
   ]
  },
  {
   "cell_type": "code",
   "execution_count": 50,
   "metadata": {},
   "outputs": [
    {
     "name": "stdout",
     "output_type": "stream",
     "text": [
      "Результат случайного леса: 52.989\n"
     ]
    }
   ],
   "source": [
    "model_forest_test = RandomForestRegressor(random_state=12345, n_estimators=51, max_depth=25)\n",
    "model_forest_test.fit(features, target)\n",
    "predictions_test = model_forest.predict(features_test)\n",
    "result_forest_test = (mean_squared_error(target_test, predictions_test))**0.5\n",
    "print('Результат случайного леса:', result_forest_test.round(3))"
   ]
  },
  {
   "cell_type": "code",
   "execution_count": 51,
   "metadata": {},
   "outputs": [
    {
     "name": "stdout",
     "output_type": "stream",
     "text": [
      "40.913\n"
     ]
    }
   ],
   "source": [
    "cat_model_test = CatBoostRegressor(loss_function = 'RMSE', iterations = 1000, depth = 6, learning_rate = 0.03)\n",
    "cat_model_test.fit(features, target, verbose = False)\n",
    "predictions_test = cat_model_test.predict(features_test) \n",
    "cat_result_test = round(((mean_squared_error(target_test, predictions_test))**0.5), 3)\n",
    "print(cat_result_test)"
   ]
  },
  {
   "cell_type": "code",
   "execution_count": 52,
   "metadata": {},
   "outputs": [
    {
     "name": "stdout",
     "output_type": "stream",
     "text": [
      "[LightGBM] [Warning] Auto-choosing col-wise multi-threading, the overhead of testing was 0.000252 seconds.\n",
      "You can set `force_col_wise=true` to remove the overhead.\n",
      "[LightGBM] [Info] Total Bins 894\n",
      "[LightGBM] [Info] Number of data points in the train set: 3952, number of used features: 8\n",
      "[LightGBM] [Info] Start training from score 78.451417\n",
      "[1]\tvalid_0's rmse: 80.2643\n",
      "[2]\tvalid_0's rmse: 76.3842\n",
      "[3]\tvalid_0's rmse: 72.9789\n",
      "[4]\tvalid_0's rmse: 70.3666\n",
      "[5]\tvalid_0's rmse: 67.9223\n",
      "[6]\tvalid_0's rmse: 66.0641\n",
      "[7]\tvalid_0's rmse: 63.9353\n",
      "[8]\tvalid_0's rmse: 62.2256\n",
      "[9]\tvalid_0's rmse: 60.4737\n",
      "[10]\tvalid_0's rmse: 59.0548\n",
      "[11]\tvalid_0's rmse: 57.4047\n",
      "[12]\tvalid_0's rmse: 56.4141\n",
      "[13]\tvalid_0's rmse: 54.8844\n",
      "[14]\tvalid_0's rmse: 53.8555\n",
      "[15]\tvalid_0's rmse: 52.7445\n",
      "[16]\tvalid_0's rmse: 51.9709\n",
      "[17]\tvalid_0's rmse: 51.3285\n",
      "[18]\tvalid_0's rmse: 49.8434\n",
      "[19]\tvalid_0's rmse: 49.4407\n",
      "[20]\tvalid_0's rmse: 48.2932\n",
      "[21]\tvalid_0's rmse: 47.8261\n",
      "[22]\tvalid_0's rmse: 46.6333\n",
      "[23]\tvalid_0's rmse: 46.1473\n",
      "[24]\tvalid_0's rmse: 45.6545\n",
      "[25]\tvalid_0's rmse: 45.2675\n",
      "[26]\tvalid_0's rmse: 44.9233\n",
      "[27]\tvalid_0's rmse: 44.6015\n",
      "[28]\tvalid_0's rmse: 44.2583\n",
      "[29]\tvalid_0's rmse: 44.041\n",
      "[30]\tvalid_0's rmse: 43.7498\n",
      "[31]\tvalid_0's rmse: 43.2805\n",
      "[32]\tvalid_0's rmse: 43.0455\n",
      "[33]\tvalid_0's rmse: 42.8224\n",
      "[34]\tvalid_0's rmse: 42.4101\n",
      "[35]\tvalid_0's rmse: 42.2391\n",
      "[36]\tvalid_0's rmse: 42.206\n",
      "[37]\tvalid_0's rmse: 42.0636\n",
      "[38]\tvalid_0's rmse: 42.003\n",
      "[39]\tvalid_0's rmse: 41.9266\n",
      "[40]\tvalid_0's rmse: 41.6157\n",
      "[41]\tvalid_0's rmse: 41.3437\n",
      "[42]\tvalid_0's rmse: 41.212\n",
      "[43]\tvalid_0's rmse: 41.1427\n",
      "[44]\tvalid_0's rmse: 41.0011\n",
      "[45]\tvalid_0's rmse: 40.8242\n",
      "[46]\tvalid_0's rmse: 40.712\n",
      "[47]\tvalid_0's rmse: 40.7133\n",
      "[48]\tvalid_0's rmse: 40.6098\n",
      "[49]\tvalid_0's rmse: 40.5415\n",
      "[50]\tvalid_0's rmse: 40.4597\n",
      "[51]\tvalid_0's rmse: 40.4151\n",
      "[52]\tvalid_0's rmse: 40.264\n",
      "[53]\tvalid_0's rmse: 40.2644\n",
      "[54]\tvalid_0's rmse: 40.2588\n",
      "[55]\tvalid_0's rmse: 40.2657\n",
      "[56]\tvalid_0's rmse: 40.277\n",
      "[57]\tvalid_0's rmse: 40.3628\n",
      "[58]\tvalid_0's rmse: 40.1708\n",
      "[59]\tvalid_0's rmse: 40.1562\n",
      "[60]\tvalid_0's rmse: 40.0783\n",
      "[61]\tvalid_0's rmse: 40.0462\n",
      "[62]\tvalid_0's rmse: 40.0955\n",
      "[63]\tvalid_0's rmse: 40.3018\n",
      "[64]\tvalid_0's rmse: 40.2776\n",
      "[65]\tvalid_0's rmse: 40.2838\n",
      "[66]\tvalid_0's rmse: 40.22\n",
      "[67]\tvalid_0's rmse: 40.3042\n",
      "[68]\tvalid_0's rmse: 40.2772\n",
      "[69]\tvalid_0's rmse: 40.2704\n",
      "[70]\tvalid_0's rmse: 40.2835\n",
      "[71]\tvalid_0's rmse: 40.3051\n",
      "[72]\tvalid_0's rmse: 40.2996\n",
      "[73]\tvalid_0's rmse: 40.3516\n",
      "[74]\tvalid_0's rmse: 40.3361\n",
      "[75]\tvalid_0's rmse: 40.3113\n",
      "[76]\tvalid_0's rmse: 40.2937\n",
      "[77]\tvalid_0's rmse: 40.2879\n",
      "[78]\tvalid_0's rmse: 40.2811\n",
      "[79]\tvalid_0's rmse: 40.2837\n",
      "[80]\tvalid_0's rmse: 40.2177\n",
      "[81]\tvalid_0's rmse: 40.2173\n",
      "[82]\tvalid_0's rmse: 40.2413\n",
      "[83]\tvalid_0's rmse: 40.2125\n",
      "[84]\tvalid_0's rmse: 40.2892\n",
      "[85]\tvalid_0's rmse: 40.2749\n",
      "[86]\tvalid_0's rmse: 40.3001\n",
      "[87]\tvalid_0's rmse: 40.2722\n",
      "[88]\tvalid_0's rmse: 40.2527\n",
      "[89]\tvalid_0's rmse: 40.2292\n",
      "[90]\tvalid_0's rmse: 40.24\n",
      "[91]\tvalid_0's rmse: 40.2388\n",
      "[92]\tvalid_0's rmse: 40.2174\n",
      "[93]\tvalid_0's rmse: 40.2152\n",
      "[94]\tvalid_0's rmse: 40.2194\n",
      "[95]\tvalid_0's rmse: 40.2938\n",
      "[96]\tvalid_0's rmse: 40.2899\n",
      "[97]\tvalid_0's rmse: 40.2842\n",
      "[98]\tvalid_0's rmse: 40.3436\n",
      "[99]\tvalid_0's rmse: 40.3431\n",
      "[100]\tvalid_0's rmse: 40.3278\n",
      "40.328\n"
     ]
    }
   ],
   "source": [
    "train_data = lgb.Dataset(features, target)\n",
    "validation_data = lgb.Dataset(features_test, target_test)\n",
    "params_lgb = {'objective': 'regression', 'metric': 'root_mean_squared_error'}\n",
    "\n",
    "lgb_model_test = lgb.train(params_lgb, train_data, num_boost_round = 100, valid_sets = (validation_data))\n",
    "lgb_predictions_test = lgb_model_test.predict(features_test)\n",
    "lgb_result_test = round(((mean_squared_error(target_test, lgb_predictions_test))**0.5), 3)\n",
    "print(lgb_result_test)"
   ]
  },
  {
   "cell_type": "markdown",
   "metadata": {},
   "source": [
    "### Выводы:"
   ]
  },
  {
   "cell_type": "markdown",
   "metadata": {},
   "source": [
    "После итогового тестирования положение моделей изменилось. Наилучший результат показала модель LGB, CatBoost, идущая следом, уступила ей почти 6 десятых. Модели дерева решений и случайного леса не смогли преодолеть порогового значения метрики качества, при этом дерево показало значительно лучший результат, нежели лес."
   ]
  },
  {
   "cell_type": "markdown",
   "metadata": {},
   "source": [
    "## Итоговые выводы"
   ]
  },
  {
   "cell_type": "markdown",
   "metadata": {},
   "source": [
    "В ходе выполнения проекта по построению модели, предсказывающей количество заказов такси на основе исторических данных, были решены следующие задачи:\n",
    "- проведен анализ исходных данных, который позволил выявить тренд на увеличение количества заказов и зависимость его сезонных колебаний от времени суток;\n",
    "- обучены четыре различные модели машинного обучения, для каждой подобраны значения гиперпараметров;\n",
    "- произведена финальная проверка отобранных моделей на тестовой выборке;\n",
    "- оценено качество полученных предсказаний.\n",
    "\n",
    "В результате, искомой моделью стала модель LGB с количеством деревьев бустинга в ансамбле, равным 100. Значение метрики качества данной модели на тестовой выборке составило 40.328."
   ]
  }
 ],
 "metadata": {
  "ExecuteTimeLog": [
   {
    "duration": 1647,
    "start_time": "2022-04-25T10:54:06.772Z"
   },
   {
    "duration": 38,
    "start_time": "2022-04-25T10:54:08.421Z"
   },
   {
    "duration": 37,
    "start_time": "2022-04-25T10:54:09.091Z"
   },
   {
    "duration": 4,
    "start_time": "2022-04-25T11:00:53.892Z"
   },
   {
    "duration": 31,
    "start_time": "2022-04-25T11:00:54.589Z"
   },
   {
    "duration": 25,
    "start_time": "2022-04-25T11:00:55.509Z"
   },
   {
    "duration": 136,
    "start_time": "2022-04-25T11:01:28.575Z"
   },
   {
    "duration": 1481,
    "start_time": "2022-04-25T11:01:37.325Z"
   },
   {
    "duration": 23,
    "start_time": "2022-04-25T11:01:40.189Z"
   },
   {
    "duration": 3,
    "start_time": "2022-04-25T11:01:47.693Z"
   },
   {
    "duration": 29,
    "start_time": "2022-04-25T11:01:50.975Z"
   },
   {
    "duration": 31,
    "start_time": "2022-04-25T11:01:52.139Z"
   },
   {
    "duration": 213,
    "start_time": "2022-04-25T11:02:56.293Z"
   },
   {
    "duration": 22,
    "start_time": "2022-04-25T11:02:57.206Z"
   },
   {
    "duration": 29,
    "start_time": "2022-04-25T11:03:18.381Z"
   },
   {
    "duration": 22,
    "start_time": "2022-04-25T11:03:19.197Z"
   },
   {
    "duration": 42,
    "start_time": "2022-04-25T11:06:40.342Z"
   },
   {
    "duration": 40,
    "start_time": "2022-04-25T11:06:41.141Z"
   },
   {
    "duration": 15,
    "start_time": "2022-04-25T11:09:12.475Z"
   },
   {
    "duration": 131,
    "start_time": "2022-04-25T11:09:30.102Z"
   },
   {
    "duration": 6,
    "start_time": "2022-04-25T11:13:16.632Z"
   },
   {
    "duration": 4,
    "start_time": "2022-04-25T11:13:32.771Z"
   },
   {
    "duration": 248,
    "start_time": "2022-04-25T11:19:13.118Z"
   },
   {
    "duration": 208,
    "start_time": "2022-04-25T11:19:46.931Z"
   },
   {
    "duration": 111,
    "start_time": "2022-04-25T11:25:44.891Z"
   },
   {
    "duration": 44,
    "start_time": "2022-04-25T11:29:02.876Z"
   },
   {
    "duration": 751,
    "start_time": "2022-04-25T11:29:25.427Z"
   },
   {
    "duration": 615,
    "start_time": "2022-04-25T12:56:12.118Z"
   },
   {
    "duration": 34,
    "start_time": "2022-04-25T13:00:51.250Z"
   },
   {
    "duration": 694,
    "start_time": "2022-04-25T13:00:53.444Z"
   },
   {
    "duration": 1286,
    "start_time": "2022-04-25T13:08:05.647Z"
   },
   {
    "duration": 810,
    "start_time": "2022-04-25T13:08:34.417Z"
   },
   {
    "duration": 573,
    "start_time": "2022-04-25T13:09:50.258Z"
   },
   {
    "duration": 333,
    "start_time": "2022-04-25T13:12:13.515Z"
   },
   {
    "duration": 292,
    "start_time": "2022-04-25T13:13:03.061Z"
   },
   {
    "duration": 355,
    "start_time": "2022-04-25T13:13:08.619Z"
   },
   {
    "duration": 112,
    "start_time": "2022-04-25T13:15:57.221Z"
   },
   {
    "duration": 118,
    "start_time": "2022-04-25T14:26:45.345Z"
   },
   {
    "duration": 6,
    "start_time": "2022-04-25T14:27:18.652Z"
   },
   {
    "duration": 137,
    "start_time": "2022-04-25T14:27:55.811Z"
   },
   {
    "duration": 159,
    "start_time": "2022-04-25T14:29:18.571Z"
   },
   {
    "duration": 154,
    "start_time": "2022-04-25T14:29:26.347Z"
   },
   {
    "duration": 149,
    "start_time": "2022-04-25T14:29:34.012Z"
   },
   {
    "duration": 149,
    "start_time": "2022-04-25T14:29:53.061Z"
   },
   {
    "duration": 19,
    "start_time": "2022-04-25T14:30:07.700Z"
   },
   {
    "duration": 32,
    "start_time": "2022-04-25T14:30:41.350Z"
   },
   {
    "duration": 685,
    "start_time": "2022-04-25T14:30:43.612Z"
   },
   {
    "duration": 696,
    "start_time": "2022-04-25T14:30:54.187Z"
   },
   {
    "duration": 160,
    "start_time": "2022-04-25T14:31:00.724Z"
   },
   {
    "duration": 171,
    "start_time": "2022-04-25T14:32:59.108Z"
   },
   {
    "duration": 151,
    "start_time": "2022-04-25T14:33:20.037Z"
   },
   {
    "duration": 140,
    "start_time": "2022-04-25T14:33:24.948Z"
   },
   {
    "duration": 131,
    "start_time": "2022-04-25T14:33:40.861Z"
   },
   {
    "duration": 1811,
    "start_time": "2022-04-25T14:36:20.291Z"
   },
   {
    "duration": 15,
    "start_time": "2022-04-25T14:36:40.232Z"
   },
   {
    "duration": 15,
    "start_time": "2022-04-25T14:39:39.622Z"
   },
   {
    "duration": 75,
    "start_time": "2022-04-25T17:44:33.559Z"
   },
   {
    "duration": 2768,
    "start_time": "2022-04-25T17:44:38.815Z"
   },
   {
    "duration": 41,
    "start_time": "2022-04-25T17:44:41.586Z"
   },
   {
    "duration": 68,
    "start_time": "2022-04-25T17:44:41.629Z"
   },
   {
    "duration": 338,
    "start_time": "2022-04-25T17:44:41.701Z"
   },
   {
    "duration": 65,
    "start_time": "2022-04-25T17:44:42.041Z"
   },
   {
    "duration": 1328,
    "start_time": "2022-04-25T17:44:42.108Z"
   },
   {
    "duration": 209,
    "start_time": "2022-04-25T17:44:43.438Z"
   },
   {
    "duration": 23,
    "start_time": "2022-04-25T17:44:43.651Z"
   },
   {
    "duration": 136,
    "start_time": "2022-04-25T17:44:43.676Z"
   },
   {
    "duration": 0,
    "start_time": "2022-04-25T17:44:43.815Z"
   },
   {
    "duration": 0,
    "start_time": "2022-04-25T17:44:43.817Z"
   },
   {
    "duration": 22,
    "start_time": "2022-04-25T17:45:14.952Z"
   },
   {
    "duration": 1787,
    "start_time": "2022-04-25T17:45:18.582Z"
   },
   {
    "duration": 23,
    "start_time": "2022-04-25T17:45:59.273Z"
   },
   {
    "duration": 36,
    "start_time": "2022-04-25T17:46:10.610Z"
   },
   {
    "duration": 1745,
    "start_time": "2022-04-26T10:11:19.178Z"
   },
   {
    "duration": 81,
    "start_time": "2022-04-26T10:11:20.926Z"
   },
   {
    "duration": 39,
    "start_time": "2022-04-26T10:11:21.009Z"
   },
   {
    "duration": 160,
    "start_time": "2022-04-26T10:11:21.051Z"
   },
   {
    "duration": 33,
    "start_time": "2022-04-26T10:11:21.213Z"
   },
   {
    "duration": 973,
    "start_time": "2022-04-26T10:11:21.247Z"
   },
   {
    "duration": 126,
    "start_time": "2022-04-26T10:11:22.222Z"
   },
   {
    "duration": 16,
    "start_time": "2022-04-26T10:11:22.350Z"
   },
   {
    "duration": 124,
    "start_time": "2022-04-26T10:11:22.368Z"
   },
   {
    "duration": 0,
    "start_time": "2022-04-26T10:11:22.494Z"
   },
   {
    "duration": 0,
    "start_time": "2022-04-26T10:11:22.496Z"
   },
   {
    "duration": 0,
    "start_time": "2022-04-26T10:11:22.497Z"
   },
   {
    "duration": 0,
    "start_time": "2022-04-26T10:11:22.498Z"
   },
   {
    "duration": 0,
    "start_time": "2022-04-26T10:11:22.499Z"
   },
   {
    "duration": 144,
    "start_time": "2022-04-26T10:18:26.505Z"
   },
   {
    "duration": 408,
    "start_time": "2022-04-26T10:19:02.017Z"
   },
   {
    "duration": 529,
    "start_time": "2022-04-26T10:20:30.354Z"
   },
   {
    "duration": 16,
    "start_time": "2022-04-26T10:21:17.618Z"
   },
   {
    "duration": 20,
    "start_time": "2022-04-26T10:21:19.305Z"
   },
   {
    "duration": 12,
    "start_time": "2022-04-26T10:21:22.137Z"
   },
   {
    "duration": 115,
    "start_time": "2022-04-26T10:21:25.036Z"
   },
   {
    "duration": 20787,
    "start_time": "2022-04-26T10:21:26.738Z"
   },
   {
    "duration": 9973,
    "start_time": "2022-04-26T10:21:47.527Z"
   },
   {
    "duration": 52339,
    "start_time": "2022-04-26T10:23:13.498Z"
   },
   {
    "duration": 9889,
    "start_time": "2022-04-26T10:24:05.838Z"
   },
   {
    "duration": 44563,
    "start_time": "2022-04-26T10:28:06.435Z"
   },
   {
    "duration": 295601,
    "start_time": "2022-04-26T10:29:21.108Z"
   },
   {
    "duration": 19,
    "start_time": "2022-04-26T10:34:16.711Z"
   },
   {
    "duration": 0,
    "start_time": "2022-04-26T10:34:16.732Z"
   },
   {
    "duration": 9522,
    "start_time": "2022-04-26T10:35:04.533Z"
   },
   {
    "duration": 3476,
    "start_time": "2022-04-26T10:35:34.422Z"
   },
   {
    "duration": 6,
    "start_time": "2022-04-26T10:35:39.687Z"
   },
   {
    "duration": 5465,
    "start_time": "2022-04-26T10:35:46.582Z"
   },
   {
    "duration": 9,
    "start_time": "2022-04-26T10:35:52.350Z"
   },
   {
    "duration": 10029,
    "start_time": "2022-04-26T10:35:59.062Z"
   },
   {
    "duration": 10479,
    "start_time": "2022-04-26T10:36:27.709Z"
   },
   {
    "duration": 9875,
    "start_time": "2022-04-26T10:36:48.758Z"
   },
   {
    "duration": 9891,
    "start_time": "2022-04-26T10:37:09.366Z"
   },
   {
    "duration": 8,
    "start_time": "2022-04-26T10:37:23.566Z"
   },
   {
    "duration": 10,
    "start_time": "2022-04-26T10:37:32.710Z"
   },
   {
    "duration": 10,
    "start_time": "2022-04-26T10:37:39.937Z"
   },
   {
    "duration": 3799,
    "start_time": "2022-04-26T14:04:48.420Z"
   },
   {
    "duration": 7,
    "start_time": "2022-04-26T14:04:52.708Z"
   },
   {
    "duration": 48,
    "start_time": "2022-04-26T19:19:11.212Z"
   },
   {
    "duration": 1869,
    "start_time": "2022-04-26T19:19:16.090Z"
   },
   {
    "duration": 31,
    "start_time": "2022-04-26T19:19:17.961Z"
   },
   {
    "duration": 66,
    "start_time": "2022-04-26T19:19:17.994Z"
   },
   {
    "duration": 196,
    "start_time": "2022-04-26T19:19:18.063Z"
   },
   {
    "duration": 32,
    "start_time": "2022-04-26T19:19:18.260Z"
   },
   {
    "duration": 1206,
    "start_time": "2022-04-26T19:19:18.294Z"
   },
   {
    "duration": 122,
    "start_time": "2022-04-26T19:19:19.502Z"
   },
   {
    "duration": 504,
    "start_time": "2022-04-26T19:19:19.625Z"
   },
   {
    "duration": 26,
    "start_time": "2022-04-26T19:19:20.131Z"
   },
   {
    "duration": 18,
    "start_time": "2022-04-26T19:19:20.160Z"
   },
   {
    "duration": 11,
    "start_time": "2022-04-26T19:19:20.180Z"
   },
   {
    "duration": 125,
    "start_time": "2022-04-26T19:19:20.192Z"
   },
   {
    "duration": 35639,
    "start_time": "2022-04-26T19:19:20.318Z"
   },
   {
    "duration": 0,
    "start_time": "2022-04-26T19:19:59.066Z"
   },
   {
    "duration": 0,
    "start_time": "2022-04-26T19:19:59.067Z"
   },
   {
    "duration": 0,
    "start_time": "2022-04-26T19:19:59.068Z"
   },
   {
    "duration": 0,
    "start_time": "2022-04-26T19:19:59.069Z"
   },
   {
    "duration": 0,
    "start_time": "2022-04-26T19:19:59.070Z"
   },
   {
    "duration": 0,
    "start_time": "2022-04-26T19:19:59.071Z"
   },
   {
    "duration": 0,
    "start_time": "2022-04-26T19:19:59.072Z"
   },
   {
    "duration": 0,
    "start_time": "2022-04-26T19:19:59.073Z"
   },
   {
    "duration": 0,
    "start_time": "2022-04-26T19:19:59.074Z"
   },
   {
    "duration": 0,
    "start_time": "2022-04-26T19:19:59.075Z"
   },
   {
    "duration": 0,
    "start_time": "2022-04-26T19:19:59.076Z"
   },
   {
    "duration": 0,
    "start_time": "2022-04-26T19:19:59.077Z"
   },
   {
    "duration": 0,
    "start_time": "2022-04-26T19:19:59.078Z"
   },
   {
    "duration": 0,
    "start_time": "2022-04-26T19:19:59.079Z"
   },
   {
    "duration": 0,
    "start_time": "2022-04-26T19:19:59.080Z"
   },
   {
    "duration": 0,
    "start_time": "2022-04-26T19:19:59.080Z"
   },
   {
    "duration": 0,
    "start_time": "2022-04-26T19:19:59.081Z"
   },
   {
    "duration": 0,
    "start_time": "2022-04-26T19:19:59.082Z"
   },
   {
    "duration": 4,
    "start_time": "2022-04-26T19:34:42.982Z"
   },
   {
    "duration": 32,
    "start_time": "2022-04-26T19:34:42.987Z"
   },
   {
    "duration": 46,
    "start_time": "2022-04-26T19:34:43.021Z"
   },
   {
    "duration": 245,
    "start_time": "2022-04-26T19:34:43.070Z"
   },
   {
    "duration": 49,
    "start_time": "2022-04-26T19:34:43.317Z"
   },
   {
    "duration": 820,
    "start_time": "2022-04-26T19:34:43.368Z"
   },
   {
    "duration": 125,
    "start_time": "2022-04-26T19:34:44.189Z"
   },
   {
    "duration": 495,
    "start_time": "2022-04-26T19:34:44.315Z"
   },
   {
    "duration": 16,
    "start_time": "2022-04-26T19:34:44.814Z"
   },
   {
    "duration": 32,
    "start_time": "2022-04-26T19:34:44.832Z"
   },
   {
    "duration": 15,
    "start_time": "2022-04-26T19:34:44.867Z"
   },
   {
    "duration": 339,
    "start_time": "2022-04-26T19:34:44.884Z"
   },
   {
    "duration": 37029,
    "start_time": "2022-04-26T19:34:45.225Z"
   },
   {
    "duration": 2727,
    "start_time": "2022-04-26T19:35:22.256Z"
   },
   {
    "duration": 10,
    "start_time": "2022-04-26T19:35:24.985Z"
   },
   {
    "duration": 0,
    "start_time": "2022-04-26T19:35:24.996Z"
   },
   {
    "duration": 0,
    "start_time": "2022-04-26T19:35:24.998Z"
   },
   {
    "duration": 0,
    "start_time": "2022-04-26T19:35:24.998Z"
   },
   {
    "duration": 23,
    "start_time": "2022-04-26T19:35:56.632Z"
   },
   {
    "duration": 14,
    "start_time": "2022-04-26T19:36:05.901Z"
   },
   {
    "duration": 2831,
    "start_time": "2022-04-27T06:44:11.033Z"
   },
   {
    "duration": 35,
    "start_time": "2022-04-27T06:44:13.868Z"
   },
   {
    "duration": 76,
    "start_time": "2022-04-27T06:44:13.906Z"
   },
   {
    "duration": 306,
    "start_time": "2022-04-27T06:44:13.984Z"
   },
   {
    "duration": 43,
    "start_time": "2022-04-27T06:44:14.294Z"
   },
   {
    "duration": 1430,
    "start_time": "2022-04-27T06:44:14.340Z"
   },
   {
    "duration": 311,
    "start_time": "2022-04-27T06:44:15.774Z"
   },
   {
    "duration": 896,
    "start_time": "2022-04-27T06:44:16.088Z"
   },
   {
    "duration": 24,
    "start_time": "2022-04-27T06:44:16.987Z"
   },
   {
    "duration": 23,
    "start_time": "2022-04-27T06:44:24.557Z"
   },
   {
    "duration": 32,
    "start_time": "2022-04-27T06:44:26.221Z"
   },
   {
    "duration": 179,
    "start_time": "2022-04-27T07:00:00.886Z"
   },
   {
    "duration": 25,
    "start_time": "2022-04-27T07:03:16.733Z"
   },
   {
    "duration": 18,
    "start_time": "2022-04-27T07:03:34.693Z"
   },
   {
    "duration": 17,
    "start_time": "2022-04-27T07:07:03.496Z"
   },
   {
    "duration": 17,
    "start_time": "2022-04-27T07:08:39.461Z"
   },
   {
    "duration": 22,
    "start_time": "2022-04-27T07:08:48.032Z"
   },
   {
    "duration": 18,
    "start_time": "2022-04-27T07:10:58.234Z"
   },
   {
    "duration": 17,
    "start_time": "2022-04-27T07:11:16.489Z"
   },
   {
    "duration": 297,
    "start_time": "2022-04-27T07:16:37.881Z"
   },
   {
    "duration": 45442,
    "start_time": "2022-04-27T07:16:48.561Z"
   },
   {
    "duration": 3708,
    "start_time": "2022-04-27T07:17:34.005Z"
   },
   {
    "duration": 13771,
    "start_time": "2022-04-27T07:17:37.715Z"
   },
   {
    "duration": 9,
    "start_time": "2022-04-27T07:19:12.068Z"
   },
   {
    "duration": 18,
    "start_time": "2022-04-27T07:19:12.970Z"
   },
   {
    "duration": 7,
    "start_time": "2022-04-27T07:19:13.628Z"
   },
   {
    "duration": 87,
    "start_time": "2022-04-27T07:42:28.495Z"
   },
   {
    "duration": 191758,
    "start_time": "2022-04-27T07:43:58.367Z"
   },
   {
    "duration": 18,
    "start_time": "2022-04-27T07:49:19.318Z"
   },
   {
    "duration": 16,
    "start_time": "2022-04-27T10:18:51.662Z"
   },
   {
    "duration": 25,
    "start_time": "2022-04-27T10:19:05.623Z"
   },
   {
    "duration": 0,
    "start_time": "2022-04-27T10:19:05.651Z"
   },
   {
    "duration": 27,
    "start_time": "2022-04-27T10:19:29.639Z"
   },
   {
    "duration": 22,
    "start_time": "2022-04-27T10:40:37.772Z"
   },
   {
    "duration": 21,
    "start_time": "2022-04-27T10:41:21.983Z"
   },
   {
    "duration": 24,
    "start_time": "2022-04-27T10:41:33.805Z"
   },
   {
    "duration": 287,
    "start_time": "2022-04-27T10:42:09.575Z"
   },
   {
    "duration": 48164,
    "start_time": "2022-04-27T10:43:38.846Z"
   },
   {
    "duration": 12,
    "start_time": "2022-04-27T10:46:44.951Z"
   },
   {
    "duration": 6,
    "start_time": "2022-04-27T10:46:49.175Z"
   },
   {
    "duration": 44,
    "start_time": "2022-04-27T10:46:49.184Z"
   },
   {
    "duration": 74,
    "start_time": "2022-04-27T10:46:49.231Z"
   },
   {
    "duration": 276,
    "start_time": "2022-04-27T10:46:49.308Z"
   },
   {
    "duration": 39,
    "start_time": "2022-04-27T10:46:49.587Z"
   },
   {
    "duration": 1764,
    "start_time": "2022-04-27T10:46:49.628Z"
   },
   {
    "duration": 286,
    "start_time": "2022-04-27T10:46:51.395Z"
   },
   {
    "duration": 1139,
    "start_time": "2022-04-27T10:46:51.684Z"
   },
   {
    "duration": 27,
    "start_time": "2022-04-27T10:46:52.826Z"
   },
   {
    "duration": 61,
    "start_time": "2022-04-27T10:46:52.858Z"
   },
   {
    "duration": 21,
    "start_time": "2022-04-27T10:46:52.922Z"
   },
   {
    "duration": 484,
    "start_time": "2022-04-27T10:46:52.946Z"
   },
   {
    "duration": 33294,
    "start_time": "2022-04-27T10:46:53.433Z"
   },
   {
    "duration": 3958,
    "start_time": "2022-04-27T10:47:26.730Z"
   },
   {
    "duration": 1169606,
    "start_time": "2022-04-27T10:47:30.691Z"
   },
   {
    "duration": 11,
    "start_time": "2022-04-27T11:07:00.300Z"
   },
   {
    "duration": 74,
    "start_time": "2022-04-27T11:07:00.314Z"
   },
   {
    "duration": 18,
    "start_time": "2022-04-27T11:07:00.391Z"
   },
   {
    "duration": 103,
    "start_time": "2022-04-27T11:07:00.411Z"
   },
   {
    "duration": 2531,
    "start_time": "2022-04-28T06:19:16.151Z"
   },
   {
    "duration": 39,
    "start_time": "2022-04-28T06:19:18.686Z"
   },
   {
    "duration": 65,
    "start_time": "2022-04-28T06:19:18.728Z"
   },
   {
    "duration": 286,
    "start_time": "2022-04-28T06:19:18.796Z"
   },
   {
    "duration": 48,
    "start_time": "2022-04-28T06:19:19.085Z"
   },
   {
    "duration": 1475,
    "start_time": "2022-04-28T06:19:19.135Z"
   },
   {
    "duration": 200,
    "start_time": "2022-04-28T06:19:20.612Z"
   },
   {
    "duration": 843,
    "start_time": "2022-04-28T06:19:20.814Z"
   },
   {
    "duration": 38,
    "start_time": "2022-04-28T06:19:21.660Z"
   },
   {
    "duration": 201,
    "start_time": "2022-04-28T06:19:21.700Z"
   },
   {
    "duration": 0,
    "start_time": "2022-04-28T06:19:21.905Z"
   },
   {
    "duration": 0,
    "start_time": "2022-04-28T06:19:21.907Z"
   },
   {
    "duration": 0,
    "start_time": "2022-04-28T06:19:21.909Z"
   },
   {
    "duration": 0,
    "start_time": "2022-04-28T06:19:21.912Z"
   },
   {
    "duration": 0,
    "start_time": "2022-04-28T06:19:21.914Z"
   },
   {
    "duration": 0,
    "start_time": "2022-04-28T06:19:21.917Z"
   },
   {
    "duration": 0,
    "start_time": "2022-04-28T06:19:21.919Z"
   },
   {
    "duration": 0,
    "start_time": "2022-04-28T06:19:21.921Z"
   },
   {
    "duration": 0,
    "start_time": "2022-04-28T06:19:21.923Z"
   },
   {
    "duration": 20,
    "start_time": "2022-04-28T06:21:52.414Z"
   },
   {
    "duration": 60,
    "start_time": "2022-04-28T06:22:36.696Z"
   },
   {
    "duration": 34,
    "start_time": "2022-04-28T06:22:43.023Z"
   },
   {
    "duration": 23,
    "start_time": "2022-04-28T06:22:52.894Z"
   },
   {
    "duration": 51,
    "start_time": "2022-04-28T06:23:01.895Z"
   },
   {
    "duration": 29,
    "start_time": "2022-04-28T06:23:07.655Z"
   },
   {
    "duration": 20,
    "start_time": "2022-04-28T06:23:13.959Z"
   },
   {
    "duration": 51,
    "start_time": "2022-04-28T06:23:19.999Z"
   },
   {
    "duration": 35,
    "start_time": "2022-04-28T06:23:23.503Z"
   },
   {
    "duration": 17,
    "start_time": "2022-04-28T06:23:29.520Z"
   },
   {
    "duration": 280,
    "start_time": "2022-04-28T06:23:32.983Z"
   },
   {
    "duration": 32692,
    "start_time": "2022-04-28T06:23:35.137Z"
   },
   {
    "duration": 4055,
    "start_time": "2022-04-28T06:24:07.832Z"
   },
   {
    "duration": 10013,
    "start_time": "2022-04-28T06:24:11.889Z"
   },
   {
    "duration": 9,
    "start_time": "2022-04-28T06:24:21.905Z"
   },
   {
    "duration": 90,
    "start_time": "2022-04-28T06:24:21.916Z"
   },
   {
    "duration": 8,
    "start_time": "2022-04-28T06:24:22.008Z"
   },
   {
    "duration": 81,
    "start_time": "2022-04-28T06:24:22.018Z"
   },
   {
    "duration": 42,
    "start_time": "2022-04-28T06:30:07.560Z"
   },
   {
    "duration": 18,
    "start_time": "2022-04-28T06:30:08.730Z"
   },
   {
    "duration": 276,
    "start_time": "2022-04-28T06:30:11.745Z"
   },
   {
    "duration": 31920,
    "start_time": "2022-04-28T06:30:14.609Z"
   },
   {
    "duration": 24,
    "start_time": "2022-04-28T06:32:55.986Z"
   },
   {
    "duration": 39,
    "start_time": "2022-04-28T06:36:52.419Z"
   },
   {
    "duration": 18,
    "start_time": "2022-04-28T06:36:53.427Z"
   },
   {
    "duration": 376,
    "start_time": "2022-04-28T06:36:54.322Z"
   },
   {
    "duration": 44434,
    "start_time": "2022-04-28T06:36:55.021Z"
   },
   {
    "duration": 5370,
    "start_time": "2022-04-28T06:37:39.458Z"
   },
   {
    "duration": 11280,
    "start_time": "2022-04-28T06:37:44.830Z"
   },
   {
    "duration": 83,
    "start_time": "2022-04-28T06:37:56.113Z"
   },
   {
    "duration": 18,
    "start_time": "2022-04-28T06:37:56.199Z"
   },
   {
    "duration": 7,
    "start_time": "2022-04-28T06:37:56.219Z"
   },
   {
    "duration": 71,
    "start_time": "2022-04-28T06:37:56.229Z"
   },
   {
    "duration": 35,
    "start_time": "2022-04-28T06:41:32.466Z"
   },
   {
    "duration": 5,
    "start_time": "2022-04-28T06:41:45.630Z"
   },
   {
    "duration": 50,
    "start_time": "2022-04-28T06:41:45.639Z"
   },
   {
    "duration": 54,
    "start_time": "2022-04-28T06:41:45.691Z"
   },
   {
    "duration": 297,
    "start_time": "2022-04-28T06:41:45.748Z"
   },
   {
    "duration": 50,
    "start_time": "2022-04-28T06:41:46.048Z"
   },
   {
    "duration": 1281,
    "start_time": "2022-04-28T06:41:46.101Z"
   },
   {
    "duration": 204,
    "start_time": "2022-04-28T06:41:47.384Z"
   },
   {
    "duration": 824,
    "start_time": "2022-04-28T06:41:47.594Z"
   },
   {
    "duration": 22,
    "start_time": "2022-04-28T06:41:48.420Z"
   },
   {
    "duration": 52,
    "start_time": "2022-04-28T06:41:48.444Z"
   },
   {
    "duration": 17,
    "start_time": "2022-04-28T06:41:48.498Z"
   },
   {
    "duration": 267,
    "start_time": "2022-04-28T06:41:48.518Z"
   },
   {
    "duration": 28055,
    "start_time": "2022-04-28T06:41:48.787Z"
   },
   {
    "duration": 4106,
    "start_time": "2022-04-28T06:42:16.845Z"
   },
   {
    "duration": 45351,
    "start_time": "2022-04-28T06:42:20.954Z"
   },
   {
    "duration": 85,
    "start_time": "2022-04-28T06:43:06.307Z"
   },
   {
    "duration": 16,
    "start_time": "2022-04-28T06:43:06.395Z"
   },
   {
    "duration": 14,
    "start_time": "2022-04-28T06:43:06.414Z"
   },
   {
    "duration": 71,
    "start_time": "2022-04-28T06:43:06.431Z"
   },
   {
    "duration": 30,
    "start_time": "2022-04-28T06:58:08.374Z"
   },
   {
    "duration": 6,
    "start_time": "2022-04-28T06:58:46.026Z"
   },
   {
    "duration": 42,
    "start_time": "2022-04-28T06:58:46.035Z"
   },
   {
    "duration": 55,
    "start_time": "2022-04-28T06:58:46.079Z"
   },
   {
    "duration": 435,
    "start_time": "2022-04-28T06:58:46.137Z"
   },
   {
    "duration": 68,
    "start_time": "2022-04-28T06:58:46.576Z"
   },
   {
    "duration": 1294,
    "start_time": "2022-04-28T06:58:46.647Z"
   },
   {
    "duration": 223,
    "start_time": "2022-04-28T06:58:47.944Z"
   },
   {
    "duration": 857,
    "start_time": "2022-04-28T06:58:48.169Z"
   },
   {
    "duration": 23,
    "start_time": "2022-04-28T06:58:49.029Z"
   },
   {
    "duration": 61,
    "start_time": "2022-04-28T06:58:49.054Z"
   },
   {
    "duration": 13,
    "start_time": "2022-04-28T06:58:49.117Z"
   },
   {
    "duration": 286,
    "start_time": "2022-04-28T06:58:49.132Z"
   },
   {
    "duration": 41525,
    "start_time": "2022-04-28T06:58:49.420Z"
   },
   {
    "duration": 4309,
    "start_time": "2022-04-28T06:59:30.950Z"
   },
   {
    "duration": 1373148,
    "start_time": "2022-04-28T06:59:35.262Z"
   },
   {
    "duration": 82,
    "start_time": "2022-04-28T07:22:28.412Z"
   },
   {
    "duration": 20,
    "start_time": "2022-04-28T07:22:28.497Z"
   },
   {
    "duration": 7,
    "start_time": "2022-04-28T07:22:28.520Z"
   },
   {
    "duration": 163,
    "start_time": "2022-04-28T07:22:28.530Z"
   },
   {
    "duration": 6,
    "start_time": "2022-04-28T10:25:38.652Z"
   },
   {
    "duration": 43,
    "start_time": "2022-04-28T10:25:38.662Z"
   },
   {
    "duration": 50,
    "start_time": "2022-04-28T10:25:38.708Z"
   },
   {
    "duration": 314,
    "start_time": "2022-04-28T10:25:38.760Z"
   },
   {
    "duration": 72,
    "start_time": "2022-04-28T10:25:39.078Z"
   },
   {
    "duration": 1583,
    "start_time": "2022-04-28T10:25:39.153Z"
   },
   {
    "duration": 362,
    "start_time": "2022-04-28T10:25:40.740Z"
   },
   {
    "duration": 912,
    "start_time": "2022-04-28T10:25:41.104Z"
   },
   {
    "duration": 73,
    "start_time": "2022-04-28T10:25:42.020Z"
   },
   {
    "duration": 24,
    "start_time": "2022-04-28T10:26:02.829Z"
   },
   {
    "duration": 33,
    "start_time": "2022-04-28T10:26:04.341Z"
   },
   {
    "duration": 12,
    "start_time": "2022-04-28T10:26:06.687Z"
   },
   {
    "duration": 1237,
    "start_time": "2022-04-28T10:26:08.013Z"
   },
   {
    "duration": 523,
    "start_time": "2022-04-28T10:26:25.214Z"
   },
   {
    "duration": 190212,
    "start_time": "2022-04-28T10:26:27.670Z"
   },
   {
    "duration": 57615,
    "start_time": "2022-04-28T10:29:37.885Z"
   },
   {
    "duration": 11,
    "start_time": "2022-04-28T10:30:35.502Z"
   },
   {
    "duration": 84,
    "start_time": "2022-04-28T10:30:35.516Z"
   },
   {
    "duration": 26,
    "start_time": "2022-04-28T10:30:35.603Z"
   },
   {
    "duration": 61373,
    "start_time": "2022-04-28T10:32:21.537Z"
   },
   {
    "duration": 28,
    "start_time": "2022-04-28T10:33:34.632Z"
   },
   {
    "duration": 106403,
    "start_time": "2022-04-28T10:33:57.791Z"
   },
   {
    "duration": 96,
    "start_time": "2022-04-28T10:35:44.198Z"
   },
   {
    "duration": 93348,
    "start_time": "2022-04-28T10:36:18.473Z"
   },
   {
    "duration": 88,
    "start_time": "2022-04-28T10:37:51.824Z"
   },
   {
    "duration": 458574,
    "start_time": "2022-04-28T10:49:20.835Z"
   },
   {
    "duration": 95,
    "start_time": "2022-04-28T10:56:59.413Z"
   },
   {
    "duration": 23,
    "start_time": "2022-04-28T10:59:39.136Z"
   },
   {
    "duration": 60557,
    "start_time": "2022-04-28T10:59:54.047Z"
   },
   {
    "duration": 18,
    "start_time": "2022-04-28T11:02:54.016Z"
   },
   {
    "duration": 203973,
    "start_time": "2022-04-28T11:03:07.136Z"
   },
   {
    "duration": 97,
    "start_time": "2022-04-28T11:06:31.112Z"
   },
   {
    "duration": 312625,
    "start_time": "2022-04-28T11:09:17.282Z"
   },
   {
    "duration": 22,
    "start_time": "2022-04-28T12:19:33.607Z"
   },
   {
    "duration": 20,
    "start_time": "2022-04-28T12:19:43.797Z"
   },
   {
    "duration": 2415,
    "start_time": "2022-04-28T17:07:53.216Z"
   },
   {
    "duration": 36,
    "start_time": "2022-04-28T17:07:55.634Z"
   },
   {
    "duration": 68,
    "start_time": "2022-04-28T17:07:55.672Z"
   },
   {
    "duration": 335,
    "start_time": "2022-04-28T17:07:55.743Z"
   },
   {
    "duration": 45,
    "start_time": "2022-04-28T17:07:56.081Z"
   },
   {
    "duration": 1373,
    "start_time": "2022-04-28T17:07:56.129Z"
   },
   {
    "duration": 207,
    "start_time": "2022-04-28T17:07:57.505Z"
   },
   {
    "duration": 896,
    "start_time": "2022-04-28T17:07:57.714Z"
   },
   {
    "duration": 24,
    "start_time": "2022-04-28T17:07:58.612Z"
   },
   {
    "duration": 58,
    "start_time": "2022-04-28T17:07:58.640Z"
   },
   {
    "duration": 13,
    "start_time": "2022-04-28T17:07:58.700Z"
   },
   {
    "duration": 441,
    "start_time": "2022-04-28T17:07:58.715Z"
   },
   {
    "duration": 184480,
    "start_time": "2022-04-28T17:07:59.158Z"
   },
   {
    "duration": 3488,
    "start_time": "2022-04-28T17:11:03.640Z"
   },
   {
    "duration": 7172,
    "start_time": "2022-04-28T17:11:07.130Z"
   },
   {
    "duration": 85,
    "start_time": "2022-04-28T17:11:14.306Z"
   },
   {
    "duration": 26,
    "start_time": "2022-04-28T17:11:14.394Z"
   },
   {
    "duration": 7,
    "start_time": "2022-04-28T17:11:14.423Z"
   },
   {
    "duration": 18,
    "start_time": "2022-04-28T17:11:14.432Z"
   },
   {
    "duration": 131,
    "start_time": "2022-04-28T17:11:14.452Z"
   },
   {
    "duration": 117,
    "start_time": "2022-04-28T17:16:32.396Z"
   },
   {
    "duration": 109,
    "start_time": "2022-04-28T17:16:43.808Z"
   },
   {
    "duration": 107,
    "start_time": "2022-04-28T17:18:09.193Z"
   },
   {
    "duration": 7,
    "start_time": "2022-04-28T17:18:24.962Z"
   },
   {
    "duration": 44,
    "start_time": "2022-04-28T17:18:24.971Z"
   },
   {
    "duration": 75,
    "start_time": "2022-04-28T17:18:25.017Z"
   },
   {
    "duration": 291,
    "start_time": "2022-04-28T17:18:25.095Z"
   },
   {
    "duration": 41,
    "start_time": "2022-04-28T17:18:25.388Z"
   },
   {
    "duration": 1340,
    "start_time": "2022-04-28T17:18:25.431Z"
   },
   {
    "duration": 210,
    "start_time": "2022-04-28T17:18:26.774Z"
   },
   {
    "duration": 863,
    "start_time": "2022-04-28T17:18:26.986Z"
   },
   {
    "duration": 37,
    "start_time": "2022-04-28T17:18:27.851Z"
   },
   {
    "duration": 34,
    "start_time": "2022-04-28T17:18:27.892Z"
   },
   {
    "duration": 13,
    "start_time": "2022-04-28T17:18:27.929Z"
   },
   {
    "duration": 532,
    "start_time": "2022-04-28T17:18:27.945Z"
   },
   {
    "duration": 198064,
    "start_time": "2022-04-28T17:18:28.479Z"
   },
   {
    "duration": 3581,
    "start_time": "2022-04-28T17:21:46.545Z"
   },
   {
    "duration": 37971,
    "start_time": "2022-04-28T17:21:50.129Z"
   },
   {
    "duration": 83,
    "start_time": "2022-04-28T17:22:28.103Z"
   },
   {
    "duration": 40,
    "start_time": "2022-04-28T17:22:28.189Z"
   },
   {
    "duration": 10,
    "start_time": "2022-04-28T17:22:28.231Z"
   },
   {
    "duration": 52,
    "start_time": "2022-04-28T17:22:28.244Z"
   },
   {
    "duration": 92,
    "start_time": "2022-04-28T17:22:28.298Z"
   },
   {
    "duration": 26930,
    "start_time": "2022-04-28T17:24:12.755Z"
   },
   {
    "duration": 2264,
    "start_time": "2022-04-29T06:09:00.648Z"
   },
   {
    "duration": 38,
    "start_time": "2022-04-29T06:09:02.915Z"
   },
   {
    "duration": 57,
    "start_time": "2022-04-29T06:09:02.955Z"
   },
   {
    "duration": 301,
    "start_time": "2022-04-29T06:09:03.015Z"
   },
   {
    "duration": 54,
    "start_time": "2022-04-29T06:09:03.318Z"
   },
   {
    "duration": 1270,
    "start_time": "2022-04-29T06:09:03.375Z"
   },
   {
    "duration": 210,
    "start_time": "2022-04-29T06:09:04.647Z"
   },
   {
    "duration": 433,
    "start_time": "2022-04-29T06:11:00.016Z"
   },
   {
    "duration": 435,
    "start_time": "2022-04-29T06:11:16.004Z"
   },
   {
    "duration": 422,
    "start_time": "2022-04-29T06:20:46.810Z"
   },
   {
    "duration": 319,
    "start_time": "2022-04-29T06:21:30.401Z"
   },
   {
    "duration": 299,
    "start_time": "2022-04-29T06:24:17.321Z"
   },
   {
    "duration": 304,
    "start_time": "2022-04-29T06:24:39.273Z"
   },
   {
    "duration": 339,
    "start_time": "2022-04-29T06:26:26.065Z"
   },
   {
    "duration": 412,
    "start_time": "2022-04-29T06:27:20.378Z"
   },
   {
    "duration": 265,
    "start_time": "2022-04-29T06:28:02.994Z"
   },
   {
    "duration": 276,
    "start_time": "2022-04-29T06:28:39.843Z"
   },
   {
    "duration": 598,
    "start_time": "2022-04-29T06:29:27.362Z"
   },
   {
    "duration": 465,
    "start_time": "2022-04-29T06:30:00.330Z"
   },
   {
    "duration": 902,
    "start_time": "2022-04-29T06:31:43.084Z"
   },
   {
    "duration": 476,
    "start_time": "2022-04-29T06:35:16.733Z"
   },
   {
    "duration": 452,
    "start_time": "2022-04-29T06:35:31.789Z"
   },
   {
    "duration": 459,
    "start_time": "2022-04-29T06:35:39.020Z"
   },
   {
    "duration": 1008,
    "start_time": "2022-04-29T06:36:07.404Z"
   },
   {
    "duration": 1009,
    "start_time": "2022-04-29T06:36:19.716Z"
   },
   {
    "duration": 866,
    "start_time": "2022-04-29T06:38:37.613Z"
   },
   {
    "duration": 428,
    "start_time": "2022-04-29T12:54:53.369Z"
   },
   {
    "duration": 419,
    "start_time": "2022-04-29T12:55:14.100Z"
   },
   {
    "duration": 13,
    "start_time": "2022-04-29T13:11:03.063Z"
   },
   {
    "duration": 5,
    "start_time": "2022-04-29T13:11:10.232Z"
   },
   {
    "duration": 47,
    "start_time": "2022-04-29T13:11:10.240Z"
   },
   {
    "duration": 50,
    "start_time": "2022-04-29T13:11:10.289Z"
   },
   {
    "duration": 330,
    "start_time": "2022-04-29T13:11:10.351Z"
   },
   {
    "duration": 40,
    "start_time": "2022-04-29T13:11:10.684Z"
   },
   {
    "duration": 1747,
    "start_time": "2022-04-29T13:11:10.727Z"
   },
   {
    "duration": 372,
    "start_time": "2022-04-29T13:11:12.476Z"
   },
   {
    "duration": 933,
    "start_time": "2022-04-29T13:11:12.851Z"
   },
   {
    "duration": 899,
    "start_time": "2022-04-29T13:11:13.786Z"
   },
   {
    "duration": 447,
    "start_time": "2022-04-29T13:11:14.687Z"
   },
   {
    "duration": 44,
    "start_time": "2022-04-29T13:11:15.136Z"
   },
   {
    "duration": 12,
    "start_time": "2022-04-29T13:11:15.183Z"
   },
   {
    "duration": 412,
    "start_time": "2022-04-29T13:11:15.197Z"
   },
   {
    "duration": 176775,
    "start_time": "2022-04-29T13:14:11.418Z"
   },
   {
    "duration": 23708,
    "start_time": "2022-04-29T13:17:54.986Z"
   },
   {
    "duration": 163859,
    "start_time": "2022-04-29T13:20:17.755Z"
   },
   {
    "duration": 6989,
    "start_time": "2022-04-29T13:24:58.795Z"
   },
   {
    "duration": 1142,
    "start_time": "2022-04-29T13:25:34.164Z"
   },
   {
    "duration": 951,
    "start_time": "2022-04-29T13:25:48.693Z"
   },
   {
    "duration": 1070,
    "start_time": "2022-04-29T13:25:55.077Z"
   },
   {
    "duration": 1571,
    "start_time": "2022-04-29T13:26:10.309Z"
   },
   {
    "duration": 1137,
    "start_time": "2022-04-29T13:26:23.421Z"
   },
   {
    "duration": 1324,
    "start_time": "2022-04-29T13:26:39.245Z"
   },
   {
    "duration": 1510,
    "start_time": "2022-04-29T13:26:53.533Z"
   },
   {
    "duration": 3348,
    "start_time": "2022-04-29T13:27:10.093Z"
   },
   {
    "duration": 4866,
    "start_time": "2022-04-29T13:27:30.333Z"
   },
   {
    "duration": 5590,
    "start_time": "2022-04-29T13:27:48.845Z"
   },
   {
    "duration": 3755,
    "start_time": "2022-04-29T13:28:02.134Z"
   },
   {
    "duration": 5,
    "start_time": "2022-04-29T13:32:23.643Z"
   },
   {
    "duration": 38,
    "start_time": "2022-04-29T13:32:23.651Z"
   },
   {
    "duration": 71,
    "start_time": "2022-04-29T13:32:23.692Z"
   },
   {
    "duration": 339,
    "start_time": "2022-04-29T13:32:23.765Z"
   },
   {
    "duration": 51,
    "start_time": "2022-04-29T13:32:24.107Z"
   },
   {
    "duration": 1953,
    "start_time": "2022-04-29T13:32:24.160Z"
   },
   {
    "duration": 269,
    "start_time": "2022-04-29T13:32:26.115Z"
   },
   {
    "duration": 928,
    "start_time": "2022-04-29T13:32:26.387Z"
   },
   {
    "duration": 900,
    "start_time": "2022-04-29T13:32:27.317Z"
   },
   {
    "duration": 533,
    "start_time": "2022-04-29T13:32:28.219Z"
   },
   {
    "duration": 34,
    "start_time": "2022-04-29T13:32:28.754Z"
   },
   {
    "duration": 13,
    "start_time": "2022-04-29T13:32:28.791Z"
   },
   {
    "duration": 428,
    "start_time": "2022-04-29T13:32:28.806Z"
   },
   {
    "duration": 63841,
    "start_time": "2022-04-29T13:32:29.238Z"
   },
   {
    "duration": 3711,
    "start_time": "2022-04-29T13:33:33.082Z"
   },
   {
    "duration": 37665,
    "start_time": "2022-04-29T13:33:36.795Z"
   },
   {
    "duration": 23,
    "start_time": "2022-04-29T13:34:14.462Z"
   },
   {
    "duration": 1474,
    "start_time": "2022-04-29T13:34:14.487Z"
   },
   {
    "duration": 1,
    "start_time": "2022-04-29T13:34:15.963Z"
   },
   {
    "duration": 0,
    "start_time": "2022-04-29T13:34:15.966Z"
   },
   {
    "duration": 1040,
    "start_time": "2022-04-29T13:35:51.163Z"
   },
   {
    "duration": 4279,
    "start_time": "2022-04-29T13:35:52.503Z"
   },
   {
    "duration": 1,
    "start_time": "2022-04-29T13:35:56.784Z"
   },
   {
    "duration": 3541,
    "start_time": "2022-04-29T13:36:08.569Z"
   },
   {
    "duration": 3940,
    "start_time": "2022-04-29T13:36:12.113Z"
   },
   {
    "duration": 1774,
    "start_time": "2022-04-29T19:05:12.121Z"
   },
   {
    "duration": 33,
    "start_time": "2022-04-29T19:05:13.897Z"
   },
   {
    "duration": 45,
    "start_time": "2022-04-29T19:05:13.932Z"
   },
   {
    "duration": 210,
    "start_time": "2022-04-29T19:05:13.980Z"
   },
   {
    "duration": 43,
    "start_time": "2022-04-29T19:05:14.192Z"
   },
   {
    "duration": 943,
    "start_time": "2022-04-29T19:05:14.237Z"
   },
   {
    "duration": 137,
    "start_time": "2022-04-29T19:05:15.181Z"
   },
   {
    "duration": 712,
    "start_time": "2022-04-29T19:05:15.319Z"
   },
   {
    "duration": 617,
    "start_time": "2022-04-29T19:05:16.033Z"
   },
   {
    "duration": 304,
    "start_time": "2022-04-29T19:05:16.652Z"
   },
   {
    "duration": 24,
    "start_time": "2022-04-29T19:05:16.957Z"
   },
   {
    "duration": 27,
    "start_time": "2022-04-29T19:05:16.982Z"
   },
   {
    "duration": 330,
    "start_time": "2022-04-29T19:05:17.010Z"
   },
   {
    "duration": 47441,
    "start_time": "2022-04-29T19:05:17.342Z"
   },
   {
    "duration": 2649,
    "start_time": "2022-04-29T19:06:04.785Z"
   },
   {
    "duration": 1280,
    "start_time": "2022-04-29T19:06:07.436Z"
   },
   {
    "duration": 90,
    "start_time": "2022-04-29T19:06:08.718Z"
   },
   {
    "duration": 786,
    "start_time": "2022-04-29T19:06:08.810Z"
   },
   {
    "duration": 2779,
    "start_time": "2022-04-29T19:06:09.598Z"
   },
   {
    "duration": 1133,
    "start_time": "2022-04-29T19:06:12.378Z"
   },
   {
    "duration": 4,
    "start_time": "2022-04-29T19:58:37.180Z"
   },
   {
    "duration": 29,
    "start_time": "2022-04-29T19:58:37.186Z"
   },
   {
    "duration": 33,
    "start_time": "2022-04-29T19:58:37.216Z"
   },
   {
    "duration": 216,
    "start_time": "2022-04-29T19:58:37.250Z"
   },
   {
    "duration": 44,
    "start_time": "2022-04-29T19:58:37.467Z"
   },
   {
    "duration": 1119,
    "start_time": "2022-04-29T19:58:37.513Z"
   },
   {
    "duration": 179,
    "start_time": "2022-04-29T19:58:38.634Z"
   },
   {
    "duration": 636,
    "start_time": "2022-04-29T19:58:38.815Z"
   },
   {
    "duration": 599,
    "start_time": "2022-04-29T19:58:39.453Z"
   },
   {
    "duration": 389,
    "start_time": "2022-04-29T19:58:40.053Z"
   },
   {
    "duration": 24,
    "start_time": "2022-04-29T19:58:40.443Z"
   },
   {
    "duration": 9,
    "start_time": "2022-04-29T19:58:40.469Z"
   },
   {
    "duration": 331,
    "start_time": "2022-04-29T19:58:40.480Z"
   },
   {
    "duration": 48593,
    "start_time": "2022-04-29T19:58:40.813Z"
   },
   {
    "duration": 2662,
    "start_time": "2022-04-29T19:59:29.408Z"
   },
   {
    "duration": 25044,
    "start_time": "2022-04-29T19:59:32.072Z"
   },
   {
    "duration": 16,
    "start_time": "2022-04-29T19:59:57.117Z"
   },
   {
    "duration": 818,
    "start_time": "2022-04-29T19:59:57.135Z"
   },
   {
    "duration": 2734,
    "start_time": "2022-04-29T19:59:57.954Z"
   },
   {
    "duration": 2527,
    "start_time": "2022-04-29T20:00:00.690Z"
   },
   {
    "duration": 1662,
    "start_time": "2022-04-30T19:22:32.452Z"
   },
   {
    "duration": 28,
    "start_time": "2022-04-30T19:22:34.116Z"
   },
   {
    "duration": 40,
    "start_time": "2022-04-30T19:22:34.145Z"
   },
   {
    "duration": 196,
    "start_time": "2022-04-30T19:22:34.187Z"
   },
   {
    "duration": 41,
    "start_time": "2022-04-30T19:22:34.385Z"
   },
   {
    "duration": 924,
    "start_time": "2022-04-30T19:22:34.427Z"
   },
   {
    "duration": 129,
    "start_time": "2022-04-30T19:22:35.353Z"
   },
   {
    "duration": 678,
    "start_time": "2022-04-30T19:22:35.483Z"
   },
   {
    "duration": 585,
    "start_time": "2022-04-30T19:22:36.163Z"
   },
   {
    "duration": 288,
    "start_time": "2022-04-30T19:22:36.750Z"
   },
   {
    "duration": 130,
    "start_time": "2022-04-30T19:22:48.223Z"
   },
   {
    "duration": 4,
    "start_time": "2022-04-30T19:23:22.005Z"
   },
   {
    "duration": 18,
    "start_time": "2022-04-30T19:23:33.441Z"
   },
   {
    "duration": 18,
    "start_time": "2022-04-30T19:23:55.097Z"
   },
   {
    "duration": 6,
    "start_time": "2022-04-30T19:24:13.304Z"
   },
   {
    "duration": 41,
    "start_time": "2022-04-30T19:24:13.313Z"
   },
   {
    "duration": 52,
    "start_time": "2022-04-30T19:24:13.355Z"
   },
   {
    "duration": 212,
    "start_time": "2022-04-30T19:24:13.409Z"
   },
   {
    "duration": 32,
    "start_time": "2022-04-30T19:24:13.624Z"
   },
   {
    "duration": 1289,
    "start_time": "2022-04-30T19:24:13.658Z"
   },
   {
    "duration": 178,
    "start_time": "2022-04-30T19:24:14.950Z"
   },
   {
    "duration": 625,
    "start_time": "2022-04-30T19:24:15.130Z"
   },
   {
    "duration": 611,
    "start_time": "2022-04-30T19:24:15.757Z"
   },
   {
    "duration": 305,
    "start_time": "2022-04-30T19:24:16.370Z"
   },
   {
    "duration": 19,
    "start_time": "2022-04-30T19:24:21.844Z"
   },
   {
    "duration": 19,
    "start_time": "2022-04-30T19:25:19.944Z"
   },
   {
    "duration": 24,
    "start_time": "2022-04-30T19:25:43.632Z"
   },
   {
    "duration": 24,
    "start_time": "2022-04-30T19:26:06.170Z"
   },
   {
    "duration": 63,
    "start_time": "2022-04-30T19:30:28.123Z"
   },
   {
    "duration": 64,
    "start_time": "2022-04-30T19:30:42.043Z"
   },
   {
    "duration": 78,
    "start_time": "2022-04-30T19:30:53.426Z"
   },
   {
    "duration": 64,
    "start_time": "2022-04-30T19:31:14.909Z"
   },
   {
    "duration": 4,
    "start_time": "2022-04-30T19:32:13.593Z"
   },
   {
    "duration": 35,
    "start_time": "2022-04-30T19:32:13.599Z"
   },
   {
    "duration": 38,
    "start_time": "2022-04-30T19:32:13.636Z"
   },
   {
    "duration": 233,
    "start_time": "2022-04-30T19:32:13.676Z"
   },
   {
    "duration": 32,
    "start_time": "2022-04-30T19:32:13.912Z"
   },
   {
    "duration": 1315,
    "start_time": "2022-04-30T19:32:13.945Z"
   },
   {
    "duration": 174,
    "start_time": "2022-04-30T19:32:15.262Z"
   },
   {
    "duration": 643,
    "start_time": "2022-04-30T19:32:15.438Z"
   },
   {
    "duration": 621,
    "start_time": "2022-04-30T19:32:16.083Z"
   },
   {
    "duration": 300,
    "start_time": "2022-04-30T19:32:16.707Z"
   },
   {
    "duration": 23,
    "start_time": "2022-04-30T19:32:17.010Z"
   },
   {
    "duration": 9,
    "start_time": "2022-04-30T19:32:17.035Z"
   },
   {
    "duration": 346,
    "start_time": "2022-04-30T19:32:17.046Z"
   },
   {
    "duration": 47679,
    "start_time": "2022-04-30T19:32:17.394Z"
   },
   {
    "duration": 2635,
    "start_time": "2022-04-30T19:33:05.075Z"
   },
   {
    "duration": 44095,
    "start_time": "2022-04-30T19:33:07.713Z"
   },
   {
    "duration": 16,
    "start_time": "2022-04-30T19:33:51.810Z"
   },
   {
    "duration": 752,
    "start_time": "2022-04-30T19:33:51.828Z"
   },
   {
    "duration": 2532,
    "start_time": "2022-04-30T19:33:52.582Z"
   },
   {
    "duration": 1998,
    "start_time": "2022-04-30T19:33:55.116Z"
   }
  ],
  "kernelspec": {
   "display_name": "Python 3 (ipykernel)",
   "language": "python",
   "name": "python3"
  },
  "language_info": {
   "codemirror_mode": {
    "name": "ipython",
    "version": 3
   },
   "file_extension": ".py",
   "mimetype": "text/x-python",
   "name": "python",
   "nbconvert_exporter": "python",
   "pygments_lexer": "ipython3",
   "version": "3.9.5"
  },
  "toc": {
   "base_numbering": 1,
   "nav_menu": {},
   "number_sections": true,
   "sideBar": true,
   "skip_h1_title": true,
   "title_cell": "Содержание",
   "title_sidebar": "Contents",
   "toc_cell": true,
   "toc_position": {},
   "toc_section_display": true,
   "toc_window_display": true
  }
 },
 "nbformat": 4,
 "nbformat_minor": 2
}
