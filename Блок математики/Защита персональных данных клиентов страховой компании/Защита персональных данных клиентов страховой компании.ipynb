{
 "cells": [
  {
   "cell_type": "markdown",
   "metadata": {
    "toc": true
   },
   "source": [
    "<h1>Содержание<span class=\"tocSkip\"></span></h1>\n",
    "<div class=\"toc\"><ul class=\"toc-item\"><li><span><a href=\"#Аннотация:-защита-персональных-данных-клиентов\" data-toc-modified-id=\"Аннотация:-защита-персональных-данных-клиентов-1\"><span class=\"toc-item-num\">1&nbsp;&nbsp;</span>Аннотация: защита персональных данных клиентов</a></span></li><li><span><a href=\"#Знакомство-с-данными\" data-toc-modified-id=\"Знакомство-с-данными-2\"><span class=\"toc-item-num\">2&nbsp;&nbsp;</span>Знакомство с данными</a></span><ul class=\"toc-item\"><li><span><a href=\"#Выводы:\" data-toc-modified-id=\"Выводы:-2.1\"><span class=\"toc-item-num\">2.1&nbsp;&nbsp;</span>Выводы:</a></span></li></ul></li><li><span><a href=\"#Предобработка-данных\" data-toc-modified-id=\"Предобработка-данных-3\"><span class=\"toc-item-num\">3&nbsp;&nbsp;</span>Предобработка данных</a></span><ul class=\"toc-item\"><li><span><a href=\"#Выводы:\" data-toc-modified-id=\"Выводы:-3.1\"><span class=\"toc-item-num\">3.1&nbsp;&nbsp;</span>Выводы:</a></span></li></ul></li><li><span><a href=\"#Умножение-матриц\" data-toc-modified-id=\"Умножение-матриц-4\"><span class=\"toc-item-num\">4&nbsp;&nbsp;</span>Умножение матриц</a></span><ul class=\"toc-item\"><li><span><a href=\"#Выводы:\" data-toc-modified-id=\"Выводы:-4.1\"><span class=\"toc-item-num\">4.1&nbsp;&nbsp;</span>Выводы:</a></span></li></ul></li><li><span><a href=\"#Алгоритм-преобразования\" data-toc-modified-id=\"Алгоритм-преобразования-5\"><span class=\"toc-item-num\">5&nbsp;&nbsp;</span>Алгоритм преобразования</a></span></li><li><span><a href=\"#Проверка-алгоритма\" data-toc-modified-id=\"Проверка-алгоритма-6\"><span class=\"toc-item-num\">6&nbsp;&nbsp;</span>Проверка алгоритма</a></span><ul class=\"toc-item\"><li><span><a href=\"#Вывод:\" data-toc-modified-id=\"Вывод:-6.1\"><span class=\"toc-item-num\">6.1&nbsp;&nbsp;</span>Вывод:</a></span></li></ul></li><li><span><a href=\"#Итоговые-выводы\" data-toc-modified-id=\"Итоговые-выводы-7\"><span class=\"toc-item-num\">7&nbsp;&nbsp;</span>Итоговые выводы</a></span></li><li><span><a href=\"#Чек-лист-проверки\" data-toc-modified-id=\"Чек-лист-проверки-8\"><span class=\"toc-item-num\">8&nbsp;&nbsp;</span>Чек-лист проверки</a></span></li></ul></div>"
   ]
  },
  {
   "cell_type": "markdown",
   "metadata": {},
   "source": [
    "## Аннотация: защита персональных данных клиентов"
   ]
  },
  {
   "cell_type": "markdown",
   "metadata": {},
   "source": [
    "Необходимо разработать метод преобразования данных клиентов страховой компании «Хоть потоп» для их защиты через обеспечение невозможности восстановления персональной информации. \n",
    "\n",
    "**Цель** проекта: разработать алгоритм шифрования данных. \n",
    "\n",
    "**Задачи** проекта: обосновать корректность работы алгоритма и обеспечить сохранение качества модели машинного обучения на до-шифрованном уровне."
   ]
  },
  {
   "cell_type": "markdown",
   "metadata": {},
   "source": [
    "## Знакомство с данными"
   ]
  },
  {
   "cell_type": "code",
   "execution_count": 1,
   "metadata": {},
   "outputs": [],
   "source": [
    "#импортируем библиотеки и инструменты, которые понадобятся нам в исследовании\n",
    "import pandas as pd\n",
    "import numpy as np\n",
    "from sklearn.linear_model import LinearRegression\n",
    "from sklearn.metrics import r2_score\n",
    "from sklearn.model_selection import train_test_split"
   ]
  },
  {
   "cell_type": "code",
   "execution_count": 2,
   "metadata": {},
   "outputs": [
    {
     "name": "stdout",
     "output_type": "stream",
     "text": [
      "<class 'pandas.core.frame.DataFrame'>\n",
      "RangeIndex: 5000 entries, 0 to 4999\n",
      "Data columns (total 5 columns):\n",
      " #   Column             Non-Null Count  Dtype  \n",
      "---  ------             --------------  -----  \n",
      " 0   Пол                5000 non-null   int64  \n",
      " 1   Возраст            5000 non-null   float64\n",
      " 2   Зарплата           5000 non-null   float64\n",
      " 3   Члены семьи        5000 non-null   int64  \n",
      " 4   Страховые выплаты  5000 non-null   int64  \n",
      "dtypes: float64(2), int64(3)\n",
      "memory usage: 195.4 KB\n",
      "None\n",
      "\n"
     ]
    },
    {
     "data": {
      "text/html": [
       "<div>\n",
       "<style scoped>\n",
       "    .dataframe tbody tr th:only-of-type {\n",
       "        vertical-align: middle;\n",
       "    }\n",
       "\n",
       "    .dataframe tbody tr th {\n",
       "        vertical-align: top;\n",
       "    }\n",
       "\n",
       "    .dataframe thead th {\n",
       "        text-align: right;\n",
       "    }\n",
       "</style>\n",
       "<table border=\"1\" class=\"dataframe\">\n",
       "  <thead>\n",
       "    <tr style=\"text-align: right;\">\n",
       "      <th></th>\n",
       "      <th>Пол</th>\n",
       "      <th>Возраст</th>\n",
       "      <th>Зарплата</th>\n",
       "      <th>Члены семьи</th>\n",
       "      <th>Страховые выплаты</th>\n",
       "    </tr>\n",
       "  </thead>\n",
       "  <tbody>\n",
       "    <tr>\n",
       "      <th>0</th>\n",
       "      <td>1</td>\n",
       "      <td>41.0</td>\n",
       "      <td>49600.0</td>\n",
       "      <td>1</td>\n",
       "      <td>0</td>\n",
       "    </tr>\n",
       "    <tr>\n",
       "      <th>1</th>\n",
       "      <td>0</td>\n",
       "      <td>46.0</td>\n",
       "      <td>38000.0</td>\n",
       "      <td>1</td>\n",
       "      <td>1</td>\n",
       "    </tr>\n",
       "    <tr>\n",
       "      <th>2</th>\n",
       "      <td>0</td>\n",
       "      <td>29.0</td>\n",
       "      <td>21000.0</td>\n",
       "      <td>0</td>\n",
       "      <td>0</td>\n",
       "    </tr>\n",
       "    <tr>\n",
       "      <th>3</th>\n",
       "      <td>0</td>\n",
       "      <td>21.0</td>\n",
       "      <td>41700.0</td>\n",
       "      <td>2</td>\n",
       "      <td>0</td>\n",
       "    </tr>\n",
       "    <tr>\n",
       "      <th>4</th>\n",
       "      <td>1</td>\n",
       "      <td>28.0</td>\n",
       "      <td>26100.0</td>\n",
       "      <td>0</td>\n",
       "      <td>0</td>\n",
       "    </tr>\n",
       "    <tr>\n",
       "      <th>5</th>\n",
       "      <td>1</td>\n",
       "      <td>43.0</td>\n",
       "      <td>41000.0</td>\n",
       "      <td>2</td>\n",
       "      <td>1</td>\n",
       "    </tr>\n",
       "    <tr>\n",
       "      <th>6</th>\n",
       "      <td>1</td>\n",
       "      <td>39.0</td>\n",
       "      <td>39700.0</td>\n",
       "      <td>2</td>\n",
       "      <td>0</td>\n",
       "    </tr>\n",
       "    <tr>\n",
       "      <th>7</th>\n",
       "      <td>1</td>\n",
       "      <td>25.0</td>\n",
       "      <td>38600.0</td>\n",
       "      <td>4</td>\n",
       "      <td>0</td>\n",
       "    </tr>\n",
       "    <tr>\n",
       "      <th>8</th>\n",
       "      <td>1</td>\n",
       "      <td>36.0</td>\n",
       "      <td>49700.0</td>\n",
       "      <td>1</td>\n",
       "      <td>0</td>\n",
       "    </tr>\n",
       "    <tr>\n",
       "      <th>9</th>\n",
       "      <td>1</td>\n",
       "      <td>32.0</td>\n",
       "      <td>51700.0</td>\n",
       "      <td>1</td>\n",
       "      <td>0</td>\n",
       "    </tr>\n",
       "  </tbody>\n",
       "</table>\n",
       "</div>"
      ],
      "text/plain": [
       "   Пол  Возраст  Зарплата  Члены семьи  Страховые выплаты\n",
       "0    1     41.0   49600.0            1                  0\n",
       "1    0     46.0   38000.0            1                  1\n",
       "2    0     29.0   21000.0            0                  0\n",
       "3    0     21.0   41700.0            2                  0\n",
       "4    1     28.0   26100.0            0                  0\n",
       "5    1     43.0   41000.0            2                  1\n",
       "6    1     39.0   39700.0            2                  0\n",
       "7    1     25.0   38600.0            4                  0\n",
       "8    1     36.0   49700.0            1                  0\n",
       "9    1     32.0   51700.0            1                  0"
      ]
     },
     "metadata": {},
     "output_type": "display_data"
    },
    {
     "name": "stdout",
     "output_type": "stream",
     "text": [
      "\n"
     ]
    },
    {
     "data": {
      "text/html": [
       "<div>\n",
       "<style scoped>\n",
       "    .dataframe tbody tr th:only-of-type {\n",
       "        vertical-align: middle;\n",
       "    }\n",
       "\n",
       "    .dataframe tbody tr th {\n",
       "        vertical-align: top;\n",
       "    }\n",
       "\n",
       "    .dataframe thead th {\n",
       "        text-align: right;\n",
       "    }\n",
       "</style>\n",
       "<table border=\"1\" class=\"dataframe\">\n",
       "  <thead>\n",
       "    <tr style=\"text-align: right;\">\n",
       "      <th></th>\n",
       "      <th>Пол</th>\n",
       "      <th>Возраст</th>\n",
       "      <th>Зарплата</th>\n",
       "      <th>Члены семьи</th>\n",
       "      <th>Страховые выплаты</th>\n",
       "    </tr>\n",
       "  </thead>\n",
       "  <tbody>\n",
       "    <tr>\n",
       "      <th>count</th>\n",
       "      <td>5000.000000</td>\n",
       "      <td>5000.000000</td>\n",
       "      <td>5000.000000</td>\n",
       "      <td>5000.000000</td>\n",
       "      <td>5000.000000</td>\n",
       "    </tr>\n",
       "    <tr>\n",
       "      <th>mean</th>\n",
       "      <td>0.499000</td>\n",
       "      <td>30.952800</td>\n",
       "      <td>39916.360000</td>\n",
       "      <td>1.194200</td>\n",
       "      <td>0.148000</td>\n",
       "    </tr>\n",
       "    <tr>\n",
       "      <th>std</th>\n",
       "      <td>0.500049</td>\n",
       "      <td>8.440807</td>\n",
       "      <td>9900.083569</td>\n",
       "      <td>1.091387</td>\n",
       "      <td>0.463183</td>\n",
       "    </tr>\n",
       "    <tr>\n",
       "      <th>min</th>\n",
       "      <td>0.000000</td>\n",
       "      <td>18.000000</td>\n",
       "      <td>5300.000000</td>\n",
       "      <td>0.000000</td>\n",
       "      <td>0.000000</td>\n",
       "    </tr>\n",
       "    <tr>\n",
       "      <th>25%</th>\n",
       "      <td>0.000000</td>\n",
       "      <td>24.000000</td>\n",
       "      <td>33300.000000</td>\n",
       "      <td>0.000000</td>\n",
       "      <td>0.000000</td>\n",
       "    </tr>\n",
       "    <tr>\n",
       "      <th>50%</th>\n",
       "      <td>0.000000</td>\n",
       "      <td>30.000000</td>\n",
       "      <td>40200.000000</td>\n",
       "      <td>1.000000</td>\n",
       "      <td>0.000000</td>\n",
       "    </tr>\n",
       "    <tr>\n",
       "      <th>75%</th>\n",
       "      <td>1.000000</td>\n",
       "      <td>37.000000</td>\n",
       "      <td>46600.000000</td>\n",
       "      <td>2.000000</td>\n",
       "      <td>0.000000</td>\n",
       "    </tr>\n",
       "    <tr>\n",
       "      <th>max</th>\n",
       "      <td>1.000000</td>\n",
       "      <td>65.000000</td>\n",
       "      <td>79000.000000</td>\n",
       "      <td>6.000000</td>\n",
       "      <td>5.000000</td>\n",
       "    </tr>\n",
       "  </tbody>\n",
       "</table>\n",
       "</div>"
      ],
      "text/plain": [
       "               Пол      Возраст      Зарплата  Члены семьи  Страховые выплаты\n",
       "count  5000.000000  5000.000000   5000.000000  5000.000000        5000.000000\n",
       "mean      0.499000    30.952800  39916.360000     1.194200           0.148000\n",
       "std       0.500049     8.440807   9900.083569     1.091387           0.463183\n",
       "min       0.000000    18.000000   5300.000000     0.000000           0.000000\n",
       "25%       0.000000    24.000000  33300.000000     0.000000           0.000000\n",
       "50%       0.000000    30.000000  40200.000000     1.000000           0.000000\n",
       "75%       1.000000    37.000000  46600.000000     2.000000           0.000000\n",
       "max       1.000000    65.000000  79000.000000     6.000000           5.000000"
      ]
     },
     "metadata": {},
     "output_type": "display_data"
    },
    {
     "name": "stdout",
     "output_type": "stream",
     "text": [
      "\n",
      "Количество явных дубликатов: 153\n"
     ]
    }
   ],
   "source": [
    "initial_data = pd.read_csv('/datasets/insurance.csv') #применяем специальный метод для чтения файла формата csv\n",
    "\n",
    "#выводим основную информацию о датасете\n",
    "print(initial_data.info())\n",
    "print()\n",
    "display(initial_data.head(10)) \n",
    "print()\n",
    "display(initial_data.describe()) \n",
    "print()\n",
    "print('Количество явных дубликатов:', initial_data.duplicated().sum())"
   ]
  },
  {
   "cell_type": "markdown",
   "metadata": {},
   "source": [
    "### Выводы:"
   ]
  },
  {
   "cell_type": "markdown",
   "metadata": {},
   "source": [
    "Знакомство с данными позволило выявить следующие особенности:\n",
    "- исходный фрейм состоит из 5 столбцов и 5000 строк;\n",
    "- пропусков в данных не обнаружено;\n",
    "- данные в столбце с возрастом имеют некорректный тип;\n",
    "- столбцы проименованы некорректно;\n",
    "- обнаружено 153 явных дубликата;\n",
    "- возможно присутствие аномалий в столбцах с количеством членов семьи и страховых выплат.\n",
    "\n",
    "На следующем этапе исследования предобработаем исходные данные для улучшения их качества."
   ]
  },
  {
   "cell_type": "markdown",
   "metadata": {},
   "source": [
    "## Предобработка данных"
   ]
  },
  {
   "cell_type": "markdown",
   "metadata": {},
   "source": [
    "Начнем предобработку данных с удаления из них явных дубликатов."
   ]
  },
  {
   "cell_type": "code",
   "execution_count": 3,
   "metadata": {},
   "outputs": [
    {
     "name": "stdout",
     "output_type": "stream",
     "text": [
      "Количество явных дубликатов: 0\n"
     ]
    }
   ],
   "source": [
    "initial_data = initial_data.drop_duplicates().reset_index(drop=True) #удаляем дубликаты\n",
    "print('Количество явных дубликатов:', initial_data.duplicated().sum()) #проверяем результат"
   ]
  },
  {
   "cell_type": "markdown",
   "metadata": {},
   "source": [
    "Далее переименуем столбцы согласно правилам стиля и скорректируем тип данных в столбце с возрастом клиентов."
   ]
  },
  {
   "cell_type": "code",
   "execution_count": 4,
   "metadata": {},
   "outputs": [],
   "source": [
    "#переименовываем столбцы\n",
    "initial_data.columns = ['gender', 'age', 'salary', 'number_of_family_members', 'number_of_insurance_payments']\n",
    "#меняем тип данных\n",
    "initial_data['age'] = initial_data['age'].astype('int')  "
   ]
  },
  {
   "cell_type": "markdown",
   "metadata": {},
   "source": [
    "Через построение графиков проверим данные о количестве членов семьи и страховых выплат на наличие аномалий."
   ]
  },
  {
   "cell_type": "code",
   "execution_count": 5,
   "metadata": {},
   "outputs": [
    {
     "data": {
      "text/plain": [
       "<AxesSubplot:title={'center':'number_of_family_members'}, ylabel='Frequency'>"
      ]
     },
     "execution_count": 5,
     "metadata": {},
     "output_type": "execute_result"
    },
    {
     "data": {
      "image/png": "[encoded data removed]",
      "text/plain": [
       "<Figure size 720x504 with 1 Axes>"
      ]
     },
     "metadata": {
      "needs_background": "light"
     },
     "output_type": "display_data"
    }
   ],
   "source": [
    "initial_data['number_of_family_members'].plot(kind='hist', bins = 5, figsize=(10,7), grid=True, title='number_of_family_members')"
   ]
  },
  {
   "cell_type": "code",
   "execution_count": 6,
   "metadata": {},
   "outputs": [
    {
     "data": {
      "text/plain": [
       "<AxesSubplot:title={'center':'number_of_insurance_payments'}, ylabel='Frequency'>"
      ]
     },
     "execution_count": 6,
     "metadata": {},
     "output_type": "execute_result"
    },
    {
     "data": {
      "image/png": "[encoded data removed]",
      "text/plain": [
       "<Figure size 504x504 with 1 Axes>"
      ]
     },
     "metadata": {
      "needs_background": "light"
     },
     "output_type": "display_data"
    }
   ],
   "source": [
    "initial_data['number_of_insurance_payments'].plot(kind='hist', bins = 5, figsize=(7,7), grid=True, title='number_of_insurance_payments')"
   ]
  },
  {
   "cell_type": "markdown",
   "metadata": {},
   "source": [
    "Аномальных значений не обнаружено."
   ]
  },
  {
   "cell_type": "markdown",
   "metadata": {},
   "source": [
    "### Выводы:"
   ]
  },
  {
   "cell_type": "markdown",
   "metadata": {},
   "source": [
    "На этапе предобработки данных было сделано следующее:\n",
    "- удалены строки, содержащие дубликаты;\n",
    "- переименованы столбцы в соответствии с правилами стиля;\n",
    "- скорректирован тип данных столбца age;\n",
    "- предположение о наличии аномальных значений в столбцах number_of_family_members и number_of_insurance_payments не подтвердилось.\n",
    "\n",
    "На следующем этапе произведем математическое обоснование предположения, которое составит основу будущего алгоритма."
   ]
  },
  {
   "cell_type": "markdown",
   "metadata": {},
   "source": [
    "## Умножение матриц"
   ]
  },
  {
   "cell_type": "markdown",
   "metadata": {},
   "source": [
    "Обозначения:\n",
    "\n",
    "- $X$ — матрица признаков (нулевой столбец состоит из единиц)\n",
    "\n",
    "- $y$ — вектор целевого признака\n",
    "\n",
    "- $P$ — матрица, на которую умножаются признаки\n",
    "\n",
    "- $w$ — вектор весов линейной регрессии (нулевой элемент равен сдвигу)"
   ]
  },
  {
   "cell_type": "markdown",
   "metadata": {},
   "source": [
    "Предсказания:\n",
    "\n",
    "$$\n",
    "a = Xw\n",
    "$$\n",
    "\n",
    "Задача обучения:\n",
    "\n",
    "$$\n",
    "w = \\arg\\min_w MSE(Xw, y)\n",
    "$$\n",
    "\n",
    "Формула обучения:\n",
    "\n",
    "$$\n",
    "w = (X^T X)^{-1} X^T y\n",
    "$$"
   ]
  },
  {
   "cell_type": "markdown",
   "metadata": {},
   "source": [
    "**Вопрос:** Изменится ли качество линейной регрессии при умножении признаков на обратимую матрицу?\n",
    "\n",
    "**Ответ:** Нет, не изменится.\n",
    "\n",
    "**Обоснование:** В формуле предсказаний домножим матрицу признаков Х на обратимую матрицу Р. Получим:\n",
    "\n",
    "$$ a' = XP((XР)^T (XP))^{-1} (XР)^T y $$\n",
    "\n",
    "С учетом свойств матриц 1.1 и 1.2 раскроем скобки.\n",
    "\n",
    "$$ (АВ)^{-1} = В^{-1} А^{-1}   (1.1) $$\n",
    "$$ (АВ)^Т = В^Т А^Т   (1.2) $$\n",
    "\n",
    "$$ a' = XP (P^T (X^T X) P)^{-1} P^T X^T y = XP P^{-1} (X^T X)^{-1} (P^T)^{-1} P^T X^T y$$\n",
    "\n",
    "Продолжим преобразования с учетом свойств матриц 1.3 и 1.4 (E - единичная матрица).\n",
    "\n",
    "$$ EA = AE = A   (1.3) $$\n",
    "$$ A^{-1} A = E  (1.4) $$\n",
    "\n",
    "$$ a' = XE (X^T X)^{-1} E X^T y $$\n",
    "$$ a' = X (X^T X)^{-1}  X^T y $$\n",
    "$$ a' = X w $$\n",
    "\n",
    "Следовательно, $ a = a' $. Значит, домножение матрицы признаков Х на обратимую матрицу Р не изменило первоначальное предсказание."
   ]
  },
  {
   "cell_type": "markdown",
   "metadata": {},
   "source": [
    "### Выводы:"
   ]
  },
  {
   "cell_type": "markdown",
   "metadata": {},
   "source": [
    "Нами было доказано, что, при умножении матрицы признаков на случайно сгенерированную обратимую матрицу, качество линейной регрессии не изменится. Основываясь на этом, на следующем этапе разработаем алгоритм преобразования данных клиентов."
   ]
  },
  {
   "cell_type": "markdown",
   "metadata": {},
   "source": [
    "## Алгоритм преобразования"
   ]
  },
  {
   "cell_type": "markdown",
   "metadata": {},
   "source": [
    "**Алгоритм**\n",
    "\n",
    "С целью шифрования данных пользователей, умножим матрицу признаков на случайно сгенерированную обратимую матрицу P размером nxn, где n - количество нецелевых признаков. \n",
    "\n",
    "Затем произведем обучение модели линейной регресии на исходных и обработанных данных, сделаем предсказания, произведем оценку качества работы моделей и сравним полученные значения метрик между собой."
   ]
  },
  {
   "cell_type": "markdown",
   "metadata": {},
   "source": [
    "**Обоснование**\n",
    "\n",
    "Согласно данным предыдущего шага, такой алгоритм приведет к получению одинаковых результатов. Допустима небольшая погрешность."
   ]
  },
  {
   "cell_type": "markdown",
   "metadata": {},
   "source": [
    "## Проверка алгоритма"
   ]
  },
  {
   "cell_type": "markdown",
   "metadata": {},
   "source": [
    "Проверим предложенный на предыдущем этапе алгоритм на имеющихся в нашем распоряжении данных клиентов страховой компании."
   ]
  },
  {
   "cell_type": "code",
   "execution_count": 7,
   "metadata": {},
   "outputs": [
    {
     "name": "stdout",
     "output_type": "stream",
     "text": [
      "         gender          age       salary  number_of_family_members\n",
      "0  30452.082092  4451.559082  4566.688182              42278.070894\n",
      "1  23335.833096  3420.096732  3502.095395              32402.583007\n",
      "2  12896.892203  1892.136494  1935.726413              17909.306471\n",
      "3  25598.017698  3733.756131  3836.625994              35532.893986\n",
      "4  16026.036328  2346.693856  2404.393356              22252.641111\n"
     ]
    }
   ],
   "source": [
    "#разделим исходную таблицу на признаки и целевой признак\n",
    "initial_features = initial_data.drop(columns='number_of_insurance_payments')\n",
    "initial_target = initial_data['number_of_insurance_payments']\n",
    "\n",
    "#сгенерируем случайную матрицу нужного размера с учетом ее обратимости\n",
    "while True:\n",
    "    random_matrix = np.random.rand(4, 4)\n",
    "    try:\n",
    "        inv_matrix = np.linalg.inv(random_matrix)\n",
    "        break\n",
    "    except:\n",
    "        continue\n",
    "        \n",
    "new_features = np.array(initial_features) @ random_matrix #умножим матрицу признаков на случайную матрицу\n",
    "new_features = pd.DataFrame(new_features)\n",
    "new_features.columns = initial_features.columns #обозначим столбцы для удобства дальнейшей работы\n",
    "\n",
    "print(new_features.head())"
   ]
  },
  {
   "cell_type": "code",
   "execution_count": 8,
   "metadata": {},
   "outputs": [],
   "source": [
    "#делим исходные и преобразованные данные данные на обучающую и тестовую выборки\n",
    "initial_features_train, initial_features_test, initial_target_train, initial_target_test = train_test_split(initial_features, \n",
    "                                                                    initial_target, test_size = 0.25, random_state = 12345)\n",
    "\n",
    "new_features_train, new_features_test, new_target_train, new_target_test = train_test_split(new_features, initial_target, \n",
    "                                                                                        test_size = 0.25, random_state = 12345)"
   ]
  },
  {
   "cell_type": "code",
   "execution_count": 9,
   "metadata": {},
   "outputs": [
    {
     "name": "stdout",
     "output_type": "stream",
     "text": [
      "R2-score до шифрования: 0.42307727492147296\n",
      "R2-score после шифрования:  0.4230772749214361\n"
     ]
    }
   ],
   "source": [
    "#обучаем и тестируем модель на исходных данных\n",
    "model = LinearRegression()\n",
    "model.fit(initial_features_train, initial_target_train)\n",
    "predictions = model.predict(initial_features_test)\n",
    "r2_initial = r2_score(initial_target_test, predictions) #определям качество модели\n",
    "\n",
    "#обучаем и тестируем модель на преобразованных данных\n",
    "new_model = LinearRegression()\n",
    "new_model.fit(new_features_train, new_target_train)\n",
    "new_predictions = new_model.predict(new_features_test)\n",
    "r2_new = r2_score(new_target_test, new_predictions)\n",
    "\n",
    "print('R2-score до шифрования:', r2_initial)\n",
    "print('R2-score после шифрования: ', r2_new)"
   ]
  },
  {
   "cell_type": "markdown",
   "metadata": {},
   "source": [
    "### Вывод:"
   ]
  },
  {
   "cell_type": "markdown",
   "metadata": {},
   "source": [
    "После преобразования данных значение метрики R2-score практически не изменилось, следовательно, предложенный ранее алгоритм работает корректно."
   ]
  },
  {
   "cell_type": "markdown",
   "metadata": {},
   "source": [
    "## Итоговые выводы"
   ]
  },
  {
   "cell_type": "markdown",
   "metadata": {},
   "source": [
    "В ходе данного проекта был разработан алгоритм преобразования персональных данных клиентов страховой компании «Хоть потоп» с целью их шифрования и защиты. Искомым методом преобразования стало умножение матрицы признаков на случайно сгенерированную обратимую матрицу. \n",
    "\n",
    "Согласно проведенным исследованиям, данная операция не влияет на качество работы модели линейной регрессии."
   ]
  }
 ],
 "metadata": {
  "ExecuteTimeLog": [
   {
    "duration": 690,
    "start_time": "2022-03-27T11:33:00.133Z"
   },
   {
    "duration": 56,
    "start_time": "2022-03-27T11:33:00.904Z"
   },
   {
    "duration": 58,
    "start_time": "2022-03-27T15:08:19.336Z"
   },
   {
    "duration": 1155,
    "start_time": "2022-03-27T15:10:09.322Z"
   },
   {
    "duration": 54,
    "start_time": "2022-03-27T15:10:10.479Z"
   },
   {
    "duration": 1071,
    "start_time": "2022-03-29T12:32:28.280Z"
   },
   {
    "duration": 49,
    "start_time": "2022-03-29T12:32:29.353Z"
   },
   {
    "duration": 97,
    "start_time": "2022-03-29T12:32:32.398Z"
   },
   {
    "duration": 6,
    "start_time": "2022-03-29T12:35:01.065Z"
   },
   {
    "duration": 8,
    "start_time": "2022-03-29T12:36:02.860Z"
   },
   {
    "duration": 3,
    "start_time": "2022-03-29T12:47:41.207Z"
   },
   {
    "duration": 4,
    "start_time": "2022-03-29T12:47:42.494Z"
   },
   {
    "duration": 173,
    "start_time": "2022-03-29T12:51:08.918Z"
   },
   {
    "duration": 597,
    "start_time": "2022-03-29T12:51:27.962Z"
   },
   {
    "duration": 152,
    "start_time": "2022-03-29T12:52:54.344Z"
   },
   {
    "duration": 152,
    "start_time": "2022-03-29T12:54:03.497Z"
   },
   {
    "duration": 143,
    "start_time": "2022-03-29T12:54:26.774Z"
   },
   {
    "duration": 132,
    "start_time": "2022-03-29T12:54:47.746Z"
   },
   {
    "duration": 141,
    "start_time": "2022-03-29T12:55:09.547Z"
   },
   {
    "duration": 1260,
    "start_time": "2022-03-31T13:50:06.680Z"
   },
   {
    "duration": 53,
    "start_time": "2022-03-31T13:50:07.942Z"
   },
   {
    "duration": 5,
    "start_time": "2022-03-31T13:50:07.997Z"
   },
   {
    "duration": 3,
    "start_time": "2022-03-31T13:50:08.004Z"
   },
   {
    "duration": 5,
    "start_time": "2022-03-31T13:50:08.009Z"
   },
   {
    "duration": 565,
    "start_time": "2022-03-31T13:50:08.016Z"
   },
   {
    "duration": 133,
    "start_time": "2022-03-31T13:50:08.582Z"
   },
   {
    "duration": 108,
    "start_time": "2022-03-31T13:50:13.162Z"
   },
   {
    "duration": 11,
    "start_time": "2022-03-31T13:54:18.280Z"
   },
   {
    "duration": 14,
    "start_time": "2022-03-31T13:54:31.065Z"
   },
   {
    "duration": 5,
    "start_time": "2022-03-31T13:56:28.949Z"
   },
   {
    "duration": 14,
    "start_time": "2022-03-31T14:01:38.668Z"
   },
   {
    "duration": 7,
    "start_time": "2022-03-31T14:02:51.766Z"
   },
   {
    "duration": 16,
    "start_time": "2022-03-31T14:03:34.201Z"
   },
   {
    "duration": 5,
    "start_time": "2022-03-31T14:04:18.229Z"
   },
   {
    "duration": 13,
    "start_time": "2022-03-31T14:04:28.059Z"
   },
   {
    "duration": 827,
    "start_time": "2022-03-31T14:05:20.231Z"
   },
   {
    "duration": 13,
    "start_time": "2022-03-31T14:05:37.436Z"
   },
   {
    "duration": 7,
    "start_time": "2022-03-31T14:06:26.734Z"
   },
   {
    "duration": 6,
    "start_time": "2022-03-31T14:15:51.194Z"
   },
   {
    "duration": 14,
    "start_time": "2022-03-31T14:15:52.324Z"
   },
   {
    "duration": 8,
    "start_time": "2022-03-31T14:23:17.544Z"
   },
   {
    "duration": 16,
    "start_time": "2022-03-31T14:23:18.804Z"
   },
   {
    "duration": 5,
    "start_time": "2022-03-31T20:04:02.900Z"
   },
   {
    "duration": 12,
    "start_time": "2022-03-31T20:04:04.194Z"
   },
   {
    "duration": 6,
    "start_time": "2022-03-31T20:04:39.421Z"
   },
   {
    "duration": 12,
    "start_time": "2022-03-31T20:04:40.354Z"
   },
   {
    "duration": 1205,
    "start_time": "2022-04-01T06:57:34.341Z"
   },
   {
    "duration": 56,
    "start_time": "2022-04-01T06:57:35.547Z"
   },
   {
    "duration": 6,
    "start_time": "2022-04-01T06:57:35.604Z"
   },
   {
    "duration": 9,
    "start_time": "2022-04-01T06:57:35.612Z"
   },
   {
    "duration": 7,
    "start_time": "2022-04-01T06:57:35.623Z"
   },
   {
    "duration": 602,
    "start_time": "2022-04-01T06:57:35.632Z"
   },
   {
    "duration": 145,
    "start_time": "2022-04-01T06:57:36.236Z"
   },
   {
    "duration": 9,
    "start_time": "2022-04-01T06:57:40.143Z"
   },
   {
    "duration": 101,
    "start_time": "2022-04-01T06:57:41.063Z"
   },
   {
    "duration": 3,
    "start_time": "2022-04-01T07:01:48.057Z"
   },
   {
    "duration": 53,
    "start_time": "2022-04-01T07:01:48.061Z"
   },
   {
    "duration": 2,
    "start_time": "2022-04-01T07:01:48.116Z"
   },
   {
    "duration": 7,
    "start_time": "2022-04-01T07:01:48.119Z"
   },
   {
    "duration": 155,
    "start_time": "2022-04-01T07:01:48.128Z"
   },
   {
    "duration": 123,
    "start_time": "2022-04-01T07:01:48.284Z"
   },
   {
    "duration": 14,
    "start_time": "2022-04-01T07:01:51.874Z"
   },
   {
    "duration": 13,
    "start_time": "2022-04-01T07:01:53.361Z"
   },
   {
    "duration": 6,
    "start_time": "2022-04-01T07:02:24.732Z"
   },
   {
    "duration": 13,
    "start_time": "2022-04-01T07:02:25.588Z"
   },
   {
    "duration": 8,
    "start_time": "2022-04-01T07:02:27.649Z"
   },
   {
    "duration": 3,
    "start_time": "2022-04-01T07:04:43.267Z"
   },
   {
    "duration": 62,
    "start_time": "2022-04-01T07:04:43.272Z"
   },
   {
    "duration": 6,
    "start_time": "2022-04-01T07:04:43.335Z"
   },
   {
    "duration": 20,
    "start_time": "2022-04-01T07:04:43.342Z"
   },
   {
    "duration": 18,
    "start_time": "2022-04-01T07:04:43.363Z"
   },
   {
    "duration": 137,
    "start_time": "2022-04-01T07:04:43.382Z"
   },
   {
    "duration": 128,
    "start_time": "2022-04-01T07:04:43.520Z"
   },
   {
    "duration": 7,
    "start_time": "2022-04-01T07:04:43.649Z"
   },
   {
    "duration": 10,
    "start_time": "2022-04-01T07:04:43.681Z"
   },
   {
    "duration": 99,
    "start_time": "2022-04-01T07:04:43.692Z"
   },
   {
    "duration": 15,
    "start_time": "2022-04-01T07:05:06.879Z"
   },
   {
    "duration": 17,
    "start_time": "2022-04-01T07:05:30.667Z"
   },
   {
    "duration": 3,
    "start_time": "2022-04-01T07:46:39.718Z"
   },
   {
    "duration": 63,
    "start_time": "2022-04-01T07:46:39.724Z"
   },
   {
    "duration": 8,
    "start_time": "2022-04-01T07:46:39.858Z"
   },
   {
    "duration": 4,
    "start_time": "2022-04-01T07:46:39.926Z"
   },
   {
    "duration": 196,
    "start_time": "2022-04-01T07:46:40.043Z"
   },
   {
    "duration": 143,
    "start_time": "2022-04-01T07:46:40.241Z"
   },
   {
    "duration": 9,
    "start_time": "2022-04-01T07:46:40.685Z"
   },
   {
    "duration": 6,
    "start_time": "2022-04-01T07:46:40.697Z"
   },
   {
    "duration": 84,
    "start_time": "2022-04-01T07:46:40.705Z"
   },
   {
    "duration": 3,
    "start_time": "2022-04-01T07:47:29.778Z"
   },
   {
    "duration": 54,
    "start_time": "2022-04-01T07:47:29.783Z"
   },
   {
    "duration": 6,
    "start_time": "2022-04-01T07:47:29.839Z"
   },
   {
    "duration": 5,
    "start_time": "2022-04-01T07:47:29.847Z"
   },
   {
    "duration": 129,
    "start_time": "2022-04-01T07:47:29.853Z"
   },
   {
    "duration": 130,
    "start_time": "2022-04-01T07:47:29.983Z"
   },
   {
    "duration": 10,
    "start_time": "2022-04-01T07:47:30.114Z"
   },
   {
    "duration": 58,
    "start_time": "2022-04-01T07:47:30.126Z"
   },
   {
    "duration": 12,
    "start_time": "2022-04-01T07:47:30.186Z"
   },
   {
    "duration": 3,
    "start_time": "2022-04-01T07:52:58.704Z"
   },
   {
    "duration": 53,
    "start_time": "2022-04-01T07:52:58.709Z"
   },
   {
    "duration": 8,
    "start_time": "2022-04-01T07:52:58.765Z"
   },
   {
    "duration": 5,
    "start_time": "2022-04-01T07:52:58.774Z"
   },
   {
    "duration": 134,
    "start_time": "2022-04-01T07:52:58.781Z"
   },
   {
    "duration": 141,
    "start_time": "2022-04-01T07:52:58.917Z"
   },
   {
    "duration": 22,
    "start_time": "2022-04-01T07:52:59.061Z"
   },
   {
    "duration": 9,
    "start_time": "2022-04-01T07:52:59.085Z"
   },
   {
    "duration": 93,
    "start_time": "2022-04-01T07:52:59.095Z"
   },
   {
    "duration": 2,
    "start_time": "2022-04-01T07:59:06.159Z"
   },
   {
    "duration": 75,
    "start_time": "2022-04-01T07:59:06.163Z"
   },
   {
    "duration": 7,
    "start_time": "2022-04-01T07:59:06.239Z"
   },
   {
    "duration": 3,
    "start_time": "2022-04-01T07:59:06.248Z"
   },
   {
    "duration": 201,
    "start_time": "2022-04-01T07:59:06.254Z"
   },
   {
    "duration": 151,
    "start_time": "2022-04-01T07:59:06.457Z"
   },
   {
    "duration": 10,
    "start_time": "2022-04-01T07:59:06.610Z"
   },
   {
    "duration": 64,
    "start_time": "2022-04-01T07:59:06.622Z"
   },
   {
    "duration": 93,
    "start_time": "2022-04-01T07:59:06.689Z"
   },
   {
    "duration": 1253,
    "start_time": "2022-04-03T14:13:28.771Z"
   },
   {
    "duration": 57,
    "start_time": "2022-04-03T14:13:30.026Z"
   },
   {
    "duration": 7,
    "start_time": "2022-04-03T14:13:30.085Z"
   },
   {
    "duration": 6,
    "start_time": "2022-04-03T14:13:30.094Z"
   },
   {
    "duration": 604,
    "start_time": "2022-04-03T14:13:30.101Z"
   },
   {
    "duration": 142,
    "start_time": "2022-04-03T14:13:30.707Z"
   },
   {
    "duration": 38,
    "start_time": "2022-04-03T14:13:30.851Z"
   },
   {
    "duration": 111,
    "start_time": "2022-04-03T14:13:30.891Z"
   },
   {
    "duration": 92,
    "start_time": "2022-04-03T14:13:31.003Z"
   }
  ],
  "kernelspec": {
   "display_name": "Python 3 (ipykernel)",
   "language": "python",
   "name": "python3"
  },
  "language_info": {
   "codemirror_mode": {
    "name": "ipython",
    "version": 3
   },
   "file_extension": ".py",
   "mimetype": "text/x-python",
   "name": "python",
   "nbconvert_exporter": "python",
   "pygments_lexer": "ipython3",
   "version": "3.9.5"
  },
  "toc": {
   "base_numbering": 1,
   "nav_menu": {},
   "number_sections": true,
   "sideBar": true,
   "skip_h1_title": true,
   "title_cell": "Содержание",
   "title_sidebar": "Contents",
   "toc_cell": true,
   "toc_position": {},
   "toc_section_display": true,
   "toc_window_display": true
  }
 },
 "nbformat": 4,
 "nbformat_minor": 2
}
