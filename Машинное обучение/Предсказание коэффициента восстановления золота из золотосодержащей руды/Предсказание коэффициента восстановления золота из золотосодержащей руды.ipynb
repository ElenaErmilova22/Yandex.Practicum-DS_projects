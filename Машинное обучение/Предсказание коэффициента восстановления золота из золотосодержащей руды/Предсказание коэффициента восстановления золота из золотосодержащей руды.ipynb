{
 "cells": [
  {
   "cell_type": "markdown",
   "metadata": {
    "toc": true
   },
   "source": [
    "<h1>Содержание<span class=\"tocSkip\"></span></h1>\n",
    "<div class=\"toc\"><ul class=\"toc-item\"><li><span><a href=\"#Аннотация:-Восстановление-золота-из-руды\" data-toc-modified-id=\"Аннотация:-Восстановление-золота-из-руды-1\"><span class=\"toc-item-num\">1&nbsp;&nbsp;</span>Аннотация: Восстановление золота из руды</a></span></li><li><span><a href=\"#Знакомство-с-данными\" data-toc-modified-id=\"Знакомство-с-данными-2\"><span class=\"toc-item-num\">2&nbsp;&nbsp;</span>Знакомство с данными</a></span><ul class=\"toc-item\"><li><span><a href=\"#Импорт-библиотек-и-обзор-исходных-данных\" data-toc-modified-id=\"Импорт-библиотек-и-обзор-исходных-данных-2.1\"><span class=\"toc-item-num\">2.1&nbsp;&nbsp;</span>Импорт библиотек и обзор исходных данных</a></span></li><li><span><a href=\"#Проверка-корректности-расчетов\" data-toc-modified-id=\"Проверка-корректности-расчетов-2.2\"><span class=\"toc-item-num\">2.2&nbsp;&nbsp;</span>Проверка корректности расчетов</a></span></li><li><span><a href=\"#Анализ-признаков,-недоступных-в-тестовой-выборке\" data-toc-modified-id=\"Анализ-признаков,-недоступных-в-тестовой-выборке-2.3\"><span class=\"toc-item-num\">2.3&nbsp;&nbsp;</span>Анализ признаков, недоступных в тестовой выборке</a></span></li><li><span><a href=\"#Вывод\" data-toc-modified-id=\"Вывод-2.4\"><span class=\"toc-item-num\">2.4&nbsp;&nbsp;</span>Вывод</a></span></li></ul></li><li><span><a href=\"#Предобработка-данных\" data-toc-modified-id=\"Предобработка-данных-3\"><span class=\"toc-item-num\">3&nbsp;&nbsp;</span>Предобработка данных</a></span><ul class=\"toc-item\"><li><span><a href=\"#Вывод\" data-toc-modified-id=\"Вывод-3.1\"><span class=\"toc-item-num\">3.1&nbsp;&nbsp;</span>Вывод</a></span></li></ul></li><li><span><a href=\"#Анализ-данных\" data-toc-modified-id=\"Анализ-данных-4\"><span class=\"toc-item-num\">4&nbsp;&nbsp;</span>Анализ данных</a></span><ul class=\"toc-item\"><li><span><a href=\"#Исследование-концентрации-металлов\" data-toc-modified-id=\"Исследование-концентрации-металлов-4.1\"><span class=\"toc-item-num\">4.1&nbsp;&nbsp;</span>Исследование концентрации металлов</a></span></li><li><span><a href=\"#Анализ-размеров-гранул-сырья\" data-toc-modified-id=\"Анализ-размеров-гранул-сырья-4.2\"><span class=\"toc-item-num\">4.2&nbsp;&nbsp;</span>Анализ размеров гранул сырья</a></span></li><li><span><a href=\"#Исследование-суммарной-концентрации\" data-toc-modified-id=\"Исследование-суммарной-концентрации-4.3\"><span class=\"toc-item-num\">4.3&nbsp;&nbsp;</span>Исследование суммарной концентрации</a></span></li><li><span><a href=\"#Вывод\" data-toc-modified-id=\"Вывод-4.4\"><span class=\"toc-item-num\">4.4&nbsp;&nbsp;</span>Вывод</a></span></li></ul></li><li><span><a href=\"#Обучение-и-тестирование-моделей\" data-toc-modified-id=\"Обучение-и-тестирование-моделей-5\"><span class=\"toc-item-num\">5&nbsp;&nbsp;</span>Обучение и тестирование моделей</a></span><ul class=\"toc-item\"><li><span><a href=\"#Подготовка-к-машинному-обучению\" data-toc-modified-id=\"Подготовка-к-машинному-обучению-5.1\"><span class=\"toc-item-num\">5.1&nbsp;&nbsp;</span>Подготовка к машинному обучению</a></span></li><li><span><a href=\"#Обучение-моделей\" data-toc-modified-id=\"Обучение-моделей-5.2\"><span class=\"toc-item-num\">5.2&nbsp;&nbsp;</span>Обучение моделей</a></span></li><li><span><a href=\"#Проверка-моделей-и-выбор-лучшей\" data-toc-modified-id=\"Проверка-моделей-и-выбор-лучшей-5.3\"><span class=\"toc-item-num\">5.3&nbsp;&nbsp;</span>Проверка моделей и выбор лучшей</a></span></li><li><span><a href=\"#Вывод\" data-toc-modified-id=\"Вывод-5.4\"><span class=\"toc-item-num\">5.4&nbsp;&nbsp;</span>Вывод</a></span></li></ul></li><li><span><a href=\"#Итоговые-выводы\" data-toc-modified-id=\"Итоговые-выводы-6\"><span class=\"toc-item-num\">6&nbsp;&nbsp;</span>Итоговые выводы</a></span></li></ul></div>"
   ]
  },
  {
   "cell_type": "markdown",
   "metadata": {},
   "source": [
    "## Аннотация: Восстановление золота из руды"
   ]
  },
  {
   "cell_type": "markdown",
   "metadata": {},
   "source": [
    "На основе данных с параметрами добычи и очистки металлической руды необходимо подготовить прототип модели машинного обучения, предсказывающей коэффициент восстановления золота из золотосодержащей руды, для оптимизации производства. \n",
    "\n",
    "**Цель** проекта: выбрать модель с наилучшими значениями метрик качества: sMAPE и итогового sMAPE. \n",
    "\n",
    "**Задачи** проекта:\n",
    "- подготовка данных для целей машинного обучения;\n",
    "- проведение исследовательского анализа данных;\n",
    "- создание и обучение моделей;\n",
    "- тест моделей и расчет метрик качества."
   ]
  },
  {
   "cell_type": "markdown",
   "metadata": {},
   "source": [
    "## Знакомство с данными"
   ]
  },
  {
   "cell_type": "markdown",
   "metadata": {},
   "source": [
    "### Импорт библиотек и обзор исходных данных"
   ]
  },
  {
   "cell_type": "code",
   "execution_count": 1,
   "metadata": {},
   "outputs": [],
   "source": [
    "#импортируем библиотеки, которые понадобятся нам в ходе исследования\n",
    "import pandas as pd\n",
    "import numpy as np\n",
    "import seaborn as sns\n",
    "import matplotlib.pyplot as plt\n",
    "import warnings\n",
    "from sklearn.metrics import mean_absolute_error, make_scorer\n",
    "from sklearn.tree import DecisionTreeRegressor\n",
    "from sklearn.ensemble import RandomForestRegressor\n",
    "from sklearn.model_selection import GridSearchCV\n",
    "from sklearn.dummy import DummyRegressor"
   ]
  },
  {
   "cell_type": "code",
   "execution_count": 2,
   "metadata": {},
   "outputs": [],
   "source": [
    "#применяем специальный метод для чтения файлов формата csv\n",
    "train_data = pd.read_csv ('/datasets/gold_recovery_train_new.csv')\n",
    "test_data = pd.read_csv ('/datasets/gold_recovery_test_new.csv')\n",
    "full_data = pd.read_csv ('/datasets/gold_recovery_full_new.csv')"
   ]
  },
  {
   "cell_type": "markdown",
   "metadata": {},
   "source": [
    "Теперь необходимо ознакомиться с имеющимися данными, провести их первичный анализ, чтобы получить общее представление о том, с чем придется работать в ходе исследования, и чтобы выявить проблемы в данных, которые нужно будет устранить на этапе предобработки. \n",
    "\n",
    "Так как в этот раз мы будем работать сразу с несколькими исходными таблицами, то удобнее будет автоматизировать процесс получения необходимой информации. Создадим функцию, которая будет выводить:\n",
    "- общую информацию о таблице;\n",
    "- 10 первых строк фрейма;\n",
    "- результаты проверки на наличие в данных явных дубликатов."
   ]
  },
  {
   "cell_type": "code",
   "execution_count": 3,
   "metadata": {},
   "outputs": [],
   "source": [
    "def study_of_initial_data(data): #создаем функцию\n",
    "    print(data.info())\n",
    "    print()\n",
    "    display(data.head(10))\n",
    "    print()\n",
    "    print(data.duplicated().sum())"
   ]
  },
  {
   "cell_type": "code",
   "execution_count": 4,
   "metadata": {},
   "outputs": [
    {
     "name": "stdout",
     "output_type": "stream",
     "text": [
      "<class 'pandas.core.frame.DataFrame'>\n",
      "RangeIndex: 14149 entries, 0 to 14148\n",
      "Data columns (total 87 columns):\n",
      " #   Column                                              Non-Null Count  Dtype  \n",
      "---  ------                                              --------------  -----  \n",
      " 0   date                                                14149 non-null  object \n",
      " 1   final.output.concentrate_ag                         14148 non-null  float64\n",
      " 2   final.output.concentrate_pb                         14148 non-null  float64\n",
      " 3   final.output.concentrate_sol                        13938 non-null  float64\n",
      " 4   final.output.concentrate_au                         14149 non-null  float64\n",
      " 5   final.output.recovery                               14149 non-null  float64\n",
      " 6   final.output.tail_ag                                14149 non-null  float64\n",
      " 7   final.output.tail_pb                                14049 non-null  float64\n",
      " 8   final.output.tail_sol                               14144 non-null  float64\n",
      " 9   final.output.tail_au                                14149 non-null  float64\n",
      " 10  primary_cleaner.input.sulfate                       14129 non-null  float64\n",
      " 11  primary_cleaner.input.depressant                    14117 non-null  float64\n",
      " 12  primary_cleaner.input.feed_size                     14149 non-null  float64\n",
      " 13  primary_cleaner.input.xanthate                      14049 non-null  float64\n",
      " 14  primary_cleaner.output.concentrate_ag               14149 non-null  float64\n",
      " 15  primary_cleaner.output.concentrate_pb               14063 non-null  float64\n",
      " 16  primary_cleaner.output.concentrate_sol              13863 non-null  float64\n",
      " 17  primary_cleaner.output.concentrate_au               14149 non-null  float64\n",
      " 18  primary_cleaner.output.tail_ag                      14148 non-null  float64\n",
      " 19  primary_cleaner.output.tail_pb                      14134 non-null  float64\n",
      " 20  primary_cleaner.output.tail_sol                     14103 non-null  float64\n",
      " 21  primary_cleaner.output.tail_au                      14149 non-null  float64\n",
      " 22  primary_cleaner.state.floatbank8_a_air              14145 non-null  float64\n",
      " 23  primary_cleaner.state.floatbank8_a_level            14148 non-null  float64\n",
      " 24  primary_cleaner.state.floatbank8_b_air              14145 non-null  float64\n",
      " 25  primary_cleaner.state.floatbank8_b_level            14148 non-null  float64\n",
      " 26  primary_cleaner.state.floatbank8_c_air              14147 non-null  float64\n",
      " 27  primary_cleaner.state.floatbank8_c_level            14148 non-null  float64\n",
      " 28  primary_cleaner.state.floatbank8_d_air              14146 non-null  float64\n",
      " 29  primary_cleaner.state.floatbank8_d_level            14148 non-null  float64\n",
      " 30  rougher.calculation.sulfate_to_au_concentrate       14148 non-null  float64\n",
      " 31  rougher.calculation.floatbank10_sulfate_to_au_feed  14148 non-null  float64\n",
      " 32  rougher.calculation.floatbank11_sulfate_to_au_feed  14148 non-null  float64\n",
      " 33  rougher.calculation.au_pb_ratio                     14149 non-null  float64\n",
      " 34  rougher.input.feed_ag                               14149 non-null  float64\n",
      " 35  rougher.input.feed_pb                               14049 non-null  float64\n",
      " 36  rougher.input.feed_rate                             14141 non-null  float64\n",
      " 37  rougher.input.feed_size                             14005 non-null  float64\n",
      " 38  rougher.input.feed_sol                              14071 non-null  float64\n",
      " 39  rougher.input.feed_au                               14149 non-null  float64\n",
      " 40  rougher.input.floatbank10_sulfate                   14120 non-null  float64\n",
      " 41  rougher.input.floatbank10_xanthate                  14141 non-null  float64\n",
      " 42  rougher.input.floatbank11_sulfate                   14113 non-null  float64\n",
      " 43  rougher.input.floatbank11_xanthate                  13721 non-null  float64\n",
      " 44  rougher.output.concentrate_ag                       14149 non-null  float64\n",
      " 45  rougher.output.concentrate_pb                       14149 non-null  float64\n",
      " 46  rougher.output.concentrate_sol                      14127 non-null  float64\n",
      " 47  rougher.output.concentrate_au                       14149 non-null  float64\n",
      " 48  rougher.output.recovery                             14149 non-null  float64\n",
      " 49  rougher.output.tail_ag                              14148 non-null  float64\n",
      " 50  rougher.output.tail_pb                              14149 non-null  float64\n",
      " 51  rougher.output.tail_sol                             14149 non-null  float64\n",
      " 52  rougher.output.tail_au                              14149 non-null  float64\n",
      " 53  rougher.state.floatbank10_a_air                     14148 non-null  float64\n",
      " 54  rougher.state.floatbank10_a_level                   14148 non-null  float64\n",
      " 55  rougher.state.floatbank10_b_air                     14148 non-null  float64\n",
      " 56  rougher.state.floatbank10_b_level                   14148 non-null  float64\n",
      " 57  rougher.state.floatbank10_c_air                     14148 non-null  float64\n",
      " 58  rougher.state.floatbank10_c_level                   14148 non-null  float64\n",
      " 59  rougher.state.floatbank10_d_air                     14149 non-null  float64\n",
      " 60  rougher.state.floatbank10_d_level                   14149 non-null  float64\n",
      " 61  rougher.state.floatbank10_e_air                     13713 non-null  float64\n",
      " 62  rougher.state.floatbank10_e_level                   14149 non-null  float64\n",
      " 63  rougher.state.floatbank10_f_air                     14149 non-null  float64\n",
      " 64  rougher.state.floatbank10_f_level                   14149 non-null  float64\n",
      " 65  secondary_cleaner.output.tail_ag                    14147 non-null  float64\n",
      " 66  secondary_cleaner.output.tail_pb                    14139 non-null  float64\n",
      " 67  secondary_cleaner.output.tail_sol                   12544 non-null  float64\n",
      " 68  secondary_cleaner.output.tail_au                    14149 non-null  float64\n",
      " 69  secondary_cleaner.state.floatbank2_a_air            13932 non-null  float64\n",
      " 70  secondary_cleaner.state.floatbank2_a_level          14148 non-null  float64\n",
      " 71  secondary_cleaner.state.floatbank2_b_air            14128 non-null  float64\n",
      " 72  secondary_cleaner.state.floatbank2_b_level          14148 non-null  float64\n",
      " 73  secondary_cleaner.state.floatbank3_a_air            14145 non-null  float64\n",
      " 74  secondary_cleaner.state.floatbank3_a_level          14148 non-null  float64\n",
      " 75  secondary_cleaner.state.floatbank3_b_air            14148 non-null  float64\n",
      " 76  secondary_cleaner.state.floatbank3_b_level          14148 non-null  float64\n",
      " 77  secondary_cleaner.state.floatbank4_a_air            14143 non-null  float64\n",
      " 78  secondary_cleaner.state.floatbank4_a_level          14148 non-null  float64\n",
      " 79  secondary_cleaner.state.floatbank4_b_air            14148 non-null  float64\n",
      " 80  secondary_cleaner.state.floatbank4_b_level          14148 non-null  float64\n",
      " 81  secondary_cleaner.state.floatbank5_a_air            14148 non-null  float64\n",
      " 82  secondary_cleaner.state.floatbank5_a_level          14148 non-null  float64\n",
      " 83  secondary_cleaner.state.floatbank5_b_air            14148 non-null  float64\n",
      " 84  secondary_cleaner.state.floatbank5_b_level          14148 non-null  float64\n",
      " 85  secondary_cleaner.state.floatbank6_a_air            14147 non-null  float64\n",
      " 86  secondary_cleaner.state.floatbank6_a_level          14148 non-null  float64\n",
      "dtypes: float64(86), object(1)\n",
      "memory usage: 9.4+ MB\n",
      "None\n",
      "\n"
     ]
    },
    {
     "data": {
      "text/html": [
       "<div>\n",
       "<style scoped>\n",
       "    .dataframe tbody tr th:only-of-type {\n",
       "        vertical-align: middle;\n",
       "    }\n",
       "\n",
       "    .dataframe tbody tr th {\n",
       "        vertical-align: top;\n",
       "    }\n",
       "\n",
       "    .dataframe thead th {\n",
       "        text-align: right;\n",
       "    }\n",
       "</style>\n",
       "<table border=\"1\" class=\"dataframe\">\n",
       "  <thead>\n",
       "    <tr style=\"text-align: right;\">\n",
       "      <th></th>\n",
       "      <th>date</th>\n",
       "      <th>final.output.concentrate_ag</th>\n",
       "      <th>final.output.concentrate_pb</th>\n",
       "      <th>final.output.concentrate_sol</th>\n",
       "      <th>final.output.concentrate_au</th>\n",
       "      <th>final.output.recovery</th>\n",
       "      <th>final.output.tail_ag</th>\n",
       "      <th>final.output.tail_pb</th>\n",
       "      <th>final.output.tail_sol</th>\n",
       "      <th>final.output.tail_au</th>\n",
       "      <th>...</th>\n",
       "      <th>secondary_cleaner.state.floatbank4_a_air</th>\n",
       "      <th>secondary_cleaner.state.floatbank4_a_level</th>\n",
       "      <th>secondary_cleaner.state.floatbank4_b_air</th>\n",
       "      <th>secondary_cleaner.state.floatbank4_b_level</th>\n",
       "      <th>secondary_cleaner.state.floatbank5_a_air</th>\n",
       "      <th>secondary_cleaner.state.floatbank5_a_level</th>\n",
       "      <th>secondary_cleaner.state.floatbank5_b_air</th>\n",
       "      <th>secondary_cleaner.state.floatbank5_b_level</th>\n",
       "      <th>secondary_cleaner.state.floatbank6_a_air</th>\n",
       "      <th>secondary_cleaner.state.floatbank6_a_level</th>\n",
       "    </tr>\n",
       "  </thead>\n",
       "  <tbody>\n",
       "    <tr>\n",
       "      <th>0</th>\n",
       "      <td>2016-01-15 00:00:00</td>\n",
       "      <td>6.055403</td>\n",
       "      <td>9.889648</td>\n",
       "      <td>5.507324</td>\n",
       "      <td>42.192020</td>\n",
       "      <td>70.541216</td>\n",
       "      <td>10.411962</td>\n",
       "      <td>0.895447</td>\n",
       "      <td>16.904297</td>\n",
       "      <td>2.143149</td>\n",
       "      <td>...</td>\n",
       "      <td>14.016835</td>\n",
       "      <td>-502.488007</td>\n",
       "      <td>12.099931</td>\n",
       "      <td>-504.715942</td>\n",
       "      <td>9.925633</td>\n",
       "      <td>-498.310211</td>\n",
       "      <td>8.079666</td>\n",
       "      <td>-500.470978</td>\n",
       "      <td>14.151341</td>\n",
       "      <td>-605.841980</td>\n",
       "    </tr>\n",
       "    <tr>\n",
       "      <th>1</th>\n",
       "      <td>2016-01-15 01:00:00</td>\n",
       "      <td>6.029369</td>\n",
       "      <td>9.968944</td>\n",
       "      <td>5.257781</td>\n",
       "      <td>42.701629</td>\n",
       "      <td>69.266198</td>\n",
       "      <td>10.462676</td>\n",
       "      <td>0.927452</td>\n",
       "      <td>16.634514</td>\n",
       "      <td>2.224930</td>\n",
       "      <td>...</td>\n",
       "      <td>13.992281</td>\n",
       "      <td>-505.503262</td>\n",
       "      <td>11.950531</td>\n",
       "      <td>-501.331529</td>\n",
       "      <td>10.039245</td>\n",
       "      <td>-500.169983</td>\n",
       "      <td>7.984757</td>\n",
       "      <td>-500.582168</td>\n",
       "      <td>13.998353</td>\n",
       "      <td>-599.787184</td>\n",
       "    </tr>\n",
       "    <tr>\n",
       "      <th>2</th>\n",
       "      <td>2016-01-15 02:00:00</td>\n",
       "      <td>6.055926</td>\n",
       "      <td>10.213995</td>\n",
       "      <td>5.383759</td>\n",
       "      <td>42.657501</td>\n",
       "      <td>68.116445</td>\n",
       "      <td>10.507046</td>\n",
       "      <td>0.953716</td>\n",
       "      <td>16.208849</td>\n",
       "      <td>2.257889</td>\n",
       "      <td>...</td>\n",
       "      <td>14.015015</td>\n",
       "      <td>-502.520901</td>\n",
       "      <td>11.912783</td>\n",
       "      <td>-501.133383</td>\n",
       "      <td>10.070913</td>\n",
       "      <td>-500.129135</td>\n",
       "      <td>8.013877</td>\n",
       "      <td>-500.517572</td>\n",
       "      <td>14.028663</td>\n",
       "      <td>-601.427363</td>\n",
       "    </tr>\n",
       "    <tr>\n",
       "      <th>3</th>\n",
       "      <td>2016-01-15 03:00:00</td>\n",
       "      <td>6.047977</td>\n",
       "      <td>9.977019</td>\n",
       "      <td>4.858634</td>\n",
       "      <td>42.689819</td>\n",
       "      <td>68.347543</td>\n",
       "      <td>10.422762</td>\n",
       "      <td>0.883763</td>\n",
       "      <td>16.532835</td>\n",
       "      <td>2.146849</td>\n",
       "      <td>...</td>\n",
       "      <td>14.036510</td>\n",
       "      <td>-500.857308</td>\n",
       "      <td>11.999550</td>\n",
       "      <td>-501.193686</td>\n",
       "      <td>9.970366</td>\n",
       "      <td>-499.201640</td>\n",
       "      <td>7.977324</td>\n",
       "      <td>-500.255908</td>\n",
       "      <td>14.005551</td>\n",
       "      <td>-599.996129</td>\n",
       "    </tr>\n",
       "    <tr>\n",
       "      <th>4</th>\n",
       "      <td>2016-01-15 04:00:00</td>\n",
       "      <td>6.148599</td>\n",
       "      <td>10.142511</td>\n",
       "      <td>4.939416</td>\n",
       "      <td>42.774141</td>\n",
       "      <td>66.927016</td>\n",
       "      <td>10.360302</td>\n",
       "      <td>0.792826</td>\n",
       "      <td>16.525686</td>\n",
       "      <td>2.055292</td>\n",
       "      <td>...</td>\n",
       "      <td>14.027298</td>\n",
       "      <td>-499.838632</td>\n",
       "      <td>11.953070</td>\n",
       "      <td>-501.053894</td>\n",
       "      <td>9.925709</td>\n",
       "      <td>-501.686727</td>\n",
       "      <td>7.894242</td>\n",
       "      <td>-500.356035</td>\n",
       "      <td>13.996647</td>\n",
       "      <td>-601.496691</td>\n",
       "    </tr>\n",
       "    <tr>\n",
       "      <th>5</th>\n",
       "      <td>2016-01-15 05:00:00</td>\n",
       "      <td>6.482968</td>\n",
       "      <td>10.049416</td>\n",
       "      <td>5.480257</td>\n",
       "      <td>41.633678</td>\n",
       "      <td>69.465816</td>\n",
       "      <td>10.182708</td>\n",
       "      <td>0.664118</td>\n",
       "      <td>16.999638</td>\n",
       "      <td>1.918586</td>\n",
       "      <td>...</td>\n",
       "      <td>13.938497</td>\n",
       "      <td>-500.970168</td>\n",
       "      <td>11.883350</td>\n",
       "      <td>-500.395298</td>\n",
       "      <td>10.054147</td>\n",
       "      <td>-496.374715</td>\n",
       "      <td>7.965083</td>\n",
       "      <td>-499.364752</td>\n",
       "      <td>14.017067</td>\n",
       "      <td>-599.707915</td>\n",
       "    </tr>\n",
       "    <tr>\n",
       "      <th>6</th>\n",
       "      <td>2016-01-15 06:00:00</td>\n",
       "      <td>6.533849</td>\n",
       "      <td>10.058141</td>\n",
       "      <td>4.569100</td>\n",
       "      <td>41.995316</td>\n",
       "      <td>69.300835</td>\n",
       "      <td>10.304598</td>\n",
       "      <td>0.807342</td>\n",
       "      <td>16.723575</td>\n",
       "      <td>2.058913</td>\n",
       "      <td>...</td>\n",
       "      <td>14.046819</td>\n",
       "      <td>-500.971133</td>\n",
       "      <td>12.091543</td>\n",
       "      <td>-500.501426</td>\n",
       "      <td>10.003247</td>\n",
       "      <td>-497.083180</td>\n",
       "      <td>8.010890</td>\n",
       "      <td>-500.002423</td>\n",
       "      <td>14.029649</td>\n",
       "      <td>-600.905470</td>\n",
       "    </tr>\n",
       "    <tr>\n",
       "      <th>7</th>\n",
       "      <td>2016-01-15 07:00:00</td>\n",
       "      <td>6.130823</td>\n",
       "      <td>9.935481</td>\n",
       "      <td>4.389813</td>\n",
       "      <td>42.452727</td>\n",
       "      <td>70.230976</td>\n",
       "      <td>10.443288</td>\n",
       "      <td>0.949346</td>\n",
       "      <td>16.689959</td>\n",
       "      <td>2.143437</td>\n",
       "      <td>...</td>\n",
       "      <td>13.974691</td>\n",
       "      <td>-501.819696</td>\n",
       "      <td>12.101324</td>\n",
       "      <td>-500.583446</td>\n",
       "      <td>9.873169</td>\n",
       "      <td>-499.171928</td>\n",
       "      <td>7.993381</td>\n",
       "      <td>-499.794518</td>\n",
       "      <td>13.984498</td>\n",
       "      <td>-600.411070</td>\n",
       "    </tr>\n",
       "    <tr>\n",
       "      <th>8</th>\n",
       "      <td>2016-01-15 08:00:00</td>\n",
       "      <td>5.834140</td>\n",
       "      <td>10.071156</td>\n",
       "      <td>4.876389</td>\n",
       "      <td>43.404078</td>\n",
       "      <td>69.688595</td>\n",
       "      <td>10.420140</td>\n",
       "      <td>1.065453</td>\n",
       "      <td>17.201948</td>\n",
       "      <td>2.209881</td>\n",
       "      <td>...</td>\n",
       "      <td>13.964030</td>\n",
       "      <td>-504.252450</td>\n",
       "      <td>12.060738</td>\n",
       "      <td>-501.174549</td>\n",
       "      <td>10.033838</td>\n",
       "      <td>-501.178133</td>\n",
       "      <td>7.881604</td>\n",
       "      <td>-499.729434</td>\n",
       "      <td>13.967135</td>\n",
       "      <td>-599.061188</td>\n",
       "    </tr>\n",
       "    <tr>\n",
       "      <th>9</th>\n",
       "      <td>2016-01-15 09:00:00</td>\n",
       "      <td>5.687063</td>\n",
       "      <td>9.980404</td>\n",
       "      <td>5.282514</td>\n",
       "      <td>43.235220</td>\n",
       "      <td>70.279619</td>\n",
       "      <td>10.487013</td>\n",
       "      <td>1.159805</td>\n",
       "      <td>17.483979</td>\n",
       "      <td>2.209593</td>\n",
       "      <td>...</td>\n",
       "      <td>13.989632</td>\n",
       "      <td>-503.195299</td>\n",
       "      <td>12.052233</td>\n",
       "      <td>-500.928547</td>\n",
       "      <td>9.962574</td>\n",
       "      <td>-502.986357</td>\n",
       "      <td>7.979219</td>\n",
       "      <td>-500.146835</td>\n",
       "      <td>13.981614</td>\n",
       "      <td>-598.070855</td>\n",
       "    </tr>\n",
       "  </tbody>\n",
       "</table>\n",
       "<p>10 rows × 87 columns</p>\n",
       "</div>"
      ],
      "text/plain": [
       "                  date  final.output.concentrate_ag  \\\n",
       "0  2016-01-15 00:00:00                     6.055403   \n",
       "1  2016-01-15 01:00:00                     6.029369   \n",
       "2  2016-01-15 02:00:00                     6.055926   \n",
       "3  2016-01-15 03:00:00                     6.047977   \n",
       "4  2016-01-15 04:00:00                     6.148599   \n",
       "5  2016-01-15 05:00:00                     6.482968   \n",
       "6  2016-01-15 06:00:00                     6.533849   \n",
       "7  2016-01-15 07:00:00                     6.130823   \n",
       "8  2016-01-15 08:00:00                     5.834140   \n",
       "9  2016-01-15 09:00:00                     5.687063   \n",
       "\n",
       "   final.output.concentrate_pb  final.output.concentrate_sol  \\\n",
       "0                     9.889648                      5.507324   \n",
       "1                     9.968944                      5.257781   \n",
       "2                    10.213995                      5.383759   \n",
       "3                     9.977019                      4.858634   \n",
       "4                    10.142511                      4.939416   \n",
       "5                    10.049416                      5.480257   \n",
       "6                    10.058141                      4.569100   \n",
       "7                     9.935481                      4.389813   \n",
       "8                    10.071156                      4.876389   \n",
       "9                     9.980404                      5.282514   \n",
       "\n",
       "   final.output.concentrate_au  final.output.recovery  final.output.tail_ag  \\\n",
       "0                    42.192020              70.541216             10.411962   \n",
       "1                    42.701629              69.266198             10.462676   \n",
       "2                    42.657501              68.116445             10.507046   \n",
       "3                    42.689819              68.347543             10.422762   \n",
       "4                    42.774141              66.927016             10.360302   \n",
       "5                    41.633678              69.465816             10.182708   \n",
       "6                    41.995316              69.300835             10.304598   \n",
       "7                    42.452727              70.230976             10.443288   \n",
       "8                    43.404078              69.688595             10.420140   \n",
       "9                    43.235220              70.279619             10.487013   \n",
       "\n",
       "   final.output.tail_pb  final.output.tail_sol  final.output.tail_au  ...  \\\n",
       "0              0.895447              16.904297              2.143149  ...   \n",
       "1              0.927452              16.634514              2.224930  ...   \n",
       "2              0.953716              16.208849              2.257889  ...   \n",
       "3              0.883763              16.532835              2.146849  ...   \n",
       "4              0.792826              16.525686              2.055292  ...   \n",
       "5              0.664118              16.999638              1.918586  ...   \n",
       "6              0.807342              16.723575              2.058913  ...   \n",
       "7              0.949346              16.689959              2.143437  ...   \n",
       "8              1.065453              17.201948              2.209881  ...   \n",
       "9              1.159805              17.483979              2.209593  ...   \n",
       "\n",
       "   secondary_cleaner.state.floatbank4_a_air  \\\n",
       "0                                 14.016835   \n",
       "1                                 13.992281   \n",
       "2                                 14.015015   \n",
       "3                                 14.036510   \n",
       "4                                 14.027298   \n",
       "5                                 13.938497   \n",
       "6                                 14.046819   \n",
       "7                                 13.974691   \n",
       "8                                 13.964030   \n",
       "9                                 13.989632   \n",
       "\n",
       "   secondary_cleaner.state.floatbank4_a_level  \\\n",
       "0                                 -502.488007   \n",
       "1                                 -505.503262   \n",
       "2                                 -502.520901   \n",
       "3                                 -500.857308   \n",
       "4                                 -499.838632   \n",
       "5                                 -500.970168   \n",
       "6                                 -500.971133   \n",
       "7                                 -501.819696   \n",
       "8                                 -504.252450   \n",
       "9                                 -503.195299   \n",
       "\n",
       "   secondary_cleaner.state.floatbank4_b_air  \\\n",
       "0                                 12.099931   \n",
       "1                                 11.950531   \n",
       "2                                 11.912783   \n",
       "3                                 11.999550   \n",
       "4                                 11.953070   \n",
       "5                                 11.883350   \n",
       "6                                 12.091543   \n",
       "7                                 12.101324   \n",
       "8                                 12.060738   \n",
       "9                                 12.052233   \n",
       "\n",
       "   secondary_cleaner.state.floatbank4_b_level  \\\n",
       "0                                 -504.715942   \n",
       "1                                 -501.331529   \n",
       "2                                 -501.133383   \n",
       "3                                 -501.193686   \n",
       "4                                 -501.053894   \n",
       "5                                 -500.395298   \n",
       "6                                 -500.501426   \n",
       "7                                 -500.583446   \n",
       "8                                 -501.174549   \n",
       "9                                 -500.928547   \n",
       "\n",
       "   secondary_cleaner.state.floatbank5_a_air  \\\n",
       "0                                  9.925633   \n",
       "1                                 10.039245   \n",
       "2                                 10.070913   \n",
       "3                                  9.970366   \n",
       "4                                  9.925709   \n",
       "5                                 10.054147   \n",
       "6                                 10.003247   \n",
       "7                                  9.873169   \n",
       "8                                 10.033838   \n",
       "9                                  9.962574   \n",
       "\n",
       "   secondary_cleaner.state.floatbank5_a_level  \\\n",
       "0                                 -498.310211   \n",
       "1                                 -500.169983   \n",
       "2                                 -500.129135   \n",
       "3                                 -499.201640   \n",
       "4                                 -501.686727   \n",
       "5                                 -496.374715   \n",
       "6                                 -497.083180   \n",
       "7                                 -499.171928   \n",
       "8                                 -501.178133   \n",
       "9                                 -502.986357   \n",
       "\n",
       "   secondary_cleaner.state.floatbank5_b_air  \\\n",
       "0                                  8.079666   \n",
       "1                                  7.984757   \n",
       "2                                  8.013877   \n",
       "3                                  7.977324   \n",
       "4                                  7.894242   \n",
       "5                                  7.965083   \n",
       "6                                  8.010890   \n",
       "7                                  7.993381   \n",
       "8                                  7.881604   \n",
       "9                                  7.979219   \n",
       "\n",
       "   secondary_cleaner.state.floatbank5_b_level  \\\n",
       "0                                 -500.470978   \n",
       "1                                 -500.582168   \n",
       "2                                 -500.517572   \n",
       "3                                 -500.255908   \n",
       "4                                 -500.356035   \n",
       "5                                 -499.364752   \n",
       "6                                 -500.002423   \n",
       "7                                 -499.794518   \n",
       "8                                 -499.729434   \n",
       "9                                 -500.146835   \n",
       "\n",
       "   secondary_cleaner.state.floatbank6_a_air  \\\n",
       "0                                 14.151341   \n",
       "1                                 13.998353   \n",
       "2                                 14.028663   \n",
       "3                                 14.005551   \n",
       "4                                 13.996647   \n",
       "5                                 14.017067   \n",
       "6                                 14.029649   \n",
       "7                                 13.984498   \n",
       "8                                 13.967135   \n",
       "9                                 13.981614   \n",
       "\n",
       "   secondary_cleaner.state.floatbank6_a_level  \n",
       "0                                 -605.841980  \n",
       "1                                 -599.787184  \n",
       "2                                 -601.427363  \n",
       "3                                 -599.996129  \n",
       "4                                 -601.496691  \n",
       "5                                 -599.707915  \n",
       "6                                 -600.905470  \n",
       "7                                 -600.411070  \n",
       "8                                 -599.061188  \n",
       "9                                 -598.070855  \n",
       "\n",
       "[10 rows x 87 columns]"
      ]
     },
     "metadata": {},
     "output_type": "display_data"
    },
    {
     "name": "stdout",
     "output_type": "stream",
     "text": [
      "\n",
      "0\n"
     ]
    }
   ],
   "source": [
    "#применяем функцию study_of_initial_data() к каждой таблице\n",
    "study_of_initial_data(train_data)"
   ]
  },
  {
   "cell_type": "code",
   "execution_count": 5,
   "metadata": {},
   "outputs": [
    {
     "name": "stdout",
     "output_type": "stream",
     "text": [
      "<class 'pandas.core.frame.DataFrame'>\n",
      "RangeIndex: 5290 entries, 0 to 5289\n",
      "Data columns (total 53 columns):\n",
      " #   Column                                      Non-Null Count  Dtype  \n",
      "---  ------                                      --------------  -----  \n",
      " 0   date                                        5290 non-null   object \n",
      " 1   primary_cleaner.input.sulfate               5286 non-null   float64\n",
      " 2   primary_cleaner.input.depressant            5285 non-null   float64\n",
      " 3   primary_cleaner.input.feed_size             5290 non-null   float64\n",
      " 4   primary_cleaner.input.xanthate              5286 non-null   float64\n",
      " 5   primary_cleaner.state.floatbank8_a_air      5290 non-null   float64\n",
      " 6   primary_cleaner.state.floatbank8_a_level    5290 non-null   float64\n",
      " 7   primary_cleaner.state.floatbank8_b_air      5290 non-null   float64\n",
      " 8   primary_cleaner.state.floatbank8_b_level    5290 non-null   float64\n",
      " 9   primary_cleaner.state.floatbank8_c_air      5290 non-null   float64\n",
      " 10  primary_cleaner.state.floatbank8_c_level    5290 non-null   float64\n",
      " 11  primary_cleaner.state.floatbank8_d_air      5290 non-null   float64\n",
      " 12  primary_cleaner.state.floatbank8_d_level    5290 non-null   float64\n",
      " 13  rougher.input.feed_ag                       5290 non-null   float64\n",
      " 14  rougher.input.feed_pb                       5290 non-null   float64\n",
      " 15  rougher.input.feed_rate                     5287 non-null   float64\n",
      " 16  rougher.input.feed_size                     5289 non-null   float64\n",
      " 17  rougher.input.feed_sol                      5269 non-null   float64\n",
      " 18  rougher.input.feed_au                       5290 non-null   float64\n",
      " 19  rougher.input.floatbank10_sulfate           5285 non-null   float64\n",
      " 20  rougher.input.floatbank10_xanthate          5290 non-null   float64\n",
      " 21  rougher.input.floatbank11_sulfate           5282 non-null   float64\n",
      " 22  rougher.input.floatbank11_xanthate          5265 non-null   float64\n",
      " 23  rougher.state.floatbank10_a_air             5290 non-null   float64\n",
      " 24  rougher.state.floatbank10_a_level           5290 non-null   float64\n",
      " 25  rougher.state.floatbank10_b_air             5290 non-null   float64\n",
      " 26  rougher.state.floatbank10_b_level           5290 non-null   float64\n",
      " 27  rougher.state.floatbank10_c_air             5290 non-null   float64\n",
      " 28  rougher.state.floatbank10_c_level           5290 non-null   float64\n",
      " 29  rougher.state.floatbank10_d_air             5290 non-null   float64\n",
      " 30  rougher.state.floatbank10_d_level           5290 non-null   float64\n",
      " 31  rougher.state.floatbank10_e_air             5290 non-null   float64\n",
      " 32  rougher.state.floatbank10_e_level           5290 non-null   float64\n",
      " 33  rougher.state.floatbank10_f_air             5290 non-null   float64\n",
      " 34  rougher.state.floatbank10_f_level           5290 non-null   float64\n",
      " 35  secondary_cleaner.state.floatbank2_a_air    5287 non-null   float64\n",
      " 36  secondary_cleaner.state.floatbank2_a_level  5290 non-null   float64\n",
      " 37  secondary_cleaner.state.floatbank2_b_air    5288 non-null   float64\n",
      " 38  secondary_cleaner.state.floatbank2_b_level  5290 non-null   float64\n",
      " 39  secondary_cleaner.state.floatbank3_a_air    5281 non-null   float64\n",
      " 40  secondary_cleaner.state.floatbank3_a_level  5290 non-null   float64\n",
      " 41  secondary_cleaner.state.floatbank3_b_air    5290 non-null   float64\n",
      " 42  secondary_cleaner.state.floatbank3_b_level  5290 non-null   float64\n",
      " 43  secondary_cleaner.state.floatbank4_a_air    5290 non-null   float64\n",
      " 44  secondary_cleaner.state.floatbank4_a_level  5290 non-null   float64\n",
      " 45  secondary_cleaner.state.floatbank4_b_air    5290 non-null   float64\n",
      " 46  secondary_cleaner.state.floatbank4_b_level  5290 non-null   float64\n",
      " 47  secondary_cleaner.state.floatbank5_a_air    5290 non-null   float64\n",
      " 48  secondary_cleaner.state.floatbank5_a_level  5290 non-null   float64\n",
      " 49  secondary_cleaner.state.floatbank5_b_air    5290 non-null   float64\n",
      " 50  secondary_cleaner.state.floatbank5_b_level  5290 non-null   float64\n",
      " 51  secondary_cleaner.state.floatbank6_a_air    5290 non-null   float64\n",
      " 52  secondary_cleaner.state.floatbank6_a_level  5290 non-null   float64\n",
      "dtypes: float64(52), object(1)\n",
      "memory usage: 2.1+ MB\n",
      "None\n",
      "\n"
     ]
    },
    {
     "data": {
      "text/html": [
       "<div>\n",
       "<style scoped>\n",
       "    .dataframe tbody tr th:only-of-type {\n",
       "        vertical-align: middle;\n",
       "    }\n",
       "\n",
       "    .dataframe tbody tr th {\n",
       "        vertical-align: top;\n",
       "    }\n",
       "\n",
       "    .dataframe thead th {\n",
       "        text-align: right;\n",
       "    }\n",
       "</style>\n",
       "<table border=\"1\" class=\"dataframe\">\n",
       "  <thead>\n",
       "    <tr style=\"text-align: right;\">\n",
       "      <th></th>\n",
       "      <th>date</th>\n",
       "      <th>primary_cleaner.input.sulfate</th>\n",
       "      <th>primary_cleaner.input.depressant</th>\n",
       "      <th>primary_cleaner.input.feed_size</th>\n",
       "      <th>primary_cleaner.input.xanthate</th>\n",
       "      <th>primary_cleaner.state.floatbank8_a_air</th>\n",
       "      <th>primary_cleaner.state.floatbank8_a_level</th>\n",
       "      <th>primary_cleaner.state.floatbank8_b_air</th>\n",
       "      <th>primary_cleaner.state.floatbank8_b_level</th>\n",
       "      <th>primary_cleaner.state.floatbank8_c_air</th>\n",
       "      <th>...</th>\n",
       "      <th>secondary_cleaner.state.floatbank4_a_air</th>\n",
       "      <th>secondary_cleaner.state.floatbank4_a_level</th>\n",
       "      <th>secondary_cleaner.state.floatbank4_b_air</th>\n",
       "      <th>secondary_cleaner.state.floatbank4_b_level</th>\n",
       "      <th>secondary_cleaner.state.floatbank5_a_air</th>\n",
       "      <th>secondary_cleaner.state.floatbank5_a_level</th>\n",
       "      <th>secondary_cleaner.state.floatbank5_b_air</th>\n",
       "      <th>secondary_cleaner.state.floatbank5_b_level</th>\n",
       "      <th>secondary_cleaner.state.floatbank6_a_air</th>\n",
       "      <th>secondary_cleaner.state.floatbank6_a_level</th>\n",
       "    </tr>\n",
       "  </thead>\n",
       "  <tbody>\n",
       "    <tr>\n",
       "      <th>0</th>\n",
       "      <td>2016-09-01 00:59:59</td>\n",
       "      <td>210.800909</td>\n",
       "      <td>14.993118</td>\n",
       "      <td>8.080000</td>\n",
       "      <td>1.005021</td>\n",
       "      <td>1398.981301</td>\n",
       "      <td>-500.225577</td>\n",
       "      <td>1399.144926</td>\n",
       "      <td>-499.919735</td>\n",
       "      <td>1400.102998</td>\n",
       "      <td>...</td>\n",
       "      <td>12.023554</td>\n",
       "      <td>-497.795834</td>\n",
       "      <td>8.016656</td>\n",
       "      <td>-501.289139</td>\n",
       "      <td>7.946562</td>\n",
       "      <td>-432.317850</td>\n",
       "      <td>4.872511</td>\n",
       "      <td>-500.037437</td>\n",
       "      <td>26.705889</td>\n",
       "      <td>-499.709414</td>\n",
       "    </tr>\n",
       "    <tr>\n",
       "      <th>1</th>\n",
       "      <td>2016-09-01 01:59:59</td>\n",
       "      <td>215.392455</td>\n",
       "      <td>14.987471</td>\n",
       "      <td>8.080000</td>\n",
       "      <td>0.990469</td>\n",
       "      <td>1398.777912</td>\n",
       "      <td>-500.057435</td>\n",
       "      <td>1398.055362</td>\n",
       "      <td>-499.778182</td>\n",
       "      <td>1396.151033</td>\n",
       "      <td>...</td>\n",
       "      <td>12.058140</td>\n",
       "      <td>-498.695773</td>\n",
       "      <td>8.130979</td>\n",
       "      <td>-499.634209</td>\n",
       "      <td>7.958270</td>\n",
       "      <td>-525.839648</td>\n",
       "      <td>4.878850</td>\n",
       "      <td>-500.162375</td>\n",
       "      <td>25.019940</td>\n",
       "      <td>-499.819438</td>\n",
       "    </tr>\n",
       "    <tr>\n",
       "      <th>2</th>\n",
       "      <td>2016-09-01 02:59:59</td>\n",
       "      <td>215.259946</td>\n",
       "      <td>12.884934</td>\n",
       "      <td>7.786667</td>\n",
       "      <td>0.996043</td>\n",
       "      <td>1398.493666</td>\n",
       "      <td>-500.868360</td>\n",
       "      <td>1398.860436</td>\n",
       "      <td>-499.764529</td>\n",
       "      <td>1398.075709</td>\n",
       "      <td>...</td>\n",
       "      <td>11.962366</td>\n",
       "      <td>-498.767484</td>\n",
       "      <td>8.096893</td>\n",
       "      <td>-500.827423</td>\n",
       "      <td>8.071056</td>\n",
       "      <td>-500.801673</td>\n",
       "      <td>4.905125</td>\n",
       "      <td>-499.828510</td>\n",
       "      <td>24.994862</td>\n",
       "      <td>-500.622559</td>\n",
       "    </tr>\n",
       "    <tr>\n",
       "      <th>3</th>\n",
       "      <td>2016-09-01 03:59:59</td>\n",
       "      <td>215.336236</td>\n",
       "      <td>12.006805</td>\n",
       "      <td>7.640000</td>\n",
       "      <td>0.863514</td>\n",
       "      <td>1399.618111</td>\n",
       "      <td>-498.863574</td>\n",
       "      <td>1397.440120</td>\n",
       "      <td>-499.211024</td>\n",
       "      <td>1400.129303</td>\n",
       "      <td>...</td>\n",
       "      <td>12.033091</td>\n",
       "      <td>-498.350935</td>\n",
       "      <td>8.074946</td>\n",
       "      <td>-499.474407</td>\n",
       "      <td>7.897085</td>\n",
       "      <td>-500.868509</td>\n",
       "      <td>4.931400</td>\n",
       "      <td>-499.963623</td>\n",
       "      <td>24.948919</td>\n",
       "      <td>-498.709987</td>\n",
       "    </tr>\n",
       "    <tr>\n",
       "      <th>4</th>\n",
       "      <td>2016-09-01 04:59:59</td>\n",
       "      <td>199.099327</td>\n",
       "      <td>10.682530</td>\n",
       "      <td>7.530000</td>\n",
       "      <td>0.805575</td>\n",
       "      <td>1401.268123</td>\n",
       "      <td>-500.808305</td>\n",
       "      <td>1398.128818</td>\n",
       "      <td>-499.504543</td>\n",
       "      <td>1402.172226</td>\n",
       "      <td>...</td>\n",
       "      <td>12.025367</td>\n",
       "      <td>-500.786497</td>\n",
       "      <td>8.054678</td>\n",
       "      <td>-500.397500</td>\n",
       "      <td>8.107890</td>\n",
       "      <td>-509.526725</td>\n",
       "      <td>4.957674</td>\n",
       "      <td>-500.360026</td>\n",
       "      <td>25.003331</td>\n",
       "      <td>-500.856333</td>\n",
       "    </tr>\n",
       "    <tr>\n",
       "      <th>5</th>\n",
       "      <td>2016-09-01 05:59:59</td>\n",
       "      <td>168.485085</td>\n",
       "      <td>8.817007</td>\n",
       "      <td>7.420000</td>\n",
       "      <td>0.791191</td>\n",
       "      <td>1402.826803</td>\n",
       "      <td>-499.299521</td>\n",
       "      <td>1401.511119</td>\n",
       "      <td>-499.205357</td>\n",
       "      <td>1404.088107</td>\n",
       "      <td>...</td>\n",
       "      <td>12.029797</td>\n",
       "      <td>-499.814895</td>\n",
       "      <td>8.036586</td>\n",
       "      <td>-500.371492</td>\n",
       "      <td>8.041446</td>\n",
       "      <td>-510.037054</td>\n",
       "      <td>4.983949</td>\n",
       "      <td>-499.990990</td>\n",
       "      <td>24.978973</td>\n",
       "      <td>-500.475640</td>\n",
       "    </tr>\n",
       "    <tr>\n",
       "      <th>6</th>\n",
       "      <td>2016-09-01 06:59:59</td>\n",
       "      <td>144.133440</td>\n",
       "      <td>7.924610</td>\n",
       "      <td>7.420000</td>\n",
       "      <td>0.788838</td>\n",
       "      <td>1398.252401</td>\n",
       "      <td>-499.748672</td>\n",
       "      <td>1393.255503</td>\n",
       "      <td>-499.195380</td>\n",
       "      <td>1396.738566</td>\n",
       "      <td>...</td>\n",
       "      <td>12.026296</td>\n",
       "      <td>-499.473127</td>\n",
       "      <td>8.027984</td>\n",
       "      <td>-500.983079</td>\n",
       "      <td>7.907340</td>\n",
       "      <td>-507.964971</td>\n",
       "      <td>5.010224</td>\n",
       "      <td>-500.043697</td>\n",
       "      <td>25.040709</td>\n",
       "      <td>-499.501984</td>\n",
       "    </tr>\n",
       "    <tr>\n",
       "      <th>7</th>\n",
       "      <td>2016-09-01 07:59:59</td>\n",
       "      <td>133.513396</td>\n",
       "      <td>8.055252</td>\n",
       "      <td>6.988000</td>\n",
       "      <td>0.801871</td>\n",
       "      <td>1401.669677</td>\n",
       "      <td>-501.777839</td>\n",
       "      <td>1400.754446</td>\n",
       "      <td>-502.514024</td>\n",
       "      <td>1400.465244</td>\n",
       "      <td>...</td>\n",
       "      <td>12.040911</td>\n",
       "      <td>-501.293852</td>\n",
       "      <td>8.020490</td>\n",
       "      <td>-499.185229</td>\n",
       "      <td>8.116897</td>\n",
       "      <td>-511.927561</td>\n",
       "      <td>5.036498</td>\n",
       "      <td>-500.149615</td>\n",
       "      <td>25.032580</td>\n",
       "      <td>-503.970657</td>\n",
       "    </tr>\n",
       "    <tr>\n",
       "      <th>8</th>\n",
       "      <td>2016-09-01 08:59:59</td>\n",
       "      <td>133.735356</td>\n",
       "      <td>7.999618</td>\n",
       "      <td>6.935000</td>\n",
       "      <td>0.789329</td>\n",
       "      <td>1402.358981</td>\n",
       "      <td>-499.981597</td>\n",
       "      <td>1400.985954</td>\n",
       "      <td>-496.802968</td>\n",
       "      <td>1401.168584</td>\n",
       "      <td>...</td>\n",
       "      <td>11.998184</td>\n",
       "      <td>-499.481608</td>\n",
       "      <td>8.012610</td>\n",
       "      <td>-500.896783</td>\n",
       "      <td>7.974422</td>\n",
       "      <td>-521.199104</td>\n",
       "      <td>5.061599</td>\n",
       "      <td>-499.791519</td>\n",
       "      <td>25.005063</td>\n",
       "      <td>-497.613716</td>\n",
       "    </tr>\n",
       "    <tr>\n",
       "      <th>9</th>\n",
       "      <td>2016-09-01 09:59:59</td>\n",
       "      <td>126.961069</td>\n",
       "      <td>8.017856</td>\n",
       "      <td>7.030000</td>\n",
       "      <td>0.805298</td>\n",
       "      <td>1400.816120</td>\n",
       "      <td>-499.014158</td>\n",
       "      <td>1399.975401</td>\n",
       "      <td>-499.570552</td>\n",
       "      <td>1401.871924</td>\n",
       "      <td>...</td>\n",
       "      <td>12.040725</td>\n",
       "      <td>-499.987743</td>\n",
       "      <td>7.989503</td>\n",
       "      <td>-499.750625</td>\n",
       "      <td>7.989710</td>\n",
       "      <td>-509.946737</td>\n",
       "      <td>5.068811</td>\n",
       "      <td>-499.293900</td>\n",
       "      <td>24.992741</td>\n",
       "      <td>-499.272255</td>\n",
       "    </tr>\n",
       "  </tbody>\n",
       "</table>\n",
       "<p>10 rows × 53 columns</p>\n",
       "</div>"
      ],
      "text/plain": [
       "                  date  primary_cleaner.input.sulfate  \\\n",
       "0  2016-09-01 00:59:59                     210.800909   \n",
       "1  2016-09-01 01:59:59                     215.392455   \n",
       "2  2016-09-01 02:59:59                     215.259946   \n",
       "3  2016-09-01 03:59:59                     215.336236   \n",
       "4  2016-09-01 04:59:59                     199.099327   \n",
       "5  2016-09-01 05:59:59                     168.485085   \n",
       "6  2016-09-01 06:59:59                     144.133440   \n",
       "7  2016-09-01 07:59:59                     133.513396   \n",
       "8  2016-09-01 08:59:59                     133.735356   \n",
       "9  2016-09-01 09:59:59                     126.961069   \n",
       "\n",
       "   primary_cleaner.input.depressant  primary_cleaner.input.feed_size  \\\n",
       "0                         14.993118                         8.080000   \n",
       "1                         14.987471                         8.080000   \n",
       "2                         12.884934                         7.786667   \n",
       "3                         12.006805                         7.640000   \n",
       "4                         10.682530                         7.530000   \n",
       "5                          8.817007                         7.420000   \n",
       "6                          7.924610                         7.420000   \n",
       "7                          8.055252                         6.988000   \n",
       "8                          7.999618                         6.935000   \n",
       "9                          8.017856                         7.030000   \n",
       "\n",
       "   primary_cleaner.input.xanthate  primary_cleaner.state.floatbank8_a_air  \\\n",
       "0                        1.005021                             1398.981301   \n",
       "1                        0.990469                             1398.777912   \n",
       "2                        0.996043                             1398.493666   \n",
       "3                        0.863514                             1399.618111   \n",
       "4                        0.805575                             1401.268123   \n",
       "5                        0.791191                             1402.826803   \n",
       "6                        0.788838                             1398.252401   \n",
       "7                        0.801871                             1401.669677   \n",
       "8                        0.789329                             1402.358981   \n",
       "9                        0.805298                             1400.816120   \n",
       "\n",
       "   primary_cleaner.state.floatbank8_a_level  \\\n",
       "0                               -500.225577   \n",
       "1                               -500.057435   \n",
       "2                               -500.868360   \n",
       "3                               -498.863574   \n",
       "4                               -500.808305   \n",
       "5                               -499.299521   \n",
       "6                               -499.748672   \n",
       "7                               -501.777839   \n",
       "8                               -499.981597   \n",
       "9                               -499.014158   \n",
       "\n",
       "   primary_cleaner.state.floatbank8_b_air  \\\n",
       "0                             1399.144926   \n",
       "1                             1398.055362   \n",
       "2                             1398.860436   \n",
       "3                             1397.440120   \n",
       "4                             1398.128818   \n",
       "5                             1401.511119   \n",
       "6                             1393.255503   \n",
       "7                             1400.754446   \n",
       "8                             1400.985954   \n",
       "9                             1399.975401   \n",
       "\n",
       "   primary_cleaner.state.floatbank8_b_level  \\\n",
       "0                               -499.919735   \n",
       "1                               -499.778182   \n",
       "2                               -499.764529   \n",
       "3                               -499.211024   \n",
       "4                               -499.504543   \n",
       "5                               -499.205357   \n",
       "6                               -499.195380   \n",
       "7                               -502.514024   \n",
       "8                               -496.802968   \n",
       "9                               -499.570552   \n",
       "\n",
       "   primary_cleaner.state.floatbank8_c_air  ...  \\\n",
       "0                             1400.102998  ...   \n",
       "1                             1396.151033  ...   \n",
       "2                             1398.075709  ...   \n",
       "3                             1400.129303  ...   \n",
       "4                             1402.172226  ...   \n",
       "5                             1404.088107  ...   \n",
       "6                             1396.738566  ...   \n",
       "7                             1400.465244  ...   \n",
       "8                             1401.168584  ...   \n",
       "9                             1401.871924  ...   \n",
       "\n",
       "   secondary_cleaner.state.floatbank4_a_air  \\\n",
       "0                                 12.023554   \n",
       "1                                 12.058140   \n",
       "2                                 11.962366   \n",
       "3                                 12.033091   \n",
       "4                                 12.025367   \n",
       "5                                 12.029797   \n",
       "6                                 12.026296   \n",
       "7                                 12.040911   \n",
       "8                                 11.998184   \n",
       "9                                 12.040725   \n",
       "\n",
       "   secondary_cleaner.state.floatbank4_a_level  \\\n",
       "0                                 -497.795834   \n",
       "1                                 -498.695773   \n",
       "2                                 -498.767484   \n",
       "3                                 -498.350935   \n",
       "4                                 -500.786497   \n",
       "5                                 -499.814895   \n",
       "6                                 -499.473127   \n",
       "7                                 -501.293852   \n",
       "8                                 -499.481608   \n",
       "9                                 -499.987743   \n",
       "\n",
       "   secondary_cleaner.state.floatbank4_b_air  \\\n",
       "0                                  8.016656   \n",
       "1                                  8.130979   \n",
       "2                                  8.096893   \n",
       "3                                  8.074946   \n",
       "4                                  8.054678   \n",
       "5                                  8.036586   \n",
       "6                                  8.027984   \n",
       "7                                  8.020490   \n",
       "8                                  8.012610   \n",
       "9                                  7.989503   \n",
       "\n",
       "   secondary_cleaner.state.floatbank4_b_level  \\\n",
       "0                                 -501.289139   \n",
       "1                                 -499.634209   \n",
       "2                                 -500.827423   \n",
       "3                                 -499.474407   \n",
       "4                                 -500.397500   \n",
       "5                                 -500.371492   \n",
       "6                                 -500.983079   \n",
       "7                                 -499.185229   \n",
       "8                                 -500.896783   \n",
       "9                                 -499.750625   \n",
       "\n",
       "   secondary_cleaner.state.floatbank5_a_air  \\\n",
       "0                                  7.946562   \n",
       "1                                  7.958270   \n",
       "2                                  8.071056   \n",
       "3                                  7.897085   \n",
       "4                                  8.107890   \n",
       "5                                  8.041446   \n",
       "6                                  7.907340   \n",
       "7                                  8.116897   \n",
       "8                                  7.974422   \n",
       "9                                  7.989710   \n",
       "\n",
       "   secondary_cleaner.state.floatbank5_a_level  \\\n",
       "0                                 -432.317850   \n",
       "1                                 -525.839648   \n",
       "2                                 -500.801673   \n",
       "3                                 -500.868509   \n",
       "4                                 -509.526725   \n",
       "5                                 -510.037054   \n",
       "6                                 -507.964971   \n",
       "7                                 -511.927561   \n",
       "8                                 -521.199104   \n",
       "9                                 -509.946737   \n",
       "\n",
       "   secondary_cleaner.state.floatbank5_b_air  \\\n",
       "0                                  4.872511   \n",
       "1                                  4.878850   \n",
       "2                                  4.905125   \n",
       "3                                  4.931400   \n",
       "4                                  4.957674   \n",
       "5                                  4.983949   \n",
       "6                                  5.010224   \n",
       "7                                  5.036498   \n",
       "8                                  5.061599   \n",
       "9                                  5.068811   \n",
       "\n",
       "   secondary_cleaner.state.floatbank5_b_level  \\\n",
       "0                                 -500.037437   \n",
       "1                                 -500.162375   \n",
       "2                                 -499.828510   \n",
       "3                                 -499.963623   \n",
       "4                                 -500.360026   \n",
       "5                                 -499.990990   \n",
       "6                                 -500.043697   \n",
       "7                                 -500.149615   \n",
       "8                                 -499.791519   \n",
       "9                                 -499.293900   \n",
       "\n",
       "   secondary_cleaner.state.floatbank6_a_air  \\\n",
       "0                                 26.705889   \n",
       "1                                 25.019940   \n",
       "2                                 24.994862   \n",
       "3                                 24.948919   \n",
       "4                                 25.003331   \n",
       "5                                 24.978973   \n",
       "6                                 25.040709   \n",
       "7                                 25.032580   \n",
       "8                                 25.005063   \n",
       "9                                 24.992741   \n",
       "\n",
       "   secondary_cleaner.state.floatbank6_a_level  \n",
       "0                                 -499.709414  \n",
       "1                                 -499.819438  \n",
       "2                                 -500.622559  \n",
       "3                                 -498.709987  \n",
       "4                                 -500.856333  \n",
       "5                                 -500.475640  \n",
       "6                                 -499.501984  \n",
       "7                                 -503.970657  \n",
       "8                                 -497.613716  \n",
       "9                                 -499.272255  \n",
       "\n",
       "[10 rows x 53 columns]"
      ]
     },
     "metadata": {},
     "output_type": "display_data"
    },
    {
     "name": "stdout",
     "output_type": "stream",
     "text": [
      "\n",
      "0\n"
     ]
    }
   ],
   "source": [
    "study_of_initial_data(test_data)"
   ]
  },
  {
   "cell_type": "code",
   "execution_count": 6,
   "metadata": {},
   "outputs": [
    {
     "name": "stdout",
     "output_type": "stream",
     "text": [
      "<class 'pandas.core.frame.DataFrame'>\n",
      "RangeIndex: 19439 entries, 0 to 19438\n",
      "Data columns (total 87 columns):\n",
      " #   Column                                              Non-Null Count  Dtype  \n",
      "---  ------                                              --------------  -----  \n",
      " 0   date                                                19439 non-null  object \n",
      " 1   final.output.concentrate_ag                         19438 non-null  float64\n",
      " 2   final.output.concentrate_pb                         19438 non-null  float64\n",
      " 3   final.output.concentrate_sol                        19228 non-null  float64\n",
      " 4   final.output.concentrate_au                         19439 non-null  float64\n",
      " 5   final.output.recovery                               19439 non-null  float64\n",
      " 6   final.output.tail_ag                                19438 non-null  float64\n",
      " 7   final.output.tail_pb                                19338 non-null  float64\n",
      " 8   final.output.tail_sol                               19433 non-null  float64\n",
      " 9   final.output.tail_au                                19439 non-null  float64\n",
      " 10  primary_cleaner.input.sulfate                       19415 non-null  float64\n",
      " 11  primary_cleaner.input.depressant                    19402 non-null  float64\n",
      " 12  primary_cleaner.input.feed_size                     19439 non-null  float64\n",
      " 13  primary_cleaner.input.xanthate                      19335 non-null  float64\n",
      " 14  primary_cleaner.output.concentrate_ag               19439 non-null  float64\n",
      " 15  primary_cleaner.output.concentrate_pb               19323 non-null  float64\n",
      " 16  primary_cleaner.output.concentrate_sol              19069 non-null  float64\n",
      " 17  primary_cleaner.output.concentrate_au               19439 non-null  float64\n",
      " 18  primary_cleaner.output.tail_ag                      19435 non-null  float64\n",
      " 19  primary_cleaner.output.tail_pb                      19418 non-null  float64\n",
      " 20  primary_cleaner.output.tail_sol                     19377 non-null  float64\n",
      " 21  primary_cleaner.output.tail_au                      19439 non-null  float64\n",
      " 22  primary_cleaner.state.floatbank8_a_air              19435 non-null  float64\n",
      " 23  primary_cleaner.state.floatbank8_a_level            19438 non-null  float64\n",
      " 24  primary_cleaner.state.floatbank8_b_air              19435 non-null  float64\n",
      " 25  primary_cleaner.state.floatbank8_b_level            19438 non-null  float64\n",
      " 26  primary_cleaner.state.floatbank8_c_air              19437 non-null  float64\n",
      " 27  primary_cleaner.state.floatbank8_c_level            19438 non-null  float64\n",
      " 28  primary_cleaner.state.floatbank8_d_air              19436 non-null  float64\n",
      " 29  primary_cleaner.state.floatbank8_d_level            19438 non-null  float64\n",
      " 30  rougher.calculation.sulfate_to_au_concentrate       19437 non-null  float64\n",
      " 31  rougher.calculation.floatbank10_sulfate_to_au_feed  19437 non-null  float64\n",
      " 32  rougher.calculation.floatbank11_sulfate_to_au_feed  19437 non-null  float64\n",
      " 33  rougher.calculation.au_pb_ratio                     19439 non-null  float64\n",
      " 34  rougher.input.feed_ag                               19439 non-null  float64\n",
      " 35  rougher.input.feed_pb                               19339 non-null  float64\n",
      " 36  rougher.input.feed_rate                             19428 non-null  float64\n",
      " 37  rougher.input.feed_size                             19294 non-null  float64\n",
      " 38  rougher.input.feed_sol                              19340 non-null  float64\n",
      " 39  rougher.input.feed_au                               19439 non-null  float64\n",
      " 40  rougher.input.floatbank10_sulfate                   19405 non-null  float64\n",
      " 41  rougher.input.floatbank10_xanthate                  19431 non-null  float64\n",
      " 42  rougher.input.floatbank11_sulfate                   19395 non-null  float64\n",
      " 43  rougher.input.floatbank11_xanthate                  18986 non-null  float64\n",
      " 44  rougher.output.concentrate_ag                       19439 non-null  float64\n",
      " 45  rougher.output.concentrate_pb                       19439 non-null  float64\n",
      " 46  rougher.output.concentrate_sol                      19416 non-null  float64\n",
      " 47  rougher.output.concentrate_au                       19439 non-null  float64\n",
      " 48  rougher.output.recovery                             19439 non-null  float64\n",
      " 49  rougher.output.tail_ag                              19438 non-null  float64\n",
      " 50  rougher.output.tail_pb                              19439 non-null  float64\n",
      " 51  rougher.output.tail_sol                             19439 non-null  float64\n",
      " 52  rougher.output.tail_au                              19439 non-null  float64\n",
      " 53  rougher.state.floatbank10_a_air                     19438 non-null  float64\n",
      " 54  rougher.state.floatbank10_a_level                   19438 non-null  float64\n",
      " 55  rougher.state.floatbank10_b_air                     19438 non-null  float64\n",
      " 56  rougher.state.floatbank10_b_level                   19438 non-null  float64\n",
      " 57  rougher.state.floatbank10_c_air                     19438 non-null  float64\n",
      " 58  rougher.state.floatbank10_c_level                   19438 non-null  float64\n",
      " 59  rougher.state.floatbank10_d_air                     19439 non-null  float64\n",
      " 60  rougher.state.floatbank10_d_level                   19439 non-null  float64\n",
      " 61  rougher.state.floatbank10_e_air                     19003 non-null  float64\n",
      " 62  rougher.state.floatbank10_e_level                   19439 non-null  float64\n",
      " 63  rougher.state.floatbank10_f_air                     19439 non-null  float64\n",
      " 64  rougher.state.floatbank10_f_level                   19439 non-null  float64\n",
      " 65  secondary_cleaner.output.tail_ag                    19437 non-null  float64\n",
      " 66  secondary_cleaner.output.tail_pb                    19427 non-null  float64\n",
      " 67  secondary_cleaner.output.tail_sol                   17691 non-null  float64\n",
      " 68  secondary_cleaner.output.tail_au                    19439 non-null  float64\n",
      " 69  secondary_cleaner.state.floatbank2_a_air            19219 non-null  float64\n",
      " 70  secondary_cleaner.state.floatbank2_a_level          19438 non-null  float64\n",
      " 71  secondary_cleaner.state.floatbank2_b_air            19416 non-null  float64\n",
      " 72  secondary_cleaner.state.floatbank2_b_level          19438 non-null  float64\n",
      " 73  secondary_cleaner.state.floatbank3_a_air            19426 non-null  float64\n",
      " 74  secondary_cleaner.state.floatbank3_a_level          19438 non-null  float64\n",
      " 75  secondary_cleaner.state.floatbank3_b_air            19438 non-null  float64\n",
      " 76  secondary_cleaner.state.floatbank3_b_level          19438 non-null  float64\n",
      " 77  secondary_cleaner.state.floatbank4_a_air            19433 non-null  float64\n",
      " 78  secondary_cleaner.state.floatbank4_a_level          19438 non-null  float64\n",
      " 79  secondary_cleaner.state.floatbank4_b_air            19438 non-null  float64\n",
      " 80  secondary_cleaner.state.floatbank4_b_level          19438 non-null  float64\n",
      " 81  secondary_cleaner.state.floatbank5_a_air            19438 non-null  float64\n",
      " 82  secondary_cleaner.state.floatbank5_a_level          19438 non-null  float64\n",
      " 83  secondary_cleaner.state.floatbank5_b_air            19438 non-null  float64\n",
      " 84  secondary_cleaner.state.floatbank5_b_level          19438 non-null  float64\n",
      " 85  secondary_cleaner.state.floatbank6_a_air            19437 non-null  float64\n",
      " 86  secondary_cleaner.state.floatbank6_a_level          19438 non-null  float64\n",
      "dtypes: float64(86), object(1)\n",
      "memory usage: 12.9+ MB\n",
      "None\n",
      "\n"
     ]
    },
    {
     "data": {
      "text/html": [
       "<div>\n",
       "<style scoped>\n",
       "    .dataframe tbody tr th:only-of-type {\n",
       "        vertical-align: middle;\n",
       "    }\n",
       "\n",
       "    .dataframe tbody tr th {\n",
       "        vertical-align: top;\n",
       "    }\n",
       "\n",
       "    .dataframe thead th {\n",
       "        text-align: right;\n",
       "    }\n",
       "</style>\n",
       "<table border=\"1\" class=\"dataframe\">\n",
       "  <thead>\n",
       "    <tr style=\"text-align: right;\">\n",
       "      <th></th>\n",
       "      <th>date</th>\n",
       "      <th>final.output.concentrate_ag</th>\n",
       "      <th>final.output.concentrate_pb</th>\n",
       "      <th>final.output.concentrate_sol</th>\n",
       "      <th>final.output.concentrate_au</th>\n",
       "      <th>final.output.recovery</th>\n",
       "      <th>final.output.tail_ag</th>\n",
       "      <th>final.output.tail_pb</th>\n",
       "      <th>final.output.tail_sol</th>\n",
       "      <th>final.output.tail_au</th>\n",
       "      <th>...</th>\n",
       "      <th>secondary_cleaner.state.floatbank4_a_air</th>\n",
       "      <th>secondary_cleaner.state.floatbank4_a_level</th>\n",
       "      <th>secondary_cleaner.state.floatbank4_b_air</th>\n",
       "      <th>secondary_cleaner.state.floatbank4_b_level</th>\n",
       "      <th>secondary_cleaner.state.floatbank5_a_air</th>\n",
       "      <th>secondary_cleaner.state.floatbank5_a_level</th>\n",
       "      <th>secondary_cleaner.state.floatbank5_b_air</th>\n",
       "      <th>secondary_cleaner.state.floatbank5_b_level</th>\n",
       "      <th>secondary_cleaner.state.floatbank6_a_air</th>\n",
       "      <th>secondary_cleaner.state.floatbank6_a_level</th>\n",
       "    </tr>\n",
       "  </thead>\n",
       "  <tbody>\n",
       "    <tr>\n",
       "      <th>0</th>\n",
       "      <td>2016-01-15 00:00:00</td>\n",
       "      <td>6.055403</td>\n",
       "      <td>9.889648</td>\n",
       "      <td>5.507324</td>\n",
       "      <td>42.192020</td>\n",
       "      <td>70.541216</td>\n",
       "      <td>10.411962</td>\n",
       "      <td>0.895447</td>\n",
       "      <td>16.904297</td>\n",
       "      <td>2.143149</td>\n",
       "      <td>...</td>\n",
       "      <td>14.016835</td>\n",
       "      <td>-502.488007</td>\n",
       "      <td>12.099931</td>\n",
       "      <td>-504.715942</td>\n",
       "      <td>9.925633</td>\n",
       "      <td>-498.310211</td>\n",
       "      <td>8.079666</td>\n",
       "      <td>-500.470978</td>\n",
       "      <td>14.151341</td>\n",
       "      <td>-605.841980</td>\n",
       "    </tr>\n",
       "    <tr>\n",
       "      <th>1</th>\n",
       "      <td>2016-01-15 01:00:00</td>\n",
       "      <td>6.029369</td>\n",
       "      <td>9.968944</td>\n",
       "      <td>5.257781</td>\n",
       "      <td>42.701629</td>\n",
       "      <td>69.266198</td>\n",
       "      <td>10.462676</td>\n",
       "      <td>0.927452</td>\n",
       "      <td>16.634514</td>\n",
       "      <td>2.224930</td>\n",
       "      <td>...</td>\n",
       "      <td>13.992281</td>\n",
       "      <td>-505.503262</td>\n",
       "      <td>11.950531</td>\n",
       "      <td>-501.331529</td>\n",
       "      <td>10.039245</td>\n",
       "      <td>-500.169983</td>\n",
       "      <td>7.984757</td>\n",
       "      <td>-500.582168</td>\n",
       "      <td>13.998353</td>\n",
       "      <td>-599.787184</td>\n",
       "    </tr>\n",
       "    <tr>\n",
       "      <th>2</th>\n",
       "      <td>2016-01-15 02:00:00</td>\n",
       "      <td>6.055926</td>\n",
       "      <td>10.213995</td>\n",
       "      <td>5.383759</td>\n",
       "      <td>42.657501</td>\n",
       "      <td>68.116445</td>\n",
       "      <td>10.507046</td>\n",
       "      <td>0.953716</td>\n",
       "      <td>16.208849</td>\n",
       "      <td>2.257889</td>\n",
       "      <td>...</td>\n",
       "      <td>14.015015</td>\n",
       "      <td>-502.520901</td>\n",
       "      <td>11.912783</td>\n",
       "      <td>-501.133383</td>\n",
       "      <td>10.070913</td>\n",
       "      <td>-500.129135</td>\n",
       "      <td>8.013877</td>\n",
       "      <td>-500.517572</td>\n",
       "      <td>14.028663</td>\n",
       "      <td>-601.427363</td>\n",
       "    </tr>\n",
       "    <tr>\n",
       "      <th>3</th>\n",
       "      <td>2016-01-15 03:00:00</td>\n",
       "      <td>6.047977</td>\n",
       "      <td>9.977019</td>\n",
       "      <td>4.858634</td>\n",
       "      <td>42.689819</td>\n",
       "      <td>68.347543</td>\n",
       "      <td>10.422762</td>\n",
       "      <td>0.883763</td>\n",
       "      <td>16.532835</td>\n",
       "      <td>2.146849</td>\n",
       "      <td>...</td>\n",
       "      <td>14.036510</td>\n",
       "      <td>-500.857308</td>\n",
       "      <td>11.999550</td>\n",
       "      <td>-501.193686</td>\n",
       "      <td>9.970366</td>\n",
       "      <td>-499.201640</td>\n",
       "      <td>7.977324</td>\n",
       "      <td>-500.255908</td>\n",
       "      <td>14.005551</td>\n",
       "      <td>-599.996129</td>\n",
       "    </tr>\n",
       "    <tr>\n",
       "      <th>4</th>\n",
       "      <td>2016-01-15 04:00:00</td>\n",
       "      <td>6.148599</td>\n",
       "      <td>10.142511</td>\n",
       "      <td>4.939416</td>\n",
       "      <td>42.774141</td>\n",
       "      <td>66.927016</td>\n",
       "      <td>10.360302</td>\n",
       "      <td>0.792826</td>\n",
       "      <td>16.525686</td>\n",
       "      <td>2.055292</td>\n",
       "      <td>...</td>\n",
       "      <td>14.027298</td>\n",
       "      <td>-499.838632</td>\n",
       "      <td>11.953070</td>\n",
       "      <td>-501.053894</td>\n",
       "      <td>9.925709</td>\n",
       "      <td>-501.686727</td>\n",
       "      <td>7.894242</td>\n",
       "      <td>-500.356035</td>\n",
       "      <td>13.996647</td>\n",
       "      <td>-601.496691</td>\n",
       "    </tr>\n",
       "    <tr>\n",
       "      <th>5</th>\n",
       "      <td>2016-01-15 05:00:00</td>\n",
       "      <td>6.482968</td>\n",
       "      <td>10.049416</td>\n",
       "      <td>5.480257</td>\n",
       "      <td>41.633678</td>\n",
       "      <td>69.465816</td>\n",
       "      <td>10.182708</td>\n",
       "      <td>0.664118</td>\n",
       "      <td>16.999638</td>\n",
       "      <td>1.918586</td>\n",
       "      <td>...</td>\n",
       "      <td>13.938497</td>\n",
       "      <td>-500.970168</td>\n",
       "      <td>11.883350</td>\n",
       "      <td>-500.395298</td>\n",
       "      <td>10.054147</td>\n",
       "      <td>-496.374715</td>\n",
       "      <td>7.965083</td>\n",
       "      <td>-499.364752</td>\n",
       "      <td>14.017067</td>\n",
       "      <td>-599.707915</td>\n",
       "    </tr>\n",
       "    <tr>\n",
       "      <th>6</th>\n",
       "      <td>2016-01-15 06:00:00</td>\n",
       "      <td>6.533849</td>\n",
       "      <td>10.058141</td>\n",
       "      <td>4.569100</td>\n",
       "      <td>41.995316</td>\n",
       "      <td>69.300835</td>\n",
       "      <td>10.304598</td>\n",
       "      <td>0.807342</td>\n",
       "      <td>16.723575</td>\n",
       "      <td>2.058913</td>\n",
       "      <td>...</td>\n",
       "      <td>14.046819</td>\n",
       "      <td>-500.971133</td>\n",
       "      <td>12.091543</td>\n",
       "      <td>-500.501426</td>\n",
       "      <td>10.003247</td>\n",
       "      <td>-497.083180</td>\n",
       "      <td>8.010890</td>\n",
       "      <td>-500.002423</td>\n",
       "      <td>14.029649</td>\n",
       "      <td>-600.905470</td>\n",
       "    </tr>\n",
       "    <tr>\n",
       "      <th>7</th>\n",
       "      <td>2016-01-15 07:00:00</td>\n",
       "      <td>6.130823</td>\n",
       "      <td>9.935481</td>\n",
       "      <td>4.389813</td>\n",
       "      <td>42.452727</td>\n",
       "      <td>70.230976</td>\n",
       "      <td>10.443288</td>\n",
       "      <td>0.949346</td>\n",
       "      <td>16.689959</td>\n",
       "      <td>2.143437</td>\n",
       "      <td>...</td>\n",
       "      <td>13.974691</td>\n",
       "      <td>-501.819696</td>\n",
       "      <td>12.101324</td>\n",
       "      <td>-500.583446</td>\n",
       "      <td>9.873169</td>\n",
       "      <td>-499.171928</td>\n",
       "      <td>7.993381</td>\n",
       "      <td>-499.794518</td>\n",
       "      <td>13.984498</td>\n",
       "      <td>-600.411070</td>\n",
       "    </tr>\n",
       "    <tr>\n",
       "      <th>8</th>\n",
       "      <td>2016-01-15 08:00:00</td>\n",
       "      <td>5.834140</td>\n",
       "      <td>10.071156</td>\n",
       "      <td>4.876389</td>\n",
       "      <td>43.404078</td>\n",
       "      <td>69.688595</td>\n",
       "      <td>10.420140</td>\n",
       "      <td>1.065453</td>\n",
       "      <td>17.201948</td>\n",
       "      <td>2.209881</td>\n",
       "      <td>...</td>\n",
       "      <td>13.964030</td>\n",
       "      <td>-504.252450</td>\n",
       "      <td>12.060738</td>\n",
       "      <td>-501.174549</td>\n",
       "      <td>10.033838</td>\n",
       "      <td>-501.178133</td>\n",
       "      <td>7.881604</td>\n",
       "      <td>-499.729434</td>\n",
       "      <td>13.967135</td>\n",
       "      <td>-599.061188</td>\n",
       "    </tr>\n",
       "    <tr>\n",
       "      <th>9</th>\n",
       "      <td>2016-01-15 09:00:00</td>\n",
       "      <td>5.687063</td>\n",
       "      <td>9.980404</td>\n",
       "      <td>5.282514</td>\n",
       "      <td>43.235220</td>\n",
       "      <td>70.279619</td>\n",
       "      <td>10.487013</td>\n",
       "      <td>1.159805</td>\n",
       "      <td>17.483979</td>\n",
       "      <td>2.209593</td>\n",
       "      <td>...</td>\n",
       "      <td>13.989632</td>\n",
       "      <td>-503.195299</td>\n",
       "      <td>12.052233</td>\n",
       "      <td>-500.928547</td>\n",
       "      <td>9.962574</td>\n",
       "      <td>-502.986357</td>\n",
       "      <td>7.979219</td>\n",
       "      <td>-500.146835</td>\n",
       "      <td>13.981614</td>\n",
       "      <td>-598.070855</td>\n",
       "    </tr>\n",
       "  </tbody>\n",
       "</table>\n",
       "<p>10 rows × 87 columns</p>\n",
       "</div>"
      ],
      "text/plain": [
       "                  date  final.output.concentrate_ag  \\\n",
       "0  2016-01-15 00:00:00                     6.055403   \n",
       "1  2016-01-15 01:00:00                     6.029369   \n",
       "2  2016-01-15 02:00:00                     6.055926   \n",
       "3  2016-01-15 03:00:00                     6.047977   \n",
       "4  2016-01-15 04:00:00                     6.148599   \n",
       "5  2016-01-15 05:00:00                     6.482968   \n",
       "6  2016-01-15 06:00:00                     6.533849   \n",
       "7  2016-01-15 07:00:00                     6.130823   \n",
       "8  2016-01-15 08:00:00                     5.834140   \n",
       "9  2016-01-15 09:00:00                     5.687063   \n",
       "\n",
       "   final.output.concentrate_pb  final.output.concentrate_sol  \\\n",
       "0                     9.889648                      5.507324   \n",
       "1                     9.968944                      5.257781   \n",
       "2                    10.213995                      5.383759   \n",
       "3                     9.977019                      4.858634   \n",
       "4                    10.142511                      4.939416   \n",
       "5                    10.049416                      5.480257   \n",
       "6                    10.058141                      4.569100   \n",
       "7                     9.935481                      4.389813   \n",
       "8                    10.071156                      4.876389   \n",
       "9                     9.980404                      5.282514   \n",
       "\n",
       "   final.output.concentrate_au  final.output.recovery  final.output.tail_ag  \\\n",
       "0                    42.192020              70.541216             10.411962   \n",
       "1                    42.701629              69.266198             10.462676   \n",
       "2                    42.657501              68.116445             10.507046   \n",
       "3                    42.689819              68.347543             10.422762   \n",
       "4                    42.774141              66.927016             10.360302   \n",
       "5                    41.633678              69.465816             10.182708   \n",
       "6                    41.995316              69.300835             10.304598   \n",
       "7                    42.452727              70.230976             10.443288   \n",
       "8                    43.404078              69.688595             10.420140   \n",
       "9                    43.235220              70.279619             10.487013   \n",
       "\n",
       "   final.output.tail_pb  final.output.tail_sol  final.output.tail_au  ...  \\\n",
       "0              0.895447              16.904297              2.143149  ...   \n",
       "1              0.927452              16.634514              2.224930  ...   \n",
       "2              0.953716              16.208849              2.257889  ...   \n",
       "3              0.883763              16.532835              2.146849  ...   \n",
       "4              0.792826              16.525686              2.055292  ...   \n",
       "5              0.664118              16.999638              1.918586  ...   \n",
       "6              0.807342              16.723575              2.058913  ...   \n",
       "7              0.949346              16.689959              2.143437  ...   \n",
       "8              1.065453              17.201948              2.209881  ...   \n",
       "9              1.159805              17.483979              2.209593  ...   \n",
       "\n",
       "   secondary_cleaner.state.floatbank4_a_air  \\\n",
       "0                                 14.016835   \n",
       "1                                 13.992281   \n",
       "2                                 14.015015   \n",
       "3                                 14.036510   \n",
       "4                                 14.027298   \n",
       "5                                 13.938497   \n",
       "6                                 14.046819   \n",
       "7                                 13.974691   \n",
       "8                                 13.964030   \n",
       "9                                 13.989632   \n",
       "\n",
       "   secondary_cleaner.state.floatbank4_a_level  \\\n",
       "0                                 -502.488007   \n",
       "1                                 -505.503262   \n",
       "2                                 -502.520901   \n",
       "3                                 -500.857308   \n",
       "4                                 -499.838632   \n",
       "5                                 -500.970168   \n",
       "6                                 -500.971133   \n",
       "7                                 -501.819696   \n",
       "8                                 -504.252450   \n",
       "9                                 -503.195299   \n",
       "\n",
       "   secondary_cleaner.state.floatbank4_b_air  \\\n",
       "0                                 12.099931   \n",
       "1                                 11.950531   \n",
       "2                                 11.912783   \n",
       "3                                 11.999550   \n",
       "4                                 11.953070   \n",
       "5                                 11.883350   \n",
       "6                                 12.091543   \n",
       "7                                 12.101324   \n",
       "8                                 12.060738   \n",
       "9                                 12.052233   \n",
       "\n",
       "   secondary_cleaner.state.floatbank4_b_level  \\\n",
       "0                                 -504.715942   \n",
       "1                                 -501.331529   \n",
       "2                                 -501.133383   \n",
       "3                                 -501.193686   \n",
       "4                                 -501.053894   \n",
       "5                                 -500.395298   \n",
       "6                                 -500.501426   \n",
       "7                                 -500.583446   \n",
       "8                                 -501.174549   \n",
       "9                                 -500.928547   \n",
       "\n",
       "   secondary_cleaner.state.floatbank5_a_air  \\\n",
       "0                                  9.925633   \n",
       "1                                 10.039245   \n",
       "2                                 10.070913   \n",
       "3                                  9.970366   \n",
       "4                                  9.925709   \n",
       "5                                 10.054147   \n",
       "6                                 10.003247   \n",
       "7                                  9.873169   \n",
       "8                                 10.033838   \n",
       "9                                  9.962574   \n",
       "\n",
       "   secondary_cleaner.state.floatbank5_a_level  \\\n",
       "0                                 -498.310211   \n",
       "1                                 -500.169983   \n",
       "2                                 -500.129135   \n",
       "3                                 -499.201640   \n",
       "4                                 -501.686727   \n",
       "5                                 -496.374715   \n",
       "6                                 -497.083180   \n",
       "7                                 -499.171928   \n",
       "8                                 -501.178133   \n",
       "9                                 -502.986357   \n",
       "\n",
       "   secondary_cleaner.state.floatbank5_b_air  \\\n",
       "0                                  8.079666   \n",
       "1                                  7.984757   \n",
       "2                                  8.013877   \n",
       "3                                  7.977324   \n",
       "4                                  7.894242   \n",
       "5                                  7.965083   \n",
       "6                                  8.010890   \n",
       "7                                  7.993381   \n",
       "8                                  7.881604   \n",
       "9                                  7.979219   \n",
       "\n",
       "   secondary_cleaner.state.floatbank5_b_level  \\\n",
       "0                                 -500.470978   \n",
       "1                                 -500.582168   \n",
       "2                                 -500.517572   \n",
       "3                                 -500.255908   \n",
       "4                                 -500.356035   \n",
       "5                                 -499.364752   \n",
       "6                                 -500.002423   \n",
       "7                                 -499.794518   \n",
       "8                                 -499.729434   \n",
       "9                                 -500.146835   \n",
       "\n",
       "   secondary_cleaner.state.floatbank6_a_air  \\\n",
       "0                                 14.151341   \n",
       "1                                 13.998353   \n",
       "2                                 14.028663   \n",
       "3                                 14.005551   \n",
       "4                                 13.996647   \n",
       "5                                 14.017067   \n",
       "6                                 14.029649   \n",
       "7                                 13.984498   \n",
       "8                                 13.967135   \n",
       "9                                 13.981614   \n",
       "\n",
       "   secondary_cleaner.state.floatbank6_a_level  \n",
       "0                                 -605.841980  \n",
       "1                                 -599.787184  \n",
       "2                                 -601.427363  \n",
       "3                                 -599.996129  \n",
       "4                                 -601.496691  \n",
       "5                                 -599.707915  \n",
       "6                                 -600.905470  \n",
       "7                                 -600.411070  \n",
       "8                                 -599.061188  \n",
       "9                                 -598.070855  \n",
       "\n",
       "[10 rows x 87 columns]"
      ]
     },
     "metadata": {},
     "output_type": "display_data"
    },
    {
     "name": "stdout",
     "output_type": "stream",
     "text": [
      "\n",
      "0\n"
     ]
    }
   ],
   "source": [
    "study_of_initial_data(full_data)"
   ]
  },
  {
   "cell_type": "markdown",
   "metadata": {},
   "source": [
    "Использование функции позволило нам определить, что во всех трех таблицах столбцы - за исключением столбца даты - содержат данные типа float; имеют большое количество пропусков, не имеют прыгающего регистра в названии и явных дубликатов. \n",
    "\n",
    "Кроме того выявлено, что тестовая выборка гораздо меньше обучающей (53 столбца против 87 и 5290 строк против 14149). \n",
    "\n",
    "Даты в тестовой выборке оканчиваются на последнюю минуту часа, в обучающей - на первую. "
   ]
  },
  {
   "cell_type": "markdown",
   "metadata": {},
   "source": [
    "### Проверка корректности расчетов"
   ]
  },
  {
   "cell_type": "markdown",
   "metadata": {},
   "source": [
    "Далее проверим корректность рассчета эффективности обогащения. Формула расчета была дана нам в теории к проекту, на ее основе создадим функцию и применим ее к обучающей выборке."
   ]
  },
  {
   "cell_type": "code",
   "execution_count": 7,
   "metadata": {},
   "outputs": [],
   "source": [
    "#создаем функцию для рассчета эффективности обогащения\n",
    "def recovery(c, f, t): \n",
    "    recovery = ((c * (f - t)) / (f * (c - t))) * 100\n",
    "    recovery[recovery < 0] = np.nan #предотвратим появление в новом столбце некорректных данных\n",
    "    recovery[recovery > 100] = np.nan\n",
    "    return recovery\n",
    "\n",
    "#применяем функцию к обучающей выборке, создавая новый столбец с результатами\n",
    "train_data['rougher.calculation.recovery'] = recovery(train_data['rougher.output.concentrate_au'], \n",
    "                                                    train_data['rougher.input.feed_au'], train_data['rougher.output.tail_au'])"
   ]
  },
  {
   "cell_type": "markdown",
   "metadata": {},
   "source": [
    "Перед тем, как вычислить МАЕ, сравним визуально значения, полученные после использования функции, и значения, сохраненные в столбце rougher.output.recovery, выведя их на экран."
   ]
  },
  {
   "cell_type": "code",
   "execution_count": 8,
   "metadata": {},
   "outputs": [
    {
     "data": {
      "text/html": [
       "<div>\n",
       "<style scoped>\n",
       "    .dataframe tbody tr th:only-of-type {\n",
       "        vertical-align: middle;\n",
       "    }\n",
       "\n",
       "    .dataframe tbody tr th {\n",
       "        vertical-align: top;\n",
       "    }\n",
       "\n",
       "    .dataframe thead th {\n",
       "        text-align: right;\n",
       "    }\n",
       "</style>\n",
       "<table border=\"1\" class=\"dataframe\">\n",
       "  <thead>\n",
       "    <tr style=\"text-align: right;\">\n",
       "      <th></th>\n",
       "      <th>rougher.output.recovery</th>\n",
       "      <th>rougher.calculation.recovery</th>\n",
       "    </tr>\n",
       "  </thead>\n",
       "  <tbody>\n",
       "    <tr>\n",
       "      <th>0</th>\n",
       "      <td>87.107763</td>\n",
       "      <td>87.107763</td>\n",
       "    </tr>\n",
       "    <tr>\n",
       "      <th>1</th>\n",
       "      <td>86.843261</td>\n",
       "      <td>86.843261</td>\n",
       "    </tr>\n",
       "    <tr>\n",
       "      <th>2</th>\n",
       "      <td>86.842308</td>\n",
       "      <td>86.842308</td>\n",
       "    </tr>\n",
       "    <tr>\n",
       "      <th>3</th>\n",
       "      <td>87.226430</td>\n",
       "      <td>87.226430</td>\n",
       "    </tr>\n",
       "    <tr>\n",
       "      <th>4</th>\n",
       "      <td>86.688794</td>\n",
       "      <td>86.688794</td>\n",
       "    </tr>\n",
       "    <tr>\n",
       "      <th>5</th>\n",
       "      <td>88.156912</td>\n",
       "      <td>88.156912</td>\n",
       "    </tr>\n",
       "    <tr>\n",
       "      <th>6</th>\n",
       "      <td>88.168065</td>\n",
       "      <td>88.168065</td>\n",
       "    </tr>\n",
       "    <tr>\n",
       "      <th>7</th>\n",
       "      <td>87.668336</td>\n",
       "      <td>87.668336</td>\n",
       "    </tr>\n",
       "    <tr>\n",
       "      <th>8</th>\n",
       "      <td>87.035862</td>\n",
       "      <td>87.035862</td>\n",
       "    </tr>\n",
       "    <tr>\n",
       "      <th>9</th>\n",
       "      <td>87.650868</td>\n",
       "      <td>87.650868</td>\n",
       "    </tr>\n",
       "  </tbody>\n",
       "</table>\n",
       "</div>"
      ],
      "text/plain": [
       "   rougher.output.recovery  rougher.calculation.recovery\n",
       "0                87.107763                     87.107763\n",
       "1                86.843261                     86.843261\n",
       "2                86.842308                     86.842308\n",
       "3                87.226430                     87.226430\n",
       "4                86.688794                     86.688794\n",
       "5                88.156912                     88.156912\n",
       "6                88.168065                     88.168065\n",
       "7                87.668336                     87.668336\n",
       "8                87.035862                     87.035862\n",
       "9                87.650868                     87.650868"
      ]
     },
     "metadata": {},
     "output_type": "display_data"
    }
   ],
   "source": [
    "display (train_data[['rougher.output.recovery', 'rougher.calculation.recovery']].head(10))"
   ]
  },
  {
   "cell_type": "markdown",
   "metadata": {},
   "source": [
    "Значения столбцов совпадают, что свидетельствует о корректности рассчетов. Теперь проверим, не появились ли в рассчитанном функцией столбце некорректные значения, замененные на nan."
   ]
  },
  {
   "cell_type": "code",
   "execution_count": 9,
   "metadata": {},
   "outputs": [
    {
     "name": "stdout",
     "output_type": "stream",
     "text": [
      "False\n"
     ]
    }
   ],
   "source": [
    "print(train_data['rougher.calculation.recovery'].isna().any())"
   ]
  },
  {
   "cell_type": "markdown",
   "metadata": {},
   "source": [
    "Таких значений нет, значит, можем переходить к рассчету МАЕ:"
   ]
  },
  {
   "cell_type": "code",
   "execution_count": 10,
   "metadata": {},
   "outputs": [
    {
     "name": "stdout",
     "output_type": "stream",
     "text": [
      "9.73512347450521e-15\n"
     ]
    }
   ],
   "source": [
    "print(mean_absolute_error(train_data['rougher.output.recovery'], train_data['rougher.calculation.recovery']))"
   ]
  },
  {
   "cell_type": "markdown",
   "metadata": {},
   "source": [
    "МАЕ имеет очень низкое значение. Значит, можем сделать вывод, что эффективность обогащения рассчитана правильно."
   ]
  },
  {
   "cell_type": "markdown",
   "metadata": {},
   "source": [
    "### Анализ признаков, недоступных в тестовой выборке"
   ]
  },
  {
   "cell_type": "markdown",
   "metadata": {},
   "source": [
    "Посмотрим на столбцы, которые не попали в тестовую выборку. Отделим их от общей массы данных и выведем на экран в отсортированном списке. "
   ]
  },
  {
   "cell_type": "code",
   "execution_count": 11,
   "metadata": {},
   "outputs": [
    {
     "name": "stdout",
     "output_type": "stream",
     "text": [
      "['final.output.concentrate_ag', 'final.output.concentrate_au', 'final.output.concentrate_pb', 'final.output.concentrate_sol', 'final.output.recovery', 'final.output.tail_ag', 'final.output.tail_au', 'final.output.tail_pb', 'final.output.tail_sol', 'primary_cleaner.output.concentrate_ag', 'primary_cleaner.output.concentrate_au', 'primary_cleaner.output.concentrate_pb', 'primary_cleaner.output.concentrate_sol', 'primary_cleaner.output.tail_ag', 'primary_cleaner.output.tail_au', 'primary_cleaner.output.tail_pb', 'primary_cleaner.output.tail_sol', 'rougher.calculation.au_pb_ratio', 'rougher.calculation.floatbank10_sulfate_to_au_feed', 'rougher.calculation.floatbank11_sulfate_to_au_feed', 'rougher.calculation.sulfate_to_au_concentrate', 'rougher.output.concentrate_ag', 'rougher.output.concentrate_au', 'rougher.output.concentrate_pb', 'rougher.output.concentrate_sol', 'rougher.output.recovery', 'rougher.output.tail_ag', 'rougher.output.tail_au', 'rougher.output.tail_pb', 'rougher.output.tail_sol', 'secondary_cleaner.output.tail_ag', 'secondary_cleaner.output.tail_au', 'secondary_cleaner.output.tail_pb', 'secondary_cleaner.output.tail_sol']\n"
     ]
    }
   ],
   "source": [
    "full_columns = list(full_data.columns)\n",
    "test_columns = list(test_data.columns)\n",
    "\n",
    "print(sorted(list(set(full_columns) - set (test_columns))))"
   ]
  },
  {
   "cell_type": "markdown",
   "metadata": {},
   "source": [
    "В основном данные столбцы содержат выходные значения концентратов и отвальных хвостов различных видов сырья после тех или иных этапов технологического процесса. Все они относятся к типу output - параметры продукта. \n",
    "\n",
    "К данному типу относятся и показатели эффективности обогащения, т.е целевые признаки, также невошедшие в тестовую выборку.\n",
    "\n",
    "Кроме того встречаются столбцы с расчетными характеристиками (тип calculation), но их очень мало: всего 4 столбца."
   ]
  },
  {
   "cell_type": "markdown",
   "metadata": {},
   "source": [
    "### Вывод"
   ]
  },
  {
   "cell_type": "markdown",
   "metadata": {},
   "source": [
    "Знакомство с исходными данными позволило определить следующее:\n",
    "- явных дубликатов не обнаружено;\n",
    "- эффективность обогащения рассчитана правильно;\n",
    "- в данных имеется большое количество пропусков, требующих обработки;\n",
    "- тестовая выборка содержит меньший объем данных по сравнению с обучающей (в ней нет целевых признаков и параметров, рассчитываемых позднее).\n",
    "\n",
    "Устраним выявленые проблемы на этапе предобработки данных."
   ]
  },
  {
   "cell_type": "markdown",
   "metadata": {},
   "source": [
    "## Предобработка данных"
   ]
  },
  {
   "cell_type": "markdown",
   "metadata": {},
   "source": [
    "Начнем предобработку с того, что оставим в обучающей выборке только признаки, имеющиеся и в тестовой, т.к. только они будут доступны для модели в продакшене. Выполним эти шаги последовательно, чтобы уменьшить их количество."
   ]
  },
  {
   "cell_type": "code",
   "execution_count": 12,
   "metadata": {},
   "outputs": [
    {
     "name": "stdout",
     "output_type": "stream",
     "text": [
      "Index(['date', 'primary_cleaner.input.sulfate',\n",
      "       'primary_cleaner.input.depressant', 'primary_cleaner.input.feed_size',\n",
      "       'primary_cleaner.input.xanthate',\n",
      "       'primary_cleaner.state.floatbank8_a_air',\n",
      "       'primary_cleaner.state.floatbank8_a_level',\n",
      "       'primary_cleaner.state.floatbank8_b_air',\n",
      "       'primary_cleaner.state.floatbank8_b_level',\n",
      "       'primary_cleaner.state.floatbank8_c_air',\n",
      "       'primary_cleaner.state.floatbank8_c_level',\n",
      "       'primary_cleaner.state.floatbank8_d_air',\n",
      "       'primary_cleaner.state.floatbank8_d_level', 'rougher.input.feed_ag',\n",
      "       'rougher.input.feed_pb', 'rougher.input.feed_rate',\n",
      "       'rougher.input.feed_size', 'rougher.input.feed_sol',\n",
      "       'rougher.input.feed_au', 'rougher.input.floatbank10_sulfate',\n",
      "       'rougher.input.floatbank10_xanthate',\n",
      "       'rougher.input.floatbank11_sulfate',\n",
      "       'rougher.input.floatbank11_xanthate', 'rougher.state.floatbank10_a_air',\n",
      "       'rougher.state.floatbank10_a_level', 'rougher.state.floatbank10_b_air',\n",
      "       'rougher.state.floatbank10_b_level', 'rougher.state.floatbank10_c_air',\n",
      "       'rougher.state.floatbank10_c_level', 'rougher.state.floatbank10_d_air',\n",
      "       'rougher.state.floatbank10_d_level', 'rougher.state.floatbank10_e_air',\n",
      "       'rougher.state.floatbank10_e_level', 'rougher.state.floatbank10_f_air',\n",
      "       'rougher.state.floatbank10_f_level',\n",
      "       'secondary_cleaner.state.floatbank2_a_air',\n",
      "       'secondary_cleaner.state.floatbank2_a_level',\n",
      "       'secondary_cleaner.state.floatbank2_b_air',\n",
      "       'secondary_cleaner.state.floatbank2_b_level',\n",
      "       'secondary_cleaner.state.floatbank3_a_air',\n",
      "       'secondary_cleaner.state.floatbank3_a_level',\n",
      "       'secondary_cleaner.state.floatbank3_b_air',\n",
      "       'secondary_cleaner.state.floatbank3_b_level',\n",
      "       'secondary_cleaner.state.floatbank4_a_air',\n",
      "       'secondary_cleaner.state.floatbank4_a_level',\n",
      "       'secondary_cleaner.state.floatbank4_b_air',\n",
      "       'secondary_cleaner.state.floatbank4_b_level',\n",
      "       'secondary_cleaner.state.floatbank5_a_air',\n",
      "       'secondary_cleaner.state.floatbank5_a_level',\n",
      "       'secondary_cleaner.state.floatbank5_b_air',\n",
      "       'secondary_cleaner.state.floatbank5_b_level',\n",
      "       'secondary_cleaner.state.floatbank6_a_air',\n",
      "       'secondary_cleaner.state.floatbank6_a_level'],\n",
      "      dtype='object')\n"
     ]
    }
   ],
   "source": [
    "#сократим обучающую выборку\n",
    "train_data = train_data[test_data.columns] \n",
    "\n",
    "#проверим результат\n",
    "print(train_data.columns)"
   ]
  },
  {
   "cell_type": "markdown",
   "metadata": {},
   "source": [
    "Переходим к обработке пропусков. Посмотрим, какую долю от данных каждой таблицы они занимают. Столбцов много, а нас в большей мере интересуют те, в которых доля пропусков наибольшая. Поэтому отсортируем столбцы соответсвующим образом и выведем на экран топ-5."
   ]
  },
  {
   "cell_type": "code",
   "execution_count": 13,
   "metadata": {},
   "outputs": [
    {
     "name": "stdout",
     "output_type": "stream",
     "text": [
      "rougher.state.floatbank10_e_air             3.081490\n",
      "rougher.input.floatbank11_xanthate          3.024949\n",
      "secondary_cleaner.state.floatbank2_a_air    1.533677\n",
      "rougher.input.feed_size                     1.017740\n",
      "rougher.input.feed_pb                       0.706764\n",
      "dtype: float64\n",
      "\n",
      "rougher.input.floatbank11_xanthate          0.472590\n",
      "rougher.input.feed_sol                      0.396975\n",
      "secondary_cleaner.state.floatbank3_a_air    0.170132\n",
      "rougher.input.floatbank11_sulfate           0.151229\n",
      "primary_cleaner.input.depressant            0.094518\n",
      "dtype: float64\n"
     ]
    }
   ],
   "source": [
    "print((train_data.isna().sum().sort_values(ascending=False)/train_data.shape[0]*100).head(5))\n",
    "print()\n",
    "print((test_data.isna().sum().sort_values(ascending=False)/test_data.shape[0]*100).head(5))"
   ]
  },
  {
   "cell_type": "markdown",
   "metadata": {},
   "source": [
    "В тестовой выборке доли пропусков составляют менее 1%, поэтому строки с пропущенными значениями можно удалить. \n",
    "\n",
    "А вот в обучающей выборке ситуация иная: самая большая доля пропусков составляет 3%, что довольно много. Здесь заменим пропущенные значения на медианное."
   ]
  },
  {
   "cell_type": "code",
   "execution_count": 14,
   "metadata": {},
   "outputs": [
    {
     "name": "stdout",
     "output_type": "stream",
     "text": [
      "date                                 0.0\n",
      "rougher.state.floatbank10_c_air      0.0\n",
      "rougher.state.floatbank10_d_air      0.0\n",
      "rougher.state.floatbank10_d_level    0.0\n",
      "rougher.state.floatbank10_e_air      0.0\n",
      "dtype: float64\n",
      "\n",
      "date                                 0.0\n",
      "rougher.state.floatbank10_c_air      0.0\n",
      "rougher.state.floatbank10_d_air      0.0\n",
      "rougher.state.floatbank10_d_level    0.0\n",
      "rougher.state.floatbank10_e_air      0.0\n",
      "dtype: float64\n"
     ]
    }
   ],
   "source": [
    "#заменяем пропуски в обучающей выборке на медианное значение\n",
    "train_data = train_data.fillna(train_data.median())  \n",
    "\n",
    "#удаляем строки с пропущенными значениями из тестовой выборки\n",
    "test_data = test_data.dropna() \n",
    "\n",
    "#проверяем результаты обработки пропусков\n",
    "print((train_data.isna().sum().sort_values(ascending=False)/train_data.shape[0]*100).head(5))\n",
    "print()\n",
    "print((test_data.isna().sum().sort_values(ascending=False)/test_data.shape[0]*100).head(5))"
   ]
  },
  {
   "cell_type": "markdown",
   "metadata": {},
   "source": [
    "### Вывод"
   ]
  },
  {
   "cell_type": "markdown",
   "metadata": {},
   "source": [
    "На этапе предобработки данных мы сократили обучающую выборку, удалили из выборок столбец с датой и временем и обработали имеющиеся в данных пропуски. \n",
    "\n",
    "На следующем этапе произведем исследовательский анализ данных."
   ]
  },
  {
   "cell_type": "markdown",
   "metadata": {},
   "source": [
    "## Анализ данных"
   ]
  },
  {
   "cell_type": "markdown",
   "metadata": {},
   "source": [
    "### Исследование концентрации металлов"
   ]
  },
  {
   "cell_type": "markdown",
   "metadata": {},
   "source": [
    "Изучим, как меняется концентрация золота, серебра и свинца на различных этапах очистки. Для этого построим графики с использованием библиотеки seaborn. \n",
    "\n",
    "Строить их мы будем на основе данных из полного фрейма, которые не подвергались предобработке, поэтому в них могут встречаться пропуски, которые помешают построению графиков. Проверим это:"
   ]
  },
  {
   "cell_type": "code",
   "execution_count": 15,
   "metadata": {},
   "outputs": [
    {
     "name": "stdout",
     "output_type": "stream",
     "text": [
      "primary_cleaner.output.concentrate_pb    2.218397\n",
      "final.output.concentrate_ag              0.019124\n",
      "final.output.concentrate_pb              0.019124\n",
      "rougher.output.concentrate_au            0.000000\n",
      "primary_cleaner.output.concentrate_au    0.000000\n",
      "final.output.concentrate_au              0.000000\n",
      "rougher.output.concentrate_ag            0.000000\n",
      "primary_cleaner.output.concentrate_ag    0.000000\n",
      "rougher.output.concentrate_pb            0.000000\n",
      "dtype: float64\n"
     ]
    }
   ],
   "source": [
    "print((full_data[['rougher.output.concentrate_au', 'primary_cleaner.output.concentrate_au', 'final.output.concentrate_au',\n",
    "                 'rougher.output.concentrate_ag', 'primary_cleaner.output.concentrate_ag', 'final.output.concentrate_ag',\n",
    "                 'rougher.output.concentrate_pb', 'primary_cleaner.output.concentrate_pb', 'final.output.concentrate_pb']\n",
    "                ].isna().sum().sort_values(ascending=False)/test_data.shape[0]*100))"
   ]
  },
  {
   "cell_type": "markdown",
   "metadata": {},
   "source": [
    "Действительно, в данных по серебру и свинцу присутствует малое количество пропусков. Удалим соответствующие строки, т.к. это позволит построить графики и при этом не исказить их результаты."
   ]
  },
  {
   "cell_type": "code",
   "execution_count": 16,
   "metadata": {},
   "outputs": [
    {
     "name": "stdout",
     "output_type": "stream",
     "text": [
      "rougher.output.concentrate_au            0.0\n",
      "primary_cleaner.output.concentrate_au    0.0\n",
      "final.output.concentrate_au              0.0\n",
      "rougher.output.concentrate_ag            0.0\n",
      "primary_cleaner.output.concentrate_ag    0.0\n",
      "final.output.concentrate_ag              0.0\n",
      "rougher.output.concentrate_pb            0.0\n",
      "primary_cleaner.output.concentrate_pb    0.0\n",
      "final.output.concentrate_pb              0.0\n",
      "dtype: float64\n"
     ]
    }
   ],
   "source": [
    "data_for_analysis = full_data[['rougher.output.concentrate_au', 'primary_cleaner.output.concentrate_au', \n",
    "                    'final.output.concentrate_au','rougher.output.concentrate_ag','primary_cleaner.output.concentrate_ag', \n",
    "                    'final.output.concentrate_ag','rougher.output.concentrate_pb', 'primary_cleaner.output.concentrate_pb',\n",
    "                    'final.output.concentrate_pb']].dropna() #удаляем строки\n",
    "\n",
    "print((data_for_analysis.isna().sum().sort_values(ascending=False)/test_data.shape[0]*100)) #проверяем результат"
   ]
  },
  {
   "cell_type": "markdown",
   "metadata": {},
   "source": [
    "Данные подготовлены, теперь можно строить графики. Автоматизируем этот процесс, т.к. нам нужно исследовать динамику концентрации трех металлов. Создадим функцию, в которой зададим единые параметры для трех графиков."
   ]
  },
  {
   "cell_type": "code",
   "execution_count": 17,
   "metadata": {},
   "outputs": [
    {
     "data": {
      "image/png": "[encoded data removed]",
      "text/plain": [
       "<Figure size 1008x504 with 1 Axes>"
      ]
     },
     "metadata": {
      "needs_background": "light"
     },
     "output_type": "display_data"
    }
   ],
   "source": [
    "def concentrate_comparison(rougher, prim_clean, final, title): #создаем функцию\n",
    "    plt.figure(figsize=(14, 7))\n",
    "    sns.set_style('whitegrid')\n",
    "    sns.distplot(data_for_analysis[rougher], color='#f04fc2', kde=False)\n",
    "    sns.distplot(data_for_analysis[prim_clean], color='#0fff17', kde=False)\n",
    "    sns.distplot(data_for_analysis[final], color='#3c8be5', kde=False)\n",
    "    plt.title(title)\n",
    "    plt.legend(['rougher', 'primary clean', 'final'])\n",
    "    plt.show()\n",
    "    \n",
    "warnings.filterwarnings('ignore')\n",
    "concentrate_comparison('rougher.output.concentrate_au', 'primary_cleaner.output.concentrate_au', \n",
    "                       'final.output.concentrate_au', 'Концентрация золота на разных этапах очистки') #применяем ее"
   ]
  },
  {
   "cell_type": "code",
   "execution_count": 18,
   "metadata": {},
   "outputs": [
    {
     "data": {
      "image/png": "[encoded data removed]",
      "text/plain": [
       "<Figure size 1008x504 with 1 Axes>"
      ]
     },
     "metadata": {},
     "output_type": "display_data"
    }
   ],
   "source": [
    "concentrate_comparison('rougher.output.concentrate_ag', 'primary_cleaner.output.concentrate_ag', \n",
    "                       'final.output.concentrate_ag', 'Концентрация серебра на разных этапах очистки') "
   ]
  },
  {
   "cell_type": "code",
   "execution_count": 19,
   "metadata": {},
   "outputs": [
    {
     "data": {
      "image/png": "[encoded data removed]",
      "text/plain": [
       "<Figure size 1008x504 with 1 Axes>"
      ]
     },
     "metadata": {},
     "output_type": "display_data"
    }
   ],
   "source": [
    "concentrate_comparison('rougher.output.concentrate_pb', 'primary_cleaner.output.concentrate_pb', \n",
    "                       'final.output.concentrate_pb', 'Концентрация свинца на разных этапах очистки') "
   ]
  },
  {
   "cell_type": "markdown",
   "metadata": {},
   "source": [
    "Согласно построенным графикам, концентрация золота увеличивается от этапа к этапу и достигает максимума на финальном шаге очистки. Концентрация серебра ведет себя ровно наоборот и к финальному этапу достигает минимальных значений. Что касается свинца, то после черновой очистки его концентрация незначительно увеличивается и далее остается примерно на том же уровне.\n",
    "\n",
    "Кроме того графики позволили выявить наличие в данных аномальных значений, которые не учитывались при анализе.\n",
    "\n",
    "Переходим к анализу размеров гранул сырья."
   ]
  },
  {
   "cell_type": "markdown",
   "metadata": {},
   "source": [
    "### Анализ размеров гранул сырья"
   ]
  },
  {
   "cell_type": "markdown",
   "metadata": {},
   "source": [
    "Проверим, сильно ли различаются между собой распределения размеров гранул сырья на обучающей и тестовой выборках - это может негативно повлиять на будущую оценку моделей машинного обучения.\n",
    "\n",
    "Построим график:"
   ]
  },
  {
   "cell_type": "code",
   "execution_count": 20,
   "metadata": {},
   "outputs": [
    {
     "data": {
      "image/png": "[encoded data removed]",
      "text/plain": [
       "<Figure size 1008x504 with 1 Axes>"
      ]
     },
     "metadata": {},
     "output_type": "display_data"
    }
   ],
   "source": [
    "plt.figure(figsize=(14, 7))\n",
    "sns.distplot(train_data['rougher.input.feed_size'], bins=30)\n",
    "sns.distplot(test_data['rougher.input.feed_size'], bins=30)\n",
    "plt.legend(['train', 'test'])\n",
    "plt.title('Сравнение размеров гранул')\n",
    "plt.show()"
   ]
  },
  {
   "cell_type": "markdown",
   "metadata": {},
   "source": [
    "Распределения размеров на тестовой и обучающей выборке похожи, различаются несильно, поэтому вероятность негативного влияния на оценку моделей крайне низкая.\n",
    "\n",
    "Наконец исследуем суммарную концентрацию всех веществ на разных стадиях."
   ]
  },
  {
   "cell_type": "markdown",
   "metadata": {},
   "source": [
    "### Исследование суммарной концентрации "
   ]
  },
  {
   "cell_type": "markdown",
   "metadata": {},
   "source": [
    "На финальном этапе анализа данных исследуем суммарную концентрацию всех веществ в сырье, в черновом и финальном концентратах. Затем построим график для визуального отображения полученных результатов."
   ]
  },
  {
   "cell_type": "code",
   "execution_count": 21,
   "metadata": {},
   "outputs": [
    {
     "data": {
      "image/png": "[encoded data removed]",
      "text/plain": [
       "<Figure size 1008x504 with 1 Axes>"
      ]
     },
     "metadata": {},
     "output_type": "display_data"
    }
   ],
   "source": [
    "rough_sum = full_data['rougher.input.feed_au'] + full_data['rougher.input.feed_ag'] + full_data[\n",
    "            'rougher.input.feed_pb'] + full_data['rougher.input.feed_sol']\n",
    "\n",
    "rougher_output_sum = full_data['rougher.output.concentrate_au'] + full_data['rougher.output.concentrate_ag'] + full_data[\n",
    "                     'rougher.output.concentrate_pb'] + full_data['rougher.output.concentrate_sol']\n",
    "\n",
    "primary_cleaner_output_sum = full_data['primary_cleaner.output.concentrate_au'] + full_data[\n",
    "                             'primary_cleaner.output.concentrate_ag'] + full_data['primary_cleaner.output.concentrate_pb'] + full_data[\n",
    "                             'primary_cleaner.output.concentrate_sol']\n",
    "\n",
    "final_output_sum = full_data['final.output.concentrate_au'] + full_data['final.output.concentrate_ag'] + full_data[\n",
    "                     'final.output.concentrate_pb'] + full_data['final.output.concentrate_sol']\n",
    "\n",
    "#строим график по результатам суммирования\n",
    "plt.figure(figsize=(14, 7))\n",
    "sns.distplot(rough_sum, bins=30, kde=False)\n",
    "sns.distplot(rougher_output_sum, bins=30, kde=False)\n",
    "sns.distplot(primary_cleaner_output_sum, bins=30, kde=False)\n",
    "sns.distplot(final_output_sum, bins=30, kde=False)\n",
    "plt.legend(['rough concentration sum', 'rougher output concentration sum',\n",
    "     'primary cleaner output sum', 'final output concentration sum'])\n",
    "plt.title('Сравнение суммарной концентрации по этапам очистки')\n",
    "plt.show()"
   ]
  },
  {
   "cell_type": "markdown",
   "metadata": {},
   "source": [
    "Согласно графику, суммарная концентрация веществ растет от этапа к этапу. Также можно заметить, что в данных присутствует много аномальных, нулевых значений. Предположу, что это связано с тем, что в определенной доле исходного сырья попадается так называемая пустая порода, не содержащая в себе металлов. \n",
    "\n",
    "Удалим строки с нулевыми значениями из обучающей и тестовой выборок через функцию."
   ]
  },
  {
   "cell_type": "code",
   "execution_count": 22,
   "metadata": {},
   "outputs": [],
   "source": [
    "def drop_zeros(data): #создаем функцию\n",
    "    df = data.drop(rough_sum[rough_sum == 0].index, errors='ignore')\n",
    "    df = data.drop(rougher_output_sum[rougher_output_sum == 0].index, errors='ignore')\n",
    "    df = data.drop(primary_cleaner_output_sum[primary_cleaner_output_sum == 0].index, errors='ignore')\n",
    "    df = data.drop(final_output_sum[final_output_sum == 0].index, errors='ignore')\n",
    "    return df\n",
    "\n",
    "#применяем функцию к обучающей выборке\n",
    "train_data = drop_zeros(train_data)\n",
    "\n",
    "#применяем функцию к тестовой выборке\n",
    "test_data = drop_zeros(test_data)"
   ]
  },
  {
   "cell_type": "markdown",
   "metadata": {},
   "source": [
    "### Вывод"
   ]
  },
  {
   "cell_type": "markdown",
   "metadata": {},
   "source": [
    "Проведенный анализ данных позволил сделать следующие выводы:\n",
    "- по мере продвижения по этапам очистки концентрация золота увеличивается, серебра - снижается, свинца - остается примерно на одном уровне;\n",
    "- значительных расхождений в распределениях размеров гранул сырья на обучающей и тестовой выборках не обнаружено;\n",
    "- суммарная концентрация веществ в сырье растет по мере прохождения этапов очистки.\n",
    "\n",
    "Следующий шаг будет посвящен моделям машинного обучения и кросс-валидации."
   ]
  },
  {
   "cell_type": "markdown",
   "metadata": {},
   "source": [
    "## Обучение и тестирование моделей"
   ]
  },
  {
   "cell_type": "markdown",
   "metadata": {},
   "source": [
    "### Подготовка к машинному обучению"
   ]
  },
  {
   "cell_type": "markdown",
   "metadata": {},
   "source": [
    "Перед тем, как приступить к обучению моделей, нам нужно выполнить еще несколько важных пунктов. Для начала - создать функции для вычисления метрик качества: sMAPE и итогового sMAPE. Формулы для вычисления, на основе которых и будут создаваться функции, даны нам в теории к проекту."
   ]
  },
  {
   "cell_type": "code",
   "execution_count": 23,
   "metadata": {},
   "outputs": [],
   "source": [
    "#создаем функции для вычисления метрик качества\n",
    "def sMAPE (y_true, y_predict):\n",
    "    smape = (np.mean((abs(y_true - y_predict))/((abs(y_true) + abs(y_predict)) / 2))) * 100\n",
    "    return smape\n",
    "\n",
    "def final_sMAPE (rougher, final):\n",
    "    final_smape = 0.25 * rougher + 0.75 * final\n",
    "    return print(final_smape)"
   ]
  },
  {
   "cell_type": "markdown",
   "metadata": {},
   "source": [
    "На этапе предобработки данных мы работали с имеющимися у нас обучающей и тестовой выборками, в результате чего в обеих не оказалось целевых признаков: эффективности обогащения сырья после флотации и после полного цикла очистки. Добавим их в отдельные переменные, вычленив из исходной таблицы с полным набором данных. \n",
    "\n",
    "Чтобы данные отобрались верно, установим в каждом датасете дату в качестве индекса. Нужно также учесть и возможное наличие в данных пропусков, строки с которыми мы удалим."
   ]
  },
  {
   "cell_type": "code",
   "execution_count": 24,
   "metadata": {},
   "outputs": [],
   "source": [
    "#устанавливаем дату в качестве индекса\n",
    "full_data = full_data.reset_index().set_index('date')\n",
    "train_data = train_data.reset_index().set_index('date')\n",
    "test_data = test_data.reset_index().set_index('date')"
   ]
  },
  {
   "cell_type": "code",
   "execution_count": 25,
   "metadata": {},
   "outputs": [],
   "source": [
    "#вычленяем первый целевой признак для обеих выборок\n",
    "target_train_rougher = full_data['rougher.output.recovery'].dropna()[train_data.index]\n",
    "target_test_rougher = full_data['rougher.output.recovery'].dropna()[test_data.index]\n",
    "\n",
    "#повторяем процедуру для второго признака\n",
    "target_train_final = full_data['final.output.recovery'].dropna()[train_data.index]\n",
    "target_test_final = full_data['final.output.recovery'].dropna()[test_data.index]"
   ]
  },
  {
   "cell_type": "markdown",
   "metadata": {},
   "source": [
    "На этом завершим подготовку и перейдем непосредственно к процессу обучения моделей."
   ]
  },
  {
   "cell_type": "code",
   "execution_count": 26,
   "metadata": {},
   "outputs": [
    {
     "data": {
      "text/plain": [
       "(date\n",
       " 2016-09-01 00:59:59    70.273583\n",
       " 2016-09-01 01:59:59    68.910432\n",
       " 2016-09-01 02:59:59    68.143213\n",
       " 2016-09-01 03:59:59    67.776393\n",
       " 2016-09-01 04:59:59    61.467078\n",
       "                          ...    \n",
       " 2017-12-31 19:59:59    68.919891\n",
       " 2017-12-31 20:59:59    68.440582\n",
       " 2017-12-31 21:59:59    67.092759\n",
       " 2017-12-31 22:59:59    68.061186\n",
       " 2017-12-31 23:59:59    71.699976\n",
       " Name: final.output.recovery, Length: 5207, dtype: float64,\n",
       " date\n",
       " 2016-09-01 00:59:59    89.993421\n",
       " 2016-09-01 01:59:59    88.089657\n",
       " 2016-09-01 02:59:59    88.412756\n",
       " 2016-09-01 03:59:59    87.360133\n",
       " 2016-09-01 04:59:59    83.236367\n",
       "                          ...    \n",
       " 2017-12-31 19:59:59    95.172585\n",
       " 2017-12-31 20:59:59    94.575036\n",
       " 2017-12-31 21:59:59    93.018138\n",
       " 2017-12-31 22:59:59    92.599042\n",
       " 2017-12-31 23:59:59    91.177695\n",
       " Name: rougher.output.recovery, Length: 5207, dtype: float64)"
      ]
     },
     "execution_count": 26,
     "metadata": {},
     "output_type": "execute_result"
    }
   ],
   "source": [
    "target_test_final, target_test_rougher"
   ]
  },
  {
   "cell_type": "markdown",
   "metadata": {},
   "source": [
    "### Обучение моделей"
   ]
  },
  {
   "cell_type": "markdown",
   "metadata": {},
   "source": [
    "Обучим модели дерева решений и случайного леса и оценим их качество, используя созданные на предыдущем шаге функции. Для этих целей создадим еще одну функцию, включив в нее GridSearchCV – инструмент для автоматического поиска наилучших параметров моделей путем обычного перебора."
   ]
  },
  {
   "cell_type": "code",
   "execution_count": 397,
   "metadata": {},
   "outputs": [],
   "source": [
    "#создаем функцию для обучения модели и подбора наилучших параметров\n",
    "def fit_and_check(model, parametrs, train_data, target_train):\n",
    "    my_scorer = make_scorer(sMAPE, greater_is_better=False)\n",
    "    clf = GridSearchCV(model, parametrs, scoring=my_scorer, cv=5)\n",
    "    clf.fit(train_data, target_train)\n",
    "    return clf.best_params_, -1*clf.best_score_\n",
    "\n",
    "#задаем для обеих моделей наборы параметров, среди которых будет производиться поиск\n",
    "params_tree = {'max_depth': range(1, 21), 'random_state': [12345]}\n",
    "params_forest = {'n_estimators': range(11, 31, 10), 'max_depth': range(1, 21), 'random_state': [12345]}"
   ]
  },
  {
   "cell_type": "code",
   "execution_count": 398,
   "metadata": {},
   "outputs": [
    {
     "name": "stdout",
     "output_type": "stream",
     "text": [
      "({'max_depth': 4, 'random_state': 12345}, 10.783306211889926)\n",
      "\n",
      "({'max_depth': 4, 'n_estimators': 11, 'random_state': 12345}, 10.366131131291294)\n",
      "\n",
      "({'max_depth': 4, 'random_state': 12345}, 10.23911153314299)\n",
      "\n",
      "({'max_depth': 4, 'n_estimators': 21, 'random_state': 12345}, 9.586087472355599)\n"
     ]
    }
   ],
   "source": [
    "#применяем функцию к моделям, постфлотационным и финальным данным\n",
    "print(fit_and_check (DecisionTreeRegressor(), params_tree, train_data, target_train_rougher))\n",
    "print()\n",
    "print(fit_and_check (RandomForestRegressor(), params_forest, train_data, target_train_rougher))\n",
    "print()\n",
    "print(fit_and_check (DecisionTreeRegressor(), params_tree, train_data, target_train_final))\n",
    "print()\n",
    "print(fit_and_check (RandomForestRegressor(), params_forest, train_data, target_train_final))"
   ]
  },
  {
   "cell_type": "markdown",
   "metadata": {},
   "source": [
    "Параметры подобраны, а вычисленные значения sMAPE мы теперь можем подставить в формулу нахождения итоговой метрики:"
   ]
  },
  {
   "cell_type": "code",
   "execution_count": 399,
   "metadata": {},
   "outputs": [
    {
     "name": "stdout",
     "output_type": "stream",
     "text": [
      "Итоговое sMAPE для дерева решений:\n",
      "10.375160202829726\n",
      "\n",
      "Итоговое sMAPE для случайного леса:\n",
      "9.781098387089521\n"
     ]
    }
   ],
   "source": [
    "print('Итоговое sMAPE для дерева решений:') \n",
    "final_sMAPE(10.783306211889926, 10.23911153314299)\n",
    "print()\n",
    "print('Итоговое sMAPE для случайного леса:') \n",
    "final_sMAPE(10.366131131291294, 9.586087472355599)"
   ]
  },
  {
   "cell_type": "markdown",
   "metadata": {},
   "source": [
    "Данные получены, случайный лес показал лучший результат, чем дерево решений: его итоговое SMAPE ниже на 594 тысячные (0.594). \n",
    "Теперь модели необходимо проверить на адекватность. Для этого вычислим метрики для константной модели и сравним с результатами дерева и леса."
   ]
  },
  {
   "cell_type": "code",
   "execution_count": 400,
   "metadata": {},
   "outputs": [
    {
     "name": "stdout",
     "output_type": "stream",
     "text": [
      "sMAPE(rougher) для константной модели: 8.464\n",
      "sMAPE(final) для константной модели: 9.248\n",
      "Итоговое sMAPE для константной модели:\n",
      "9.052156878774587\n"
     ]
    }
   ],
   "source": [
    "#вычисляем sMAPE(rougher) для константной модели\n",
    "dummy_clf = DummyRegressor(strategy=\"median\")\n",
    "dummy_clf.fit(train_data, target_train_rougher)\n",
    "predictions_dummy_clf = dummy_clf.predict(test_data)\n",
    "smape_dummy_rougher = sMAPE(target_test_rougher, predictions_dummy_clf)\n",
    "print('sMAPE(rougher) для константной модели:', smape_dummy_rougher.round(3))\n",
    "\n",
    "#вычисляем sMAPE(final) для константной модели\n",
    "dummy_clf = DummyRegressor(strategy=\"median\")\n",
    "dummy_clf.fit(train_data, target_train_final)\n",
    "predictions_dummy_clf = dummy_clf.predict(test_data)\n",
    "smape_dummy_final = sMAPE(target_test_final, predictions_dummy_clf)\n",
    "print('sMAPE(final) для константной модели:', smape_dummy_final.round(3))\n",
    "\n",
    "#вычисляем итоговое sMAPE для константной модели\n",
    "print('Итоговое sMAPE для константной модели:')\n",
    "final_sMAPE(smape_dummy_rougher, smape_dummy_final)"
   ]
  },
  {
   "cell_type": "markdown",
   "metadata": {},
   "source": [
    "Результаты обученных нами моделей решающего дерева и случайного леса уступают значениям метрик константной модели. Однако тест на адекватность они прошли, следовательно, можно переходить к проверке их на тестовой выборке и выбору лучшей модели."
   ]
  },
  {
   "cell_type": "markdown",
   "metadata": {},
   "source": [
    "### Проверка моделей и выбор лучшей"
   ]
  },
  {
   "cell_type": "markdown",
   "metadata": {},
   "source": [
    "Из предыдущего этапа мы знаем наилучшие параметры для каждой модели. Применим их для проверки работы моделей на тестовой выборке и вычислим новые значения метрик качества."
   ]
  },
  {
   "cell_type": "code",
   "execution_count": 401,
   "metadata": {},
   "outputs": [
    {
     "name": "stdout",
     "output_type": "stream",
     "text": [
      "sMAPE(rougher) для дерева решений: 11.319\n",
      "sMAPE(final) для дерева решений: 9.775\n",
      "sMAPE(rougher) для случайного леса: 11.125\n",
      "sMAPE(final) для случайного леса: 9.628\n",
      "\n",
      "Итоговое sMAPE для дерева решений:\n",
      "10.160939109907\n",
      "Итоговое sMAPE для случайного леса:\n",
      "10.002137259667434\n"
     ]
    }
   ],
   "source": [
    "model_tree_rougher = DecisionTreeRegressor(max_depth = 4, random_state=12345)\n",
    "model_tree_rougher.fit(train_data, target_train_rougher)\n",
    "predictions_tree_rougher = model_tree_rougher.predict(test_data)\n",
    "smape_tree_rougher = sMAPE(target_test_rougher, predictions_tree_rougher)\n",
    "print('sMAPE(rougher) для дерева решений:', smape_tree_rougher.round(3))\n",
    "\n",
    "model_tree_final = DecisionTreeRegressor(max_depth = 4, random_state=12345)\n",
    "model_tree_final.fit(train_data, target_train_final)\n",
    "predictions_tree_final = model_tree_final.predict(test_data)\n",
    "smape_tree_final = sMAPE(target_test_final, predictions_tree_final)\n",
    "print('sMAPE(final) для дерева решений:', smape_tree_final.round(3))\n",
    "\n",
    "model_forest_rougher = RandomForestRegressor(max_depth = 4, n_estimators = 11, random_state=12345)\n",
    "model_forest_rougher.fit(train_data, target_train_rougher)\n",
    "predictions_forest_rougher = model_forest_rougher.predict(test_data)\n",
    "smape_forest_rougher = sMAPE(target_test_rougher, predictions_forest_rougher)\n",
    "print('sMAPE(rougher) для случайного леса:', smape_forest_rougher.round(3))\n",
    "\n",
    "model_forest_final = RandomForestRegressor(max_depth = 4, n_estimators = 21, random_state=12345)\n",
    "model_forest_final.fit(train_data, target_train_final)\n",
    "predictions_forest_final = model_forest_final.predict(test_data)\n",
    "smape_forest_final = sMAPE(target_test_final, predictions_forest_final)\n",
    "print('sMAPE(final) для случайного леса:', smape_forest_final.round(3))\n",
    "\n",
    "print()\n",
    "\n",
    "print('Итоговое sMAPE для дерева решений:') \n",
    "final_sMAPE(smape_tree_rougher, smape_tree_final)\n",
    "print('Итоговое sMAPE для случайного леса:')\n",
    "final_sMAPE(smape_forest_rougher, smape_forest_final)"
   ]
  },
  {
   "cell_type": "markdown",
   "metadata": {},
   "source": [
    "На тестовой выборке лучший результат снова показала модель случайного леса, однако на этот раз различия в значениях метрик гораздо меньше: 159 тысячных (0.159). \n",
    "Теперь сравним значение метрик с константной моделью."
   ]
  },
  {
   "cell_type": "code",
   "execution_count": 402,
   "metadata": {},
   "outputs": [
    {
     "name": "stdout",
     "output_type": "stream",
     "text": [
      "sMAPE(rougher) для константной модели: 8.464\n",
      "sMAPE(final) для константной модели: 9.248\n",
      "Итоговое sMAPE для константной модели:\n",
      "9.052156878774587\n"
     ]
    }
   ],
   "source": [
    "#вычисляем sMAPE(rougher) для константной модели\n",
    "dummy_clf = DummyRegressor(strategy=\"median\")\n",
    "dummy_clf.fit(train_data, target_train_rougher)\n",
    "predictions_dummy_clf = dummy_clf.predict(test_data)\n",
    "smape_dummy_rougher = sMAPE(target_test_rougher, predictions_dummy_clf)\n",
    "print('sMAPE(rougher) для константной модели:', smape_dummy_rougher.round(3))\n",
    "\n",
    "#вычисляем sMAPE(final) для константной модели\n",
    "dummy_clf = DummyRegressor(strategy=\"median\")\n",
    "dummy_clf.fit(train_data, target_train_final)\n",
    "predictions_dummy_clf = dummy_clf.predict(test_data)\n",
    "smape_dummy_final = sMAPE(target_test_final, predictions_dummy_clf)\n",
    "print('sMAPE(final) для константной модели:', smape_dummy_final.round(3))\n",
    "\n",
    "#вычисляем итоговое sMAPE для константной модели\n",
    "print('Итоговое sMAPE для константной модели:')\n",
    "final_sMAPE(smape_dummy_rougher, smape_dummy_final)"
   ]
  },
  {
   "cell_type": "markdown",
   "metadata": {},
   "source": [
    "Результаты константной модели все еще лучше, чем выбранных нами. Однако итоговое sMAPE случайного леса более приближено к sMAPE константной модели. Следовательно, именно эта модель и будет признана лучшей."
   ]
  },
  {
   "cell_type": "markdown",
   "metadata": {},
   "source": [
    "### Вывод"
   ]
  },
  {
   "cell_type": "markdown",
   "metadata": {},
   "source": [
    "На данном этапе мы произвели подбор наилучших параметров для моделей случайного леса и дерева решений, используя инструмент GridSearchCV, обучили модели, проверили их на адекватность и протестировали. Данные шаги позволили нам выбрать наилучшие модели для двух целевых признаков: для эффективности обогащения сырья после флотации модель случайного леса с параметрами max_depth = 4, n_estimators = 11 и для эффективности обогащения сырья после полного цикла очистки также случайные лес, но с параметрами max_depth = 4, n_estimators = 21."
   ]
  },
  {
   "cell_type": "markdown",
   "metadata": {},
   "source": [
    "## Итоговые выводы"
   ]
  },
  {
   "cell_type": "markdown",
   "metadata": {},
   "source": [
    "В ходе проекта мы изучили данные о добыче и очистке металлической руды и обучили несколько моделей (дерево решений и случайный лес) с целью создания прототипа модели для предсказания коэффициента восстановления золота из золотосодержащей руды. Исследовательский анализ данных позволил прийти к следующим выводам: \n",
    "- по мере прохождения процесса очистки суммарная концентрация веществ в сырье растет, при этом концентрация золота растет, серебра снижается, свинца остается практически неизменной;\n",
    "- распределения размеров гранул сырья на обучающей и тестовой выборках схожи и не оказывают негативного воздействия на результаты обучения и работы моделей.\n",
    "\n",
    "\n",
    "По итогам выполнения проекта искомой моделью стала:\n",
    "- для эффективности обогащения сырья после флотации - модель случайного леса с параметрами max_depth = 4, n_estimators = 11 и sMAPE = 11.125;\n",
    "- для эффективности обогащения сырья после полного цикла очистки модель случайного леса с параметрами  max_depth = 4, n_estimators = 21 и sMAPE = 9.628. \n",
    "\n",
    "\n",
    "Итоговое sMAPE составило 10.002."
   ]
  }
 ],
 "metadata": {
  "ExecuteTimeLog": [
   {
    "duration": 1499,
    "start_time": "2022-03-09T10:38:16.728Z"
   },
   {
    "duration": 853,
    "start_time": "2022-03-09T10:38:18.230Z"
   },
   {
    "duration": 5,
    "start_time": "2022-03-09T10:38:19.086Z"
   },
   {
    "duration": 663,
    "start_time": "2022-03-09T10:38:19.094Z"
   },
   {
    "duration": 329,
    "start_time": "2022-03-09T10:41:43.181Z"
   },
   {
    "duration": 628,
    "start_time": "2022-03-09T10:41:46.399Z"
   },
   {
    "duration": 7,
    "start_time": "2022-03-09T12:00:14.497Z"
   },
   {
    "duration": 918,
    "start_time": "2022-03-09T12:00:14.507Z"
   },
   {
    "duration": 4,
    "start_time": "2022-03-09T12:00:15.428Z"
   },
   {
    "duration": 603,
    "start_time": "2022-03-09T12:00:15.435Z"
   },
   {
    "duration": 320,
    "start_time": "2022-03-09T12:00:16.040Z"
   },
   {
    "duration": 603,
    "start_time": "2022-03-09T12:00:16.363Z"
   },
   {
    "duration": 21,
    "start_time": "2022-03-09T12:00:16.969Z"
   },
   {
    "duration": 1884,
    "start_time": "2022-03-09T12:00:16.993Z"
   },
   {
    "duration": 22,
    "start_time": "2022-03-09T12:00:41.521Z"
   },
   {
    "duration": 17,
    "start_time": "2022-03-09T12:00:58.419Z"
   },
   {
    "duration": 9,
    "start_time": "2022-03-09T12:02:57.811Z"
   },
   {
    "duration": 6,
    "start_time": "2022-03-09T12:04:33.387Z"
   },
   {
    "duration": 299,
    "start_time": "2022-03-09T12:06:58.260Z"
   },
   {
    "duration": 300,
    "start_time": "2022-03-09T12:08:30.134Z"
   },
   {
    "duration": 5,
    "start_time": "2022-03-09T12:11:38.695Z"
   },
   {
    "duration": 7,
    "start_time": "2022-03-09T12:15:11.273Z"
   },
   {
    "duration": 975,
    "start_time": "2022-03-09T12:15:11.283Z"
   },
   {
    "duration": 4,
    "start_time": "2022-03-09T12:15:12.262Z"
   },
   {
    "duration": 626,
    "start_time": "2022-03-09T12:15:12.282Z"
   },
   {
    "duration": 371,
    "start_time": "2022-03-09T12:15:12.911Z"
   },
   {
    "duration": 796,
    "start_time": "2022-03-09T12:15:13.286Z"
   },
   {
    "duration": 18,
    "start_time": "2022-03-09T12:15:14.085Z"
   },
   {
    "duration": 21,
    "start_time": "2022-03-09T12:15:14.106Z"
   },
   {
    "duration": 6,
    "start_time": "2022-03-09T12:15:14.131Z"
   },
   {
    "duration": 61,
    "start_time": "2022-03-09T12:15:14.141Z"
   },
   {
    "duration": 253,
    "start_time": "2022-03-09T14:23:52.630Z"
   },
   {
    "duration": 18,
    "start_time": "2022-03-09T14:24:16.447Z"
   },
   {
    "duration": 171,
    "start_time": "2022-03-09T14:24:26.111Z"
   },
   {
    "duration": 37,
    "start_time": "2022-03-09T14:24:32.487Z"
   },
   {
    "duration": 182,
    "start_time": "2022-03-09T14:24:37.271Z"
   },
   {
    "duration": 271,
    "start_time": "2022-03-09T14:32:37.415Z"
   },
   {
    "duration": 16,
    "start_time": "2022-03-09T14:32:48.888Z"
   },
   {
    "duration": 89,
    "start_time": "2022-03-09T14:33:29.513Z"
   },
   {
    "duration": 15,
    "start_time": "2022-03-09T14:33:40.857Z"
   },
   {
    "duration": 19,
    "start_time": "2022-03-09T14:34:15.449Z"
   },
   {
    "duration": 142,
    "start_time": "2022-03-09T14:36:46.115Z"
   },
   {
    "duration": 118,
    "start_time": "2022-03-09T14:37:00.394Z"
   },
   {
    "duration": 14,
    "start_time": "2022-03-09T14:37:10.186Z"
   },
   {
    "duration": 358,
    "start_time": "2022-03-09T14:44:07.114Z"
   },
   {
    "duration": 267,
    "start_time": "2022-03-09T14:44:34.060Z"
   },
   {
    "duration": 5,
    "start_time": "2022-03-09T14:44:39.294Z"
   },
   {
    "duration": 794,
    "start_time": "2022-03-09T14:44:39.302Z"
   },
   {
    "duration": 4,
    "start_time": "2022-03-09T14:44:40.099Z"
   },
   {
    "duration": 598,
    "start_time": "2022-03-09T14:44:40.106Z"
   },
   {
    "duration": 301,
    "start_time": "2022-03-09T14:44:40.708Z"
   },
   {
    "duration": 681,
    "start_time": "2022-03-09T14:44:41.012Z"
   },
   {
    "duration": 14,
    "start_time": "2022-03-09T14:44:41.695Z"
   },
   {
    "duration": 22,
    "start_time": "2022-03-09T14:44:41.711Z"
   },
   {
    "duration": 5,
    "start_time": "2022-03-09T14:44:41.736Z"
   },
   {
    "duration": 14,
    "start_time": "2022-03-09T14:44:41.743Z"
   },
   {
    "duration": 19,
    "start_time": "2022-03-09T14:44:41.759Z"
   },
   {
    "duration": 25,
    "start_time": "2022-03-09T14:44:41.781Z"
   },
   {
    "duration": 401,
    "start_time": "2022-03-09T14:44:41.809Z"
   },
   {
    "duration": 273,
    "start_time": "2022-03-09T14:45:33.996Z"
   },
   {
    "duration": 1329,
    "start_time": "2022-03-10T11:04:06.103Z"
   },
   {
    "duration": 721,
    "start_time": "2022-03-10T11:04:07.434Z"
   },
   {
    "duration": 6,
    "start_time": "2022-03-10T11:04:08.157Z"
   },
   {
    "duration": 391,
    "start_time": "2022-03-10T11:04:08.165Z"
   },
   {
    "duration": 187,
    "start_time": "2022-03-10T11:04:08.558Z"
   },
   {
    "duration": 440,
    "start_time": "2022-03-10T11:04:08.747Z"
   },
   {
    "duration": 22,
    "start_time": "2022-03-10T11:04:09.189Z"
   },
   {
    "duration": 14,
    "start_time": "2022-03-10T11:04:09.212Z"
   },
   {
    "duration": 3,
    "start_time": "2022-03-10T11:04:09.228Z"
   },
   {
    "duration": 9,
    "start_time": "2022-03-10T11:04:09.233Z"
   },
   {
    "duration": 28,
    "start_time": "2022-03-10T11:04:09.243Z"
   },
   {
    "duration": 16,
    "start_time": "2022-03-10T11:04:09.273Z"
   },
   {
    "duration": 6,
    "start_time": "2022-03-10T11:04:12.782Z"
   },
   {
    "duration": 76,
    "start_time": "2022-03-10T11:14:25.203Z"
   },
   {
    "duration": 579,
    "start_time": "2022-03-10T11:14:35.049Z"
   },
   {
    "duration": 345,
    "start_time": "2022-03-10T11:18:54.372Z"
   },
   {
    "duration": 239,
    "start_time": "2022-03-10T11:19:08.522Z"
   },
   {
    "duration": 239,
    "start_time": "2022-03-10T11:19:19.731Z"
   },
   {
    "duration": 261,
    "start_time": "2022-03-10T11:19:22.266Z"
   },
   {
    "duration": 3,
    "start_time": "2022-03-10T11:19:28.940Z"
   },
   {
    "duration": 662,
    "start_time": "2022-03-10T11:19:28.945Z"
   },
   {
    "duration": 4,
    "start_time": "2022-03-10T11:19:29.610Z"
   },
   {
    "duration": 384,
    "start_time": "2022-03-10T11:19:29.616Z"
   },
   {
    "duration": 192,
    "start_time": "2022-03-10T11:19:30.002Z"
   },
   {
    "duration": 355,
    "start_time": "2022-03-10T11:19:30.196Z"
   },
   {
    "duration": 11,
    "start_time": "2022-03-10T11:19:30.562Z"
   },
   {
    "duration": 27,
    "start_time": "2022-03-10T11:19:30.574Z"
   },
   {
    "duration": 3,
    "start_time": "2022-03-10T11:19:30.604Z"
   },
   {
    "duration": 15,
    "start_time": "2022-03-10T11:19:30.609Z"
   },
   {
    "duration": 16,
    "start_time": "2022-03-10T11:19:30.626Z"
   },
   {
    "duration": 15,
    "start_time": "2022-03-10T11:19:30.643Z"
   },
   {
    "duration": 5,
    "start_time": "2022-03-10T11:19:30.663Z"
   },
   {
    "duration": 77,
    "start_time": "2022-03-10T11:19:30.670Z"
   },
   {
    "duration": 5,
    "start_time": "2022-03-10T11:33:38.044Z"
   },
   {
    "duration": 676,
    "start_time": "2022-03-10T11:33:38.051Z"
   },
   {
    "duration": 4,
    "start_time": "2022-03-10T11:33:38.729Z"
   },
   {
    "duration": 381,
    "start_time": "2022-03-10T11:33:38.735Z"
   },
   {
    "duration": 181,
    "start_time": "2022-03-10T11:33:39.118Z"
   },
   {
    "duration": 344,
    "start_time": "2022-03-10T11:33:39.301Z"
   },
   {
    "duration": 17,
    "start_time": "2022-03-10T11:33:39.646Z"
   },
   {
    "duration": 15,
    "start_time": "2022-03-10T11:33:39.665Z"
   },
   {
    "duration": 10,
    "start_time": "2022-03-10T11:33:39.682Z"
   },
   {
    "duration": 31,
    "start_time": "2022-03-10T11:33:39.694Z"
   },
   {
    "duration": 24,
    "start_time": "2022-03-10T11:33:39.727Z"
   },
   {
    "duration": 18,
    "start_time": "2022-03-10T11:33:39.753Z"
   },
   {
    "duration": 24,
    "start_time": "2022-03-10T11:33:39.773Z"
   },
   {
    "duration": 58,
    "start_time": "2022-03-10T11:33:39.798Z"
   },
   {
    "duration": 3,
    "start_time": "2022-03-10T11:34:11.886Z"
   },
   {
    "duration": 647,
    "start_time": "2022-03-10T11:34:11.891Z"
   },
   {
    "duration": 4,
    "start_time": "2022-03-10T11:34:12.540Z"
   },
   {
    "duration": 370,
    "start_time": "2022-03-10T11:34:12.546Z"
   },
   {
    "duration": 187,
    "start_time": "2022-03-10T11:34:12.918Z"
   },
   {
    "duration": 341,
    "start_time": "2022-03-10T11:34:13.107Z"
   },
   {
    "duration": 17,
    "start_time": "2022-03-10T11:34:13.450Z"
   },
   {
    "duration": 12,
    "start_time": "2022-03-10T11:34:13.469Z"
   },
   {
    "duration": 4,
    "start_time": "2022-03-10T11:34:13.483Z"
   },
   {
    "duration": 7,
    "start_time": "2022-03-10T11:34:13.488Z"
   },
   {
    "duration": 23,
    "start_time": "2022-03-10T11:34:16.230Z"
   },
   {
    "duration": 241,
    "start_time": "2022-03-10T11:35:12.391Z"
   },
   {
    "duration": 4,
    "start_time": "2022-03-10T11:35:24.360Z"
   },
   {
    "duration": 677,
    "start_time": "2022-03-10T11:35:24.367Z"
   },
   {
    "duration": 4,
    "start_time": "2022-03-10T11:35:25.046Z"
   },
   {
    "duration": 428,
    "start_time": "2022-03-10T11:35:25.051Z"
   },
   {
    "duration": 189,
    "start_time": "2022-03-10T11:35:25.481Z"
   },
   {
    "duration": 374,
    "start_time": "2022-03-10T11:35:25.672Z"
   },
   {
    "duration": 20,
    "start_time": "2022-03-10T11:35:26.047Z"
   },
   {
    "duration": 17,
    "start_time": "2022-03-10T11:35:26.069Z"
   },
   {
    "duration": 5,
    "start_time": "2022-03-10T11:35:26.088Z"
   },
   {
    "duration": 15,
    "start_time": "2022-03-10T11:35:26.095Z"
   },
   {
    "duration": 8,
    "start_time": "2022-03-10T11:35:29.941Z"
   },
   {
    "duration": 10,
    "start_time": "2022-03-10T11:35:37.074Z"
   },
   {
    "duration": 47,
    "start_time": "2022-03-10T11:39:33.095Z"
   },
   {
    "duration": 327,
    "start_time": "2022-03-10T11:46:37.537Z"
   },
   {
    "duration": 4,
    "start_time": "2022-03-10T11:46:51.584Z"
   },
   {
    "duration": 703,
    "start_time": "2022-03-10T11:46:51.590Z"
   },
   {
    "duration": 3,
    "start_time": "2022-03-10T11:46:52.296Z"
   },
   {
    "duration": 410,
    "start_time": "2022-03-10T11:46:52.301Z"
   },
   {
    "duration": 177,
    "start_time": "2022-03-10T11:46:52.713Z"
   },
   {
    "duration": 352,
    "start_time": "2022-03-10T11:46:52.891Z"
   },
   {
    "duration": 18,
    "start_time": "2022-03-10T11:46:53.245Z"
   },
   {
    "duration": 13,
    "start_time": "2022-03-10T11:46:53.265Z"
   },
   {
    "duration": 3,
    "start_time": "2022-03-10T11:46:53.280Z"
   },
   {
    "duration": 13,
    "start_time": "2022-03-10T11:46:53.285Z"
   },
   {
    "duration": 10,
    "start_time": "2022-03-10T11:46:55.944Z"
   },
   {
    "duration": 272,
    "start_time": "2022-03-10T14:33:26.721Z"
   },
   {
    "duration": 392,
    "start_time": "2022-03-10T14:38:01.426Z"
   },
   {
    "duration": 3,
    "start_time": "2022-03-10T14:45:01.750Z"
   },
   {
    "duration": 3,
    "start_time": "2022-03-10T14:45:32.079Z"
   },
   {
    "duration": 4,
    "start_time": "2022-03-10T14:46:18.343Z"
   },
   {
    "duration": 245,
    "start_time": "2022-03-10T14:46:42.038Z"
   },
   {
    "duration": 4,
    "start_time": "2022-03-10T14:46:50.590Z"
   },
   {
    "duration": 4,
    "start_time": "2022-03-10T14:48:12.703Z"
   },
   {
    "duration": 1586,
    "start_time": "2022-03-11T09:02:06.479Z"
   },
   {
    "duration": 893,
    "start_time": "2022-03-11T09:02:08.068Z"
   },
   {
    "duration": 5,
    "start_time": "2022-03-11T09:02:08.964Z"
   },
   {
    "duration": 642,
    "start_time": "2022-03-11T09:02:08.983Z"
   },
   {
    "duration": 323,
    "start_time": "2022-03-11T09:02:09.628Z"
   },
   {
    "duration": 656,
    "start_time": "2022-03-11T09:02:09.953Z"
   },
   {
    "duration": 33,
    "start_time": "2022-03-11T09:02:10.612Z"
   },
   {
    "duration": 18,
    "start_time": "2022-03-11T09:02:10.647Z"
   },
   {
    "duration": 16,
    "start_time": "2022-03-11T09:02:10.668Z"
   },
   {
    "duration": 13,
    "start_time": "2022-03-11T09:02:10.688Z"
   },
   {
    "duration": 29,
    "start_time": "2022-03-11T09:02:10.707Z"
   },
   {
    "duration": 16,
    "start_time": "2022-03-11T09:02:10.740Z"
   },
   {
    "duration": 95,
    "start_time": "2022-03-11T09:02:10.758Z"
   },
   {
    "duration": 6,
    "start_time": "2022-03-11T09:02:10.856Z"
   },
   {
    "duration": 4,
    "start_time": "2022-03-11T09:02:41.758Z"
   },
   {
    "duration": 6,
    "start_time": "2022-03-11T09:03:00.876Z"
   },
   {
    "duration": 5,
    "start_time": "2022-03-11T09:03:10.479Z"
   },
   {
    "duration": 4,
    "start_time": "2022-03-11T09:10:51.945Z"
   },
   {
    "duration": 4,
    "start_time": "2022-03-11T09:37:12.655Z"
   },
   {
    "duration": 881,
    "start_time": "2022-03-11T09:37:12.662Z"
   },
   {
    "duration": 4,
    "start_time": "2022-03-11T09:37:13.546Z"
   },
   {
    "duration": 620,
    "start_time": "2022-03-11T09:37:13.553Z"
   },
   {
    "duration": 313,
    "start_time": "2022-03-11T09:37:14.175Z"
   },
   {
    "duration": 621,
    "start_time": "2022-03-11T09:37:14.490Z"
   },
   {
    "duration": 13,
    "start_time": "2022-03-11T09:37:15.113Z"
   },
   {
    "duration": 24,
    "start_time": "2022-03-11T09:37:15.129Z"
   },
   {
    "duration": 5,
    "start_time": "2022-03-11T09:37:15.156Z"
   },
   {
    "duration": 21,
    "start_time": "2022-03-11T09:37:15.183Z"
   },
   {
    "duration": 11,
    "start_time": "2022-03-11T09:37:15.206Z"
   },
   {
    "duration": 17,
    "start_time": "2022-03-11T09:37:15.220Z"
   },
   {
    "duration": 52,
    "start_time": "2022-03-11T09:37:15.240Z"
   },
   {
    "duration": 62,
    "start_time": "2022-03-11T09:37:15.297Z"
   },
   {
    "duration": 6,
    "start_time": "2022-03-11T09:37:53.183Z"
   },
   {
    "duration": 959,
    "start_time": "2022-03-11T09:37:53.192Z"
   },
   {
    "duration": 5,
    "start_time": "2022-03-11T09:37:54.154Z"
   },
   {
    "duration": 676,
    "start_time": "2022-03-11T09:37:54.162Z"
   },
   {
    "duration": 345,
    "start_time": "2022-03-11T09:37:54.841Z"
   },
   {
    "duration": 825,
    "start_time": "2022-03-11T09:37:55.190Z"
   },
   {
    "duration": 13,
    "start_time": "2022-03-11T09:37:56.018Z"
   },
   {
    "duration": 55,
    "start_time": "2022-03-11T09:37:56.035Z"
   },
   {
    "duration": 6,
    "start_time": "2022-03-11T09:37:56.093Z"
   },
   {
    "duration": 15,
    "start_time": "2022-03-11T09:37:56.101Z"
   },
   {
    "duration": 7,
    "start_time": "2022-03-11T09:37:56.119Z"
   },
   {
    "duration": 20,
    "start_time": "2022-03-11T09:37:56.130Z"
   },
   {
    "duration": 19,
    "start_time": "2022-03-11T09:37:56.184Z"
   },
   {
    "duration": 82,
    "start_time": "2022-03-11T09:37:56.206Z"
   },
   {
    "duration": 333,
    "start_time": "2022-03-11T11:20:07.464Z"
   },
   {
    "duration": 382,
    "start_time": "2022-03-11T11:21:30.985Z"
   },
   {
    "duration": 473,
    "start_time": "2022-03-11T11:21:39.119Z"
   },
   {
    "duration": 318,
    "start_time": "2022-03-11T11:21:53.044Z"
   },
   {
    "duration": 338,
    "start_time": "2022-03-11T11:22:47.850Z"
   },
   {
    "duration": 804,
    "start_time": "2022-03-11T11:26:58.993Z"
   },
   {
    "duration": 342,
    "start_time": "2022-03-11T11:27:08.703Z"
   },
   {
    "duration": 517,
    "start_time": "2022-03-11T11:28:53.341Z"
   },
   {
    "duration": 338,
    "start_time": "2022-03-11T11:28:56.974Z"
   },
   {
    "duration": 356,
    "start_time": "2022-03-11T11:29:38.281Z"
   },
   {
    "duration": 490,
    "start_time": "2022-03-11T11:29:56.563Z"
   },
   {
    "duration": 371,
    "start_time": "2022-03-11T11:30:02.076Z"
   },
   {
    "duration": 411,
    "start_time": "2022-03-11T11:30:11.832Z"
   },
   {
    "duration": 339,
    "start_time": "2022-03-11T11:30:28.173Z"
   },
   {
    "duration": 328,
    "start_time": "2022-03-11T11:30:44.196Z"
   },
   {
    "duration": 347,
    "start_time": "2022-03-11T11:30:52.561Z"
   },
   {
    "duration": 359,
    "start_time": "2022-03-11T11:31:03.004Z"
   },
   {
    "duration": 336,
    "start_time": "2022-03-11T11:31:14.101Z"
   },
   {
    "duration": 1233,
    "start_time": "2022-03-11T11:35:39.473Z"
   },
   {
    "duration": 1132,
    "start_time": "2022-03-11T16:48:03.503Z"
   },
   {
    "duration": 685,
    "start_time": "2022-03-11T16:48:04.637Z"
   },
   {
    "duration": 9,
    "start_time": "2022-03-11T16:48:05.324Z"
   },
   {
    "duration": 363,
    "start_time": "2022-03-11T16:48:05.335Z"
   },
   {
    "duration": 179,
    "start_time": "2022-03-11T16:48:05.699Z"
   },
   {
    "duration": 360,
    "start_time": "2022-03-11T16:48:05.880Z"
   },
   {
    "duration": 10,
    "start_time": "2022-03-11T16:48:06.242Z"
   },
   {
    "duration": 13,
    "start_time": "2022-03-11T16:48:06.254Z"
   },
   {
    "duration": 3,
    "start_time": "2022-03-11T16:48:06.269Z"
   },
   {
    "duration": 8,
    "start_time": "2022-03-11T16:48:06.274Z"
   },
   {
    "duration": 5,
    "start_time": "2022-03-11T16:48:06.284Z"
   },
   {
    "duration": 46,
    "start_time": "2022-03-11T16:48:06.291Z"
   },
   {
    "duration": 10,
    "start_time": "2022-03-11T16:48:06.339Z"
   },
   {
    "duration": 42,
    "start_time": "2022-03-11T16:48:06.351Z"
   },
   {
    "duration": 231,
    "start_time": "2022-03-11T16:48:06.395Z"
   },
   {
    "duration": 233,
    "start_time": "2022-03-11T16:48:06.632Z"
   },
   {
    "duration": 204,
    "start_time": "2022-03-11T16:48:06.867Z"
   },
   {
    "duration": 846,
    "start_time": "2022-03-11T16:48:07.073Z"
   },
   {
    "duration": 195,
    "start_time": "2022-03-11T16:48:29.973Z"
   },
   {
    "duration": 170,
    "start_time": "2022-03-11T16:59:41.965Z"
   },
   {
    "duration": 714,
    "start_time": "2022-03-11T17:12:06.839Z"
   },
   {
    "duration": 679,
    "start_time": "2022-03-11T17:13:06.907Z"
   },
   {
    "duration": 690,
    "start_time": "2022-03-11T17:13:29.953Z"
   },
   {
    "duration": 929,
    "start_time": "2022-03-11T17:15:07.763Z"
   },
   {
    "duration": 754,
    "start_time": "2022-03-11T17:17:24.788Z"
   },
   {
    "duration": 1042,
    "start_time": "2022-03-11T17:18:33.976Z"
   },
   {
    "duration": 211,
    "start_time": "2022-03-11T17:19:05.802Z"
   },
   {
    "duration": 196,
    "start_time": "2022-03-11T17:19:12.168Z"
   },
   {
    "duration": 770,
    "start_time": "2022-03-11T17:19:25.846Z"
   },
   {
    "duration": 1190,
    "start_time": "2022-03-13T07:16:49.456Z"
   },
   {
    "duration": 742,
    "start_time": "2022-03-13T07:16:50.648Z"
   },
   {
    "duration": 3,
    "start_time": "2022-03-13T07:16:51.392Z"
   },
   {
    "duration": 389,
    "start_time": "2022-03-13T07:16:51.397Z"
   },
   {
    "duration": 183,
    "start_time": "2022-03-13T07:16:51.788Z"
   },
   {
    "duration": 392,
    "start_time": "2022-03-13T07:16:51.973Z"
   },
   {
    "duration": 10,
    "start_time": "2022-03-13T07:16:52.367Z"
   },
   {
    "duration": 14,
    "start_time": "2022-03-13T07:16:52.379Z"
   },
   {
    "duration": 4,
    "start_time": "2022-03-13T07:16:52.395Z"
   },
   {
    "duration": 7,
    "start_time": "2022-03-13T07:16:52.401Z"
   },
   {
    "duration": 28,
    "start_time": "2022-03-13T07:16:52.410Z"
   },
   {
    "duration": 12,
    "start_time": "2022-03-13T07:16:52.441Z"
   },
   {
    "duration": 20,
    "start_time": "2022-03-13T07:16:52.455Z"
   },
   {
    "duration": 66,
    "start_time": "2022-03-13T07:16:52.477Z"
   },
   {
    "duration": 243,
    "start_time": "2022-03-13T07:16:52.546Z"
   },
   {
    "duration": 236,
    "start_time": "2022-03-13T07:16:52.790Z"
   },
   {
    "duration": 228,
    "start_time": "2022-03-13T07:16:53.028Z"
   },
   {
    "duration": 10,
    "start_time": "2022-03-13T07:16:53.258Z"
   },
   {
    "duration": 32,
    "start_time": "2022-03-13T07:23:20.171Z"
   },
   {
    "duration": 986,
    "start_time": "2022-03-13T07:26:31.375Z"
   },
   {
    "duration": 752,
    "start_time": "2022-03-13T07:32:08.285Z"
   },
   {
    "duration": 4,
    "start_time": "2022-03-13T07:34:26.670Z"
   },
   {
    "duration": 678,
    "start_time": "2022-03-13T07:34:26.677Z"
   },
   {
    "duration": 4,
    "start_time": "2022-03-13T07:34:27.357Z"
   },
   {
    "duration": 383,
    "start_time": "2022-03-13T07:34:27.363Z"
   },
   {
    "duration": 204,
    "start_time": "2022-03-13T07:34:27.748Z"
   },
   {
    "duration": 367,
    "start_time": "2022-03-13T07:34:27.955Z"
   },
   {
    "duration": 18,
    "start_time": "2022-03-13T07:34:28.324Z"
   },
   {
    "duration": 13,
    "start_time": "2022-03-13T07:34:28.343Z"
   },
   {
    "duration": 3,
    "start_time": "2022-03-13T07:34:28.358Z"
   },
   {
    "duration": 8,
    "start_time": "2022-03-13T07:34:28.363Z"
   },
   {
    "duration": 6,
    "start_time": "2022-03-13T07:34:28.372Z"
   },
   {
    "duration": 14,
    "start_time": "2022-03-13T07:34:28.380Z"
   },
   {
    "duration": 13,
    "start_time": "2022-03-13T07:34:28.396Z"
   },
   {
    "duration": 70,
    "start_time": "2022-03-13T07:34:28.410Z"
   },
   {
    "duration": 255,
    "start_time": "2022-03-13T07:34:28.482Z"
   },
   {
    "duration": 238,
    "start_time": "2022-03-13T07:34:28.739Z"
   },
   {
    "duration": 232,
    "start_time": "2022-03-13T07:34:28.979Z"
   },
   {
    "duration": 945,
    "start_time": "2022-03-13T07:34:29.212Z"
   },
   {
    "duration": 741,
    "start_time": "2022-03-13T07:36:11.183Z"
   },
   {
    "duration": 603,
    "start_time": "2022-03-13T07:36:22.029Z"
   },
   {
    "duration": 776,
    "start_time": "2022-03-13T07:36:59.016Z"
   },
   {
    "duration": 798,
    "start_time": "2022-03-13T07:37:09.597Z"
   },
   {
    "duration": 710,
    "start_time": "2022-03-13T07:37:17.008Z"
   },
   {
    "duration": 672,
    "start_time": "2022-03-13T07:37:26.624Z"
   },
   {
    "duration": 614,
    "start_time": "2022-03-13T07:37:39.597Z"
   },
   {
    "duration": 773,
    "start_time": "2022-03-13T07:37:55.529Z"
   },
   {
    "duration": 695,
    "start_time": "2022-03-13T07:38:04.864Z"
   },
   {
    "duration": 712,
    "start_time": "2022-03-13T07:45:07.628Z"
   },
   {
    "duration": 951,
    "start_time": "2022-03-13T08:03:43.318Z"
   },
   {
    "duration": 863,
    "start_time": "2022-03-13T08:08:03.535Z"
   },
   {
    "duration": 5257,
    "start_time": "2022-03-13T08:08:30.299Z"
   },
   {
    "duration": 700,
    "start_time": "2022-03-13T08:08:53.446Z"
   },
   {
    "duration": 953,
    "start_time": "2022-03-13T08:09:01.375Z"
   },
   {
    "duration": 861,
    "start_time": "2022-03-13T08:09:08.840Z"
   },
   {
    "duration": 11,
    "start_time": "2022-03-13T08:10:25.639Z"
   },
   {
    "duration": 8,
    "start_time": "2022-03-13T08:13:32.860Z"
   },
   {
    "duration": 7,
    "start_time": "2022-03-13T08:14:48.495Z"
   },
   {
    "duration": 10,
    "start_time": "2022-03-13T08:22:42.841Z"
   },
   {
    "duration": 4,
    "start_time": "2022-03-13T08:22:50.416Z"
   },
   {
    "duration": 698,
    "start_time": "2022-03-13T08:22:50.422Z"
   },
   {
    "duration": 3,
    "start_time": "2022-03-13T08:22:51.122Z"
   },
   {
    "duration": 404,
    "start_time": "2022-03-13T08:22:51.127Z"
   },
   {
    "duration": 213,
    "start_time": "2022-03-13T08:22:51.532Z"
   },
   {
    "duration": 402,
    "start_time": "2022-03-13T08:22:51.747Z"
   },
   {
    "duration": 12,
    "start_time": "2022-03-13T08:22:52.151Z"
   },
   {
    "duration": 18,
    "start_time": "2022-03-13T08:22:52.165Z"
   },
   {
    "duration": 3,
    "start_time": "2022-03-13T08:22:52.186Z"
   },
   {
    "duration": 16,
    "start_time": "2022-03-13T08:22:52.191Z"
   },
   {
    "duration": 12,
    "start_time": "2022-03-13T08:22:52.208Z"
   },
   {
    "duration": 22,
    "start_time": "2022-03-13T08:22:52.222Z"
   },
   {
    "duration": 21,
    "start_time": "2022-03-13T08:22:52.246Z"
   },
   {
    "duration": 64,
    "start_time": "2022-03-13T08:22:52.269Z"
   },
   {
    "duration": 9,
    "start_time": "2022-03-13T08:22:58.492Z"
   },
   {
    "duration": 10,
    "start_time": "2022-03-13T08:27:04.938Z"
   },
   {
    "duration": 8,
    "start_time": "2022-03-13T08:27:23.249Z"
   },
   {
    "duration": 8,
    "start_time": "2022-03-13T08:29:00.141Z"
   },
   {
    "duration": 9,
    "start_time": "2022-03-13T08:29:01.525Z"
   },
   {
    "duration": 6,
    "start_time": "2022-03-13T08:29:25.098Z"
   },
   {
    "duration": 7,
    "start_time": "2022-03-13T08:30:06.380Z"
   },
   {
    "duration": 8,
    "start_time": "2022-03-13T08:30:07.448Z"
   },
   {
    "duration": 7,
    "start_time": "2022-03-13T08:31:08.168Z"
   },
   {
    "duration": 7,
    "start_time": "2022-03-13T08:31:09.312Z"
   },
   {
    "duration": 820,
    "start_time": "2022-03-13T08:33:45.552Z"
   },
   {
    "duration": 876,
    "start_time": "2022-03-13T08:34:33.551Z"
   },
   {
    "duration": 684,
    "start_time": "2022-03-13T08:36:04.194Z"
   },
   {
    "duration": 725,
    "start_time": "2022-03-13T08:36:13.706Z"
   },
   {
    "duration": 796,
    "start_time": "2022-03-13T08:36:25.085Z"
   },
   {
    "duration": 672,
    "start_time": "2022-03-13T08:36:28.667Z"
   },
   {
    "duration": 706,
    "start_time": "2022-03-13T08:36:32.167Z"
   },
   {
    "duration": 695,
    "start_time": "2022-03-13T08:41:06.100Z"
   },
   {
    "duration": 841,
    "start_time": "2022-03-13T08:41:16.929Z"
   },
   {
    "duration": 677,
    "start_time": "2022-03-13T08:41:38.831Z"
   },
   {
    "duration": 665,
    "start_time": "2022-03-13T08:41:42.763Z"
   },
   {
    "duration": 810,
    "start_time": "2022-03-13T08:41:45.413Z"
   },
   {
    "duration": 259,
    "start_time": "2022-03-13T08:56:53.687Z"
   },
   {
    "duration": 250,
    "start_time": "2022-03-13T08:56:58.693Z"
   },
   {
    "duration": 273,
    "start_time": "2022-03-13T08:57:00.376Z"
   },
   {
    "duration": 3,
    "start_time": "2022-03-13T09:03:30.487Z"
   },
   {
    "duration": 4575,
    "start_time": "2022-03-13T09:08:28.764Z"
   },
   {
    "duration": 539,
    "start_time": "2022-03-13T09:50:29.204Z"
   },
   {
    "duration": 708,
    "start_time": "2022-03-13T10:00:45.194Z"
   },
   {
    "duration": 544,
    "start_time": "2022-03-13T10:01:14.720Z"
   },
   {
    "duration": 5,
    "start_time": "2022-03-13T10:09:17.160Z"
   },
   {
    "duration": 689,
    "start_time": "2022-03-13T10:09:17.167Z"
   },
   {
    "duration": 4,
    "start_time": "2022-03-13T10:09:17.860Z"
   },
   {
    "duration": 416,
    "start_time": "2022-03-13T10:09:17.866Z"
   },
   {
    "duration": 211,
    "start_time": "2022-03-13T10:09:18.285Z"
   },
   {
    "duration": 551,
    "start_time": "2022-03-13T10:09:18.498Z"
   },
   {
    "duration": 16,
    "start_time": "2022-03-13T10:09:19.053Z"
   },
   {
    "duration": 34,
    "start_time": "2022-03-13T10:09:19.070Z"
   },
   {
    "duration": 23,
    "start_time": "2022-03-13T10:09:19.106Z"
   },
   {
    "duration": 22,
    "start_time": "2022-03-13T10:09:19.131Z"
   },
   {
    "duration": 37,
    "start_time": "2022-03-13T10:09:19.156Z"
   },
   {
    "duration": 35,
    "start_time": "2022-03-13T10:09:19.195Z"
   },
   {
    "duration": 33,
    "start_time": "2022-03-13T10:09:19.232Z"
   },
   {
    "duration": 78,
    "start_time": "2022-03-13T10:09:19.267Z"
   },
   {
    "duration": 9,
    "start_time": "2022-03-13T10:09:19.347Z"
   },
   {
    "duration": 21,
    "start_time": "2022-03-13T10:09:19.358Z"
   },
   {
    "duration": 765,
    "start_time": "2022-03-13T10:09:19.381Z"
   },
   {
    "duration": 764,
    "start_time": "2022-03-13T10:09:20.148Z"
   },
   {
    "duration": 746,
    "start_time": "2022-03-13T10:09:20.913Z"
   },
   {
    "duration": 517,
    "start_time": "2022-03-13T10:09:21.660Z"
   },
   {
    "duration": 9,
    "start_time": "2022-03-13T10:20:49.658Z"
   },
   {
    "duration": 819,
    "start_time": "2022-03-13T10:23:06.665Z"
   },
   {
    "duration": 1532,
    "start_time": "2022-03-13T11:05:35.109Z"
   },
   {
    "duration": 685,
    "start_time": "2022-03-13T11:10:21.761Z"
   },
   {
    "duration": 68,
    "start_time": "2022-03-13T11:14:07.353Z"
   },
   {
    "duration": 782,
    "start_time": "2022-03-13T11:14:15.721Z"
   },
   {
    "duration": 669,
    "start_time": "2022-03-13T11:27:08.747Z"
   },
   {
    "duration": 661,
    "start_time": "2022-03-13T11:28:28.629Z"
   },
   {
    "duration": 4,
    "start_time": "2022-03-13T15:00:18.539Z"
   },
   {
    "duration": 9,
    "start_time": "2022-03-13T15:00:19.930Z"
   },
   {
    "duration": 9,
    "start_time": "2022-03-13T15:22:19.218Z"
   },
   {
    "duration": 67,
    "start_time": "2022-03-13T15:23:25.139Z"
   },
   {
    "duration": 182,
    "start_time": "2022-03-13T15:23:51.362Z"
   },
   {
    "duration": 12,
    "start_time": "2022-03-13T15:24:09.569Z"
   },
   {
    "duration": 14,
    "start_time": "2022-03-13T15:24:30.708Z"
   },
   {
    "duration": 4,
    "start_time": "2022-03-13T19:42:07.451Z"
   },
   {
    "duration": 618,
    "start_time": "2022-03-13T19:42:07.456Z"
   },
   {
    "duration": 3,
    "start_time": "2022-03-13T19:42:08.076Z"
   },
   {
    "duration": 379,
    "start_time": "2022-03-13T19:42:08.081Z"
   },
   {
    "duration": 191,
    "start_time": "2022-03-13T19:42:08.461Z"
   },
   {
    "duration": 366,
    "start_time": "2022-03-13T19:42:08.653Z"
   },
   {
    "duration": 17,
    "start_time": "2022-03-13T19:42:09.021Z"
   },
   {
    "duration": 13,
    "start_time": "2022-03-13T19:42:09.041Z"
   },
   {
    "duration": 3,
    "start_time": "2022-03-13T19:42:09.056Z"
   },
   {
    "duration": 8,
    "start_time": "2022-03-13T19:42:09.061Z"
   },
   {
    "duration": 10,
    "start_time": "2022-03-13T19:42:09.070Z"
   },
   {
    "duration": 11,
    "start_time": "2022-03-13T19:42:09.082Z"
   },
   {
    "duration": 13,
    "start_time": "2022-03-13T19:42:09.094Z"
   },
   {
    "duration": 69,
    "start_time": "2022-03-13T19:42:09.108Z"
   },
   {
    "duration": 7,
    "start_time": "2022-03-13T19:42:09.178Z"
   },
   {
    "duration": 10,
    "start_time": "2022-03-13T19:42:09.186Z"
   },
   {
    "duration": 881,
    "start_time": "2022-03-13T19:42:09.198Z"
   },
   {
    "duration": 734,
    "start_time": "2022-03-13T19:42:10.081Z"
   },
   {
    "duration": 733,
    "start_time": "2022-03-13T19:42:10.817Z"
   },
   {
    "duration": 504,
    "start_time": "2022-03-13T19:42:11.555Z"
   },
   {
    "duration": 754,
    "start_time": "2022-03-13T19:42:12.061Z"
   },
   {
    "duration": 4,
    "start_time": "2022-03-13T19:42:12.817Z"
   },
   {
    "duration": 20,
    "start_time": "2022-03-13T19:42:12.824Z"
   },
   {
    "duration": 9,
    "start_time": "2022-03-13T19:42:15.455Z"
   },
   {
    "duration": 288,
    "start_time": "2022-03-13T19:42:16.421Z"
   },
   {
    "duration": 280,
    "start_time": "2022-03-13T19:43:03.850Z"
   },
   {
    "duration": 289,
    "start_time": "2022-03-13T19:43:23.882Z"
   },
   {
    "duration": 297,
    "start_time": "2022-03-13T19:46:02.306Z"
   },
   {
    "duration": 296,
    "start_time": "2022-03-13T19:47:21.105Z"
   },
   {
    "duration": 10,
    "start_time": "2022-03-13T19:50:37.621Z"
   },
   {
    "duration": 859,
    "start_time": "2022-03-13T19:52:02.260Z"
   },
   {
    "duration": 4,
    "start_time": "2022-03-13T19:52:31.643Z"
   },
   {
    "duration": 635,
    "start_time": "2022-03-13T19:52:31.650Z"
   },
   {
    "duration": 4,
    "start_time": "2022-03-13T19:52:32.288Z"
   },
   {
    "duration": 436,
    "start_time": "2022-03-13T19:52:32.294Z"
   },
   {
    "duration": 200,
    "start_time": "2022-03-13T19:52:32.732Z"
   },
   {
    "duration": 404,
    "start_time": "2022-03-13T19:52:32.937Z"
   },
   {
    "duration": 10,
    "start_time": "2022-03-13T19:52:33.343Z"
   },
   {
    "duration": 14,
    "start_time": "2022-03-13T19:52:33.355Z"
   },
   {
    "duration": 3,
    "start_time": "2022-03-13T19:52:33.371Z"
   },
   {
    "duration": 7,
    "start_time": "2022-03-13T19:52:33.376Z"
   },
   {
    "duration": 6,
    "start_time": "2022-03-13T19:52:33.385Z"
   },
   {
    "duration": 11,
    "start_time": "2022-03-13T19:52:33.392Z"
   },
   {
    "duration": 11,
    "start_time": "2022-03-13T19:52:33.438Z"
   },
   {
    "duration": 47,
    "start_time": "2022-03-13T19:52:33.451Z"
   },
   {
    "duration": 7,
    "start_time": "2022-03-13T19:52:33.500Z"
   },
   {
    "duration": 37,
    "start_time": "2022-03-13T19:52:33.509Z"
   },
   {
    "duration": 759,
    "start_time": "2022-03-13T19:52:33.548Z"
   },
   {
    "duration": 766,
    "start_time": "2022-03-13T19:52:34.309Z"
   },
   {
    "duration": 756,
    "start_time": "2022-03-13T19:52:35.077Z"
   },
   {
    "duration": 606,
    "start_time": "2022-03-13T19:52:35.835Z"
   },
   {
    "duration": 653,
    "start_time": "2022-03-13T19:52:36.443Z"
   },
   {
    "duration": 5,
    "start_time": "2022-03-13T19:52:40.674Z"
   },
   {
    "duration": 9,
    "start_time": "2022-03-13T19:52:41.993Z"
   },
   {
    "duration": 12,
    "start_time": "2022-03-13T19:52:42.798Z"
   },
   {
    "duration": 1335,
    "start_time": "2022-03-14T06:32:45.577Z"
   },
   {
    "duration": 742,
    "start_time": "2022-03-14T06:32:46.914Z"
   },
   {
    "duration": 4,
    "start_time": "2022-03-14T06:32:47.658Z"
   },
   {
    "duration": 448,
    "start_time": "2022-03-14T06:32:47.664Z"
   },
   {
    "duration": 202,
    "start_time": "2022-03-14T06:32:48.114Z"
   },
   {
    "duration": 402,
    "start_time": "2022-03-14T06:32:48.318Z"
   },
   {
    "duration": 21,
    "start_time": "2022-03-14T06:32:48.721Z"
   },
   {
    "duration": 15,
    "start_time": "2022-03-14T06:32:48.743Z"
   },
   {
    "duration": 4,
    "start_time": "2022-03-14T06:32:48.760Z"
   },
   {
    "duration": 11,
    "start_time": "2022-03-14T06:32:48.766Z"
   },
   {
    "duration": 27,
    "start_time": "2022-03-14T06:32:48.780Z"
   },
   {
    "duration": 15,
    "start_time": "2022-03-14T06:32:48.809Z"
   },
   {
    "duration": 18,
    "start_time": "2022-03-14T06:32:48.826Z"
   },
   {
    "duration": 75,
    "start_time": "2022-03-14T06:32:48.846Z"
   },
   {
    "duration": 8,
    "start_time": "2022-03-14T06:32:48.922Z"
   },
   {
    "duration": 19,
    "start_time": "2022-03-14T06:32:48.932Z"
   },
   {
    "duration": 736,
    "start_time": "2022-03-14T06:32:48.953Z"
   },
   {
    "duration": 776,
    "start_time": "2022-03-14T06:32:49.691Z"
   },
   {
    "duration": 720,
    "start_time": "2022-03-14T06:32:50.469Z"
   },
   {
    "duration": 500,
    "start_time": "2022-03-14T06:32:51.192Z"
   },
   {
    "duration": 660,
    "start_time": "2022-03-14T06:32:51.694Z"
   },
   {
    "duration": 4,
    "start_time": "2022-03-14T06:32:52.356Z"
   },
   {
    "duration": 23,
    "start_time": "2022-03-14T06:32:52.361Z"
   },
   {
    "duration": 16,
    "start_time": "2022-03-14T06:32:52.386Z"
   },
   {
    "duration": 3601428,
    "start_time": "2022-03-14T06:32:52.404Z"
   },
   {
    "duration": 3,
    "start_time": "2022-03-14T10:56:30.709Z"
   },
   {
    "duration": 759,
    "start_time": "2022-03-14T10:56:30.714Z"
   },
   {
    "duration": 4,
    "start_time": "2022-03-14T10:56:31.476Z"
   },
   {
    "duration": 408,
    "start_time": "2022-03-14T10:56:31.483Z"
   },
   {
    "duration": 208,
    "start_time": "2022-03-14T10:56:31.893Z"
   },
   {
    "duration": 390,
    "start_time": "2022-03-14T10:56:32.103Z"
   },
   {
    "duration": 10,
    "start_time": "2022-03-14T10:56:32.502Z"
   },
   {
    "duration": 15,
    "start_time": "2022-03-14T10:56:32.514Z"
   },
   {
    "duration": 4,
    "start_time": "2022-03-14T10:56:32.532Z"
   },
   {
    "duration": 12,
    "start_time": "2022-03-14T10:56:32.538Z"
   },
   {
    "duration": 15,
    "start_time": "2022-03-14T10:56:32.552Z"
   },
   {
    "duration": 15,
    "start_time": "2022-03-14T10:56:32.569Z"
   },
   {
    "duration": 10,
    "start_time": "2022-03-14T10:56:32.602Z"
   },
   {
    "duration": 55,
    "start_time": "2022-03-14T10:56:32.614Z"
   },
   {
    "duration": 7,
    "start_time": "2022-03-14T10:56:32.671Z"
   },
   {
    "duration": 29,
    "start_time": "2022-03-14T10:56:32.680Z"
   },
   {
    "duration": 830,
    "start_time": "2022-03-14T10:56:32.711Z"
   },
   {
    "duration": 710,
    "start_time": "2022-03-14T10:56:33.543Z"
   },
   {
    "duration": 732,
    "start_time": "2022-03-14T10:56:34.255Z"
   },
   {
    "duration": 592,
    "start_time": "2022-03-14T10:56:34.988Z"
   },
   {
    "duration": 698,
    "start_time": "2022-03-14T10:56:35.582Z"
   },
   {
    "duration": 4,
    "start_time": "2022-03-14T10:56:36.282Z"
   },
   {
    "duration": 12,
    "start_time": "2022-03-14T10:56:44.662Z"
   },
   {
    "duration": 57767,
    "start_time": "2022-03-14T10:57:56.921Z"
   },
   {
    "duration": 55826,
    "start_time": "2022-03-14T11:02:46.340Z"
   },
   {
    "duration": 393,
    "start_time": "2022-03-14T11:08:30.797Z"
   },
   {
    "duration": 56059,
    "start_time": "2022-03-14T11:08:35.595Z"
   },
   {
    "duration": 3747084,
    "start_time": "2022-03-14T11:09:31.656Z"
   },
   {
    "duration": 54842,
    "start_time": "2022-03-14T13:05:35.659Z"
   },
   {
    "duration": 3503453,
    "start_time": "2022-03-14T13:06:30.503Z"
   },
   {
    "duration": 5,
    "start_time": "2022-03-14T14:08:23.744Z"
   },
   {
    "duration": 3,
    "start_time": "2022-03-14T14:08:57.283Z"
   },
   {
    "duration": 4,
    "start_time": "2022-03-14T14:09:00.579Z"
   },
   {
    "duration": 4,
    "start_time": "2022-03-14T14:13:09.871Z"
   },
   {
    "duration": 836,
    "start_time": "2022-03-14T14:13:09.877Z"
   },
   {
    "duration": 5,
    "start_time": "2022-03-14T14:13:10.715Z"
   },
   {
    "duration": 425,
    "start_time": "2022-03-14T14:13:10.723Z"
   },
   {
    "duration": 204,
    "start_time": "2022-03-14T14:13:11.150Z"
   },
   {
    "duration": 415,
    "start_time": "2022-03-14T14:13:11.356Z"
   },
   {
    "duration": 10,
    "start_time": "2022-03-14T14:13:11.773Z"
   },
   {
    "duration": 26,
    "start_time": "2022-03-14T14:13:11.785Z"
   },
   {
    "duration": 4,
    "start_time": "2022-03-14T14:13:11.813Z"
   },
   {
    "duration": 8,
    "start_time": "2022-03-14T14:13:11.819Z"
   },
   {
    "duration": 11,
    "start_time": "2022-03-14T14:13:11.828Z"
   },
   {
    "duration": 23,
    "start_time": "2022-03-14T14:13:11.840Z"
   },
   {
    "duration": 17,
    "start_time": "2022-03-14T14:13:11.865Z"
   },
   {
    "duration": 49,
    "start_time": "2022-03-14T14:13:11.901Z"
   },
   {
    "duration": 8,
    "start_time": "2022-03-14T14:13:11.951Z"
   },
   {
    "duration": 17,
    "start_time": "2022-03-14T14:13:11.961Z"
   },
   {
    "duration": 825,
    "start_time": "2022-03-14T14:13:11.980Z"
   },
   {
    "duration": 713,
    "start_time": "2022-03-14T14:13:12.807Z"
   },
   {
    "duration": 720,
    "start_time": "2022-03-14T14:13:13.522Z"
   },
   {
    "duration": 508,
    "start_time": "2022-03-14T14:13:14.244Z"
   },
   {
    "duration": 772,
    "start_time": "2022-03-14T14:13:14.754Z"
   },
   {
    "duration": 4,
    "start_time": "2022-03-14T14:14:16.411Z"
   },
   {
    "duration": 11,
    "start_time": "2022-03-14T14:14:20.258Z"
   },
   {
    "duration": 775,
    "start_time": "2022-03-14T14:14:26.523Z"
   },
   {
    "duration": 4,
    "start_time": "2022-03-14T14:14:55.067Z"
   },
   {
    "duration": 11,
    "start_time": "2022-03-14T14:14:56.450Z"
   },
   {
    "duration": 517,
    "start_time": "2022-03-14T14:14:57.338Z"
   },
   {
    "duration": 4,
    "start_time": "2022-03-14T14:15:19.555Z"
   },
   {
    "duration": 10,
    "start_time": "2022-03-14T14:15:21.363Z"
   },
   {
    "duration": 57626,
    "start_time": "2022-03-14T14:15:22.084Z"
   },
   {
    "duration": 1104829,
    "start_time": "2022-03-14T14:16:19.713Z"
   },
   {
    "duration": 53790,
    "start_time": "2022-03-14T14:34:44.544Z"
   },
   {
    "duration": 1185,
    "start_time": "2022-03-14T16:48:58.077Z"
   },
   {
    "duration": 645,
    "start_time": "2022-03-14T16:48:59.263Z"
   },
   {
    "duration": 3,
    "start_time": "2022-03-14T16:48:59.911Z"
   },
   {
    "duration": 518,
    "start_time": "2022-03-14T16:48:59.916Z"
   },
   {
    "duration": 208,
    "start_time": "2022-03-14T16:49:00.437Z"
   },
   {
    "duration": 365,
    "start_time": "2022-03-14T16:49:00.648Z"
   },
   {
    "duration": 12,
    "start_time": "2022-03-14T16:49:01.015Z"
   },
   {
    "duration": 18,
    "start_time": "2022-03-14T16:49:01.030Z"
   },
   {
    "duration": 4,
    "start_time": "2022-03-14T16:49:01.050Z"
   },
   {
    "duration": 16,
    "start_time": "2022-03-14T16:49:01.055Z"
   },
   {
    "duration": 16,
    "start_time": "2022-03-14T16:49:01.073Z"
   },
   {
    "duration": 28,
    "start_time": "2022-03-14T16:49:01.090Z"
   },
   {
    "duration": 13,
    "start_time": "2022-03-14T16:49:01.120Z"
   },
   {
    "duration": 74,
    "start_time": "2022-03-14T16:49:01.135Z"
   },
   {
    "duration": 9,
    "start_time": "2022-03-14T16:49:01.211Z"
   },
   {
    "duration": 22,
    "start_time": "2022-03-14T16:49:01.222Z"
   },
   {
    "duration": 977,
    "start_time": "2022-03-14T16:49:01.246Z"
   },
   {
    "duration": 1067,
    "start_time": "2022-03-14T16:49:02.225Z"
   },
   {
    "duration": 1002,
    "start_time": "2022-03-14T16:49:03.294Z"
   },
   {
    "duration": 659,
    "start_time": "2022-03-14T16:49:04.301Z"
   },
   {
    "duration": 882,
    "start_time": "2022-03-14T16:49:04.962Z"
   },
   {
    "duration": 4,
    "start_time": "2022-03-14T16:49:05.846Z"
   },
   {
    "duration": 27,
    "start_time": "2022-03-14T16:49:05.853Z"
   },
   {
    "duration": 50328,
    "start_time": "2022-03-14T16:49:05.882Z"
   },
   {
    "duration": 1000041,
    "start_time": "2022-03-14T16:49:56.211Z"
   },
   {
    "duration": 51035,
    "start_time": "2022-03-14T17:06:36.254Z"
   },
   {
    "duration": 1050043,
    "start_time": "2022-03-14T17:07:27.291Z"
   },
   {
    "duration": 3,
    "start_time": "2022-03-14T17:24:57.335Z"
   },
   {
    "duration": 107,
    "start_time": "2022-03-14T17:24:57.340Z"
   },
   {
    "duration": 393,
    "start_time": "2022-03-14T17:33:33.462Z"
   },
   {
    "duration": 330,
    "start_time": "2022-03-14T17:33:54.621Z"
   },
   {
    "duration": 307,
    "start_time": "2022-03-14T17:40:35.014Z"
   },
   {
    "duration": 563,
    "start_time": "2022-03-14T17:40:50.896Z"
   },
   {
    "duration": 290,
    "start_time": "2022-03-14T17:41:16.849Z"
   },
   {
    "duration": 347,
    "start_time": "2022-03-14T17:41:30.775Z"
   },
   {
    "duration": 288,
    "start_time": "2022-03-14T17:41:59.677Z"
   },
   {
    "duration": 6,
    "start_time": "2022-03-14T17:42:11.341Z"
   },
   {
    "duration": 6,
    "start_time": "2022-03-14T17:43:16.915Z"
   },
   {
    "duration": 48182,
    "start_time": "2022-03-14T18:06:24.315Z"
   },
   {
    "duration": 307,
    "start_time": "2022-03-14T18:14:17.891Z"
   },
   {
    "duration": 41,
    "start_time": "2022-03-14T18:39:11.427Z"
   },
   {
    "duration": 3,
    "start_time": "2022-03-14T18:43:03.117Z"
   },
   {
    "duration": 3,
    "start_time": "2022-03-14T18:46:16.048Z"
   },
   {
    "duration": 4955,
    "start_time": "2022-03-14T18:46:16.053Z"
   },
   {
    "duration": 8470,
    "start_time": "2022-03-14T18:46:21.010Z"
   },
   {
    "duration": 4254,
    "start_time": "2022-03-14T18:46:29.482Z"
   },
   {
    "duration": 3680,
    "start_time": "2022-03-14T18:46:33.738Z"
   },
   {
    "duration": 3167,
    "start_time": "2022-03-14T18:46:37.420Z"
   },
   {
    "duration": 5718,
    "start_time": "2022-03-14T18:46:40.590Z"
   },
   {
    "duration": 9980,
    "start_time": "2022-03-14T18:46:46.311Z"
   },
   {
    "duration": 8880,
    "start_time": "2022-03-14T18:46:56.293Z"
   },
   {
    "duration": 5251,
    "start_time": "2022-03-14T18:47:05.175Z"
   },
   {
    "duration": 4966,
    "start_time": "2022-03-14T18:47:10.428Z"
   },
   {
    "duration": 16303,
    "start_time": "2022-03-14T18:47:15.396Z"
   },
   {
    "duration": 3373,
    "start_time": "2022-03-14T18:47:31.700Z"
   },
   {
    "duration": 904,
    "start_time": "2022-03-14T18:47:35.075Z"
   },
   {
    "duration": 3271,
    "start_time": "2022-03-14T18:47:35.981Z"
   },
   {
    "duration": 2856,
    "start_time": "2022-03-14T18:47:39.254Z"
   },
   {
    "duration": 4619,
    "start_time": "2022-03-14T18:47:42.112Z"
   },
   {
    "duration": 6239,
    "start_time": "2022-03-14T18:47:46.734Z"
   },
   {
    "duration": 3450,
    "start_time": "2022-03-14T18:47:52.976Z"
   },
   {
    "duration": 3116,
    "start_time": "2022-03-14T18:47:56.428Z"
   },
   {
    "duration": 4591,
    "start_time": "2022-03-14T18:47:59.546Z"
   },
   {
    "duration": 6,
    "start_time": "2022-03-14T18:48:57.195Z"
   },
   {
    "duration": 13,
    "start_time": "2022-03-14T18:49:00.449Z"
   },
   {
    "duration": 1027,
    "start_time": "2022-03-14T18:49:02.222Z"
   },
   {
    "duration": 107,
    "start_time": "2022-03-14T18:49:33.455Z"
   },
   {
    "duration": 51066,
    "start_time": "2022-03-14T18:50:02.507Z"
   },
   {
    "duration": 50932,
    "start_time": "2022-03-14T18:54:22.692Z"
   },
   {
    "duration": 287,
    "start_time": "2022-03-14T18:58:43.754Z"
   },
   {
    "duration": 100,
    "start_time": "2022-03-14T19:01:39.586Z"
   },
   {
    "duration": 7746,
    "start_time": "2022-03-14T19:01:56.216Z"
   },
   {
    "duration": 4,
    "start_time": "2022-03-14T19:02:53.811Z"
   },
   {
    "duration": 54041,
    "start_time": "2022-03-14T19:04:03.434Z"
   },
   {
    "duration": 287,
    "start_time": "2022-03-14T19:05:09.690Z"
   },
   {
    "duration": 4,
    "start_time": "2022-03-14T19:05:32.857Z"
   },
   {
    "duration": 8,
    "start_time": "2022-03-14T19:05:35.035Z"
   },
   {
    "duration": 312,
    "start_time": "2022-03-14T19:05:41.390Z"
   },
   {
    "duration": 4264,
    "start_time": "2022-03-14T19:06:42.992Z"
   },
   {
    "duration": 50076,
    "start_time": "2022-03-14T19:08:15.165Z"
   },
   {
    "duration": 4324,
    "start_time": "2022-03-14T19:09:05.243Z"
   },
   {
    "duration": 339,
    "start_time": "2022-03-14T19:29:02.917Z"
   },
   {
    "duration": 514,
    "start_time": "2022-03-14T19:29:30.960Z"
   },
   {
    "duration": 1668,
    "start_time": "2022-03-15T05:43:10.106Z"
   },
   {
    "duration": 883,
    "start_time": "2022-03-15T05:43:11.777Z"
   },
   {
    "duration": 4,
    "start_time": "2022-03-15T05:43:12.663Z"
   },
   {
    "duration": 630,
    "start_time": "2022-03-15T05:43:12.673Z"
   },
   {
    "duration": 304,
    "start_time": "2022-03-15T05:43:13.305Z"
   },
   {
    "duration": 625,
    "start_time": "2022-03-15T05:43:13.612Z"
   },
   {
    "duration": 20,
    "start_time": "2022-03-15T05:43:14.239Z"
   },
   {
    "duration": 28,
    "start_time": "2022-03-15T05:43:14.263Z"
   },
   {
    "duration": 5,
    "start_time": "2022-03-15T05:43:14.294Z"
   },
   {
    "duration": 9,
    "start_time": "2022-03-15T05:43:14.301Z"
   },
   {
    "duration": 7,
    "start_time": "2022-03-15T05:43:14.313Z"
   },
   {
    "duration": 53,
    "start_time": "2022-03-15T05:43:14.322Z"
   },
   {
    "duration": 17,
    "start_time": "2022-03-15T05:43:14.377Z"
   },
   {
    "duration": 85,
    "start_time": "2022-03-15T05:43:14.397Z"
   },
   {
    "duration": 10,
    "start_time": "2022-03-15T05:43:14.484Z"
   },
   {
    "duration": 15,
    "start_time": "2022-03-15T05:43:14.496Z"
   },
   {
    "duration": 1174,
    "start_time": "2022-03-15T05:43:14.514Z"
   },
   {
    "duration": 1227,
    "start_time": "2022-03-15T05:43:15.690Z"
   },
   {
    "duration": 1212,
    "start_time": "2022-03-15T05:43:16.919Z"
   },
   {
    "duration": 808,
    "start_time": "2022-03-15T05:43:18.134Z"
   },
   {
    "duration": 1058,
    "start_time": "2022-03-15T05:43:18.945Z"
   },
   {
    "duration": 6,
    "start_time": "2022-03-15T05:43:20.005Z"
   },
   {
    "duration": 19,
    "start_time": "2022-03-15T05:43:20.015Z"
   },
   {
    "duration": 65446,
    "start_time": "2022-03-15T05:43:20.037Z"
   },
   {
    "duration": 1284406,
    "start_time": "2022-03-15T05:44:25.485Z"
   },
   {
    "duration": 63566,
    "start_time": "2022-03-15T06:05:49.894Z"
   },
   {
    "duration": 190,
    "start_time": "2022-03-15T13:40:15.821Z"
   },
   {
    "duration": 1175,
    "start_time": "2022-03-15T13:40:28.104Z"
   },
   {
    "duration": 749,
    "start_time": "2022-03-15T13:40:29.282Z"
   },
   {
    "duration": 3,
    "start_time": "2022-03-15T13:40:30.033Z"
   },
   {
    "duration": 426,
    "start_time": "2022-03-15T13:40:30.039Z"
   },
   {
    "duration": 209,
    "start_time": "2022-03-15T13:40:30.467Z"
   },
   {
    "duration": 412,
    "start_time": "2022-03-15T13:40:30.678Z"
   },
   {
    "duration": 10,
    "start_time": "2022-03-15T13:40:31.092Z"
   },
   {
    "duration": 31,
    "start_time": "2022-03-15T13:40:31.105Z"
   },
   {
    "duration": 4,
    "start_time": "2022-03-15T13:40:31.139Z"
   },
   {
    "duration": 23,
    "start_time": "2022-03-15T13:40:31.145Z"
   },
   {
    "duration": 8,
    "start_time": "2022-03-15T13:40:31.170Z"
   },
   {
    "duration": 12,
    "start_time": "2022-03-15T13:40:31.180Z"
   },
   {
    "duration": 21,
    "start_time": "2022-03-15T13:40:31.194Z"
   },
   {
    "duration": 52,
    "start_time": "2022-03-15T13:40:31.217Z"
   },
   {
    "duration": 9,
    "start_time": "2022-03-15T13:40:31.271Z"
   },
   {
    "duration": 13,
    "start_time": "2022-03-15T13:40:31.282Z"
   },
   {
    "duration": 789,
    "start_time": "2022-03-15T13:40:31.298Z"
   },
   {
    "duration": 849,
    "start_time": "2022-03-15T13:40:32.090Z"
   },
   {
    "duration": 786,
    "start_time": "2022-03-15T13:40:32.940Z"
   },
   {
    "duration": 531,
    "start_time": "2022-03-15T13:40:33.728Z"
   },
   {
    "duration": 699,
    "start_time": "2022-03-15T13:40:34.261Z"
   },
   {
    "duration": 3,
    "start_time": "2022-03-15T13:40:34.962Z"
   },
   {
    "duration": 27,
    "start_time": "2022-03-15T13:40:34.969Z"
   },
   {
    "duration": 54393,
    "start_time": "2022-03-15T13:40:34.997Z"
   },
   {
    "duration": 1068285,
    "start_time": "2022-03-15T13:41:29.391Z"
   },
   {
    "duration": 52390,
    "start_time": "2022-03-15T13:59:17.679Z"
   },
   {
    "duration": 1050922,
    "start_time": "2022-03-15T14:00:10.071Z"
   },
   {
    "duration": 3,
    "start_time": "2022-03-15T14:17:40.994Z"
   },
   {
    "duration": 11,
    "start_time": "2022-03-15T14:17:40.999Z"
   },
   {
    "duration": 8,
    "start_time": "2022-03-15T14:17:41.011Z"
   },
   {
    "duration": 424,
    "start_time": "2022-03-15T14:17:41.020Z"
   },
   {
    "duration": 10,
    "start_time": "2022-03-15T14:22:02.430Z"
   },
   {
    "duration": 352,
    "start_time": "2022-03-15T14:22:07.266Z"
   },
   {
    "duration": 335,
    "start_time": "2022-03-15T14:22:37.593Z"
   },
   {
    "duration": 3,
    "start_time": "2022-03-15T14:29:22.016Z"
   },
   {
    "duration": 241,
    "start_time": "2022-03-15T14:33:17.463Z"
   },
   {
    "duration": 8,
    "start_time": "2022-03-15T14:39:33.874Z"
   },
   {
    "duration": 6,
    "start_time": "2022-03-15T14:39:35.257Z"
   },
   {
    "duration": 241,
    "start_time": "2022-03-15T14:42:37.774Z"
   },
   {
    "duration": 293,
    "start_time": "2022-03-15T15:06:41.560Z"
   },
   {
    "duration": 349,
    "start_time": "2022-03-15T15:07:32.227Z"
   },
   {
    "duration": 9,
    "start_time": "2022-03-15T15:54:22.224Z"
   },
   {
    "duration": 53484,
    "start_time": "2022-03-15T15:54:27.050Z"
   },
   {
    "duration": 51236,
    "start_time": "2022-03-15T15:55:20.536Z"
   },
   {
    "duration": 6,
    "start_time": "2022-03-15T15:56:11.774Z"
   },
   {
    "duration": 5,
    "start_time": "2022-03-15T15:56:11.782Z"
   },
   {
    "duration": 256,
    "start_time": "2022-03-15T15:56:11.789Z"
   },
   {
    "duration": 315,
    "start_time": "2022-03-15T15:56:12.046Z"
   },
   {
    "duration": 1146,
    "start_time": "2022-03-15T16:07:05.102Z"
   },
   {
    "duration": 857,
    "start_time": "2022-03-15T16:07:24.738Z"
   },
   {
    "duration": 248,
    "start_time": "2022-03-15T16:07:33.092Z"
   },
   {
    "duration": 2932,
    "start_time": "2022-03-15T16:09:44.196Z"
   },
   {
    "duration": 2959,
    "start_time": "2022-03-15T16:10:52.237Z"
   },
   {
    "duration": 91,
    "start_time": "2022-03-15T16:12:21.809Z"
   },
   {
    "duration": 4,
    "start_time": "2022-03-15T16:13:50.689Z"
   },
   {
    "duration": 6,
    "start_time": "2022-03-15T16:16:43.910Z"
   },
   {
    "duration": 6,
    "start_time": "2022-03-15T16:17:22.783Z"
   },
   {
    "duration": 6,
    "start_time": "2022-03-15T16:17:24.013Z"
   },
   {
    "duration": 4,
    "start_time": "2022-03-15T16:17:26.597Z"
   },
   {
    "duration": 7,
    "start_time": "2022-03-15T16:18:27.105Z"
   },
   {
    "duration": 6,
    "start_time": "2022-03-15T16:19:04.159Z"
   },
   {
    "duration": 4,
    "start_time": "2022-03-15T16:19:15.589Z"
   },
   {
    "duration": 3,
    "start_time": "2022-03-15T16:19:57.042Z"
   },
   {
    "duration": 4,
    "start_time": "2022-03-15T16:36:07.304Z"
   },
   {
    "duration": 713,
    "start_time": "2022-03-15T16:36:07.310Z"
   },
   {
    "duration": 3,
    "start_time": "2022-03-15T16:36:08.025Z"
   },
   {
    "duration": 401,
    "start_time": "2022-03-15T16:36:08.030Z"
   },
   {
    "duration": 229,
    "start_time": "2022-03-15T16:36:08.433Z"
   },
   {
    "duration": 376,
    "start_time": "2022-03-15T16:36:08.663Z"
   },
   {
    "duration": 21,
    "start_time": "2022-03-15T16:36:09.041Z"
   },
   {
    "duration": 13,
    "start_time": "2022-03-15T16:36:09.064Z"
   },
   {
    "duration": 4,
    "start_time": "2022-03-15T16:36:09.079Z"
   },
   {
    "duration": 5,
    "start_time": "2022-03-15T16:36:09.085Z"
   },
   {
    "duration": 4,
    "start_time": "2022-03-15T16:36:09.092Z"
   },
   {
    "duration": 10,
    "start_time": "2022-03-15T16:36:09.098Z"
   },
   {
    "duration": 11,
    "start_time": "2022-03-15T16:36:09.109Z"
   },
   {
    "duration": 47,
    "start_time": "2022-03-15T16:36:09.158Z"
   },
   {
    "duration": 7,
    "start_time": "2022-03-15T16:36:09.207Z"
   },
   {
    "duration": 10,
    "start_time": "2022-03-15T16:36:09.216Z"
   },
   {
    "duration": 767,
    "start_time": "2022-03-15T16:36:09.228Z"
   },
   {
    "duration": 719,
    "start_time": "2022-03-15T16:36:09.997Z"
   },
   {
    "duration": 724,
    "start_time": "2022-03-15T16:36:10.717Z"
   },
   {
    "duration": -673,
    "start_time": "2022-03-15T16:36:12.116Z"
   },
   {
    "duration": -685,
    "start_time": "2022-03-15T16:36:12.130Z"
   },
   {
    "duration": -694,
    "start_time": "2022-03-15T16:36:12.139Z"
   },
   {
    "duration": -703,
    "start_time": "2022-03-15T16:36:12.149Z"
   },
   {
    "duration": 4,
    "start_time": "2022-03-15T16:36:24.631Z"
   },
   {
    "duration": 721,
    "start_time": "2022-03-15T16:36:24.637Z"
   },
   {
    "duration": 3,
    "start_time": "2022-03-15T16:36:25.360Z"
   },
   {
    "duration": 411,
    "start_time": "2022-03-15T16:36:25.366Z"
   },
   {
    "duration": 210,
    "start_time": "2022-03-15T16:36:25.778Z"
   },
   {
    "duration": 499,
    "start_time": "2022-03-15T16:36:25.990Z"
   },
   {
    "duration": 10,
    "start_time": "2022-03-15T16:36:26.493Z"
   },
   {
    "duration": 17,
    "start_time": "2022-03-15T16:36:26.506Z"
   },
   {
    "duration": 35,
    "start_time": "2022-03-15T16:36:26.525Z"
   },
   {
    "duration": 6,
    "start_time": "2022-03-15T16:36:26.562Z"
   },
   {
    "duration": 5,
    "start_time": "2022-03-15T16:36:26.570Z"
   },
   {
    "duration": 10,
    "start_time": "2022-03-15T16:36:26.577Z"
   },
   {
    "duration": 12,
    "start_time": "2022-03-15T16:36:26.589Z"
   },
   {
    "duration": 98,
    "start_time": "2022-03-15T16:36:26.603Z"
   },
   {
    "duration": 9,
    "start_time": "2022-03-15T16:36:26.703Z"
   },
   {
    "duration": 13,
    "start_time": "2022-03-15T16:36:26.714Z"
   },
   {
    "duration": 783,
    "start_time": "2022-03-15T16:36:26.729Z"
   },
   {
    "duration": 757,
    "start_time": "2022-03-15T16:36:27.514Z"
   },
   {
    "duration": 773,
    "start_time": "2022-03-15T16:36:28.275Z"
   },
   {
    "duration": 526,
    "start_time": "2022-03-15T16:36:29.050Z"
   },
   {
    "duration": 783,
    "start_time": "2022-03-15T16:36:29.578Z"
   },
   {
    "duration": 4,
    "start_time": "2022-03-15T16:36:30.363Z"
   },
   {
    "duration": 21,
    "start_time": "2022-03-15T16:36:30.368Z"
   },
   {
    "duration": 5,
    "start_time": "2022-03-15T16:46:31.404Z"
   },
   {
    "duration": 2200237,
    "start_time": "2022-03-15T16:46:32.820Z"
   },
   {
    "duration": 4,
    "start_time": "2022-03-15T17:23:13.059Z"
   },
   {
    "duration": 10,
    "start_time": "2022-03-15T17:23:13.066Z"
   },
   {
    "duration": 6539,
    "start_time": "2022-03-15T17:23:13.077Z"
   },
   {
    "duration": 7,
    "start_time": "2022-03-15T17:37:40.872Z"
   },
   {
    "duration": 801,
    "start_time": "2022-03-15T17:37:40.882Z"
   },
   {
    "duration": 3,
    "start_time": "2022-03-15T17:37:41.685Z"
   },
   {
    "duration": 418,
    "start_time": "2022-03-15T17:37:41.691Z"
   },
   {
    "duration": 211,
    "start_time": "2022-03-15T17:37:42.111Z"
   },
   {
    "duration": 408,
    "start_time": "2022-03-15T17:37:42.324Z"
   },
   {
    "duration": 10,
    "start_time": "2022-03-15T17:37:42.734Z"
   },
   {
    "duration": 14,
    "start_time": "2022-03-15T17:37:42.760Z"
   },
   {
    "duration": 4,
    "start_time": "2022-03-15T17:37:42.776Z"
   },
   {
    "duration": 8,
    "start_time": "2022-03-15T17:37:42.781Z"
   },
   {
    "duration": 7,
    "start_time": "2022-03-15T17:37:42.791Z"
   },
   {
    "duration": 11,
    "start_time": "2022-03-15T17:37:42.800Z"
   },
   {
    "duration": 46,
    "start_time": "2022-03-15T17:37:42.813Z"
   },
   {
    "duration": 46,
    "start_time": "2022-03-15T17:37:42.861Z"
   },
   {
    "duration": 7,
    "start_time": "2022-03-15T17:37:42.909Z"
   },
   {
    "duration": 11,
    "start_time": "2022-03-15T17:37:42.918Z"
   },
   {
    "duration": 778,
    "start_time": "2022-03-15T17:37:42.959Z"
   },
   {
    "duration": 851,
    "start_time": "2022-03-15T17:37:43.739Z"
   },
   {
    "duration": 775,
    "start_time": "2022-03-15T17:37:44.592Z"
   },
   {
    "duration": 545,
    "start_time": "2022-03-15T17:37:45.370Z"
   },
   {
    "duration": 709,
    "start_time": "2022-03-15T17:37:45.917Z"
   },
   {
    "duration": 4,
    "start_time": "2022-03-15T17:37:46.627Z"
   },
   {
    "duration": 12,
    "start_time": "2022-03-15T17:37:46.634Z"
   },
   {
    "duration": 13,
    "start_time": "2022-03-15T17:37:46.648Z"
   },
   {
    "duration": 2185389,
    "start_time": "2022-03-15T17:37:46.663Z"
   },
   {
    "duration": 5,
    "start_time": "2022-03-15T18:14:12.054Z"
   },
   {
    "duration": 11,
    "start_time": "2022-03-15T18:14:12.061Z"
   },
   {
    "duration": 10,
    "start_time": "2022-03-15T18:28:59.252Z"
   },
   {
    "duration": 6366,
    "start_time": "2022-03-15T18:31:28.564Z"
   },
   {
    "duration": 6370,
    "start_time": "2022-03-15T18:33:23.180Z"
   },
   {
    "duration": 11,
    "start_time": "2022-03-15T19:34:00.027Z"
   },
   {
    "duration": 4,
    "start_time": "2022-03-15T19:55:56.345Z"
   },
   {
    "duration": 725,
    "start_time": "2022-03-15T19:55:56.351Z"
   },
   {
    "duration": 3,
    "start_time": "2022-03-15T19:55:57.078Z"
   },
   {
    "duration": 513,
    "start_time": "2022-03-15T19:55:57.083Z"
   },
   {
    "duration": 217,
    "start_time": "2022-03-15T19:55:57.598Z"
   },
   {
    "duration": 406,
    "start_time": "2022-03-15T19:55:57.817Z"
   },
   {
    "duration": 12,
    "start_time": "2022-03-15T19:55:58.225Z"
   },
   {
    "duration": 28,
    "start_time": "2022-03-15T19:55:58.241Z"
   },
   {
    "duration": 3,
    "start_time": "2022-03-15T19:55:58.272Z"
   },
   {
    "duration": 6,
    "start_time": "2022-03-15T19:55:58.277Z"
   },
   {
    "duration": 5,
    "start_time": "2022-03-15T19:55:58.285Z"
   },
   {
    "duration": 10,
    "start_time": "2022-03-15T19:55:58.291Z"
   },
   {
    "duration": 11,
    "start_time": "2022-03-15T19:55:58.303Z"
   },
   {
    "duration": 46,
    "start_time": "2022-03-15T19:55:58.360Z"
   },
   {
    "duration": 8,
    "start_time": "2022-03-15T19:55:58.408Z"
   },
   {
    "duration": 11,
    "start_time": "2022-03-15T19:55:58.417Z"
   },
   {
    "duration": 780,
    "start_time": "2022-03-15T19:55:58.430Z"
   },
   {
    "duration": 767,
    "start_time": "2022-03-15T19:55:59.212Z"
   },
   {
    "duration": 803,
    "start_time": "2022-03-15T19:55:59.981Z"
   },
   {
    "duration": 629,
    "start_time": "2022-03-15T19:56:00.786Z"
   },
   {
    "duration": 692,
    "start_time": "2022-03-15T19:56:01.417Z"
   },
   {
    "duration": 24,
    "start_time": "2022-03-15T19:56:02.110Z"
   },
   {
    "duration": 4,
    "start_time": "2022-03-15T19:56:02.137Z"
   },
   {
    "duration": 10,
    "start_time": "2022-03-15T19:56:02.159Z"
   },
   {
    "duration": 5,
    "start_time": "2022-03-15T19:56:02.171Z"
   },
   {
    "duration": 2129622,
    "start_time": "2022-03-15T19:56:02.178Z"
   },
   {
    "duration": 5,
    "start_time": "2022-03-15T20:31:31.802Z"
   },
   {
    "duration": 11,
    "start_time": "2022-03-15T20:31:31.809Z"
   },
   {
    "duration": 6471,
    "start_time": "2022-03-15T20:31:31.822Z"
   },
   {
    "duration": 10,
    "start_time": "2022-03-15T20:31:38.295Z"
   },
   {
    "duration": 1148,
    "start_time": "2022-03-16T08:21:56.775Z"
   },
   {
    "duration": 651,
    "start_time": "2022-03-16T08:21:57.924Z"
   },
   {
    "duration": 4,
    "start_time": "2022-03-16T08:21:58.577Z"
   },
   {
    "duration": 353,
    "start_time": "2022-03-16T08:21:58.583Z"
   },
   {
    "duration": 170,
    "start_time": "2022-03-16T08:21:58.938Z"
   },
   {
    "duration": 365,
    "start_time": "2022-03-16T08:21:59.109Z"
   },
   {
    "duration": 11,
    "start_time": "2022-03-16T08:21:59.481Z"
   },
   {
    "duration": 13,
    "start_time": "2022-03-16T08:21:59.493Z"
   },
   {
    "duration": 3,
    "start_time": "2022-03-16T08:21:59.508Z"
   },
   {
    "duration": 7,
    "start_time": "2022-03-16T08:21:59.513Z"
   },
   {
    "duration": 14,
    "start_time": "2022-03-16T08:21:59.521Z"
   },
   {
    "duration": 15,
    "start_time": "2022-03-16T08:21:59.536Z"
   },
   {
    "duration": 12,
    "start_time": "2022-03-16T08:21:59.552Z"
   },
   {
    "duration": 52,
    "start_time": "2022-03-16T08:21:59.566Z"
   },
   {
    "duration": 6,
    "start_time": "2022-03-16T08:21:59.619Z"
   },
   {
    "duration": 12,
    "start_time": "2022-03-16T08:21:59.626Z"
   },
   {
    "duration": 616,
    "start_time": "2022-03-16T08:21:59.639Z"
   },
   {
    "duration": 672,
    "start_time": "2022-03-16T08:22:00.257Z"
   },
   {
    "duration": 627,
    "start_time": "2022-03-16T08:22:00.931Z"
   },
   {
    "duration": 438,
    "start_time": "2022-03-16T08:22:01.559Z"
   },
   {
    "duration": 548,
    "start_time": "2022-03-16T08:22:01.998Z"
   },
   {
    "duration": 21,
    "start_time": "2022-03-16T08:22:02.548Z"
   },
   {
    "duration": 3,
    "start_time": "2022-03-16T08:22:02.580Z"
   },
   {
    "duration": 10,
    "start_time": "2022-03-16T08:22:02.585Z"
   },
   {
    "duration": 3,
    "start_time": "2022-03-16T08:22:02.597Z"
   },
   {
    "duration": 1278542,
    "start_time": "2022-03-16T08:22:02.601Z"
   },
   {
    "duration": -19,
    "start_time": "2022-03-16T08:43:21.164Z"
   },
   {
    "duration": -20,
    "start_time": "2022-03-16T08:43:21.166Z"
   },
   {
    "duration": -21,
    "start_time": "2022-03-16T08:43:21.168Z"
   },
   {
    "duration": -23,
    "start_time": "2022-03-16T08:43:21.171Z"
   },
   {
    "duration": 4,
    "start_time": "2022-03-16T10:05:34.038Z"
   },
   {
    "duration": 711,
    "start_time": "2022-03-16T10:05:34.043Z"
   },
   {
    "duration": 3,
    "start_time": "2022-03-16T10:05:34.756Z"
   },
   {
    "duration": 157,
    "start_time": "2022-03-16T10:05:34.760Z"
   },
   {
    "duration": 43,
    "start_time": "2022-03-16T10:05:34.919Z"
   },
   {
    "duration": 141,
    "start_time": "2022-03-16T10:05:34.964Z"
   },
   {
    "duration": 8,
    "start_time": "2022-03-16T10:05:35.107Z"
   },
   {
    "duration": 14,
    "start_time": "2022-03-16T10:05:35.117Z"
   },
   {
    "duration": 3,
    "start_time": "2022-03-16T10:05:35.132Z"
   },
   {
    "duration": 6,
    "start_time": "2022-03-16T10:05:35.136Z"
   },
   {
    "duration": 5,
    "start_time": "2022-03-16T10:05:35.143Z"
   },
   {
    "duration": 38,
    "start_time": "2022-03-16T10:05:35.149Z"
   },
   {
    "duration": 16,
    "start_time": "2022-03-16T10:05:35.190Z"
   },
   {
    "duration": 43,
    "start_time": "2022-03-16T10:05:35.208Z"
   },
   {
    "duration": 7,
    "start_time": "2022-03-16T10:05:35.253Z"
   },
   {
    "duration": 19,
    "start_time": "2022-03-16T10:05:35.281Z"
   },
   {
    "duration": 672,
    "start_time": "2022-03-16T10:05:35.304Z"
   },
   {
    "duration": 649,
    "start_time": "2022-03-16T10:05:35.980Z"
   },
   {
    "duration": 671,
    "start_time": "2022-03-16T10:05:36.632Z"
   },
   {
    "duration": 437,
    "start_time": "2022-03-16T10:05:37.305Z"
   },
   {
    "duration": 646,
    "start_time": "2022-03-16T10:05:37.744Z"
   },
   {
    "duration": 23,
    "start_time": "2022-03-16T10:05:38.391Z"
   },
   {
    "duration": 5,
    "start_time": "2022-03-16T10:05:38.417Z"
   },
   {
    "duration": 15,
    "start_time": "2022-03-16T10:05:38.424Z"
   },
   {
    "duration": 6,
    "start_time": "2022-03-16T10:05:38.440Z"
   },
   {
    "duration": 2047606,
    "start_time": "2022-03-16T10:05:38.447Z"
   },
   {
    "duration": 4,
    "start_time": "2022-03-16T10:39:46.055Z"
   },
   {
    "duration": 26,
    "start_time": "2022-03-16T10:39:46.060Z"
   },
   {
    "duration": 5950,
    "start_time": "2022-03-16T10:39:46.088Z"
   },
   {
    "duration": 8,
    "start_time": "2022-03-16T10:39:52.039Z"
   },
   {
    "duration": 5,
    "start_time": "2022-03-16T10:40:20.285Z"
   },
   {
    "duration": 12,
    "start_time": "2022-03-16T10:40:25.696Z"
   },
   {
    "duration": 6014,
    "start_time": "2022-03-16T10:40:43.170Z"
   },
   {
    "duration": 6058,
    "start_time": "2022-03-16T10:45:13.839Z"
   },
   {
    "duration": 9,
    "start_time": "2022-03-16T10:47:33.936Z"
   },
   {
    "duration": 3805,
    "start_time": "2022-03-16T10:49:13.976Z"
   },
   {
    "duration": 9,
    "start_time": "2022-03-16T10:51:11.305Z"
   },
   {
    "duration": 4,
    "start_time": "2022-03-16T11:02:02.975Z"
   },
   {
    "duration": 784,
    "start_time": "2022-03-16T11:02:02.981Z"
   },
   {
    "duration": 8,
    "start_time": "2022-03-16T11:02:03.767Z"
   },
   {
    "duration": 167,
    "start_time": "2022-03-16T11:02:03.781Z"
   },
   {
    "duration": 55,
    "start_time": "2022-03-16T11:02:03.950Z"
   },
   {
    "duration": 142,
    "start_time": "2022-03-16T11:02:04.007Z"
   },
   {
    "duration": 9,
    "start_time": "2022-03-16T11:02:04.150Z"
   },
   {
    "duration": 38,
    "start_time": "2022-03-16T11:02:04.161Z"
   },
   {
    "duration": 5,
    "start_time": "2022-03-16T11:02:04.202Z"
   },
   {
    "duration": 8,
    "start_time": "2022-03-16T11:02:04.209Z"
   },
   {
    "duration": 20,
    "start_time": "2022-03-16T11:02:04.218Z"
   },
   {
    "duration": 13,
    "start_time": "2022-03-16T11:02:04.240Z"
   },
   {
    "duration": 13,
    "start_time": "2022-03-16T11:02:04.255Z"
   },
   {
    "duration": 55,
    "start_time": "2022-03-16T11:02:04.270Z"
   },
   {
    "duration": 7,
    "start_time": "2022-03-16T11:02:04.326Z"
   },
   {
    "duration": 23,
    "start_time": "2022-03-16T11:02:04.334Z"
   },
   {
    "duration": 670,
    "start_time": "2022-03-16T11:02:04.358Z"
   },
   {
    "duration": 639,
    "start_time": "2022-03-16T11:02:05.029Z"
   },
   {
    "duration": 807,
    "start_time": "2022-03-16T11:02:05.670Z"
   },
   {
    "duration": 499,
    "start_time": "2022-03-16T11:02:06.482Z"
   },
   {
    "duration": 617,
    "start_time": "2022-03-16T11:02:06.984Z"
   },
   {
    "duration": 33,
    "start_time": "2022-03-16T11:02:07.603Z"
   },
   {
    "duration": 29,
    "start_time": "2022-03-16T11:02:07.638Z"
   },
   {
    "duration": 23,
    "start_time": "2022-03-16T11:02:07.668Z"
   },
   {
    "duration": 10,
    "start_time": "2022-03-16T11:02:07.694Z"
   },
   {
    "duration": 1988765,
    "start_time": "2022-03-16T11:02:07.706Z"
   },
   {
    "duration": 8,
    "start_time": "2022-03-16T11:35:16.474Z"
   },
   {
    "duration": 11,
    "start_time": "2022-03-16T11:35:16.484Z"
   },
   {
    "duration": 3788,
    "start_time": "2022-03-16T11:35:16.496Z"
   },
   {
    "duration": 8,
    "start_time": "2022-03-16T11:35:20.285Z"
   },
   {
    "duration": 3701,
    "start_time": "2022-03-16T11:52:04.671Z"
   },
   {
    "duration": 4,
    "start_time": "2022-03-16T11:53:08.372Z"
   },
   {
    "duration": 659,
    "start_time": "2022-03-16T11:53:08.377Z"
   },
   {
    "duration": 3,
    "start_time": "2022-03-16T11:53:09.038Z"
   },
   {
    "duration": 146,
    "start_time": "2022-03-16T11:53:09.043Z"
   },
   {
    "duration": 43,
    "start_time": "2022-03-16T11:53:09.191Z"
   },
   {
    "duration": 129,
    "start_time": "2022-03-16T11:53:09.236Z"
   },
   {
    "duration": 16,
    "start_time": "2022-03-16T11:53:09.367Z"
   },
   {
    "duration": 13,
    "start_time": "2022-03-16T11:53:09.385Z"
   },
   {
    "duration": 3,
    "start_time": "2022-03-16T11:53:09.401Z"
   },
   {
    "duration": 9,
    "start_time": "2022-03-16T11:53:09.406Z"
   },
   {
    "duration": 7,
    "start_time": "2022-03-16T11:53:09.416Z"
   },
   {
    "duration": 10,
    "start_time": "2022-03-16T11:53:09.424Z"
   },
   {
    "duration": 10,
    "start_time": "2022-03-16T11:53:09.436Z"
   },
   {
    "duration": 65,
    "start_time": "2022-03-16T11:53:09.447Z"
   },
   {
    "duration": 6,
    "start_time": "2022-03-16T11:53:09.513Z"
   },
   {
    "duration": 10,
    "start_time": "2022-03-16T11:53:09.520Z"
   },
   {
    "duration": 725,
    "start_time": "2022-03-16T11:53:09.531Z"
   },
   {
    "duration": 616,
    "start_time": "2022-03-16T11:53:10.257Z"
   },
   {
    "duration": 628,
    "start_time": "2022-03-16T11:53:10.875Z"
   },
   {
    "duration": 419,
    "start_time": "2022-03-16T11:53:11.504Z"
   },
   {
    "duration": 616,
    "start_time": "2022-03-16T11:53:11.925Z"
   },
   {
    "duration": 21,
    "start_time": "2022-03-16T11:53:12.543Z"
   },
   {
    "duration": 15,
    "start_time": "2022-03-16T11:53:12.566Z"
   },
   {
    "duration": 11,
    "start_time": "2022-03-16T11:53:12.582Z"
   },
   {
    "duration": 4,
    "start_time": "2022-03-16T11:53:12.594Z"
   },
   {
    "duration": 1930359,
    "start_time": "2022-03-16T11:53:12.599Z"
   },
   {
    "duration": 3,
    "start_time": "2022-03-16T12:25:22.961Z"
   },
   {
    "duration": 20,
    "start_time": "2022-03-16T12:25:22.966Z"
   },
   {
    "duration": 3857,
    "start_time": "2022-03-16T12:27:58.442Z"
   },
   {
    "duration": 8,
    "start_time": "2022-03-16T12:28:20.762Z"
   },
   {
    "duration": 3611,
    "start_time": "2022-03-16T12:31:53.707Z"
   },
   {
    "duration": 9,
    "start_time": "2022-03-16T12:32:07.586Z"
   },
   {
    "duration": 1465,
    "start_time": "2022-03-17T05:47:05.971Z"
   },
   {
    "duration": 861,
    "start_time": "2022-03-17T05:47:07.439Z"
   },
   {
    "duration": 4,
    "start_time": "2022-03-17T05:47:36.616Z"
   },
   {
    "duration": 234,
    "start_time": "2022-03-17T05:47:37.132Z"
   },
   {
    "duration": 77,
    "start_time": "2022-03-17T05:47:37.783Z"
   },
   {
    "duration": 213,
    "start_time": "2022-03-17T05:47:38.257Z"
   },
   {
    "duration": 18,
    "start_time": "2022-03-17T05:48:01.234Z"
   },
   {
    "duration": 23,
    "start_time": "2022-03-17T05:48:02.359Z"
   },
   {
    "duration": 6,
    "start_time": "2022-03-17T05:48:03.656Z"
   },
   {
    "duration": 6,
    "start_time": "2022-03-17T05:48:04.014Z"
   },
   {
    "duration": 5,
    "start_time": "2022-03-17T05:48:26.890Z"
   },
   {
    "duration": 14,
    "start_time": "2022-03-17T05:49:10.037Z"
   },
   {
    "duration": 14,
    "start_time": "2022-03-17T05:50:34.882Z"
   },
   {
    "duration": 64,
    "start_time": "2022-03-17T05:50:38.544Z"
   },
   {
    "duration": 11,
    "start_time": "2022-03-17T05:52:11.690Z"
   },
   {
    "duration": 14,
    "start_time": "2022-03-17T05:52:14.000Z"
   },
   {
    "duration": 1083,
    "start_time": "2022-03-17T05:52:15.436Z"
   },
   {
    "duration": 1195,
    "start_time": "2022-03-17T05:52:16.521Z"
   },
   {
    "duration": 1108,
    "start_time": "2022-03-17T05:52:17.720Z"
   },
   {
    "duration": 722,
    "start_time": "2022-03-17T05:52:55.179Z"
   },
   {
    "duration": 974,
    "start_time": "2022-03-17T05:53:26.111Z"
   },
   {
    "duration": 34,
    "start_time": "2022-03-17T05:53:27.357Z"
   },
   {
    "duration": 97,
    "start_time": "2022-03-17T05:55:56.885Z"
   },
   {
    "duration": 199,
    "start_time": "2022-03-17T05:56:22.485Z"
   },
   {
    "duration": 100,
    "start_time": "2022-03-17T05:56:44.185Z"
   },
   {
    "duration": 7,
    "start_time": "2022-03-17T06:01:09.120Z"
   },
   {
    "duration": 2917950,
    "start_time": "2022-03-17T06:01:16.814Z"
   },
   {
    "duration": 1802,
    "start_time": "2022-03-17T06:49:52.965Z"
   },
   {
    "duration": 5,
    "start_time": "2022-03-17T06:50:03.764Z"
   },
   {
    "duration": 14,
    "start_time": "2022-03-17T06:50:07.008Z"
   },
   {
    "duration": 4492,
    "start_time": "2022-03-17T06:50:23.179Z"
   },
   {
    "duration": 14,
    "start_time": "2022-03-17T06:50:28.310Z"
   },
   {
    "duration": 2633,
    "start_time": "2022-03-17T13:48:34.741Z"
   },
   {
    "duration": 933,
    "start_time": "2022-03-17T13:48:37.377Z"
   },
   {
    "duration": 5,
    "start_time": "2022-03-17T13:48:38.313Z"
   },
   {
    "duration": 323,
    "start_time": "2022-03-17T13:48:38.322Z"
   },
   {
    "duration": 98,
    "start_time": "2022-03-17T13:48:38.648Z"
   },
   {
    "duration": 271,
    "start_time": "2022-03-17T13:48:38.751Z"
   },
   {
    "duration": 17,
    "start_time": "2022-03-17T13:48:39.025Z"
   },
   {
    "duration": 39,
    "start_time": "2022-03-17T13:48:39.044Z"
   },
   {
    "duration": 7,
    "start_time": "2022-03-17T13:48:39.087Z"
   },
   {
    "duration": 31,
    "start_time": "2022-03-17T13:48:39.099Z"
   },
   {
    "duration": 28,
    "start_time": "2022-03-17T13:48:39.132Z"
   },
   {
    "duration": 39,
    "start_time": "2022-03-17T13:48:39.163Z"
   },
   {
    "duration": 43,
    "start_time": "2022-03-17T13:48:39.205Z"
   },
   {
    "duration": 79,
    "start_time": "2022-03-17T13:48:39.251Z"
   },
   {
    "duration": 12,
    "start_time": "2022-03-17T13:48:39.333Z"
   },
   {
    "duration": 36,
    "start_time": "2022-03-17T13:48:39.348Z"
   },
   {
    "duration": 842,
    "start_time": "2022-03-17T13:48:39.387Z"
   },
   {
    "duration": 915,
    "start_time": "2022-03-17T13:48:40.232Z"
   },
   {
    "duration": 862,
    "start_time": "2022-03-17T13:48:41.150Z"
   },
   {
    "duration": 965,
    "start_time": "2022-03-17T13:48:42.014Z"
   },
   {
    "duration": 790,
    "start_time": "2022-03-17T13:48:42.983Z"
   },
   {
    "duration": 49,
    "start_time": "2022-03-17T13:48:43.776Z"
   },
   {
    "duration": 33,
    "start_time": "2022-03-17T13:48:43.828Z"
   },
   {
    "duration": 13,
    "start_time": "2022-03-17T13:50:07.466Z"
   },
   {
    "duration": 38,
    "start_time": "2022-03-17T14:04:39.216Z"
   },
   {
    "duration": 45,
    "start_time": "2022-03-17T14:06:10.846Z"
   },
   {
    "duration": 45,
    "start_time": "2022-03-17T14:06:11.893Z"
   },
   {
    "duration": 4,
    "start_time": "2022-03-17T14:54:35.648Z"
   },
   {
    "duration": 965,
    "start_time": "2022-03-17T14:54:35.654Z"
   },
   {
    "duration": 5,
    "start_time": "2022-03-17T14:54:36.622Z"
   },
   {
    "duration": 312,
    "start_time": "2022-03-17T14:54:36.631Z"
   },
   {
    "duration": 105,
    "start_time": "2022-03-17T14:54:36.945Z"
   },
   {
    "duration": 251,
    "start_time": "2022-03-17T14:54:37.054Z"
   },
   {
    "duration": 15,
    "start_time": "2022-03-17T14:54:37.308Z"
   },
   {
    "duration": 44,
    "start_time": "2022-03-17T14:54:37.325Z"
   },
   {
    "duration": 5,
    "start_time": "2022-03-17T14:54:37.373Z"
   },
   {
    "duration": 8,
    "start_time": "2022-03-17T14:54:37.385Z"
   },
   {
    "duration": 14,
    "start_time": "2022-03-17T14:54:37.395Z"
   },
   {
    "duration": 21,
    "start_time": "2022-03-17T14:54:37.413Z"
   },
   {
    "duration": 32,
    "start_time": "2022-03-17T14:54:37.436Z"
   },
   {
    "duration": 66,
    "start_time": "2022-03-17T14:54:37.471Z"
   },
   {
    "duration": 10,
    "start_time": "2022-03-17T14:54:37.540Z"
   },
   {
    "duration": 43,
    "start_time": "2022-03-17T14:54:37.552Z"
   },
   {
    "duration": 1245,
    "start_time": "2022-03-17T14:54:37.598Z"
   },
   {
    "duration": 952,
    "start_time": "2022-03-17T14:54:38.847Z"
   },
   {
    "duration": 885,
    "start_time": "2022-03-17T14:54:39.802Z"
   },
   {
    "duration": 842,
    "start_time": "2022-03-17T14:54:40.689Z"
   },
   {
    "duration": 709,
    "start_time": "2022-03-17T14:54:41.535Z"
   },
   {
    "duration": 48,
    "start_time": "2022-03-17T14:54:42.247Z"
   },
   {
    "duration": 4,
    "start_time": "2022-03-17T14:54:42.298Z"
   },
   {
    "duration": 48,
    "start_time": "2022-03-17T14:54:42.307Z"
   },
   {
    "duration": 58,
    "start_time": "2022-03-17T14:54:42.357Z"
   },
   {
    "duration": 7,
    "start_time": "2022-03-17T14:54:42.417Z"
   },
   {
    "duration": 2190,
    "start_time": "2022-03-17T14:54:42.427Z"
   },
   {
    "duration": 0,
    "start_time": "2022-03-17T14:54:44.620Z"
   },
   {
    "duration": 0,
    "start_time": "2022-03-17T14:54:44.622Z"
   },
   {
    "duration": 0,
    "start_time": "2022-03-17T14:54:44.623Z"
   },
   {
    "duration": 0,
    "start_time": "2022-03-17T14:54:44.625Z"
   },
   {
    "duration": 60,
    "start_time": "2022-03-17T15:22:39.786Z"
   },
   {
    "duration": 85,
    "start_time": "2022-03-17T15:23:31.424Z"
   },
   {
    "duration": 73,
    "start_time": "2022-03-17T15:24:14.214Z"
   },
   {
    "duration": 55,
    "start_time": "2022-03-17T15:24:41.503Z"
   },
   {
    "duration": 6,
    "start_time": "2022-03-17T15:25:14.461Z"
   },
   {
    "duration": 893,
    "start_time": "2022-03-17T15:25:14.470Z"
   },
   {
    "duration": 5,
    "start_time": "2022-03-17T15:25:15.365Z"
   },
   {
    "duration": 257,
    "start_time": "2022-03-17T15:25:15.384Z"
   },
   {
    "duration": 101,
    "start_time": "2022-03-17T15:25:15.643Z"
   },
   {
    "duration": 248,
    "start_time": "2022-03-17T15:25:15.746Z"
   },
   {
    "duration": 12,
    "start_time": "2022-03-17T15:25:15.997Z"
   },
   {
    "duration": 16,
    "start_time": "2022-03-17T15:25:16.012Z"
   },
   {
    "duration": 5,
    "start_time": "2022-03-17T15:25:16.031Z"
   },
   {
    "duration": 10,
    "start_time": "2022-03-17T15:25:16.038Z"
   },
   {
    "duration": 7,
    "start_time": "2022-03-17T15:25:16.085Z"
   },
   {
    "duration": 11,
    "start_time": "2022-03-17T15:25:16.094Z"
   },
   {
    "duration": 16,
    "start_time": "2022-03-17T15:25:16.107Z"
   },
   {
    "duration": 94,
    "start_time": "2022-03-17T15:25:16.125Z"
   },
   {
    "duration": 12,
    "start_time": "2022-03-17T15:25:16.222Z"
   },
   {
    "duration": 15,
    "start_time": "2022-03-17T15:25:16.237Z"
   },
   {
    "duration": 887,
    "start_time": "2022-03-17T15:25:16.284Z"
   },
   {
    "duration": 765,
    "start_time": "2022-03-17T15:25:17.174Z"
   },
   {
    "duration": 914,
    "start_time": "2022-03-17T15:25:17.942Z"
   },
   {
    "duration": 1051,
    "start_time": "2022-03-17T15:25:18.859Z"
   },
   {
    "duration": 1712,
    "start_time": "2022-03-17T15:25:19.913Z"
   },
   {
    "duration": 34,
    "start_time": "2022-03-17T15:25:21.683Z"
   },
   {
    "duration": 5,
    "start_time": "2022-03-17T15:25:21.719Z"
   },
   {
    "duration": 80,
    "start_time": "2022-03-17T15:25:21.729Z"
   },
   {
    "duration": 105,
    "start_time": "2022-03-17T15:25:21.811Z"
   },
   {
    "duration": 0,
    "start_time": "2022-03-17T15:25:21.918Z"
   },
   {
    "duration": 0,
    "start_time": "2022-03-17T15:25:21.920Z"
   },
   {
    "duration": 0,
    "start_time": "2022-03-17T15:25:21.922Z"
   },
   {
    "duration": 0,
    "start_time": "2022-03-17T15:25:21.924Z"
   },
   {
    "duration": 0,
    "start_time": "2022-03-17T15:25:21.925Z"
   },
   {
    "duration": 0,
    "start_time": "2022-03-17T15:25:21.927Z"
   },
   {
    "duration": 49,
    "start_time": "2022-03-17T15:28:07.493Z"
   },
   {
    "duration": 44,
    "start_time": "2022-03-17T15:28:39.882Z"
   },
   {
    "duration": 93,
    "start_time": "2022-03-17T15:29:23.158Z"
   },
   {
    "duration": 61,
    "start_time": "2022-03-17T15:30:03.613Z"
   },
   {
    "duration": 5,
    "start_time": "2022-03-17T15:30:32.520Z"
   },
   {
    "duration": 847,
    "start_time": "2022-03-17T15:30:32.528Z"
   },
   {
    "duration": 9,
    "start_time": "2022-03-17T15:30:33.378Z"
   },
   {
    "duration": 283,
    "start_time": "2022-03-17T15:30:33.389Z"
   },
   {
    "duration": 108,
    "start_time": "2022-03-17T15:30:33.676Z"
   },
   {
    "duration": 238,
    "start_time": "2022-03-17T15:30:33.786Z"
   },
   {
    "duration": 14,
    "start_time": "2022-03-17T15:30:34.026Z"
   },
   {
    "duration": 43,
    "start_time": "2022-03-17T15:30:34.042Z"
   },
   {
    "duration": 4,
    "start_time": "2022-03-17T15:30:34.088Z"
   },
   {
    "duration": 9,
    "start_time": "2022-03-17T15:30:34.094Z"
   },
   {
    "duration": 5,
    "start_time": "2022-03-17T15:30:34.107Z"
   },
   {
    "duration": 16,
    "start_time": "2022-03-17T15:30:34.114Z"
   },
   {
    "duration": 54,
    "start_time": "2022-03-17T15:30:34.132Z"
   },
   {
    "duration": 59,
    "start_time": "2022-03-17T15:30:34.188Z"
   },
   {
    "duration": 37,
    "start_time": "2022-03-17T15:30:34.249Z"
   },
   {
    "duration": 56,
    "start_time": "2022-03-17T15:30:34.288Z"
   },
   {
    "duration": 791,
    "start_time": "2022-03-17T15:30:34.346Z"
   },
   {
    "duration": 748,
    "start_time": "2022-03-17T15:30:35.139Z"
   },
   {
    "duration": 762,
    "start_time": "2022-03-17T15:30:35.890Z"
   },
   {
    "duration": 1084,
    "start_time": "2022-03-17T15:30:36.654Z"
   },
   {
    "duration": 697,
    "start_time": "2022-03-17T15:30:37.741Z"
   },
   {
    "duration": 44,
    "start_time": "2022-03-17T15:30:38.441Z"
   },
   {
    "duration": 5,
    "start_time": "2022-03-17T15:30:38.487Z"
   },
   {
    "duration": 41,
    "start_time": "2022-03-17T15:30:38.495Z"
   },
   {
    "duration": 32,
    "start_time": "2022-03-17T15:30:41.651Z"
   },
   {
    "duration": 62,
    "start_time": "2022-03-17T15:30:42.583Z"
   },
   {
    "duration": 76,
    "start_time": "2022-03-17T15:31:35.573Z"
   },
   {
    "duration": 6,
    "start_time": "2022-03-17T15:32:00.576Z"
   },
   {
    "duration": 869,
    "start_time": "2022-03-17T15:32:00.584Z"
   },
   {
    "duration": 5,
    "start_time": "2022-03-17T15:32:01.455Z"
   },
   {
    "duration": 269,
    "start_time": "2022-03-17T15:32:01.462Z"
   },
   {
    "duration": 100,
    "start_time": "2022-03-17T15:32:01.734Z"
   },
   {
    "duration": 248,
    "start_time": "2022-03-17T15:32:01.836Z"
   },
   {
    "duration": 13,
    "start_time": "2022-03-17T15:32:02.086Z"
   },
   {
    "duration": 33,
    "start_time": "2022-03-17T15:32:02.102Z"
   },
   {
    "duration": 5,
    "start_time": "2022-03-17T15:32:02.138Z"
   },
   {
    "duration": 13,
    "start_time": "2022-03-17T15:32:02.145Z"
   },
   {
    "duration": 5,
    "start_time": "2022-03-17T15:32:02.186Z"
   },
   {
    "duration": 22,
    "start_time": "2022-03-17T15:32:02.193Z"
   },
   {
    "duration": 100,
    "start_time": "2022-03-17T15:32:02.217Z"
   },
   {
    "duration": 83,
    "start_time": "2022-03-17T15:32:02.320Z"
   },
   {
    "duration": 13,
    "start_time": "2022-03-17T15:32:02.406Z"
   },
   {
    "duration": 21,
    "start_time": "2022-03-17T15:32:02.422Z"
   },
   {
    "duration": 795,
    "start_time": "2022-03-17T15:32:02.446Z"
   },
   {
    "duration": 779,
    "start_time": "2022-03-17T15:32:03.243Z"
   },
   {
    "duration": 998,
    "start_time": "2022-03-17T15:32:04.024Z"
   },
   {
    "duration": 826,
    "start_time": "2022-03-17T15:32:05.024Z"
   },
   {
    "duration": 726,
    "start_time": "2022-03-17T15:32:05.853Z"
   },
   {
    "duration": 30,
    "start_time": "2022-03-17T15:32:06.584Z"
   },
   {
    "duration": 5,
    "start_time": "2022-03-17T15:32:06.617Z"
   },
   {
    "duration": 60,
    "start_time": "2022-03-17T15:32:06.624Z"
   },
   {
    "duration": 30,
    "start_time": "2022-03-17T15:32:08.159Z"
   },
   {
    "duration": 71,
    "start_time": "2022-03-17T15:32:09.022Z"
   },
   {
    "duration": 58,
    "start_time": "2022-03-17T15:32:23.059Z"
   },
   {
    "duration": 5,
    "start_time": "2022-03-17T15:32:33.310Z"
   },
   {
    "duration": 919,
    "start_time": "2022-03-17T15:32:33.318Z"
   },
   {
    "duration": 4,
    "start_time": "2022-03-17T15:32:34.240Z"
   },
   {
    "duration": 378,
    "start_time": "2022-03-17T15:32:34.246Z"
   },
   {
    "duration": 98,
    "start_time": "2022-03-17T15:32:34.627Z"
   },
   {
    "duration": 252,
    "start_time": "2022-03-17T15:32:34.727Z"
   },
   {
    "duration": 17,
    "start_time": "2022-03-17T15:32:34.984Z"
   },
   {
    "duration": 20,
    "start_time": "2022-03-17T15:32:35.003Z"
   },
   {
    "duration": 5,
    "start_time": "2022-03-17T15:32:35.026Z"
   },
   {
    "duration": 53,
    "start_time": "2022-03-17T15:32:35.033Z"
   },
   {
    "duration": 9,
    "start_time": "2022-03-17T15:32:35.089Z"
   },
   {
    "duration": 17,
    "start_time": "2022-03-17T15:32:35.101Z"
   },
   {
    "duration": 28,
    "start_time": "2022-03-17T15:32:35.120Z"
   },
   {
    "duration": 80,
    "start_time": "2022-03-17T15:32:35.152Z"
   },
   {
    "duration": 10,
    "start_time": "2022-03-17T15:32:35.235Z"
   },
   {
    "duration": 37,
    "start_time": "2022-03-17T15:32:35.247Z"
   },
   {
    "duration": 779,
    "start_time": "2022-03-17T15:32:35.286Z"
   },
   {
    "duration": 778,
    "start_time": "2022-03-17T15:32:36.068Z"
   },
   {
    "duration": 906,
    "start_time": "2022-03-17T15:32:36.848Z"
   },
   {
    "duration": 776,
    "start_time": "2022-03-17T15:32:37.756Z"
   },
   {
    "duration": 702,
    "start_time": "2022-03-17T15:32:38.534Z"
   },
   {
    "duration": 46,
    "start_time": "2022-03-17T15:32:39.238Z"
   },
   {
    "duration": 7,
    "start_time": "2022-03-17T15:32:39.286Z"
   },
   {
    "duration": 26,
    "start_time": "2022-03-17T15:32:42.209Z"
   },
   {
    "duration": 87,
    "start_time": "2022-03-17T15:32:43.521Z"
   },
   {
    "duration": 5,
    "start_time": "2022-03-17T15:36:54.861Z"
   },
   {
    "duration": 865,
    "start_time": "2022-03-17T15:36:54.868Z"
   },
   {
    "duration": 4,
    "start_time": "2022-03-17T15:36:55.736Z"
   },
   {
    "duration": 274,
    "start_time": "2022-03-17T15:36:55.742Z"
   },
   {
    "duration": 105,
    "start_time": "2022-03-17T15:36:56.019Z"
   },
   {
    "duration": 286,
    "start_time": "2022-03-17T15:36:56.127Z"
   },
   {
    "duration": 19,
    "start_time": "2022-03-17T15:36:56.416Z"
   },
   {
    "duration": 48,
    "start_time": "2022-03-17T15:36:56.438Z"
   },
   {
    "duration": 5,
    "start_time": "2022-03-17T15:36:56.488Z"
   },
   {
    "duration": 15,
    "start_time": "2022-03-17T15:36:56.495Z"
   },
   {
    "duration": 9,
    "start_time": "2022-03-17T15:36:56.513Z"
   },
   {
    "duration": 22,
    "start_time": "2022-03-17T15:37:14.185Z"
   },
   {
    "duration": 10,
    "start_time": "2022-03-17T15:37:36.904Z"
   },
   {
    "duration": 5,
    "start_time": "2022-03-17T15:38:38.717Z"
   },
   {
    "duration": 815,
    "start_time": "2022-03-17T15:38:38.725Z"
   },
   {
    "duration": 5,
    "start_time": "2022-03-17T15:38:39.543Z"
   },
   {
    "duration": 262,
    "start_time": "2022-03-17T15:38:39.550Z"
   },
   {
    "duration": 105,
    "start_time": "2022-03-17T15:38:39.815Z"
   },
   {
    "duration": 250,
    "start_time": "2022-03-17T15:38:39.923Z"
   },
   {
    "duration": 19,
    "start_time": "2022-03-17T15:38:40.176Z"
   },
   {
    "duration": 27,
    "start_time": "2022-03-17T15:38:40.197Z"
   },
   {
    "duration": 7,
    "start_time": "2022-03-17T15:38:40.226Z"
   },
   {
    "duration": 16,
    "start_time": "2022-03-17T15:38:40.235Z"
   },
   {
    "duration": 7,
    "start_time": "2022-03-17T15:38:40.283Z"
   },
   {
    "duration": 17,
    "start_time": "2022-03-17T15:38:40.292Z"
   },
   {
    "duration": 23,
    "start_time": "2022-03-17T15:38:40.312Z"
   },
   {
    "duration": 93,
    "start_time": "2022-03-17T15:38:40.338Z"
   },
   {
    "duration": 10,
    "start_time": "2022-03-17T15:38:40.434Z"
   },
   {
    "duration": 20,
    "start_time": "2022-03-17T15:38:40.446Z"
   },
   {
    "duration": 871,
    "start_time": "2022-03-17T15:38:40.485Z"
   },
   {
    "duration": 863,
    "start_time": "2022-03-17T15:38:41.360Z"
   },
   {
    "duration": 775,
    "start_time": "2022-03-17T15:38:42.225Z"
   },
   {
    "duration": 842,
    "start_time": "2022-03-17T15:38:43.003Z"
   },
   {
    "duration": 695,
    "start_time": "2022-03-17T15:38:43.847Z"
   },
   {
    "duration": 44,
    "start_time": "2022-03-17T15:38:44.544Z"
   },
   {
    "duration": 5,
    "start_time": "2022-03-17T15:38:44.590Z"
   },
   {
    "duration": 25,
    "start_time": "2022-03-17T15:38:44.597Z"
   },
   {
    "duration": 21,
    "start_time": "2022-03-17T15:38:46.579Z"
   },
   {
    "duration": 68,
    "start_time": "2022-03-17T15:38:48.080Z"
   },
   {
    "duration": 51,
    "start_time": "2022-03-17T15:39:28.131Z"
   },
   {
    "duration": 5,
    "start_time": "2022-03-17T15:39:41.680Z"
   },
   {
    "duration": 1007,
    "start_time": "2022-03-17T15:39:41.688Z"
   },
   {
    "duration": 4,
    "start_time": "2022-03-17T15:39:42.698Z"
   },
   {
    "duration": 287,
    "start_time": "2022-03-17T15:39:42.706Z"
   },
   {
    "duration": 108,
    "start_time": "2022-03-17T15:39:42.996Z"
   },
   {
    "duration": 252,
    "start_time": "2022-03-17T15:39:43.107Z"
   },
   {
    "duration": 25,
    "start_time": "2022-03-17T15:39:43.362Z"
   },
   {
    "duration": 22,
    "start_time": "2022-03-17T15:39:43.389Z"
   },
   {
    "duration": 5,
    "start_time": "2022-03-17T15:39:43.415Z"
   },
   {
    "duration": 10,
    "start_time": "2022-03-17T15:39:43.422Z"
   },
   {
    "duration": 14,
    "start_time": "2022-03-17T15:39:43.434Z"
   },
   {
    "duration": 41,
    "start_time": "2022-03-17T15:39:43.451Z"
   },
   {
    "duration": 23,
    "start_time": "2022-03-17T15:39:43.494Z"
   },
   {
    "duration": 83,
    "start_time": "2022-03-17T15:39:43.520Z"
   },
   {
    "duration": 10,
    "start_time": "2022-03-17T15:39:43.605Z"
   },
   {
    "duration": 24,
    "start_time": "2022-03-17T15:39:43.617Z"
   },
   {
    "duration": 910,
    "start_time": "2022-03-17T15:39:43.643Z"
   },
   {
    "duration": 868,
    "start_time": "2022-03-17T15:39:44.556Z"
   },
   {
    "duration": 790,
    "start_time": "2022-03-17T15:39:45.426Z"
   },
   {
    "duration": 921,
    "start_time": "2022-03-17T15:39:46.218Z"
   },
   {
    "duration": 804,
    "start_time": "2022-03-17T15:39:47.141Z"
   },
   {
    "duration": 45,
    "start_time": "2022-03-17T15:39:47.947Z"
   },
   {
    "duration": 5,
    "start_time": "2022-03-17T15:39:47.994Z"
   },
   {
    "duration": 23,
    "start_time": "2022-03-17T15:39:53.625Z"
   },
   {
    "duration": 69,
    "start_time": "2022-03-17T15:39:54.703Z"
   },
   {
    "duration": 6,
    "start_time": "2022-03-17T15:40:24.728Z"
   },
   {
    "duration": 979,
    "start_time": "2022-03-17T15:40:24.736Z"
   },
   {
    "duration": 5,
    "start_time": "2022-03-17T15:40:25.717Z"
   },
   {
    "duration": 283,
    "start_time": "2022-03-17T15:40:25.725Z"
   },
   {
    "duration": 105,
    "start_time": "2022-03-17T15:40:26.011Z"
   },
   {
    "duration": 247,
    "start_time": "2022-03-17T15:40:26.119Z"
   },
   {
    "duration": 23,
    "start_time": "2022-03-17T15:40:26.368Z"
   },
   {
    "duration": 17,
    "start_time": "2022-03-17T15:40:26.394Z"
   },
   {
    "duration": 5,
    "start_time": "2022-03-17T15:40:26.417Z"
   },
   {
    "duration": 11,
    "start_time": "2022-03-17T15:40:26.425Z"
   },
   {
    "duration": 48,
    "start_time": "2022-03-17T15:40:26.438Z"
   },
   {
    "duration": 13,
    "start_time": "2022-03-17T15:40:26.489Z"
   },
   {
    "duration": 20,
    "start_time": "2022-03-17T15:40:26.504Z"
   },
   {
    "duration": 89,
    "start_time": "2022-03-17T15:40:26.527Z"
   },
   {
    "duration": 14,
    "start_time": "2022-03-17T15:40:26.619Z"
   },
   {
    "duration": 16,
    "start_time": "2022-03-17T15:40:26.635Z"
   },
   {
    "duration": 818,
    "start_time": "2022-03-17T15:40:26.654Z"
   },
   {
    "duration": 762,
    "start_time": "2022-03-17T15:40:27.475Z"
   },
   {
    "duration": 771,
    "start_time": "2022-03-17T15:40:28.240Z"
   },
   {
    "duration": 929,
    "start_time": "2022-03-17T15:40:29.013Z"
   },
   {
    "duration": 708,
    "start_time": "2022-03-17T15:40:29.945Z"
   },
   {
    "duration": 48,
    "start_time": "2022-03-17T15:40:30.656Z"
   },
   {
    "duration": 5,
    "start_time": "2022-03-17T15:40:30.707Z"
   },
   {
    "duration": 33,
    "start_time": "2022-03-17T15:40:30.716Z"
   },
   {
    "duration": 20,
    "start_time": "2022-03-17T15:40:32.829Z"
   },
   {
    "duration": 74,
    "start_time": "2022-03-17T15:40:33.671Z"
   },
   {
    "duration": 36,
    "start_time": "2022-03-17T15:40:44.067Z"
   },
   {
    "duration": 5,
    "start_time": "2022-03-17T15:40:48.984Z"
   },
   {
    "duration": 915,
    "start_time": "2022-03-17T15:40:48.992Z"
   },
   {
    "duration": 5,
    "start_time": "2022-03-17T15:40:49.909Z"
   },
   {
    "duration": 277,
    "start_time": "2022-03-17T15:40:49.917Z"
   },
   {
    "duration": 105,
    "start_time": "2022-03-17T15:40:50.197Z"
   },
   {
    "duration": 243,
    "start_time": "2022-03-17T15:40:50.303Z"
   },
   {
    "duration": 13,
    "start_time": "2022-03-17T15:40:50.548Z"
   },
   {
    "duration": 33,
    "start_time": "2022-03-17T15:40:50.563Z"
   },
   {
    "duration": 6,
    "start_time": "2022-03-17T15:40:50.600Z"
   },
   {
    "duration": 19,
    "start_time": "2022-03-17T15:40:50.608Z"
   },
   {
    "duration": 12,
    "start_time": "2022-03-17T15:40:50.629Z"
   },
   {
    "duration": 20,
    "start_time": "2022-03-17T15:40:50.643Z"
   },
   {
    "duration": 22,
    "start_time": "2022-03-17T15:40:50.685Z"
   },
   {
    "duration": 75,
    "start_time": "2022-03-17T15:40:50.709Z"
   },
   {
    "duration": 11,
    "start_time": "2022-03-17T15:40:50.786Z"
   },
   {
    "duration": 22,
    "start_time": "2022-03-17T15:40:50.800Z"
   },
   {
    "duration": 787,
    "start_time": "2022-03-17T15:40:50.825Z"
   },
   {
    "duration": 754,
    "start_time": "2022-03-17T15:40:51.614Z"
   },
   {
    "duration": 900,
    "start_time": "2022-03-17T15:40:52.370Z"
   },
   {
    "duration": 864,
    "start_time": "2022-03-17T15:40:53.272Z"
   },
   {
    "duration": 703,
    "start_time": "2022-03-17T15:40:54.139Z"
   },
   {
    "duration": 45,
    "start_time": "2022-03-17T15:40:54.844Z"
   },
   {
    "duration": 6,
    "start_time": "2022-03-17T15:40:54.891Z"
   },
   {
    "duration": 40,
    "start_time": "2022-03-17T15:40:54.900Z"
   },
   {
    "duration": 27,
    "start_time": "2022-03-17T15:40:58.698Z"
   },
   {
    "duration": 73,
    "start_time": "2022-03-17T15:40:58.830Z"
   },
   {
    "duration": 5,
    "start_time": "2022-03-17T15:41:26.135Z"
   },
   {
    "duration": 859,
    "start_time": "2022-03-17T15:41:26.143Z"
   },
   {
    "duration": 4,
    "start_time": "2022-03-17T15:41:27.005Z"
   },
   {
    "duration": 273,
    "start_time": "2022-03-17T15:41:27.012Z"
   },
   {
    "duration": 103,
    "start_time": "2022-03-17T15:41:27.288Z"
   },
   {
    "duration": 242,
    "start_time": "2022-03-17T15:41:27.393Z"
   },
   {
    "duration": 13,
    "start_time": "2022-03-17T15:41:27.637Z"
   },
   {
    "duration": 43,
    "start_time": "2022-03-17T15:41:27.653Z"
   },
   {
    "duration": 6,
    "start_time": "2022-03-17T15:41:27.699Z"
   },
   {
    "duration": 14,
    "start_time": "2022-03-17T15:41:27.707Z"
   },
   {
    "duration": 14,
    "start_time": "2022-03-17T15:41:27.723Z"
   },
   {
    "duration": 17,
    "start_time": "2022-03-17T15:41:27.739Z"
   },
   {
    "duration": 35,
    "start_time": "2022-03-17T15:41:27.758Z"
   },
   {
    "duration": 59,
    "start_time": "2022-03-17T15:41:27.796Z"
   },
   {
    "duration": 33,
    "start_time": "2022-03-17T15:41:27.857Z"
   },
   {
    "duration": 15,
    "start_time": "2022-03-17T15:41:27.892Z"
   },
   {
    "duration": 909,
    "start_time": "2022-03-17T15:41:27.910Z"
   },
   {
    "duration": 753,
    "start_time": "2022-03-17T15:41:28.822Z"
   },
   {
    "duration": 915,
    "start_time": "2022-03-17T15:41:29.578Z"
   },
   {
    "duration": 843,
    "start_time": "2022-03-17T15:41:30.495Z"
   },
   {
    "duration": 720,
    "start_time": "2022-03-17T15:41:31.341Z"
   },
   {
    "duration": 45,
    "start_time": "2022-03-17T15:41:32.064Z"
   },
   {
    "duration": 5,
    "start_time": "2022-03-17T15:41:32.111Z"
   },
   {
    "duration": 20,
    "start_time": "2022-03-17T15:41:35.062Z"
   },
   {
    "duration": 72,
    "start_time": "2022-03-17T15:41:37.120Z"
   },
   {
    "duration": 7,
    "start_time": "2022-03-17T15:41:50.103Z"
   },
   {
    "duration": 2665874,
    "start_time": "2022-03-17T15:41:53.710Z"
   },
   {
    "duration": 5,
    "start_time": "2022-03-17T16:28:26.855Z"
   },
   {
    "duration": 896,
    "start_time": "2022-03-17T16:28:26.864Z"
   },
   {
    "duration": 4,
    "start_time": "2022-03-17T16:28:27.763Z"
   },
   {
    "duration": 275,
    "start_time": "2022-03-17T16:28:27.771Z"
   },
   {
    "duration": 101,
    "start_time": "2022-03-17T16:28:28.049Z"
   },
   {
    "duration": 254,
    "start_time": "2022-03-17T16:28:28.152Z"
   },
   {
    "duration": 13,
    "start_time": "2022-03-17T16:28:28.409Z"
   },
   {
    "duration": 34,
    "start_time": "2022-03-17T16:28:28.425Z"
   },
   {
    "duration": 4,
    "start_time": "2022-03-17T16:28:28.463Z"
   },
   {
    "duration": 19,
    "start_time": "2022-03-17T16:28:28.469Z"
   },
   {
    "duration": 18,
    "start_time": "2022-03-17T16:28:28.490Z"
   },
   {
    "duration": 16,
    "start_time": "2022-03-17T16:28:28.511Z"
   },
   {
    "duration": 35,
    "start_time": "2022-03-17T16:28:28.529Z"
   },
   {
    "duration": 183,
    "start_time": "2022-03-17T16:28:28.567Z"
   },
   {
    "duration": 10,
    "start_time": "2022-03-17T16:28:28.752Z"
   },
   {
    "duration": 28,
    "start_time": "2022-03-17T16:28:28.765Z"
   },
   {
    "duration": 781,
    "start_time": "2022-03-17T16:28:28.795Z"
   },
   {
    "duration": 867,
    "start_time": "2022-03-17T16:28:29.578Z"
   },
   {
    "duration": 796,
    "start_time": "2022-03-17T16:28:30.447Z"
   },
   {
    "duration": 796,
    "start_time": "2022-03-17T16:28:31.245Z"
   },
   {
    "duration": 828,
    "start_time": "2022-03-17T16:28:32.044Z"
   },
   {
    "duration": 35,
    "start_time": "2022-03-17T16:28:32.874Z"
   },
   {
    "duration": 6,
    "start_time": "2022-03-17T16:28:32.912Z"
   },
   {
    "duration": 28,
    "start_time": "2022-03-17T16:28:32.923Z"
   },
   {
    "duration": 65,
    "start_time": "2022-03-17T16:28:32.953Z"
   },
   {
    "duration": 7,
    "start_time": "2022-03-17T16:28:33.020Z"
   },
   {
    "duration": 2727836,
    "start_time": "2022-03-17T16:28:33.029Z"
   },
   {
    "duration": 5,
    "start_time": "2022-03-17T17:38:17.271Z"
   },
   {
    "duration": 894,
    "start_time": "2022-03-17T17:38:17.279Z"
   },
   {
    "duration": 9,
    "start_time": "2022-03-17T17:38:18.176Z"
   },
   {
    "duration": 271,
    "start_time": "2022-03-17T17:38:18.187Z"
   },
   {
    "duration": 104,
    "start_time": "2022-03-17T17:38:18.461Z"
   },
   {
    "duration": 275,
    "start_time": "2022-03-17T17:38:18.568Z"
   },
   {
    "duration": 16,
    "start_time": "2022-03-17T17:38:18.845Z"
   },
   {
    "duration": 44,
    "start_time": "2022-03-17T17:38:18.863Z"
   },
   {
    "duration": 5,
    "start_time": "2022-03-17T17:38:18.909Z"
   },
   {
    "duration": 26,
    "start_time": "2022-03-17T17:38:18.916Z"
   },
   {
    "duration": 21,
    "start_time": "2022-03-17T17:38:18.948Z"
   },
   {
    "duration": 23,
    "start_time": "2022-03-17T17:38:18.972Z"
   },
   {
    "duration": 64,
    "start_time": "2022-03-17T17:38:18.998Z"
   },
   {
    "duration": 89,
    "start_time": "2022-03-17T17:38:19.064Z"
   },
   {
    "duration": 10,
    "start_time": "2022-03-17T17:38:19.155Z"
   },
   {
    "duration": 46,
    "start_time": "2022-03-17T17:38:19.167Z"
   },
   {
    "duration": 859,
    "start_time": "2022-03-17T17:38:19.214Z"
   },
   {
    "duration": 860,
    "start_time": "2022-03-17T17:38:20.075Z"
   },
   {
    "duration": 900,
    "start_time": "2022-03-17T17:38:20.937Z"
   },
   {
    "duration": 796,
    "start_time": "2022-03-17T17:38:21.839Z"
   },
   {
    "duration": 703,
    "start_time": "2022-03-17T17:38:22.637Z"
   },
   {
    "duration": 43,
    "start_time": "2022-03-17T17:38:23.343Z"
   },
   {
    "duration": 5,
    "start_time": "2022-03-17T17:38:23.389Z"
   },
   {
    "duration": 30,
    "start_time": "2022-03-17T17:38:23.396Z"
   },
   {
    "duration": 65,
    "start_time": "2022-03-17T17:38:23.428Z"
   },
   {
    "duration": 7,
    "start_time": "2022-03-17T17:38:23.495Z"
   },
   {
    "duration": 2708555,
    "start_time": "2022-03-17T17:38:23.504Z"
   },
   {
    "duration": 6,
    "start_time": "2022-03-17T18:23:32.061Z"
   },
   {
    "duration": 15,
    "start_time": "2022-03-17T18:23:32.087Z"
   },
   {
    "duration": 5525,
    "start_time": "2022-03-17T18:23:32.104Z"
   },
   {
    "duration": 13,
    "start_time": "2022-03-17T18:23:37.631Z"
   },
   {
    "duration": 6,
    "start_time": "2022-03-17T19:00:22.422Z"
   },
   {
    "duration": 8891,
    "start_time": "2022-03-17T19:00:37.533Z"
   },
   {
    "duration": 5,
    "start_time": "2022-03-17T19:01:03.197Z"
   },
   {
    "duration": 971,
    "start_time": "2022-03-17T19:01:03.205Z"
   },
   {
    "duration": 8,
    "start_time": "2022-03-17T19:01:04.178Z"
   },
   {
    "duration": 286,
    "start_time": "2022-03-17T19:01:04.190Z"
   },
   {
    "duration": 116,
    "start_time": "2022-03-17T19:01:04.484Z"
   },
   {
    "duration": 254,
    "start_time": "2022-03-17T19:01:04.602Z"
   },
   {
    "duration": 27,
    "start_time": "2022-03-17T19:01:04.858Z"
   },
   {
    "duration": 23,
    "start_time": "2022-03-17T19:01:04.888Z"
   },
   {
    "duration": 11,
    "start_time": "2022-03-17T19:01:04.915Z"
   },
   {
    "duration": 17,
    "start_time": "2022-03-17T19:01:04.929Z"
   },
   {
    "duration": 36,
    "start_time": "2022-03-17T19:01:04.949Z"
   },
   {
    "duration": 36,
    "start_time": "2022-03-17T19:01:04.990Z"
   },
   {
    "duration": 27,
    "start_time": "2022-03-17T19:01:05.029Z"
   },
   {
    "duration": 73,
    "start_time": "2022-03-17T19:01:05.059Z"
   },
   {
    "duration": 10,
    "start_time": "2022-03-17T19:01:05.135Z"
   },
   {
    "duration": 41,
    "start_time": "2022-03-17T19:01:05.148Z"
   },
   {
    "duration": 874,
    "start_time": "2022-03-17T19:01:05.193Z"
   },
   {
    "duration": 830,
    "start_time": "2022-03-17T19:01:06.069Z"
   },
   {
    "duration": 839,
    "start_time": "2022-03-17T19:01:06.904Z"
   },
   {
    "duration": 928,
    "start_time": "2022-03-17T19:01:07.746Z"
   },
   {
    "duration": 738,
    "start_time": "2022-03-17T19:01:08.677Z"
   },
   {
    "duration": 31,
    "start_time": "2022-03-17T19:01:09.417Z"
   },
   {
    "duration": 5,
    "start_time": "2022-03-17T19:01:09.450Z"
   },
   {
    "duration": 36,
    "start_time": "2022-03-17T19:01:09.460Z"
   },
   {
    "duration": 43,
    "start_time": "2022-03-17T19:01:09.499Z"
   },
   {
    "duration": 7,
    "start_time": "2022-03-17T19:01:09.544Z"
   },
   {
    "duration": 2905778,
    "start_time": "2022-03-17T19:01:09.586Z"
   },
   {
    "duration": 21,
    "start_time": "2022-03-17T19:49:35.367Z"
   },
   {
    "duration": 18,
    "start_time": "2022-03-17T19:49:35.391Z"
   },
   {
    "duration": 9097,
    "start_time": "2022-03-17T19:49:35.412Z"
   },
   {
    "duration": 14,
    "start_time": "2022-03-17T19:49:44.514Z"
   },
   {
    "duration": 72392,
    "start_time": "2022-03-18T08:58:54.148Z"
   },
   {
    "duration": 712,
    "start_time": "2022-03-18T09:00:06.542Z"
   },
   {
    "duration": 3,
    "start_time": "2022-03-18T09:00:07.255Z"
   },
   {
    "duration": 163,
    "start_time": "2022-03-18T09:00:07.260Z"
   },
   {
    "duration": 64,
    "start_time": "2022-03-18T09:00:07.425Z"
   },
   {
    "duration": 132,
    "start_time": "2022-03-18T09:00:07.490Z"
   },
   {
    "duration": 53,
    "start_time": "2022-03-18T09:00:07.624Z"
   },
   {
    "duration": 16,
    "start_time": "2022-03-18T09:00:07.678Z"
   },
   {
    "duration": 3,
    "start_time": "2022-03-18T09:00:07.696Z"
   },
   {
    "duration": 7,
    "start_time": "2022-03-18T09:00:07.702Z"
   },
   {
    "duration": 10,
    "start_time": "2022-03-18T09:00:07.710Z"
   },
   {
    "duration": 11,
    "start_time": "2022-03-18T09:00:07.722Z"
   },
   {
    "duration": 10,
    "start_time": "2022-03-18T09:14:02.004Z"
   },
   {
    "duration": 36,
    "start_time": "2022-03-18T09:14:03.155Z"
   },
   {
    "duration": 7,
    "start_time": "2022-03-18T09:14:05.906Z"
   },
   {
    "duration": 10,
    "start_time": "2022-03-18T09:14:06.525Z"
   },
   {
    "duration": 405,
    "start_time": "2022-03-18T09:14:06.837Z"
   },
   {
    "duration": 449,
    "start_time": "2022-03-18T09:14:07.244Z"
   },
   {
    "duration": 408,
    "start_time": "2022-03-18T09:14:07.694Z"
   },
   {
    "duration": 535,
    "start_time": "2022-03-18T09:14:08.334Z"
   },
   {
    "duration": 339,
    "start_time": "2022-03-18T09:14:10.724Z"
   },
   {
    "duration": 24,
    "start_time": "2022-03-18T09:14:11.703Z"
   },
   {
    "duration": 4,
    "start_time": "2022-03-18T09:14:16.965Z"
   },
   {
    "duration": 25,
    "start_time": "2022-03-18T09:14:18.405Z"
   },
   {
    "duration": 23,
    "start_time": "2022-03-18T09:14:18.432Z"
   },
   {
    "duration": 6,
    "start_time": "2022-03-18T09:15:34.443Z"
   }
  ],
  "kernelspec": {
   "display_name": "Python 3 (ipykernel)",
   "language": "python",
   "name": "python3"
  },
  "language_info": {
   "codemirror_mode": {
    "name": "ipython",
    "version": 3
   },
   "file_extension": ".py",
   "mimetype": "text/x-python",
   "name": "python",
   "nbconvert_exporter": "python",
   "pygments_lexer": "ipython3",
   "version": "3.9.5"
  },
  "toc": {
   "base_numbering": 1,
   "nav_menu": {},
   "number_sections": true,
   "sideBar": true,
   "skip_h1_title": true,
   "title_cell": "Содержание",
   "title_sidebar": "Contents",
   "toc_cell": true,
   "toc_position": {},
   "toc_section_display": true,
   "toc_window_display": true
  }
 },
 "nbformat": 4,
 "nbformat_minor": 2
}
