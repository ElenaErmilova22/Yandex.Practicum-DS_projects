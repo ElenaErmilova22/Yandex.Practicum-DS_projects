{
 "cells": [
  {
   "cell_type": "markdown",
   "metadata": {
    "toc": true
   },
   "source": [
    "<h1>Содержание<span class=\"tocSkip\"></span></h1>\n",
    "<div class=\"toc\"><ul class=\"toc-item\"><li><span><a href=\"#Аннотация:-прогнозирование-оттока-клиентов-банка\" data-toc-modified-id=\"Аннотация:-прогнозирование-оттока-клиентов-банка-1\"><span class=\"toc-item-num\">1&nbsp;&nbsp;</span>Аннотация: прогнозирование оттока клиентов банка</a></span></li><li><span><a href=\"#Знакомство-с-данными\" data-toc-modified-id=\"Знакомство-с-данными-2\"><span class=\"toc-item-num\">2&nbsp;&nbsp;</span>Знакомство с данными</a></span><ul class=\"toc-item\"><li><span><a href=\"#Вывод\" data-toc-modified-id=\"Вывод-2.1\"><span class=\"toc-item-num\">2.1&nbsp;&nbsp;</span>Вывод</a></span></li></ul></li><li><span><a href=\"#Предобработка-данных\" data-toc-modified-id=\"Предобработка-данных-3\"><span class=\"toc-item-num\">3&nbsp;&nbsp;</span>Предобработка данных</a></span><ul class=\"toc-item\"><li><span><a href=\"#Корректировка-регистров-и-удаление-избыточных-данных\" data-toc-modified-id=\"Корректировка-регистров-и-удаление-избыточных-данных-3.1\"><span class=\"toc-item-num\">3.1&nbsp;&nbsp;</span>Корректировка регистров и удаление избыточных данных</a></span></li><li><span><a href=\"#Обработка-пропусков\" data-toc-modified-id=\"Обработка-пропусков-3.2\"><span class=\"toc-item-num\">3.2&nbsp;&nbsp;</span>Обработка пропусков</a></span></li><li><span><a href=\"#Преобразование-категориальных-признаков.\" data-toc-modified-id=\"Преобразование-категориальных-признаков.-3.3\"><span class=\"toc-item-num\">3.3&nbsp;&nbsp;</span>Преобразование категориальных признаков.</a></span></li><li><span><a href=\"#Вывод:\" data-toc-modified-id=\"Вывод:-3.4\"><span class=\"toc-item-num\">3.4&nbsp;&nbsp;</span>Вывод:</a></span></li></ul></li><li><span><a href=\"#Подготовка-данных-для-машинного-обучения\" data-toc-modified-id=\"Подготовка-данных-для-машинного-обучения-4\"><span class=\"toc-item-num\">4&nbsp;&nbsp;</span>Подготовка данных для машинного обучения</a></span><ul class=\"toc-item\"><li><span><a href=\"#Проверка-сбалансированности-классов\" data-toc-modified-id=\"Проверка-сбалансированности-классов-4.1\"><span class=\"toc-item-num\">4.1&nbsp;&nbsp;</span>Проверка сбалансированности классов</a></span></li><li><span><a href=\"#Разделение-данных-на-выборки\" data-toc-modified-id=\"Разделение-данных-на-выборки-4.2\"><span class=\"toc-item-num\">4.2&nbsp;&nbsp;</span>Разделение данных на выборки</a></span></li><li><span><a href=\"#Масштабирование-численных-признаков.\" data-toc-modified-id=\"Масштабирование-численных-признаков.-4.3\"><span class=\"toc-item-num\">4.3&nbsp;&nbsp;</span>Масштабирование численных признаков.</a></span></li><li><span><a href=\"#Вывод:\" data-toc-modified-id=\"Вывод:-4.4\"><span class=\"toc-item-num\">4.4&nbsp;&nbsp;</span>Вывод:</a></span></li></ul></li><li><span><a href=\"#Модели-без-учета-дисбаланса\" data-toc-modified-id=\"Модели-без-учета-дисбаланса-5\"><span class=\"toc-item-num\">5&nbsp;&nbsp;</span>Модели без учета дисбаланса</a></span><ul class=\"toc-item\"><li><span><a href=\"#Вывод:\" data-toc-modified-id=\"Вывод:-5.1\"><span class=\"toc-item-num\">5.1&nbsp;&nbsp;</span>Вывод:</a></span></li></ul></li><li><span><a href=\"#Борьба-с-дисбалансом\" data-toc-modified-id=\"Борьба-с-дисбалансом-6\"><span class=\"toc-item-num\">6&nbsp;&nbsp;</span>Борьба с дисбалансом</a></span><ul class=\"toc-item\"><li><span><a href=\"#Вывод:\" data-toc-modified-id=\"Вывод:-6.1\"><span class=\"toc-item-num\">6.1&nbsp;&nbsp;</span>Вывод:</a></span></li></ul></li><li><span><a href=\"#Обучение-моделей-на-увеличенной-выборке\" data-toc-modified-id=\"Обучение-моделей-на-увеличенной-выборке-7\"><span class=\"toc-item-num\">7&nbsp;&nbsp;</span>Обучение моделей на увеличенной выборке</a></span><ul class=\"toc-item\"><li><span><a href=\"#Вывод:\" data-toc-modified-id=\"Вывод:-7.1\"><span class=\"toc-item-num\">7.1&nbsp;&nbsp;</span>Вывод:</a></span></li></ul></li><li><span><a href=\"#Тестирование-моделей\" data-toc-modified-id=\"Тестирование-моделей-8\"><span class=\"toc-item-num\">8&nbsp;&nbsp;</span>Тестирование моделей</a></span><ul class=\"toc-item\"><li><span><a href=\"#Вывод:\" data-toc-modified-id=\"Вывод:-8.1\"><span class=\"toc-item-num\">8.1&nbsp;&nbsp;</span>Вывод:</a></span></li></ul></li><li><span><a href=\"#Итоговые-выводы\" data-toc-modified-id=\"Итоговые-выводы-9\"><span class=\"toc-item-num\">9&nbsp;&nbsp;</span>Итоговые выводы</a></span></li><li><span><a href=\"#Чек-лист-готовности-проекта\" data-toc-modified-id=\"Чек-лист-готовности-проекта-10\"><span class=\"toc-item-num\">10&nbsp;&nbsp;</span>Чек-лист готовности проекта</a></span></li></ul></div>"
   ]
  },
  {
   "cell_type": "markdown",
   "metadata": {},
   "source": [
    "## Аннотация: прогнозирование оттока клиентов банка"
   ]
  },
  {
   "cell_type": "markdown",
   "metadata": {},
   "source": [
    "Из «Бета-Банка» стали ежемесячно уходить клиенты. Банковские маркетологи посчитали: сохранять текущих клиентов дешевле, чем привлекать новых. На основании исторических данных о поведении клиентов «Бета-Банка» и расторжении договоров с банком нужно спрогнозировать уйдёт клиент из банка в ближайшее время или нет.\n",
    "\n",
    "**Цель проекта:** построить модель, которая предскажет уход клиента в краткосрочном периоде.\n",
    "\n",
    "**Задача проекта**: построить модель с предельно большим значением F1-меры (не менее 0.59)."
   ]
  },
  {
   "cell_type": "markdown",
   "metadata": {},
   "source": [
    "## Знакомство с данными"
   ]
  },
  {
   "cell_type": "code",
   "execution_count": 15,
   "metadata": {},
   "outputs": [],
   "source": [
    "#импортируем библиотеки, которые понадобятся нам в исследовании\n",
    "import pandas as pd\n",
    "import matplotlib.pyplot as plt\n",
    "import warnings\n",
    "from sklearn.model_selection import train_test_split\n",
    "from sklearn.tree import DecisionTreeClassifier\n",
    "from sklearn.ensemble import RandomForestClassifier\n",
    "from sklearn.linear_model import LogisticRegression\n",
    "from sklearn.metrics import f1_score, roc_auc_score\n",
    "from sklearn.utils import shuffle\n",
    "from sklearn.preprocessing import StandardScaler"
   ]
  },
  {
   "cell_type": "code",
   "execution_count": 16,
   "metadata": {},
   "outputs": [
    {
     "name": "stdout",
     "output_type": "stream",
     "text": [
      "<class 'pandas.core.frame.DataFrame'>\n",
      "RangeIndex: 10000 entries, 0 to 9999\n",
      "Data columns (total 14 columns):\n",
      "RowNumber          10000 non-null int64\n",
      "CustomerId         10000 non-null int64\n",
      "Surname            10000 non-null object\n",
      "CreditScore        10000 non-null int64\n",
      "Geography          10000 non-null object\n",
      "Gender             10000 non-null object\n",
      "Age                10000 non-null int64\n",
      "Tenure             9091 non-null float64\n",
      "Balance            10000 non-null float64\n",
      "NumOfProducts      10000 non-null int64\n",
      "HasCrCard          10000 non-null int64\n",
      "IsActiveMember     10000 non-null int64\n",
      "EstimatedSalary    10000 non-null float64\n",
      "Exited             10000 non-null int64\n",
      "dtypes: float64(3), int64(8), object(3)\n",
      "memory usage: 1.1+ MB\n"
     ]
    }
   ],
   "source": [
    "initial_data = pd.read_csv('/datasets/Churn.csv') #применяем специальный метод для чтения файла формата csv\n",
    "initial_data.info() #запрашиваем и выводим общую информацию об исходном датафрейме"
   ]
  },
  {
   "cell_type": "code",
   "execution_count": 17,
   "metadata": {},
   "outputs": [
    {
     "data": {
      "text/html": [
       "<div>\n",
       "<style scoped>\n",
       "    .dataframe tbody tr th:only-of-type {\n",
       "        vertical-align: middle;\n",
       "    }\n",
       "\n",
       "    .dataframe tbody tr th {\n",
       "        vertical-align: top;\n",
       "    }\n",
       "\n",
       "    .dataframe thead th {\n",
       "        text-align: right;\n",
       "    }\n",
       "</style>\n",
       "<table border=\"1\" class=\"dataframe\">\n",
       "  <thead>\n",
       "    <tr style=\"text-align: right;\">\n",
       "      <th></th>\n",
       "      <th>RowNumber</th>\n",
       "      <th>CustomerId</th>\n",
       "      <th>Surname</th>\n",
       "      <th>CreditScore</th>\n",
       "      <th>Geography</th>\n",
       "      <th>Gender</th>\n",
       "      <th>Age</th>\n",
       "      <th>Tenure</th>\n",
       "      <th>Balance</th>\n",
       "      <th>NumOfProducts</th>\n",
       "      <th>HasCrCard</th>\n",
       "      <th>IsActiveMember</th>\n",
       "      <th>EstimatedSalary</th>\n",
       "      <th>Exited</th>\n",
       "    </tr>\n",
       "  </thead>\n",
       "  <tbody>\n",
       "    <tr>\n",
       "      <td>0</td>\n",
       "      <td>1</td>\n",
       "      <td>15634602</td>\n",
       "      <td>Hargrave</td>\n",
       "      <td>619</td>\n",
       "      <td>France</td>\n",
       "      <td>Female</td>\n",
       "      <td>42</td>\n",
       "      <td>2.0</td>\n",
       "      <td>0.00</td>\n",
       "      <td>1</td>\n",
       "      <td>1</td>\n",
       "      <td>1</td>\n",
       "      <td>101348.88</td>\n",
       "      <td>1</td>\n",
       "    </tr>\n",
       "    <tr>\n",
       "      <td>1</td>\n",
       "      <td>2</td>\n",
       "      <td>15647311</td>\n",
       "      <td>Hill</td>\n",
       "      <td>608</td>\n",
       "      <td>Spain</td>\n",
       "      <td>Female</td>\n",
       "      <td>41</td>\n",
       "      <td>1.0</td>\n",
       "      <td>83807.86</td>\n",
       "      <td>1</td>\n",
       "      <td>0</td>\n",
       "      <td>1</td>\n",
       "      <td>112542.58</td>\n",
       "      <td>0</td>\n",
       "    </tr>\n",
       "    <tr>\n",
       "      <td>2</td>\n",
       "      <td>3</td>\n",
       "      <td>15619304</td>\n",
       "      <td>Onio</td>\n",
       "      <td>502</td>\n",
       "      <td>France</td>\n",
       "      <td>Female</td>\n",
       "      <td>42</td>\n",
       "      <td>8.0</td>\n",
       "      <td>159660.80</td>\n",
       "      <td>3</td>\n",
       "      <td>1</td>\n",
       "      <td>0</td>\n",
       "      <td>113931.57</td>\n",
       "      <td>1</td>\n",
       "    </tr>\n",
       "    <tr>\n",
       "      <td>3</td>\n",
       "      <td>4</td>\n",
       "      <td>15701354</td>\n",
       "      <td>Boni</td>\n",
       "      <td>699</td>\n",
       "      <td>France</td>\n",
       "      <td>Female</td>\n",
       "      <td>39</td>\n",
       "      <td>1.0</td>\n",
       "      <td>0.00</td>\n",
       "      <td>2</td>\n",
       "      <td>0</td>\n",
       "      <td>0</td>\n",
       "      <td>93826.63</td>\n",
       "      <td>0</td>\n",
       "    </tr>\n",
       "    <tr>\n",
       "      <td>4</td>\n",
       "      <td>5</td>\n",
       "      <td>15737888</td>\n",
       "      <td>Mitchell</td>\n",
       "      <td>850</td>\n",
       "      <td>Spain</td>\n",
       "      <td>Female</td>\n",
       "      <td>43</td>\n",
       "      <td>2.0</td>\n",
       "      <td>125510.82</td>\n",
       "      <td>1</td>\n",
       "      <td>1</td>\n",
       "      <td>1</td>\n",
       "      <td>79084.10</td>\n",
       "      <td>0</td>\n",
       "    </tr>\n",
       "    <tr>\n",
       "      <td>5</td>\n",
       "      <td>6</td>\n",
       "      <td>15574012</td>\n",
       "      <td>Chu</td>\n",
       "      <td>645</td>\n",
       "      <td>Spain</td>\n",
       "      <td>Male</td>\n",
       "      <td>44</td>\n",
       "      <td>8.0</td>\n",
       "      <td>113755.78</td>\n",
       "      <td>2</td>\n",
       "      <td>1</td>\n",
       "      <td>0</td>\n",
       "      <td>149756.71</td>\n",
       "      <td>1</td>\n",
       "    </tr>\n",
       "    <tr>\n",
       "      <td>6</td>\n",
       "      <td>7</td>\n",
       "      <td>15592531</td>\n",
       "      <td>Bartlett</td>\n",
       "      <td>822</td>\n",
       "      <td>France</td>\n",
       "      <td>Male</td>\n",
       "      <td>50</td>\n",
       "      <td>7.0</td>\n",
       "      <td>0.00</td>\n",
       "      <td>2</td>\n",
       "      <td>1</td>\n",
       "      <td>1</td>\n",
       "      <td>10062.80</td>\n",
       "      <td>0</td>\n",
       "    </tr>\n",
       "    <tr>\n",
       "      <td>7</td>\n",
       "      <td>8</td>\n",
       "      <td>15656148</td>\n",
       "      <td>Obinna</td>\n",
       "      <td>376</td>\n",
       "      <td>Germany</td>\n",
       "      <td>Female</td>\n",
       "      <td>29</td>\n",
       "      <td>4.0</td>\n",
       "      <td>115046.74</td>\n",
       "      <td>4</td>\n",
       "      <td>1</td>\n",
       "      <td>0</td>\n",
       "      <td>119346.88</td>\n",
       "      <td>1</td>\n",
       "    </tr>\n",
       "    <tr>\n",
       "      <td>8</td>\n",
       "      <td>9</td>\n",
       "      <td>15792365</td>\n",
       "      <td>He</td>\n",
       "      <td>501</td>\n",
       "      <td>France</td>\n",
       "      <td>Male</td>\n",
       "      <td>44</td>\n",
       "      <td>4.0</td>\n",
       "      <td>142051.07</td>\n",
       "      <td>2</td>\n",
       "      <td>0</td>\n",
       "      <td>1</td>\n",
       "      <td>74940.50</td>\n",
       "      <td>0</td>\n",
       "    </tr>\n",
       "    <tr>\n",
       "      <td>9</td>\n",
       "      <td>10</td>\n",
       "      <td>15592389</td>\n",
       "      <td>H?</td>\n",
       "      <td>684</td>\n",
       "      <td>France</td>\n",
       "      <td>Male</td>\n",
       "      <td>27</td>\n",
       "      <td>2.0</td>\n",
       "      <td>134603.88</td>\n",
       "      <td>1</td>\n",
       "      <td>1</td>\n",
       "      <td>1</td>\n",
       "      <td>71725.73</td>\n",
       "      <td>0</td>\n",
       "    </tr>\n",
       "  </tbody>\n",
       "</table>\n",
       "</div>"
      ],
      "text/plain": [
       "   RowNumber  CustomerId   Surname  CreditScore Geography  Gender  Age  \\\n",
       "0          1    15634602  Hargrave          619    France  Female   42   \n",
       "1          2    15647311      Hill          608     Spain  Female   41   \n",
       "2          3    15619304      Onio          502    France  Female   42   \n",
       "3          4    15701354      Boni          699    France  Female   39   \n",
       "4          5    15737888  Mitchell          850     Spain  Female   43   \n",
       "5          6    15574012       Chu          645     Spain    Male   44   \n",
       "6          7    15592531  Bartlett          822    France    Male   50   \n",
       "7          8    15656148    Obinna          376   Germany  Female   29   \n",
       "8          9    15792365        He          501    France    Male   44   \n",
       "9         10    15592389        H?          684    France    Male   27   \n",
       "\n",
       "   Tenure    Balance  NumOfProducts  HasCrCard  IsActiveMember  \\\n",
       "0     2.0       0.00              1          1               1   \n",
       "1     1.0   83807.86              1          0               1   \n",
       "2     8.0  159660.80              3          1               0   \n",
       "3     1.0       0.00              2          0               0   \n",
       "4     2.0  125510.82              1          1               1   \n",
       "5     8.0  113755.78              2          1               0   \n",
       "6     7.0       0.00              2          1               1   \n",
       "7     4.0  115046.74              4          1               0   \n",
       "8     4.0  142051.07              2          0               1   \n",
       "9     2.0  134603.88              1          1               1   \n",
       "\n",
       "   EstimatedSalary  Exited  \n",
       "0        101348.88       1  \n",
       "1        112542.58       0  \n",
       "2        113931.57       1  \n",
       "3         93826.63       0  \n",
       "4         79084.10       0  \n",
       "5        149756.71       1  \n",
       "6         10062.80       0  \n",
       "7        119346.88       1  \n",
       "8         74940.50       0  \n",
       "9         71725.73       0  "
      ]
     },
     "metadata": {},
     "output_type": "display_data"
    }
   ],
   "source": [
    "#произведем обзор полученных данных, вызвав 10 верхних и нижних строк датафрейма\n",
    "display(initial_data.head(10))"
   ]
  },
  {
   "cell_type": "code",
   "execution_count": 18,
   "metadata": {},
   "outputs": [
    {
     "data": {
      "text/html": [
       "<div>\n",
       "<style scoped>\n",
       "    .dataframe tbody tr th:only-of-type {\n",
       "        vertical-align: middle;\n",
       "    }\n",
       "\n",
       "    .dataframe tbody tr th {\n",
       "        vertical-align: top;\n",
       "    }\n",
       "\n",
       "    .dataframe thead th {\n",
       "        text-align: right;\n",
       "    }\n",
       "</style>\n",
       "<table border=\"1\" class=\"dataframe\">\n",
       "  <thead>\n",
       "    <tr style=\"text-align: right;\">\n",
       "      <th></th>\n",
       "      <th>RowNumber</th>\n",
       "      <th>CustomerId</th>\n",
       "      <th>Surname</th>\n",
       "      <th>CreditScore</th>\n",
       "      <th>Geography</th>\n",
       "      <th>Gender</th>\n",
       "      <th>Age</th>\n",
       "      <th>Tenure</th>\n",
       "      <th>Balance</th>\n",
       "      <th>NumOfProducts</th>\n",
       "      <th>HasCrCard</th>\n",
       "      <th>IsActiveMember</th>\n",
       "      <th>EstimatedSalary</th>\n",
       "      <th>Exited</th>\n",
       "    </tr>\n",
       "  </thead>\n",
       "  <tbody>\n",
       "    <tr>\n",
       "      <td>9990</td>\n",
       "      <td>9991</td>\n",
       "      <td>15798964</td>\n",
       "      <td>Nkemakonam</td>\n",
       "      <td>714</td>\n",
       "      <td>Germany</td>\n",
       "      <td>Male</td>\n",
       "      <td>33</td>\n",
       "      <td>3.0</td>\n",
       "      <td>35016.60</td>\n",
       "      <td>1</td>\n",
       "      <td>1</td>\n",
       "      <td>0</td>\n",
       "      <td>53667.08</td>\n",
       "      <td>0</td>\n",
       "    </tr>\n",
       "    <tr>\n",
       "      <td>9991</td>\n",
       "      <td>9992</td>\n",
       "      <td>15769959</td>\n",
       "      <td>Ajuluchukwu</td>\n",
       "      <td>597</td>\n",
       "      <td>France</td>\n",
       "      <td>Female</td>\n",
       "      <td>53</td>\n",
       "      <td>4.0</td>\n",
       "      <td>88381.21</td>\n",
       "      <td>1</td>\n",
       "      <td>1</td>\n",
       "      <td>0</td>\n",
       "      <td>69384.71</td>\n",
       "      <td>1</td>\n",
       "    </tr>\n",
       "    <tr>\n",
       "      <td>9992</td>\n",
       "      <td>9993</td>\n",
       "      <td>15657105</td>\n",
       "      <td>Chukwualuka</td>\n",
       "      <td>726</td>\n",
       "      <td>Spain</td>\n",
       "      <td>Male</td>\n",
       "      <td>36</td>\n",
       "      <td>2.0</td>\n",
       "      <td>0.00</td>\n",
       "      <td>1</td>\n",
       "      <td>1</td>\n",
       "      <td>0</td>\n",
       "      <td>195192.40</td>\n",
       "      <td>0</td>\n",
       "    </tr>\n",
       "    <tr>\n",
       "      <td>9993</td>\n",
       "      <td>9994</td>\n",
       "      <td>15569266</td>\n",
       "      <td>Rahman</td>\n",
       "      <td>644</td>\n",
       "      <td>France</td>\n",
       "      <td>Male</td>\n",
       "      <td>28</td>\n",
       "      <td>7.0</td>\n",
       "      <td>155060.41</td>\n",
       "      <td>1</td>\n",
       "      <td>1</td>\n",
       "      <td>0</td>\n",
       "      <td>29179.52</td>\n",
       "      <td>0</td>\n",
       "    </tr>\n",
       "    <tr>\n",
       "      <td>9994</td>\n",
       "      <td>9995</td>\n",
       "      <td>15719294</td>\n",
       "      <td>Wood</td>\n",
       "      <td>800</td>\n",
       "      <td>France</td>\n",
       "      <td>Female</td>\n",
       "      <td>29</td>\n",
       "      <td>2.0</td>\n",
       "      <td>0.00</td>\n",
       "      <td>2</td>\n",
       "      <td>0</td>\n",
       "      <td>0</td>\n",
       "      <td>167773.55</td>\n",
       "      <td>0</td>\n",
       "    </tr>\n",
       "    <tr>\n",
       "      <td>9995</td>\n",
       "      <td>9996</td>\n",
       "      <td>15606229</td>\n",
       "      <td>Obijiaku</td>\n",
       "      <td>771</td>\n",
       "      <td>France</td>\n",
       "      <td>Male</td>\n",
       "      <td>39</td>\n",
       "      <td>5.0</td>\n",
       "      <td>0.00</td>\n",
       "      <td>2</td>\n",
       "      <td>1</td>\n",
       "      <td>0</td>\n",
       "      <td>96270.64</td>\n",
       "      <td>0</td>\n",
       "    </tr>\n",
       "    <tr>\n",
       "      <td>9996</td>\n",
       "      <td>9997</td>\n",
       "      <td>15569892</td>\n",
       "      <td>Johnstone</td>\n",
       "      <td>516</td>\n",
       "      <td>France</td>\n",
       "      <td>Male</td>\n",
       "      <td>35</td>\n",
       "      <td>10.0</td>\n",
       "      <td>57369.61</td>\n",
       "      <td>1</td>\n",
       "      <td>1</td>\n",
       "      <td>1</td>\n",
       "      <td>101699.77</td>\n",
       "      <td>0</td>\n",
       "    </tr>\n",
       "    <tr>\n",
       "      <td>9997</td>\n",
       "      <td>9998</td>\n",
       "      <td>15584532</td>\n",
       "      <td>Liu</td>\n",
       "      <td>709</td>\n",
       "      <td>France</td>\n",
       "      <td>Female</td>\n",
       "      <td>36</td>\n",
       "      <td>7.0</td>\n",
       "      <td>0.00</td>\n",
       "      <td>1</td>\n",
       "      <td>0</td>\n",
       "      <td>1</td>\n",
       "      <td>42085.58</td>\n",
       "      <td>1</td>\n",
       "    </tr>\n",
       "    <tr>\n",
       "      <td>9998</td>\n",
       "      <td>9999</td>\n",
       "      <td>15682355</td>\n",
       "      <td>Sabbatini</td>\n",
       "      <td>772</td>\n",
       "      <td>Germany</td>\n",
       "      <td>Male</td>\n",
       "      <td>42</td>\n",
       "      <td>3.0</td>\n",
       "      <td>75075.31</td>\n",
       "      <td>2</td>\n",
       "      <td>1</td>\n",
       "      <td>0</td>\n",
       "      <td>92888.52</td>\n",
       "      <td>1</td>\n",
       "    </tr>\n",
       "    <tr>\n",
       "      <td>9999</td>\n",
       "      <td>10000</td>\n",
       "      <td>15628319</td>\n",
       "      <td>Walker</td>\n",
       "      <td>792</td>\n",
       "      <td>France</td>\n",
       "      <td>Female</td>\n",
       "      <td>28</td>\n",
       "      <td>NaN</td>\n",
       "      <td>130142.79</td>\n",
       "      <td>1</td>\n",
       "      <td>1</td>\n",
       "      <td>0</td>\n",
       "      <td>38190.78</td>\n",
       "      <td>0</td>\n",
       "    </tr>\n",
       "  </tbody>\n",
       "</table>\n",
       "</div>"
      ],
      "text/plain": [
       "      RowNumber  CustomerId      Surname  CreditScore Geography  Gender  Age  \\\n",
       "9990       9991    15798964   Nkemakonam          714   Germany    Male   33   \n",
       "9991       9992    15769959  Ajuluchukwu          597    France  Female   53   \n",
       "9992       9993    15657105  Chukwualuka          726     Spain    Male   36   \n",
       "9993       9994    15569266       Rahman          644    France    Male   28   \n",
       "9994       9995    15719294         Wood          800    France  Female   29   \n",
       "9995       9996    15606229     Obijiaku          771    France    Male   39   \n",
       "9996       9997    15569892    Johnstone          516    France    Male   35   \n",
       "9997       9998    15584532          Liu          709    France  Female   36   \n",
       "9998       9999    15682355    Sabbatini          772   Germany    Male   42   \n",
       "9999      10000    15628319       Walker          792    France  Female   28   \n",
       "\n",
       "      Tenure    Balance  NumOfProducts  HasCrCard  IsActiveMember  \\\n",
       "9990     3.0   35016.60              1          1               0   \n",
       "9991     4.0   88381.21              1          1               0   \n",
       "9992     2.0       0.00              1          1               0   \n",
       "9993     7.0  155060.41              1          1               0   \n",
       "9994     2.0       0.00              2          0               0   \n",
       "9995     5.0       0.00              2          1               0   \n",
       "9996    10.0   57369.61              1          1               1   \n",
       "9997     7.0       0.00              1          0               1   \n",
       "9998     3.0   75075.31              2          1               0   \n",
       "9999     NaN  130142.79              1          1               0   \n",
       "\n",
       "      EstimatedSalary  Exited  \n",
       "9990         53667.08       0  \n",
       "9991         69384.71       1  \n",
       "9992        195192.40       0  \n",
       "9993         29179.52       0  \n",
       "9994        167773.55       0  \n",
       "9995         96270.64       0  \n",
       "9996        101699.77       0  \n",
       "9997         42085.58       1  \n",
       "9998         92888.52       1  \n",
       "9999         38190.78       0  "
      ]
     },
     "metadata": {},
     "output_type": "display_data"
    }
   ],
   "source": [
    "display(initial_data.tail(10))"
   ]
  },
  {
   "cell_type": "code",
   "execution_count": 19,
   "metadata": {},
   "outputs": [
    {
     "data": {
      "text/html": [
       "<div>\n",
       "<style scoped>\n",
       "    .dataframe tbody tr th:only-of-type {\n",
       "        vertical-align: middle;\n",
       "    }\n",
       "\n",
       "    .dataframe tbody tr th {\n",
       "        vertical-align: top;\n",
       "    }\n",
       "\n",
       "    .dataframe thead th {\n",
       "        text-align: right;\n",
       "    }\n",
       "</style>\n",
       "<table border=\"1\" class=\"dataframe\">\n",
       "  <thead>\n",
       "    <tr style=\"text-align: right;\">\n",
       "      <th></th>\n",
       "      <th>RowNumber</th>\n",
       "      <th>CustomerId</th>\n",
       "      <th>CreditScore</th>\n",
       "      <th>Age</th>\n",
       "      <th>Tenure</th>\n",
       "      <th>Balance</th>\n",
       "      <th>NumOfProducts</th>\n",
       "      <th>HasCrCard</th>\n",
       "      <th>IsActiveMember</th>\n",
       "      <th>EstimatedSalary</th>\n",
       "      <th>Exited</th>\n",
       "    </tr>\n",
       "  </thead>\n",
       "  <tbody>\n",
       "    <tr>\n",
       "      <td>count</td>\n",
       "      <td>10000.00000</td>\n",
       "      <td>1.000000e+04</td>\n",
       "      <td>10000.000000</td>\n",
       "      <td>10000.000000</td>\n",
       "      <td>9091.000000</td>\n",
       "      <td>10000.000000</td>\n",
       "      <td>10000.000000</td>\n",
       "      <td>10000.00000</td>\n",
       "      <td>10000.000000</td>\n",
       "      <td>10000.000000</td>\n",
       "      <td>10000.000000</td>\n",
       "    </tr>\n",
       "    <tr>\n",
       "      <td>mean</td>\n",
       "      <td>5000.50000</td>\n",
       "      <td>1.569094e+07</td>\n",
       "      <td>650.528800</td>\n",
       "      <td>38.921800</td>\n",
       "      <td>4.997690</td>\n",
       "      <td>76485.889288</td>\n",
       "      <td>1.530200</td>\n",
       "      <td>0.70550</td>\n",
       "      <td>0.515100</td>\n",
       "      <td>100090.239881</td>\n",
       "      <td>0.203700</td>\n",
       "    </tr>\n",
       "    <tr>\n",
       "      <td>std</td>\n",
       "      <td>2886.89568</td>\n",
       "      <td>7.193619e+04</td>\n",
       "      <td>96.653299</td>\n",
       "      <td>10.487806</td>\n",
       "      <td>2.894723</td>\n",
       "      <td>62397.405202</td>\n",
       "      <td>0.581654</td>\n",
       "      <td>0.45584</td>\n",
       "      <td>0.499797</td>\n",
       "      <td>57510.492818</td>\n",
       "      <td>0.402769</td>\n",
       "    </tr>\n",
       "    <tr>\n",
       "      <td>min</td>\n",
       "      <td>1.00000</td>\n",
       "      <td>1.556570e+07</td>\n",
       "      <td>350.000000</td>\n",
       "      <td>18.000000</td>\n",
       "      <td>0.000000</td>\n",
       "      <td>0.000000</td>\n",
       "      <td>1.000000</td>\n",
       "      <td>0.00000</td>\n",
       "      <td>0.000000</td>\n",
       "      <td>11.580000</td>\n",
       "      <td>0.000000</td>\n",
       "    </tr>\n",
       "    <tr>\n",
       "      <td>25%</td>\n",
       "      <td>2500.75000</td>\n",
       "      <td>1.562853e+07</td>\n",
       "      <td>584.000000</td>\n",
       "      <td>32.000000</td>\n",
       "      <td>2.000000</td>\n",
       "      <td>0.000000</td>\n",
       "      <td>1.000000</td>\n",
       "      <td>0.00000</td>\n",
       "      <td>0.000000</td>\n",
       "      <td>51002.110000</td>\n",
       "      <td>0.000000</td>\n",
       "    </tr>\n",
       "    <tr>\n",
       "      <td>50%</td>\n",
       "      <td>5000.50000</td>\n",
       "      <td>1.569074e+07</td>\n",
       "      <td>652.000000</td>\n",
       "      <td>37.000000</td>\n",
       "      <td>5.000000</td>\n",
       "      <td>97198.540000</td>\n",
       "      <td>1.000000</td>\n",
       "      <td>1.00000</td>\n",
       "      <td>1.000000</td>\n",
       "      <td>100193.915000</td>\n",
       "      <td>0.000000</td>\n",
       "    </tr>\n",
       "    <tr>\n",
       "      <td>75%</td>\n",
       "      <td>7500.25000</td>\n",
       "      <td>1.575323e+07</td>\n",
       "      <td>718.000000</td>\n",
       "      <td>44.000000</td>\n",
       "      <td>7.000000</td>\n",
       "      <td>127644.240000</td>\n",
       "      <td>2.000000</td>\n",
       "      <td>1.00000</td>\n",
       "      <td>1.000000</td>\n",
       "      <td>149388.247500</td>\n",
       "      <td>0.000000</td>\n",
       "    </tr>\n",
       "    <tr>\n",
       "      <td>max</td>\n",
       "      <td>10000.00000</td>\n",
       "      <td>1.581569e+07</td>\n",
       "      <td>850.000000</td>\n",
       "      <td>92.000000</td>\n",
       "      <td>10.000000</td>\n",
       "      <td>250898.090000</td>\n",
       "      <td>4.000000</td>\n",
       "      <td>1.00000</td>\n",
       "      <td>1.000000</td>\n",
       "      <td>199992.480000</td>\n",
       "      <td>1.000000</td>\n",
       "    </tr>\n",
       "  </tbody>\n",
       "</table>\n",
       "</div>"
      ],
      "text/plain": [
       "         RowNumber    CustomerId   CreditScore           Age       Tenure  \\\n",
       "count  10000.00000  1.000000e+04  10000.000000  10000.000000  9091.000000   \n",
       "mean    5000.50000  1.569094e+07    650.528800     38.921800     4.997690   \n",
       "std     2886.89568  7.193619e+04     96.653299     10.487806     2.894723   \n",
       "min        1.00000  1.556570e+07    350.000000     18.000000     0.000000   \n",
       "25%     2500.75000  1.562853e+07    584.000000     32.000000     2.000000   \n",
       "50%     5000.50000  1.569074e+07    652.000000     37.000000     5.000000   \n",
       "75%     7500.25000  1.575323e+07    718.000000     44.000000     7.000000   \n",
       "max    10000.00000  1.581569e+07    850.000000     92.000000    10.000000   \n",
       "\n",
       "             Balance  NumOfProducts    HasCrCard  IsActiveMember  \\\n",
       "count   10000.000000   10000.000000  10000.00000    10000.000000   \n",
       "mean    76485.889288       1.530200      0.70550        0.515100   \n",
       "std     62397.405202       0.581654      0.45584        0.499797   \n",
       "min         0.000000       1.000000      0.00000        0.000000   \n",
       "25%         0.000000       1.000000      0.00000        0.000000   \n",
       "50%     97198.540000       1.000000      1.00000        1.000000   \n",
       "75%    127644.240000       2.000000      1.00000        1.000000   \n",
       "max    250898.090000       4.000000      1.00000        1.000000   \n",
       "\n",
       "       EstimatedSalary        Exited  \n",
       "count     10000.000000  10000.000000  \n",
       "mean     100090.239881      0.203700  \n",
       "std       57510.492818      0.402769  \n",
       "min          11.580000      0.000000  \n",
       "25%       51002.110000      0.000000  \n",
       "50%      100193.915000      0.000000  \n",
       "75%      149388.247500      0.000000  \n",
       "max      199992.480000      1.000000  "
      ]
     },
     "execution_count": 19,
     "metadata": {},
     "output_type": "execute_result"
    }
   ],
   "source": [
    "#вызовем метод describe() для изучения основных статистических характеристик полученных данных\n",
    "initial_data.describe()"
   ]
  },
  {
   "cell_type": "code",
   "execution_count": 20,
   "metadata": {},
   "outputs": [
    {
     "name": "stdout",
     "output_type": "stream",
     "text": [
      "0\n"
     ]
    }
   ],
   "source": [
    "#проверим данные на наличие явных дубликатов\n",
    "print(initial_data.duplicated().sum())"
   ]
  },
  {
   "cell_type": "markdown",
   "metadata": {},
   "source": [
    "### Вывод"
   ]
  },
  {
   "cell_type": "markdown",
   "metadata": {},
   "source": [
    "Всего в датафрейме 14 столбцов и 10000 строк.\n",
    "Знакомство с данными позволило выявить следующие проблемы, требующие решения:\n",
    "- пропущеные значения в столбце с данными о длительности отношений банка с клиентом (Tenure);\n",
    "- странные значения в столбце с фамилиями клиентов (например, \"Н?\" в 9 строке);\n",
    "- прыгающий регистр в названии столбцов;\n",
    "- некорректные как с точки зрения правил, так и с точки зрения логики и стиля названия некоторых столбцов;\n",
    "- избыточные данные (столбец с индексами строк RowNumber).\n",
    "\n",
    "Решим эти проблемы на этапе предобработки данных."
   ]
  },
  {
   "cell_type": "markdown",
   "metadata": {},
   "source": [
    "## Предобработка данных"
   ]
  },
  {
   "cell_type": "markdown",
   "metadata": {},
   "source": [
    "### Корректировка регистров и удаление избыточных данных"
   ]
  },
  {
   "cell_type": "markdown",
   "metadata": {},
   "source": [
    "Для начала удалим из таблицы столбцы, содержащие данные, которые не пригодятся нам в проекте. Так мы сможем сосредоточить внимание на важных признаках, а также снизить время обучения и действия моделей. \n",
    "\n",
    "Как уже было отмечено на этапе знакомства с данными, мы можем удалить столбец RowNumber. Кроме того для задачи исследования не понадобятся фамилии клиентов (к тому же, в соответствующем столбце есть некорректные значения) и их идентификационные номера."
   ]
  },
  {
   "cell_type": "code",
   "execution_count": 21,
   "metadata": {},
   "outputs": [],
   "source": [
    "initial_data = initial_data.drop(['RowNumber', 'CustomerId', 'Surname'], axis = 1) #избавляемся от избыточных данных"
   ]
  },
  {
   "cell_type": "markdown",
   "metadata": {},
   "source": [
    "Теперь приведем все символы в названиях оставшихся столбцов к нижнему регистру и переименуем некоторые из них."
   ]
  },
  {
   "cell_type": "code",
   "execution_count": 22,
   "metadata": {},
   "outputs": [
    {
     "data": {
      "text/html": [
       "<div>\n",
       "<style scoped>\n",
       "    .dataframe tbody tr th:only-of-type {\n",
       "        vertical-align: middle;\n",
       "    }\n",
       "\n",
       "    .dataframe tbody tr th {\n",
       "        vertical-align: top;\n",
       "    }\n",
       "\n",
       "    .dataframe thead th {\n",
       "        text-align: right;\n",
       "    }\n",
       "</style>\n",
       "<table border=\"1\" class=\"dataframe\">\n",
       "  <thead>\n",
       "    <tr style=\"text-align: right;\">\n",
       "      <th></th>\n",
       "      <th>credit_score</th>\n",
       "      <th>host_country</th>\n",
       "      <th>gender</th>\n",
       "      <th>age</th>\n",
       "      <th>tenure</th>\n",
       "      <th>balance</th>\n",
       "      <th>number_of_products</th>\n",
       "      <th>has_credit_card</th>\n",
       "      <th>is_active_member</th>\n",
       "      <th>estimated_salary</th>\n",
       "      <th>exited</th>\n",
       "    </tr>\n",
       "  </thead>\n",
       "  <tbody>\n",
       "    <tr>\n",
       "      <td>0</td>\n",
       "      <td>619</td>\n",
       "      <td>France</td>\n",
       "      <td>Female</td>\n",
       "      <td>42</td>\n",
       "      <td>2.0</td>\n",
       "      <td>0.00</td>\n",
       "      <td>1</td>\n",
       "      <td>1</td>\n",
       "      <td>1</td>\n",
       "      <td>101348.88</td>\n",
       "      <td>1</td>\n",
       "    </tr>\n",
       "    <tr>\n",
       "      <td>1</td>\n",
       "      <td>608</td>\n",
       "      <td>Spain</td>\n",
       "      <td>Female</td>\n",
       "      <td>41</td>\n",
       "      <td>1.0</td>\n",
       "      <td>83807.86</td>\n",
       "      <td>1</td>\n",
       "      <td>0</td>\n",
       "      <td>1</td>\n",
       "      <td>112542.58</td>\n",
       "      <td>0</td>\n",
       "    </tr>\n",
       "    <tr>\n",
       "      <td>2</td>\n",
       "      <td>502</td>\n",
       "      <td>France</td>\n",
       "      <td>Female</td>\n",
       "      <td>42</td>\n",
       "      <td>8.0</td>\n",
       "      <td>159660.80</td>\n",
       "      <td>3</td>\n",
       "      <td>1</td>\n",
       "      <td>0</td>\n",
       "      <td>113931.57</td>\n",
       "      <td>1</td>\n",
       "    </tr>\n",
       "    <tr>\n",
       "      <td>3</td>\n",
       "      <td>699</td>\n",
       "      <td>France</td>\n",
       "      <td>Female</td>\n",
       "      <td>39</td>\n",
       "      <td>1.0</td>\n",
       "      <td>0.00</td>\n",
       "      <td>2</td>\n",
       "      <td>0</td>\n",
       "      <td>0</td>\n",
       "      <td>93826.63</td>\n",
       "      <td>0</td>\n",
       "    </tr>\n",
       "    <tr>\n",
       "      <td>4</td>\n",
       "      <td>850</td>\n",
       "      <td>Spain</td>\n",
       "      <td>Female</td>\n",
       "      <td>43</td>\n",
       "      <td>2.0</td>\n",
       "      <td>125510.82</td>\n",
       "      <td>1</td>\n",
       "      <td>1</td>\n",
       "      <td>1</td>\n",
       "      <td>79084.10</td>\n",
       "      <td>0</td>\n",
       "    </tr>\n",
       "  </tbody>\n",
       "</table>\n",
       "</div>"
      ],
      "text/plain": [
       "   credit_score host_country  gender  age  tenure    balance  \\\n",
       "0           619       France  Female   42     2.0       0.00   \n",
       "1           608        Spain  Female   41     1.0   83807.86   \n",
       "2           502       France  Female   42     8.0  159660.80   \n",
       "3           699       France  Female   39     1.0       0.00   \n",
       "4           850        Spain  Female   43     2.0  125510.82   \n",
       "\n",
       "   number_of_products  has_credit_card  is_active_member  estimated_salary  \\\n",
       "0                   1                1                 1         101348.88   \n",
       "1                   1                0                 1         112542.58   \n",
       "2                   3                1                 0         113931.57   \n",
       "3                   2                0                 0          93826.63   \n",
       "4                   1                1                 1          79084.10   \n",
       "\n",
       "   exited  \n",
       "0       1  \n",
       "1       0  \n",
       "2       1  \n",
       "3       0  \n",
       "4       0  "
      ]
     },
     "metadata": {},
     "output_type": "display_data"
    }
   ],
   "source": [
    "initial_data.columns = initial_data.columns.str.lower() #приведем все названия столбцов к нижнему регистру\n",
    "initial_data = initial_data.rename(columns={'creditscore':'credit_score', 'geography':'host_country', 'hascrcard':'has_credit_card', \n",
    "                                   'isactivemember':'is_active_member', 'numofproducts':'number_of_products',\n",
    "                                    'estimatedsalary':'estimated_salary'}) #переименуем столбцы\n",
    "display(initial_data.head()) #проверим результат преобразований"
   ]
  },
  {
   "cell_type": "markdown",
   "metadata": {},
   "source": [
    "Теперь названия столбцов таблицы приведены к единому стилю и стали более читаемыми, а сама таблица уменьшилась и также стала удобнее для восприятия и дальнешего исследования. \n",
    "\n",
    "На следующем этапе обработаем имеющиеся в данных пропуски."
   ]
  },
  {
   "cell_type": "markdown",
   "metadata": {},
   "source": [
    "### Обработка пропусков"
   ]
  },
  {
   "cell_type": "markdown",
   "metadata": {},
   "source": [
    "Для начала определим, какую долю пропущенные значения в столбце tenure занимают от всех данных столбца."
   ]
  },
  {
   "cell_type": "code",
   "execution_count": 23,
   "metadata": {},
   "outputs": [
    {
     "name": "stdout",
     "output_type": "stream",
     "text": [
      "9.09\n"
     ]
    }
   ],
   "source": [
    "print(initial_data['tenure'].isna().sum()/initial_data.shape[0]*100)"
   ]
  },
  {
   "cell_type": "markdown",
   "metadata": {},
   "source": [
    "9% - довольно большая доля, однако в нашем распоряжении нет средств для того, чтобы с высокой точностью восстановить пропущенные данные. Замена на среднее или медианное значение исказит общую картину, в то же время признак tenure может быть связан с целевым признаком exited, поэтому после замены модели могут работать некорректно. \n",
    "\n",
    "В связи со всем выше изложенным, на мой взгляд, разумнее всего будет удалить из данных строки, содержащие пропущенные значения. Оставшихся после этого данных (90.91 %) вполне достаточно для выполнения поставленной задачи и достижения указанной цели."
   ]
  },
  {
   "cell_type": "code",
   "execution_count": 24,
   "metadata": {},
   "outputs": [],
   "source": [
    "initial_data = initial_data.dropna(subset =['tenure']) #удаляем строки с пропущенными значениями в указанном столбце\n",
    "initial_data ['tenure'] = initial_data ['tenure'].astype('int') #меняем тип данных в столбце на целочисленный"
   ]
  },
  {
   "cell_type": "markdown",
   "metadata": {},
   "source": [
    "Пропуски в данных устранены, кроме того скорректирован тип данных в столбце tenure. Теперь для удобства дальнейшей работы нужно преобразовать категориальные признаки."
   ]
  },
  {
   "cell_type": "markdown",
   "metadata": {},
   "source": [
    "### Преобразование категориальных признаков."
   ]
  },
  {
   "cell_type": "markdown",
   "metadata": {},
   "source": [
    "Преобразуем категориальные признаки в численные, используя технику прямого кодирования (OHE). Чтобы избежать дамми-ловушки, применим аргумент drop_first."
   ]
  },
  {
   "cell_type": "code",
   "execution_count": 25,
   "metadata": {
    "scrolled": true
   },
   "outputs": [
    {
     "data": {
      "text/html": [
       "<div>\n",
       "<style scoped>\n",
       "    .dataframe tbody tr th:only-of-type {\n",
       "        vertical-align: middle;\n",
       "    }\n",
       "\n",
       "    .dataframe tbody tr th {\n",
       "        vertical-align: top;\n",
       "    }\n",
       "\n",
       "    .dataframe thead th {\n",
       "        text-align: right;\n",
       "    }\n",
       "</style>\n",
       "<table border=\"1\" class=\"dataframe\">\n",
       "  <thead>\n",
       "    <tr style=\"text-align: right;\">\n",
       "      <th></th>\n",
       "      <th>credit_score</th>\n",
       "      <th>age</th>\n",
       "      <th>tenure</th>\n",
       "      <th>balance</th>\n",
       "      <th>number_of_products</th>\n",
       "      <th>has_credit_card</th>\n",
       "      <th>is_active_member</th>\n",
       "      <th>estimated_salary</th>\n",
       "      <th>exited</th>\n",
       "      <th>host_country_Germany</th>\n",
       "      <th>host_country_Spain</th>\n",
       "      <th>gender_Male</th>\n",
       "    </tr>\n",
       "  </thead>\n",
       "  <tbody>\n",
       "    <tr>\n",
       "      <td>0</td>\n",
       "      <td>619</td>\n",
       "      <td>42</td>\n",
       "      <td>2</td>\n",
       "      <td>0.00</td>\n",
       "      <td>1</td>\n",
       "      <td>1</td>\n",
       "      <td>1</td>\n",
       "      <td>101348.88</td>\n",
       "      <td>1</td>\n",
       "      <td>0</td>\n",
       "      <td>0</td>\n",
       "      <td>0</td>\n",
       "    </tr>\n",
       "    <tr>\n",
       "      <td>1</td>\n",
       "      <td>608</td>\n",
       "      <td>41</td>\n",
       "      <td>1</td>\n",
       "      <td>83807.86</td>\n",
       "      <td>1</td>\n",
       "      <td>0</td>\n",
       "      <td>1</td>\n",
       "      <td>112542.58</td>\n",
       "      <td>0</td>\n",
       "      <td>0</td>\n",
       "      <td>1</td>\n",
       "      <td>0</td>\n",
       "    </tr>\n",
       "    <tr>\n",
       "      <td>2</td>\n",
       "      <td>502</td>\n",
       "      <td>42</td>\n",
       "      <td>8</td>\n",
       "      <td>159660.80</td>\n",
       "      <td>3</td>\n",
       "      <td>1</td>\n",
       "      <td>0</td>\n",
       "      <td>113931.57</td>\n",
       "      <td>1</td>\n",
       "      <td>0</td>\n",
       "      <td>0</td>\n",
       "      <td>0</td>\n",
       "    </tr>\n",
       "    <tr>\n",
       "      <td>3</td>\n",
       "      <td>699</td>\n",
       "      <td>39</td>\n",
       "      <td>1</td>\n",
       "      <td>0.00</td>\n",
       "      <td>2</td>\n",
       "      <td>0</td>\n",
       "      <td>0</td>\n",
       "      <td>93826.63</td>\n",
       "      <td>0</td>\n",
       "      <td>0</td>\n",
       "      <td>0</td>\n",
       "      <td>0</td>\n",
       "    </tr>\n",
       "    <tr>\n",
       "      <td>4</td>\n",
       "      <td>850</td>\n",
       "      <td>43</td>\n",
       "      <td>2</td>\n",
       "      <td>125510.82</td>\n",
       "      <td>1</td>\n",
       "      <td>1</td>\n",
       "      <td>1</td>\n",
       "      <td>79084.10</td>\n",
       "      <td>0</td>\n",
       "      <td>0</td>\n",
       "      <td>1</td>\n",
       "      <td>0</td>\n",
       "    </tr>\n",
       "    <tr>\n",
       "      <td>5</td>\n",
       "      <td>645</td>\n",
       "      <td>44</td>\n",
       "      <td>8</td>\n",
       "      <td>113755.78</td>\n",
       "      <td>2</td>\n",
       "      <td>1</td>\n",
       "      <td>0</td>\n",
       "      <td>149756.71</td>\n",
       "      <td>1</td>\n",
       "      <td>0</td>\n",
       "      <td>1</td>\n",
       "      <td>1</td>\n",
       "    </tr>\n",
       "    <tr>\n",
       "      <td>6</td>\n",
       "      <td>822</td>\n",
       "      <td>50</td>\n",
       "      <td>7</td>\n",
       "      <td>0.00</td>\n",
       "      <td>2</td>\n",
       "      <td>1</td>\n",
       "      <td>1</td>\n",
       "      <td>10062.80</td>\n",
       "      <td>0</td>\n",
       "      <td>0</td>\n",
       "      <td>0</td>\n",
       "      <td>1</td>\n",
       "    </tr>\n",
       "    <tr>\n",
       "      <td>7</td>\n",
       "      <td>376</td>\n",
       "      <td>29</td>\n",
       "      <td>4</td>\n",
       "      <td>115046.74</td>\n",
       "      <td>4</td>\n",
       "      <td>1</td>\n",
       "      <td>0</td>\n",
       "      <td>119346.88</td>\n",
       "      <td>1</td>\n",
       "      <td>1</td>\n",
       "      <td>0</td>\n",
       "      <td>0</td>\n",
       "    </tr>\n",
       "    <tr>\n",
       "      <td>8</td>\n",
       "      <td>501</td>\n",
       "      <td>44</td>\n",
       "      <td>4</td>\n",
       "      <td>142051.07</td>\n",
       "      <td>2</td>\n",
       "      <td>0</td>\n",
       "      <td>1</td>\n",
       "      <td>74940.50</td>\n",
       "      <td>0</td>\n",
       "      <td>0</td>\n",
       "      <td>0</td>\n",
       "      <td>1</td>\n",
       "    </tr>\n",
       "    <tr>\n",
       "      <td>9</td>\n",
       "      <td>684</td>\n",
       "      <td>27</td>\n",
       "      <td>2</td>\n",
       "      <td>134603.88</td>\n",
       "      <td>1</td>\n",
       "      <td>1</td>\n",
       "      <td>1</td>\n",
       "      <td>71725.73</td>\n",
       "      <td>0</td>\n",
       "      <td>0</td>\n",
       "      <td>0</td>\n",
       "      <td>1</td>\n",
       "    </tr>\n",
       "  </tbody>\n",
       "</table>\n",
       "</div>"
      ],
      "text/plain": [
       "   credit_score  age  tenure    balance  number_of_products  has_credit_card  \\\n",
       "0           619   42       2       0.00                   1                1   \n",
       "1           608   41       1   83807.86                   1                0   \n",
       "2           502   42       8  159660.80                   3                1   \n",
       "3           699   39       1       0.00                   2                0   \n",
       "4           850   43       2  125510.82                   1                1   \n",
       "5           645   44       8  113755.78                   2                1   \n",
       "6           822   50       7       0.00                   2                1   \n",
       "7           376   29       4  115046.74                   4                1   \n",
       "8           501   44       4  142051.07                   2                0   \n",
       "9           684   27       2  134603.88                   1                1   \n",
       "\n",
       "   is_active_member  estimated_salary  exited  host_country_Germany  \\\n",
       "0                 1         101348.88       1                     0   \n",
       "1                 1         112542.58       0                     0   \n",
       "2                 0         113931.57       1                     0   \n",
       "3                 0          93826.63       0                     0   \n",
       "4                 1          79084.10       0                     0   \n",
       "5                 0         149756.71       1                     0   \n",
       "6                 1          10062.80       0                     0   \n",
       "7                 0         119346.88       1                     1   \n",
       "8                 1          74940.50       0                     0   \n",
       "9                 1          71725.73       0                     0   \n",
       "\n",
       "   host_country_Spain  gender_Male  \n",
       "0                   0            0  \n",
       "1                   1            0  \n",
       "2                   0            0  \n",
       "3                   0            0  \n",
       "4                   1            0  \n",
       "5                   1            1  \n",
       "6                   0            1  \n",
       "7                   0            0  \n",
       "8                   0            1  \n",
       "9                   0            1  "
      ]
     },
     "metadata": {},
     "output_type": "display_data"
    }
   ],
   "source": [
    "initial_data = pd.get_dummies(initial_data, drop_first=True) #преобразовываем категориальные признаки\n",
    "display(initial_data.head(10)) # проверяем результат"
   ]
  },
  {
   "cell_type": "markdown",
   "metadata": {},
   "source": [
    "### Вывод:"
   ]
  },
  {
   "cell_type": "markdown",
   "metadata": {},
   "source": [
    "На данном этапе была осуществлена предобработка исходных данных, в ходе которой мы:\n",
    "- привели все символы в названии столбцов таблицы к нижнему регистру;\n",
    "- отредактировали названия столбцов, сделав их более читаемыми и информативными;\n",
    "- удалили избыточные данные;\n",
    "- обработали пропущенные значения и откорректировали тип данных в столбце tenure;\n",
    "- преобразовали категориальные признаки в числовые.\n",
    "\n",
    "На этом предобработку данных можно считать оконченной. Далее нам нужно подготовить данные для обучения и применения моделей."
   ]
  },
  {
   "cell_type": "markdown",
   "metadata": {},
   "source": [
    "## Подготовка данных для машинного обучения"
   ]
  },
  {
   "cell_type": "markdown",
   "metadata": {},
   "source": [
    "### Проверка сбалансированности классов"
   ]
  },
  {
   "cell_type": "markdown",
   "metadata": {},
   "source": [
    "Для начала посмотрим, сбалансированы ли классы целевого признака, и если нет, то насколько велик дисбаланс. Для этой цели построим круговую диаграмму."
   ]
  },
  {
   "cell_type": "code",
   "execution_count": 26,
   "metadata": {},
   "outputs": [
    {
     "data": {
      "image/png": "[encoded data removed]",
      "text/plain": [
       "<Figure size 432x288 with 1 Axes>"
      ]
     },
     "metadata": {},
     "output_type": "display_data"
    }
   ],
   "source": [
    "fig, ax = plt.subplots()\n",
    "ax.pie(initial_data['exited'].value_counts(), labels=['not_exited', 'exited'], autopct='%.1f%%', shadow=True, explode=[0, 0.2])\n",
    "ax.axis(\"equal\")\n",
    "plt.title('Дисбаланс классов')\n",
    "plt.show()"
   ]
  },
  {
   "cell_type": "markdown",
   "metadata": {},
   "source": [
    "Как показывает диаграмма, дисбаланс классов составил около 1/5. По условиям задания, пока опустим это и обучим модель без учета дисбаланса."
   ]
  },
  {
   "cell_type": "markdown",
   "metadata": {},
   "source": [
    "### Разделение данных на выборки"
   ]
  },
  {
   "cell_type": "markdown",
   "metadata": {},
   "source": [
    "Нам нужно разбить данные на три части, получив в итоге обучающую, валидационную и тестовую выборки. Делить будем в соотношении 3:1:1, т.к. тестовая выборка \"не спрятана\" и может быть выделена из исходных данных. \n",
    "\n",
    "Для этих целей применим дважды инструмент train_test_split. "
   ]
  },
  {
   "cell_type": "code",
   "execution_count": 27,
   "metadata": {},
   "outputs": [
    {
     "name": "stdout",
     "output_type": "stream",
     "text": [
      "(5454, 11) (1818, 11) (1819, 11)\n",
      "(5454,) (1818,) (1819,)\n"
     ]
    }
   ],
   "source": [
    "#выделяем признаки и целевой признак\n",
    "features = initial_data.drop(['exited'], axis=1) \n",
    "target = initial_data['exited'] \n",
    "\n",
    "#отделяем от общего объема данных тестовую выборку\n",
    "features, features_test, target, target_test = train_test_split(features, target, test_size=0.2, random_state=12345)\n",
    "#делим оставшиеся данные на обучающую и валидационную выборки\n",
    "features_train, features_valid, target_train, target_valid = train_test_split(features, target, test_size=0.25, random_state=12345)\n",
    "\n",
    "#выводим на экран размеры получившихся выборок\n",
    "print(features_train.shape, features_valid.shape, features_test.shape)\n",
    "print(target_train.shape, target_valid.shape, target_test.shape)"
   ]
  },
  {
   "cell_type": "markdown",
   "metadata": {},
   "source": [
    "Данные разделены, соотношение соблюдается. \n",
    "\n",
    "Теперь масштабируем численные признаки, чтобы избежать ловушки \"ложной значимости\"."
   ]
  },
  {
   "cell_type": "markdown",
   "metadata": {},
   "source": [
    "### Масштабирование численных признаков."
   ]
  },
  {
   "cell_type": "markdown",
   "metadata": {},
   "source": [
    "В рамках масштабирования стандартизируем численные признаки, используя структуру StandardScaler."
   ]
  },
  {
   "cell_type": "code",
   "execution_count": 28,
   "metadata": {},
   "outputs": [
    {
     "data": {
      "text/html": [
       "<div>\n",
       "<style scoped>\n",
       "    .dataframe tbody tr th:only-of-type {\n",
       "        vertical-align: middle;\n",
       "    }\n",
       "\n",
       "    .dataframe tbody tr th {\n",
       "        vertical-align: top;\n",
       "    }\n",
       "\n",
       "    .dataframe thead th {\n",
       "        text-align: right;\n",
       "    }\n",
       "</style>\n",
       "<table border=\"1\" class=\"dataframe\">\n",
       "  <thead>\n",
       "    <tr style=\"text-align: right;\">\n",
       "      <th></th>\n",
       "      <th>credit_score</th>\n",
       "      <th>age</th>\n",
       "      <th>tenure</th>\n",
       "      <th>balance</th>\n",
       "      <th>number_of_products</th>\n",
       "      <th>has_credit_card</th>\n",
       "      <th>is_active_member</th>\n",
       "      <th>estimated_salary</th>\n",
       "      <th>host_country_Germany</th>\n",
       "      <th>host_country_Spain</th>\n",
       "      <th>gender_Male</th>\n",
       "    </tr>\n",
       "  </thead>\n",
       "  <tbody>\n",
       "    <tr>\n",
       "      <td>3706</td>\n",
       "      <td>-0.203819</td>\n",
       "      <td>0.471273</td>\n",
       "      <td>0.352316</td>\n",
       "      <td>0.786022</td>\n",
       "      <td>0.782369</td>\n",
       "      <td>0</td>\n",
       "      <td>0</td>\n",
       "      <td>-0.357205</td>\n",
       "      <td>0</td>\n",
       "      <td>1</td>\n",
       "      <td>0</td>\n",
       "    </tr>\n",
       "    <tr>\n",
       "      <td>6805</td>\n",
       "      <td>-0.357513</td>\n",
       "      <td>-0.384930</td>\n",
       "      <td>-1.373506</td>\n",
       "      <td>-1.230577</td>\n",
       "      <td>0.782369</td>\n",
       "      <td>1</td>\n",
       "      <td>1</td>\n",
       "      <td>-1.671048</td>\n",
       "      <td>0</td>\n",
       "      <td>0</td>\n",
       "      <td>0</td>\n",
       "    </tr>\n",
       "    <tr>\n",
       "      <td>4449</td>\n",
       "      <td>0.175290</td>\n",
       "      <td>-0.289797</td>\n",
       "      <td>-0.683177</td>\n",
       "      <td>-1.230577</td>\n",
       "      <td>0.782369</td>\n",
       "      <td>1</td>\n",
       "      <td>0</td>\n",
       "      <td>-1.119181</td>\n",
       "      <td>0</td>\n",
       "      <td>0</td>\n",
       "      <td>1</td>\n",
       "    </tr>\n",
       "    <tr>\n",
       "      <td>598</td>\n",
       "      <td>0.349476</td>\n",
       "      <td>1.708010</td>\n",
       "      <td>0.007151</td>\n",
       "      <td>1.379462</td>\n",
       "      <td>-0.914942</td>\n",
       "      <td>0</td>\n",
       "      <td>0</td>\n",
       "      <td>-1.569064</td>\n",
       "      <td>1</td>\n",
       "      <td>0</td>\n",
       "      <td>0</td>\n",
       "    </tr>\n",
       "    <tr>\n",
       "      <td>1845</td>\n",
       "      <td>0.902771</td>\n",
       "      <td>-0.289797</td>\n",
       "      <td>1.387809</td>\n",
       "      <td>-1.230577</td>\n",
       "      <td>-0.914942</td>\n",
       "      <td>0</td>\n",
       "      <td>1</td>\n",
       "      <td>1.543790</td>\n",
       "      <td>0</td>\n",
       "      <td>0</td>\n",
       "      <td>1</td>\n",
       "    </tr>\n",
       "  </tbody>\n",
       "</table>\n",
       "</div>"
      ],
      "text/plain": [
       "      credit_score       age    tenure   balance  number_of_products  \\\n",
       "3706     -0.203819  0.471273  0.352316  0.786022            0.782369   \n",
       "6805     -0.357513 -0.384930 -1.373506 -1.230577            0.782369   \n",
       "4449      0.175290 -0.289797 -0.683177 -1.230577            0.782369   \n",
       "598       0.349476  1.708010  0.007151  1.379462           -0.914942   \n",
       "1845      0.902771 -0.289797  1.387809 -1.230577           -0.914942   \n",
       "\n",
       "      has_credit_card  is_active_member  estimated_salary  \\\n",
       "3706                0                 0         -0.357205   \n",
       "6805                1                 1         -1.671048   \n",
       "4449                1                 0         -1.119181   \n",
       "598                 0                 0         -1.569064   \n",
       "1845                0                 1          1.543790   \n",
       "\n",
       "      host_country_Germany  host_country_Spain  gender_Male  \n",
       "3706                     0                   1            0  \n",
       "6805                     0                   0            0  \n",
       "4449                     0                   0            1  \n",
       "598                      1                   0            0  \n",
       "1845                     0                   0            1  "
      ]
     },
     "metadata": {},
     "output_type": "display_data"
    }
   ],
   "source": [
    "numeric = ['credit_score', 'age', 'tenure', 'balance', 'number_of_products', 'estimated_salary']\n",
    "scaler = StandardScaler()\n",
    "pd.options.mode.chained_assignment = None\n",
    "scaler.fit(features_train[numeric])\n",
    "features_train[numeric] = scaler.transform(features_train[numeric])\n",
    "features_valid[numeric] = scaler.transform(features_valid[numeric])\n",
    "features_test[numeric] = scaler.transform(features_test[numeric])\n",
    "display(features_train.head())"
   ]
  },
  {
   "cell_type": "markdown",
   "metadata": {},
   "source": [
    "Многие показатели ушли в минус, зато масштаб у всех признаков теперь одинаковый."
   ]
  },
  {
   "cell_type": "markdown",
   "metadata": {},
   "source": [
    "### Вывод:"
   ]
  },
  {
   "cell_type": "markdown",
   "metadata": {},
   "source": [
    "На данном этапе была осуществлена подготовка данных для целей машинного обучения:\n",
    "- определен дисбаланс классов;\n",
    "- данные разделены на тренировочную, тестовую и валидационную выборки;\n",
    "- численные признаки масштабированы путем стандартизации.\n",
    "\n",
    "Переходим к обучению моделей без учета дисбаланса."
   ]
  },
  {
   "cell_type": "markdown",
   "metadata": {},
   "source": [
    "## Модели без учета дисбаланса"
   ]
  },
  {
   "cell_type": "markdown",
   "metadata": {},
   "source": [
    "В данном исследовании мы будем работать с тремя моделями: решающее дерево, случайный лес и логистическая регрессия. На этом этапе мы обучим модели на тренировочной выборке и применим их на валидационной выборке, а также подсчитаем значение F1-меры (также на валидационной выборке). \n",
    "\n",
    "Начнем с решающего дерева. Построим цикл, который будет перебирать глубину дерева и сравнивать получаемые результаты для определения оптимального параметра и лучшего результата. Также подсчитаем время обработки моделью данных и значение метрики AUC-ROC."
   ]
  },
  {
   "cell_type": "code",
   "execution_count": 29,
   "metadata": {},
   "outputs": [],
   "source": [
    "warnings.filterwarnings('ignore') #отключим предупреждения на случай возникновения в моделях параметров, при которых \n",
    "                                  #не удастся вычислить F1-меру"
   ]
  },
  {
   "cell_type": "code",
   "execution_count": 30,
   "metadata": {},
   "outputs": [
    {
     "name": "stdout",
     "output_type": "stream",
     "text": [
      "Лучшая глубина модели: 9\n",
      "Метрики решающего дерева: F1-мера 0.557 , AUC-ROC 0.806\n",
      "CPU times: user 171 ms, sys: 0 ns, total: 171 ms\n",
      "Wall time: 190 ms\n"
     ]
    }
   ],
   "source": [
    "%%time\n",
    "\n",
    "best_tree_model = None\n",
    "best_tree_f1 = 0\n",
    "best_tree_depth = 0\n",
    "best_auc_roc_tree = 0\n",
    "\n",
    "for depth in range(1,11):\n",
    "    model = DecisionTreeClassifier(random_state=12345, max_depth=depth) \n",
    "    model.fit(features_train, target_train) #обучаем модель на тренировочной выборке\n",
    "    predictions_valid = model.predict(features_valid) #получаем предсказание на валидационной выборке\n",
    "    f1_tree = f1_score(target_valid, predictions_valid) #считаем F1-меру на валидационной выборке\n",
    "    probabilities_valid = model.predict_proba(features_valid)\n",
    "    probabilities_one_valid = probabilities_valid[:, 1]\n",
    "    auc_roc_tree = roc_auc_score(target_valid, probabilities_one_valid) #считаем AUC-ROC на валидационной выборке\n",
    "    if f1_tree > best_tree_f1:\n",
    "        best_tree_model = model\n",
    "        best_tree_f1 = f1_tree\n",
    "        best_tree_depth = depth\n",
    "        best_auc_roc_tree = auc_roc_tree\n",
    "        \n",
    "print('Лучшая глубина модели:', best_tree_depth)\n",
    "print('Метрики решающего дерева: F1-мера', best_tree_f1.round(3), ', AUC-ROC', best_auc_roc_tree.round(3))"
   ]
  },
  {
   "cell_type": "markdown",
   "metadata": {},
   "source": [
    "Согласно подсчетам, лучшая F1-мера модели решающего дерева (0.557) была получена при глубине, равной 9. Значение метрики AUC-ROC составило 0.806. \n",
    "\n",
    "Перейдем к следующей модели - случайному лесу. Порядок действий будет аналогичным, за исключением того, что помимо глубины деревьев в лесу, мы будем также менять и их количество."
   ]
  },
  {
   "cell_type": "code",
   "execution_count": 31,
   "metadata": {},
   "outputs": [
    {
     "name": "stdout",
     "output_type": "stream",
     "text": [
      "Лучшее количество деревьев: 13\n",
      "Лучшая глубина модели: 17\n",
      "Метрики случайного леса: F1-мера 0.568 , AUC-ROC 0.821\n",
      "CPU times: user 2min 23s, sys: 496 ms, total: 2min 24s\n",
      "Wall time: 2min 30s\n"
     ]
    }
   ],
   "source": [
    "%%time\n",
    "\n",
    "best_forest_model = None\n",
    "best_forest_f1 = 0\n",
    "best_forest_estimators = 0\n",
    "best_forest_depth = 0\n",
    "best_auc_roc_forest = 0\n",
    "\n",
    "for est in range(1,51):\n",
    "    for depth in range(1,21):\n",
    "            model_forest = RandomForestClassifier(random_state=12345, n_estimators=est, max_depth=depth)\n",
    "            model_forest.fit(features_train, target_train)\n",
    "            predictions_valid = model_forest.predict(features_valid)\n",
    "            f1_forest = f1_score(target_valid, predictions_valid)\n",
    "            probabilities_valid = model_forest.predict_proba(features_valid)\n",
    "            probabilities_one_valid = probabilities_valid[:, 1]\n",
    "            auc_roc_forest = roc_auc_score(target_valid, probabilities_one_valid)\n",
    "            if f1_forest > best_forest_f1:\n",
    "                best_forest_model = model_forest\n",
    "                best_forest_f1 = f1_forest\n",
    "                best_forest_estimators = est\n",
    "                best_forest_depth = depth\n",
    "                best_auc_roc_forest = auc_roc_forest\n",
    "                \n",
    "print('Лучшее количество деревьев:', best_forest_estimators)\n",
    "print('Лучшая глубина модели:', best_forest_depth)\n",
    "print('Метрики случайного леса: F1-мера', best_forest_f1.round(3), ', AUC-ROC', best_auc_roc_forest.round(3))"
   ]
  },
  {
   "cell_type": "markdown",
   "metadata": {},
   "source": [
    "Согласно подсчетам, лучшая F1-мера модели случайного леса (0.568) была получена при количестве деревьев, равном 13, и глубине, равной 17. Значение метрики AUC-ROC составило 0.821, что выше, чем у предыдущей модели, но все еще достаточно далеко от идеального значения.\n",
    "\n",
    "Наконец перейдем к модели логистической регрессии. В ней мы не будем искать оптимальные параметры, поэтому необходимости в циклах также нет."
   ]
  },
  {
   "cell_type": "code",
   "execution_count": 32,
   "metadata": {},
   "outputs": [
    {
     "name": "stdout",
     "output_type": "stream",
     "text": [
      "Метрики логистической регрессии: F1-мера 0.3 , AUC-ROC 0.773\n",
      "CPU times: user 34.8 ms, sys: 27.9 ms, total: 62.7 ms\n",
      "Wall time: 22.9 ms\n"
     ]
    }
   ],
   "source": [
    "%%time\n",
    "\n",
    "model_regression = LogisticRegression(random_state=12345)\n",
    "model_regression.fit(features_train, target_train)\n",
    "predictions_valid = model_regression.predict(features_valid)\n",
    "f1_regression = f1_score(target_valid, predictions_valid)\n",
    "probabilities_valid = model_regression.predict_proba(features_valid)\n",
    "probabilities_one_valid = probabilities_valid[:, 1]\n",
    "best_auc_roc_regression = roc_auc_score(target_valid, probabilities_one_valid)\n",
    "\n",
    "print('Метрики логистической регрессии: F1-мера', f1_regression.round(3), ', AUC-ROC', best_auc_roc_regression.round(3))"
   ]
  },
  {
   "cell_type": "markdown",
   "metadata": {},
   "source": [
    "Согласно подсчетам, лучшая F1-мера модели логистической регрессии - 0.3, AUC-ROC - 0.773."
   ]
  },
  {
   "cell_type": "markdown",
   "metadata": {},
   "source": [
    "### Вывод:"
   ]
  },
  {
   "cell_type": "markdown",
   "metadata": {},
   "source": [
    "Ни одна из моделей не смогла достичь нужного значения F1-меры (0.59). Самое высокое (0.568) у случайного леса, чуть меньше (0.557) у решающего дерева, а самое низкое значение показателя (0.3) у логистической регрессии. \n",
    "\n",
    "В то же время у данной модели самое быстрое время выполнения, а дольше всего обрабатывала данные модель случайного леса. \n",
    "\n",
    "Лучшее значение метрики AUC-ROC также у случайного леса, оно составило 0.821.\n",
    "\n",
    "Попробуем повысить значение F1 меры моделей путем обеспечения сбалансированности классов."
   ]
  },
  {
   "cell_type": "markdown",
   "metadata": {},
   "source": [
    "## Борьба с дисбалансом"
   ]
  },
  {
   "cell_type": "markdown",
   "metadata": {},
   "source": [
    "Дисбаланс классов может быть устранен различными способами: взвешиванием классов, увеличением и уменьшением выборки. Применим все три способа к одной из обученных моделей и посмотрим, как изменится F1-мера. \n",
    "\n",
    "Остановимся на решающем дереве, т.к. у него при несбалансированных классах один из самых высоких показателей F1-меры, а время обработки данных не такое большое, как у случайного леса. \n",
    "\n",
    "Начнем с взвешивания классов."
   ]
  },
  {
   "cell_type": "code",
   "execution_count": 33,
   "metadata": {},
   "outputs": [
    {
     "name": "stdout",
     "output_type": "stream",
     "text": [
      "Лучшая глубина модели: 7\n",
      "Лучшая F1-мера решающего дерева: 0.556\n",
      "CPU times: user 187 ms, sys: 36.1 ms, total: 223 ms\n",
      "Wall time: 274 ms\n"
     ]
    }
   ],
   "source": [
    "%%time\n",
    "\n",
    "best_tree_model_balanced_weight = None\n",
    "best_tree_f1 = 0\n",
    "best_tree_depth = 0\n",
    "\n",
    "for depth in range(1,11):\n",
    "    model = DecisionTreeClassifier(random_state=12345, max_depth=depth, class_weight='balanced') \n",
    "    model.fit(features_train, target_train) \n",
    "    predictions_valid = model.predict(features_valid) \n",
    "    f1_tree = f1_score(target_valid, predictions_valid) \n",
    "    if f1_tree > best_tree_f1:\n",
    "        best_tree_model_balanced_weight = model\n",
    "        best_tree_f1 = f1_tree\n",
    "        best_tree_depth = depth\n",
    "        \n",
    "print('Лучшая глубина модели:', best_tree_depth)\n",
    "print('Лучшая F1-мера решающего дерева:', best_tree_f1.round(3))"
   ]
  },
  {
   "cell_type": "markdown",
   "metadata": {},
   "source": [
    "Значение F1-меры уменьшилось на 0.001 по сравнению с моделью, обученной на несбалансированных данных. При этом время обработки наоборот увеличилось. Также стоит отметить, что изменилась наилучшая глубина модели: 7 против 9.\n",
    "\n",
    "Не самый впечатляющий результат. Посмотрим, как отразится на F1-мере увеличение выборки. Создадим функцию, которая увеличит количество положительных объектов в выборке путем их копирования и перемешает новые данные для повышения качества обучения модели."
   ]
  },
  {
   "cell_type": "code",
   "execution_count": 34,
   "metadata": {},
   "outputs": [],
   "source": [
    "def upsample(features, target, repeat): #создадим функцию\n",
    "    features_zeros = features[target == 0]\n",
    "    features_ones = features[target == 1]\n",
    "    target_zeros = target[target == 0]\n",
    "    target_ones = target[target == 1]\n",
    "    features_upsampled = pd.concat([features_zeros] + [features_ones] * repeat)\n",
    "    target_upsampled = pd.concat([target_zeros] + [target_ones] * repeat)\n",
    "    features_upsampled, target_upsampled = shuffle(features_upsampled, target_upsampled, random_state=12345)\n",
    "    return features_upsampled, target_upsampled\n",
    "\n",
    "features_upsampled, target_upsampled = upsample(features_train, target_train, 4) #применим к обучающей выборке"
   ]
  },
  {
   "cell_type": "markdown",
   "metadata": {},
   "source": [
    "Построим новую круговую диаграмму, чтобы проверить, приблизились наши данные к балансу."
   ]
  },
  {
   "cell_type": "code",
   "execution_count": 35,
   "metadata": {},
   "outputs": [
    {
     "data": {
      "image/png": "[encoded data removed]",
      "text/plain": [
       "<Figure size 432x288 with 1 Axes>"
      ]
     },
     "metadata": {},
     "output_type": "display_data"
    }
   ],
   "source": [
    "fig, ax = plt.subplots()\n",
    "ax.pie(target_upsampled.value_counts(), labels=['not_exited', 'exited'], autopct='%.1f%%', shadow=True, explode=[0, 0.2])\n",
    "ax.axis(\"equal\")\n",
    "plt.title('Дисбаланс классов')\n",
    "plt.show()"
   ]
  },
  {
   "cell_type": "markdown",
   "metadata": {},
   "source": [
    "После увеличения выборки положительных и отрицательных объектов стало почти поровну. Можно обучать модель."
   ]
  },
  {
   "cell_type": "code",
   "execution_count": 36,
   "metadata": {},
   "outputs": [
    {
     "name": "stdout",
     "output_type": "stream",
     "text": [
      "Лучшая глубина модели: 7\n",
      "Лучшая F1-мера решающего дерева: 0.556\n",
      "CPU times: user 207 ms, sys: 4.02 ms, total: 211 ms\n",
      "Wall time: 234 ms\n"
     ]
    }
   ],
   "source": [
    "%%time\n",
    "\n",
    "best_tree_model_balanced_up = None\n",
    "best_tree_f1 = 0\n",
    "best_tree_depth = 0\n",
    "\n",
    "for depth in range(1,11):\n",
    "    model = DecisionTreeClassifier(random_state=12345, max_depth=depth) \n",
    "    model.fit(features_upsampled, target_upsampled) \n",
    "    predictions_valid = model.predict(features_valid) \n",
    "    f1_tree = f1_score(target_valid, predictions_valid) \n",
    "    if f1_tree > best_tree_f1:\n",
    "        best_tree_model_balanced_up = model\n",
    "        best_tree_f1 = f1_tree\n",
    "        best_tree_depth = depth\n",
    "        \n",
    "print('Лучшая глубина модели:', best_tree_depth)\n",
    "print('Лучшая F1-мера решающего дерева:', best_tree_f1.round(3))"
   ]
  },
  {
   "cell_type": "markdown",
   "metadata": {},
   "source": [
    "Полученный результат почти полностью копирует результат от взвешивания классов: лучшая глубина 7, F1-мера равна 0.556, что меньше значения, полученного на несбалансированных данных, модель также работает медленнее, чем изначальная, но быстрее, чем \"взвешенная\". \n",
    "\n",
    "Далее попробуем уменьшение выборки. Создадим функцию, случайным образом отсекающую часть отрицательных объектов выборки и перемешивающую оставшиеся данные для повышения качества обучения модели."
   ]
  },
  {
   "cell_type": "code",
   "execution_count": 37,
   "metadata": {},
   "outputs": [],
   "source": [
    "def downsample(features, target, fraction): #создаем функцию\n",
    "    features_zeros = features[target == 0]\n",
    "    features_ones = features[target == 1]\n",
    "    target_zeros = target[target == 0]\n",
    "    target_ones = target[target == 1]\n",
    "    features_downsampled = pd.concat([features_zeros.sample(frac=fraction, random_state=12345)] + [features_ones])\n",
    "    target_downsampled = pd.concat([target_zeros.sample(frac=fraction, random_state=12345)] + [target_ones])\n",
    "    features_downsampled, target_downsampled = shuffle(features_downsampled, target_downsampled, random_state=12345)\n",
    "    return features_downsampled, target_downsampled\n",
    "\n",
    "features_downsampled, target_downsampled = downsample(features_train, target_train, 0.258) #применяем ее к обучающей выборке"
   ]
  },
  {
   "cell_type": "code",
   "execution_count": 38,
   "metadata": {},
   "outputs": [
    {
     "data": {
      "image/png": "[encoded data removed]",
      "text/plain": [
       "<Figure size 432x288 with 1 Axes>"
      ]
     },
     "metadata": {},
     "output_type": "display_data"
    }
   ],
   "source": [
    "#проверяем сбалансированность классов\n",
    "fig, ax = plt.subplots()\n",
    "ax.pie(target_downsampled.value_counts(), labels=['not_exited', 'exited'], autopct='%.1f%%', shadow=True, explode=[0, 0.2])\n",
    "ax.axis(\"equal\")\n",
    "plt.title('Дисбаланс классов')\n",
    "plt.show()"
   ]
  },
  {
   "cell_type": "markdown",
   "metadata": {},
   "source": [
    "В данном случае удалось добиться равенства объектов. Проверим, как это скажется на F1-мере."
   ]
  },
  {
   "cell_type": "code",
   "execution_count": 39,
   "metadata": {},
   "outputs": [
    {
     "name": "stdout",
     "output_type": "stream",
     "text": [
      "Лучшая глубина модели: 5\n",
      "Лучшая F1-мера решающего дерева: 0.553\n",
      "CPU times: user 88 ms, sys: 0 ns, total: 88 ms\n",
      "Wall time: 141 ms\n"
     ]
    }
   ],
   "source": [
    "%%time\n",
    "\n",
    "best_tree_model_balanced_down = None\n",
    "best_tree_f1 = 0\n",
    "best_tree_depth = 0\n",
    "\n",
    "for depth in range(1,11):\n",
    "    model = DecisionTreeClassifier(random_state=12345, max_depth=depth) \n",
    "    model.fit(features_downsampled, target_downsampled) \n",
    "    predictions_valid = model.predict(features_valid) \n",
    "    f1_tree = f1_score(target_valid, predictions_valid) \n",
    "    if f1_tree > best_tree_f1:\n",
    "        best_tree_model_balanced_down = model\n",
    "        best_tree_f1 = f1_tree\n",
    "        best_tree_depth = depth\n",
    "        \n",
    "print('Лучшая глубина модели:', best_tree_depth)\n",
    "print('Лучшая F1-мера решающего дерева:', best_tree_f1.round(3))"
   ]
  },
  {
   "cell_type": "markdown",
   "metadata": {},
   "source": [
    "Для лучшего результата модели понадобилась еще меньшая глубина (5 против 7 и 9), однако и значение F1-меры оказалось еще ниже (0.553 против 0.556 и 0.557), зато модель стала обрабатывать данные гораздо быстрее."
   ]
  },
  {
   "cell_type": "markdown",
   "metadata": {},
   "source": [
    "### Вывод:"
   ]
  },
  {
   "cell_type": "markdown",
   "metadata": {},
   "source": [
    "Обеспечение сбалансированности классов не помогло модели решающего дерева достичь нужного значения F1-меры. Ни один из примененных методов не повысил данное значение. Возможно, это связано с особенностями модели. \n",
    "\n",
    "На следующем этапе попробуем обучить на новой обучающей выборке модели случайного леса и логистической регрессии. Используем данные, полученные путем увеличения выборки - применение данного способа позволило получить одно из лучших значений F1-меры при более быстрой обработке данных."
   ]
  },
  {
   "cell_type": "markdown",
   "metadata": {},
   "source": [
    "## Обучение моделей на увеличенной выборке"
   ]
  },
  {
   "cell_type": "markdown",
   "metadata": {},
   "source": [
    "Исследуем, как увеличение обучающей выборки скажется на значении F1-меры в моделях случайного леса и логистической регрессии. Начнем с леса."
   ]
  },
  {
   "cell_type": "code",
   "execution_count": 40,
   "metadata": {},
   "outputs": [
    {
     "name": "stdout",
     "output_type": "stream",
     "text": [
      "Лучшее количество деревьев: 22\n",
      "Лучшая глубина модели: 12\n",
      "Метрики случайного леса: F1-мера 0.611 , AUC-ROC 0.84\n",
      "CPU times: user 3min 15s, sys: 523 ms, total: 3min 15s\n",
      "Wall time: 3min 19s\n"
     ]
    }
   ],
   "source": [
    "%%time\n",
    "\n",
    "best_forest_model_balanced = None\n",
    "best_forest_f1 = 0\n",
    "best_forest_estimators = 0\n",
    "best_forest_depth = 0\n",
    "best_auc_roc_forest = 0\n",
    "\n",
    "for est in range(1,51):\n",
    "    for depth in range(1,21):\n",
    "            model_forest = RandomForestClassifier(random_state=12345, n_estimators=est, max_depth=depth)\n",
    "            model_forest.fit(features_upsampled, target_upsampled)\n",
    "            predictions_valid = model_forest.predict(features_valid)\n",
    "            f1_forest = f1_score(target_valid, predictions_valid)\n",
    "            probabilities_valid = model_forest.predict_proba(features_valid)\n",
    "            probabilities_one_valid = probabilities_valid[:, 1]\n",
    "            auc_roc_forest = roc_auc_score(target_valid, probabilities_one_valid)\n",
    "            if f1_forest > best_forest_f1:\n",
    "                best_forest_model_balanced = model_forest\n",
    "                best_forest_f1 = f1_forest\n",
    "                best_forest_estimators = est\n",
    "                best_forest_depth = depth\n",
    "                best_auc_roc_forest = auc_roc_forest\n",
    "                \n",
    "print('Лучшее количество деревьев:', best_forest_estimators)\n",
    "print('Лучшая глубина модели:', best_forest_depth)\n",
    "print('Метрики случайного леса: F1-мера', best_forest_f1.round(3), ', AUC-ROC', best_auc_roc_forest.round(3))"
   ]
  },
  {
   "cell_type": "markdown",
   "metadata": {},
   "source": [
    "После обучения модели на новых данных значение F1-меры увеличилось и смогло преодолеть необходимый порог. В то же время значительно увеличилось и время обработки данных. Подросло и значение AUC-ROC, составив 0.84. \n",
    "\n",
    "Для достижения лучшего значения F1-меры модели потребовалось большее количество деревьев (22 против 13), однако с меньшей глубиной (12 против 17). \n",
    "\n",
    "Посмотрим, какие результаты покажет обученная на увеличенной выборке логистическая регрессия."
   ]
  },
  {
   "cell_type": "code",
   "execution_count": 41,
   "metadata": {},
   "outputs": [
    {
     "name": "stdout",
     "output_type": "stream",
     "text": [
      "Метрики логистической регрессии: F1-мера 0.3 , AUC-ROC 0.775\n",
      "CPU times: user 57.4 ms, sys: 36 ms, total: 93.4 ms\n",
      "Wall time: 87.4 ms\n"
     ]
    }
   ],
   "source": [
    "%%time\n",
    "\n",
    "model_regression_balanced = LogisticRegression(random_state=12345)\n",
    "model_regression_balanced.fit(features_upsampled, target_upsampled)\n",
    "predictions_valid = model_regression.predict(features_valid)\n",
    "f1_regression = f1_score(target_valid, predictions_valid)\n",
    "probabilities_valid = model_regression_balanced.predict_proba(features_valid)\n",
    "probabilities_one_valid = probabilities_valid[:, 1]\n",
    "best_auc_roc_regression = roc_auc_score(target_valid, probabilities_one_valid)\n",
    "\n",
    "print('Метрики логистической регрессии: F1-мера', f1_regression.round(3), ', AUC-ROC', best_auc_roc_regression.round(3))"
   ]
  },
  {
   "cell_type": "markdown",
   "metadata": {},
   "source": [
    "F1-мера осталась неизменной, зато уменьшилось время оработки данных и на 0.002 подросла AUC-ROC. "
   ]
  },
  {
   "cell_type": "markdown",
   "metadata": {},
   "source": [
    "### Вывод:"
   ]
  },
  {
   "cell_type": "markdown",
   "metadata": {},
   "source": [
    "После обучения рассматриваемых моделей на сбалансированной выборке были получены неоднозначные выводы. Только модель случайного леса показала более высокую F1-меру, и только ее значение смогло преодолеть порог в 0.59. \n",
    "\n",
    "На следующем этапе протестируем лучшие сбалансированные модели на тестовой выборке."
   ]
  },
  {
   "cell_type": "markdown",
   "metadata": {},
   "source": [
    "## Тестирование моделей"
   ]
  },
  {
   "cell_type": "markdown",
   "metadata": {},
   "source": [
    "На данном этапе протестируем получившиеся и сохраненные  лучшие модели на тестовой выборке. Проверять будем в том же порядке, в каком модели обучались. \n",
    "\n",
    "Также подсчитаем метрику AUC-ROC."
   ]
  },
  {
   "cell_type": "code",
   "execution_count": 42,
   "metadata": {},
   "outputs": [
    {
     "name": "stdout",
     "output_type": "stream",
     "text": [
      "Метрики решающего дерева: F1-мера 0.553 , AUC-ROC 0.815\n",
      "Метрики случайного леса: F1-мера 0.598 , AUC-ROC 0.84\n",
      "Метрики логистической регрессии: F1-мера 0.509 , AUC-ROC 0.775\n"
     ]
    }
   ],
   "source": [
    "#тестируем решающее дерево\n",
    "predictions_test = best_tree_model_balanced_up.predict(features_test)\n",
    "f1_tree = f1_score(target_test, predictions_test) \n",
    "probabilities_valid = best_tree_model_balanced_up.predict_proba(features_valid)\n",
    "probabilities_one_valid = probabilities_valid[:, 1]\n",
    "auc_roc_tree = roc_auc_score(target_valid, probabilities_one_valid)\n",
    "\n",
    "#тестируем случайный лес\n",
    "predictions_test = best_forest_model_balanced.predict(features_test)\n",
    "f1_forest = f1_score(target_test, predictions_test) \n",
    "probabilities_valid = best_forest_model_balanced.predict_proba(features_valid)\n",
    "probabilities_one_valid = probabilities_valid[:, 1]\n",
    "auc_roc_forest = roc_auc_score(target_valid, probabilities_one_valid)\n",
    "\n",
    "#тестируем логистическую регрессию\n",
    "predictions_test = model_regression_balanced.predict(features_test)\n",
    "f1_regression = f1_score(target_test, predictions_test) \n",
    "probabilities_valid = model_regression_balanced.predict_proba(features_valid)\n",
    "probabilities_one_valid = probabilities_valid[:, 1]\n",
    "auc_roc_regression = roc_auc_score(target_valid, probabilities_one_valid)\n",
    "\n",
    "#выводим результаты на экран для сравнения\n",
    "print('Метрики решающего дерева: F1-мера', f1_tree.round(3), ', AUC-ROC', auc_roc_tree.round(3))\n",
    "print('Метрики случайного леса: F1-мера', f1_forest.round(3), ', AUC-ROC', auc_roc_forest.round(3))\n",
    "print('Метрики логистической регрессии: F1-мера', f1_regression.round(3), ', AUC-ROC', auc_roc_regression.round(3))"
   ]
  },
  {
   "cell_type": "markdown",
   "metadata": {},
   "source": [
    "### Вывод:"
   ]
  },
  {
   "cell_type": "markdown",
   "metadata": {},
   "source": [
    "Из всех рассмотренных моделей только модель случайного леса смогла достичь F1-меры, преодолевшей порог в 0.59. У нее же и самое лучшее значение метрики AUC-ROC, но все же оно далеко от эталонного. \n",
    "\n",
    "На этом исследование можно считать завершенным, переходим к итоговым выводам."
   ]
  },
  {
   "cell_type": "markdown",
   "metadata": {},
   "source": [
    "## Итоговые выводы"
   ]
  },
  {
   "cell_type": "markdown",
   "metadata": {},
   "source": [
    "В ходе данного проекта были исследованы три модели машинного обучения: решающее дерево, случайный лес и логистическая регрессия. Необходимо было построить модель с предельно большим значением F1-меры, изучив также влияние дисбаланса классов на данную метрику и проанализировав метрику AUC-ROC. Результаты исследования позволили прийти к следующим выводам:\n",
    "- искомой моделью стала модель случайного леса, обученная на сбалансированных путем увеличения выборки обучающих данных и имеющая следующие параметры: количество деревьев - 22, глубина модели - 12. Значение F1-меры на валидационной выборке составило 0.611, на тестовой - 0.598;\n",
    "- на работу моделей решающего дерева и логистической регрессии и ее результаты баланс классов целевого признака практически не оказывает влияния;\n",
    "- скорость работы модели случайного леса самая низкая среди рассмотренных моделей. В то же время у самой быстрой модели (логистическая регрессия) самые низкие значения метрик;\n",
    "- наилучшее значение метрики AUC-ROC также у модели случайного леса (0.84), при этом оно все еще гораздо ниже эталонного."
   ]
  }
 ],
 "metadata": {
  "ExecuteTimeLog": [
   {
    "duration": 1005,
    "start_time": "2022-02-16T17:32:41.768Z"
   },
   {
    "duration": 30,
    "start_time": "2022-02-16T17:33:19.864Z"
   },
   {
    "duration": 18,
    "start_time": "2022-02-16T18:05:36.341Z"
   },
   {
    "duration": 13,
    "start_time": "2022-02-16T18:05:39.193Z"
   },
   {
    "duration": 39,
    "start_time": "2022-02-16T18:05:40.872Z"
   },
   {
    "duration": 11,
    "start_time": "2022-02-16T18:05:42.540Z"
   },
   {
    "duration": 5,
    "start_time": "2022-02-16T18:47:01.066Z"
   },
   {
    "duration": 248,
    "start_time": "2022-02-16T18:47:04.470Z"
   },
   {
    "duration": 172,
    "start_time": "2022-02-16T18:57:05.768Z"
   },
   {
    "duration": 188,
    "start_time": "2022-02-16T18:57:26.213Z"
   },
   {
    "duration": 181,
    "start_time": "2022-02-16T18:58:17.334Z"
   },
   {
    "duration": 172,
    "start_time": "2022-02-16T18:58:33.433Z"
   },
   {
    "duration": 981,
    "start_time": "2022-02-17T10:00:58.883Z"
   },
   {
    "duration": 27,
    "start_time": "2022-02-17T10:00:59.866Z"
   },
   {
    "duration": 18,
    "start_time": "2022-02-17T10:00:59.895Z"
   },
   {
    "duration": 24,
    "start_time": "2022-02-17T10:00:59.914Z"
   },
   {
    "duration": 41,
    "start_time": "2022-02-17T10:00:59.940Z"
   },
   {
    "duration": 10,
    "start_time": "2022-02-17T10:00:59.983Z"
   },
   {
    "duration": 4,
    "start_time": "2022-02-17T10:00:59.994Z"
   },
   {
    "duration": 80,
    "start_time": "2022-02-17T10:01:00.000Z"
   },
   {
    "duration": 263,
    "start_time": "2022-02-17T10:01:10.054Z"
   },
   {
    "duration": 177,
    "start_time": "2022-02-17T10:01:20.838Z"
   },
   {
    "duration": 170,
    "start_time": "2022-02-17T10:01:50.587Z"
   },
   {
    "duration": 214,
    "start_time": "2022-02-17T10:09:58.775Z"
   },
   {
    "duration": 213,
    "start_time": "2022-02-17T10:10:15.003Z"
   },
   {
    "duration": 176,
    "start_time": "2022-02-17T10:11:10.122Z"
   },
   {
    "duration": 3,
    "start_time": "2022-02-17T10:11:18.977Z"
   },
   {
    "duration": 34,
    "start_time": "2022-02-17T10:11:18.982Z"
   },
   {
    "duration": 12,
    "start_time": "2022-02-17T10:11:19.018Z"
   },
   {
    "duration": 23,
    "start_time": "2022-02-17T10:11:19.032Z"
   },
   {
    "duration": 42,
    "start_time": "2022-02-17T10:11:19.058Z"
   },
   {
    "duration": 10,
    "start_time": "2022-02-17T10:11:19.102Z"
   },
   {
    "duration": 4,
    "start_time": "2022-02-17T10:11:19.114Z"
   },
   {
    "duration": 5,
    "start_time": "2022-02-17T10:11:19.130Z"
   },
   {
    "duration": 57,
    "start_time": "2022-02-17T10:12:06.851Z"
   },
   {
    "duration": 13,
    "start_time": "2022-02-17T10:12:21.047Z"
   },
   {
    "duration": 13,
    "start_time": "2022-02-17T10:15:27.896Z"
   },
   {
    "duration": 12,
    "start_time": "2022-02-17T10:18:28.409Z"
   },
   {
    "duration": 8,
    "start_time": "2022-02-17T10:24:08.128Z"
   },
   {
    "duration": 4,
    "start_time": "2022-02-17T10:24:29.722Z"
   },
   {
    "duration": 6,
    "start_time": "2022-02-17T10:24:36.580Z"
   },
   {
    "duration": 4,
    "start_time": "2022-02-17T10:24:47.156Z"
   },
   {
    "duration": 1334,
    "start_time": "2022-02-17T11:06:35.942Z"
   },
   {
    "duration": 430,
    "start_time": "2022-02-17T11:08:50.944Z"
   },
   {
    "duration": 1340,
    "start_time": "2022-02-17T11:09:26.266Z"
   },
   {
    "duration": 1358,
    "start_time": "2022-02-17T11:12:07.265Z"
   },
   {
    "duration": 1318,
    "start_time": "2022-02-17T11:13:02.680Z"
   },
   {
    "duration": 1307,
    "start_time": "2022-02-17T11:13:18.663Z"
   },
   {
    "duration": 1408,
    "start_time": "2022-02-17T11:16:05.883Z"
   },
   {
    "duration": 1307,
    "start_time": "2022-02-17T11:18:46.922Z"
   },
   {
    "duration": 1264,
    "start_time": "2022-02-17T11:21:56.075Z"
   },
   {
    "duration": 1310,
    "start_time": "2022-02-17T11:22:03.665Z"
   },
   {
    "duration": 1297,
    "start_time": "2022-02-17T11:22:31.365Z"
   },
   {
    "duration": 1344,
    "start_time": "2022-02-17T11:24:47.960Z"
   },
   {
    "duration": 1282,
    "start_time": "2022-02-17T11:26:29.494Z"
   },
   {
    "duration": 1304,
    "start_time": "2022-02-17T11:26:35.956Z"
   },
   {
    "duration": 1324,
    "start_time": "2022-02-17T11:26:42.240Z"
   },
   {
    "duration": 1340,
    "start_time": "2022-02-17T11:26:53.595Z"
   },
   {
    "duration": 1383,
    "start_time": "2022-02-17T11:27:00.621Z"
   },
   {
    "duration": 338,
    "start_time": "2022-02-18T08:38:17.763Z"
   },
   {
    "duration": 1147,
    "start_time": "2022-02-18T08:38:24.780Z"
   },
   {
    "duration": 47,
    "start_time": "2022-02-18T08:38:25.929Z"
   },
   {
    "duration": 23,
    "start_time": "2022-02-18T08:38:25.979Z"
   },
   {
    "duration": 35,
    "start_time": "2022-02-18T08:38:26.005Z"
   },
   {
    "duration": 64,
    "start_time": "2022-02-18T08:38:26.043Z"
   },
   {
    "duration": 12,
    "start_time": "2022-02-18T08:38:26.109Z"
   },
   {
    "duration": 12,
    "start_time": "2022-02-18T08:38:26.123Z"
   },
   {
    "duration": 25,
    "start_time": "2022-02-18T08:38:26.137Z"
   },
   {
    "duration": 9,
    "start_time": "2022-02-18T08:38:26.164Z"
   },
   {
    "duration": 398,
    "start_time": "2022-02-18T08:38:26.175Z"
   },
   {
    "duration": 7,
    "start_time": "2022-02-18T08:39:07.110Z"
   },
   {
    "duration": 3,
    "start_time": "2022-02-18T09:07:25.053Z"
   },
   {
    "duration": 48,
    "start_time": "2022-02-18T09:07:25.058Z"
   },
   {
    "duration": 16,
    "start_time": "2022-02-18T09:07:25.108Z"
   },
   {
    "duration": 26,
    "start_time": "2022-02-18T09:07:25.126Z"
   },
   {
    "duration": 62,
    "start_time": "2022-02-18T09:07:25.154Z"
   },
   {
    "duration": 10,
    "start_time": "2022-02-18T09:07:25.217Z"
   },
   {
    "duration": 13,
    "start_time": "2022-02-18T09:07:25.229Z"
   },
   {
    "duration": 20,
    "start_time": "2022-02-18T09:07:25.245Z"
   },
   {
    "duration": 5,
    "start_time": "2022-02-18T09:07:25.287Z"
   },
   {
    "duration": 8,
    "start_time": "2022-02-18T09:07:25.294Z"
   },
   {
    "duration": 31,
    "start_time": "2022-02-18T09:07:33.761Z"
   },
   {
    "duration": 24,
    "start_time": "2022-02-18T09:08:05.031Z"
   },
   {
    "duration": 79,
    "start_time": "2022-02-18T09:15:27.356Z"
   },
   {
    "duration": 43,
    "start_time": "2022-02-18T09:15:27.437Z"
   },
   {
    "duration": 14,
    "start_time": "2022-02-18T09:15:27.483Z"
   },
   {
    "duration": 14,
    "start_time": "2022-02-18T09:15:27.500Z"
   },
   {
    "duration": 62,
    "start_time": "2022-02-18T09:15:27.517Z"
   },
   {
    "duration": 11,
    "start_time": "2022-02-18T09:15:27.581Z"
   },
   {
    "duration": 5,
    "start_time": "2022-02-18T09:15:27.594Z"
   },
   {
    "duration": 20,
    "start_time": "2022-02-18T09:15:27.602Z"
   },
   {
    "duration": 4,
    "start_time": "2022-02-18T09:15:27.624Z"
   },
   {
    "duration": 41,
    "start_time": "2022-02-18T09:15:27.629Z"
   },
   {
    "duration": 26,
    "start_time": "2022-02-18T09:15:27.672Z"
   },
   {
    "duration": 482,
    "start_time": "2022-02-18T09:34:06.649Z"
   },
   {
    "duration": 1189,
    "start_time": "2022-02-18T09:35:26.541Z"
   },
   {
    "duration": 443,
    "start_time": "2022-02-18T09:37:50.002Z"
   },
   {
    "duration": 90,
    "start_time": "2022-02-18T09:38:34.539Z"
   },
   {
    "duration": 86,
    "start_time": "2022-02-18T09:38:55.430Z"
   },
   {
    "duration": 81,
    "start_time": "2022-02-18T09:39:10.785Z"
   },
   {
    "duration": 12,
    "start_time": "2022-02-18T09:48:41.822Z"
   },
   {
    "duration": 14,
    "start_time": "2022-02-18T09:49:10.977Z"
   },
   {
    "duration": 4,
    "start_time": "2022-02-18T10:08:22.176Z"
   },
   {
    "duration": 47,
    "start_time": "2022-02-18T10:08:22.182Z"
   },
   {
    "duration": 14,
    "start_time": "2022-02-18T10:08:22.231Z"
   },
   {
    "duration": 19,
    "start_time": "2022-02-18T10:08:22.247Z"
   },
   {
    "duration": 49,
    "start_time": "2022-02-18T10:08:22.267Z"
   },
   {
    "duration": 11,
    "start_time": "2022-02-18T10:08:22.317Z"
   },
   {
    "duration": 4,
    "start_time": "2022-02-18T10:08:22.330Z"
   },
   {
    "duration": 18,
    "start_time": "2022-02-18T10:08:22.336Z"
   },
   {
    "duration": 15,
    "start_time": "2022-02-18T10:08:22.356Z"
   },
   {
    "duration": 6,
    "start_time": "2022-02-18T10:08:22.373Z"
   },
   {
    "duration": 23,
    "start_time": "2022-02-18T10:08:22.609Z"
   },
   {
    "duration": 83,
    "start_time": "2022-02-18T10:08:22.634Z"
   },
   {
    "duration": 13,
    "start_time": "2022-02-18T10:08:22.719Z"
   },
   {
    "duration": 38,
    "start_time": "2022-02-18T10:14:14.931Z"
   },
   {
    "duration": 34,
    "start_time": "2022-02-18T10:21:58.096Z"
   },
   {
    "duration": 173,
    "start_time": "2022-02-18T10:39:37.021Z"
   },
   {
    "duration": 222,
    "start_time": "2022-02-18T10:39:55.469Z"
   },
   {
    "duration": 4,
    "start_time": "2022-02-18T10:41:39.850Z"
   },
   {
    "duration": 40,
    "start_time": "2022-02-18T10:41:39.856Z"
   },
   {
    "duration": 14,
    "start_time": "2022-02-18T10:41:39.898Z"
   },
   {
    "duration": 15,
    "start_time": "2022-02-18T10:41:39.914Z"
   },
   {
    "duration": 70,
    "start_time": "2022-02-18T10:41:39.931Z"
   },
   {
    "duration": 11,
    "start_time": "2022-02-18T10:41:40.003Z"
   },
   {
    "duration": 5,
    "start_time": "2022-02-18T10:41:40.016Z"
   },
   {
    "duration": 22,
    "start_time": "2022-02-18T10:41:40.023Z"
   },
   {
    "duration": 23,
    "start_time": "2022-02-18T10:41:40.047Z"
   },
   {
    "duration": 7,
    "start_time": "2022-02-18T10:41:40.072Z"
   },
   {
    "duration": 30,
    "start_time": "2022-02-18T10:41:40.080Z"
   },
   {
    "duration": 105,
    "start_time": "2022-02-18T10:41:40.112Z"
   },
   {
    "duration": 12,
    "start_time": "2022-02-18T10:41:40.219Z"
   },
   {
    "duration": 42,
    "start_time": "2022-02-18T10:41:40.240Z"
   },
   {
    "duration": 159,
    "start_time": "2022-02-18T10:41:41.020Z"
   },
   {
    "duration": 265,
    "start_time": "2022-02-18T10:47:22.186Z"
   },
   {
    "duration": 164,
    "start_time": "2022-02-18T10:47:56.521Z"
   },
   {
    "duration": 545989,
    "start_time": "2022-02-18T10:48:19.657Z"
   },
   {
    "duration": 83,
    "start_time": "2022-02-18T11:00:32.587Z"
   },
   {
    "duration": 26,
    "start_time": "2022-02-18T11:02:55.545Z"
   },
   {
    "duration": 142971,
    "start_time": "2022-02-18T11:03:04.938Z"
   },
   {
    "duration": 4,
    "start_time": "2022-02-18T19:31:45.518Z"
   },
   {
    "duration": 60,
    "start_time": "2022-02-18T19:31:45.524Z"
   },
   {
    "duration": 14,
    "start_time": "2022-02-18T19:31:45.586Z"
   },
   {
    "duration": 18,
    "start_time": "2022-02-18T19:31:45.603Z"
   },
   {
    "duration": 65,
    "start_time": "2022-02-18T19:31:45.623Z"
   },
   {
    "duration": 10,
    "start_time": "2022-02-18T19:31:45.690Z"
   },
   {
    "duration": 6,
    "start_time": "2022-02-18T19:31:45.703Z"
   },
   {
    "duration": 17,
    "start_time": "2022-02-18T19:31:45.710Z"
   },
   {
    "duration": 4,
    "start_time": "2022-02-18T19:31:45.729Z"
   },
   {
    "duration": 37,
    "start_time": "2022-02-18T19:31:45.735Z"
   },
   {
    "duration": 25,
    "start_time": "2022-02-18T19:31:45.775Z"
   },
   {
    "duration": 105,
    "start_time": "2022-02-18T19:31:45.802Z"
   },
   {
    "duration": 15,
    "start_time": "2022-02-18T19:31:45.909Z"
   },
   {
    "duration": 54,
    "start_time": "2022-02-18T19:31:45.925Z"
   },
   {
    "duration": 7,
    "start_time": "2022-02-18T19:31:45.982Z"
   },
   {
    "duration": 138060,
    "start_time": "2022-02-18T19:31:46.388Z"
   },
   {
    "duration": 33,
    "start_time": "2022-02-18T19:34:04.450Z"
   },
   {
    "duration": 4,
    "start_time": "2022-02-18T19:36:30.397Z"
   },
   {
    "duration": 47,
    "start_time": "2022-02-18T19:36:30.403Z"
   },
   {
    "duration": 22,
    "start_time": "2022-02-18T19:36:30.452Z"
   },
   {
    "duration": 30,
    "start_time": "2022-02-18T19:36:30.475Z"
   },
   {
    "duration": 63,
    "start_time": "2022-02-18T19:36:30.507Z"
   },
   {
    "duration": 12,
    "start_time": "2022-02-18T19:36:30.572Z"
   },
   {
    "duration": 15,
    "start_time": "2022-02-18T19:36:30.587Z"
   },
   {
    "duration": 32,
    "start_time": "2022-02-18T19:36:30.605Z"
   },
   {
    "duration": 8,
    "start_time": "2022-02-18T19:36:30.640Z"
   },
   {
    "duration": 11,
    "start_time": "2022-02-18T19:36:30.649Z"
   },
   {
    "duration": 31,
    "start_time": "2022-02-18T19:36:30.662Z"
   },
   {
    "duration": 103,
    "start_time": "2022-02-18T19:36:30.696Z"
   },
   {
    "duration": 14,
    "start_time": "2022-02-18T19:36:30.802Z"
   },
   {
    "duration": 53,
    "start_time": "2022-02-18T19:36:30.818Z"
   },
   {
    "duration": 3,
    "start_time": "2022-02-18T19:36:30.873Z"
   },
   {
    "duration": 186,
    "start_time": "2022-02-18T19:36:30.877Z"
   },
   {
    "duration": 137527,
    "start_time": "2022-02-18T19:36:31.069Z"
   },
   {
    "duration": 77,
    "start_time": "2022-02-18T19:38:48.598Z"
   },
   {
    "duration": 179,
    "start_time": "2022-02-18T19:51:03.778Z"
   },
   {
    "duration": 230,
    "start_time": "2022-02-18T20:18:42.378Z"
   },
   {
    "duration": 17,
    "start_time": "2022-02-18T20:18:57.210Z"
   },
   {
    "duration": 290,
    "start_time": "2022-02-18T20:18:59.944Z"
   },
   {
    "duration": 4,
    "start_time": "2022-02-18T20:20:13.808Z"
   },
   {
    "duration": 54,
    "start_time": "2022-02-18T20:20:13.815Z"
   },
   {
    "duration": 15,
    "start_time": "2022-02-18T20:20:13.872Z"
   },
   {
    "duration": 39,
    "start_time": "2022-02-18T20:20:13.890Z"
   },
   {
    "duration": 69,
    "start_time": "2022-02-18T20:20:13.931Z"
   },
   {
    "duration": 12,
    "start_time": "2022-02-18T20:20:14.003Z"
   },
   {
    "duration": 10,
    "start_time": "2022-02-18T20:20:14.017Z"
   },
   {
    "duration": 30,
    "start_time": "2022-02-18T20:20:14.028Z"
   },
   {
    "duration": 9,
    "start_time": "2022-02-18T20:20:14.061Z"
   },
   {
    "duration": 19,
    "start_time": "2022-02-18T20:20:14.072Z"
   },
   {
    "duration": 41,
    "start_time": "2022-02-18T20:20:14.093Z"
   },
   {
    "duration": 84,
    "start_time": "2022-02-18T20:20:14.137Z"
   },
   {
    "duration": 14,
    "start_time": "2022-02-18T20:20:14.224Z"
   },
   {
    "duration": 53,
    "start_time": "2022-02-18T20:20:14.240Z"
   },
   {
    "duration": 2,
    "start_time": "2022-02-18T20:20:14.295Z"
   },
   {
    "duration": 179,
    "start_time": "2022-02-18T20:20:14.299Z"
   },
   {
    "duration": 138282,
    "start_time": "2022-02-18T20:20:14.479Z"
   },
   {
    "duration": 111,
    "start_time": "2022-02-18T20:22:32.764Z"
   },
   {
    "duration": 264,
    "start_time": "2022-02-18T20:22:32.877Z"
   },
   {
    "duration": 16,
    "start_time": "2022-02-18T20:22:33.143Z"
   },
   {
    "duration": 294,
    "start_time": "2022-02-18T20:22:33.161Z"
   },
   {
    "duration": 313,
    "start_time": "2022-02-19T10:44:07.448Z"
   },
   {
    "duration": 282,
    "start_time": "2022-02-19T10:44:08.289Z"
   },
   {
    "duration": 1471,
    "start_time": "2022-02-19T10:44:16.899Z"
   },
   {
    "duration": 40,
    "start_time": "2022-02-19T10:44:18.373Z"
   },
   {
    "duration": 25,
    "start_time": "2022-02-19T10:44:18.417Z"
   },
   {
    "duration": 49,
    "start_time": "2022-02-19T10:44:18.445Z"
   },
   {
    "duration": 70,
    "start_time": "2022-02-19T10:44:18.496Z"
   },
   {
    "duration": 37,
    "start_time": "2022-02-19T10:44:18.569Z"
   },
   {
    "duration": 6,
    "start_time": "2022-02-19T10:44:18.609Z"
   },
   {
    "duration": 20,
    "start_time": "2022-02-19T10:44:18.619Z"
   },
   {
    "duration": 6,
    "start_time": "2022-02-19T10:44:18.643Z"
   },
   {
    "duration": 49,
    "start_time": "2022-02-19T10:44:18.652Z"
   },
   {
    "duration": 34,
    "start_time": "2022-02-19T10:44:18.703Z"
   },
   {
    "duration": 160,
    "start_time": "2022-02-19T10:44:18.740Z"
   },
   {
    "duration": 19,
    "start_time": "2022-02-19T10:44:18.903Z"
   },
   {
    "duration": 72,
    "start_time": "2022-02-19T10:44:18.925Z"
   },
   {
    "duration": 5,
    "start_time": "2022-02-19T10:44:18.999Z"
   },
   {
    "duration": 229,
    "start_time": "2022-02-19T10:44:19.007Z"
   },
   {
    "duration": 195254,
    "start_time": "2022-02-19T10:44:19.239Z"
   },
   {
    "duration": 99,
    "start_time": "2022-02-19T10:47:34.496Z"
   },
   {
    "duration": 315,
    "start_time": "2022-02-19T10:47:34.598Z"
   },
   {
    "duration": 16,
    "start_time": "2022-02-19T10:47:34.915Z"
   },
   {
    "duration": 581,
    "start_time": "2022-02-19T10:47:34.933Z"
   },
   {
    "duration": 119,
    "start_time": "2022-02-19T10:47:35.398Z"
   },
   {
    "duration": 137,
    "start_time": "2022-02-19T10:56:27.115Z"
   },
   {
    "duration": 22,
    "start_time": "2022-02-19T10:56:38.643Z"
   },
   {
    "duration": 122,
    "start_time": "2022-02-19T10:56:39.416Z"
   },
   {
    "duration": 21,
    "start_time": "2022-02-19T10:56:50.617Z"
   },
   {
    "duration": 257,
    "start_time": "2022-02-19T10:56:52.323Z"
   },
   {
    "duration": 289,
    "start_time": "2022-02-19T10:57:01.427Z"
   },
   {
    "duration": 18,
    "start_time": "2022-02-19T11:35:49.474Z"
   },
   {
    "duration": 127,
    "start_time": "2022-02-19T11:36:08.795Z"
   },
   {
    "duration": 18,
    "start_time": "2022-02-19T11:36:16.147Z"
   },
   {
    "duration": 120,
    "start_time": "2022-02-19T11:36:17.921Z"
   },
   {
    "duration": 20,
    "start_time": "2022-02-19T11:36:24.852Z"
   },
   {
    "duration": 129,
    "start_time": "2022-02-19T11:36:25.987Z"
   },
   {
    "duration": 19,
    "start_time": "2022-02-19T11:36:37.847Z"
   },
   {
    "duration": 125,
    "start_time": "2022-02-19T11:36:39.051Z"
   },
   {
    "duration": 19,
    "start_time": "2022-02-19T11:36:46.506Z"
   },
   {
    "duration": 122,
    "start_time": "2022-02-19T11:36:48.194Z"
   },
   {
    "duration": 21,
    "start_time": "2022-02-19T11:37:10.480Z"
   },
   {
    "duration": 122,
    "start_time": "2022-02-19T11:37:11.882Z"
   },
   {
    "duration": 21,
    "start_time": "2022-02-19T11:37:22.389Z"
   },
   {
    "duration": 123,
    "start_time": "2022-02-19T11:37:23.391Z"
   },
   {
    "duration": 18,
    "start_time": "2022-02-19T11:37:39.683Z"
   },
   {
    "duration": 127,
    "start_time": "2022-02-19T11:37:40.866Z"
   },
   {
    "duration": 20,
    "start_time": "2022-02-19T11:37:54.042Z"
   },
   {
    "duration": 121,
    "start_time": "2022-02-19T11:37:55.121Z"
   },
   {
    "duration": 20,
    "start_time": "2022-02-19T11:38:03.016Z"
   },
   {
    "duration": 120,
    "start_time": "2022-02-19T11:38:04.065Z"
   },
   {
    "duration": 285,
    "start_time": "2022-02-19T11:38:20.453Z"
   },
   {
    "duration": 120,
    "start_time": "2022-02-19T11:38:42.887Z"
   },
   {
    "duration": 419,
    "start_time": "2022-02-19T11:43:16.120Z"
   },
   {
    "duration": 112,
    "start_time": "2022-02-19T11:43:17.030Z"
   },
   {
    "duration": 19,
    "start_time": "2022-02-19T11:43:32.557Z"
   },
   {
    "duration": 124,
    "start_time": "2022-02-19T11:43:33.977Z"
   },
   {
    "duration": 6,
    "start_time": "2022-02-19T12:30:26.578Z"
   },
   {
    "duration": 47,
    "start_time": "2022-02-19T12:30:26.586Z"
   },
   {
    "duration": 22,
    "start_time": "2022-02-19T12:30:26.637Z"
   },
   {
    "duration": 48,
    "start_time": "2022-02-19T12:30:26.663Z"
   },
   {
    "duration": 82,
    "start_time": "2022-02-19T12:30:26.713Z"
   },
   {
    "duration": 15,
    "start_time": "2022-02-19T12:30:26.798Z"
   },
   {
    "duration": 5,
    "start_time": "2022-02-19T12:30:26.816Z"
   },
   {
    "duration": 24,
    "start_time": "2022-02-19T12:30:26.825Z"
   },
   {
    "duration": 6,
    "start_time": "2022-02-19T12:30:26.852Z"
   },
   {
    "duration": 11,
    "start_time": "2022-02-19T12:30:26.894Z"
   },
   {
    "duration": 50,
    "start_time": "2022-02-19T12:30:26.908Z"
   },
   {
    "duration": 151,
    "start_time": "2022-02-19T12:30:26.961Z"
   },
   {
    "duration": 18,
    "start_time": "2022-02-19T12:30:27.115Z"
   },
   {
    "duration": 75,
    "start_time": "2022-02-19T12:30:27.136Z"
   },
   {
    "duration": 3,
    "start_time": "2022-02-19T12:30:27.213Z"
   },
   {
    "duration": 221,
    "start_time": "2022-02-19T12:30:27.219Z"
   },
   {
    "duration": 202839,
    "start_time": "2022-02-19T12:30:27.442Z"
   },
   {
    "duration": 104,
    "start_time": "2022-02-19T12:33:50.293Z"
   },
   {
    "duration": 327,
    "start_time": "2022-02-19T12:33:50.405Z"
   },
   {
    "duration": 20,
    "start_time": "2022-02-19T12:33:50.736Z"
   },
   {
    "duration": 150,
    "start_time": "2022-02-19T12:33:50.758Z"
   },
   {
    "duration": 301,
    "start_time": "2022-02-19T12:33:50.911Z"
   },
   {
    "duration": 23,
    "start_time": "2022-02-19T12:33:51.215Z"
   },
   {
    "duration": 140,
    "start_time": "2022-02-19T12:33:51.240Z"
   },
   {
    "duration": 138,
    "start_time": "2022-02-19T12:33:51.394Z"
   },
   {
    "duration": 19,
    "start_time": "2022-02-19T12:37:18.408Z"
   },
   {
    "duration": 119,
    "start_time": "2022-02-19T12:37:19.638Z"
   },
   {
    "duration": 420,
    "start_time": "2022-02-19T12:37:21.835Z"
   },
   {
    "duration": 6,
    "start_time": "2022-02-19T12:53:21.432Z"
   },
   {
    "duration": 48,
    "start_time": "2022-02-19T12:53:21.441Z"
   },
   {
    "duration": 20,
    "start_time": "2022-02-19T12:53:21.492Z"
   },
   {
    "duration": 26,
    "start_time": "2022-02-19T12:53:21.514Z"
   },
   {
    "duration": 86,
    "start_time": "2022-02-19T12:53:21.543Z"
   },
   {
    "duration": 14,
    "start_time": "2022-02-19T12:53:21.631Z"
   },
   {
    "duration": 7,
    "start_time": "2022-02-19T12:53:21.648Z"
   },
   {
    "duration": 48,
    "start_time": "2022-02-19T12:53:21.661Z"
   },
   {
    "duration": 5,
    "start_time": "2022-02-19T12:53:21.712Z"
   },
   {
    "duration": 10,
    "start_time": "2022-02-19T12:53:21.719Z"
   },
   {
    "duration": 65,
    "start_time": "2022-02-19T12:53:21.731Z"
   },
   {
    "duration": 132,
    "start_time": "2022-02-19T12:53:21.799Z"
   },
   {
    "duration": 16,
    "start_time": "2022-02-19T12:53:21.933Z"
   },
   {
    "duration": 65,
    "start_time": "2022-02-19T12:53:21.952Z"
   },
   {
    "duration": 3,
    "start_time": "2022-02-19T12:53:22.020Z"
   },
   {
    "duration": 226,
    "start_time": "2022-02-19T12:53:22.025Z"
   },
   {
    "duration": 190497,
    "start_time": "2022-02-19T12:53:22.253Z"
   },
   {
    "duration": 51,
    "start_time": "2022-02-19T12:56:32.752Z"
   },
   {
    "duration": 415,
    "start_time": "2022-02-19T12:56:32.807Z"
   },
   {
    "duration": 19,
    "start_time": "2022-02-19T12:56:33.224Z"
   },
   {
    "duration": 135,
    "start_time": "2022-02-19T12:56:33.246Z"
   },
   {
    "duration": 296,
    "start_time": "2022-02-19T12:56:33.384Z"
   },
   {
    "duration": 20,
    "start_time": "2022-02-19T12:56:33.692Z"
   },
   {
    "duration": 132,
    "start_time": "2022-02-19T12:56:33.715Z"
   },
   {
    "duration": 129,
    "start_time": "2022-02-19T12:56:33.850Z"
   },
   {
    "duration": 5,
    "start_time": "2022-02-19T14:02:00.152Z"
   },
   {
    "duration": 48,
    "start_time": "2022-02-19T14:02:00.159Z"
   },
   {
    "duration": 22,
    "start_time": "2022-02-19T14:02:00.209Z"
   },
   {
    "duration": 30,
    "start_time": "2022-02-19T14:02:00.233Z"
   },
   {
    "duration": 80,
    "start_time": "2022-02-19T14:02:00.266Z"
   },
   {
    "duration": 19,
    "start_time": "2022-02-19T14:02:00.350Z"
   },
   {
    "duration": 27,
    "start_time": "2022-02-19T14:02:00.372Z"
   },
   {
    "duration": 29,
    "start_time": "2022-02-19T14:02:00.401Z"
   },
   {
    "duration": 7,
    "start_time": "2022-02-19T14:02:00.433Z"
   },
   {
    "duration": 19,
    "start_time": "2022-02-19T14:02:00.442Z"
   },
   {
    "duration": 64,
    "start_time": "2022-02-19T14:02:00.463Z"
   },
   {
    "duration": 143,
    "start_time": "2022-02-19T14:02:00.530Z"
   },
   {
    "duration": 28,
    "start_time": "2022-02-19T14:02:00.675Z"
   },
   {
    "duration": 62,
    "start_time": "2022-02-19T14:02:00.707Z"
   },
   {
    "duration": 20,
    "start_time": "2022-02-19T14:02:00.773Z"
   },
   {
    "duration": 226,
    "start_time": "2022-02-19T14:02:00.796Z"
   },
   {
    "duration": 6,
    "start_time": "2022-02-19T14:05:14.113Z"
   },
   {
    "duration": 49,
    "start_time": "2022-02-19T14:05:14.121Z"
   },
   {
    "duration": 37,
    "start_time": "2022-02-19T14:05:14.173Z"
   },
   {
    "duration": 34,
    "start_time": "2022-02-19T14:05:14.214Z"
   },
   {
    "duration": 85,
    "start_time": "2022-02-19T14:05:14.251Z"
   },
   {
    "duration": 14,
    "start_time": "2022-02-19T14:05:14.339Z"
   },
   {
    "duration": 5,
    "start_time": "2022-02-19T14:05:14.356Z"
   },
   {
    "duration": 45,
    "start_time": "2022-02-19T14:05:14.364Z"
   },
   {
    "duration": 5,
    "start_time": "2022-02-19T14:05:14.412Z"
   },
   {
    "duration": 11,
    "start_time": "2022-02-19T14:05:14.420Z"
   },
   {
    "duration": 66,
    "start_time": "2022-02-19T14:05:14.434Z"
   },
   {
    "duration": 142,
    "start_time": "2022-02-19T14:05:14.503Z"
   },
   {
    "duration": 17,
    "start_time": "2022-02-19T14:05:14.648Z"
   },
   {
    "duration": 66,
    "start_time": "2022-02-19T14:05:14.667Z"
   },
   {
    "duration": 4,
    "start_time": "2022-02-19T14:05:14.737Z"
   },
   {
    "duration": 233,
    "start_time": "2022-02-19T14:05:14.744Z"
   },
   {
    "duration": 192017,
    "start_time": "2022-02-19T14:05:14.979Z"
   },
   {
    "duration": 95,
    "start_time": "2022-02-19T14:08:26.998Z"
   },
   {
    "duration": 323,
    "start_time": "2022-02-19T14:08:27.097Z"
   },
   {
    "duration": 19,
    "start_time": "2022-02-19T14:08:27.423Z"
   },
   {
    "duration": 137,
    "start_time": "2022-02-19T14:08:27.445Z"
   },
   {
    "duration": 303,
    "start_time": "2022-02-19T14:08:27.585Z"
   },
   {
    "duration": 18,
    "start_time": "2022-02-19T14:08:27.890Z"
   },
   {
    "duration": 142,
    "start_time": "2022-02-19T14:08:27.910Z"
   },
   {
    "duration": 130,
    "start_time": "2022-02-19T14:08:28.054Z"
   },
   {
    "duration": 273018,
    "start_time": "2022-02-19T14:08:28.187Z"
   },
   {
    "duration": 95,
    "start_time": "2022-02-19T14:13:01.208Z"
   },
   {
    "duration": 260,
    "start_time": "2022-02-19T20:21:00.959Z"
   },
   {
    "duration": 1118,
    "start_time": "2022-02-19T20:24:10.442Z"
   },
   {
    "duration": 32,
    "start_time": "2022-02-19T20:24:11.562Z"
   },
   {
    "duration": 15,
    "start_time": "2022-02-19T20:24:11.595Z"
   },
   {
    "duration": 12,
    "start_time": "2022-02-19T20:24:11.611Z"
   },
   {
    "duration": 40,
    "start_time": "2022-02-19T20:24:11.624Z"
   },
   {
    "duration": 9,
    "start_time": "2022-02-19T20:24:11.665Z"
   },
   {
    "duration": 8,
    "start_time": "2022-02-19T20:24:11.675Z"
   },
   {
    "duration": 13,
    "start_time": "2022-02-19T20:24:11.685Z"
   },
   {
    "duration": 3,
    "start_time": "2022-02-19T20:24:11.700Z"
   },
   {
    "duration": 10,
    "start_time": "2022-02-19T20:24:11.705Z"
   },
   {
    "duration": 40,
    "start_time": "2022-02-19T20:24:11.717Z"
   },
   {
    "duration": 69,
    "start_time": "2022-02-19T20:24:11.759Z"
   },
   {
    "duration": 18,
    "start_time": "2022-02-19T20:24:11.830Z"
   },
   {
    "duration": 26,
    "start_time": "2022-02-19T20:24:11.850Z"
   },
   {
    "duration": 2,
    "start_time": "2022-02-19T20:24:11.878Z"
   },
   {
    "duration": 151,
    "start_time": "2022-02-19T20:24:11.881Z"
   },
   {
    "duration": 112463,
    "start_time": "2022-02-19T20:24:12.034Z"
   },
   {
    "duration": 58,
    "start_time": "2022-02-19T20:26:04.499Z"
   },
   {
    "duration": 166,
    "start_time": "2022-02-19T20:26:04.647Z"
   },
   {
    "duration": 12,
    "start_time": "2022-02-19T20:26:04.814Z"
   },
   {
    "duration": 77,
    "start_time": "2022-02-19T20:26:04.827Z"
   },
   {
    "duration": 179,
    "start_time": "2022-02-19T20:26:04.905Z"
   },
   {
    "duration": 11,
    "start_time": "2022-02-19T20:26:05.086Z"
   },
   {
    "duration": 75,
    "start_time": "2022-02-19T20:26:05.099Z"
   },
   {
    "duration": 80,
    "start_time": "2022-02-19T20:26:05.176Z"
   },
   {
    "duration": 159108,
    "start_time": "2022-02-19T20:26:05.258Z"
   },
   {
    "duration": 22,
    "start_time": "2022-02-19T20:28:44.368Z"
   },
   {
    "duration": 440,
    "start_time": "2022-02-19T20:28:44.392Z"
   },
   {
    "duration": 157329,
    "start_time": "2022-02-19T21:02:49.704Z"
   },
   {
    "duration": 31,
    "start_time": "2022-02-19T21:08:00.245Z"
   },
   {
    "duration": 389,
    "start_time": "2022-02-19T21:08:03.678Z"
   },
   {
    "duration": 23,
    "start_time": "2022-02-19T21:08:43.890Z"
   },
   {
    "duration": 21,
    "start_time": "2022-02-19T21:08:47.016Z"
   },
   {
    "duration": 1570,
    "start_time": "2022-02-20T08:55:06.109Z"
   },
   {
    "duration": 47,
    "start_time": "2022-02-20T08:55:07.681Z"
   },
   {
    "duration": 26,
    "start_time": "2022-02-20T08:55:07.731Z"
   },
   {
    "duration": 20,
    "start_time": "2022-02-20T08:55:07.760Z"
   },
   {
    "duration": 81,
    "start_time": "2022-02-20T08:55:07.783Z"
   },
   {
    "duration": 16,
    "start_time": "2022-02-20T08:55:07.867Z"
   },
   {
    "duration": 27,
    "start_time": "2022-02-20T08:55:07.886Z"
   },
   {
    "duration": 23,
    "start_time": "2022-02-20T08:55:07.917Z"
   },
   {
    "duration": 7,
    "start_time": "2022-02-20T08:55:07.944Z"
   },
   {
    "duration": 12,
    "start_time": "2022-02-20T08:55:07.954Z"
   },
   {
    "duration": 79,
    "start_time": "2022-02-20T08:55:07.969Z"
   },
   {
    "duration": 205,
    "start_time": "2022-02-20T08:55:08.050Z"
   },
   {
    "duration": 30,
    "start_time": "2022-02-20T08:55:08.258Z"
   },
   {
    "duration": 65,
    "start_time": "2022-02-20T08:55:08.291Z"
   },
   {
    "duration": 3,
    "start_time": "2022-02-20T08:55:08.359Z"
   },
   {
    "duration": 251,
    "start_time": "2022-02-20T08:55:08.365Z"
   },
   {
    "duration": 192750,
    "start_time": "2022-02-20T08:55:08.619Z"
   },
   {
    "duration": 49,
    "start_time": "2022-02-20T08:58:21.371Z"
   },
   {
    "duration": 403,
    "start_time": "2022-02-20T08:58:21.423Z"
   },
   {
    "duration": 20,
    "start_time": "2022-02-20T08:58:21.829Z"
   },
   {
    "duration": 146,
    "start_time": "2022-02-20T08:58:21.852Z"
   },
   {
    "duration": 288,
    "start_time": "2022-02-20T08:58:22.001Z"
   },
   {
    "duration": 26,
    "start_time": "2022-02-20T08:58:22.293Z"
   },
   {
    "duration": 125,
    "start_time": "2022-02-20T08:58:22.321Z"
   },
   {
    "duration": 132,
    "start_time": "2022-02-20T08:58:22.449Z"
   },
   {
    "duration": 269656,
    "start_time": "2022-02-20T08:58:22.584Z"
   },
   {
    "duration": 75,
    "start_time": "2022-02-20T09:02:52.242Z"
   },
   {
    "duration": 191,
    "start_time": "2022-02-20T09:02:52.321Z"
   },
   {
    "duration": 1255,
    "start_time": "2022-02-21T08:25:48.322Z"
   },
   {
    "duration": 37,
    "start_time": "2022-02-21T08:25:49.579Z"
   },
   {
    "duration": 17,
    "start_time": "2022-02-21T08:25:49.618Z"
   },
   {
    "duration": 29,
    "start_time": "2022-02-21T08:25:49.638Z"
   },
   {
    "duration": 52,
    "start_time": "2022-02-21T08:25:49.669Z"
   },
   {
    "duration": 11,
    "start_time": "2022-02-21T08:25:49.723Z"
   },
   {
    "duration": 10,
    "start_time": "2022-02-21T08:25:49.736Z"
   },
   {
    "duration": 19,
    "start_time": "2022-02-21T08:25:49.749Z"
   },
   {
    "duration": 19,
    "start_time": "2022-02-21T08:25:49.770Z"
   },
   {
    "duration": 26,
    "start_time": "2022-02-21T08:25:49.791Z"
   },
   {
    "duration": 37,
    "start_time": "2022-02-21T08:25:49.819Z"
   },
   {
    "duration": 89,
    "start_time": "2022-02-21T08:25:49.858Z"
   },
   {
    "duration": 16,
    "start_time": "2022-02-21T08:25:49.949Z"
   },
   {
    "duration": 61,
    "start_time": "2022-02-21T08:25:49.967Z"
   },
   {
    "duration": 4,
    "start_time": "2022-02-21T08:25:50.030Z"
   },
   {
    "duration": 200,
    "start_time": "2022-02-21T08:25:50.036Z"
   },
   {
    "duration": 146342,
    "start_time": "2022-02-21T08:25:50.238Z"
   },
   {
    "duration": 36,
    "start_time": "2022-02-21T08:28:16.582Z"
   },
   {
    "duration": 365,
    "start_time": "2022-02-21T08:28:16.621Z"
   },
   {
    "duration": 20,
    "start_time": "2022-02-21T08:28:16.988Z"
   },
   {
    "duration": 81,
    "start_time": "2022-02-21T08:28:17.010Z"
   },
   {
    "duration": 239,
    "start_time": "2022-02-21T08:28:17.108Z"
   },
   {
    "duration": 14,
    "start_time": "2022-02-21T08:28:17.351Z"
   },
   {
    "duration": 97,
    "start_time": "2022-02-21T08:28:17.368Z"
   },
   {
    "duration": 110,
    "start_time": "2022-02-21T08:28:17.468Z"
   },
   {
    "duration": 203536,
    "start_time": "2022-02-21T08:28:17.581Z"
   },
   {
    "duration": 31,
    "start_time": "2022-02-21T08:37:11.971Z"
   },
   {
    "duration": 22,
    "start_time": "2022-02-21T08:38:49.973Z"
   },
   {
    "duration": 21,
    "start_time": "2022-02-21T08:38:59.058Z"
   },
   {
    "duration": 50,
    "start_time": "2022-02-21T08:47:20.957Z"
   },
   {
    "duration": 61,
    "start_time": "2022-02-21T09:23:05.550Z"
   },
   {
    "duration": 47,
    "start_time": "2022-02-21T09:39:33.865Z"
   },
   {
    "duration": 4,
    "start_time": "2022-02-21T10:18:14.281Z"
   },
   {
    "duration": 41,
    "start_time": "2022-02-21T10:18:14.290Z"
   },
   {
    "duration": 15,
    "start_time": "2022-02-21T10:18:14.333Z"
   },
   {
    "duration": 19,
    "start_time": "2022-02-21T10:18:14.350Z"
   },
   {
    "duration": 73,
    "start_time": "2022-02-21T10:18:14.372Z"
   },
   {
    "duration": 12,
    "start_time": "2022-02-21T10:18:14.448Z"
   },
   {
    "duration": 6,
    "start_time": "2022-02-21T10:18:14.462Z"
   },
   {
    "duration": 39,
    "start_time": "2022-02-21T10:18:14.470Z"
   },
   {
    "duration": 5,
    "start_time": "2022-02-21T10:18:14.513Z"
   },
   {
    "duration": 12,
    "start_time": "2022-02-21T10:18:14.521Z"
   },
   {
    "duration": 28,
    "start_time": "2022-02-21T10:18:14.535Z"
   },
   {
    "duration": 111,
    "start_time": "2022-02-21T10:18:14.566Z"
   },
   {
    "duration": 29,
    "start_time": "2022-02-21T10:18:14.680Z"
   },
   {
    "duration": 36,
    "start_time": "2022-02-21T10:18:14.711Z"
   },
   {
    "duration": 3,
    "start_time": "2022-02-21T10:18:14.750Z"
   },
   {
    "duration": 195,
    "start_time": "2022-02-21T10:18:14.755Z"
   },
   {
    "duration": 149337,
    "start_time": "2022-02-21T10:18:14.952Z"
   },
   {
    "duration": 33,
    "start_time": "2022-02-21T10:20:44.292Z"
   },
   {
    "duration": 366,
    "start_time": "2022-02-21T10:20:44.328Z"
   },
   {
    "duration": 20,
    "start_time": "2022-02-21T10:20:44.696Z"
   },
   {
    "duration": 92,
    "start_time": "2022-02-21T10:20:44.718Z"
   },
   {
    "duration": 229,
    "start_time": "2022-02-21T10:20:44.812Z"
   },
   {
    "duration": 14,
    "start_time": "2022-02-21T10:20:45.043Z"
   },
   {
    "duration": 101,
    "start_time": "2022-02-21T10:20:45.060Z"
   },
   {
    "duration": 107,
    "start_time": "2022-02-21T10:20:45.163Z"
   },
   {
    "duration": 199546,
    "start_time": "2022-02-21T10:20:45.272Z"
   },
   {
    "duration": 86,
    "start_time": "2022-02-21T10:24:04.820Z"
   },
   {
    "duration": 200,
    "start_time": "2022-02-21T10:24:04.910Z"
   },
   {
    "duration": 5,
    "start_time": "2022-02-21T11:37:57.041Z"
   },
   {
    "duration": 60,
    "start_time": "2022-02-21T11:37:57.048Z"
   },
   {
    "duration": 22,
    "start_time": "2022-02-21T11:37:57.111Z"
   },
   {
    "duration": 25,
    "start_time": "2022-02-21T11:37:57.136Z"
   },
   {
    "duration": 66,
    "start_time": "2022-02-21T11:37:57.164Z"
   },
   {
    "duration": 12,
    "start_time": "2022-02-21T11:37:57.232Z"
   },
   {
    "duration": 5,
    "start_time": "2022-02-21T11:37:57.739Z"
   },
   {
    "duration": 16,
    "start_time": "2022-02-21T11:37:58.526Z"
   },
   {
    "duration": 5,
    "start_time": "2022-02-21T11:37:58.544Z"
   },
   {
    "duration": 9,
    "start_time": "2022-02-21T11:38:02.736Z"
   },
   {
    "duration": 24,
    "start_time": "2022-02-21T11:40:15.404Z"
   },
   {
    "duration": 15,
    "start_time": "2022-02-21T11:42:32.610Z"
   },
   {
    "duration": 36,
    "start_time": "2022-02-21T11:43:08.062Z"
   },
   {
    "duration": 3,
    "start_time": "2022-02-21T11:44:38.836Z"
   },
   {
    "duration": 171,
    "start_time": "2022-02-21T11:45:32.882Z"
   },
   {
    "duration": 6786,
    "start_time": "2022-02-21T11:47:09.358Z"
   },
   {
    "duration": 4,
    "start_time": "2022-02-21T11:47:32.237Z"
   },
   {
    "duration": 103,
    "start_time": "2022-02-21T11:47:32.243Z"
   },
   {
    "duration": 39,
    "start_time": "2022-02-21T11:47:32.349Z"
   },
   {
    "duration": 32,
    "start_time": "2022-02-21T11:47:32.391Z"
   },
   {
    "duration": 63,
    "start_time": "2022-02-21T11:47:32.426Z"
   },
   {
    "duration": 26,
    "start_time": "2022-02-21T11:47:32.491Z"
   },
   {
    "duration": 16,
    "start_time": "2022-02-21T11:47:32.519Z"
   },
   {
    "duration": 28,
    "start_time": "2022-02-21T11:47:32.537Z"
   },
   {
    "duration": 26,
    "start_time": "2022-02-21T11:47:32.567Z"
   },
   {
    "duration": 19,
    "start_time": "2022-02-21T11:47:32.595Z"
   },
   {
    "duration": 32,
    "start_time": "2022-02-21T11:47:32.616Z"
   },
   {
    "duration": 86,
    "start_time": "2022-02-21T11:47:32.651Z"
   },
   {
    "duration": 16,
    "start_time": "2022-02-21T11:47:32.739Z"
   },
   {
    "duration": 54,
    "start_time": "2022-02-21T11:47:32.757Z"
   },
   {
    "duration": 3,
    "start_time": "2022-02-21T11:47:32.813Z"
   },
   {
    "duration": 188,
    "start_time": "2022-02-21T11:47:32.818Z"
   },
   {
    "duration": 148045,
    "start_time": "2022-02-21T11:47:33.008Z"
   },
   {
    "duration": 59,
    "start_time": "2022-02-21T12:03:21.178Z"
   },
   {
    "duration": 527,
    "start_time": "2022-02-21T12:04:32.072Z"
   },
   {
    "duration": 200,
    "start_time": "2022-02-21T12:04:38.604Z"
   },
   {
    "duration": 15,
    "start_time": "2022-02-21T12:06:21.644Z"
   },
   {
    "duration": 93,
    "start_time": "2022-02-21T12:06:25.270Z"
   },
   {
    "duration": 321,
    "start_time": "2022-02-21T12:07:40.219Z"
   },
   {
    "duration": 18,
    "start_time": "2022-02-21T12:07:44.807Z"
   },
   {
    "duration": 98,
    "start_time": "2022-02-21T12:07:50.789Z"
   },
   {
    "duration": 248,
    "start_time": "2022-02-21T12:08:12.628Z"
   },
   {
    "duration": 4,
    "start_time": "2022-02-21T12:13:52.342Z"
   },
   {
    "duration": 38,
    "start_time": "2022-02-21T12:13:52.348Z"
   },
   {
    "duration": 20,
    "start_time": "2022-02-21T12:13:52.389Z"
   },
   {
    "duration": 29,
    "start_time": "2022-02-21T12:13:52.411Z"
   },
   {
    "duration": 47,
    "start_time": "2022-02-21T12:13:52.443Z"
   },
   {
    "duration": 23,
    "start_time": "2022-02-21T12:13:52.492Z"
   },
   {
    "duration": 6,
    "start_time": "2022-02-21T12:13:52.518Z"
   },
   {
    "duration": 23,
    "start_time": "2022-02-21T12:13:52.526Z"
   },
   {
    "duration": 4,
    "start_time": "2022-02-21T12:13:52.550Z"
   },
   {
    "duration": 10,
    "start_time": "2022-02-21T12:13:52.556Z"
   },
   {
    "duration": 59,
    "start_time": "2022-02-21T12:13:52.568Z"
   },
   {
    "duration": 94,
    "start_time": "2022-02-21T12:13:52.629Z"
   },
   {
    "duration": 14,
    "start_time": "2022-02-21T12:13:52.725Z"
   },
   {
    "duration": 36,
    "start_time": "2022-02-21T12:13:52.742Z"
   },
   {
    "duration": 2,
    "start_time": "2022-02-21T12:13:52.780Z"
   },
   {
    "duration": 188,
    "start_time": "2022-02-21T12:13:52.807Z"
   },
   {
    "duration": 157159,
    "start_time": "2022-02-21T12:13:52.998Z"
   },
   {
    "duration": 56,
    "start_time": "2022-02-21T12:16:30.159Z"
   },
   {
    "duration": 314,
    "start_time": "2022-02-21T12:16:30.219Z"
   },
   {
    "duration": 15,
    "start_time": "2022-02-21T12:16:30.536Z"
   },
   {
    "duration": 163,
    "start_time": "2022-02-21T12:16:30.553Z"
   },
   {
    "duration": 443,
    "start_time": "2022-02-21T12:16:30.719Z"
   },
   {
    "duration": 22,
    "start_time": "2022-02-21T12:16:31.165Z"
   },
   {
    "duration": 113,
    "start_time": "2022-02-21T12:16:31.190Z"
   },
   {
    "duration": 117,
    "start_time": "2022-02-21T12:16:31.306Z"
   },
   {
    "duration": 214484,
    "start_time": "2022-02-21T12:16:31.425Z"
   },
   {
    "duration": 36,
    "start_time": "2022-02-21T12:20:05.912Z"
   },
   {
    "duration": 178,
    "start_time": "2022-02-21T12:20:05.952Z"
   },
   {
    "duration": 105,
    "start_time": "2022-02-23T09:42:09.869Z"
   },
   {
    "duration": 1555,
    "start_time": "2022-02-23T09:50:11.331Z"
   },
   {
    "duration": 40,
    "start_time": "2022-02-23T09:50:12.890Z"
   },
   {
    "duration": 33,
    "start_time": "2022-02-23T09:50:12.933Z"
   },
   {
    "duration": 27,
    "start_time": "2022-02-23T09:50:12.969Z"
   },
   {
    "duration": 82,
    "start_time": "2022-02-23T09:50:12.998Z"
   },
   {
    "duration": 16,
    "start_time": "2022-02-23T09:50:13.083Z"
   },
   {
    "duration": 6,
    "start_time": "2022-02-23T09:50:13.101Z"
   },
   {
    "duration": 46,
    "start_time": "2022-02-23T09:50:13.111Z"
   },
   {
    "duration": 4,
    "start_time": "2022-02-23T09:50:13.160Z"
   },
   {
    "duration": 21,
    "start_time": "2022-02-23T09:50:13.167Z"
   },
   {
    "duration": 58,
    "start_time": "2022-02-23T09:50:13.191Z"
   },
   {
    "duration": 129,
    "start_time": "2022-02-23T09:50:13.252Z"
   },
   {
    "duration": 18,
    "start_time": "2022-02-23T09:50:13.385Z"
   },
   {
    "duration": 75,
    "start_time": "2022-02-23T09:50:13.405Z"
   },
   {
    "duration": 3,
    "start_time": "2022-02-23T09:50:13.483Z"
   },
   {
    "duration": 3,
    "start_time": "2022-02-23T09:50:16.735Z"
   },
   {
    "duration": 234,
    "start_time": "2022-02-23T09:50:17.832Z"
   },
   {
    "duration": 236,
    "start_time": "2022-02-23T09:50:33.963Z"
   },
   {
    "duration": 204066,
    "start_time": "2022-02-23T09:55:52.714Z"
   },
   {
    "duration": 40,
    "start_time": "2022-02-23T10:03:44.814Z"
   },
   {
    "duration": 222,
    "start_time": "2022-02-23T10:09:43.670Z"
   },
   {
    "duration": 19,
    "start_time": "2022-02-23T10:09:46.696Z"
   },
   {
    "duration": 115,
    "start_time": "2022-02-23T10:09:48.606Z"
   },
   {
    "duration": 267,
    "start_time": "2022-02-23T10:09:50.854Z"
   },
   {
    "duration": 19,
    "start_time": "2022-02-23T10:09:52.690Z"
   },
   {
    "duration": 111,
    "start_time": "2022-02-23T10:09:53.668Z"
   },
   {
    "duration": 114,
    "start_time": "2022-02-23T10:09:55.553Z"
   },
   {
    "duration": 286094,
    "start_time": "2022-02-23T10:13:41.756Z"
   },
   {
    "duration": 93,
    "start_time": "2022-02-23T10:20:12.058Z"
   },
   {
    "duration": 374,
    "start_time": "2022-02-23T10:32:35.890Z"
   },
   {
    "duration": 381,
    "start_time": "2022-02-23T10:33:50.179Z"
   },
   {
    "duration": 503,
    "start_time": "2022-02-23T10:35:04.663Z"
   },
   {
    "duration": 520,
    "start_time": "2022-02-23T10:35:16.979Z"
   },
   {
    "duration": 388,
    "start_time": "2022-02-23T10:36:04.049Z"
   },
   {
    "duration": 489,
    "start_time": "2022-02-23T10:37:38.195Z"
   },
   {
    "duration": 470,
    "start_time": "2022-02-23T10:37:52.873Z"
   },
   {
    "duration": 500,
    "start_time": "2022-02-23T10:39:26.154Z"
   },
   {
    "duration": 89,
    "start_time": "2022-02-23T10:39:40.813Z"
   },
   {
    "duration": 481,
    "start_time": "2022-02-23T10:39:50.090Z"
   },
   {
    "duration": 547,
    "start_time": "2022-02-23T10:40:50.229Z"
   },
   {
    "duration": 471,
    "start_time": "2022-02-23T10:42:38.512Z"
   },
   {
    "duration": 1177,
    "start_time": "2022-02-23T12:12:51.216Z"
   },
   {
    "duration": 34,
    "start_time": "2022-02-23T12:12:52.395Z"
   },
   {
    "duration": 18,
    "start_time": "2022-02-23T12:12:52.431Z"
   },
   {
    "duration": 13,
    "start_time": "2022-02-23T12:12:52.451Z"
   },
   {
    "duration": 62,
    "start_time": "2022-02-23T12:12:52.466Z"
   },
   {
    "duration": 11,
    "start_time": "2022-02-23T12:12:52.530Z"
   },
   {
    "duration": 4,
    "start_time": "2022-02-23T12:12:52.542Z"
   },
   {
    "duration": 18,
    "start_time": "2022-02-23T12:12:52.549Z"
   },
   {
    "duration": 4,
    "start_time": "2022-02-23T12:12:52.569Z"
   },
   {
    "duration": 8,
    "start_time": "2022-02-23T12:12:52.574Z"
   },
   {
    "duration": 52,
    "start_time": "2022-02-23T12:12:52.584Z"
   },
   {
    "duration": 90,
    "start_time": "2022-02-23T12:12:52.638Z"
   },
   {
    "duration": 14,
    "start_time": "2022-02-23T12:12:52.729Z"
   },
   {
    "duration": 32,
    "start_time": "2022-02-23T12:12:52.744Z"
   },
   {
    "duration": 4,
    "start_time": "2022-02-23T12:13:09.108Z"
   },
   {
    "duration": 30,
    "start_time": "2022-02-23T12:13:09.114Z"
   },
   {
    "duration": 12,
    "start_time": "2022-02-23T12:13:09.146Z"
   },
   {
    "duration": 14,
    "start_time": "2022-02-23T12:13:09.160Z"
   },
   {
    "duration": 55,
    "start_time": "2022-02-23T12:13:09.176Z"
   },
   {
    "duration": 10,
    "start_time": "2022-02-23T12:13:09.232Z"
   },
   {
    "duration": 4,
    "start_time": "2022-02-23T12:13:09.244Z"
   },
   {
    "duration": 17,
    "start_time": "2022-02-23T12:13:09.250Z"
   },
   {
    "duration": 4,
    "start_time": "2022-02-23T12:13:09.268Z"
   },
   {
    "duration": 10,
    "start_time": "2022-02-23T12:13:09.273Z"
   },
   {
    "duration": 52,
    "start_time": "2022-02-23T12:13:09.285Z"
   },
   {
    "duration": 81,
    "start_time": "2022-02-23T12:13:09.339Z"
   },
   {
    "duration": 12,
    "start_time": "2022-02-23T12:13:09.422Z"
   },
   {
    "duration": 32,
    "start_time": "2022-02-23T12:13:09.436Z"
   },
   {
    "duration": 2,
    "start_time": "2022-02-23T12:13:09.470Z"
   },
   {
    "duration": 203,
    "start_time": "2022-02-23T12:13:09.474Z"
   },
   {
    "duration": 150240,
    "start_time": "2022-02-23T12:13:09.679Z"
   },
   {
    "duration": 27,
    "start_time": "2022-02-23T12:15:39.921Z"
   },
   {
    "duration": 281,
    "start_time": "2022-02-23T12:15:40.022Z"
   },
   {
    "duration": 20,
    "start_time": "2022-02-23T12:15:40.305Z"
   },
   {
    "duration": 93,
    "start_time": "2022-02-23T12:15:40.328Z"
   },
   {
    "duration": 239,
    "start_time": "2022-02-23T12:15:40.424Z"
   },
   {
    "duration": 13,
    "start_time": "2022-02-23T12:15:40.665Z"
   },
   {
    "duration": 142,
    "start_time": "2022-02-23T12:15:40.680Z"
   },
   {
    "duration": 145,
    "start_time": "2022-02-23T12:15:40.824Z"
   },
   {
    "duration": 199857,
    "start_time": "2022-02-23T12:15:40.971Z"
   },
   {
    "duration": 92,
    "start_time": "2022-02-23T12:19:00.830Z"
   },
   {
    "duration": 195,
    "start_time": "2022-02-23T12:19:00.925Z"
   },
   {
    "duration": 396,
    "start_time": "2022-02-23T12:19:01.123Z"
   },
   {
    "duration": 458,
    "start_time": "2022-02-23T12:20:40.878Z"
   },
   {
    "duration": 252,
    "start_time": "2022-02-23T12:20:48.004Z"
   },
   {
    "duration": 290,
    "start_time": "2022-02-23T12:20:55.741Z"
   },
   {
    "duration": 290,
    "start_time": "2022-02-23T12:21:02.762Z"
   },
   {
    "duration": 508,
    "start_time": "2022-02-23T12:22:53.650Z"
   },
   {
    "duration": 501,
    "start_time": "2022-02-23T12:23:00.396Z"
   },
   {
    "duration": 484,
    "start_time": "2022-02-23T12:23:08.853Z"
   },
   {
    "duration": 552,
    "start_time": "2022-02-23T12:23:19.059Z"
   },
   {
    "duration": 318,
    "start_time": "2022-02-23T12:23:26.915Z"
   },
   {
    "duration": 270,
    "start_time": "2022-02-23T12:23:36.600Z"
   },
   {
    "duration": 290,
    "start_time": "2022-02-23T12:24:47.292Z"
   },
   {
    "duration": 511,
    "start_time": "2022-02-23T12:24:54.307Z"
   },
   {
    "duration": 364,
    "start_time": "2022-02-23T12:25:03.110Z"
   }
  ],
  "kernelspec": {
   "display_name": "Python 3 (ipykernel)",
   "language": "python",
   "name": "python3"
  },
  "language_info": {
   "codemirror_mode": {
    "name": "ipython",
    "version": 3
   },
   "file_extension": ".py",
   "mimetype": "text/x-python",
   "name": "python",
   "nbconvert_exporter": "python",
   "pygments_lexer": "ipython3",
   "version": "3.9.5"
  },
  "toc": {
   "base_numbering": 1,
   "nav_menu": {},
   "number_sections": true,
   "sideBar": true,
   "skip_h1_title": true,
   "title_cell": "Содержание",
   "title_sidebar": "Contents",
   "toc_cell": true,
   "toc_position": {
    "height": "calc(100% - 180px)",
    "left": "10px",
    "top": "150px",
    "width": "289.594px"
   },
   "toc_section_display": true,
   "toc_window_display": true
  }
 },
 "nbformat": 4,
 "nbformat_minor": 2
}
