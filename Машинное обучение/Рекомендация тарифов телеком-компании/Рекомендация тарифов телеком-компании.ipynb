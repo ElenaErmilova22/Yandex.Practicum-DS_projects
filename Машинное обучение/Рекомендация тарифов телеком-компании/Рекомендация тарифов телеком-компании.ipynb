{
 "cells": [
  {
   "cell_type": "markdown",
   "metadata": {},
   "source": [
    "## Аннотация: Рекомендация тарифов"
   ]
  },
  {
   "cell_type": "markdown",
   "metadata": {},
   "source": [
    "На основе данных о поведении клиентов компании \"Мегалайн\", перешедших на тарифы \"Смарт\" и \"Ультра\" нужно построить модель для задачи классификации, которая выберет подходящий тариф (**цель** проекта). **Задача** проекта: выбрать модель с максимально большим значением *accuracy* (не менее 0.75)."
   ]
  },
  {
   "cell_type": "markdown",
   "metadata": {},
   "source": [
    "## Знакомство с данными"
   ]
  },
  {
   "cell_type": "code",
   "execution_count": 5,
   "metadata": {},
   "outputs": [],
   "source": [
    "#импортируем библиотеки, которые понадобятся нам в исследовании\n",
    "import pandas as pd\n",
    "from sklearn.model_selection import train_test_split\n",
    "from sklearn.tree import DecisionTreeClassifier\n",
    "from sklearn.metrics import accuracy_score\n",
    "from sklearn.ensemble import RandomForestClassifier\n",
    "from sklearn.linear_model import LogisticRegression\n",
    "from sklearn.dummy import DummyClassifier"
   ]
  },
  {
   "cell_type": "code",
   "execution_count": 6,
   "metadata": {},
   "outputs": [
    {
     "name": "stdout",
     "output_type": "stream",
     "text": [
      "<class 'pandas.core.frame.DataFrame'>\n",
      "RangeIndex: 3214 entries, 0 to 3213\n",
      "Data columns (total 5 columns):\n",
      "calls       3214 non-null float64\n",
      "minutes     3214 non-null float64\n",
      "messages    3214 non-null float64\n",
      "mb_used     3214 non-null float64\n",
      "is_ultra    3214 non-null int64\n",
      "dtypes: float64(4), int64(1)\n",
      "memory usage: 125.7 KB\n"
     ]
    }
   ],
   "source": [
    "initial_data = pd.read_csv('/datasets/users_behavior.csv') #применяем специальный метод для чтения файла формата csv\n",
    "initial_data.info() #запрашиваем и выводим общую информацию об исходном датафрейме"
   ]
  },
  {
   "cell_type": "code",
   "execution_count": 7,
   "metadata": {},
   "outputs": [
    {
     "data": {
      "text/html": [
       "<div>\n",
       "<style scoped>\n",
       "    .dataframe tbody tr th:only-of-type {\n",
       "        vertical-align: middle;\n",
       "    }\n",
       "\n",
       "    .dataframe tbody tr th {\n",
       "        vertical-align: top;\n",
       "    }\n",
       "\n",
       "    .dataframe thead th {\n",
       "        text-align: right;\n",
       "    }\n",
       "</style>\n",
       "<table border=\"1\" class=\"dataframe\">\n",
       "  <thead>\n",
       "    <tr style=\"text-align: right;\">\n",
       "      <th></th>\n",
       "      <th>calls</th>\n",
       "      <th>minutes</th>\n",
       "      <th>messages</th>\n",
       "      <th>mb_used</th>\n",
       "      <th>is_ultra</th>\n",
       "    </tr>\n",
       "  </thead>\n",
       "  <tbody>\n",
       "    <tr>\n",
       "      <td>0</td>\n",
       "      <td>40.0</td>\n",
       "      <td>311.90</td>\n",
       "      <td>83.0</td>\n",
       "      <td>19915.42</td>\n",
       "      <td>0</td>\n",
       "    </tr>\n",
       "    <tr>\n",
       "      <td>1</td>\n",
       "      <td>85.0</td>\n",
       "      <td>516.75</td>\n",
       "      <td>56.0</td>\n",
       "      <td>22696.96</td>\n",
       "      <td>0</td>\n",
       "    </tr>\n",
       "    <tr>\n",
       "      <td>2</td>\n",
       "      <td>77.0</td>\n",
       "      <td>467.66</td>\n",
       "      <td>86.0</td>\n",
       "      <td>21060.45</td>\n",
       "      <td>0</td>\n",
       "    </tr>\n",
       "    <tr>\n",
       "      <td>3</td>\n",
       "      <td>106.0</td>\n",
       "      <td>745.53</td>\n",
       "      <td>81.0</td>\n",
       "      <td>8437.39</td>\n",
       "      <td>1</td>\n",
       "    </tr>\n",
       "    <tr>\n",
       "      <td>4</td>\n",
       "      <td>66.0</td>\n",
       "      <td>418.74</td>\n",
       "      <td>1.0</td>\n",
       "      <td>14502.75</td>\n",
       "      <td>0</td>\n",
       "    </tr>\n",
       "    <tr>\n",
       "      <td>5</td>\n",
       "      <td>58.0</td>\n",
       "      <td>344.56</td>\n",
       "      <td>21.0</td>\n",
       "      <td>15823.37</td>\n",
       "      <td>0</td>\n",
       "    </tr>\n",
       "    <tr>\n",
       "      <td>6</td>\n",
       "      <td>57.0</td>\n",
       "      <td>431.64</td>\n",
       "      <td>20.0</td>\n",
       "      <td>3738.90</td>\n",
       "      <td>1</td>\n",
       "    </tr>\n",
       "    <tr>\n",
       "      <td>7</td>\n",
       "      <td>15.0</td>\n",
       "      <td>132.40</td>\n",
       "      <td>6.0</td>\n",
       "      <td>21911.60</td>\n",
       "      <td>0</td>\n",
       "    </tr>\n",
       "    <tr>\n",
       "      <td>8</td>\n",
       "      <td>7.0</td>\n",
       "      <td>43.39</td>\n",
       "      <td>3.0</td>\n",
       "      <td>2538.67</td>\n",
       "      <td>1</td>\n",
       "    </tr>\n",
       "    <tr>\n",
       "      <td>9</td>\n",
       "      <td>90.0</td>\n",
       "      <td>665.41</td>\n",
       "      <td>38.0</td>\n",
       "      <td>17358.61</td>\n",
       "      <td>0</td>\n",
       "    </tr>\n",
       "  </tbody>\n",
       "</table>\n",
       "</div>"
      ],
      "text/plain": [
       "   calls  minutes  messages   mb_used  is_ultra\n",
       "0   40.0   311.90      83.0  19915.42         0\n",
       "1   85.0   516.75      56.0  22696.96         0\n",
       "2   77.0   467.66      86.0  21060.45         0\n",
       "3  106.0   745.53      81.0   8437.39         1\n",
       "4   66.0   418.74       1.0  14502.75         0\n",
       "5   58.0   344.56      21.0  15823.37         0\n",
       "6   57.0   431.64      20.0   3738.90         1\n",
       "7   15.0   132.40       6.0  21911.60         0\n",
       "8    7.0    43.39       3.0   2538.67         1\n",
       "9   90.0   665.41      38.0  17358.61         0"
      ]
     },
     "metadata": {},
     "output_type": "display_data"
    }
   ],
   "source": [
    "#произведем обзор полученных данных, вызвав 10 верхних и нижних строк датафрейма\n",
    "display(initial_data.head(10))"
   ]
  },
  {
   "cell_type": "code",
   "execution_count": 8,
   "metadata": {},
   "outputs": [
    {
     "data": {
      "text/html": [
       "<div>\n",
       "<style scoped>\n",
       "    .dataframe tbody tr th:only-of-type {\n",
       "        vertical-align: middle;\n",
       "    }\n",
       "\n",
       "    .dataframe tbody tr th {\n",
       "        vertical-align: top;\n",
       "    }\n",
       "\n",
       "    .dataframe thead th {\n",
       "        text-align: right;\n",
       "    }\n",
       "</style>\n",
       "<table border=\"1\" class=\"dataframe\">\n",
       "  <thead>\n",
       "    <tr style=\"text-align: right;\">\n",
       "      <th></th>\n",
       "      <th>calls</th>\n",
       "      <th>minutes</th>\n",
       "      <th>messages</th>\n",
       "      <th>mb_used</th>\n",
       "      <th>is_ultra</th>\n",
       "    </tr>\n",
       "  </thead>\n",
       "  <tbody>\n",
       "    <tr>\n",
       "      <td>3204</td>\n",
       "      <td>86.0</td>\n",
       "      <td>658.66</td>\n",
       "      <td>47.0</td>\n",
       "      <td>14153.10</td>\n",
       "      <td>0</td>\n",
       "    </tr>\n",
       "    <tr>\n",
       "      <td>3205</td>\n",
       "      <td>59.0</td>\n",
       "      <td>412.81</td>\n",
       "      <td>16.0</td>\n",
       "      <td>14105.03</td>\n",
       "      <td>0</td>\n",
       "    </tr>\n",
       "    <tr>\n",
       "      <td>3206</td>\n",
       "      <td>76.0</td>\n",
       "      <td>586.51</td>\n",
       "      <td>54.0</td>\n",
       "      <td>14345.74</td>\n",
       "      <td>0</td>\n",
       "    </tr>\n",
       "    <tr>\n",
       "      <td>3207</td>\n",
       "      <td>17.0</td>\n",
       "      <td>92.39</td>\n",
       "      <td>2.0</td>\n",
       "      <td>4299.25</td>\n",
       "      <td>0</td>\n",
       "    </tr>\n",
       "    <tr>\n",
       "      <td>3208</td>\n",
       "      <td>164.0</td>\n",
       "      <td>1016.98</td>\n",
       "      <td>71.0</td>\n",
       "      <td>17787.52</td>\n",
       "      <td>1</td>\n",
       "    </tr>\n",
       "    <tr>\n",
       "      <td>3209</td>\n",
       "      <td>122.0</td>\n",
       "      <td>910.98</td>\n",
       "      <td>20.0</td>\n",
       "      <td>35124.90</td>\n",
       "      <td>1</td>\n",
       "    </tr>\n",
       "    <tr>\n",
       "      <td>3210</td>\n",
       "      <td>25.0</td>\n",
       "      <td>190.36</td>\n",
       "      <td>0.0</td>\n",
       "      <td>3275.61</td>\n",
       "      <td>0</td>\n",
       "    </tr>\n",
       "    <tr>\n",
       "      <td>3211</td>\n",
       "      <td>97.0</td>\n",
       "      <td>634.44</td>\n",
       "      <td>70.0</td>\n",
       "      <td>13974.06</td>\n",
       "      <td>0</td>\n",
       "    </tr>\n",
       "    <tr>\n",
       "      <td>3212</td>\n",
       "      <td>64.0</td>\n",
       "      <td>462.32</td>\n",
       "      <td>90.0</td>\n",
       "      <td>31239.78</td>\n",
       "      <td>0</td>\n",
       "    </tr>\n",
       "    <tr>\n",
       "      <td>3213</td>\n",
       "      <td>80.0</td>\n",
       "      <td>566.09</td>\n",
       "      <td>6.0</td>\n",
       "      <td>29480.52</td>\n",
       "      <td>1</td>\n",
       "    </tr>\n",
       "  </tbody>\n",
       "</table>\n",
       "</div>"
      ],
      "text/plain": [
       "      calls  minutes  messages   mb_used  is_ultra\n",
       "3204   86.0   658.66      47.0  14153.10         0\n",
       "3205   59.0   412.81      16.0  14105.03         0\n",
       "3206   76.0   586.51      54.0  14345.74         0\n",
       "3207   17.0    92.39       2.0   4299.25         0\n",
       "3208  164.0  1016.98      71.0  17787.52         1\n",
       "3209  122.0   910.98      20.0  35124.90         1\n",
       "3210   25.0   190.36       0.0   3275.61         0\n",
       "3211   97.0   634.44      70.0  13974.06         0\n",
       "3212   64.0   462.32      90.0  31239.78         0\n",
       "3213   80.0   566.09       6.0  29480.52         1"
      ]
     },
     "metadata": {},
     "output_type": "display_data"
    }
   ],
   "source": [
    "display(initial_data.tail(10))"
   ]
  },
  {
   "cell_type": "markdown",
   "metadata": {},
   "source": [
    "### Вывод:\n",
    "Всего в датафрейме 5 столбцов и 3214  строк.\n",
    "Пропусков нет, стилистических ошибок и проблем, требующих устранения, в данных не наблюдается, т.к. они уже были предобработаны в ходе более раннего исследования.\n",
    "\n",
    "Перейдем к подготовке данных для обучения и использования моделей."
   ]
  },
  {
   "cell_type": "markdown",
   "metadata": {},
   "source": [
    "## Разделение данных на выборки"
   ]
  },
  {
   "cell_type": "markdown",
   "metadata": {},
   "source": [
    "Нам нужно разбить данные на три части, получив в итоге обучающую, валидационную и тестовую выборки. Делить будем в соотношении 3:1:1, т.к. тестовая выборка \"не спрятана\", а также может быть выделена из исходных данных. \n",
    "\n",
    "Для этих целей применим дважды инструмент train_test_split. "
   ]
  },
  {
   "cell_type": "code",
   "execution_count": 9,
   "metadata": {},
   "outputs": [],
   "source": [
    "#выделяем признаки и целевой признак\n",
    "features = initial_data.drop(['is_ultra'], axis=1) \n",
    "target = initial_data['is_ultra'] \n",
    "\n",
    "#отделяем от общего объема данных тестовую выборку\n",
    "features, features_test, target, target_test = train_test_split(features, target, test_size=0.2, random_state=12345)\n",
    "#делим оставшиеся данные на обучающую и валидационную выборки\n",
    "features_train, features_valid, target_train, target_valid = train_test_split(features, target, test_size=0.25, random_state=12345)"
   ]
  },
  {
   "cell_type": "markdown",
   "metadata": {},
   "source": [
    "### Вывод:\n",
    "На данном этапе мы подготовили исходные данные к использованию в обучении, применении и проверки работы моделей, а именно:\n",
    "- выделили в отдельные переменные признаки и целевой признак (тариф, согласно обозначенной цели проекта);\n",
    "- разделили данные на три выборки, которые будут использоваться на разных этапах работы с моделями.\n",
    "\n",
    "Теперь можем перейти исследованию моделей."
   ]
  },
  {
   "cell_type": "markdown",
   "metadata": {},
   "source": [
    "## Исследование моделей"
   ]
  },
  {
   "cell_type": "markdown",
   "metadata": {},
   "source": [
    "В данном исследовании мы будем работать с тремя моделями: решающее дерево, случайный лес и логистическая регрессия. На этом этапе мы обучим модели на тренировочной выборке и применим их на валидационной выборке, а также подсчитаем значение accuracy для определения качества модели (также на валидационной выборке). \n",
    "\n",
    "Начнем с решающего дерева. Построим цикл, который будет перебирать глубину дерева и сравнивать получаемые результаты для определения оптимального параметра и лучшего результата:"
   ]
  },
  {
   "cell_type": "code",
   "execution_count": 10,
   "metadata": {},
   "outputs": [
    {
     "name": "stdout",
     "output_type": "stream",
     "text": [
      "Лучшая глубина модели: 7\n",
      "Лучший результат решающего дерева: 0.774\n"
     ]
    }
   ],
   "source": [
    "best_tree_model = None\n",
    "best_tree_result = 0\n",
    "best_tree_depth = 0\n",
    "\n",
    "for depth in range(1,11):\n",
    "    model = DecisionTreeClassifier(random_state=12345, max_depth=depth) \n",
    "    model.fit(features_train, target_train) #обучаем модель на тренировочной выборке\n",
    "    predictions_valid = model.predict(features_valid) #получаем предсказание на валидационной выборке\n",
    "    result_tree = accuracy_score(target_valid, predictions_valid) #считаем качество модели на валидационной выборке\n",
    "    if result_tree > best_tree_result:\n",
    "        best_tree_model = model\n",
    "        best_tree_result = result_tree\n",
    "        best_tree_depth = depth\n",
    "        \n",
    "print('Лучшая глубина модели:', best_tree_depth)\n",
    "print('Лучший результат решающего дерева:', best_tree_result.round(3))"
   ]
  },
  {
   "cell_type": "markdown",
   "metadata": {},
   "source": [
    "Согласно подсчетам, лучший результат модели решающего дерева (0.774) был получен при глубине, равной 7. \n",
    "\n",
    "Перейдем к следующей модели - случайному лесу. Порядок действий будет аналогичным, за исключением того, что помимо глубины деревьев в лесу, мы будем также менять и их количество."
   ]
  },
  {
   "cell_type": "code",
   "execution_count": 11,
   "metadata": {},
   "outputs": [
    {
     "name": "stdout",
     "output_type": "stream",
     "text": [
      "Лучшее количество деревьев: 20\n",
      "Лучшая глубина модели: 15\n",
      "Лучший результат случайного леса: 0.802\n"
     ]
    }
   ],
   "source": [
    "best_forest_model = None\n",
    "best_forest_result = 0\n",
    "best_forest_estimators = 0\n",
    "best_forest_depth = 0\n",
    "\n",
    "for est in range(1,101):\n",
    "    for depth in range(1,21):\n",
    "            model_forest = RandomForestClassifier(random_state=12345, n_estimators=est, max_depth=depth)\n",
    "            model_forest.fit(features_train, target_train)\n",
    "            predictions_valid = model_forest.predict(features_valid)\n",
    "            result_forest = accuracy_score(target_valid, predictions_valid) \n",
    "            if result_forest > best_forest_result:\n",
    "                best_forest_model = model_forest\n",
    "                best_forest_result = result_forest\n",
    "                best_forest_estimators = est\n",
    "                best_forest_depth = depth\n",
    "                \n",
    "print('Лучшее количество деревьев:', best_forest_estimators)\n",
    "print('Лучшая глубина модели:', best_forest_depth)\n",
    "print('Лучший результат случайного леса:', best_forest_result.round(3))"
   ]
  },
  {
   "cell_type": "markdown",
   "metadata": {},
   "source": [
    "Согласно подсчетам, лучший результат модели случайного леса (0.802) был получен при количестве деревьев, равном 20, и глубине, равной 15. \n",
    "\n",
    "Наконец перейдем к модели логистической регрессии. В ней мы не будем искать оптимальные параметры, поэтому необходимости в циклах также нет."
   ]
  },
  {
   "cell_type": "code",
   "execution_count": 12,
   "metadata": {},
   "outputs": [
    {
     "name": "stdout",
     "output_type": "stream",
     "text": [
      "Результат логистической регрессии: 0.771\n"
     ]
    },
    {
     "name": "stderr",
     "output_type": "stream",
     "text": [
      "/opt/conda/lib/python3.7/site-packages/sklearn/linear_model/logistic.py:432: FutureWarning: Default solver will be changed to 'lbfgs' in 0.22. Specify a solver to silence this warning.\n",
      "  FutureWarning)\n"
     ]
    }
   ],
   "source": [
    "model_regression = LogisticRegression(random_state=12345)\n",
    "model_regression.fit(features_train, target_train)\n",
    "predictions_valid = model_regression.predict(features_valid)\n",
    "result_regression = model.score(features_valid, target_valid) \n",
    "print('Результат логистической регрессии:', result_regression.round(3))"
   ]
  },
  {
   "cell_type": "markdown",
   "metadata": {},
   "source": [
    "Согласно подсчетам, лучший результат модели логистической регрессии - 0.771."
   ]
  },
  {
   "cell_type": "markdown",
   "metadata": {},
   "source": [
    "### Вывод:\n",
    "\n",
    "Все исследованные модели преодолели пороговое значение accuracy. Наилучшую оценку показала модель случайного леса с 20-ю деревьями и глубиной, равной 15 - 0.802. Наихудший результат у наиболее быстрой и имеющей наименее громоздкий код логистической регрессии - 0.771. Впрочем, это всего на 3 тысячных меньше, чем у решающего дерева с глубиной, равной 7 (0.774).\n",
    "\n",
    "На следующем этапе проверим исследованные модели на тестовой выборке."
   ]
  },
  {
   "cell_type": "markdown",
   "metadata": {},
   "source": [
    "## Проверка моделей на тестовой выборке"
   ]
  },
  {
   "cell_type": "markdown",
   "metadata": {},
   "source": [
    "На данном этапе протестируем получившиеся и сохраненные на предыдущем шаге лучшие модели на тестовой выборке. Проверять будем в том же порядке, в каком модели обучались."
   ]
  },
  {
   "cell_type": "code",
   "execution_count": 13,
   "metadata": {},
   "outputs": [
    {
     "name": "stdout",
     "output_type": "stream",
     "text": [
      "Accuracy решающего дерева: 0.788\n",
      "Accuracy случайного леса: 0.785\n",
      "Accuracy логистической регрессии: 0.703\n"
     ]
    }
   ],
   "source": [
    "#тестируем решающее дерево\n",
    "predictions_test = best_tree_model.predict(features_test)\n",
    "test_result_tree = accuracy_score(target_test, predictions_test) \n",
    "\n",
    "#тестируем случайный лес\n",
    "predictions_test = best_forest_model.predict(features_test)\n",
    "test_result_forest = accuracy_score(target_test, predictions_test) \n",
    "\n",
    "#тестируем логистическую регрессию\n",
    "predictions_test = model_regression.predict(features_test)\n",
    "test_result_regression = accuracy_score(target_test, predictions_test) \n",
    "\n",
    "#выводим результаты на экран для сравнения\n",
    "print('Accuracy решающего дерева:', test_result_tree.round(3))\n",
    "print('Accuracy случайного леса:', test_result_forest.round(3))\n",
    "print('Accuracy логистической регрессии:', test_result_regression.round(3))"
   ]
  },
  {
   "cell_type": "markdown",
   "metadata": {},
   "source": [
    "### Вывод:\n",
    "\n",
    "При проверке на тестовой выборке лучший результат показала модель решающего дерева (0.788). Модель случайного леса уступила ей всего три тысячные (0.785), тогда как модель логистической регрессии не смогла преодолеть пороговое значение accuracy (0.703)."
   ]
  },
  {
   "cell_type": "markdown",
   "metadata": {},
   "source": [
    "## Проверка моделей на адекватность"
   ]
  },
  {
   "cell_type": "markdown",
   "metadata": {},
   "source": [
    "Теперь проверим наши модели на адекватность. Для этого сравним полученные на предыдущем шаге результаты с результатами константной модели. В библиотеке sklearn есть такая модель: DummyClassifier"
   ]
  },
  {
   "cell_type": "code",
   "execution_count": 14,
   "metadata": {},
   "outputs": [
    {
     "name": "stdout",
     "output_type": "stream",
     "text": [
      "Результат проверки на адекватность: 0.695\n"
     ]
    }
   ],
   "source": [
    "dummy_clf = DummyClassifier(random_state=12345, strategy='most_frequent')\n",
    "dummy_clf.fit(features_train, target_train)\n",
    "result_dc = dummy_clf.score(features_test, target_test)\n",
    "print('Результат проверки на адекватность:', result_dc.round(3))"
   ]
  },
  {
   "cell_type": "markdown",
   "metadata": {},
   "source": [
    "### Вывод:\n",
    "\n",
    "Качество константной модели ниже выбранных нами лучших моделей, следовательно, проверку на адекватность они прошли. "
   ]
  },
  {
   "cell_type": "markdown",
   "metadata": {},
   "source": [
    "## Итоговый вывод"
   ]
  },
  {
   "cell_type": "markdown",
   "metadata": {},
   "source": [
    "В данном проекте мы исследовали три модели машинного обучения: решающее дерево, случайный лес и логистическую регрессию. \n",
    "\n",
    "Обучив их на тренировочной выборке из исходных данных, мы применили их к валидационной выборке, подсчитали качество каждой модели, получив значения, выше порогового (0.75), а именно 0.774, 0.802 и 0.771 соответственно. \n",
    "\n",
    "При проверке на тестовой выборке качество моделей изменилось. У решающего дерева улучшилось (0.788), у случайного леса ухудшилось (0.785), у логистической регрессии ухудшилось так, что модель не смогла преодолеть пороговое значение (0.703).\n",
    "\n",
    "Таким образом, можно сделать вывод, что наиболее подходящая для имеющихся данных модель - **решающее дерево**."
   ]
  }
 ],
 "metadata": {
  "ExecuteTimeLog": [
   {
    "duration": 992,
    "start_time": "2022-02-06T12:53:26.035Z"
   },
   {
    "duration": 21,
    "start_time": "2022-02-06T12:54:32.298Z"
   },
   {
    "duration": 6,
    "start_time": "2022-02-06T14:06:40.331Z"
   },
   {
    "duration": 144,
    "start_time": "2022-02-06T21:39:46.842Z"
   },
   {
    "duration": 13,
    "start_time": "2022-02-06T21:40:00.130Z"
   },
   {
    "duration": 1016,
    "start_time": "2022-02-07T15:59:28.283Z"
   },
   {
    "duration": 23,
    "start_time": "2022-02-07T15:59:29.301Z"
   },
   {
    "duration": 16,
    "start_time": "2022-02-07T15:59:29.327Z"
   },
   {
    "duration": 18,
    "start_time": "2022-02-07T15:59:29.345Z"
   },
   {
    "duration": 11,
    "start_time": "2022-02-07T15:59:29.365Z"
   },
   {
    "duration": 27,
    "start_time": "2022-02-07T15:59:29.378Z"
   },
   {
    "duration": 267,
    "start_time": "2022-02-07T16:50:31.787Z"
   },
   {
    "duration": 265,
    "start_time": "2022-02-07T16:52:32.073Z"
   },
   {
    "duration": 52,
    "start_time": "2022-02-07T16:52:46.467Z"
   },
   {
    "duration": 924,
    "start_time": "2022-02-07T16:54:18.161Z"
   },
   {
    "duration": 4568,
    "start_time": "2022-02-07T16:57:20.415Z"
   },
   {
    "duration": 4537,
    "start_time": "2022-02-07T16:57:41.209Z"
   },
   {
    "duration": 4580,
    "start_time": "2022-02-07T16:58:41.584Z"
   },
   {
    "duration": 51,
    "start_time": "2022-02-07T16:59:08.541Z"
   },
   {
    "duration": 18082,
    "start_time": "2022-02-07T16:59:15.601Z"
   },
   {
    "duration": 17458,
    "start_time": "2022-02-07T17:02:02.488Z"
   },
   {
    "duration": 17628,
    "start_time": "2022-02-07T17:04:00.237Z"
   },
   {
    "duration": 17620,
    "start_time": "2022-02-07T17:06:25.518Z"
   },
   {
    "duration": 222,
    "start_time": "2022-02-07T17:09:23.206Z"
   },
   {
    "duration": 10,
    "start_time": "2022-02-07T17:11:43.160Z"
   },
   {
    "duration": 190,
    "start_time": "2022-02-07T17:12:40.910Z"
   },
   {
    "duration": 3,
    "start_time": "2022-02-07T17:13:49.137Z"
   },
   {
    "duration": 22,
    "start_time": "2022-02-07T17:13:49.145Z"
   },
   {
    "duration": 9,
    "start_time": "2022-02-07T17:13:49.169Z"
   },
   {
    "duration": 10,
    "start_time": "2022-02-07T17:13:49.180Z"
   },
   {
    "duration": 10,
    "start_time": "2022-02-07T17:13:49.192Z"
   },
   {
    "duration": 71,
    "start_time": "2022-02-07T17:13:49.204Z"
   },
   {
    "duration": 17407,
    "start_time": "2022-02-07T17:13:49.277Z"
   },
   {
    "duration": 178,
    "start_time": "2022-02-07T17:14:06.685Z"
   },
   {
    "duration": 191,
    "start_time": "2022-02-07T20:57:33.436Z"
   },
   {
    "duration": 10,
    "start_time": "2022-02-07T20:57:54.603Z"
   },
   {
    "duration": 11,
    "start_time": "2022-02-07T20:58:10.041Z"
   },
   {
    "duration": 6,
    "start_time": "2022-02-07T21:02:31.359Z"
   },
   {
    "duration": 5,
    "start_time": "2022-02-07T21:03:41.756Z"
   },
   {
    "duration": 5,
    "start_time": "2022-02-07T21:04:46.146Z"
   },
   {
    "duration": 12,
    "start_time": "2022-02-07T21:09:00.390Z"
   },
   {
    "duration": 10,
    "start_time": "2022-02-07T21:09:09.355Z"
   },
   {
    "duration": 11,
    "start_time": "2022-02-07T21:09:19.640Z"
   },
   {
    "duration": 1148,
    "start_time": "2022-02-09T15:38:00.015Z"
   },
   {
    "duration": 23,
    "start_time": "2022-02-09T15:38:01.165Z"
   },
   {
    "duration": 31,
    "start_time": "2022-02-09T15:38:01.190Z"
   },
   {
    "duration": 37,
    "start_time": "2022-02-09T15:38:01.223Z"
   },
   {
    "duration": 37,
    "start_time": "2022-02-09T15:38:01.262Z"
   },
   {
    "duration": 383,
    "start_time": "2022-02-09T15:38:01.301Z"
   },
   {
    "duration": -126,
    "start_time": "2022-02-09T15:38:01.813Z"
   },
   {
    "duration": -131,
    "start_time": "2022-02-09T15:38:01.819Z"
   },
   {
    "duration": -140,
    "start_time": "2022-02-09T15:38:01.830Z"
   },
   {
    "duration": -141,
    "start_time": "2022-02-09T15:38:01.833Z"
   },
   {
    "duration": -146,
    "start_time": "2022-02-09T15:38:01.839Z"
   },
   {
    "duration": 57,
    "start_time": "2022-02-09T15:38:39.291Z"
   },
   {
    "duration": 14435,
    "start_time": "2022-02-09T15:38:44.958Z"
   },
   {
    "duration": 13,
    "start_time": "2022-02-09T15:39:22.871Z"
   },
   {
    "duration": 4,
    "start_time": "2022-02-09T15:39:27.020Z"
   },
   {
    "duration": 28,
    "start_time": "2022-02-09T15:39:27.026Z"
   },
   {
    "duration": 14,
    "start_time": "2022-02-09T15:39:27.056Z"
   },
   {
    "duration": 16,
    "start_time": "2022-02-09T15:39:27.072Z"
   },
   {
    "duration": 13,
    "start_time": "2022-02-09T15:39:27.090Z"
   },
   {
    "duration": 59,
    "start_time": "2022-02-09T15:39:27.105Z"
   },
   {
    "duration": 21527,
    "start_time": "2022-02-09T15:39:27.166Z"
   },
   {
    "duration": 14,
    "start_time": "2022-02-09T15:39:48.694Z"
   },
   {
    "duration": 6,
    "start_time": "2022-02-09T15:39:48.710Z"
   },
   {
    "duration": 25,
    "start_time": "2022-02-09T15:39:48.718Z"
   },
   {
    "duration": 283,
    "start_time": "2022-02-09T15:39:48.745Z"
   },
   {
    "duration": 7,
    "start_time": "2022-02-09T16:15:44.849Z"
   },
   {
    "duration": 6,
    "start_time": "2022-02-09T16:16:11.688Z"
   },
   {
    "duration": 7,
    "start_time": "2022-02-09T16:53:44.103Z"
   },
   {
    "duration": 7,
    "start_time": "2022-02-09T16:55:27.922Z"
   },
   {
    "duration": 4,
    "start_time": "2022-02-09T18:01:39.991Z"
   },
   {
    "duration": 31,
    "start_time": "2022-02-09T18:01:39.998Z"
   },
   {
    "duration": 11,
    "start_time": "2022-02-09T18:01:40.032Z"
   },
   {
    "duration": 18,
    "start_time": "2022-02-09T18:01:40.045Z"
   },
   {
    "duration": 11,
    "start_time": "2022-02-09T18:01:40.065Z"
   },
   {
    "duration": 61,
    "start_time": "2022-02-09T18:01:40.091Z"
   },
   {
    "duration": 206771,
    "start_time": "2022-02-09T18:01:40.154Z"
   },
   {
    "duration": 12,
    "start_time": "2022-02-09T18:05:06.928Z"
   },
   {
    "duration": 6,
    "start_time": "2022-02-09T18:05:06.942Z"
   },
   {
    "duration": 28,
    "start_time": "2022-02-09T18:05:06.949Z"
   },
   {
    "duration": 6,
    "start_time": "2022-02-09T18:05:06.999Z"
   },
   {
    "duration": 14,
    "start_time": "2022-02-09T18:05:07.007Z"
   },
   {
    "duration": 121748,
    "start_time": "2022-02-09T18:11:27.389Z"
   },
   {
    "duration": 935499,
    "start_time": "2022-02-09T18:14:27.886Z"
   },
   {
    "duration": 3698438,
    "start_time": "2022-02-09T18:33:57.744Z"
   },
   {
    "duration": 99,
    "start_time": "2022-02-09T19:51:32.041Z"
   },
   {
    "duration": 123835,
    "start_time": "2022-02-09T19:51:54.650Z"
   },
   {
    "duration": 122665,
    "start_time": "2022-02-09T20:07:32.787Z"
   },
   {
    "duration": 311247,
    "start_time": "2022-02-09T20:16:17.279Z"
   },
   {
    "duration": 334,
    "start_time": "2022-02-10T13:10:04.884Z"
   },
   {
    "duration": 1463,
    "start_time": "2022-02-10T13:10:14.150Z"
   },
   {
    "duration": 26,
    "start_time": "2022-02-10T13:10:15.616Z"
   },
   {
    "duration": 34,
    "start_time": "2022-02-10T13:10:15.646Z"
   },
   {
    "duration": 14,
    "start_time": "2022-02-10T13:10:15.683Z"
   },
   {
    "duration": 12,
    "start_time": "2022-02-10T13:10:15.699Z"
   },
   {
    "duration": 121,
    "start_time": "2022-02-10T13:10:15.714Z"
   },
   {
    "duration": 433876,
    "start_time": "2022-02-10T13:10:15.837Z"
   },
   {
    "duration": 7696,
    "start_time": "2022-02-10T13:17:29.716Z"
   },
   {
    "duration": 22,
    "start_time": "2022-02-10T13:17:37.416Z"
   },
   {
    "duration": 28,
    "start_time": "2022-02-10T13:17:37.441Z"
   },
   {
    "duration": 11,
    "start_time": "2022-02-10T13:17:37.472Z"
   },
   {
    "duration": 7,
    "start_time": "2022-02-10T13:17:37.486Z"
   },
   {
    "duration": 10,
    "start_time": "2022-02-10T13:17:37.495Z"
   },
   {
    "duration": 5,
    "start_time": "2022-02-10T16:32:32.668Z"
   },
   {
    "duration": 28,
    "start_time": "2022-02-10T16:32:32.676Z"
   },
   {
    "duration": 13,
    "start_time": "2022-02-10T16:32:32.708Z"
   },
   {
    "duration": 21,
    "start_time": "2022-02-10T16:32:32.724Z"
   },
   {
    "duration": 34,
    "start_time": "2022-02-10T16:32:32.747Z"
   },
   {
    "duration": 98,
    "start_time": "2022-02-10T16:32:32.783Z"
   },
   {
    "duration": 434870,
    "start_time": "2022-02-10T16:32:32.884Z"
   },
   {
    "duration": 27,
    "start_time": "2022-02-10T16:39:47.757Z"
   },
   {
    "duration": 18,
    "start_time": "2022-02-10T16:39:47.786Z"
   },
   {
    "duration": 12,
    "start_time": "2022-02-10T16:39:47.807Z"
   },
   {
    "duration": 47,
    "start_time": "2022-02-10T16:39:47.822Z"
   },
   {
    "duration": 10,
    "start_time": "2022-02-10T16:39:47.872Z"
   },
   {
    "duration": 9,
    "start_time": "2022-02-10T16:59:46.600Z"
   },
   {
    "duration": 5,
    "start_time": "2022-02-10T17:08:25.445Z"
   },
   {
    "duration": 29,
    "start_time": "2022-02-10T17:08:25.453Z"
   },
   {
    "duration": 19,
    "start_time": "2022-02-10T17:08:25.486Z"
   },
   {
    "duration": 19,
    "start_time": "2022-02-10T17:08:25.508Z"
   },
   {
    "duration": 44,
    "start_time": "2022-02-10T17:08:25.530Z"
   },
   {
    "duration": 92,
    "start_time": "2022-02-10T17:08:25.577Z"
   },
   {
    "duration": 443432,
    "start_time": "2022-02-10T17:08:25.672Z"
   },
   {
    "duration": 18,
    "start_time": "2022-02-10T17:15:49.108Z"
   },
   {
    "duration": 44,
    "start_time": "2022-02-10T17:15:49.128Z"
   },
   {
    "duration": 8,
    "start_time": "2022-02-10T17:15:49.174Z"
   },
   {
    "duration": 86,
    "start_time": "2022-02-11T14:09:18.700Z"
   },
   {
    "duration": 61,
    "start_time": "2022-02-11T14:09:27.418Z"
   },
   {
    "duration": 67,
    "start_time": "2022-02-11T14:09:51.268Z"
   },
   {
    "duration": 246,
    "start_time": "2022-02-11T14:21:28.293Z"
   },
   {
    "duration": 1054,
    "start_time": "2022-02-11T14:21:41.090Z"
   },
   {
    "duration": 18,
    "start_time": "2022-02-11T14:21:42.146Z"
   },
   {
    "duration": 15,
    "start_time": "2022-02-11T14:21:42.166Z"
   },
   {
    "duration": 9,
    "start_time": "2022-02-11T14:21:42.183Z"
   },
   {
    "duration": 24,
    "start_time": "2022-02-11T14:21:42.194Z"
   },
   {
    "duration": 55,
    "start_time": "2022-02-11T14:21:42.219Z"
   },
   {
    "duration": 284283,
    "start_time": "2022-02-11T14:21:42.276Z"
   },
   {
    "duration": 12,
    "start_time": "2022-02-11T14:26:26.561Z"
   },
   {
    "duration": 12,
    "start_time": "2022-02-11T14:26:26.575Z"
   },
   {
    "duration": 27,
    "start_time": "2022-02-11T14:26:26.589Z"
   }
  ],
  "kernelspec": {
   "display_name": "Python 3 (ipykernel)",
   "language": "python",
   "name": "python3"
  },
  "language_info": {
   "codemirror_mode": {
    "name": "ipython",
    "version": 3
   },
   "file_extension": ".py",
   "mimetype": "text/x-python",
   "name": "python",
   "nbconvert_exporter": "python",
   "pygments_lexer": "ipython3",
   "version": "3.9.5"
  },
  "toc": {
   "base_numbering": 1,
   "nav_menu": {},
   "number_sections": true,
   "sideBar": true,
   "skip_h1_title": true,
   "title_cell": "Table of Contents",
   "title_sidebar": "Contents",
   "toc_cell": false,
   "toc_position": {},
   "toc_section_display": true,
   "toc_window_display": true
  }
 },
 "nbformat": 4,
 "nbformat_minor": 2
}
