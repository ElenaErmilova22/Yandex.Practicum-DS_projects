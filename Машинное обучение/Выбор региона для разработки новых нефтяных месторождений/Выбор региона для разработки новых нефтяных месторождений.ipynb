{
 "cells": [
  {
   "cell_type": "markdown",
   "metadata": {},
   "source": [
    "## Аннотация: выбор локации для скважины"
   ]
  },
  {
   "cell_type": "markdown",
   "metadata": {},
   "source": [
    "На основании предоставленных проб нефти в трех регионах, необходимо выявить из них тот, что принесет наибольшую прибыль при бурении новых скважин. \n",
    "\n",
    "**Цель** исследования: построить модель машинного обучения, которая поможет определить регион, где добыча принесёт наибольшую прибыль при наименьшем риске убытков. \n",
    "\n",
    "**Задача**: проанализировать возможную прибыль и риски техникой Bootstrap и выбрать регион с вероятностью убытков менее 2,5%."
   ]
  },
  {
   "cell_type": "markdown",
   "metadata": {},
   "source": [
    "## Знакомство с данными "
   ]
  },
  {
   "cell_type": "code",
   "execution_count": 65,
   "metadata": {},
   "outputs": [],
   "source": [
    "#импортируем библиотеки, которые понадобятся нам в ходе исследования\n",
    "import pandas as pd\n",
    "import numpy as np\n",
    "from sklearn.model_selection import train_test_split\n",
    "from sklearn.linear_model import LinearRegression\n",
    "from sklearn.metrics import mean_squared_error, r2_score"
   ]
  },
  {
   "cell_type": "code",
   "execution_count": 66,
   "metadata": {},
   "outputs": [],
   "source": [
    "#применяем специальный метод для чтения файлов формата csv\n",
    "region_one = pd.read_csv ('/datasets/geo_data_0.csv')\n",
    "region_two = pd.read_csv ('/datasets/geo_data_1.csv')\n",
    "region_three = pd.read_csv ('/datasets/geo_data_2.csv')"
   ]
  },
  {
   "cell_type": "markdown",
   "metadata": {},
   "source": [
    "Теперь необходимо ознакомиться с имеющимися данными, провести их первичный анализ, чтобы получить общее представление о том, с чем придется работать в ходе исследования, и чтобы выявить проблемы в данных, которые нужно будет устранить на этапе предобработки. \n",
    "\n",
    "Так как в этот раз мы будем работать сразу с несколькими исходными таблицами, то удобнее будет автоматизировать процесс получения необходимой информации. Создадим функцию, которая будет выводить:\n",
    "- общую информацию о таблице;\n",
    "- 10 первых и последних строк фрейма;\n",
    "- описательную статистику таблицы;\n",
    "- результаты проверки на наличие в данных явных дубликатов."
   ]
  },
  {
   "cell_type": "code",
   "execution_count": 67,
   "metadata": {},
   "outputs": [],
   "source": [
    "def study_of_initial_data(data): #создаем функцию\n",
    "    print(data.info())\n",
    "    print()\n",
    "    display(data.head(10))\n",
    "    print()\n",
    "    display(data.tail(10))\n",
    "    print()\n",
    "    display(data.describe())\n",
    "    print()\n",
    "    print(data.duplicated().sum())"
   ]
  },
  {
   "cell_type": "code",
   "execution_count": 68,
   "metadata": {},
   "outputs": [
    {
     "name": "stdout",
     "output_type": "stream",
     "text": [
      "<class 'pandas.core.frame.DataFrame'>\n",
      "RangeIndex: 100000 entries, 0 to 99999\n",
      "Data columns (total 5 columns):\n",
      "id         100000 non-null object\n",
      "f0         100000 non-null float64\n",
      "f1         100000 non-null float64\n",
      "f2         100000 non-null float64\n",
      "product    100000 non-null float64\n",
      "dtypes: float64(4), object(1)\n",
      "memory usage: 3.8+ MB\n",
      "None\n",
      "\n"
     ]
    },
    {
     "data": {
      "text/html": [
       "<div>\n",
       "<style scoped>\n",
       "    .dataframe tbody tr th:only-of-type {\n",
       "        vertical-align: middle;\n",
       "    }\n",
       "\n",
       "    .dataframe tbody tr th {\n",
       "        vertical-align: top;\n",
       "    }\n",
       "\n",
       "    .dataframe thead th {\n",
       "        text-align: right;\n",
       "    }\n",
       "</style>\n",
       "<table border=\"1\" class=\"dataframe\">\n",
       "  <thead>\n",
       "    <tr style=\"text-align: right;\">\n",
       "      <th></th>\n",
       "      <th>id</th>\n",
       "      <th>f0</th>\n",
       "      <th>f1</th>\n",
       "      <th>f2</th>\n",
       "      <th>product</th>\n",
       "    </tr>\n",
       "  </thead>\n",
       "  <tbody>\n",
       "    <tr>\n",
       "      <td>0</td>\n",
       "      <td>txEyH</td>\n",
       "      <td>0.705745</td>\n",
       "      <td>-0.497823</td>\n",
       "      <td>1.221170</td>\n",
       "      <td>105.280062</td>\n",
       "    </tr>\n",
       "    <tr>\n",
       "      <td>1</td>\n",
       "      <td>2acmU</td>\n",
       "      <td>1.334711</td>\n",
       "      <td>-0.340164</td>\n",
       "      <td>4.365080</td>\n",
       "      <td>73.037750</td>\n",
       "    </tr>\n",
       "    <tr>\n",
       "      <td>2</td>\n",
       "      <td>409Wp</td>\n",
       "      <td>1.022732</td>\n",
       "      <td>0.151990</td>\n",
       "      <td>1.419926</td>\n",
       "      <td>85.265647</td>\n",
       "    </tr>\n",
       "    <tr>\n",
       "      <td>3</td>\n",
       "      <td>iJLyR</td>\n",
       "      <td>-0.032172</td>\n",
       "      <td>0.139033</td>\n",
       "      <td>2.978566</td>\n",
       "      <td>168.620776</td>\n",
       "    </tr>\n",
       "    <tr>\n",
       "      <td>4</td>\n",
       "      <td>Xdl7t</td>\n",
       "      <td>1.988431</td>\n",
       "      <td>0.155413</td>\n",
       "      <td>4.751769</td>\n",
       "      <td>154.036647</td>\n",
       "    </tr>\n",
       "    <tr>\n",
       "      <td>5</td>\n",
       "      <td>wX4Hy</td>\n",
       "      <td>0.969570</td>\n",
       "      <td>0.489775</td>\n",
       "      <td>-0.735383</td>\n",
       "      <td>64.741541</td>\n",
       "    </tr>\n",
       "    <tr>\n",
       "      <td>6</td>\n",
       "      <td>tL6pL</td>\n",
       "      <td>0.645075</td>\n",
       "      <td>0.530656</td>\n",
       "      <td>1.780266</td>\n",
       "      <td>49.055285</td>\n",
       "    </tr>\n",
       "    <tr>\n",
       "      <td>7</td>\n",
       "      <td>BYPU6</td>\n",
       "      <td>-0.400648</td>\n",
       "      <td>0.808337</td>\n",
       "      <td>-5.624670</td>\n",
       "      <td>72.943292</td>\n",
       "    </tr>\n",
       "    <tr>\n",
       "      <td>8</td>\n",
       "      <td>j9Oui</td>\n",
       "      <td>0.643105</td>\n",
       "      <td>-0.551583</td>\n",
       "      <td>2.372141</td>\n",
       "      <td>113.356160</td>\n",
       "    </tr>\n",
       "    <tr>\n",
       "      <td>9</td>\n",
       "      <td>OLuZU</td>\n",
       "      <td>2.173381</td>\n",
       "      <td>0.563698</td>\n",
       "      <td>9.441852</td>\n",
       "      <td>127.910945</td>\n",
       "    </tr>\n",
       "  </tbody>\n",
       "</table>\n",
       "</div>"
      ],
      "text/plain": [
       "      id        f0        f1        f2     product\n",
       "0  txEyH  0.705745 -0.497823  1.221170  105.280062\n",
       "1  2acmU  1.334711 -0.340164  4.365080   73.037750\n",
       "2  409Wp  1.022732  0.151990  1.419926   85.265647\n",
       "3  iJLyR -0.032172  0.139033  2.978566  168.620776\n",
       "4  Xdl7t  1.988431  0.155413  4.751769  154.036647\n",
       "5  wX4Hy  0.969570  0.489775 -0.735383   64.741541\n",
       "6  tL6pL  0.645075  0.530656  1.780266   49.055285\n",
       "7  BYPU6 -0.400648  0.808337 -5.624670   72.943292\n",
       "8  j9Oui  0.643105 -0.551583  2.372141  113.356160\n",
       "9  OLuZU  2.173381  0.563698  9.441852  127.910945"
      ]
     },
     "metadata": {},
     "output_type": "display_data"
    },
    {
     "name": "stdout",
     "output_type": "stream",
     "text": [
      "\n"
     ]
    },
    {
     "data": {
      "text/html": [
       "<div>\n",
       "<style scoped>\n",
       "    .dataframe tbody tr th:only-of-type {\n",
       "        vertical-align: middle;\n",
       "    }\n",
       "\n",
       "    .dataframe tbody tr th {\n",
       "        vertical-align: top;\n",
       "    }\n",
       "\n",
       "    .dataframe thead th {\n",
       "        text-align: right;\n",
       "    }\n",
       "</style>\n",
       "<table border=\"1\" class=\"dataframe\">\n",
       "  <thead>\n",
       "    <tr style=\"text-align: right;\">\n",
       "      <th></th>\n",
       "      <th>id</th>\n",
       "      <th>f0</th>\n",
       "      <th>f1</th>\n",
       "      <th>f2</th>\n",
       "      <th>product</th>\n",
       "    </tr>\n",
       "  </thead>\n",
       "  <tbody>\n",
       "    <tr>\n",
       "      <td>99990</td>\n",
       "      <td>uQHju</td>\n",
       "      <td>-0.169592</td>\n",
       "      <td>0.988432</td>\n",
       "      <td>5.153578</td>\n",
       "      <td>121.253686</td>\n",
       "    </tr>\n",
       "    <tr>\n",
       "      <td>99991</td>\n",
       "      <td>5aJ79</td>\n",
       "      <td>-0.880711</td>\n",
       "      <td>0.173065</td>\n",
       "      <td>6.962537</td>\n",
       "      <td>152.614843</td>\n",
       "    </tr>\n",
       "    <tr>\n",
       "      <td>99992</td>\n",
       "      <td>vgK5D</td>\n",
       "      <td>0.637601</td>\n",
       "      <td>0.751503</td>\n",
       "      <td>2.918322</td>\n",
       "      <td>95.180855</td>\n",
       "    </tr>\n",
       "    <tr>\n",
       "      <td>99993</td>\n",
       "      <td>sOhIk</td>\n",
       "      <td>-0.176367</td>\n",
       "      <td>0.912145</td>\n",
       "      <td>5.241132</td>\n",
       "      <td>89.619662</td>\n",
       "    </tr>\n",
       "    <tr>\n",
       "      <td>99994</td>\n",
       "      <td>hWIah</td>\n",
       "      <td>1.562007</td>\n",
       "      <td>-0.311641</td>\n",
       "      <td>1.315442</td>\n",
       "      <td>50.092191</td>\n",
       "    </tr>\n",
       "    <tr>\n",
       "      <td>99995</td>\n",
       "      <td>DLsed</td>\n",
       "      <td>0.971957</td>\n",
       "      <td>0.370953</td>\n",
       "      <td>6.075346</td>\n",
       "      <td>110.744026</td>\n",
       "    </tr>\n",
       "    <tr>\n",
       "      <td>99996</td>\n",
       "      <td>QKivN</td>\n",
       "      <td>1.392429</td>\n",
       "      <td>-0.382606</td>\n",
       "      <td>1.273912</td>\n",
       "      <td>122.346843</td>\n",
       "    </tr>\n",
       "    <tr>\n",
       "      <td>99997</td>\n",
       "      <td>3rnvd</td>\n",
       "      <td>1.029585</td>\n",
       "      <td>0.018787</td>\n",
       "      <td>-1.348308</td>\n",
       "      <td>64.375443</td>\n",
       "    </tr>\n",
       "    <tr>\n",
       "      <td>99998</td>\n",
       "      <td>7kl59</td>\n",
       "      <td>0.998163</td>\n",
       "      <td>-0.528582</td>\n",
       "      <td>1.583869</td>\n",
       "      <td>74.040764</td>\n",
       "    </tr>\n",
       "    <tr>\n",
       "      <td>99999</td>\n",
       "      <td>1CWhH</td>\n",
       "      <td>1.764754</td>\n",
       "      <td>-0.266417</td>\n",
       "      <td>5.722849</td>\n",
       "      <td>149.633246</td>\n",
       "    </tr>\n",
       "  </tbody>\n",
       "</table>\n",
       "</div>"
      ],
      "text/plain": [
       "          id        f0        f1        f2     product\n",
       "99990  uQHju -0.169592  0.988432  5.153578  121.253686\n",
       "99991  5aJ79 -0.880711  0.173065  6.962537  152.614843\n",
       "99992  vgK5D  0.637601  0.751503  2.918322   95.180855\n",
       "99993  sOhIk -0.176367  0.912145  5.241132   89.619662\n",
       "99994  hWIah  1.562007 -0.311641  1.315442   50.092191\n",
       "99995  DLsed  0.971957  0.370953  6.075346  110.744026\n",
       "99996  QKivN  1.392429 -0.382606  1.273912  122.346843\n",
       "99997  3rnvd  1.029585  0.018787 -1.348308   64.375443\n",
       "99998  7kl59  0.998163 -0.528582  1.583869   74.040764\n",
       "99999  1CWhH  1.764754 -0.266417  5.722849  149.633246"
      ]
     },
     "metadata": {},
     "output_type": "display_data"
    },
    {
     "name": "stdout",
     "output_type": "stream",
     "text": [
      "\n"
     ]
    },
    {
     "data": {
      "text/html": [
       "<div>\n",
       "<style scoped>\n",
       "    .dataframe tbody tr th:only-of-type {\n",
       "        vertical-align: middle;\n",
       "    }\n",
       "\n",
       "    .dataframe tbody tr th {\n",
       "        vertical-align: top;\n",
       "    }\n",
       "\n",
       "    .dataframe thead th {\n",
       "        text-align: right;\n",
       "    }\n",
       "</style>\n",
       "<table border=\"1\" class=\"dataframe\">\n",
       "  <thead>\n",
       "    <tr style=\"text-align: right;\">\n",
       "      <th></th>\n",
       "      <th>f0</th>\n",
       "      <th>f1</th>\n",
       "      <th>f2</th>\n",
       "      <th>product</th>\n",
       "    </tr>\n",
       "  </thead>\n",
       "  <tbody>\n",
       "    <tr>\n",
       "      <td>count</td>\n",
       "      <td>100000.000000</td>\n",
       "      <td>100000.000000</td>\n",
       "      <td>100000.000000</td>\n",
       "      <td>100000.000000</td>\n",
       "    </tr>\n",
       "    <tr>\n",
       "      <td>mean</td>\n",
       "      <td>0.500419</td>\n",
       "      <td>0.250143</td>\n",
       "      <td>2.502647</td>\n",
       "      <td>92.500000</td>\n",
       "    </tr>\n",
       "    <tr>\n",
       "      <td>std</td>\n",
       "      <td>0.871832</td>\n",
       "      <td>0.504433</td>\n",
       "      <td>3.248248</td>\n",
       "      <td>44.288691</td>\n",
       "    </tr>\n",
       "    <tr>\n",
       "      <td>min</td>\n",
       "      <td>-1.408605</td>\n",
       "      <td>-0.848218</td>\n",
       "      <td>-12.088328</td>\n",
       "      <td>0.000000</td>\n",
       "    </tr>\n",
       "    <tr>\n",
       "      <td>25%</td>\n",
       "      <td>-0.072580</td>\n",
       "      <td>-0.200881</td>\n",
       "      <td>0.287748</td>\n",
       "      <td>56.497507</td>\n",
       "    </tr>\n",
       "    <tr>\n",
       "      <td>50%</td>\n",
       "      <td>0.502360</td>\n",
       "      <td>0.250252</td>\n",
       "      <td>2.515969</td>\n",
       "      <td>91.849972</td>\n",
       "    </tr>\n",
       "    <tr>\n",
       "      <td>75%</td>\n",
       "      <td>1.073581</td>\n",
       "      <td>0.700646</td>\n",
       "      <td>4.715088</td>\n",
       "      <td>128.564089</td>\n",
       "    </tr>\n",
       "    <tr>\n",
       "      <td>max</td>\n",
       "      <td>2.362331</td>\n",
       "      <td>1.343769</td>\n",
       "      <td>16.003790</td>\n",
       "      <td>185.364347</td>\n",
       "    </tr>\n",
       "  </tbody>\n",
       "</table>\n",
       "</div>"
      ],
      "text/plain": [
       "                  f0             f1             f2        product\n",
       "count  100000.000000  100000.000000  100000.000000  100000.000000\n",
       "mean        0.500419       0.250143       2.502647      92.500000\n",
       "std         0.871832       0.504433       3.248248      44.288691\n",
       "min        -1.408605      -0.848218     -12.088328       0.000000\n",
       "25%        -0.072580      -0.200881       0.287748      56.497507\n",
       "50%         0.502360       0.250252       2.515969      91.849972\n",
       "75%         1.073581       0.700646       4.715088     128.564089\n",
       "max         2.362331       1.343769      16.003790     185.364347"
      ]
     },
     "metadata": {},
     "output_type": "display_data"
    },
    {
     "name": "stdout",
     "output_type": "stream",
     "text": [
      "\n",
      "0\n"
     ]
    }
   ],
   "source": [
    "#применяем функцию study_of_initial_data() к каждой таблице\n",
    "study_of_initial_data(region_one)"
   ]
  },
  {
   "cell_type": "code",
   "execution_count": 69,
   "metadata": {},
   "outputs": [
    {
     "name": "stdout",
     "output_type": "stream",
     "text": [
      "<class 'pandas.core.frame.DataFrame'>\n",
      "RangeIndex: 100000 entries, 0 to 99999\n",
      "Data columns (total 5 columns):\n",
      "id         100000 non-null object\n",
      "f0         100000 non-null float64\n",
      "f1         100000 non-null float64\n",
      "f2         100000 non-null float64\n",
      "product    100000 non-null float64\n",
      "dtypes: float64(4), object(1)\n",
      "memory usage: 3.8+ MB\n",
      "None\n",
      "\n"
     ]
    },
    {
     "data": {
      "text/html": [
       "<div>\n",
       "<style scoped>\n",
       "    .dataframe tbody tr th:only-of-type {\n",
       "        vertical-align: middle;\n",
       "    }\n",
       "\n",
       "    .dataframe tbody tr th {\n",
       "        vertical-align: top;\n",
       "    }\n",
       "\n",
       "    .dataframe thead th {\n",
       "        text-align: right;\n",
       "    }\n",
       "</style>\n",
       "<table border=\"1\" class=\"dataframe\">\n",
       "  <thead>\n",
       "    <tr style=\"text-align: right;\">\n",
       "      <th></th>\n",
       "      <th>id</th>\n",
       "      <th>f0</th>\n",
       "      <th>f1</th>\n",
       "      <th>f2</th>\n",
       "      <th>product</th>\n",
       "    </tr>\n",
       "  </thead>\n",
       "  <tbody>\n",
       "    <tr>\n",
       "      <td>0</td>\n",
       "      <td>kBEdx</td>\n",
       "      <td>-15.001348</td>\n",
       "      <td>-8.276000</td>\n",
       "      <td>-0.005876</td>\n",
       "      <td>3.179103</td>\n",
       "    </tr>\n",
       "    <tr>\n",
       "      <td>1</td>\n",
       "      <td>62mP7</td>\n",
       "      <td>14.272088</td>\n",
       "      <td>-3.475083</td>\n",
       "      <td>0.999183</td>\n",
       "      <td>26.953261</td>\n",
       "    </tr>\n",
       "    <tr>\n",
       "      <td>2</td>\n",
       "      <td>vyE1P</td>\n",
       "      <td>6.263187</td>\n",
       "      <td>-5.948386</td>\n",
       "      <td>5.001160</td>\n",
       "      <td>134.766305</td>\n",
       "    </tr>\n",
       "    <tr>\n",
       "      <td>3</td>\n",
       "      <td>KcrkZ</td>\n",
       "      <td>-13.081196</td>\n",
       "      <td>-11.506057</td>\n",
       "      <td>4.999415</td>\n",
       "      <td>137.945408</td>\n",
       "    </tr>\n",
       "    <tr>\n",
       "      <td>4</td>\n",
       "      <td>AHL4O</td>\n",
       "      <td>12.702195</td>\n",
       "      <td>-8.147433</td>\n",
       "      <td>5.004363</td>\n",
       "      <td>134.766305</td>\n",
       "    </tr>\n",
       "    <tr>\n",
       "      <td>5</td>\n",
       "      <td>HHckp</td>\n",
       "      <td>-3.327590</td>\n",
       "      <td>-2.205276</td>\n",
       "      <td>3.003647</td>\n",
       "      <td>84.038886</td>\n",
       "    </tr>\n",
       "    <tr>\n",
       "      <td>6</td>\n",
       "      <td>h5Ujo</td>\n",
       "      <td>-11.142655</td>\n",
       "      <td>-10.133399</td>\n",
       "      <td>4.002382</td>\n",
       "      <td>110.992147</td>\n",
       "    </tr>\n",
       "    <tr>\n",
       "      <td>7</td>\n",
       "      <td>muH9x</td>\n",
       "      <td>4.234715</td>\n",
       "      <td>-0.001354</td>\n",
       "      <td>2.004588</td>\n",
       "      <td>53.906522</td>\n",
       "    </tr>\n",
       "    <tr>\n",
       "      <td>8</td>\n",
       "      <td>YiRkx</td>\n",
       "      <td>13.355129</td>\n",
       "      <td>-0.332068</td>\n",
       "      <td>4.998647</td>\n",
       "      <td>134.766305</td>\n",
       "    </tr>\n",
       "    <tr>\n",
       "      <td>9</td>\n",
       "      <td>jG6Gi</td>\n",
       "      <td>1.069227</td>\n",
       "      <td>-11.025667</td>\n",
       "      <td>4.997844</td>\n",
       "      <td>137.945408</td>\n",
       "    </tr>\n",
       "  </tbody>\n",
       "</table>\n",
       "</div>"
      ],
      "text/plain": [
       "      id         f0         f1        f2     product\n",
       "0  kBEdx -15.001348  -8.276000 -0.005876    3.179103\n",
       "1  62mP7  14.272088  -3.475083  0.999183   26.953261\n",
       "2  vyE1P   6.263187  -5.948386  5.001160  134.766305\n",
       "3  KcrkZ -13.081196 -11.506057  4.999415  137.945408\n",
       "4  AHL4O  12.702195  -8.147433  5.004363  134.766305\n",
       "5  HHckp  -3.327590  -2.205276  3.003647   84.038886\n",
       "6  h5Ujo -11.142655 -10.133399  4.002382  110.992147\n",
       "7  muH9x   4.234715  -0.001354  2.004588   53.906522\n",
       "8  YiRkx  13.355129  -0.332068  4.998647  134.766305\n",
       "9  jG6Gi   1.069227 -11.025667  4.997844  137.945408"
      ]
     },
     "metadata": {},
     "output_type": "display_data"
    },
    {
     "name": "stdout",
     "output_type": "stream",
     "text": [
      "\n"
     ]
    },
    {
     "data": {
      "text/html": [
       "<div>\n",
       "<style scoped>\n",
       "    .dataframe tbody tr th:only-of-type {\n",
       "        vertical-align: middle;\n",
       "    }\n",
       "\n",
       "    .dataframe tbody tr th {\n",
       "        vertical-align: top;\n",
       "    }\n",
       "\n",
       "    .dataframe thead th {\n",
       "        text-align: right;\n",
       "    }\n",
       "</style>\n",
       "<table border=\"1\" class=\"dataframe\">\n",
       "  <thead>\n",
       "    <tr style=\"text-align: right;\">\n",
       "      <th></th>\n",
       "      <th>id</th>\n",
       "      <th>f0</th>\n",
       "      <th>f1</th>\n",
       "      <th>f2</th>\n",
       "      <th>product</th>\n",
       "    </tr>\n",
       "  </thead>\n",
       "  <tbody>\n",
       "    <tr>\n",
       "      <td>99990</td>\n",
       "      <td>6HSBo</td>\n",
       "      <td>4.280434</td>\n",
       "      <td>-1.692187</td>\n",
       "      <td>1.011469</td>\n",
       "      <td>26.953261</td>\n",
       "    </tr>\n",
       "    <tr>\n",
       "      <td>99991</td>\n",
       "      <td>obwpN</td>\n",
       "      <td>2.233158</td>\n",
       "      <td>-1.970310</td>\n",
       "      <td>1.004117</td>\n",
       "      <td>26.953261</td>\n",
       "    </tr>\n",
       "    <tr>\n",
       "      <td>99992</td>\n",
       "      <td>BYhdw</td>\n",
       "      <td>-2.150114</td>\n",
       "      <td>-13.278717</td>\n",
       "      <td>3.002298</td>\n",
       "      <td>84.038886</td>\n",
       "    </tr>\n",
       "    <tr>\n",
       "      <td>99993</td>\n",
       "      <td>FOKH6</td>\n",
       "      <td>-8.421251</td>\n",
       "      <td>-2.813906</td>\n",
       "      <td>4.997337</td>\n",
       "      <td>137.945408</td>\n",
       "    </tr>\n",
       "    <tr>\n",
       "      <td>99994</td>\n",
       "      <td>VfVub</td>\n",
       "      <td>-8.646179</td>\n",
       "      <td>-3.661656</td>\n",
       "      <td>-0.003027</td>\n",
       "      <td>3.179103</td>\n",
       "    </tr>\n",
       "    <tr>\n",
       "      <td>99995</td>\n",
       "      <td>QywKC</td>\n",
       "      <td>9.535637</td>\n",
       "      <td>-6.878139</td>\n",
       "      <td>1.998296</td>\n",
       "      <td>53.906522</td>\n",
       "    </tr>\n",
       "    <tr>\n",
       "      <td>99996</td>\n",
       "      <td>ptvty</td>\n",
       "      <td>-10.160631</td>\n",
       "      <td>-12.558096</td>\n",
       "      <td>5.005581</td>\n",
       "      <td>137.945408</td>\n",
       "    </tr>\n",
       "    <tr>\n",
       "      <td>99997</td>\n",
       "      <td>09gWa</td>\n",
       "      <td>-7.378891</td>\n",
       "      <td>-3.084104</td>\n",
       "      <td>4.998651</td>\n",
       "      <td>137.945408</td>\n",
       "    </tr>\n",
       "    <tr>\n",
       "      <td>99998</td>\n",
       "      <td>rqwUm</td>\n",
       "      <td>0.665714</td>\n",
       "      <td>-6.152593</td>\n",
       "      <td>1.000146</td>\n",
       "      <td>30.132364</td>\n",
       "    </tr>\n",
       "    <tr>\n",
       "      <td>99999</td>\n",
       "      <td>relB0</td>\n",
       "      <td>-3.426139</td>\n",
       "      <td>-7.794274</td>\n",
       "      <td>-0.003299</td>\n",
       "      <td>3.179103</td>\n",
       "    </tr>\n",
       "  </tbody>\n",
       "</table>\n",
       "</div>"
      ],
      "text/plain": [
       "          id         f0         f1        f2     product\n",
       "99990  6HSBo   4.280434  -1.692187  1.011469   26.953261\n",
       "99991  obwpN   2.233158  -1.970310  1.004117   26.953261\n",
       "99992  BYhdw  -2.150114 -13.278717  3.002298   84.038886\n",
       "99993  FOKH6  -8.421251  -2.813906  4.997337  137.945408\n",
       "99994  VfVub  -8.646179  -3.661656 -0.003027    3.179103\n",
       "99995  QywKC   9.535637  -6.878139  1.998296   53.906522\n",
       "99996  ptvty -10.160631 -12.558096  5.005581  137.945408\n",
       "99997  09gWa  -7.378891  -3.084104  4.998651  137.945408\n",
       "99998  rqwUm   0.665714  -6.152593  1.000146   30.132364\n",
       "99999  relB0  -3.426139  -7.794274 -0.003299    3.179103"
      ]
     },
     "metadata": {},
     "output_type": "display_data"
    },
    {
     "name": "stdout",
     "output_type": "stream",
     "text": [
      "\n"
     ]
    },
    {
     "data": {
      "text/html": [
       "<div>\n",
       "<style scoped>\n",
       "    .dataframe tbody tr th:only-of-type {\n",
       "        vertical-align: middle;\n",
       "    }\n",
       "\n",
       "    .dataframe tbody tr th {\n",
       "        vertical-align: top;\n",
       "    }\n",
       "\n",
       "    .dataframe thead th {\n",
       "        text-align: right;\n",
       "    }\n",
       "</style>\n",
       "<table border=\"1\" class=\"dataframe\">\n",
       "  <thead>\n",
       "    <tr style=\"text-align: right;\">\n",
       "      <th></th>\n",
       "      <th>f0</th>\n",
       "      <th>f1</th>\n",
       "      <th>f2</th>\n",
       "      <th>product</th>\n",
       "    </tr>\n",
       "  </thead>\n",
       "  <tbody>\n",
       "    <tr>\n",
       "      <td>count</td>\n",
       "      <td>100000.000000</td>\n",
       "      <td>100000.000000</td>\n",
       "      <td>100000.000000</td>\n",
       "      <td>100000.000000</td>\n",
       "    </tr>\n",
       "    <tr>\n",
       "      <td>mean</td>\n",
       "      <td>1.141296</td>\n",
       "      <td>-4.796579</td>\n",
       "      <td>2.494541</td>\n",
       "      <td>68.825000</td>\n",
       "    </tr>\n",
       "    <tr>\n",
       "      <td>std</td>\n",
       "      <td>8.965932</td>\n",
       "      <td>5.119872</td>\n",
       "      <td>1.703572</td>\n",
       "      <td>45.944423</td>\n",
       "    </tr>\n",
       "    <tr>\n",
       "      <td>min</td>\n",
       "      <td>-31.609576</td>\n",
       "      <td>-26.358598</td>\n",
       "      <td>-0.018144</td>\n",
       "      <td>0.000000</td>\n",
       "    </tr>\n",
       "    <tr>\n",
       "      <td>25%</td>\n",
       "      <td>-6.298551</td>\n",
       "      <td>-8.267985</td>\n",
       "      <td>1.000021</td>\n",
       "      <td>26.953261</td>\n",
       "    </tr>\n",
       "    <tr>\n",
       "      <td>50%</td>\n",
       "      <td>1.153055</td>\n",
       "      <td>-4.813172</td>\n",
       "      <td>2.011479</td>\n",
       "      <td>57.085625</td>\n",
       "    </tr>\n",
       "    <tr>\n",
       "      <td>75%</td>\n",
       "      <td>8.621015</td>\n",
       "      <td>-1.332816</td>\n",
       "      <td>3.999904</td>\n",
       "      <td>107.813044</td>\n",
       "    </tr>\n",
       "    <tr>\n",
       "      <td>max</td>\n",
       "      <td>29.421755</td>\n",
       "      <td>18.734063</td>\n",
       "      <td>5.019721</td>\n",
       "      <td>137.945408</td>\n",
       "    </tr>\n",
       "  </tbody>\n",
       "</table>\n",
       "</div>"
      ],
      "text/plain": [
       "                  f0             f1             f2        product\n",
       "count  100000.000000  100000.000000  100000.000000  100000.000000\n",
       "mean        1.141296      -4.796579       2.494541      68.825000\n",
       "std         8.965932       5.119872       1.703572      45.944423\n",
       "min       -31.609576     -26.358598      -0.018144       0.000000\n",
       "25%        -6.298551      -8.267985       1.000021      26.953261\n",
       "50%         1.153055      -4.813172       2.011479      57.085625\n",
       "75%         8.621015      -1.332816       3.999904     107.813044\n",
       "max        29.421755      18.734063       5.019721     137.945408"
      ]
     },
     "metadata": {},
     "output_type": "display_data"
    },
    {
     "name": "stdout",
     "output_type": "stream",
     "text": [
      "\n",
      "0\n"
     ]
    }
   ],
   "source": [
    "study_of_initial_data(region_two)"
   ]
  },
  {
   "cell_type": "code",
   "execution_count": 70,
   "metadata": {},
   "outputs": [
    {
     "name": "stdout",
     "output_type": "stream",
     "text": [
      "<class 'pandas.core.frame.DataFrame'>\n",
      "RangeIndex: 100000 entries, 0 to 99999\n",
      "Data columns (total 5 columns):\n",
      "id         100000 non-null object\n",
      "f0         100000 non-null float64\n",
      "f1         100000 non-null float64\n",
      "f2         100000 non-null float64\n",
      "product    100000 non-null float64\n",
      "dtypes: float64(4), object(1)\n",
      "memory usage: 3.8+ MB\n",
      "None\n",
      "\n"
     ]
    },
    {
     "data": {
      "text/html": [
       "<div>\n",
       "<style scoped>\n",
       "    .dataframe tbody tr th:only-of-type {\n",
       "        vertical-align: middle;\n",
       "    }\n",
       "\n",
       "    .dataframe tbody tr th {\n",
       "        vertical-align: top;\n",
       "    }\n",
       "\n",
       "    .dataframe thead th {\n",
       "        text-align: right;\n",
       "    }\n",
       "</style>\n",
       "<table border=\"1\" class=\"dataframe\">\n",
       "  <thead>\n",
       "    <tr style=\"text-align: right;\">\n",
       "      <th></th>\n",
       "      <th>id</th>\n",
       "      <th>f0</th>\n",
       "      <th>f1</th>\n",
       "      <th>f2</th>\n",
       "      <th>product</th>\n",
       "    </tr>\n",
       "  </thead>\n",
       "  <tbody>\n",
       "    <tr>\n",
       "      <td>0</td>\n",
       "      <td>fwXo0</td>\n",
       "      <td>-1.146987</td>\n",
       "      <td>0.963328</td>\n",
       "      <td>-0.828965</td>\n",
       "      <td>27.758673</td>\n",
       "    </tr>\n",
       "    <tr>\n",
       "      <td>1</td>\n",
       "      <td>WJtFt</td>\n",
       "      <td>0.262778</td>\n",
       "      <td>0.269839</td>\n",
       "      <td>-2.530187</td>\n",
       "      <td>56.069697</td>\n",
       "    </tr>\n",
       "    <tr>\n",
       "      <td>2</td>\n",
       "      <td>ovLUW</td>\n",
       "      <td>0.194587</td>\n",
       "      <td>0.289035</td>\n",
       "      <td>-5.586433</td>\n",
       "      <td>62.871910</td>\n",
       "    </tr>\n",
       "    <tr>\n",
       "      <td>3</td>\n",
       "      <td>q6cA6</td>\n",
       "      <td>2.236060</td>\n",
       "      <td>-0.553760</td>\n",
       "      <td>0.930038</td>\n",
       "      <td>114.572842</td>\n",
       "    </tr>\n",
       "    <tr>\n",
       "      <td>4</td>\n",
       "      <td>WPMUX</td>\n",
       "      <td>-0.515993</td>\n",
       "      <td>1.716266</td>\n",
       "      <td>5.899011</td>\n",
       "      <td>149.600746</td>\n",
       "    </tr>\n",
       "    <tr>\n",
       "      <td>5</td>\n",
       "      <td>LzZXx</td>\n",
       "      <td>-0.758092</td>\n",
       "      <td>0.710691</td>\n",
       "      <td>2.585887</td>\n",
       "      <td>90.222465</td>\n",
       "    </tr>\n",
       "    <tr>\n",
       "      <td>6</td>\n",
       "      <td>WBHRv</td>\n",
       "      <td>-0.574891</td>\n",
       "      <td>0.317727</td>\n",
       "      <td>1.773745</td>\n",
       "      <td>45.641478</td>\n",
       "    </tr>\n",
       "    <tr>\n",
       "      <td>7</td>\n",
       "      <td>XO8fn</td>\n",
       "      <td>-1.906649</td>\n",
       "      <td>-2.458350</td>\n",
       "      <td>-0.177097</td>\n",
       "      <td>72.480640</td>\n",
       "    </tr>\n",
       "    <tr>\n",
       "      <td>8</td>\n",
       "      <td>ybmQ5</td>\n",
       "      <td>1.776292</td>\n",
       "      <td>-0.279356</td>\n",
       "      <td>3.004156</td>\n",
       "      <td>106.616832</td>\n",
       "    </tr>\n",
       "    <tr>\n",
       "      <td>9</td>\n",
       "      <td>OilcN</td>\n",
       "      <td>-1.214452</td>\n",
       "      <td>-0.439314</td>\n",
       "      <td>5.922514</td>\n",
       "      <td>52.954532</td>\n",
       "    </tr>\n",
       "  </tbody>\n",
       "</table>\n",
       "</div>"
      ],
      "text/plain": [
       "      id        f0        f1        f2     product\n",
       "0  fwXo0 -1.146987  0.963328 -0.828965   27.758673\n",
       "1  WJtFt  0.262778  0.269839 -2.530187   56.069697\n",
       "2  ovLUW  0.194587  0.289035 -5.586433   62.871910\n",
       "3  q6cA6  2.236060 -0.553760  0.930038  114.572842\n",
       "4  WPMUX -0.515993  1.716266  5.899011  149.600746\n",
       "5  LzZXx -0.758092  0.710691  2.585887   90.222465\n",
       "6  WBHRv -0.574891  0.317727  1.773745   45.641478\n",
       "7  XO8fn -1.906649 -2.458350 -0.177097   72.480640\n",
       "8  ybmQ5  1.776292 -0.279356  3.004156  106.616832\n",
       "9  OilcN -1.214452 -0.439314  5.922514   52.954532"
      ]
     },
     "metadata": {},
     "output_type": "display_data"
    },
    {
     "name": "stdout",
     "output_type": "stream",
     "text": [
      "\n"
     ]
    },
    {
     "data": {
      "text/html": [
       "<div>\n",
       "<style scoped>\n",
       "    .dataframe tbody tr th:only-of-type {\n",
       "        vertical-align: middle;\n",
       "    }\n",
       "\n",
       "    .dataframe tbody tr th {\n",
       "        vertical-align: top;\n",
       "    }\n",
       "\n",
       "    .dataframe thead th {\n",
       "        text-align: right;\n",
       "    }\n",
       "</style>\n",
       "<table border=\"1\" class=\"dataframe\">\n",
       "  <thead>\n",
       "    <tr style=\"text-align: right;\">\n",
       "      <th></th>\n",
       "      <th>id</th>\n",
       "      <th>f0</th>\n",
       "      <th>f1</th>\n",
       "      <th>f2</th>\n",
       "      <th>product</th>\n",
       "    </tr>\n",
       "  </thead>\n",
       "  <tbody>\n",
       "    <tr>\n",
       "      <td>99990</td>\n",
       "      <td>QlYmx</td>\n",
       "      <td>-1.182179</td>\n",
       "      <td>2.127844</td>\n",
       "      <td>2.338479</td>\n",
       "      <td>78.502786</td>\n",
       "    </tr>\n",
       "    <tr>\n",
       "      <td>99991</td>\n",
       "      <td>AAcyW</td>\n",
       "      <td>1.570887</td>\n",
       "      <td>-2.430724</td>\n",
       "      <td>5.733563</td>\n",
       "      <td>83.577214</td>\n",
       "    </tr>\n",
       "    <tr>\n",
       "      <td>99992</td>\n",
       "      <td>yDrAl</td>\n",
       "      <td>-2.365583</td>\n",
       "      <td>0.148640</td>\n",
       "      <td>2.062216</td>\n",
       "      <td>151.374166</td>\n",
       "    </tr>\n",
       "    <tr>\n",
       "      <td>99993</td>\n",
       "      <td>uHI1Q</td>\n",
       "      <td>2.633658</td>\n",
       "      <td>1.873285</td>\n",
       "      <td>-0.498951</td>\n",
       "      <td>33.627420</td>\n",
       "    </tr>\n",
       "    <tr>\n",
       "      <td>99994</td>\n",
       "      <td>B2U80</td>\n",
       "      <td>-1.889398</td>\n",
       "      <td>0.851823</td>\n",
       "      <td>6.805412</td>\n",
       "      <td>96.866615</td>\n",
       "    </tr>\n",
       "    <tr>\n",
       "      <td>99995</td>\n",
       "      <td>4GxBu</td>\n",
       "      <td>-1.777037</td>\n",
       "      <td>1.125220</td>\n",
       "      <td>6.263374</td>\n",
       "      <td>172.327046</td>\n",
       "    </tr>\n",
       "    <tr>\n",
       "      <td>99996</td>\n",
       "      <td>YKFjq</td>\n",
       "      <td>-1.261523</td>\n",
       "      <td>-0.894828</td>\n",
       "      <td>2.524545</td>\n",
       "      <td>138.748846</td>\n",
       "    </tr>\n",
       "    <tr>\n",
       "      <td>99997</td>\n",
       "      <td>tKPY3</td>\n",
       "      <td>-1.199934</td>\n",
       "      <td>-2.957637</td>\n",
       "      <td>5.219411</td>\n",
       "      <td>157.080080</td>\n",
       "    </tr>\n",
       "    <tr>\n",
       "      <td>99998</td>\n",
       "      <td>nmxp2</td>\n",
       "      <td>-2.419896</td>\n",
       "      <td>2.417221</td>\n",
       "      <td>-5.548444</td>\n",
       "      <td>51.795253</td>\n",
       "    </tr>\n",
       "    <tr>\n",
       "      <td>99999</td>\n",
       "      <td>V9kWn</td>\n",
       "      <td>-2.551421</td>\n",
       "      <td>-2.025625</td>\n",
       "      <td>6.090891</td>\n",
       "      <td>102.775767</td>\n",
       "    </tr>\n",
       "  </tbody>\n",
       "</table>\n",
       "</div>"
      ],
      "text/plain": [
       "          id        f0        f1        f2     product\n",
       "99990  QlYmx -1.182179  2.127844  2.338479   78.502786\n",
       "99991  AAcyW  1.570887 -2.430724  5.733563   83.577214\n",
       "99992  yDrAl -2.365583  0.148640  2.062216  151.374166\n",
       "99993  uHI1Q  2.633658  1.873285 -0.498951   33.627420\n",
       "99994  B2U80 -1.889398  0.851823  6.805412   96.866615\n",
       "99995  4GxBu -1.777037  1.125220  6.263374  172.327046\n",
       "99996  YKFjq -1.261523 -0.894828  2.524545  138.748846\n",
       "99997  tKPY3 -1.199934 -2.957637  5.219411  157.080080\n",
       "99998  nmxp2 -2.419896  2.417221 -5.548444   51.795253\n",
       "99999  V9kWn -2.551421 -2.025625  6.090891  102.775767"
      ]
     },
     "metadata": {},
     "output_type": "display_data"
    },
    {
     "name": "stdout",
     "output_type": "stream",
     "text": [
      "\n"
     ]
    },
    {
     "data": {
      "text/html": [
       "<div>\n",
       "<style scoped>\n",
       "    .dataframe tbody tr th:only-of-type {\n",
       "        vertical-align: middle;\n",
       "    }\n",
       "\n",
       "    .dataframe tbody tr th {\n",
       "        vertical-align: top;\n",
       "    }\n",
       "\n",
       "    .dataframe thead th {\n",
       "        text-align: right;\n",
       "    }\n",
       "</style>\n",
       "<table border=\"1\" class=\"dataframe\">\n",
       "  <thead>\n",
       "    <tr style=\"text-align: right;\">\n",
       "      <th></th>\n",
       "      <th>f0</th>\n",
       "      <th>f1</th>\n",
       "      <th>f2</th>\n",
       "      <th>product</th>\n",
       "    </tr>\n",
       "  </thead>\n",
       "  <tbody>\n",
       "    <tr>\n",
       "      <td>count</td>\n",
       "      <td>100000.000000</td>\n",
       "      <td>100000.000000</td>\n",
       "      <td>100000.000000</td>\n",
       "      <td>100000.000000</td>\n",
       "    </tr>\n",
       "    <tr>\n",
       "      <td>mean</td>\n",
       "      <td>0.002023</td>\n",
       "      <td>-0.002081</td>\n",
       "      <td>2.495128</td>\n",
       "      <td>95.000000</td>\n",
       "    </tr>\n",
       "    <tr>\n",
       "      <td>std</td>\n",
       "      <td>1.732045</td>\n",
       "      <td>1.730417</td>\n",
       "      <td>3.473445</td>\n",
       "      <td>44.749921</td>\n",
       "    </tr>\n",
       "    <tr>\n",
       "      <td>min</td>\n",
       "      <td>-8.760004</td>\n",
       "      <td>-7.084020</td>\n",
       "      <td>-11.970335</td>\n",
       "      <td>0.000000</td>\n",
       "    </tr>\n",
       "    <tr>\n",
       "      <td>25%</td>\n",
       "      <td>-1.162288</td>\n",
       "      <td>-1.174820</td>\n",
       "      <td>0.130359</td>\n",
       "      <td>59.450441</td>\n",
       "    </tr>\n",
       "    <tr>\n",
       "      <td>50%</td>\n",
       "      <td>0.009424</td>\n",
       "      <td>-0.009482</td>\n",
       "      <td>2.484236</td>\n",
       "      <td>94.925613</td>\n",
       "    </tr>\n",
       "    <tr>\n",
       "      <td>75%</td>\n",
       "      <td>1.158535</td>\n",
       "      <td>1.163678</td>\n",
       "      <td>4.858794</td>\n",
       "      <td>130.595027</td>\n",
       "    </tr>\n",
       "    <tr>\n",
       "      <td>max</td>\n",
       "      <td>7.238262</td>\n",
       "      <td>7.844801</td>\n",
       "      <td>16.739402</td>\n",
       "      <td>190.029838</td>\n",
       "    </tr>\n",
       "  </tbody>\n",
       "</table>\n",
       "</div>"
      ],
      "text/plain": [
       "                  f0             f1             f2        product\n",
       "count  100000.000000  100000.000000  100000.000000  100000.000000\n",
       "mean        0.002023      -0.002081       2.495128      95.000000\n",
       "std         1.732045       1.730417       3.473445      44.749921\n",
       "min        -8.760004      -7.084020     -11.970335       0.000000\n",
       "25%        -1.162288      -1.174820       0.130359      59.450441\n",
       "50%         0.009424      -0.009482       2.484236      94.925613\n",
       "75%         1.158535       1.163678       4.858794     130.595027\n",
       "max         7.238262       7.844801      16.739402     190.029838"
      ]
     },
     "metadata": {},
     "output_type": "display_data"
    },
    {
     "name": "stdout",
     "output_type": "stream",
     "text": [
      "\n",
      "0\n"
     ]
    }
   ],
   "source": [
    "study_of_initial_data(region_three)"
   ]
  },
  {
   "cell_type": "markdown",
   "metadata": {},
   "source": [
    "### Вывод:"
   ]
  },
  {
   "cell_type": "markdown",
   "metadata": {},
   "source": [
    "Мы изучили три датафрейма с исходными данными, каждый из них содержит 100000  строк и 5 столбцов. \n",
    "Пропуски и явные дубликаты в данных не были выявлены. Однако для задачи исследования, с большой долей вероятности, не понадобятся идентификационные номера скважин. Удалим соответсвующие столбцы в следующем этапе в ходе подготовки данных для машинного обучения."
   ]
  },
  {
   "cell_type": "markdown",
   "metadata": {},
   "source": [
    "## Подготовка данных для машинного обучения"
   ]
  },
  {
   "cell_type": "markdown",
   "metadata": {},
   "source": [
    "Подготовим имеющиеся данные, чтобы обучить с их помощью модель машинного обучения, а затем проверить ее работу. Для начала удалим избыточный столбец с id скважин в каждой из таблиц:"
   ]
  },
  {
   "cell_type": "code",
   "execution_count": 71,
   "metadata": {},
   "outputs": [],
   "source": [
    "region_one = region_one.drop(['id'], axis = 1)\n",
    "region_two = region_two.drop(['id'], axis = 1)\n",
    "region_three = region_three.drop(['id'], axis = 1)"
   ]
  },
  {
   "cell_type": "markdown",
   "metadata": {},
   "source": [
    "Теперь разделим данные каждой таблицы на признаки и целевой признак, на обучающую и валидационную выборки (в соотношении 75:25, согласно условию). Создадим для этих целей функцию preparing_for_ml:"
   ]
  },
  {
   "cell_type": "code",
   "execution_count": 72,
   "metadata": {},
   "outputs": [],
   "source": [
    "def preparing_for_ml(data): \n",
    "    global target_train, features_train, target_valid, features_valid\n",
    "    target = data['product']\n",
    "    features = data.drop(['product'], axis = 1)\n",
    "    features_train, features_valid, target_train, target_valid = train_test_split(features, target, \n",
    "                                                                                  test_size = 0.25, \n",
    "                                                                                  random_state = 12345)"
   ]
  },
  {
   "cell_type": "markdown",
   "metadata": {},
   "source": [
    "Теперь применим созданную функцию к имеющимся таблицам. Чтобы отделить выборки каждого региона и не перепутать их, после каждого запуска функции будем переименовывать получившиеся выборки в соответствие с регионами."
   ]
  },
  {
   "cell_type": "code",
   "execution_count": 73,
   "metadata": {},
   "outputs": [
    {
     "name": "stdout",
     "output_type": "stream",
     "text": [
      "(75000, 3) (75000, 3) (75000, 3)\n",
      "(25000, 3) (25000, 3) (25000, 3)\n",
      "(75000,) (75000,) (75000,)\n",
      "(25000,) (25000,) (25000,)\n"
     ]
    }
   ],
   "source": [
    "preparing_for_ml(region_one) #применяем функцию\n",
    "\n",
    "#переименовываем выборки\n",
    "features_train_one, features_valid_one, target_train_one, target_valid_one = features_train, features_valid, target_train, target_valid\n",
    "\n",
    "preparing_for_ml(region_two)\n",
    "features_train_two, features_valid_two, target_train_two, target_valid_two = features_train, features_valid, target_train, target_valid\n",
    "\n",
    "preparing_for_ml(region_three)\n",
    "features_train_three, features_valid_three, target_train_three, target_valid_three = features_train, features_valid, target_train, target_valid\n",
    "\n",
    "#выводим на экран размеры получившихся выборок\n",
    "print(features_train_one.shape, features_train_two.shape, features_train_three.shape)\n",
    "print(features_valid_one.shape, features_valid_two.shape, features_valid_three.shape)\n",
    "print(target_train_one.shape, target_train_two.shape, target_train_three.shape)\n",
    "print(target_valid_one.shape, target_valid_two.shape, target_valid_three.shape)"
   ]
  },
  {
   "cell_type": "markdown",
   "metadata": {},
   "source": [
    "Данные разделены, соотношение соблюдается. "
   ]
  },
  {
   "cell_type": "markdown",
   "metadata": {},
   "source": [
    "### Вывод:"
   ]
  },
  {
   "cell_type": "markdown",
   "metadata": {},
   "source": [
    "Данные подготовлены к обучению модели. Избыточные данные удалены, оставшиеся разделены на обучающиеся и валидационные выборки. \n",
    "\n",
    "На следующем этапе обучим модель линейной регрессии и проверим ее на валидационной выборке."
   ]
  },
  {
   "cell_type": "markdown",
   "metadata": {},
   "source": [
    "## Обучение и проверка модели"
   ]
  },
  {
   "cell_type": "markdown",
   "metadata": {},
   "source": [
    "Обучим на обучающей выборке каждого региона модель линейной регрессии. Т. к. в этот раз у нас сразу три датафрейма, автоматизируем процесс обучения и проверки, создав специальную функцию."
   ]
  },
  {
   "cell_type": "code",
   "execution_count": 74,
   "metadata": {},
   "outputs": [],
   "source": [
    "def train_and_valid (region, features_train, features_valid, target_train, target_valid): #создаем функцию\n",
    "    global rmse, r2, predictions_mean, predictions_region\n",
    "\n",
    "    model = LinearRegression()\n",
    "    model.fit(features_train, target_train)\n",
    "    \n",
    "    predictions_valid = model.predict(features_valid)\n",
    "    predictions_mean = predictions_valid.mean()\n",
    "        \n",
    "    rmse = (mean_squared_error(target_valid, predictions_valid))**0.5\n",
    "    r2 = (r2_score(target_valid, predictions_valid))\n",
    "    \n",
    "    mean_true = target_train.mean()\n",
    "    predicted_valid = pd.Series(mean_true, index = target_valid)\n",
    "    rmse_true = ((mean_squared_error(target_valid, predicted_valid)) ** 0.5).round(2)\n",
    "    \n",
    "    predictions_region = pd.Series(predictions_valid, index = target_valid.index)\n",
    "               \n",
    "    print (region)            \n",
    "    print('Средний предсказанный запас сырья:', predictions_mean)\n",
    "    print('Метрики линейной регрессии: RMSE', rmse, ', R2', r2)\n",
    "    print()\n",
    "    print('Проверка на адекватность предсказаний')\n",
    "    print('Средний запас сырья:', mean_true, ', RMSE', rmse_true) "
   ]
  },
  {
   "cell_type": "code",
   "execution_count": 75,
   "metadata": {},
   "outputs": [
    {
     "name": "stdout",
     "output_type": "stream",
     "text": [
      "Первый регион:\n",
      "Средний предсказанный запас сырья: 92.59256778438038\n",
      "Метрики линейной регрессии: RMSE 37.5794217150813 , R2 0.27994321524487786\n",
      "\n",
      "Проверка на адекватность предсказаний\n",
      "Средний запас сырья: 92.64046775305694 , RMSE 44.29\n"
     ]
    }
   ],
   "source": [
    "#применяем функцию\n",
    "train_and_valid('Первый регион:', features_train_one, features_valid_one, target_train_one, target_valid_one)\n",
    "#переименовываем значимые переменные для дальнейшего использования\n",
    "rmse_reg_1, r2_reg_1, predictions_mean_reg_1, predictions_region_1 = rmse, r2, predictions_mean, predictions_region"
   ]
  },
  {
   "cell_type": "code",
   "execution_count": 76,
   "metadata": {},
   "outputs": [
    {
     "name": "stdout",
     "output_type": "stream",
     "text": [
      "Второй регион:\n",
      "Средний предсказанный запас сырья: 68.728546895446\n",
      "Метрики линейной регрессии: RMSE 0.893099286775616 , R2 0.9996233978805127\n",
      "\n",
      "Проверка на адекватность предсказаний\n",
      "Средний запас сырья: 68.85895465854666 , RMSE 46.02\n"
     ]
    }
   ],
   "source": [
    "train_and_valid('Второй регион:', features_train_two, features_valid_two, target_train_two, target_valid_two)\n",
    "rmse_reg_2, r2_reg_2, predictions_mean_reg_2, predictions_region_2 = rmse, r2, predictions_mean, predictions_region"
   ]
  },
  {
   "cell_type": "code",
   "execution_count": 77,
   "metadata": {},
   "outputs": [
    {
     "name": "stdout",
     "output_type": "stream",
     "text": [
      "Третий регион:\n",
      "Средний предсказанный запас сырья: 94.96504596800489\n",
      "Метрики линейной регрессии: RMSE 40.02970873393434 , R2 0.20524758386040443\n",
      "\n",
      "Проверка на адекватность предсказаний\n",
      "Средний запас сырья: 95.03858906371522 , RMSE 44.9\n"
     ]
    }
   ],
   "source": [
    "train_and_valid('Третий регион:', features_train_three, features_valid_three, target_train_three, target_valid_three)\n",
    "rmse_reg_3, r2_reg_3, predictions_mean_reg_3, predictions_region_3 = rmse, r2, predictions_mean, predictions_region"
   ]
  },
  {
   "cell_type": "code",
   "execution_count": 78,
   "metadata": {},
   "outputs": [
    {
     "data": {
      "text/html": [
       "<div>\n",
       "<style scoped>\n",
       "    .dataframe tbody tr th:only-of-type {\n",
       "        vertical-align: middle;\n",
       "    }\n",
       "\n",
       "    .dataframe tbody tr th {\n",
       "        vertical-align: top;\n",
       "    }\n",
       "\n",
       "    .dataframe thead th {\n",
       "        text-align: right;\n",
       "    }\n",
       "</style>\n",
       "<table border=\"1\" class=\"dataframe\">\n",
       "  <thead>\n",
       "    <tr style=\"text-align: right;\">\n",
       "      <th></th>\n",
       "      <th>predictions_mean</th>\n",
       "      <th>rmse_score</th>\n",
       "      <th>r2_score</th>\n",
       "    </tr>\n",
       "  </thead>\n",
       "  <tbody>\n",
       "    <tr>\n",
       "      <td>region 1</td>\n",
       "      <td>92.592568</td>\n",
       "      <td>37.579422</td>\n",
       "      <td>0.279943</td>\n",
       "    </tr>\n",
       "    <tr>\n",
       "      <td>region 2</td>\n",
       "      <td>68.728547</td>\n",
       "      <td>0.893099</td>\n",
       "      <td>0.999623</td>\n",
       "    </tr>\n",
       "    <tr>\n",
       "      <td>region 3</td>\n",
       "      <td>94.965046</td>\n",
       "      <td>40.029709</td>\n",
       "      <td>0.205248</td>\n",
       "    </tr>\n",
       "  </tbody>\n",
       "</table>\n",
       "</div>"
      ],
      "text/plain": [
       "          predictions_mean  rmse_score  r2_score\n",
       "region 1         92.592568   37.579422  0.279943\n",
       "region 2         68.728547    0.893099  0.999623\n",
       "region 3         94.965046   40.029709  0.205248"
      ]
     },
     "metadata": {},
     "output_type": "display_data"
    }
   ],
   "source": [
    "#сведем ключевые характеристики в таблицу для удобства восприятия и анализа\n",
    "result = {'predictions_mean': [predictions_mean_reg_1, predictions_mean_reg_2, predictions_mean_reg_3],\n",
    "    'rmse_score': [rmse_reg_1, rmse_reg_2, rmse_reg_3], 'r2_score':[r2_reg_1, r2_reg_2, r2_reg_3]}\n",
    "results_of_learning = pd.DataFrame(data=result, index=('region 1', 'region 2', 'region 3'))\n",
    "display(results_of_learning)"
   ]
  },
  {
   "cell_type": "markdown",
   "metadata": {},
   "source": [
    "### Вывод:"
   ]
  },
  {
   "cell_type": "markdown",
   "metadata": {},
   "source": [
    "Согласно результатам, полученным в ходе использования модели линейной регрессии, в первом и третьем регионах примерно равные запасы сырья, тогда как запасы второго региона существенно им уступают. \n",
    "\n",
    "Однако, значения метрик RMSE  и R2 у модели, примененной к данным второго региона, значительно лучше и максимально близки к идеальным. Впрочем, стоит учитывать, что на тестовой выборке результаты могут быть иными.\n",
    "\n",
    "На следующем этапе подготовим данные к расчету прибыли, закрепив ключевые значения в отдельных переменных и произведя необходимые расчеты."
   ]
  },
  {
   "cell_type": "markdown",
   "metadata": {},
   "source": [
    "## Подготовка к расчёту прибыли"
   ]
  },
  {
   "cell_type": "markdown",
   "metadata": {},
   "source": [
    "Для расчета прибыли нам потребуются значения бюджета на разработку скважин в каждом регионе, доход с каждой единицы продукта и количество скважин. Сохраним эти значения в отдельных переменных. \n",
    "\n",
    "Кроме того необходимо рассчитать достаточный объём сырья для безубыточной разработки новой скважины и сравнить его с объемами, имеющимися в каждом из рассматриваемых регионов."
   ]
  },
  {
   "cell_type": "code",
   "execution_count": 79,
   "metadata": {},
   "outputs": [
    {
     "name": "stdout",
     "output_type": "stream",
     "text": [
      "Достаточный объём сырья для безубыточной разработки 111.111\n",
      "Средний объём сырья в первом регионе 92.5\n",
      "Средний объём сырья во втором регионе 68.825\n",
      "Средний объём сырья в третьем регионе 95.0\n"
     ]
    }
   ],
   "source": [
    "#закрепляем ключевые значения\n",
    "DEVELOPMENT_BUDGET = 10**10\n",
    "UNIT_INCOME = 450000\n",
    "NUMBER_OF_WELLS = 200\n",
    "\n",
    "#считаем безубыточный объм сырья\n",
    "enough_raw_material = (development_budget / (unit_income * number_of_wells))\n",
    "\n",
    "#выводим запасы сырья на экран для сравнения\n",
    "print('Достаточный объём сырья для безубыточной разработки', round(enough_raw_material, 3))\n",
    "print('Средний объём сырья в первом регионе', region_one['product'].mean().round(3))\n",
    "print('Средний объём сырья во втором регионе', region_two['product'].mean().round(3))\n",
    "print('Средний объём сырья в третьем регионе', region_three['product'].mean().round(3))"
   ]
  },
  {
   "cell_type": "markdown",
   "metadata": {},
   "source": [
    "### Вывод:"
   ]
  },
  {
   "cell_type": "markdown",
   "metadata": {},
   "source": [
    "Согласно полученным результатам, ни в одном из регионов нет достаточных средних запасов для безубыточной разработки. Хуже всего, как уже отмечалось ранее, дела обстоят во втором регионе: средние запасы почти вдвое меньше необходимого \"безубыточного\" объема. Но и у региона с самым большим средним запасом (третий регион) сырья недостаточно (95 тыс. баррелей против 111.111 тыс.). \n",
    "\n",
    "Исходя из этого, для получения прибыли компании нужно выбрать самые перспективные для разработки скважины, т.е те, которые потенциально принесут больше прибыли при меньшем риске убытка. Такие скважины мы будем искать на следующем этапе исследования."
   ]
  },
  {
   "cell_type": "markdown",
   "metadata": {},
   "source": [
    "## Расчёт прибыли и рисков "
   ]
  },
  {
   "cell_type": "markdown",
   "metadata": {},
   "source": [
    "Выявим скважины с потенциально наиболее высокой прибылью и оценим риски убытков. Для начала создадим функцию, которая будет рассчитывать прибыль."
   ]
  },
  {
   "cell_type": "code",
   "execution_count": 80,
   "metadata": {},
   "outputs": [],
   "source": [
    "def profit(target, predictions):\n",
    "    predictions_top_200 = pd.Series(predictions).sort_values(ascending=False)\n",
    "    target_top_200 = target[predictions_top_200.index][:number_of_wells]\n",
    "    profit = (target_top_200.sum() * unit_income) - development_budget\n",
    "    return profit"
   ]
  },
  {
   "cell_type": "markdown",
   "metadata": {},
   "source": [
    "Далее для подсчетов рисков и прибыли для каждого региона применим технику Bootstrap с 1000 выборок."
   ]
  },
  {
   "cell_type": "code",
   "execution_count": 81,
   "metadata": {},
   "outputs": [],
   "source": [
    "def bootstrap(prediction, target):\n",
    "    \n",
    "    state = np.random.RandomState(12345)\n",
    "    values = []\n",
    "    global final_results\n",
    "    \n",
    "    for i in range(1000):\n",
    "        target_subsample = target.sample(n=500, replace=True, random_state=state)\n",
    "        probs_subsample = prediction[target_subsample.index]\n",
    "        values.append(profit(target_subsample, probs_subsample))\n",
    "        \n",
    "    values = pd.Series(values)\n",
    "    values_mean = (values.mean()) / (10**6)\n",
    "    \n",
    "    lower = ((values.quantile(0.025)) / (10**6)).round(2)\n",
    "    upper = ((values.quantile(0.975)) / (10**6)).round(2)\n",
    "    \n",
    "    risk = 0\n",
    "    \n",
    "    for j in range(len(values)):\n",
    "        if values[j] < 0:\n",
    "            risk += 1\n",
    "            \n",
    "    risk = (risk / len(values)) * 100\n",
    "    \n",
    "    final_results = {'Средняя прибыль в млн руб.': values_mean, 'Начало доверительного интервала': lower,\n",
    "                     'Конец доверительного интервала': upper, 'Риск убытков в %': risk}\n"
   ]
  },
  {
   "cell_type": "code",
   "execution_count": 82,
   "metadata": {},
   "outputs": [],
   "source": [
    "#применяем технику Bootstrap к данным каждого региона\n",
    "bootstrap(predictions_region_1, target_valid_one)\n",
    "final_reg_1 = final_results"
   ]
  },
  {
   "cell_type": "code",
   "execution_count": 83,
   "metadata": {},
   "outputs": [],
   "source": [
    "bootstrap(predictions_region_2, target_valid_two)\n",
    "final_reg_2 = final_results"
   ]
  },
  {
   "cell_type": "code",
   "execution_count": 84,
   "metadata": {},
   "outputs": [],
   "source": [
    "bootstrap(predictions_region_3, target_valid_three)\n",
    "final_reg_3 = final_results"
   ]
  },
  {
   "cell_type": "code",
   "execution_count": 85,
   "metadata": {},
   "outputs": [
    {
     "data": {
      "text/html": [
       "<div>\n",
       "<style scoped>\n",
       "    .dataframe tbody tr th:only-of-type {\n",
       "        vertical-align: middle;\n",
       "    }\n",
       "\n",
       "    .dataframe tbody tr th {\n",
       "        vertical-align: top;\n",
       "    }\n",
       "\n",
       "    .dataframe thead th {\n",
       "        text-align: right;\n",
       "    }\n",
       "</style>\n",
       "<table border=\"1\" class=\"dataframe\">\n",
       "  <thead>\n",
       "    <tr style=\"text-align: right;\">\n",
       "      <th></th>\n",
       "      <th>Средняя прибыль в млн руб.</th>\n",
       "      <th>Начало доверительного интервала</th>\n",
       "      <th>Конец доверительного интервала</th>\n",
       "      <th>Риск убытков в %</th>\n",
       "    </tr>\n",
       "  </thead>\n",
       "  <tbody>\n",
       "    <tr>\n",
       "      <td>region 1</td>\n",
       "      <td>425.938527</td>\n",
       "      <td>-102.09</td>\n",
       "      <td>947.98</td>\n",
       "      <td>6.0</td>\n",
       "    </tr>\n",
       "    <tr>\n",
       "      <td>region 2</td>\n",
       "      <td>515.222773</td>\n",
       "      <td>68.87</td>\n",
       "      <td>931.55</td>\n",
       "      <td>1.0</td>\n",
       "    </tr>\n",
       "    <tr>\n",
       "      <td>region 3</td>\n",
       "      <td>435.008363</td>\n",
       "      <td>-128.88</td>\n",
       "      <td>969.71</td>\n",
       "      <td>6.4</td>\n",
       "    </tr>\n",
       "  </tbody>\n",
       "</table>\n",
       "</div>"
      ],
      "text/plain": [
       "          Средняя прибыль в млн руб.  Начало доверительного интервала  \\\n",
       "region 1                  425.938527                          -102.09   \n",
       "region 2                  515.222773                            68.87   \n",
       "region 3                  435.008363                          -128.88   \n",
       "\n",
       "          Конец доверительного интервала  Риск убытков в %  \n",
       "region 1                          947.98               6.0  \n",
       "region 2                          931.55               1.0  \n",
       "region 3                          969.71               6.4  "
      ]
     },
     "metadata": {},
     "output_type": "display_data"
    }
   ],
   "source": [
    "#сводим результаты в таблицу\n",
    "results_final = final_reg_1, final_reg_2, final_reg_3\n",
    "results_final = pd.DataFrame(data=results_final, index=('region 1', 'region 2', 'region 3'))\n",
    "display(results_final)"
   ]
  },
  {
   "cell_type": "markdown",
   "metadata": {},
   "source": [
    "### Вывод:"
   ]
  },
  {
   "cell_type": "markdown",
   "metadata": {},
   "source": [
    "После подсчета прибыли и рисков наиболее перспективным для разработки выглядит второй регион:\n",
    "- самая высокая средняя прибыль среди всех регионов (на втором месте третий регион с отрывом в 80 млн руб, на последнем - первый регион с отрывом в 89 млн);\n",
    "- наименьший уровень риска (в 6 раз меньше других рассматриваемых регионов);\n",
    "- с 95% вероятностью даже наименее прибыльные из выбранных скважин второго региона не принесут убыток, остановившись на примерной отметке средней прибыли в 68.87 млн руб.\n",
    "\n",
    "На этом наше исследование можно считать завершенным. Перейдем к итоговым выводам."
   ]
  },
  {
   "cell_type": "markdown",
   "metadata": {},
   "source": [
    "## Итоговые выводы"
   ]
  },
  {
   "cell_type": "markdown",
   "metadata": {},
   "source": [
    "После проведенного исследования потенциально прибыльных для разработки новых месторождений регионов с использованием машинного обучения, можно сделать вывод, что выгоднее всего бурить новые скважины во втором регионе:\n",
    "- высокие значения метрик RMSE и R2 у модели, примененной к валидационной выборке данных второго региона;\n",
    "- самая высокая средняя прибыль;\n",
    "- уровень риска получения убытка менее 2.5%.\n",
    "\n",
    "Исходя из всего выше сказанного, регион, где добыча принесёт наибольшую прибыль при наименьшем риске убытков - второй."
   ]
  }
 ],
 "metadata": {
  "ExecuteTimeLog": [
   {
    "duration": 1070,
    "start_time": "2022-02-28T13:12:56.732Z"
   },
   {
    "duration": 122,
    "start_time": "2022-02-28T13:12:57.803Z"
   },
   {
    "duration": 323,
    "start_time": "2022-02-28T13:13:17.825Z"
   },
   {
    "duration": 3,
    "start_time": "2022-02-28T13:13:20.372Z"
   },
   {
    "duration": 87,
    "start_time": "2022-02-28T13:13:50.681Z"
   },
   {
    "duration": 77,
    "start_time": "2022-02-28T13:14:31.962Z"
   },
   {
    "duration": 77,
    "start_time": "2022-02-28T13:14:34.657Z"
   },
   {
    "duration": 1487,
    "start_time": "2022-03-01T13:17:58.588Z"
   },
   {
    "duration": 583,
    "start_time": "2022-03-01T13:18:00.078Z"
   },
   {
    "duration": 10,
    "start_time": "2022-03-01T13:18:00.665Z"
   },
   {
    "duration": 180,
    "start_time": "2022-03-01T13:18:00.677Z"
   },
   {
    "duration": 187,
    "start_time": "2022-03-01T13:18:00.860Z"
   },
   {
    "duration": 188,
    "start_time": "2022-03-01T13:18:01.050Z"
   },
   {
    "duration": 47,
    "start_time": "2022-03-01T13:18:01.241Z"
   },
   {
    "duration": 376,
    "start_time": "2022-03-01T14:22:42.289Z"
   },
   {
    "duration": 244,
    "start_time": "2022-03-01T14:22:48.601Z"
   },
   {
    "duration": 5,
    "start_time": "2022-03-01T14:23:04.013Z"
   },
   {
    "duration": 494,
    "start_time": "2022-03-01T14:23:04.021Z"
   },
   {
    "duration": 6,
    "start_time": "2022-03-01T14:23:04.519Z"
   },
   {
    "duration": 208,
    "start_time": "2022-03-01T14:23:04.528Z"
   },
   {
    "duration": 189,
    "start_time": "2022-03-01T14:23:04.739Z"
   },
   {
    "duration": 199,
    "start_time": "2022-03-01T14:23:04.931Z"
   },
   {
    "duration": 18,
    "start_time": "2022-03-01T14:23:05.133Z"
   },
   {
    "duration": 43,
    "start_time": "2022-03-01T14:23:05.154Z"
   },
   {
    "duration": 74,
    "start_time": "2022-03-01T14:23:05.201Z"
   },
   {
    "duration": 1180,
    "start_time": "2022-03-05T12:24:01.966Z"
   },
   {
    "duration": 328,
    "start_time": "2022-03-05T12:24:03.148Z"
   },
   {
    "duration": 3,
    "start_time": "2022-03-05T12:24:03.478Z"
   },
   {
    "duration": 111,
    "start_time": "2022-03-05T12:24:03.483Z"
   },
   {
    "duration": 101,
    "start_time": "2022-03-05T12:24:03.596Z"
   },
   {
    "duration": 108,
    "start_time": "2022-03-05T12:24:03.698Z"
   },
   {
    "duration": 33,
    "start_time": "2022-03-05T12:24:03.807Z"
   },
   {
    "duration": 4,
    "start_time": "2022-03-05T12:24:03.842Z"
   },
   {
    "duration": 45,
    "start_time": "2022-03-05T12:24:03.849Z"
   },
   {
    "duration": 8,
    "start_time": "2022-03-05T12:24:03.896Z"
   },
   {
    "duration": 502,
    "start_time": "2022-03-05T12:24:03.905Z"
   },
   {
    "duration": 7,
    "start_time": "2022-03-05T12:24:43.894Z"
   },
   {
    "duration": 3780688,
    "start_time": "2022-03-05T12:24:46.431Z"
   },
   {
    "duration": 62,
    "start_time": "2022-03-05T13:39:51.676Z"
   },
   {
    "duration": 59,
    "start_time": "2022-03-05T13:40:07.521Z"
   },
   {
    "duration": 65,
    "start_time": "2022-03-05T13:40:35.698Z"
   },
   {
    "duration": 6,
    "start_time": "2022-03-05T13:40:49.858Z"
   },
   {
    "duration": 3764190,
    "start_time": "2022-03-05T13:40:50.996Z"
   },
   {
    "duration": 6,
    "start_time": "2022-03-05T14:51:13.568Z"
   },
   {
    "duration": 3688982,
    "start_time": "2022-03-05T14:53:04.645Z"
   },
   {
    "duration": 1122,
    "start_time": "2022-03-06T08:19:59.179Z"
   },
   {
    "duration": 346,
    "start_time": "2022-03-06T08:20:00.303Z"
   },
   {
    "duration": 4,
    "start_time": "2022-03-06T08:20:00.651Z"
   },
   {
    "duration": 125,
    "start_time": "2022-03-06T08:20:00.657Z"
   },
   {
    "duration": 111,
    "start_time": "2022-03-06T08:20:00.784Z"
   },
   {
    "duration": 119,
    "start_time": "2022-03-06T08:20:00.897Z"
   },
   {
    "duration": 16,
    "start_time": "2022-03-06T08:20:01.018Z"
   },
   {
    "duration": 23,
    "start_time": "2022-03-06T08:20:01.036Z"
   },
   {
    "duration": 47,
    "start_time": "2022-03-06T08:20:01.062Z"
   },
   {
    "duration": 6,
    "start_time": "2022-03-06T08:20:01.111Z"
   },
   {
    "duration": 325944,
    "start_time": "2022-03-06T08:20:01.119Z"
   },
   {
    "duration": 3,
    "start_time": "2022-03-06T08:29:16.719Z"
   },
   {
    "duration": 352,
    "start_time": "2022-03-06T08:29:16.724Z"
   },
   {
    "duration": 3,
    "start_time": "2022-03-06T08:29:17.078Z"
   },
   {
    "duration": 107,
    "start_time": "2022-03-06T08:29:17.083Z"
   },
   {
    "duration": 113,
    "start_time": "2022-03-06T08:29:17.192Z"
   },
   {
    "duration": 119,
    "start_time": "2022-03-06T08:29:17.307Z"
   },
   {
    "duration": 35,
    "start_time": "2022-03-06T08:29:17.428Z"
   },
   {
    "duration": 4,
    "start_time": "2022-03-06T08:29:17.466Z"
   },
   {
    "duration": 37,
    "start_time": "2022-03-06T08:29:17.472Z"
   },
   {
    "duration": 8,
    "start_time": "2022-03-06T08:29:17.511Z"
   },
   {
    "duration": 327284,
    "start_time": "2022-03-06T08:29:17.520Z"
   },
   {
    "duration": 280618,
    "start_time": "2022-03-06T08:34:44.806Z"
   },
   {
    "duration": 332402,
    "start_time": "2022-03-06T08:39:25.426Z"
   },
   {
    "duration": 9,
    "start_time": "2022-03-06T08:59:43.018Z"
   },
   {
    "duration": 3,
    "start_time": "2022-03-06T09:23:13.547Z"
   },
   {
    "duration": 357,
    "start_time": "2022-03-06T09:23:13.552Z"
   },
   {
    "duration": 4,
    "start_time": "2022-03-06T09:23:13.911Z"
   },
   {
    "duration": 99,
    "start_time": "2022-03-06T09:23:13.916Z"
   },
   {
    "duration": 102,
    "start_time": "2022-03-06T09:23:14.017Z"
   },
   {
    "duration": 107,
    "start_time": "2022-03-06T09:23:14.120Z"
   },
   {
    "duration": 30,
    "start_time": "2022-03-06T09:23:14.230Z"
   },
   {
    "duration": 5,
    "start_time": "2022-03-06T09:23:14.262Z"
   },
   {
    "duration": 34,
    "start_time": "2022-03-06T09:23:14.269Z"
   },
   {
    "duration": 4,
    "start_time": "2022-03-06T09:23:14.305Z"
   },
   {
    "duration": 496,
    "start_time": "2022-03-06T09:23:14.310Z"
   },
   {
    "duration": -88,
    "start_time": "2022-03-06T09:23:14.896Z"
   },
   {
    "duration": -93,
    "start_time": "2022-03-06T09:23:14.902Z"
   },
   {
    "duration": -98,
    "start_time": "2022-03-06T09:23:14.908Z"
   },
   {
    "duration": 3,
    "start_time": "2022-03-06T09:24:04.614Z"
   },
   {
    "duration": 349,
    "start_time": "2022-03-06T09:24:04.619Z"
   },
   {
    "duration": 3,
    "start_time": "2022-03-06T09:24:04.971Z"
   },
   {
    "duration": 103,
    "start_time": "2022-03-06T09:24:04.976Z"
   },
   {
    "duration": 104,
    "start_time": "2022-03-06T09:24:05.080Z"
   },
   {
    "duration": 113,
    "start_time": "2022-03-06T09:24:05.185Z"
   },
   {
    "duration": 12,
    "start_time": "2022-03-06T09:24:05.301Z"
   },
   {
    "duration": 23,
    "start_time": "2022-03-06T09:24:05.315Z"
   },
   {
    "duration": 54,
    "start_time": "2022-03-06T09:24:05.340Z"
   },
   {
    "duration": 4,
    "start_time": "2022-03-06T09:24:05.396Z"
   },
   {
    "duration": 30,
    "start_time": "2022-03-06T09:24:05.401Z"
   },
   {
    "duration": 112,
    "start_time": "2022-03-06T09:24:05.460Z"
   },
   {
    "duration": 192,
    "start_time": "2022-03-06T09:24:05.575Z"
   },
   {
    "duration": 99,
    "start_time": "2022-03-06T09:24:05.769Z"
   },
   {
    "duration": 16,
    "start_time": "2022-03-06T09:25:38.769Z"
   },
   {
    "duration": 14,
    "start_time": "2022-03-06T09:25:39.864Z"
   },
   {
    "duration": 16,
    "start_time": "2022-03-06T09:25:41.010Z"
   },
   {
    "duration": 9,
    "start_time": "2022-03-06T09:25:43.439Z"
   },
   {
    "duration": 56,
    "start_time": "2022-03-06T09:54:38.102Z"
   },
   {
    "duration": 8,
    "start_time": "2022-03-06T09:54:55.514Z"
   },
   {
    "duration": 56,
    "start_time": "2022-03-06T09:55:43.577Z"
   },
   {
    "duration": 195,
    "start_time": "2022-03-06T09:55:51.120Z"
   },
   {
    "duration": 206,
    "start_time": "2022-03-06T09:56:10.251Z"
   },
   {
    "duration": 210,
    "start_time": "2022-03-06T09:57:54.081Z"
   },
   {
    "duration": 8,
    "start_time": "2022-03-06T09:59:43.988Z"
   },
   {
    "duration": 8,
    "start_time": "2022-03-06T10:00:30.076Z"
   },
   {
    "duration": 4,
    "start_time": "2022-03-06T10:35:22.633Z"
   },
   {
    "duration": 1344,
    "start_time": "2022-03-07T09:40:38.944Z"
   },
   {
    "duration": 391,
    "start_time": "2022-03-07T09:40:40.290Z"
   },
   {
    "duration": 4,
    "start_time": "2022-03-07T09:40:40.683Z"
   },
   {
    "duration": 129,
    "start_time": "2022-03-07T09:40:40.690Z"
   },
   {
    "duration": 126,
    "start_time": "2022-03-07T09:40:40.821Z"
   },
   {
    "duration": 140,
    "start_time": "2022-03-07T09:40:40.949Z"
   },
   {
    "duration": 17,
    "start_time": "2022-03-07T09:40:41.091Z"
   },
   {
    "duration": 7,
    "start_time": "2022-03-07T09:40:41.111Z"
   },
   {
    "duration": 67,
    "start_time": "2022-03-07T09:40:41.120Z"
   },
   {
    "duration": 4,
    "start_time": "2022-03-07T09:40:41.189Z"
   },
   {
    "duration": 85,
    "start_time": "2022-03-07T09:40:41.195Z"
   },
   {
    "duration": 106,
    "start_time": "2022-03-07T09:40:41.286Z"
   },
   {
    "duration": 195,
    "start_time": "2022-03-07T09:40:41.394Z"
   },
   {
    "duration": 186,
    "start_time": "2022-03-07T09:40:41.592Z"
   },
   {
    "duration": 11,
    "start_time": "2022-03-07T09:40:41.780Z"
   },
   {
    "duration": 7,
    "start_time": "2022-03-07T09:40:41.792Z"
   },
   {
    "duration": 6,
    "start_time": "2022-03-07T09:40:41.801Z"
   },
   {
    "duration": 876,
    "start_time": "2022-03-07T09:40:41.809Z"
   },
   {
    "duration": 356,
    "start_time": "2022-03-07T09:40:42.331Z"
   },
   {
    "duration": 349,
    "start_time": "2022-03-07T09:40:42.339Z"
   },
   {
    "duration": 343,
    "start_time": "2022-03-07T09:40:42.346Z"
   },
   {
    "duration": 481,
    "start_time": "2022-03-07T09:46:51.694Z"
   },
   {
    "duration": 3,
    "start_time": "2022-03-07T09:48:12.110Z"
   },
   {
    "duration": 375,
    "start_time": "2022-03-07T09:48:12.115Z"
   },
   {
    "duration": 4,
    "start_time": "2022-03-07T09:48:12.493Z"
   },
   {
    "duration": 115,
    "start_time": "2022-03-07T09:48:12.500Z"
   },
   {
    "duration": 115,
    "start_time": "2022-03-07T09:48:12.616Z"
   },
   {
    "duration": 113,
    "start_time": "2022-03-07T09:48:12.733Z"
   },
   {
    "duration": 31,
    "start_time": "2022-03-07T09:48:12.848Z"
   },
   {
    "duration": 5,
    "start_time": "2022-03-07T09:48:12.882Z"
   },
   {
    "duration": 39,
    "start_time": "2022-03-07T09:48:12.889Z"
   },
   {
    "duration": 4,
    "start_time": "2022-03-07T09:48:12.930Z"
   },
   {
    "duration": 47,
    "start_time": "2022-03-07T09:48:12.936Z"
   },
   {
    "duration": 191,
    "start_time": "2022-03-07T09:48:12.985Z"
   },
   {
    "duration": 115,
    "start_time": "2022-03-07T09:48:13.179Z"
   },
   {
    "duration": 187,
    "start_time": "2022-03-07T09:48:13.296Z"
   },
   {
    "duration": 16,
    "start_time": "2022-03-07T09:48:13.485Z"
   },
   {
    "duration": 7,
    "start_time": "2022-03-07T09:48:13.503Z"
   },
   {
    "duration": 11,
    "start_time": "2022-03-07T09:48:13.511Z"
   },
   {
    "duration": 516,
    "start_time": "2022-03-07T09:48:13.523Z"
   },
   {
    "duration": 281,
    "start_time": "2022-03-07T09:48:13.760Z"
   },
   {
    "duration": 277,
    "start_time": "2022-03-07T09:48:13.765Z"
   },
   {
    "duration": 274,
    "start_time": "2022-03-07T09:48:13.769Z"
   },
   {
    "duration": 5,
    "start_time": "2022-03-07T10:02:34.404Z"
   },
   {
    "duration": 17,
    "start_time": "2022-03-07T10:02:35.937Z"
   },
   {
    "duration": 14,
    "start_time": "2022-03-07T10:02:44.480Z"
   },
   {
    "duration": 15,
    "start_time": "2022-03-07T10:02:45.322Z"
   },
   {
    "duration": 10,
    "start_time": "2022-03-07T10:02:52.648Z"
   },
   {
    "duration": 3,
    "start_time": "2022-03-07T12:54:05.613Z"
   },
   {
    "duration": 397,
    "start_time": "2022-03-07T12:54:05.618Z"
   },
   {
    "duration": 3,
    "start_time": "2022-03-07T12:54:06.017Z"
   },
   {
    "duration": 111,
    "start_time": "2022-03-07T12:54:06.022Z"
   },
   {
    "duration": 109,
    "start_time": "2022-03-07T12:54:06.136Z"
   },
   {
    "duration": 135,
    "start_time": "2022-03-07T12:54:06.248Z"
   },
   {
    "duration": 14,
    "start_time": "2022-03-07T12:54:06.385Z"
   },
   {
    "duration": 18,
    "start_time": "2022-03-07T12:54:06.402Z"
   },
   {
    "duration": 41,
    "start_time": "2022-03-07T12:54:06.424Z"
   },
   {
    "duration": 5,
    "start_time": "2022-03-07T12:54:06.477Z"
   },
   {
    "duration": 92,
    "start_time": "2022-03-07T12:54:06.484Z"
   },
   {
    "duration": 113,
    "start_time": "2022-03-07T12:54:06.579Z"
   },
   {
    "duration": 197,
    "start_time": "2022-03-07T12:54:06.694Z"
   },
   {
    "duration": 191,
    "start_time": "2022-03-07T12:54:06.894Z"
   },
   {
    "duration": 24,
    "start_time": "2022-03-07T12:54:07.087Z"
   },
   {
    "duration": 6,
    "start_time": "2022-03-07T12:54:07.113Z"
   },
   {
    "duration": 15,
    "start_time": "2022-03-07T12:54:07.120Z"
   },
   {
    "duration": 551,
    "start_time": "2022-03-07T12:54:07.137Z"
   },
   {
    "duration": 680,
    "start_time": "2022-03-07T12:54:07.010Z"
   },
   {
    "duration": 673,
    "start_time": "2022-03-07T12:54:07.018Z"
   },
   {
    "duration": 669,
    "start_time": "2022-03-07T12:54:07.023Z"
   },
   {
    "duration": 4,
    "start_time": "2022-03-07T13:10:29.917Z"
   },
   {
    "duration": 6,
    "start_time": "2022-03-07T13:10:30.620Z"
   },
   {
    "duration": 532,
    "start_time": "2022-03-07T13:10:31.889Z"
   },
   {
    "duration": 6,
    "start_time": "2022-03-07T13:14:29.852Z"
   },
   {
    "duration": 578,
    "start_time": "2022-03-07T13:14:32.123Z"
   },
   {
    "duration": 5,
    "start_time": "2022-03-07T13:15:40.850Z"
   },
   {
    "duration": 544,
    "start_time": "2022-03-07T13:15:41.318Z"
   },
   {
    "duration": 3,
    "start_time": "2022-03-07T13:20:34.037Z"
   },
   {
    "duration": 392,
    "start_time": "2022-03-07T13:20:34.041Z"
   },
   {
    "duration": 4,
    "start_time": "2022-03-07T13:20:34.435Z"
   },
   {
    "duration": 108,
    "start_time": "2022-03-07T13:20:34.441Z"
   },
   {
    "duration": 134,
    "start_time": "2022-03-07T13:20:34.550Z"
   },
   {
    "duration": 126,
    "start_time": "2022-03-07T13:20:34.686Z"
   },
   {
    "duration": 13,
    "start_time": "2022-03-07T13:20:34.813Z"
   },
   {
    "duration": 8,
    "start_time": "2022-03-07T13:20:34.828Z"
   },
   {
    "duration": 56,
    "start_time": "2022-03-07T13:20:34.838Z"
   },
   {
    "duration": 4,
    "start_time": "2022-03-07T13:20:34.896Z"
   },
   {
    "duration": 79,
    "start_time": "2022-03-07T13:20:34.902Z"
   },
   {
    "duration": 108,
    "start_time": "2022-03-07T13:20:34.983Z"
   },
   {
    "duration": 184,
    "start_time": "2022-03-07T13:20:35.094Z"
   },
   {
    "duration": 103,
    "start_time": "2022-03-07T13:20:35.284Z"
   },
   {
    "duration": 8,
    "start_time": "2022-03-07T13:20:35.389Z"
   },
   {
    "duration": 6,
    "start_time": "2022-03-07T13:20:35.399Z"
   },
   {
    "duration": 8,
    "start_time": "2022-03-07T13:20:35.406Z"
   },
   {
    "duration": 551,
    "start_time": "2022-03-07T13:20:35.416Z"
   },
   {
    "duration": 706,
    "start_time": "2022-03-07T13:20:35.264Z"
   },
   {
    "duration": 701,
    "start_time": "2022-03-07T13:20:35.270Z"
   },
   {
    "duration": 696,
    "start_time": "2022-03-07T13:20:35.276Z"
   },
   {
    "duration": 4,
    "start_time": "2022-03-07T13:36:22.845Z"
   },
   {
    "duration": 377,
    "start_time": "2022-03-07T13:36:22.851Z"
   },
   {
    "duration": 3,
    "start_time": "2022-03-07T13:36:23.231Z"
   },
   {
    "duration": 112,
    "start_time": "2022-03-07T13:36:23.237Z"
   },
   {
    "duration": 132,
    "start_time": "2022-03-07T13:36:23.351Z"
   },
   {
    "duration": 127,
    "start_time": "2022-03-07T13:36:23.486Z"
   },
   {
    "duration": 15,
    "start_time": "2022-03-07T13:36:23.616Z"
   },
   {
    "duration": 4,
    "start_time": "2022-03-07T13:36:23.635Z"
   },
   {
    "duration": 62,
    "start_time": "2022-03-07T13:36:23.641Z"
   },
   {
    "duration": 5,
    "start_time": "2022-03-07T13:36:23.705Z"
   },
   {
    "duration": 69,
    "start_time": "2022-03-07T13:36:23.713Z"
   },
   {
    "duration": 98,
    "start_time": "2022-03-07T13:36:23.786Z"
   },
   {
    "duration": 292,
    "start_time": "2022-03-07T13:36:23.886Z"
   },
   {
    "duration": 10,
    "start_time": "2022-03-07T13:36:24.180Z"
   },
   {
    "duration": 12,
    "start_time": "2022-03-07T13:36:24.192Z"
   },
   {
    "duration": 5,
    "start_time": "2022-03-07T13:36:24.206Z"
   },
   {
    "duration": 7,
    "start_time": "2022-03-07T13:36:24.212Z"
   },
   {
    "duration": 824,
    "start_time": "2022-03-07T13:36:24.277Z"
   },
   {
    "duration": 298,
    "start_time": "2022-03-07T13:36:24.805Z"
   },
   {
    "duration": 294,
    "start_time": "2022-03-07T13:36:24.811Z"
   },
   {
    "duration": 292,
    "start_time": "2022-03-07T13:36:24.815Z"
   },
   {
    "duration": 990,
    "start_time": "2022-03-07T14:36:49.833Z"
   },
   {
    "duration": 3,
    "start_time": "2022-03-07T14:37:01.813Z"
   },
   {
    "duration": 398,
    "start_time": "2022-03-07T14:37:01.818Z"
   },
   {
    "duration": 4,
    "start_time": "2022-03-07T14:37:02.218Z"
   },
   {
    "duration": 117,
    "start_time": "2022-03-07T14:37:02.224Z"
   },
   {
    "duration": 112,
    "start_time": "2022-03-07T14:37:02.343Z"
   },
   {
    "duration": 148,
    "start_time": "2022-03-07T14:37:02.457Z"
   },
   {
    "duration": 14,
    "start_time": "2022-03-07T14:37:02.608Z"
   },
   {
    "duration": 7,
    "start_time": "2022-03-07T14:37:02.625Z"
   },
   {
    "duration": 61,
    "start_time": "2022-03-07T14:37:02.634Z"
   },
   {
    "duration": 6,
    "start_time": "2022-03-07T14:37:02.697Z"
   },
   {
    "duration": 75,
    "start_time": "2022-03-07T14:37:02.705Z"
   },
   {
    "duration": 110,
    "start_time": "2022-03-07T14:37:02.782Z"
   },
   {
    "duration": 193,
    "start_time": "2022-03-07T14:37:02.895Z"
   },
   {
    "duration": 101,
    "start_time": "2022-03-07T14:37:03.184Z"
   },
   {
    "duration": 12,
    "start_time": "2022-03-07T14:37:03.286Z"
   },
   {
    "duration": 9,
    "start_time": "2022-03-07T14:37:03.299Z"
   },
   {
    "duration": 7,
    "start_time": "2022-03-07T14:37:03.310Z"
   },
   {
    "duration": 795,
    "start_time": "2022-03-07T14:37:03.319Z"
   },
   {
    "duration": 513,
    "start_time": "2022-03-07T14:37:03.602Z"
   },
   {
    "duration": 509,
    "start_time": "2022-03-07T14:37:03.607Z"
   },
   {
    "duration": 504,
    "start_time": "2022-03-07T14:37:03.613Z"
   },
   {
    "duration": 3,
    "start_time": "2022-03-07T14:37:55.073Z"
   },
   {
    "duration": 6,
    "start_time": "2022-03-07T14:37:55.836Z"
   },
   {
    "duration": 3307,
    "start_time": "2022-03-07T14:37:57.200Z"
   },
   {
    "duration": 815,
    "start_time": "2022-03-07T14:40:28.727Z"
   },
   {
    "duration": 3381,
    "start_time": "2022-03-07T14:40:44.496Z"
   },
   {
    "duration": 3292,
    "start_time": "2022-03-07T14:40:54.507Z"
   },
   {
    "duration": 11,
    "start_time": "2022-03-07T14:40:58.741Z"
   },
   {
    "duration": 3,
    "start_time": "2022-03-07T19:49:20.430Z"
   },
   {
    "duration": 367,
    "start_time": "2022-03-07T19:49:20.435Z"
   },
   {
    "duration": 4,
    "start_time": "2022-03-07T19:49:20.804Z"
   },
   {
    "duration": 115,
    "start_time": "2022-03-07T19:49:20.810Z"
   },
   {
    "duration": 121,
    "start_time": "2022-03-07T19:49:20.927Z"
   },
   {
    "duration": 144,
    "start_time": "2022-03-07T19:49:21.050Z"
   },
   {
    "duration": 13,
    "start_time": "2022-03-07T19:49:21.196Z"
   },
   {
    "duration": 8,
    "start_time": "2022-03-07T19:49:21.211Z"
   },
   {
    "duration": 55,
    "start_time": "2022-03-07T19:49:21.222Z"
   },
   {
    "duration": 5,
    "start_time": "2022-03-07T19:49:21.279Z"
   },
   {
    "duration": 564,
    "start_time": "2022-03-07T19:49:21.285Z"
   },
   {
    "duration": 1352,
    "start_time": "2022-03-07T19:49:20.498Z"
   },
   {
    "duration": 1351,
    "start_time": "2022-03-07T19:49:20.500Z"
   },
   {
    "duration": 1350,
    "start_time": "2022-03-07T19:49:20.503Z"
   },
   {
    "duration": 1349,
    "start_time": "2022-03-07T19:49:20.505Z"
   },
   {
    "duration": 1347,
    "start_time": "2022-03-07T19:49:20.508Z"
   },
   {
    "duration": 1344,
    "start_time": "2022-03-07T19:49:20.512Z"
   },
   {
    "duration": 1343,
    "start_time": "2022-03-07T19:49:20.514Z"
   },
   {
    "duration": 1341,
    "start_time": "2022-03-07T19:49:20.517Z"
   },
   {
    "duration": 1340,
    "start_time": "2022-03-07T19:49:20.519Z"
   },
   {
    "duration": 1337,
    "start_time": "2022-03-07T19:49:20.522Z"
   },
   {
    "duration": 3,
    "start_time": "2022-03-07T19:50:37.072Z"
   },
   {
    "duration": 387,
    "start_time": "2022-03-07T19:50:37.077Z"
   },
   {
    "duration": 3,
    "start_time": "2022-03-07T19:50:37.466Z"
   },
   {
    "duration": 110,
    "start_time": "2022-03-07T19:50:37.471Z"
   },
   {
    "duration": 109,
    "start_time": "2022-03-07T19:50:37.583Z"
   },
   {
    "duration": 116,
    "start_time": "2022-03-07T19:50:37.693Z"
   },
   {
    "duration": 13,
    "start_time": "2022-03-07T19:50:37.811Z"
   },
   {
    "duration": 5,
    "start_time": "2022-03-07T19:50:37.826Z"
   },
   {
    "duration": 60,
    "start_time": "2022-03-07T19:50:37.832Z"
   },
   {
    "duration": 5,
    "start_time": "2022-03-07T19:50:37.894Z"
   },
   {
    "duration": 80,
    "start_time": "2022-03-07T19:50:37.900Z"
   },
   {
    "duration": 109,
    "start_time": "2022-03-07T19:50:37.982Z"
   },
   {
    "duration": 199,
    "start_time": "2022-03-07T19:50:38.093Z"
   },
   {
    "duration": 184,
    "start_time": "2022-03-07T19:50:38.295Z"
   },
   {
    "duration": 30,
    "start_time": "2022-03-07T19:50:38.481Z"
   },
   {
    "duration": 13,
    "start_time": "2022-03-07T19:50:38.513Z"
   },
   {
    "duration": 25,
    "start_time": "2022-03-07T19:50:38.528Z"
   },
   {
    "duration": 3345,
    "start_time": "2022-03-07T19:50:38.555Z"
   },
   {
    "duration": 3430,
    "start_time": "2022-03-07T19:50:41.903Z"
   },
   {
    "duration": 3432,
    "start_time": "2022-03-07T19:50:45.334Z"
   },
   {
    "duration": 10,
    "start_time": "2022-03-07T19:50:48.768Z"
   },
   {
    "duration": 1123,
    "start_time": "2022-03-08T06:29:48.354Z"
   },
   {
    "duration": 407,
    "start_time": "2022-03-08T06:29:49.479Z"
   },
   {
    "duration": 4,
    "start_time": "2022-03-08T06:29:49.888Z"
   },
   {
    "duration": 129,
    "start_time": "2022-03-08T06:29:49.894Z"
   },
   {
    "duration": 116,
    "start_time": "2022-03-08T06:29:50.025Z"
   },
   {
    "duration": 151,
    "start_time": "2022-03-08T06:29:50.143Z"
   },
   {
    "duration": 18,
    "start_time": "2022-03-08T06:29:50.296Z"
   },
   {
    "duration": 5,
    "start_time": "2022-03-08T06:29:50.317Z"
   },
   {
    "duration": 71,
    "start_time": "2022-03-08T06:29:50.324Z"
   },
   {
    "duration": 5,
    "start_time": "2022-03-08T06:29:50.397Z"
   },
   {
    "duration": 446,
    "start_time": "2022-03-08T06:29:50.404Z"
   },
   {
    "duration": -1124,
    "start_time": "2022-03-08T06:29:51.976Z"
   },
   {
    "duration": -1134,
    "start_time": "2022-03-08T06:29:51.988Z"
   },
   {
    "duration": -1141,
    "start_time": "2022-03-08T06:29:51.996Z"
   },
   {
    "duration": -1151,
    "start_time": "2022-03-08T06:29:52.008Z"
   },
   {
    "duration": -1157,
    "start_time": "2022-03-08T06:29:52.016Z"
   },
   {
    "duration": -1164,
    "start_time": "2022-03-08T06:29:52.024Z"
   },
   {
    "duration": -1168,
    "start_time": "2022-03-08T06:29:52.030Z"
   },
   {
    "duration": -1173,
    "start_time": "2022-03-08T06:29:52.036Z"
   },
   {
    "duration": -1176,
    "start_time": "2022-03-08T06:29:52.041Z"
   },
   {
    "duration": -1179,
    "start_time": "2022-03-08T06:29:52.047Z"
   },
   {
    "duration": 3,
    "start_time": "2022-03-08T06:32:11.695Z"
   },
   {
    "duration": 410,
    "start_time": "2022-03-08T06:32:11.701Z"
   },
   {
    "duration": 5,
    "start_time": "2022-03-08T06:32:12.113Z"
   },
   {
    "duration": 120,
    "start_time": "2022-03-08T06:32:12.121Z"
   },
   {
    "duration": 133,
    "start_time": "2022-03-08T06:32:12.244Z"
   },
   {
    "duration": 130,
    "start_time": "2022-03-08T06:32:12.379Z"
   },
   {
    "duration": 14,
    "start_time": "2022-03-08T06:32:12.511Z"
   },
   {
    "duration": 6,
    "start_time": "2022-03-08T06:32:12.527Z"
   },
   {
    "duration": 59,
    "start_time": "2022-03-08T06:32:12.536Z"
   },
   {
    "duration": 5,
    "start_time": "2022-03-08T06:32:12.597Z"
   },
   {
    "duration": 77,
    "start_time": "2022-03-08T06:32:12.604Z"
   },
   {
    "duration": 103,
    "start_time": "2022-03-08T06:32:12.683Z"
   },
   {
    "duration": 199,
    "start_time": "2022-03-08T06:32:12.788Z"
   },
   {
    "duration": 192,
    "start_time": "2022-03-08T06:32:12.989Z"
   },
   {
    "duration": 10,
    "start_time": "2022-03-08T06:32:13.183Z"
   },
   {
    "duration": 7,
    "start_time": "2022-03-08T06:32:13.195Z"
   },
   {
    "duration": 12,
    "start_time": "2022-03-08T06:32:13.203Z"
   },
   {
    "duration": 3794,
    "start_time": "2022-03-08T06:32:13.216Z"
   },
   {
    "duration": 3514,
    "start_time": "2022-03-08T06:32:17.012Z"
   },
   {
    "duration": 3465,
    "start_time": "2022-03-08T06:32:20.528Z"
   },
   {
    "duration": 10,
    "start_time": "2022-03-08T06:32:23.995Z"
   },
   {
    "duration": 3,
    "start_time": "2022-03-08T07:19:07.907Z"
   },
   {
    "duration": 6,
    "start_time": "2022-03-08T07:32:26.204Z"
   },
   {
    "duration": 3590,
    "start_time": "2022-03-08T07:32:27.263Z"
   },
   {
    "duration": 3536,
    "start_time": "2022-03-08T07:32:32.064Z"
   },
   {
    "duration": 3573,
    "start_time": "2022-03-08T07:32:35.602Z"
   },
   {
    "duration": 15,
    "start_time": "2022-03-08T07:32:39.178Z"
   },
   {
    "duration": 6,
    "start_time": "2022-03-08T07:35:57.739Z"
   },
   {
    "duration": 3667,
    "start_time": "2022-03-08T07:35:58.993Z"
   },
   {
    "duration": 3633,
    "start_time": "2022-03-08T07:36:02.662Z"
   },
   {
    "duration": 3522,
    "start_time": "2022-03-08T07:36:06.298Z"
   },
   {
    "duration": 9,
    "start_time": "2022-03-08T07:36:09.821Z"
   },
   {
    "duration": 4,
    "start_time": "2022-03-08T07:54:53.393Z"
   },
   {
    "duration": 394,
    "start_time": "2022-03-08T07:54:53.399Z"
   },
   {
    "duration": 4,
    "start_time": "2022-03-08T07:54:53.795Z"
   },
   {
    "duration": 115,
    "start_time": "2022-03-08T07:54:53.800Z"
   },
   {
    "duration": 117,
    "start_time": "2022-03-08T07:54:53.916Z"
   },
   {
    "duration": 114,
    "start_time": "2022-03-08T07:54:54.035Z"
   },
   {
    "duration": 27,
    "start_time": "2022-03-08T07:54:54.151Z"
   },
   {
    "duration": 17,
    "start_time": "2022-03-08T07:54:54.181Z"
   },
   {
    "duration": 42,
    "start_time": "2022-03-08T07:54:54.200Z"
   },
   {
    "duration": 5,
    "start_time": "2022-03-08T07:54:54.243Z"
   },
   {
    "duration": 30,
    "start_time": "2022-03-08T07:54:54.250Z"
   },
   {
    "duration": 100,
    "start_time": "2022-03-08T07:54:54.282Z"
   },
   {
    "duration": 119,
    "start_time": "2022-03-08T07:54:54.388Z"
   },
   {
    "duration": 91,
    "start_time": "2022-03-08T07:54:54.591Z"
   },
   {
    "duration": 19,
    "start_time": "2022-03-08T07:54:54.684Z"
   },
   {
    "duration": 4,
    "start_time": "2022-03-08T07:54:54.705Z"
   },
   {
    "duration": 8,
    "start_time": "2022-03-08T07:54:54.711Z"
   },
   {
    "duration": 3556,
    "start_time": "2022-03-08T07:54:54.721Z"
   },
   {
    "duration": 3680,
    "start_time": "2022-03-08T07:54:58.280Z"
   },
   {
    "duration": 3935,
    "start_time": "2022-03-08T07:55:01.962Z"
   },
   {
    "duration": 15,
    "start_time": "2022-03-08T07:55:05.900Z"
   },
   {
    "duration": 3,
    "start_time": "2022-03-08T08:19:41.748Z"
   },
   {
    "duration": 390,
    "start_time": "2022-03-08T08:19:41.753Z"
   },
   {
    "duration": 4,
    "start_time": "2022-03-08T08:19:42.145Z"
   },
   {
    "duration": 106,
    "start_time": "2022-03-08T08:19:42.150Z"
   },
   {
    "duration": 124,
    "start_time": "2022-03-08T08:19:42.258Z"
   },
   {
    "duration": 119,
    "start_time": "2022-03-08T08:19:42.384Z"
   },
   {
    "duration": 14,
    "start_time": "2022-03-08T08:19:42.505Z"
   },
   {
    "duration": 6,
    "start_time": "2022-03-08T08:19:42.521Z"
   },
   {
    "duration": 54,
    "start_time": "2022-03-08T08:19:42.528Z"
   },
   {
    "duration": 5,
    "start_time": "2022-03-08T08:19:42.584Z"
   },
   {
    "duration": 89,
    "start_time": "2022-03-08T08:19:42.591Z"
   },
   {
    "duration": 111,
    "start_time": "2022-03-08T08:19:42.682Z"
   },
   {
    "duration": 107,
    "start_time": "2022-03-08T08:19:42.879Z"
   },
   {
    "duration": 99,
    "start_time": "2022-03-08T08:19:43.078Z"
   },
   {
    "duration": 9,
    "start_time": "2022-03-08T08:19:43.179Z"
   },
   {
    "duration": 4,
    "start_time": "2022-03-08T08:19:43.189Z"
   },
   {
    "duration": 6,
    "start_time": "2022-03-08T08:19:43.195Z"
   },
   {
    "duration": 3382,
    "start_time": "2022-03-08T08:19:43.202Z"
   },
   {
    "duration": 3246,
    "start_time": "2022-03-08T08:19:46.587Z"
   },
   {
    "duration": 3592,
    "start_time": "2022-03-08T08:19:49.835Z"
   },
   {
    "duration": 10,
    "start_time": "2022-03-08T08:19:53.429Z"
   }
  ],
  "kernelspec": {
   "display_name": "Python 3 (ipykernel)",
   "language": "python",
   "name": "python3"
  },
  "language_info": {
   "codemirror_mode": {
    "name": "ipython",
    "version": 3
   },
   "file_extension": ".py",
   "mimetype": "text/x-python",
   "name": "python",
   "nbconvert_exporter": "python",
   "pygments_lexer": "ipython3",
   "version": "3.9.5"
  },
  "toc": {
   "base_numbering": 1,
   "nav_menu": {},
   "number_sections": true,
   "sideBar": true,
   "skip_h1_title": true,
   "title_cell": "Table of Contents",
   "title_sidebar": "Contents",
   "toc_cell": false,
   "toc_position": {
    "height": "calc(100% - 180px)",
    "left": "10px",
    "top": "150px",
    "width": "366.391px"
   },
   "toc_section_display": true,
   "toc_window_display": true
  }
 },
 "nbformat": 4,
 "nbformat_minor": 2
}
