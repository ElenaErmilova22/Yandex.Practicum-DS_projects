{
 "cells": [
  {
   "cell_type": "markdown",
   "metadata": {},
   "source": [
    "## Аннотация: дипломный проект по прогнозированию оттока клиентов телеком-компании"
   ]
  },
  {
   "cell_type": "markdown",
   "metadata": {},
   "source": [
    "Оператор связи «Ниединогоразрыва.ком» хочет научиться прогнозировать отток клиентов. \n",
    "\n",
    "**Цель** проекта: построить прототип модели машинного обучения для предсказывания ухода клиентов компании.\n",
    "\n",
    "**Задачи** проекта:\n",
    "- провести исследовательский анализ данных;\n",
    "- обучить и протестировать несколько моделей машинного обучения на имеющихся данных;\n",
    "- выбрать из них одну модель, которая и станет прототипом."
   ]
  },
  {
   "cell_type": "markdown",
   "metadata": {},
   "source": [
    "## Знакомство с данными"
   ]
  },
  {
   "cell_type": "code",
   "execution_count": 130,
   "metadata": {},
   "outputs": [],
   "source": [
    "#импортируем библиотеки, которые понадобятся нам в исследовании\n",
    "import pandas as pd\n",
    "import numpy as np\n",
    "import matplotlib.pyplot as plt\n",
    "import seaborn as sns\n",
    "import warnings\n",
    "warnings.filterwarnings(\"ignore\")\n",
    "import lightgbm as lgb\n",
    "from lightgbm import LGBMClassifier \n",
    "from sklearn.ensemble import RandomForestClassifier\n",
    "from sklearn.model_selection import train_test_split\n",
    "from sklearn.utils import shuffle\n",
    "from sklearn.metrics import roc_auc_score\n",
    "from sklearn.metrics import accuracy_score\n",
    "from sklearn.metrics import f1_score\n",
    "from datetime import datetime as dt"
   ]
  },
  {
   "cell_type": "code",
   "execution_count": 131,
   "metadata": {},
   "outputs": [],
   "source": [
    "#применяем специальный метод для чтения файлов формата csv\n",
    "contract = pd.read_csv('/datasets/final_provider/contract.csv')\n",
    "personal = pd.read_csv('/datasets/final_provider/personal.csv')\n",
    "internet = pd.read_csv('/datasets/final_provider/internet.csv')\n",
    "phone = pd.read_csv('/datasets/final_provider/phone.csv')"
   ]
  },
  {
   "cell_type": "markdown",
   "metadata": {},
   "source": [
    "Теперь необходимо ознакомиться с имеющимися данными, провести их первичный анализ, чтобы получить общее представление о том, с чем придется работать в ходе исследования, и чтобы выявить проблемы в данных, которые нужно будет устранить на этапе предобработки. \n",
    "\n",
    "Так как в этот раз мы будем работать сразу с несколькими исходными таблицами, то удобнее будет автоматизировать процесс получения необходимой информации. Создадим функцию, которая будет выводить на экран:\n",
    "- общую информацию о таблице;\n",
    "- 10 первых строк фрейма;\n",
    "- описательную статистику таблицы;\n",
    "- результаты проверки на наличие в данных явных дубликатов."
   ]
  },
  {
   "cell_type": "code",
   "execution_count": 132,
   "metadata": {},
   "outputs": [],
   "source": [
    "def study_of_initial_data(data): #создаем функцию\n",
    "    print(data.info())\n",
    "    print()\n",
    "    display(data.head(10))\n",
    "    print()\n",
    "    display(data.describe())\n",
    "    print()\n",
    "    print(data.duplicated().sum())"
   ]
  },
  {
   "cell_type": "code",
   "execution_count": 133,
   "metadata": {},
   "outputs": [
    {
     "name": "stdout",
     "output_type": "stream",
     "text": [
      "<class 'pandas.core.frame.DataFrame'>\n",
      "RangeIndex: 7043 entries, 0 to 7042\n",
      "Data columns (total 8 columns):\n",
      " #   Column            Non-Null Count  Dtype  \n",
      "---  ------            --------------  -----  \n",
      " 0   customerID        7043 non-null   object \n",
      " 1   BeginDate         7043 non-null   object \n",
      " 2   EndDate           7043 non-null   object \n",
      " 3   Type              7043 non-null   object \n",
      " 4   PaperlessBilling  7043 non-null   object \n",
      " 5   PaymentMethod     7043 non-null   object \n",
      " 6   MonthlyCharges    7043 non-null   float64\n",
      " 7   TotalCharges      7043 non-null   object \n",
      "dtypes: float64(1), object(7)\n",
      "memory usage: 440.3+ KB\n",
      "None\n",
      "\n"
     ]
    },
    {
     "data": {
      "text/html": [
       "<div>\n",
       "<style scoped>\n",
       "    .dataframe tbody tr th:only-of-type {\n",
       "        vertical-align: middle;\n",
       "    }\n",
       "\n",
       "    .dataframe tbody tr th {\n",
       "        vertical-align: top;\n",
       "    }\n",
       "\n",
       "    .dataframe thead th {\n",
       "        text-align: right;\n",
       "    }\n",
       "</style>\n",
       "<table border=\"1\" class=\"dataframe\">\n",
       "  <thead>\n",
       "    <tr style=\"text-align: right;\">\n",
       "      <th></th>\n",
       "      <th>customerID</th>\n",
       "      <th>BeginDate</th>\n",
       "      <th>EndDate</th>\n",
       "      <th>Type</th>\n",
       "      <th>PaperlessBilling</th>\n",
       "      <th>PaymentMethod</th>\n",
       "      <th>MonthlyCharges</th>\n",
       "      <th>TotalCharges</th>\n",
       "    </tr>\n",
       "  </thead>\n",
       "  <tbody>\n",
       "    <tr>\n",
       "      <th>0</th>\n",
       "      <td>7590-VHVEG</td>\n",
       "      <td>2020-01-01</td>\n",
       "      <td>No</td>\n",
       "      <td>Month-to-month</td>\n",
       "      <td>Yes</td>\n",
       "      <td>Electronic check</td>\n",
       "      <td>29.85</td>\n",
       "      <td>29.85</td>\n",
       "    </tr>\n",
       "    <tr>\n",
       "      <th>1</th>\n",
       "      <td>5575-GNVDE</td>\n",
       "      <td>2017-04-01</td>\n",
       "      <td>No</td>\n",
       "      <td>One year</td>\n",
       "      <td>No</td>\n",
       "      <td>Mailed check</td>\n",
       "      <td>56.95</td>\n",
       "      <td>1889.5</td>\n",
       "    </tr>\n",
       "    <tr>\n",
       "      <th>2</th>\n",
       "      <td>3668-QPYBK</td>\n",
       "      <td>2019-10-01</td>\n",
       "      <td>2019-12-01 00:00:00</td>\n",
       "      <td>Month-to-month</td>\n",
       "      <td>Yes</td>\n",
       "      <td>Mailed check</td>\n",
       "      <td>53.85</td>\n",
       "      <td>108.15</td>\n",
       "    </tr>\n",
       "    <tr>\n",
       "      <th>3</th>\n",
       "      <td>7795-CFOCW</td>\n",
       "      <td>2016-05-01</td>\n",
       "      <td>No</td>\n",
       "      <td>One year</td>\n",
       "      <td>No</td>\n",
       "      <td>Bank transfer (automatic)</td>\n",
       "      <td>42.30</td>\n",
       "      <td>1840.75</td>\n",
       "    </tr>\n",
       "    <tr>\n",
       "      <th>4</th>\n",
       "      <td>9237-HQITU</td>\n",
       "      <td>2019-09-01</td>\n",
       "      <td>2019-11-01 00:00:00</td>\n",
       "      <td>Month-to-month</td>\n",
       "      <td>Yes</td>\n",
       "      <td>Electronic check</td>\n",
       "      <td>70.70</td>\n",
       "      <td>151.65</td>\n",
       "    </tr>\n",
       "    <tr>\n",
       "      <th>5</th>\n",
       "      <td>9305-CDSKC</td>\n",
       "      <td>2019-03-01</td>\n",
       "      <td>2019-11-01 00:00:00</td>\n",
       "      <td>Month-to-month</td>\n",
       "      <td>Yes</td>\n",
       "      <td>Electronic check</td>\n",
       "      <td>99.65</td>\n",
       "      <td>820.5</td>\n",
       "    </tr>\n",
       "    <tr>\n",
       "      <th>6</th>\n",
       "      <td>1452-KIOVK</td>\n",
       "      <td>2018-04-01</td>\n",
       "      <td>No</td>\n",
       "      <td>Month-to-month</td>\n",
       "      <td>Yes</td>\n",
       "      <td>Credit card (automatic)</td>\n",
       "      <td>89.10</td>\n",
       "      <td>1949.4</td>\n",
       "    </tr>\n",
       "    <tr>\n",
       "      <th>7</th>\n",
       "      <td>6713-OKOMC</td>\n",
       "      <td>2019-04-01</td>\n",
       "      <td>No</td>\n",
       "      <td>Month-to-month</td>\n",
       "      <td>No</td>\n",
       "      <td>Mailed check</td>\n",
       "      <td>29.75</td>\n",
       "      <td>301.9</td>\n",
       "    </tr>\n",
       "    <tr>\n",
       "      <th>8</th>\n",
       "      <td>7892-POOKP</td>\n",
       "      <td>2017-07-01</td>\n",
       "      <td>2019-11-01 00:00:00</td>\n",
       "      <td>Month-to-month</td>\n",
       "      <td>Yes</td>\n",
       "      <td>Electronic check</td>\n",
       "      <td>104.80</td>\n",
       "      <td>3046.05</td>\n",
       "    </tr>\n",
       "    <tr>\n",
       "      <th>9</th>\n",
       "      <td>6388-TABGU</td>\n",
       "      <td>2014-12-01</td>\n",
       "      <td>No</td>\n",
       "      <td>One year</td>\n",
       "      <td>No</td>\n",
       "      <td>Bank transfer (automatic)</td>\n",
       "      <td>56.15</td>\n",
       "      <td>3487.95</td>\n",
       "    </tr>\n",
       "  </tbody>\n",
       "</table>\n",
       "</div>"
      ],
      "text/plain": [
       "   customerID   BeginDate              EndDate            Type  \\\n",
       "0  7590-VHVEG  2020-01-01                   No  Month-to-month   \n",
       "1  5575-GNVDE  2017-04-01                   No        One year   \n",
       "2  3668-QPYBK  2019-10-01  2019-12-01 00:00:00  Month-to-month   \n",
       "3  7795-CFOCW  2016-05-01                   No        One year   \n",
       "4  9237-HQITU  2019-09-01  2019-11-01 00:00:00  Month-to-month   \n",
       "5  9305-CDSKC  2019-03-01  2019-11-01 00:00:00  Month-to-month   \n",
       "6  1452-KIOVK  2018-04-01                   No  Month-to-month   \n",
       "7  6713-OKOMC  2019-04-01                   No  Month-to-month   \n",
       "8  7892-POOKP  2017-07-01  2019-11-01 00:00:00  Month-to-month   \n",
       "9  6388-TABGU  2014-12-01                   No        One year   \n",
       "\n",
       "  PaperlessBilling              PaymentMethod  MonthlyCharges TotalCharges  \n",
       "0              Yes           Electronic check           29.85        29.85  \n",
       "1               No               Mailed check           56.95       1889.5  \n",
       "2              Yes               Mailed check           53.85       108.15  \n",
       "3               No  Bank transfer (automatic)           42.30      1840.75  \n",
       "4              Yes           Electronic check           70.70       151.65  \n",
       "5              Yes           Electronic check           99.65        820.5  \n",
       "6              Yes    Credit card (automatic)           89.10       1949.4  \n",
       "7               No               Mailed check           29.75        301.9  \n",
       "8              Yes           Electronic check          104.80      3046.05  \n",
       "9               No  Bank transfer (automatic)           56.15      3487.95  "
      ]
     },
     "metadata": {},
     "output_type": "display_data"
    },
    {
     "name": "stdout",
     "output_type": "stream",
     "text": [
      "\n"
     ]
    },
    {
     "data": {
      "text/html": [
       "<div>\n",
       "<style scoped>\n",
       "    .dataframe tbody tr th:only-of-type {\n",
       "        vertical-align: middle;\n",
       "    }\n",
       "\n",
       "    .dataframe tbody tr th {\n",
       "        vertical-align: top;\n",
       "    }\n",
       "\n",
       "    .dataframe thead th {\n",
       "        text-align: right;\n",
       "    }\n",
       "</style>\n",
       "<table border=\"1\" class=\"dataframe\">\n",
       "  <thead>\n",
       "    <tr style=\"text-align: right;\">\n",
       "      <th></th>\n",
       "      <th>MonthlyCharges</th>\n",
       "    </tr>\n",
       "  </thead>\n",
       "  <tbody>\n",
       "    <tr>\n",
       "      <th>count</th>\n",
       "      <td>7043.000000</td>\n",
       "    </tr>\n",
       "    <tr>\n",
       "      <th>mean</th>\n",
       "      <td>64.761692</td>\n",
       "    </tr>\n",
       "    <tr>\n",
       "      <th>std</th>\n",
       "      <td>30.090047</td>\n",
       "    </tr>\n",
       "    <tr>\n",
       "      <th>min</th>\n",
       "      <td>18.250000</td>\n",
       "    </tr>\n",
       "    <tr>\n",
       "      <th>25%</th>\n",
       "      <td>35.500000</td>\n",
       "    </tr>\n",
       "    <tr>\n",
       "      <th>50%</th>\n",
       "      <td>70.350000</td>\n",
       "    </tr>\n",
       "    <tr>\n",
       "      <th>75%</th>\n",
       "      <td>89.850000</td>\n",
       "    </tr>\n",
       "    <tr>\n",
       "      <th>max</th>\n",
       "      <td>118.750000</td>\n",
       "    </tr>\n",
       "  </tbody>\n",
       "</table>\n",
       "</div>"
      ],
      "text/plain": [
       "       MonthlyCharges\n",
       "count     7043.000000\n",
       "mean        64.761692\n",
       "std         30.090047\n",
       "min         18.250000\n",
       "25%         35.500000\n",
       "50%         70.350000\n",
       "75%         89.850000\n",
       "max        118.750000"
      ]
     },
     "metadata": {},
     "output_type": "display_data"
    },
    {
     "name": "stdout",
     "output_type": "stream",
     "text": [
      "\n",
      "0\n"
     ]
    }
   ],
   "source": [
    "#применяем функцию study_of_initial_data() к каждой таблице\n",
    "study_of_initial_data(contract)"
   ]
  },
  {
   "cell_type": "code",
   "execution_count": 134,
   "metadata": {},
   "outputs": [
    {
     "name": "stdout",
     "output_type": "stream",
     "text": [
      "<class 'pandas.core.frame.DataFrame'>\n",
      "RangeIndex: 7043 entries, 0 to 7042\n",
      "Data columns (total 5 columns):\n",
      " #   Column         Non-Null Count  Dtype \n",
      "---  ------         --------------  ----- \n",
      " 0   customerID     7043 non-null   object\n",
      " 1   gender         7043 non-null   object\n",
      " 2   SeniorCitizen  7043 non-null   int64 \n",
      " 3   Partner        7043 non-null   object\n",
      " 4   Dependents     7043 non-null   object\n",
      "dtypes: int64(1), object(4)\n",
      "memory usage: 275.2+ KB\n",
      "None\n",
      "\n"
     ]
    },
    {
     "data": {
      "text/html": [
       "<div>\n",
       "<style scoped>\n",
       "    .dataframe tbody tr th:only-of-type {\n",
       "        vertical-align: middle;\n",
       "    }\n",
       "\n",
       "    .dataframe tbody tr th {\n",
       "        vertical-align: top;\n",
       "    }\n",
       "\n",
       "    .dataframe thead th {\n",
       "        text-align: right;\n",
       "    }\n",
       "</style>\n",
       "<table border=\"1\" class=\"dataframe\">\n",
       "  <thead>\n",
       "    <tr style=\"text-align: right;\">\n",
       "      <th></th>\n",
       "      <th>customerID</th>\n",
       "      <th>gender</th>\n",
       "      <th>SeniorCitizen</th>\n",
       "      <th>Partner</th>\n",
       "      <th>Dependents</th>\n",
       "    </tr>\n",
       "  </thead>\n",
       "  <tbody>\n",
       "    <tr>\n",
       "      <th>0</th>\n",
       "      <td>7590-VHVEG</td>\n",
       "      <td>Female</td>\n",
       "      <td>0</td>\n",
       "      <td>Yes</td>\n",
       "      <td>No</td>\n",
       "    </tr>\n",
       "    <tr>\n",
       "      <th>1</th>\n",
       "      <td>5575-GNVDE</td>\n",
       "      <td>Male</td>\n",
       "      <td>0</td>\n",
       "      <td>No</td>\n",
       "      <td>No</td>\n",
       "    </tr>\n",
       "    <tr>\n",
       "      <th>2</th>\n",
       "      <td>3668-QPYBK</td>\n",
       "      <td>Male</td>\n",
       "      <td>0</td>\n",
       "      <td>No</td>\n",
       "      <td>No</td>\n",
       "    </tr>\n",
       "    <tr>\n",
       "      <th>3</th>\n",
       "      <td>7795-CFOCW</td>\n",
       "      <td>Male</td>\n",
       "      <td>0</td>\n",
       "      <td>No</td>\n",
       "      <td>No</td>\n",
       "    </tr>\n",
       "    <tr>\n",
       "      <th>4</th>\n",
       "      <td>9237-HQITU</td>\n",
       "      <td>Female</td>\n",
       "      <td>0</td>\n",
       "      <td>No</td>\n",
       "      <td>No</td>\n",
       "    </tr>\n",
       "    <tr>\n",
       "      <th>5</th>\n",
       "      <td>9305-CDSKC</td>\n",
       "      <td>Female</td>\n",
       "      <td>0</td>\n",
       "      <td>No</td>\n",
       "      <td>No</td>\n",
       "    </tr>\n",
       "    <tr>\n",
       "      <th>6</th>\n",
       "      <td>1452-KIOVK</td>\n",
       "      <td>Male</td>\n",
       "      <td>0</td>\n",
       "      <td>No</td>\n",
       "      <td>Yes</td>\n",
       "    </tr>\n",
       "    <tr>\n",
       "      <th>7</th>\n",
       "      <td>6713-OKOMC</td>\n",
       "      <td>Female</td>\n",
       "      <td>0</td>\n",
       "      <td>No</td>\n",
       "      <td>No</td>\n",
       "    </tr>\n",
       "    <tr>\n",
       "      <th>8</th>\n",
       "      <td>7892-POOKP</td>\n",
       "      <td>Female</td>\n",
       "      <td>0</td>\n",
       "      <td>Yes</td>\n",
       "      <td>No</td>\n",
       "    </tr>\n",
       "    <tr>\n",
       "      <th>9</th>\n",
       "      <td>6388-TABGU</td>\n",
       "      <td>Male</td>\n",
       "      <td>0</td>\n",
       "      <td>No</td>\n",
       "      <td>Yes</td>\n",
       "    </tr>\n",
       "  </tbody>\n",
       "</table>\n",
       "</div>"
      ],
      "text/plain": [
       "   customerID  gender  SeniorCitizen Partner Dependents\n",
       "0  7590-VHVEG  Female              0     Yes         No\n",
       "1  5575-GNVDE    Male              0      No         No\n",
       "2  3668-QPYBK    Male              0      No         No\n",
       "3  7795-CFOCW    Male              0      No         No\n",
       "4  9237-HQITU  Female              0      No         No\n",
       "5  9305-CDSKC  Female              0      No         No\n",
       "6  1452-KIOVK    Male              0      No        Yes\n",
       "7  6713-OKOMC  Female              0      No         No\n",
       "8  7892-POOKP  Female              0     Yes         No\n",
       "9  6388-TABGU    Male              0      No        Yes"
      ]
     },
     "metadata": {},
     "output_type": "display_data"
    },
    {
     "name": "stdout",
     "output_type": "stream",
     "text": [
      "\n"
     ]
    },
    {
     "data": {
      "text/html": [
       "<div>\n",
       "<style scoped>\n",
       "    .dataframe tbody tr th:only-of-type {\n",
       "        vertical-align: middle;\n",
       "    }\n",
       "\n",
       "    .dataframe tbody tr th {\n",
       "        vertical-align: top;\n",
       "    }\n",
       "\n",
       "    .dataframe thead th {\n",
       "        text-align: right;\n",
       "    }\n",
       "</style>\n",
       "<table border=\"1\" class=\"dataframe\">\n",
       "  <thead>\n",
       "    <tr style=\"text-align: right;\">\n",
       "      <th></th>\n",
       "      <th>SeniorCitizen</th>\n",
       "    </tr>\n",
       "  </thead>\n",
       "  <tbody>\n",
       "    <tr>\n",
       "      <th>count</th>\n",
       "      <td>7043.000000</td>\n",
       "    </tr>\n",
       "    <tr>\n",
       "      <th>mean</th>\n",
       "      <td>0.162147</td>\n",
       "    </tr>\n",
       "    <tr>\n",
       "      <th>std</th>\n",
       "      <td>0.368612</td>\n",
       "    </tr>\n",
       "    <tr>\n",
       "      <th>min</th>\n",
       "      <td>0.000000</td>\n",
       "    </tr>\n",
       "    <tr>\n",
       "      <th>25%</th>\n",
       "      <td>0.000000</td>\n",
       "    </tr>\n",
       "    <tr>\n",
       "      <th>50%</th>\n",
       "      <td>0.000000</td>\n",
       "    </tr>\n",
       "    <tr>\n",
       "      <th>75%</th>\n",
       "      <td>0.000000</td>\n",
       "    </tr>\n",
       "    <tr>\n",
       "      <th>max</th>\n",
       "      <td>1.000000</td>\n",
       "    </tr>\n",
       "  </tbody>\n",
       "</table>\n",
       "</div>"
      ],
      "text/plain": [
       "       SeniorCitizen\n",
       "count    7043.000000\n",
       "mean        0.162147\n",
       "std         0.368612\n",
       "min         0.000000\n",
       "25%         0.000000\n",
       "50%         0.000000\n",
       "75%         0.000000\n",
       "max         1.000000"
      ]
     },
     "metadata": {},
     "output_type": "display_data"
    },
    {
     "name": "stdout",
     "output_type": "stream",
     "text": [
      "\n",
      "0\n"
     ]
    }
   ],
   "source": [
    "study_of_initial_data(personal)"
   ]
  },
  {
   "cell_type": "code",
   "execution_count": 135,
   "metadata": {},
   "outputs": [
    {
     "name": "stdout",
     "output_type": "stream",
     "text": [
      "<class 'pandas.core.frame.DataFrame'>\n",
      "RangeIndex: 5517 entries, 0 to 5516\n",
      "Data columns (total 8 columns):\n",
      " #   Column            Non-Null Count  Dtype \n",
      "---  ------            --------------  ----- \n",
      " 0   customerID        5517 non-null   object\n",
      " 1   InternetService   5517 non-null   object\n",
      " 2   OnlineSecurity    5517 non-null   object\n",
      " 3   OnlineBackup      5517 non-null   object\n",
      " 4   DeviceProtection  5517 non-null   object\n",
      " 5   TechSupport       5517 non-null   object\n",
      " 6   StreamingTV       5517 non-null   object\n",
      " 7   StreamingMovies   5517 non-null   object\n",
      "dtypes: object(8)\n",
      "memory usage: 344.9+ KB\n",
      "None\n",
      "\n"
     ]
    },
    {
     "data": {
      "text/html": [
       "<div>\n",
       "<style scoped>\n",
       "    .dataframe tbody tr th:only-of-type {\n",
       "        vertical-align: middle;\n",
       "    }\n",
       "\n",
       "    .dataframe tbody tr th {\n",
       "        vertical-align: top;\n",
       "    }\n",
       "\n",
       "    .dataframe thead th {\n",
       "        text-align: right;\n",
       "    }\n",
       "</style>\n",
       "<table border=\"1\" class=\"dataframe\">\n",
       "  <thead>\n",
       "    <tr style=\"text-align: right;\">\n",
       "      <th></th>\n",
       "      <th>customerID</th>\n",
       "      <th>InternetService</th>\n",
       "      <th>OnlineSecurity</th>\n",
       "      <th>OnlineBackup</th>\n",
       "      <th>DeviceProtection</th>\n",
       "      <th>TechSupport</th>\n",
       "      <th>StreamingTV</th>\n",
       "      <th>StreamingMovies</th>\n",
       "    </tr>\n",
       "  </thead>\n",
       "  <tbody>\n",
       "    <tr>\n",
       "      <th>0</th>\n",
       "      <td>7590-VHVEG</td>\n",
       "      <td>DSL</td>\n",
       "      <td>No</td>\n",
       "      <td>Yes</td>\n",
       "      <td>No</td>\n",
       "      <td>No</td>\n",
       "      <td>No</td>\n",
       "      <td>No</td>\n",
       "    </tr>\n",
       "    <tr>\n",
       "      <th>1</th>\n",
       "      <td>5575-GNVDE</td>\n",
       "      <td>DSL</td>\n",
       "      <td>Yes</td>\n",
       "      <td>No</td>\n",
       "      <td>Yes</td>\n",
       "      <td>No</td>\n",
       "      <td>No</td>\n",
       "      <td>No</td>\n",
       "    </tr>\n",
       "    <tr>\n",
       "      <th>2</th>\n",
       "      <td>3668-QPYBK</td>\n",
       "      <td>DSL</td>\n",
       "      <td>Yes</td>\n",
       "      <td>Yes</td>\n",
       "      <td>No</td>\n",
       "      <td>No</td>\n",
       "      <td>No</td>\n",
       "      <td>No</td>\n",
       "    </tr>\n",
       "    <tr>\n",
       "      <th>3</th>\n",
       "      <td>7795-CFOCW</td>\n",
       "      <td>DSL</td>\n",
       "      <td>Yes</td>\n",
       "      <td>No</td>\n",
       "      <td>Yes</td>\n",
       "      <td>Yes</td>\n",
       "      <td>No</td>\n",
       "      <td>No</td>\n",
       "    </tr>\n",
       "    <tr>\n",
       "      <th>4</th>\n",
       "      <td>9237-HQITU</td>\n",
       "      <td>Fiber optic</td>\n",
       "      <td>No</td>\n",
       "      <td>No</td>\n",
       "      <td>No</td>\n",
       "      <td>No</td>\n",
       "      <td>No</td>\n",
       "      <td>No</td>\n",
       "    </tr>\n",
       "    <tr>\n",
       "      <th>5</th>\n",
       "      <td>9305-CDSKC</td>\n",
       "      <td>Fiber optic</td>\n",
       "      <td>No</td>\n",
       "      <td>No</td>\n",
       "      <td>Yes</td>\n",
       "      <td>No</td>\n",
       "      <td>Yes</td>\n",
       "      <td>Yes</td>\n",
       "    </tr>\n",
       "    <tr>\n",
       "      <th>6</th>\n",
       "      <td>1452-KIOVK</td>\n",
       "      <td>Fiber optic</td>\n",
       "      <td>No</td>\n",
       "      <td>Yes</td>\n",
       "      <td>No</td>\n",
       "      <td>No</td>\n",
       "      <td>Yes</td>\n",
       "      <td>No</td>\n",
       "    </tr>\n",
       "    <tr>\n",
       "      <th>7</th>\n",
       "      <td>6713-OKOMC</td>\n",
       "      <td>DSL</td>\n",
       "      <td>Yes</td>\n",
       "      <td>No</td>\n",
       "      <td>No</td>\n",
       "      <td>No</td>\n",
       "      <td>No</td>\n",
       "      <td>No</td>\n",
       "    </tr>\n",
       "    <tr>\n",
       "      <th>8</th>\n",
       "      <td>7892-POOKP</td>\n",
       "      <td>Fiber optic</td>\n",
       "      <td>No</td>\n",
       "      <td>No</td>\n",
       "      <td>Yes</td>\n",
       "      <td>Yes</td>\n",
       "      <td>Yes</td>\n",
       "      <td>Yes</td>\n",
       "    </tr>\n",
       "    <tr>\n",
       "      <th>9</th>\n",
       "      <td>6388-TABGU</td>\n",
       "      <td>DSL</td>\n",
       "      <td>Yes</td>\n",
       "      <td>Yes</td>\n",
       "      <td>No</td>\n",
       "      <td>No</td>\n",
       "      <td>No</td>\n",
       "      <td>No</td>\n",
       "    </tr>\n",
       "  </tbody>\n",
       "</table>\n",
       "</div>"
      ],
      "text/plain": [
       "   customerID InternetService OnlineSecurity OnlineBackup DeviceProtection  \\\n",
       "0  7590-VHVEG             DSL             No          Yes               No   \n",
       "1  5575-GNVDE             DSL            Yes           No              Yes   \n",
       "2  3668-QPYBK             DSL            Yes          Yes               No   \n",
       "3  7795-CFOCW             DSL            Yes           No              Yes   \n",
       "4  9237-HQITU     Fiber optic             No           No               No   \n",
       "5  9305-CDSKC     Fiber optic             No           No              Yes   \n",
       "6  1452-KIOVK     Fiber optic             No          Yes               No   \n",
       "7  6713-OKOMC             DSL            Yes           No               No   \n",
       "8  7892-POOKP     Fiber optic             No           No              Yes   \n",
       "9  6388-TABGU             DSL            Yes          Yes               No   \n",
       "\n",
       "  TechSupport StreamingTV StreamingMovies  \n",
       "0          No          No              No  \n",
       "1          No          No              No  \n",
       "2          No          No              No  \n",
       "3         Yes          No              No  \n",
       "4          No          No              No  \n",
       "5          No         Yes             Yes  \n",
       "6          No         Yes              No  \n",
       "7          No          No              No  \n",
       "8         Yes         Yes             Yes  \n",
       "9          No          No              No  "
      ]
     },
     "metadata": {},
     "output_type": "display_data"
    },
    {
     "name": "stdout",
     "output_type": "stream",
     "text": [
      "\n"
     ]
    },
    {
     "data": {
      "text/html": [
       "<div>\n",
       "<style scoped>\n",
       "    .dataframe tbody tr th:only-of-type {\n",
       "        vertical-align: middle;\n",
       "    }\n",
       "\n",
       "    .dataframe tbody tr th {\n",
       "        vertical-align: top;\n",
       "    }\n",
       "\n",
       "    .dataframe thead th {\n",
       "        text-align: right;\n",
       "    }\n",
       "</style>\n",
       "<table border=\"1\" class=\"dataframe\">\n",
       "  <thead>\n",
       "    <tr style=\"text-align: right;\">\n",
       "      <th></th>\n",
       "      <th>customerID</th>\n",
       "      <th>InternetService</th>\n",
       "      <th>OnlineSecurity</th>\n",
       "      <th>OnlineBackup</th>\n",
       "      <th>DeviceProtection</th>\n",
       "      <th>TechSupport</th>\n",
       "      <th>StreamingTV</th>\n",
       "      <th>StreamingMovies</th>\n",
       "    </tr>\n",
       "  </thead>\n",
       "  <tbody>\n",
       "    <tr>\n",
       "      <th>count</th>\n",
       "      <td>5517</td>\n",
       "      <td>5517</td>\n",
       "      <td>5517</td>\n",
       "      <td>5517</td>\n",
       "      <td>5517</td>\n",
       "      <td>5517</td>\n",
       "      <td>5517</td>\n",
       "      <td>5517</td>\n",
       "    </tr>\n",
       "    <tr>\n",
       "      <th>unique</th>\n",
       "      <td>5517</td>\n",
       "      <td>2</td>\n",
       "      <td>2</td>\n",
       "      <td>2</td>\n",
       "      <td>2</td>\n",
       "      <td>2</td>\n",
       "      <td>2</td>\n",
       "      <td>2</td>\n",
       "    </tr>\n",
       "    <tr>\n",
       "      <th>top</th>\n",
       "      <td>2284-VFLKH</td>\n",
       "      <td>Fiber optic</td>\n",
       "      <td>No</td>\n",
       "      <td>No</td>\n",
       "      <td>No</td>\n",
       "      <td>No</td>\n",
       "      <td>No</td>\n",
       "      <td>No</td>\n",
       "    </tr>\n",
       "    <tr>\n",
       "      <th>freq</th>\n",
       "      <td>1</td>\n",
       "      <td>3096</td>\n",
       "      <td>3498</td>\n",
       "      <td>3088</td>\n",
       "      <td>3095</td>\n",
       "      <td>3473</td>\n",
       "      <td>2810</td>\n",
       "      <td>2785</td>\n",
       "    </tr>\n",
       "  </tbody>\n",
       "</table>\n",
       "</div>"
      ],
      "text/plain": [
       "        customerID InternetService OnlineSecurity OnlineBackup  \\\n",
       "count         5517            5517           5517         5517   \n",
       "unique        5517               2              2            2   \n",
       "top     2284-VFLKH     Fiber optic             No           No   \n",
       "freq             1            3096           3498         3088   \n",
       "\n",
       "       DeviceProtection TechSupport StreamingTV StreamingMovies  \n",
       "count              5517        5517        5517            5517  \n",
       "unique                2           2           2               2  \n",
       "top                  No          No          No              No  \n",
       "freq               3095        3473        2810            2785  "
      ]
     },
     "metadata": {},
     "output_type": "display_data"
    },
    {
     "name": "stdout",
     "output_type": "stream",
     "text": [
      "\n",
      "0\n"
     ]
    }
   ],
   "source": [
    "study_of_initial_data(internet)"
   ]
  },
  {
   "cell_type": "code",
   "execution_count": 136,
   "metadata": {},
   "outputs": [
    {
     "name": "stdout",
     "output_type": "stream",
     "text": [
      "<class 'pandas.core.frame.DataFrame'>\n",
      "RangeIndex: 6361 entries, 0 to 6360\n",
      "Data columns (total 2 columns):\n",
      " #   Column         Non-Null Count  Dtype \n",
      "---  ------         --------------  ----- \n",
      " 0   customerID     6361 non-null   object\n",
      " 1   MultipleLines  6361 non-null   object\n",
      "dtypes: object(2)\n",
      "memory usage: 99.5+ KB\n",
      "None\n",
      "\n"
     ]
    },
    {
     "data": {
      "text/html": [
       "<div>\n",
       "<style scoped>\n",
       "    .dataframe tbody tr th:only-of-type {\n",
       "        vertical-align: middle;\n",
       "    }\n",
       "\n",
       "    .dataframe tbody tr th {\n",
       "        vertical-align: top;\n",
       "    }\n",
       "\n",
       "    .dataframe thead th {\n",
       "        text-align: right;\n",
       "    }\n",
       "</style>\n",
       "<table border=\"1\" class=\"dataframe\">\n",
       "  <thead>\n",
       "    <tr style=\"text-align: right;\">\n",
       "      <th></th>\n",
       "      <th>customerID</th>\n",
       "      <th>MultipleLines</th>\n",
       "    </tr>\n",
       "  </thead>\n",
       "  <tbody>\n",
       "    <tr>\n",
       "      <th>0</th>\n",
       "      <td>5575-GNVDE</td>\n",
       "      <td>No</td>\n",
       "    </tr>\n",
       "    <tr>\n",
       "      <th>1</th>\n",
       "      <td>3668-QPYBK</td>\n",
       "      <td>No</td>\n",
       "    </tr>\n",
       "    <tr>\n",
       "      <th>2</th>\n",
       "      <td>9237-HQITU</td>\n",
       "      <td>No</td>\n",
       "    </tr>\n",
       "    <tr>\n",
       "      <th>3</th>\n",
       "      <td>9305-CDSKC</td>\n",
       "      <td>Yes</td>\n",
       "    </tr>\n",
       "    <tr>\n",
       "      <th>4</th>\n",
       "      <td>1452-KIOVK</td>\n",
       "      <td>Yes</td>\n",
       "    </tr>\n",
       "    <tr>\n",
       "      <th>5</th>\n",
       "      <td>7892-POOKP</td>\n",
       "      <td>Yes</td>\n",
       "    </tr>\n",
       "    <tr>\n",
       "      <th>6</th>\n",
       "      <td>6388-TABGU</td>\n",
       "      <td>No</td>\n",
       "    </tr>\n",
       "    <tr>\n",
       "      <th>7</th>\n",
       "      <td>9763-GRSKD</td>\n",
       "      <td>No</td>\n",
       "    </tr>\n",
       "    <tr>\n",
       "      <th>8</th>\n",
       "      <td>7469-LKBCI</td>\n",
       "      <td>No</td>\n",
       "    </tr>\n",
       "    <tr>\n",
       "      <th>9</th>\n",
       "      <td>8091-TTVAX</td>\n",
       "      <td>Yes</td>\n",
       "    </tr>\n",
       "  </tbody>\n",
       "</table>\n",
       "</div>"
      ],
      "text/plain": [
       "   customerID MultipleLines\n",
       "0  5575-GNVDE            No\n",
       "1  3668-QPYBK            No\n",
       "2  9237-HQITU            No\n",
       "3  9305-CDSKC           Yes\n",
       "4  1452-KIOVK           Yes\n",
       "5  7892-POOKP           Yes\n",
       "6  6388-TABGU            No\n",
       "7  9763-GRSKD            No\n",
       "8  7469-LKBCI            No\n",
       "9  8091-TTVAX           Yes"
      ]
     },
     "metadata": {},
     "output_type": "display_data"
    },
    {
     "name": "stdout",
     "output_type": "stream",
     "text": [
      "\n"
     ]
    },
    {
     "data": {
      "text/html": [
       "<div>\n",
       "<style scoped>\n",
       "    .dataframe tbody tr th:only-of-type {\n",
       "        vertical-align: middle;\n",
       "    }\n",
       "\n",
       "    .dataframe tbody tr th {\n",
       "        vertical-align: top;\n",
       "    }\n",
       "\n",
       "    .dataframe thead th {\n",
       "        text-align: right;\n",
       "    }\n",
       "</style>\n",
       "<table border=\"1\" class=\"dataframe\">\n",
       "  <thead>\n",
       "    <tr style=\"text-align: right;\">\n",
       "      <th></th>\n",
       "      <th>customerID</th>\n",
       "      <th>MultipleLines</th>\n",
       "    </tr>\n",
       "  </thead>\n",
       "  <tbody>\n",
       "    <tr>\n",
       "      <th>count</th>\n",
       "      <td>6361</td>\n",
       "      <td>6361</td>\n",
       "    </tr>\n",
       "    <tr>\n",
       "      <th>unique</th>\n",
       "      <td>6361</td>\n",
       "      <td>2</td>\n",
       "    </tr>\n",
       "    <tr>\n",
       "      <th>top</th>\n",
       "      <td>2284-VFLKH</td>\n",
       "      <td>No</td>\n",
       "    </tr>\n",
       "    <tr>\n",
       "      <th>freq</th>\n",
       "      <td>1</td>\n",
       "      <td>3390</td>\n",
       "    </tr>\n",
       "  </tbody>\n",
       "</table>\n",
       "</div>"
      ],
      "text/plain": [
       "        customerID MultipleLines\n",
       "count         6361          6361\n",
       "unique        6361             2\n",
       "top     2284-VFLKH            No\n",
       "freq             1          3390"
      ]
     },
     "metadata": {},
     "output_type": "display_data"
    },
    {
     "name": "stdout",
     "output_type": "stream",
     "text": [
      "\n",
      "0\n"
     ]
    }
   ],
   "source": [
    "study_of_initial_data(phone)"
   ]
  },
  {
   "cell_type": "markdown",
   "metadata": {},
   "source": [
    "### Выводы:"
   ]
  },
  {
   "cell_type": "markdown",
   "metadata": {},
   "source": [
    "Мы изучили информацию о четырех исходных датафреймах. Явных дубликатов и пропусков выявлено не было. Однако стоит учитывать, что таблицы имеют разные размеры - это будет иметь большое значение при их объединении. Кроме того, обратим внимание на то, что данные во многих столбцах представлены в виде текста \"Yes\"/\"No\". Для удобства использования этих данных в дальнейшем исследовании стоит перевести их в иной формат. \n",
    "\n",
    "На следующем этапе произведет предобработку данных и исследовательский анализ."
   ]
  },
  {
   "cell_type": "markdown",
   "metadata": {},
   "source": [
    "## Предобработка и исследовательский анализ данных"
   ]
  },
  {
   "cell_type": "markdown",
   "metadata": {},
   "source": [
    "### Предобработка данных"
   ]
  },
  {
   "cell_type": "markdown",
   "metadata": {},
   "source": [
    "Для начала объединим все имеющиеся таблицы в одну по общему для них столбцу с ID клиентов. Так как нам важно не потерять данные, к большим таблицам присоединим маленькие, а хатем обработаем возникшие в результате пропуски."
   ]
  },
  {
   "cell_type": "code",
   "execution_count": 137,
   "metadata": {},
   "outputs": [
    {
     "data": {
      "text/html": [
       "<div>\n",
       "<style scoped>\n",
       "    .dataframe tbody tr th:only-of-type {\n",
       "        vertical-align: middle;\n",
       "    }\n",
       "\n",
       "    .dataframe tbody tr th {\n",
       "        vertical-align: top;\n",
       "    }\n",
       "\n",
       "    .dataframe thead th {\n",
       "        text-align: right;\n",
       "    }\n",
       "</style>\n",
       "<table border=\"1\" class=\"dataframe\">\n",
       "  <thead>\n",
       "    <tr style=\"text-align: right;\">\n",
       "      <th></th>\n",
       "      <th>customerID</th>\n",
       "      <th>BeginDate</th>\n",
       "      <th>EndDate</th>\n",
       "      <th>Type</th>\n",
       "      <th>PaperlessBilling</th>\n",
       "      <th>PaymentMethod</th>\n",
       "      <th>MonthlyCharges</th>\n",
       "      <th>TotalCharges</th>\n",
       "      <th>gender</th>\n",
       "      <th>SeniorCitizen</th>\n",
       "      <th>Partner</th>\n",
       "      <th>Dependents</th>\n",
       "      <th>InternetService</th>\n",
       "      <th>OnlineSecurity</th>\n",
       "      <th>OnlineBackup</th>\n",
       "      <th>DeviceProtection</th>\n",
       "      <th>TechSupport</th>\n",
       "      <th>StreamingTV</th>\n",
       "      <th>StreamingMovies</th>\n",
       "      <th>MultipleLines</th>\n",
       "    </tr>\n",
       "  </thead>\n",
       "  <tbody>\n",
       "    <tr>\n",
       "      <th>0</th>\n",
       "      <td>7590-VHVEG</td>\n",
       "      <td>2020-01-01</td>\n",
       "      <td>No</td>\n",
       "      <td>Month-to-month</td>\n",
       "      <td>Yes</td>\n",
       "      <td>Electronic check</td>\n",
       "      <td>29.85</td>\n",
       "      <td>29.85</td>\n",
       "      <td>Female</td>\n",
       "      <td>0</td>\n",
       "      <td>Yes</td>\n",
       "      <td>No</td>\n",
       "      <td>DSL</td>\n",
       "      <td>No</td>\n",
       "      <td>Yes</td>\n",
       "      <td>No</td>\n",
       "      <td>No</td>\n",
       "      <td>No</td>\n",
       "      <td>No</td>\n",
       "      <td>NaN</td>\n",
       "    </tr>\n",
       "    <tr>\n",
       "      <th>1</th>\n",
       "      <td>5575-GNVDE</td>\n",
       "      <td>2017-04-01</td>\n",
       "      <td>No</td>\n",
       "      <td>One year</td>\n",
       "      <td>No</td>\n",
       "      <td>Mailed check</td>\n",
       "      <td>56.95</td>\n",
       "      <td>1889.5</td>\n",
       "      <td>Male</td>\n",
       "      <td>0</td>\n",
       "      <td>No</td>\n",
       "      <td>No</td>\n",
       "      <td>DSL</td>\n",
       "      <td>Yes</td>\n",
       "      <td>No</td>\n",
       "      <td>Yes</td>\n",
       "      <td>No</td>\n",
       "      <td>No</td>\n",
       "      <td>No</td>\n",
       "      <td>No</td>\n",
       "    </tr>\n",
       "    <tr>\n",
       "      <th>2</th>\n",
       "      <td>3668-QPYBK</td>\n",
       "      <td>2019-10-01</td>\n",
       "      <td>2019-12-01 00:00:00</td>\n",
       "      <td>Month-to-month</td>\n",
       "      <td>Yes</td>\n",
       "      <td>Mailed check</td>\n",
       "      <td>53.85</td>\n",
       "      <td>108.15</td>\n",
       "      <td>Male</td>\n",
       "      <td>0</td>\n",
       "      <td>No</td>\n",
       "      <td>No</td>\n",
       "      <td>DSL</td>\n",
       "      <td>Yes</td>\n",
       "      <td>Yes</td>\n",
       "      <td>No</td>\n",
       "      <td>No</td>\n",
       "      <td>No</td>\n",
       "      <td>No</td>\n",
       "      <td>No</td>\n",
       "    </tr>\n",
       "    <tr>\n",
       "      <th>3</th>\n",
       "      <td>7795-CFOCW</td>\n",
       "      <td>2016-05-01</td>\n",
       "      <td>No</td>\n",
       "      <td>One year</td>\n",
       "      <td>No</td>\n",
       "      <td>Bank transfer (automatic)</td>\n",
       "      <td>42.30</td>\n",
       "      <td>1840.75</td>\n",
       "      <td>Male</td>\n",
       "      <td>0</td>\n",
       "      <td>No</td>\n",
       "      <td>No</td>\n",
       "      <td>DSL</td>\n",
       "      <td>Yes</td>\n",
       "      <td>No</td>\n",
       "      <td>Yes</td>\n",
       "      <td>Yes</td>\n",
       "      <td>No</td>\n",
       "      <td>No</td>\n",
       "      <td>NaN</td>\n",
       "    </tr>\n",
       "    <tr>\n",
       "      <th>4</th>\n",
       "      <td>9237-HQITU</td>\n",
       "      <td>2019-09-01</td>\n",
       "      <td>2019-11-01 00:00:00</td>\n",
       "      <td>Month-to-month</td>\n",
       "      <td>Yes</td>\n",
       "      <td>Electronic check</td>\n",
       "      <td>70.70</td>\n",
       "      <td>151.65</td>\n",
       "      <td>Female</td>\n",
       "      <td>0</td>\n",
       "      <td>No</td>\n",
       "      <td>No</td>\n",
       "      <td>Fiber optic</td>\n",
       "      <td>No</td>\n",
       "      <td>No</td>\n",
       "      <td>No</td>\n",
       "      <td>No</td>\n",
       "      <td>No</td>\n",
       "      <td>No</td>\n",
       "      <td>No</td>\n",
       "    </tr>\n",
       "  </tbody>\n",
       "</table>\n",
       "</div>"
      ],
      "text/plain": [
       "   customerID   BeginDate              EndDate            Type  \\\n",
       "0  7590-VHVEG  2020-01-01                   No  Month-to-month   \n",
       "1  5575-GNVDE  2017-04-01                   No        One year   \n",
       "2  3668-QPYBK  2019-10-01  2019-12-01 00:00:00  Month-to-month   \n",
       "3  7795-CFOCW  2016-05-01                   No        One year   \n",
       "4  9237-HQITU  2019-09-01  2019-11-01 00:00:00  Month-to-month   \n",
       "\n",
       "  PaperlessBilling              PaymentMethod  MonthlyCharges TotalCharges  \\\n",
       "0              Yes           Electronic check           29.85        29.85   \n",
       "1               No               Mailed check           56.95       1889.5   \n",
       "2              Yes               Mailed check           53.85       108.15   \n",
       "3               No  Bank transfer (automatic)           42.30      1840.75   \n",
       "4              Yes           Electronic check           70.70       151.65   \n",
       "\n",
       "   gender  SeniorCitizen Partner Dependents InternetService OnlineSecurity  \\\n",
       "0  Female              0     Yes         No             DSL             No   \n",
       "1    Male              0      No         No             DSL            Yes   \n",
       "2    Male              0      No         No             DSL            Yes   \n",
       "3    Male              0      No         No             DSL            Yes   \n",
       "4  Female              0      No         No     Fiber optic             No   \n",
       "\n",
       "  OnlineBackup DeviceProtection TechSupport StreamingTV StreamingMovies  \\\n",
       "0          Yes               No          No          No              No   \n",
       "1           No              Yes          No          No              No   \n",
       "2          Yes               No          No          No              No   \n",
       "3           No              Yes         Yes          No              No   \n",
       "4           No               No          No          No              No   \n",
       "\n",
       "  MultipleLines  \n",
       "0           NaN  \n",
       "1            No  \n",
       "2            No  \n",
       "3           NaN  \n",
       "4            No  "
      ]
     },
     "metadata": {},
     "output_type": "display_data"
    }
   ],
   "source": [
    "#объедняем таблицы\n",
    "initial_data = contract.merge(personal, on=['customerID'], how='left').merge(internet, on=['customerID'], how='left').merge(\n",
    "                              phone, on=['customerID'], how='left')\n",
    "display(initial_data.head()) #проверяем результат объединения"
   ]
  },
  {
   "cell_type": "markdown",
   "metadata": {},
   "source": [
    "Теперь мы можем работать с единой таблицей. \n",
    "\n",
    "Для улучшения качества данных и удобства работы с ними переименуем некоторые столбцы, дав им более читабельные и информативные названия. Кроме того данные из столбца PaperlessBilling вряд ли понадобятся нам в дальнейшем."
   ]
  },
  {
   "cell_type": "code",
   "execution_count": 138,
   "metadata": {},
   "outputs": [],
   "source": [
    "initial_data = initial_data.drop(['PaperlessBilling'], axis = 1) #избавляемся от избыточных данных\n",
    "initial_data = initial_data.rename(columns={'customerID':'customer_id', 'BeginDate':'date_begin', 'EndDate':'end_date', \n",
    "                                    'Type':'type_of_contract', \n",
    "                                   'PaymentMethod':'payment_method', 'MonthlyCharges':'monthly_charges',\n",
    "                                    'TotalCharges':'total_charges', 'SeniorCitizen': 'is_senior', 'Partner':'have_partner', \n",
    "                                    'Dependents':'have_dependents', 'InternetService':'internet_service', \n",
    "                                    'OnlineSecurity':'have_online_security',\n",
    "                                    'OnlineBackup':'have_online_backup', 'DeviceProtection':'have_device_protection', \n",
    "                                    'TechSupport':'have_tech_support', \n",
    "                                    'StreamingTV':'have_streaming_tv', 'StreamingMovies':'have_streaming_movies',\n",
    "                                    'MultipleLines':'have_multiplelines',}) #переименовываем столбцы"
   ]
  },
  {
   "cell_type": "code",
   "execution_count": 139,
   "metadata": {},
   "outputs": [
    {
     "data": {
      "text/plain": [
       "customer_id                  0\n",
       "date_begin                   0\n",
       "end_date                     0\n",
       "type_of_contract             0\n",
       "payment_method               0\n",
       "monthly_charges              0\n",
       "total_charges                0\n",
       "gender                       0\n",
       "is_senior                    0\n",
       "have_partner                 0\n",
       "have_dependents              0\n",
       "internet_service          1526\n",
       "have_online_security      1526\n",
       "have_online_backup        1526\n",
       "have_device_protection    1526\n",
       "have_tech_support         1526\n",
       "have_streaming_tv         1526\n",
       "have_streaming_movies     1526\n",
       "have_multiplelines         682\n",
       "dtype: int64"
      ]
     },
     "execution_count": 139,
     "metadata": {},
     "output_type": "execute_result"
    }
   ],
   "source": [
    "initial_data.isna().sum() #посчитаем пропуски, появившиеся в данных после объединения таблиц"
   ]
  },
  {
   "cell_type": "markdown",
   "metadata": {},
   "source": [
    "Как и ожидалось, объединенная таблица преобрела большое количество пропусков. Исходя из условий и контекста задачи, можно сделать вывод, что данные пропуски свидетельствуют о том, что указанные услуги не подключены у соответствующего клиента. Следовательно, можно заменить их на значение, указывающее на это. Сейчас таким значением в большинстве случаев будет \"No\", однако, как уже было указано выше, стоит заменить формат отображения данных на 0/1. \n",
    "\n",
    "Это мы и сделаем, заодно избавившись от пропусков. Однако перед этим нужно проверить, не осталось ли в нашей таблице иных данных, которые в дальнейшем могут исказить результаты исследования, и изменить формат данных в столбце total_charges."
   ]
  },
  {
   "cell_type": "code",
   "execution_count": 140,
   "metadata": {},
   "outputs": [
    {
     "data": {
      "text/html": [
       "<div>\n",
       "<style scoped>\n",
       "    .dataframe tbody tr th:only-of-type {\n",
       "        vertical-align: middle;\n",
       "    }\n",
       "\n",
       "    .dataframe tbody tr th {\n",
       "        vertical-align: top;\n",
       "    }\n",
       "\n",
       "    .dataframe thead th {\n",
       "        text-align: right;\n",
       "    }\n",
       "</style>\n",
       "<table border=\"1\" class=\"dataframe\">\n",
       "  <thead>\n",
       "    <tr style=\"text-align: right;\">\n",
       "      <th></th>\n",
       "      <th>customer_id</th>\n",
       "      <th>date_begin</th>\n",
       "      <th>end_date</th>\n",
       "      <th>type_of_contract</th>\n",
       "      <th>payment_method</th>\n",
       "      <th>monthly_charges</th>\n",
       "      <th>total_charges</th>\n",
       "      <th>gender</th>\n",
       "      <th>is_senior</th>\n",
       "      <th>have_partner</th>\n",
       "      <th>have_dependents</th>\n",
       "      <th>internet_service</th>\n",
       "      <th>have_online_security</th>\n",
       "      <th>have_online_backup</th>\n",
       "      <th>have_device_protection</th>\n",
       "      <th>have_tech_support</th>\n",
       "      <th>have_streaming_tv</th>\n",
       "      <th>have_streaming_movies</th>\n",
       "      <th>have_multiplelines</th>\n",
       "    </tr>\n",
       "  </thead>\n",
       "  <tbody>\n",
       "    <tr>\n",
       "      <th>488</th>\n",
       "      <td>4472-LVYGI</td>\n",
       "      <td>2020-02-01</td>\n",
       "      <td>No</td>\n",
       "      <td>Two year</td>\n",
       "      <td>Bank transfer (automatic)</td>\n",
       "      <td>52.55</td>\n",
       "      <td></td>\n",
       "      <td>Female</td>\n",
       "      <td>0</td>\n",
       "      <td>Yes</td>\n",
       "      <td>Yes</td>\n",
       "      <td>DSL</td>\n",
       "      <td>Yes</td>\n",
       "      <td>No</td>\n",
       "      <td>Yes</td>\n",
       "      <td>Yes</td>\n",
       "      <td>Yes</td>\n",
       "      <td>No</td>\n",
       "      <td>NaN</td>\n",
       "    </tr>\n",
       "    <tr>\n",
       "      <th>753</th>\n",
       "      <td>3115-CZMZD</td>\n",
       "      <td>2020-02-01</td>\n",
       "      <td>No</td>\n",
       "      <td>Two year</td>\n",
       "      <td>Mailed check</td>\n",
       "      <td>20.25</td>\n",
       "      <td></td>\n",
       "      <td>Male</td>\n",
       "      <td>0</td>\n",
       "      <td>No</td>\n",
       "      <td>Yes</td>\n",
       "      <td>NaN</td>\n",
       "      <td>NaN</td>\n",
       "      <td>NaN</td>\n",
       "      <td>NaN</td>\n",
       "      <td>NaN</td>\n",
       "      <td>NaN</td>\n",
       "      <td>NaN</td>\n",
       "      <td>No</td>\n",
       "    </tr>\n",
       "    <tr>\n",
       "      <th>936</th>\n",
       "      <td>5709-LVOEQ</td>\n",
       "      <td>2020-02-01</td>\n",
       "      <td>No</td>\n",
       "      <td>Two year</td>\n",
       "      <td>Mailed check</td>\n",
       "      <td>80.85</td>\n",
       "      <td></td>\n",
       "      <td>Female</td>\n",
       "      <td>0</td>\n",
       "      <td>Yes</td>\n",
       "      <td>Yes</td>\n",
       "      <td>DSL</td>\n",
       "      <td>Yes</td>\n",
       "      <td>Yes</td>\n",
       "      <td>Yes</td>\n",
       "      <td>No</td>\n",
       "      <td>Yes</td>\n",
       "      <td>Yes</td>\n",
       "      <td>No</td>\n",
       "    </tr>\n",
       "    <tr>\n",
       "      <th>1082</th>\n",
       "      <td>4367-NUYAO</td>\n",
       "      <td>2020-02-01</td>\n",
       "      <td>No</td>\n",
       "      <td>Two year</td>\n",
       "      <td>Mailed check</td>\n",
       "      <td>25.75</td>\n",
       "      <td></td>\n",
       "      <td>Male</td>\n",
       "      <td>0</td>\n",
       "      <td>Yes</td>\n",
       "      <td>Yes</td>\n",
       "      <td>NaN</td>\n",
       "      <td>NaN</td>\n",
       "      <td>NaN</td>\n",
       "      <td>NaN</td>\n",
       "      <td>NaN</td>\n",
       "      <td>NaN</td>\n",
       "      <td>NaN</td>\n",
       "      <td>Yes</td>\n",
       "    </tr>\n",
       "    <tr>\n",
       "      <th>1340</th>\n",
       "      <td>1371-DWPAZ</td>\n",
       "      <td>2020-02-01</td>\n",
       "      <td>No</td>\n",
       "      <td>Two year</td>\n",
       "      <td>Credit card (automatic)</td>\n",
       "      <td>56.05</td>\n",
       "      <td></td>\n",
       "      <td>Female</td>\n",
       "      <td>0</td>\n",
       "      <td>Yes</td>\n",
       "      <td>Yes</td>\n",
       "      <td>DSL</td>\n",
       "      <td>Yes</td>\n",
       "      <td>Yes</td>\n",
       "      <td>Yes</td>\n",
       "      <td>Yes</td>\n",
       "      <td>Yes</td>\n",
       "      <td>No</td>\n",
       "      <td>NaN</td>\n",
       "    </tr>\n",
       "    <tr>\n",
       "      <th>3331</th>\n",
       "      <td>7644-OMVMY</td>\n",
       "      <td>2020-02-01</td>\n",
       "      <td>No</td>\n",
       "      <td>Two year</td>\n",
       "      <td>Mailed check</td>\n",
       "      <td>19.85</td>\n",
       "      <td></td>\n",
       "      <td>Male</td>\n",
       "      <td>0</td>\n",
       "      <td>Yes</td>\n",
       "      <td>Yes</td>\n",
       "      <td>NaN</td>\n",
       "      <td>NaN</td>\n",
       "      <td>NaN</td>\n",
       "      <td>NaN</td>\n",
       "      <td>NaN</td>\n",
       "      <td>NaN</td>\n",
       "      <td>NaN</td>\n",
       "      <td>No</td>\n",
       "    </tr>\n",
       "    <tr>\n",
       "      <th>3826</th>\n",
       "      <td>3213-VVOLG</td>\n",
       "      <td>2020-02-01</td>\n",
       "      <td>No</td>\n",
       "      <td>Two year</td>\n",
       "      <td>Mailed check</td>\n",
       "      <td>25.35</td>\n",
       "      <td></td>\n",
       "      <td>Male</td>\n",
       "      <td>0</td>\n",
       "      <td>Yes</td>\n",
       "      <td>Yes</td>\n",
       "      <td>NaN</td>\n",
       "      <td>NaN</td>\n",
       "      <td>NaN</td>\n",
       "      <td>NaN</td>\n",
       "      <td>NaN</td>\n",
       "      <td>NaN</td>\n",
       "      <td>NaN</td>\n",
       "      <td>Yes</td>\n",
       "    </tr>\n",
       "    <tr>\n",
       "      <th>4380</th>\n",
       "      <td>2520-SGTTA</td>\n",
       "      <td>2020-02-01</td>\n",
       "      <td>No</td>\n",
       "      <td>Two year</td>\n",
       "      <td>Mailed check</td>\n",
       "      <td>20.00</td>\n",
       "      <td></td>\n",
       "      <td>Female</td>\n",
       "      <td>0</td>\n",
       "      <td>Yes</td>\n",
       "      <td>Yes</td>\n",
       "      <td>NaN</td>\n",
       "      <td>NaN</td>\n",
       "      <td>NaN</td>\n",
       "      <td>NaN</td>\n",
       "      <td>NaN</td>\n",
       "      <td>NaN</td>\n",
       "      <td>NaN</td>\n",
       "      <td>No</td>\n",
       "    </tr>\n",
       "    <tr>\n",
       "      <th>5218</th>\n",
       "      <td>2923-ARZLG</td>\n",
       "      <td>2020-02-01</td>\n",
       "      <td>No</td>\n",
       "      <td>One year</td>\n",
       "      <td>Mailed check</td>\n",
       "      <td>19.70</td>\n",
       "      <td></td>\n",
       "      <td>Male</td>\n",
       "      <td>0</td>\n",
       "      <td>Yes</td>\n",
       "      <td>Yes</td>\n",
       "      <td>NaN</td>\n",
       "      <td>NaN</td>\n",
       "      <td>NaN</td>\n",
       "      <td>NaN</td>\n",
       "      <td>NaN</td>\n",
       "      <td>NaN</td>\n",
       "      <td>NaN</td>\n",
       "      <td>No</td>\n",
       "    </tr>\n",
       "    <tr>\n",
       "      <th>6670</th>\n",
       "      <td>4075-WKNIU</td>\n",
       "      <td>2020-02-01</td>\n",
       "      <td>No</td>\n",
       "      <td>Two year</td>\n",
       "      <td>Mailed check</td>\n",
       "      <td>73.35</td>\n",
       "      <td></td>\n",
       "      <td>Female</td>\n",
       "      <td>0</td>\n",
       "      <td>Yes</td>\n",
       "      <td>Yes</td>\n",
       "      <td>DSL</td>\n",
       "      <td>No</td>\n",
       "      <td>Yes</td>\n",
       "      <td>Yes</td>\n",
       "      <td>Yes</td>\n",
       "      <td>Yes</td>\n",
       "      <td>No</td>\n",
       "      <td>Yes</td>\n",
       "    </tr>\n",
       "    <tr>\n",
       "      <th>6754</th>\n",
       "      <td>2775-SEFEE</td>\n",
       "      <td>2020-02-01</td>\n",
       "      <td>No</td>\n",
       "      <td>Two year</td>\n",
       "      <td>Bank transfer (automatic)</td>\n",
       "      <td>61.90</td>\n",
       "      <td></td>\n",
       "      <td>Male</td>\n",
       "      <td>0</td>\n",
       "      <td>No</td>\n",
       "      <td>Yes</td>\n",
       "      <td>DSL</td>\n",
       "      <td>Yes</td>\n",
       "      <td>Yes</td>\n",
       "      <td>No</td>\n",
       "      <td>Yes</td>\n",
       "      <td>No</td>\n",
       "      <td>No</td>\n",
       "      <td>Yes</td>\n",
       "    </tr>\n",
       "  </tbody>\n",
       "</table>\n",
       "</div>"
      ],
      "text/plain": [
       "     customer_id  date_begin end_date type_of_contract  \\\n",
       "488   4472-LVYGI  2020-02-01       No         Two year   \n",
       "753   3115-CZMZD  2020-02-01       No         Two year   \n",
       "936   5709-LVOEQ  2020-02-01       No         Two year   \n",
       "1082  4367-NUYAO  2020-02-01       No         Two year   \n",
       "1340  1371-DWPAZ  2020-02-01       No         Two year   \n",
       "3331  7644-OMVMY  2020-02-01       No         Two year   \n",
       "3826  3213-VVOLG  2020-02-01       No         Two year   \n",
       "4380  2520-SGTTA  2020-02-01       No         Two year   \n",
       "5218  2923-ARZLG  2020-02-01       No         One year   \n",
       "6670  4075-WKNIU  2020-02-01       No         Two year   \n",
       "6754  2775-SEFEE  2020-02-01       No         Two year   \n",
       "\n",
       "                 payment_method  monthly_charges total_charges  gender  \\\n",
       "488   Bank transfer (automatic)            52.55                Female   \n",
       "753                Mailed check            20.25                  Male   \n",
       "936                Mailed check            80.85                Female   \n",
       "1082               Mailed check            25.75                  Male   \n",
       "1340    Credit card (automatic)            56.05                Female   \n",
       "3331               Mailed check            19.85                  Male   \n",
       "3826               Mailed check            25.35                  Male   \n",
       "4380               Mailed check            20.00                Female   \n",
       "5218               Mailed check            19.70                  Male   \n",
       "6670               Mailed check            73.35                Female   \n",
       "6754  Bank transfer (automatic)            61.90                  Male   \n",
       "\n",
       "      is_senior have_partner have_dependents internet_service  \\\n",
       "488           0          Yes             Yes              DSL   \n",
       "753           0           No             Yes              NaN   \n",
       "936           0          Yes             Yes              DSL   \n",
       "1082          0          Yes             Yes              NaN   \n",
       "1340          0          Yes             Yes              DSL   \n",
       "3331          0          Yes             Yes              NaN   \n",
       "3826          0          Yes             Yes              NaN   \n",
       "4380          0          Yes             Yes              NaN   \n",
       "5218          0          Yes             Yes              NaN   \n",
       "6670          0          Yes             Yes              DSL   \n",
       "6754          0           No             Yes              DSL   \n",
       "\n",
       "     have_online_security have_online_backup have_device_protection  \\\n",
       "488                   Yes                 No                    Yes   \n",
       "753                   NaN                NaN                    NaN   \n",
       "936                   Yes                Yes                    Yes   \n",
       "1082                  NaN                NaN                    NaN   \n",
       "1340                  Yes                Yes                    Yes   \n",
       "3331                  NaN                NaN                    NaN   \n",
       "3826                  NaN                NaN                    NaN   \n",
       "4380                  NaN                NaN                    NaN   \n",
       "5218                  NaN                NaN                    NaN   \n",
       "6670                   No                Yes                    Yes   \n",
       "6754                  Yes                Yes                     No   \n",
       "\n",
       "     have_tech_support have_streaming_tv have_streaming_movies  \\\n",
       "488                Yes               Yes                    No   \n",
       "753                NaN               NaN                   NaN   \n",
       "936                 No               Yes                   Yes   \n",
       "1082               NaN               NaN                   NaN   \n",
       "1340               Yes               Yes                    No   \n",
       "3331               NaN               NaN                   NaN   \n",
       "3826               NaN               NaN                   NaN   \n",
       "4380               NaN               NaN                   NaN   \n",
       "5218               NaN               NaN                   NaN   \n",
       "6670               Yes               Yes                    No   \n",
       "6754               Yes                No                    No   \n",
       "\n",
       "     have_multiplelines  \n",
       "488                 NaN  \n",
       "753                  No  \n",
       "936                  No  \n",
       "1082                Yes  \n",
       "1340                NaN  \n",
       "3331                 No  \n",
       "3826                Yes  \n",
       "4380                 No  \n",
       "5218                 No  \n",
       "6670                Yes  \n",
       "6754                Yes  "
      ]
     },
     "execution_count": 140,
     "metadata": {},
     "output_type": "execute_result"
    }
   ],
   "source": [
    "initial_data.loc[initial_data['date_begin'] == '2020-02-01']"
   ]
  },
  {
   "cell_type": "markdown",
   "metadata": {},
   "source": [
    "В таблице присутствует информация о клиентах, которые заключили контракт в день сбора информации. Обучение модели на новых клиентов может несколько исказить результаты, к тому же соответствующих строк всего 11, поэтому можно удалить их, не опасаясь искажений."
   ]
  },
  {
   "cell_type": "code",
   "execution_count": 141,
   "metadata": {},
   "outputs": [
    {
     "name": "stdout",
     "output_type": "stream",
     "text": [
      "<class 'pandas.core.frame.DataFrame'>\n",
      "Int64Index: 7032 entries, 0 to 7042\n",
      "Data columns (total 19 columns):\n",
      " #   Column                  Non-Null Count  Dtype  \n",
      "---  ------                  --------------  -----  \n",
      " 0   customer_id             7032 non-null   object \n",
      " 1   date_begin              7032 non-null   object \n",
      " 2   end_date                7032 non-null   object \n",
      " 3   type_of_contract        7032 non-null   object \n",
      " 4   payment_method          7032 non-null   object \n",
      " 5   monthly_charges         7032 non-null   float64\n",
      " 6   total_charges           7032 non-null   float64\n",
      " 7   gender                  7032 non-null   int64  \n",
      " 8   is_senior               7032 non-null   int64  \n",
      " 9   have_partner            7032 non-null   int64  \n",
      " 10  have_dependents         7032 non-null   int64  \n",
      " 11  internet_service        7032 non-null   int64  \n",
      " 12  have_online_security    7032 non-null   int64  \n",
      " 13  have_online_backup      7032 non-null   int64  \n",
      " 14  have_device_protection  7032 non-null   int64  \n",
      " 15  have_tech_support       7032 non-null   int64  \n",
      " 16  have_streaming_tv       7032 non-null   int64  \n",
      " 17  have_streaming_movies   7032 non-null   int64  \n",
      " 18  have_multiplelines      7032 non-null   int64  \n",
      "dtypes: float64(2), int64(12), object(5)\n",
      "memory usage: 1.1+ MB\n"
     ]
    }
   ],
   "source": [
    "initial_data = initial_data.query('date_begin != \"2020-02-01\"') #удаляем новых клиентов\n",
    "initial_data ['total_charges'] = initial_data ['total_charges'].astype('float') #меняем тип данных в столбце\n",
    "\n",
    "#создаем список столбцов, в которых нужно изменить формат отображения данных и избавиться от пропсков\n",
    "have = ['have_multiplelines', 'have_streaming_movies','have_streaming_tv', 'have_tech_support', 'have_device_protection', \n",
    "       'have_online_backup', 'have_online_security','have_dependents', 'have_partner']\n",
    "for i in list(have):\n",
    "    initial_data[i] = initial_data[i].apply(lambda x: 1 if x == 'Yes' else 0) #производим замену\n",
    "\n",
    "#для удобства дальнейшей работы переведем в подобную систему данные столбцов с полом клиентов и типом интернет-сервиса\n",
    "initial_data['internet_service'] = initial_data['internet_service'].apply(lambda x: 1 if x == 'DSL' else 0)\n",
    "initial_data['gender'] = initial_data['gender'].apply(lambda x: 0 if x == 'Male' else 1)\n",
    "\n",
    "initial_data.info() #проверяем результаты преобразований"
   ]
  },
  {
   "cell_type": "markdown",
   "metadata": {},
   "source": [
    "Пропусков в таблице больше нет. \n",
    "\n",
    "Теперь перейдем к работе с данными, представляющими собой даты. Для начала выделим целевой признак - ушедшие и оставшиеся клиенты компании. Затем в колонке с датой окончания контракта заменим значение 'No' на дату предоставления данных. Необходимо также привести даты к соответствующему формату. Кроме того, дополним таблицу данными, которые понадобятся нам для проведения анализа: количество месяцев, во время которых действовал договор с клиентом, год и месяц заключения контракта."
   ]
  },
  {
   "cell_type": "code",
   "execution_count": 142,
   "metadata": {},
   "outputs": [
    {
     "name": "stdout",
     "output_type": "stream",
     "text": [
      "<class 'pandas.core.frame.DataFrame'>\n",
      "Int64Index: 7032 entries, 0 to 7042\n",
      "Data columns (total 23 columns):\n",
      " #   Column                  Non-Null Count  Dtype         \n",
      "---  ------                  --------------  -----         \n",
      " 0   customer_id             7032 non-null   object        \n",
      " 1   date_begin              7032 non-null   datetime64[ns]\n",
      " 2   end_date                7032 non-null   datetime64[ns]\n",
      " 3   type_of_contract        7032 non-null   object        \n",
      " 4   payment_method          7032 non-null   object        \n",
      " 5   monthly_charges         7032 non-null   float64       \n",
      " 6   total_charges           7032 non-null   float64       \n",
      " 7   gender                  7032 non-null   int64         \n",
      " 8   is_senior               7032 non-null   int64         \n",
      " 9   have_partner            7032 non-null   int64         \n",
      " 10  have_dependents         7032 non-null   int64         \n",
      " 11  internet_service        7032 non-null   int64         \n",
      " 12  have_online_security    7032 non-null   int64         \n",
      " 13  have_online_backup      7032 non-null   int64         \n",
      " 14  have_device_protection  7032 non-null   int64         \n",
      " 15  have_tech_support       7032 non-null   int64         \n",
      " 16  have_streaming_tv       7032 non-null   int64         \n",
      " 17  have_streaming_movies   7032 non-null   int64         \n",
      " 18  have_multiplelines      7032 non-null   int64         \n",
      " 19  left_or_stay            7032 non-null   int64         \n",
      " 20  count_months            7032 non-null   int64         \n",
      " 21  year_begin              7032 non-null   int64         \n",
      " 22  month_begin             7032 non-null   int64         \n",
      "dtypes: datetime64[ns](2), float64(2), int64(16), object(3)\n",
      "memory usage: 1.3+ MB\n",
      "None\n",
      "\n"
     ]
    },
    {
     "data": {
      "text/html": [
       "<div>\n",
       "<style scoped>\n",
       "    .dataframe tbody tr th:only-of-type {\n",
       "        vertical-align: middle;\n",
       "    }\n",
       "\n",
       "    .dataframe tbody tr th {\n",
       "        vertical-align: top;\n",
       "    }\n",
       "\n",
       "    .dataframe thead th {\n",
       "        text-align: right;\n",
       "    }\n",
       "</style>\n",
       "<table border=\"1\" class=\"dataframe\">\n",
       "  <thead>\n",
       "    <tr style=\"text-align: right;\">\n",
       "      <th></th>\n",
       "      <th>customer_id</th>\n",
       "      <th>date_begin</th>\n",
       "      <th>end_date</th>\n",
       "      <th>type_of_contract</th>\n",
       "      <th>payment_method</th>\n",
       "      <th>monthly_charges</th>\n",
       "      <th>total_charges</th>\n",
       "      <th>gender</th>\n",
       "      <th>is_senior</th>\n",
       "      <th>have_partner</th>\n",
       "      <th>...</th>\n",
       "      <th>have_online_backup</th>\n",
       "      <th>have_device_protection</th>\n",
       "      <th>have_tech_support</th>\n",
       "      <th>have_streaming_tv</th>\n",
       "      <th>have_streaming_movies</th>\n",
       "      <th>have_multiplelines</th>\n",
       "      <th>left_or_stay</th>\n",
       "      <th>count_months</th>\n",
       "      <th>year_begin</th>\n",
       "      <th>month_begin</th>\n",
       "    </tr>\n",
       "  </thead>\n",
       "  <tbody>\n",
       "    <tr>\n",
       "      <th>0</th>\n",
       "      <td>7590-VHVEG</td>\n",
       "      <td>2020-01-01</td>\n",
       "      <td>2020-02-01</td>\n",
       "      <td>Month-to-month</td>\n",
       "      <td>Electronic check</td>\n",
       "      <td>29.85</td>\n",
       "      <td>29.85</td>\n",
       "      <td>1</td>\n",
       "      <td>0</td>\n",
       "      <td>1</td>\n",
       "      <td>...</td>\n",
       "      <td>1</td>\n",
       "      <td>0</td>\n",
       "      <td>0</td>\n",
       "      <td>0</td>\n",
       "      <td>0</td>\n",
       "      <td>0</td>\n",
       "      <td>0</td>\n",
       "      <td>1</td>\n",
       "      <td>2020</td>\n",
       "      <td>1</td>\n",
       "    </tr>\n",
       "    <tr>\n",
       "      <th>1</th>\n",
       "      <td>5575-GNVDE</td>\n",
       "      <td>2017-04-01</td>\n",
       "      <td>2020-02-01</td>\n",
       "      <td>One year</td>\n",
       "      <td>Mailed check</td>\n",
       "      <td>56.95</td>\n",
       "      <td>1889.50</td>\n",
       "      <td>0</td>\n",
       "      <td>0</td>\n",
       "      <td>0</td>\n",
       "      <td>...</td>\n",
       "      <td>0</td>\n",
       "      <td>1</td>\n",
       "      <td>0</td>\n",
       "      <td>0</td>\n",
       "      <td>0</td>\n",
       "      <td>0</td>\n",
       "      <td>0</td>\n",
       "      <td>34</td>\n",
       "      <td>2017</td>\n",
       "      <td>4</td>\n",
       "    </tr>\n",
       "    <tr>\n",
       "      <th>2</th>\n",
       "      <td>3668-QPYBK</td>\n",
       "      <td>2019-10-01</td>\n",
       "      <td>2019-12-01</td>\n",
       "      <td>Month-to-month</td>\n",
       "      <td>Mailed check</td>\n",
       "      <td>53.85</td>\n",
       "      <td>108.15</td>\n",
       "      <td>0</td>\n",
       "      <td>0</td>\n",
       "      <td>0</td>\n",
       "      <td>...</td>\n",
       "      <td>1</td>\n",
       "      <td>0</td>\n",
       "      <td>0</td>\n",
       "      <td>0</td>\n",
       "      <td>0</td>\n",
       "      <td>0</td>\n",
       "      <td>1</td>\n",
       "      <td>2</td>\n",
       "      <td>2019</td>\n",
       "      <td>10</td>\n",
       "    </tr>\n",
       "    <tr>\n",
       "      <th>3</th>\n",
       "      <td>7795-CFOCW</td>\n",
       "      <td>2016-05-01</td>\n",
       "      <td>2020-02-01</td>\n",
       "      <td>One year</td>\n",
       "      <td>Bank transfer (automatic)</td>\n",
       "      <td>42.30</td>\n",
       "      <td>1840.75</td>\n",
       "      <td>0</td>\n",
       "      <td>0</td>\n",
       "      <td>0</td>\n",
       "      <td>...</td>\n",
       "      <td>0</td>\n",
       "      <td>1</td>\n",
       "      <td>1</td>\n",
       "      <td>0</td>\n",
       "      <td>0</td>\n",
       "      <td>0</td>\n",
       "      <td>0</td>\n",
       "      <td>45</td>\n",
       "      <td>2016</td>\n",
       "      <td>5</td>\n",
       "    </tr>\n",
       "    <tr>\n",
       "      <th>4</th>\n",
       "      <td>9237-HQITU</td>\n",
       "      <td>2019-09-01</td>\n",
       "      <td>2019-11-01</td>\n",
       "      <td>Month-to-month</td>\n",
       "      <td>Electronic check</td>\n",
       "      <td>70.70</td>\n",
       "      <td>151.65</td>\n",
       "      <td>1</td>\n",
       "      <td>0</td>\n",
       "      <td>0</td>\n",
       "      <td>...</td>\n",
       "      <td>0</td>\n",
       "      <td>0</td>\n",
       "      <td>0</td>\n",
       "      <td>0</td>\n",
       "      <td>0</td>\n",
       "      <td>0</td>\n",
       "      <td>1</td>\n",
       "      <td>2</td>\n",
       "      <td>2019</td>\n",
       "      <td>9</td>\n",
       "    </tr>\n",
       "    <tr>\n",
       "      <th>5</th>\n",
       "      <td>9305-CDSKC</td>\n",
       "      <td>2019-03-01</td>\n",
       "      <td>2019-11-01</td>\n",
       "      <td>Month-to-month</td>\n",
       "      <td>Electronic check</td>\n",
       "      <td>99.65</td>\n",
       "      <td>820.50</td>\n",
       "      <td>1</td>\n",
       "      <td>0</td>\n",
       "      <td>0</td>\n",
       "      <td>...</td>\n",
       "      <td>0</td>\n",
       "      <td>1</td>\n",
       "      <td>0</td>\n",
       "      <td>1</td>\n",
       "      <td>1</td>\n",
       "      <td>1</td>\n",
       "      <td>1</td>\n",
       "      <td>8</td>\n",
       "      <td>2019</td>\n",
       "      <td>3</td>\n",
       "    </tr>\n",
       "    <tr>\n",
       "      <th>6</th>\n",
       "      <td>1452-KIOVK</td>\n",
       "      <td>2018-04-01</td>\n",
       "      <td>2020-02-01</td>\n",
       "      <td>Month-to-month</td>\n",
       "      <td>Credit card (automatic)</td>\n",
       "      <td>89.10</td>\n",
       "      <td>1949.40</td>\n",
       "      <td>0</td>\n",
       "      <td>0</td>\n",
       "      <td>0</td>\n",
       "      <td>...</td>\n",
       "      <td>1</td>\n",
       "      <td>0</td>\n",
       "      <td>0</td>\n",
       "      <td>1</td>\n",
       "      <td>0</td>\n",
       "      <td>1</td>\n",
       "      <td>0</td>\n",
       "      <td>22</td>\n",
       "      <td>2018</td>\n",
       "      <td>4</td>\n",
       "    </tr>\n",
       "    <tr>\n",
       "      <th>7</th>\n",
       "      <td>6713-OKOMC</td>\n",
       "      <td>2019-04-01</td>\n",
       "      <td>2020-02-01</td>\n",
       "      <td>Month-to-month</td>\n",
       "      <td>Mailed check</td>\n",
       "      <td>29.75</td>\n",
       "      <td>301.90</td>\n",
       "      <td>1</td>\n",
       "      <td>0</td>\n",
       "      <td>0</td>\n",
       "      <td>...</td>\n",
       "      <td>0</td>\n",
       "      <td>0</td>\n",
       "      <td>0</td>\n",
       "      <td>0</td>\n",
       "      <td>0</td>\n",
       "      <td>0</td>\n",
       "      <td>0</td>\n",
       "      <td>10</td>\n",
       "      <td>2019</td>\n",
       "      <td>4</td>\n",
       "    </tr>\n",
       "    <tr>\n",
       "      <th>8</th>\n",
       "      <td>7892-POOKP</td>\n",
       "      <td>2017-07-01</td>\n",
       "      <td>2019-11-01</td>\n",
       "      <td>Month-to-month</td>\n",
       "      <td>Electronic check</td>\n",
       "      <td>104.80</td>\n",
       "      <td>3046.05</td>\n",
       "      <td>1</td>\n",
       "      <td>0</td>\n",
       "      <td>1</td>\n",
       "      <td>...</td>\n",
       "      <td>0</td>\n",
       "      <td>1</td>\n",
       "      <td>1</td>\n",
       "      <td>1</td>\n",
       "      <td>1</td>\n",
       "      <td>1</td>\n",
       "      <td>1</td>\n",
       "      <td>28</td>\n",
       "      <td>2017</td>\n",
       "      <td>7</td>\n",
       "    </tr>\n",
       "    <tr>\n",
       "      <th>9</th>\n",
       "      <td>6388-TABGU</td>\n",
       "      <td>2014-12-01</td>\n",
       "      <td>2020-02-01</td>\n",
       "      <td>One year</td>\n",
       "      <td>Bank transfer (automatic)</td>\n",
       "      <td>56.15</td>\n",
       "      <td>3487.95</td>\n",
       "      <td>0</td>\n",
       "      <td>0</td>\n",
       "      <td>0</td>\n",
       "      <td>...</td>\n",
       "      <td>1</td>\n",
       "      <td>0</td>\n",
       "      <td>0</td>\n",
       "      <td>0</td>\n",
       "      <td>0</td>\n",
       "      <td>0</td>\n",
       "      <td>0</td>\n",
       "      <td>62</td>\n",
       "      <td>2014</td>\n",
       "      <td>12</td>\n",
       "    </tr>\n",
       "  </tbody>\n",
       "</table>\n",
       "<p>10 rows × 23 columns</p>\n",
       "</div>"
      ],
      "text/plain": [
       "  customer_id date_begin   end_date type_of_contract  \\\n",
       "0  7590-VHVEG 2020-01-01 2020-02-01   Month-to-month   \n",
       "1  5575-GNVDE 2017-04-01 2020-02-01         One year   \n",
       "2  3668-QPYBK 2019-10-01 2019-12-01   Month-to-month   \n",
       "3  7795-CFOCW 2016-05-01 2020-02-01         One year   \n",
       "4  9237-HQITU 2019-09-01 2019-11-01   Month-to-month   \n",
       "5  9305-CDSKC 2019-03-01 2019-11-01   Month-to-month   \n",
       "6  1452-KIOVK 2018-04-01 2020-02-01   Month-to-month   \n",
       "7  6713-OKOMC 2019-04-01 2020-02-01   Month-to-month   \n",
       "8  7892-POOKP 2017-07-01 2019-11-01   Month-to-month   \n",
       "9  6388-TABGU 2014-12-01 2020-02-01         One year   \n",
       "\n",
       "              payment_method  monthly_charges  total_charges  gender  \\\n",
       "0           Electronic check            29.85          29.85       1   \n",
       "1               Mailed check            56.95        1889.50       0   \n",
       "2               Mailed check            53.85         108.15       0   \n",
       "3  Bank transfer (automatic)            42.30        1840.75       0   \n",
       "4           Electronic check            70.70         151.65       1   \n",
       "5           Electronic check            99.65         820.50       1   \n",
       "6    Credit card (automatic)            89.10        1949.40       0   \n",
       "7               Mailed check            29.75         301.90       1   \n",
       "8           Electronic check           104.80        3046.05       1   \n",
       "9  Bank transfer (automatic)            56.15        3487.95       0   \n",
       "\n",
       "   is_senior  have_partner  ...  have_online_backup  have_device_protection  \\\n",
       "0          0             1  ...                   1                       0   \n",
       "1          0             0  ...                   0                       1   \n",
       "2          0             0  ...                   1                       0   \n",
       "3          0             0  ...                   0                       1   \n",
       "4          0             0  ...                   0                       0   \n",
       "5          0             0  ...                   0                       1   \n",
       "6          0             0  ...                   1                       0   \n",
       "7          0             0  ...                   0                       0   \n",
       "8          0             1  ...                   0                       1   \n",
       "9          0             0  ...                   1                       0   \n",
       "\n",
       "   have_tech_support  have_streaming_tv  have_streaming_movies  \\\n",
       "0                  0                  0                      0   \n",
       "1                  0                  0                      0   \n",
       "2                  0                  0                      0   \n",
       "3                  1                  0                      0   \n",
       "4                  0                  0                      0   \n",
       "5                  0                  1                      1   \n",
       "6                  0                  1                      0   \n",
       "7                  0                  0                      0   \n",
       "8                  1                  1                      1   \n",
       "9                  0                  0                      0   \n",
       "\n",
       "   have_multiplelines  left_or_stay  count_months  year_begin  month_begin  \n",
       "0                   0             0             1        2020            1  \n",
       "1                   0             0            34        2017            4  \n",
       "2                   0             1             2        2019           10  \n",
       "3                   0             0            45        2016            5  \n",
       "4                   0             1             2        2019            9  \n",
       "5                   1             1             8        2019            3  \n",
       "6                   1             0            22        2018            4  \n",
       "7                   0             0            10        2019            4  \n",
       "8                   1             1            28        2017            7  \n",
       "9                   0             0            62        2014           12  \n",
       "\n",
       "[10 rows x 23 columns]"
      ]
     },
     "metadata": {},
     "output_type": "display_data"
    },
    {
     "name": "stdout",
     "output_type": "stream",
     "text": [
      "\n"
     ]
    },
    {
     "data": {
      "text/html": [
       "<div>\n",
       "<style scoped>\n",
       "    .dataframe tbody tr th:only-of-type {\n",
       "        vertical-align: middle;\n",
       "    }\n",
       "\n",
       "    .dataframe tbody tr th {\n",
       "        vertical-align: top;\n",
       "    }\n",
       "\n",
       "    .dataframe thead th {\n",
       "        text-align: right;\n",
       "    }\n",
       "</style>\n",
       "<table border=\"1\" class=\"dataframe\">\n",
       "  <thead>\n",
       "    <tr style=\"text-align: right;\">\n",
       "      <th></th>\n",
       "      <th>monthly_charges</th>\n",
       "      <th>total_charges</th>\n",
       "      <th>gender</th>\n",
       "      <th>is_senior</th>\n",
       "      <th>have_partner</th>\n",
       "      <th>have_dependents</th>\n",
       "      <th>internet_service</th>\n",
       "      <th>have_online_security</th>\n",
       "      <th>have_online_backup</th>\n",
       "      <th>have_device_protection</th>\n",
       "      <th>have_tech_support</th>\n",
       "      <th>have_streaming_tv</th>\n",
       "      <th>have_streaming_movies</th>\n",
       "      <th>have_multiplelines</th>\n",
       "      <th>left_or_stay</th>\n",
       "      <th>count_months</th>\n",
       "      <th>year_begin</th>\n",
       "      <th>month_begin</th>\n",
       "    </tr>\n",
       "  </thead>\n",
       "  <tbody>\n",
       "    <tr>\n",
       "      <th>count</th>\n",
       "      <td>7032.000000</td>\n",
       "      <td>7032.000000</td>\n",
       "      <td>7032.000000</td>\n",
       "      <td>7032.000000</td>\n",
       "      <td>7032.000000</td>\n",
       "      <td>7032.000000</td>\n",
       "      <td>7032.000000</td>\n",
       "      <td>7032.000000</td>\n",
       "      <td>7032.000000</td>\n",
       "      <td>7032.000000</td>\n",
       "      <td>7032.000000</td>\n",
       "      <td>7032.000000</td>\n",
       "      <td>7032.000000</td>\n",
       "      <td>7032.000000</td>\n",
       "      <td>7032.000000</td>\n",
       "      <td>7032.000000</td>\n",
       "      <td>7032.00000</td>\n",
       "      <td>7032.000000</td>\n",
       "    </tr>\n",
       "    <tr>\n",
       "      <th>mean</th>\n",
       "      <td>64.798208</td>\n",
       "      <td>2283.300441</td>\n",
       "      <td>0.495307</td>\n",
       "      <td>0.162400</td>\n",
       "      <td>0.482509</td>\n",
       "      <td>0.298493</td>\n",
       "      <td>0.343572</td>\n",
       "      <td>0.286547</td>\n",
       "      <td>0.344852</td>\n",
       "      <td>0.343857</td>\n",
       "      <td>0.290102</td>\n",
       "      <td>0.384386</td>\n",
       "      <td>0.388367</td>\n",
       "      <td>0.421928</td>\n",
       "      <td>0.265785</td>\n",
       "      <td>32.217150</td>\n",
       "      <td>2016.87372</td>\n",
       "      <td>6.428185</td>\n",
       "    </tr>\n",
       "    <tr>\n",
       "      <th>std</th>\n",
       "      <td>30.085974</td>\n",
       "      <td>2266.771362</td>\n",
       "      <td>0.500014</td>\n",
       "      <td>0.368844</td>\n",
       "      <td>0.499729</td>\n",
       "      <td>0.457629</td>\n",
       "      <td>0.474934</td>\n",
       "      <td>0.452180</td>\n",
       "      <td>0.475354</td>\n",
       "      <td>0.475028</td>\n",
       "      <td>0.453842</td>\n",
       "      <td>0.486484</td>\n",
       "      <td>0.487414</td>\n",
       "      <td>0.493902</td>\n",
       "      <td>0.441782</td>\n",
       "      <td>24.515958</td>\n",
       "      <td>1.96824</td>\n",
       "      <td>3.576972</td>\n",
       "    </tr>\n",
       "    <tr>\n",
       "      <th>min</th>\n",
       "      <td>18.250000</td>\n",
       "      <td>18.800000</td>\n",
       "      <td>0.000000</td>\n",
       "      <td>0.000000</td>\n",
       "      <td>0.000000</td>\n",
       "      <td>0.000000</td>\n",
       "      <td>0.000000</td>\n",
       "      <td>0.000000</td>\n",
       "      <td>0.000000</td>\n",
       "      <td>0.000000</td>\n",
       "      <td>0.000000</td>\n",
       "      <td>0.000000</td>\n",
       "      <td>0.000000</td>\n",
       "      <td>0.000000</td>\n",
       "      <td>0.000000</td>\n",
       "      <td>0.000000</td>\n",
       "      <td>2013.00000</td>\n",
       "      <td>1.000000</td>\n",
       "    </tr>\n",
       "    <tr>\n",
       "      <th>25%</th>\n",
       "      <td>35.587500</td>\n",
       "      <td>401.450000</td>\n",
       "      <td>0.000000</td>\n",
       "      <td>0.000000</td>\n",
       "      <td>0.000000</td>\n",
       "      <td>0.000000</td>\n",
       "      <td>0.000000</td>\n",
       "      <td>0.000000</td>\n",
       "      <td>0.000000</td>\n",
       "      <td>0.000000</td>\n",
       "      <td>0.000000</td>\n",
       "      <td>0.000000</td>\n",
       "      <td>0.000000</td>\n",
       "      <td>0.000000</td>\n",
       "      <td>0.000000</td>\n",
       "      <td>9.000000</td>\n",
       "      <td>2015.00000</td>\n",
       "      <td>3.000000</td>\n",
       "    </tr>\n",
       "    <tr>\n",
       "      <th>50%</th>\n",
       "      <td>70.350000</td>\n",
       "      <td>1397.475000</td>\n",
       "      <td>0.000000</td>\n",
       "      <td>0.000000</td>\n",
       "      <td>0.000000</td>\n",
       "      <td>0.000000</td>\n",
       "      <td>0.000000</td>\n",
       "      <td>0.000000</td>\n",
       "      <td>0.000000</td>\n",
       "      <td>0.000000</td>\n",
       "      <td>0.000000</td>\n",
       "      <td>0.000000</td>\n",
       "      <td>0.000000</td>\n",
       "      <td>0.000000</td>\n",
       "      <td>0.000000</td>\n",
       "      <td>29.000000</td>\n",
       "      <td>2017.00000</td>\n",
       "      <td>6.000000</td>\n",
       "    </tr>\n",
       "    <tr>\n",
       "      <th>75%</th>\n",
       "      <td>89.862500</td>\n",
       "      <td>3794.737500</td>\n",
       "      <td>1.000000</td>\n",
       "      <td>0.000000</td>\n",
       "      <td>1.000000</td>\n",
       "      <td>1.000000</td>\n",
       "      <td>1.000000</td>\n",
       "      <td>1.000000</td>\n",
       "      <td>1.000000</td>\n",
       "      <td>1.000000</td>\n",
       "      <td>1.000000</td>\n",
       "      <td>1.000000</td>\n",
       "      <td>1.000000</td>\n",
       "      <td>1.000000</td>\n",
       "      <td>1.000000</td>\n",
       "      <td>55.000000</td>\n",
       "      <td>2019.00000</td>\n",
       "      <td>10.000000</td>\n",
       "    </tr>\n",
       "    <tr>\n",
       "      <th>max</th>\n",
       "      <td>118.750000</td>\n",
       "      <td>8684.800000</td>\n",
       "      <td>1.000000</td>\n",
       "      <td>1.000000</td>\n",
       "      <td>1.000000</td>\n",
       "      <td>1.000000</td>\n",
       "      <td>1.000000</td>\n",
       "      <td>1.000000</td>\n",
       "      <td>1.000000</td>\n",
       "      <td>1.000000</td>\n",
       "      <td>1.000000</td>\n",
       "      <td>1.000000</td>\n",
       "      <td>1.000000</td>\n",
       "      <td>1.000000</td>\n",
       "      <td>1.000000</td>\n",
       "      <td>71.000000</td>\n",
       "      <td>2020.00000</td>\n",
       "      <td>12.000000</td>\n",
       "    </tr>\n",
       "  </tbody>\n",
       "</table>\n",
       "</div>"
      ],
      "text/plain": [
       "       monthly_charges  total_charges       gender    is_senior  have_partner  \\\n",
       "count      7032.000000    7032.000000  7032.000000  7032.000000   7032.000000   \n",
       "mean         64.798208    2283.300441     0.495307     0.162400      0.482509   \n",
       "std          30.085974    2266.771362     0.500014     0.368844      0.499729   \n",
       "min          18.250000      18.800000     0.000000     0.000000      0.000000   \n",
       "25%          35.587500     401.450000     0.000000     0.000000      0.000000   \n",
       "50%          70.350000    1397.475000     0.000000     0.000000      0.000000   \n",
       "75%          89.862500    3794.737500     1.000000     0.000000      1.000000   \n",
       "max         118.750000    8684.800000     1.000000     1.000000      1.000000   \n",
       "\n",
       "       have_dependents  internet_service  have_online_security  \\\n",
       "count      7032.000000       7032.000000           7032.000000   \n",
       "mean          0.298493          0.343572              0.286547   \n",
       "std           0.457629          0.474934              0.452180   \n",
       "min           0.000000          0.000000              0.000000   \n",
       "25%           0.000000          0.000000              0.000000   \n",
       "50%           0.000000          0.000000              0.000000   \n",
       "75%           1.000000          1.000000              1.000000   \n",
       "max           1.000000          1.000000              1.000000   \n",
       "\n",
       "       have_online_backup  have_device_protection  have_tech_support  \\\n",
       "count         7032.000000             7032.000000        7032.000000   \n",
       "mean             0.344852                0.343857           0.290102   \n",
       "std              0.475354                0.475028           0.453842   \n",
       "min              0.000000                0.000000           0.000000   \n",
       "25%              0.000000                0.000000           0.000000   \n",
       "50%              0.000000                0.000000           0.000000   \n",
       "75%              1.000000                1.000000           1.000000   \n",
       "max              1.000000                1.000000           1.000000   \n",
       "\n",
       "       have_streaming_tv  have_streaming_movies  have_multiplelines  \\\n",
       "count        7032.000000            7032.000000         7032.000000   \n",
       "mean            0.384386               0.388367            0.421928   \n",
       "std             0.486484               0.487414            0.493902   \n",
       "min             0.000000               0.000000            0.000000   \n",
       "25%             0.000000               0.000000            0.000000   \n",
       "50%             0.000000               0.000000            0.000000   \n",
       "75%             1.000000               1.000000            1.000000   \n",
       "max             1.000000               1.000000            1.000000   \n",
       "\n",
       "       left_or_stay  count_months  year_begin  month_begin  \n",
       "count   7032.000000   7032.000000  7032.00000  7032.000000  \n",
       "mean       0.265785     32.217150  2016.87372     6.428185  \n",
       "std        0.441782     24.515958     1.96824     3.576972  \n",
       "min        0.000000      0.000000  2013.00000     1.000000  \n",
       "25%        0.000000      9.000000  2015.00000     3.000000  \n",
       "50%        0.000000     29.000000  2017.00000     6.000000  \n",
       "75%        1.000000     55.000000  2019.00000    10.000000  \n",
       "max        1.000000     71.000000  2020.00000    12.000000  "
      ]
     },
     "metadata": {},
     "output_type": "display_data"
    },
    {
     "name": "stdout",
     "output_type": "stream",
     "text": [
      "\n",
      "0\n"
     ]
    }
   ],
   "source": [
    "initial_data['left_or_stay'] = initial_data['end_date'].apply(lambda x: 0 if x == 'No' else 1) #определяем целевой признак\n",
    "initial_data['end_date'] = initial_data['end_date'].apply(lambda x: '2020-02-01' if x == 'No' else x) #добавляем дату\n",
    "\n",
    "#меняем формат данных\n",
    "initial_data['date_begin'] = pd.to_datetime(initial_data['date_begin'])\n",
    "initial_data['end_date'] = pd.to_datetime(initial_data['end_date'])\n",
    "\n",
    "#определяем дополнительные данные\n",
    "initial_data['count_months'] = ((initial_data.end_date - initial_data.date_begin)/np.timedelta64(1, 'M')).astype('int')\n",
    "initial_data['year_begin'] = initial_data['date_begin'].dt.year\n",
    "initial_data['month_begin'] = initial_data['date_begin'].dt.month\n",
    "\n",
    "#выводим основную информацию об итоговой таблице\n",
    "study_of_initial_data(initial_data)"
   ]
  },
  {
   "cell_type": "markdown",
   "metadata": {},
   "source": [
    "Основные преобразования закончены. Таблица выглядит готовой для проведения исследовательского анализа данных."
   ]
  },
  {
   "cell_type": "markdown",
   "metadata": {},
   "source": [
    "### Исследовательский анализ данных"
   ]
  },
  {
   "cell_type": "markdown",
   "metadata": {},
   "source": [
    "Для начала изучим динамику заключения новых контрактов в разрезе лет."
   ]
  },
  {
   "cell_type": "code",
   "execution_count": 143,
   "metadata": {},
   "outputs": [
    {
     "data": {
      "text/plain": [
       "<AxesSubplot:title={'center':'Количество новых пользователей за год'}, xlabel='year_begin'>"
      ]
     },
     "execution_count": 143,
     "metadata": {},
     "output_type": "execute_result"
    },
    {
     "data": {
      "image/png": "[encoded data removed]",
      "text/plain": [
       "<Figure size 1008x504 with 1 Axes>"
      ]
     },
     "metadata": {
      "needs_background": "light"
     },
     "output_type": "display_data"
    }
   ],
   "source": [
    "initial_data.pivot_table(index='year_begin', values='customer_id', aggfunc='count').plot.bar(\n",
    "    figsize=(14, 7), title='Количество новых пользователей за год', grid=True)"
   ]
  },
  {
   "cell_type": "markdown",
   "metadata": {},
   "source": [
    "Данные за 2013 и 2020 годы выглядят странно, проверим их."
   ]
  },
  {
   "cell_type": "code",
   "execution_count": 144,
   "metadata": {},
   "outputs": [
    {
     "data": {
      "text/plain": [
       "array([11, 10, 12])"
      ]
     },
     "execution_count": 144,
     "metadata": {},
     "output_type": "execute_result"
    }
   ],
   "source": [
    "initial_data.query('year_begin == 2013').month_begin.unique()"
   ]
  },
  {
   "cell_type": "code",
   "execution_count": 145,
   "metadata": {},
   "outputs": [
    {
     "data": {
      "text/plain": [
       "array([1])"
      ]
     },
     "execution_count": 145,
     "metadata": {},
     "output_type": "execute_result"
    }
   ],
   "source": [
    "initial_data.query('year_begin == 2020').month_begin.unique()"
   ]
  },
  {
   "cell_type": "markdown",
   "metadata": {},
   "source": [
    "Данные за эти два года неполные, поэтому их использование в дальнейшем лишь создаст ненужный шум. Удалим их из таблицы. \n",
    "\n",
    "Что касается остальных лет, то мы можем видеть,что после 2014 года количество новых клиентов компании сильно сократилось и достигло своего минимума (менее 800 новых пользователей) в 2016 году. Затем статистика медленно пошла вверх, пока не случился резкий всплеск в 2019 году (примерно 1950 новых пользователей). По имеющимся в нашем распоряжении данным сложно сделать вывод, с чем это связано. Возможно, компания освоила новый регион или провела успешную пиар-компанию. Также приток клиентов может быть связан с конкурентами заказчика (уход с рынка, ухудшение условий, повышение цен и тд.). \n",
    "\n",
    "Было бы интересно взглянуть на данные за 2020 год и посмотреть, как пандемия повлияла на динамику контрактов, но, к сожалению, за этот год, как уже было выяснено, мы имеем лишь неполные данные.\n",
    "\n",
    "Теперь исследуем динамику притока клиентов по месяцам за период с 2017 по 2019 годы."
   ]
  },
  {
   "cell_type": "code",
   "execution_count": 146,
   "metadata": {},
   "outputs": [],
   "source": [
    "initial_data = initial_data.query('year_begin > 2013 and year_begin < 2020') #удаляем неполные данные"
   ]
  },
  {
   "cell_type": "code",
   "execution_count": 147,
   "metadata": {},
   "outputs": [
    {
     "data": {
      "text/plain": [
       "<AxesSubplot:title={'center':'Количество новых пользователей по месяцам в 2017 году'}, xlabel='month_begin'>"
      ]
     },
     "execution_count": 147,
     "metadata": {},
     "output_type": "execute_result"
    },
    {
     "data": {
      "image/png": "[encoded data removed]",
      "text/plain": [
       "<Figure size 1008x504 with 1 Axes>"
      ]
     },
     "metadata": {
      "needs_background": "light"
     },
     "output_type": "display_data"
    },
    {
     "data": {
      "image/png": "[encoded data removed]",
      "text/plain": [
       "<Figure size 1008x504 with 1 Axes>"
      ]
     },
     "metadata": {
      "needs_background": "light"
     },
     "output_type": "display_data"
    },
    {
     "data": {
      "image/png": "[encoded data removed]",
      "text/plain": [
       "<Figure size 1008x504 with 1 Axes>"
      ]
     },
     "metadata": {
      "needs_background": "light"
     },
     "output_type": "display_data"
    }
   ],
   "source": [
    "#строим графики по месяцам\n",
    "initial_data.query('year_begin == 2019').pivot_table(index='month_begin', values='customer_id', aggfunc='count').plot.bar(\n",
    "    figsize=(14, 7), title='Количество новых пользователей по месяцам в 2019 году', grid = True)\n",
    "initial_data.query('year_begin == 2018').pivot_table(index='month_begin', values='customer_id', aggfunc='count').plot.bar(\n",
    "    figsize=(14, 7), title='Количество новых пользователей по месяцам в 2018 году', grid = True)\n",
    "initial_data.query('year_begin == 2017').pivot_table(index='month_begin', values='customer_id', aggfunc='count').plot.bar(\n",
    "    figsize=(14, 7), title='Количество новых пользователей по месяцам в 2017 году', grid = True)"
   ]
  },
  {
   "cell_type": "markdown",
   "metadata": {},
   "source": [
    "Изучив данные графики, можно отметить следующие моменты:\n",
    "- самый равномерный год - 2019, в нем можно проследить тренд на постепенное увеличение заключаемых контрактов;\n",
    "- в 2018 и 2019 годах самыми результативными месяцами стали сентябрь и ноябрь, а в декабре в оба года наблюдался спад;\n",
    "- помимо выше названных, в 2019 году большой приток клиентов был отмечен в октябре (в предыдущие годы в этот месяц контракты наоборот \"проседали\", в 2018 - в августе, в 2017 - в марте (самый результативный месяц года по данному показателю).\n",
    "\n",
    "Т. е. четкой закономерности, сохраняющейся из года в год, выявить не удалось.\n",
    "\n",
    "Далее исследуем данные о клиентах, которые перестали сотрудничать с компанией-заказчиком."
   ]
  },
  {
   "cell_type": "code",
   "execution_count": 148,
   "metadata": {},
   "outputs": [
    {
     "data": {
      "text/plain": [
       "<AxesSubplot:title={'center':'Количество ушедших пользователей в зависимости от типа контракта'}, xlabel='type_of_contract'>"
      ]
     },
     "execution_count": 148,
     "metadata": {},
     "output_type": "execute_result"
    },
    {
     "data": {
      "image/png": "[encoded data removed]",
      "text/plain": [
       "<Figure size 1008x504 with 1 Axes>"
      ]
     },
     "metadata": {
      "needs_background": "light"
     },
     "output_type": "display_data"
    }
   ],
   "source": [
    "#вычленяем данные, относящиеся к ушедшим клиентам\n",
    "gone = initial_data.query('left_or_stay == 1')\n",
    "#строим график зависимости количества ушедших клиентов от типа заключенного контракта\n",
    "gone.pivot_table(index='type_of_contract', values='customer_id', aggfunc='count').plot.bar(\n",
    "    figsize=(14, 7), title='Количество ушедших пользователей в зависимости от типа контракта', grid = True)"
   ]
  },
  {
   "cell_type": "markdown",
   "metadata": {},
   "source": [
    "График показал вполне ожидаемые и логичные результаты: большинство ушедших клиентов имели контракт с помесячной оплатой. Логично это по нескольким причинам. Во-первых, при помесячной оплате клиент имеет возможность протестировать качество предоставляемых услуг, соотнести его с их ценой и в любой момент сделать вывод, устраивает ли его подобное соотношение. Во-вторых, когда контракт заключен на целый год или два, люди менее охотно его разрывают, к тому же, с большой долей вероятности, контрактом предусмотрена определенная сумма неустойки при досрочном расторжении.\n",
    "\n",
    "Теперь посмотрим, как количество ушедших клиентов зависит от длительности их отношений с компанией. Вполне возможно, что следующий график в определенной мере подтвердит предыдущие предположения."
   ]
  },
  {
   "cell_type": "code",
   "execution_count": 149,
   "metadata": {},
   "outputs": [
    {
     "data": {
      "text/plain": [
       "<AxesSubplot:title={'center':'Количество ушедших пользователей в зависимости от длительности отношений с компанией'}, xlabel='count_months'>"
      ]
     },
     "execution_count": 149,
     "metadata": {},
     "output_type": "execute_result"
    },
    {
     "data": {
      "image/png": "[encoded data removed]",
      "text/plain": [
       "<Figure size 1008x504 with 1 Axes>"
      ]
     },
     "metadata": {
      "needs_background": "light"
     },
     "output_type": "display_data"
    }
   ],
   "source": [
    "gone.pivot_table(index='count_months', values='customer_id', aggfunc='count').plot( style='o-', grid=True, \n",
    "                 figsize=(14, 7), title='Количество ушедших пользователей в зависимости от длительности отношений с компанией')"
   ]
  },
  {
   "cell_type": "markdown",
   "metadata": {},
   "source": [
    "Действительно, мы можем видеть, что большинство клиентов уходит после первого месяца использования услуг. Скорее всего, это время как раз становится тестовым периодом. Также довольно большая доля клиентов разрывает контракт после двух месяцев, а затем, чем дольше клиент остается с компанией, тем реже он принимает решение о ее смене.\n",
    "\n",
    "Далее изучим, как соотносятся траты ушедших и оставшихся клиентов."
   ]
  },
  {
   "cell_type": "code",
   "execution_count": 150,
   "metadata": {},
   "outputs": [
    {
     "data": {
      "image/png": "[encoded data removed]",
      "text/plain": [
       "<Figure size 1008x504 with 1 Axes>"
      ]
     },
     "metadata": {
      "needs_background": "light"
     },
     "output_type": "display_data"
    }
   ],
   "source": [
    "#вычленяем данные, относящиеся к оставшимся клиентам\n",
    "stay = initial_data.query('left_or_stay == 0')\n",
    "\n",
    "#строим график\n",
    "plt.figure(figsize=(14,7))\n",
    "sns.distplot(gone['monthly_charges'], color=\"g\", label=\"Ушли\")\n",
    "sns.distplot(stay['monthly_charges'], color=\"b\", label=\"Остались\")\n",
    "plt.title('Сравнение распределений ежемесячных платежей ушедших и оставшихся клиентов', fontsize=22)\n",
    "plt.legend()\n",
    "plt.xlabel('Сумма, потраченная за месяц')\n",
    "plt.grid()\n",
    "plt.show()"
   ]
  },
  {
   "cell_type": "markdown",
   "metadata": {},
   "source": [
    "Как показывает график, ушедшие клиенты обычно тратят больше, чем те, кто по-прежнему остается с компанией.\n",
    "\n",
    "На данном этапе мы получили все необходимое от данных с номером клиента, датой заключения и расторжения контрактов, поэтому можем удалить соответствующие столбцы. После этого необходимо исследовать целевой признак на предмет дисбаланска классов."
   ]
  },
  {
   "cell_type": "code",
   "execution_count": 151,
   "metadata": {},
   "outputs": [
    {
     "data": {
      "image/png": "[encoded data removed]",
      "text/plain": [
       "<Figure size 432x288 with 1 Axes>"
      ]
     },
     "metadata": {},
     "output_type": "display_data"
    }
   ],
   "source": [
    "#избавляемся от избыточных данных\n",
    "initial_data = initial_data.drop(['customer_id', 'date_begin', 'end_date', 'month_begin', 'year_begin'], axis = 1) \n",
    "\n",
    "#графически исследуем дисбаланс классов\n",
    "fig, ax = plt.subplots()\n",
    "ax.pie(initial_data['left_or_stay'].value_counts(), labels=['остались', 'ушли'], autopct='%.1f%%', shadow=True, explode=[0, 0.2])\n",
    "ax.axis(\"equal\")\n",
    "plt.title('Дисбаланс классов')\n",
    "plt.show()"
   ]
  },
  {
   "cell_type": "markdown",
   "metadata": {},
   "source": [
    "Как мы видим, наблюдается сильный дисбаланс классов, который может оказать существенное влияние на работу моделей машинного обучения. Следовательно, на следующих этапах необходимо его устранить. \n",
    "\n",
    "Далее изучим взаимосвязи, существующие между признаками, и проверим данные на наличие мультиколлинеарности. "
   ]
  },
  {
   "cell_type": "code",
   "execution_count": 152,
   "metadata": {},
   "outputs": [
    {
     "data": {
      "text/plain": [
       "<AxesSubplot:>"
      ]
     },
     "execution_count": 152,
     "metadata": {},
     "output_type": "execute_result"
    },
    {
     "data": {
      "image/png": "[encoded data removed]",
      "text/plain": [
       "<Figure size 1440x1080 with 2 Axes>"
      ]
     },
     "metadata": {
      "needs_background": "light"
     },
     "output_type": "display_data"
    }
   ],
   "source": [
    "plt.figure(figsize=(20, 15))\n",
    "sns.heatmap(initial_data.corr(), annot=True, color='#8a1c2e', fmt='.2f')"
   ]
  },
  {
   "cell_type": "markdown",
   "metadata": {},
   "source": [
    "Построенный график позволил нам выявить наличие в данных мультиколлинеарности между столбцами count_months и total_charges (коэффициент корреляции равен 0,82). Оба играют важную роль, однако помимо них в данных есть столбцец с данными о ежемесячных тратах, поэтому, на мой взгляд, логичным решением будет удалить именно столбец total_charges."
   ]
  },
  {
   "cell_type": "code",
   "execution_count": 153,
   "metadata": {},
   "outputs": [],
   "source": [
    "initial_data = initial_data.drop(['total_charges'], axis = 1) "
   ]
  },
  {
   "cell_type": "markdown",
   "metadata": {},
   "source": [
    "На этом исследовательский анализ данных можно считать завершенным."
   ]
  },
  {
   "cell_type": "markdown",
   "metadata": {},
   "source": [
    "### Выводы:"
   ]
  },
  {
   "cell_type": "markdown",
   "metadata": {},
   "source": [
    "После объединения таблиц были обработаны пропуски, переименованы столбцы, удалены избыточные данные, изменены форматы данных, устранена мультиколлинеарность. \n",
    "\n",
    "Исследовательский анализ показал следующее:\n",
    "- значительное увеличение числа новых клиентов в 2019 году;\n",
    "- чаще из компании уходят клиенты с помесячной оплатой;\n",
    "- чем дольше клиент с компанией, тем меньше вероятность его ухода;\n",
    "- большинство клиентов уходит после 1-2 месяцев;\n",
    "- ушедшие клиенты, в основном, ежемесячно тратят больше тех, кто остается;\n",
    "- выявлен сильный дисбаланс классов целевого признака;\n",
    "- выявлена сильная взаимосвязь между данными столбцов total_charges и count_months."
   ]
  },
  {
   "cell_type": "markdown",
   "metadata": {},
   "source": [
    "## Подготовка данных к машинному обучению"
   ]
  },
  {
   "cell_type": "markdown",
   "metadata": {},
   "source": [
    "Для начала преобразуем категориальные признаки в численные, используя технику прямого кодирования (OHE). Чтобы избежать дамми-ловушки, применим аргумент drop_first."
   ]
  },
  {
   "cell_type": "code",
   "execution_count": 154,
   "metadata": {},
   "outputs": [
    {
     "data": {
      "text/html": [
       "<div>\n",
       "<style scoped>\n",
       "    .dataframe tbody tr th:only-of-type {\n",
       "        vertical-align: middle;\n",
       "    }\n",
       "\n",
       "    .dataframe tbody tr th {\n",
       "        vertical-align: top;\n",
       "    }\n",
       "\n",
       "    .dataframe thead th {\n",
       "        text-align: right;\n",
       "    }\n",
       "</style>\n",
       "<table border=\"1\" class=\"dataframe\">\n",
       "  <thead>\n",
       "    <tr style=\"text-align: right;\">\n",
       "      <th></th>\n",
       "      <th>monthly_charges</th>\n",
       "      <th>gender</th>\n",
       "      <th>is_senior</th>\n",
       "      <th>have_partner</th>\n",
       "      <th>have_dependents</th>\n",
       "      <th>internet_service</th>\n",
       "      <th>have_online_security</th>\n",
       "      <th>have_online_backup</th>\n",
       "      <th>have_device_protection</th>\n",
       "      <th>have_tech_support</th>\n",
       "      <th>have_streaming_tv</th>\n",
       "      <th>have_streaming_movies</th>\n",
       "      <th>have_multiplelines</th>\n",
       "      <th>left_or_stay</th>\n",
       "      <th>count_months</th>\n",
       "      <th>type_of_contract_One year</th>\n",
       "      <th>type_of_contract_Two year</th>\n",
       "      <th>payment_method_Credit card (automatic)</th>\n",
       "      <th>payment_method_Electronic check</th>\n",
       "      <th>payment_method_Mailed check</th>\n",
       "    </tr>\n",
       "  </thead>\n",
       "  <tbody>\n",
       "    <tr>\n",
       "      <th>1</th>\n",
       "      <td>56.95</td>\n",
       "      <td>0</td>\n",
       "      <td>0</td>\n",
       "      <td>0</td>\n",
       "      <td>0</td>\n",
       "      <td>1</td>\n",
       "      <td>1</td>\n",
       "      <td>0</td>\n",
       "      <td>1</td>\n",
       "      <td>0</td>\n",
       "      <td>0</td>\n",
       "      <td>0</td>\n",
       "      <td>0</td>\n",
       "      <td>0</td>\n",
       "      <td>34</td>\n",
       "      <td>1</td>\n",
       "      <td>0</td>\n",
       "      <td>0</td>\n",
       "      <td>0</td>\n",
       "      <td>1</td>\n",
       "    </tr>\n",
       "    <tr>\n",
       "      <th>2</th>\n",
       "      <td>53.85</td>\n",
       "      <td>0</td>\n",
       "      <td>0</td>\n",
       "      <td>0</td>\n",
       "      <td>0</td>\n",
       "      <td>1</td>\n",
       "      <td>1</td>\n",
       "      <td>1</td>\n",
       "      <td>0</td>\n",
       "      <td>0</td>\n",
       "      <td>0</td>\n",
       "      <td>0</td>\n",
       "      <td>0</td>\n",
       "      <td>1</td>\n",
       "      <td>2</td>\n",
       "      <td>0</td>\n",
       "      <td>0</td>\n",
       "      <td>0</td>\n",
       "      <td>0</td>\n",
       "      <td>1</td>\n",
       "    </tr>\n",
       "    <tr>\n",
       "      <th>3</th>\n",
       "      <td>42.30</td>\n",
       "      <td>0</td>\n",
       "      <td>0</td>\n",
       "      <td>0</td>\n",
       "      <td>0</td>\n",
       "      <td>1</td>\n",
       "      <td>1</td>\n",
       "      <td>0</td>\n",
       "      <td>1</td>\n",
       "      <td>1</td>\n",
       "      <td>0</td>\n",
       "      <td>0</td>\n",
       "      <td>0</td>\n",
       "      <td>0</td>\n",
       "      <td>45</td>\n",
       "      <td>1</td>\n",
       "      <td>0</td>\n",
       "      <td>0</td>\n",
       "      <td>0</td>\n",
       "      <td>0</td>\n",
       "    </tr>\n",
       "    <tr>\n",
       "      <th>4</th>\n",
       "      <td>70.70</td>\n",
       "      <td>1</td>\n",
       "      <td>0</td>\n",
       "      <td>0</td>\n",
       "      <td>0</td>\n",
       "      <td>0</td>\n",
       "      <td>0</td>\n",
       "      <td>0</td>\n",
       "      <td>0</td>\n",
       "      <td>0</td>\n",
       "      <td>0</td>\n",
       "      <td>0</td>\n",
       "      <td>0</td>\n",
       "      <td>1</td>\n",
       "      <td>2</td>\n",
       "      <td>0</td>\n",
       "      <td>0</td>\n",
       "      <td>0</td>\n",
       "      <td>1</td>\n",
       "      <td>0</td>\n",
       "    </tr>\n",
       "    <tr>\n",
       "      <th>5</th>\n",
       "      <td>99.65</td>\n",
       "      <td>1</td>\n",
       "      <td>0</td>\n",
       "      <td>0</td>\n",
       "      <td>0</td>\n",
       "      <td>0</td>\n",
       "      <td>0</td>\n",
       "      <td>0</td>\n",
       "      <td>1</td>\n",
       "      <td>0</td>\n",
       "      <td>1</td>\n",
       "      <td>1</td>\n",
       "      <td>1</td>\n",
       "      <td>1</td>\n",
       "      <td>8</td>\n",
       "      <td>0</td>\n",
       "      <td>0</td>\n",
       "      <td>0</td>\n",
       "      <td>1</td>\n",
       "      <td>0</td>\n",
       "    </tr>\n",
       "  </tbody>\n",
       "</table>\n",
       "</div>"
      ],
      "text/plain": [
       "   monthly_charges  gender  is_senior  have_partner  have_dependents  \\\n",
       "1            56.95       0          0             0                0   \n",
       "2            53.85       0          0             0                0   \n",
       "3            42.30       0          0             0                0   \n",
       "4            70.70       1          0             0                0   \n",
       "5            99.65       1          0             0                0   \n",
       "\n",
       "   internet_service  have_online_security  have_online_backup  \\\n",
       "1                 1                     1                   0   \n",
       "2                 1                     1                   1   \n",
       "3                 1                     1                   0   \n",
       "4                 0                     0                   0   \n",
       "5                 0                     0                   0   \n",
       "\n",
       "   have_device_protection  have_tech_support  have_streaming_tv  \\\n",
       "1                       1                  0                  0   \n",
       "2                       0                  0                  0   \n",
       "3                       1                  1                  0   \n",
       "4                       0                  0                  0   \n",
       "5                       1                  0                  1   \n",
       "\n",
       "   have_streaming_movies  have_multiplelines  left_or_stay  count_months  \\\n",
       "1                      0                   0             0            34   \n",
       "2                      0                   0             1             2   \n",
       "3                      0                   0             0            45   \n",
       "4                      0                   0             1             2   \n",
       "5                      1                   1             1             8   \n",
       "\n",
       "   type_of_contract_One year  type_of_contract_Two year  \\\n",
       "1                          1                          0   \n",
       "2                          0                          0   \n",
       "3                          1                          0   \n",
       "4                          0                          0   \n",
       "5                          0                          0   \n",
       "\n",
       "   payment_method_Credit card (automatic)  payment_method_Electronic check  \\\n",
       "1                                       0                                0   \n",
       "2                                       0                                0   \n",
       "3                                       0                                0   \n",
       "4                                       0                                1   \n",
       "5                                       0                                1   \n",
       "\n",
       "   payment_method_Mailed check  \n",
       "1                            1  \n",
       "2                            1  \n",
       "3                            0  \n",
       "4                            0  \n",
       "5                            0  "
      ]
     },
     "execution_count": 154,
     "metadata": {},
     "output_type": "execute_result"
    }
   ],
   "source": [
    "initial_data = pd.get_dummies(initial_data, drop_first=True) #преобразовываем категориальные признаки\n",
    "initial_data.head() #проверяем результат"
   ]
  },
  {
   "cell_type": "markdown",
   "metadata": {},
   "source": [
    "Далее разделим имеющиеся данные на обучающую, валидационную и тестовые выборки. Т.к. в дальнейшем мы будем производить балансировку данных, скопируем целевой и остальные признаки для сохранения их первоначального вида."
   ]
  },
  {
   "cell_type": "code",
   "execution_count": 155,
   "metadata": {},
   "outputs": [
    {
     "name": "stdout",
     "output_type": "stream",
     "text": [
      "(4074, 19) (1358, 19) (4074, 19) (1358, 19) (1359, 19)\n",
      "(4074,) (1358,) (4074,) (1358,) (1359,)\n"
     ]
    }
   ],
   "source": [
    "#выделяем признаки и целевой признак\n",
    "features = initial_data.drop(['left_or_stay'], axis=1) \n",
    "target = initial_data['left_or_stay'] \n",
    "\n",
    "#создаем копии для дальнейшего преобразования\n",
    "features_ml = features.copy()\n",
    "target_ml = target.copy()\n",
    "\n",
    "#отделяем от общего объема данных тестовую выборку\n",
    "features_ml, features_test, target_ml, target_test = train_test_split(features_ml, target_ml, test_size=0.2, random_state=12345)\n",
    "#делим оставшиеся данные на обучающую и валидационную выборки (в т.ч. для балансировки)\n",
    "features_train_ml, features_valid_ml, target_train_ml, target_valid_ml = train_test_split(features_ml, target_ml, \n",
    "                                                                                          test_size=0.25, random_state=12345)\n",
    "features_train, features_valid, target_train, target_valid = train_test_split(features_ml, target_ml, test_size=0.25, \n",
    "                                                                              random_state=12345)\n",
    "\n",
    "#выводим на экран размеры получившихся выборок\n",
    "print(features_train.shape, features_valid.shape, features_train_ml.shape, features_valid_ml.shape,features_test.shape)\n",
    "print(target_train.shape, target_valid.shape, target_train_ml.shape, target_valid_ml.shape, target_test.shape)"
   ]
  },
  {
   "cell_type": "markdown",
   "metadata": {},
   "source": [
    "По мнению некоторых экспертов, перебалансировка данных не оказывает никакого влияния на значение метрики AUC-ROC, с которой мы будем работать в дальнейшем. Другие считают, что данная метрика в принципе не подходит для оценки качества модели в задаче с несбалансированными классами. Однако мы все же произведем перебалансировку методом downsample и сравним результаты на валидационной выборке."
   ]
  },
  {
   "cell_type": "code",
   "execution_count": 156,
   "metadata": {},
   "outputs": [
    {
     "data": {
      "image/png": "[encoded data removed]",
      "text/plain": [
       "<Figure size 432x288 with 1 Axes>"
      ]
     },
     "metadata": {},
     "output_type": "display_data"
    }
   ],
   "source": [
    "def downsample(features, target, fraction): #создаем функцию\n",
    "    features_zeros = features[target == 0]\n",
    "    features_ones = features[target == 1]\n",
    "    target_zeros = target[target == 0]\n",
    "    target_ones = target[target == 1]\n",
    "    features_downsampled = pd.concat([features_zeros.sample(frac=fraction, random_state=12345)] + [features_ones])\n",
    "    target_downsampled = pd.concat([target_zeros.sample(frac=fraction, random_state=12345)] + [target_ones])\n",
    "    features_downsampled, target_downsampled = shuffle(features_downsampled, target_downsampled, random_state=12345)\n",
    "    return features_downsampled, target_downsampled\n",
    "\n",
    "#применяем ее к обучающей выборке\n",
    "features_downsampled, target_downsampled = downsample(features_train_ml, target_train_ml, 0.377)\n",
    "\n",
    "#проверяем сбалансированность классов\n",
    "fig, ax = plt.subplots()\n",
    "ax.pie(target_downsampled.value_counts(), labels=['остались', 'ушли'], autopct='%.1f%%', shadow=True, \n",
    "       explode=[0, 0.2])\n",
    "ax.axis(\"equal\")\n",
    "plt.title('Дисбаланс классов')\n",
    "plt.show()"
   ]
  },
  {
   "cell_type": "markdown",
   "metadata": {},
   "source": [
    "С помощью уменьшения выборки было достигнуто равенство классов. \n",
    "\n",
    "На этом подготовку данных можно считать оконченной, далее перейдем к обучению моделей."
   ]
  },
  {
   "cell_type": "markdown",
   "metadata": {},
   "source": [
    "### Выводы:"
   ]
  },
  {
   "cell_type": "markdown",
   "metadata": {},
   "source": [
    "В ходе подготовки данных к машинному обучению были произведены:\n",
    "- преобразование категориальных признаков в численные;\n",
    "- выделение целевого признака;\n",
    "- разделение данных на три выборки;\n",
    "- перебалансировка классов целевого признака."
   ]
  },
  {
   "cell_type": "markdown",
   "metadata": {},
   "source": [
    "## Обучение моделей"
   ]
  },
  {
   "cell_type": "markdown",
   "metadata": {},
   "source": [
    "Перейдем к обучению моделей. В ходе данного проекта обучим модели случайного леса и LGBM. Также на этом этапе сравним метрики моделей, обученных на сбалансированных и исходных данных, полученные на валидационных выборках. \n",
    "\n",
    "Помимо ключевой метрики AUC-ROC для сравнения моделей и выбора искомого прототипа мы также подсчитаем accuracy и - т.к. она не подходит для несбалансированных данных - F1-меру. \n",
    "\n",
    "Начнем с модели случайного леса:"
   ]
  },
  {
   "cell_type": "code",
   "execution_count": 157,
   "metadata": {},
   "outputs": [
    {
     "name": "stdout",
     "output_type": "stream",
     "text": [
      "Лучшее количество деревьев: 125\n",
      "Лучшая глубина модели: 8\n",
      "Метрики случайного леса для сбалансированных данных: F1-мера 0.68 , AUC-ROC 0.86 , Accuracy 0.77\n"
     ]
    }
   ],
   "source": [
    "#обучаем случайный лес на сбалансированных данных\n",
    "best_forest_model_balanced = None\n",
    "best_forest_f1 = 0\n",
    "best_forest_estimators = 0\n",
    "best_forest_depth = 0\n",
    "best_auc_roc_forest = 0\n",
    "best_accuracy_forest = 0\n",
    "\n",
    "for est in range(100, 250, 25):\n",
    "    for depth in range(1,21):\n",
    "            model_forest = RandomForestClassifier(random_state=12345, n_estimators=est, max_depth=depth)\n",
    "            model_forest.fit(features_downsampled, target_downsampled)\n",
    "            predictions_valid = model_forest.predict(features_valid_ml)\n",
    "            f1_forest = f1_score(target_valid_ml, predictions_valid)\n",
    "            probabilities_valid = model_forest.predict_proba(features_valid_ml)\n",
    "            probabilities_one_valid = probabilities_valid[:, 1]\n",
    "            auc_roc_forest = roc_auc_score(target_valid_ml, probabilities_one_valid)\n",
    "            accuracy_forest = accuracy_score(target_valid_ml, predictions_valid)\n",
    "            if f1_forest > best_forest_f1:\n",
    "                best_forest_model_balanced = model_forest\n",
    "                best_forest_f1 = f1_forest\n",
    "                best_forest_estimators = est\n",
    "                best_forest_depth = depth\n",
    "                best_auc_roc_forest = auc_roc_forest\n",
    "                best_accuracy_forest = accuracy_forest\n",
    "                \n",
    "print('Лучшее количество деревьев:', best_forest_estimators)\n",
    "print('Лучшая глубина модели:', best_forest_depth)\n",
    "print('Метрики случайного леса для сбалансированных данных: F1-мера', best_forest_f1.round(2), ', AUC-ROC', best_auc_roc_forest.round(2), \n",
    "     ', Accuracy', best_accuracy_forest.round(2))"
   ]
  },
  {
   "cell_type": "code",
   "execution_count": 158,
   "metadata": {},
   "outputs": [
    {
     "name": "stdout",
     "output_type": "stream",
     "text": [
      "Лучшее количество деревьев: 125\n",
      "Лучшая глубина модели: 9\n",
      "Метрики случайного леса: F1-мера 0.64 , AUC-ROC 0.86\n"
     ]
    }
   ],
   "source": [
    "#обучаем случайный лес на несбалансированных данных\n",
    "best_forest_model = None\n",
    "best_forest_f1 = 0\n",
    "best_forest_estimators = 0\n",
    "best_forest_depth = 0\n",
    "best_auc_roc_forest = 0\n",
    "\n",
    "for est in range(100, 250, 25):\n",
    "    for depth in range(1,21):\n",
    "            model_forest = RandomForestClassifier(random_state=12345, n_estimators=est, max_depth=depth)\n",
    "            model_forest.fit(features_train, target_train)\n",
    "            predictions_valid = model_forest.predict(features_valid)\n",
    "            f1_forest = f1_score(target_valid, predictions_valid)\n",
    "            probabilities_valid = model_forest.predict_proba(features_valid)\n",
    "            probabilities_one_valid = probabilities_valid[:, 1]\n",
    "            auc_roc_forest = roc_auc_score(target_valid, probabilities_one_valid)\n",
    "            accuracy_forest = accuracy_score(target_valid, predictions_valid)\n",
    "            if f1_forest > best_forest_f1:\n",
    "                best_forest_model = model_forest\n",
    "                best_forest_f1 = f1_forest\n",
    "                best_forest_estimators = est\n",
    "                best_forest_depth = depth\n",
    "                best_auc_roc_forest = auc_roc_forest\n",
    "                \n",
    "print('Лучшее количество деревьев:', best_forest_estimators)\n",
    "print('Лучшая глубина модели:', best_forest_depth)\n",
    "print('Метрики случайного леса: F1-мера', best_forest_f1.round(2), ', AUC-ROC', best_auc_roc_forest.round(2))"
   ]
  },
  {
   "cell_type": "markdown",
   "metadata": {},
   "source": [
    "Значение метрики F1-меры в случае со случайным лесом оказалось выше у модели, обученной на сбалансированных данных. При этом метрика AUC-ROC показала одинаковые значения у обеих моделей. \n",
    "\n",
    "Посмотрим, что покажет LGB-модель:"
   ]
  },
  {
   "cell_type": "code",
   "execution_count": 159,
   "metadata": {
    "scrolled": true
   },
   "outputs": [
    {
     "name": "stdout",
     "output_type": "stream",
     "text": [
      "[LightGBM] [Warning] num_iterations is set=50, num_boost_round=50 will be ignored. Current value: num_iterations=50\n",
      "[1]\tvalid_0's binary_logloss: 0.654368\n",
      "[2]\tvalid_0's binary_logloss: 0.624056\n",
      "[3]\tvalid_0's binary_logloss: 0.600664\n",
      "[4]\tvalid_0's binary_logloss: 0.579248\n",
      "[5]\tvalid_0's binary_logloss: 0.562092\n",
      "[6]\tvalid_0's binary_logloss: 0.547159\n",
      "[7]\tvalid_0's binary_logloss: 0.533862\n",
      "[8]\tvalid_0's binary_logloss: 0.521976\n",
      "[9]\tvalid_0's binary_logloss: 0.51265\n",
      "[10]\tvalid_0's binary_logloss: 0.504482\n",
      "[11]\tvalid_0's binary_logloss: 0.497298\n",
      "[12]\tvalid_0's binary_logloss: 0.491183\n",
      "[13]\tvalid_0's binary_logloss: 0.486315\n",
      "[14]\tvalid_0's binary_logloss: 0.482679\n",
      "[15]\tvalid_0's binary_logloss: 0.479189\n",
      "[16]\tvalid_0's binary_logloss: 0.477124\n",
      "[17]\tvalid_0's binary_logloss: 0.474022\n",
      "[18]\tvalid_0's binary_logloss: 0.471908\n",
      "[19]\tvalid_0's binary_logloss: 0.469436\n",
      "[20]\tvalid_0's binary_logloss: 0.467673\n",
      "[21]\tvalid_0's binary_logloss: 0.466403\n",
      "[22]\tvalid_0's binary_logloss: 0.465311\n",
      "[23]\tvalid_0's binary_logloss: 0.465012\n",
      "[24]\tvalid_0's binary_logloss: 0.465055\n",
      "[25]\tvalid_0's binary_logloss: 0.464732\n",
      "[26]\tvalid_0's binary_logloss: 0.463981\n",
      "[27]\tvalid_0's binary_logloss: 0.463811\n",
      "[28]\tvalid_0's binary_logloss: 0.463475\n",
      "[29]\tvalid_0's binary_logloss: 0.462528\n",
      "[30]\tvalid_0's binary_logloss: 0.461773\n",
      "[31]\tvalid_0's binary_logloss: 0.462218\n",
      "[32]\tvalid_0's binary_logloss: 0.46218\n",
      "[33]\tvalid_0's binary_logloss: 0.462427\n",
      "[34]\tvalid_0's binary_logloss: 0.462632\n",
      "[35]\tvalid_0's binary_logloss: 0.463489\n",
      "[36]\tvalid_0's binary_logloss: 0.464136\n",
      "[37]\tvalid_0's binary_logloss: 0.464259\n",
      "[38]\tvalid_0's binary_logloss: 0.464342\n",
      "[39]\tvalid_0's binary_logloss: 0.464005\n",
      "[40]\tvalid_0's binary_logloss: 0.46437\n",
      "[41]\tvalid_0's binary_logloss: 0.46494\n",
      "[42]\tvalid_0's binary_logloss: 0.464943\n",
      "[43]\tvalid_0's binary_logloss: 0.465791\n",
      "[44]\tvalid_0's binary_logloss: 0.467411\n",
      "[45]\tvalid_0's binary_logloss: 0.467797\n",
      "[46]\tvalid_0's binary_logloss: 0.469023\n",
      "[47]\tvalid_0's binary_logloss: 0.470025\n",
      "[48]\tvalid_0's binary_logloss: 0.471039\n",
      "[49]\tvalid_0's binary_logloss: 0.471601\n",
      "[50]\tvalid_0's binary_logloss: 0.471649\n"
     ]
    }
   ],
   "source": [
    "#обучаем LGB на сбалансированных данных\n",
    "lgb_model_balanced = lgb.LGBMClassifier (objective = 'binary', num_boost_round = 50).fit(features_downsampled, \n",
    "                                         target_downsampled, eval_set = [(features_valid_ml, target_valid_ml)])\n",
    "probabilities_valid_lgb = lgb_model_balanced.predict_proba(features_valid_ml)\n",
    "probabilities_one_valid_lgb = probabilities_valid_lgb[:, 1]\n",
    "lgb_predictions = lgb_model_balanced.predict(features_valid_ml)\n",
    "f1_lgb = f1_score(target_valid_ml, lgb_predictions)\n",
    "auc_roc_lgb = roc_auc_score(target_valid_ml, probabilities_one_valid_lgb)\n",
    "accuracy_lgb = accuracy_score(target_valid_ml, lgb_predictions)"
   ]
  },
  {
   "cell_type": "code",
   "execution_count": 160,
   "metadata": {},
   "outputs": [
    {
     "name": "stdout",
     "output_type": "stream",
     "text": [
      "Метрики LGB для сбалансированных данных: F1-мера 0.66 , AUC-ROC 0.86 , Accuracy 0.76\n"
     ]
    }
   ],
   "source": [
    "print('Метрики LGB для сбалансированных данных: F1-мера', f1_lgb.round(2), ', AUC-ROC', auc_roc_lgb.round(2), ', Accuracy', \n",
    "      accuracy_lgb.round(2))"
   ]
  },
  {
   "cell_type": "code",
   "execution_count": 161,
   "metadata": {
    "scrolled": true
   },
   "outputs": [
    {
     "name": "stdout",
     "output_type": "stream",
     "text": [
      "[LightGBM] [Warning] num_iterations is set=50, num_boost_round=50 will be ignored. Current value: num_iterations=50\n",
      "[1]\tvalid_0's binary_logloss: 0.56699\n",
      "[2]\tvalid_0's binary_logloss: 0.539522\n",
      "[3]\tvalid_0's binary_logloss: 0.518065\n",
      "[4]\tvalid_0's binary_logloss: 0.500039\n",
      "[5]\tvalid_0's binary_logloss: 0.484708\n",
      "[6]\tvalid_0's binary_logloss: 0.472451\n",
      "[7]\tvalid_0's binary_logloss: 0.461747\n",
      "[8]\tvalid_0's binary_logloss: 0.453384\n",
      "[9]\tvalid_0's binary_logloss: 0.445601\n",
      "[10]\tvalid_0's binary_logloss: 0.439429\n",
      "[11]\tvalid_0's binary_logloss: 0.433117\n",
      "[12]\tvalid_0's binary_logloss: 0.428767\n",
      "[13]\tvalid_0's binary_logloss: 0.42523\n",
      "[14]\tvalid_0's binary_logloss: 0.421947\n",
      "[15]\tvalid_0's binary_logloss: 0.419308\n",
      "[16]\tvalid_0's binary_logloss: 0.417002\n",
      "[17]\tvalid_0's binary_logloss: 0.414809\n",
      "[18]\tvalid_0's binary_logloss: 0.412711\n",
      "[19]\tvalid_0's binary_logloss: 0.411188\n",
      "[20]\tvalid_0's binary_logloss: 0.41042\n",
      "[21]\tvalid_0's binary_logloss: 0.409518\n",
      "[22]\tvalid_0's binary_logloss: 0.407945\n",
      "[23]\tvalid_0's binary_logloss: 0.407283\n",
      "[24]\tvalid_0's binary_logloss: 0.406481\n",
      "[25]\tvalid_0's binary_logloss: 0.405775\n",
      "[26]\tvalid_0's binary_logloss: 0.40502\n",
      "[27]\tvalid_0's binary_logloss: 0.404719\n",
      "[28]\tvalid_0's binary_logloss: 0.404793\n",
      "[29]\tvalid_0's binary_logloss: 0.404655\n",
      "[30]\tvalid_0's binary_logloss: 0.405378\n",
      "[31]\tvalid_0's binary_logloss: 0.405809\n",
      "[32]\tvalid_0's binary_logloss: 0.405527\n",
      "[33]\tvalid_0's binary_logloss: 0.404656\n",
      "[34]\tvalid_0's binary_logloss: 0.40472\n",
      "[35]\tvalid_0's binary_logloss: 0.404463\n",
      "[36]\tvalid_0's binary_logloss: 0.403724\n",
      "[37]\tvalid_0's binary_logloss: 0.404161\n",
      "[38]\tvalid_0's binary_logloss: 0.404311\n",
      "[39]\tvalid_0's binary_logloss: 0.404604\n",
      "[40]\tvalid_0's binary_logloss: 0.405117\n",
      "[41]\tvalid_0's binary_logloss: 0.405506\n",
      "[42]\tvalid_0's binary_logloss: 0.405785\n",
      "[43]\tvalid_0's binary_logloss: 0.405976\n",
      "[44]\tvalid_0's binary_logloss: 0.405477\n",
      "[45]\tvalid_0's binary_logloss: 0.405795\n",
      "[46]\tvalid_0's binary_logloss: 0.406363\n",
      "[47]\tvalid_0's binary_logloss: 0.406586\n",
      "[48]\tvalid_0's binary_logloss: 0.407245\n",
      "[49]\tvalid_0's binary_logloss: 0.408103\n",
      "[50]\tvalid_0's binary_logloss: 0.408685\n"
     ]
    }
   ],
   "source": [
    "#обучаем LGB на несбалансированных данных\n",
    "lgb_model = lgb.LGBMClassifier (objective = 'binary', num_boost_round = 50).fit(features_train, \n",
    "                                         target_train, eval_set = [(features_valid, target_valid)])\n",
    "probabilities_valid_lgb = lgb_model.predict_proba(features_valid)\n",
    "probabilities_one_valid_lgb = probabilities_valid_lgb[:, 1]\n",
    "lgb_predictions = lgb_model.predict(features_valid)\n",
    "f1_lgb = f1_score(target_valid, lgb_predictions)\n",
    "auc_roc_lgb = roc_auc_score(target_valid, probabilities_one_valid_lgb)"
   ]
  },
  {
   "cell_type": "code",
   "execution_count": 162,
   "metadata": {},
   "outputs": [
    {
     "name": "stdout",
     "output_type": "stream",
     "text": [
      "Метрики LGB для несбалансированных данных: F1-мера 0.63 , AUC-ROC 0.86\n"
     ]
    }
   ],
   "source": [
    "print('Метрики LGB для несбалансированных данных: F1-мера', f1_lgb.round(2), ', AUC-ROC', auc_roc_lgb.round(2))"
   ]
  },
  {
   "cell_type": "markdown",
   "metadata": {},
   "source": [
    "Модель LGB, обученная на сбалансированных данных, также показала лучший результат F1-меры и то же значение метрики AUC-ROC. При этом в целом у данной модели метрики чуть ниже, чем у случайного леса (в т.ч. и точность сбалансированной модели случайного леса выше точности сбалансированнной модели LGB)."
   ]
  },
  {
   "cell_type": "markdown",
   "metadata": {},
   "source": [
    "### Выводы:"
   ]
  },
  {
   "cell_type": "markdown",
   "metadata": {},
   "source": [
    "На данном этапе мы обсучили модели случайного леса и LGB на сбалансированных и несбалансированных данных и сравнили их метрики, полученные на валидационной выборке. \n",
    "\n",
    "Более высокие результаты показали сбалансированные модели, поэтому в дальнейшем тестировать мы будем именно их. Лидером стала модель случайного леса. \n",
    "\n",
    "На следующем этапе протестируем обе модели на тестовой выборке."
   ]
  },
  {
   "cell_type": "markdown",
   "metadata": {},
   "source": [
    "## Тестирование моделей"
   ]
  },
  {
   "cell_type": "markdown",
   "metadata": {},
   "source": [
    "Протестируем получившиеся и сохраненные лучшие модели на тестовой выборке. Проверять будем в том же порядке, в каком модели обучались. "
   ]
  },
  {
   "cell_type": "code",
   "execution_count": 163,
   "metadata": {},
   "outputs": [
    {
     "name": "stdout",
     "output_type": "stream",
     "text": [
      "Метрики случайного леса для тестовых данных: F1-мера 0.65 , AUC-ROC 0.87 , Accuracy 0.77\n",
      "Метрики LGB для тестовых данных: F1-мера 0.63 , AUC-ROC 0.87 , Accuracy 0.77\n"
     ]
    }
   ],
   "source": [
    "#тестируем случайный лес\n",
    "predictions_test = best_forest_model_balanced.predict(features_test)\n",
    "f1_forest_test = f1_score(target_test, predictions_test)\n",
    "predict_proba_test = best_forest_model_balanced.predict_proba(features_test)\n",
    "probabilities_one_test = predict_proba_test[:, 1]\n",
    "auc_roc_forest = roc_auc_score(target_test, probabilities_one_test)\n",
    "accuracy_forest = accuracy_score(target_test, predictions_test)\n",
    "\n",
    "#тестируем LGB\n",
    "predict_proba_test_lgb = lgb_model_balanced.predict_proba(features_test)\n",
    "probabilities_one_valid_lgb_test = predict_proba_test_lgb[:, 1]\n",
    "lgb_predictions_test = lgb_model_balanced.predict(features_test)\n",
    "f1_lgb_test = f1_score(target_test, lgb_predictions_test)\n",
    "auc_roc_lgb_test = roc_auc_score(target_test, probabilities_one_valid_lgb_test)\n",
    "accuracy_lgb_test = accuracy_score(target_test, lgb_predictions_test)\n",
    "\n",
    "#выводим результаты на экран для сравнения\n",
    "print('Метрики случайного леса для тестовых данных: F1-мера', f1_forest_test.round(2), ', AUC-ROC', auc_roc_forest.round(2),\n",
    "      ', Accuracy', accuracy_forest.round(2))\n",
    "print('Метрики LGB для тестовых данных: F1-мера', f1_lgb_test.round(2), ', AUC-ROC', auc_roc_lgb_test.round(2), \n",
    "      ', Accuracy', accuracy_lgb_test.round(2))"
   ]
  },
  {
   "cell_type": "markdown",
   "metadata": {},
   "source": [
    "При тестировании модели показали максимально близкие результаты, различия есть лишь в значениях F1-меры, однако и они крайне малы. Но, т.к. нам все же необходимо выбрать одну модель, которая будет предложена заказчику в качестве прототипа, то эти различия сыграют ключевую роль.\n",
    "\n",
    "F1-мера выше у модели случайного леса, следовательно, именно она станет искомой моделью.\n",
    "\n",
    "Напоследок изучим, какие признаки играли определяющую роли и оказывали наибольшее влияние на целевой признак. Анализ проведем на основе выбранной модели."
   ]
  },
  {
   "cell_type": "code",
   "execution_count": 164,
   "metadata": {},
   "outputs": [
    {
     "data": {
      "image/png": "[encoded data removed]",
      "text/plain": [
       "<Figure size 432x288 with 1 Axes>"
      ]
     },
     "metadata": {
      "needs_background": "light"
     },
     "output_type": "display_data"
    }
   ],
   "source": [
    "feature_importance = best_forest_model_balanced.feature_importances_\n",
    "feature_imp = pd.DataFrame(sorted(zip(feature_importance, features.columns)), columns=['Value','Feature'])\n",
    "sns.barplot(x=\"Value\", y=\"Feature\", data=feature_imp.sort_values(by=\"Value\", ascending=False))\n",
    "plt.title('Feature importance')\n",
    "plt.tight_layout()\n",
    "plt.show();"
   ]
  },
  {
   "cell_type": "markdown",
   "metadata": {},
   "source": [
    "На графике четко выделены три признака, оказывающих наибольшее влияние на целевой признак: длительность отношений с клиентом в месяцах, двухгодичный тип контракта и ежемесячные траты клиента. При этом влияние первого из указанных признаков почти в два раза превышает влияние второго и третьего, которые, в свою очередь, показали одинаковый результат. \n",
    "\n",
    "Остальные исследованные признаки влияют на целевой признак гораздо слабее."
   ]
  },
  {
   "cell_type": "markdown",
   "metadata": {},
   "source": [
    "### Выводы:"
   ]
  },
  {
   "cell_type": "markdown",
   "metadata": {},
   "source": [
    "На тестовой выборке модели показали практически идентичные результаты, однако значение F1-меры оказалось выше у модели случайного леса. Кроме того удалось достичь достаточно высокого значения метрики AUC-ROC: 0.87. \n",
    "\n",
    "На этом исследование можно считать завершенным, переходим к итоговым выводам."
   ]
  },
  {
   "cell_type": "markdown",
   "metadata": {},
   "source": [
    "## Итоговые выводы"
   ]
  },
  {
   "cell_type": "markdown",
   "metadata": {},
   "source": [
    "В ходе данного проекта были исследованы две модели машинного обучения: случайный лес и LGB. Необходимо было построить  прототип модели машинного обучения для предсказывания ухода клиентов компании с предельно высоким значением метрики AUC-ROC. Результаты исследования позволили прийти к следующим выводам:\n",
    "- искомой моделью стала модель случайного леса, обученная на сбалансированных данных, с количеством деревьев - 125 и глубиной модели равной 8. Значение AUC-ROC на валидационной выборке составило 0.86, на тестовой - 0.87;\n",
    "- на работу обеих моделей баланс классов целевого признака, полученный путем уменьшения выборки обучающих данных, оказал слабое отрицательное влияние;\n",
    "- наибольшее влияние на целевой признак в выбранной модели оказал признак длительности отношений компании с клиентом, выраженный в месяцах;\n",
    "- чаще из компании уходят клиенты с помесячной оплатой;\n",
    "- большинство клиентов уходит после 1-2 месяцев, и чем более длительные отношения с клиентом, тем ниже вероятность его ухода из компании;\n",
    "- ушедшие клиенты, в основном, ежемесячно тратят больше тех, кто остается."
   ]
  }
 ],
 "metadata": {
  "ExecuteTimeLog": [
   {
    "duration": 1134,
    "start_time": "2022-06-30T08:32:16.067Z"
   },
   {
    "duration": 165,
    "start_time": "2022-06-30T08:32:17.202Z"
   },
   {
    "duration": 3,
    "start_time": "2022-06-30T08:32:17.368Z"
   },
   {
    "duration": 45,
    "start_time": "2022-06-30T08:32:17.373Z"
   },
   {
    "duration": 25,
    "start_time": "2022-06-30T08:32:17.419Z"
   },
   {
    "duration": 44,
    "start_time": "2022-06-30T08:32:17.445Z"
   },
   {
    "duration": 25,
    "start_time": "2022-06-30T08:32:17.490Z"
   },
   {
    "duration": 61,
    "start_time": "2022-06-30T08:32:17.517Z"
   },
   {
    "duration": 7,
    "start_time": "2022-06-30T08:32:17.579Z"
   },
   {
    "duration": 8,
    "start_time": "2022-06-30T08:32:17.588Z"
   },
   {
    "duration": 19,
    "start_time": "2022-06-30T08:32:17.597Z"
   },
   {
    "duration": 3,
    "start_time": "2022-06-30T08:48:11.577Z"
   },
   {
    "duration": 64,
    "start_time": "2022-06-30T08:48:11.582Z"
   },
   {
    "duration": 3,
    "start_time": "2022-06-30T08:48:11.647Z"
   },
   {
    "duration": 35,
    "start_time": "2022-06-30T08:48:11.652Z"
   },
   {
    "duration": 24,
    "start_time": "2022-06-30T08:48:11.689Z"
   },
   {
    "duration": 61,
    "start_time": "2022-06-30T08:48:11.716Z"
   },
   {
    "duration": 24,
    "start_time": "2022-06-30T08:48:11.779Z"
   },
   {
    "duration": 58,
    "start_time": "2022-06-30T08:48:11.804Z"
   },
   {
    "duration": 9,
    "start_time": "2022-06-30T08:48:11.864Z"
   },
   {
    "duration": 14,
    "start_time": "2022-06-30T08:48:11.875Z"
   },
   {
    "duration": 19,
    "start_time": "2022-06-30T08:48:11.891Z"
   },
   {
    "duration": 53,
    "start_time": "2022-06-30T08:48:11.911Z"
   },
   {
    "duration": 98,
    "start_time": "2022-06-30T08:48:11.966Z"
   },
   {
    "duration": 188,
    "start_time": "2022-06-30T08:48:12.066Z"
   },
   {
    "duration": 7,
    "start_time": "2022-06-30T08:48:12.255Z"
   },
   {
    "duration": 8,
    "start_time": "2022-06-30T08:48:12.263Z"
   },
   {
    "duration": 6,
    "start_time": "2022-06-30T08:48:12.272Z"
   },
   {
    "duration": 496,
    "start_time": "2022-06-30T08:48:12.279Z"
   },
   {
    "duration": 160,
    "start_time": "2022-06-30T08:48:12.776Z"
   },
   {
    "duration": 177,
    "start_time": "2022-06-30T08:48:12.938Z"
   },
   {
    "duration": 249,
    "start_time": "2022-06-30T08:48:13.117Z"
   },
   {
    "duration": 71,
    "start_time": "2022-06-30T08:48:13.368Z"
   },
   {
    "duration": 4,
    "start_time": "2022-06-30T11:37:22.921Z"
   },
   {
    "duration": 101,
    "start_time": "2022-06-30T11:37:22.927Z"
   },
   {
    "duration": 4,
    "start_time": "2022-06-30T11:37:23.030Z"
   },
   {
    "duration": 50,
    "start_time": "2022-06-30T11:37:23.036Z"
   },
   {
    "duration": 63,
    "start_time": "2022-06-30T11:37:23.088Z"
   },
   {
    "duration": 65,
    "start_time": "2022-06-30T11:37:23.153Z"
   },
   {
    "duration": 52,
    "start_time": "2022-06-30T11:37:23.219Z"
   },
   {
    "duration": 37,
    "start_time": "2022-06-30T11:37:23.273Z"
   },
   {
    "duration": 39,
    "start_time": "2022-06-30T11:37:23.312Z"
   },
   {
    "duration": 14,
    "start_time": "2022-06-30T11:37:23.353Z"
   },
   {
    "duration": 8,
    "start_time": "2022-06-30T11:37:26.398Z"
   },
   {
    "duration": 19,
    "start_time": "2022-06-30T11:37:45.058Z"
   },
   {
    "duration": 5,
    "start_time": "2022-06-30T11:37:56.956Z"
   },
   {
    "duration": 82,
    "start_time": "2022-06-30T11:40:20.988Z"
   },
   {
    "duration": 42,
    "start_time": "2022-06-30T11:41:03.657Z"
   },
   {
    "duration": 3,
    "start_time": "2022-06-30T11:51:46.008Z"
   },
   {
    "duration": 73,
    "start_time": "2022-06-30T11:51:46.014Z"
   },
   {
    "duration": 4,
    "start_time": "2022-06-30T11:51:46.088Z"
   },
   {
    "duration": 38,
    "start_time": "2022-06-30T11:51:46.094Z"
   },
   {
    "duration": 41,
    "start_time": "2022-06-30T11:51:46.133Z"
   },
   {
    "duration": 46,
    "start_time": "2022-06-30T11:51:46.176Z"
   },
   {
    "duration": 31,
    "start_time": "2022-06-30T11:51:46.250Z"
   },
   {
    "duration": 38,
    "start_time": "2022-06-30T11:51:46.282Z"
   },
   {
    "duration": 28,
    "start_time": "2022-06-30T11:51:46.323Z"
   },
   {
    "duration": 9,
    "start_time": "2022-06-30T11:51:46.352Z"
   },
   {
    "duration": 22,
    "start_time": "2022-06-30T11:51:46.362Z"
   },
   {
    "duration": 45,
    "start_time": "2022-06-30T11:51:46.385Z"
   },
   {
    "duration": 111,
    "start_time": "2022-06-30T11:51:46.450Z"
   },
   {
    "duration": 193,
    "start_time": "2022-06-30T11:51:46.563Z"
   },
   {
    "duration": 8,
    "start_time": "2022-06-30T11:51:46.758Z"
   },
   {
    "duration": 11,
    "start_time": "2022-06-30T11:51:46.767Z"
   },
   {
    "duration": 7,
    "start_time": "2022-06-30T11:51:46.780Z"
   },
   {
    "duration": 595,
    "start_time": "2022-06-30T11:51:46.788Z"
   },
   {
    "duration": 185,
    "start_time": "2022-06-30T11:51:47.385Z"
   },
   {
    "duration": 188,
    "start_time": "2022-06-30T11:51:47.572Z"
   },
   {
    "duration": 268,
    "start_time": "2022-06-30T11:51:47.761Z"
   },
   {
    "duration": 88,
    "start_time": "2022-06-30T11:51:48.030Z"
   },
   {
    "duration": 100,
    "start_time": "2022-06-30T11:51:48.120Z"
   },
   {
    "duration": 236,
    "start_time": "2022-06-30T11:52:28.879Z"
   },
   {
    "duration": 13,
    "start_time": "2022-06-30T11:52:45.047Z"
   },
   {
    "duration": 27,
    "start_time": "2022-06-30T11:53:06.882Z"
   },
   {
    "duration": 83,
    "start_time": "2022-06-30T11:56:58.704Z"
   },
   {
    "duration": 16,
    "start_time": "2022-06-30T11:58:12.704Z"
   },
   {
    "duration": 174,
    "start_time": "2022-06-30T11:58:30.687Z"
   },
   {
    "duration": 28,
    "start_time": "2022-06-30T11:59:27.208Z"
   },
   {
    "duration": 79,
    "start_time": "2022-06-30T11:59:52.482Z"
   },
   {
    "duration": 80,
    "start_time": "2022-06-30T12:01:03.996Z"
   },
   {
    "duration": 78,
    "start_time": "2022-06-30T12:01:15.381Z"
   },
   {
    "duration": 79,
    "start_time": "2022-06-30T12:01:20.588Z"
   },
   {
    "duration": 96,
    "start_time": "2022-06-30T12:01:26.879Z"
   },
   {
    "duration": 77,
    "start_time": "2022-06-30T12:01:32.774Z"
   },
   {
    "duration": 87,
    "start_time": "2022-06-30T12:01:37.451Z"
   },
   {
    "duration": 79,
    "start_time": "2022-06-30T12:01:42.649Z"
   },
   {
    "duration": 87,
    "start_time": "2022-06-30T12:02:22.456Z"
   },
   {
    "duration": 8,
    "start_time": "2022-06-30T12:48:34.127Z"
   },
   {
    "duration": 74,
    "start_time": "2022-06-30T12:48:34.137Z"
   },
   {
    "duration": 3,
    "start_time": "2022-06-30T12:48:34.212Z"
   },
   {
    "duration": 32,
    "start_time": "2022-06-30T12:48:34.217Z"
   },
   {
    "duration": 25,
    "start_time": "2022-06-30T12:48:34.251Z"
   },
   {
    "duration": 40,
    "start_time": "2022-06-30T12:48:34.277Z"
   },
   {
    "duration": 50,
    "start_time": "2022-06-30T12:48:34.319Z"
   },
   {
    "duration": 49,
    "start_time": "2022-06-30T12:48:34.370Z"
   },
   {
    "duration": 33,
    "start_time": "2022-06-30T12:48:34.421Z"
   },
   {
    "duration": 10,
    "start_time": "2022-06-30T12:48:34.456Z"
   },
   {
    "duration": 26,
    "start_time": "2022-06-30T12:48:34.468Z"
   },
   {
    "duration": 69,
    "start_time": "2022-06-30T12:48:34.496Z"
   },
   {
    "duration": 107,
    "start_time": "2022-06-30T12:48:34.567Z"
   },
   {
    "duration": 191,
    "start_time": "2022-06-30T12:48:34.676Z"
   },
   {
    "duration": 6,
    "start_time": "2022-06-30T12:48:34.868Z"
   },
   {
    "duration": 8,
    "start_time": "2022-06-30T12:48:34.876Z"
   },
   {
    "duration": 5,
    "start_time": "2022-06-30T12:48:34.885Z"
   },
   {
    "duration": 531,
    "start_time": "2022-06-30T12:48:34.891Z"
   },
   {
    "duration": 173,
    "start_time": "2022-06-30T12:48:35.424Z"
   },
   {
    "duration": 282,
    "start_time": "2022-06-30T12:48:35.598Z"
   },
   {
    "duration": 282,
    "start_time": "2022-06-30T12:48:35.882Z"
   },
   {
    "duration": 91,
    "start_time": "2022-06-30T12:48:36.165Z"
   },
   {
    "duration": 381,
    "start_time": "2022-06-30T12:48:36.257Z"
   },
   {
    "duration": 15,
    "start_time": "2022-06-30T12:48:39.714Z"
   },
   {
    "duration": 775,
    "start_time": "2022-06-30T12:52:05.691Z"
   },
   {
    "duration": 650,
    "start_time": "2022-06-30T12:52:30.017Z"
   },
   {
    "duration": 752,
    "start_time": "2022-06-30T12:54:40.617Z"
   },
   {
    "duration": 666,
    "start_time": "2022-06-30T12:54:55.903Z"
   },
   {
    "duration": 847,
    "start_time": "2022-06-30T12:55:05.421Z"
   },
   {
    "duration": 66,
    "start_time": "2022-06-30T12:57:04.443Z"
   },
   {
    "duration": 3,
    "start_time": "2022-06-30T12:57:11.788Z"
   },
   {
    "duration": 167633,
    "start_time": "2022-06-30T12:57:18.485Z"
   },
   {
    "duration": 89,
    "start_time": "2022-06-30T13:07:34.235Z"
   },
   {
    "duration": 860,
    "start_time": "2022-06-30T13:16:35.510Z"
   },
   {
    "duration": 5,
    "start_time": "2022-06-30T13:16:46.496Z"
   },
   {
    "duration": 84,
    "start_time": "2022-06-30T13:16:46.503Z"
   },
   {
    "duration": 4,
    "start_time": "2022-06-30T13:16:46.589Z"
   },
   {
    "duration": 58,
    "start_time": "2022-06-30T13:16:46.595Z"
   },
   {
    "duration": 39,
    "start_time": "2022-06-30T13:16:46.655Z"
   },
   {
    "duration": 82,
    "start_time": "2022-06-30T13:16:46.696Z"
   },
   {
    "duration": 28,
    "start_time": "2022-06-30T13:16:46.779Z"
   },
   {
    "duration": 66,
    "start_time": "2022-06-30T13:16:46.809Z"
   },
   {
    "duration": 8,
    "start_time": "2022-06-30T13:16:46.878Z"
   },
   {
    "duration": 18,
    "start_time": "2022-06-30T13:16:46.888Z"
   },
   {
    "duration": 20,
    "start_time": "2022-06-30T13:16:46.908Z"
   },
   {
    "duration": 34,
    "start_time": "2022-06-30T13:16:46.930Z"
   },
   {
    "duration": 0,
    "start_time": "2022-06-30T13:16:46.966Z"
   },
   {
    "duration": 0,
    "start_time": "2022-06-30T13:16:46.967Z"
   },
   {
    "duration": 0,
    "start_time": "2022-06-30T13:16:46.968Z"
   },
   {
    "duration": 0,
    "start_time": "2022-06-30T13:16:46.969Z"
   },
   {
    "duration": 0,
    "start_time": "2022-06-30T13:16:46.970Z"
   },
   {
    "duration": 0,
    "start_time": "2022-06-30T13:16:46.971Z"
   },
   {
    "duration": 0,
    "start_time": "2022-06-30T13:16:46.972Z"
   },
   {
    "duration": 0,
    "start_time": "2022-06-30T13:16:46.973Z"
   },
   {
    "duration": 0,
    "start_time": "2022-06-30T13:16:46.974Z"
   },
   {
    "duration": 0,
    "start_time": "2022-06-30T13:16:46.976Z"
   },
   {
    "duration": 0,
    "start_time": "2022-06-30T13:16:46.977Z"
   },
   {
    "duration": 0,
    "start_time": "2022-06-30T13:16:46.978Z"
   },
   {
    "duration": 0,
    "start_time": "2022-06-30T13:16:46.979Z"
   },
   {
    "duration": 0,
    "start_time": "2022-06-30T13:16:46.980Z"
   },
   {
    "duration": 0,
    "start_time": "2022-06-30T13:16:46.981Z"
   },
   {
    "duration": 44,
    "start_time": "2022-06-30T13:18:22.270Z"
   },
   {
    "duration": 4,
    "start_time": "2022-06-30T13:18:34.026Z"
   },
   {
    "duration": 72,
    "start_time": "2022-06-30T13:18:34.032Z"
   },
   {
    "duration": 3,
    "start_time": "2022-06-30T13:18:34.106Z"
   },
   {
    "duration": 36,
    "start_time": "2022-06-30T13:18:34.111Z"
   },
   {
    "duration": 29,
    "start_time": "2022-06-30T13:18:34.151Z"
   },
   {
    "duration": 73,
    "start_time": "2022-06-30T13:18:34.181Z"
   },
   {
    "duration": 28,
    "start_time": "2022-06-30T13:18:34.256Z"
   },
   {
    "duration": 36,
    "start_time": "2022-06-30T13:18:34.285Z"
   },
   {
    "duration": 34,
    "start_time": "2022-06-30T13:18:34.322Z"
   },
   {
    "duration": 12,
    "start_time": "2022-06-30T13:18:34.357Z"
   },
   {
    "duration": 26,
    "start_time": "2022-06-30T13:18:34.370Z"
   },
   {
    "duration": 75,
    "start_time": "2022-06-30T13:18:34.399Z"
   },
   {
    "duration": 127,
    "start_time": "2022-06-30T13:18:34.477Z"
   },
   {
    "duration": 177,
    "start_time": "2022-06-30T13:18:35.541Z"
   },
   {
    "duration": 7,
    "start_time": "2022-06-30T13:18:35.720Z"
   },
   {
    "duration": 9,
    "start_time": "2022-06-30T13:18:35.728Z"
   },
   {
    "duration": 6,
    "start_time": "2022-06-30T13:18:35.750Z"
   },
   {
    "duration": 532,
    "start_time": "2022-06-30T13:18:35.758Z"
   },
   {
    "duration": 183,
    "start_time": "2022-06-30T13:18:36.291Z"
   },
   {
    "duration": 192,
    "start_time": "2022-06-30T13:18:36.475Z"
   },
   {
    "duration": 270,
    "start_time": "2022-06-30T13:18:36.668Z"
   },
   {
    "duration": 88,
    "start_time": "2022-06-30T13:18:36.939Z"
   },
   {
    "duration": 30,
    "start_time": "2022-06-30T13:18:37.028Z"
   },
   {
    "duration": 587,
    "start_time": "2022-06-30T13:18:37.059Z"
   },
   {
    "duration": 14,
    "start_time": "2022-06-30T13:18:37.650Z"
   },
   {
    "duration": 0,
    "start_time": "2022-06-30T13:18:37.665Z"
   },
   {
    "duration": 4,
    "start_time": "2022-06-30T13:22:18.453Z"
   },
   {
    "duration": 18,
    "start_time": "2022-06-30T13:22:32.234Z"
   },
   {
    "duration": 5,
    "start_time": "2022-06-30T13:23:25.498Z"
   },
   {
    "duration": 5,
    "start_time": "2022-06-30T13:24:38.335Z"
   },
   {
    "duration": 562,
    "start_time": "2022-06-30T13:24:42.755Z"
   },
   {
    "duration": 14,
    "start_time": "2022-06-30T13:24:46.874Z"
   },
   {
    "duration": 13,
    "start_time": "2022-06-30T13:31:00.115Z"
   },
   {
    "duration": 16,
    "start_time": "2022-06-30T13:33:33.189Z"
   },
   {
    "duration": 11,
    "start_time": "2022-06-30T13:40:39.695Z"
   },
   {
    "duration": 81,
    "start_time": "2022-06-30T13:40:48.535Z"
   },
   {
    "duration": 27,
    "start_time": "2022-06-30T15:18:13.440Z"
   },
   {
    "duration": 75626,
    "start_time": "2022-06-30T15:25:18.454Z"
   },
   {
    "duration": 97175,
    "start_time": "2022-06-30T15:28:21.517Z"
   },
   {
    "duration": 238605,
    "start_time": "2022-06-30T15:32:39.654Z"
   },
   {
    "duration": 98117,
    "start_time": "2022-06-30T15:36:38.263Z"
   },
   {
    "duration": 232216,
    "start_time": "2022-06-30T15:58:11.254Z"
   },
   {
    "duration": 306148,
    "start_time": "2022-06-30T16:02:03.472Z"
   },
   {
    "duration": 501988,
    "start_time": "2022-06-30T16:17:20.508Z"
   },
   {
    "duration": 54353,
    "start_time": "2022-06-30T16:25:42.499Z"
   },
   {
    "duration": 4,
    "start_time": "2022-06-30T16:27:01.301Z"
   },
   {
    "duration": 96,
    "start_time": "2022-06-30T16:27:01.307Z"
   },
   {
    "duration": 3,
    "start_time": "2022-06-30T16:27:01.405Z"
   },
   {
    "duration": 58,
    "start_time": "2022-06-30T16:27:01.410Z"
   },
   {
    "duration": 31,
    "start_time": "2022-06-30T16:27:01.470Z"
   },
   {
    "duration": 75,
    "start_time": "2022-06-30T16:27:01.502Z"
   },
   {
    "duration": 26,
    "start_time": "2022-06-30T16:27:01.578Z"
   },
   {
    "duration": 65,
    "start_time": "2022-06-30T16:27:01.606Z"
   },
   {
    "duration": 7,
    "start_time": "2022-06-30T16:27:01.674Z"
   },
   {
    "duration": 11,
    "start_time": "2022-06-30T16:27:01.683Z"
   },
   {
    "duration": 19,
    "start_time": "2022-06-30T16:27:01.695Z"
   },
   {
    "duration": 67,
    "start_time": "2022-06-30T16:27:01.715Z"
   },
   {
    "duration": 106,
    "start_time": "2022-06-30T16:27:01.783Z"
   },
   {
    "duration": 190,
    "start_time": "2022-06-30T16:27:01.891Z"
   },
   {
    "duration": 6,
    "start_time": "2022-06-30T16:27:02.083Z"
   },
   {
    "duration": 20,
    "start_time": "2022-06-30T16:27:02.090Z"
   },
   {
    "duration": 42,
    "start_time": "2022-06-30T16:27:02.112Z"
   },
   {
    "duration": 557,
    "start_time": "2022-06-30T16:27:02.156Z"
   },
   {
    "duration": 179,
    "start_time": "2022-06-30T16:27:02.716Z"
   },
   {
    "duration": 290,
    "start_time": "2022-06-30T16:27:02.896Z"
   },
   {
    "duration": 274,
    "start_time": "2022-06-30T16:27:03.187Z"
   },
   {
    "duration": 89,
    "start_time": "2022-06-30T16:27:03.463Z"
   },
   {
    "duration": 18,
    "start_time": "2022-06-30T16:27:03.554Z"
   },
   {
    "duration": 566,
    "start_time": "2022-06-30T16:27:07.306Z"
   },
   {
    "duration": 4,
    "start_time": "2022-06-30T16:28:40.905Z"
   },
   {
    "duration": 86,
    "start_time": "2022-06-30T16:28:40.911Z"
   },
   {
    "duration": 3,
    "start_time": "2022-06-30T16:28:40.999Z"
   },
   {
    "duration": 35,
    "start_time": "2022-06-30T16:28:41.004Z"
   },
   {
    "duration": 37,
    "start_time": "2022-06-30T16:28:41.041Z"
   },
   {
    "duration": 81,
    "start_time": "2022-06-30T16:28:41.080Z"
   },
   {
    "duration": 37,
    "start_time": "2022-06-30T16:28:41.163Z"
   },
   {
    "duration": 65,
    "start_time": "2022-06-30T16:28:41.201Z"
   },
   {
    "duration": 7,
    "start_time": "2022-06-30T16:28:41.267Z"
   },
   {
    "duration": 15,
    "start_time": "2022-06-30T16:28:41.276Z"
   },
   {
    "duration": 20,
    "start_time": "2022-06-30T16:28:41.295Z"
   },
   {
    "duration": 73,
    "start_time": "2022-06-30T16:28:41.317Z"
   },
   {
    "duration": 114,
    "start_time": "2022-06-30T16:28:41.392Z"
   },
   {
    "duration": 225,
    "start_time": "2022-06-30T16:28:41.507Z"
   },
   {
    "duration": 8,
    "start_time": "2022-06-30T16:28:41.733Z"
   },
   {
    "duration": 11,
    "start_time": "2022-06-30T16:28:41.751Z"
   },
   {
    "duration": 18,
    "start_time": "2022-06-30T16:28:41.764Z"
   },
   {
    "duration": 550,
    "start_time": "2022-06-30T16:28:41.784Z"
   },
   {
    "duration": 176,
    "start_time": "2022-06-30T16:28:42.335Z"
   },
   {
    "duration": 198,
    "start_time": "2022-06-30T16:28:42.513Z"
   },
   {
    "duration": 330,
    "start_time": "2022-06-30T16:28:42.712Z"
   },
   {
    "duration": 128,
    "start_time": "2022-06-30T16:28:43.044Z"
   },
   {
    "duration": 24,
    "start_time": "2022-06-30T16:28:43.174Z"
   },
   {
    "duration": 623,
    "start_time": "2022-06-30T16:28:43.199Z"
   },
   {
    "duration": 16,
    "start_time": "2022-06-30T16:28:43.823Z"
   },
   {
    "duration": 0,
    "start_time": "2022-06-30T16:28:43.840Z"
   },
   {
    "duration": 0,
    "start_time": "2022-06-30T16:28:43.851Z"
   },
   {
    "duration": 0,
    "start_time": "2022-06-30T16:28:43.853Z"
   },
   {
    "duration": 0,
    "start_time": "2022-06-30T16:28:43.854Z"
   },
   {
    "duration": 13,
    "start_time": "2022-06-30T16:32:44.142Z"
   },
   {
    "duration": 84,
    "start_time": "2022-06-30T16:32:47.338Z"
   },
   {
    "duration": 469815,
    "start_time": "2022-06-30T16:32:50.543Z"
   },
   {
    "duration": 589779,
    "start_time": "2022-06-30T16:40:40.360Z"
   },
   {
    "duration": 4,
    "start_time": "2022-06-30T16:59:50.336Z"
   },
   {
    "duration": 70,
    "start_time": "2022-06-30T16:59:50.342Z"
   },
   {
    "duration": 3,
    "start_time": "2022-06-30T16:59:50.413Z"
   },
   {
    "duration": 43,
    "start_time": "2022-06-30T16:59:50.418Z"
   },
   {
    "duration": 30,
    "start_time": "2022-06-30T16:59:50.463Z"
   },
   {
    "duration": 69,
    "start_time": "2022-06-30T16:59:50.495Z"
   },
   {
    "duration": 29,
    "start_time": "2022-06-30T16:59:50.566Z"
   },
   {
    "duration": 62,
    "start_time": "2022-06-30T16:59:50.597Z"
   },
   {
    "duration": 9,
    "start_time": "2022-06-30T16:59:50.661Z"
   },
   {
    "duration": 10,
    "start_time": "2022-06-30T16:59:50.672Z"
   },
   {
    "duration": 18,
    "start_time": "2022-06-30T16:59:50.685Z"
   },
   {
    "duration": 77,
    "start_time": "2022-06-30T16:59:50.705Z"
   },
   {
    "duration": 106,
    "start_time": "2022-06-30T16:59:50.784Z"
   },
   {
    "duration": 202,
    "start_time": "2022-06-30T16:59:50.892Z"
   },
   {
    "duration": 7,
    "start_time": "2022-06-30T16:59:51.096Z"
   },
   {
    "duration": 17,
    "start_time": "2022-06-30T16:59:51.105Z"
   },
   {
    "duration": 10,
    "start_time": "2022-06-30T16:59:51.124Z"
   },
   {
    "duration": 646,
    "start_time": "2022-06-30T16:59:51.135Z"
   },
   {
    "duration": 169,
    "start_time": "2022-06-30T16:59:51.783Z"
   },
   {
    "duration": 222,
    "start_time": "2022-06-30T16:59:51.954Z"
   },
   {
    "duration": 333,
    "start_time": "2022-06-30T16:59:52.177Z"
   },
   {
    "duration": 103,
    "start_time": "2022-06-30T16:59:52.512Z"
   },
   {
    "duration": 21,
    "start_time": "2022-06-30T16:59:52.617Z"
   },
   {
    "duration": 651,
    "start_time": "2022-06-30T16:59:56.720Z"
   },
   {
    "duration": 563,
    "start_time": "2022-06-30T17:00:17.945Z"
   },
   {
    "duration": 13,
    "start_time": "2022-06-30T17:00:51.790Z"
   },
   {
    "duration": 14,
    "start_time": "2022-06-30T17:01:54.483Z"
   },
   {
    "duration": 548,
    "start_time": "2022-06-30T17:02:19.097Z"
   },
   {
    "duration": 561,
    "start_time": "2022-06-30T17:09:35.745Z"
   },
   {
    "duration": 583,
    "start_time": "2022-06-30T17:09:44.701Z"
   },
   {
    "duration": 551,
    "start_time": "2022-06-30T17:09:48.422Z"
   },
   {
    "duration": 1571,
    "start_time": "2022-07-02T09:23:56.273Z"
   },
   {
    "duration": 390,
    "start_time": "2022-07-02T09:23:57.846Z"
   },
   {
    "duration": 3,
    "start_time": "2022-07-02T09:23:58.238Z"
   },
   {
    "duration": 38,
    "start_time": "2022-07-02T09:23:58.243Z"
   },
   {
    "duration": 26,
    "start_time": "2022-07-02T09:23:58.282Z"
   },
   {
    "duration": 57,
    "start_time": "2022-07-02T09:23:58.309Z"
   },
   {
    "duration": 26,
    "start_time": "2022-07-02T09:23:58.367Z"
   },
   {
    "duration": 59,
    "start_time": "2022-07-02T09:23:58.394Z"
   },
   {
    "duration": 7,
    "start_time": "2022-07-02T09:23:58.455Z"
   },
   {
    "duration": 7,
    "start_time": "2022-07-02T09:23:58.465Z"
   },
   {
    "duration": 18,
    "start_time": "2022-07-02T09:23:58.474Z"
   },
   {
    "duration": 62,
    "start_time": "2022-07-02T09:23:58.493Z"
   },
   {
    "duration": 108,
    "start_time": "2022-07-02T09:23:58.557Z"
   },
   {
    "duration": 209,
    "start_time": "2022-07-02T09:23:58.667Z"
   },
   {
    "duration": 7,
    "start_time": "2022-07-02T09:23:58.877Z"
   },
   {
    "duration": 8,
    "start_time": "2022-07-02T09:23:58.885Z"
   },
   {
    "duration": 6,
    "start_time": "2022-07-02T09:23:58.895Z"
   },
   {
    "duration": 575,
    "start_time": "2022-07-02T09:23:58.902Z"
   },
   {
    "duration": 233,
    "start_time": "2022-07-02T09:23:59.479Z"
   },
   {
    "duration": 184,
    "start_time": "2022-07-02T09:23:59.714Z"
   },
   {
    "duration": 294,
    "start_time": "2022-07-02T09:23:59.899Z"
   },
   {
    "duration": 90,
    "start_time": "2022-07-02T09:24:00.195Z"
   },
   {
    "duration": 20,
    "start_time": "2022-07-02T09:24:00.287Z"
   },
   {
    "duration": 585,
    "start_time": "2022-07-02T09:24:00.308Z"
   },
   {
    "duration": 11,
    "start_time": "2022-07-02T09:24:00.894Z"
   },
   {
    "duration": 95,
    "start_time": "2022-07-02T09:24:00.907Z"
   },
   {
    "duration": 490178,
    "start_time": "2022-07-02T09:24:01.004Z"
   },
   {
    "duration": 652264,
    "start_time": "2022-07-02T09:32:11.184Z"
   },
   {
    "duration": 115,
    "start_time": "2022-07-02T09:43:03.449Z"
   },
   {
    "duration": 5,
    "start_time": "2022-07-02T10:02:49.158Z"
   },
   {
    "duration": 123,
    "start_time": "2022-07-02T10:02:49.166Z"
   },
   {
    "duration": 4,
    "start_time": "2022-07-02T10:02:49.291Z"
   },
   {
    "duration": 49,
    "start_time": "2022-07-02T10:02:49.297Z"
   },
   {
    "duration": 31,
    "start_time": "2022-07-02T10:02:49.348Z"
   },
   {
    "duration": 73,
    "start_time": "2022-07-02T10:02:49.381Z"
   },
   {
    "duration": 30,
    "start_time": "2022-07-02T10:02:49.455Z"
   },
   {
    "duration": 80,
    "start_time": "2022-07-02T10:02:49.486Z"
   },
   {
    "duration": 9,
    "start_time": "2022-07-02T10:02:49.569Z"
   },
   {
    "duration": 11,
    "start_time": "2022-07-02T10:02:49.579Z"
   },
   {
    "duration": 39,
    "start_time": "2022-07-02T10:02:49.593Z"
   },
   {
    "duration": 57,
    "start_time": "2022-07-02T10:02:49.638Z"
   },
   {
    "duration": 146,
    "start_time": "2022-07-02T10:02:49.697Z"
   },
   {
    "duration": 243,
    "start_time": "2022-07-02T10:02:49.846Z"
   },
   {
    "duration": 9,
    "start_time": "2022-07-02T10:02:50.091Z"
   },
   {
    "duration": 19,
    "start_time": "2022-07-02T10:02:50.101Z"
   },
   {
    "duration": 28,
    "start_time": "2022-07-02T10:02:50.128Z"
   },
   {
    "duration": 656,
    "start_time": "2022-07-02T10:02:50.158Z"
   },
   {
    "duration": 205,
    "start_time": "2022-07-02T10:02:50.816Z"
   },
   {
    "duration": 222,
    "start_time": "2022-07-02T10:02:51.023Z"
   },
   {
    "duration": 312,
    "start_time": "2022-07-02T10:02:51.247Z"
   },
   {
    "duration": 103,
    "start_time": "2022-07-02T10:02:51.561Z"
   },
   {
    "duration": 19,
    "start_time": "2022-07-02T10:02:51.666Z"
   },
   {
    "duration": 636,
    "start_time": "2022-07-02T10:02:51.687Z"
   },
   {
    "duration": 19,
    "start_time": "2022-07-02T10:02:52.324Z"
   },
   {
    "duration": 100,
    "start_time": "2022-07-02T10:02:52.347Z"
   },
   {
    "duration": 510303,
    "start_time": "2022-07-02T10:02:52.448Z"
   },
   {
    "duration": 671872,
    "start_time": "2022-07-02T10:11:22.752Z"
   },
   {
    "duration": 15,
    "start_time": "2022-07-02T10:22:34.628Z"
   },
   {
    "duration": 4,
    "start_time": "2022-07-02T11:17:25.892Z"
   },
   {
    "duration": 109,
    "start_time": "2022-07-02T11:17:25.898Z"
   },
   {
    "duration": 5,
    "start_time": "2022-07-02T11:17:26.009Z"
   },
   {
    "duration": 50,
    "start_time": "2022-07-02T11:17:26.016Z"
   },
   {
    "duration": 37,
    "start_time": "2022-07-02T11:17:26.068Z"
   },
   {
    "duration": 61,
    "start_time": "2022-07-02T11:17:26.130Z"
   },
   {
    "duration": 57,
    "start_time": "2022-07-02T11:17:26.193Z"
   },
   {
    "duration": 45,
    "start_time": "2022-07-02T11:17:26.252Z"
   },
   {
    "duration": 33,
    "start_time": "2022-07-02T11:17:26.300Z"
   },
   {
    "duration": 9,
    "start_time": "2022-07-02T11:17:26.336Z"
   },
   {
    "duration": 27,
    "start_time": "2022-07-02T11:17:26.347Z"
   },
   {
    "duration": 69,
    "start_time": "2022-07-02T11:17:26.376Z"
   },
   {
    "duration": 134,
    "start_time": "2022-07-02T11:17:26.447Z"
   },
   {
    "duration": 223,
    "start_time": "2022-07-02T11:17:26.583Z"
   },
   {
    "duration": 7,
    "start_time": "2022-07-02T11:17:26.808Z"
   },
   {
    "duration": 16,
    "start_time": "2022-07-02T11:17:26.817Z"
   },
   {
    "duration": 6,
    "start_time": "2022-07-02T11:17:26.834Z"
   },
   {
    "duration": 580,
    "start_time": "2022-07-02T11:17:26.842Z"
   },
   {
    "duration": 185,
    "start_time": "2022-07-02T11:17:27.424Z"
   },
   {
    "duration": 220,
    "start_time": "2022-07-02T11:17:27.611Z"
   },
   {
    "duration": 268,
    "start_time": "2022-07-02T11:17:27.832Z"
   },
   {
    "duration": 93,
    "start_time": "2022-07-02T11:17:28.102Z"
   },
   {
    "duration": 19,
    "start_time": "2022-07-02T11:17:28.196Z"
   },
   {
    "duration": 24,
    "start_time": "2022-07-02T11:17:28.217Z"
   },
   {
    "duration": 98,
    "start_time": "2022-07-02T11:17:28.243Z"
   },
   {
    "duration": 251937,
    "start_time": "2022-07-02T11:21:36.559Z"
   },
   {
    "duration": 685453,
    "start_time": "2022-07-02T11:25:48.498Z"
   },
   {
    "duration": 10,
    "start_time": "2022-07-02T12:30:06.347Z"
   },
   {
    "duration": 176,
    "start_time": "2022-07-02T12:30:06.360Z"
   },
   {
    "duration": 5,
    "start_time": "2022-07-02T12:30:06.539Z"
   },
   {
    "duration": 118,
    "start_time": "2022-07-02T12:30:06.547Z"
   },
   {
    "duration": 32,
    "start_time": "2022-07-02T12:30:06.668Z"
   },
   {
    "duration": 74,
    "start_time": "2022-07-02T12:30:06.702Z"
   },
   {
    "duration": 35,
    "start_time": "2022-07-02T12:30:06.778Z"
   },
   {
    "duration": 66,
    "start_time": "2022-07-02T12:30:06.815Z"
   },
   {
    "duration": 12,
    "start_time": "2022-07-02T12:30:06.887Z"
   },
   {
    "duration": 32,
    "start_time": "2022-07-02T12:30:06.901Z"
   },
   {
    "duration": 60,
    "start_time": "2022-07-02T12:30:06.946Z"
   },
   {
    "duration": 81,
    "start_time": "2022-07-02T12:30:07.009Z"
   },
   {
    "duration": 157,
    "start_time": "2022-07-02T12:30:07.092Z"
   },
   {
    "duration": 305,
    "start_time": "2022-07-02T12:30:07.273Z"
   },
   {
    "duration": 21,
    "start_time": "2022-07-02T12:30:07.580Z"
   },
   {
    "duration": 15,
    "start_time": "2022-07-02T12:30:07.604Z"
   },
   {
    "duration": 17,
    "start_time": "2022-07-02T12:30:07.621Z"
   },
   {
    "duration": 776,
    "start_time": "2022-07-02T12:30:07.640Z"
   },
   {
    "duration": 221,
    "start_time": "2022-07-02T12:30:08.418Z"
   },
   {
    "duration": 248,
    "start_time": "2022-07-02T12:30:08.641Z"
   },
   {
    "duration": 351,
    "start_time": "2022-07-02T12:30:08.891Z"
   },
   {
    "duration": 106,
    "start_time": "2022-07-02T12:30:09.243Z"
   },
   {
    "duration": 27,
    "start_time": "2022-07-02T12:30:09.352Z"
   },
   {
    "duration": 14,
    "start_time": "2022-07-02T12:30:09.382Z"
   },
   {
    "duration": 117,
    "start_time": "2022-07-02T12:30:09.398Z"
   },
   {
    "duration": 293421,
    "start_time": "2022-07-02T12:30:09.517Z"
   },
   {
    "duration": 709669,
    "start_time": "2022-07-02T12:35:02.939Z"
   },
   {
    "duration": 118,
    "start_time": "2022-07-02T12:46:52.610Z"
   },
   {
    "duration": 0,
    "start_time": "2022-07-02T12:46:52.729Z"
   },
   {
    "duration": 123,
    "start_time": "2022-07-02T13:26:57.539Z"
   },
   {
    "duration": 96,
    "start_time": "2022-07-02T14:05:51.147Z"
   },
   {
    "duration": 123,
    "start_time": "2022-07-02T14:21:01.510Z"
   },
   {
    "duration": 95,
    "start_time": "2022-07-02T14:21:59.259Z"
   },
   {
    "duration": 93,
    "start_time": "2022-07-02T14:52:04.578Z"
   },
   {
    "duration": 41920,
    "start_time": "2022-07-02T14:52:39.420Z"
   },
   {
    "duration": 7034,
    "start_time": "2022-07-02T14:53:51.307Z"
   },
   {
    "duration": 6835,
    "start_time": "2022-07-02T14:54:22.308Z"
   },
   {
    "duration": 4,
    "start_time": "2022-07-02T16:19:41.756Z"
   },
   {
    "duration": 11,
    "start_time": "2022-07-02T16:19:50.540Z"
   },
   {
    "duration": 11,
    "start_time": "2022-07-02T16:21:31.736Z"
   },
   {
    "duration": 11,
    "start_time": "2022-07-02T16:21:44.266Z"
   },
   {
    "duration": 16,
    "start_time": "2022-07-02T16:23:06.085Z"
   },
   {
    "duration": 41024,
    "start_time": "2022-07-02T16:24:09.110Z"
   },
   {
    "duration": 38022,
    "start_time": "2022-07-02T16:28:42.815Z"
   },
   {
    "duration": 215,
    "start_time": "2022-07-02T16:30:27.301Z"
   },
   {
    "duration": 73679,
    "start_time": "2022-07-02T16:31:14.370Z"
   },
   {
    "duration": 10,
    "start_time": "2022-07-02T16:42:17.387Z"
   },
   {
    "duration": 10640,
    "start_time": "2022-07-02T16:42:33.309Z"
   },
   {
    "duration": 10034,
    "start_time": "2022-07-02T16:43:36.010Z"
   },
   {
    "duration": 9519,
    "start_time": "2022-07-02T16:44:05.318Z"
   },
   {
    "duration": 11,
    "start_time": "2022-07-02T16:46:21.032Z"
   },
   {
    "duration": 9578,
    "start_time": "2022-07-02T16:47:27.558Z"
   },
   {
    "duration": 4,
    "start_time": "2022-07-02T16:49:27.831Z"
   },
   {
    "duration": 105,
    "start_time": "2022-07-02T16:49:27.836Z"
   },
   {
    "duration": 3,
    "start_time": "2022-07-02T16:49:27.943Z"
   },
   {
    "duration": 41,
    "start_time": "2022-07-02T16:49:27.948Z"
   },
   {
    "duration": 38,
    "start_time": "2022-07-02T16:49:27.991Z"
   },
   {
    "duration": 43,
    "start_time": "2022-07-02T16:49:28.031Z"
   },
   {
    "duration": 53,
    "start_time": "2022-07-02T16:49:28.076Z"
   },
   {
    "duration": 35,
    "start_time": "2022-07-02T16:49:28.130Z"
   },
   {
    "duration": 7,
    "start_time": "2022-07-02T16:49:28.168Z"
   },
   {
    "duration": 10,
    "start_time": "2022-07-02T16:49:28.176Z"
   },
   {
    "duration": 19,
    "start_time": "2022-07-02T16:49:28.187Z"
   },
   {
    "duration": 45,
    "start_time": "2022-07-02T16:49:28.229Z"
   },
   {
    "duration": 119,
    "start_time": "2022-07-02T16:49:28.275Z"
   },
   {
    "duration": 207,
    "start_time": "2022-07-02T16:49:28.396Z"
   },
   {
    "duration": 7,
    "start_time": "2022-07-02T16:49:28.605Z"
   },
   {
    "duration": 20,
    "start_time": "2022-07-02T16:49:28.614Z"
   },
   {
    "duration": 11,
    "start_time": "2022-07-02T16:49:28.635Z"
   },
   {
    "duration": 571,
    "start_time": "2022-07-02T16:49:28.648Z"
   },
   {
    "duration": 193,
    "start_time": "2022-07-02T16:49:29.220Z"
   },
   {
    "duration": 197,
    "start_time": "2022-07-02T16:49:29.415Z"
   },
   {
    "duration": 293,
    "start_time": "2022-07-02T16:49:29.614Z"
   },
   {
    "duration": 90,
    "start_time": "2022-07-02T16:49:29.908Z"
   },
   {
    "duration": 30,
    "start_time": "2022-07-02T16:49:30.000Z"
   },
   {
    "duration": 13,
    "start_time": "2022-07-02T16:49:30.032Z"
   },
   {
    "duration": 113,
    "start_time": "2022-07-02T16:49:30.047Z"
   },
   {
    "duration": 244414,
    "start_time": "2022-07-02T16:49:30.162Z"
   },
   {
    "duration": 645848,
    "start_time": "2022-07-02T16:53:34.579Z"
   },
   {
    "duration": 69602,
    "start_time": "2022-07-02T17:04:20.429Z"
   },
   {
    "duration": 11606,
    "start_time": "2022-07-02T17:05:30.032Z"
   },
   {
    "duration": 319312,
    "start_time": "2022-07-02T17:06:14.610Z"
   },
   {
    "duration": 40166,
    "start_time": "2022-07-02T17:24:55.984Z"
   },
   {
    "duration": 12,
    "start_time": "2022-07-02T17:38:07.759Z"
   },
   {
    "duration": 315961,
    "start_time": "2022-07-02T17:38:44.618Z"
   },
   {
    "duration": 12,
    "start_time": "2022-07-02T17:44:00.581Z"
   },
   {
    "duration": 10,
    "start_time": "2022-07-02T18:13:34.724Z"
   },
   {
    "duration": 316545,
    "start_time": "2022-07-02T18:13:54.188Z"
   },
   {
    "duration": 5,
    "start_time": "2022-07-02T18:23:43.526Z"
   },
   {
    "duration": 126,
    "start_time": "2022-07-02T18:23:43.533Z"
   },
   {
    "duration": 4,
    "start_time": "2022-07-02T18:23:43.661Z"
   },
   {
    "duration": 48,
    "start_time": "2022-07-02T18:23:43.667Z"
   },
   {
    "duration": 27,
    "start_time": "2022-07-02T18:23:43.716Z"
   },
   {
    "duration": 55,
    "start_time": "2022-07-02T18:23:43.745Z"
   },
   {
    "duration": 41,
    "start_time": "2022-07-02T18:23:43.801Z"
   },
   {
    "duration": 35,
    "start_time": "2022-07-02T18:23:43.843Z"
   },
   {
    "duration": 7,
    "start_time": "2022-07-02T18:23:43.881Z"
   },
   {
    "duration": 27,
    "start_time": "2022-07-02T18:23:43.890Z"
   },
   {
    "duration": 26,
    "start_time": "2022-07-02T18:23:43.918Z"
   },
   {
    "duration": 49,
    "start_time": "2022-07-02T18:23:43.945Z"
   },
   {
    "duration": 111,
    "start_time": "2022-07-02T18:23:43.996Z"
   },
   {
    "duration": 199,
    "start_time": "2022-07-02T18:23:44.108Z"
   },
   {
    "duration": 6,
    "start_time": "2022-07-02T18:23:44.309Z"
   },
   {
    "duration": 13,
    "start_time": "2022-07-02T18:23:44.317Z"
   },
   {
    "duration": 6,
    "start_time": "2022-07-02T18:23:44.331Z"
   },
   {
    "duration": 545,
    "start_time": "2022-07-02T18:23:44.339Z"
   },
   {
    "duration": 278,
    "start_time": "2022-07-02T18:23:44.886Z"
   },
   {
    "duration": 200,
    "start_time": "2022-07-02T18:23:45.166Z"
   },
   {
    "duration": 292,
    "start_time": "2022-07-02T18:23:45.368Z"
   },
   {
    "duration": 92,
    "start_time": "2022-07-02T18:23:45.662Z"
   },
   {
    "duration": 20,
    "start_time": "2022-07-02T18:23:45.755Z"
   },
   {
    "duration": 13,
    "start_time": "2022-07-02T18:23:45.777Z"
   },
   {
    "duration": 109,
    "start_time": "2022-07-02T18:23:45.791Z"
   },
   {
    "duration": 243800,
    "start_time": "2022-07-02T18:23:45.901Z"
   },
   {
    "duration": 315196,
    "start_time": "2022-07-02T18:27:49.703Z"
   },
   {
    "duration": 10139,
    "start_time": "2022-07-02T18:33:04.901Z"
   },
   {
    "duration": 9894,
    "start_time": "2022-07-02T18:33:15.042Z"
   },
   {
    "duration": 603,
    "start_time": "2022-07-02T18:33:24.938Z"
   },
   {
    "duration": 1968,
    "start_time": "2022-07-03T07:50:41.395Z"
   },
   {
    "duration": 196,
    "start_time": "2022-07-03T07:50:43.365Z"
   },
   {
    "duration": 3,
    "start_time": "2022-07-03T07:50:43.563Z"
   },
   {
    "duration": 71,
    "start_time": "2022-07-03T07:50:43.568Z"
   },
   {
    "duration": 40,
    "start_time": "2022-07-03T07:50:43.641Z"
   },
   {
    "duration": 71,
    "start_time": "2022-07-03T07:50:43.682Z"
   },
   {
    "duration": 37,
    "start_time": "2022-07-03T07:50:43.755Z"
   },
   {
    "duration": 59,
    "start_time": "2022-07-03T07:50:43.794Z"
   },
   {
    "duration": 12,
    "start_time": "2022-07-03T07:50:43.854Z"
   },
   {
    "duration": 35,
    "start_time": "2022-07-03T07:50:43.868Z"
   },
   {
    "duration": 36,
    "start_time": "2022-07-03T07:50:43.905Z"
   },
   {
    "duration": 87,
    "start_time": "2022-07-03T07:50:43.948Z"
   },
   {
    "duration": 184,
    "start_time": "2022-07-03T07:50:44.045Z"
   },
   {
    "duration": 286,
    "start_time": "2022-07-03T07:50:44.232Z"
   },
   {
    "duration": 15,
    "start_time": "2022-07-03T07:50:44.520Z"
   },
   {
    "duration": 35,
    "start_time": "2022-07-03T07:50:44.544Z"
   },
   {
    "duration": 33,
    "start_time": "2022-07-03T07:50:44.581Z"
   },
   {
    "duration": 733,
    "start_time": "2022-07-03T07:50:44.616Z"
   },
   {
    "duration": 258,
    "start_time": "2022-07-03T07:50:45.350Z"
   },
   {
    "duration": 246,
    "start_time": "2022-07-03T07:50:45.610Z"
   },
   {
    "duration": 340,
    "start_time": "2022-07-03T07:50:45.857Z"
   },
   {
    "duration": 109,
    "start_time": "2022-07-03T07:50:46.199Z"
   },
   {
    "duration": 38,
    "start_time": "2022-07-03T07:50:46.310Z"
   },
   {
    "duration": 20,
    "start_time": "2022-07-03T07:50:46.356Z"
   },
   {
    "duration": 110,
    "start_time": "2022-07-03T07:50:46.378Z"
   },
   {
    "duration": 267763,
    "start_time": "2022-07-03T07:50:46.490Z"
   },
   {
    "duration": 350814,
    "start_time": "2022-07-03T07:55:14.255Z"
   },
   {
    "duration": 1637777,
    "start_time": "2022-07-03T08:01:05.071Z"
   },
   {
    "duration": 599,
    "start_time": "2022-07-03T09:05:29.844Z"
   },
   {
    "duration": 79,
    "start_time": "2022-07-03T09:05:30.448Z"
   },
   {
    "duration": 111,
    "start_time": "2022-07-03T09:05:30.529Z"
   },
   {
    "duration": 5,
    "start_time": "2022-07-03T09:05:30.643Z"
   },
   {
    "duration": 66,
    "start_time": "2022-07-03T09:05:30.650Z"
   },
   {
    "duration": 33,
    "start_time": "2022-07-03T09:05:30.718Z"
   },
   {
    "duration": 80,
    "start_time": "2022-07-03T09:05:30.753Z"
   },
   {
    "duration": 41,
    "start_time": "2022-07-03T09:05:30.835Z"
   },
   {
    "duration": 67,
    "start_time": "2022-07-03T09:05:30.878Z"
   },
   {
    "duration": 8,
    "start_time": "2022-07-03T09:05:30.947Z"
   },
   {
    "duration": 29,
    "start_time": "2022-07-03T09:05:30.957Z"
   },
   {
    "duration": 44,
    "start_time": "2022-07-03T09:05:30.988Z"
   },
   {
    "duration": 73,
    "start_time": "2022-07-03T09:05:31.034Z"
   },
   {
    "duration": 118,
    "start_time": "2022-07-03T09:05:31.109Z"
   },
   {
    "duration": 229,
    "start_time": "2022-07-03T09:05:31.229Z"
   },
   {
    "duration": 11,
    "start_time": "2022-07-03T09:05:31.460Z"
   },
   {
    "duration": 45,
    "start_time": "2022-07-03T09:05:31.473Z"
   },
   {
    "duration": 39,
    "start_time": "2022-07-03T09:05:31.520Z"
   },
   {
    "duration": 694,
    "start_time": "2022-07-03T09:05:31.561Z"
   },
   {
    "duration": 194,
    "start_time": "2022-07-03T09:05:32.257Z"
   },
   {
    "duration": 249,
    "start_time": "2022-07-03T09:05:32.453Z"
   },
   {
    "duration": 307,
    "start_time": "2022-07-03T09:05:32.704Z"
   },
   {
    "duration": 188,
    "start_time": "2022-07-03T09:05:33.013Z"
   },
   {
    "duration": 42,
    "start_time": "2022-07-03T09:05:33.203Z"
   },
   {
    "duration": 16,
    "start_time": "2022-07-03T09:05:33.248Z"
   },
   {
    "duration": 110,
    "start_time": "2022-07-03T09:05:33.267Z"
   },
   {
    "duration": 266335,
    "start_time": "2022-07-03T09:05:33.379Z"
   },
   {
    "duration": 370032,
    "start_time": "2022-07-03T09:09:59.716Z"
   },
   {
    "duration": 1608,
    "start_time": "2022-07-03T17:00:29.438Z"
   },
   {
    "duration": 193,
    "start_time": "2022-07-03T17:00:31.048Z"
   },
   {
    "duration": 3,
    "start_time": "2022-07-03T17:00:31.243Z"
   },
   {
    "duration": 63,
    "start_time": "2022-07-03T17:00:31.248Z"
   },
   {
    "duration": 28,
    "start_time": "2022-07-03T17:00:31.313Z"
   },
   {
    "duration": 60,
    "start_time": "2022-07-03T17:00:31.342Z"
   },
   {
    "duration": 28,
    "start_time": "2022-07-03T17:00:31.403Z"
   },
   {
    "duration": 61,
    "start_time": "2022-07-03T17:00:31.433Z"
   },
   {
    "duration": 28,
    "start_time": "2022-07-03T17:00:31.495Z"
   },
   {
    "duration": 22,
    "start_time": "2022-07-03T17:00:31.525Z"
   },
   {
    "duration": 27,
    "start_time": "2022-07-03T17:00:31.549Z"
   },
   {
    "duration": 61,
    "start_time": "2022-07-03T17:00:31.577Z"
   },
   {
    "duration": 156,
    "start_time": "2022-07-03T17:00:31.640Z"
   },
   {
    "duration": 405,
    "start_time": "2022-07-03T17:00:31.799Z"
   },
   {
    "duration": 7,
    "start_time": "2022-07-03T17:00:32.258Z"
   },
   {
    "duration": 18,
    "start_time": "2022-07-03T17:00:32.266Z"
   },
   {
    "duration": 15,
    "start_time": "2022-07-03T17:00:32.285Z"
   },
   {
    "duration": 1196,
    "start_time": "2022-07-03T17:00:32.301Z"
   },
   {
    "duration": 245,
    "start_time": "2022-07-03T17:00:33.499Z"
   },
   {
    "duration": 204,
    "start_time": "2022-07-03T17:00:33.746Z"
   },
   {
    "duration": 300,
    "start_time": "2022-07-03T17:00:33.952Z"
   },
   {
    "duration": 91,
    "start_time": "2022-07-03T17:00:34.254Z"
   },
   {
    "duration": 19,
    "start_time": "2022-07-03T17:00:34.358Z"
   },
   {
    "duration": 12,
    "start_time": "2022-07-03T17:00:34.379Z"
   },
   {
    "duration": 140,
    "start_time": "2022-07-03T17:00:34.393Z"
   },
   {
    "duration": 250889,
    "start_time": "2022-07-03T17:00:34.535Z"
   },
   {
    "duration": 315740,
    "start_time": "2022-07-03T17:04:45.426Z"
   },
   {
    "duration": 2594312,
    "start_time": "2022-07-03T17:10:01.168Z"
   },
   {
    "duration": 80,
    "start_time": "2022-07-03T17:53:15.482Z"
   },
   {
    "duration": 2200602,
    "start_time": "2022-07-03T17:53:15.564Z"
   },
   {
    "duration": 5,
    "start_time": "2022-07-03T18:29:56.168Z"
   },
   {
    "duration": 646,
    "start_time": "2022-07-03T18:29:56.176Z"
   },
   {
    "duration": 1591,
    "start_time": "2022-07-04T06:39:39.599Z"
   },
   {
    "duration": 204,
    "start_time": "2022-07-04T06:39:41.192Z"
   },
   {
    "duration": 3,
    "start_time": "2022-07-04T06:39:41.398Z"
   },
   {
    "duration": 42,
    "start_time": "2022-07-04T06:39:41.403Z"
   },
   {
    "duration": 35,
    "start_time": "2022-07-04T06:39:41.446Z"
   },
   {
    "duration": 45,
    "start_time": "2022-07-04T06:39:41.483Z"
   },
   {
    "duration": 63,
    "start_time": "2022-07-04T06:39:41.529Z"
   },
   {
    "duration": 38,
    "start_time": "2022-07-04T06:39:41.593Z"
   },
   {
    "duration": 34,
    "start_time": "2022-07-04T06:39:41.633Z"
   },
   {
    "duration": 14,
    "start_time": "2022-07-04T06:39:41.672Z"
   },
   {
    "duration": 25,
    "start_time": "2022-07-04T06:39:41.688Z"
   },
   {
    "duration": 51,
    "start_time": "2022-07-04T06:39:41.714Z"
   },
   {
    "duration": 116,
    "start_time": "2022-07-04T06:39:41.769Z"
   },
   {
    "duration": 219,
    "start_time": "2022-07-04T06:39:41.887Z"
   },
   {
    "duration": 8,
    "start_time": "2022-07-04T06:39:42.108Z"
   },
   {
    "duration": 13,
    "start_time": "2022-07-04T06:39:42.118Z"
   },
   {
    "duration": 7,
    "start_time": "2022-07-04T06:39:42.132Z"
   },
   {
    "duration": 586,
    "start_time": "2022-07-04T06:39:42.140Z"
   },
   {
    "duration": 261,
    "start_time": "2022-07-04T06:39:42.728Z"
   },
   {
    "duration": 216,
    "start_time": "2022-07-04T06:39:42.991Z"
   },
   {
    "duration": 296,
    "start_time": "2022-07-04T06:39:43.209Z"
   },
   {
    "duration": 92,
    "start_time": "2022-07-04T06:39:43.507Z"
   },
   {
    "duration": 20,
    "start_time": "2022-07-04T06:39:43.600Z"
   },
   {
    "duration": 12,
    "start_time": "2022-07-04T06:39:43.621Z"
   },
   {
    "duration": 110,
    "start_time": "2022-07-04T06:39:43.635Z"
   },
   {
    "duration": 246681,
    "start_time": "2022-07-04T06:39:43.746Z"
   },
   {
    "duration": 331868,
    "start_time": "2022-07-04T06:43:50.428Z"
   },
   {
    "duration": 2534499,
    "start_time": "2022-07-04T06:49:22.301Z"
   },
   {
    "duration": 0,
    "start_time": "2022-07-04T07:31:36.802Z"
   },
   {
    "duration": 0,
    "start_time": "2022-07-04T07:31:36.803Z"
   },
   {
    "duration": 0,
    "start_time": "2022-07-04T07:31:36.804Z"
   },
   {
    "duration": 0,
    "start_time": "2022-07-04T07:31:36.804Z"
   },
   {
    "duration": 4,
    "start_time": "2022-07-04T07:31:38.967Z"
   },
   {
    "duration": 80,
    "start_time": "2022-07-04T07:31:38.973Z"
   },
   {
    "duration": 4,
    "start_time": "2022-07-04T07:31:39.055Z"
   },
   {
    "duration": 43,
    "start_time": "2022-07-04T07:31:39.061Z"
   },
   {
    "duration": 65,
    "start_time": "2022-07-04T07:31:39.105Z"
   },
   {
    "duration": 50,
    "start_time": "2022-07-04T07:31:39.171Z"
   },
   {
    "duration": 62,
    "start_time": "2022-07-04T07:31:39.223Z"
   },
   {
    "duration": 37,
    "start_time": "2022-07-04T07:31:39.287Z"
   },
   {
    "duration": 32,
    "start_time": "2022-07-04T07:31:39.327Z"
   },
   {
    "duration": 11,
    "start_time": "2022-07-04T07:31:39.360Z"
   },
   {
    "duration": 22,
    "start_time": "2022-07-04T07:31:39.373Z"
   },
   {
    "duration": 66,
    "start_time": "2022-07-04T07:31:39.396Z"
   },
   {
    "duration": 116,
    "start_time": "2022-07-04T07:31:39.464Z"
   },
   {
    "duration": 201,
    "start_time": "2022-07-04T07:31:39.582Z"
   },
   {
    "duration": 8,
    "start_time": "2022-07-04T07:31:39.784Z"
   },
   {
    "duration": 15,
    "start_time": "2022-07-04T07:31:39.793Z"
   },
   {
    "duration": 7,
    "start_time": "2022-07-04T07:31:39.810Z"
   },
   {
    "duration": 590,
    "start_time": "2022-07-04T07:31:39.819Z"
   },
   {
    "duration": 182,
    "start_time": "2022-07-04T07:31:40.412Z"
   },
   {
    "duration": 208,
    "start_time": "2022-07-04T07:31:40.597Z"
   },
   {
    "duration": 297,
    "start_time": "2022-07-04T07:31:40.807Z"
   },
   {
    "duration": 185,
    "start_time": "2022-07-04T07:31:41.106Z"
   },
   {
    "duration": 32,
    "start_time": "2022-07-04T07:31:41.292Z"
   },
   {
    "duration": 34,
    "start_time": "2022-07-04T07:31:41.327Z"
   },
   {
    "duration": 103,
    "start_time": "2022-07-04T07:31:41.363Z"
   },
   {
    "duration": 248877,
    "start_time": "2022-07-04T07:31:41.468Z"
   },
   {
    "duration": 318164,
    "start_time": "2022-07-04T07:35:50.346Z"
   },
   {
    "duration": 9761,
    "start_time": "2022-07-04T07:41:08.512Z"
   },
   {
    "duration": 3,
    "start_time": "2022-07-04T07:41:18.360Z"
   },
   {
    "duration": 10307,
    "start_time": "2022-07-04T07:41:18.365Z"
   },
   {
    "duration": 4,
    "start_time": "2022-07-04T07:41:28.674Z"
   },
   {
    "duration": 489,
    "start_time": "2022-07-04T07:41:28.680Z"
   },
   {
    "duration": 38582,
    "start_time": "2022-07-04T07:48:06.493Z"
   },
   {
    "duration": 4,
    "start_time": "2022-07-04T07:48:45.158Z"
   },
   {
    "duration": 468,
    "start_time": "2022-07-04T07:53:10.325Z"
   },
   {
    "duration": 2810,
    "start_time": "2022-07-06T06:59:46.216Z"
   },
   {
    "duration": 68,
    "start_time": "2022-07-06T06:59:49.028Z"
   },
   {
    "duration": 3,
    "start_time": "2022-07-06T07:00:11.730Z"
   },
   {
    "duration": 45,
    "start_time": "2022-07-06T07:00:12.659Z"
   },
   {
    "duration": 30,
    "start_time": "2022-07-06T07:00:15.603Z"
   },
   {
    "duration": 49,
    "start_time": "2022-07-06T07:00:16.105Z"
   },
   {
    "duration": 32,
    "start_time": "2022-07-06T07:00:16.630Z"
   },
   {
    "duration": 40,
    "start_time": "2022-07-06T07:06:17.681Z"
   },
   {
    "duration": 10,
    "start_time": "2022-07-06T07:06:20.159Z"
   },
   {
    "duration": 11,
    "start_time": "2022-07-06T07:06:20.761Z"
   },
   {
    "duration": 21,
    "start_time": "2022-07-06T07:06:21.558Z"
   },
   {
    "duration": 52,
    "start_time": "2022-07-06T07:06:22.907Z"
   },
   {
    "duration": 110,
    "start_time": "2022-07-06T07:06:23.277Z"
   },
   {
    "duration": 241,
    "start_time": "2022-07-06T07:06:25.035Z"
   },
   {
    "duration": 8,
    "start_time": "2022-07-06T07:06:25.411Z"
   },
   {
    "duration": 8,
    "start_time": "2022-07-06T07:06:25.717Z"
   },
   {
    "duration": 7,
    "start_time": "2022-07-06T07:06:26.487Z"
   },
   {
    "duration": 610,
    "start_time": "2022-07-06T07:06:26.699Z"
   },
   {
    "duration": 262,
    "start_time": "2022-07-06T07:06:27.311Z"
   },
   {
    "duration": 199,
    "start_time": "2022-07-06T07:06:27.923Z"
   },
   {
    "duration": 297,
    "start_time": "2022-07-06T07:06:28.614Z"
   },
   {
    "duration": 88,
    "start_time": "2022-07-06T07:06:28.920Z"
   },
   {
    "duration": 1666,
    "start_time": "2022-07-06T09:39:29.559Z"
   },
   {
    "duration": 244,
    "start_time": "2022-07-06T09:39:31.228Z"
   },
   {
    "duration": 3,
    "start_time": "2022-07-06T09:39:31.474Z"
   },
   {
    "duration": 50,
    "start_time": "2022-07-06T09:39:31.479Z"
   },
   {
    "duration": 31,
    "start_time": "2022-07-06T09:39:31.531Z"
   },
   {
    "duration": 80,
    "start_time": "2022-07-06T09:39:31.564Z"
   },
   {
    "duration": 31,
    "start_time": "2022-07-06T09:39:31.646Z"
   },
   {
    "duration": 70,
    "start_time": "2022-07-06T09:39:31.679Z"
   },
   {
    "duration": 10,
    "start_time": "2022-07-06T09:39:31.751Z"
   },
   {
    "duration": 22,
    "start_time": "2022-07-06T09:39:31.764Z"
   },
   {
    "duration": 46,
    "start_time": "2022-07-06T09:39:31.788Z"
   },
   {
    "duration": 63,
    "start_time": "2022-07-06T09:39:31.836Z"
   },
   {
    "duration": 123,
    "start_time": "2022-07-06T09:39:31.901Z"
   },
   {
    "duration": 236,
    "start_time": "2022-07-06T09:39:32.025Z"
   },
   {
    "duration": 10,
    "start_time": "2022-07-06T09:39:32.264Z"
   },
   {
    "duration": 17,
    "start_time": "2022-07-06T09:39:32.276Z"
   },
   {
    "duration": 32,
    "start_time": "2022-07-06T09:39:32.295Z"
   },
   {
    "duration": 601,
    "start_time": "2022-07-06T09:39:32.329Z"
   },
   {
    "duration": 267,
    "start_time": "2022-07-06T09:39:32.932Z"
   },
   {
    "duration": 228,
    "start_time": "2022-07-06T09:39:33.200Z"
   },
   {
    "duration": 327,
    "start_time": "2022-07-06T09:39:33.430Z"
   },
   {
    "duration": 107,
    "start_time": "2022-07-06T09:39:33.758Z"
   },
   {
    "duration": 14352,
    "start_time": "2022-07-06T09:39:33.867Z"
   },
   {
    "duration": 121,
    "start_time": "2022-07-06T09:40:08.730Z"
   },
   {
    "duration": 27,
    "start_time": "2022-07-06T09:40:19.731Z"
   },
   {
    "duration": 1814,
    "start_time": "2022-07-06T09:41:31.139Z"
   },
   {
    "duration": 118,
    "start_time": "2022-07-06T09:42:17.929Z"
   },
   {
    "duration": 1565,
    "start_time": "2022-07-06T09:42:47.842Z"
   },
   {
    "duration": 1780,
    "start_time": "2022-07-06T09:42:59.879Z"
   },
   {
    "duration": 11,
    "start_time": "2022-07-06T09:55:15.785Z"
   },
   {
    "duration": 15638,
    "start_time": "2022-07-06T09:55:25.050Z"
   },
   {
    "duration": 4,
    "start_time": "2022-07-06T10:02:45.757Z"
   },
   {
    "duration": 69,
    "start_time": "2022-07-06T10:02:45.762Z"
   },
   {
    "duration": 3,
    "start_time": "2022-07-06T10:02:45.833Z"
   },
   {
    "duration": 39,
    "start_time": "2022-07-06T10:02:45.837Z"
   },
   {
    "duration": 54,
    "start_time": "2022-07-06T10:02:45.878Z"
   },
   {
    "duration": 46,
    "start_time": "2022-07-06T10:02:45.934Z"
   },
   {
    "duration": 56,
    "start_time": "2022-07-06T10:02:45.982Z"
   },
   {
    "duration": 41,
    "start_time": "2022-07-06T10:02:46.039Z"
   },
   {
    "duration": 8,
    "start_time": "2022-07-06T10:02:46.082Z"
   },
   {
    "duration": 40,
    "start_time": "2022-07-06T10:02:46.092Z"
   },
   {
    "duration": 19,
    "start_time": "2022-07-06T10:02:46.135Z"
   },
   {
    "duration": 50,
    "start_time": "2022-07-06T10:02:46.156Z"
   },
   {
    "duration": 111,
    "start_time": "2022-07-06T10:02:46.223Z"
   },
   {
    "duration": 202,
    "start_time": "2022-07-06T10:02:46.336Z"
   },
   {
    "duration": 7,
    "start_time": "2022-07-06T10:02:46.539Z"
   },
   {
    "duration": 23,
    "start_time": "2022-07-06T10:02:46.547Z"
   },
   {
    "duration": 11,
    "start_time": "2022-07-06T10:02:46.572Z"
   },
   {
    "duration": 602,
    "start_time": "2022-07-06T10:02:46.584Z"
   },
   {
    "duration": 229,
    "start_time": "2022-07-06T10:02:47.188Z"
   },
   {
    "duration": 256,
    "start_time": "2022-07-06T10:02:47.419Z"
   },
   {
    "duration": 290,
    "start_time": "2022-07-06T10:02:47.677Z"
   },
   {
    "duration": 105,
    "start_time": "2022-07-06T10:02:47.969Z"
   },
   {
    "duration": 1819,
    "start_time": "2022-07-06T10:02:48.075Z"
   },
   {
    "duration": 5,
    "start_time": "2022-07-06T10:02:49.896Z"
   },
   {
    "duration": 37,
    "start_time": "2022-07-06T10:02:49.903Z"
   },
   {
    "duration": 15,
    "start_time": "2022-07-06T10:02:49.942Z"
   },
   {
    "duration": 138,
    "start_time": "2022-07-06T10:02:49.959Z"
   },
   {
    "duration": 233042,
    "start_time": "2022-07-06T10:02:50.100Z"
   },
   {
    "duration": 290169,
    "start_time": "2022-07-06T10:06:43.144Z"
   },
   {
    "duration": 11919,
    "start_time": "2022-07-06T10:11:33.314Z"
   },
   {
    "duration": 4,
    "start_time": "2022-07-06T10:11:45.234Z"
   },
   {
    "duration": 11796,
    "start_time": "2022-07-06T10:11:45.240Z"
   },
   {
    "duration": 4,
    "start_time": "2022-07-06T10:11:57.037Z"
   },
   {
    "duration": 388,
    "start_time": "2022-07-06T10:11:57.042Z"
   },
   {
    "duration": 380,
    "start_time": "2022-07-06T10:11:57.432Z"
   },
   {
    "duration": 12958,
    "start_time": "2022-07-06T11:28:28.168Z"
   },
   {
    "duration": 4,
    "start_time": "2022-07-06T11:29:15.617Z"
   },
   {
    "duration": 6181,
    "start_time": "2022-07-06T11:29:47.556Z"
   },
   {
    "duration": 4,
    "start_time": "2022-07-06T11:29:56.470Z"
   },
   {
    "duration": 3752,
    "start_time": "2022-07-06T11:30:44.581Z"
   },
   {
    "duration": 4,
    "start_time": "2022-07-06T11:30:48.491Z"
   },
   {
    "duration": 9548,
    "start_time": "2022-07-06T11:31:18.083Z"
   },
   {
    "duration": 4,
    "start_time": "2022-07-06T11:31:27.633Z"
   },
   {
    "duration": 1249,
    "start_time": "2022-07-06T11:32:15.175Z"
   },
   {
    "duration": 4,
    "start_time": "2022-07-06T11:32:16.426Z"
   },
   {
    "duration": 655,
    "start_time": "2022-07-06T11:32:45.775Z"
   },
   {
    "duration": 4,
    "start_time": "2022-07-06T11:32:46.432Z"
   },
   {
    "duration": 812,
    "start_time": "2022-07-06T11:33:11.225Z"
   },
   {
    "duration": 4,
    "start_time": "2022-07-06T11:33:12.039Z"
   },
   {
    "duration": 193,
    "start_time": "2022-07-06T11:39:13.734Z"
   },
   {
    "duration": 195,
    "start_time": "2022-07-06T11:39:52.134Z"
   },
   {
    "duration": 374,
    "start_time": "2022-07-06T11:43:22.281Z"
   },
   {
    "duration": 237500,
    "start_time": "2022-07-06T11:49:21.273Z"
   },
   {
    "duration": 165,
    "start_time": "2022-07-06T11:53:18.776Z"
   },
   {
    "duration": 0,
    "start_time": "2022-07-06T12:48:18.997Z"
   },
   {
    "duration": 0,
    "start_time": "2022-07-06T12:48:18.998Z"
   },
   {
    "duration": 0,
    "start_time": "2022-07-06T12:48:18.999Z"
   },
   {
    "duration": 0,
    "start_time": "2022-07-06T12:48:19.001Z"
   },
   {
    "duration": 0,
    "start_time": "2022-07-06T12:48:19.006Z"
   },
   {
    "duration": 0,
    "start_time": "2022-07-06T12:48:19.008Z"
   },
   {
    "duration": 0,
    "start_time": "2022-07-06T12:48:19.009Z"
   },
   {
    "duration": 0,
    "start_time": "2022-07-06T12:48:19.011Z"
   },
   {
    "duration": 0,
    "start_time": "2022-07-06T12:48:19.012Z"
   },
   {
    "duration": 0,
    "start_time": "2022-07-06T12:48:19.014Z"
   },
   {
    "duration": 0,
    "start_time": "2022-07-06T12:48:19.015Z"
   },
   {
    "duration": 0,
    "start_time": "2022-07-06T12:48:19.017Z"
   },
   {
    "duration": 0,
    "start_time": "2022-07-06T12:48:19.018Z"
   },
   {
    "duration": 0,
    "start_time": "2022-07-06T12:48:19.019Z"
   },
   {
    "duration": 0,
    "start_time": "2022-07-06T12:48:19.020Z"
   },
   {
    "duration": 0,
    "start_time": "2022-07-06T12:48:19.021Z"
   },
   {
    "duration": 0,
    "start_time": "2022-07-06T12:48:19.022Z"
   },
   {
    "duration": 0,
    "start_time": "2022-07-06T12:48:19.023Z"
   },
   {
    "duration": 0,
    "start_time": "2022-07-06T12:48:19.024Z"
   },
   {
    "duration": 0,
    "start_time": "2022-07-06T12:48:19.027Z"
   },
   {
    "duration": 0,
    "start_time": "2022-07-06T12:48:19.027Z"
   },
   {
    "duration": 0,
    "start_time": "2022-07-06T12:48:19.029Z"
   },
   {
    "duration": 0,
    "start_time": "2022-07-06T12:48:19.030Z"
   },
   {
    "duration": 0,
    "start_time": "2022-07-06T12:48:19.031Z"
   },
   {
    "duration": 0,
    "start_time": "2022-07-06T12:48:19.032Z"
   },
   {
    "duration": 0,
    "start_time": "2022-07-06T12:48:19.033Z"
   },
   {
    "duration": 0,
    "start_time": "2022-07-06T12:48:19.034Z"
   },
   {
    "duration": 0,
    "start_time": "2022-07-06T12:48:19.035Z"
   },
   {
    "duration": 0,
    "start_time": "2022-07-06T12:48:19.036Z"
   },
   {
    "duration": 0,
    "start_time": "2022-07-06T12:48:19.037Z"
   },
   {
    "duration": 0,
    "start_time": "2022-07-06T12:48:19.038Z"
   },
   {
    "duration": 0,
    "start_time": "2022-07-06T12:48:19.039Z"
   },
   {
    "duration": 0,
    "start_time": "2022-07-06T12:48:19.040Z"
   },
   {
    "duration": 0,
    "start_time": "2022-07-06T12:48:19.041Z"
   },
   {
    "duration": 0,
    "start_time": "2022-07-06T12:48:19.042Z"
   },
   {
    "duration": 3,
    "start_time": "2022-07-06T12:48:22.034Z"
   },
   {
    "duration": 81,
    "start_time": "2022-07-06T12:48:22.045Z"
   },
   {
    "duration": 5,
    "start_time": "2022-07-06T12:48:22.128Z"
   },
   {
    "duration": 47,
    "start_time": "2022-07-06T12:48:22.134Z"
   },
   {
    "duration": 52,
    "start_time": "2022-07-06T12:48:22.183Z"
   },
   {
    "duration": 61,
    "start_time": "2022-07-06T12:48:22.237Z"
   },
   {
    "duration": 37,
    "start_time": "2022-07-06T12:48:22.323Z"
   },
   {
    "duration": 67,
    "start_time": "2022-07-06T12:48:22.362Z"
   },
   {
    "duration": 9,
    "start_time": "2022-07-06T12:48:22.432Z"
   },
   {
    "duration": 23,
    "start_time": "2022-07-06T12:48:22.442Z"
   },
   {
    "duration": 24,
    "start_time": "2022-07-06T12:48:22.466Z"
   },
   {
    "duration": 102,
    "start_time": "2022-07-06T12:48:22.493Z"
   },
   {
    "duration": 138,
    "start_time": "2022-07-06T12:48:22.597Z"
   },
   {
    "duration": 256,
    "start_time": "2022-07-06T12:48:22.737Z"
   },
   {
    "duration": 7,
    "start_time": "2022-07-06T12:48:22.996Z"
   },
   {
    "duration": 22,
    "start_time": "2022-07-06T12:48:23.005Z"
   },
   {
    "duration": 13,
    "start_time": "2022-07-06T12:48:23.029Z"
   },
   {
    "duration": 597,
    "start_time": "2022-07-06T12:48:23.044Z"
   },
   {
    "duration": 178,
    "start_time": "2022-07-06T12:48:23.643Z"
   },
   {
    "duration": 204,
    "start_time": "2022-07-06T12:48:23.824Z"
   },
   {
    "duration": 297,
    "start_time": "2022-07-06T12:48:24.030Z"
   },
   {
    "duration": 104,
    "start_time": "2022-07-06T12:48:24.329Z"
   },
   {
    "duration": 2191,
    "start_time": "2022-07-06T12:48:24.434Z"
   },
   {
    "duration": 5,
    "start_time": "2022-07-06T12:48:26.627Z"
   },
   {
    "duration": 23,
    "start_time": "2022-07-06T12:48:26.633Z"
   },
   {
    "duration": 14,
    "start_time": "2022-07-06T12:48:26.658Z"
   },
   {
    "duration": 144,
    "start_time": "2022-07-06T12:48:26.725Z"
   },
   {
    "duration": 2312394,
    "start_time": "2022-07-06T13:44:51.010Z"
   },
   {
    "duration": 310838,
    "start_time": "2022-07-06T14:23:23.407Z"
   },
   {
    "duration": 20995,
    "start_time": "2022-07-06T14:28:34.246Z"
   },
   {
    "duration": 3,
    "start_time": "2022-07-06T14:28:55.244Z"
   },
   {
    "duration": 6504,
    "start_time": "2022-07-06T14:28:55.325Z"
   },
   {
    "duration": 4,
    "start_time": "2022-07-06T14:29:01.831Z"
   },
   {
    "duration": 199,
    "start_time": "2022-07-06T14:29:01.837Z"
   },
   {
    "duration": 437,
    "start_time": "2022-07-06T14:29:02.038Z"
   },
   {
    "duration": 5,
    "start_time": "2022-07-06T14:40:35.778Z"
   },
   {
    "duration": 72,
    "start_time": "2022-07-06T14:40:35.784Z"
   },
   {
    "duration": 3,
    "start_time": "2022-07-06T14:40:35.858Z"
   },
   {
    "duration": 40,
    "start_time": "2022-07-06T14:40:35.863Z"
   },
   {
    "duration": 41,
    "start_time": "2022-07-06T14:40:35.904Z"
   },
   {
    "duration": 46,
    "start_time": "2022-07-06T14:40:35.946Z"
   },
   {
    "duration": 55,
    "start_time": "2022-07-06T14:40:35.993Z"
   },
   {
    "duration": 41,
    "start_time": "2022-07-06T14:40:36.050Z"
   },
   {
    "duration": 33,
    "start_time": "2022-07-06T14:40:36.095Z"
   },
   {
    "duration": 10,
    "start_time": "2022-07-06T14:40:36.130Z"
   },
   {
    "duration": 23,
    "start_time": "2022-07-06T14:40:36.141Z"
   },
   {
    "duration": 62,
    "start_time": "2022-07-06T14:40:36.165Z"
   },
   {
    "duration": 114,
    "start_time": "2022-07-06T14:40:36.229Z"
   },
   {
    "duration": 194,
    "start_time": "2022-07-06T14:40:36.344Z"
   },
   {
    "duration": 7,
    "start_time": "2022-07-06T14:40:36.540Z"
   },
   {
    "duration": 8,
    "start_time": "2022-07-06T14:40:36.548Z"
   },
   {
    "duration": 6,
    "start_time": "2022-07-06T14:40:36.557Z"
   },
   {
    "duration": 572,
    "start_time": "2022-07-06T14:40:36.564Z"
   },
   {
    "duration": 181,
    "start_time": "2022-07-06T14:40:37.137Z"
   },
   {
    "duration": 252,
    "start_time": "2022-07-06T14:40:37.320Z"
   },
   {
    "duration": 288,
    "start_time": "2022-07-06T14:40:37.574Z"
   },
   {
    "duration": 117,
    "start_time": "2022-07-06T14:40:37.864Z"
   },
   {
    "duration": 1848,
    "start_time": "2022-07-06T14:40:37.982Z"
   },
   {
    "duration": 4,
    "start_time": "2022-07-06T14:40:39.833Z"
   },
   {
    "duration": 21,
    "start_time": "2022-07-06T14:40:39.838Z"
   },
   {
    "duration": 13,
    "start_time": "2022-07-06T14:40:39.861Z"
   },
   {
    "duration": 109,
    "start_time": "2022-07-06T14:40:39.876Z"
   },
   {
    "duration": 49611,
    "start_time": "2022-07-06T14:40:39.986Z"
   },
   {
    "duration": 63212,
    "start_time": "2022-07-06T14:41:29.598Z"
   },
   {
    "duration": 822,
    "start_time": "2022-07-06T14:42:32.812Z"
   },
   {
    "duration": 4,
    "start_time": "2022-07-06T14:42:33.636Z"
   },
   {
    "duration": 1191,
    "start_time": "2022-07-06T14:42:33.641Z"
   },
   {
    "duration": 3,
    "start_time": "2022-07-06T14:42:34.834Z"
   },
   {
    "duration": 132,
    "start_time": "2022-07-06T14:42:34.839Z"
   },
   {
    "duration": 427,
    "start_time": "2022-07-06T14:42:34.973Z"
   }
  ],
  "kernelspec": {
   "display_name": "Python 3 (ipykernel)",
   "language": "python",
   "name": "python3"
  },
  "language_info": {
   "codemirror_mode": {
    "name": "ipython",
    "version": 3
   },
   "file_extension": ".py",
   "mimetype": "text/x-python",
   "name": "python",
   "nbconvert_exporter": "python",
   "pygments_lexer": "ipython3",
   "version": "3.9.5"
  },
  "toc": {
   "base_numbering": 1,
   "nav_menu": {},
   "number_sections": true,
   "sideBar": true,
   "skip_h1_title": true,
   "title_cell": "Table of Contents",
   "title_sidebar": "Contents",
   "toc_cell": false,
   "toc_position": {},
   "toc_section_display": true,
   "toc_window_display": true
  }
 },
 "nbformat": 4,
 "nbformat_minor": 2
}
