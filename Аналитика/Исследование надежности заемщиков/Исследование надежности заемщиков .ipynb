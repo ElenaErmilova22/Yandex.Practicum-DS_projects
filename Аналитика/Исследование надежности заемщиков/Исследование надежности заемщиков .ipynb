{
 "cells": [
  {
   "cell_type": "markdown",
   "metadata": {},
   "source": [
    "# Исследование надёжности заёмщиков\n",
    "\n",
    "Заказчик — кредитный отдел банка. Нужно разобраться, влияет ли семейное положение и количество детей клиента на факт погашения кредита в срок. Входные данные от банка — статистика о платёжеспособности клиентов.\n",
    "\n",
    "Результаты исследования будут учтены при построении модели **кредитного скоринга** — специальной системы, которая оценивает способность потенциального заёмщика вернуть кредит банку."
   ]
  },
  {
   "cell_type": "markdown",
   "metadata": {},
   "source": [
    "**Цель исследования**: выявить, какие критерии влияют на вероятность погашения займа в срок. \\\n",
    "**Задачи исследования**. Определить, существуют ли зависимости между погашением кредита в срок и:\n",
    "- наличием детей у заемщика, \n",
    "- его семейного положения, \n",
    "- уровня его дохода, \n",
    "- целью кредита."
   ]
  },
  {
   "cell_type": "markdown",
   "metadata": {},
   "source": [
    "## Знакомство с данными"
   ]
  },
  {
   "cell_type": "code",
   "execution_count": 5,
   "metadata": {
    "scrolled": true
   },
   "outputs": [],
   "source": [
    "#импортируем библиотеки, которые понадобятся нам в исследовании\n",
    "\n",
    "import pandas as pd  \n",
    "from pymystem3 import Mystem\n",
    "from collections import Counter\n",
    "from nltk.stem import SnowballStemmer \n",
    "russian_stemmer = SnowballStemmer('russian') "
   ]
  },
  {
   "cell_type": "code",
   "execution_count": 6,
   "metadata": {},
   "outputs": [
    {
     "name": "stdout",
     "output_type": "stream",
     "text": [
      "<class 'pandas.core.frame.DataFrame'>\n",
      "RangeIndex: 21525 entries, 0 to 21524\n",
      "Data columns (total 12 columns):\n",
      "children            21525 non-null int64\n",
      "days_employed       19351 non-null float64\n",
      "dob_years           21525 non-null int64\n",
      "education           21525 non-null object\n",
      "education_id        21525 non-null int64\n",
      "family_status       21525 non-null object\n",
      "family_status_id    21525 non-null int64\n",
      "gender              21525 non-null object\n",
      "income_type         21525 non-null object\n",
      "debt                21525 non-null int64\n",
      "total_income        19351 non-null float64\n",
      "purpose             21525 non-null object\n",
      "dtypes: float64(2), int64(5), object(5)\n",
      "memory usage: 2.0+ MB\n"
     ]
    }
   ],
   "source": [
    "initial_data = pd.read_csv('/datasets/data.csv') #применяем специальный метод для чтения файла формата csv\n",
    "initial_data.info() #запрашиваем и выводим общую информацию об исходном датафрейме"
   ]
  },
  {
   "cell_type": "code",
   "execution_count": 7,
   "metadata": {},
   "outputs": [
    {
     "data": {
      "text/html": [
       "<div>\n",
       "<style scoped>\n",
       "    .dataframe tbody tr th:only-of-type {\n",
       "        vertical-align: middle;\n",
       "    }\n",
       "\n",
       "    .dataframe tbody tr th {\n",
       "        vertical-align: top;\n",
       "    }\n",
       "\n",
       "    .dataframe thead th {\n",
       "        text-align: right;\n",
       "    }\n",
       "</style>\n",
       "<table border=\"1\" class=\"dataframe\">\n",
       "  <thead>\n",
       "    <tr style=\"text-align: right;\">\n",
       "      <th></th>\n",
       "      <th>children</th>\n",
       "      <th>days_employed</th>\n",
       "      <th>dob_years</th>\n",
       "      <th>education</th>\n",
       "      <th>education_id</th>\n",
       "      <th>family_status</th>\n",
       "      <th>family_status_id</th>\n",
       "      <th>gender</th>\n",
       "      <th>income_type</th>\n",
       "      <th>debt</th>\n",
       "      <th>total_income</th>\n",
       "      <th>purpose</th>\n",
       "    </tr>\n",
       "  </thead>\n",
       "  <tbody>\n",
       "    <tr>\n",
       "      <td>0</td>\n",
       "      <td>1</td>\n",
       "      <td>-8437.673028</td>\n",
       "      <td>42</td>\n",
       "      <td>высшее</td>\n",
       "      <td>0</td>\n",
       "      <td>женат / замужем</td>\n",
       "      <td>0</td>\n",
       "      <td>F</td>\n",
       "      <td>сотрудник</td>\n",
       "      <td>0</td>\n",
       "      <td>253875.639453</td>\n",
       "      <td>покупка жилья</td>\n",
       "    </tr>\n",
       "    <tr>\n",
       "      <td>1</td>\n",
       "      <td>1</td>\n",
       "      <td>-4024.803754</td>\n",
       "      <td>36</td>\n",
       "      <td>среднее</td>\n",
       "      <td>1</td>\n",
       "      <td>женат / замужем</td>\n",
       "      <td>0</td>\n",
       "      <td>F</td>\n",
       "      <td>сотрудник</td>\n",
       "      <td>0</td>\n",
       "      <td>112080.014102</td>\n",
       "      <td>приобретение автомобиля</td>\n",
       "    </tr>\n",
       "    <tr>\n",
       "      <td>2</td>\n",
       "      <td>0</td>\n",
       "      <td>-5623.422610</td>\n",
       "      <td>33</td>\n",
       "      <td>Среднее</td>\n",
       "      <td>1</td>\n",
       "      <td>женат / замужем</td>\n",
       "      <td>0</td>\n",
       "      <td>M</td>\n",
       "      <td>сотрудник</td>\n",
       "      <td>0</td>\n",
       "      <td>145885.952297</td>\n",
       "      <td>покупка жилья</td>\n",
       "    </tr>\n",
       "    <tr>\n",
       "      <td>3</td>\n",
       "      <td>3</td>\n",
       "      <td>-4124.747207</td>\n",
       "      <td>32</td>\n",
       "      <td>среднее</td>\n",
       "      <td>1</td>\n",
       "      <td>женат / замужем</td>\n",
       "      <td>0</td>\n",
       "      <td>M</td>\n",
       "      <td>сотрудник</td>\n",
       "      <td>0</td>\n",
       "      <td>267628.550329</td>\n",
       "      <td>дополнительное образование</td>\n",
       "    </tr>\n",
       "    <tr>\n",
       "      <td>4</td>\n",
       "      <td>0</td>\n",
       "      <td>340266.072047</td>\n",
       "      <td>53</td>\n",
       "      <td>среднее</td>\n",
       "      <td>1</td>\n",
       "      <td>гражданский брак</td>\n",
       "      <td>1</td>\n",
       "      <td>F</td>\n",
       "      <td>пенсионер</td>\n",
       "      <td>0</td>\n",
       "      <td>158616.077870</td>\n",
       "      <td>сыграть свадьбу</td>\n",
       "    </tr>\n",
       "    <tr>\n",
       "      <td>5</td>\n",
       "      <td>0</td>\n",
       "      <td>-926.185831</td>\n",
       "      <td>27</td>\n",
       "      <td>высшее</td>\n",
       "      <td>0</td>\n",
       "      <td>гражданский брак</td>\n",
       "      <td>1</td>\n",
       "      <td>M</td>\n",
       "      <td>компаньон</td>\n",
       "      <td>0</td>\n",
       "      <td>255763.565419</td>\n",
       "      <td>покупка жилья</td>\n",
       "    </tr>\n",
       "    <tr>\n",
       "      <td>6</td>\n",
       "      <td>0</td>\n",
       "      <td>-2879.202052</td>\n",
       "      <td>43</td>\n",
       "      <td>высшее</td>\n",
       "      <td>0</td>\n",
       "      <td>женат / замужем</td>\n",
       "      <td>0</td>\n",
       "      <td>F</td>\n",
       "      <td>компаньон</td>\n",
       "      <td>0</td>\n",
       "      <td>240525.971920</td>\n",
       "      <td>операции с жильем</td>\n",
       "    </tr>\n",
       "    <tr>\n",
       "      <td>7</td>\n",
       "      <td>0</td>\n",
       "      <td>-152.779569</td>\n",
       "      <td>50</td>\n",
       "      <td>СРЕДНЕЕ</td>\n",
       "      <td>1</td>\n",
       "      <td>женат / замужем</td>\n",
       "      <td>0</td>\n",
       "      <td>M</td>\n",
       "      <td>сотрудник</td>\n",
       "      <td>0</td>\n",
       "      <td>135823.934197</td>\n",
       "      <td>образование</td>\n",
       "    </tr>\n",
       "    <tr>\n",
       "      <td>8</td>\n",
       "      <td>2</td>\n",
       "      <td>-6929.865299</td>\n",
       "      <td>35</td>\n",
       "      <td>ВЫСШЕЕ</td>\n",
       "      <td>0</td>\n",
       "      <td>гражданский брак</td>\n",
       "      <td>1</td>\n",
       "      <td>F</td>\n",
       "      <td>сотрудник</td>\n",
       "      <td>0</td>\n",
       "      <td>95856.832424</td>\n",
       "      <td>на проведение свадьбы</td>\n",
       "    </tr>\n",
       "    <tr>\n",
       "      <td>9</td>\n",
       "      <td>0</td>\n",
       "      <td>-2188.756445</td>\n",
       "      <td>41</td>\n",
       "      <td>среднее</td>\n",
       "      <td>1</td>\n",
       "      <td>женат / замужем</td>\n",
       "      <td>0</td>\n",
       "      <td>M</td>\n",
       "      <td>сотрудник</td>\n",
       "      <td>0</td>\n",
       "      <td>144425.938277</td>\n",
       "      <td>покупка жилья для семьи</td>\n",
       "    </tr>\n",
       "  </tbody>\n",
       "</table>\n",
       "</div>"
      ],
      "text/plain": [
       "   children  days_employed  dob_years education  education_id  \\\n",
       "0         1   -8437.673028         42    высшее             0   \n",
       "1         1   -4024.803754         36   среднее             1   \n",
       "2         0   -5623.422610         33   Среднее             1   \n",
       "3         3   -4124.747207         32   среднее             1   \n",
       "4         0  340266.072047         53   среднее             1   \n",
       "5         0    -926.185831         27    высшее             0   \n",
       "6         0   -2879.202052         43    высшее             0   \n",
       "7         0    -152.779569         50   СРЕДНЕЕ             1   \n",
       "8         2   -6929.865299         35    ВЫСШЕЕ             0   \n",
       "9         0   -2188.756445         41   среднее             1   \n",
       "\n",
       "      family_status  family_status_id gender income_type  debt   total_income  \\\n",
       "0   женат / замужем                 0      F   сотрудник     0  253875.639453   \n",
       "1   женат / замужем                 0      F   сотрудник     0  112080.014102   \n",
       "2   женат / замужем                 0      M   сотрудник     0  145885.952297   \n",
       "3   женат / замужем                 0      M   сотрудник     0  267628.550329   \n",
       "4  гражданский брак                 1      F   пенсионер     0  158616.077870   \n",
       "5  гражданский брак                 1      M   компаньон     0  255763.565419   \n",
       "6   женат / замужем                 0      F   компаньон     0  240525.971920   \n",
       "7   женат / замужем                 0      M   сотрудник     0  135823.934197   \n",
       "8  гражданский брак                 1      F   сотрудник     0   95856.832424   \n",
       "9   женат / замужем                 0      M   сотрудник     0  144425.938277   \n",
       "\n",
       "                      purpose  \n",
       "0               покупка жилья  \n",
       "1     приобретение автомобиля  \n",
       "2               покупка жилья  \n",
       "3  дополнительное образование  \n",
       "4             сыграть свадьбу  \n",
       "5               покупка жилья  \n",
       "6           операции с жильем  \n",
       "7                 образование  \n",
       "8       на проведение свадьбы  \n",
       "9     покупка жилья для семьи  "
      ]
     },
     "metadata": {},
     "output_type": "display_data"
    }
   ],
   "source": [
    "#произведем обзор полученных данных, вызвав 10 верхних и нижних строк датафрейма\n",
    "\n",
    "display(initial_data.head(10))"
   ]
  },
  {
   "cell_type": "code",
   "execution_count": 8,
   "metadata": {},
   "outputs": [
    {
     "data": {
      "text/html": [
       "<div>\n",
       "<style scoped>\n",
       "    .dataframe tbody tr th:only-of-type {\n",
       "        vertical-align: middle;\n",
       "    }\n",
       "\n",
       "    .dataframe tbody tr th {\n",
       "        vertical-align: top;\n",
       "    }\n",
       "\n",
       "    .dataframe thead th {\n",
       "        text-align: right;\n",
       "    }\n",
       "</style>\n",
       "<table border=\"1\" class=\"dataframe\">\n",
       "  <thead>\n",
       "    <tr style=\"text-align: right;\">\n",
       "      <th></th>\n",
       "      <th>children</th>\n",
       "      <th>days_employed</th>\n",
       "      <th>dob_years</th>\n",
       "      <th>education</th>\n",
       "      <th>education_id</th>\n",
       "      <th>family_status</th>\n",
       "      <th>family_status_id</th>\n",
       "      <th>gender</th>\n",
       "      <th>income_type</th>\n",
       "      <th>debt</th>\n",
       "      <th>total_income</th>\n",
       "      <th>purpose</th>\n",
       "    </tr>\n",
       "  </thead>\n",
       "  <tbody>\n",
       "    <tr>\n",
       "      <td>21515</td>\n",
       "      <td>1</td>\n",
       "      <td>-467.685130</td>\n",
       "      <td>28</td>\n",
       "      <td>среднее</td>\n",
       "      <td>1</td>\n",
       "      <td>женат / замужем</td>\n",
       "      <td>0</td>\n",
       "      <td>F</td>\n",
       "      <td>сотрудник</td>\n",
       "      <td>1</td>\n",
       "      <td>109486.327999</td>\n",
       "      <td>заняться образованием</td>\n",
       "    </tr>\n",
       "    <tr>\n",
       "      <td>21516</td>\n",
       "      <td>0</td>\n",
       "      <td>-914.391429</td>\n",
       "      <td>42</td>\n",
       "      <td>высшее</td>\n",
       "      <td>0</td>\n",
       "      <td>женат / замужем</td>\n",
       "      <td>0</td>\n",
       "      <td>F</td>\n",
       "      <td>компаньон</td>\n",
       "      <td>0</td>\n",
       "      <td>322807.776603</td>\n",
       "      <td>покупка своего жилья</td>\n",
       "    </tr>\n",
       "    <tr>\n",
       "      <td>21517</td>\n",
       "      <td>0</td>\n",
       "      <td>-404.679034</td>\n",
       "      <td>42</td>\n",
       "      <td>высшее</td>\n",
       "      <td>0</td>\n",
       "      <td>гражданский брак</td>\n",
       "      <td>1</td>\n",
       "      <td>F</td>\n",
       "      <td>компаньон</td>\n",
       "      <td>0</td>\n",
       "      <td>178059.553491</td>\n",
       "      <td>на покупку своего автомобиля</td>\n",
       "    </tr>\n",
       "    <tr>\n",
       "      <td>21518</td>\n",
       "      <td>0</td>\n",
       "      <td>373995.710838</td>\n",
       "      <td>59</td>\n",
       "      <td>СРЕДНЕЕ</td>\n",
       "      <td>1</td>\n",
       "      <td>женат / замужем</td>\n",
       "      <td>0</td>\n",
       "      <td>F</td>\n",
       "      <td>пенсионер</td>\n",
       "      <td>0</td>\n",
       "      <td>153864.650328</td>\n",
       "      <td>сделка с автомобилем</td>\n",
       "    </tr>\n",
       "    <tr>\n",
       "      <td>21519</td>\n",
       "      <td>1</td>\n",
       "      <td>-2351.431934</td>\n",
       "      <td>37</td>\n",
       "      <td>ученая степень</td>\n",
       "      <td>4</td>\n",
       "      <td>в разводе</td>\n",
       "      <td>3</td>\n",
       "      <td>M</td>\n",
       "      <td>сотрудник</td>\n",
       "      <td>0</td>\n",
       "      <td>115949.039788</td>\n",
       "      <td>покупка коммерческой недвижимости</td>\n",
       "    </tr>\n",
       "    <tr>\n",
       "      <td>21520</td>\n",
       "      <td>1</td>\n",
       "      <td>-4529.316663</td>\n",
       "      <td>43</td>\n",
       "      <td>среднее</td>\n",
       "      <td>1</td>\n",
       "      <td>гражданский брак</td>\n",
       "      <td>1</td>\n",
       "      <td>F</td>\n",
       "      <td>компаньон</td>\n",
       "      <td>0</td>\n",
       "      <td>224791.862382</td>\n",
       "      <td>операции с жильем</td>\n",
       "    </tr>\n",
       "    <tr>\n",
       "      <td>21521</td>\n",
       "      <td>0</td>\n",
       "      <td>343937.404131</td>\n",
       "      <td>67</td>\n",
       "      <td>среднее</td>\n",
       "      <td>1</td>\n",
       "      <td>женат / замужем</td>\n",
       "      <td>0</td>\n",
       "      <td>F</td>\n",
       "      <td>пенсионер</td>\n",
       "      <td>0</td>\n",
       "      <td>155999.806512</td>\n",
       "      <td>сделка с автомобилем</td>\n",
       "    </tr>\n",
       "    <tr>\n",
       "      <td>21522</td>\n",
       "      <td>1</td>\n",
       "      <td>-2113.346888</td>\n",
       "      <td>38</td>\n",
       "      <td>среднее</td>\n",
       "      <td>1</td>\n",
       "      <td>гражданский брак</td>\n",
       "      <td>1</td>\n",
       "      <td>M</td>\n",
       "      <td>сотрудник</td>\n",
       "      <td>1</td>\n",
       "      <td>89672.561153</td>\n",
       "      <td>недвижимость</td>\n",
       "    </tr>\n",
       "    <tr>\n",
       "      <td>21523</td>\n",
       "      <td>3</td>\n",
       "      <td>-3112.481705</td>\n",
       "      <td>38</td>\n",
       "      <td>среднее</td>\n",
       "      <td>1</td>\n",
       "      <td>женат / замужем</td>\n",
       "      <td>0</td>\n",
       "      <td>M</td>\n",
       "      <td>сотрудник</td>\n",
       "      <td>1</td>\n",
       "      <td>244093.050500</td>\n",
       "      <td>на покупку своего автомобиля</td>\n",
       "    </tr>\n",
       "    <tr>\n",
       "      <td>21524</td>\n",
       "      <td>2</td>\n",
       "      <td>-1984.507589</td>\n",
       "      <td>40</td>\n",
       "      <td>среднее</td>\n",
       "      <td>1</td>\n",
       "      <td>женат / замужем</td>\n",
       "      <td>0</td>\n",
       "      <td>F</td>\n",
       "      <td>сотрудник</td>\n",
       "      <td>0</td>\n",
       "      <td>82047.418899</td>\n",
       "      <td>на покупку автомобиля</td>\n",
       "    </tr>\n",
       "  </tbody>\n",
       "</table>\n",
       "</div>"
      ],
      "text/plain": [
       "       children  days_employed  dob_years       education  education_id  \\\n",
       "21515         1    -467.685130         28         среднее             1   \n",
       "21516         0    -914.391429         42          высшее             0   \n",
       "21517         0    -404.679034         42          высшее             0   \n",
       "21518         0  373995.710838         59         СРЕДНЕЕ             1   \n",
       "21519         1   -2351.431934         37  ученая степень             4   \n",
       "21520         1   -4529.316663         43         среднее             1   \n",
       "21521         0  343937.404131         67         среднее             1   \n",
       "21522         1   -2113.346888         38         среднее             1   \n",
       "21523         3   -3112.481705         38         среднее             1   \n",
       "21524         2   -1984.507589         40         среднее             1   \n",
       "\n",
       "          family_status  family_status_id gender income_type  debt  \\\n",
       "21515   женат / замужем                 0      F   сотрудник     1   \n",
       "21516   женат / замужем                 0      F   компаньон     0   \n",
       "21517  гражданский брак                 1      F   компаньон     0   \n",
       "21518   женат / замужем                 0      F   пенсионер     0   \n",
       "21519         в разводе                 3      M   сотрудник     0   \n",
       "21520  гражданский брак                 1      F   компаньон     0   \n",
       "21521   женат / замужем                 0      F   пенсионер     0   \n",
       "21522  гражданский брак                 1      M   сотрудник     1   \n",
       "21523   женат / замужем                 0      M   сотрудник     1   \n",
       "21524   женат / замужем                 0      F   сотрудник     0   \n",
       "\n",
       "        total_income                            purpose  \n",
       "21515  109486.327999              заняться образованием  \n",
       "21516  322807.776603               покупка своего жилья  \n",
       "21517  178059.553491       на покупку своего автомобиля  \n",
       "21518  153864.650328               сделка с автомобилем  \n",
       "21519  115949.039788  покупка коммерческой недвижимости  \n",
       "21520  224791.862382                  операции с жильем  \n",
       "21521  155999.806512               сделка с автомобилем  \n",
       "21522   89672.561153                       недвижимость  \n",
       "21523  244093.050500       на покупку своего автомобиля  \n",
       "21524   82047.418899              на покупку автомобиля  "
      ]
     },
     "metadata": {},
     "output_type": "display_data"
    }
   ],
   "source": [
    "display(initial_data.tail(10))"
   ]
  },
  {
   "cell_type": "code",
   "execution_count": 9,
   "metadata": {},
   "outputs": [
    {
     "data": {
      "text/html": [
       "<div>\n",
       "<style scoped>\n",
       "    .dataframe tbody tr th:only-of-type {\n",
       "        vertical-align: middle;\n",
       "    }\n",
       "\n",
       "    .dataframe tbody tr th {\n",
       "        vertical-align: top;\n",
       "    }\n",
       "\n",
       "    .dataframe thead th {\n",
       "        text-align: right;\n",
       "    }\n",
       "</style>\n",
       "<table border=\"1\" class=\"dataframe\">\n",
       "  <thead>\n",
       "    <tr style=\"text-align: right;\">\n",
       "      <th></th>\n",
       "      <th>children</th>\n",
       "      <th>days_employed</th>\n",
       "      <th>dob_years</th>\n",
       "      <th>education_id</th>\n",
       "      <th>family_status_id</th>\n",
       "      <th>debt</th>\n",
       "      <th>total_income</th>\n",
       "    </tr>\n",
       "  </thead>\n",
       "  <tbody>\n",
       "    <tr>\n",
       "      <td>count</td>\n",
       "      <td>21525.000000</td>\n",
       "      <td>19351.000000</td>\n",
       "      <td>21525.000000</td>\n",
       "      <td>21525.000000</td>\n",
       "      <td>21525.000000</td>\n",
       "      <td>21525.000000</td>\n",
       "      <td>1.935100e+04</td>\n",
       "    </tr>\n",
       "    <tr>\n",
       "      <td>mean</td>\n",
       "      <td>0.538908</td>\n",
       "      <td>63046.497661</td>\n",
       "      <td>43.293380</td>\n",
       "      <td>0.817236</td>\n",
       "      <td>0.972544</td>\n",
       "      <td>0.080883</td>\n",
       "      <td>1.674223e+05</td>\n",
       "    </tr>\n",
       "    <tr>\n",
       "      <td>std</td>\n",
       "      <td>1.381587</td>\n",
       "      <td>140827.311974</td>\n",
       "      <td>12.574584</td>\n",
       "      <td>0.548138</td>\n",
       "      <td>1.420324</td>\n",
       "      <td>0.272661</td>\n",
       "      <td>1.029716e+05</td>\n",
       "    </tr>\n",
       "    <tr>\n",
       "      <td>min</td>\n",
       "      <td>-1.000000</td>\n",
       "      <td>-18388.949901</td>\n",
       "      <td>0.000000</td>\n",
       "      <td>0.000000</td>\n",
       "      <td>0.000000</td>\n",
       "      <td>0.000000</td>\n",
       "      <td>2.066726e+04</td>\n",
       "    </tr>\n",
       "    <tr>\n",
       "      <td>25%</td>\n",
       "      <td>0.000000</td>\n",
       "      <td>-2747.423625</td>\n",
       "      <td>33.000000</td>\n",
       "      <td>1.000000</td>\n",
       "      <td>0.000000</td>\n",
       "      <td>0.000000</td>\n",
       "      <td>1.030532e+05</td>\n",
       "    </tr>\n",
       "    <tr>\n",
       "      <td>50%</td>\n",
       "      <td>0.000000</td>\n",
       "      <td>-1203.369529</td>\n",
       "      <td>42.000000</td>\n",
       "      <td>1.000000</td>\n",
       "      <td>0.000000</td>\n",
       "      <td>0.000000</td>\n",
       "      <td>1.450179e+05</td>\n",
       "    </tr>\n",
       "    <tr>\n",
       "      <td>75%</td>\n",
       "      <td>1.000000</td>\n",
       "      <td>-291.095954</td>\n",
       "      <td>53.000000</td>\n",
       "      <td>1.000000</td>\n",
       "      <td>1.000000</td>\n",
       "      <td>0.000000</td>\n",
       "      <td>2.034351e+05</td>\n",
       "    </tr>\n",
       "    <tr>\n",
       "      <td>max</td>\n",
       "      <td>20.000000</td>\n",
       "      <td>401755.400475</td>\n",
       "      <td>75.000000</td>\n",
       "      <td>4.000000</td>\n",
       "      <td>4.000000</td>\n",
       "      <td>1.000000</td>\n",
       "      <td>2.265604e+06</td>\n",
       "    </tr>\n",
       "  </tbody>\n",
       "</table>\n",
       "</div>"
      ],
      "text/plain": [
       "           children  days_employed     dob_years  education_id  \\\n",
       "count  21525.000000   19351.000000  21525.000000  21525.000000   \n",
       "mean       0.538908   63046.497661     43.293380      0.817236   \n",
       "std        1.381587  140827.311974     12.574584      0.548138   \n",
       "min       -1.000000  -18388.949901      0.000000      0.000000   \n",
       "25%        0.000000   -2747.423625     33.000000      1.000000   \n",
       "50%        0.000000   -1203.369529     42.000000      1.000000   \n",
       "75%        1.000000    -291.095954     53.000000      1.000000   \n",
       "max       20.000000  401755.400475     75.000000      4.000000   \n",
       "\n",
       "       family_status_id          debt  total_income  \n",
       "count      21525.000000  21525.000000  1.935100e+04  \n",
       "mean           0.972544      0.080883  1.674223e+05  \n",
       "std            1.420324      0.272661  1.029716e+05  \n",
       "min            0.000000      0.000000  2.066726e+04  \n",
       "25%            0.000000      0.000000  1.030532e+05  \n",
       "50%            0.000000      0.000000  1.450179e+05  \n",
       "75%            1.000000      0.000000  2.034351e+05  \n",
       "max            4.000000      1.000000  2.265604e+06  "
      ]
     },
     "execution_count": 9,
     "metadata": {},
     "output_type": "execute_result"
    }
   ],
   "source": [
    "#вызовем метод describe() для изучения основных статистических характеристик полученных данных\n",
    "initial_data.describe()"
   ]
  },
  {
   "cell_type": "markdown",
   "metadata": {},
   "source": [
    "**Вывод**"
   ]
  },
  {
   "cell_type": "markdown",
   "metadata": {},
   "source": [
    "Всего в датафрейме 12 столбцов и 21525 строк. Знакомство с данными позволило выявить следующие проблемы, требующие решения:\n",
    "- в столбцах days_employed и total_income присутствуют пропуски значений\n",
    "- в столбцах children и days_employed присутствуют отрицательные значения, которых там быть не должно\n",
    "- в столбце education присутствуют дубликаты, связанные с регистром букв\n",
    "- в датафрейме присутствуют данные, которые, с большой долей вероятности, не понадобятся в исследовании: сведения об образовании, а также идентификаторы образования и семейного положения\n",
    "- минимальный возраст клиента равен 0\n",
    "- некорректные, малоинформативные и сбивающие с толку названия некоторых столбцов\n",
    "- непонятна единица измерения в столбце total_income\n",
    "- слишком большое количество знаков после запятой в данных total_income может затруднить анализ\n",
    "- неверный тип данных в столбце dob_years"
   ]
  },
  {
   "cell_type": "markdown",
   "metadata": {},
   "source": [
    "## Предобработка данных"
   ]
  },
  {
   "cell_type": "markdown",
   "metadata": {},
   "source": [
    "### Обработка пропусков"
   ]
  },
  {
   "cell_type": "markdown",
   "metadata": {},
   "source": [
    "Начнем предобработку данных с переименования столбцов. Дадим новые, более конкретные и при этом информативные названия столбцам children, dob_years, income_type, purpose и total_income, сохранив стиль написания.                                                  "
   ]
  },
  {
   "cell_type": "code",
   "execution_count": 10,
   "metadata": {},
   "outputs": [
    {
     "name": "stdout",
     "output_type": "stream",
     "text": [
      "Index(['number_of_children', 'days_employed', 'age_years', 'education',\n",
      "       'education_id', 'family_status', 'family_status_id', 'gender',\n",
      "       'type_of_employment', 'debt', 'monthly_income', 'purpose_of_credit'],\n",
      "      dtype='object')\n"
     ]
    }
   ],
   "source": [
    "#используем метод rename()\n",
    "initial_data = initial_data.rename(columns={'children':'number_of_children', 'dob_years':'age_years', 'income_type':'type_of_employment', 'total_income':'monthly_income', 'purpose':'purpose_of_credit'})\n",
    "\n",
    "#проверим результат\n",
    "print(initial_data.columns)"
   ]
  },
  {
   "cell_type": "markdown",
   "metadata": {},
   "source": [
    "Столбцы переименованы, теперь их названия несут больше полезной информации. Далее займемся пропусками и для начала посчитаем их количество в каждом столбце таблицы."
   ]
  },
  {
   "cell_type": "code",
   "execution_count": 11,
   "metadata": {},
   "outputs": [
    {
     "name": "stdout",
     "output_type": "stream",
     "text": [
      "number_of_children       0\n",
      "days_employed         2174\n",
      "age_years                0\n",
      "education                0\n",
      "education_id             0\n",
      "family_status            0\n",
      "family_status_id         0\n",
      "gender                   0\n",
      "type_of_employment       0\n",
      "debt                     0\n",
      "monthly_income        2174\n",
      "purpose_of_credit        0\n",
      "dtype: int64\n"
     ]
    }
   ],
   "source": [
    "print(initial_data.isna().sum())"
   ]
  },
  {
   "cell_type": "markdown",
   "metadata": {},
   "source": [
    "Как уже было выявлено на этапе знакомства с данными, пропуски есть в столбцах days_employed и monthly_income, причем количество пропусков в них совпадает. На мой взгляд, возможны две причины появления данных пропусков: ошибка при выгрузке данных, либо данные клиенты никогда не работали в силу определенных обстоятельств (возраст, состояние здоровья, финансовое положение семьи и тд). Тогда можно заменить данные пропуски на нули, так как постановка средних или медианных значений может исказить данные и итоговые выводы."
   ]
  },
  {
   "cell_type": "code",
   "execution_count": 12,
   "metadata": {},
   "outputs": [],
   "source": [
    "initial_data = initial_data.fillna(0) #заменяем пропущенные значения на 0    "
   ]
  },
  {
   "cell_type": "code",
   "execution_count": 13,
   "metadata": {},
   "outputs": [
    {
     "name": "stdout",
     "output_type": "stream",
     "text": [
      "number_of_children    0\n",
      "days_employed         0\n",
      "age_years             0\n",
      "education             0\n",
      "education_id          0\n",
      "family_status         0\n",
      "family_status_id      0\n",
      "gender                0\n",
      "type_of_employment    0\n",
      "debt                  0\n",
      "monthly_income        0\n",
      "purpose_of_credit     0\n",
      "dtype: int64\n"
     ]
    }
   ],
   "source": [
    "print(initial_data.isna().sum()) #проверяем, не остались ли пропуски в таблице"
   ]
  },
  {
   "cell_type": "markdown",
   "metadata": {},
   "source": [
    "Мы заменили имеющиеся пропуски на 0, а не удалили соответствующие строки, так как помимо данных о стаже и доходе они содержат сведения о семейном положении, количестве детей клиентов и целях кредита, взаимосвязь с которыми нам также нужно выяснить. Поэтому на данном шаге был применен метод fillna(), а не dropna()."
   ]
  },
  {
   "cell_type": "markdown",
   "metadata": {},
   "source": [
    "От пропусков в данных избавились, теперь откорректируем тип данных в столбце age_years."
   ]
  },
  {
   "cell_type": "markdown",
   "metadata": {},
   "source": [
    "### Замена типа данных"
   ]
  },
  {
   "cell_type": "code",
   "execution_count": 14,
   "metadata": {},
   "outputs": [
    {
     "name": "stdout",
     "output_type": "stream",
     "text": [
      "0        42\n",
      "1        36\n",
      "2        33\n",
      "3        32\n",
      "4        53\n",
      "         ..\n",
      "21520    43\n",
      "21521    67\n",
      "21522    38\n",
      "21523    38\n",
      "21524    40\n",
      "Name: age_years, Length: 21525, dtype: int64\n"
     ]
    }
   ],
   "source": [
    "initial_data['age_years'] = initial_data['age_years'].astype(int) #заменим тип данных в столбце на int64\n",
    "print(initial_data['age_years']) #проверим результат"
   ]
  },
  {
   "cell_type": "markdown",
   "metadata": {},
   "source": [
    "Одной из выявленных на первом этапе проблем стало большое количество знаков после запятой в данных столбца total_income.  Применим к ним функцию round, чтобы ограничить количество знаков до двух:"
   ]
  },
  {
   "cell_type": "code",
   "execution_count": 15,
   "metadata": {},
   "outputs": [
    {
     "name": "stdout",
     "output_type": "stream",
     "text": [
      "0        253875.64\n",
      "1        112080.01\n",
      "2        145885.95\n",
      "3        267628.55\n",
      "4        158616.08\n",
      "           ...    \n",
      "21520    224791.86\n",
      "21521    155999.81\n",
      "21522     89672.56\n",
      "21523    244093.05\n",
      "21524     82047.42\n",
      "Name: monthly_income, Length: 21525, dtype: float64\n"
     ]
    }
   ],
   "source": [
    "initial_data['monthly_income'] = round(initial_data['monthly_income'], 2)\n",
    "print(initial_data['monthly_income'])"
   ]
  },
  {
   "cell_type": "markdown",
   "metadata": {},
   "source": [
    "**Вывод:** Возраст относится к количественным данным, и в дальнейшем нам придется сравнивать клиентов по этому признаку и, возможно, объединять в категории. Удобнее это делать, когда возраст указан в виде полных лет, без учета месяцев. Поэтому на данном шаге мы изменили формат данных в столбце age_years на целочисленные.\n",
    "К столбцу monthly_income мы применили функцию, позволившую округлить данные до двух знаков после запятой. Это также облегчит работу с ними в дальнейшем."
   ]
  },
  {
   "cell_type": "markdown",
   "metadata": {},
   "source": [
    "Обзор данных позволил также выявить наличие в них дубликатов, которые необходимо удалить. Этому будет посвящен следующий шаг исследования."
   ]
  },
  {
   "cell_type": "markdown",
   "metadata": {},
   "source": [
    "### Обработка дубликатов"
   ]
  },
  {
   "cell_type": "markdown",
   "metadata": {},
   "source": [
    "Для начала посчитаем количество явных дубликатов в таблице:"
   ]
  },
  {
   "cell_type": "code",
   "execution_count": 16,
   "metadata": {},
   "outputs": [
    {
     "name": "stdout",
     "output_type": "stream",
     "text": [
      "54\n"
     ]
    }
   ],
   "source": [
    "print(initial_data.duplicated().sum())"
   ]
  },
  {
   "cell_type": "markdown",
   "metadata": {},
   "source": [
    "Обзор данных позволил выявить проблемы с регистром букв в столбце education. Это может мешать выявлению и подсчету явных дубликатов, поэтому нужно привести данные к единому регистру. Используем метод str.lower():"
   ]
  },
  {
   "cell_type": "code",
   "execution_count": 17,
   "metadata": {},
   "outputs": [
    {
     "name": "stdout",
     "output_type": "stream",
     "text": [
      "71\n"
     ]
    }
   ],
   "source": [
    "initial_data['education'] = initial_data['education'].str.lower() #приводим все буквы к нижнему регистру\n",
    "print(initial_data.duplicated().sum()) #вновь считаем дубликаты"
   ]
  },
  {
   "cell_type": "markdown",
   "metadata": {},
   "source": [
    "Как мы можем видеть, после корректировки регистра количество выявленных дубликатов действительно увеличилось. Удалим дубликаты и откорректируем индексацию:"
   ]
  },
  {
   "cell_type": "code",
   "execution_count": 18,
   "metadata": {},
   "outputs": [
    {
     "name": "stdout",
     "output_type": "stream",
     "text": [
      "0\n"
     ]
    }
   ],
   "source": [
    "initial_data = initial_data.drop_duplicates().reset_index(drop=True) #удаление дублей\n",
    "print(initial_data.duplicated().sum()) #проверка"
   ]
  },
  {
   "cell_type": "markdown",
   "metadata": {},
   "source": [
    "**Вывод:** Явные дубликаты устранены. Возможная причина их возникновения: один клиент мог неоднократно брать кредит в банке, и каждый раз его данные вносились в базу заново, а проверка на то, что данные этого клиента в ней уже есть, не проводилась."
   ]
  },
  {
   "cell_type": "markdown",
   "metadata": {},
   "source": [
    "Теперь разберемся с отрицательными значениями в столбцах number_of_children и days_employed. Для начала убедимся, что в столбце с данными о количестве детей присутствует только одно отрицательное значение: - 1. Используем для этого метод unique():"
   ]
  },
  {
   "cell_type": "code",
   "execution_count": 19,
   "metadata": {},
   "outputs": [
    {
     "name": "stdout",
     "output_type": "stream",
     "text": [
      "[ 1  0  3  2 -1  4 20  5]\n"
     ]
    }
   ],
   "source": [
    "print(initial_data['number_of_children'].unique())"
   ]
  },
  {
   "cell_type": "markdown",
   "metadata": {},
   "source": [
    "Отрицательное значение действительно одно, однако в столбце присутствует другое значение, которое выбивается из общего ряда и выглядит недостоверным: 20. Проверим, как часто встречается это значение:"
   ]
  },
  {
   "cell_type": "code",
   "execution_count": 20,
   "metadata": {},
   "outputs": [
    {
     "name": "stdout",
     "output_type": "stream",
     "text": [
      "76\n"
     ]
    }
   ],
   "source": [
    "print(initial_data[initial_data['number_of_children'] == 20]['number_of_children'].count())"
   ]
  },
  {
   "cell_type": "markdown",
   "metadata": {},
   "source": [
    "76 клиентов с 20 детьми выглядит малоправдоподобно. Проверим, какой у них возраст:"
   ]
  },
  {
   "cell_type": "code",
   "execution_count": 21,
   "metadata": {},
   "outputs": [
    {
     "name": "stdout",
     "output_type": "stream",
     "text": [
      "age_years\n",
      "0     1\n",
      "21    1\n",
      "23    1\n",
      "24    1\n",
      "25    1\n",
      "26    1\n",
      "27    2\n",
      "29    2\n",
      "30    3\n",
      "31    2\n",
      "32    2\n",
      "33    2\n",
      "34    3\n",
      "35    2\n",
      "36    2\n",
      "37    4\n",
      "38    1\n",
      "39    1\n",
      "40    4\n",
      "41    2\n",
      "42    3\n",
      "43    2\n",
      "44    2\n",
      "45    3\n",
      "46    3\n",
      "48    1\n",
      "49    3\n",
      "50    3\n",
      "51    1\n",
      "52    1\n",
      "53    1\n",
      "54    1\n",
      "55    1\n",
      "56    5\n",
      "57    1\n",
      "59    2\n",
      "60    1\n",
      "61    1\n",
      "62    1\n",
      "64    1\n",
      "69    1\n",
      "Name: age_years, dtype: int64\n"
     ]
    }
   ],
   "source": [
    "print(initial_data[initial_data['number_of_children'] == 20].groupby('age_years')['age_years'].count())"
   ]
  },
  {
   "cell_type": "markdown",
   "metadata": {},
   "source": [
    "В выборку попало большое количество клиентов, младше 40 и даже 30 лет, поэтому мужно сделать вывод, что значение 20 попало в данные по ошибке. Вычислим долю клиентов с некорректно указанным количеством детей: "
   ]
  },
  {
   "cell_type": "code",
   "execution_count": 25,
   "metadata": {},
   "outputs": [
    {
     "name": "stdout",
     "output_type": "stream",
     "text": [
      "Доля клиентов с 20-ю детьми: 0.35%\n",
      "Доля клиентов с минус 1 ребенком: 0.22%\n"
     ]
    }
   ],
   "source": [
    "share_of_error_children = 76/21525 #вычислим долю клиентов с 20-ю детьми\n",
    "share_of_error_child = (initial_data[initial_data['number_of_children'] == -1]['number_of_children'].count())/21525 #вычислим долю клиентов с -1 ребенком\n",
    "print('Доля клиентов с 20-ю детьми: {:.2%}'.format(share_of_error_children))\n",
    "print('Доля клиентов с минус 1 ребенком: {:.2%}'.format(share_of_error_child)) "
   ]
  },
  {
   "cell_type": "markdown",
   "metadata": {},
   "source": [
    "Совокупная доля клиентов с аномальным количеством детей в датасете менее 1 %. Заменим некорректное значение 20 на 2, а - 1 на 1 и вновь проверим таблицу на наличие дубликатов."
   ]
  },
  {
   "cell_type": "code",
   "execution_count": 230,
   "metadata": {},
   "outputs": [
    {
     "name": "stdout",
     "output_type": "stream",
     "text": [
      "[1 0 3 2 4 5]\n",
      "0\n"
     ]
    }
   ],
   "source": [
    "initial_data['number_of_children'] = initial_data['number_of_children'].replace(20,2) #меняем ошибочное значение\n",
    "initial_data['number_of_children'] = initial_data['number_of_children'].replace(-1,1) #меняем отрицательное значение\n",
    "print(initial_data['number_of_children'].unique()) #проверяем уникальные значения в столбце\n",
    "print(initial_data.duplicated().sum()) #вновь считаем явные дубликаты                                                               "
   ]
  },
  {
   "cell_type": "markdown",
   "metadata": {},
   "source": [
    "Изменения некорректных значений в столбце number_of_children не повлияли на количество дубликатов, поэтому можно перейти к обработке отрицательных значений стажа. Перед этим вновь оставим напоминание о том, что в столбце возраста присутствует значение 0, появление которого тоже нужно будет исследовать."
   ]
  },
  {
   "cell_type": "code",
   "execution_count": 231,
   "metadata": {},
   "outputs": [
    {
     "name": "stdout",
     "output_type": "stream",
     "text": [
      "count     21454.000000\n",
      "mean      60355.501029\n",
      "std      133531.435468\n",
      "min           0.000000\n",
      "25%         622.434168\n",
      "50%        1821.731499\n",
      "75%        4797.503489\n",
      "max      401755.400475\n",
      "Name: days_employed, dtype: float64\n"
     ]
    }
   ],
   "source": [
    "initial_data['days_employed'] = initial_data['days_employed'].abs() #избавляемся от отрицательных значений\n",
    "print(initial_data['days_employed'].describe()) #просмотрим статистические характеристики столбца на предмет других аномалий"
   ]
  },
  {
   "cell_type": "markdown",
   "metadata": {},
   "source": [
    "Вызов метода describe() позволил выявить две проблемы: работать с данными о трудовом стаже, выраженном в днях, не очень удобно, а максимальный стаж перевалил за 1000 лет, что явно указывает на ошибку. Для начала добавим в исходную таблицу новый столбец со стажем, выраженным в годах:"
   ]
  },
  {
   "cell_type": "code",
   "execution_count": 232,
   "metadata": {},
   "outputs": [
    {
     "name": "stdout",
     "output_type": "stream",
     "text": [
      "count    21454.000000\n",
      "mean       165.357537\n",
      "std        365.839549\n",
      "min          0.000000\n",
      "25%          1.705299\n",
      "50%          4.991045\n",
      "75%         13.143845\n",
      "max       1100.699727\n",
      "Name: years_employed, dtype: float64\n"
     ]
    }
   ],
   "source": [
    "initial_data['years_employed'] = initial_data['days_employed'] / 365\n",
    "print(initial_data['years_employed'].describe())"
   ]
  },
  {
   "cell_type": "code",
   "execution_count": 233,
   "metadata": {},
   "outputs": [
    {
     "name": "stdout",
     "output_type": "stream",
     "text": [
      "4.0\n"
     ]
    }
   ],
   "source": [
    "initial_data['years_employed'] = initial_data['years_employed'].astype(int) #приведем значение к целочисленному формату для удобства\n",
    "initial_data['years_employed'].sort_values(ascending=True) #отсортируем данные столбца по возрастанию\n",
    "print(initial_data['years_employed'].median()) #найдем медианное значение"
   ]
  },
  {
   "cell_type": "markdown",
   "metadata": {},
   "source": [
    "В среднем рабочий стаж клиентов банка составляет около 4 лет, при этом есть те, кто не работал (0) и некорректно большие значения (1100) (из-за них нельзя было использовать метод mean(), так как его результат отразил бы искаженную ситуацию). Что делать с последними, пока непонятно, но возможно, дальнейший анализ прояснит ситуацию.\n",
    "Перейдем к возрасту клиентов. Подсчитаем, сколько клиентов того или иного возраста присутствует в таблице:"
   ]
  },
  {
   "cell_type": "code",
   "execution_count": 234,
   "metadata": {},
   "outputs": [
    {
     "name": "stdout",
     "output_type": "stream",
     "text": [
      "age_years\n",
      "0     101\n",
      "19     14\n",
      "20     51\n",
      "21    111\n",
      "22    183\n",
      "23    252\n",
      "24    264\n",
      "25    357\n",
      "26    408\n",
      "27    493\n",
      "28    503\n",
      "29    544\n",
      "30    537\n",
      "31    559\n",
      "32    509\n",
      "33    581\n",
      "34    601\n",
      "35    616\n",
      "36    554\n",
      "37    536\n",
      "38    597\n",
      "39    572\n",
      "40    607\n",
      "41    605\n",
      "42    596\n",
      "43    512\n",
      "44    545\n",
      "45    496\n",
      "46    472\n",
      "47    477\n",
      "48    536\n",
      "49    508\n",
      "50    513\n",
      "51    446\n",
      "52    484\n",
      "53    459\n",
      "54    476\n",
      "55    443\n",
      "56    483\n",
      "57    456\n",
      "58    454\n",
      "59    443\n",
      "60    374\n",
      "61    354\n",
      "62    348\n",
      "63    269\n",
      "64    260\n",
      "65    193\n",
      "66    182\n",
      "67    167\n",
      "68     99\n",
      "69     85\n",
      "70     65\n",
      "71     56\n",
      "72     33\n",
      "73      8\n",
      "74      6\n",
      "75      1\n",
      "Name: age_years, dtype: int64\n"
     ]
    }
   ],
   "source": [
    "print(initial_data.groupby('age_years')['age_years'].count())"
   ]
  },
  {
   "cell_type": "code",
   "execution_count": 235,
   "metadata": {},
   "outputs": [
    {
     "name": "stdout",
     "output_type": "stream",
     "text": [
      "Доля клиентов с нулевым возрастом: 0.47%\n"
     ]
    }
   ],
   "source": [
    "share_of_error = 101/21525 #вычислим долю клиентов с возрастом 0 лет - нулевым возрастом\n",
    "print('Доля клиентов с нулевым возрастом: {:.2%}'.format(share_of_error)) "
   ]
  },
  {
   "cell_type": "markdown",
   "metadata": {},
   "source": [
    "Менее 1 %. Казалось бы, этими данными можно пренебречь и удалить строки клиентов с нулевым возрастом. Однако возраст клиентов не является ключевой для целей данного исследования характеристикой, среди задач не числится выявление его взаимосвязи с фактом возврата долга в срок. Поэтому строки с нулевым возрастом лучше будет оставить и использовать данные из других столбцов для формирования окончательных выводов. \\\n",
    "То же самое можно отнести и к данным о трудовом стаже клиентов и некорректных значениях в соответствующем столбце.\n",
    "\n",
    "Посмотрим, какие данные встречаются в оставшихся столбцах: family_status, gender и type_of_employment."
   ]
  },
  {
   "cell_type": "code",
   "execution_count": 236,
   "metadata": {},
   "outputs": [
    {
     "name": "stdout",
     "output_type": "stream",
     "text": [
      "['женат / замужем' 'гражданский брак' 'вдовец / вдова' 'в разводе'\n",
      " 'Не женат / не замужем']\n"
     ]
    }
   ],
   "source": [
    "print(initial_data['family_status'].unique())"
   ]
  },
  {
   "cell_type": "code",
   "execution_count": 237,
   "metadata": {},
   "outputs": [
    {
     "name": "stdout",
     "output_type": "stream",
     "text": [
      "['F' 'M' 'XNA']\n"
     ]
    }
   ],
   "source": [
    "print(initial_data['gender'].unique())"
   ]
  },
  {
   "cell_type": "code",
   "execution_count": 238,
   "metadata": {},
   "outputs": [
    {
     "name": "stdout",
     "output_type": "stream",
     "text": [
      "['сотрудник' 'пенсионер' 'компаньон' 'госслужащий' 'безработный'\n",
      " 'предприниматель' 'студент' 'в декрете']\n"
     ]
    }
   ],
   "source": [
    "print(initial_data['type_of_employment'].unique())"
   ]
  },
  {
   "cell_type": "markdown",
   "metadata": {},
   "source": [
    "Особых проблем в этих столбцах нет. В семейном положении есть нарушение регистра, но оно не повлияло на данные. В столбце гендера есть указание на Х-гендер - XNA. В типах занятости все в порядке. \n",
    "Исправим регистр статуса \"не женат\":"
   ]
  },
  {
   "cell_type": "code",
   "execution_count": 239,
   "metadata": {},
   "outputs": [
    {
     "name": "stdout",
     "output_type": "stream",
     "text": [
      "['женат / замужем' 'гражданский брак' 'вдовец / вдова' 'в разводе'\n",
      " 'не женат / не замужем']\n"
     ]
    }
   ],
   "source": [
    "initial_data['family_status'] = initial_data['family_status'].str.lower() #приводим все данные к ниднему регистру\n",
    "print(initial_data['family_status'].unique()) #осуществляем проверку"
   ]
  },
  {
   "cell_type": "markdown",
   "metadata": {},
   "source": [
    "### Лемматизация"
   ]
  },
  {
   "cell_type": "markdown",
   "metadata": {},
   "source": [
    "Перейдем к целям кредита и для начала посмотрим, на что и как часто клиенты банка берут кредит:"
   ]
  },
  {
   "cell_type": "code",
   "execution_count": 240,
   "metadata": {},
   "outputs": [
    {
     "name": "stdout",
     "output_type": "stream",
     "text": [
      "purpose_of_credit\n",
      "автомобили                                478\n",
      "автомобиль                                494\n",
      "высшее образование                        452\n",
      "дополнительное образование                460\n",
      "жилье                                     646\n",
      "заняться высшим образованием              496\n",
      "заняться образованием                     408\n",
      "на покупку автомобиля                     471\n",
      "на покупку подержанного автомобиля        478\n",
      "на покупку своего автомобиля              505\n",
      "на проведение свадьбы                     768\n",
      "недвижимость                              633\n",
      "образование                               447\n",
      "операции с жильем                         652\n",
      "операции с коммерческой недвижимостью     650\n",
      "операции с недвижимостью                  675\n",
      "операции со своей недвижимостью           627\n",
      "покупка жилой недвижимости                606\n",
      "покупка жилья                             646\n",
      "покупка жилья для сдачи                   651\n",
      "покупка жилья для семьи                   638\n",
      "покупка коммерческой недвижимости         661\n",
      "покупка недвижимости                      621\n",
      "покупка своего жилья                      620\n",
      "получение высшего образования             426\n",
      "получение дополнительного образования     446\n",
      "получение образования                     442\n",
      "приобретение автомобиля                   461\n",
      "профильное образование                    436\n",
      "ремонт жилью                              607\n",
      "свадьба                                   791\n",
      "свой автомобиль                           478\n",
      "сделка с автомобилем                      455\n",
      "сделка с подержанным автомобилем          486\n",
      "строительство жилой недвижимости          624\n",
      "строительство недвижимости                619\n",
      "строительство собственной недвижимости    635\n",
      "сыграть свадьбу                           765\n",
      "Name: purpose_of_credit, dtype: int64\n"
     ]
    }
   ],
   "source": [
    "print(initial_data.groupby('purpose_of_credit')['purpose_of_credit'].count())"
   ]
  },
  {
   "cell_type": "markdown",
   "metadata": {},
   "source": [
    "Даже на первый взгляд видно, что некоторые слова повторяются при указании целей в различных вариациях. Чтобы выявить эти слова, применим лемматизацию:"
   ]
  },
  {
   "cell_type": "code",
   "execution_count": 241,
   "metadata": {},
   "outputs": [
    {
     "name": "stdout",
     "output_type": "stream",
     "text": [
      "Counter({' ': 96, 'покупка': 10, 'недвижимость': 10, 'автомобиль': 9, 'образование': 9, 'жилье': 7, 'с': 5, 'операция': 4, 'на': 4, 'свой': 4, 'свадьба': 3, 'строительство': 3, 'получение': 3, 'высокий': 3, 'дополнительный': 2, 'для': 2, 'коммерческий': 2, 'жилой': 2, 'подержать': 2, 'заниматься': 2, 'сделка': 2, 'приобретение': 1, 'сыграть': 1, 'проведение': 1, 'семья': 1, 'собственный': 1, 'со': 1, 'профильный': 1, 'сдача': 1, 'ремонт': 1, '\\n': 1})\n"
     ]
    }
   ],
   "source": [
    "m = Mystem() \n",
    "unique_purposes_of_credit = initial_data['purpose_of_credit'].unique() #создадим список уникальных целей\n",
    "string = ' '.join(unique_purposes_of_credit)\n",
    "lemmas = m.lemmatize(string)\n",
    "print(Counter(lemmas)) "
   ]
  },
  {
   "cell_type": "markdown",
   "metadata": {},
   "source": [
    "Теперь можно выделить основные цели, на которые клиенты банка брали кредиты.\n",
    "\n",
    "Основными целями стали:\n",
    "- недвижимость;\n",
    "- автомобиль;\n",
    "- образование;\n",
    "- свадьба."
   ]
  },
  {
   "cell_type": "markdown",
   "metadata": {},
   "source": [
    "### Категоризация данных"
   ]
  },
  {
   "cell_type": "markdown",
   "metadata": {},
   "source": [
    "Объединим ключевые для решения поставленных задач характеристики клиентов банка в укрупненные группы-категории. \\\n",
    "По количеству детей разделим клиентов на бездетных, многодетных и тех, кто имеет детей, но не попадает в категорию многодетных. \\\n",
    "По семейному положению разделим их на тех, кто имеет партнера, и тех, кто одинок. \\\n",
    "По ежемесячному доходу клиентов можно разделить на имеющих низкий, высокий или средний уровень дохода, а также тех, кто получает сверхдоход.\\\n",
    "Используем для этого функции с вложенным циклом if. \n",
    "\n",
    "Разобьем заемщиков банка на категории по количеству детей:"
   ]
  },
  {
   "cell_type": "code",
   "execution_count": 242,
   "metadata": {},
   "outputs": [
    {
     "name": "stdout",
     "output_type": "stream",
     "text": [
      "0      есть дети\n",
      "1      есть дети\n",
      "2      бездетный\n",
      "3    многодетный\n",
      "4      бездетный\n",
      "5      бездетный\n",
      "6      бездетный\n",
      "7      бездетный\n",
      "8      есть дети\n",
      "9      бездетный\n",
      "Name: having_children, dtype: object\n"
     ]
    }
   ],
   "source": [
    "def having_children(number_of_children): # функция для категоризации клиентов по количеству детей\n",
    "    if number_of_children==0:\n",
    "        return 'бездетный'\n",
    "    if 1<=number_of_children<=2:\n",
    "        return 'есть дети'\n",
    "    if number_of_children>=3:\n",
    "        return 'многодетный'\n",
    "    \n",
    "initial_data['having_children'] = initial_data['number_of_children'].apply(having_children) # добавим в таблицу с исходными данными\n",
    "                                                                                            # столбец с результатом применения функции\n",
    "print(initial_data['having_children'].head(10))   # вызовем первые строки нового столбца для проверки работы функции     "
   ]
  },
  {
   "cell_type": "markdown",
   "metadata": {},
   "source": [
    "Повторим тот же порядок действий для категоризации по семейному положению и уровню дохода."
   ]
  },
  {
   "cell_type": "code",
   "execution_count": 243,
   "metadata": {},
   "outputs": [
    {
     "name": "stdout",
     "output_type": "stream",
     "text": [
      "21444    семейный\n",
      "21445    семейный\n",
      "21446    семейный\n",
      "21447    семейный\n",
      "21448    одинокий\n",
      "21449    семейный\n",
      "21450    семейный\n",
      "21451    семейный\n",
      "21452    семейный\n",
      "21453    семейный\n",
      "Name: family, dtype: object\n"
     ]
    }
   ],
   "source": [
    "def family (family_status): # функция для категоризации клиентов по семейному положению\n",
    "    if family_status=='женат / замужем' or family_status=='гражданский брак':\n",
    "        return 'семейный'\n",
    "    if family_status=='вдовец / вдова' or family_status=='в разводе' or family_status=='не женат / не замужем':\n",
    "        return 'одинокий'\n",
    "    \n",
    "initial_data['family'] = initial_data['family_status'].apply(family)\n",
    "\n",
    "print(initial_data['family'].tail(10)) # выводим на экран последние строки, так как они показывают работу функции \n",
    "                                       # чуть более наглядно, чем первые"
   ]
  },
  {
   "cell_type": "markdown",
   "metadata": {},
   "source": [
    "Для того, чтобы разделить клиентов по уровню дохода, полезно будет сначала разбить все имеющиеся данные о доходах на равные группы. В этом нам помогут квартили. с помощью функции quantile() разделим доходы на четыре равные группы, а затем используем полученные результат для категоризации заемщиков."
   ]
  },
  {
   "cell_type": "code",
   "execution_count": 244,
   "metadata": {},
   "outputs": [
    {
     "name": "stdout",
     "output_type": "stream",
     "text": [
      "0.25     89089.0425\n",
      "0.50    135781.0400\n",
      "0.75    195813.9850\n",
      "Name: monthly_income, dtype: float64\n"
     ]
    }
   ],
   "source": [
    "print(initial_data['monthly_income'].quantile([0.25, 0.5, 0.75])) #ищем квантили"
   ]
  },
  {
   "cell_type": "code",
   "execution_count": 245,
   "metadata": {},
   "outputs": [
    {
     "name": "stdout",
     "output_type": "stream",
     "text": [
      "0    Очень высокий уровень дохода\n",
      "1          Средний уровень дохода\n",
      "2          Высокий уровень дохода\n",
      "3    Очень высокий уровень дохода\n",
      "4          Высокий уровень дохода\n",
      "5    Очень высокий уровень дохода\n",
      "6    Очень высокий уровень дохода\n",
      "7          Высокий уровень дохода\n",
      "8          Средний уровень дохода\n",
      "9          Высокий уровень дохода\n",
      "Name: income_level, dtype: object\n"
     ]
    }
   ],
   "source": [
    "def income_level(monthly_income): # функция для категоризации клиентов по уровню дохода\n",
    "    if monthly_income <= 89089:\n",
    "            return 'Низкий уровень дохода'\n",
    "    if monthly_income <= 135781:\n",
    "            return 'Средний уровень дохода'\n",
    "    if monthly_income <= 195814:\n",
    "            return 'Высокий уровень дохода'\n",
    "    if monthly_income > 195814:\n",
    "            return 'Очень высокий уровень дохода'\n",
    "        \n",
    "initial_data['income_level'] = initial_data['monthly_income'].apply(income_level)\n",
    "\n",
    "print(initial_data['income_level'].head(10))"
   ]
  },
  {
   "cell_type": "markdown",
   "metadata": {},
   "source": [
    "Для категоризации клиентов по целям кредита использованный ранее подход не подойдет из-за большой вариантивности данных в текстовом формате. Однако мы можем использовать полученные ранее результаты лемматизации. Создадим вручную список, в который включим выявленные цели, а также добавим к нему элемент \"жилье\" как вариант \"недвижимости\", и используем стемминг.  "
   ]
  },
  {
   "cell_type": "code",
   "execution_count": 246,
   "metadata": {},
   "outputs": [
    {
     "name": "stdout",
     "output_type": "stream",
     "text": [
      "Исходное слово - недвижимость, после стемминга - недвижим\n",
      "Исходное слово - автомобиль, после стемминга - автомобил\n",
      "Исходное слово - образование, после стемминга - образован\n",
      "Исходное слово - свадьба, после стемминга - свадьб\n",
      "Исходное слово - жилье, после стемминга - жил\n"
     ]
    }
   ],
   "source": [
    "words = ['недвижимость', 'автомобиль', 'образование', 'свадьба', 'жилье']\n",
    "for word in words:\n",
    "    print ('Исходное слово - ' + word + ', после стемминга - ' + russian_stemmer.stem(word))"
   ]
  },
  {
   "cell_type": "markdown",
   "metadata": {},
   "source": [
    "Теперь мы можем создать новую функцию для категоризации клиентов банка по целям, для которых они взяли кредит:"
   ]
  },
  {
   "cell_type": "code",
   "execution_count": 247,
   "metadata": {},
   "outputs": [
    {
     "name": "stdout",
     "output_type": "stream",
     "text": [
      "['Недвижимость' 'Автомобиль' 'Образование' 'Свадьба']\n"
     ]
    }
   ],
   "source": [
    "def purposes_categories(purpose_of_credit): # функция для категоризации клиентов по уровню дохода\n",
    "    if 'недвижим' in purpose_of_credit or 'жил' in purpose_of_credit:\n",
    "            return 'Недвижимость'\n",
    "    if 'автомобил' in purpose_of_credit:\n",
    "            return 'Автомобиль'\n",
    "    if 'образован' in purpose_of_credit:\n",
    "            return 'Образование'\n",
    "    if 'свадьб' in purpose_of_credit:\n",
    "            return 'Свадьба'\n",
    "        \n",
    "initial_data['purposes_categories'] = initial_data['purpose_of_credit'].apply(purposes_categories)\n",
    "\n",
    "print(initial_data['purposes_categories'].unique()) # проверка работы функции"
   ]
  },
  {
   "cell_type": "markdown",
   "metadata": {},
   "source": [
    "**Вывод:** С помощью созданных функций и нескольких дополнительных методов мы разделили клиентов на категории по таким ключевым характеристикам, как: количество детей, семейное положение, сумма дохода в месяц и цели кредита. В дальнейшем это облегчит поиск взаимосвязей указанных характеристик с фактом погашения кредита клиентом в срок. Следующий шаг исследования будет посвящен именно этому."
   ]
  },
  {
   "cell_type": "markdown",
   "metadata": {},
   "source": [
    "## Проверка наличия зависимостей критериев и ответы на вопросы"
   ]
  },
  {
   "cell_type": "markdown",
   "metadata": {},
   "source": [
    "Переходим к третьему этапу исследования, на котором мы будем искать ответы на вопросы, чтобы на их основе сформулировать итоговые выводы.\\\n",
    "Начнем с вопроса:\n",
    "- Есть ли зависимость между наличием детей и возвратом кредита в срок?"
   ]
  },
  {
   "cell_type": "code",
   "execution_count": 248,
   "metadata": {},
   "outputs": [
    {
     "data": {
      "text/html": [
       "<div>\n",
       "<style scoped>\n",
       "    .dataframe tbody tr th:only-of-type {\n",
       "        vertical-align: middle;\n",
       "    }\n",
       "\n",
       "    .dataframe tbody tr th {\n",
       "        vertical-align: top;\n",
       "    }\n",
       "\n",
       "    .dataframe thead th {\n",
       "        text-align: right;\n",
       "    }\n",
       "</style>\n",
       "<table border=\"1\" class=\"dataframe\">\n",
       "  <thead>\n",
       "    <tr style=\"text-align: right;\">\n",
       "      <th>debt</th>\n",
       "      <th>having_children</th>\n",
       "      <th>number_of_children</th>\n",
       "      <th>0</th>\n",
       "      <th>1</th>\n",
       "      <th>ratio</th>\n",
       "    </tr>\n",
       "  </thead>\n",
       "  <tbody>\n",
       "    <tr>\n",
       "      <td>0</td>\n",
       "      <td>бездетный</td>\n",
       "      <td>0</td>\n",
       "      <td>13028.0</td>\n",
       "      <td>1063.0</td>\n",
       "      <td>8.159349</td>\n",
       "    </tr>\n",
       "    <tr>\n",
       "      <td>1</td>\n",
       "      <td>есть дети</td>\n",
       "      <td>1</td>\n",
       "      <td>4410.0</td>\n",
       "      <td>445.0</td>\n",
       "      <td>10.090703</td>\n",
       "    </tr>\n",
       "    <tr>\n",
       "      <td>2</td>\n",
       "      <td>есть дети</td>\n",
       "      <td>2</td>\n",
       "      <td>1926.0</td>\n",
       "      <td>202.0</td>\n",
       "      <td>10.488058</td>\n",
       "    </tr>\n",
       "    <tr>\n",
       "      <td>3</td>\n",
       "      <td>многодетный</td>\n",
       "      <td>3</td>\n",
       "      <td>303.0</td>\n",
       "      <td>27.0</td>\n",
       "      <td>8.910891</td>\n",
       "    </tr>\n",
       "    <tr>\n",
       "      <td>4</td>\n",
       "      <td>многодетный</td>\n",
       "      <td>4</td>\n",
       "      <td>37.0</td>\n",
       "      <td>4.0</td>\n",
       "      <td>10.810811</td>\n",
       "    </tr>\n",
       "    <tr>\n",
       "      <td>5</td>\n",
       "      <td>многодетный</td>\n",
       "      <td>5</td>\n",
       "      <td>9.0</td>\n",
       "      <td>NaN</td>\n",
       "      <td>NaN</td>\n",
       "    </tr>\n",
       "  </tbody>\n",
       "</table>\n",
       "</div>"
      ],
      "text/plain": [
       "debt having_children  number_of_children        0       1      ratio\n",
       "0          бездетный                   0  13028.0  1063.0   8.159349\n",
       "1          есть дети                   1   4410.0   445.0  10.090703\n",
       "2          есть дети                   2   1926.0   202.0  10.488058\n",
       "3        многодетный                   3    303.0    27.0   8.910891\n",
       "4        многодетный                   4     37.0     4.0  10.810811\n",
       "5        многодетный                   5      9.0     NaN        NaN"
      ]
     },
     "metadata": {},
     "output_type": "display_data"
    }
   ],
   "source": [
    "children_pivot = initial_data.pivot_table(index = ['having_children','number_of_children'], \\\n",
    "                                columns = ['debt'], \\\n",
    "                                values = 'gender', aggfunc='count').reset_index()\n",
    "\n",
    "children_pivot['ratio'] = children_pivot[1] / children_pivot[0] * 100\n",
    "display (children_pivot)"
   ]
  },
  {
   "cell_type": "markdown",
   "metadata": {},
   "source": [
    "**Вывод:** Исходя из данных таблицы, клиенты, имеющие детей, реже отдают кредиты в срок. При этом нужно отметить два важных момента:\n",
    "- данные по клиентам с 5 детьми не показательны, так как мы не имеем сведений о тех заемщиках данной категории, которые имели задолженности по кредиту;\n",
    "- клиенты с 3 детьми погашают кредиты в срок заметно чаще, чем их соседи по категории и те, у кого есть дети. Однако у нас недостаточно данных, чтобы выдвинуть гипотезу о том, с чем это связано. \n",
    "\n",
    "В целом же видна тенденция к тому, что чем больше у клиента детей, тем больше вероятность, что он просрочит платеж по кредиту."
   ]
  },
  {
   "cell_type": "markdown",
   "metadata": {},
   "source": [
    "Теперь исследуем взаимосвязь между возвратом кредита в срок и семейным положением заемщика и ответим на вопрос:."
   ]
  },
  {
   "cell_type": "markdown",
   "metadata": {},
   "source": [
    "- Есть ли зависимость между семейным положением и возвратом кредита в срок?"
   ]
  },
  {
   "cell_type": "code",
   "execution_count": 249,
   "metadata": {},
   "outputs": [
    {
     "data": {
      "text/html": [
       "<div>\n",
       "<style scoped>\n",
       "    .dataframe tbody tr th:only-of-type {\n",
       "        vertical-align: middle;\n",
       "    }\n",
       "\n",
       "    .dataframe tbody tr th {\n",
       "        vertical-align: top;\n",
       "    }\n",
       "\n",
       "    .dataframe thead th {\n",
       "        text-align: right;\n",
       "    }\n",
       "</style>\n",
       "<table border=\"1\" class=\"dataframe\">\n",
       "  <thead>\n",
       "    <tr style=\"text-align: right;\">\n",
       "      <th>debt</th>\n",
       "      <th>family</th>\n",
       "      <th>family_status</th>\n",
       "      <th>0</th>\n",
       "      <th>1</th>\n",
       "      <th>ratio</th>\n",
       "    </tr>\n",
       "  </thead>\n",
       "  <tbody>\n",
       "    <tr>\n",
       "      <td>0</td>\n",
       "      <td>одинокий</td>\n",
       "      <td>в разводе</td>\n",
       "      <td>1110</td>\n",
       "      <td>85</td>\n",
       "      <td>7.657658</td>\n",
       "    </tr>\n",
       "    <tr>\n",
       "      <td>1</td>\n",
       "      <td>одинокий</td>\n",
       "      <td>вдовец / вдова</td>\n",
       "      <td>896</td>\n",
       "      <td>63</td>\n",
       "      <td>7.031250</td>\n",
       "    </tr>\n",
       "    <tr>\n",
       "      <td>2</td>\n",
       "      <td>одинокий</td>\n",
       "      <td>не женат / не замужем</td>\n",
       "      <td>2536</td>\n",
       "      <td>274</td>\n",
       "      <td>10.804416</td>\n",
       "    </tr>\n",
       "    <tr>\n",
       "      <td>3</td>\n",
       "      <td>семейный</td>\n",
       "      <td>гражданский брак</td>\n",
       "      <td>3763</td>\n",
       "      <td>388</td>\n",
       "      <td>10.310922</td>\n",
       "    </tr>\n",
       "    <tr>\n",
       "      <td>4</td>\n",
       "      <td>семейный</td>\n",
       "      <td>женат / замужем</td>\n",
       "      <td>11408</td>\n",
       "      <td>931</td>\n",
       "      <td>8.160940</td>\n",
       "    </tr>\n",
       "  </tbody>\n",
       "</table>\n",
       "</div>"
      ],
      "text/plain": [
       "debt    family          family_status      0    1      ratio\n",
       "0     одинокий              в разводе   1110   85   7.657658\n",
       "1     одинокий         вдовец / вдова    896   63   7.031250\n",
       "2     одинокий  не женат / не замужем   2536  274  10.804416\n",
       "3     семейный       гражданский брак   3763  388  10.310922\n",
       "4     семейный        женат / замужем  11408  931   8.160940"
      ]
     },
     "metadata": {},
     "output_type": "display_data"
    }
   ],
   "source": [
    "famyly_pivot = initial_data.pivot_table(index = ['family','family_status'], \\\n",
    "                                columns = ['debt'], \\\n",
    "                                values = 'gender', aggfunc='count').reset_index()\n",
    "\n",
    "famyly_pivot['ratio'] = famyly_pivot[1] / famyly_pivot[0] * 100\n",
    "display (famyly_pivot)"
   ]
  },
  {
   "cell_type": "markdown",
   "metadata": {},
   "source": [
    "**Вывод:** Ознакомившись с данными таблицы, можно заметить, что клиенты, состоящие или состоявшие в законном браке, погашают кредиты в срок чаще, чем те, кто никогда не узаконивал отношения. Можно предположить, что законный брак развивает в людях ответственность - в частности за супруга и семью,- которая остается с ними даже после прекращения брачных отношений по тем или иным причинам. Эта ответственность и побуждает клиентов погашать кредиты в срок. В отличие от оформленного, в гражданском браке супруги больше рассчитывают на себя, поэтому такая повышенная ответственность не формируется. Отсюда и более высокая доля должников."
   ]
  },
  {
   "cell_type": "markdown",
   "metadata": {},
   "source": [
    "Теперь ответим на вопрос"
   ]
  },
  {
   "cell_type": "markdown",
   "metadata": {},
   "source": [
    "- Есть ли зависимость между уровнем дохода и возвратом кредита в срок?"
   ]
  },
  {
   "cell_type": "code",
   "execution_count": 250,
   "metadata": {
    "scrolled": false
   },
   "outputs": [
    {
     "data": {
      "text/html": [
       "<div>\n",
       "<style scoped>\n",
       "    .dataframe tbody tr th:only-of-type {\n",
       "        vertical-align: middle;\n",
       "    }\n",
       "\n",
       "    .dataframe tbody tr th {\n",
       "        vertical-align: top;\n",
       "    }\n",
       "\n",
       "    .dataframe thead th {\n",
       "        text-align: right;\n",
       "    }\n",
       "</style>\n",
       "<table border=\"1\" class=\"dataframe\">\n",
       "  <thead>\n",
       "    <tr style=\"text-align: right;\">\n",
       "      <th>debt</th>\n",
       "      <th>income_level</th>\n",
       "      <th>0</th>\n",
       "      <th>1</th>\n",
       "      <th>ratio</th>\n",
       "    </tr>\n",
       "  </thead>\n",
       "  <tbody>\n",
       "    <tr>\n",
       "      <td>0</td>\n",
       "      <td>Высокий уровень дохода</td>\n",
       "      <td>4882</td>\n",
       "      <td>481</td>\n",
       "      <td>9.852519</td>\n",
       "    </tr>\n",
       "    <tr>\n",
       "      <td>1</td>\n",
       "      <td>Низкий уровень дохода</td>\n",
       "      <td>4945</td>\n",
       "      <td>419</td>\n",
       "      <td>8.473205</td>\n",
       "    </tr>\n",
       "    <tr>\n",
       "      <td>2</td>\n",
       "      <td>Очень высокий уровень дохода</td>\n",
       "      <td>4981</td>\n",
       "      <td>383</td>\n",
       "      <td>7.689219</td>\n",
       "    </tr>\n",
       "    <tr>\n",
       "      <td>3</td>\n",
       "      <td>Средний уровень дохода</td>\n",
       "      <td>4905</td>\n",
       "      <td>458</td>\n",
       "      <td>9.337411</td>\n",
       "    </tr>\n",
       "  </tbody>\n",
       "</table>\n",
       "</div>"
      ],
      "text/plain": [
       "debt                  income_level     0    1     ratio\n",
       "0           Высокий уровень дохода  4882  481  9.852519\n",
       "1            Низкий уровень дохода  4945  419  8.473205\n",
       "2     Очень высокий уровень дохода  4981  383  7.689219\n",
       "3           Средний уровень дохода  4905  458  9.337411"
      ]
     },
     "metadata": {},
     "output_type": "display_data"
    }
   ],
   "source": [
    "income_level_pivot = initial_data.pivot_table(index = ['income_level'], \\\n",
    "                                columns = ['debt'], \\\n",
    "                                values = 'gender', aggfunc='count').reset_index()\n",
    "\n",
    "income_level_pivot['ratio'] = income_level_pivot[1] / income_level_pivot[0] * 100\n",
    "display (income_level_pivot)"
   ]
  },
  {
   "cell_type": "markdown",
   "metadata": {},
   "source": [
    "**Вывод:** В результатах данного этапа исследования не прослеживается ни одной закономерности, поэтому можно сделать вывод, что зависимость между уровнем дохода и возвратом кредита в срок отсутствует."
   ]
  },
  {
   "cell_type": "markdown",
   "metadata": {},
   "source": [
    "Осталось изучить взаимосвязь своевременного погашения кредита и целей, для которых он был взят. Для этого ответим на вопрос"
   ]
  },
  {
   "cell_type": "markdown",
   "metadata": {},
   "source": [
    "- Как разные цели кредита влияют на его возврат в срок?"
   ]
  },
  {
   "cell_type": "code",
   "execution_count": 251,
   "metadata": {},
   "outputs": [
    {
     "data": {
      "text/html": [
       "<div>\n",
       "<style scoped>\n",
       "    .dataframe tbody tr th:only-of-type {\n",
       "        vertical-align: middle;\n",
       "    }\n",
       "\n",
       "    .dataframe tbody tr th {\n",
       "        vertical-align: top;\n",
       "    }\n",
       "\n",
       "    .dataframe thead th {\n",
       "        text-align: right;\n",
       "    }\n",
       "</style>\n",
       "<table border=\"1\" class=\"dataframe\">\n",
       "  <thead>\n",
       "    <tr style=\"text-align: right;\">\n",
       "      <th>debt</th>\n",
       "      <th>purposes_categories</th>\n",
       "      <th>0</th>\n",
       "      <th>1</th>\n",
       "      <th>ratio</th>\n",
       "    </tr>\n",
       "  </thead>\n",
       "  <tbody>\n",
       "    <tr>\n",
       "      <td>0</td>\n",
       "      <td>Автомобиль</td>\n",
       "      <td>3903</td>\n",
       "      <td>403</td>\n",
       "      <td>10.325391</td>\n",
       "    </tr>\n",
       "    <tr>\n",
       "      <td>1</td>\n",
       "      <td>Недвижимость</td>\n",
       "      <td>10029</td>\n",
       "      <td>782</td>\n",
       "      <td>7.797388</td>\n",
       "    </tr>\n",
       "    <tr>\n",
       "      <td>2</td>\n",
       "      <td>Образование</td>\n",
       "      <td>3643</td>\n",
       "      <td>370</td>\n",
       "      <td>10.156464</td>\n",
       "    </tr>\n",
       "    <tr>\n",
       "      <td>3</td>\n",
       "      <td>Свадьба</td>\n",
       "      <td>2138</td>\n",
       "      <td>186</td>\n",
       "      <td>8.699719</td>\n",
       "    </tr>\n",
       "  </tbody>\n",
       "</table>\n",
       "</div>"
      ],
      "text/plain": [
       "debt purposes_categories      0    1      ratio\n",
       "0             Автомобиль   3903  403  10.325391\n",
       "1           Недвижимость  10029  782   7.797388\n",
       "2            Образование   3643  370  10.156464\n",
       "3                Свадьба   2138  186   8.699719"
      ]
     },
     "metadata": {},
     "output_type": "display_data"
    }
   ],
   "source": [
    "purpose_pivot = initial_data.pivot_table(index = ['purposes_categories'], \\\n",
    "                                columns = ['debt'], \\\n",
    "                                values = 'gender', aggfunc='count').reset_index()\n",
    "\n",
    "purpose_pivot['ratio'] = purpose_pivot[1] / purpose_pivot[0] * 100\n",
    "display (purpose_pivot)"
   ]
  },
  {
   "cell_type": "markdown",
   "metadata": {},
   "source": [
    "**Вывод:** Как показывает таблица, лучше всего возвращаются кредиты, взятые на операции с недвижимостью и свадьбой. Это выглядит вполне логично. Риск недоучиться либо лишиться автомобиля выглядит не таким серьезным по сравнению с риском остаться без крыши над головой. Что касается кредитов на свадьбу, то их суммы, вероятно, ниже, чем по остальным категориям, а отдавать, скорее всего, такой кредит будут с доходов обоих супругов, что также снижает риск возникновения задолженности. "
   ]
  },
  {
   "cell_type": "markdown",
   "metadata": {},
   "source": [
    "## Итоговые выводы и рекомендации"
   ]
  },
  {
   "cell_type": "markdown",
   "metadata": {},
   "source": [
    "Целью проведенного иследования был поиск зависимостей между такими характеристиками клиентов как количество детей, семейное положение и уровень дохода; целью взятия кредита и погашением кредита в срок.\n",
    "Результаты показали следующее:\n",
    "- существует обратная зависимость погашения кредита в срок от количества детей клиента: люди с бОльшим количеством детей чаще имели задолженность. При этом существует аномалия клиентов с 3 детьми, которая не нашла объяснения;\n",
    "- зависимость от семейного положения по типу \"семейный-одинокий\" найдена не была, однако было выявлено, что клиенты находящиеся или находившиеся в законном браке чаще отдают кредиты в срок;\n",
    "- зависимости между уровнем дохода и возвратом кредита в срок не обнаружено;\n",
    "- факт погашения кредита в срок зависит от целей его взятия: чаще погашаются кредиты, выданные на операции с недвижимостью и свадьбу, реже - на образование и автомобили.\n",
    "\n",
    "На основе проведенного анализа можно сформулировать следующие рекомендации для банка:\n",
    "- ввести систему проверки наличия данных в базе с целью выявления повторных клиентов и предупреждения появления дубликатов (возможно, стоит продумать систему присвоения каждому клиенту уникального идентификатора);\n",
    "- производить подсчет трудового стажа в годах, а не днях: это удобнее как для дальнейшего анализа, так и для самих клиентов, так как большинство не знает свой стаж, выраженный в днях;\n",
    "- разработать систему блокировок внесения данных из заявок с заведомо некорректными (отрицательными, слишком большими и тд) значениями;\n",
    "- изменить способ подсчета дохода клиентов, чтобы результат выводился целым числом, либо с двумя знаками после запятой;\n",
    "- стандартизировать варианты ответов на вопрос об образовании клиентов с целью избежания появления дубликатов, связанных с регистром букв.\n"
   ]
  }
 ],
 "metadata": {
  "ExecuteTimeLog": [
   {
    "duration": 1060,
    "start_time": "2021-11-26T08:20:01.878Z"
   },
   {
    "duration": 81,
    "start_time": "2021-11-26T08:20:14.529Z"
   },
   {
    "duration": 21,
    "start_time": "2021-11-26T08:48:51.609Z"
   },
   {
    "duration": 10,
    "start_time": "2021-11-26T08:49:22.066Z"
   },
   {
    "duration": 10,
    "start_time": "2021-11-26T08:50:49.133Z"
   },
   {
    "duration": 12,
    "start_time": "2021-11-26T08:51:23.623Z"
   },
   {
    "duration": 11,
    "start_time": "2021-11-26T08:53:14.661Z"
   },
   {
    "duration": 11,
    "start_time": "2021-11-26T08:54:17.350Z"
   },
   {
    "duration": 11,
    "start_time": "2021-11-26T08:55:33.807Z"
   },
   {
    "duration": 9,
    "start_time": "2021-11-26T08:56:07.926Z"
   },
   {
    "duration": 10,
    "start_time": "2021-11-26T08:56:22.047Z"
   },
   {
    "duration": 10,
    "start_time": "2021-11-26T08:58:14.591Z"
   },
   {
    "duration": 7,
    "start_time": "2021-11-26T08:59:00.719Z"
   },
   {
    "duration": 11,
    "start_time": "2021-11-26T08:59:13.111Z"
   },
   {
    "duration": 10,
    "start_time": "2021-11-26T09:00:23.624Z"
   },
   {
    "duration": 264,
    "start_time": "2021-11-26T09:01:53.535Z"
   },
   {
    "duration": 5,
    "start_time": "2021-11-26T09:02:04.647Z"
   },
   {
    "duration": 6,
    "start_time": "2021-11-26T09:02:38.472Z"
   },
   {
    "duration": 10,
    "start_time": "2021-11-26T09:05:23.808Z"
   },
   {
    "duration": 94,
    "start_time": "2021-11-26T10:13:40.793Z"
   },
   {
    "duration": 73,
    "start_time": "2021-11-26T10:14:28.685Z"
   },
   {
    "duration": 88,
    "start_time": "2021-11-26T10:15:39.123Z"
   },
   {
    "duration": 70,
    "start_time": "2021-11-26T10:28:54.255Z"
   },
   {
    "duration": 35,
    "start_time": "2021-11-26T10:30:16.328Z"
   },
   {
    "duration": 19,
    "start_time": "2021-11-26T10:30:32.207Z"
   },
   {
    "duration": 49,
    "start_time": "2021-11-26T10:33:23.159Z"
   },
   {
    "duration": 11,
    "start_time": "2021-11-26T11:41:40.791Z"
   },
   {
    "duration": 59,
    "start_time": "2021-11-26T11:57:42.337Z"
   },
   {
    "duration": 17,
    "start_time": "2021-11-26T11:58:43.767Z"
   },
   {
    "duration": 17,
    "start_time": "2021-11-26T11:59:25.052Z"
   },
   {
    "duration": 12,
    "start_time": "2021-11-26T11:59:27.670Z"
   },
   {
    "duration": 7,
    "start_time": "2021-11-26T12:16:37.391Z"
   },
   {
    "duration": 8,
    "start_time": "2021-11-26T12:17:24.911Z"
   },
   {
    "duration": 8,
    "start_time": "2021-11-26T12:18:04.699Z"
   },
   {
    "duration": 9,
    "start_time": "2021-11-26T12:18:16.003Z"
   },
   {
    "duration": 11,
    "start_time": "2021-11-26T12:20:22.051Z"
   },
   {
    "duration": 14,
    "start_time": "2021-11-26T12:20:26.235Z"
   },
   {
    "duration": 11,
    "start_time": "2021-11-26T12:20:27.444Z"
   },
   {
    "duration": 286,
    "start_time": "2021-11-26T12:38:05.212Z"
   },
   {
    "duration": 290,
    "start_time": "2021-11-26T12:38:23.350Z"
   },
   {
    "duration": 267,
    "start_time": "2021-11-26T16:28:47.946Z"
   },
   {
    "duration": 238,
    "start_time": "2021-11-26T16:29:00.889Z"
   },
   {
    "duration": 525,
    "start_time": "2021-11-26T16:29:16.727Z"
   },
   {
    "duration": 59,
    "start_time": "2021-11-26T16:29:17.254Z"
   },
   {
    "duration": 16,
    "start_time": "2021-11-26T16:29:17.314Z"
   },
   {
    "duration": 12,
    "start_time": "2021-11-26T16:29:17.332Z"
   },
   {
    "duration": 47,
    "start_time": "2021-11-26T16:29:17.346Z"
   },
   {
    "duration": 8,
    "start_time": "2021-11-26T16:29:17.396Z"
   },
   {
    "duration": 7,
    "start_time": "2021-11-26T16:29:17.406Z"
   },
   {
    "duration": 10,
    "start_time": "2021-11-26T16:29:17.415Z"
   },
   {
    "duration": 7,
    "start_time": "2021-11-26T16:29:17.426Z"
   },
   {
    "duration": 6,
    "start_time": "2021-11-26T16:29:17.434Z"
   },
   {
    "duration": 6,
    "start_time": "2021-11-26T16:30:41.029Z"
   },
   {
    "duration": 5,
    "start_time": "2021-11-26T16:30:50.097Z"
   },
   {
    "duration": 15,
    "start_time": "2021-11-26T16:46:20.166Z"
   },
   {
    "duration": 14,
    "start_time": "2021-11-26T16:47:46.201Z"
   },
   {
    "duration": 27,
    "start_time": "2021-11-26T16:51:29.252Z"
   },
   {
    "duration": 23,
    "start_time": "2021-11-26T17:03:56.586Z"
   },
   {
    "duration": 3,
    "start_time": "2021-11-26T17:04:42.162Z"
   },
   {
    "duration": 72,
    "start_time": "2021-11-26T17:04:42.166Z"
   },
   {
    "duration": 11,
    "start_time": "2021-11-26T17:04:42.240Z"
   },
   {
    "duration": 31,
    "start_time": "2021-11-26T17:04:42.253Z"
   },
   {
    "duration": 44,
    "start_time": "2021-11-26T17:04:42.285Z"
   },
   {
    "duration": 7,
    "start_time": "2021-11-26T17:04:42.330Z"
   },
   {
    "duration": 24,
    "start_time": "2021-11-26T17:04:42.339Z"
   },
   {
    "duration": 16,
    "start_time": "2021-11-26T17:04:42.365Z"
   },
   {
    "duration": 24,
    "start_time": "2021-11-26T17:04:42.383Z"
   },
   {
    "duration": 7,
    "start_time": "2021-11-26T17:04:42.408Z"
   },
   {
    "duration": 14,
    "start_time": "2021-11-26T17:04:42.416Z"
   },
   {
    "duration": 21,
    "start_time": "2021-11-26T17:04:42.431Z"
   },
   {
    "duration": 24,
    "start_time": "2021-11-26T17:04:42.454Z"
   },
   {
    "duration": 26,
    "start_time": "2021-11-26T17:06:56.829Z"
   },
   {
    "duration": 76,
    "start_time": "2021-11-26T17:21:49.010Z"
   },
   {
    "duration": 90,
    "start_time": "2021-11-26T17:26:22.146Z"
   },
   {
    "duration": 103,
    "start_time": "2021-11-26T17:30:38.286Z"
   },
   {
    "duration": 5658,
    "start_time": "2021-11-26T17:30:43.336Z"
   },
   {
    "duration": 21,
    "start_time": "2021-11-26T17:30:54.902Z"
   },
   {
    "duration": 2,
    "start_time": "2021-11-26T17:31:06.894Z"
   },
   {
    "duration": 57,
    "start_time": "2021-11-26T17:31:06.898Z"
   },
   {
    "duration": 11,
    "start_time": "2021-11-26T17:31:06.957Z"
   },
   {
    "duration": 12,
    "start_time": "2021-11-26T17:31:06.970Z"
   },
   {
    "duration": 34,
    "start_time": "2021-11-26T17:31:06.984Z"
   },
   {
    "duration": 5,
    "start_time": "2021-11-26T17:31:07.020Z"
   },
   {
    "duration": 7,
    "start_time": "2021-11-26T17:31:07.027Z"
   },
   {
    "duration": 8,
    "start_time": "2021-11-26T17:31:07.036Z"
   },
   {
    "duration": 7,
    "start_time": "2021-11-26T17:31:07.046Z"
   },
   {
    "duration": 33,
    "start_time": "2021-11-26T17:31:07.055Z"
   },
   {
    "duration": 5658,
    "start_time": "2021-11-26T17:31:07.089Z"
   },
   {
    "duration": -66,
    "start_time": "2021-11-26T17:31:12.815Z"
   },
   {
    "duration": -84,
    "start_time": "2021-11-26T17:31:12.834Z"
   },
   {
    "duration": -119,
    "start_time": "2021-11-26T17:31:12.870Z"
   },
   {
    "duration": 234,
    "start_time": "2021-11-26T17:32:06.203Z"
   },
   {
    "duration": 5655,
    "start_time": "2021-11-26T17:34:24.316Z"
   },
   {
    "duration": 250,
    "start_time": "2021-11-26T17:34:35.608Z"
   },
   {
    "duration": 12,
    "start_time": "2021-11-26T17:36:56.809Z"
   },
   {
    "duration": 13,
    "start_time": "2021-11-26T17:37:27.556Z"
   },
   {
    "duration": 5,
    "start_time": "2021-11-26T17:40:26.008Z"
   },
   {
    "duration": 378,
    "start_time": "2021-11-28T08:39:45.580Z"
   },
   {
    "duration": 828,
    "start_time": "2021-11-28T08:40:05.867Z"
   },
   {
    "duration": 76,
    "start_time": "2021-11-28T08:40:06.698Z"
   },
   {
    "duration": 30,
    "start_time": "2021-11-28T08:40:06.777Z"
   },
   {
    "duration": 24,
    "start_time": "2021-11-28T08:40:06.810Z"
   },
   {
    "duration": 78,
    "start_time": "2021-11-28T08:40:06.836Z"
   },
   {
    "duration": 12,
    "start_time": "2021-11-28T08:40:06.917Z"
   },
   {
    "duration": 37,
    "start_time": "2021-11-28T08:40:06.932Z"
   },
   {
    "duration": 13,
    "start_time": "2021-11-28T08:40:06.973Z"
   },
   {
    "duration": 12,
    "start_time": "2021-11-28T08:40:06.989Z"
   },
   {
    "duration": 8,
    "start_time": "2021-11-28T08:40:07.005Z"
   },
   {
    "duration": 52,
    "start_time": "2021-11-28T08:40:07.015Z"
   },
   {
    "duration": 30,
    "start_time": "2021-11-28T08:40:07.070Z"
   },
   {
    "duration": 70,
    "start_time": "2021-11-28T08:40:07.103Z"
   },
   {
    "duration": 46,
    "start_time": "2021-11-28T08:40:07.175Z"
   },
   {
    "duration": 6,
    "start_time": "2021-11-28T08:40:15.990Z"
   },
   {
    "duration": 8,
    "start_time": "2021-11-28T08:42:51.077Z"
   },
   {
    "duration": 8,
    "start_time": "2021-11-28T08:46:31.848Z"
   },
   {
    "duration": 10,
    "start_time": "2021-11-28T08:49:44.001Z"
   },
   {
    "duration": 96,
    "start_time": "2021-11-28T08:55:47.248Z"
   },
   {
    "duration": 26,
    "start_time": "2021-11-28T08:56:45.806Z"
   },
   {
    "duration": 4,
    "start_time": "2021-11-28T08:57:06.054Z"
   },
   {
    "duration": 72,
    "start_time": "2021-11-28T08:57:06.063Z"
   },
   {
    "duration": 29,
    "start_time": "2021-11-28T08:57:06.138Z"
   },
   {
    "duration": 20,
    "start_time": "2021-11-28T08:57:06.170Z"
   },
   {
    "duration": 47,
    "start_time": "2021-11-28T08:57:06.193Z"
   },
   {
    "duration": 29,
    "start_time": "2021-11-28T08:57:06.243Z"
   },
   {
    "duration": 11,
    "start_time": "2021-11-28T08:57:06.275Z"
   },
   {
    "duration": 14,
    "start_time": "2021-11-28T08:57:06.288Z"
   },
   {
    "duration": 13,
    "start_time": "2021-11-28T08:57:06.304Z"
   },
   {
    "duration": 54,
    "start_time": "2021-11-28T08:57:06.321Z"
   },
   {
    "duration": 10,
    "start_time": "2021-11-28T08:57:06.378Z"
   },
   {
    "duration": 26,
    "start_time": "2021-11-28T08:57:06.392Z"
   },
   {
    "duration": 74,
    "start_time": "2021-11-28T08:57:06.421Z"
   },
   {
    "duration": 46,
    "start_time": "2021-11-28T08:57:06.498Z"
   },
   {
    "duration": 6,
    "start_time": "2021-11-28T08:57:06.568Z"
   },
   {
    "duration": 8,
    "start_time": "2021-11-28T08:57:06.576Z"
   },
   {
    "duration": 11,
    "start_time": "2021-11-28T08:57:06.587Z"
   },
   {
    "duration": 27,
    "start_time": "2021-11-28T08:57:06.601Z"
   },
   {
    "duration": 27,
    "start_time": "2021-11-28T08:57:09.211Z"
   },
   {
    "duration": 5,
    "start_time": "2021-11-28T09:01:13.163Z"
   },
   {
    "duration": 14,
    "start_time": "2021-11-28T09:02:22.641Z"
   },
   {
    "duration": 16,
    "start_time": "2021-11-28T09:07:14.332Z"
   },
   {
    "duration": 96,
    "start_time": "2021-11-28T09:10:13.382Z"
   },
   {
    "duration": 7,
    "start_time": "2021-11-28T09:10:32.722Z"
   },
   {
    "duration": 10,
    "start_time": "2021-11-28T09:13:15.501Z"
   },
   {
    "duration": 6,
    "start_time": "2021-11-28T09:14:27.271Z"
   },
   {
    "duration": 8,
    "start_time": "2021-11-28T09:14:31.774Z"
   },
   {
    "duration": 7,
    "start_time": "2021-11-28T09:14:53.863Z"
   },
   {
    "duration": 9,
    "start_time": "2021-11-28T09:20:52.016Z"
   },
   {
    "duration": 8,
    "start_time": "2021-11-28T09:28:46.548Z"
   },
   {
    "duration": 7,
    "start_time": "2021-11-28T09:30:15.725Z"
   },
   {
    "duration": 9,
    "start_time": "2021-11-28T09:31:53.529Z"
   },
   {
    "duration": 10,
    "start_time": "2021-11-28T09:31:59.581Z"
   },
   {
    "duration": 329,
    "start_time": "2021-11-28T09:34:01.315Z"
   },
   {
    "duration": 326,
    "start_time": "2021-11-28T09:34:21.240Z"
   },
   {
    "duration": 8,
    "start_time": "2021-11-28T09:35:35.916Z"
   },
   {
    "duration": 134,
    "start_time": "2021-11-28T09:40:45.549Z"
   },
   {
    "duration": 110,
    "start_time": "2021-11-28T09:40:54.984Z"
   },
   {
    "duration": 86,
    "start_time": "2021-11-28T09:46:09.562Z"
   },
   {
    "duration": 6,
    "start_time": "2021-11-28T09:48:08.535Z"
   },
   {
    "duration": 4,
    "start_time": "2021-11-28T09:48:45.915Z"
   },
   {
    "duration": 7,
    "start_time": "2021-11-28T10:03:34.228Z"
   },
   {
    "duration": 6,
    "start_time": "2021-11-28T10:04:13.091Z"
   },
   {
    "duration": 6,
    "start_time": "2021-11-28T10:04:16.349Z"
   },
   {
    "duration": 19,
    "start_time": "2021-11-28T10:11:00.787Z"
   },
   {
    "duration": 23,
    "start_time": "2021-11-28T10:11:14.367Z"
   },
   {
    "duration": 10,
    "start_time": "2021-11-28T10:15:52.791Z"
   },
   {
    "duration": 273,
    "start_time": "2021-11-28T10:41:35.099Z"
   },
   {
    "duration": 334,
    "start_time": "2021-11-28T10:44:13.536Z"
   },
   {
    "duration": 793,
    "start_time": "2021-11-28T10:47:10.168Z"
   },
   {
    "duration": 279,
    "start_time": "2021-11-28T10:47:47.750Z"
   },
   {
    "duration": 425,
    "start_time": "2021-11-28T10:49:57.921Z"
   },
   {
    "duration": 5,
    "start_time": "2021-11-28T10:50:13.539Z"
   },
   {
    "duration": 75,
    "start_time": "2021-11-28T10:50:13.546Z"
   },
   {
    "duration": 21,
    "start_time": "2021-11-28T10:50:13.624Z"
   },
   {
    "duration": 20,
    "start_time": "2021-11-28T10:50:13.668Z"
   },
   {
    "duration": 76,
    "start_time": "2021-11-28T10:50:13.691Z"
   },
   {
    "duration": 10,
    "start_time": "2021-11-28T10:50:13.770Z"
   },
   {
    "duration": 19,
    "start_time": "2021-11-28T10:50:13.783Z"
   },
   {
    "duration": 14,
    "start_time": "2021-11-28T10:50:13.806Z"
   },
   {
    "duration": 45,
    "start_time": "2021-11-28T10:50:13.823Z"
   },
   {
    "duration": 7,
    "start_time": "2021-11-28T10:50:13.871Z"
   },
   {
    "duration": 17,
    "start_time": "2021-11-28T10:50:13.880Z"
   },
   {
    "duration": 32,
    "start_time": "2021-11-28T10:50:13.900Z"
   },
   {
    "duration": 62,
    "start_time": "2021-11-28T10:50:13.934Z"
   },
   {
    "duration": 49,
    "start_time": "2021-11-28T10:50:13.999Z"
   },
   {
    "duration": 5,
    "start_time": "2021-11-28T10:50:14.067Z"
   },
   {
    "duration": 10,
    "start_time": "2021-11-28T10:50:14.075Z"
   },
   {
    "duration": 9,
    "start_time": "2021-11-28T10:50:14.087Z"
   },
   {
    "duration": 25,
    "start_time": "2021-11-28T10:50:14.100Z"
   },
   {
    "duration": 12,
    "start_time": "2021-11-28T10:50:14.127Z"
   },
   {
    "duration": 29,
    "start_time": "2021-11-28T10:50:14.141Z"
   },
   {
    "duration": 9,
    "start_time": "2021-11-28T10:50:14.172Z"
   },
   {
    "duration": 8,
    "start_time": "2021-11-28T10:50:14.184Z"
   },
   {
    "duration": 4,
    "start_time": "2021-11-28T10:50:14.197Z"
   },
   {
    "duration": 8,
    "start_time": "2021-11-28T10:50:14.203Z"
   },
   {
    "duration": 5,
    "start_time": "2021-11-28T10:50:14.214Z"
   },
   {
    "duration": 8,
    "start_time": "2021-11-28T10:50:14.221Z"
   },
   {
    "duration": 50,
    "start_time": "2021-11-28T10:50:14.232Z"
   },
   {
    "duration": 11,
    "start_time": "2021-11-28T10:50:14.284Z"
   },
   {
    "duration": 530,
    "start_time": "2021-11-28T10:50:14.298Z"
   },
   {
    "duration": 321,
    "start_time": "2021-11-28T10:50:22.070Z"
   },
   {
    "duration": 7,
    "start_time": "2021-11-28T10:58:44.329Z"
   },
   {
    "duration": 1007,
    "start_time": "2021-11-28T11:01:19.607Z"
   },
   {
    "duration": 472,
    "start_time": "2021-11-28T11:01:53.604Z"
   },
   {
    "duration": 940,
    "start_time": "2021-11-28T11:02:36.380Z"
   },
   {
    "duration": 968,
    "start_time": "2021-11-28T11:05:52.862Z"
   },
   {
    "duration": 1282,
    "start_time": "2021-11-28T11:07:13.802Z"
   },
   {
    "duration": 952,
    "start_time": "2021-11-28T11:08:58.883Z"
   },
   {
    "duration": 958,
    "start_time": "2021-11-28T11:09:21.879Z"
   },
   {
    "duration": 998,
    "start_time": "2021-11-28T11:10:02.953Z"
   },
   {
    "duration": 4,
    "start_time": "2021-11-28T11:14:45.040Z"
   },
   {
    "duration": 86,
    "start_time": "2021-11-28T11:14:45.047Z"
   },
   {
    "duration": 43,
    "start_time": "2021-11-28T11:14:45.136Z"
   },
   {
    "duration": 20,
    "start_time": "2021-11-28T11:14:45.182Z"
   },
   {
    "duration": 77,
    "start_time": "2021-11-28T11:14:45.205Z"
   },
   {
    "duration": 10,
    "start_time": "2021-11-28T11:14:45.284Z"
   },
   {
    "duration": 14,
    "start_time": "2021-11-28T11:14:45.296Z"
   },
   {
    "duration": 15,
    "start_time": "2021-11-28T11:14:45.313Z"
   },
   {
    "duration": 44,
    "start_time": "2021-11-28T11:14:45.331Z"
   },
   {
    "duration": 7,
    "start_time": "2021-11-28T11:14:45.378Z"
   },
   {
    "duration": 6,
    "start_time": "2021-11-28T11:14:45.388Z"
   },
   {
    "duration": 24,
    "start_time": "2021-11-28T11:14:45.396Z"
   },
   {
    "duration": 75,
    "start_time": "2021-11-28T11:14:45.422Z"
   },
   {
    "duration": 43,
    "start_time": "2021-11-28T11:14:45.499Z"
   },
   {
    "duration": 25,
    "start_time": "2021-11-28T11:14:45.544Z"
   },
   {
    "duration": 10,
    "start_time": "2021-11-28T11:14:45.571Z"
   },
   {
    "duration": 8,
    "start_time": "2021-11-28T11:14:45.583Z"
   },
   {
    "duration": 27,
    "start_time": "2021-11-28T11:14:45.593Z"
   },
   {
    "duration": 52,
    "start_time": "2021-11-28T11:14:45.622Z"
   },
   {
    "duration": 16,
    "start_time": "2021-11-28T11:14:45.676Z"
   },
   {
    "duration": 9,
    "start_time": "2021-11-28T11:14:45.695Z"
   },
   {
    "duration": 8,
    "start_time": "2021-11-28T11:14:45.707Z"
   },
   {
    "duration": 50,
    "start_time": "2021-11-28T11:14:45.719Z"
   },
   {
    "duration": 11,
    "start_time": "2021-11-28T11:14:45.772Z"
   },
   {
    "duration": 9,
    "start_time": "2021-11-28T11:14:45.786Z"
   },
   {
    "duration": 11,
    "start_time": "2021-11-28T11:14:45.797Z"
   },
   {
    "duration": 67,
    "start_time": "2021-11-28T11:14:45.810Z"
   },
   {
    "duration": 11,
    "start_time": "2021-11-28T11:14:45.879Z"
   },
   {
    "duration": 1111,
    "start_time": "2021-11-28T11:14:45.892Z"
   },
   {
    "duration": 424,
    "start_time": "2021-11-28T15:41:03.919Z"
   },
   {
    "duration": 802,
    "start_time": "2021-11-28T15:41:21.133Z"
   },
   {
    "duration": 83,
    "start_time": "2021-11-28T15:41:21.938Z"
   },
   {
    "duration": 29,
    "start_time": "2021-11-28T15:41:22.025Z"
   },
   {
    "duration": 49,
    "start_time": "2021-11-28T15:41:22.057Z"
   },
   {
    "duration": 50,
    "start_time": "2021-11-28T15:41:22.110Z"
   },
   {
    "duration": 11,
    "start_time": "2021-11-28T15:41:22.162Z"
   },
   {
    "duration": 17,
    "start_time": "2021-11-28T15:41:22.202Z"
   },
   {
    "duration": 13,
    "start_time": "2021-11-28T15:41:22.223Z"
   },
   {
    "duration": 11,
    "start_time": "2021-11-28T15:41:22.239Z"
   },
   {
    "duration": 14,
    "start_time": "2021-11-28T15:41:22.252Z"
   },
   {
    "duration": 38,
    "start_time": "2021-11-28T15:41:22.269Z"
   },
   {
    "duration": 24,
    "start_time": "2021-11-28T15:41:22.310Z"
   },
   {
    "duration": 81,
    "start_time": "2021-11-28T15:41:22.336Z"
   },
   {
    "duration": 42,
    "start_time": "2021-11-28T15:41:22.419Z"
   },
   {
    "duration": 5,
    "start_time": "2021-11-28T15:41:22.463Z"
   },
   {
    "duration": 35,
    "start_time": "2021-11-28T15:41:22.470Z"
   },
   {
    "duration": 11,
    "start_time": "2021-11-28T15:41:22.509Z"
   },
   {
    "duration": 25,
    "start_time": "2021-11-28T15:41:22.522Z"
   },
   {
    "duration": 11,
    "start_time": "2021-11-28T15:41:22.549Z"
   },
   {
    "duration": 21,
    "start_time": "2021-11-28T15:41:22.602Z"
   },
   {
    "duration": 8,
    "start_time": "2021-11-28T15:41:22.626Z"
   },
   {
    "duration": 11,
    "start_time": "2021-11-28T15:41:22.637Z"
   },
   {
    "duration": 4,
    "start_time": "2021-11-28T15:41:22.652Z"
   },
   {
    "duration": 43,
    "start_time": "2021-11-28T15:41:22.659Z"
   },
   {
    "duration": 19,
    "start_time": "2021-11-28T15:41:22.706Z"
   },
   {
    "duration": 7,
    "start_time": "2021-11-28T15:41:22.728Z"
   },
   {
    "duration": 27,
    "start_time": "2021-11-28T15:41:22.738Z"
   },
   {
    "duration": 33,
    "start_time": "2021-11-28T15:41:22.768Z"
   },
   {
    "duration": 1047,
    "start_time": "2021-11-28T15:41:22.805Z"
   },
   {
    "duration": 23,
    "start_time": "2021-11-28T15:41:23.855Z"
   },
   {
    "duration": 50,
    "start_time": "2021-11-28T15:42:35.980Z"
   },
   {
    "duration": 33,
    "start_time": "2021-11-28T15:57:55.601Z"
   },
   {
    "duration": 30,
    "start_time": "2021-11-28T15:58:03.725Z"
   },
   {
    "duration": 24,
    "start_time": "2021-11-28T17:29:50.712Z"
   },
   {
    "duration": 16,
    "start_time": "2021-11-28T17:30:04.354Z"
   },
   {
    "duration": 13,
    "start_time": "2021-11-28T17:30:36.748Z"
   },
   {
    "duration": 1184,
    "start_time": "2021-11-28T18:20:37.578Z"
   },
   {
    "duration": 49,
    "start_time": "2021-11-28T18:21:06.071Z"
   },
   {
    "duration": 34,
    "start_time": "2021-11-28T18:32:08.974Z"
   },
   {
    "duration": 369,
    "start_time": "2021-11-28T18:43:28.172Z"
   },
   {
    "duration": 26,
    "start_time": "2021-11-28T18:43:56.696Z"
   },
   {
    "duration": 40,
    "start_time": "2021-11-28T18:47:09.352Z"
   },
   {
    "duration": 39,
    "start_time": "2021-11-28T18:47:25.574Z"
   },
   {
    "duration": 4497,
    "start_time": "2021-11-28T18:58:42.241Z"
   },
   {
    "duration": 351,
    "start_time": "2021-11-28T19:01:26.040Z"
   },
   {
    "duration": 4790,
    "start_time": "2021-11-28T19:02:25.801Z"
   },
   {
    "duration": 15,
    "start_time": "2021-11-28T19:03:14.750Z"
   },
   {
    "duration": 14,
    "start_time": "2021-11-28T19:04:43.123Z"
   },
   {
    "duration": 812,
    "start_time": "2021-11-29T09:39:54.184Z"
   },
   {
    "duration": 83,
    "start_time": "2021-11-29T09:39:55.001Z"
   },
   {
    "duration": 28,
    "start_time": "2021-11-29T09:39:55.087Z"
   },
   {
    "duration": 24,
    "start_time": "2021-11-29T09:39:55.118Z"
   },
   {
    "duration": 69,
    "start_time": "2021-11-29T09:39:55.144Z"
   },
   {
    "duration": 11,
    "start_time": "2021-11-29T09:39:55.215Z"
   },
   {
    "duration": 12,
    "start_time": "2021-11-29T09:39:55.228Z"
   },
   {
    "duration": 13,
    "start_time": "2021-11-29T09:39:55.242Z"
   },
   {
    "duration": 46,
    "start_time": "2021-11-29T09:39:55.259Z"
   },
   {
    "duration": 7,
    "start_time": "2021-11-29T09:39:55.308Z"
   },
   {
    "duration": 11,
    "start_time": "2021-11-29T09:39:55.318Z"
   },
   {
    "duration": 22,
    "start_time": "2021-11-29T09:39:55.332Z"
   },
   {
    "duration": 67,
    "start_time": "2021-11-29T09:39:55.357Z"
   },
   {
    "duration": 43,
    "start_time": "2021-11-29T09:39:55.427Z"
   },
   {
    "duration": 28,
    "start_time": "2021-11-29T09:39:55.472Z"
   },
   {
    "duration": 10,
    "start_time": "2021-11-29T09:39:55.503Z"
   },
   {
    "duration": 9,
    "start_time": "2021-11-29T09:39:55.516Z"
   },
   {
    "duration": 27,
    "start_time": "2021-11-29T09:39:55.527Z"
   },
   {
    "duration": 47,
    "start_time": "2021-11-29T09:39:55.556Z"
   },
   {
    "duration": 17,
    "start_time": "2021-11-29T09:39:55.605Z"
   },
   {
    "duration": 8,
    "start_time": "2021-11-29T09:39:55.624Z"
   },
   {
    "duration": 8,
    "start_time": "2021-11-29T09:39:55.635Z"
   },
   {
    "duration": 4,
    "start_time": "2021-11-29T09:39:55.645Z"
   },
   {
    "duration": 52,
    "start_time": "2021-11-29T09:39:55.650Z"
   },
   {
    "duration": 5,
    "start_time": "2021-11-29T09:39:55.704Z"
   },
   {
    "duration": 8,
    "start_time": "2021-11-29T09:39:55.712Z"
   },
   {
    "duration": 24,
    "start_time": "2021-11-29T09:39:55.725Z"
   },
   {
    "duration": 51,
    "start_time": "2021-11-29T09:39:55.752Z"
   },
   {
    "duration": 940,
    "start_time": "2021-11-29T09:39:55.806Z"
   },
   {
    "duration": 17,
    "start_time": "2021-11-29T09:39:56.749Z"
   },
   {
    "duration": 43,
    "start_time": "2021-11-29T09:39:56.768Z"
   },
   {
    "duration": 21,
    "start_time": "2021-11-29T09:39:59.213Z"
   },
   {
    "duration": 14,
    "start_time": "2021-11-29T09:40:15.462Z"
   },
   {
    "duration": 11,
    "start_time": "2021-11-29T09:50:33.367Z"
   },
   {
    "duration": 24,
    "start_time": "2021-11-29T09:51:02.567Z"
   },
   {
    "duration": 801,
    "start_time": "2021-11-29T09:52:40.495Z"
   },
   {
    "duration": 76,
    "start_time": "2021-11-29T09:52:41.299Z"
   },
   {
    "duration": 24,
    "start_time": "2021-11-29T09:52:41.379Z"
   },
   {
    "duration": 22,
    "start_time": "2021-11-29T09:52:41.406Z"
   },
   {
    "duration": 70,
    "start_time": "2021-11-29T09:52:41.431Z"
   },
   {
    "duration": 11,
    "start_time": "2021-11-29T09:52:41.504Z"
   },
   {
    "duration": 12,
    "start_time": "2021-11-29T09:52:41.517Z"
   },
   {
    "duration": 15,
    "start_time": "2021-11-29T09:52:41.531Z"
   },
   {
    "duration": 11,
    "start_time": "2021-11-29T09:52:41.550Z"
   },
   {
    "duration": 7,
    "start_time": "2021-11-29T09:52:41.601Z"
   },
   {
    "duration": 16,
    "start_time": "2021-11-29T09:52:41.610Z"
   },
   {
    "duration": 25,
    "start_time": "2021-11-29T09:52:41.629Z"
   },
   {
    "duration": 59,
    "start_time": "2021-11-29T09:52:41.657Z"
   },
   {
    "duration": 44,
    "start_time": "2021-11-29T09:52:41.718Z"
   },
   {
    "duration": 5,
    "start_time": "2021-11-29T09:52:41.765Z"
   },
   {
    "duration": 7,
    "start_time": "2021-11-29T09:52:41.800Z"
   },
   {
    "duration": 11,
    "start_time": "2021-11-29T09:52:41.809Z"
   },
   {
    "duration": 27,
    "start_time": "2021-11-29T09:52:41.823Z"
   },
   {
    "duration": 12,
    "start_time": "2021-11-29T09:52:41.852Z"
   },
   {
    "duration": 13,
    "start_time": "2021-11-29T09:52:41.902Z"
   },
   {
    "duration": 9,
    "start_time": "2021-11-29T09:52:41.917Z"
   },
   {
    "duration": 12,
    "start_time": "2021-11-29T09:52:41.929Z"
   },
   {
    "duration": 5,
    "start_time": "2021-11-29T09:52:41.943Z"
   },
   {
    "duration": 52,
    "start_time": "2021-11-29T09:52:41.950Z"
   },
   {
    "duration": 6,
    "start_time": "2021-11-29T09:52:42.005Z"
   },
   {
    "duration": 9,
    "start_time": "2021-11-29T09:52:42.013Z"
   },
   {
    "duration": 25,
    "start_time": "2021-11-29T09:52:42.026Z"
   },
   {
    "duration": 47,
    "start_time": "2021-11-29T09:52:42.053Z"
   },
   {
    "duration": 1098,
    "start_time": "2021-11-29T09:52:42.103Z"
   },
   {
    "duration": 15,
    "start_time": "2021-11-29T09:52:43.204Z"
   },
   {
    "duration": 17,
    "start_time": "2021-11-29T09:52:43.222Z"
   },
   {
    "duration": 20,
    "start_time": "2021-11-29T09:52:43.241Z"
   },
   {
    "duration": 6,
    "start_time": "2021-11-29T10:11:10.670Z"
   },
   {
    "duration": -28,
    "start_time": "2021-11-29T10:14:19.284Z"
   },
   {
    "duration": 74,
    "start_time": "2021-11-29T10:15:37.550Z"
   },
   {
    "duration": 84,
    "start_time": "2021-11-29T10:16:03.321Z"
   },
   {
    "duration": 19,
    "start_time": "2021-11-29T10:16:03.409Z"
   },
   {
    "duration": 21,
    "start_time": "2021-11-29T10:16:03.431Z"
   },
   {
    "duration": 78,
    "start_time": "2021-11-29T10:16:03.455Z"
   },
   {
    "duration": 10,
    "start_time": "2021-11-29T10:16:03.535Z"
   },
   {
    "duration": 15,
    "start_time": "2021-11-29T10:16:03.547Z"
   },
   {
    "duration": 38,
    "start_time": "2021-11-29T10:16:03.564Z"
   },
   {
    "duration": 12,
    "start_time": "2021-11-29T10:16:03.606Z"
   },
   {
    "duration": 6,
    "start_time": "2021-11-29T10:16:03.621Z"
   },
   {
    "duration": 7,
    "start_time": "2021-11-29T10:16:03.629Z"
   },
   {
    "duration": 67,
    "start_time": "2021-11-29T10:16:03.638Z"
   },
   {
    "duration": 36,
    "start_time": "2021-11-29T10:16:03.707Z"
   },
   {
    "duration": 65,
    "start_time": "2021-11-29T10:16:03.745Z"
   },
   {
    "duration": 5,
    "start_time": "2021-11-29T10:16:03.813Z"
   },
   {
    "duration": 11,
    "start_time": "2021-11-29T10:16:03.820Z"
   },
   {
    "duration": 13,
    "start_time": "2021-11-29T10:16:03.834Z"
   },
   {
    "duration": 59,
    "start_time": "2021-11-29T10:16:03.850Z"
   },
   {
    "duration": 10,
    "start_time": "2021-11-29T10:16:03.911Z"
   },
   {
    "duration": 11,
    "start_time": "2021-11-29T10:16:03.924Z"
   },
   {
    "duration": 10,
    "start_time": "2021-11-29T10:16:03.938Z"
   },
   {
    "duration": 17,
    "start_time": "2021-11-29T10:16:03.950Z"
   },
   {
    "duration": 34,
    "start_time": "2021-11-29T10:16:03.969Z"
   },
   {
    "duration": 11,
    "start_time": "2021-11-29T10:16:04.008Z"
   },
   {
    "duration": 8,
    "start_time": "2021-11-29T10:16:04.022Z"
   },
   {
    "duration": 8,
    "start_time": "2021-11-29T10:16:04.033Z"
   },
   {
    "duration": 62,
    "start_time": "2021-11-29T10:16:04.043Z"
   },
   {
    "duration": 16,
    "start_time": "2021-11-29T10:16:04.108Z"
   },
   {
    "duration": 1178,
    "start_time": "2021-11-29T10:16:04.127Z"
   },
   {
    "duration": 15,
    "start_time": "2021-11-29T10:16:05.307Z"
   },
   {
    "duration": 22,
    "start_time": "2021-11-29T10:16:05.325Z"
   },
   {
    "duration": 22,
    "start_time": "2021-11-29T10:16:05.349Z"
   },
   {
    "duration": 6,
    "start_time": "2021-11-29T10:16:05.401Z"
   },
   {
    "duration": 47,
    "start_time": "2021-11-29T10:16:05.409Z"
   },
   {
    "duration": 4,
    "start_time": "2021-11-29T10:16:23.713Z"
   },
   {
    "duration": 8,
    "start_time": "2021-11-29T10:23:00.244Z"
   },
   {
    "duration": 35,
    "start_time": "2021-11-29T10:23:00.255Z"
   },
   {
    "duration": 18,
    "start_time": "2021-11-29T10:23:00.293Z"
   },
   {
    "duration": 47,
    "start_time": "2021-11-29T10:23:00.313Z"
   },
   {
    "duration": 13,
    "start_time": "2021-11-29T10:27:46.185Z"
   },
   {
    "duration": 13,
    "start_time": "2021-11-29T10:27:56.440Z"
   },
   {
    "duration": 12,
    "start_time": "2021-11-29T10:28:09.899Z"
   },
   {
    "duration": 13,
    "start_time": "2021-11-29T10:28:21.331Z"
   },
   {
    "duration": 13,
    "start_time": "2021-11-29T10:28:38.098Z"
   },
   {
    "duration": 13,
    "start_time": "2021-11-29T10:29:00.642Z"
   },
   {
    "duration": 14,
    "start_time": "2021-11-29T10:29:20.578Z"
   },
   {
    "duration": 387,
    "start_time": "2021-11-29T10:30:14.475Z"
   },
   {
    "duration": 14,
    "start_time": "2021-11-29T10:30:27.706Z"
   },
   {
    "duration": 13,
    "start_time": "2021-11-29T10:34:24.413Z"
   },
   {
    "duration": 6,
    "start_time": "2021-11-29T10:54:21.224Z"
   },
   {
    "duration": 13,
    "start_time": "2021-11-29T10:54:23.639Z"
   },
   {
    "duration": 7,
    "start_time": "2021-11-29T10:55:34.271Z"
   },
   {
    "duration": 13,
    "start_time": "2021-11-29T10:55:35.944Z"
   },
   {
    "duration": 17,
    "start_time": "2021-11-29T11:28:53.167Z"
   },
   {
    "duration": 792,
    "start_time": "2021-11-29T12:19:04.032Z"
   },
   {
    "duration": 34,
    "start_time": "2021-11-29T12:19:11.229Z"
   },
   {
    "duration": 38,
    "start_time": "2021-11-29T12:24:05.676Z"
   },
   {
    "duration": 41,
    "start_time": "2021-11-29T12:25:02.791Z"
   },
   {
    "duration": 73,
    "start_time": "2021-11-29T12:31:43.571Z"
   },
   {
    "duration": 33,
    "start_time": "2021-11-29T12:33:35.107Z"
   },
   {
    "duration": 34,
    "start_time": "2021-11-29T12:34:01.147Z"
   },
   {
    "duration": 1015,
    "start_time": "2021-11-29T12:38:31.083Z"
   },
   {
    "duration": 17,
    "start_time": "2021-11-29T12:38:46.649Z"
   },
   {
    "duration": 23,
    "start_time": "2021-11-29T12:39:07.747Z"
   },
   {
    "duration": 32,
    "start_time": "2021-11-29T12:43:15.980Z"
   },
   {
    "duration": 134,
    "start_time": "2021-11-29T13:29:32.738Z"
   },
   {
    "duration": 374,
    "start_time": "2021-11-29T13:29:57.667Z"
   },
   {
    "duration": 10924,
    "start_time": "2021-11-29T13:30:58.630Z"
   },
   {
    "duration": 66,
    "start_time": "2021-11-29T16:10:57.701Z"
   },
   {
    "duration": 62,
    "start_time": "2021-11-29T16:11:23.619Z"
   },
   {
    "duration": 72,
    "start_time": "2021-11-29T16:11:53.527Z"
   },
   {
    "duration": 214,
    "start_time": "2021-11-29T16:15:31.627Z"
   },
   {
    "duration": 173,
    "start_time": "2021-11-29T16:15:49.264Z"
   },
   {
    "duration": 1198,
    "start_time": "2021-11-29T16:16:00.664Z"
   },
   {
    "duration": 68,
    "start_time": "2021-11-29T16:16:01.864Z"
   },
   {
    "duration": 20,
    "start_time": "2021-11-29T16:16:01.935Z"
   },
   {
    "duration": 16,
    "start_time": "2021-11-29T16:16:01.957Z"
   },
   {
    "duration": 44,
    "start_time": "2021-11-29T16:16:01.975Z"
   },
   {
    "duration": 9,
    "start_time": "2021-11-29T16:16:02.020Z"
   },
   {
    "duration": 20,
    "start_time": "2021-11-29T16:16:02.031Z"
   },
   {
    "duration": 24,
    "start_time": "2021-11-29T16:16:02.054Z"
   },
   {
    "duration": 14,
    "start_time": "2021-11-29T16:16:02.080Z"
   },
   {
    "duration": 21,
    "start_time": "2021-11-29T16:16:02.096Z"
   },
   {
    "duration": 23,
    "start_time": "2021-11-29T16:16:02.119Z"
   },
   {
    "duration": 27,
    "start_time": "2021-11-29T16:16:02.144Z"
   },
   {
    "duration": 24,
    "start_time": "2021-11-29T16:16:02.173Z"
   },
   {
    "duration": 29,
    "start_time": "2021-11-29T16:16:02.199Z"
   },
   {
    "duration": 3,
    "start_time": "2021-11-29T16:16:02.230Z"
   },
   {
    "duration": 26,
    "start_time": "2021-11-29T16:16:02.235Z"
   },
   {
    "duration": 9,
    "start_time": "2021-11-29T16:16:02.263Z"
   },
   {
    "duration": 30,
    "start_time": "2021-11-29T16:16:02.274Z"
   },
   {
    "duration": 8,
    "start_time": "2021-11-29T16:16:02.305Z"
   },
   {
    "duration": 17,
    "start_time": "2021-11-29T16:16:02.315Z"
   },
   {
    "duration": 9,
    "start_time": "2021-11-29T16:16:02.333Z"
   },
   {
    "duration": 20,
    "start_time": "2021-11-29T16:16:02.344Z"
   },
   {
    "duration": 23,
    "start_time": "2021-11-29T16:16:02.368Z"
   },
   {
    "duration": 9,
    "start_time": "2021-11-29T16:16:02.393Z"
   },
   {
    "duration": 14,
    "start_time": "2021-11-29T16:16:02.404Z"
   },
   {
    "duration": 20,
    "start_time": "2021-11-29T16:16:02.419Z"
   },
   {
    "duration": 28,
    "start_time": "2021-11-29T16:16:02.441Z"
   },
   {
    "duration": 11,
    "start_time": "2021-11-29T16:16:02.471Z"
   },
   {
    "duration": 679,
    "start_time": "2021-11-29T16:16:02.484Z"
   },
   {
    "duration": 10,
    "start_time": "2021-11-29T16:16:03.166Z"
   },
   {
    "duration": 23,
    "start_time": "2021-11-29T16:16:03.178Z"
   },
   {
    "duration": 13,
    "start_time": "2021-11-29T16:16:03.203Z"
   },
   {
    "duration": 11,
    "start_time": "2021-11-29T16:16:03.218Z"
   },
   {
    "duration": 6,
    "start_time": "2021-11-29T16:16:03.231Z"
   },
   {
    "duration": 15,
    "start_time": "2021-11-29T16:16:03.238Z"
   },
   {
    "duration": 51,
    "start_time": "2021-11-29T16:16:03.254Z"
   },
   {
    "duration": 26,
    "start_time": "2021-11-29T16:16:03.307Z"
   },
   {
    "duration": 27,
    "start_time": "2021-11-29T16:16:03.335Z"
   },
   {
    "duration": 39,
    "start_time": "2021-11-29T16:16:03.364Z"
   },
   {
    "duration": -518,
    "start_time": "2021-11-29T16:16:04.175Z"
   },
   {
    "duration": 176,
    "start_time": "2021-11-29T16:16:22.643Z"
   },
   {
    "duration": 2478,
    "start_time": "2021-11-29T16:17:59.249Z"
   },
   {
    "duration": 175,
    "start_time": "2021-11-29T16:20:01.962Z"
   },
   {
    "duration": 190,
    "start_time": "2021-11-29T16:21:27.380Z"
   },
   {
    "duration": 353,
    "start_time": "2021-11-29T16:21:47.469Z"
   },
   {
    "duration": 340,
    "start_time": "2021-11-29T16:22:16.408Z"
   },
   {
    "duration": 337,
    "start_time": "2021-11-29T16:28:33.183Z"
   },
   {
    "duration": 322,
    "start_time": "2021-11-29T16:53:50.376Z"
   },
   {
    "duration": 16,
    "start_time": "2021-11-29T17:29:23.213Z"
   },
   {
    "duration": 13,
    "start_time": "2021-11-29T17:37:36.084Z"
   },
   {
    "duration": 13,
    "start_time": "2021-11-29T17:37:48.010Z"
   },
   {
    "duration": 4,
    "start_time": "2021-11-29T17:38:00.371Z"
   },
   {
    "duration": 87,
    "start_time": "2021-11-29T17:38:00.377Z"
   },
   {
    "duration": 12,
    "start_time": "2021-11-29T17:38:00.466Z"
   },
   {
    "duration": 18,
    "start_time": "2021-11-29T17:38:00.480Z"
   },
   {
    "duration": 38,
    "start_time": "2021-11-29T17:38:00.500Z"
   },
   {
    "duration": 8,
    "start_time": "2021-11-29T17:38:00.540Z"
   },
   {
    "duration": 23,
    "start_time": "2021-11-29T17:38:00.550Z"
   },
   {
    "duration": 13,
    "start_time": "2021-11-29T17:38:03.762Z"
   },
   {
    "duration": 6,
    "start_time": "2021-11-29T18:05:41.705Z"
   },
   {
    "duration": 3,
    "start_time": "2021-11-29T18:05:59.948Z"
   },
   {
    "duration": 64,
    "start_time": "2021-11-29T18:05:59.952Z"
   },
   {
    "duration": 12,
    "start_time": "2021-11-29T18:06:00.018Z"
   },
   {
    "duration": 24,
    "start_time": "2021-11-29T18:06:00.032Z"
   },
   {
    "duration": 51,
    "start_time": "2021-11-29T18:06:00.057Z"
   },
   {
    "duration": 6,
    "start_time": "2021-11-29T18:06:00.110Z"
   },
   {
    "duration": 11,
    "start_time": "2021-11-29T18:06:00.118Z"
   },
   {
    "duration": 17,
    "start_time": "2021-11-29T18:06:00.132Z"
   },
   {
    "duration": 10,
    "start_time": "2021-11-29T18:06:00.150Z"
   },
   {
    "duration": 29,
    "start_time": "2021-11-29T18:06:00.162Z"
   },
   {
    "duration": 10,
    "start_time": "2021-11-29T18:06:00.193Z"
   },
   {
    "duration": 18,
    "start_time": "2021-11-29T18:06:00.205Z"
   },
   {
    "duration": 25,
    "start_time": "2021-11-29T18:06:00.225Z"
   },
   {
    "duration": 54,
    "start_time": "2021-11-29T18:06:00.252Z"
   },
   {
    "duration": 3,
    "start_time": "2021-11-29T18:06:00.309Z"
   },
   {
    "duration": 17,
    "start_time": "2021-11-29T18:06:00.314Z"
   },
   {
    "duration": 9,
    "start_time": "2021-11-29T18:06:00.333Z"
   },
   {
    "duration": 18,
    "start_time": "2021-11-29T18:06:00.343Z"
   },
   {
    "duration": 31,
    "start_time": "2021-11-29T18:06:00.364Z"
   },
   {
    "duration": 8,
    "start_time": "2021-11-29T18:06:00.396Z"
   },
   {
    "duration": 7,
    "start_time": "2021-11-29T18:06:00.406Z"
   },
   {
    "duration": 15,
    "start_time": "2021-11-29T18:06:00.414Z"
   },
   {
    "duration": 6,
    "start_time": "2021-11-29T18:06:00.431Z"
   },
   {
    "duration": 29,
    "start_time": "2021-11-29T18:06:00.438Z"
   },
   {
    "duration": 26,
    "start_time": "2021-11-29T18:06:00.469Z"
   },
   {
    "duration": 25,
    "start_time": "2021-11-29T18:06:00.496Z"
   },
   {
    "duration": 22,
    "start_time": "2021-11-29T18:06:00.523Z"
   },
   {
    "duration": 15,
    "start_time": "2021-11-29T18:06:00.547Z"
   },
   {
    "duration": 701,
    "start_time": "2021-11-29T18:06:00.564Z"
   },
   {
    "duration": 13,
    "start_time": "2021-11-29T18:06:01.267Z"
   },
   {
    "duration": 28,
    "start_time": "2021-11-29T18:06:01.291Z"
   },
   {
    "duration": 37,
    "start_time": "2021-11-29T18:06:01.321Z"
   },
   {
    "duration": 12,
    "start_time": "2021-11-29T18:06:12.109Z"
   },
   {
    "duration": 3,
    "start_time": "2021-11-29T18:14:28.449Z"
   },
   {
    "duration": 89,
    "start_time": "2021-11-29T18:14:28.454Z"
   },
   {
    "duration": 12,
    "start_time": "2021-11-29T18:14:28.545Z"
   },
   {
    "duration": 23,
    "start_time": "2021-11-29T18:14:28.558Z"
   },
   {
    "duration": 53,
    "start_time": "2021-11-29T18:14:28.592Z"
   },
   {
    "duration": 7,
    "start_time": "2021-11-29T18:14:28.646Z"
   },
   {
    "duration": 17,
    "start_time": "2021-11-29T18:14:28.655Z"
   },
   {
    "duration": 10,
    "start_time": "2021-11-29T18:14:28.675Z"
   },
   {
    "duration": 17,
    "start_time": "2021-11-29T18:14:28.687Z"
   },
   {
    "duration": 18,
    "start_time": "2021-11-29T18:14:28.706Z"
   },
   {
    "duration": 28,
    "start_time": "2021-11-29T18:14:28.726Z"
   },
   {
    "duration": 25,
    "start_time": "2021-11-29T18:14:28.756Z"
   },
   {
    "duration": 32,
    "start_time": "2021-11-29T18:14:28.783Z"
   },
   {
    "duration": 33,
    "start_time": "2021-11-29T18:14:28.817Z"
   },
   {
    "duration": 4,
    "start_time": "2021-11-29T18:14:28.852Z"
   },
   {
    "duration": 15,
    "start_time": "2021-11-29T18:14:28.857Z"
   },
   {
    "duration": 26,
    "start_time": "2021-11-29T18:14:28.874Z"
   },
   {
    "duration": 27,
    "start_time": "2021-11-29T18:14:28.902Z"
   },
   {
    "duration": 12,
    "start_time": "2021-11-29T18:14:28.931Z"
   },
   {
    "duration": 10,
    "start_time": "2021-11-29T18:14:28.944Z"
   },
   {
    "duration": 7,
    "start_time": "2021-11-29T18:14:28.955Z"
   },
   {
    "duration": 12,
    "start_time": "2021-11-29T18:14:28.964Z"
   },
   {
    "duration": 22,
    "start_time": "2021-11-29T18:14:28.979Z"
   },
   {
    "duration": 38,
    "start_time": "2021-11-29T18:14:29.003Z"
   },
   {
    "duration": 19,
    "start_time": "2021-11-29T18:14:29.042Z"
   },
   {
    "duration": 17,
    "start_time": "2021-11-29T18:14:29.063Z"
   },
   {
    "duration": 29,
    "start_time": "2021-11-29T18:14:29.082Z"
   },
   {
    "duration": 8,
    "start_time": "2021-11-29T18:14:29.113Z"
   },
   {
    "duration": 709,
    "start_time": "2021-11-29T18:14:29.122Z"
   },
   {
    "duration": 15,
    "start_time": "2021-11-29T18:14:29.834Z"
   },
   {
    "duration": 9,
    "start_time": "2021-11-29T18:14:29.851Z"
   },
   {
    "duration": 12,
    "start_time": "2021-11-29T18:14:29.862Z"
   },
   {
    "duration": 12,
    "start_time": "2021-11-29T18:14:29.892Z"
   },
   {
    "duration": 8,
    "start_time": "2021-11-29T18:14:29.905Z"
   },
   {
    "duration": 12,
    "start_time": "2021-11-29T18:14:29.915Z"
   },
   {
    "duration": 32,
    "start_time": "2021-11-29T18:14:29.929Z"
   },
   {
    "duration": 33,
    "start_time": "2021-11-29T18:14:31.657Z"
   },
   {
    "duration": 4,
    "start_time": "2021-11-29T20:13:00.294Z"
   },
   {
    "duration": 166,
    "start_time": "2021-11-29T20:13:00.302Z"
   },
   {
    "duration": 13,
    "start_time": "2021-11-29T20:13:00.470Z"
   },
   {
    "duration": 38,
    "start_time": "2021-11-29T20:13:00.486Z"
   },
   {
    "duration": 48,
    "start_time": "2021-11-29T20:13:00.526Z"
   },
   {
    "duration": 6,
    "start_time": "2021-11-29T20:13:00.576Z"
   },
   {
    "duration": 20,
    "start_time": "2021-11-29T20:13:00.584Z"
   },
   {
    "duration": 14,
    "start_time": "2021-11-29T20:13:00.606Z"
   },
   {
    "duration": 13,
    "start_time": "2021-11-29T20:13:00.624Z"
   },
   {
    "duration": 23,
    "start_time": "2021-11-29T20:13:00.641Z"
   },
   {
    "duration": 24,
    "start_time": "2021-11-29T20:13:00.666Z"
   },
   {
    "duration": 38,
    "start_time": "2021-11-29T20:13:00.692Z"
   },
   {
    "duration": 35,
    "start_time": "2021-11-29T20:13:00.732Z"
   },
   {
    "duration": 31,
    "start_time": "2021-11-29T20:13:00.769Z"
   },
   {
    "duration": 8,
    "start_time": "2021-11-29T20:13:00.803Z"
   },
   {
    "duration": 24,
    "start_time": "2021-11-29T20:13:00.812Z"
   },
   {
    "duration": 29,
    "start_time": "2021-11-29T20:13:00.839Z"
   },
   {
    "duration": 28,
    "start_time": "2021-11-29T20:13:00.870Z"
   },
   {
    "duration": 35,
    "start_time": "2021-11-29T20:13:00.901Z"
   },
   {
    "duration": 29,
    "start_time": "2021-11-29T20:13:00.939Z"
   },
   {
    "duration": 25,
    "start_time": "2021-11-29T20:13:00.971Z"
   },
   {
    "duration": 33,
    "start_time": "2021-11-29T20:13:00.998Z"
   },
   {
    "duration": 32,
    "start_time": "2021-11-29T20:13:01.034Z"
   },
   {
    "duration": 36,
    "start_time": "2021-11-29T20:13:01.069Z"
   },
   {
    "duration": 20,
    "start_time": "2021-11-29T20:13:01.107Z"
   },
   {
    "duration": 15,
    "start_time": "2021-11-29T20:13:01.128Z"
   },
   {
    "duration": 26,
    "start_time": "2021-11-29T20:13:01.146Z"
   },
   {
    "duration": 33,
    "start_time": "2021-11-29T20:13:01.174Z"
   },
   {
    "duration": 745,
    "start_time": "2021-11-29T20:13:01.210Z"
   },
   {
    "duration": 12,
    "start_time": "2021-11-29T20:13:01.958Z"
   },
   {
    "duration": 30,
    "start_time": "2021-11-29T20:13:01.972Z"
   },
   {
    "duration": 25,
    "start_time": "2021-11-29T20:13:02.004Z"
   },
   {
    "duration": 19,
    "start_time": "2021-11-29T20:13:02.031Z"
   },
   {
    "duration": 5,
    "start_time": "2021-11-29T20:13:02.052Z"
   },
   {
    "duration": 19,
    "start_time": "2021-11-29T20:13:02.059Z"
   },
   {
    "duration": 38,
    "start_time": "2021-11-29T20:13:02.091Z"
   },
   {
    "duration": 25,
    "start_time": "2021-11-29T20:13:02.131Z"
   },
   {
    "duration": 48,
    "start_time": "2021-11-29T20:13:02.158Z"
   },
   {
    "duration": 3,
    "start_time": "2021-11-29T20:48:40.523Z"
   },
   {
    "duration": 603,
    "start_time": "2021-11-29T20:48:40.528Z"
   },
   {
    "duration": 12,
    "start_time": "2021-11-29T20:48:41.133Z"
   },
   {
    "duration": 12,
    "start_time": "2021-11-29T20:48:41.146Z"
   },
   {
    "duration": 39,
    "start_time": "2021-11-29T20:48:41.160Z"
   },
   {
    "duration": 6,
    "start_time": "2021-11-29T20:48:41.201Z"
   },
   {
    "duration": 7,
    "start_time": "2021-11-29T20:48:41.209Z"
   },
   {
    "duration": 8,
    "start_time": "2021-11-29T20:48:41.218Z"
   },
   {
    "duration": 7,
    "start_time": "2021-11-29T20:48:41.228Z"
   },
   {
    "duration": 5,
    "start_time": "2021-11-29T20:48:41.237Z"
   },
   {
    "duration": 10,
    "start_time": "2021-11-29T20:48:41.243Z"
   },
   {
    "duration": 46,
    "start_time": "2021-11-29T20:48:41.255Z"
   },
   {
    "duration": 24,
    "start_time": "2021-11-29T20:48:41.303Z"
   },
   {
    "duration": 27,
    "start_time": "2021-11-29T20:48:41.328Z"
   },
   {
    "duration": 3,
    "start_time": "2021-11-29T20:48:41.357Z"
   },
   {
    "duration": 33,
    "start_time": "2021-11-29T20:48:41.361Z"
   },
   {
    "duration": 7,
    "start_time": "2021-11-29T20:48:41.396Z"
   },
   {
    "duration": 16,
    "start_time": "2021-11-29T20:48:41.405Z"
   },
   {
    "duration": 8,
    "start_time": "2021-11-29T20:48:41.424Z"
   },
   {
    "duration": 8,
    "start_time": "2021-11-29T20:48:41.433Z"
   },
   {
    "duration": 6,
    "start_time": "2021-11-29T20:48:41.443Z"
   },
   {
    "duration": 40,
    "start_time": "2021-11-29T20:48:41.451Z"
   },
   {
    "duration": 3,
    "start_time": "2021-11-29T20:48:41.493Z"
   },
   {
    "duration": 9,
    "start_time": "2021-11-29T20:48:41.497Z"
   },
   {
    "duration": 3,
    "start_time": "2021-11-29T20:48:41.507Z"
   },
   {
    "duration": 5,
    "start_time": "2021-11-29T20:48:41.512Z"
   },
   {
    "duration": 17,
    "start_time": "2021-11-29T20:48:41.518Z"
   },
   {
    "duration": 7,
    "start_time": "2021-11-29T20:48:41.536Z"
   },
   {
    "duration": 717,
    "start_time": "2021-11-29T20:48:41.544Z"
   },
   {
    "duration": 11,
    "start_time": "2021-11-29T20:48:42.263Z"
   },
   {
    "duration": 20,
    "start_time": "2021-11-29T20:48:42.276Z"
   },
   {
    "duration": 7,
    "start_time": "2021-11-29T20:48:42.297Z"
   },
   {
    "duration": 11,
    "start_time": "2021-11-29T20:48:42.305Z"
   },
   {
    "duration": 5,
    "start_time": "2021-11-29T20:48:42.318Z"
   },
   {
    "duration": 11,
    "start_time": "2021-11-29T20:48:42.324Z"
   },
   {
    "duration": 64,
    "start_time": "2021-11-29T20:48:42.337Z"
   },
   {
    "duration": 24,
    "start_time": "2021-11-29T20:48:42.403Z"
   },
   {
    "duration": 20,
    "start_time": "2021-11-29T20:48:42.428Z"
   },
   {
    "duration": 42,
    "start_time": "2021-11-29T20:48:42.450Z"
   },
   {
    "duration": 4,
    "start_time": "2021-11-29T20:48:58.029Z"
   },
   {
    "duration": 72,
    "start_time": "2021-11-29T20:48:58.034Z"
   },
   {
    "duration": 12,
    "start_time": "2021-11-29T20:48:58.110Z"
   },
   {
    "duration": 14,
    "start_time": "2021-11-29T20:48:58.125Z"
   },
   {
    "duration": 56,
    "start_time": "2021-11-29T20:48:58.141Z"
   },
   {
    "duration": 8,
    "start_time": "2021-11-29T20:48:58.199Z"
   },
   {
    "duration": 9,
    "start_time": "2021-11-29T20:48:58.208Z"
   },
   {
    "duration": 16,
    "start_time": "2021-11-29T20:48:58.218Z"
   },
   {
    "duration": 8,
    "start_time": "2021-11-29T20:48:58.237Z"
   },
   {
    "duration": 5,
    "start_time": "2021-11-29T20:48:58.247Z"
   },
   {
    "duration": 10,
    "start_time": "2021-11-29T20:48:58.253Z"
   },
   {
    "duration": 15,
    "start_time": "2021-11-29T20:48:58.291Z"
   },
   {
    "duration": 24,
    "start_time": "2021-11-29T20:48:58.308Z"
   },
   {
    "duration": 29,
    "start_time": "2021-11-29T20:48:58.333Z"
   },
   {
    "duration": 29,
    "start_time": "2021-11-29T20:48:58.363Z"
   },
   {
    "duration": 10,
    "start_time": "2021-11-29T20:48:58.394Z"
   },
   {
    "duration": 9,
    "start_time": "2021-11-29T20:48:58.406Z"
   },
   {
    "duration": 19,
    "start_time": "2021-11-29T20:48:58.416Z"
   },
   {
    "duration": 7,
    "start_time": "2021-11-29T20:48:58.437Z"
   },
   {
    "duration": 10,
    "start_time": "2021-11-29T20:48:58.446Z"
   },
   {
    "duration": 35,
    "start_time": "2021-11-29T20:48:58.458Z"
   },
   {
    "duration": 6,
    "start_time": "2021-11-29T20:48:58.495Z"
   },
   {
    "duration": 6,
    "start_time": "2021-11-29T20:48:58.503Z"
   },
   {
    "duration": 9,
    "start_time": "2021-11-29T20:48:58.511Z"
   },
   {
    "duration": 5,
    "start_time": "2021-11-29T20:48:58.522Z"
   },
   {
    "duration": 5,
    "start_time": "2021-11-29T20:48:58.529Z"
   },
   {
    "duration": 16,
    "start_time": "2021-11-29T20:48:58.537Z"
   },
   {
    "duration": 40,
    "start_time": "2021-11-29T20:48:58.555Z"
   },
   {
    "duration": 712,
    "start_time": "2021-11-29T20:48:58.597Z"
   },
   {
    "duration": 11,
    "start_time": "2021-11-29T20:48:59.311Z"
   },
   {
    "duration": 20,
    "start_time": "2021-11-29T20:48:59.324Z"
   },
   {
    "duration": 8,
    "start_time": "2021-11-29T20:48:59.346Z"
   },
   {
    "duration": 11,
    "start_time": "2021-11-29T20:48:59.355Z"
   },
   {
    "duration": 24,
    "start_time": "2021-11-29T20:48:59.368Z"
   },
   {
    "duration": 14,
    "start_time": "2021-11-29T20:48:59.394Z"
   },
   {
    "duration": 31,
    "start_time": "2021-11-29T20:48:59.410Z"
   },
   {
    "duration": 49,
    "start_time": "2021-11-29T20:48:59.444Z"
   },
   {
    "duration": 21,
    "start_time": "2021-11-29T20:48:59.495Z"
   },
   {
    "duration": 20,
    "start_time": "2021-11-29T20:48:59.518Z"
   },
   {
    "duration": 100,
    "start_time": "2021-12-05T09:43:49.189Z"
   },
   {
    "duration": 84,
    "start_time": "2021-12-05T09:45:14.644Z"
   },
   {
    "duration": 98,
    "start_time": "2021-12-05T09:45:33.266Z"
   },
   {
    "duration": 301,
    "start_time": "2021-12-05T09:46:07.872Z"
   },
   {
    "duration": 1266,
    "start_time": "2021-12-05T09:46:19.923Z"
   },
   {
    "duration": 60,
    "start_time": "2021-12-05T09:46:21.191Z"
   },
   {
    "duration": 19,
    "start_time": "2021-12-05T09:46:21.253Z"
   },
   {
    "duration": 23,
    "start_time": "2021-12-05T09:46:21.275Z"
   },
   {
    "duration": 53,
    "start_time": "2021-12-05T09:46:21.300Z"
   },
   {
    "duration": 9,
    "start_time": "2021-12-05T09:46:21.355Z"
   },
   {
    "duration": 54,
    "start_time": "2021-12-05T09:46:21.365Z"
   },
   {
    "duration": 10,
    "start_time": "2021-12-05T09:46:21.422Z"
   },
   {
    "duration": 15,
    "start_time": "2021-12-05T09:46:21.435Z"
   },
   {
    "duration": 6,
    "start_time": "2021-12-05T09:46:21.452Z"
   },
   {
    "duration": 12,
    "start_time": "2021-12-05T09:46:21.460Z"
   },
   {
    "duration": 18,
    "start_time": "2021-12-05T09:46:21.474Z"
   },
   {
    "duration": 32,
    "start_time": "2021-12-05T09:46:21.494Z"
   },
   {
    "duration": 52,
    "start_time": "2021-12-05T09:46:21.528Z"
   },
   {
    "duration": 3,
    "start_time": "2021-12-05T09:46:21.582Z"
   },
   {
    "duration": 10,
    "start_time": "2021-12-05T09:46:21.587Z"
   },
   {
    "duration": 9,
    "start_time": "2021-12-05T09:46:21.599Z"
   },
   {
    "duration": 6,
    "start_time": "2021-12-05T09:46:27.618Z"
   },
   {
    "duration": 6,
    "start_time": "2021-12-05T09:46:40.936Z"
   },
   {
    "duration": 8,
    "start_time": "2021-12-05T09:48:36.174Z"
   },
   {
    "duration": 5,
    "start_time": "2021-12-05T09:48:39.826Z"
   }
  ],
  "kernelspec": {
   "display_name": "Python 3 (ipykernel)",
   "language": "python",
   "name": "python3"
  },
  "language_info": {
   "codemirror_mode": {
    "name": "ipython",
    "version": 3
   },
   "file_extension": ".py",
   "mimetype": "text/x-python",
   "name": "python",
   "nbconvert_exporter": "python",
   "pygments_lexer": "ipython3",
   "version": "3.9.5"
  },
  "toc": {
   "base_numbering": 1,
   "nav_menu": {},
   "number_sections": true,
   "sideBar": true,
   "skip_h1_title": true,
   "title_cell": "Table of Contents",
   "title_sidebar": "Contents",
   "toc_cell": false,
   "toc_position": {},
   "toc_section_display": true,
   "toc_window_display": false
  }
 },
 "nbformat": 4,
 "nbformat_minor": 2
}
