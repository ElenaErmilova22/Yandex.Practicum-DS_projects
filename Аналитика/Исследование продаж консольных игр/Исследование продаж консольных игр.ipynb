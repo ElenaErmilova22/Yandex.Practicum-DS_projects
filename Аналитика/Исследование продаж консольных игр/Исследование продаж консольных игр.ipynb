{
 "cells": [
  {
   "cell_type": "markdown",
   "metadata": {},
   "source": [
    "## Аннотация: Исследование продаж консольных игр"
   ]
  },
  {
   "cell_type": "markdown",
   "metadata": {},
   "source": [
    "На основе данных о продажах игр в различных регионах, оценках пользователей и критиков, жанрах и платформах нужно выявить определяющие успешность игры закономерности. \n",
    "\n",
    "**Цель исследования:**  - спланировать рекламную кампанию на 2017 год. \n",
    "\n",
    "**Задача исследования:** проанализировать имеющиеся данные и сделать вывод о том, какой продукт будет потенциально популярен у пользователей."
   ]
  },
  {
   "cell_type": "markdown",
   "metadata": {},
   "source": [
    "## Знакомство с данными"
   ]
  },
  {
   "cell_type": "code",
   "execution_count": 39,
   "metadata": {},
   "outputs": [],
   "source": [
    "#импортируем библиотеки, которые понадобятся нам в исследовании\n",
    "import pandas as pd\n",
    "import numpy as np\n",
    "import matplotlib.pyplot as plt\n",
    "import seaborn as sns\n",
    "from scipy import stats as st"
   ]
  },
  {
   "cell_type": "code",
   "execution_count": 40,
   "metadata": {},
   "outputs": [
    {
     "name": "stdout",
     "output_type": "stream",
     "text": [
      "<class 'pandas.core.frame.DataFrame'>\n",
      "RangeIndex: 16715 entries, 0 to 16714\n",
      "Data columns (total 11 columns):\n",
      "Name               16713 non-null object\n",
      "Platform           16715 non-null object\n",
      "Year_of_Release    16446 non-null float64\n",
      "Genre              16713 non-null object\n",
      "NA_sales           16715 non-null float64\n",
      "EU_sales           16715 non-null float64\n",
      "JP_sales           16715 non-null float64\n",
      "Other_sales        16715 non-null float64\n",
      "Critic_Score       8137 non-null float64\n",
      "User_Score         10014 non-null object\n",
      "Rating             9949 non-null object\n",
      "dtypes: float64(6), object(5)\n",
      "memory usage: 1.4+ MB\n"
     ]
    }
   ],
   "source": [
    "initial_data = pd.read_csv('/datasets/games.csv') #применяем специальный метод для чтения файла формата csv\n",
    "initial_data.info() #запрашиваем и выводим общую информацию об исходном датафрейме"
   ]
  },
  {
   "cell_type": "code",
   "execution_count": 41,
   "metadata": {},
   "outputs": [
    {
     "data": {
      "text/html": [
       "<div>\n",
       "<style scoped>\n",
       "    .dataframe tbody tr th:only-of-type {\n",
       "        vertical-align: middle;\n",
       "    }\n",
       "\n",
       "    .dataframe tbody tr th {\n",
       "        vertical-align: top;\n",
       "    }\n",
       "\n",
       "    .dataframe thead th {\n",
       "        text-align: right;\n",
       "    }\n",
       "</style>\n",
       "<table border=\"1\" class=\"dataframe\">\n",
       "  <thead>\n",
       "    <tr style=\"text-align: right;\">\n",
       "      <th></th>\n",
       "      <th>Name</th>\n",
       "      <th>Platform</th>\n",
       "      <th>Year_of_Release</th>\n",
       "      <th>Genre</th>\n",
       "      <th>NA_sales</th>\n",
       "      <th>EU_sales</th>\n",
       "      <th>JP_sales</th>\n",
       "      <th>Other_sales</th>\n",
       "      <th>Critic_Score</th>\n",
       "      <th>User_Score</th>\n",
       "      <th>Rating</th>\n",
       "    </tr>\n",
       "  </thead>\n",
       "  <tbody>\n",
       "    <tr>\n",
       "      <td>0</td>\n",
       "      <td>Wii Sports</td>\n",
       "      <td>Wii</td>\n",
       "      <td>2006.0</td>\n",
       "      <td>Sports</td>\n",
       "      <td>41.36</td>\n",
       "      <td>28.96</td>\n",
       "      <td>3.77</td>\n",
       "      <td>8.45</td>\n",
       "      <td>76.0</td>\n",
       "      <td>8</td>\n",
       "      <td>E</td>\n",
       "    </tr>\n",
       "    <tr>\n",
       "      <td>1</td>\n",
       "      <td>Super Mario Bros.</td>\n",
       "      <td>NES</td>\n",
       "      <td>1985.0</td>\n",
       "      <td>Platform</td>\n",
       "      <td>29.08</td>\n",
       "      <td>3.58</td>\n",
       "      <td>6.81</td>\n",
       "      <td>0.77</td>\n",
       "      <td>NaN</td>\n",
       "      <td>NaN</td>\n",
       "      <td>NaN</td>\n",
       "    </tr>\n",
       "    <tr>\n",
       "      <td>2</td>\n",
       "      <td>Mario Kart Wii</td>\n",
       "      <td>Wii</td>\n",
       "      <td>2008.0</td>\n",
       "      <td>Racing</td>\n",
       "      <td>15.68</td>\n",
       "      <td>12.76</td>\n",
       "      <td>3.79</td>\n",
       "      <td>3.29</td>\n",
       "      <td>82.0</td>\n",
       "      <td>8.3</td>\n",
       "      <td>E</td>\n",
       "    </tr>\n",
       "    <tr>\n",
       "      <td>3</td>\n",
       "      <td>Wii Sports Resort</td>\n",
       "      <td>Wii</td>\n",
       "      <td>2009.0</td>\n",
       "      <td>Sports</td>\n",
       "      <td>15.61</td>\n",
       "      <td>10.93</td>\n",
       "      <td>3.28</td>\n",
       "      <td>2.95</td>\n",
       "      <td>80.0</td>\n",
       "      <td>8</td>\n",
       "      <td>E</td>\n",
       "    </tr>\n",
       "    <tr>\n",
       "      <td>4</td>\n",
       "      <td>Pokemon Red/Pokemon Blue</td>\n",
       "      <td>GB</td>\n",
       "      <td>1996.0</td>\n",
       "      <td>Role-Playing</td>\n",
       "      <td>11.27</td>\n",
       "      <td>8.89</td>\n",
       "      <td>10.22</td>\n",
       "      <td>1.00</td>\n",
       "      <td>NaN</td>\n",
       "      <td>NaN</td>\n",
       "      <td>NaN</td>\n",
       "    </tr>\n",
       "    <tr>\n",
       "      <td>5</td>\n",
       "      <td>Tetris</td>\n",
       "      <td>GB</td>\n",
       "      <td>1989.0</td>\n",
       "      <td>Puzzle</td>\n",
       "      <td>23.20</td>\n",
       "      <td>2.26</td>\n",
       "      <td>4.22</td>\n",
       "      <td>0.58</td>\n",
       "      <td>NaN</td>\n",
       "      <td>NaN</td>\n",
       "      <td>NaN</td>\n",
       "    </tr>\n",
       "    <tr>\n",
       "      <td>6</td>\n",
       "      <td>New Super Mario Bros.</td>\n",
       "      <td>DS</td>\n",
       "      <td>2006.0</td>\n",
       "      <td>Platform</td>\n",
       "      <td>11.28</td>\n",
       "      <td>9.14</td>\n",
       "      <td>6.50</td>\n",
       "      <td>2.88</td>\n",
       "      <td>89.0</td>\n",
       "      <td>8.5</td>\n",
       "      <td>E</td>\n",
       "    </tr>\n",
       "    <tr>\n",
       "      <td>7</td>\n",
       "      <td>Wii Play</td>\n",
       "      <td>Wii</td>\n",
       "      <td>2006.0</td>\n",
       "      <td>Misc</td>\n",
       "      <td>13.96</td>\n",
       "      <td>9.18</td>\n",
       "      <td>2.93</td>\n",
       "      <td>2.84</td>\n",
       "      <td>58.0</td>\n",
       "      <td>6.6</td>\n",
       "      <td>E</td>\n",
       "    </tr>\n",
       "    <tr>\n",
       "      <td>8</td>\n",
       "      <td>New Super Mario Bros. Wii</td>\n",
       "      <td>Wii</td>\n",
       "      <td>2009.0</td>\n",
       "      <td>Platform</td>\n",
       "      <td>14.44</td>\n",
       "      <td>6.94</td>\n",
       "      <td>4.70</td>\n",
       "      <td>2.24</td>\n",
       "      <td>87.0</td>\n",
       "      <td>8.4</td>\n",
       "      <td>E</td>\n",
       "    </tr>\n",
       "    <tr>\n",
       "      <td>9</td>\n",
       "      <td>Duck Hunt</td>\n",
       "      <td>NES</td>\n",
       "      <td>1984.0</td>\n",
       "      <td>Shooter</td>\n",
       "      <td>26.93</td>\n",
       "      <td>0.63</td>\n",
       "      <td>0.28</td>\n",
       "      <td>0.47</td>\n",
       "      <td>NaN</td>\n",
       "      <td>NaN</td>\n",
       "      <td>NaN</td>\n",
       "    </tr>\n",
       "  </tbody>\n",
       "</table>\n",
       "</div>"
      ],
      "text/plain": [
       "                        Name Platform  Year_of_Release         Genre  \\\n",
       "0                 Wii Sports      Wii           2006.0        Sports   \n",
       "1          Super Mario Bros.      NES           1985.0      Platform   \n",
       "2             Mario Kart Wii      Wii           2008.0        Racing   \n",
       "3          Wii Sports Resort      Wii           2009.0        Sports   \n",
       "4   Pokemon Red/Pokemon Blue       GB           1996.0  Role-Playing   \n",
       "5                     Tetris       GB           1989.0        Puzzle   \n",
       "6      New Super Mario Bros.       DS           2006.0      Platform   \n",
       "7                   Wii Play      Wii           2006.0          Misc   \n",
       "8  New Super Mario Bros. Wii      Wii           2009.0      Platform   \n",
       "9                  Duck Hunt      NES           1984.0       Shooter   \n",
       "\n",
       "   NA_sales  EU_sales  JP_sales  Other_sales  Critic_Score User_Score Rating  \n",
       "0     41.36     28.96      3.77         8.45          76.0          8      E  \n",
       "1     29.08      3.58      6.81         0.77           NaN        NaN    NaN  \n",
       "2     15.68     12.76      3.79         3.29          82.0        8.3      E  \n",
       "3     15.61     10.93      3.28         2.95          80.0          8      E  \n",
       "4     11.27      8.89     10.22         1.00           NaN        NaN    NaN  \n",
       "5     23.20      2.26      4.22         0.58           NaN        NaN    NaN  \n",
       "6     11.28      9.14      6.50         2.88          89.0        8.5      E  \n",
       "7     13.96      9.18      2.93         2.84          58.0        6.6      E  \n",
       "8     14.44      6.94      4.70         2.24          87.0        8.4      E  \n",
       "9     26.93      0.63      0.28         0.47           NaN        NaN    NaN  "
      ]
     },
     "metadata": {},
     "output_type": "display_data"
    }
   ],
   "source": [
    "#произведем обзор полученных данных, вызвав 10 верхних и нижних строк датафрейма\n",
    "display(initial_data.head(10))"
   ]
  },
  {
   "cell_type": "code",
   "execution_count": 42,
   "metadata": {},
   "outputs": [
    {
     "data": {
      "text/html": [
       "<div>\n",
       "<style scoped>\n",
       "    .dataframe tbody tr th:only-of-type {\n",
       "        vertical-align: middle;\n",
       "    }\n",
       "\n",
       "    .dataframe tbody tr th {\n",
       "        vertical-align: top;\n",
       "    }\n",
       "\n",
       "    .dataframe thead th {\n",
       "        text-align: right;\n",
       "    }\n",
       "</style>\n",
       "<table border=\"1\" class=\"dataframe\">\n",
       "  <thead>\n",
       "    <tr style=\"text-align: right;\">\n",
       "      <th></th>\n",
       "      <th>Name</th>\n",
       "      <th>Platform</th>\n",
       "      <th>Year_of_Release</th>\n",
       "      <th>Genre</th>\n",
       "      <th>NA_sales</th>\n",
       "      <th>EU_sales</th>\n",
       "      <th>JP_sales</th>\n",
       "      <th>Other_sales</th>\n",
       "      <th>Critic_Score</th>\n",
       "      <th>User_Score</th>\n",
       "      <th>Rating</th>\n",
       "    </tr>\n",
       "  </thead>\n",
       "  <tbody>\n",
       "    <tr>\n",
       "      <td>16705</td>\n",
       "      <td>15 Days</td>\n",
       "      <td>PC</td>\n",
       "      <td>2009.0</td>\n",
       "      <td>Adventure</td>\n",
       "      <td>0.00</td>\n",
       "      <td>0.01</td>\n",
       "      <td>0.00</td>\n",
       "      <td>0.0</td>\n",
       "      <td>63.0</td>\n",
       "      <td>5.8</td>\n",
       "      <td>NaN</td>\n",
       "    </tr>\n",
       "    <tr>\n",
       "      <td>16706</td>\n",
       "      <td>Men in Black II: Alien Escape</td>\n",
       "      <td>GC</td>\n",
       "      <td>2003.0</td>\n",
       "      <td>Shooter</td>\n",
       "      <td>0.01</td>\n",
       "      <td>0.00</td>\n",
       "      <td>0.00</td>\n",
       "      <td>0.0</td>\n",
       "      <td>NaN</td>\n",
       "      <td>tbd</td>\n",
       "      <td>T</td>\n",
       "    </tr>\n",
       "    <tr>\n",
       "      <td>16707</td>\n",
       "      <td>Aiyoku no Eustia</td>\n",
       "      <td>PSV</td>\n",
       "      <td>2014.0</td>\n",
       "      <td>Misc</td>\n",
       "      <td>0.00</td>\n",
       "      <td>0.00</td>\n",
       "      <td>0.01</td>\n",
       "      <td>0.0</td>\n",
       "      <td>NaN</td>\n",
       "      <td>NaN</td>\n",
       "      <td>NaN</td>\n",
       "    </tr>\n",
       "    <tr>\n",
       "      <td>16708</td>\n",
       "      <td>Woody Woodpecker in Crazy Castle 5</td>\n",
       "      <td>GBA</td>\n",
       "      <td>2002.0</td>\n",
       "      <td>Platform</td>\n",
       "      <td>0.01</td>\n",
       "      <td>0.00</td>\n",
       "      <td>0.00</td>\n",
       "      <td>0.0</td>\n",
       "      <td>NaN</td>\n",
       "      <td>NaN</td>\n",
       "      <td>NaN</td>\n",
       "    </tr>\n",
       "    <tr>\n",
       "      <td>16709</td>\n",
       "      <td>SCORE International Baja 1000: The Official Game</td>\n",
       "      <td>PS2</td>\n",
       "      <td>2008.0</td>\n",
       "      <td>Racing</td>\n",
       "      <td>0.00</td>\n",
       "      <td>0.00</td>\n",
       "      <td>0.00</td>\n",
       "      <td>0.0</td>\n",
       "      <td>NaN</td>\n",
       "      <td>NaN</td>\n",
       "      <td>NaN</td>\n",
       "    </tr>\n",
       "    <tr>\n",
       "      <td>16710</td>\n",
       "      <td>Samurai Warriors: Sanada Maru</td>\n",
       "      <td>PS3</td>\n",
       "      <td>2016.0</td>\n",
       "      <td>Action</td>\n",
       "      <td>0.00</td>\n",
       "      <td>0.00</td>\n",
       "      <td>0.01</td>\n",
       "      <td>0.0</td>\n",
       "      <td>NaN</td>\n",
       "      <td>NaN</td>\n",
       "      <td>NaN</td>\n",
       "    </tr>\n",
       "    <tr>\n",
       "      <td>16711</td>\n",
       "      <td>LMA Manager 2007</td>\n",
       "      <td>X360</td>\n",
       "      <td>2006.0</td>\n",
       "      <td>Sports</td>\n",
       "      <td>0.00</td>\n",
       "      <td>0.01</td>\n",
       "      <td>0.00</td>\n",
       "      <td>0.0</td>\n",
       "      <td>NaN</td>\n",
       "      <td>NaN</td>\n",
       "      <td>NaN</td>\n",
       "    </tr>\n",
       "    <tr>\n",
       "      <td>16712</td>\n",
       "      <td>Haitaka no Psychedelica</td>\n",
       "      <td>PSV</td>\n",
       "      <td>2016.0</td>\n",
       "      <td>Adventure</td>\n",
       "      <td>0.00</td>\n",
       "      <td>0.00</td>\n",
       "      <td>0.01</td>\n",
       "      <td>0.0</td>\n",
       "      <td>NaN</td>\n",
       "      <td>NaN</td>\n",
       "      <td>NaN</td>\n",
       "    </tr>\n",
       "    <tr>\n",
       "      <td>16713</td>\n",
       "      <td>Spirits &amp; Spells</td>\n",
       "      <td>GBA</td>\n",
       "      <td>2003.0</td>\n",
       "      <td>Platform</td>\n",
       "      <td>0.01</td>\n",
       "      <td>0.00</td>\n",
       "      <td>0.00</td>\n",
       "      <td>0.0</td>\n",
       "      <td>NaN</td>\n",
       "      <td>NaN</td>\n",
       "      <td>NaN</td>\n",
       "    </tr>\n",
       "    <tr>\n",
       "      <td>16714</td>\n",
       "      <td>Winning Post 8 2016</td>\n",
       "      <td>PSV</td>\n",
       "      <td>2016.0</td>\n",
       "      <td>Simulation</td>\n",
       "      <td>0.00</td>\n",
       "      <td>0.00</td>\n",
       "      <td>0.01</td>\n",
       "      <td>0.0</td>\n",
       "      <td>NaN</td>\n",
       "      <td>NaN</td>\n",
       "      <td>NaN</td>\n",
       "    </tr>\n",
       "  </tbody>\n",
       "</table>\n",
       "</div>"
      ],
      "text/plain": [
       "                                                   Name Platform  \\\n",
       "16705                                           15 Days       PC   \n",
       "16706                     Men in Black II: Alien Escape       GC   \n",
       "16707                                  Aiyoku no Eustia      PSV   \n",
       "16708                Woody Woodpecker in Crazy Castle 5      GBA   \n",
       "16709  SCORE International Baja 1000: The Official Game      PS2   \n",
       "16710                     Samurai Warriors: Sanada Maru      PS3   \n",
       "16711                                  LMA Manager 2007     X360   \n",
       "16712                           Haitaka no Psychedelica      PSV   \n",
       "16713                                  Spirits & Spells      GBA   \n",
       "16714                               Winning Post 8 2016      PSV   \n",
       "\n",
       "       Year_of_Release       Genre  NA_sales  EU_sales  JP_sales  Other_sales  \\\n",
       "16705           2009.0   Adventure      0.00      0.01      0.00          0.0   \n",
       "16706           2003.0     Shooter      0.01      0.00      0.00          0.0   \n",
       "16707           2014.0        Misc      0.00      0.00      0.01          0.0   \n",
       "16708           2002.0    Platform      0.01      0.00      0.00          0.0   \n",
       "16709           2008.0      Racing      0.00      0.00      0.00          0.0   \n",
       "16710           2016.0      Action      0.00      0.00      0.01          0.0   \n",
       "16711           2006.0      Sports      0.00      0.01      0.00          0.0   \n",
       "16712           2016.0   Adventure      0.00      0.00      0.01          0.0   \n",
       "16713           2003.0    Platform      0.01      0.00      0.00          0.0   \n",
       "16714           2016.0  Simulation      0.00      0.00      0.01          0.0   \n",
       "\n",
       "       Critic_Score User_Score Rating  \n",
       "16705          63.0        5.8    NaN  \n",
       "16706           NaN        tbd      T  \n",
       "16707           NaN        NaN    NaN  \n",
       "16708           NaN        NaN    NaN  \n",
       "16709           NaN        NaN    NaN  \n",
       "16710           NaN        NaN    NaN  \n",
       "16711           NaN        NaN    NaN  \n",
       "16712           NaN        NaN    NaN  \n",
       "16713           NaN        NaN    NaN  \n",
       "16714           NaN        NaN    NaN  "
      ]
     },
     "metadata": {},
     "output_type": "display_data"
    }
   ],
   "source": [
    "display(initial_data.tail(10))"
   ]
  },
  {
   "cell_type": "code",
   "execution_count": 43,
   "metadata": {},
   "outputs": [
    {
     "data": {
      "text/html": [
       "<div>\n",
       "<style scoped>\n",
       "    .dataframe tbody tr th:only-of-type {\n",
       "        vertical-align: middle;\n",
       "    }\n",
       "\n",
       "    .dataframe tbody tr th {\n",
       "        vertical-align: top;\n",
       "    }\n",
       "\n",
       "    .dataframe thead th {\n",
       "        text-align: right;\n",
       "    }\n",
       "</style>\n",
       "<table border=\"1\" class=\"dataframe\">\n",
       "  <thead>\n",
       "    <tr style=\"text-align: right;\">\n",
       "      <th></th>\n",
       "      <th>Year_of_Release</th>\n",
       "      <th>NA_sales</th>\n",
       "      <th>EU_sales</th>\n",
       "      <th>JP_sales</th>\n",
       "      <th>Other_sales</th>\n",
       "      <th>Critic_Score</th>\n",
       "    </tr>\n",
       "  </thead>\n",
       "  <tbody>\n",
       "    <tr>\n",
       "      <td>count</td>\n",
       "      <td>16446.000000</td>\n",
       "      <td>16715.000000</td>\n",
       "      <td>16715.000000</td>\n",
       "      <td>16715.000000</td>\n",
       "      <td>16715.000000</td>\n",
       "      <td>8137.000000</td>\n",
       "    </tr>\n",
       "    <tr>\n",
       "      <td>mean</td>\n",
       "      <td>2006.484616</td>\n",
       "      <td>0.263377</td>\n",
       "      <td>0.145060</td>\n",
       "      <td>0.077617</td>\n",
       "      <td>0.047342</td>\n",
       "      <td>68.967679</td>\n",
       "    </tr>\n",
       "    <tr>\n",
       "      <td>std</td>\n",
       "      <td>5.877050</td>\n",
       "      <td>0.813604</td>\n",
       "      <td>0.503339</td>\n",
       "      <td>0.308853</td>\n",
       "      <td>0.186731</td>\n",
       "      <td>13.938165</td>\n",
       "    </tr>\n",
       "    <tr>\n",
       "      <td>min</td>\n",
       "      <td>1980.000000</td>\n",
       "      <td>0.000000</td>\n",
       "      <td>0.000000</td>\n",
       "      <td>0.000000</td>\n",
       "      <td>0.000000</td>\n",
       "      <td>13.000000</td>\n",
       "    </tr>\n",
       "    <tr>\n",
       "      <td>25%</td>\n",
       "      <td>2003.000000</td>\n",
       "      <td>0.000000</td>\n",
       "      <td>0.000000</td>\n",
       "      <td>0.000000</td>\n",
       "      <td>0.000000</td>\n",
       "      <td>60.000000</td>\n",
       "    </tr>\n",
       "    <tr>\n",
       "      <td>50%</td>\n",
       "      <td>2007.000000</td>\n",
       "      <td>0.080000</td>\n",
       "      <td>0.020000</td>\n",
       "      <td>0.000000</td>\n",
       "      <td>0.010000</td>\n",
       "      <td>71.000000</td>\n",
       "    </tr>\n",
       "    <tr>\n",
       "      <td>75%</td>\n",
       "      <td>2010.000000</td>\n",
       "      <td>0.240000</td>\n",
       "      <td>0.110000</td>\n",
       "      <td>0.040000</td>\n",
       "      <td>0.030000</td>\n",
       "      <td>79.000000</td>\n",
       "    </tr>\n",
       "    <tr>\n",
       "      <td>max</td>\n",
       "      <td>2016.000000</td>\n",
       "      <td>41.360000</td>\n",
       "      <td>28.960000</td>\n",
       "      <td>10.220000</td>\n",
       "      <td>10.570000</td>\n",
       "      <td>98.000000</td>\n",
       "    </tr>\n",
       "  </tbody>\n",
       "</table>\n",
       "</div>"
      ],
      "text/plain": [
       "       Year_of_Release      NA_sales      EU_sales      JP_sales  \\\n",
       "count     16446.000000  16715.000000  16715.000000  16715.000000   \n",
       "mean       2006.484616      0.263377      0.145060      0.077617   \n",
       "std           5.877050      0.813604      0.503339      0.308853   \n",
       "min        1980.000000      0.000000      0.000000      0.000000   \n",
       "25%        2003.000000      0.000000      0.000000      0.000000   \n",
       "50%        2007.000000      0.080000      0.020000      0.000000   \n",
       "75%        2010.000000      0.240000      0.110000      0.040000   \n",
       "max        2016.000000     41.360000     28.960000     10.220000   \n",
       "\n",
       "        Other_sales  Critic_Score  \n",
       "count  16715.000000   8137.000000  \n",
       "mean       0.047342     68.967679  \n",
       "std        0.186731     13.938165  \n",
       "min        0.000000     13.000000  \n",
       "25%        0.000000     60.000000  \n",
       "50%        0.010000     71.000000  \n",
       "75%        0.030000     79.000000  \n",
       "max       10.570000     98.000000  "
      ]
     },
     "execution_count": 43,
     "metadata": {},
     "output_type": "execute_result"
    }
   ],
   "source": [
    "#вызовем метод describe() для изучения основных статистических характеристик полученных данных\n",
    "initial_data.describe()"
   ]
  },
  {
   "cell_type": "code",
   "execution_count": 44,
   "metadata": {},
   "outputs": [
    {
     "name": "stdout",
     "output_type": "stream",
     "text": [
      "0\n"
     ]
    }
   ],
   "source": [
    "#проверим данные на наличие явных дубликатов\n",
    "print(initial_data.duplicated().sum())"
   ]
  },
  {
   "cell_type": "markdown",
   "metadata": {},
   "source": [
    "### Вывод"
   ]
  },
  {
   "cell_type": "markdown",
   "metadata": {},
   "source": [
    "Всего в датафрейме 11 столбцов и 16715 строк.\n",
    "Знакомство с данными позволило выявить следующие проблемы, требующие решения:\n",
    "- прыгающий регистр в названии столбцов;\n",
    "- некорректный тип данных в столбцах Year_of_Release и User_Score;\n",
    "- большое количество пропущенных значений, особенно в данных с возрастным рейтингом и оценками."
   ]
  },
  {
   "cell_type": "markdown",
   "metadata": {},
   "source": [
    "## Предобработка данных"
   ]
  },
  {
   "cell_type": "markdown",
   "metadata": {},
   "source": [
    "### Корректировка регистра и типов данных "
   ]
  },
  {
   "cell_type": "markdown",
   "metadata": {},
   "source": [
    "Переходим к этапу предобработки данных. Начнем с корректировки прыгающего регистра в названии столбцов и изменения типов данных."
   ]
  },
  {
   "cell_type": "code",
   "execution_count": 45,
   "metadata": {},
   "outputs": [
    {
     "name": "stdout",
     "output_type": "stream",
     "text": [
      "Index(['name', 'platform', 'year_of_release', 'genre', 'na_sales', 'eu_sales',\n",
      "       'jp_sales', 'other_sales', 'critic_score', 'user_score', 'rating'],\n",
      "      dtype='object')\n"
     ]
    }
   ],
   "source": [
    "#приведем все названия столбцов к нижнему регистру\n",
    "initial_data.columns = initial_data.columns.str.lower()\n",
    "print(initial_data.columns) #проверим результат"
   ]
  },
  {
   "cell_type": "markdown",
   "metadata": {},
   "source": [
    "Теперь изменим типы данных в столбцах с годом выпуска и оценкой пользователей. Т.к оценка чаще всего включает в себя значение после запятой, изменим тип данных на float. А вот года выпуска стоит привести к целочисленному формату, однако сейчас этому препятствует наличие пропусков. \n",
    "\n",
    "Проверим, какую долю они и пропуски в остальных столбцах занимают от всех данных."
   ]
  },
  {
   "cell_type": "code",
   "execution_count": 46,
   "metadata": {},
   "outputs": [
    {
     "name": "stdout",
     "output_type": "stream",
     "text": [
      "platform            0.000000\n",
      "na_sales            0.000000\n",
      "eu_sales            0.000000\n",
      "jp_sales            0.000000\n",
      "other_sales         0.000000\n",
      "name                0.011965\n",
      "genre               0.011965\n",
      "year_of_release     1.609333\n",
      "user_score         40.089740\n",
      "rating             40.478612\n",
      "critic_score       51.319174\n",
      "dtype: float64\n"
     ]
    }
   ],
   "source": [
    "print(initial_data.isna().sum().sort_values()/initial_data.shape[0]*100)"
   ]
  },
  {
   "cell_type": "markdown",
   "metadata": {},
   "source": [
    "Доля пропущенных значений в столбцах name, genre и year_of_release достаточно незначительна, поэтому можно удалить соответствующие строки без опасений, что это существенно повлияет на результаты исследования. А вот пропусков в столбцах critic_score, user_score и rating критически много. \n",
    "\n",
    "Теперь попробуем выяснить, с чем связано присвоение типа object данным о пользовательских оценках. Посмотрим, какие значения встречаются в столбце:"
   ]
  },
  {
   "cell_type": "code",
   "execution_count": 47,
   "metadata": {},
   "outputs": [
    {
     "name": "stdout",
     "output_type": "stream",
     "text": [
      "['8' nan '8.3' '8.5' '6.6' '8.4' '8.6' '7.7' '6.3' '7.4' '8.2' '9' '7.9'\n",
      " '8.1' '8.7' '7.1' '3.4' '5.3' '4.8' '3.2' '8.9' '6.4' '7.8' '7.5' '2.6'\n",
      " '7.2' '9.2' '7' '7.3' '4.3' '7.6' '5.7' '5' '9.1' '6.5' 'tbd' '8.8' '6.9'\n",
      " '9.4' '6.8' '6.1' '6.7' '5.4' '4' '4.9' '4.5' '9.3' '6.2' '4.2' '6' '3.7'\n",
      " '4.1' '5.8' '5.6' '5.5' '4.4' '4.6' '5.9' '3.9' '3.1' '2.9' '5.2' '3.3'\n",
      " '4.7' '5.1' '3.5' '2.5' '1.9' '3' '2.7' '2.2' '2' '9.5' '2.1' '3.6' '2.8'\n",
      " '1.8' '3.8' '0' '1.6' '9.6' '2.4' '1.7' '1.1' '0.3' '1.5' '0.7' '1.2'\n",
      " '2.3' '0.5' '1.3' '0.2' '0.6' '1.4' '0.9' '1' '9.7']\n"
     ]
    }
   ],
   "source": [
    "print(initial_data ['user_score'].unique())"
   ]
  },
  {
   "cell_type": "markdown",
   "metadata": {},
   "source": [
    "В столбце, помимо числовых, присутствует значение «tbd», которое и повлияло на тип данных во всем столбце. Согласно информации из открытых источников, данная аббревиатура обозначает количество обзоров на игру, недостаточное для выставления оценки. Заменим данное значение на nan, т.к. замена на среднее или медианное значение некорректна из-за значения аббревиатуры, и вернемся к этому на следующем этапе.\n",
    "\n",
    "Приступаем к обработке и изменению типов данных:"
   ]
  },
  {
   "cell_type": "code",
   "execution_count": 48,
   "metadata": {},
   "outputs": [],
   "source": [
    "#меняем значения и тип данных в столбце пользовательских оценок\n",
    "initial_data ['user_score'] = initial_data ['user_score'].replace('tbd', np.nan).astype('float')\n",
    "#удаляем пропуски в столбцах с их малой долей\n",
    "initial_data = initial_data.dropna(subset =['name', 'genre', 'year_of_release']) \n",
    "#меняем тип данных в столбце с годами выпуска\n",
    "initial_data ['year_of_release'] = initial_data ['year_of_release'].astype('int')      "
   ]
  },
  {
   "cell_type": "markdown",
   "metadata": {},
   "source": [
    "### Обработка пропусков"
   ]
  },
  {
   "cell_type": "markdown",
   "metadata": {},
   "source": [
    "Продолжим обрабатывать пропуски в данных. Пропущенные значения остались в столбцах с оценками пользователей и критиков, а также с возрастным рейтингом. Если в случае с жанрами, названиями и годами выпусков я склонна объяснить наличие пропусков сбоем при выгрузке данных при составлении датасета (из-за крайне малого количества), то в случае оценок можно предположить, что игра не пользовалась особой популярностью, поэтому и не получила оценку. То есть обзоров на игры с пропущенными оценками было либо меньше, чем у оцененных «tbd», либо не было вовсе. Исходя из этого предположения, заменим пропуски в столбцах с оценками на нули."
   ]
  },
  {
   "cell_type": "code",
   "execution_count": 49,
   "metadata": {},
   "outputs": [],
   "source": [
    "initial_data['user_score'] = initial_data['user_score'].fillna(0)\n",
    "initial_data['critic_score'] = initial_data['critic_score'].fillna(0)"
   ]
  },
  {
   "cell_type": "markdown",
   "metadata": {},
   "source": [
    "Остались пропуски в столбце с возрастным рейтингом. Причины их могут быть опять же связаны с популярностью игр, а также, возможно, пропуски означают, что игре был присвоен иной рейтинг.\n",
    "\n",
    "Заменим пропущенные значения в столбце на значение \"unknown\":"
   ]
  },
  {
   "cell_type": "code",
   "execution_count": 50,
   "metadata": {},
   "outputs": [],
   "source": [
    "initial_data['rating'] = initial_data['rating'].fillna('unknown')"
   ]
  },
  {
   "cell_type": "markdown",
   "metadata": {},
   "source": [
    "Все пропуски обработаны, можем переходить к подсчету суммарных продаж игр во всех регионах."
   ]
  },
  {
   "cell_type": "markdown",
   "metadata": {},
   "source": [
    "### Подсчет суммарных продаж"
   ]
  },
  {
   "cell_type": "code",
   "execution_count": 51,
   "metadata": {},
   "outputs": [
    {
     "data": {
      "text/html": [
       "<div>\n",
       "<style scoped>\n",
       "    .dataframe tbody tr th:only-of-type {\n",
       "        vertical-align: middle;\n",
       "    }\n",
       "\n",
       "    .dataframe tbody tr th {\n",
       "        vertical-align: top;\n",
       "    }\n",
       "\n",
       "    .dataframe thead th {\n",
       "        text-align: right;\n",
       "    }\n",
       "</style>\n",
       "<table border=\"1\" class=\"dataframe\">\n",
       "  <thead>\n",
       "    <tr style=\"text-align: right;\">\n",
       "      <th></th>\n",
       "      <th>name</th>\n",
       "      <th>platform</th>\n",
       "      <th>year_of_release</th>\n",
       "      <th>genre</th>\n",
       "      <th>na_sales</th>\n",
       "      <th>eu_sales</th>\n",
       "      <th>jp_sales</th>\n",
       "      <th>other_sales</th>\n",
       "      <th>critic_score</th>\n",
       "      <th>user_score</th>\n",
       "      <th>rating</th>\n",
       "      <th>total_sales</th>\n",
       "    </tr>\n",
       "  </thead>\n",
       "  <tbody>\n",
       "    <tr>\n",
       "      <td>0</td>\n",
       "      <td>Wii Sports</td>\n",
       "      <td>Wii</td>\n",
       "      <td>2006</td>\n",
       "      <td>Sports</td>\n",
       "      <td>41.36</td>\n",
       "      <td>28.96</td>\n",
       "      <td>3.77</td>\n",
       "      <td>8.45</td>\n",
       "      <td>76.0</td>\n",
       "      <td>8.0</td>\n",
       "      <td>E</td>\n",
       "      <td>82.54</td>\n",
       "    </tr>\n",
       "    <tr>\n",
       "      <td>1</td>\n",
       "      <td>Super Mario Bros.</td>\n",
       "      <td>NES</td>\n",
       "      <td>1985</td>\n",
       "      <td>Platform</td>\n",
       "      <td>29.08</td>\n",
       "      <td>3.58</td>\n",
       "      <td>6.81</td>\n",
       "      <td>0.77</td>\n",
       "      <td>0.0</td>\n",
       "      <td>0.0</td>\n",
       "      <td>unknown</td>\n",
       "      <td>40.24</td>\n",
       "    </tr>\n",
       "    <tr>\n",
       "      <td>2</td>\n",
       "      <td>Mario Kart Wii</td>\n",
       "      <td>Wii</td>\n",
       "      <td>2008</td>\n",
       "      <td>Racing</td>\n",
       "      <td>15.68</td>\n",
       "      <td>12.76</td>\n",
       "      <td>3.79</td>\n",
       "      <td>3.29</td>\n",
       "      <td>82.0</td>\n",
       "      <td>8.3</td>\n",
       "      <td>E</td>\n",
       "      <td>35.52</td>\n",
       "    </tr>\n",
       "    <tr>\n",
       "      <td>3</td>\n",
       "      <td>Wii Sports Resort</td>\n",
       "      <td>Wii</td>\n",
       "      <td>2009</td>\n",
       "      <td>Sports</td>\n",
       "      <td>15.61</td>\n",
       "      <td>10.93</td>\n",
       "      <td>3.28</td>\n",
       "      <td>2.95</td>\n",
       "      <td>80.0</td>\n",
       "      <td>8.0</td>\n",
       "      <td>E</td>\n",
       "      <td>32.77</td>\n",
       "    </tr>\n",
       "    <tr>\n",
       "      <td>4</td>\n",
       "      <td>Pokemon Red/Pokemon Blue</td>\n",
       "      <td>GB</td>\n",
       "      <td>1996</td>\n",
       "      <td>Role-Playing</td>\n",
       "      <td>11.27</td>\n",
       "      <td>8.89</td>\n",
       "      <td>10.22</td>\n",
       "      <td>1.00</td>\n",
       "      <td>0.0</td>\n",
       "      <td>0.0</td>\n",
       "      <td>unknown</td>\n",
       "      <td>31.38</td>\n",
       "    </tr>\n",
       "  </tbody>\n",
       "</table>\n",
       "</div>"
      ],
      "text/plain": [
       "                       name platform  year_of_release         genre  na_sales  \\\n",
       "0                Wii Sports      Wii             2006        Sports     41.36   \n",
       "1         Super Mario Bros.      NES             1985      Platform     29.08   \n",
       "2            Mario Kart Wii      Wii             2008        Racing     15.68   \n",
       "3         Wii Sports Resort      Wii             2009        Sports     15.61   \n",
       "4  Pokemon Red/Pokemon Blue       GB             1996  Role-Playing     11.27   \n",
       "\n",
       "   eu_sales  jp_sales  other_sales  critic_score  user_score   rating  \\\n",
       "0     28.96      3.77         8.45          76.0         8.0        E   \n",
       "1      3.58      6.81         0.77           0.0         0.0  unknown   \n",
       "2     12.76      3.79         3.29          82.0         8.3        E   \n",
       "3     10.93      3.28         2.95          80.0         8.0        E   \n",
       "4      8.89     10.22         1.00           0.0         0.0  unknown   \n",
       "\n",
       "   total_sales  \n",
       "0        82.54  \n",
       "1        40.24  \n",
       "2        35.52  \n",
       "3        32.77  \n",
       "4        31.38  "
      ]
     },
     "metadata": {},
     "output_type": "display_data"
    }
   ],
   "source": [
    "#добавим в таблицу столбец с результатами суммирования продаж каждой игры в разных регионах\n",
    "initial_data['total_sales'] = initial_data['na_sales'] + initial_data['eu_sales'] + initial_data['jp_sales'] + initial_data['other_sales']\n",
    "display(initial_data.head()) #проверим результат"
   ]
  },
  {
   "cell_type": "markdown",
   "metadata": {},
   "source": [
    "### Вывод"
   ]
  },
  {
   "cell_type": "markdown",
   "metadata": {},
   "source": [
    "Этот этап исследования был посвящен предобработке исходных данных. Для улучшения их качества было сделано следующее:\n",
    "- скорректирован регистр в названии столбцов;\n",
    "- изменены типы некоторых данных;\n",
    "- обработаны пропуски в данных (путем удаления и подстановки значений);\n",
    "- подсчитаны суммарные продажи игр. \n",
    "\n",
    "На этом предобработку данных можно считать оконченной. Переходим к исследовательскому анализу данных."
   ]
  },
  {
   "cell_type": "markdown",
   "metadata": {},
   "source": [
    "## Исследовательский анализ данных"
   ]
  },
  {
   "cell_type": "markdown",
   "metadata": {},
   "source": [
    "### Исследование динамики выпуска игр по годам"
   ]
  },
  {
   "cell_type": "markdown",
   "metadata": {},
   "source": [
    "Начнем анализ с исследования динамики выпуска консольных игр по годам."
   ]
  },
  {
   "cell_type": "code",
   "execution_count": 52,
   "metadata": {},
   "outputs": [
    {
     "data": {
      "image/png": "[encoded data removed]",
      "text/plain": [
       "<Figure size 504x504 with 1 Axes>"
      ]
     },
     "metadata": {
      "needs_background": "light"
     },
     "output_type": "display_data"
    }
   ],
   "source": [
    "#сгруппируем данные по дате выпуска игр \n",
    "release_by_year = initial_data.groupby('year_of_release').agg({'year_of_release':'count'}).rename(\n",
    "                  columns= {'year_of_release':'release_by_year'})\n",
    "#построим график по сгруппированным данным\n",
    "release_by_year.plot(kind='barh', figsize=(7, 7), grid=True, title='Количество игр выпущенных в разные годы')\n",
    "plt.show()"
   ]
  },
  {
   "cell_type": "markdown",
   "metadata": {},
   "source": [
    "Как показывает диаграмма, пик выпуска игр пришелся на 2008-2009 гг, а вплоть до 1994 года их выпускали крайне мало по сравнению с объемами остального рассматриваемого периода. Поэтому можно в последующих шагах анализа сконцентрироваться на временном промежутке с 1994 по 2016 год."
   ]
  },
  {
   "cell_type": "markdown",
   "metadata": {},
   "source": [
    "### Исследование динамики продаж игр по платформам"
   ]
  },
  {
   "cell_type": "markdown",
   "metadata": {},
   "source": [
    "Нам нужно составить рейтинг платформ по суммарным продажам. С этой целью сгруппируем имеющиеся данные по платформам, подсчитаем сумму продаж, приходящихся на каждую платформу, отсортируем получившиеся данные по убыванию и выведем на экран 10 верхних строк."
   ]
  },
  {
   "cell_type": "code",
   "execution_count": 53,
   "metadata": {},
   "outputs": [
    {
     "data": {
      "text/html": [
       "<div>\n",
       "<style scoped>\n",
       "    .dataframe tbody tr th:only-of-type {\n",
       "        vertical-align: middle;\n",
       "    }\n",
       "\n",
       "    .dataframe tbody tr th {\n",
       "        vertical-align: top;\n",
       "    }\n",
       "\n",
       "    .dataframe thead th {\n",
       "        text-align: right;\n",
       "    }\n",
       "</style>\n",
       "<table border=\"1\" class=\"dataframe\">\n",
       "  <thead>\n",
       "    <tr style=\"text-align: right;\">\n",
       "      <th></th>\n",
       "      <th>platform</th>\n",
       "      <th>total_sales</th>\n",
       "    </tr>\n",
       "  </thead>\n",
       "  <tbody>\n",
       "    <tr>\n",
       "      <td>0</td>\n",
       "      <td>PS2</td>\n",
       "      <td>1233.56</td>\n",
       "    </tr>\n",
       "    <tr>\n",
       "      <td>1</td>\n",
       "      <td>X360</td>\n",
       "      <td>961.24</td>\n",
       "    </tr>\n",
       "    <tr>\n",
       "      <td>2</td>\n",
       "      <td>PS3</td>\n",
       "      <td>931.34</td>\n",
       "    </tr>\n",
       "    <tr>\n",
       "      <td>3</td>\n",
       "      <td>Wii</td>\n",
       "      <td>891.18</td>\n",
       "    </tr>\n",
       "    <tr>\n",
       "      <td>4</td>\n",
       "      <td>DS</td>\n",
       "      <td>802.78</td>\n",
       "    </tr>\n",
       "    <tr>\n",
       "      <td>5</td>\n",
       "      <td>PS</td>\n",
       "      <td>727.58</td>\n",
       "    </tr>\n",
       "    <tr>\n",
       "      <td>6</td>\n",
       "      <td>PS4</td>\n",
       "      <td>314.14</td>\n",
       "    </tr>\n",
       "    <tr>\n",
       "      <td>7</td>\n",
       "      <td>GBA</td>\n",
       "      <td>312.88</td>\n",
       "    </tr>\n",
       "    <tr>\n",
       "      <td>8</td>\n",
       "      <td>PSP</td>\n",
       "      <td>289.53</td>\n",
       "    </tr>\n",
       "    <tr>\n",
       "      <td>9</td>\n",
       "      <td>3DS</td>\n",
       "      <td>257.81</td>\n",
       "    </tr>\n",
       "  </tbody>\n",
       "</table>\n",
       "</div>"
      ],
      "text/plain": [
       "  platform  total_sales\n",
       "0      PS2      1233.56\n",
       "1     X360       961.24\n",
       "2      PS3       931.34\n",
       "3      Wii       891.18\n",
       "4       DS       802.78\n",
       "5       PS       727.58\n",
       "6      PS4       314.14\n",
       "7      GBA       312.88\n",
       "8      PSP       289.53\n",
       "9      3DS       257.81"
      ]
     },
     "metadata": {},
     "output_type": "display_data"
    }
   ],
   "source": [
    "top_selling_platforms = initial_data.groupby('platform').agg({'total_sales': 'sum'}).sort_values(\n",
    "    'total_sales', ascending=False).reset_index()\n",
    "display(top_selling_platforms.head(10))"
   ]
  },
  {
   "cell_type": "markdown",
   "metadata": {},
   "source": [
    "Вычленим из исходной таблицы данные, относящиеся к данным платформам. Для начала создадим вручную список с платформами из топ-10, а затем сделаем срез из таблицы с изначальными данными"
   ]
  },
  {
   "cell_type": "code",
   "execution_count": 54,
   "metadata": {},
   "outputs": [
    {
     "data": {
      "text/html": [
       "<div>\n",
       "<style scoped>\n",
       "    .dataframe tbody tr th:only-of-type {\n",
       "        vertical-align: middle;\n",
       "    }\n",
       "\n",
       "    .dataframe tbody tr th {\n",
       "        vertical-align: top;\n",
       "    }\n",
       "\n",
       "    .dataframe thead th {\n",
       "        text-align: right;\n",
       "    }\n",
       "</style>\n",
       "<table border=\"1\" class=\"dataframe\">\n",
       "  <thead>\n",
       "    <tr style=\"text-align: right;\">\n",
       "      <th></th>\n",
       "      <th>name</th>\n",
       "      <th>platform</th>\n",
       "      <th>year_of_release</th>\n",
       "      <th>genre</th>\n",
       "      <th>na_sales</th>\n",
       "      <th>eu_sales</th>\n",
       "      <th>jp_sales</th>\n",
       "      <th>other_sales</th>\n",
       "      <th>critic_score</th>\n",
       "      <th>user_score</th>\n",
       "      <th>rating</th>\n",
       "      <th>total_sales</th>\n",
       "    </tr>\n",
       "  </thead>\n",
       "  <tbody>\n",
       "    <tr>\n",
       "      <td>16695</td>\n",
       "      <td>Planet Monsters</td>\n",
       "      <td>GBA</td>\n",
       "      <td>2001</td>\n",
       "      <td>Action</td>\n",
       "      <td>0.01</td>\n",
       "      <td>0.00</td>\n",
       "      <td>0.00</td>\n",
       "      <td>0.0</td>\n",
       "      <td>67.0</td>\n",
       "      <td>0.0</td>\n",
       "      <td>E</td>\n",
       "      <td>0.01</td>\n",
       "    </tr>\n",
       "    <tr>\n",
       "      <td>16698</td>\n",
       "      <td>Mega Brain Boost</td>\n",
       "      <td>DS</td>\n",
       "      <td>2008</td>\n",
       "      <td>Puzzle</td>\n",
       "      <td>0.01</td>\n",
       "      <td>0.00</td>\n",
       "      <td>0.00</td>\n",
       "      <td>0.0</td>\n",
       "      <td>48.0</td>\n",
       "      <td>0.0</td>\n",
       "      <td>E</td>\n",
       "      <td>0.01</td>\n",
       "    </tr>\n",
       "    <tr>\n",
       "      <td>16700</td>\n",
       "      <td>Mezase!! Tsuri Master DS</td>\n",
       "      <td>DS</td>\n",
       "      <td>2009</td>\n",
       "      <td>Sports</td>\n",
       "      <td>0.00</td>\n",
       "      <td>0.00</td>\n",
       "      <td>0.01</td>\n",
       "      <td>0.0</td>\n",
       "      <td>0.0</td>\n",
       "      <td>0.0</td>\n",
       "      <td>unknown</td>\n",
       "      <td>0.01</td>\n",
       "    </tr>\n",
       "    <tr>\n",
       "      <td>16701</td>\n",
       "      <td>Eiyuu Densetsu: Sora no Kiseki Material Collec...</td>\n",
       "      <td>PSP</td>\n",
       "      <td>2007</td>\n",
       "      <td>Role-Playing</td>\n",
       "      <td>0.00</td>\n",
       "      <td>0.00</td>\n",
       "      <td>0.01</td>\n",
       "      <td>0.0</td>\n",
       "      <td>0.0</td>\n",
       "      <td>0.0</td>\n",
       "      <td>unknown</td>\n",
       "      <td>0.01</td>\n",
       "    </tr>\n",
       "    <tr>\n",
       "      <td>16704</td>\n",
       "      <td>Plushees</td>\n",
       "      <td>DS</td>\n",
       "      <td>2008</td>\n",
       "      <td>Simulation</td>\n",
       "      <td>0.01</td>\n",
       "      <td>0.00</td>\n",
       "      <td>0.00</td>\n",
       "      <td>0.0</td>\n",
       "      <td>0.0</td>\n",
       "      <td>0.0</td>\n",
       "      <td>E</td>\n",
       "      <td>0.01</td>\n",
       "    </tr>\n",
       "    <tr>\n",
       "      <td>16708</td>\n",
       "      <td>Woody Woodpecker in Crazy Castle 5</td>\n",
       "      <td>GBA</td>\n",
       "      <td>2002</td>\n",
       "      <td>Platform</td>\n",
       "      <td>0.01</td>\n",
       "      <td>0.00</td>\n",
       "      <td>0.00</td>\n",
       "      <td>0.0</td>\n",
       "      <td>0.0</td>\n",
       "      <td>0.0</td>\n",
       "      <td>unknown</td>\n",
       "      <td>0.01</td>\n",
       "    </tr>\n",
       "    <tr>\n",
       "      <td>16709</td>\n",
       "      <td>SCORE International Baja 1000: The Official Game</td>\n",
       "      <td>PS2</td>\n",
       "      <td>2008</td>\n",
       "      <td>Racing</td>\n",
       "      <td>0.00</td>\n",
       "      <td>0.00</td>\n",
       "      <td>0.00</td>\n",
       "      <td>0.0</td>\n",
       "      <td>0.0</td>\n",
       "      <td>0.0</td>\n",
       "      <td>unknown</td>\n",
       "      <td>0.00</td>\n",
       "    </tr>\n",
       "    <tr>\n",
       "      <td>16710</td>\n",
       "      <td>Samurai Warriors: Sanada Maru</td>\n",
       "      <td>PS3</td>\n",
       "      <td>2016</td>\n",
       "      <td>Action</td>\n",
       "      <td>0.00</td>\n",
       "      <td>0.00</td>\n",
       "      <td>0.01</td>\n",
       "      <td>0.0</td>\n",
       "      <td>0.0</td>\n",
       "      <td>0.0</td>\n",
       "      <td>unknown</td>\n",
       "      <td>0.01</td>\n",
       "    </tr>\n",
       "    <tr>\n",
       "      <td>16711</td>\n",
       "      <td>LMA Manager 2007</td>\n",
       "      <td>X360</td>\n",
       "      <td>2006</td>\n",
       "      <td>Sports</td>\n",
       "      <td>0.00</td>\n",
       "      <td>0.01</td>\n",
       "      <td>0.00</td>\n",
       "      <td>0.0</td>\n",
       "      <td>0.0</td>\n",
       "      <td>0.0</td>\n",
       "      <td>unknown</td>\n",
       "      <td>0.01</td>\n",
       "    </tr>\n",
       "    <tr>\n",
       "      <td>16713</td>\n",
       "      <td>Spirits &amp; Spells</td>\n",
       "      <td>GBA</td>\n",
       "      <td>2003</td>\n",
       "      <td>Platform</td>\n",
       "      <td>0.01</td>\n",
       "      <td>0.00</td>\n",
       "      <td>0.00</td>\n",
       "      <td>0.0</td>\n",
       "      <td>0.0</td>\n",
       "      <td>0.0</td>\n",
       "      <td>unknown</td>\n",
       "      <td>0.01</td>\n",
       "    </tr>\n",
       "  </tbody>\n",
       "</table>\n",
       "</div>"
      ],
      "text/plain": [
       "                                                    name platform  \\\n",
       "16695                                    Planet Monsters      GBA   \n",
       "16698                                   Mega Brain Boost       DS   \n",
       "16700                           Mezase!! Tsuri Master DS       DS   \n",
       "16701  Eiyuu Densetsu: Sora no Kiseki Material Collec...      PSP   \n",
       "16704                                           Plushees       DS   \n",
       "16708                 Woody Woodpecker in Crazy Castle 5      GBA   \n",
       "16709   SCORE International Baja 1000: The Official Game      PS2   \n",
       "16710                      Samurai Warriors: Sanada Maru      PS3   \n",
       "16711                                   LMA Manager 2007     X360   \n",
       "16713                                   Spirits & Spells      GBA   \n",
       "\n",
       "       year_of_release         genre  na_sales  eu_sales  jp_sales  \\\n",
       "16695             2001        Action      0.01      0.00      0.00   \n",
       "16698             2008        Puzzle      0.01      0.00      0.00   \n",
       "16700             2009        Sports      0.00      0.00      0.01   \n",
       "16701             2007  Role-Playing      0.00      0.00      0.01   \n",
       "16704             2008    Simulation      0.01      0.00      0.00   \n",
       "16708             2002      Platform      0.01      0.00      0.00   \n",
       "16709             2008        Racing      0.00      0.00      0.00   \n",
       "16710             2016        Action      0.00      0.00      0.01   \n",
       "16711             2006        Sports      0.00      0.01      0.00   \n",
       "16713             2003      Platform      0.01      0.00      0.00   \n",
       "\n",
       "       other_sales  critic_score  user_score   rating  total_sales  \n",
       "16695          0.0          67.0         0.0        E         0.01  \n",
       "16698          0.0          48.0         0.0        E         0.01  \n",
       "16700          0.0           0.0         0.0  unknown         0.01  \n",
       "16701          0.0           0.0         0.0  unknown         0.01  \n",
       "16704          0.0           0.0         0.0        E         0.01  \n",
       "16708          0.0           0.0         0.0  unknown         0.01  \n",
       "16709          0.0           0.0         0.0  unknown         0.00  \n",
       "16710          0.0           0.0         0.0  unknown         0.01  \n",
       "16711          0.0           0.0         0.0  unknown         0.01  \n",
       "16713          0.0           0.0         0.0  unknown         0.01  "
      ]
     },
     "metadata": {},
     "output_type": "display_data"
    }
   ],
   "source": [
    "top_selling_platforms = ['PS2', 'X360', 'PS3', 'Wii', 'DS', 'PS', 'PS4', 'GBA', 'PSP', '3DS'] #создаем список\n",
    "info_about_top_selling_platforms = initial_data.query('platform in @top_selling_platforms') #делаем срез данных\n",
    "display(info_about_top_selling_platforms.tail(10)) #проверяем корректность среза\n",
    "#возьмем строки с конца таблицы, т.к. они более наглядны"
   ]
  },
  {
   "cell_type": "markdown",
   "metadata": {},
   "source": [
    "Теперь данные из этого среза сгруппируем в сводную таблицу, подсчитав продажи в каждом году для каждой рассматриваемой платформы, и построим график, который не только позволит нам определить лучшие и худшие годы для платформ, но и их \"жизненный цикл\", т.е. длительность периода продаж игр для этих платформ."
   ]
  },
  {
   "cell_type": "code",
   "execution_count": 55,
   "metadata": {},
   "outputs": [
    {
     "data": {
      "text/plain": [
       "<matplotlib.axes._subplots.AxesSubplot at 0x7f18eb7b3250>"
      ]
     },
     "execution_count": 55,
     "metadata": {},
     "output_type": "execute_result"
    },
    {
     "data": {
      "image/png": "[encoded data removed]",
      "text/plain": [
       "<Figure size 1008x504 with 1 Axes>"
      ]
     },
     "metadata": {
      "needs_background": "light"
     },
     "output_type": "display_data"
    }
   ],
   "source": [
    "info_about_top_selling_platforms.pivot_table(\n",
    "    index='year_of_release', values='total_sales', columns='platform', aggfunc='sum').plot(\n",
    "    kind='area', alpha=0.5, grid=True, figsize=(14,7), \n",
    "    title='Динамика продаж популярных игр разных платформ по годам')"
   ]
  },
  {
   "cell_type": "markdown",
   "metadata": {},
   "source": [
    "Исходя из данных графика, можно сделать вывод, что жизненный цикл платформ составляет примерно 6-10 лет. У некоторых (отмечу, самых успешных в разрезе продаж) платформ - XBOX360 и Wii - наблюдается довольно плавный рост, пик около 1-2 лет и постепенное снижение количества продаж. У других - например, PS2, PS3 и PSP - выделяется несколько пиков за жизненный цикл. \n",
    "\n",
    "Также стоит отметить, что говорить о сменяемости платформ не совсем корректно. Новые платформы появляются в то же время, когда уже действующие переживают спад, а иногда и в момент их пика (например так случилось с PSP и PS2), и некоторое время они делят рынок, пока жизненный цикл одной из них не заканчивается. Но прямого перехода по типу \"одна платформа перестала быть актуальной, ей на смену пришла другая\" на графике не наблюдается."
   ]
  },
  {
   "cell_type": "markdown",
   "metadata": {},
   "source": [
    "### Анализ актуальных данных"
   ]
  },
  {
   "cell_type": "markdown",
   "metadata": {},
   "source": [
    "Исходя из изложенного в пунктах 4.1 и 4.2 и помня о том, что в наши задачи входит анализ данных, необходимых для составления прогноза на 2017 год, актуальными можно считать данные, датированные не ранее 2014 года. \n",
    "\n",
    "Сделаем новый срез данных по этому условию и построим график по актуальным данным."
   ]
  },
  {
   "cell_type": "code",
   "execution_count": 56,
   "metadata": {},
   "outputs": [
    {
     "data": {
      "text/plain": [
       "<matplotlib.axes._subplots.AxesSubplot at 0x7f18e0f0a510>"
      ]
     },
     "execution_count": 56,
     "metadata": {},
     "output_type": "execute_result"
    },
    {
     "data": {
      "image/png": "[encoded data removed]",
      "text/plain": [
       "<Figure size 1008x504 with 1 Axes>"
      ]
     },
     "metadata": {
      "needs_background": "light"
     },
     "output_type": "display_data"
    }
   ],
   "source": [
    "actual_data = initial_data.query('2014 <= year_of_release <= 2016') #делаем срез данных с 2014 по 2016 год\n",
    "actual_data.pivot_table(index='year_of_release', values='total_sales', columns='platform', aggfunc='sum').plot(\n",
    "kind='line', alpha=0.7, grid=True, figsize=(14,7), linewidth = 4, title='Динамика продаж игр разных платформ за актуальный период', \n",
    "color = ['#7FFFD4', '#AB274F','#44944A', '#9966CC', '#ff8a00', '#FFDC33', '#C19A6B', '#5D8AA8', '#FF2400',\n",
    "         '#FF47CA']) #строим график"
   ]
  },
  {
   "cell_type": "markdown",
   "metadata": {},
   "source": [
    "Согласно графику, продажи игр для большинства платформ снижаются. В 2015 году продажи прекратились для платформы РSР. Вплотную приблизились к 0 продажи Wii и Х360.\n",
    "\n",
    "Рост показали продажи игр для платформ ХОnе и PS4, ставшими лидерами рынка в 2015 году."
   ]
  },
  {
   "cell_type": "markdown",
   "metadata": {},
   "source": [
    "**Вывод** \\\n",
    "Потенциально прибыльными в 2017 году я считаю платформы ХОnе и PS4."
   ]
  },
  {
   "cell_type": "markdown",
   "metadata": {},
   "source": [
    "Теперь построим \"ящики с усами\" по актуальным данным в разбивке по платформам. Чтобы график не превратился в демонстрацию выбросов, сначала оценим данные, представленные в столбце total_sales, и уделим особенное внимание квартилям:"
   ]
  },
  {
   "cell_type": "code",
   "execution_count": 57,
   "metadata": {},
   "outputs": [
    {
     "name": "stdout",
     "output_type": "stream",
     "text": [
      "count    1689.000000\n",
      "mean        0.431883\n",
      "std         1.056109\n",
      "min         0.010000\n",
      "25%         0.030000\n",
      "50%         0.100000\n",
      "75%         0.350000\n",
      "max        14.630000\n",
      "Name: total_sales, dtype: float64\n"
     ]
    }
   ],
   "source": [
    "print(actual_data['total_sales'].describe())"
   ]
  },
  {
   "cell_type": "markdown",
   "metadata": {},
   "source": [
    "Построим график для продаж от 0 до 0,41 миллиона копий:"
   ]
  },
  {
   "cell_type": "code",
   "execution_count": 58,
   "metadata": {},
   "outputs": [
    {
     "data": {
      "image/png": "[encoded data removed]",
      "text/plain": [
       "<Figure size 432x288 with 1 Axes>"
      ]
     },
     "metadata": {
      "needs_background": "light"
     },
     "output_type": "display_data"
    }
   ],
   "source": [
    "sns.boxplot(x='platform', y='total_sales', data=actual_data.query('0 <= total_sales <= 0.41'))\n",
    "plt.title('Диаграмма размаха для совокупных продаж')\n",
    "plt.show()"
   ]
  },
  {
   "cell_type": "markdown",
   "metadata": {},
   "source": [
    "По платформам ХВ и DS график выглядит необычно, т.к. всем условиям подошли только по одной игре на каждой из этих платформ. В остальных же случаях четко выделяется одна общая деталь: смещение медианы. Метод describe(), примененный ранее, позволил нам также увидеть, что медиана значений стобца о совокупных продажах значительно меньше среднего, т.е данные скошены вправо. Если смотреть в разрезе платформ, то \"скошенность\" проявляется неравномерно, и ее степень варьируется от платформы к платформе."
   ]
  },
  {
   "cell_type": "markdown",
   "metadata": {},
   "source": [
    "### Влияние оценок на продажи на примере платформы XOne"
   ]
  },
  {
   "cell_type": "markdown",
   "metadata": {},
   "source": [
    "Изучим, как пользовательские и оценки критиков влияют на продажи игр. Для исследования возьмем данные по самой популярной на 2016 год платформе XOne и поместим их в отдельную таблицу. Т.к. мы будем сравнивать влияние обеих оценок, различие в шкалах может создать дополнительные трудности. Поэтому приведем оценки критиков к 10-балльной шкале."
   ]
  },
  {
   "cell_type": "code",
   "execution_count": 59,
   "metadata": {},
   "outputs": [],
   "source": [
    "data_xone = actual_data.query('platform==\"XOne\"') #выделяем нужные данные\n",
    "initial_data['critic_score'] = (initial_data['critic_score'] / 10) #приводим оценки критиков к 10-балльной шкале"
   ]
  },
  {
   "cell_type": "markdown",
   "metadata": {},
   "source": [
    "Теперь построим диаграмму размаха, чтобы избавиться от выбросов:"
   ]
  },
  {
   "cell_type": "code",
   "execution_count": 60,
   "metadata": {},
   "outputs": [
    {
     "data": {
      "image/png": "[encoded data removed]",
      "text/plain": [
       "<Figure size 432x288 with 1 Axes>"
      ]
     },
     "metadata": {
      "needs_background": "light"
     },
     "output_type": "display_data"
    }
   ],
   "source": [
    "data_xone.boxplot(column='total_sales')\n",
    "plt.ylim(-2, 3)\n",
    "plt.title('Диаграмма размаха для совокупных продаж игр на платформе \"XOne\"')\n",
    "plt.show()"
   ]
  },
  {
   "cell_type": "markdown",
   "metadata": {},
   "source": [
    "Согласно диаграмме, выбросы начинаются со значения в 1,6 млн копий. Значит диаграмму рассеяния нужно построить по играм, с продажами от 0 и до 1,6 млн, не включая правый конец. Начнем с исследования взаимосвязи продаж и пользовательских оценок."
   ]
  },
  {
   "cell_type": "code",
   "execution_count": 61,
   "metadata": {},
   "outputs": [
    {
     "data": {
      "image/png": "[encoded data removed]",
      "text/plain": [
       "<Figure size 432x288 with 1 Axes>"
      ]
     },
     "metadata": {
      "needs_background": "light"
     },
     "output_type": "display_data"
    }
   ],
   "source": [
    "data_xone.query('total_sales < 1,6' and 'user_score != 0').plot(x='user_score', y='total_sales', \n",
    "                kind='scatter', title='Зависимость продаж от пользовательских оценок')\n",
    "plt.grid()\n",
    "plt.show()"
   ]
  },
  {
   "cell_type": "markdown",
   "metadata": {},
   "source": [
    "Диаграмма показывает, что между продажами и пользовательскими оценками корреляция практически полностью отсутствует. Проверим это, вызвав метод .corr():"
   ]
  },
  {
   "cell_type": "code",
   "execution_count": 62,
   "metadata": {},
   "outputs": [
    {
     "data": {
      "text/html": [
       "<div>\n",
       "<style scoped>\n",
       "    .dataframe tbody tr th:only-of-type {\n",
       "        vertical-align: middle;\n",
       "    }\n",
       "\n",
       "    .dataframe tbody tr th {\n",
       "        vertical-align: top;\n",
       "    }\n",
       "\n",
       "    .dataframe thead th {\n",
       "        text-align: right;\n",
       "    }\n",
       "</style>\n",
       "<table border=\"1\" class=\"dataframe\">\n",
       "  <thead>\n",
       "    <tr style=\"text-align: right;\">\n",
       "      <th></th>\n",
       "      <th>user_score</th>\n",
       "      <th>total_sales</th>\n",
       "    </tr>\n",
       "  </thead>\n",
       "  <tbody>\n",
       "    <tr>\n",
       "      <td>user_score</td>\n",
       "      <td>1.000000</td>\n",
       "      <td>0.102074</td>\n",
       "    </tr>\n",
       "    <tr>\n",
       "      <td>total_sales</td>\n",
       "      <td>0.102074</td>\n",
       "      <td>1.000000</td>\n",
       "    </tr>\n",
       "  </tbody>\n",
       "</table>\n",
       "</div>"
      ],
      "text/plain": [
       "             user_score  total_sales\n",
       "user_score     1.000000     0.102074\n",
       "total_sales    0.102074     1.000000"
      ]
     },
     "metadata": {},
     "output_type": "display_data"
    }
   ],
   "source": [
    "display(data_xone[['user_score', 'total_sales']].corr())"
   ]
  },
  {
   "cell_type": "markdown",
   "metadata": {},
   "source": [
    "Действительно, согласно шкале Чеддока, между этими двумя параметрами существует лишь слабая корреляционная связь. Она положительная, так что можно сказать, что высокая оценка увеличивает продажи игры - что вполне логично, - но ее влияние крайне слабое. \n",
    "\n",
    "Посмотрим, отличается ли ситуация в случае с оценками критиков."
   ]
  },
  {
   "cell_type": "code",
   "execution_count": 63,
   "metadata": {},
   "outputs": [
    {
     "data": {
      "image/png": "[encoded data removed]",
      "text/plain": [
       "<Figure size 432x288 with 1 Axes>"
      ]
     },
     "metadata": {
      "needs_background": "light"
     },
     "output_type": "display_data"
    }
   ],
   "source": [
    "data_xone.query('total_sales < 1,6' and 'critic_score != 0').plot(x='critic_score', y='total_sales', \n",
    "                kind='scatter', title='Зависимость продаж от оценок критиков')\n",
    "plt.grid()\n",
    "plt.show()"
   ]
  },
  {
   "cell_type": "code",
   "execution_count": 64,
   "metadata": {},
   "outputs": [
    {
     "data": {
      "text/html": [
       "<div>\n",
       "<style scoped>\n",
       "    .dataframe tbody tr th:only-of-type {\n",
       "        vertical-align: middle;\n",
       "    }\n",
       "\n",
       "    .dataframe tbody tr th {\n",
       "        vertical-align: top;\n",
       "    }\n",
       "\n",
       "    .dataframe thead th {\n",
       "        text-align: right;\n",
       "    }\n",
       "</style>\n",
       "<table border=\"1\" class=\"dataframe\">\n",
       "  <thead>\n",
       "    <tr style=\"text-align: right;\">\n",
       "      <th></th>\n",
       "      <th>critic_score</th>\n",
       "      <th>total_sales</th>\n",
       "    </tr>\n",
       "  </thead>\n",
       "  <tbody>\n",
       "    <tr>\n",
       "      <td>critic_score</td>\n",
       "      <td>1.000000</td>\n",
       "      <td>0.272518</td>\n",
       "    </tr>\n",
       "    <tr>\n",
       "      <td>total_sales</td>\n",
       "      <td>0.272518</td>\n",
       "      <td>1.000000</td>\n",
       "    </tr>\n",
       "  </tbody>\n",
       "</table>\n",
       "</div>"
      ],
      "text/plain": [
       "              critic_score  total_sales\n",
       "critic_score      1.000000     0.272518\n",
       "total_sales       0.272518     1.000000"
      ]
     },
     "metadata": {},
     "output_type": "display_data"
    }
   ],
   "source": [
    "display(data_xone[['critic_score', 'total_sales']].corr())"
   ]
  },
  {
   "cell_type": "markdown",
   "metadata": {},
   "source": [
    "Диаграмма рассеяния демонстрирует более тесную связь между рассматриваемыми параметрами, и коэффициент корреляции это подтверждает - он вплотную приблизился к нижней границе умеренной связи по шкале Чеддока, превысив предыдущее значение на 0,16, что довольно существенно. И несмотря на то, что теснота связи между продажами игр на платформе ХОne и оценками слабая, можно сделать вывод, что оценки критиков влияют на продажи сильнее, чем пользовательские."
   ]
  },
  {
   "cell_type": "markdown",
   "metadata": {},
   "source": [
    "### Сравнение влияния оценок на продажи на платформе XOne и других платформах"
   ]
  },
  {
   "cell_type": "markdown",
   "metadata": {},
   "source": [
    "Теперь проверим, насколько тесно связаны продажи с оценками в разрезе остальных рассматриваемых в исследовании платформ, а затем сравним результаты с полученными на предыдущем этапе. Порядок действий нам уже знаком:"
   ]
  },
  {
   "cell_type": "code",
   "execution_count": 65,
   "metadata": {},
   "outputs": [
    {
     "data": {
      "image/png": "[encoded data removed]",
      "text/plain": [
       "<Figure size 432x288 with 1 Axes>"
      ]
     },
     "metadata": {
      "needs_background": "light"
     },
     "output_type": "display_data"
    }
   ],
   "source": [
    "data_other_platforms = actual_data.query('platform!=\"XOne\"') #выделяем нужные данные\n",
    "data_other_platforms.boxplot(column='total_sales') #определяем границы зон выбросов\n",
    "plt.ylim(-2, 2)\n",
    "plt.title('Диаграмма размаха для совокупных продаж игр на других платформах')\n",
    "plt.show()"
   ]
  },
  {
   "cell_type": "markdown",
   "metadata": {},
   "source": [
    "На этот раз зона выбросов начинается с отметки в 0,96 млн копий. С учетом этого результата построим диаграмму рассеяния и вычислим коэффициент корреляции для пользовательских оценок:"
   ]
  },
  {
   "cell_type": "code",
   "execution_count": 66,
   "metadata": {},
   "outputs": [
    {
     "data": {
      "image/png": "[encoded data removed]",
      "text/plain": [
       "<Figure size 432x288 with 1 Axes>"
      ]
     },
     "metadata": {
      "needs_background": "light"
     },
     "output_type": "display_data"
    }
   ],
   "source": [
    "data_other_platforms.query('total_sales < 0,96' and 'user_score != 0').plot(x='user_score', y='total_sales', \n",
    "                           kind='scatter', title='Зависимость продаж от пользовательских оценок')\n",
    "plt.grid()\n",
    "plt.show()"
   ]
  },
  {
   "cell_type": "code",
   "execution_count": 67,
   "metadata": {},
   "outputs": [
    {
     "data": {
      "text/html": [
       "<div>\n",
       "<style scoped>\n",
       "    .dataframe tbody tr th:only-of-type {\n",
       "        vertical-align: middle;\n",
       "    }\n",
       "\n",
       "    .dataframe tbody tr th {\n",
       "        vertical-align: top;\n",
       "    }\n",
       "\n",
       "    .dataframe thead th {\n",
       "        text-align: right;\n",
       "    }\n",
       "</style>\n",
       "<table border=\"1\" class=\"dataframe\">\n",
       "  <thead>\n",
       "    <tr style=\"text-align: right;\">\n",
       "      <th></th>\n",
       "      <th>user_score</th>\n",
       "      <th>total_sales</th>\n",
       "    </tr>\n",
       "  </thead>\n",
       "  <tbody>\n",
       "    <tr>\n",
       "      <td>user_score</td>\n",
       "      <td>1.000000</td>\n",
       "      <td>0.142655</td>\n",
       "    </tr>\n",
       "    <tr>\n",
       "      <td>total_sales</td>\n",
       "      <td>0.142655</td>\n",
       "      <td>1.000000</td>\n",
       "    </tr>\n",
       "  </tbody>\n",
       "</table>\n",
       "</div>"
      ],
      "text/plain": [
       "             user_score  total_sales\n",
       "user_score     1.000000     0.142655\n",
       "total_sales    0.142655     1.000000"
      ]
     },
     "metadata": {},
     "output_type": "display_data"
    }
   ],
   "source": [
    "display(data_other_platforms[['user_score', 'total_sales']].corr())"
   ]
  },
  {
   "cell_type": "markdown",
   "metadata": {},
   "source": [
    "Теснота связи совокупных продаж и пользовательских оценок в целом выше, чем на отдельно взятой платформе \"XOne\", но все еще считается слабой. Она так же положительная, следовательно, высокие оценки пользователей оказывают положительное влияние на объемы продаж той или иной игры. \n",
    "\n",
    "Далее рассмотрим ситуацию с оценками критиков:"
   ]
  },
  {
   "cell_type": "code",
   "execution_count": 68,
   "metadata": {},
   "outputs": [
    {
     "data": {
      "image/png": "[encoded data removed]",
      "text/plain": [
       "<Figure size 432x288 with 1 Axes>"
      ]
     },
     "metadata": {
      "needs_background": "light"
     },
     "output_type": "display_data"
    }
   ],
   "source": [
    "data_other_platforms.query('total_sales < 0,96' and 'critic_score != 0').plot(x='critic_score', y='total_sales', \n",
    "                           kind='scatter', title='Зависимость продаж от оценок критиков')\n",
    "plt.grid()\n",
    "plt.show()"
   ]
  },
  {
   "cell_type": "code",
   "execution_count": 69,
   "metadata": {},
   "outputs": [
    {
     "data": {
      "text/html": [
       "<div>\n",
       "<style scoped>\n",
       "    .dataframe tbody tr th:only-of-type {\n",
       "        vertical-align: middle;\n",
       "    }\n",
       "\n",
       "    .dataframe tbody tr th {\n",
       "        vertical-align: top;\n",
       "    }\n",
       "\n",
       "    .dataframe thead th {\n",
       "        text-align: right;\n",
       "    }\n",
       "</style>\n",
       "<table border=\"1\" class=\"dataframe\">\n",
       "  <thead>\n",
       "    <tr style=\"text-align: right;\">\n",
       "      <th></th>\n",
       "      <th>critic_score</th>\n",
       "      <th>total_sales</th>\n",
       "    </tr>\n",
       "  </thead>\n",
       "  <tbody>\n",
       "    <tr>\n",
       "      <td>critic_score</td>\n",
       "      <td>1.000000</td>\n",
       "      <td>0.181348</td>\n",
       "    </tr>\n",
       "    <tr>\n",
       "      <td>total_sales</td>\n",
       "      <td>0.181348</td>\n",
       "      <td>1.000000</td>\n",
       "    </tr>\n",
       "  </tbody>\n",
       "</table>\n",
       "</div>"
      ],
      "text/plain": [
       "              critic_score  total_sales\n",
       "critic_score      1.000000     0.181348\n",
       "total_sales       0.181348     1.000000"
      ]
     },
     "metadata": {},
     "output_type": "display_data"
    }
   ],
   "source": [
    "display(data_other_platforms[['critic_score', 'total_sales']].corr())"
   ]
  },
  {
   "cell_type": "markdown",
   "metadata": {},
   "source": [
    "В данном случае диаграмма рассеяния показывает более сильную положительную связь, и коэффициент корреляции это подтверждает - он выше на 0,04 пункта. Т.е. можно сделать вывод, что, как и в случае с платформой \"XOne\", оценки критиков теснее связаны с продажами игр и имеют большее влияние на их объемы. В то же время разница в коэффициентах корреляции в случае с отдельно взятой платформой заметно выше, чем при исследовании совокупности нескольких платформ. \n",
    "\n",
    "Также хочу отметить, что хоть в данном случае результаты исследования по платформе \"XOne\" и остальным платформам во многом совпали, это не означает, что так будет с каждой платформой. Результаты могут отличаться, если провести анализ для другой отдельно взятой платформы, и для игр, выпущенных на ее базе, значение пользовательских оценок окажется сильнее, чем оценок критиков. \n",
    "\n",
    "Далее рассмотрим распределение игр по жанрам"
   ]
  },
  {
   "cell_type": "markdown",
   "metadata": {},
   "source": [
    "###  Распределение игр по жанрам"
   ]
  },
  {
   "cell_type": "markdown",
   "metadata": {},
   "source": [
    "Посмотрим на графике, как распределялись совокупные продажи консольных игр по жанрам в актуальном периоде:"
   ]
  },
  {
   "cell_type": "code",
   "execution_count": 70,
   "metadata": {},
   "outputs": [
    {
     "data": {
      "text/plain": [
       "<matplotlib.axes._subplots.AxesSubplot at 0x7f18e0f8a310>"
      ]
     },
     "execution_count": 70,
     "metadata": {},
     "output_type": "execute_result"
    },
    {
     "data": {
      "image/png": "[encoded data removed]",
      "text/plain": [
       "<Figure size 504x504 with 1 Axes>"
      ]
     },
     "metadata": {
      "needs_background": "light"
     },
     "output_type": "display_data"
    }
   ],
   "source": [
    "actual_data.pivot_table(index='year_of_release', values='total_sales', columns='genre', aggfunc='median').plot(\n",
    "kind='barh', alpha=0.5, grid=True, figsize=(7,7), title='Продажи игр разных жанров за актуальный период',\n",
    "color = ['#7FFFD4', '#AB274F', '#FDD9B5', '#44944A', '#9966CC', '#ABCDEF', '#FFDC33', '#C19A6B', '#5D8AA8',\n",
    "         '#FF2400','#FF47CA','#158078'])"
   ]
  },
  {
   "cell_type": "markdown",
   "metadata": {},
   "source": [
    "Согласно графику, самыми прибыльными в актуальном периоде стали игры жанра Shooter. В 2014 году они занимали второе место по продажам, уступая жанру Platform, однако в дальнейшем заняли лидирующую позицию. Именно игры жанра Shooter, на мой взгляд, имеют наибольший потенциал и лучшие перспективы. "
   ]
  },
  {
   "cell_type": "markdown",
   "metadata": {},
   "source": [
    "### Вывод"
   ]
  },
  {
   "cell_type": "markdown",
   "metadata": {},
   "source": [
    "Исследовательский анализ данных позволил прийти к следующим выводам:\n",
    "- пик выпуска консольных игр пришелся на 2008-2009 гг;\n",
    "- жизненный цикл платформ составляет примерно 6-10 лет;\n",
    "- потенциально прибыльными платформами являются XOne и PS4;\n",
    "- оценки критиков влияют на продажи игр сильнее, чем пользовательские;\n",
    "- наиболее перспективным жанром консольных игр является жанр Shooter."
   ]
  },
  {
   "cell_type": "markdown",
   "metadata": {},
   "source": [
    "## Портрет пользователя в зависимости от региона"
   ]
  },
  {
   "cell_type": "markdown",
   "metadata": {},
   "source": [
    "###  Составление топ-5 популярных платформ"
   ]
  },
  {
   "cell_type": "markdown",
   "metadata": {},
   "source": [
    "Определим, какие платформы лидируют по проданным копиям в каждом регионе. Для этого построим диаграмму по имеющимся у нас данным за актуальный период:"
   ]
  },
  {
   "cell_type": "code",
   "execution_count": 71,
   "metadata": {},
   "outputs": [
    {
     "data": {
      "image/png": "[encoded data removed]",
      "text/plain": [
       "<Figure size 1008x504 with 1 Axes>"
      ]
     },
     "metadata": {
      "needs_background": "light"
     },
     "output_type": "display_data"
    }
   ],
   "source": [
    "actual_data.pivot_table(index='platform', values=['na_sales', 'eu_sales', 'jp_sales'], \n",
    "aggfunc='sum').plot(kind='bar', figsize=(14, 7), title='Продажи платформ по регионам')\n",
    "plt.grid()\n",
    "plt.show()"
   ]
  },
  {
   "cell_type": "markdown",
   "metadata": {},
   "source": [
    "Согласно построенной диаграмме, топ-5 наиболее популярных платформ выглядят следующим образом:\n",
    "- Европа:\n",
    " * PS4;\n",
    " * XOne;\n",
    " * PS3;\n",
    " * PC;\n",
    " * 3DS.\n",
    "- Япония:\n",
    " * 3DS;\n",
    " * PS4;\n",
    " * PSV;\n",
    " * PS3;\n",
    " * WiiU.\n",
    "- Северная Америка:\n",
    " * PS4;\n",
    " * XOne;\n",
    " * Х360;\n",
    " * 3DS;\n",
    " * PS3."
   ]
  },
  {
   "cell_type": "markdown",
   "metadata": {},
   "source": [
    "Также стоит отметить, что по большинству платформ объемы продаж на рынке Японии сильно уступают европейскому и американскому рынкам. Исключение составляют только платформы 3DS и PSV, продажи по которым на рынке Японии сильно превышают объемы продаж в Северной Америке и Европе. \n",
    "\n",
    "Интересно так же отметить, что продажи по лидеру европейского и американского рейтинга (PS4) гораздо выше в Европе, а по занявшей второе место XOne - в Америке.\n",
    "\n",
    "Если говорить о тех платформах, что вошли в топы во всех рассматриваемых регионах, то ими стали PS4 (1, 2, 1 места в Европе, Японии, Америке соответственно), PS3 (3, 4, 5) и 3DS (5, 1, 4). "
   ]
  },
  {
   "cell_type": "markdown",
   "metadata": {},
   "source": [
    "###  Составление топ-5 популярных жанров"
   ]
  },
  {
   "cell_type": "markdown",
   "metadata": {},
   "source": [
    "Далее составим аналогичные рейтинги по жанрам продаваемых игр:"
   ]
  },
  {
   "cell_type": "code",
   "execution_count": 72,
   "metadata": {},
   "outputs": [
    {
     "data": {
      "image/png": "[encoded data removed]",
      "text/plain": [
       "<Figure size 1008x504 with 1 Axes>"
      ]
     },
     "metadata": {
      "needs_background": "light"
     },
     "output_type": "display_data"
    }
   ],
   "source": [
    "actual_data.pivot_table(index='genre', values=['na_sales', 'eu_sales', 'jp_sales'], \n",
    "aggfunc='sum').plot(kind='bar', figsize=(14, 7), title='Продажи жанров по регионам')\n",
    "plt.grid()\n",
    "plt.show()"
   ]
  },
  {
   "cell_type": "markdown",
   "metadata": {},
   "source": [
    "Согласно построенной диаграмме, топ-5 наиболее популярных жанров выглядят следующим образом:\n",
    "- Европа:\n",
    " * Action;\n",
    " * Shooter;\n",
    " * Sports;\n",
    " * Role-playing;\n",
    " * Racing.\n",
    "- Япония:\n",
    " * Role-playing;\n",
    " * Action;\n",
    " * Fighting;\n",
    " * Misc;\n",
    " * Shooter.\n",
    "- Северная Америка:\n",
    " * Shooter;\n",
    " * Action;\n",
    " * Sports;\n",
    " * Role-playing;\n",
    " * Misc."
   ]
  },
  {
   "cell_type": "markdown",
   "metadata": {},
   "source": [
    "###  Влияние рейтинга ESRB на продажи в разных регионах"
   ]
  },
  {
   "cell_type": "markdown",
   "metadata": {},
   "source": [
    "Далее нужно исследовать, влияет ли возрастной рейтинг ESRB на продажи игр. \n",
    "\n",
    "На мой взгляд, основная сложность здесь заключается в том, что данный рейтинг используется лишь в США, тогда как в Японии за присвоение возрастного рейтинга играм отвечает CERO, а в большинстве европейских стран (да и то не всех) - PEGI. Не до конца понятно, как оценки этих рейтингов соответствуют друг другу. \n",
    "\n",
    "Однако в имеющихся у нас данных представлены именно оценки ESRB, поэтому будем работать с ними. Для начала познакомимся с рейтинговой шкалой:\n",
    "- «EC» («Early childhood») — «Для детей младшего возраста»: игра подходит для детей от 3 лет и не содержит материалов, которые родители могли бы счесть неподходящими;\n",
    "- «E» («Everyone») — «Для всех»: содержание вполне подходит для возрастной категории от 6 лет. Такие игры могут понравиться и взрослым;\n",
    "- «E10+» («Everyone 10 and older») — «Для всех от 10 лет и старше»: игра подходит для детей старше 10 лет и взрослых;\n",
    "- «T» («Teen») — «Подросткам»: игра подходит для лиц от 13 лет; \n",
    "- «M» («Mature») — «Для взрослых»: материалы игры не подходят для подростков младше 17 лет;\n",
    "- «AO» («Adults Only 18+») — «Только для взрослых»: содержание игры только для взрослых старше 18 лет;\n",
    "- «RP» («Rating Pending») — «Рейтинг ожидается»: продукт был отправлен в ESRB и ожидает присвоения рейтинга.\n",
    "\n",
    "Теперь перейдем к созданию графика:"
   ]
  },
  {
   "cell_type": "code",
   "execution_count": 73,
   "metadata": {},
   "outputs": [
    {
     "data": {
      "image/png": "[encoded data removed]",
      "text/plain": [
       "<Figure size 1008x504 with 1 Axes>"
      ]
     },
     "metadata": {
      "needs_background": "light"
     },
     "output_type": "display_data"
    }
   ],
   "source": [
    "actual_data.pivot_table(index='rating', values=['na_sales', 'eu_sales', 'jp_sales'], aggfunc='sum').plot(\n",
    "kind='bar', figsize=(14, 7), title='Продажи игр по регионам в зависимости от возрастного рейтинга')\n",
    "plt.grid()\n",
    "plt.show()"
   ]
  },
  {
   "cell_type": "markdown",
   "metadata": {},
   "source": [
    "Как показывает график, самые продаваемые в Северной Америке и Европе консольные игры имели возрастной рейтинг М и E. В Японии лучше всего продавались игры для подростков от 13 лет (Т) и для детей старше 6 лет (Е). \n",
    "\n",
    "Однако также график показывает большую долю игр, для которых не был указан рейтинг ESRB: в Японии таких игр большинство, в других регионах они занимают второе место. Вследствие этого можно сказать, что:\n",
    "- оценить влияние рейтинга ESRB на продажи в разных регионах можно лишь условно;\n",
    "- большая доля игр без рейтинга, на мой взгляд, связана с наличием в европейском и японском регионах собственных рейтинговых шкал;\n",
    "- для  более глубокого и разностороннего анализа следует учитывать возрастные рейтинги, присваиваемые и другими ассоциациями (в частности PEGI и CERO). "
   ]
  },
  {
   "cell_type": "markdown",
   "metadata": {},
   "source": [
    "###  Вывод:"
   ]
  },
  {
   "cell_type": "markdown",
   "metadata": {},
   "source": [
    "Согласно проведенному на этом этапе исследованию, портреты пользователей консольных игр выглядят следующим образом:\n",
    "- **Европа**: пользователь, выбирающий игры с рейтингом М или Е, предпочитающий такие жанры как \"Action\" и \"Shooter\" и отдающий предпочтение консолям на платформах PS4 и XboxOne;\n",
    "- **Северная Америка**: чаще всего пользователь платформ PS4 и XboxOne, выбирающий игры жанров \"Shooter\" и \"Action\" с рейтингом М или Е;\n",
    "- **Япония**: пользователь, предпочитающий карманные игровые консоли на платформе 3DS и игры в жанрах \"Role-playing\" и \"Action\" (данные о популярных рейтингах неизвестны). "
   ]
  },
  {
   "cell_type": "markdown",
   "metadata": {},
   "source": [
    "## Проверка гипотез"
   ]
  },
  {
   "cell_type": "markdown",
   "metadata": {},
   "source": [
    "### Подготовка данных и формулирование гипотез"
   ]
  },
  {
   "cell_type": "markdown",
   "metadata": {},
   "source": [
    "Переходим к этапу проверки гипотез. \n",
    "\n",
    "В данном исследовании статистические гипотезы связаны со средними пользовательскими рейтингами различных платформ и жанров, поэтому для начала нужно вычленить нужные данные из исходных. Помимо того, что данные должны относиться к определенным платформам и жанрам, нас не будут интересовать игры с пользовательскими оценками, равными 0. Итак, переходим к созданию срезов данных:"
   ]
  },
  {
   "cell_type": "code",
   "execution_count": 74,
   "metadata": {},
   "outputs": [
    {
     "data": {
      "text/html": [
       "<div>\n",
       "<style scoped>\n",
       "    .dataframe tbody tr th:only-of-type {\n",
       "        vertical-align: middle;\n",
       "    }\n",
       "\n",
       "    .dataframe tbody tr th {\n",
       "        vertical-align: top;\n",
       "    }\n",
       "\n",
       "    .dataframe thead th {\n",
       "        text-align: right;\n",
       "    }\n",
       "</style>\n",
       "<table border=\"1\" class=\"dataframe\">\n",
       "  <thead>\n",
       "    <tr style=\"text-align: right;\">\n",
       "      <th></th>\n",
       "      <th>name</th>\n",
       "      <th>platform</th>\n",
       "      <th>year_of_release</th>\n",
       "      <th>genre</th>\n",
       "      <th>na_sales</th>\n",
       "      <th>eu_sales</th>\n",
       "      <th>jp_sales</th>\n",
       "      <th>other_sales</th>\n",
       "      <th>critic_score</th>\n",
       "      <th>user_score</th>\n",
       "      <th>rating</th>\n",
       "      <th>total_sales</th>\n",
       "    </tr>\n",
       "  </thead>\n",
       "  <tbody>\n",
       "    <tr>\n",
       "      <td>165</td>\n",
       "      <td>Grand Theft Auto V</td>\n",
       "      <td>XOne</td>\n",
       "      <td>2014</td>\n",
       "      <td>Action</td>\n",
       "      <td>2.81</td>\n",
       "      <td>2.19</td>\n",
       "      <td>0.00</td>\n",
       "      <td>0.47</td>\n",
       "      <td>9.7</td>\n",
       "      <td>7.9</td>\n",
       "      <td>M</td>\n",
       "      <td>5.47</td>\n",
       "    </tr>\n",
       "    <tr>\n",
       "      <td>179</td>\n",
       "      <td>Call of Duty: Advanced Warfare</td>\n",
       "      <td>XOne</td>\n",
       "      <td>2014</td>\n",
       "      <td>Shooter</td>\n",
       "      <td>3.22</td>\n",
       "      <td>1.55</td>\n",
       "      <td>0.01</td>\n",
       "      <td>0.48</td>\n",
       "      <td>8.1</td>\n",
       "      <td>5.4</td>\n",
       "      <td>M</td>\n",
       "      <td>5.26</td>\n",
       "    </tr>\n",
       "    <tr>\n",
       "      <td>242</td>\n",
       "      <td>Halo 5: Guardians</td>\n",
       "      <td>XOne</td>\n",
       "      <td>2015</td>\n",
       "      <td>Shooter</td>\n",
       "      <td>2.78</td>\n",
       "      <td>1.27</td>\n",
       "      <td>0.03</td>\n",
       "      <td>0.41</td>\n",
       "      <td>8.4</td>\n",
       "      <td>6.4</td>\n",
       "      <td>T</td>\n",
       "      <td>4.49</td>\n",
       "    </tr>\n",
       "    <tr>\n",
       "      <td>270</td>\n",
       "      <td>Fallout 4</td>\n",
       "      <td>XOne</td>\n",
       "      <td>2015</td>\n",
       "      <td>Role-Playing</td>\n",
       "      <td>2.51</td>\n",
       "      <td>1.32</td>\n",
       "      <td>0.01</td>\n",
       "      <td>0.38</td>\n",
       "      <td>8.8</td>\n",
       "      <td>6.2</td>\n",
       "      <td>M</td>\n",
       "      <td>4.22</td>\n",
       "    </tr>\n",
       "    <tr>\n",
       "      <td>373</td>\n",
       "      <td>Assassin's Creed: Unity</td>\n",
       "      <td>XOne</td>\n",
       "      <td>2014</td>\n",
       "      <td>Action</td>\n",
       "      <td>2.27</td>\n",
       "      <td>0.90</td>\n",
       "      <td>0.00</td>\n",
       "      <td>0.33</td>\n",
       "      <td>7.2</td>\n",
       "      <td>4.1</td>\n",
       "      <td>M</td>\n",
       "      <td>3.50</td>\n",
       "    </tr>\n",
       "    <tr>\n",
       "      <td>398</td>\n",
       "      <td>Destiny</td>\n",
       "      <td>XOne</td>\n",
       "      <td>2014</td>\n",
       "      <td>Shooter</td>\n",
       "      <td>2.14</td>\n",
       "      <td>0.92</td>\n",
       "      <td>0.00</td>\n",
       "      <td>0.31</td>\n",
       "      <td>7.5</td>\n",
       "      <td>5.5</td>\n",
       "      <td>T</td>\n",
       "      <td>3.37</td>\n",
       "    </tr>\n",
       "    <tr>\n",
       "      <td>413</td>\n",
       "      <td>Gears of War: Ultimate Edition</td>\n",
       "      <td>XOne</td>\n",
       "      <td>2015</td>\n",
       "      <td>Shooter</td>\n",
       "      <td>2.61</td>\n",
       "      <td>0.33</td>\n",
       "      <td>0.00</td>\n",
       "      <td>0.34</td>\n",
       "      <td>8.2</td>\n",
       "      <td>7.5</td>\n",
       "      <td>M</td>\n",
       "      <td>3.28</td>\n",
       "    </tr>\n",
       "    <tr>\n",
       "      <td>417</td>\n",
       "      <td>FIFA 16</td>\n",
       "      <td>XOne</td>\n",
       "      <td>2015</td>\n",
       "      <td>Sports</td>\n",
       "      <td>0.89</td>\n",
       "      <td>2.12</td>\n",
       "      <td>0.00</td>\n",
       "      <td>0.24</td>\n",
       "      <td>8.4</td>\n",
       "      <td>4.4</td>\n",
       "      <td>E</td>\n",
       "      <td>3.25</td>\n",
       "    </tr>\n",
       "    <tr>\n",
       "      <td>422</td>\n",
       "      <td>Halo: The Master Chief Collection</td>\n",
       "      <td>XOne</td>\n",
       "      <td>2014</td>\n",
       "      <td>Shooter</td>\n",
       "      <td>1.91</td>\n",
       "      <td>1.00</td>\n",
       "      <td>0.03</td>\n",
       "      <td>0.29</td>\n",
       "      <td>8.5</td>\n",
       "      <td>7.2</td>\n",
       "      <td>M</td>\n",
       "      <td>3.23</td>\n",
       "    </tr>\n",
       "    <tr>\n",
       "      <td>484</td>\n",
       "      <td>Titanfall</td>\n",
       "      <td>XOne</td>\n",
       "      <td>2014</td>\n",
       "      <td>Shooter</td>\n",
       "      <td>1.84</td>\n",
       "      <td>0.80</td>\n",
       "      <td>0.04</td>\n",
       "      <td>0.27</td>\n",
       "      <td>8.6</td>\n",
       "      <td>6.4</td>\n",
       "      <td>M</td>\n",
       "      <td>2.95</td>\n",
       "    </tr>\n",
       "  </tbody>\n",
       "</table>\n",
       "</div>"
      ],
      "text/plain": [
       "                                  name platform  year_of_release  \\\n",
       "165                 Grand Theft Auto V     XOne             2014   \n",
       "179     Call of Duty: Advanced Warfare     XOne             2014   \n",
       "242                  Halo 5: Guardians     XOne             2015   \n",
       "270                          Fallout 4     XOne             2015   \n",
       "373            Assassin's Creed: Unity     XOne             2014   \n",
       "398                            Destiny     XOne             2014   \n",
       "413     Gears of War: Ultimate Edition     XOne             2015   \n",
       "417                            FIFA 16     XOne             2015   \n",
       "422  Halo: The Master Chief Collection     XOne             2014   \n",
       "484                          Titanfall     XOne             2014   \n",
       "\n",
       "            genre  na_sales  eu_sales  jp_sales  other_sales  critic_score  \\\n",
       "165        Action      2.81      2.19      0.00         0.47           9.7   \n",
       "179       Shooter      3.22      1.55      0.01         0.48           8.1   \n",
       "242       Shooter      2.78      1.27      0.03         0.41           8.4   \n",
       "270  Role-Playing      2.51      1.32      0.01         0.38           8.8   \n",
       "373        Action      2.27      0.90      0.00         0.33           7.2   \n",
       "398       Shooter      2.14      0.92      0.00         0.31           7.5   \n",
       "413       Shooter      2.61      0.33      0.00         0.34           8.2   \n",
       "417        Sports      0.89      2.12      0.00         0.24           8.4   \n",
       "422       Shooter      1.91      1.00      0.03         0.29           8.5   \n",
       "484       Shooter      1.84      0.80      0.04         0.27           8.6   \n",
       "\n",
       "     user_score rating  total_sales  \n",
       "165         7.9      M         5.47  \n",
       "179         5.4      M         5.26  \n",
       "242         6.4      T         4.49  \n",
       "270         6.2      M         4.22  \n",
       "373         4.1      M         3.50  \n",
       "398         5.5      T         3.37  \n",
       "413         7.5      M         3.28  \n",
       "417         4.4      E         3.25  \n",
       "422         7.2      M         3.23  \n",
       "484         6.4      M         2.95  "
      ]
     },
     "metadata": {},
     "output_type": "display_data"
    }
   ],
   "source": [
    "xone_score = initial_data.query('(platform == \"XOne\") and (user_score != 0)')\n",
    "pc_score = initial_data.query('(platform == \"PC\") and (user_score != 0)')\n",
    "action_score = initial_data.query('(genre == \"Action\") and (user_score != 0)')\n",
    "sports_score = initial_data.query('(genre == \"Sports\") and (user_score != 0)')\n",
    "\n",
    "#проверим результат\n",
    "display (xone_score.head(10))"
   ]
  },
  {
   "cell_type": "markdown",
   "metadata": {},
   "source": [
    "Данные подготовлены. Переходим к формулированию гипотез.\n",
    "\n",
    "Т.к. H₀ всегда формулируется так, чтобы использовать знак равенства, сформулируем нулевые гипотезы следующим образом:\n",
    "- средние пользовательские рейтинги платформ Xbox One и PC равны;\n",
    "- средние пользовательские рейтинги жанров \"Action\" и \"Sports\" равны.\n",
    "\n",
    "Первое основное утверждение говорит о равенстве рейтингов, а второе о разнице в них, не уточняя, отличаются ли они в большую или меньшую сторону. Поэтому проверять будем двусторонние гипотезы, и альтернативные статистические гипотезы будут звучать так:\n",
    "- средние пользовательские рейтинги платформ Xbox One и PC не равны;\n",
    "- средние пользовательские рейтинги жанров \"Action\" и \"Sports\" не равны.\n",
    "\n",
    "Уровень значимости возьмём равный 5%. Параметру equal_var передадим значение False, так как выборки различаются и это может сильно исказить результаты исследования.\n",
    "\n",
    "Переходим к проверкам сформулированных гипотез."
   ]
  },
  {
   "cell_type": "markdown",
   "metadata": {},
   "source": [
    "### Проверка гипотезы о равенстве пользовательских оценок платформ Xbox One и PC"
   ]
  },
  {
   "cell_type": "code",
   "execution_count": 75,
   "metadata": {},
   "outputs": [
    {
     "name": "stdout",
     "output_type": "stream",
     "text": [
      "p-значение: 4.5385802963771776e-06\n",
      "Отвергаем нулевую гипотезу\n"
     ]
    }
   ],
   "source": [
    "alpha = 0.05\n",
    "results = st.ttest_ind (xone_score['user_score'], pc_score['user_score'], equal_var=False)\n",
    "print('p-значение:', results.pvalue)\n",
    "\n",
    "if results.pvalue < alpha:\n",
    "    print(\"Отвергаем нулевую гипотезу\")\n",
    "else:\n",
    "    print(\"Не получилось отвергнуть нулевую гипотезу\")"
   ]
  },
  {
   "cell_type": "markdown",
   "metadata": {},
   "source": [
    "Р-значение оказалось меньше уровня значимости, поэтому мы отвергаем нулевую гипотезу о равенстве пользовательских оценок обеих платформ и принимаем альтернативную гипотезу о том, что средние пользовательские рейтинги платформ Xbox One и PC не равны."
   ]
  },
  {
   "cell_type": "markdown",
   "metadata": {},
   "source": [
    "### Проверка гипотезы о равенстве пользовательских оценок жанров \"Action\" и \"Sports\""
   ]
  },
  {
   "cell_type": "code",
   "execution_count": 76,
   "metadata": {},
   "outputs": [
    {
     "name": "stdout",
     "output_type": "stream",
     "text": [
      "p-значение: 0.07370217419278534\n",
      "Не получилось отвергнуть нулевую гипотезу\n"
     ]
    }
   ],
   "source": [
    "alpha = 0.05\n",
    "results = st.ttest_ind (action_score['user_score'], sports_score['user_score'], equal_var=False)\n",
    "print('p-значение:', results.pvalue)\n",
    "\n",
    "if results.pvalue < alpha:\n",
    "    print(\"Отвергаем нулевую гипотезу\")\n",
    "else:\n",
    "    print(\"Не получилось отвергнуть нулевую гипотезу\")"
   ]
  },
  {
   "cell_type": "markdown",
   "metadata": {},
   "source": [
    "В этом случае Р-значение превысило уровень значимости, поэтому мы не смогли отвергнуть нулевую гипотезу о равенстве средних пользовательских рейтингов жанров \"Action\" и \"Sports\"."
   ]
  },
  {
   "cell_type": "markdown",
   "metadata": {},
   "source": [
    "## Итоговые выводы"
   ]
  },
  {
   "cell_type": "markdown",
   "metadata": {},
   "source": [
    "Проведенное исследование позволило сделать следующие выводы:\n",
    "- жизненный цикл платформ обычно не превышает 10 лет;\n",
    "- наиболее актуальными платформами являются XOne и PS4;\n",
    "- в Японии стоит выделить платформу для карманных консолей - 3DS;\n",
    "- высокие оценки пользователей и критиков благотворно влияют на продажи игр, при этом влияние оценок критиков сильнее, чем пользовательских;\n",
    "- наиболее популярным жанрым является \"Action\", в Японии стоит отметить жанр \"Role-playing\"; \n",
    "- в Европе и Северной Америке чаще всего покупают игры с возрастными рейтингами \"Для всех\" или \"Для взрослых\"; \n",
    "- гипотеза о равенстве пользовательских оценок платформ Xbox One и PC была отвергнута;\n",
    "- гипотеза о равенстве пользовательских оценок жанров \"Action\" и \"Sports\" не была отвергнута.\n",
    "\n",
    "На основании результатов проведенного исследования затруднительно назвать конкретный продукт, который будет потенциально популярен у пользователей в прогнозируемом периоде. Можно сделать вывод, что с большой долей вероятности он будет разработан для консолей Xbox или PlayStation в жанре \"Shooter\" или \"Action\" и иметь один из возрастных рейтингов - \"Для всех\" или \"Для взрослых\". Также можно предположить, что даже при условии популярности такого продукта у критиков и пользователей, он не сможет охватить и получить лидерство во всех регионах, т.к. в Японии предпочитают карманные консоли и ставят экшн-игры лишь на второе место, а шутеры на пятое."
   ]
  }
 ],
 "metadata": {
  "ExecuteTimeLog": [
   {
    "duration": 3,
    "start_time": "2022-01-19T09:50:45.849Z"
   },
   {
    "duration": 3,
    "start_time": "2022-01-19T09:50:49.062Z"
   },
   {
    "duration": 1085,
    "start_time": "2022-01-19T09:51:14.063Z"
   },
   {
    "duration": 42,
    "start_time": "2022-01-19T09:51:38.384Z"
   },
   {
    "duration": 15,
    "start_time": "2022-01-19T09:51:57.807Z"
   },
   {
    "duration": 13,
    "start_time": "2022-01-19T09:52:15.743Z"
   },
   {
    "duration": 25,
    "start_time": "2022-01-19T09:52:54.024Z"
   },
   {
    "duration": 13,
    "start_time": "2022-01-19T09:53:00.744Z"
   },
   {
    "duration": 2,
    "start_time": "2022-01-19T09:56:46.984Z"
   },
   {
    "duration": 12,
    "start_time": "2022-01-19T09:57:19.304Z"
   },
   {
    "duration": 13,
    "start_time": "2022-01-19T09:57:57.089Z"
   },
   {
    "duration": 413,
    "start_time": "2022-01-19T09:59:02.001Z"
   },
   {
    "duration": 4,
    "start_time": "2022-01-19T09:59:08.535Z"
   },
   {
    "duration": 313,
    "start_time": "2022-01-19T09:59:34.354Z"
   },
   {
    "duration": 8593,
    "start_time": "2022-01-19T09:59:50.162Z"
   },
   {
    "duration": 1365,
    "start_time": "2022-01-19T10:00:25.922Z"
   },
   {
    "duration": 3,
    "start_time": "2022-01-19T10:00:41.539Z"
   },
   {
    "duration": 49,
    "start_time": "2022-01-19T10:00:41.544Z"
   },
   {
    "duration": 12,
    "start_time": "2022-01-19T10:00:41.595Z"
   },
   {
    "duration": 12,
    "start_time": "2022-01-19T10:00:41.609Z"
   },
   {
    "duration": 27,
    "start_time": "2022-01-19T10:00:41.622Z"
   },
   {
    "duration": 12,
    "start_time": "2022-01-19T10:00:41.651Z"
   },
   {
    "duration": 11,
    "start_time": "2022-01-19T10:00:41.665Z"
   },
   {
    "duration": 11,
    "start_time": "2022-01-19T10:00:41.678Z"
   },
   {
    "duration": 4,
    "start_time": "2022-01-19T10:00:41.691Z"
   },
   {
    "duration": 1441,
    "start_time": "2022-01-19T10:00:41.697Z"
   },
   {
    "duration": 11,
    "start_time": "2022-01-19T10:01:37.283Z"
   },
   {
    "duration": 4,
    "start_time": "2022-01-19T11:15:01.867Z"
   },
   {
    "duration": 331,
    "start_time": "2022-01-19T11:45:20.201Z"
   },
   {
    "duration": 324,
    "start_time": "2022-01-19T11:45:52.042Z"
   },
   {
    "duration": 333,
    "start_time": "2022-01-19T11:46:41.899Z"
   },
   {
    "duration": 6,
    "start_time": "2022-01-19T11:49:08.003Z"
   },
   {
    "duration": 322,
    "start_time": "2022-01-19T11:52:02.507Z"
   },
   {
    "duration": 4,
    "start_time": "2022-01-19T11:52:11.419Z"
   },
   {
    "duration": 306,
    "start_time": "2022-01-19T11:59:37.357Z"
   },
   {
    "duration": 14,
    "start_time": "2022-01-19T11:59:54.485Z"
   },
   {
    "duration": 2,
    "start_time": "2022-01-19T12:27:28.411Z"
   },
   {
    "duration": 361,
    "start_time": "2022-01-19T12:41:42.860Z"
   },
   {
    "duration": 3,
    "start_time": "2022-01-19T12:42:14.591Z"
   },
   {
    "duration": 43,
    "start_time": "2022-01-19T12:42:14.596Z"
   },
   {
    "duration": 12,
    "start_time": "2022-01-19T12:42:14.641Z"
   },
   {
    "duration": 15,
    "start_time": "2022-01-19T12:42:14.654Z"
   },
   {
    "duration": 27,
    "start_time": "2022-01-19T12:42:14.670Z"
   },
   {
    "duration": 32,
    "start_time": "2022-01-19T12:42:14.699Z"
   },
   {
    "duration": 11,
    "start_time": "2022-01-19T12:42:14.732Z"
   },
   {
    "duration": 10,
    "start_time": "2022-01-19T12:42:14.745Z"
   },
   {
    "duration": 5,
    "start_time": "2022-01-19T12:42:14.757Z"
   },
   {
    "duration": 13,
    "start_time": "2022-01-19T12:42:14.764Z"
   },
   {
    "duration": 4,
    "start_time": "2022-01-19T12:42:14.779Z"
   },
   {
    "duration": 6,
    "start_time": "2022-01-19T12:42:14.784Z"
   },
   {
    "duration": 47,
    "start_time": "2022-01-19T12:42:14.791Z"
   },
   {
    "duration": 336,
    "start_time": "2022-01-19T12:42:14.840Z"
   },
   {
    "duration": 470,
    "start_time": "2022-01-19T12:51:25.095Z"
   },
   {
    "duration": 104,
    "start_time": "2022-01-19T12:54:47.409Z"
   },
   {
    "duration": 114,
    "start_time": "2022-01-19T12:55:42.745Z"
   },
   {
    "duration": 523,
    "start_time": "2022-01-19T12:58:01.106Z"
   },
   {
    "duration": 197,
    "start_time": "2022-01-19T12:58:13.586Z"
   },
   {
    "duration": 214,
    "start_time": "2022-01-19T13:01:13.125Z"
   },
   {
    "duration": 325,
    "start_time": "2022-01-19T13:01:32.401Z"
   },
   {
    "duration": 333,
    "start_time": "2022-01-19T13:01:39.947Z"
   },
   {
    "duration": 121,
    "start_time": "2022-01-19T13:10:19.644Z"
   },
   {
    "duration": 180,
    "start_time": "2022-01-19T13:11:23.739Z"
   },
   {
    "duration": 126,
    "start_time": "2022-01-19T13:11:38.492Z"
   },
   {
    "duration": 124,
    "start_time": "2022-01-19T13:11:46.868Z"
   },
   {
    "duration": 3,
    "start_time": "2022-01-19T13:17:48.804Z"
   },
   {
    "duration": 13,
    "start_time": "2022-01-19T13:22:43.492Z"
   },
   {
    "duration": 8783,
    "start_time": "2022-01-19T13:23:24.607Z"
   },
   {
    "duration": 74,
    "start_time": "2022-01-19T13:23:54.814Z"
   },
   {
    "duration": 10,
    "start_time": "2022-01-19T13:24:01.830Z"
   },
   {
    "duration": 9,
    "start_time": "2022-01-19T13:24:53.007Z"
   },
   {
    "duration": 3,
    "start_time": "2022-01-19T13:40:47.991Z"
   },
   {
    "duration": 3,
    "start_time": "2022-01-19T13:41:00.177Z"
   },
   {
    "duration": 383,
    "start_time": "2022-01-19T13:47:54.729Z"
   },
   {
    "duration": 3,
    "start_time": "2022-01-19T13:48:14.394Z"
   },
   {
    "duration": 43,
    "start_time": "2022-01-19T13:48:14.399Z"
   },
   {
    "duration": 12,
    "start_time": "2022-01-19T13:48:14.444Z"
   },
   {
    "duration": 16,
    "start_time": "2022-01-19T13:48:14.457Z"
   },
   {
    "duration": 26,
    "start_time": "2022-01-19T13:48:14.475Z"
   },
   {
    "duration": 30,
    "start_time": "2022-01-19T13:48:14.503Z"
   },
   {
    "duration": 11,
    "start_time": "2022-01-19T13:48:14.534Z"
   },
   {
    "duration": 8,
    "start_time": "2022-01-19T13:48:14.548Z"
   },
   {
    "duration": 3,
    "start_time": "2022-01-19T13:48:14.558Z"
   },
   {
    "duration": 12,
    "start_time": "2022-01-19T13:48:14.563Z"
   },
   {
    "duration": 4,
    "start_time": "2022-01-19T13:48:14.577Z"
   },
   {
    "duration": 5,
    "start_time": "2022-01-19T13:48:14.582Z"
   },
   {
    "duration": 49,
    "start_time": "2022-01-19T13:48:14.588Z"
   },
   {
    "duration": 337,
    "start_time": "2022-01-19T13:48:14.639Z"
   },
   {
    "duration": 10,
    "start_time": "2022-01-19T13:48:14.977Z"
   },
   {
    "duration": 353,
    "start_time": "2022-01-19T13:48:14.988Z"
   },
   {
    "duration": 106,
    "start_time": "2022-01-19T13:49:53.708Z"
   },
   {
    "duration": 6431,
    "start_time": "2022-01-19T13:51:56.564Z"
   },
   {
    "duration": 319,
    "start_time": "2022-01-19T13:59:22.631Z"
   },
   {
    "duration": 9,
    "start_time": "2022-01-19T14:00:11.903Z"
   },
   {
    "duration": 17,
    "start_time": "2022-01-19T14:00:14.614Z"
   },
   {
    "duration": 6295,
    "start_time": "2022-01-19T14:05:20.840Z"
   },
   {
    "duration": 322,
    "start_time": "2022-01-19T14:07:22.472Z"
   },
   {
    "duration": 5,
    "start_time": "2022-01-19T14:08:08.703Z"
   },
   {
    "duration": 324,
    "start_time": "2022-01-19T14:08:28.985Z"
   },
   {
    "duration": 5,
    "start_time": "2022-01-19T14:09:04.602Z"
   },
   {
    "duration": 4,
    "start_time": "2022-01-19T14:09:14.194Z"
   },
   {
    "duration": 46,
    "start_time": "2022-01-19T14:09:14.200Z"
   },
   {
    "duration": 12,
    "start_time": "2022-01-19T14:09:14.248Z"
   },
   {
    "duration": 28,
    "start_time": "2022-01-19T14:09:14.262Z"
   },
   {
    "duration": 30,
    "start_time": "2022-01-19T14:09:14.292Z"
   },
   {
    "duration": 14,
    "start_time": "2022-01-19T14:09:14.327Z"
   },
   {
    "duration": 11,
    "start_time": "2022-01-19T14:09:14.342Z"
   },
   {
    "duration": 8,
    "start_time": "2022-01-19T14:09:14.355Z"
   },
   {
    "duration": 12,
    "start_time": "2022-01-19T14:09:14.365Z"
   },
   {
    "duration": 13,
    "start_time": "2022-01-19T14:09:14.378Z"
   },
   {
    "duration": 6,
    "start_time": "2022-01-19T14:09:14.393Z"
   },
   {
    "duration": 9,
    "start_time": "2022-01-19T14:09:14.400Z"
   },
   {
    "duration": 26,
    "start_time": "2022-01-19T14:09:14.411Z"
   },
   {
    "duration": 356,
    "start_time": "2022-01-19T14:09:14.439Z"
   },
   {
    "duration": 8,
    "start_time": "2022-01-19T14:09:14.797Z"
   },
   {
    "duration": 22,
    "start_time": "2022-01-19T14:09:14.806Z"
   },
   {
    "duration": 10,
    "start_time": "2022-01-19T14:09:42.369Z"
   },
   {
    "duration": 8,
    "start_time": "2022-01-19T14:09:53.657Z"
   },
   {
    "duration": 109,
    "start_time": "2022-01-19T14:11:10.120Z"
   },
   {
    "duration": 3,
    "start_time": "2022-01-19T14:13:22.819Z"
   },
   {
    "duration": 45,
    "start_time": "2022-01-19T14:13:22.823Z"
   },
   {
    "duration": 13,
    "start_time": "2022-01-19T14:13:22.870Z"
   },
   {
    "duration": 17,
    "start_time": "2022-01-19T14:13:22.884Z"
   },
   {
    "duration": 36,
    "start_time": "2022-01-19T14:13:22.903Z"
   },
   {
    "duration": 14,
    "start_time": "2022-01-19T14:13:22.941Z"
   },
   {
    "duration": 12,
    "start_time": "2022-01-19T14:13:22.956Z"
   },
   {
    "duration": 10,
    "start_time": "2022-01-19T14:13:22.969Z"
   },
   {
    "duration": 5,
    "start_time": "2022-01-19T14:13:22.982Z"
   },
   {
    "duration": 41,
    "start_time": "2022-01-19T14:13:22.989Z"
   },
   {
    "duration": 3,
    "start_time": "2022-01-19T14:13:23.032Z"
   },
   {
    "duration": 6,
    "start_time": "2022-01-19T14:13:23.037Z"
   },
   {
    "duration": 21,
    "start_time": "2022-01-19T14:13:23.045Z"
   },
   {
    "duration": 354,
    "start_time": "2022-01-19T14:13:23.068Z"
   },
   {
    "duration": 8,
    "start_time": "2022-01-19T14:13:23.427Z"
   },
   {
    "duration": 108,
    "start_time": "2022-01-19T14:13:23.437Z"
   },
   {
    "duration": 1498,
    "start_time": "2022-01-19T18:05:24.806Z"
   },
   {
    "duration": 55,
    "start_time": "2022-01-19T18:05:26.307Z"
   },
   {
    "duration": 24,
    "start_time": "2022-01-19T18:05:26.365Z"
   },
   {
    "duration": 42,
    "start_time": "2022-01-19T18:05:26.392Z"
   },
   {
    "duration": 41,
    "start_time": "2022-01-19T18:05:26.437Z"
   },
   {
    "duration": 21,
    "start_time": "2022-01-19T18:05:26.481Z"
   },
   {
    "duration": 44,
    "start_time": "2022-01-19T18:05:26.504Z"
   },
   {
    "duration": 15,
    "start_time": "2022-01-19T18:05:26.552Z"
   },
   {
    "duration": 12,
    "start_time": "2022-01-19T18:05:26.570Z"
   },
   {
    "duration": 49,
    "start_time": "2022-01-19T18:05:26.584Z"
   },
   {
    "duration": 5,
    "start_time": "2022-01-19T18:05:26.636Z"
   },
   {
    "duration": 16,
    "start_time": "2022-01-19T18:05:26.643Z"
   },
   {
    "duration": 36,
    "start_time": "2022-01-19T18:05:26.661Z"
   },
   {
    "duration": 623,
    "start_time": "2022-01-19T18:05:26.700Z"
   },
   {
    "duration": 19,
    "start_time": "2022-01-19T18:05:27.326Z"
   },
   {
    "duration": 393,
    "start_time": "2022-01-19T18:05:27.347Z"
   },
   {
    "duration": 96,
    "start_time": "2022-01-19T18:05:51.195Z"
   },
   {
    "duration": 6694,
    "start_time": "2022-01-19T18:05:58.856Z"
   },
   {
    "duration": 10,
    "start_time": "2022-01-19T18:08:14.279Z"
   },
   {
    "duration": 39,
    "start_time": "2022-01-19T18:08:28.917Z"
   },
   {
    "duration": 37,
    "start_time": "2022-01-19T18:11:49.074Z"
   },
   {
    "duration": 28,
    "start_time": "2022-01-19T18:12:36.146Z"
   },
   {
    "duration": 738,
    "start_time": "2022-01-19T18:30:05.341Z"
   },
   {
    "duration": 652,
    "start_time": "2022-01-19T20:14:39.819Z"
   },
   {
    "duration": 1134,
    "start_time": "2022-01-20T06:37:37.298Z"
   },
   {
    "duration": 47,
    "start_time": "2022-01-20T06:37:38.434Z"
   },
   {
    "duration": 17,
    "start_time": "2022-01-20T06:37:38.483Z"
   },
   {
    "duration": 14,
    "start_time": "2022-01-20T06:37:38.503Z"
   },
   {
    "duration": 55,
    "start_time": "2022-01-20T06:37:38.519Z"
   },
   {
    "duration": 15,
    "start_time": "2022-01-20T06:37:38.576Z"
   },
   {
    "duration": 12,
    "start_time": "2022-01-20T06:37:38.593Z"
   },
   {
    "duration": 14,
    "start_time": "2022-01-20T06:37:38.607Z"
   },
   {
    "duration": 5,
    "start_time": "2022-01-20T06:37:38.623Z"
   },
   {
    "duration": 39,
    "start_time": "2022-01-20T06:37:38.630Z"
   },
   {
    "duration": 4,
    "start_time": "2022-01-20T06:37:38.671Z"
   },
   {
    "duration": 9,
    "start_time": "2022-01-20T06:37:38.677Z"
   },
   {
    "duration": 17,
    "start_time": "2022-01-20T06:37:38.687Z"
   },
   {
    "duration": 388,
    "start_time": "2022-01-20T06:37:38.706Z"
   },
   {
    "duration": 11,
    "start_time": "2022-01-20T06:37:39.095Z"
   },
   {
    "duration": 19,
    "start_time": "2022-01-20T06:37:39.107Z"
   },
   {
    "duration": 409,
    "start_time": "2022-01-20T06:37:39.128Z"
   },
   {
    "duration": 400,
    "start_time": "2022-01-20T06:37:39.539Z"
   },
   {
    "duration": 358,
    "start_time": "2022-01-20T06:38:32.688Z"
   },
   {
    "duration": 372,
    "start_time": "2022-01-20T06:38:54.498Z"
   },
   {
    "duration": 398,
    "start_time": "2022-01-20T09:47:16.116Z"
   },
   {
    "duration": 4,
    "start_time": "2022-01-20T09:48:16.516Z"
   },
   {
    "duration": 383,
    "start_time": "2022-01-20T09:48:50.044Z"
   },
   {
    "duration": 28,
    "start_time": "2022-01-20T09:48:55.790Z"
   },
   {
    "duration": 24,
    "start_time": "2022-01-20T09:49:07.051Z"
   },
   {
    "duration": 23,
    "start_time": "2022-01-20T09:49:41.573Z"
   },
   {
    "duration": 262,
    "start_time": "2022-01-20T09:50:36.453Z"
   },
   {
    "duration": 6,
    "start_time": "2022-01-20T09:50:42.981Z"
   },
   {
    "duration": 10,
    "start_time": "2022-01-20T09:50:51.558Z"
   },
   {
    "duration": 22,
    "start_time": "2022-01-20T09:50:57.493Z"
   },
   {
    "duration": 10,
    "start_time": "2022-01-20T09:51:01.430Z"
   },
   {
    "duration": 10,
    "start_time": "2022-01-20T09:52:20.814Z"
   },
   {
    "duration": 374,
    "start_time": "2022-01-20T09:53:08.741Z"
   },
   {
    "duration": 130,
    "start_time": "2022-01-20T10:08:31.959Z"
   },
   {
    "duration": 260,
    "start_time": "2022-01-20T10:17:18.094Z"
   },
   {
    "duration": 455,
    "start_time": "2022-01-20T10:17:41.436Z"
   },
   {
    "duration": 470,
    "start_time": "2022-01-20T10:17:56.403Z"
   },
   {
    "duration": 5,
    "start_time": "2022-01-20T10:56:49.996Z"
   },
   {
    "duration": 826,
    "start_time": "2022-01-20T11:16:02.359Z"
   },
   {
    "duration": 351,
    "start_time": "2022-01-20T11:16:15.601Z"
   },
   {
    "duration": 8,
    "start_time": "2022-01-20T11:18:35.521Z"
   },
   {
    "duration": 350,
    "start_time": "2022-01-20T11:20:32.881Z"
   },
   {
    "duration": 86,
    "start_time": "2022-01-20T11:22:00.690Z"
   },
   {
    "duration": 292,
    "start_time": "2022-01-20T11:22:07.801Z"
   },
   {
    "duration": 343,
    "start_time": "2022-01-20T11:22:29.097Z"
   },
   {
    "duration": 136,
    "start_time": "2022-01-20T12:00:05.600Z"
   },
   {
    "duration": 10,
    "start_time": "2022-01-20T12:00:58.899Z"
   },
   {
    "duration": 14,
    "start_time": "2022-01-20T12:01:23.570Z"
   },
   {
    "duration": 6,
    "start_time": "2022-01-20T13:18:14.468Z"
   },
   {
    "duration": 159,
    "start_time": "2022-01-20T14:07:03.054Z"
   },
   {
    "duration": 149,
    "start_time": "2022-01-20T14:07:15.646Z"
   },
   {
    "duration": 225,
    "start_time": "2022-01-20T14:07:35.015Z"
   },
   {
    "duration": 144,
    "start_time": "2022-01-20T14:07:44.223Z"
   },
   {
    "duration": 155,
    "start_time": "2022-01-20T14:08:02.167Z"
   },
   {
    "duration": 1113,
    "start_time": "2022-01-21T17:42:33.733Z"
   },
   {
    "duration": 43,
    "start_time": "2022-01-21T17:42:34.848Z"
   },
   {
    "duration": 14,
    "start_time": "2022-01-21T17:42:34.893Z"
   },
   {
    "duration": 18,
    "start_time": "2022-01-21T17:42:34.909Z"
   },
   {
    "duration": 25,
    "start_time": "2022-01-21T17:42:34.928Z"
   },
   {
    "duration": 13,
    "start_time": "2022-01-21T17:42:34.954Z"
   },
   {
    "duration": 12,
    "start_time": "2022-01-21T17:42:34.969Z"
   },
   {
    "duration": 10,
    "start_time": "2022-01-21T17:42:34.984Z"
   },
   {
    "duration": 34,
    "start_time": "2022-01-21T17:42:34.996Z"
   },
   {
    "duration": 18,
    "start_time": "2022-01-21T17:42:35.032Z"
   },
   {
    "duration": 5,
    "start_time": "2022-01-21T17:42:35.052Z"
   },
   {
    "duration": 7,
    "start_time": "2022-01-21T17:42:35.059Z"
   },
   {
    "duration": 14,
    "start_time": "2022-01-21T17:42:35.068Z"
   },
   {
    "duration": 354,
    "start_time": "2022-01-21T17:42:35.083Z"
   },
   {
    "duration": 8,
    "start_time": "2022-01-21T17:42:35.439Z"
   },
   {
    "duration": 16,
    "start_time": "2022-01-21T17:42:35.449Z"
   },
   {
    "duration": 361,
    "start_time": "2022-01-21T17:42:35.467Z"
   },
   {
    "duration": 346,
    "start_time": "2022-01-21T17:42:35.830Z"
   },
   {
    "duration": 7,
    "start_time": "2022-01-21T17:42:36.178Z"
   },
   {
    "duration": 329,
    "start_time": "2022-01-21T17:42:36.186Z"
   },
   {
    "duration": 5,
    "start_time": "2022-01-21T17:42:36.517Z"
   },
   {
    "duration": 191,
    "start_time": "2022-01-21T17:42:36.523Z"
   },
   {
    "duration": 2360,
    "start_time": "2022-01-21T17:42:36.717Z"
   },
   {
    "duration": 3,
    "start_time": "2022-01-21T17:44:49.128Z"
   },
   {
    "duration": 46,
    "start_time": "2022-01-21T17:44:49.133Z"
   },
   {
    "duration": 12,
    "start_time": "2022-01-21T17:44:49.181Z"
   },
   {
    "duration": 24,
    "start_time": "2022-01-21T17:44:49.195Z"
   },
   {
    "duration": 32,
    "start_time": "2022-01-21T17:44:49.220Z"
   },
   {
    "duration": 13,
    "start_time": "2022-01-21T17:44:49.253Z"
   },
   {
    "duration": 11,
    "start_time": "2022-01-21T17:44:49.268Z"
   },
   {
    "duration": 11,
    "start_time": "2022-01-21T17:44:49.280Z"
   },
   {
    "duration": 4,
    "start_time": "2022-01-21T17:44:49.292Z"
   },
   {
    "duration": 39,
    "start_time": "2022-01-21T17:44:49.298Z"
   },
   {
    "duration": 3,
    "start_time": "2022-01-21T17:44:49.339Z"
   },
   {
    "duration": 6,
    "start_time": "2022-01-21T17:44:49.343Z"
   },
   {
    "duration": 14,
    "start_time": "2022-01-21T17:44:49.350Z"
   },
   {
    "duration": 349,
    "start_time": "2022-01-21T17:44:49.365Z"
   },
   {
    "duration": 13,
    "start_time": "2022-01-21T17:44:49.716Z"
   },
   {
    "duration": 16,
    "start_time": "2022-01-21T17:44:49.731Z"
   },
   {
    "duration": 362,
    "start_time": "2022-01-21T17:44:49.749Z"
   },
   {
    "duration": 347,
    "start_time": "2022-01-21T17:44:50.113Z"
   },
   {
    "duration": 6,
    "start_time": "2022-01-21T17:44:50.463Z"
   },
   {
    "duration": 360,
    "start_time": "2022-01-21T17:44:50.471Z"
   },
   {
    "duration": 5,
    "start_time": "2022-01-21T17:44:50.833Z"
   },
   {
    "duration": 156,
    "start_time": "2022-01-21T17:44:50.840Z"
   },
   {
    "duration": 2297,
    "start_time": "2022-01-21T17:44:50.998Z"
   },
   {
    "duration": 2285,
    "start_time": "2022-01-21T17:45:16.502Z"
   },
   {
    "duration": 327,
    "start_time": "2022-01-21T17:45:58.888Z"
   },
   {
    "duration": 17,
    "start_time": "2022-01-21T17:46:10.517Z"
   },
   {
    "duration": 2485,
    "start_time": "2022-01-21T17:46:54.195Z"
   },
   {
    "duration": 285,
    "start_time": "2022-01-21T17:48:39.828Z"
   },
   {
    "duration": 240,
    "start_time": "2022-01-21T17:49:59.671Z"
   },
   {
    "duration": 7,
    "start_time": "2022-01-21T18:13:30.939Z"
   },
   {
    "duration": 8,
    "start_time": "2022-01-21T18:13:43.541Z"
   },
   {
    "duration": 7,
    "start_time": "2022-01-21T18:21:10.405Z"
   },
   {
    "duration": 4,
    "start_time": "2022-01-21T18:33:26.005Z"
   },
   {
    "duration": 47,
    "start_time": "2022-01-21T18:33:26.011Z"
   },
   {
    "duration": 12,
    "start_time": "2022-01-21T18:33:26.061Z"
   },
   {
    "duration": 12,
    "start_time": "2022-01-21T18:33:26.075Z"
   },
   {
    "duration": 63,
    "start_time": "2022-01-21T18:33:26.089Z"
   },
   {
    "duration": 19,
    "start_time": "2022-01-21T18:33:26.154Z"
   },
   {
    "duration": 26,
    "start_time": "2022-01-21T18:33:26.174Z"
   },
   {
    "duration": 14,
    "start_time": "2022-01-21T18:33:26.201Z"
   },
   {
    "duration": 12,
    "start_time": "2022-01-21T18:33:26.217Z"
   },
   {
    "duration": 12,
    "start_time": "2022-01-21T18:33:26.231Z"
   },
   {
    "duration": 4,
    "start_time": "2022-01-21T18:33:26.245Z"
   },
   {
    "duration": 21,
    "start_time": "2022-01-21T18:33:26.251Z"
   },
   {
    "duration": 15,
    "start_time": "2022-01-21T18:33:26.273Z"
   },
   {
    "duration": 398,
    "start_time": "2022-01-21T18:33:26.289Z"
   },
   {
    "duration": 9,
    "start_time": "2022-01-21T18:33:26.689Z"
   },
   {
    "duration": 32,
    "start_time": "2022-01-21T18:33:26.699Z"
   },
   {
    "duration": 343,
    "start_time": "2022-01-21T18:33:26.732Z"
   },
   {
    "duration": 350,
    "start_time": "2022-01-21T18:33:27.077Z"
   },
   {
    "duration": 7,
    "start_time": "2022-01-21T18:33:27.428Z"
   },
   {
    "duration": 320,
    "start_time": "2022-01-21T18:33:27.437Z"
   },
   {
    "duration": 5,
    "start_time": "2022-01-21T18:33:27.759Z"
   },
   {
    "duration": 135,
    "start_time": "2022-01-21T18:33:27.766Z"
   },
   {
    "duration": 302,
    "start_time": "2022-01-21T18:33:27.903Z"
   },
   {
    "duration": 7,
    "start_time": "2022-01-21T18:33:28.207Z"
   },
   {
    "duration": 289,
    "start_time": "2022-01-21T18:33:28.227Z"
   },
   {
    "duration": 13,
    "start_time": "2022-01-21T18:33:28.518Z"
   },
   {
    "duration": 139,
    "start_time": "2022-01-21T18:33:28.534Z"
   },
   {
    "duration": 123,
    "start_time": "2022-01-21T18:34:23.021Z"
   },
   {
    "duration": 130,
    "start_time": "2022-01-21T18:34:33.627Z"
   },
   {
    "duration": 128,
    "start_time": "2022-01-21T18:35:12.772Z"
   },
   {
    "duration": 135,
    "start_time": "2022-01-21T18:35:30.975Z"
   },
   {
    "duration": 401,
    "start_time": "2022-01-21T19:43:07.928Z"
   },
   {
    "duration": 7,
    "start_time": "2022-01-21T19:43:34.557Z"
   },
   {
    "duration": 422,
    "start_time": "2022-01-22T07:15:51.861Z"
   },
   {
    "duration": 1444,
    "start_time": "2022-01-22T07:15:57.173Z"
   },
   {
    "duration": 56,
    "start_time": "2022-01-22T07:15:58.620Z"
   },
   {
    "duration": 24,
    "start_time": "2022-01-22T07:15:58.679Z"
   },
   {
    "duration": 20,
    "start_time": "2022-01-22T07:15:58.705Z"
   },
   {
    "duration": 67,
    "start_time": "2022-01-22T07:15:58.727Z"
   },
   {
    "duration": 21,
    "start_time": "2022-01-22T07:15:58.796Z"
   },
   {
    "duration": 40,
    "start_time": "2022-01-22T07:15:58.820Z"
   },
   {
    "duration": 13,
    "start_time": "2022-01-22T07:15:58.864Z"
   },
   {
    "duration": 6,
    "start_time": "2022-01-22T07:15:58.880Z"
   },
   {
    "duration": 25,
    "start_time": "2022-01-22T07:15:58.889Z"
   },
   {
    "duration": 7,
    "start_time": "2022-01-22T07:15:58.916Z"
   },
   {
    "duration": 6,
    "start_time": "2022-01-22T07:15:58.960Z"
   },
   {
    "duration": 24,
    "start_time": "2022-01-22T07:15:58.968Z"
   },
   {
    "duration": 630,
    "start_time": "2022-01-22T07:15:58.995Z"
   },
   {
    "duration": 14,
    "start_time": "2022-01-22T07:15:59.627Z"
   },
   {
    "duration": 41,
    "start_time": "2022-01-22T07:15:59.643Z"
   },
   {
    "duration": 631,
    "start_time": "2022-01-22T07:15:59.686Z"
   },
   {
    "duration": 734,
    "start_time": "2022-01-22T07:16:00.319Z"
   },
   {
    "duration": 10,
    "start_time": "2022-01-22T07:16:01.060Z"
   },
   {
    "duration": 628,
    "start_time": "2022-01-22T07:16:01.073Z"
   },
   {
    "duration": 9,
    "start_time": "2022-01-22T07:16:01.703Z"
   },
   {
    "duration": 306,
    "start_time": "2022-01-22T07:16:01.714Z"
   },
   {
    "duration": 461,
    "start_time": "2022-01-22T07:16:02.024Z"
   },
   {
    "duration": 11,
    "start_time": "2022-01-22T07:16:02.488Z"
   },
   {
    "duration": 461,
    "start_time": "2022-01-22T07:16:02.502Z"
   },
   {
    "duration": 12,
    "start_time": "2022-01-22T07:16:02.965Z"
   },
   {
    "duration": 256,
    "start_time": "2022-01-22T07:16:02.979Z"
   },
   {
    "duration": 449,
    "start_time": "2022-01-22T07:16:03.238Z"
   },
   {
    "duration": 12,
    "start_time": "2022-01-22T07:16:03.690Z"
   },
   {
    "duration": 472,
    "start_time": "2022-01-22T07:16:03.704Z"
   },
   {
    "duration": 13,
    "start_time": "2022-01-22T07:16:28.825Z"
   },
   {
    "duration": 591,
    "start_time": "2022-01-22T07:35:35.404Z"
   },
   {
    "duration": 575,
    "start_time": "2022-01-22T07:38:04.347Z"
   },
   {
    "duration": 518,
    "start_time": "2022-01-22T07:41:58.161Z"
   },
   {
    "duration": 597,
    "start_time": "2022-01-22T07:49:02.781Z"
   },
   {
    "duration": 595,
    "start_time": "2022-01-22T07:49:35.304Z"
   },
   {
    "duration": 690,
    "start_time": "2022-01-22T07:50:04.787Z"
   },
   {
    "duration": 626,
    "start_time": "2022-01-22T07:54:22.260Z"
   },
   {
    "duration": 605,
    "start_time": "2022-01-22T07:55:47.288Z"
   },
   {
    "duration": 600,
    "start_time": "2022-01-22T08:48:54.182Z"
   },
   {
    "duration": 4,
    "start_time": "2022-01-22T08:50:58.907Z"
   },
   {
    "duration": 70,
    "start_time": "2022-01-22T08:50:58.913Z"
   },
   {
    "duration": 21,
    "start_time": "2022-01-22T08:50:58.986Z"
   },
   {
    "duration": 49,
    "start_time": "2022-01-22T08:50:59.010Z"
   },
   {
    "duration": 42,
    "start_time": "2022-01-22T08:50:59.062Z"
   },
   {
    "duration": 22,
    "start_time": "2022-01-22T08:50:59.106Z"
   },
   {
    "duration": 23,
    "start_time": "2022-01-22T08:50:59.160Z"
   },
   {
    "duration": 13,
    "start_time": "2022-01-22T08:50:59.185Z"
   },
   {
    "duration": 6,
    "start_time": "2022-01-22T08:50:59.202Z"
   },
   {
    "duration": 56,
    "start_time": "2022-01-22T08:50:59.211Z"
   },
   {
    "duration": 6,
    "start_time": "2022-01-22T08:50:59.269Z"
   },
   {
    "duration": 9,
    "start_time": "2022-01-22T08:50:59.278Z"
   },
   {
    "duration": 27,
    "start_time": "2022-01-22T08:50:59.289Z"
   },
   {
    "duration": 633,
    "start_time": "2022-01-22T08:50:59.318Z"
   },
   {
    "duration": 14,
    "start_time": "2022-01-22T08:50:59.959Z"
   },
   {
    "duration": 29,
    "start_time": "2022-01-22T08:50:59.976Z"
   },
   {
    "duration": 650,
    "start_time": "2022-01-22T08:51:00.008Z"
   },
   {
    "duration": 626,
    "start_time": "2022-01-22T08:51:00.661Z"
   },
   {
    "duration": 10,
    "start_time": "2022-01-22T08:51:01.289Z"
   },
   {
    "duration": 596,
    "start_time": "2022-01-22T08:51:01.301Z"
   },
   {
    "duration": 8,
    "start_time": "2022-01-22T08:51:01.899Z"
   },
   {
    "duration": 245,
    "start_time": "2022-01-22T08:51:01.909Z"
   },
   {
    "duration": 507,
    "start_time": "2022-01-22T08:51:02.160Z"
   },
   {
    "duration": 12,
    "start_time": "2022-01-22T08:51:02.670Z"
   },
   {
    "duration": 398,
    "start_time": "2022-01-22T08:51:02.685Z"
   },
   {
    "duration": 13,
    "start_time": "2022-01-22T08:51:03.086Z"
   },
   {
    "duration": 267,
    "start_time": "2022-01-22T08:51:03.106Z"
   },
   {
    "duration": 423,
    "start_time": "2022-01-22T08:51:03.376Z"
   },
   {
    "duration": 11,
    "start_time": "2022-01-22T08:51:03.801Z"
   },
   {
    "duration": 476,
    "start_time": "2022-01-22T08:51:03.814Z"
   },
   {
    "duration": 11,
    "start_time": "2022-01-22T08:51:04.293Z"
   },
   {
    "duration": 602,
    "start_time": "2022-01-22T08:51:04.306Z"
   },
   {
    "duration": 868,
    "start_time": "2022-01-22T08:52:21.326Z"
   },
   {
    "duration": 603,
    "start_time": "2022-01-22T08:52:33.307Z"
   },
   {
    "duration": 4,
    "start_time": "2022-01-22T09:04:09.533Z"
   },
   {
    "duration": 61,
    "start_time": "2022-01-22T09:04:09.540Z"
   },
   {
    "duration": 22,
    "start_time": "2022-01-22T09:04:09.604Z"
   },
   {
    "duration": 44,
    "start_time": "2022-01-22T09:04:09.628Z"
   },
   {
    "duration": 43,
    "start_time": "2022-01-22T09:04:09.675Z"
   },
   {
    "duration": 50,
    "start_time": "2022-01-22T09:04:09.720Z"
   },
   {
    "duration": 19,
    "start_time": "2022-01-22T09:04:09.772Z"
   },
   {
    "duration": 12,
    "start_time": "2022-01-22T09:04:09.795Z"
   },
   {
    "duration": 6,
    "start_time": "2022-01-22T09:04:09.810Z"
   },
   {
    "duration": 56,
    "start_time": "2022-01-22T09:04:09.818Z"
   },
   {
    "duration": 5,
    "start_time": "2022-01-22T09:04:09.877Z"
   },
   {
    "duration": 10,
    "start_time": "2022-01-22T09:04:09.884Z"
   },
   {
    "duration": 23,
    "start_time": "2022-01-22T09:04:09.897Z"
   },
   {
    "duration": 627,
    "start_time": "2022-01-22T09:04:09.922Z"
   },
   {
    "duration": 16,
    "start_time": "2022-01-22T09:04:10.560Z"
   },
   {
    "duration": 29,
    "start_time": "2022-01-22T09:04:10.579Z"
   },
   {
    "duration": 652,
    "start_time": "2022-01-22T09:04:10.611Z"
   },
   {
    "duration": 34,
    "start_time": "2022-01-22T09:05:56.741Z"
   },
   {
    "duration": 35,
    "start_time": "2022-01-22T09:06:25.883Z"
   },
   {
    "duration": 20,
    "start_time": "2022-01-22T09:07:18.951Z"
   },
   {
    "duration": 39,
    "start_time": "2022-01-22T09:07:35.552Z"
   },
   {
    "duration": 21,
    "start_time": "2022-01-22T09:07:57.427Z"
   },
   {
    "duration": 30,
    "start_time": "2022-01-22T09:08:46.990Z"
   },
   {
    "duration": 19,
    "start_time": "2022-01-22T09:09:55.910Z"
   },
   {
    "duration": 36,
    "start_time": "2022-01-22T09:10:27.983Z"
   },
   {
    "duration": 31,
    "start_time": "2022-01-22T09:10:47.396Z"
   },
   {
    "duration": 20,
    "start_time": "2022-01-22T09:10:53.284Z"
   },
   {
    "duration": 32,
    "start_time": "2022-01-22T09:11:06.929Z"
   },
   {
    "duration": 26,
    "start_time": "2022-01-22T09:11:40.628Z"
   },
   {
    "duration": 20,
    "start_time": "2022-01-22T09:11:55.160Z"
   },
   {
    "duration": 19,
    "start_time": "2022-01-22T09:12:07.920Z"
   },
   {
    "duration": 19,
    "start_time": "2022-01-22T09:12:59.855Z"
   },
   {
    "duration": 28,
    "start_time": "2022-01-22T09:13:06.739Z"
   },
   {
    "duration": 708,
    "start_time": "2022-01-22T09:43:45.933Z"
   },
   {
    "duration": 4,
    "start_time": "2022-01-22T09:43:50.060Z"
   },
   {
    "duration": 60,
    "start_time": "2022-01-22T09:43:50.066Z"
   },
   {
    "duration": 39,
    "start_time": "2022-01-22T09:43:50.130Z"
   },
   {
    "duration": 22,
    "start_time": "2022-01-22T09:43:50.172Z"
   },
   {
    "duration": 65,
    "start_time": "2022-01-22T09:43:50.197Z"
   },
   {
    "duration": 21,
    "start_time": "2022-01-22T09:43:50.265Z"
   },
   {
    "duration": 19,
    "start_time": "2022-01-22T09:43:50.288Z"
   },
   {
    "duration": 12,
    "start_time": "2022-01-22T09:43:50.311Z"
   },
   {
    "duration": 6,
    "start_time": "2022-01-22T09:43:50.359Z"
   },
   {
    "duration": 20,
    "start_time": "2022-01-22T09:43:50.367Z"
   },
   {
    "duration": 5,
    "start_time": "2022-01-22T09:43:50.390Z"
   },
   {
    "duration": 6,
    "start_time": "2022-01-22T09:43:50.397Z"
   },
   {
    "duration": 61,
    "start_time": "2022-01-22T09:43:50.405Z"
   },
   {
    "duration": 756,
    "start_time": "2022-01-22T09:43:50.468Z"
   },
   {
    "duration": 16,
    "start_time": "2022-01-22T09:43:51.227Z"
   },
   {
    "duration": 40,
    "start_time": "2022-01-22T09:43:51.245Z"
   },
   {
    "duration": 612,
    "start_time": "2022-01-22T09:43:51.287Z"
   },
   {
    "duration": 625,
    "start_time": "2022-01-22T09:43:51.902Z"
   },
   {
    "duration": 43,
    "start_time": "2022-01-22T09:43:52.529Z"
   },
   {
    "duration": 9,
    "start_time": "2022-01-22T09:43:52.574Z"
   },
   {
    "duration": 599,
    "start_time": "2022-01-22T09:43:52.585Z"
   },
   {
    "duration": 637,
    "start_time": "2022-01-22T09:43:54.325Z"
   },
   {
    "duration": 219,
    "start_time": "2022-01-22T09:45:20.400Z"
   },
   {
    "duration": 209,
    "start_time": "2022-01-22T09:45:42.801Z"
   },
   {
    "duration": 4,
    "start_time": "2022-01-22T09:45:58.570Z"
   },
   {
    "duration": 60,
    "start_time": "2022-01-22T09:45:58.577Z"
   },
   {
    "duration": 33,
    "start_time": "2022-01-22T09:45:58.641Z"
   },
   {
    "duration": 21,
    "start_time": "2022-01-22T09:45:58.678Z"
   },
   {
    "duration": 80,
    "start_time": "2022-01-22T09:45:58.702Z"
   },
   {
    "duration": 22,
    "start_time": "2022-01-22T09:45:58.785Z"
   },
   {
    "duration": 19,
    "start_time": "2022-01-22T09:45:58.809Z"
   },
   {
    "duration": 13,
    "start_time": "2022-01-22T09:45:58.859Z"
   },
   {
    "duration": 7,
    "start_time": "2022-01-22T09:45:58.874Z"
   },
   {
    "duration": 23,
    "start_time": "2022-01-22T09:45:58.883Z"
   },
   {
    "duration": 7,
    "start_time": "2022-01-22T09:45:58.908Z"
   },
   {
    "duration": 44,
    "start_time": "2022-01-22T09:45:58.918Z"
   },
   {
    "duration": 24,
    "start_time": "2022-01-22T09:45:58.965Z"
   },
   {
    "duration": 646,
    "start_time": "2022-01-22T09:45:58.992Z"
   },
   {
    "duration": 22,
    "start_time": "2022-01-22T09:45:59.641Z"
   },
   {
    "duration": 30,
    "start_time": "2022-01-22T09:45:59.666Z"
   },
   {
    "duration": 684,
    "start_time": "2022-01-22T09:45:59.699Z"
   },
   {
    "duration": 732,
    "start_time": "2022-01-22T09:46:00.386Z"
   },
   {
    "duration": 49,
    "start_time": "2022-01-22T09:46:01.120Z"
   },
   {
    "duration": 10,
    "start_time": "2022-01-22T09:46:01.173Z"
   },
   {
    "duration": 210,
    "start_time": "2022-01-22T09:46:04.711Z"
   },
   {
    "duration": 5,
    "start_time": "2022-01-22T09:47:02.191Z"
   },
   {
    "duration": 61,
    "start_time": "2022-01-22T09:47:02.199Z"
   },
   {
    "duration": 21,
    "start_time": "2022-01-22T09:47:02.263Z"
   },
   {
    "duration": 22,
    "start_time": "2022-01-22T09:47:02.286Z"
   },
   {
    "duration": 77,
    "start_time": "2022-01-22T09:47:02.310Z"
   },
   {
    "duration": 22,
    "start_time": "2022-01-22T09:47:02.389Z"
   },
   {
    "duration": 19,
    "start_time": "2022-01-22T09:47:02.414Z"
   },
   {
    "duration": 30,
    "start_time": "2022-01-22T09:47:02.435Z"
   },
   {
    "duration": 5,
    "start_time": "2022-01-22T09:47:02.471Z"
   },
   {
    "duration": 19,
    "start_time": "2022-01-22T09:47:02.479Z"
   },
   {
    "duration": 5,
    "start_time": "2022-01-22T09:47:02.500Z"
   },
   {
    "duration": 54,
    "start_time": "2022-01-22T09:47:02.507Z"
   },
   {
    "duration": 23,
    "start_time": "2022-01-22T09:47:02.564Z"
   },
   {
    "duration": 644,
    "start_time": "2022-01-22T09:47:02.590Z"
   },
   {
    "duration": 24,
    "start_time": "2022-01-22T09:47:03.237Z"
   },
   {
    "duration": 42,
    "start_time": "2022-01-22T09:47:03.263Z"
   },
   {
    "duration": 691,
    "start_time": "2022-01-22T09:47:03.308Z"
   },
   {
    "duration": 672,
    "start_time": "2022-01-22T09:47:04.002Z"
   },
   {
    "duration": 32,
    "start_time": "2022-01-22T09:47:04.677Z"
   },
   {
    "duration": 11,
    "start_time": "2022-01-22T09:47:04.711Z"
   },
   {
    "duration": 427,
    "start_time": "2022-01-22T09:47:04.724Z"
   },
   {
    "duration": 8,
    "start_time": "2022-01-22T09:47:05.158Z"
   },
   {
    "duration": 241,
    "start_time": "2022-01-22T09:47:05.169Z"
   },
   {
    "duration": 467,
    "start_time": "2022-01-22T09:47:05.412Z"
   },
   {
    "duration": -336,
    "start_time": "2022-01-22T09:47:06.218Z"
   },
   {
    "duration": -344,
    "start_time": "2022-01-22T09:47:06.228Z"
   },
   {
    "duration": -403,
    "start_time": "2022-01-22T09:47:06.288Z"
   },
   {
    "duration": -463,
    "start_time": "2022-01-22T09:47:06.349Z"
   },
   {
    "duration": -497,
    "start_time": "2022-01-22T09:47:06.385Z"
   },
   {
    "duration": -500,
    "start_time": "2022-01-22T09:47:06.389Z"
   },
   {
    "duration": -507,
    "start_time": "2022-01-22T09:47:06.397Z"
   },
   {
    "duration": -519,
    "start_time": "2022-01-22T09:47:06.410Z"
   },
   {
    "duration": -528,
    "start_time": "2022-01-22T09:47:06.421Z"
   },
   {
    "duration": 219,
    "start_time": "2022-01-22T09:48:40.443Z"
   },
   {
    "duration": 223,
    "start_time": "2022-01-22T09:49:47.125Z"
   },
   {
    "duration": 5,
    "start_time": "2022-01-22T09:52:26.351Z"
   },
   {
    "duration": 61,
    "start_time": "2022-01-22T09:52:26.359Z"
   },
   {
    "duration": 19,
    "start_time": "2022-01-22T09:52:26.423Z"
   },
   {
    "duration": 20,
    "start_time": "2022-01-22T09:52:26.459Z"
   },
   {
    "duration": 55,
    "start_time": "2022-01-22T09:52:26.481Z"
   },
   {
    "duration": 35,
    "start_time": "2022-01-22T09:52:26.538Z"
   },
   {
    "duration": 20,
    "start_time": "2022-01-22T09:52:26.575Z"
   },
   {
    "duration": 12,
    "start_time": "2022-01-22T09:52:26.601Z"
   },
   {
    "duration": 6,
    "start_time": "2022-01-22T09:52:26.616Z"
   },
   {
    "duration": 21,
    "start_time": "2022-01-22T09:52:26.660Z"
   },
   {
    "duration": 5,
    "start_time": "2022-01-22T09:52:26.684Z"
   },
   {
    "duration": 8,
    "start_time": "2022-01-22T09:52:26.692Z"
   },
   {
    "duration": 61,
    "start_time": "2022-01-22T09:52:26.703Z"
   },
   {
    "duration": 856,
    "start_time": "2022-01-22T09:52:26.766Z"
   },
   {
    "duration": 15,
    "start_time": "2022-01-22T09:52:27.625Z"
   },
   {
    "duration": 43,
    "start_time": "2022-01-22T09:52:27.642Z"
   },
   {
    "duration": 600,
    "start_time": "2022-01-22T09:52:31.516Z"
   },
   {
    "duration": 13,
    "start_time": "2022-01-22T10:15:03.075Z"
   },
   {
    "duration": 32,
    "start_time": "2022-01-22T10:15:15.320Z"
   },
   {
    "duration": 10,
    "start_time": "2022-01-22T10:17:59.186Z"
   },
   {
    "duration": 231,
    "start_time": "2022-01-22T10:18:01.888Z"
   },
   {
    "duration": 5,
    "start_time": "2022-01-22T10:18:09.514Z"
   },
   {
    "duration": 67,
    "start_time": "2022-01-22T10:18:09.521Z"
   },
   {
    "duration": 21,
    "start_time": "2022-01-22T10:18:09.592Z"
   },
   {
    "duration": 45,
    "start_time": "2022-01-22T10:18:09.616Z"
   },
   {
    "duration": 45,
    "start_time": "2022-01-22T10:18:09.664Z"
   },
   {
    "duration": 21,
    "start_time": "2022-01-22T10:18:09.712Z"
   },
   {
    "duration": 20,
    "start_time": "2022-01-22T10:18:09.760Z"
   },
   {
    "duration": 13,
    "start_time": "2022-01-22T10:18:09.784Z"
   },
   {
    "duration": 6,
    "start_time": "2022-01-22T10:18:09.799Z"
   },
   {
    "duration": 57,
    "start_time": "2022-01-22T10:18:09.807Z"
   },
   {
    "duration": 6,
    "start_time": "2022-01-22T10:18:09.866Z"
   },
   {
    "duration": 6,
    "start_time": "2022-01-22T10:18:09.874Z"
   },
   {
    "duration": 23,
    "start_time": "2022-01-22T10:18:09.882Z"
   },
   {
    "duration": 641,
    "start_time": "2022-01-22T10:18:09.908Z"
   },
   {
    "duration": 21,
    "start_time": "2022-01-22T10:18:10.552Z"
   },
   {
    "duration": 29,
    "start_time": "2022-01-22T10:18:10.576Z"
   },
   {
    "duration": 651,
    "start_time": "2022-01-22T10:18:10.608Z"
   },
   {
    "duration": 4,
    "start_time": "2022-01-22T10:18:42.977Z"
   },
   {
    "duration": 58,
    "start_time": "2022-01-22T10:18:42.984Z"
   },
   {
    "duration": 32,
    "start_time": "2022-01-22T10:18:43.045Z"
   },
   {
    "duration": 20,
    "start_time": "2022-01-22T10:18:43.079Z"
   },
   {
    "duration": 71,
    "start_time": "2022-01-22T10:18:43.102Z"
   },
   {
    "duration": 29,
    "start_time": "2022-01-22T10:18:43.176Z"
   },
   {
    "duration": 22,
    "start_time": "2022-01-22T10:18:43.207Z"
   },
   {
    "duration": 40,
    "start_time": "2022-01-22T10:18:43.232Z"
   },
   {
    "duration": 6,
    "start_time": "2022-01-22T10:18:43.279Z"
   },
   {
    "duration": 25,
    "start_time": "2022-01-22T10:18:43.289Z"
   },
   {
    "duration": 43,
    "start_time": "2022-01-22T10:18:43.316Z"
   },
   {
    "duration": 17,
    "start_time": "2022-01-22T10:18:43.362Z"
   },
   {
    "duration": 29,
    "start_time": "2022-01-22T10:18:43.382Z"
   },
   {
    "duration": 619,
    "start_time": "2022-01-22T10:18:43.413Z"
   },
   {
    "duration": 25,
    "start_time": "2022-01-22T10:18:44.034Z"
   },
   {
    "duration": 27,
    "start_time": "2022-01-22T10:18:44.062Z"
   },
   {
    "duration": 641,
    "start_time": "2022-01-22T10:18:44.092Z"
   },
   {
    "duration": 641,
    "start_time": "2022-01-22T10:18:44.735Z"
   },
   {
    "duration": 9,
    "start_time": "2022-01-22T10:18:45.379Z"
   },
   {
    "duration": 606,
    "start_time": "2022-01-22T10:18:45.391Z"
   },
   {
    "duration": 8,
    "start_time": "2022-01-22T10:18:45.999Z"
   },
   {
    "duration": 241,
    "start_time": "2022-01-22T10:18:46.009Z"
   },
   {
    "duration": 429,
    "start_time": "2022-01-22T10:18:46.253Z"
   },
   {
    "duration": 12,
    "start_time": "2022-01-22T10:18:46.684Z"
   },
   {
    "duration": 452,
    "start_time": "2022-01-22T10:18:46.699Z"
   },
   {
    "duration": 14,
    "start_time": "2022-01-22T10:18:47.153Z"
   },
   {
    "duration": 256,
    "start_time": "2022-01-22T10:18:47.171Z"
   },
   {
    "duration": 492,
    "start_time": "2022-01-22T10:18:47.429Z"
   },
   {
    "duration": 12,
    "start_time": "2022-01-22T10:18:47.923Z"
   },
   {
    "duration": 463,
    "start_time": "2022-01-22T10:18:47.938Z"
   },
   {
    "duration": 12,
    "start_time": "2022-01-22T10:18:48.404Z"
   },
   {
    "duration": 623,
    "start_time": "2022-01-22T10:18:48.419Z"
   },
   {
    "duration": 1315,
    "start_time": "2022-01-22T20:25:41.042Z"
   },
   {
    "duration": 52,
    "start_time": "2022-01-22T20:25:42.359Z"
   },
   {
    "duration": 26,
    "start_time": "2022-01-22T20:25:42.414Z"
   },
   {
    "duration": 19,
    "start_time": "2022-01-22T20:25:42.443Z"
   },
   {
    "duration": 63,
    "start_time": "2022-01-22T20:25:42.464Z"
   },
   {
    "duration": 20,
    "start_time": "2022-01-22T20:25:42.529Z"
   },
   {
    "duration": 18,
    "start_time": "2022-01-22T20:25:42.551Z"
   },
   {
    "duration": 12,
    "start_time": "2022-01-22T20:25:42.573Z"
   },
   {
    "duration": 38,
    "start_time": "2022-01-22T20:25:42.588Z"
   },
   {
    "duration": 23,
    "start_time": "2022-01-22T20:25:42.628Z"
   },
   {
    "duration": 6,
    "start_time": "2022-01-22T20:25:42.653Z"
   },
   {
    "duration": 10,
    "start_time": "2022-01-22T20:25:42.661Z"
   },
   {
    "duration": 21,
    "start_time": "2022-01-22T20:25:42.673Z"
   },
   {
    "duration": 598,
    "start_time": "2022-01-22T20:25:42.696Z"
   },
   {
    "duration": 28,
    "start_time": "2022-01-22T20:25:43.296Z"
   },
   {
    "duration": 25,
    "start_time": "2022-01-22T20:25:43.327Z"
   },
   {
    "duration": 574,
    "start_time": "2022-01-22T20:25:43.354Z"
   },
   {
    "duration": 557,
    "start_time": "2022-01-22T20:25:43.930Z"
   },
   {
    "duration": 10,
    "start_time": "2022-01-22T20:25:44.489Z"
   },
   {
    "duration": 530,
    "start_time": "2022-01-22T20:25:44.501Z"
   },
   {
    "duration": 8,
    "start_time": "2022-01-22T20:25:45.033Z"
   },
   {
    "duration": 274,
    "start_time": "2022-01-22T20:25:45.044Z"
   },
   {
    "duration": 402,
    "start_time": "2022-01-22T20:25:45.326Z"
   },
   {
    "duration": 10,
    "start_time": "2022-01-22T20:25:45.731Z"
   },
   {
    "duration": 395,
    "start_time": "2022-01-22T20:25:45.743Z"
   },
   {
    "duration": 11,
    "start_time": "2022-01-22T20:25:46.141Z"
   },
   {
    "duration": 241,
    "start_time": "2022-01-22T20:25:46.155Z"
   },
   {
    "duration": 425,
    "start_time": "2022-01-22T20:25:46.399Z"
   },
   {
    "duration": 11,
    "start_time": "2022-01-22T20:25:46.826Z"
   },
   {
    "duration": 428,
    "start_time": "2022-01-22T20:25:46.840Z"
   },
   {
    "duration": 12,
    "start_time": "2022-01-22T20:25:47.271Z"
   },
   {
    "duration": 551,
    "start_time": "2022-01-22T20:25:47.285Z"
   },
   {
    "duration": 420,
    "start_time": "2022-01-22T20:25:47.839Z"
   },
   {
    "duration": 1043,
    "start_time": "2022-01-22T20:26:16.780Z"
   },
   {
    "duration": 523,
    "start_time": "2022-01-22T20:28:02.334Z"
   },
   {
    "duration": 785,
    "start_time": "2022-01-22T20:28:27.952Z"
   },
   {
    "duration": 1182,
    "start_time": "2022-01-23T12:51:37.768Z"
   },
   {
    "duration": 42,
    "start_time": "2022-01-23T12:51:38.952Z"
   },
   {
    "duration": 16,
    "start_time": "2022-01-23T12:51:38.996Z"
   },
   {
    "duration": 14,
    "start_time": "2022-01-23T12:51:39.014Z"
   },
   {
    "duration": 30,
    "start_time": "2022-01-23T12:51:39.030Z"
   },
   {
    "duration": 41,
    "start_time": "2022-01-23T12:51:39.061Z"
   },
   {
    "duration": 13,
    "start_time": "2022-01-23T12:51:39.103Z"
   },
   {
    "duration": 10,
    "start_time": "2022-01-23T12:51:39.119Z"
   },
   {
    "duration": 4,
    "start_time": "2022-01-23T12:51:39.131Z"
   },
   {
    "duration": 14,
    "start_time": "2022-01-23T12:51:39.136Z"
   },
   {
    "duration": 5,
    "start_time": "2022-01-23T12:51:39.151Z"
   },
   {
    "duration": 8,
    "start_time": "2022-01-23T12:51:39.157Z"
   },
   {
    "duration": 44,
    "start_time": "2022-01-23T12:51:39.166Z"
   },
   {
    "duration": 417,
    "start_time": "2022-01-23T12:51:39.211Z"
   },
   {
    "duration": 12,
    "start_time": "2022-01-23T12:51:39.631Z"
   },
   {
    "duration": 20,
    "start_time": "2022-01-23T12:51:39.645Z"
   },
   {
    "duration": 432,
    "start_time": "2022-01-23T12:51:39.667Z"
   },
   {
    "duration": 415,
    "start_time": "2022-01-23T12:51:40.101Z"
   },
   {
    "duration": 7,
    "start_time": "2022-01-23T12:51:40.518Z"
   },
   {
    "duration": 393,
    "start_time": "2022-01-23T12:51:40.526Z"
   },
   {
    "duration": 5,
    "start_time": "2022-01-23T12:51:40.921Z"
   },
   {
    "duration": 213,
    "start_time": "2022-01-23T12:51:40.928Z"
   },
   {
    "duration": 295,
    "start_time": "2022-01-23T12:51:41.144Z"
   },
   {
    "duration": 8,
    "start_time": "2022-01-23T12:51:41.441Z"
   },
   {
    "duration": 310,
    "start_time": "2022-01-23T12:51:41.451Z"
   },
   {
    "duration": 7,
    "start_time": "2022-01-23T12:51:41.762Z"
   },
   {
    "duration": 170,
    "start_time": "2022-01-23T12:51:41.771Z"
   },
   {
    "duration": 317,
    "start_time": "2022-01-23T12:51:41.943Z"
   },
   {
    "duration": 9,
    "start_time": "2022-01-23T12:51:42.262Z"
   },
   {
    "duration": 359,
    "start_time": "2022-01-23T12:51:42.273Z"
   },
   {
    "duration": 9,
    "start_time": "2022-01-23T12:51:42.634Z"
   },
   {
    "duration": 414,
    "start_time": "2022-01-23T12:51:42.644Z"
   },
   {
    "duration": 393,
    "start_time": "2022-01-23T12:51:43.060Z"
   },
   {
    "duration": 376,
    "start_time": "2022-01-23T12:51:43.454Z"
   },
   {
    "duration": 363,
    "start_time": "2022-01-23T12:52:29.143Z"
   },
   {
    "duration": 307,
    "start_time": "2022-01-23T13:52:50.633Z"
   },
   {
    "duration": 1130,
    "start_time": "2022-01-23T15:12:45.840Z"
   },
   {
    "duration": 45,
    "start_time": "2022-01-23T15:12:46.972Z"
   },
   {
    "duration": 17,
    "start_time": "2022-01-23T15:12:47.019Z"
   },
   {
    "duration": 15,
    "start_time": "2022-01-23T15:12:47.038Z"
   },
   {
    "duration": 47,
    "start_time": "2022-01-23T15:12:47.055Z"
   },
   {
    "duration": 15,
    "start_time": "2022-01-23T15:12:47.104Z"
   },
   {
    "duration": 12,
    "start_time": "2022-01-23T15:12:47.121Z"
   },
   {
    "duration": 10,
    "start_time": "2022-01-23T15:12:47.135Z"
   },
   {
    "duration": 4,
    "start_time": "2022-01-23T15:12:47.147Z"
   },
   {
    "duration": 44,
    "start_time": "2022-01-23T15:12:47.153Z"
   },
   {
    "duration": 6,
    "start_time": "2022-01-23T15:12:47.199Z"
   },
   {
    "duration": 10,
    "start_time": "2022-01-23T15:12:47.206Z"
   },
   {
    "duration": 18,
    "start_time": "2022-01-23T15:12:47.218Z"
   },
   {
    "duration": 394,
    "start_time": "2022-01-23T15:12:47.238Z"
   },
   {
    "duration": 10,
    "start_time": "2022-01-23T15:12:47.633Z"
   },
   {
    "duration": 18,
    "start_time": "2022-01-23T15:12:47.645Z"
   },
   {
    "duration": 414,
    "start_time": "2022-01-23T15:12:47.665Z"
   },
   {
    "duration": 398,
    "start_time": "2022-01-23T15:12:48.081Z"
   },
   {
    "duration": 7,
    "start_time": "2022-01-23T15:12:48.480Z"
   },
   {
    "duration": 374,
    "start_time": "2022-01-23T15:12:48.496Z"
   },
   {
    "duration": 6,
    "start_time": "2022-01-23T15:12:48.872Z"
   },
   {
    "duration": 229,
    "start_time": "2022-01-23T15:12:48.879Z"
   },
   {
    "duration": 304,
    "start_time": "2022-01-23T15:12:49.112Z"
   },
   {
    "duration": 9,
    "start_time": "2022-01-23T15:12:49.418Z"
   },
   {
    "duration": 308,
    "start_time": "2022-01-23T15:12:49.429Z"
   },
   {
    "duration": 10,
    "start_time": "2022-01-23T15:12:49.739Z"
   },
   {
    "duration": 173,
    "start_time": "2022-01-23T15:12:49.751Z"
   },
   {
    "duration": 318,
    "start_time": "2022-01-23T15:12:49.926Z"
   },
   {
    "duration": 10,
    "start_time": "2022-01-23T15:12:50.246Z"
   },
   {
    "duration": 373,
    "start_time": "2022-01-23T15:12:50.257Z"
   },
   {
    "duration": 10,
    "start_time": "2022-01-23T15:12:50.632Z"
   },
   {
    "duration": 410,
    "start_time": "2022-01-23T15:12:50.644Z"
   },
   {
    "duration": 379,
    "start_time": "2022-01-23T15:12:51.056Z"
   },
   {
    "duration": 368,
    "start_time": "2022-01-23T15:12:51.437Z"
   },
   {
    "duration": 294,
    "start_time": "2022-01-23T15:12:51.806Z"
   },
   {
    "duration": 28,
    "start_time": "2022-01-23T15:55:42.624Z"
   },
   {
    "duration": 6,
    "start_time": "2022-01-23T16:05:43.776Z"
   },
   {
    "duration": 7,
    "start_time": "2022-01-23T16:13:16.873Z"
   },
   {
    "duration": 285,
    "start_time": "2022-01-23T16:14:04.444Z"
   },
   {
    "duration": 178,
    "start_time": "2022-01-23T16:17:35.028Z"
   },
   {
    "duration": 6,
    "start_time": "2022-01-23T16:18:38.121Z"
   },
   {
    "duration": 6,
    "start_time": "2022-01-23T16:18:53.542Z"
   },
   {
    "duration": 5,
    "start_time": "2022-01-23T16:19:05.670Z"
   },
   {
    "duration": 5,
    "start_time": "2022-01-23T16:44:38.688Z"
   },
   {
    "duration": 4,
    "start_time": "2022-01-23T16:45:20.671Z"
   },
   {
    "duration": 10,
    "start_time": "2022-01-23T16:46:23.232Z"
   },
   {
    "duration": 3,
    "start_time": "2022-01-23T16:46:37.875Z"
   },
   {
    "duration": 53,
    "start_time": "2022-01-23T16:46:37.881Z"
   },
   {
    "duration": 14,
    "start_time": "2022-01-23T16:46:37.936Z"
   },
   {
    "duration": 16,
    "start_time": "2022-01-23T16:46:37.952Z"
   },
   {
    "duration": 32,
    "start_time": "2022-01-23T16:46:37.997Z"
   },
   {
    "duration": 16,
    "start_time": "2022-01-23T16:46:38.031Z"
   },
   {
    "duration": 4,
    "start_time": "2022-01-23T16:46:38.049Z"
   },
   {
    "duration": 12,
    "start_time": "2022-01-23T16:46:38.054Z"
   },
   {
    "duration": 5,
    "start_time": "2022-01-23T16:46:38.098Z"
   },
   {
    "duration": 19,
    "start_time": "2022-01-23T16:46:38.105Z"
   },
   {
    "duration": 4,
    "start_time": "2022-01-23T16:46:38.126Z"
   },
   {
    "duration": 22,
    "start_time": "2022-01-23T16:46:38.131Z"
   },
   {
    "duration": 18,
    "start_time": "2022-01-23T16:46:38.155Z"
   },
   {
    "duration": 512,
    "start_time": "2022-01-23T16:46:38.174Z"
   },
   {
    "duration": 16,
    "start_time": "2022-01-23T16:46:38.688Z"
   },
   {
    "duration": 19,
    "start_time": "2022-01-23T16:46:38.706Z"
   },
   {
    "duration": 437,
    "start_time": "2022-01-23T16:46:38.726Z"
   },
   {
    "duration": 412,
    "start_time": "2022-01-23T16:46:39.165Z"
   },
   {
    "duration": 7,
    "start_time": "2022-01-23T16:46:39.579Z"
   },
   {
    "duration": 379,
    "start_time": "2022-01-23T16:46:39.597Z"
   },
   {
    "duration": 7,
    "start_time": "2022-01-23T16:46:39.978Z"
   },
   {
    "duration": 149,
    "start_time": "2022-01-23T16:46:39.997Z"
   },
   {
    "duration": 292,
    "start_time": "2022-01-23T16:46:40.147Z"
   },
   {
    "duration": 8,
    "start_time": "2022-01-23T16:46:40.441Z"
   },
   {
    "duration": 299,
    "start_time": "2022-01-23T16:46:40.451Z"
   },
   {
    "duration": 9,
    "start_time": "2022-01-23T16:46:40.753Z"
   },
   {
    "duration": 180,
    "start_time": "2022-01-23T16:46:40.767Z"
   },
   {
    "duration": 340,
    "start_time": "2022-01-23T16:46:40.950Z"
   },
   {
    "duration": 14,
    "start_time": "2022-01-23T16:46:41.292Z"
   },
   {
    "duration": 340,
    "start_time": "2022-01-23T16:46:41.308Z"
   },
   {
    "duration": 10,
    "start_time": "2022-01-23T16:46:41.651Z"
   },
   {
    "duration": 499,
    "start_time": "2022-01-23T16:46:41.662Z"
   },
   {
    "duration": 378,
    "start_time": "2022-01-23T16:46:42.162Z"
   },
   {
    "duration": 355,
    "start_time": "2022-01-23T16:46:42.541Z"
   },
   {
    "duration": 299,
    "start_time": "2022-01-23T16:46:42.898Z"
   },
   {
    "duration": 30,
    "start_time": "2022-01-23T16:46:43.199Z"
   },
   {
    "duration": 5,
    "start_time": "2022-01-23T16:46:43.231Z"
   },
   {
    "duration": 9,
    "start_time": "2022-01-23T16:46:43.237Z"
   },
   {
    "duration": 13,
    "start_time": "2022-01-23T16:54:29.761Z"
   },
   {
    "duration": 4,
    "start_time": "2022-01-23T17:06:30.456Z"
   },
   {
    "duration": 54,
    "start_time": "2022-01-23T17:06:30.462Z"
   },
   {
    "duration": 14,
    "start_time": "2022-01-23T17:06:30.518Z"
   },
   {
    "duration": 30,
    "start_time": "2022-01-23T17:06:30.534Z"
   },
   {
    "duration": 38,
    "start_time": "2022-01-23T17:06:30.566Z"
   },
   {
    "duration": 15,
    "start_time": "2022-01-23T17:06:30.606Z"
   },
   {
    "duration": 4,
    "start_time": "2022-01-23T17:06:30.623Z"
   },
   {
    "duration": 14,
    "start_time": "2022-01-23T17:06:30.628Z"
   },
   {
    "duration": 7,
    "start_time": "2022-01-23T17:06:30.645Z"
   },
   {
    "duration": 43,
    "start_time": "2022-01-23T17:06:30.654Z"
   },
   {
    "duration": 4,
    "start_time": "2022-01-23T17:06:30.699Z"
   },
   {
    "duration": 10,
    "start_time": "2022-01-23T17:06:30.705Z"
   },
   {
    "duration": 19,
    "start_time": "2022-01-23T17:06:30.717Z"
   },
   {
    "duration": 443,
    "start_time": "2022-01-23T17:06:30.739Z"
   },
   {
    "duration": 25,
    "start_time": "2022-01-23T17:06:31.184Z"
   },
   {
    "duration": 21,
    "start_time": "2022-01-23T17:06:31.211Z"
   },
   {
    "duration": 422,
    "start_time": "2022-01-23T17:06:31.234Z"
   },
   {
    "duration": 423,
    "start_time": "2022-01-23T17:06:31.658Z"
   },
   {
    "duration": 14,
    "start_time": "2022-01-23T17:06:32.083Z"
   },
   {
    "duration": 366,
    "start_time": "2022-01-23T17:06:32.099Z"
   },
   {
    "duration": 6,
    "start_time": "2022-01-23T17:06:32.467Z"
   },
   {
    "duration": 152,
    "start_time": "2022-01-23T17:06:32.475Z"
   },
   {
    "duration": 412,
    "start_time": "2022-01-23T17:06:32.629Z"
   },
   {
    "duration": 8,
    "start_time": "2022-01-23T17:06:33.043Z"
   },
   {
    "duration": 316,
    "start_time": "2022-01-23T17:06:33.053Z"
   },
   {
    "duration": 8,
    "start_time": "2022-01-23T17:06:33.370Z"
   },
   {
    "duration": 176,
    "start_time": "2022-01-23T17:06:33.379Z"
   },
   {
    "duration": 358,
    "start_time": "2022-01-23T17:06:33.557Z"
   },
   {
    "duration": 9,
    "start_time": "2022-01-23T17:06:33.917Z"
   },
   {
    "duration": 380,
    "start_time": "2022-01-23T17:06:33.927Z"
   },
   {
    "duration": 9,
    "start_time": "2022-01-23T17:06:34.309Z"
   },
   {
    "duration": 567,
    "start_time": "2022-01-23T17:06:34.319Z"
   },
   {
    "duration": 380,
    "start_time": "2022-01-23T17:06:34.887Z"
   },
   {
    "duration": 358,
    "start_time": "2022-01-23T17:06:35.269Z"
   },
   {
    "duration": 297,
    "start_time": "2022-01-23T17:06:35.628Z"
   },
   {
    "duration": 28,
    "start_time": "2022-01-23T17:06:35.928Z"
   },
   {
    "duration": 5,
    "start_time": "2022-01-23T17:06:35.958Z"
   },
   {
    "duration": 33,
    "start_time": "2022-01-23T17:06:35.965Z"
   },
   {
    "duration": 19,
    "start_time": "2022-01-23T17:09:13.568Z"
   },
   {
    "duration": 19,
    "start_time": "2022-01-23T17:10:08.440Z"
   },
   {
    "duration": 4,
    "start_time": "2022-01-23T17:34:53.155Z"
   },
   {
    "duration": 72,
    "start_time": "2022-01-23T17:34:53.164Z"
   },
   {
    "duration": 15,
    "start_time": "2022-01-23T17:34:53.239Z"
   },
   {
    "duration": 46,
    "start_time": "2022-01-23T17:34:53.256Z"
   },
   {
    "duration": 38,
    "start_time": "2022-01-23T17:34:53.304Z"
   },
   {
    "duration": 22,
    "start_time": "2022-01-23T17:34:53.344Z"
   },
   {
    "duration": 32,
    "start_time": "2022-01-23T17:34:53.368Z"
   },
   {
    "duration": 26,
    "start_time": "2022-01-23T17:34:53.401Z"
   },
   {
    "duration": 23,
    "start_time": "2022-01-23T17:34:53.429Z"
   },
   {
    "duration": 27,
    "start_time": "2022-01-23T17:34:53.454Z"
   },
   {
    "duration": 34,
    "start_time": "2022-01-23T17:34:53.483Z"
   },
   {
    "duration": 25,
    "start_time": "2022-01-23T17:34:53.518Z"
   },
   {
    "duration": 25,
    "start_time": "2022-01-23T17:34:53.545Z"
   },
   {
    "duration": 451,
    "start_time": "2022-01-23T17:34:53.572Z"
   },
   {
    "duration": 12,
    "start_time": "2022-01-23T17:34:54.025Z"
   },
   {
    "duration": 46,
    "start_time": "2022-01-23T17:34:54.039Z"
   },
   {
    "duration": 519,
    "start_time": "2022-01-23T17:34:54.087Z"
   },
   {
    "duration": 431,
    "start_time": "2022-01-23T17:34:54.608Z"
   },
   {
    "duration": 7,
    "start_time": "2022-01-23T17:34:55.042Z"
   },
   {
    "duration": 409,
    "start_time": "2022-01-23T17:34:55.051Z"
   },
   {
    "duration": 7,
    "start_time": "2022-01-23T17:34:55.462Z"
   },
   {
    "duration": 159,
    "start_time": "2022-01-23T17:34:55.470Z"
   },
   {
    "duration": 304,
    "start_time": "2022-01-23T17:34:55.631Z"
   },
   {
    "duration": 8,
    "start_time": "2022-01-23T17:34:55.937Z"
   },
   {
    "duration": 316,
    "start_time": "2022-01-23T17:34:55.947Z"
   },
   {
    "duration": 9,
    "start_time": "2022-01-23T17:34:56.265Z"
   },
   {
    "duration": 176,
    "start_time": "2022-01-23T17:34:56.275Z"
   },
   {
    "duration": 344,
    "start_time": "2022-01-23T17:34:56.453Z"
   },
   {
    "duration": 8,
    "start_time": "2022-01-23T17:34:56.799Z"
   },
   {
    "duration": 338,
    "start_time": "2022-01-23T17:34:56.809Z"
   },
   {
    "duration": 8,
    "start_time": "2022-01-23T17:34:57.149Z"
   },
   {
    "duration": 391,
    "start_time": "2022-01-23T17:34:57.158Z"
   },
   {
    "duration": 483,
    "start_time": "2022-01-23T17:34:57.551Z"
   },
   {
    "duration": 373,
    "start_time": "2022-01-23T17:34:58.036Z"
   },
   {
    "duration": 544,
    "start_time": "2022-01-23T17:34:58.411Z"
   },
   {
    "duration": 56,
    "start_time": "2022-01-23T17:34:58.959Z"
   },
   {
    "duration": 5,
    "start_time": "2022-01-23T17:34:59.018Z"
   },
   {
    "duration": 7,
    "start_time": "2022-01-23T17:34:59.025Z"
   },
   {
    "duration": 219,
    "start_time": "2022-01-23T17:35:30.073Z"
   },
   {
    "duration": 298,
    "start_time": "2022-01-23T17:35:56.756Z"
   },
   {
    "duration": 325,
    "start_time": "2022-01-23T17:41:18.474Z"
   },
   {
    "duration": 308,
    "start_time": "2022-01-23T17:41:35.631Z"
   },
   {
    "duration": 300,
    "start_time": "2022-01-23T17:42:36.835Z"
   },
   {
    "duration": 27,
    "start_time": "2022-01-23T18:47:48.407Z"
   },
   {
    "duration": 29,
    "start_time": "2022-01-23T18:48:28.140Z"
   },
   {
    "duration": 3,
    "start_time": "2022-01-23T18:49:17.962Z"
   },
   {
    "duration": 48,
    "start_time": "2022-01-23T18:49:17.967Z"
   },
   {
    "duration": 13,
    "start_time": "2022-01-23T18:49:18.017Z"
   },
   {
    "duration": 17,
    "start_time": "2022-01-23T18:49:18.033Z"
   },
   {
    "duration": 48,
    "start_time": "2022-01-23T18:49:18.052Z"
   },
   {
    "duration": 17,
    "start_time": "2022-01-23T18:49:18.102Z"
   },
   {
    "duration": 4,
    "start_time": "2022-01-23T18:49:18.122Z"
   },
   {
    "duration": 15,
    "start_time": "2022-01-23T18:49:18.127Z"
   },
   {
    "duration": 4,
    "start_time": "2022-01-23T18:49:18.144Z"
   },
   {
    "duration": 20,
    "start_time": "2022-01-23T18:49:18.150Z"
   },
   {
    "duration": 28,
    "start_time": "2022-01-23T18:49:18.172Z"
   },
   {
    "duration": 11,
    "start_time": "2022-01-23T18:49:18.202Z"
   },
   {
    "duration": 19,
    "start_time": "2022-01-23T18:49:18.215Z"
   },
   {
    "duration": 396,
    "start_time": "2022-01-23T18:49:18.236Z"
   },
   {
    "duration": 14,
    "start_time": "2022-01-23T18:49:18.634Z"
   },
   {
    "duration": 19,
    "start_time": "2022-01-23T18:49:18.649Z"
   },
   {
    "duration": 436,
    "start_time": "2022-01-23T18:49:18.669Z"
   },
   {
    "duration": 396,
    "start_time": "2022-01-23T18:49:19.108Z"
   },
   {
    "duration": 8,
    "start_time": "2022-01-23T18:49:19.505Z"
   },
   {
    "duration": 497,
    "start_time": "2022-01-23T18:49:19.515Z"
   },
   {
    "duration": 6,
    "start_time": "2022-01-23T18:49:20.014Z"
   },
   {
    "duration": 155,
    "start_time": "2022-01-23T18:49:20.022Z"
   },
   {
    "duration": 18,
    "start_time": "2022-01-23T18:49:51.718Z"
   },
   {
    "duration": 20,
    "start_time": "2022-01-23T18:50:15.752Z"
   },
   {
    "duration": 4,
    "start_time": "2022-01-23T19:29:23.288Z"
   },
   {
    "duration": 50,
    "start_time": "2022-01-23T19:29:23.293Z"
   },
   {
    "duration": 13,
    "start_time": "2022-01-23T19:29:23.345Z"
   },
   {
    "duration": 15,
    "start_time": "2022-01-23T19:29:23.360Z"
   },
   {
    "duration": 40,
    "start_time": "2022-01-23T19:29:23.376Z"
   },
   {
    "duration": 14,
    "start_time": "2022-01-23T19:29:23.418Z"
   },
   {
    "duration": 4,
    "start_time": "2022-01-23T19:29:23.434Z"
   },
   {
    "duration": 15,
    "start_time": "2022-01-23T19:29:23.440Z"
   },
   {
    "duration": 7,
    "start_time": "2022-01-23T19:29:23.456Z"
   },
   {
    "duration": 42,
    "start_time": "2022-01-23T19:29:23.464Z"
   },
   {
    "duration": 4,
    "start_time": "2022-01-23T19:29:23.508Z"
   },
   {
    "duration": 13,
    "start_time": "2022-01-23T19:29:23.514Z"
   },
   {
    "duration": 17,
    "start_time": "2022-01-23T19:29:23.529Z"
   },
   {
    "duration": 407,
    "start_time": "2022-01-23T19:29:23.548Z"
   },
   {
    "duration": 12,
    "start_time": "2022-01-23T19:29:23.957Z"
   },
   {
    "duration": 40,
    "start_time": "2022-01-23T19:29:23.971Z"
   },
   {
    "duration": 409,
    "start_time": "2022-01-23T19:29:24.013Z"
   },
   {
    "duration": 408,
    "start_time": "2022-01-23T19:29:24.424Z"
   },
   {
    "duration": 8,
    "start_time": "2022-01-23T19:29:24.837Z"
   },
   {
    "duration": 389,
    "start_time": "2022-01-23T19:29:24.847Z"
   },
   {
    "duration": 6,
    "start_time": "2022-01-23T19:29:25.238Z"
   },
   {
    "duration": 153,
    "start_time": "2022-01-23T19:29:25.246Z"
   },
   {
    "duration": 337,
    "start_time": "2022-01-23T19:29:25.401Z"
   },
   {
    "duration": 9,
    "start_time": "2022-01-23T19:29:25.740Z"
   },
   {
    "duration": 320,
    "start_time": "2022-01-23T19:29:25.751Z"
   },
   {
    "duration": 8,
    "start_time": "2022-01-23T19:29:26.073Z"
   },
   {
    "duration": 317,
    "start_time": "2022-01-23T19:29:26.083Z"
   },
   {
    "duration": 334,
    "start_time": "2022-01-23T19:29:26.402Z"
   },
   {
    "duration": 9,
    "start_time": "2022-01-23T19:29:26.738Z"
   },
   {
    "duration": 348,
    "start_time": "2022-01-23T19:29:26.749Z"
   },
   {
    "duration": 9,
    "start_time": "2022-01-23T19:29:27.098Z"
   },
   {
    "duration": 391,
    "start_time": "2022-01-23T19:29:27.109Z"
   },
   {
    "duration": 374,
    "start_time": "2022-01-23T19:29:27.502Z"
   },
   {
    "duration": 371,
    "start_time": "2022-01-23T19:29:27.878Z"
   },
   {
    "duration": 298,
    "start_time": "2022-01-23T19:29:28.251Z"
   },
   {
    "duration": 30,
    "start_time": "2022-01-23T19:29:28.552Z"
   },
   {
    "duration": 18,
    "start_time": "2022-01-23T19:29:28.584Z"
   },
   {
    "duration": 33,
    "start_time": "2022-01-23T19:29:28.604Z"
   },
   {
    "duration": 16,
    "start_time": "2022-01-30T18:41:00.523Z"
   },
   {
    "duration": 63,
    "start_time": "2022-01-30T18:41:00.541Z"
   },
   {
    "duration": 14,
    "start_time": "2022-01-30T18:41:00.606Z"
   },
   {
    "duration": 14,
    "start_time": "2022-01-30T18:41:00.627Z"
   },
   {
    "duration": 45,
    "start_time": "2022-01-30T18:41:00.644Z"
   },
   {
    "duration": 16,
    "start_time": "2022-01-30T18:41:00.691Z"
   },
   {
    "duration": 4,
    "start_time": "2022-01-30T18:41:00.709Z"
   },
   {
    "duration": 13,
    "start_time": "2022-01-30T18:41:00.715Z"
   },
   {
    "duration": 31,
    "start_time": "2022-01-30T18:41:00.730Z"
   },
   {
    "duration": 26,
    "start_time": "2022-01-30T18:41:00.763Z"
   },
   {
    "duration": 20,
    "start_time": "2022-01-30T18:41:00.791Z"
   },
   {
    "duration": 11,
    "start_time": "2022-01-30T18:41:00.813Z"
   },
   {
    "duration": 26,
    "start_time": "2022-01-30T18:41:00.826Z"
   },
   {
    "duration": 427,
    "start_time": "2022-01-30T18:41:00.854Z"
   },
   {
    "duration": 14,
    "start_time": "2022-01-30T18:41:01.283Z"
   },
   {
    "duration": 39,
    "start_time": "2022-01-30T18:41:01.300Z"
   },
   {
    "duration": 455,
    "start_time": "2022-01-30T18:41:01.342Z"
   },
   {
    "duration": 437,
    "start_time": "2022-01-30T18:41:01.800Z"
   },
   {
    "duration": 21,
    "start_time": "2022-01-30T18:41:02.239Z"
   },
   {
    "duration": 471,
    "start_time": "2022-01-30T18:41:02.262Z"
   },
   {
    "duration": 7,
    "start_time": "2022-01-30T18:41:02.738Z"
   },
   {
    "duration": 177,
    "start_time": "2022-01-30T18:41:02.747Z"
   },
   {
    "duration": 450,
    "start_time": "2022-01-30T18:41:02.926Z"
   },
   {
    "duration": 9,
    "start_time": "2022-01-30T18:41:03.377Z"
   },
   {
    "duration": 315,
    "start_time": "2022-01-30T18:41:03.387Z"
   },
   {
    "duration": 9,
    "start_time": "2022-01-30T18:41:03.704Z"
   },
   {
    "duration": 187,
    "start_time": "2022-01-30T18:41:03.715Z"
   },
   {
    "duration": 328,
    "start_time": "2022-01-30T18:41:03.904Z"
   },
   {
    "duration": 9,
    "start_time": "2022-01-30T18:41:04.234Z"
   },
   {
    "duration": 363,
    "start_time": "2022-01-30T18:41:04.259Z"
   },
   {
    "duration": 9,
    "start_time": "2022-01-30T18:41:04.624Z"
   },
   {
    "duration": 444,
    "start_time": "2022-01-30T18:41:04.634Z"
   },
   {
    "duration": 422,
    "start_time": "2022-01-30T18:41:05.080Z"
   },
   {
    "duration": 392,
    "start_time": "2022-01-30T18:41:05.504Z"
   },
   {
    "duration": 312,
    "start_time": "2022-01-30T18:41:05.898Z"
   },
   {
    "duration": 31,
    "start_time": "2022-01-30T18:41:06.211Z"
   },
   {
    "duration": 17,
    "start_time": "2022-01-30T18:41:06.244Z"
   },
   {
    "duration": 10,
    "start_time": "2022-01-30T18:41:06.263Z"
   },
   {
    "duration": 1470,
    "start_time": "2022-02-01T16:10:54.621Z"
   },
   {
    "duration": 56,
    "start_time": "2022-02-01T16:10:56.094Z"
   },
   {
    "duration": 24,
    "start_time": "2022-02-01T16:10:56.152Z"
   },
   {
    "duration": 20,
    "start_time": "2022-02-01T16:10:56.179Z"
   },
   {
    "duration": 66,
    "start_time": "2022-02-01T16:10:56.202Z"
   },
   {
    "duration": 22,
    "start_time": "2022-02-01T16:10:56.270Z"
   },
   {
    "duration": 5,
    "start_time": "2022-02-01T16:10:56.294Z"
   },
   {
    "duration": 39,
    "start_time": "2022-02-01T16:10:56.303Z"
   },
   {
    "duration": 5,
    "start_time": "2022-02-01T16:10:56.346Z"
   },
   {
    "duration": 20,
    "start_time": "2022-02-01T16:10:56.354Z"
   },
   {
    "duration": 5,
    "start_time": "2022-02-01T16:10:56.376Z"
   },
   {
    "duration": 11,
    "start_time": "2022-02-01T16:10:56.384Z"
   },
   {
    "duration": 26,
    "start_time": "2022-02-01T16:10:56.433Z"
   },
   {
    "duration": 665,
    "start_time": "2022-02-01T16:10:56.461Z"
   },
   {
    "duration": 18,
    "start_time": "2022-02-01T16:10:57.132Z"
   },
   {
    "duration": 40,
    "start_time": "2022-02-01T16:10:57.153Z"
   },
   {
    "duration": 704,
    "start_time": "2022-02-01T16:10:57.196Z"
   },
   {
    "duration": 600,
    "start_time": "2022-02-01T16:11:03.481Z"
   },
   {
    "duration": 448,
    "start_time": "2022-02-01T16:12:20.996Z"
   },
   {
    "duration": 497,
    "start_time": "2022-02-01T16:12:30.293Z"
   },
   {
    "duration": 564,
    "start_time": "2022-02-01T16:15:25.393Z"
   },
   {
    "duration": 587,
    "start_time": "2022-02-01T16:15:43.859Z"
   },
   {
    "duration": 696,
    "start_time": "2022-02-01T16:24:08.102Z"
   },
   {
    "duration": 693,
    "start_time": "2022-02-01T16:26:36.419Z"
   },
   {
    "duration": 600,
    "start_time": "2022-02-01T16:27:29.849Z"
   },
   {
    "duration": 577,
    "start_time": "2022-02-01T16:27:58.894Z"
   },
   {
    "duration": 574,
    "start_time": "2022-02-01T16:29:06.007Z"
   },
   {
    "duration": 570,
    "start_time": "2022-02-01T16:29:15.454Z"
   },
   {
    "duration": 571,
    "start_time": "2022-02-01T17:09:11.029Z"
   },
   {
    "duration": 1182,
    "start_time": "2022-02-03T08:55:53.036Z"
   },
   {
    "duration": 45,
    "start_time": "2022-02-03T08:55:54.220Z"
   },
   {
    "duration": 17,
    "start_time": "2022-02-03T08:55:54.267Z"
   },
   {
    "duration": 15,
    "start_time": "2022-02-03T08:55:54.286Z"
   },
   {
    "duration": 33,
    "start_time": "2022-02-03T08:55:54.303Z"
   },
   {
    "duration": 37,
    "start_time": "2022-02-03T08:55:54.337Z"
   },
   {
    "duration": 4,
    "start_time": "2022-02-03T08:55:54.376Z"
   },
   {
    "duration": 15,
    "start_time": "2022-02-03T08:55:54.383Z"
   },
   {
    "duration": 5,
    "start_time": "2022-02-03T08:55:54.401Z"
   },
   {
    "duration": 21,
    "start_time": "2022-02-03T08:55:54.408Z"
   },
   {
    "duration": 6,
    "start_time": "2022-02-03T08:55:54.460Z"
   },
   {
    "duration": 20,
    "start_time": "2022-02-03T08:55:54.468Z"
   },
   {
    "duration": 28,
    "start_time": "2022-02-03T08:55:54.490Z"
   },
   {
    "duration": 425,
    "start_time": "2022-02-03T08:55:54.520Z"
   },
   {
    "duration": 16,
    "start_time": "2022-02-03T08:55:54.947Z"
   },
   {
    "duration": 21,
    "start_time": "2022-02-03T08:55:54.965Z"
   },
   {
    "duration": 435,
    "start_time": "2022-02-03T08:55:54.988Z"
   },
   {
    "duration": 375,
    "start_time": "2022-02-03T08:55:58.943Z"
   },
   {
    "duration": 507,
    "start_time": "2022-02-03T14:20:14.551Z"
   },
   {
    "duration": 42,
    "start_time": "2022-02-03T14:21:55.913Z"
   },
   {
    "duration": 317,
    "start_time": "2022-02-03T14:24:27.314Z"
   },
   {
    "duration": 28,
    "start_time": "2022-02-03T14:28:32.800Z"
   },
   {
    "duration": 58,
    "start_time": "2022-02-03T14:30:59.534Z"
   },
   {
    "duration": 301,
    "start_time": "2022-02-03T14:31:41.212Z"
   },
   {
    "duration": 3258,
    "start_time": "2022-02-03T14:31:56.113Z"
   },
   {
    "duration": 23,
    "start_time": "2022-02-03T14:36:33.191Z"
   },
   {
    "duration": 186,
    "start_time": "2022-02-03T14:46:55.366Z"
   },
   {
    "duration": 111,
    "start_time": "2022-02-03T14:47:25.166Z"
   },
   {
    "duration": 1126,
    "start_time": "2022-02-04T10:04:09.134Z"
   },
   {
    "duration": 43,
    "start_time": "2022-02-04T10:04:10.262Z"
   },
   {
    "duration": 14,
    "start_time": "2022-02-04T10:04:10.307Z"
   },
   {
    "duration": 13,
    "start_time": "2022-02-04T10:04:10.322Z"
   },
   {
    "duration": 27,
    "start_time": "2022-02-04T10:04:10.336Z"
   },
   {
    "duration": 12,
    "start_time": "2022-02-04T10:04:10.364Z"
   },
   {
    "duration": 3,
    "start_time": "2022-02-04T10:04:10.378Z"
   },
   {
    "duration": 10,
    "start_time": "2022-02-04T10:04:10.383Z"
   },
   {
    "duration": 3,
    "start_time": "2022-02-04T10:04:10.395Z"
   },
   {
    "duration": 34,
    "start_time": "2022-02-04T10:04:10.400Z"
   },
   {
    "duration": 3,
    "start_time": "2022-02-04T10:04:10.436Z"
   },
   {
    "duration": 8,
    "start_time": "2022-02-04T10:04:10.440Z"
   },
   {
    "duration": 14,
    "start_time": "2022-02-04T10:04:10.450Z"
   },
   {
    "duration": 343,
    "start_time": "2022-02-04T10:04:10.466Z"
   },
   {
    "duration": 17,
    "start_time": "2022-02-04T10:04:10.811Z"
   },
   {
    "duration": 17,
    "start_time": "2022-02-04T10:04:10.829Z"
   },
   {
    "duration": 355,
    "start_time": "2022-02-04T10:04:10.847Z"
   },
   {
    "duration": 334,
    "start_time": "2022-02-04T10:04:11.203Z"
   },
   {
    "duration": 6,
    "start_time": "2022-02-04T10:04:11.538Z"
   },
   {
    "duration": 284,
    "start_time": "2022-02-04T10:04:11.546Z"
   },
   {
    "duration": 5,
    "start_time": "2022-02-04T10:04:11.832Z"
   },
   {
    "duration": 131,
    "start_time": "2022-02-04T10:04:11.838Z"
   },
   {
    "duration": 344,
    "start_time": "2022-02-04T10:04:11.972Z"
   },
   {
    "duration": 13,
    "start_time": "2022-02-04T10:04:12.317Z"
   },
   {
    "duration": 284,
    "start_time": "2022-02-04T10:04:12.331Z"
   },
   {
    "duration": 16,
    "start_time": "2022-02-04T10:04:12.616Z"
   },
   {
    "duration": 139,
    "start_time": "2022-02-04T10:04:12.633Z"
   },
   {
    "duration": 244,
    "start_time": "2022-02-04T10:04:12.773Z"
   },
   {
    "duration": 15,
    "start_time": "2022-02-04T10:04:13.018Z"
   },
   {
    "duration": 282,
    "start_time": "2022-02-04T10:04:13.035Z"
   },
   {
    "duration": 8,
    "start_time": "2022-02-04T10:04:13.327Z"
   },
   {
    "duration": 457,
    "start_time": "2022-02-04T10:04:16.230Z"
   },
   {
    "duration": 18,
    "start_time": "2022-02-04T10:09:25.659Z"
   },
   {
    "duration": 343,
    "start_time": "2022-02-04T10:12:19.637Z"
   },
   {
    "duration": 1100,
    "start_time": "2022-02-04T20:14:11.505Z"
   },
   {
    "duration": 42,
    "start_time": "2022-02-04T20:14:12.606Z"
   },
   {
    "duration": 14,
    "start_time": "2022-02-04T20:14:12.650Z"
   },
   {
    "duration": 12,
    "start_time": "2022-02-04T20:14:12.666Z"
   },
   {
    "duration": 25,
    "start_time": "2022-02-04T20:14:12.679Z"
   },
   {
    "duration": 13,
    "start_time": "2022-02-04T20:14:12.706Z"
   },
   {
    "duration": 4,
    "start_time": "2022-02-04T20:14:12.720Z"
   },
   {
    "duration": 8,
    "start_time": "2022-02-04T20:14:12.726Z"
   },
   {
    "duration": 4,
    "start_time": "2022-02-04T20:14:12.736Z"
   },
   {
    "duration": 39,
    "start_time": "2022-02-04T20:14:12.741Z"
   },
   {
    "duration": 4,
    "start_time": "2022-02-04T20:14:12.782Z"
   },
   {
    "duration": 8,
    "start_time": "2022-02-04T20:14:12.787Z"
   },
   {
    "duration": 14,
    "start_time": "2022-02-04T20:14:12.796Z"
   },
   {
    "duration": 352,
    "start_time": "2022-02-04T20:14:12.811Z"
   },
   {
    "duration": 15,
    "start_time": "2022-02-04T20:14:13.165Z"
   },
   {
    "duration": 17,
    "start_time": "2022-02-04T20:14:13.182Z"
   },
   {
    "duration": 351,
    "start_time": "2022-02-04T20:14:13.200Z"
   },
   {
    "duration": 331,
    "start_time": "2022-02-04T20:14:13.553Z"
   },
   {
    "duration": 7,
    "start_time": "2022-02-04T20:14:13.886Z"
   },
   {
    "duration": 277,
    "start_time": "2022-02-04T20:14:13.894Z"
   },
   {
    "duration": 5,
    "start_time": "2022-02-04T20:14:14.173Z"
   },
   {
    "duration": 128,
    "start_time": "2022-02-04T20:14:14.180Z"
   },
   {
    "duration": 342,
    "start_time": "2022-02-04T20:14:14.312Z"
   },
   {
    "duration": 15,
    "start_time": "2022-02-04T20:14:14.657Z"
   },
   {
    "duration": 290,
    "start_time": "2022-02-04T20:14:14.674Z"
   },
   {
    "duration": 12,
    "start_time": "2022-02-04T20:14:14.966Z"
   },
   {
    "duration": 145,
    "start_time": "2022-02-04T20:14:14.980Z"
   },
   {
    "duration": 271,
    "start_time": "2022-02-04T20:14:15.127Z"
   },
   {
    "duration": 8,
    "start_time": "2022-02-04T20:14:15.400Z"
   },
   {
    "duration": 271,
    "start_time": "2022-02-04T20:14:15.409Z"
   },
   {
    "duration": 7,
    "start_time": "2022-02-04T20:14:15.681Z"
   },
   {
    "duration": 288,
    "start_time": "2022-02-04T20:14:15.689Z"
   },
   {
    "duration": 111,
    "start_time": "2022-02-04T20:14:15.978Z"
   },
   {
    "duration": 695,
    "start_time": "2022-02-04T20:14:15.396Z"
   },
   {
    "duration": 686,
    "start_time": "2022-02-04T20:14:15.406Z"
   },
   {
    "duration": 678,
    "start_time": "2022-02-04T20:14:15.414Z"
   },
   {
    "duration": 671,
    "start_time": "2022-02-04T20:14:15.422Z"
   },
   {
    "duration": 651,
    "start_time": "2022-02-04T20:14:15.443Z"
   },
   {
    "duration": 647,
    "start_time": "2022-02-04T20:14:15.448Z"
   },
   {
    "duration": 252,
    "start_time": "2022-02-04T20:14:47.367Z"
   },
   {
    "duration": 128,
    "start_time": "2022-02-05T07:53:19.966Z"
   },
   {
    "duration": 146,
    "start_time": "2022-02-05T07:54:58.767Z"
   },
   {
    "duration": 1502,
    "start_time": "2022-02-05T07:55:23.424Z"
   },
   {
    "duration": 55,
    "start_time": "2022-02-05T07:55:24.929Z"
   },
   {
    "duration": 22,
    "start_time": "2022-02-05T07:55:24.987Z"
   },
   {
    "duration": 20,
    "start_time": "2022-02-05T07:55:25.012Z"
   },
   {
    "duration": 40,
    "start_time": "2022-02-05T07:55:25.059Z"
   },
   {
    "duration": 20,
    "start_time": "2022-02-05T07:55:25.102Z"
   },
   {
    "duration": 5,
    "start_time": "2022-02-05T07:55:25.124Z"
   },
   {
    "duration": 38,
    "start_time": "2022-02-05T07:55:25.132Z"
   },
   {
    "duration": 6,
    "start_time": "2022-02-05T07:55:25.173Z"
   },
   {
    "duration": 21,
    "start_time": "2022-02-05T07:55:25.182Z"
   },
   {
    "duration": 54,
    "start_time": "2022-02-05T07:55:25.205Z"
   },
   {
    "duration": 8,
    "start_time": "2022-02-05T07:55:25.261Z"
   },
   {
    "duration": 22,
    "start_time": "2022-02-05T07:55:25.272Z"
   },
   {
    "duration": 739,
    "start_time": "2022-02-05T07:55:25.296Z"
   },
   {
    "duration": 29,
    "start_time": "2022-02-05T07:55:26.038Z"
   },
   {
    "duration": 29,
    "start_time": "2022-02-05T07:55:26.069Z"
   },
   {
    "duration": 644,
    "start_time": "2022-02-05T07:55:26.100Z"
   },
   {
    "duration": 620,
    "start_time": "2022-02-05T07:55:26.747Z"
   },
   {
    "duration": 12,
    "start_time": "2022-02-05T07:55:27.370Z"
   },
   {
    "duration": 519,
    "start_time": "2022-02-05T07:55:27.385Z"
   },
   {
    "duration": 7,
    "start_time": "2022-02-05T07:55:27.907Z"
   },
   {
    "duration": 275,
    "start_time": "2022-02-05T07:55:27.917Z"
   },
   {
    "duration": 639,
    "start_time": "2022-02-05T07:55:28.196Z"
   },
   {
    "duration": 12,
    "start_time": "2022-02-05T07:55:28.837Z"
   },
   {
    "duration": 430,
    "start_time": "2022-02-05T07:55:28.860Z"
   },
   {
    "duration": 12,
    "start_time": "2022-02-05T07:55:29.292Z"
   },
   {
    "duration": 402,
    "start_time": "2022-02-05T07:55:29.306Z"
   },
   {
    "duration": 512,
    "start_time": "2022-02-05T07:55:29.711Z"
   },
   {
    "duration": 12,
    "start_time": "2022-02-05T07:55:30.225Z"
   },
   {
    "duration": 449,
    "start_time": "2022-02-05T07:55:30.239Z"
   },
   {
    "duration": 12,
    "start_time": "2022-02-05T07:55:30.690Z"
   },
   {
    "duration": 573,
    "start_time": "2022-02-05T07:55:30.705Z"
   },
   {
    "duration": 118,
    "start_time": "2022-02-05T07:55:47.027Z"
   },
   {
    "duration": 516,
    "start_time": "2022-02-05T07:56:38.649Z"
   },
   {
    "duration": 590,
    "start_time": "2022-02-05T08:14:11.512Z"
   },
   {
    "duration": 469,
    "start_time": "2022-02-05T08:24:10.255Z"
   },
   {
    "duration": 4,
    "start_time": "2022-02-05T09:56:43.347Z"
   },
   {
    "duration": 59,
    "start_time": "2022-02-05T09:56:43.354Z"
   },
   {
    "duration": 19,
    "start_time": "2022-02-05T09:56:43.416Z"
   },
   {
    "duration": 33,
    "start_time": "2022-02-05T09:56:43.438Z"
   },
   {
    "duration": 45,
    "start_time": "2022-02-05T09:56:43.474Z"
   },
   {
    "duration": 55,
    "start_time": "2022-02-05T09:56:43.521Z"
   },
   {
    "duration": 5,
    "start_time": "2022-02-05T09:56:43.580Z"
   },
   {
    "duration": 16,
    "start_time": "2022-02-05T09:56:43.588Z"
   },
   {
    "duration": 10,
    "start_time": "2022-02-05T09:56:43.607Z"
   },
   {
    "duration": 57,
    "start_time": "2022-02-05T09:56:43.619Z"
   },
   {
    "duration": 5,
    "start_time": "2022-02-05T09:56:43.679Z"
   },
   {
    "duration": 5,
    "start_time": "2022-02-05T09:56:43.687Z"
   },
   {
    "duration": 22,
    "start_time": "2022-02-05T09:56:43.695Z"
   },
   {
    "duration": 724,
    "start_time": "2022-02-05T09:56:43.720Z"
   },
   {
    "duration": 25,
    "start_time": "2022-02-05T09:56:44.447Z"
   },
   {
    "duration": 32,
    "start_time": "2022-02-05T09:56:44.474Z"
   },
   {
    "duration": 698,
    "start_time": "2022-02-05T09:56:44.509Z"
   },
   {
    "duration": 575,
    "start_time": "2022-02-05T09:56:45.209Z"
   },
   {
    "duration": 10,
    "start_time": "2022-02-05T09:56:45.789Z"
   },
   {
    "duration": 501,
    "start_time": "2022-02-05T09:56:45.801Z"
   },
   {
    "duration": 8,
    "start_time": "2022-02-05T09:56:46.305Z"
   },
   {
    "duration": 243,
    "start_time": "2022-02-05T09:56:46.315Z"
   },
   {
    "duration": 411,
    "start_time": "2022-02-05T09:56:46.560Z"
   },
   {
    "duration": 12,
    "start_time": "2022-02-05T09:56:46.974Z"
   },
   {
    "duration": 488,
    "start_time": "2022-02-05T09:56:46.990Z"
   },
   {
    "duration": 11,
    "start_time": "2022-02-05T09:56:47.480Z"
   },
   {
    "duration": 250,
    "start_time": "2022-02-05T09:56:47.493Z"
   },
   {
    "duration": 633,
    "start_time": "2022-02-05T09:56:47.746Z"
   },
   {
    "duration": 12,
    "start_time": "2022-02-05T09:56:48.381Z"
   },
   {
    "duration": 517,
    "start_time": "2022-02-05T09:56:48.395Z"
   },
   {
    "duration": 13,
    "start_time": "2022-02-05T09:56:48.914Z"
   },
   {
    "duration": 526,
    "start_time": "2022-02-05T09:56:48.929Z"
   },
   {
    "duration": 615,
    "start_time": "2022-02-05T09:56:49.460Z"
   },
   {
    "duration": 587,
    "start_time": "2022-02-05T09:56:50.078Z"
   },
   {
    "duration": 448,
    "start_time": "2022-02-05T09:56:50.668Z"
   },
   {
    "duration": 63,
    "start_time": "2022-02-05T09:56:51.119Z"
   },
   {
    "duration": 7,
    "start_time": "2022-02-05T09:56:51.185Z"
   },
   {
    "duration": 10,
    "start_time": "2022-02-05T09:56:51.195Z"
   }
  ],
  "kernelspec": {
   "display_name": "Python 3 (ipykernel)",
   "language": "python",
   "name": "python3"
  },
  "language_info": {
   "codemirror_mode": {
    "name": "ipython",
    "version": 3
   },
   "file_extension": ".py",
   "mimetype": "text/x-python",
   "name": "python",
   "nbconvert_exporter": "python",
   "pygments_lexer": "ipython3",
   "version": "3.9.5"
  },
  "toc": {
   "base_numbering": 1,
   "nav_menu": {},
   "number_sections": false,
   "sideBar": true,
   "skip_h1_title": false,
   "title_cell": "Table of Contents",
   "title_sidebar": "Contents",
   "toc_cell": false,
   "toc_position": {
    "height": "calc(100% - 180px)",
    "left": "10px",
    "top": "150px",
    "width": "371.575px"
   },
   "toc_section_display": true,
   "toc_window_display": true
  }
 },
 "nbformat": 4,
 "nbformat_minor": 2
}
