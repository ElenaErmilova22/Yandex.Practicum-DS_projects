{
 "cells": [
  {
   "cell_type": "markdown",
   "metadata": {
    "toc": true
   },
   "source": [
    "<h1>Содержание<span class=\"tocSkip\"></span></h1>\n",
    "<div class=\"toc\"><ul class=\"toc-item\"><li><span><a href=\"#Аннотация:-Исследование-объявлений-о-продаже-квартир\" data-toc-modified-id=\"Аннотация:-Исследование-объявлений-о-продаже-квартир-1\"><span class=\"toc-item-num\">1&nbsp;&nbsp;</span>Аннотация: Исследование объявлений о продаже квартир</a></span></li><li><span><a href=\"#Знакомство-с-данными\" data-toc-modified-id=\"Знакомство-с-данными-2\"><span class=\"toc-item-num\">2&nbsp;&nbsp;</span>Знакомство с данными</a></span><ul class=\"toc-item\"><li><span><a href=\"#Вывод\" data-toc-modified-id=\"Вывод-2.1\"><span class=\"toc-item-num\">2.1&nbsp;&nbsp;</span>Вывод</a></span></li></ul></li><li><span><a href=\"#Предобработка-данных\" data-toc-modified-id=\"Предобработка-данных-3\"><span class=\"toc-item-num\">3&nbsp;&nbsp;</span>Предобработка данных</a></span><ul class=\"toc-item\"><li><span><a href=\"#Корректировка-названий-и-порядка-столбцов\" data-toc-modified-id=\"Корректировка-названий-и-порядка-столбцов-3.1\"><span class=\"toc-item-num\">3.1&nbsp;&nbsp;</span>Корректировка названий и порядка столбцов</a></span></li><li><span><a href=\"#Работа-с-пропусками\" data-toc-modified-id=\"Работа-с-пропусками-3.2\"><span class=\"toc-item-num\">3.2&nbsp;&nbsp;</span>Работа с пропусками</a></span></li><li><span><a href=\"#Замена-типов-данных\" data-toc-modified-id=\"Замена-типов-данных-3.3\"><span class=\"toc-item-num\">3.3&nbsp;&nbsp;</span>Замена типов данных</a></span></li><li><span><a href=\"#Вывод\" data-toc-modified-id=\"Вывод-3.4\"><span class=\"toc-item-num\">3.4&nbsp;&nbsp;</span>Вывод</a></span></li></ul></li><li><span><a href=\"#Расчёты-и-добавление-результатов-в-таблицу\" data-toc-modified-id=\"Расчёты-и-добавление-результатов-в-таблицу-4\"><span class=\"toc-item-num\">4&nbsp;&nbsp;</span>Расчёты и добавление результатов в таблицу</a></span></li><li><span><a href=\"#Исследовательский-анализ-данных\" data-toc-modified-id=\"Исследовательский-анализ-данных-5\"><span class=\"toc-item-num\">5&nbsp;&nbsp;</span>Исследовательский анализ данных</a></span><ul class=\"toc-item\"><li><span><a href=\"#Изучение-параметров:-площадь,-цена,-число-комнат,-высота-потолков.\" data-toc-modified-id=\"Изучение-параметров:-площадь,-цена,-число-комнат,-высота-потолков.-5.1\"><span class=\"toc-item-num\">5.1&nbsp;&nbsp;</span>Изучение параметров: площадь, цена, число комнат, высота потолков.</a></span></li><li><span><a href=\"#Изучение-времени-продажи-объектов-недвижимости\" data-toc-modified-id=\"Изучение-времени-продажи-объектов-недвижимости-5.2\"><span class=\"toc-item-num\">5.2&nbsp;&nbsp;</span>Изучение времени продажи объектов недвижимости</a></span></li><li><span><a href=\"#Исследование-влияния-различных-факторов-на-стоимость-объекта-недвижимости\" data-toc-modified-id=\"Исследование-влияния-различных-факторов-на-стоимость-объекта-недвижимости-5.3\"><span class=\"toc-item-num\">5.3&nbsp;&nbsp;</span>Исследование влияния различных факторов на стоимость объекта недвижимости</a></span></li><li><span><a href=\"#Исследование-10-и-населённых-пунктов-с-наибольшим-числом-объявлений\" data-toc-modified-id=\"Исследование-10-и-населённых-пунктов-с-наибольшим-числом-объявлений-5.4\"><span class=\"toc-item-num\">5.4&nbsp;&nbsp;</span>Исследование 10-и населённых пунктов с наибольшим числом объявлений</a></span></li><li><span><a href=\"#Исследование-квартир-в-центральной-зоне-Санкт-Петербурга\" data-toc-modified-id=\"Исследование-квартир-в-центральной-зоне-Санкт-Петербурга-5.5\"><span class=\"toc-item-num\">5.5&nbsp;&nbsp;</span>Исследование квартир в центральной зоне Санкт-Петербурга</a></span></li></ul></li><li><span><a href=\"#Итоговые-выводы\" data-toc-modified-id=\"Итоговые-выводы-6\"><span class=\"toc-item-num\">6&nbsp;&nbsp;</span>Итоговые выводы</a></span></li><li><span><a href=\"#Чек-лист-готовности-проекта\" data-toc-modified-id=\"Чек-лист-готовности-проекта-7\"><span class=\"toc-item-num\">7&nbsp;&nbsp;</span>Чек-лист готовности проекта</a></span></li></ul></div>"
   ]
  },
  {
   "cell_type": "markdown",
   "metadata": {},
   "source": [
    "## Аннотация: Исследование объявлений о продаже квартир\n",
    "\n",
    "На основе данных сервиса Яндекс.Недвижимость — архива объявлений о продаже квартир в Санкт-Петербурге и соседних населённых пунктах за несколько лет - нужно провести исследовательский анализ данных. По каждой квартире на продажу доступны два вида данных. Первые вписаны пользователем, вторые получены автоматически на основе картографических данных. Например, расстояние до центра, аэропорта, ближайшего парка и водоёма. \n",
    "\n",
    "**Цель исследования:** построение автоматизированной системы, отслеживающей аномалии и мошенническую деятельность. \\\n",
    "**Задача исследования:** определение параметров, формирующих рыночную стоимость объектов недвижимости."
   ]
  },
  {
   "cell_type": "markdown",
   "metadata": {},
   "source": [
    "## Знакомство с данными"
   ]
  },
  {
   "cell_type": "code",
   "execution_count": 1,
   "metadata": {},
   "outputs": [],
   "source": [
    "#импортируем библиотеки, которые понадобятся нам в исследовании\n",
    "import pandas as pd\n",
    "import matplotlib.pyplot as plt\n",
    "import seaborn as sns"
   ]
  },
  {
   "cell_type": "code",
   "execution_count": 2,
   "metadata": {},
   "outputs": [
    {
     "name": "stdout",
     "output_type": "stream",
     "text": [
      "<class 'pandas.core.frame.DataFrame'>\n",
      "RangeIndex: 23699 entries, 0 to 23698\n",
      "Data columns (total 22 columns):\n",
      " #   Column                Non-Null Count  Dtype  \n",
      "---  ------                --------------  -----  \n",
      " 0   total_images          23699 non-null  int64  \n",
      " 1   last_price            23699 non-null  float64\n",
      " 2   total_area            23699 non-null  float64\n",
      " 3   first_day_exposition  23699 non-null  object \n",
      " 4   rooms                 23699 non-null  int64  \n",
      " 5   ceiling_height        14504 non-null  float64\n",
      " 6   floors_total          23613 non-null  float64\n",
      " 7   living_area           21796 non-null  float64\n",
      " 8   floor                 23699 non-null  int64  \n",
      " 9   is_apartment          2775 non-null   object \n",
      " 10  studio                23699 non-null  bool   \n",
      " 11  open_plan             23699 non-null  bool   \n",
      " 12  kitchen_area          21421 non-null  float64\n",
      " 13  balcony               12180 non-null  float64\n",
      " 14  locality_name         23650 non-null  object \n",
      " 15  airports_nearest      18157 non-null  float64\n",
      " 16  cityCenters_nearest   18180 non-null  float64\n",
      " 17  parks_around3000      18181 non-null  float64\n",
      " 18  parks_nearest         8079 non-null   float64\n",
      " 19  ponds_around3000      18181 non-null  float64\n",
      " 20  ponds_nearest         9110 non-null   float64\n",
      " 21  days_exposition       20518 non-null  float64\n",
      "dtypes: bool(2), float64(14), int64(3), object(3)\n",
      "memory usage: 3.7+ MB\n"
     ]
    }
   ],
   "source": [
    "initial_data = pd.read_csv('/datasets/real_estate_data.csv', sep='\\t') #применяем специальный метод для чтения файла\n",
    "                                                                       #формата csv, учитывая разделитель\n",
    "initial_data.info() #запрашиваем и выводим общую информацию об исходном датафрейме"
   ]
  },
  {
   "cell_type": "code",
   "execution_count": 3,
   "metadata": {},
   "outputs": [
    {
     "data": {
      "text/html": [
       "<div>\n",
       "<style scoped>\n",
       "    .dataframe tbody tr th:only-of-type {\n",
       "        vertical-align: middle;\n",
       "    }\n",
       "\n",
       "    .dataframe tbody tr th {\n",
       "        vertical-align: top;\n",
       "    }\n",
       "\n",
       "    .dataframe thead th {\n",
       "        text-align: right;\n",
       "    }\n",
       "</style>\n",
       "<table border=\"1\" class=\"dataframe\">\n",
       "  <thead>\n",
       "    <tr style=\"text-align: right;\">\n",
       "      <th></th>\n",
       "      <th>total_images</th>\n",
       "      <th>last_price</th>\n",
       "      <th>total_area</th>\n",
       "      <th>first_day_exposition</th>\n",
       "      <th>rooms</th>\n",
       "      <th>ceiling_height</th>\n",
       "      <th>floors_total</th>\n",
       "      <th>living_area</th>\n",
       "      <th>floor</th>\n",
       "      <th>is_apartment</th>\n",
       "      <th>...</th>\n",
       "      <th>kitchen_area</th>\n",
       "      <th>balcony</th>\n",
       "      <th>locality_name</th>\n",
       "      <th>airports_nearest</th>\n",
       "      <th>cityCenters_nearest</th>\n",
       "      <th>parks_around3000</th>\n",
       "      <th>parks_nearest</th>\n",
       "      <th>ponds_around3000</th>\n",
       "      <th>ponds_nearest</th>\n",
       "      <th>days_exposition</th>\n",
       "    </tr>\n",
       "  </thead>\n",
       "  <tbody>\n",
       "    <tr>\n",
       "      <th>0</th>\n",
       "      <td>20</td>\n",
       "      <td>13000000.0</td>\n",
       "      <td>108.00</td>\n",
       "      <td>2019-03-07T00:00:00</td>\n",
       "      <td>3</td>\n",
       "      <td>2.70</td>\n",
       "      <td>16.0</td>\n",
       "      <td>51.00</td>\n",
       "      <td>8</td>\n",
       "      <td>NaN</td>\n",
       "      <td>...</td>\n",
       "      <td>25.00</td>\n",
       "      <td>NaN</td>\n",
       "      <td>Санкт-Петербург</td>\n",
       "      <td>18863.0</td>\n",
       "      <td>16028.0</td>\n",
       "      <td>1.0</td>\n",
       "      <td>482.0</td>\n",
       "      <td>2.0</td>\n",
       "      <td>755.0</td>\n",
       "      <td>NaN</td>\n",
       "    </tr>\n",
       "    <tr>\n",
       "      <th>1</th>\n",
       "      <td>7</td>\n",
       "      <td>3350000.0</td>\n",
       "      <td>40.40</td>\n",
       "      <td>2018-12-04T00:00:00</td>\n",
       "      <td>1</td>\n",
       "      <td>NaN</td>\n",
       "      <td>11.0</td>\n",
       "      <td>18.60</td>\n",
       "      <td>1</td>\n",
       "      <td>NaN</td>\n",
       "      <td>...</td>\n",
       "      <td>11.00</td>\n",
       "      <td>2.0</td>\n",
       "      <td>посёлок Шушары</td>\n",
       "      <td>12817.0</td>\n",
       "      <td>18603.0</td>\n",
       "      <td>0.0</td>\n",
       "      <td>NaN</td>\n",
       "      <td>0.0</td>\n",
       "      <td>NaN</td>\n",
       "      <td>81.0</td>\n",
       "    </tr>\n",
       "    <tr>\n",
       "      <th>2</th>\n",
       "      <td>10</td>\n",
       "      <td>5196000.0</td>\n",
       "      <td>56.00</td>\n",
       "      <td>2015-08-20T00:00:00</td>\n",
       "      <td>2</td>\n",
       "      <td>NaN</td>\n",
       "      <td>5.0</td>\n",
       "      <td>34.30</td>\n",
       "      <td>4</td>\n",
       "      <td>NaN</td>\n",
       "      <td>...</td>\n",
       "      <td>8.30</td>\n",
       "      <td>0.0</td>\n",
       "      <td>Санкт-Петербург</td>\n",
       "      <td>21741.0</td>\n",
       "      <td>13933.0</td>\n",
       "      <td>1.0</td>\n",
       "      <td>90.0</td>\n",
       "      <td>2.0</td>\n",
       "      <td>574.0</td>\n",
       "      <td>558.0</td>\n",
       "    </tr>\n",
       "    <tr>\n",
       "      <th>3</th>\n",
       "      <td>0</td>\n",
       "      <td>64900000.0</td>\n",
       "      <td>159.00</td>\n",
       "      <td>2015-07-24T00:00:00</td>\n",
       "      <td>3</td>\n",
       "      <td>NaN</td>\n",
       "      <td>14.0</td>\n",
       "      <td>NaN</td>\n",
       "      <td>9</td>\n",
       "      <td>NaN</td>\n",
       "      <td>...</td>\n",
       "      <td>NaN</td>\n",
       "      <td>0.0</td>\n",
       "      <td>Санкт-Петербург</td>\n",
       "      <td>28098.0</td>\n",
       "      <td>6800.0</td>\n",
       "      <td>2.0</td>\n",
       "      <td>84.0</td>\n",
       "      <td>3.0</td>\n",
       "      <td>234.0</td>\n",
       "      <td>424.0</td>\n",
       "    </tr>\n",
       "    <tr>\n",
       "      <th>4</th>\n",
       "      <td>2</td>\n",
       "      <td>10000000.0</td>\n",
       "      <td>100.00</td>\n",
       "      <td>2018-06-19T00:00:00</td>\n",
       "      <td>2</td>\n",
       "      <td>3.03</td>\n",
       "      <td>14.0</td>\n",
       "      <td>32.00</td>\n",
       "      <td>13</td>\n",
       "      <td>NaN</td>\n",
       "      <td>...</td>\n",
       "      <td>41.00</td>\n",
       "      <td>NaN</td>\n",
       "      <td>Санкт-Петербург</td>\n",
       "      <td>31856.0</td>\n",
       "      <td>8098.0</td>\n",
       "      <td>2.0</td>\n",
       "      <td>112.0</td>\n",
       "      <td>1.0</td>\n",
       "      <td>48.0</td>\n",
       "      <td>121.0</td>\n",
       "    </tr>\n",
       "    <tr>\n",
       "      <th>5</th>\n",
       "      <td>10</td>\n",
       "      <td>2890000.0</td>\n",
       "      <td>30.40</td>\n",
       "      <td>2018-09-10T00:00:00</td>\n",
       "      <td>1</td>\n",
       "      <td>NaN</td>\n",
       "      <td>12.0</td>\n",
       "      <td>14.40</td>\n",
       "      <td>5</td>\n",
       "      <td>NaN</td>\n",
       "      <td>...</td>\n",
       "      <td>9.10</td>\n",
       "      <td>NaN</td>\n",
       "      <td>городской посёлок Янино-1</td>\n",
       "      <td>NaN</td>\n",
       "      <td>NaN</td>\n",
       "      <td>NaN</td>\n",
       "      <td>NaN</td>\n",
       "      <td>NaN</td>\n",
       "      <td>NaN</td>\n",
       "      <td>55.0</td>\n",
       "    </tr>\n",
       "    <tr>\n",
       "      <th>6</th>\n",
       "      <td>6</td>\n",
       "      <td>3700000.0</td>\n",
       "      <td>37.30</td>\n",
       "      <td>2017-11-02T00:00:00</td>\n",
       "      <td>1</td>\n",
       "      <td>NaN</td>\n",
       "      <td>26.0</td>\n",
       "      <td>10.60</td>\n",
       "      <td>6</td>\n",
       "      <td>NaN</td>\n",
       "      <td>...</td>\n",
       "      <td>14.40</td>\n",
       "      <td>1.0</td>\n",
       "      <td>посёлок Парголово</td>\n",
       "      <td>52996.0</td>\n",
       "      <td>19143.0</td>\n",
       "      <td>0.0</td>\n",
       "      <td>NaN</td>\n",
       "      <td>0.0</td>\n",
       "      <td>NaN</td>\n",
       "      <td>155.0</td>\n",
       "    </tr>\n",
       "    <tr>\n",
       "      <th>7</th>\n",
       "      <td>5</td>\n",
       "      <td>7915000.0</td>\n",
       "      <td>71.60</td>\n",
       "      <td>2019-04-18T00:00:00</td>\n",
       "      <td>2</td>\n",
       "      <td>NaN</td>\n",
       "      <td>24.0</td>\n",
       "      <td>NaN</td>\n",
       "      <td>22</td>\n",
       "      <td>NaN</td>\n",
       "      <td>...</td>\n",
       "      <td>18.90</td>\n",
       "      <td>2.0</td>\n",
       "      <td>Санкт-Петербург</td>\n",
       "      <td>23982.0</td>\n",
       "      <td>11634.0</td>\n",
       "      <td>0.0</td>\n",
       "      <td>NaN</td>\n",
       "      <td>0.0</td>\n",
       "      <td>NaN</td>\n",
       "      <td>NaN</td>\n",
       "    </tr>\n",
       "    <tr>\n",
       "      <th>8</th>\n",
       "      <td>20</td>\n",
       "      <td>2900000.0</td>\n",
       "      <td>33.16</td>\n",
       "      <td>2018-05-23T00:00:00</td>\n",
       "      <td>1</td>\n",
       "      <td>NaN</td>\n",
       "      <td>27.0</td>\n",
       "      <td>15.43</td>\n",
       "      <td>26</td>\n",
       "      <td>NaN</td>\n",
       "      <td>...</td>\n",
       "      <td>8.81</td>\n",
       "      <td>NaN</td>\n",
       "      <td>посёлок Мурино</td>\n",
       "      <td>NaN</td>\n",
       "      <td>NaN</td>\n",
       "      <td>NaN</td>\n",
       "      <td>NaN</td>\n",
       "      <td>NaN</td>\n",
       "      <td>NaN</td>\n",
       "      <td>189.0</td>\n",
       "    </tr>\n",
       "    <tr>\n",
       "      <th>9</th>\n",
       "      <td>18</td>\n",
       "      <td>5400000.0</td>\n",
       "      <td>61.00</td>\n",
       "      <td>2017-02-26T00:00:00</td>\n",
       "      <td>3</td>\n",
       "      <td>2.50</td>\n",
       "      <td>9.0</td>\n",
       "      <td>43.60</td>\n",
       "      <td>7</td>\n",
       "      <td>NaN</td>\n",
       "      <td>...</td>\n",
       "      <td>6.50</td>\n",
       "      <td>2.0</td>\n",
       "      <td>Санкт-Петербург</td>\n",
       "      <td>50898.0</td>\n",
       "      <td>15008.0</td>\n",
       "      <td>0.0</td>\n",
       "      <td>NaN</td>\n",
       "      <td>0.0</td>\n",
       "      <td>NaN</td>\n",
       "      <td>289.0</td>\n",
       "    </tr>\n",
       "  </tbody>\n",
       "</table>\n",
       "<p>10 rows × 22 columns</p>\n",
       "</div>"
      ],
      "text/plain": [
       "   total_images  last_price  total_area first_day_exposition  rooms  \\\n",
       "0            20  13000000.0      108.00  2019-03-07T00:00:00      3   \n",
       "1             7   3350000.0       40.40  2018-12-04T00:00:00      1   \n",
       "2            10   5196000.0       56.00  2015-08-20T00:00:00      2   \n",
       "3             0  64900000.0      159.00  2015-07-24T00:00:00      3   \n",
       "4             2  10000000.0      100.00  2018-06-19T00:00:00      2   \n",
       "5            10   2890000.0       30.40  2018-09-10T00:00:00      1   \n",
       "6             6   3700000.0       37.30  2017-11-02T00:00:00      1   \n",
       "7             5   7915000.0       71.60  2019-04-18T00:00:00      2   \n",
       "8            20   2900000.0       33.16  2018-05-23T00:00:00      1   \n",
       "9            18   5400000.0       61.00  2017-02-26T00:00:00      3   \n",
       "\n",
       "   ceiling_height  floors_total  living_area  floor is_apartment  ...  \\\n",
       "0            2.70          16.0        51.00      8          NaN  ...   \n",
       "1             NaN          11.0        18.60      1          NaN  ...   \n",
       "2             NaN           5.0        34.30      4          NaN  ...   \n",
       "3             NaN          14.0          NaN      9          NaN  ...   \n",
       "4            3.03          14.0        32.00     13          NaN  ...   \n",
       "5             NaN          12.0        14.40      5          NaN  ...   \n",
       "6             NaN          26.0        10.60      6          NaN  ...   \n",
       "7             NaN          24.0          NaN     22          NaN  ...   \n",
       "8             NaN          27.0        15.43     26          NaN  ...   \n",
       "9            2.50           9.0        43.60      7          NaN  ...   \n",
       "\n",
       "   kitchen_area  balcony              locality_name  airports_nearest  \\\n",
       "0         25.00      NaN            Санкт-Петербург           18863.0   \n",
       "1         11.00      2.0             посёлок Шушары           12817.0   \n",
       "2          8.30      0.0            Санкт-Петербург           21741.0   \n",
       "3           NaN      0.0            Санкт-Петербург           28098.0   \n",
       "4         41.00      NaN            Санкт-Петербург           31856.0   \n",
       "5          9.10      NaN  городской посёлок Янино-1               NaN   \n",
       "6         14.40      1.0          посёлок Парголово           52996.0   \n",
       "7         18.90      2.0            Санкт-Петербург           23982.0   \n",
       "8          8.81      NaN             посёлок Мурино               NaN   \n",
       "9          6.50      2.0            Санкт-Петербург           50898.0   \n",
       "\n",
       "  cityCenters_nearest  parks_around3000  parks_nearest  ponds_around3000  \\\n",
       "0             16028.0               1.0          482.0               2.0   \n",
       "1             18603.0               0.0            NaN               0.0   \n",
       "2             13933.0               1.0           90.0               2.0   \n",
       "3              6800.0               2.0           84.0               3.0   \n",
       "4              8098.0               2.0          112.0               1.0   \n",
       "5                 NaN               NaN            NaN               NaN   \n",
       "6             19143.0               0.0            NaN               0.0   \n",
       "7             11634.0               0.0            NaN               0.0   \n",
       "8                 NaN               NaN            NaN               NaN   \n",
       "9             15008.0               0.0            NaN               0.0   \n",
       "\n",
       "   ponds_nearest  days_exposition  \n",
       "0          755.0              NaN  \n",
       "1            NaN             81.0  \n",
       "2          574.0            558.0  \n",
       "3          234.0            424.0  \n",
       "4           48.0            121.0  \n",
       "5            NaN             55.0  \n",
       "6            NaN            155.0  \n",
       "7            NaN              NaN  \n",
       "8            NaN            189.0  \n",
       "9            NaN            289.0  \n",
       "\n",
       "[10 rows x 22 columns]"
      ]
     },
     "metadata": {},
     "output_type": "display_data"
    }
   ],
   "source": [
    "#произведем обзор полученных данных, вызвав 10 верхних и нижних строк датафрейма\n",
    "display(initial_data.head(10))"
   ]
  },
  {
   "cell_type": "code",
   "execution_count": 4,
   "metadata": {},
   "outputs": [
    {
     "data": {
      "text/html": [
       "<div>\n",
       "<style scoped>\n",
       "    .dataframe tbody tr th:only-of-type {\n",
       "        vertical-align: middle;\n",
       "    }\n",
       "\n",
       "    .dataframe tbody tr th {\n",
       "        vertical-align: top;\n",
       "    }\n",
       "\n",
       "    .dataframe thead th {\n",
       "        text-align: right;\n",
       "    }\n",
       "</style>\n",
       "<table border=\"1\" class=\"dataframe\">\n",
       "  <thead>\n",
       "    <tr style=\"text-align: right;\">\n",
       "      <th></th>\n",
       "      <th>total_images</th>\n",
       "      <th>last_price</th>\n",
       "      <th>total_area</th>\n",
       "      <th>first_day_exposition</th>\n",
       "      <th>rooms</th>\n",
       "      <th>ceiling_height</th>\n",
       "      <th>floors_total</th>\n",
       "      <th>living_area</th>\n",
       "      <th>floor</th>\n",
       "      <th>is_apartment</th>\n",
       "      <th>...</th>\n",
       "      <th>kitchen_area</th>\n",
       "      <th>balcony</th>\n",
       "      <th>locality_name</th>\n",
       "      <th>airports_nearest</th>\n",
       "      <th>cityCenters_nearest</th>\n",
       "      <th>parks_around3000</th>\n",
       "      <th>parks_nearest</th>\n",
       "      <th>ponds_around3000</th>\n",
       "      <th>ponds_nearest</th>\n",
       "      <th>days_exposition</th>\n",
       "    </tr>\n",
       "  </thead>\n",
       "  <tbody>\n",
       "    <tr>\n",
       "      <th>23689</th>\n",
       "      <td>13</td>\n",
       "      <td>3550000.0</td>\n",
       "      <td>35.30</td>\n",
       "      <td>2018-02-28T00:00:00</td>\n",
       "      <td>1</td>\n",
       "      <td>2.86</td>\n",
       "      <td>15.0</td>\n",
       "      <td>16.3</td>\n",
       "      <td>4</td>\n",
       "      <td>NaN</td>\n",
       "      <td>...</td>\n",
       "      <td>9.10</td>\n",
       "      <td>2.0</td>\n",
       "      <td>Санкт-Петербург</td>\n",
       "      <td>17284.0</td>\n",
       "      <td>16081.0</td>\n",
       "      <td>1.0</td>\n",
       "      <td>353.0</td>\n",
       "      <td>2.0</td>\n",
       "      <td>652.0</td>\n",
       "      <td>29.0</td>\n",
       "    </tr>\n",
       "    <tr>\n",
       "      <th>23690</th>\n",
       "      <td>3</td>\n",
       "      <td>5500000.0</td>\n",
       "      <td>52.00</td>\n",
       "      <td>2018-07-19T00:00:00</td>\n",
       "      <td>2</td>\n",
       "      <td>NaN</td>\n",
       "      <td>5.0</td>\n",
       "      <td>31.0</td>\n",
       "      <td>2</td>\n",
       "      <td>NaN</td>\n",
       "      <td>...</td>\n",
       "      <td>6.00</td>\n",
       "      <td>NaN</td>\n",
       "      <td>Санкт-Петербург</td>\n",
       "      <td>20151.0</td>\n",
       "      <td>6263.0</td>\n",
       "      <td>1.0</td>\n",
       "      <td>300.0</td>\n",
       "      <td>0.0</td>\n",
       "      <td>NaN</td>\n",
       "      <td>15.0</td>\n",
       "    </tr>\n",
       "    <tr>\n",
       "      <th>23691</th>\n",
       "      <td>11</td>\n",
       "      <td>9470000.0</td>\n",
       "      <td>72.90</td>\n",
       "      <td>2016-10-13T00:00:00</td>\n",
       "      <td>2</td>\n",
       "      <td>2.75</td>\n",
       "      <td>25.0</td>\n",
       "      <td>40.3</td>\n",
       "      <td>7</td>\n",
       "      <td>NaN</td>\n",
       "      <td>...</td>\n",
       "      <td>10.60</td>\n",
       "      <td>1.0</td>\n",
       "      <td>Санкт-Петербург</td>\n",
       "      <td>19424.0</td>\n",
       "      <td>4489.0</td>\n",
       "      <td>0.0</td>\n",
       "      <td>NaN</td>\n",
       "      <td>1.0</td>\n",
       "      <td>806.0</td>\n",
       "      <td>519.0</td>\n",
       "    </tr>\n",
       "    <tr>\n",
       "      <th>23692</th>\n",
       "      <td>2</td>\n",
       "      <td>1350000.0</td>\n",
       "      <td>30.00</td>\n",
       "      <td>2017-07-07T00:00:00</td>\n",
       "      <td>1</td>\n",
       "      <td>NaN</td>\n",
       "      <td>5.0</td>\n",
       "      <td>17.5</td>\n",
       "      <td>4</td>\n",
       "      <td>NaN</td>\n",
       "      <td>...</td>\n",
       "      <td>6.00</td>\n",
       "      <td>NaN</td>\n",
       "      <td>Тихвин</td>\n",
       "      <td>NaN</td>\n",
       "      <td>NaN</td>\n",
       "      <td>NaN</td>\n",
       "      <td>NaN</td>\n",
       "      <td>NaN</td>\n",
       "      <td>NaN</td>\n",
       "      <td>413.0</td>\n",
       "    </tr>\n",
       "    <tr>\n",
       "      <th>23693</th>\n",
       "      <td>9</td>\n",
       "      <td>4600000.0</td>\n",
       "      <td>62.40</td>\n",
       "      <td>2016-08-05T00:00:00</td>\n",
       "      <td>3</td>\n",
       "      <td>2.60</td>\n",
       "      <td>9.0</td>\n",
       "      <td>40.0</td>\n",
       "      <td>8</td>\n",
       "      <td>NaN</td>\n",
       "      <td>...</td>\n",
       "      <td>8.00</td>\n",
       "      <td>0.0</td>\n",
       "      <td>Петергоф</td>\n",
       "      <td>45602.0</td>\n",
       "      <td>34104.0</td>\n",
       "      <td>1.0</td>\n",
       "      <td>352.0</td>\n",
       "      <td>1.0</td>\n",
       "      <td>675.0</td>\n",
       "      <td>239.0</td>\n",
       "    </tr>\n",
       "    <tr>\n",
       "      <th>23694</th>\n",
       "      <td>9</td>\n",
       "      <td>9700000.0</td>\n",
       "      <td>133.81</td>\n",
       "      <td>2017-03-21T00:00:00</td>\n",
       "      <td>3</td>\n",
       "      <td>3.70</td>\n",
       "      <td>5.0</td>\n",
       "      <td>73.3</td>\n",
       "      <td>3</td>\n",
       "      <td>NaN</td>\n",
       "      <td>...</td>\n",
       "      <td>13.83</td>\n",
       "      <td>NaN</td>\n",
       "      <td>Санкт-Петербург</td>\n",
       "      <td>24665.0</td>\n",
       "      <td>4232.0</td>\n",
       "      <td>1.0</td>\n",
       "      <td>796.0</td>\n",
       "      <td>3.0</td>\n",
       "      <td>381.0</td>\n",
       "      <td>NaN</td>\n",
       "    </tr>\n",
       "    <tr>\n",
       "      <th>23695</th>\n",
       "      <td>14</td>\n",
       "      <td>3100000.0</td>\n",
       "      <td>59.00</td>\n",
       "      <td>2018-01-15T00:00:00</td>\n",
       "      <td>3</td>\n",
       "      <td>NaN</td>\n",
       "      <td>5.0</td>\n",
       "      <td>38.0</td>\n",
       "      <td>4</td>\n",
       "      <td>NaN</td>\n",
       "      <td>...</td>\n",
       "      <td>8.50</td>\n",
       "      <td>NaN</td>\n",
       "      <td>Тосно</td>\n",
       "      <td>NaN</td>\n",
       "      <td>NaN</td>\n",
       "      <td>NaN</td>\n",
       "      <td>NaN</td>\n",
       "      <td>NaN</td>\n",
       "      <td>NaN</td>\n",
       "      <td>45.0</td>\n",
       "    </tr>\n",
       "    <tr>\n",
       "      <th>23696</th>\n",
       "      <td>18</td>\n",
       "      <td>2500000.0</td>\n",
       "      <td>56.70</td>\n",
       "      <td>2018-02-11T00:00:00</td>\n",
       "      <td>2</td>\n",
       "      <td>NaN</td>\n",
       "      <td>3.0</td>\n",
       "      <td>29.7</td>\n",
       "      <td>1</td>\n",
       "      <td>NaN</td>\n",
       "      <td>...</td>\n",
       "      <td>NaN</td>\n",
       "      <td>NaN</td>\n",
       "      <td>село Рождествено</td>\n",
       "      <td>NaN</td>\n",
       "      <td>NaN</td>\n",
       "      <td>NaN</td>\n",
       "      <td>NaN</td>\n",
       "      <td>NaN</td>\n",
       "      <td>NaN</td>\n",
       "      <td>NaN</td>\n",
       "    </tr>\n",
       "    <tr>\n",
       "      <th>23697</th>\n",
       "      <td>13</td>\n",
       "      <td>11475000.0</td>\n",
       "      <td>76.75</td>\n",
       "      <td>2017-03-28T00:00:00</td>\n",
       "      <td>2</td>\n",
       "      <td>3.00</td>\n",
       "      <td>17.0</td>\n",
       "      <td>NaN</td>\n",
       "      <td>12</td>\n",
       "      <td>NaN</td>\n",
       "      <td>...</td>\n",
       "      <td>23.30</td>\n",
       "      <td>2.0</td>\n",
       "      <td>Санкт-Петербург</td>\n",
       "      <td>39140.0</td>\n",
       "      <td>10364.0</td>\n",
       "      <td>2.0</td>\n",
       "      <td>173.0</td>\n",
       "      <td>3.0</td>\n",
       "      <td>196.0</td>\n",
       "      <td>602.0</td>\n",
       "    </tr>\n",
       "    <tr>\n",
       "      <th>23698</th>\n",
       "      <td>4</td>\n",
       "      <td>1350000.0</td>\n",
       "      <td>32.30</td>\n",
       "      <td>2017-07-21T00:00:00</td>\n",
       "      <td>1</td>\n",
       "      <td>2.50</td>\n",
       "      <td>5.0</td>\n",
       "      <td>12.3</td>\n",
       "      <td>1</td>\n",
       "      <td>NaN</td>\n",
       "      <td>...</td>\n",
       "      <td>9.00</td>\n",
       "      <td>NaN</td>\n",
       "      <td>поселок Новый Учхоз</td>\n",
       "      <td>NaN</td>\n",
       "      <td>NaN</td>\n",
       "      <td>NaN</td>\n",
       "      <td>NaN</td>\n",
       "      <td>NaN</td>\n",
       "      <td>NaN</td>\n",
       "      <td>NaN</td>\n",
       "    </tr>\n",
       "  </tbody>\n",
       "</table>\n",
       "<p>10 rows × 22 columns</p>\n",
       "</div>"
      ],
      "text/plain": [
       "       total_images  last_price  total_area first_day_exposition  rooms  \\\n",
       "23689            13   3550000.0       35.30  2018-02-28T00:00:00      1   \n",
       "23690             3   5500000.0       52.00  2018-07-19T00:00:00      2   \n",
       "23691            11   9470000.0       72.90  2016-10-13T00:00:00      2   \n",
       "23692             2   1350000.0       30.00  2017-07-07T00:00:00      1   \n",
       "23693             9   4600000.0       62.40  2016-08-05T00:00:00      3   \n",
       "23694             9   9700000.0      133.81  2017-03-21T00:00:00      3   \n",
       "23695            14   3100000.0       59.00  2018-01-15T00:00:00      3   \n",
       "23696            18   2500000.0       56.70  2018-02-11T00:00:00      2   \n",
       "23697            13  11475000.0       76.75  2017-03-28T00:00:00      2   \n",
       "23698             4   1350000.0       32.30  2017-07-21T00:00:00      1   \n",
       "\n",
       "       ceiling_height  floors_total  living_area  floor is_apartment  ...  \\\n",
       "23689            2.86          15.0         16.3      4          NaN  ...   \n",
       "23690             NaN           5.0         31.0      2          NaN  ...   \n",
       "23691            2.75          25.0         40.3      7          NaN  ...   \n",
       "23692             NaN           5.0         17.5      4          NaN  ...   \n",
       "23693            2.60           9.0         40.0      8          NaN  ...   \n",
       "23694            3.70           5.0         73.3      3          NaN  ...   \n",
       "23695             NaN           5.0         38.0      4          NaN  ...   \n",
       "23696             NaN           3.0         29.7      1          NaN  ...   \n",
       "23697            3.00          17.0          NaN     12          NaN  ...   \n",
       "23698            2.50           5.0         12.3      1          NaN  ...   \n",
       "\n",
       "       kitchen_area  balcony        locality_name  airports_nearest  \\\n",
       "23689          9.10      2.0      Санкт-Петербург           17284.0   \n",
       "23690          6.00      NaN      Санкт-Петербург           20151.0   \n",
       "23691         10.60      1.0      Санкт-Петербург           19424.0   \n",
       "23692          6.00      NaN               Тихвин               NaN   \n",
       "23693          8.00      0.0             Петергоф           45602.0   \n",
       "23694         13.83      NaN      Санкт-Петербург           24665.0   \n",
       "23695          8.50      NaN                Тосно               NaN   \n",
       "23696           NaN      NaN     село Рождествено               NaN   \n",
       "23697         23.30      2.0      Санкт-Петербург           39140.0   \n",
       "23698          9.00      NaN  поселок Новый Учхоз               NaN   \n",
       "\n",
       "      cityCenters_nearest  parks_around3000  parks_nearest  ponds_around3000  \\\n",
       "23689             16081.0               1.0          353.0               2.0   \n",
       "23690              6263.0               1.0          300.0               0.0   \n",
       "23691              4489.0               0.0            NaN               1.0   \n",
       "23692                 NaN               NaN            NaN               NaN   \n",
       "23693             34104.0               1.0          352.0               1.0   \n",
       "23694              4232.0               1.0          796.0               3.0   \n",
       "23695                 NaN               NaN            NaN               NaN   \n",
       "23696                 NaN               NaN            NaN               NaN   \n",
       "23697             10364.0               2.0          173.0               3.0   \n",
       "23698                 NaN               NaN            NaN               NaN   \n",
       "\n",
       "       ponds_nearest  days_exposition  \n",
       "23689          652.0             29.0  \n",
       "23690            NaN             15.0  \n",
       "23691          806.0            519.0  \n",
       "23692            NaN            413.0  \n",
       "23693          675.0            239.0  \n",
       "23694          381.0              NaN  \n",
       "23695            NaN             45.0  \n",
       "23696            NaN              NaN  \n",
       "23697          196.0            602.0  \n",
       "23698            NaN              NaN  \n",
       "\n",
       "[10 rows x 22 columns]"
      ]
     },
     "metadata": {},
     "output_type": "display_data"
    }
   ],
   "source": [
    "display(initial_data.tail(10))"
   ]
  },
  {
   "cell_type": "code",
   "execution_count": 5,
   "metadata": {},
   "outputs": [
    {
     "data": {
      "text/html": [
       "<div>\n",
       "<style scoped>\n",
       "    .dataframe tbody tr th:only-of-type {\n",
       "        vertical-align: middle;\n",
       "    }\n",
       "\n",
       "    .dataframe tbody tr th {\n",
       "        vertical-align: top;\n",
       "    }\n",
       "\n",
       "    .dataframe thead th {\n",
       "        text-align: right;\n",
       "    }\n",
       "</style>\n",
       "<table border=\"1\" class=\"dataframe\">\n",
       "  <thead>\n",
       "    <tr style=\"text-align: right;\">\n",
       "      <th></th>\n",
       "      <th>total_images</th>\n",
       "      <th>last_price</th>\n",
       "      <th>total_area</th>\n",
       "      <th>rooms</th>\n",
       "      <th>ceiling_height</th>\n",
       "      <th>floors_total</th>\n",
       "      <th>living_area</th>\n",
       "      <th>floor</th>\n",
       "      <th>kitchen_area</th>\n",
       "      <th>balcony</th>\n",
       "      <th>airports_nearest</th>\n",
       "      <th>cityCenters_nearest</th>\n",
       "      <th>parks_around3000</th>\n",
       "      <th>parks_nearest</th>\n",
       "      <th>ponds_around3000</th>\n",
       "      <th>ponds_nearest</th>\n",
       "      <th>days_exposition</th>\n",
       "    </tr>\n",
       "  </thead>\n",
       "  <tbody>\n",
       "    <tr>\n",
       "      <th>count</th>\n",
       "      <td>23699.000000</td>\n",
       "      <td>2.369900e+04</td>\n",
       "      <td>23699.000000</td>\n",
       "      <td>23699.000000</td>\n",
       "      <td>14504.000000</td>\n",
       "      <td>23613.000000</td>\n",
       "      <td>21796.000000</td>\n",
       "      <td>23699.000000</td>\n",
       "      <td>21421.000000</td>\n",
       "      <td>12180.000000</td>\n",
       "      <td>18157.000000</td>\n",
       "      <td>18180.000000</td>\n",
       "      <td>18181.000000</td>\n",
       "      <td>8079.000000</td>\n",
       "      <td>18181.000000</td>\n",
       "      <td>9110.000000</td>\n",
       "      <td>20518.000000</td>\n",
       "    </tr>\n",
       "    <tr>\n",
       "      <th>mean</th>\n",
       "      <td>9.858475</td>\n",
       "      <td>6.541549e+06</td>\n",
       "      <td>60.348651</td>\n",
       "      <td>2.070636</td>\n",
       "      <td>2.771499</td>\n",
       "      <td>10.673824</td>\n",
       "      <td>34.457852</td>\n",
       "      <td>5.892358</td>\n",
       "      <td>10.569807</td>\n",
       "      <td>1.150082</td>\n",
       "      <td>28793.672193</td>\n",
       "      <td>14191.277833</td>\n",
       "      <td>0.611408</td>\n",
       "      <td>490.804555</td>\n",
       "      <td>0.770255</td>\n",
       "      <td>517.980900</td>\n",
       "      <td>180.888634</td>\n",
       "    </tr>\n",
       "    <tr>\n",
       "      <th>std</th>\n",
       "      <td>5.682529</td>\n",
       "      <td>1.088701e+07</td>\n",
       "      <td>35.654083</td>\n",
       "      <td>1.078405</td>\n",
       "      <td>1.261056</td>\n",
       "      <td>6.597173</td>\n",
       "      <td>22.030445</td>\n",
       "      <td>4.885249</td>\n",
       "      <td>5.905438</td>\n",
       "      <td>1.071300</td>\n",
       "      <td>12630.880622</td>\n",
       "      <td>8608.386210</td>\n",
       "      <td>0.802074</td>\n",
       "      <td>342.317995</td>\n",
       "      <td>0.938346</td>\n",
       "      <td>277.720643</td>\n",
       "      <td>219.727988</td>\n",
       "    </tr>\n",
       "    <tr>\n",
       "      <th>min</th>\n",
       "      <td>0.000000</td>\n",
       "      <td>1.219000e+04</td>\n",
       "      <td>12.000000</td>\n",
       "      <td>0.000000</td>\n",
       "      <td>1.000000</td>\n",
       "      <td>1.000000</td>\n",
       "      <td>2.000000</td>\n",
       "      <td>1.000000</td>\n",
       "      <td>1.300000</td>\n",
       "      <td>0.000000</td>\n",
       "      <td>0.000000</td>\n",
       "      <td>181.000000</td>\n",
       "      <td>0.000000</td>\n",
       "      <td>1.000000</td>\n",
       "      <td>0.000000</td>\n",
       "      <td>13.000000</td>\n",
       "      <td>1.000000</td>\n",
       "    </tr>\n",
       "    <tr>\n",
       "      <th>25%</th>\n",
       "      <td>6.000000</td>\n",
       "      <td>3.400000e+06</td>\n",
       "      <td>40.000000</td>\n",
       "      <td>1.000000</td>\n",
       "      <td>2.520000</td>\n",
       "      <td>5.000000</td>\n",
       "      <td>18.600000</td>\n",
       "      <td>2.000000</td>\n",
       "      <td>7.000000</td>\n",
       "      <td>0.000000</td>\n",
       "      <td>18585.000000</td>\n",
       "      <td>9238.000000</td>\n",
       "      <td>0.000000</td>\n",
       "      <td>288.000000</td>\n",
       "      <td>0.000000</td>\n",
       "      <td>294.000000</td>\n",
       "      <td>45.000000</td>\n",
       "    </tr>\n",
       "    <tr>\n",
       "      <th>50%</th>\n",
       "      <td>9.000000</td>\n",
       "      <td>4.650000e+06</td>\n",
       "      <td>52.000000</td>\n",
       "      <td>2.000000</td>\n",
       "      <td>2.650000</td>\n",
       "      <td>9.000000</td>\n",
       "      <td>30.000000</td>\n",
       "      <td>4.000000</td>\n",
       "      <td>9.100000</td>\n",
       "      <td>1.000000</td>\n",
       "      <td>26726.000000</td>\n",
       "      <td>13098.500000</td>\n",
       "      <td>0.000000</td>\n",
       "      <td>455.000000</td>\n",
       "      <td>1.000000</td>\n",
       "      <td>502.000000</td>\n",
       "      <td>95.000000</td>\n",
       "    </tr>\n",
       "    <tr>\n",
       "      <th>75%</th>\n",
       "      <td>14.000000</td>\n",
       "      <td>6.800000e+06</td>\n",
       "      <td>69.900000</td>\n",
       "      <td>3.000000</td>\n",
       "      <td>2.800000</td>\n",
       "      <td>16.000000</td>\n",
       "      <td>42.300000</td>\n",
       "      <td>8.000000</td>\n",
       "      <td>12.000000</td>\n",
       "      <td>2.000000</td>\n",
       "      <td>37273.000000</td>\n",
       "      <td>16293.000000</td>\n",
       "      <td>1.000000</td>\n",
       "      <td>612.000000</td>\n",
       "      <td>1.000000</td>\n",
       "      <td>729.000000</td>\n",
       "      <td>232.000000</td>\n",
       "    </tr>\n",
       "    <tr>\n",
       "      <th>max</th>\n",
       "      <td>50.000000</td>\n",
       "      <td>7.630000e+08</td>\n",
       "      <td>900.000000</td>\n",
       "      <td>19.000000</td>\n",
       "      <td>100.000000</td>\n",
       "      <td>60.000000</td>\n",
       "      <td>409.700000</td>\n",
       "      <td>33.000000</td>\n",
       "      <td>112.000000</td>\n",
       "      <td>5.000000</td>\n",
       "      <td>84869.000000</td>\n",
       "      <td>65968.000000</td>\n",
       "      <td>3.000000</td>\n",
       "      <td>3190.000000</td>\n",
       "      <td>3.000000</td>\n",
       "      <td>1344.000000</td>\n",
       "      <td>1580.000000</td>\n",
       "    </tr>\n",
       "  </tbody>\n",
       "</table>\n",
       "</div>"
      ],
      "text/plain": [
       "       total_images    last_price    total_area         rooms  ceiling_height  \\\n",
       "count  23699.000000  2.369900e+04  23699.000000  23699.000000    14504.000000   \n",
       "mean       9.858475  6.541549e+06     60.348651      2.070636        2.771499   \n",
       "std        5.682529  1.088701e+07     35.654083      1.078405        1.261056   \n",
       "min        0.000000  1.219000e+04     12.000000      0.000000        1.000000   \n",
       "25%        6.000000  3.400000e+06     40.000000      1.000000        2.520000   \n",
       "50%        9.000000  4.650000e+06     52.000000      2.000000        2.650000   \n",
       "75%       14.000000  6.800000e+06     69.900000      3.000000        2.800000   \n",
       "max       50.000000  7.630000e+08    900.000000     19.000000      100.000000   \n",
       "\n",
       "       floors_total   living_area         floor  kitchen_area       balcony  \\\n",
       "count  23613.000000  21796.000000  23699.000000  21421.000000  12180.000000   \n",
       "mean      10.673824     34.457852      5.892358     10.569807      1.150082   \n",
       "std        6.597173     22.030445      4.885249      5.905438      1.071300   \n",
       "min        1.000000      2.000000      1.000000      1.300000      0.000000   \n",
       "25%        5.000000     18.600000      2.000000      7.000000      0.000000   \n",
       "50%        9.000000     30.000000      4.000000      9.100000      1.000000   \n",
       "75%       16.000000     42.300000      8.000000     12.000000      2.000000   \n",
       "max       60.000000    409.700000     33.000000    112.000000      5.000000   \n",
       "\n",
       "       airports_nearest  cityCenters_nearest  parks_around3000  parks_nearest  \\\n",
       "count      18157.000000         18180.000000      18181.000000    8079.000000   \n",
       "mean       28793.672193         14191.277833          0.611408     490.804555   \n",
       "std        12630.880622          8608.386210          0.802074     342.317995   \n",
       "min            0.000000           181.000000          0.000000       1.000000   \n",
       "25%        18585.000000          9238.000000          0.000000     288.000000   \n",
       "50%        26726.000000         13098.500000          0.000000     455.000000   \n",
       "75%        37273.000000         16293.000000          1.000000     612.000000   \n",
       "max        84869.000000         65968.000000          3.000000    3190.000000   \n",
       "\n",
       "       ponds_around3000  ponds_nearest  days_exposition  \n",
       "count      18181.000000    9110.000000     20518.000000  \n",
       "mean           0.770255     517.980900       180.888634  \n",
       "std            0.938346     277.720643       219.727988  \n",
       "min            0.000000      13.000000         1.000000  \n",
       "25%            0.000000     294.000000        45.000000  \n",
       "50%            1.000000     502.000000        95.000000  \n",
       "75%            1.000000     729.000000       232.000000  \n",
       "max            3.000000    1344.000000      1580.000000  "
      ]
     },
     "execution_count": 5,
     "metadata": {},
     "output_type": "execute_result"
    }
   ],
   "source": [
    "#вызовем метод describe() для изучения основных статистических характеристик полученных данных\n",
    "initial_data.describe()"
   ]
  },
  {
   "cell_type": "code",
   "execution_count": 6,
   "metadata": {},
   "outputs": [
    {
     "name": "stdout",
     "output_type": "stream",
     "text": [
      "0\n"
     ]
    }
   ],
   "source": [
    "#проверим данные на наличие явных дубликатов\n",
    "print(initial_data.duplicated().sum())"
   ]
  },
  {
   "cell_type": "markdown",
   "metadata": {},
   "source": [
    "### Вывод"
   ]
  },
  {
   "cell_type": "markdown",
   "metadata": {},
   "source": [
    "Всего в датафрейме 22 столбца и 23699 строк.\n",
    "Знакомство с данными позволило выявить следующие проблемы, требующие решения:\n",
    "- некорректные как с точки зрения правил, так и с точки зрения логики и стиля названия некоторых столбцов;\n",
    "- огромное количество пропущенных значений, особенно в столбцах, содержащих данные о виде недвижимости и расстоянии до ближайших парков и водоемов (менее 10 тыс. значений);\n",
    "- неудобный и нелогичный порядок столбцов;\n",
    "- некорректный тип данных в некоторых столбцах;\n",
    "- явных дубликатов на этом этапе не выявлено, однако на их количество может влиять, в том числе, разный регистр в названии населенных пунктов."
   ]
  },
  {
   "cell_type": "markdown",
   "metadata": {},
   "source": [
    "## Предобработка данных"
   ]
  },
  {
   "cell_type": "markdown",
   "metadata": {},
   "source": [
    "### Корректировка названий и порядка столбцов"
   ]
  },
  {
   "cell_type": "markdown",
   "metadata": {},
   "source": [
    "Как и в прошлом проекте начнем предобработку данных с переименования столбцов. Исправим регистр, дадим некоторым столбцам более информативные и понятные названия, приведем к единому стилю, добавим в названия единицы измерения для удобства. Для этих целей можно использовать два метода поочередно - str.lower() для приведения букв к единому регистру и rename() для, собственно, переименовывания столбцов, - однако можно вполне обойтись и одним из них."
   ]
  },
  {
   "cell_type": "code",
   "execution_count": 7,
   "metadata": {},
   "outputs": [
    {
     "name": "stdout",
     "output_type": "stream",
     "text": [
      "Index(['total_images', 'last_price', 'total_area', 'first_day_exposition',\n",
      "       'rooms', 'ceiling_height', 'floors_total', 'living_area', 'floor',\n",
      "       'is_apartment', 'studio', 'open_plan', 'kitchen_area', 'balcony',\n",
      "       'locality_name', 'airports_nearest', 'cityCenters_nearest',\n",
      "       'parks_around3000', 'parks_nearest', 'ponds_around3000',\n",
      "       'ponds_nearest', 'days_exposition'],\n",
      "      dtype='object')\n"
     ]
    }
   ],
   "source": [
    "print(initial_data.columns) #вызовем названия столбцов, чтобы еще раз проанализировать их и \n",
    "                            #выявить те, что нуждаются в корректировке"
   ]
  },
  {
   "cell_type": "code",
   "execution_count": 8,
   "metadata": {},
   "outputs": [
    {
     "name": "stdout",
     "output_type": "stream",
     "text": [
      "Index(['number_of_images', 'last_price', 'total_area_m2',\n",
      "       'first_day_exposition', 'number_of_rooms', 'ceiling_height_m',\n",
      "       'total_number_of_floors', 'living_area_m2', 'floor', 'is_apartment',\n",
      "       'is_studio', 'is_open_plan', 'kitchen_area_m2', 'number_of_balcony',\n",
      "       'locality_name', 'distance_to_nearest_airport_m',\n",
      "       'distance_to_city_center_m', 'number_of_parks_within_3km',\n",
      "       'distance_to_nearest_parks_m', 'number_of_ponds_within_3km',\n",
      "       'distance_to_nearest_ponds_m', 'number_of_days_exposition'],\n",
      "      dtype='object')\n"
     ]
    }
   ],
   "source": [
    "#используем метод rename()\n",
    "initial_data = initial_data.rename(columns={'total_images':'number_of_images','total_area':'total_area_m2',\n",
    "                                            'rooms':'number_of_rooms', 'ceiling_height':'ceiling_height_m', \n",
    "                                            'floors_total':'total_number_of_floors',\n",
    "                                            'living_area':'living_area_m2','studio':'is_studio', \n",
    "                                            'open_plan':'is_open_plan', 'kitchen_area':'kitchen_area_m2', \n",
    "                                            'balcony':'number_of_balcony',\n",
    "                                            'airports_nearest':'distance_to_nearest_airport_m', \n",
    "                                            'cityCenters_nearest':'distance_to_city_center_m',\n",
    "                                            'parks_around3000':'number_of_parks_within_3km', \n",
    "                                            'parks_nearest':'distance_to_nearest_parks_m', \n",
    "                                            'ponds_around3000':'number_of_ponds_within_3km',\n",
    "                                            'ponds_nearest':'distance_to_nearest_ponds_m',\n",
    "                                            'days_exposition':'number_of_days_exposition'})\n",
    "print(initial_data.columns) #проверим результат переименования"
   ]
  },
  {
   "cell_type": "markdown",
   "metadata": {},
   "source": [
    "Названия многих столбцов стали ощутимо длиннее, зато теперь они несут в себе больше полезной информации в понятной форме. Также теперь еще отчетливее виден нелогичный порядок столбцов. Изменим его с помощью метода reindex():"
   ]
  },
  {
   "cell_type": "code",
   "execution_count": 9,
   "metadata": {},
   "outputs": [
    {
     "data": {
      "text/html": [
       "<div>\n",
       "<style scoped>\n",
       "    .dataframe tbody tr th:only-of-type {\n",
       "        vertical-align: middle;\n",
       "    }\n",
       "\n",
       "    .dataframe tbody tr th {\n",
       "        vertical-align: top;\n",
       "    }\n",
       "\n",
       "    .dataframe thead th {\n",
       "        text-align: right;\n",
       "    }\n",
       "</style>\n",
       "<table border=\"1\" class=\"dataframe\">\n",
       "  <thead>\n",
       "    <tr style=\"text-align: right;\">\n",
       "      <th></th>\n",
       "      <th>last_price</th>\n",
       "      <th>first_day_exposition</th>\n",
       "      <th>number_of_days_exposition</th>\n",
       "      <th>number_of_images</th>\n",
       "      <th>total_area_m2</th>\n",
       "      <th>living_area_m2</th>\n",
       "      <th>kitchen_area_m2</th>\n",
       "      <th>number_of_rooms</th>\n",
       "      <th>ceiling_height_m</th>\n",
       "      <th>floor</th>\n",
       "      <th>...</th>\n",
       "      <th>is_apartment</th>\n",
       "      <th>is_studio</th>\n",
       "      <th>is_open_plan</th>\n",
       "      <th>locality_name</th>\n",
       "      <th>distance_to_nearest_airport_m</th>\n",
       "      <th>distance_to_city_center_m</th>\n",
       "      <th>distance_to_nearest_parks_m</th>\n",
       "      <th>number_of_parks_within_3km</th>\n",
       "      <th>distance_to_nearest_ponds_m</th>\n",
       "      <th>number_of_ponds_within_3km</th>\n",
       "    </tr>\n",
       "  </thead>\n",
       "  <tbody>\n",
       "    <tr>\n",
       "      <th>0</th>\n",
       "      <td>13000000.0</td>\n",
       "      <td>2019-03-07T00:00:00</td>\n",
       "      <td>NaN</td>\n",
       "      <td>20</td>\n",
       "      <td>108.0</td>\n",
       "      <td>51.0</td>\n",
       "      <td>25.0</td>\n",
       "      <td>3</td>\n",
       "      <td>2.70</td>\n",
       "      <td>8</td>\n",
       "      <td>...</td>\n",
       "      <td>NaN</td>\n",
       "      <td>False</td>\n",
       "      <td>False</td>\n",
       "      <td>Санкт-Петербург</td>\n",
       "      <td>18863.0</td>\n",
       "      <td>16028.0</td>\n",
       "      <td>482.0</td>\n",
       "      <td>1.0</td>\n",
       "      <td>755.0</td>\n",
       "      <td>2.0</td>\n",
       "    </tr>\n",
       "    <tr>\n",
       "      <th>1</th>\n",
       "      <td>3350000.0</td>\n",
       "      <td>2018-12-04T00:00:00</td>\n",
       "      <td>81.0</td>\n",
       "      <td>7</td>\n",
       "      <td>40.4</td>\n",
       "      <td>18.6</td>\n",
       "      <td>11.0</td>\n",
       "      <td>1</td>\n",
       "      <td>NaN</td>\n",
       "      <td>1</td>\n",
       "      <td>...</td>\n",
       "      <td>NaN</td>\n",
       "      <td>False</td>\n",
       "      <td>False</td>\n",
       "      <td>посёлок Шушары</td>\n",
       "      <td>12817.0</td>\n",
       "      <td>18603.0</td>\n",
       "      <td>NaN</td>\n",
       "      <td>0.0</td>\n",
       "      <td>NaN</td>\n",
       "      <td>0.0</td>\n",
       "    </tr>\n",
       "    <tr>\n",
       "      <th>2</th>\n",
       "      <td>5196000.0</td>\n",
       "      <td>2015-08-20T00:00:00</td>\n",
       "      <td>558.0</td>\n",
       "      <td>10</td>\n",
       "      <td>56.0</td>\n",
       "      <td>34.3</td>\n",
       "      <td>8.3</td>\n",
       "      <td>2</td>\n",
       "      <td>NaN</td>\n",
       "      <td>4</td>\n",
       "      <td>...</td>\n",
       "      <td>NaN</td>\n",
       "      <td>False</td>\n",
       "      <td>False</td>\n",
       "      <td>Санкт-Петербург</td>\n",
       "      <td>21741.0</td>\n",
       "      <td>13933.0</td>\n",
       "      <td>90.0</td>\n",
       "      <td>1.0</td>\n",
       "      <td>574.0</td>\n",
       "      <td>2.0</td>\n",
       "    </tr>\n",
       "    <tr>\n",
       "      <th>3</th>\n",
       "      <td>64900000.0</td>\n",
       "      <td>2015-07-24T00:00:00</td>\n",
       "      <td>424.0</td>\n",
       "      <td>0</td>\n",
       "      <td>159.0</td>\n",
       "      <td>NaN</td>\n",
       "      <td>NaN</td>\n",
       "      <td>3</td>\n",
       "      <td>NaN</td>\n",
       "      <td>9</td>\n",
       "      <td>...</td>\n",
       "      <td>NaN</td>\n",
       "      <td>False</td>\n",
       "      <td>False</td>\n",
       "      <td>Санкт-Петербург</td>\n",
       "      <td>28098.0</td>\n",
       "      <td>6800.0</td>\n",
       "      <td>84.0</td>\n",
       "      <td>2.0</td>\n",
       "      <td>234.0</td>\n",
       "      <td>3.0</td>\n",
       "    </tr>\n",
       "    <tr>\n",
       "      <th>4</th>\n",
       "      <td>10000000.0</td>\n",
       "      <td>2018-06-19T00:00:00</td>\n",
       "      <td>121.0</td>\n",
       "      <td>2</td>\n",
       "      <td>100.0</td>\n",
       "      <td>32.0</td>\n",
       "      <td>41.0</td>\n",
       "      <td>2</td>\n",
       "      <td>3.03</td>\n",
       "      <td>13</td>\n",
       "      <td>...</td>\n",
       "      <td>NaN</td>\n",
       "      <td>False</td>\n",
       "      <td>False</td>\n",
       "      <td>Санкт-Петербург</td>\n",
       "      <td>31856.0</td>\n",
       "      <td>8098.0</td>\n",
       "      <td>112.0</td>\n",
       "      <td>2.0</td>\n",
       "      <td>48.0</td>\n",
       "      <td>1.0</td>\n",
       "    </tr>\n",
       "  </tbody>\n",
       "</table>\n",
       "<p>5 rows × 22 columns</p>\n",
       "</div>"
      ],
      "text/plain": [
       "   last_price first_day_exposition  number_of_days_exposition  \\\n",
       "0  13000000.0  2019-03-07T00:00:00                        NaN   \n",
       "1   3350000.0  2018-12-04T00:00:00                       81.0   \n",
       "2   5196000.0  2015-08-20T00:00:00                      558.0   \n",
       "3  64900000.0  2015-07-24T00:00:00                      424.0   \n",
       "4  10000000.0  2018-06-19T00:00:00                      121.0   \n",
       "\n",
       "   number_of_images  total_area_m2  living_area_m2  kitchen_area_m2  \\\n",
       "0                20          108.0            51.0             25.0   \n",
       "1                 7           40.4            18.6             11.0   \n",
       "2                10           56.0            34.3              8.3   \n",
       "3                 0          159.0             NaN              NaN   \n",
       "4                 2          100.0            32.0             41.0   \n",
       "\n",
       "   number_of_rooms  ceiling_height_m  floor  ...  is_apartment  is_studio  \\\n",
       "0                3              2.70      8  ...           NaN      False   \n",
       "1                1               NaN      1  ...           NaN      False   \n",
       "2                2               NaN      4  ...           NaN      False   \n",
       "3                3               NaN      9  ...           NaN      False   \n",
       "4                2              3.03     13  ...           NaN      False   \n",
       "\n",
       "  is_open_plan    locality_name  distance_to_nearest_airport_m  \\\n",
       "0        False  Санкт-Петербург                        18863.0   \n",
       "1        False   посёлок Шушары                        12817.0   \n",
       "2        False  Санкт-Петербург                        21741.0   \n",
       "3        False  Санкт-Петербург                        28098.0   \n",
       "4        False  Санкт-Петербург                        31856.0   \n",
       "\n",
       "  distance_to_city_center_m  distance_to_nearest_parks_m  \\\n",
       "0                   16028.0                        482.0   \n",
       "1                   18603.0                          NaN   \n",
       "2                   13933.0                         90.0   \n",
       "3                    6800.0                         84.0   \n",
       "4                    8098.0                        112.0   \n",
       "\n",
       "   number_of_parks_within_3km  distance_to_nearest_ponds_m  \\\n",
       "0                         1.0                        755.0   \n",
       "1                         0.0                          NaN   \n",
       "2                         1.0                        574.0   \n",
       "3                         2.0                        234.0   \n",
       "4                         2.0                         48.0   \n",
       "\n",
       "   number_of_ponds_within_3km  \n",
       "0                         2.0  \n",
       "1                         0.0  \n",
       "2                         2.0  \n",
       "3                         3.0  \n",
       "4                         1.0  \n",
       "\n",
       "[5 rows x 22 columns]"
      ]
     },
     "metadata": {},
     "output_type": "display_data"
    }
   ],
   "source": [
    "initial_data = initial_data.reindex(columns=['last_price', 'first_day_exposition','number_of_days_exposition',\n",
    "                                             'number_of_images', 'total_area_m2', 'living_area_m2', \n",
    "                                             'kitchen_area_m2','number_of_rooms', 'ceiling_height_m', 'floor', \n",
    "                                             'total_number_of_floors', 'number_of_balcony','is_apartment', 'is_studio', \n",
    "                                             'is_open_plan', 'locality_name', 'distance_to_nearest_airport_m',\n",
    "                                             'distance_to_city_center_m', 'distance_to_nearest_parks_m', \n",
    "                                             'number_of_parks_within_3km', 'distance_to_nearest_ponds_m', \n",
    "                                             'number_of_ponds_within_3km'])\n",
    "display(initial_data.head()) #проверим результат"
   ]
  },
  {
   "cell_type": "markdown",
   "metadata": {},
   "source": [
    "### Работа с пропусками"
   ]
  },
  {
   "cell_type": "markdown",
   "metadata": {},
   "source": [
    "Перейдем к обработке пропущенных значений. Для начала нужно определить, какую долю от всех данных они занимают:"
   ]
  },
  {
   "cell_type": "code",
   "execution_count": 10,
   "metadata": {},
   "outputs": [
    {
     "name": "stdout",
     "output_type": "stream",
     "text": [
      "last_price                        0.000000\n",
      "first_day_exposition              0.000000\n",
      "number_of_images                  0.000000\n",
      "total_area_m2                     0.000000\n",
      "is_open_plan                      0.000000\n",
      "is_studio                         0.000000\n",
      "number_of_rooms                   0.000000\n",
      "floor                             0.000000\n",
      "locality_name                     0.206760\n",
      "total_number_of_floors            0.362885\n",
      "living_area_m2                    8.029875\n",
      "kitchen_area_m2                   9.612220\n",
      "number_of_days_exposition        13.422507\n",
      "number_of_parks_within_3km       23.283683\n",
      "number_of_ponds_within_3km       23.283683\n",
      "distance_to_city_center_m        23.287902\n",
      "distance_to_nearest_airport_m    23.384953\n",
      "ceiling_height_m                 38.799105\n",
      "number_of_balcony                48.605426\n",
      "distance_to_nearest_ponds_m      61.559559\n",
      "distance_to_nearest_parks_m      65.909954\n",
      "is_apartment                     88.290645\n",
      "dtype: float64\n"
     ]
    }
   ],
   "source": [
    "print(initial_data.isna().sum().sort_values()/initial_data.shape[0]*100)"
   ]
  },
  {
   "cell_type": "markdown",
   "metadata": {},
   "source": [
    "Доля пропущенных значений в столбцах locality_name и total_number_of_floors менее 1%, поэтому можно удалить соответствующие строки без опасений, что это существенно повлияет на результаты исследования:                    "
   ]
  },
  {
   "cell_type": "code",
   "execution_count": 11,
   "metadata": {},
   "outputs": [],
   "source": [
    "initial_data = initial_data.dropna(subset =['locality_name', 'total_number_of_floors'])"
   ]
  },
  {
   "cell_type": "markdown",
   "metadata": {},
   "source": [
    "Как мы видим из подсчетов, большая часть пропусков оказалась в данных о принадлежности объекта к апартаментам. Однако эти сведения не учитываются при расчетах и решении поставленной задачи. При этом заменять столь большую долю данных на какое-либо значение, не имея на то достаточно оснований, некорректно. Это же относится и к нескольким другим столбцам с меньшей, но все равно существенной долей пропусков. Исходя из выше изложенного, на мой взгляд, правильнее будет сделать срез данных из исходной таблицы, исключив те столбцы, данные которых не понадобятся нам в исследовании, и в дальнейшем работать с ним."
   ]
  },
  {
   "cell_type": "code",
   "execution_count": 12,
   "metadata": {},
   "outputs": [
    {
     "data": {
      "text/html": [
       "<div>\n",
       "<style scoped>\n",
       "    .dataframe tbody tr th:only-of-type {\n",
       "        vertical-align: middle;\n",
       "    }\n",
       "\n",
       "    .dataframe tbody tr th {\n",
       "        vertical-align: top;\n",
       "    }\n",
       "\n",
       "    .dataframe thead th {\n",
       "        text-align: right;\n",
       "    }\n",
       "</style>\n",
       "<table border=\"1\" class=\"dataframe\">\n",
       "  <thead>\n",
       "    <tr style=\"text-align: right;\">\n",
       "      <th></th>\n",
       "      <th>last_price</th>\n",
       "      <th>first_day_exposition</th>\n",
       "      <th>number_of_days_exposition</th>\n",
       "      <th>total_area_m2</th>\n",
       "      <th>living_area_m2</th>\n",
       "      <th>kitchen_area_m2</th>\n",
       "      <th>number_of_rooms</th>\n",
       "      <th>ceiling_height_m</th>\n",
       "      <th>floor</th>\n",
       "      <th>total_number_of_floors</th>\n",
       "      <th>locality_name</th>\n",
       "      <th>distance_to_city_center_m</th>\n",
       "    </tr>\n",
       "  </thead>\n",
       "  <tbody>\n",
       "    <tr>\n",
       "      <th>0</th>\n",
       "      <td>13000000.0</td>\n",
       "      <td>2019-03-07T00:00:00</td>\n",
       "      <td>NaN</td>\n",
       "      <td>108.0</td>\n",
       "      <td>51.0</td>\n",
       "      <td>25.0</td>\n",
       "      <td>3</td>\n",
       "      <td>2.70</td>\n",
       "      <td>8</td>\n",
       "      <td>16.0</td>\n",
       "      <td>Санкт-Петербург</td>\n",
       "      <td>16028.0</td>\n",
       "    </tr>\n",
       "    <tr>\n",
       "      <th>1</th>\n",
       "      <td>3350000.0</td>\n",
       "      <td>2018-12-04T00:00:00</td>\n",
       "      <td>81.0</td>\n",
       "      <td>40.4</td>\n",
       "      <td>18.6</td>\n",
       "      <td>11.0</td>\n",
       "      <td>1</td>\n",
       "      <td>NaN</td>\n",
       "      <td>1</td>\n",
       "      <td>11.0</td>\n",
       "      <td>посёлок Шушары</td>\n",
       "      <td>18603.0</td>\n",
       "    </tr>\n",
       "    <tr>\n",
       "      <th>2</th>\n",
       "      <td>5196000.0</td>\n",
       "      <td>2015-08-20T00:00:00</td>\n",
       "      <td>558.0</td>\n",
       "      <td>56.0</td>\n",
       "      <td>34.3</td>\n",
       "      <td>8.3</td>\n",
       "      <td>2</td>\n",
       "      <td>NaN</td>\n",
       "      <td>4</td>\n",
       "      <td>5.0</td>\n",
       "      <td>Санкт-Петербург</td>\n",
       "      <td>13933.0</td>\n",
       "    </tr>\n",
       "    <tr>\n",
       "      <th>3</th>\n",
       "      <td>64900000.0</td>\n",
       "      <td>2015-07-24T00:00:00</td>\n",
       "      <td>424.0</td>\n",
       "      <td>159.0</td>\n",
       "      <td>NaN</td>\n",
       "      <td>NaN</td>\n",
       "      <td>3</td>\n",
       "      <td>NaN</td>\n",
       "      <td>9</td>\n",
       "      <td>14.0</td>\n",
       "      <td>Санкт-Петербург</td>\n",
       "      <td>6800.0</td>\n",
       "    </tr>\n",
       "    <tr>\n",
       "      <th>4</th>\n",
       "      <td>10000000.0</td>\n",
       "      <td>2018-06-19T00:00:00</td>\n",
       "      <td>121.0</td>\n",
       "      <td>100.0</td>\n",
       "      <td>32.0</td>\n",
       "      <td>41.0</td>\n",
       "      <td>2</td>\n",
       "      <td>3.03</td>\n",
       "      <td>13</td>\n",
       "      <td>14.0</td>\n",
       "      <td>Санкт-Петербург</td>\n",
       "      <td>8098.0</td>\n",
       "    </tr>\n",
       "  </tbody>\n",
       "</table>\n",
       "</div>"
      ],
      "text/plain": [
       "   last_price first_day_exposition  number_of_days_exposition  total_area_m2  \\\n",
       "0  13000000.0  2019-03-07T00:00:00                        NaN          108.0   \n",
       "1   3350000.0  2018-12-04T00:00:00                       81.0           40.4   \n",
       "2   5196000.0  2015-08-20T00:00:00                      558.0           56.0   \n",
       "3  64900000.0  2015-07-24T00:00:00                      424.0          159.0   \n",
       "4  10000000.0  2018-06-19T00:00:00                      121.0          100.0   \n",
       "\n",
       "   living_area_m2  kitchen_area_m2  number_of_rooms  ceiling_height_m  floor  \\\n",
       "0            51.0             25.0                3              2.70      8   \n",
       "1            18.6             11.0                1               NaN      1   \n",
       "2            34.3              8.3                2               NaN      4   \n",
       "3             NaN              NaN                3               NaN      9   \n",
       "4            32.0             41.0                2              3.03     13   \n",
       "\n",
       "   total_number_of_floors    locality_name  distance_to_city_center_m  \n",
       "0                    16.0  Санкт-Петербург                    16028.0  \n",
       "1                    11.0   посёлок Шушары                    18603.0  \n",
       "2                     5.0  Санкт-Петербург                    13933.0  \n",
       "3                    14.0  Санкт-Петербург                     6800.0  \n",
       "4                    14.0  Санкт-Петербург                     8098.0  "
      ]
     },
     "metadata": {},
     "output_type": "display_data"
    }
   ],
   "source": [
    "initial_data = initial_data.drop(['number_of_images', 'number_of_balcony','is_apartment', 'is_studio', \n",
    "                                  'is_open_plan', 'distance_to_nearest_airport_m','distance_to_nearest_parks_m',\n",
    "                                  'number_of_parks_within_3km', 'distance_to_nearest_ponds_m', \n",
    "                                  'number_of_ponds_within_3km'], \n",
    "                                 axis = 1) #удаляем избыточные данные\n",
    "display(initial_data.head()) #смотрим на новую таблицу"
   ]
  },
  {
   "cell_type": "markdown",
   "metadata": {},
   "source": [
    "Нужно разобраться с оставшимися пропусками. Удаленность объекта от центра может сильно вариьроваться, т.к. объекты исследования расположены не только в Санкт-Петербурге, но и в его пригородах. Здесь даже замена медианным значением может серьезно исказить итоговые результаты, поэтому оставим пропуски в столбце distance_to_city_center_m. Такая же ситуация с жилой и кухонной площадями и временем продажи объекта: в этих данных крайне сложно очертить круг наиболее часто повторяющихся значений, вариативность слишком велика. \n",
    "\n",
    "Иначе обстоит дело с высотой потолков. Вполне возможно, что здесь можно произвести замену. Для начала посмотрим описательную статистику столбца ceiling_height_m:"
   ]
  },
  {
   "cell_type": "code",
   "execution_count": 13,
   "metadata": {},
   "outputs": [
    {
     "data": {
      "text/plain": [
       "count    14481.000000\n",
       "mean         2.771283\n",
       "std          1.261983\n",
       "min          1.000000\n",
       "25%          2.510000\n",
       "50%          2.650000\n",
       "75%          2.800000\n",
       "max        100.000000\n",
       "Name: ceiling_height_m, dtype: float64"
      ]
     },
     "metadata": {},
     "output_type": "display_data"
    }
   ],
   "source": [
    "display(initial_data['ceiling_height_m'].describe())"
   ]
  },
  {
   "cell_type": "markdown",
   "metadata": {},
   "source": [
    "В большинстве случаев высота потолков колеблется между 2 и 3 метрами, хотя встречаются и экстремальные значения, вроде 1 и 100 метров. Среднее значение выглядит вполне подходящим для замещения, к тому же оно не сильно отличается от медианы. Но из-за крайних значений, похожих на выбросы, возьмем все же медиану и заменим на нее пропущенные значения:"
   ]
  },
  {
   "cell_type": "code",
   "execution_count": 14,
   "metadata": {},
   "outputs": [],
   "source": [
    "initial_data['ceiling_height_m'] = initial_data['ceiling_height_m'].fillna(2.65)"
   ]
  },
  {
   "cell_type": "markdown",
   "metadata": {},
   "source": [
    "Причинами появления в данных пропущенных значений могли стать ошибка при выгрузке или человеческий фактор. Например, пользователь не захотел вносить в базу какие-то данные, или пропустил графу по ошибке, или решил, что вместо 0 можно оставить пустое место. Одинаковое количество пропусков в столбцах с расстояниями до ближайших мостов и парков наталкивает на мысль, что проблема в картографических данных. Возможно, учитывались только неразводные мосты, или не учитывались наплавные мосты.\n",
    "\n",
    "С пропущенными значениями разобрались.Теперь откорректируем типы данных в столбцах."
   ]
  },
  {
   "cell_type": "markdown",
   "metadata": {},
   "source": [
    "### Замена типов данных"
   ]
  },
  {
   "cell_type": "markdown",
   "metadata": {},
   "source": [
    "Этажи, комнаты при оценке привлекательности жилья не стоит делить на доли, поэтому данные об их количестве разумно перевести в целочисленный формат. С ценой тоже удобнее работать, когда она выражена в целых числах, а с растоянием, когда оно исчисляется километрами. День публикации объявления нужно привести к формату datetime.\n",
    "\n",
    "В идеальной ситуации стоило бы также привести продолжительность периода продажи к целочисленному формату, однако из-за наличия в столбце пропущенных значений это невозможно."
   ]
  },
  {
   "cell_type": "code",
   "execution_count": 15,
   "metadata": {},
   "outputs": [],
   "source": [
    "#откорректируем типы данных там, где это возможно\n",
    "initial_data['number_of_rooms'] = initial_data['number_of_rooms'].astype(int)\n",
    "initial_data['total_number_of_floors'] = initial_data['total_number_of_floors'].astype(int)\n",
    "initial_data['last_price'] = initial_data['last_price'].astype(int)"
   ]
  },
  {
   "cell_type": "code",
   "execution_count": 16,
   "metadata": {},
   "outputs": [],
   "source": [
    "#переведем расстояние до центра города в километры, округлив до целых значений\n",
    "initial_data['distance_to_city_center_m'] = round((initial_data['distance_to_city_center_m']/1000))\n",
    "#переименуем столбец в соответствии с новым форматом данных\n",
    "initial_data = initial_data.rename(columns={'distance_to_city_center_m':'distance_to_city_center_km'})"
   ]
  },
  {
   "cell_type": "code",
   "execution_count": 17,
   "metadata": {},
   "outputs": [],
   "source": [
    "#изменим формат отображения даты и времени публикации объявления\n",
    "initial_data['first_day_exposition'] = pd.to_datetime(initial_data['first_day_exposition'], format=\"%Y-%m-%dT%H:%M:%S\")"
   ]
  },
  {
   "cell_type": "code",
   "execution_count": 18,
   "metadata": {},
   "outputs": [
    {
     "name": "stdout",
     "output_type": "stream",
     "text": [
      "<class 'pandas.core.frame.DataFrame'>\n",
      "Int64Index: 23565 entries, 0 to 23698\n",
      "Data columns (total 12 columns):\n",
      " #   Column                      Non-Null Count  Dtype         \n",
      "---  ------                      --------------  -----         \n",
      " 0   last_price                  23565 non-null  int64         \n",
      " 1   first_day_exposition        23565 non-null  datetime64[ns]\n",
      " 2   number_of_days_exposition   20394 non-null  float64       \n",
      " 3   total_area_m2               23565 non-null  float64       \n",
      " 4   living_area_m2              21700 non-null  float64       \n",
      " 5   kitchen_area_m2             21343 non-null  float64       \n",
      " 6   number_of_rooms             23565 non-null  int64         \n",
      " 7   ceiling_height_m            23565 non-null  float64       \n",
      " 8   floor                       23565 non-null  int64         \n",
      " 9   total_number_of_floors      23565 non-null  int64         \n",
      " 10  locality_name               23565 non-null  object        \n",
      " 11  distance_to_city_center_km  18064 non-null  float64       \n",
      "dtypes: datetime64[ns](1), float64(6), int64(4), object(1)\n",
      "memory usage: 2.3+ MB\n"
     ]
    }
   ],
   "source": [
    "#проверим результаты изменения типов данных\n",
    "initial_data.info()"
   ]
  },
  {
   "cell_type": "code",
   "execution_count": 19,
   "metadata": {},
   "outputs": [
    {
     "data": {
      "text/html": [
       "<div>\n",
       "<style scoped>\n",
       "    .dataframe tbody tr th:only-of-type {\n",
       "        vertical-align: middle;\n",
       "    }\n",
       "\n",
       "    .dataframe tbody tr th {\n",
       "        vertical-align: top;\n",
       "    }\n",
       "\n",
       "    .dataframe thead th {\n",
       "        text-align: right;\n",
       "    }\n",
       "</style>\n",
       "<table border=\"1\" class=\"dataframe\">\n",
       "  <thead>\n",
       "    <tr style=\"text-align: right;\">\n",
       "      <th></th>\n",
       "      <th>last_price</th>\n",
       "      <th>first_day_exposition</th>\n",
       "      <th>number_of_days_exposition</th>\n",
       "      <th>total_area_m2</th>\n",
       "      <th>living_area_m2</th>\n",
       "      <th>kitchen_area_m2</th>\n",
       "      <th>number_of_rooms</th>\n",
       "      <th>ceiling_height_m</th>\n",
       "      <th>floor</th>\n",
       "      <th>total_number_of_floors</th>\n",
       "      <th>locality_name</th>\n",
       "      <th>distance_to_city_center_km</th>\n",
       "    </tr>\n",
       "  </thead>\n",
       "  <tbody>\n",
       "    <tr>\n",
       "      <th>0</th>\n",
       "      <td>13000000</td>\n",
       "      <td>2019-03-07</td>\n",
       "      <td>NaN</td>\n",
       "      <td>108.00</td>\n",
       "      <td>51.00</td>\n",
       "      <td>25.00</td>\n",
       "      <td>3</td>\n",
       "      <td>2.70</td>\n",
       "      <td>8</td>\n",
       "      <td>16</td>\n",
       "      <td>Санкт-Петербург</td>\n",
       "      <td>16.0</td>\n",
       "    </tr>\n",
       "    <tr>\n",
       "      <th>1</th>\n",
       "      <td>3350000</td>\n",
       "      <td>2018-12-04</td>\n",
       "      <td>81.0</td>\n",
       "      <td>40.40</td>\n",
       "      <td>18.60</td>\n",
       "      <td>11.00</td>\n",
       "      <td>1</td>\n",
       "      <td>2.65</td>\n",
       "      <td>1</td>\n",
       "      <td>11</td>\n",
       "      <td>посёлок Шушары</td>\n",
       "      <td>19.0</td>\n",
       "    </tr>\n",
       "    <tr>\n",
       "      <th>2</th>\n",
       "      <td>5196000</td>\n",
       "      <td>2015-08-20</td>\n",
       "      <td>558.0</td>\n",
       "      <td>56.00</td>\n",
       "      <td>34.30</td>\n",
       "      <td>8.30</td>\n",
       "      <td>2</td>\n",
       "      <td>2.65</td>\n",
       "      <td>4</td>\n",
       "      <td>5</td>\n",
       "      <td>Санкт-Петербург</td>\n",
       "      <td>14.0</td>\n",
       "    </tr>\n",
       "    <tr>\n",
       "      <th>3</th>\n",
       "      <td>64900000</td>\n",
       "      <td>2015-07-24</td>\n",
       "      <td>424.0</td>\n",
       "      <td>159.00</td>\n",
       "      <td>NaN</td>\n",
       "      <td>NaN</td>\n",
       "      <td>3</td>\n",
       "      <td>2.65</td>\n",
       "      <td>9</td>\n",
       "      <td>14</td>\n",
       "      <td>Санкт-Петербург</td>\n",
       "      <td>7.0</td>\n",
       "    </tr>\n",
       "    <tr>\n",
       "      <th>4</th>\n",
       "      <td>10000000</td>\n",
       "      <td>2018-06-19</td>\n",
       "      <td>121.0</td>\n",
       "      <td>100.00</td>\n",
       "      <td>32.00</td>\n",
       "      <td>41.00</td>\n",
       "      <td>2</td>\n",
       "      <td>3.03</td>\n",
       "      <td>13</td>\n",
       "      <td>14</td>\n",
       "      <td>Санкт-Петербург</td>\n",
       "      <td>8.0</td>\n",
       "    </tr>\n",
       "    <tr>\n",
       "      <th>5</th>\n",
       "      <td>2890000</td>\n",
       "      <td>2018-09-10</td>\n",
       "      <td>55.0</td>\n",
       "      <td>30.40</td>\n",
       "      <td>14.40</td>\n",
       "      <td>9.10</td>\n",
       "      <td>1</td>\n",
       "      <td>2.65</td>\n",
       "      <td>5</td>\n",
       "      <td>12</td>\n",
       "      <td>городской посёлок Янино-1</td>\n",
       "      <td>NaN</td>\n",
       "    </tr>\n",
       "    <tr>\n",
       "      <th>6</th>\n",
       "      <td>3700000</td>\n",
       "      <td>2017-11-02</td>\n",
       "      <td>155.0</td>\n",
       "      <td>37.30</td>\n",
       "      <td>10.60</td>\n",
       "      <td>14.40</td>\n",
       "      <td>1</td>\n",
       "      <td>2.65</td>\n",
       "      <td>6</td>\n",
       "      <td>26</td>\n",
       "      <td>посёлок Парголово</td>\n",
       "      <td>19.0</td>\n",
       "    </tr>\n",
       "    <tr>\n",
       "      <th>7</th>\n",
       "      <td>7915000</td>\n",
       "      <td>2019-04-18</td>\n",
       "      <td>NaN</td>\n",
       "      <td>71.60</td>\n",
       "      <td>NaN</td>\n",
       "      <td>18.90</td>\n",
       "      <td>2</td>\n",
       "      <td>2.65</td>\n",
       "      <td>22</td>\n",
       "      <td>24</td>\n",
       "      <td>Санкт-Петербург</td>\n",
       "      <td>12.0</td>\n",
       "    </tr>\n",
       "    <tr>\n",
       "      <th>8</th>\n",
       "      <td>2900000</td>\n",
       "      <td>2018-05-23</td>\n",
       "      <td>189.0</td>\n",
       "      <td>33.16</td>\n",
       "      <td>15.43</td>\n",
       "      <td>8.81</td>\n",
       "      <td>1</td>\n",
       "      <td>2.65</td>\n",
       "      <td>26</td>\n",
       "      <td>27</td>\n",
       "      <td>посёлок Мурино</td>\n",
       "      <td>NaN</td>\n",
       "    </tr>\n",
       "    <tr>\n",
       "      <th>9</th>\n",
       "      <td>5400000</td>\n",
       "      <td>2017-02-26</td>\n",
       "      <td>289.0</td>\n",
       "      <td>61.00</td>\n",
       "      <td>43.60</td>\n",
       "      <td>6.50</td>\n",
       "      <td>3</td>\n",
       "      <td>2.50</td>\n",
       "      <td>7</td>\n",
       "      <td>9</td>\n",
       "      <td>Санкт-Петербург</td>\n",
       "      <td>15.0</td>\n",
       "    </tr>\n",
       "  </tbody>\n",
       "</table>\n",
       "</div>"
      ],
      "text/plain": [
       "   last_price first_day_exposition  number_of_days_exposition  total_area_m2  \\\n",
       "0    13000000           2019-03-07                        NaN         108.00   \n",
       "1     3350000           2018-12-04                       81.0          40.40   \n",
       "2     5196000           2015-08-20                      558.0          56.00   \n",
       "3    64900000           2015-07-24                      424.0         159.00   \n",
       "4    10000000           2018-06-19                      121.0         100.00   \n",
       "5     2890000           2018-09-10                       55.0          30.40   \n",
       "6     3700000           2017-11-02                      155.0          37.30   \n",
       "7     7915000           2019-04-18                        NaN          71.60   \n",
       "8     2900000           2018-05-23                      189.0          33.16   \n",
       "9     5400000           2017-02-26                      289.0          61.00   \n",
       "\n",
       "   living_area_m2  kitchen_area_m2  number_of_rooms  ceiling_height_m  floor  \\\n",
       "0           51.00            25.00                3              2.70      8   \n",
       "1           18.60            11.00                1              2.65      1   \n",
       "2           34.30             8.30                2              2.65      4   \n",
       "3             NaN              NaN                3              2.65      9   \n",
       "4           32.00            41.00                2              3.03     13   \n",
       "5           14.40             9.10                1              2.65      5   \n",
       "6           10.60            14.40                1              2.65      6   \n",
       "7             NaN            18.90                2              2.65     22   \n",
       "8           15.43             8.81                1              2.65     26   \n",
       "9           43.60             6.50                3              2.50      7   \n",
       "\n",
       "   total_number_of_floors              locality_name  \\\n",
       "0                      16            Санкт-Петербург   \n",
       "1                      11             посёлок Шушары   \n",
       "2                       5            Санкт-Петербург   \n",
       "3                      14            Санкт-Петербург   \n",
       "4                      14            Санкт-Петербург   \n",
       "5                      12  городской посёлок Янино-1   \n",
       "6                      26          посёлок Парголово   \n",
       "7                      24            Санкт-Петербург   \n",
       "8                      27             посёлок Мурино   \n",
       "9                       9            Санкт-Петербург   \n",
       "\n",
       "   distance_to_city_center_km  \n",
       "0                        16.0  \n",
       "1                        19.0  \n",
       "2                        14.0  \n",
       "3                         7.0  \n",
       "4                         8.0  \n",
       "5                         NaN  \n",
       "6                        19.0  \n",
       "7                        12.0  \n",
       "8                         NaN  \n",
       "9                        15.0  "
      ]
     },
     "metadata": {},
     "output_type": "display_data"
    }
   ],
   "source": [
    "#посмотрим, как выглядит таблица после всех преобразований\n",
    "display(initial_data.head(10))"
   ]
  },
  {
   "cell_type": "markdown",
   "metadata": {},
   "source": [
    "На этапе знакомства с данными явных дубликатов выявлено не было, но отмечался прыгающий регистр в названии населенных пунктов, который мог на это повлиять. Кроме того при записи данных использовались как буква \"ё\", так и замещающая ее \"е\", что тоже могло оказать влияние на результат проверки. Откорректируем эти моменты:"
   ]
  },
  {
   "cell_type": "code",
   "execution_count": 20,
   "metadata": {},
   "outputs": [
    {
     "name": "stdout",
     "output_type": "stream",
     "text": [
      "['бокситогорск', 'волосово', 'волхов', 'всеволожск', 'выборг', 'высоцк', 'гатчина', 'городской поселок большая ижора', 'городской поселок будогощь', 'городской поселок виллози', 'городской поселок лесогорский', 'городской поселок мга', 'городской поселок назия', 'городской поселок новоселье', 'городской поселок павлово', 'городской поселок рощино', 'городской поселок свирьстрой', 'городской поселок советский', 'городской поселок федоровское', 'городской поселок янино-1', 'деревня агалатово', 'деревня аро', 'деревня батово', 'деревня бегуницы', 'деревня белогорка', 'деревня большая вруда', 'деревня большая пустомержа', 'деревня большие колпаны', 'деревня большое рейзино', 'деревня большой сабск', 'деревня бор', 'деревня борисова грива', 'деревня ваганово', 'деревня вартемяги', 'деревня вахнова кара', 'деревня выскатка', 'деревня гарболово', 'деревня глинка', 'деревня горбунки', 'деревня гостилицы', 'деревня заклинье', 'деревня заневка', 'деревня зимитицы', 'деревня извара', 'деревня иссад', 'деревня калитино', 'деревня кальтино', 'деревня камышовка', 'деревня каськово', 'деревня келози', 'деревня кипень', 'деревня кисельня', 'деревня колтуши', 'деревня коркино', 'деревня котлы', 'деревня кривко', 'деревня кудрово', 'деревня кузьмолово', 'деревня курковицы', 'деревня куровицы', 'деревня куттузи', 'деревня лаврики', 'деревня лаголово', 'деревня лампово', 'деревня лесколово', 'деревня лопухинка', 'деревня лупполово', 'деревня малая романовка', 'деревня малое верево', 'деревня малое карлино', 'деревня малые колпаны', 'деревня мануйлово', 'деревня меньково', 'деревня мины', 'деревня мистолово', 'деревня ненимяки', 'деревня нижние осельки', 'деревня нижняя', 'деревня низино', 'деревня новое девяткино', 'деревня новолисино', 'деревня нурма', 'деревня оржицы', 'деревня парицы', 'деревня пельгора', 'деревня пеники', 'деревня пижма', 'деревня пикколово', 'деревня пудомяги', 'деревня пустынка', 'деревня пчева', 'деревня рабитицы', 'деревня разбегаево', 'деревня раздолье', 'деревня разметелево', 'деревня рапполово', 'деревня реброво', 'деревня русско', 'деревня сижно', 'деревня снегиревка', 'деревня старая', 'деревня старая пустошь', 'деревня старое хинколово', 'деревня старополье', 'деревня старосиверская', 'деревня старые бегуницы', 'деревня суоранда', 'деревня сяськелево', 'деревня тарасово', 'деревня терпилицы', 'деревня тихковицы', 'деревня тойворово', 'деревня торосово', 'деревня торошковичи', 'деревня трубников бор', 'деревня фалилеево', 'деревня федоровское', 'деревня хапо-ое', 'деревня хязельки', 'деревня чудской бор', 'деревня шпаньково', 'деревня щеглово', 'деревня юкки', 'деревня ялгино', 'деревня яльгелево', 'деревня ям-тесово', 'зеленогорск', 'ивангород', 'каменногорск', 'кингисепп', 'кириши', 'кировск', 'колпино', 'коммунар', 'коттеджный поселок кивеннапа север', 'коттеджный поселок лесное', 'коттеджный поселок счастье', 'красное село', 'кронштадт', 'кудрово', 'лодейное поле', 'ломоносов', 'луга', 'любань', 'мурино', 'никольское', 'новая ладога', 'отрадное', 'павловск', 'петергоф', 'пикалево', 'подпорожье', 'поселок александровская', 'поселок алексеевка', 'поселок аннино', 'поселок барышево', 'поселок белоостров', 'поселок бугры', 'поселок возрождение', 'поселок войсковицы', 'поселок войскорово', 'поселок володарское', 'поселок высокоключевой', 'поселок гаврилово', 'поселок гарболово', 'поселок гладкое', 'поселок глажево', 'поселок глебычево', 'поселок гончарово', 'поселок городского типа большая ижора', 'поселок городского типа важины', 'поселок городского типа вознесенье', 'поселок городского типа вырица', 'поселок городского типа дружная горка', 'поселок городского типа дубровка', 'поселок городского типа ефимовский', 'поселок городского типа имени морозова', 'поселок городского типа имени свердлова', 'поселок городского типа кондратьево', 'поселок городского типа красный бор', 'поселок городского типа кузнечное', 'поселок городского типа кузьмоловский', 'поселок городского типа лебяжье', 'поселок городского типа лесогорский', 'поселок городского типа мга', 'поселок городского типа назия', 'поселок городского типа никольский', 'поселок городского типа павлово', 'поселок городского типа приладожский', 'поселок городского типа рахья', 'поселок городского типа рощино', 'поселок городского типа рябово', 'поселок городского типа сиверский', 'поселок городского типа синявино', 'поселок городского типа советский', 'поселок городского типа тайцы', 'поселок городского типа токсово', 'поселок городского типа ульяновка', 'поселок городского типа форносово', 'поселок громово', 'поселок дзержинского', 'поселок дружноселье', 'поселок елизаветино', 'поселок жилгородок', 'поселок жилпоселок', 'поселок житково', 'поселок заводской', 'поселок запорожское', 'поселок зимитицы', 'поселок ильичево', 'поселок калитино', 'поселок каложицы', 'поселок кикерино', 'поселок кингисеппский', 'поселок кирпичное', 'поселок кобралово', 'поселок кобринское', 'поселок коммунары', 'поселок коробицыно', 'поселок котельский', 'поселок красная долина', 'поселок красносельское', 'поселок левашово', 'поселок ленинское', 'поселок лесное', 'поселок лисий нос', 'поселок лукаши', 'поселок любань', 'поселок мельниково', 'поселок металлострой', 'поселок мичуринское', 'поселок молодежное', 'поселок молодцово', 'поселок мурино', 'поселок мыза-ивановка', 'поселок новогорелово', 'поселок новый свет', 'поселок новый учхоз', 'поселок оредеж', 'поселок пансионат зеленый бор', 'поселок парголово', 'поселок первомайское', 'поселок перово', 'поселок песочный', 'поселок петро-славянка', 'поселок петровское', 'поселок платформа 69-й километр', 'поселок плодовое', 'поселок плоское', 'поселок победа', 'поселок поляны', 'поселок понтонный', 'поселок почап', 'поселок починок', 'поселок при железнодорожной станции вещево', 'поселок при железнодорожной станции приветнинское', 'поселок пригородный', 'поселок пудость', 'поселок пушное', 'поселок пчевжа', 'поселок рабитицы', 'поселок репино', 'поселок романовка', 'поселок ромашки', 'поселок ропша', 'поселок рябово', 'поселок саперное', 'поселок саперный', 'поселок севастьяново', 'поселок селезнево', 'поселок сельцо', 'поселок семиозерье', 'поселок семрино', 'поселок серебрянский', 'поселок совхозный', 'поселок сосново', 'поселок станции вещево', 'поселок станции громово', 'поселок станции корнево', 'поселок станции лужайка', 'поселок станции приветнинское', 'поселок станции свирь', 'поселок старая малукса', 'поселок стеклянный', 'поселок стрельна', 'поселок суйда', 'поселок сумино', 'поселок суходолье', 'поселок тельмана', 'поселок терволово', 'поселок тесово-4', 'поселок торковичи', 'поселок торфяное', 'поселок углово', 'поселок усть-ижора', 'поселок усть-луга', 'поселок ушаки', 'поселок форт красная горка', 'поселок цвелодубово', 'поселок цвылево', 'поселок шугозеро', 'поселок шушары', 'поселок щеглово', 'приморск', 'приозерск', 'пушкин', 'садоводческое некоммерческое товарищество лесная поляна', 'садовое товарищество новая ропша', 'садовое товарищество приладожский', 'садовое товарищество рахья', 'садовое товарищество садко', 'санкт-петербург', 'светогорск', 'село копорье', 'село никольское', 'село павлово', 'село паша', 'село путилово', 'село рождествено', 'село русско-высоцкое', 'село старая ладога', 'село шум', 'сертолово', 'сестрорецк', 'сланцы', 'сосновый бор', 'сясьстрой', 'тихвин', 'тосно', 'шлиссельбург']\n"
     ]
    }
   ],
   "source": [
    "initial_data['locality_name'] = initial_data['locality_name'].str.lower().str.replace('ё', 'е', regex=True)\n",
    "print(sorted(initial_data['locality_name'].unique())) #проверим результат"
   ]
  },
  {
   "cell_type": "markdown",
   "metadata": {},
   "source": [
    "Неявные дубликаты выявить сложно. Во-первых, много уникальных значений, во-вторых, в некоторых случаях указаны не только названия, но и типы населенных пунктов. В таком случае даже сортировка уникальных значений не принесет значительной пользы. Поэтому завершим работу с дубликатами новой проверкой данных на явные дубли, после проведенных изменений."
   ]
  },
  {
   "cell_type": "code",
   "execution_count": 21,
   "metadata": {},
   "outputs": [
    {
     "name": "stdout",
     "output_type": "stream",
     "text": [
      "0\n"
     ]
    }
   ],
   "source": [
    "print(initial_data.duplicated().sum())"
   ]
  },
  {
   "cell_type": "markdown",
   "metadata": {},
   "source": [
    "Явных дублей по-прежнему нет, но данные по населенным пунктам все же стали более структурированными. На этом предобработку данных можно завершить и перейти к подведению ее итогов.\n",
    "\n",
    "### Вывод\n",
    "\n",
    "На данном этапе были решены следующие проблемы:\n",
    "- исправлены названия столбцов и их порядок согласно логике, стилю и требованиям к информативности;\n",
    "- устранены пропуски, где это было возможно сделать без риска исказить итоговые результаты;\n",
    "- создана новая таблица с данными, необходимыми для дальнейшего иссследования;\n",
    "- откорректированы типы данных там, где было возможно;\n",
    "- откорректировано написание насленных пунктов.\n",
    "\n",
    "Переходим к следующему этапу: добавлению дополнительных данных в таблицу."
   ]
  },
  {
   "cell_type": "markdown",
   "metadata": {},
   "source": [
    "## Расчёты и добавление результатов в таблицу"
   ]
  },
  {
   "cell_type": "code",
   "execution_count": 22,
   "metadata": {},
   "outputs": [
    {
     "name": "stdout",
     "output_type": "stream",
     "text": [
      "0    другой\n",
      "1    первый\n",
      "2    другой\n",
      "3    другой\n",
      "4    другой\n",
      "5    другой\n",
      "6    другой\n",
      "7    другой\n",
      "8    другой\n",
      "9    другой\n",
      "Name: floor_category, dtype: object\n"
     ]
    }
   ],
   "source": [
    "#создаем функцию для категоризации этажей\n",
    "def floor_category(row):\n",
    "    if row['floor'] == 1:\n",
    "        return 'первый'\n",
    "    elif row['floor'] == row['total_number_of_floors']:\n",
    "        return 'последний'\n",
    "    else:\n",
    "        return 'другой'\n",
    "    \n",
    "#применяем функцию к имеюимся данным, создавая новый столбец таблицы\n",
    "initial_data['floor_category'] = initial_data.apply(floor_category, axis=1) \n",
    "\n",
    "# вызовем первые строки нового столбца для проверки работы функции     \n",
    "print(initial_data['floor_category'].head(10))   "
   ]
  },
  {
   "cell_type": "code",
   "execution_count": 23,
   "metadata": {},
   "outputs": [],
   "source": [
    "#посчитаем цену м2\n",
    "initial_data['price_for_m2'] = round(initial_data['last_price']/initial_data['total_area_m2'], 2) \n",
    "\n",
    "#посчитаем соотношение площадей\n",
    "initial_data['total_living_area_ratio'] = initial_data['living_area_m2'] / initial_data['total_area_m2']\n",
    "initial_data['total_kitchen_area_ratio'] = initial_data['kitchen_area_m2'] / initial_data['total_area_m2']\n",
    "\n",
    "#добавим день недели, месяц, год\n",
    "initial_data['weekday_exposition'] = initial_data['first_day_exposition'].dt.weekday\n",
    "initial_data['month_exposition'] = initial_data['first_day_exposition'].dt.month\n",
    "initial_data['year_exposition'] = initial_data['first_day_exposition'].dt.year"
   ]
  },
  {
   "cell_type": "code",
   "execution_count": 24,
   "metadata": {},
   "outputs": [
    {
     "data": {
      "text/html": [
       "<div>\n",
       "<style scoped>\n",
       "    .dataframe tbody tr th:only-of-type {\n",
       "        vertical-align: middle;\n",
       "    }\n",
       "\n",
       "    .dataframe tbody tr th {\n",
       "        vertical-align: top;\n",
       "    }\n",
       "\n",
       "    .dataframe thead th {\n",
       "        text-align: right;\n",
       "    }\n",
       "</style>\n",
       "<table border=\"1\" class=\"dataframe\">\n",
       "  <thead>\n",
       "    <tr style=\"text-align: right;\">\n",
       "      <th></th>\n",
       "      <th>last_price</th>\n",
       "      <th>price_for_m2</th>\n",
       "      <th>total_area_m2</th>\n",
       "      <th>living_area_m2</th>\n",
       "      <th>kitchen_area_m2</th>\n",
       "      <th>total_living_area_ratio</th>\n",
       "      <th>total_kitchen_area_ratio</th>\n",
       "      <th>number_of_rooms</th>\n",
       "      <th>ceiling_height_m</th>\n",
       "      <th>floor</th>\n",
       "      <th>total_number_of_floors</th>\n",
       "      <th>floor_category</th>\n",
       "      <th>first_day_exposition</th>\n",
       "      <th>number_of_days_exposition</th>\n",
       "      <th>weekday_exposition</th>\n",
       "      <th>month_exposition</th>\n",
       "      <th>year_exposition</th>\n",
       "      <th>locality_name</th>\n",
       "      <th>distance_to_city_center_km</th>\n",
       "    </tr>\n",
       "  </thead>\n",
       "  <tbody>\n",
       "    <tr>\n",
       "      <th>0</th>\n",
       "      <td>13000000</td>\n",
       "      <td>120370.37</td>\n",
       "      <td>108.00</td>\n",
       "      <td>51.00</td>\n",
       "      <td>25.00</td>\n",
       "      <td>0.472222</td>\n",
       "      <td>0.231481</td>\n",
       "      <td>3</td>\n",
       "      <td>2.70</td>\n",
       "      <td>8</td>\n",
       "      <td>16</td>\n",
       "      <td>другой</td>\n",
       "      <td>2019-03-07</td>\n",
       "      <td>NaN</td>\n",
       "      <td>3</td>\n",
       "      <td>3</td>\n",
       "      <td>2019</td>\n",
       "      <td>санкт-петербург</td>\n",
       "      <td>16.0</td>\n",
       "    </tr>\n",
       "    <tr>\n",
       "      <th>1</th>\n",
       "      <td>3350000</td>\n",
       "      <td>82920.79</td>\n",
       "      <td>40.40</td>\n",
       "      <td>18.60</td>\n",
       "      <td>11.00</td>\n",
       "      <td>0.460396</td>\n",
       "      <td>0.272277</td>\n",
       "      <td>1</td>\n",
       "      <td>2.65</td>\n",
       "      <td>1</td>\n",
       "      <td>11</td>\n",
       "      <td>первый</td>\n",
       "      <td>2018-12-04</td>\n",
       "      <td>81.0</td>\n",
       "      <td>1</td>\n",
       "      <td>12</td>\n",
       "      <td>2018</td>\n",
       "      <td>поселок шушары</td>\n",
       "      <td>19.0</td>\n",
       "    </tr>\n",
       "    <tr>\n",
       "      <th>2</th>\n",
       "      <td>5196000</td>\n",
       "      <td>92785.71</td>\n",
       "      <td>56.00</td>\n",
       "      <td>34.30</td>\n",
       "      <td>8.30</td>\n",
       "      <td>0.612500</td>\n",
       "      <td>0.148214</td>\n",
       "      <td>2</td>\n",
       "      <td>2.65</td>\n",
       "      <td>4</td>\n",
       "      <td>5</td>\n",
       "      <td>другой</td>\n",
       "      <td>2015-08-20</td>\n",
       "      <td>558.0</td>\n",
       "      <td>3</td>\n",
       "      <td>8</td>\n",
       "      <td>2015</td>\n",
       "      <td>санкт-петербург</td>\n",
       "      <td>14.0</td>\n",
       "    </tr>\n",
       "    <tr>\n",
       "      <th>3</th>\n",
       "      <td>64900000</td>\n",
       "      <td>408176.10</td>\n",
       "      <td>159.00</td>\n",
       "      <td>NaN</td>\n",
       "      <td>NaN</td>\n",
       "      <td>NaN</td>\n",
       "      <td>NaN</td>\n",
       "      <td>3</td>\n",
       "      <td>2.65</td>\n",
       "      <td>9</td>\n",
       "      <td>14</td>\n",
       "      <td>другой</td>\n",
       "      <td>2015-07-24</td>\n",
       "      <td>424.0</td>\n",
       "      <td>4</td>\n",
       "      <td>7</td>\n",
       "      <td>2015</td>\n",
       "      <td>санкт-петербург</td>\n",
       "      <td>7.0</td>\n",
       "    </tr>\n",
       "    <tr>\n",
       "      <th>4</th>\n",
       "      <td>10000000</td>\n",
       "      <td>100000.00</td>\n",
       "      <td>100.00</td>\n",
       "      <td>32.00</td>\n",
       "      <td>41.00</td>\n",
       "      <td>0.320000</td>\n",
       "      <td>0.410000</td>\n",
       "      <td>2</td>\n",
       "      <td>3.03</td>\n",
       "      <td>13</td>\n",
       "      <td>14</td>\n",
       "      <td>другой</td>\n",
       "      <td>2018-06-19</td>\n",
       "      <td>121.0</td>\n",
       "      <td>1</td>\n",
       "      <td>6</td>\n",
       "      <td>2018</td>\n",
       "      <td>санкт-петербург</td>\n",
       "      <td>8.0</td>\n",
       "    </tr>\n",
       "    <tr>\n",
       "      <th>5</th>\n",
       "      <td>2890000</td>\n",
       "      <td>95065.79</td>\n",
       "      <td>30.40</td>\n",
       "      <td>14.40</td>\n",
       "      <td>9.10</td>\n",
       "      <td>0.473684</td>\n",
       "      <td>0.299342</td>\n",
       "      <td>1</td>\n",
       "      <td>2.65</td>\n",
       "      <td>5</td>\n",
       "      <td>12</td>\n",
       "      <td>другой</td>\n",
       "      <td>2018-09-10</td>\n",
       "      <td>55.0</td>\n",
       "      <td>0</td>\n",
       "      <td>9</td>\n",
       "      <td>2018</td>\n",
       "      <td>городской поселок янино-1</td>\n",
       "      <td>NaN</td>\n",
       "    </tr>\n",
       "    <tr>\n",
       "      <th>6</th>\n",
       "      <td>3700000</td>\n",
       "      <td>99195.71</td>\n",
       "      <td>37.30</td>\n",
       "      <td>10.60</td>\n",
       "      <td>14.40</td>\n",
       "      <td>0.284182</td>\n",
       "      <td>0.386059</td>\n",
       "      <td>1</td>\n",
       "      <td>2.65</td>\n",
       "      <td>6</td>\n",
       "      <td>26</td>\n",
       "      <td>другой</td>\n",
       "      <td>2017-11-02</td>\n",
       "      <td>155.0</td>\n",
       "      <td>3</td>\n",
       "      <td>11</td>\n",
       "      <td>2017</td>\n",
       "      <td>поселок парголово</td>\n",
       "      <td>19.0</td>\n",
       "    </tr>\n",
       "    <tr>\n",
       "      <th>7</th>\n",
       "      <td>7915000</td>\n",
       "      <td>110544.69</td>\n",
       "      <td>71.60</td>\n",
       "      <td>NaN</td>\n",
       "      <td>18.90</td>\n",
       "      <td>NaN</td>\n",
       "      <td>0.263966</td>\n",
       "      <td>2</td>\n",
       "      <td>2.65</td>\n",
       "      <td>22</td>\n",
       "      <td>24</td>\n",
       "      <td>другой</td>\n",
       "      <td>2019-04-18</td>\n",
       "      <td>NaN</td>\n",
       "      <td>3</td>\n",
       "      <td>4</td>\n",
       "      <td>2019</td>\n",
       "      <td>санкт-петербург</td>\n",
       "      <td>12.0</td>\n",
       "    </tr>\n",
       "    <tr>\n",
       "      <th>8</th>\n",
       "      <td>2900000</td>\n",
       "      <td>87454.76</td>\n",
       "      <td>33.16</td>\n",
       "      <td>15.43</td>\n",
       "      <td>8.81</td>\n",
       "      <td>0.465320</td>\n",
       "      <td>0.265682</td>\n",
       "      <td>1</td>\n",
       "      <td>2.65</td>\n",
       "      <td>26</td>\n",
       "      <td>27</td>\n",
       "      <td>другой</td>\n",
       "      <td>2018-05-23</td>\n",
       "      <td>189.0</td>\n",
       "      <td>2</td>\n",
       "      <td>5</td>\n",
       "      <td>2018</td>\n",
       "      <td>поселок мурино</td>\n",
       "      <td>NaN</td>\n",
       "    </tr>\n",
       "    <tr>\n",
       "      <th>9</th>\n",
       "      <td>5400000</td>\n",
       "      <td>88524.59</td>\n",
       "      <td>61.00</td>\n",
       "      <td>43.60</td>\n",
       "      <td>6.50</td>\n",
       "      <td>0.714754</td>\n",
       "      <td>0.106557</td>\n",
       "      <td>3</td>\n",
       "      <td>2.50</td>\n",
       "      <td>7</td>\n",
       "      <td>9</td>\n",
       "      <td>другой</td>\n",
       "      <td>2017-02-26</td>\n",
       "      <td>289.0</td>\n",
       "      <td>6</td>\n",
       "      <td>2</td>\n",
       "      <td>2017</td>\n",
       "      <td>санкт-петербург</td>\n",
       "      <td>15.0</td>\n",
       "    </tr>\n",
       "  </tbody>\n",
       "</table>\n",
       "</div>"
      ],
      "text/plain": [
       "   last_price  price_for_m2  total_area_m2  living_area_m2  kitchen_area_m2  \\\n",
       "0    13000000     120370.37         108.00           51.00            25.00   \n",
       "1     3350000      82920.79          40.40           18.60            11.00   \n",
       "2     5196000      92785.71          56.00           34.30             8.30   \n",
       "3    64900000     408176.10         159.00             NaN              NaN   \n",
       "4    10000000     100000.00         100.00           32.00            41.00   \n",
       "5     2890000      95065.79          30.40           14.40             9.10   \n",
       "6     3700000      99195.71          37.30           10.60            14.40   \n",
       "7     7915000     110544.69          71.60             NaN            18.90   \n",
       "8     2900000      87454.76          33.16           15.43             8.81   \n",
       "9     5400000      88524.59          61.00           43.60             6.50   \n",
       "\n",
       "   total_living_area_ratio  total_kitchen_area_ratio  number_of_rooms  \\\n",
       "0                 0.472222                  0.231481                3   \n",
       "1                 0.460396                  0.272277                1   \n",
       "2                 0.612500                  0.148214                2   \n",
       "3                      NaN                       NaN                3   \n",
       "4                 0.320000                  0.410000                2   \n",
       "5                 0.473684                  0.299342                1   \n",
       "6                 0.284182                  0.386059                1   \n",
       "7                      NaN                  0.263966                2   \n",
       "8                 0.465320                  0.265682                1   \n",
       "9                 0.714754                  0.106557                3   \n",
       "\n",
       "   ceiling_height_m  floor  total_number_of_floors floor_category  \\\n",
       "0              2.70      8                      16         другой   \n",
       "1              2.65      1                      11         первый   \n",
       "2              2.65      4                       5         другой   \n",
       "3              2.65      9                      14         другой   \n",
       "4              3.03     13                      14         другой   \n",
       "5              2.65      5                      12         другой   \n",
       "6              2.65      6                      26         другой   \n",
       "7              2.65     22                      24         другой   \n",
       "8              2.65     26                      27         другой   \n",
       "9              2.50      7                       9         другой   \n",
       "\n",
       "  first_day_exposition  number_of_days_exposition  weekday_exposition  \\\n",
       "0           2019-03-07                        NaN                   3   \n",
       "1           2018-12-04                       81.0                   1   \n",
       "2           2015-08-20                      558.0                   3   \n",
       "3           2015-07-24                      424.0                   4   \n",
       "4           2018-06-19                      121.0                   1   \n",
       "5           2018-09-10                       55.0                   0   \n",
       "6           2017-11-02                      155.0                   3   \n",
       "7           2019-04-18                        NaN                   3   \n",
       "8           2018-05-23                      189.0                   2   \n",
       "9           2017-02-26                      289.0                   6   \n",
       "\n",
       "   month_exposition  year_exposition              locality_name  \\\n",
       "0                 3             2019            санкт-петербург   \n",
       "1                12             2018             поселок шушары   \n",
       "2                 8             2015            санкт-петербург   \n",
       "3                 7             2015            санкт-петербург   \n",
       "4                 6             2018            санкт-петербург   \n",
       "5                 9             2018  городской поселок янино-1   \n",
       "6                11             2017          поселок парголово   \n",
       "7                 4             2019            санкт-петербург   \n",
       "8                 5             2018             поселок мурино   \n",
       "9                 2             2017            санкт-петербург   \n",
       "\n",
       "   distance_to_city_center_km  \n",
       "0                        16.0  \n",
       "1                        19.0  \n",
       "2                        14.0  \n",
       "3                         7.0  \n",
       "4                         8.0  \n",
       "5                         NaN  \n",
       "6                        19.0  \n",
       "7                        12.0  \n",
       "8                         NaN  \n",
       "9                        15.0  "
      ]
     },
     "metadata": {},
     "output_type": "display_data"
    }
   ],
   "source": [
    "#вновь поменяем столбцы местами для восстановления логики последовательности\n",
    "initial_data = initial_data.reindex(columns=['last_price', 'price_for_m2', 'total_area_m2', 'living_area_m2', \n",
    "                                             'kitchen_area_m2', 'total_living_area_ratio', 'total_kitchen_area_ratio',\n",
    "                                             'number_of_rooms', 'ceiling_height_m', 'floor', 'total_number_of_floors', \n",
    "                                             'floor_category', 'first_day_exposition', 'number_of_days_exposition',\n",
    "                                             'weekday_exposition', 'month_exposition', 'year_exposition', \n",
    "                                             'locality_name','distance_to_city_center_km'])\n",
    "\n",
    "display(initial_data.head(10)) #проверим результат"
   ]
  },
  {
   "cell_type": "markdown",
   "metadata": {},
   "source": [
    "Все необходимые расчеты произведены, дополнительные данные добавлены в таблицу. Можем идти дальше."
   ]
  },
  {
   "cell_type": "markdown",
   "metadata": {},
   "source": [
    "## Исследовательский анализ данных"
   ]
  },
  {
   "cell_type": "markdown",
   "metadata": {},
   "source": [
    "### Изучение параметров: площадь, цена, число комнат, высота потолков."
   ]
  },
  {
   "cell_type": "markdown",
   "metadata": {},
   "source": [
    "Перейдем к анализу данных. Исследуем такие параметры объектов как: площадь, цена, число комнат, высота потолков. Перед тем, как строить гистограмму для параметра, полезно будет изучить описательные характеристики соответствующего столбца. Такой обзор позволит определить значения, которые можно задать параметрам метода hist(), и составить общее представление о данных анализируемого столбца. Кроме того для наглядности будем использовать отдельный цвет для графиков по группам параметров: синий для цен, сиреневый для расстояний, зеленый для площадей, оранжевый для этажей, голубой для комнат, малиновый для периодов времени, желтый для высоты потолков.\n",
    "\n",
    "Начнем с изучения данных о площади объектов недвижимости."
   ]
  },
  {
   "cell_type": "code",
   "execution_count": 25,
   "metadata": {},
   "outputs": [
    {
     "name": "stdout",
     "output_type": "stream",
     "text": [
      "count    23565.000000\n",
      "mean        60.322824\n",
      "std         35.657060\n",
      "min         12.000000\n",
      "25%         40.000000\n",
      "50%         52.000000\n",
      "75%         69.700000\n",
      "max        900.000000\n",
      "Name: total_area_m2, dtype: float64\n"
     ]
    }
   ],
   "source": [
    "print(initial_data['total_area_m2'].describe()) #вызываем описательную статистику столбца для поиска значений, \n",
    "                                                #которые можно задать параметрам гистограммы"
   ]
  },
  {
   "cell_type": "markdown",
   "metadata": {},
   "source": [
    "Как мы можем видеть, минимальное значение в столбце равно 12 м2, максимальное - 900 м2. Передадим эти значения параметру range(), сделав поправку на размер корзин."
   ]
  },
  {
   "cell_type": "code",
   "execution_count": 26,
   "metadata": {},
   "outputs": [
    {
     "data": {
      "image/png": "[encoded data removed]",
      "text/plain": [
       "<Figure size 504x504 with 1 Axes>"
      ]
     },
     "metadata": {
      "needs_background": "light"
     },
     "output_type": "display_data"
    }
   ],
   "source": [
    "initial_data.hist('total_area_m2', bins=150, range=(0, 1000), figsize=(7,7), color='#1d8a1f') #строим гистограмму по площади объектов\n",
    "plt.title('Площади объектов, м2')\n",
    "plt.show()"
   ]
  },
  {
   "cell_type": "markdown",
   "metadata": {},
   "source": [
    "Не очень наглядно, многие моменты остаются размытыми, упускаются из вида. Например, по графику видно, что в данных есть выбросы, но ничего конкретного о них сказать пока нельзя.\n",
    "\n",
    "Построим диаграмму размаха, чтобы выбросы стали отчетливо видны."
   ]
  },
  {
   "cell_type": "code",
   "execution_count": 27,
   "metadata": {},
   "outputs": [
    {
     "data": {
      "image/png": "[encoded data removed]",
      "text/plain": [
       "<Figure size 432x288 with 1 Axes>"
      ]
     },
     "metadata": {
      "needs_background": "light"
     },
     "output_type": "display_data"
    }
   ],
   "source": [
    "initial_data.boxplot(column='total_area_m2')\n",
    "plt.ylim(-50, 300)\n",
    "plt.title('Диаграмма размаха для площадей объектов')\n",
    "plt.show()"
   ]
  },
  {
   "cell_type": "markdown",
   "metadata": {},
   "source": [
    "Благодаря новому графику мы можем увидеть, что выбросы начинаются примерно с площади в 110 м2. Исходя из этого построим новую гистограмму, ограничив площадь объекта 115 м2 (+5 метров берем на случай погрешности в определении \"точки выброса\")."
   ]
  },
  {
   "cell_type": "code",
   "execution_count": 28,
   "metadata": {
    "scrolled": false
   },
   "outputs": [
    {
     "data": {
      "image/png": "[encoded data removed]",
      "text/plain": [
       "<Figure size 504x504 with 1 Axes>"
      ]
     },
     "metadata": {
      "needs_background": "light"
     },
     "output_type": "display_data"
    }
   ],
   "source": [
    "initial_data.hist('total_area_m2', bins=20, range=(0, 115), figsize=(7,7), color='#1d8a1f')\n",
    "plt.title('Площади объектов без выбросов, м2')\n",
    "plt.show()"
   ]
  },
  {
   "cell_type": "markdown",
   "metadata": {},
   "source": [
    "На новой диаграмме видно, что чаще всего в данных встречаются объекты с площадью от 40 до 45 м2. При этом после данных значений отмечается заметный спад с 3333 объектов до 2250. Следующий значительный спад отмечается после площади в 63 м2 - до 1375 объектов (Еще раз хочу подчеркнуть, что значения примерные, т.к. основаны в основном на анализе графика, а человеческий глаз - инструмент несовершенный).\n",
    "Если взглянуть на вторую часть гистограммы, слева от максимального значения, то можно увидеть скачки вверх после площади в 33 м2 (рост числа объектов в 6,5 раз) и 37 м2 (рост в 1,1 раз или на 292 объекта).\n",
    "\n",
    "Повторим анализ с тем же порядком для оставшихся параметров. Начнем с цены объекта."
   ]
  },
  {
   "cell_type": "code",
   "execution_count": 29,
   "metadata": {},
   "outputs": [
    {
     "name": "stdout",
     "output_type": "stream",
     "text": [
      "count    2.356500e+04\n",
      "mean     6.540058e+06\n",
      "std      1.091093e+07\n",
      "min      1.219000e+04\n",
      "25%      3.400000e+06\n",
      "50%      4.646000e+06\n",
      "75%      6.790000e+06\n",
      "max      7.630000e+08\n",
      "Name: last_price, dtype: float64\n"
     ]
    }
   ],
   "source": [
    "print(initial_data['last_price'].describe()) #вызываем описательную статистику столбца"
   ]
  },
  {
   "cell_type": "code",
   "execution_count": 30,
   "metadata": {},
   "outputs": [
    {
     "data": {
      "image/png": "[encoded data removed]",
      "text/plain": [
       "<Figure size 504x504 with 1 Axes>"
      ]
     },
     "metadata": {
      "needs_background": "light"
     },
     "output_type": "display_data"
    }
   ],
   "source": [
    "initial_data.hist('last_price', bins=150, range=(1e+04, 8e+08),figsize=(7,7)) #строим гистограмму по стоимости объектов\n",
    "plt.title('Стоимость объектов')\n",
    "plt.show()"
   ]
  },
  {
   "cell_type": "code",
   "execution_count": 31,
   "metadata": {},
   "outputs": [
    {
     "data": {
      "image/png": "[encoded data removed]",
      "text/plain": [
       "<Figure size 432x288 with 1 Axes>"
      ]
     },
     "metadata": {
      "needs_background": "light"
     },
     "output_type": "display_data"
    }
   ],
   "source": [
    "initial_data.boxplot(column='last_price') #строим диаграмму размаха\n",
    "plt.ylim(-1e+06, 20e+06)\n",
    "plt.title('Диаграмма размаха для стоимости объектов')\n",
    "plt.show()"
   ]
  },
  {
   "cell_type": "markdown",
   "metadata": {},
   "source": [
    "В данных о цене объектов выбросы начинаются примерно со значения 11 млн 800 тыс. Построим новую гистограмму, ограничив цену 12 млн:"
   ]
  },
  {
   "cell_type": "code",
   "execution_count": 32,
   "metadata": {},
   "outputs": [
    {
     "data": {
      "image/png": "[encoded data removed]",
      "text/plain": [
       "<Figure size 504x504 with 1 Axes>"
      ]
     },
     "metadata": {
      "needs_background": "light"
     },
     "output_type": "display_data"
    }
   ],
   "source": [
    "initial_data.hist('last_price', bins=20, range=(0, 12000000), figsize=(7,7))\n",
    "plt.title('Стоимость объектов без выбросов')\n",
    "plt.show()"
   ]
  },
  {
   "cell_type": "markdown",
   "metadata": {},
   "source": [
    "Теперь можно увидеть, что стоимость объектов недвижимости в исследуемом районе чаще всего составляет примерно 3,6-4,1 млн.\n",
    " \n",
    "Далее исследуем данные о количестве комнат в объектах."
   ]
  },
  {
   "cell_type": "code",
   "execution_count": 33,
   "metadata": {},
   "outputs": [
    {
     "name": "stdout",
     "output_type": "stream",
     "text": [
      "count    23565.000000\n",
      "mean         2.070656\n",
      "std          1.078591\n",
      "min          0.000000\n",
      "25%          1.000000\n",
      "50%          2.000000\n",
      "75%          3.000000\n",
      "max         19.000000\n",
      "Name: number_of_rooms, dtype: float64\n"
     ]
    }
   ],
   "source": [
    "print(initial_data['number_of_rooms'].describe()) #вызываем описательную статистику столбца"
   ]
  },
  {
   "cell_type": "code",
   "execution_count": 34,
   "metadata": {},
   "outputs": [
    {
     "data": {
      "image/png": "[encoded data removed]",
      "text/plain": [
       "<Figure size 504x504 with 1 Axes>"
      ]
     },
     "metadata": {
      "needs_background": "light"
     },
     "output_type": "display_data"
    }
   ],
   "source": [
    "initial_data.hist('number_of_rooms', bins=150, range=(0, 20), figsize=(7,7), color='#8ffff4') #строим гистограмму по количесту комнат\n",
    "plt.title('Количество комнат в объектах')\n",
    "plt.show()"
   ]
  },
  {
   "cell_type": "code",
   "execution_count": 35,
   "metadata": {},
   "outputs": [
    {
     "data": {
      "image/png": "[encoded data removed]",
      "text/plain": [
       "<Figure size 432x288 with 1 Axes>"
      ]
     },
     "metadata": {
      "needs_background": "light"
     },
     "output_type": "display_data"
    }
   ],
   "source": [
    "initial_data.boxplot(column='number_of_rooms') #строим диаграмму размаха\n",
    "plt.ylim(-1, 11)\n",
    "plt.title('Диаграмма размаха для числа комнат')\n",
    "plt.show()"
   ]
  },
  {
   "cell_type": "markdown",
   "metadata": {},
   "source": [
    "В данных о количестве комнат зона выбросов начинается после 6 комнат, т.е. первые значения в данных, которые попадают в зону - 7 комнат. Данную диаграмму отличает то, что выбросы на ней выглядят как жирные точки и не сливаются в сплошную линию. Это обсусловлено довольно ограниченным списком уникальных значений в столбце.\n",
    "\n",
    "Построим новую гистограмму, ограничив количество комнат шестью (не увеличиваем границу, т.к. в данном случае значение точно определено):"
   ]
  },
  {
   "cell_type": "code",
   "execution_count": 36,
   "metadata": {},
   "outputs": [
    {
     "data": {
      "image/png": "[encoded data removed]",
      "text/plain": [
       "<Figure size 504x504 with 1 Axes>"
      ]
     },
     "metadata": {
      "needs_background": "light"
     },
     "output_type": "display_data"
    }
   ],
   "source": [
    "initial_data.hist('number_of_rooms', bins=20, range=(0, 6), figsize=(7,7), color='#8ffff4')\n",
    "plt.title('Количество комнат в объектах без выбросов')\n",
    "plt.show()"
   ]
  },
  {
   "cell_type": "markdown",
   "metadata": {},
   "source": [
    "С такой диаграммой работать приятнее всего: все ясно и четко видно, значения в большинстве своем точно определены, сразу виден лидер - 1 комната, хотя двухкомнатные объекты уступают ему всего на 100-110 объектов. Зато разрыв с трехкомнатными объектами значителен и составляет примерно 2200 объектов.\n",
    "\n",
    "Наконец исследуем данные о высоте потолков."
   ]
  },
  {
   "cell_type": "code",
   "execution_count": 37,
   "metadata": {
    "scrolled": true
   },
   "outputs": [
    {
     "name": "stdout",
     "output_type": "stream",
     "text": [
      "count    23565.000000\n",
      "mean         2.724530\n",
      "std          0.991026\n",
      "min          1.000000\n",
      "25%          2.600000\n",
      "50%          2.650000\n",
      "75%          2.700000\n",
      "max        100.000000\n",
      "Name: ceiling_height_m, dtype: float64\n"
     ]
    }
   ],
   "source": [
    "print(initial_data['ceiling_height_m'].describe()) #вызываем описательную статистику столбца"
   ]
  },
  {
   "cell_type": "code",
   "execution_count": 38,
   "metadata": {},
   "outputs": [
    {
     "data": {
      "image/png": "[encoded data removed]",
      "text/plain": [
       "<Figure size 504x504 with 1 Axes>"
      ]
     },
     "metadata": {
      "needs_background": "light"
     },
     "output_type": "display_data"
    }
   ],
   "source": [
    "initial_data.hist('ceiling_height_m', bins=150, range=(0, 100), figsize=(7,7), color='#f7f448') #строим гистограмму по высоте потолков\n",
    "plt.title('Высота потолков объектов, м')\n",
    "plt.show()"
   ]
  },
  {
   "cell_type": "code",
   "execution_count": 39,
   "metadata": {},
   "outputs": [
    {
     "data": {
      "image/png": "[encoded data removed]",
      "text/plain": [
       "<Figure size 432x288 with 1 Axes>"
      ]
     },
     "metadata": {
      "needs_background": "light"
     },
     "output_type": "display_data"
    }
   ],
   "source": [
    "initial_data.boxplot(column='ceiling_height_m') #строим диаграмму размаха\n",
    "plt.ylim(2, 4)\n",
    "plt.title('Диаграмма размаха для высоты потолков')\n",
    "plt.show()"
   ]
  },
  {
   "cell_type": "markdown",
   "metadata": {},
   "source": [
    "И снова диаграмма размаха отличается от своих предшественниц. На этот раз данные столбца попали в обе зоны выбросов: слева их не так много, поэтому они отобразились на графике как круги, а справа слились в линию из-за гораздо большего количества. Левая зона начинается примерно с 2,45 м, правая - с 2,85 м.\n",
    "\n",
    "Построим новую гистограмму, ограничив высоту потолков 2,3 м и 3 м:"
   ]
  },
  {
   "cell_type": "code",
   "execution_count": 40,
   "metadata": {},
   "outputs": [
    {
     "data": {
      "image/png": "[encoded data removed]",
      "text/plain": [
       "<Figure size 504x504 with 1 Axes>"
      ]
     },
     "metadata": {
      "needs_background": "light"
     },
     "output_type": "display_data"
    }
   ],
   "source": [
    "initial_data.hist('ceiling_height_m', bins=20, range=(2.3, 3), figsize=(7,7), color='#f7f448')\n",
    "plt.title('Высота потолков объектов без выбросов, м')\n",
    "plt.show()"
   ]
  },
  {
   "cell_type": "markdown",
   "metadata": {},
   "source": [
    "В случае с высотой потолков лидер тоже сильно выделяется, устремляясь вверх. Чаще всего в объектах исследуемой недвиджимости потолки высотой от 2,65 до 2,69 метров. Все остальные варианты встречаются гораздо реже, вторая по популярности позиция уступает на 6400 объектов или в 2,9 раз."
   ]
  },
  {
   "cell_type": "markdown",
   "metadata": {},
   "source": [
    "Подведем **промежуточные итоги**. Самые частые значения параметров составили:\n",
    "- 40-45 м2 для общей площади объектов;\n",
    "- 3,6-4,1 млн рублей для цены;\n",
    "- 1 для количества комнат;\n",
    "- 2,65-2,69 м для высоты потолков.\n",
    "\n",
    "Переходим к следующей задаче. Для ее решения также подойдет порядок действий, использованный ранее. "
   ]
  },
  {
   "cell_type": "markdown",
   "metadata": {},
   "source": [
    "### Изучение времени продажи объектов недвижимости\n",
    "\n",
    "Для начала вызовем описательную статистику столбца number_of_days_exposition:"
   ]
  },
  {
   "cell_type": "code",
   "execution_count": 41,
   "metadata": {},
   "outputs": [
    {
     "name": "stdout",
     "output_type": "stream",
     "text": [
      "count    20394.000000\n",
      "mean       180.741395\n",
      "std        219.732782\n",
      "min          1.000000\n",
      "25%         45.000000\n",
      "50%         95.000000\n",
      "75%        231.000000\n",
      "max       1580.000000\n",
      "Name: number_of_days_exposition, dtype: float64\n"
     ]
    }
   ],
   "source": [
    "print(initial_data['number_of_days_exposition'].describe())"
   ]
  },
  {
   "cell_type": "markdown",
   "metadata": {},
   "source": [
    "Рассмотрим подробнее, что мы получили, применив метод describe(). Медианное значение (95) почти в два раза меньше среднего (180,74), следовательно, на последнее большое внимание оказали выбросы, о которых подробнее мы поговорим на следующем шаге. Впрочем, некоторые из них уже видны в графах с минимальным и максимальным значениями. Кроме того мы получили стандартное отклонение значений длительности продажи объектов, и оно показывает сильный разброс и неоднородность данных.\n",
    "\n",
    "Теперь построим \"ящик с усами\", чтобы лучше рассмотреть выбросы и избавиться от них перед построением гистограммы."
   ]
  },
  {
   "cell_type": "code",
   "execution_count": 42,
   "metadata": {},
   "outputs": [
    {
     "data": {
      "image/png": "[encoded data removed]",
      "text/plain": [
       "<Figure size 432x288 with 1 Axes>"
      ]
     },
     "metadata": {
      "needs_background": "light"
     },
     "output_type": "display_data"
    }
   ],
   "source": [
    "initial_data.boxplot(column='number_of_days_exposition')\n",
    "plt.ylim(-100, 700)\n",
    "plt.title('Диаграмма размаха для периода активности объявления')\n",
    "plt.show()"
   ]
  },
  {
   "cell_type": "markdown",
   "metadata": {},
   "source": [
    "В случае с длительностью продажи экстремальные значения попадают только в правую зону выбросов и начинаются со значения, примерно равного 510 дням. Имея это в виду, построим гистограмму по данным столбца:"
   ]
  },
  {
   "cell_type": "code",
   "execution_count": 43,
   "metadata": {},
   "outputs": [
    {
     "data": {
      "image/png": "[encoded data removed]",
      "text/plain": [
       "<Figure size 504x504 with 1 Axes>"
      ]
     },
     "metadata": {
      "needs_background": "light"
     },
     "output_type": "display_data"
    }
   ],
   "source": [
    "initial_data.hist('number_of_days_exposition', bins=20, range=(0, 520), figsize=(7,7), color='#8a1c2e')\n",
    "plt.title('Период активности объявления')\n",
    "plt.show()"
   ]
  },
  {
   "cell_type": "markdown",
   "metadata": {},
   "source": [
    "Согласно графику, чаще всего объявления о продаже активны в течение 45,5 - 82 дней - таких объявлений около 3300 штук. Чуть реже (примерно 3050 штук) объявления снимаются ранее 45,5 дней после их публикации. После 82-го дня количество объявлений снижается вместе с увеличением времени, прошедшего с их публикации.\n",
    "\n",
    "Отвечая на вопрос о необычно долгих продажах, стоит вновь вспомнить о выбросах. Основываясь на диаграмме размаха, необычно долгими можно считать продажи с 510-го дня и дольше. Что касается необычно быстрых снятий объявлений, то в левой зоне выбросов значений не было, однако, на мой взгляд, снятие объявления через 0-5 дней выглядят довольно странными. При этом стоит учитывать, что не во всех случаях снятие объявления о продаже недвижимости означает его покупку, возможно продавец передумал продавать собственность или решил изменить условия, поэтому убрал объявление, чтобы заменить его на другое. Вероятны и иные причины, при которых снятие объявления через столь короткий промежуток времени вполне логично и объяснимо."
   ]
  },
  {
   "cell_type": "markdown",
   "metadata": {},
   "source": [
    "### Исследование влияния различных факторов на стоимость объекта недвижимости"
   ]
  },
  {
   "cell_type": "markdown",
   "metadata": {},
   "source": [
    "Проверим, как факторы (площадь объекта, число комнат, расстояние до центра города, категория этажа расположения и дата размещения) влияют на стоимость объекта. Для начала построим матрицу диаграмм рассеяния и корреляционную таблицу - они позволят нам определить наличие или отсутствие связей между указанными параметрами."
   ]
  },
  {
   "cell_type": "code",
   "execution_count": 44,
   "metadata": {},
   "outputs": [
    {
     "data": {
      "text/plain": [
       "array([[<AxesSubplot:xlabel='last_price', ylabel='last_price'>,\n",
       "        <AxesSubplot:xlabel='total_area_m2', ylabel='last_price'>,\n",
       "        <AxesSubplot:xlabel='number_of_rooms', ylabel='last_price'>,\n",
       "        <AxesSubplot:xlabel='distance_to_city_center_km', ylabel='last_price'>],\n",
       "       [<AxesSubplot:xlabel='last_price', ylabel='total_area_m2'>,\n",
       "        <AxesSubplot:xlabel='total_area_m2', ylabel='total_area_m2'>,\n",
       "        <AxesSubplot:xlabel='number_of_rooms', ylabel='total_area_m2'>,\n",
       "        <AxesSubplot:xlabel='distance_to_city_center_km', ylabel='total_area_m2'>],\n",
       "       [<AxesSubplot:xlabel='last_price', ylabel='number_of_rooms'>,\n",
       "        <AxesSubplot:xlabel='total_area_m2', ylabel='number_of_rooms'>,\n",
       "        <AxesSubplot:xlabel='number_of_rooms', ylabel='number_of_rooms'>,\n",
       "        <AxesSubplot:xlabel='distance_to_city_center_km', ylabel='number_of_rooms'>],\n",
       "       [<AxesSubplot:xlabel='last_price', ylabel='distance_to_city_center_km'>,\n",
       "        <AxesSubplot:xlabel='total_area_m2', ylabel='distance_to_city_center_km'>,\n",
       "        <AxesSubplot:xlabel='number_of_rooms', ylabel='distance_to_city_center_km'>,\n",
       "        <AxesSubplot:xlabel='distance_to_city_center_km', ylabel='distance_to_city_center_km'>]],\n",
       "      dtype=object)"
      ]
     },
     "execution_count": 44,
     "metadata": {},
     "output_type": "execute_result"
    },
    {
     "data": {
      "image/png": "[encoded data removed]",
      "text/plain": [
       "<Figure size 720x720 with 16 Axes>"
      ]
     },
     "metadata": {
      "needs_background": "light"
     },
     "output_type": "display_data"
    }
   ],
   "source": [
    "#отделяем данные, с которыми будем работать на этом этапе\n",
    "data_for_corr = initial_data.loc[:,['last_price','total_area_m2', 'number_of_rooms', 'distance_to_city_center_km']]\n",
    "pd.plotting.scatter_matrix(data_for_corr, figsize=(10, 10)) #строим матрицу"
   ]
  },
  {
   "cell_type": "code",
   "execution_count": 45,
   "metadata": {},
   "outputs": [
    {
     "data": {
      "text/html": [
       "<div>\n",
       "<style scoped>\n",
       "    .dataframe tbody tr th:only-of-type {\n",
       "        vertical-align: middle;\n",
       "    }\n",
       "\n",
       "    .dataframe tbody tr th {\n",
       "        vertical-align: top;\n",
       "    }\n",
       "\n",
       "    .dataframe thead th {\n",
       "        text-align: right;\n",
       "    }\n",
       "</style>\n",
       "<table border=\"1\" class=\"dataframe\">\n",
       "  <thead>\n",
       "    <tr style=\"text-align: right;\">\n",
       "      <th></th>\n",
       "      <th>last_price</th>\n",
       "      <th>total_area_m2</th>\n",
       "      <th>number_of_rooms</th>\n",
       "      <th>distance_to_city_center_km</th>\n",
       "    </tr>\n",
       "  </thead>\n",
       "  <tbody>\n",
       "    <tr>\n",
       "      <th>last_price</th>\n",
       "      <td>1.000000</td>\n",
       "      <td>0.653621</td>\n",
       "      <td>0.363191</td>\n",
       "      <td>-0.206621</td>\n",
       "    </tr>\n",
       "    <tr>\n",
       "      <th>total_area_m2</th>\n",
       "      <td>0.653621</td>\n",
       "      <td>1.000000</td>\n",
       "      <td>0.758735</td>\n",
       "      <td>-0.231003</td>\n",
       "    </tr>\n",
       "    <tr>\n",
       "      <th>number_of_rooms</th>\n",
       "      <td>0.363191</td>\n",
       "      <td>0.758735</td>\n",
       "      <td>1.000000</td>\n",
       "      <td>-0.183617</td>\n",
       "    </tr>\n",
       "    <tr>\n",
       "      <th>distance_to_city_center_km</th>\n",
       "      <td>-0.206621</td>\n",
       "      <td>-0.231003</td>\n",
       "      <td>-0.183617</td>\n",
       "      <td>1.000000</td>\n",
       "    </tr>\n",
       "  </tbody>\n",
       "</table>\n",
       "</div>"
      ],
      "text/plain": [
       "                            last_price  total_area_m2  number_of_rooms  \\\n",
       "last_price                    1.000000       0.653621         0.363191   \n",
       "total_area_m2                 0.653621       1.000000         0.758735   \n",
       "number_of_rooms               0.363191       0.758735         1.000000   \n",
       "distance_to_city_center_km   -0.206621      -0.231003        -0.183617   \n",
       "\n",
       "                            distance_to_city_center_km  \n",
       "last_price                                   -0.206621  \n",
       "total_area_m2                                -0.231003  \n",
       "number_of_rooms                              -0.183617  \n",
       "distance_to_city_center_km                    1.000000  "
      ]
     },
     "metadata": {},
     "output_type": "display_data"
    }
   ],
   "source": [
    "display(data_for_corr.corr()) #выводим на экран корреляционную таблицу"
   ]
  },
  {
   "cell_type": "markdown",
   "metadata": {},
   "source": [
    "По шкале Чеддока ни у одного из рассматриваемых параметров нет высокой корреляционой связи с ценой объекта, только общая площадь максимально приблизилась к нижней границе. Это связано с тем, что на цену влияет множество параметров, поэтому ни один из них не может иметь определяющего значения. Рассмотрим результаты построения матрицы и корреляционной таблицы по каждому параметру отдельно.\n",
    "\n",
    "Как уже было отмечено выше, цена объекта и его площадь имеют достаточно сильную (\"заметную\" по шкале Чеддока) положительную тесноту свяи. То есть чем больше площадь объекта, тем выше его цена, что вполне логично. Стоит отметить, что диаграмма рассеяния позволила увидеть примечательную деталь: при площадях до 200-250 м2 связь очень тесная, а затем с ростом площади она слабеет и примерно к 500 м2 практически исчезает. Однако предыдущие шаги анализа показали, что с площади в 110 м2 начинается зона выброса, а самые популярные варианты - объекты площадью 40-45 м2, поэтому можно сделать вывод о том, что площадь объекта оказывает достаточно сильное влияние на его цену.\n",
    "\n",
    "Перейдем к количеству комнат. Здесь связь умеренно-положительная, сильнее всего проявляется как раз в самых популярных вариантах: одна- и двухкомнатных объектах. Также стоит отметить, что с ростом цены теснота связи уменьшается.\n",
    "\n",
    "Наконец между ценой объекта и его удаленностью от центра города выявлена слабая отрицательная корреляционная связь, т.е чем больше расстояние, тем меньше цена, что тоже вполне логично и разумно."
   ]
  },
  {
   "cell_type": "markdown",
   "metadata": {},
   "source": [
    "Теперь исследуем взаимосвязь между ценой объекта и этажом, на котором он расположен. Работать будем не с конкретными этажами, а с их категориями, выделенными ранее. Кроме того удалим те данные, которые находятся в зоне выброса по цене."
   ]
  },
  {
   "cell_type": "code",
   "execution_count": 46,
   "metadata": {},
   "outputs": [
    {
     "data": {
      "image/png": "[encoded data removed]",
      "text/plain": [
       "<Figure size 504x504 with 1 Axes>"
      ]
     },
     "metadata": {
      "needs_background": "light"
     },
     "output_type": "display_data"
    },
    {
     "data": {
      "image/png": "[encoded data removed]",
      "text/plain": [
       "<Figure size 504x504 with 1 Axes>"
      ]
     },
     "metadata": {
      "needs_background": "light"
     },
     "output_type": "display_data"
    },
    {
     "data": {
      "image/png": "[encoded data removed]",
      "text/plain": [
       "<Figure size 504x504 with 1 Axes>"
      ]
     },
     "metadata": {
      "needs_background": "light"
     },
     "output_type": "display_data"
    }
   ],
   "source": [
    "price_without_emissions  = initial_data.query('last_price < 11800000') #очищаем данные от выбросов\n",
    "#делим данные в зависимости от категории этажа\n",
    "price_and_floor_one = price_without_emissions.loc[price_without_emissions['floor_category'] == 'первый'] \n",
    "price_and_floor_last = price_without_emissions.loc[price_without_emissions['floor_category'] == 'последний']\n",
    "price_and_floor_another = price_without_emissions.loc[price_without_emissions['floor_category'] == 'другой']\n",
    "#строим графики\n",
    "price_and_floors_plots = [price_and_floor_one, price_and_floor_last, price_and_floor_another]\n",
    "\n",
    "for i in price_and_floors_plots:\n",
    "    i['last_price'].plot(kind='hist', bins = 20, grid = True, figsize = (7,7), color='#ffb726')\n",
    "    plt.show()"
   ]
  },
  {
   "cell_type": "markdown",
   "metadata": {},
   "source": [
    "Во всех категориях четко выделяются лидеры:\n",
    "- от 3 млн 330 тыс. до 3 млн 730 тыс. на первом этаже;\n",
    "- от 3 млн 600 тыс. до 4 млн 100 тыс. на последнем этаже;\n",
    "- от 3 млн 340 тыс. до 3 млн 870 тыс. на других этажах.\n",
    "\n",
    "Как мы видим, самые дорогие из популярных объектов расположены на последних этажах зданий, а самые дешевые - на первых."
   ]
  },
  {
   "cell_type": "markdown",
   "metadata": {},
   "source": [
    "Теперь посмотрим, как на цену объекта влияют день, месяц и год размещения объявления о его продаже. Исследование проведем на базе средней цены объектов, рассчитаной в сводной таблице."
   ]
  },
  {
   "cell_type": "code",
   "execution_count": 47,
   "metadata": {},
   "outputs": [
    {
     "data": {
      "image/png": "[encoded data removed]",
      "text/plain": [
       "<Figure size 432x288 with 1 Axes>"
      ]
     },
     "metadata": {
      "needs_background": "light"
     },
     "output_type": "display_data"
    },
    {
     "data": {
      "image/png": "[encoded data removed]",
      "text/plain": [
       "<Figure size 432x288 with 1 Axes>"
      ]
     },
     "metadata": {
      "needs_background": "light"
     },
     "output_type": "display_data"
    },
    {
     "data": {
      "image/png": "[encoded data removed]",
      "text/plain": [
       "<Figure size 432x288 with 1 Axes>"
      ]
     },
     "metadata": {
      "needs_background": "light"
     },
     "output_type": "display_data"
    }
   ],
   "source": [
    "price_without_emissions.pivot_table(index='weekday_exposition', values='last_price').plot(kind='line', \n",
    "                                    style='o-', grid=True, \n",
    "                                    title='Средняя цена объекта в зависимости от дня размещения объявления')\n",
    "plt.show()\n",
    "price_without_emissions.pivot_table(index='month_exposition', values='last_price').plot(kind='line', \n",
    "                                    style='o-', grid=True, \n",
    "                                    title='Средняя цена объекта в зависимости от месяца размещения объявления')\n",
    "plt.show()\n",
    "price_without_emissions.pivot_table(index='year_exposition', values='last_price').plot(kind='line', \n",
    "                                    style='o-', grid=True, \n",
    "                                    title='Средняя цена объекта в зависимости от года размещения объявления')\n",
    "plt.show()"
   ]
  },
  {
   "cell_type": "markdown",
   "metadata": {},
   "source": [
    "Проанализируем каждый построенный график в отдельности. В начале недели цены на недвижимость растут и достигают максимума ко вторнику, а затем начинают плавное снижение, которое ускоряется к субботе, когда цены достигают своего минимума и, словно отталкиваясь от дна, начинают новый рост. \n",
    "\n",
    "В течение года цены ведут себя очень неоднородно, на графике сразу несколько пиков. Максимумов стоимость достигает в апреле и сентябре, а минимума в июне. Еще примечательно, что в июле и августе цены на недвижимость остаются на одном уровне.\n",
    "\n",
    "Если смотреть динамику за несколько лет, то с 2014 года наблюдалось снижение цен. В 2016 году его скорость уменьшилась, а в 2017 цены достигли минимума и начали плавный рост, скорость которого резко увеличилась к 2019 году.\n",
    "\n",
    "Переходим к следующему этапу исследования."
   ]
  },
  {
   "cell_type": "markdown",
   "metadata": {},
   "source": [
    "### Исследование 10-и населённых пунктов с наибольшим числом объявлений"
   ]
  },
  {
   "cell_type": "code",
   "execution_count": 48,
   "metadata": {},
   "outputs": [
    {
     "data": {
      "text/plain": [
       "санкт-петербург      66.416295\n",
       "поселок мурино        2.342457\n",
       "поселок шушары        1.862932\n",
       "всеволожск            1.688945\n",
       "пушкин                1.565882\n",
       "колпино               1.434331\n",
       "поселок парголово     1.387651\n",
       "гатчина               1.302780\n",
       "деревня кудрово       1.268831\n",
       "выборг                1.005729\n",
       "петергоф              0.852960\n",
       "Name: locality_name, dtype: float64"
      ]
     },
     "execution_count": 48,
     "metadata": {},
     "output_type": "execute_result"
    }
   ],
   "source": [
    "#считаем 10 пунктов с наибольшим числом объявлений и выводим результат на экран\n",
    "(initial_data['locality_name'].value_counts() / initial_data.shape[0] * 100).head(11) "
   ]
  },
  {
   "cell_type": "markdown",
   "metadata": {},
   "source": [
    "Санкт-Петербург слишком выделяется по количеству значений и, рискну предположить, по стоимости квадратного метра недвижимости. Поэтому для чистоты и корректности исследования исключим его из выборки как экстремальное значение."
   ]
  },
  {
   "cell_type": "code",
   "execution_count": 49,
   "metadata": {},
   "outputs": [
    {
     "data": {
      "text/plain": [
       "санкт-петербург      66.416295\n",
       "поселок мурино        2.342457\n",
       "поселок шушары        1.862932\n",
       "всеволожск            1.688945\n",
       "пушкин                1.565882\n",
       "колпино               1.434331\n",
       "поселок парголово     1.387651\n",
       "гатчина               1.302780\n",
       "деревня кудрово       1.268831\n",
       "выборг                1.005729\n",
       "петергоф              0.852960\n",
       "сестрорецк            0.776575\n",
       "Name: locality_name, dtype: float64"
      ]
     },
     "execution_count": 49,
     "metadata": {},
     "output_type": "execute_result"
    }
   ],
   "source": [
    "(initial_data['locality_name'].value_counts() / initial_data.shape[0] * 100).head(12) #делаем новую выборку"
   ]
  },
  {
   "cell_type": "markdown",
   "metadata": {},
   "source": [
    "Теперь у нас есть рейтинг 10 населенных пунктов по количеству объявлений о продаже. Необходимо ранжировать их по цене за квадратный метр."
   ]
  },
  {
   "cell_type": "code",
   "execution_count": 50,
   "metadata": {
    "scrolled": false
   },
   "outputs": [
    {
     "data": {
      "text/plain": [
       "<AxesSubplot:title={'center':'Рейтинг населенных пунктов по цене за м2'}, xlabel='locality_name'>"
      ]
     },
     "execution_count": 50,
     "metadata": {},
     "output_type": "execute_result"
    },
    {
     "data": {
      "image/png": "[encoded data removed]",
      "text/plain": [
       "<Figure size 432x288 with 1 Axes>"
      ]
     },
     "metadata": {
      "needs_background": "light"
     },
     "output_type": "display_data"
    }
   ],
   "source": [
    "top_locality_name = ['поселок мурино', 'поселок шушары', 'всеволожск', 'пушкин', 'колпино',' поселок парголово',\n",
    "                     'гатчина', 'деревня кудрово', 'выборг', 'петергоф', 'сестрорецк'] #создаем список с названиями нужных пунктов\n",
    "#отделяем массив данных, который понадобится нам для исследования\n",
    "top_locality_data = initial_data[initial_data['locality_name'].isin(top_locality_name)] \n",
    "#строим график для сравнения цен за м2\n",
    "top_locality_data.pivot_table(index='locality_name', values='price_for_m2').round(2).sort_values('price_for_m2', ascending=True).plot(\n",
    "    y='price_for_m2', kind='bar', grid = True, color = '#c3a1e3', title='Рейтинг населенных пунктов по цене за м2') "
   ]
  },
  {
   "cell_type": "markdown",
   "metadata": {},
   "source": [
    "График показывает, что самая высокая стоимость жилья среди исследованных населенных пунктов в Пушкине и Сестрорецке, а самая низкая в Выборге, Всеволжске и Гатчине (в последних двух разница в цене крайне мала).\n",
    "\n",
    "Напомню, что в начале этого этапа мы исключили из выборки Санкт-Петербург. Пришло время изучить ситуацию с недвижимостью в северной столице."
   ]
  },
  {
   "cell_type": "markdown",
   "metadata": {},
   "source": [
    "### Исследование квартир в центральной зоне Санкт-Петербурга"
   ]
  },
  {
   "cell_type": "markdown",
   "metadata": {},
   "source": [
    "Начнем заключительный этап исследования с очерчивания границы центральной зоны города."
   ]
  },
  {
   "cell_type": "code",
   "execution_count": 51,
   "metadata": {
    "scrolled": false
   },
   "outputs": [
    {
     "data": {
      "image/png": "[encoded data removed]",
      "text/plain": [
       "<Figure size 720x504 with 1 Axes>"
      ]
     },
     "metadata": {
      "needs_background": "light"
     },
     "output_type": "display_data"
    }
   ],
   "source": [
    "data_spb = initial_data[initial_data['locality_name'] == 'санкт-петербург'] #вычленим данные, относящиеся к Петербургу\n",
    "#на графике отобразим зависимость стоимости объектов от их расстояния до центра\n",
    "price_and_distance_spb = data_spb.pivot_table(index='distance_to_city_center_km', values='price_for_m2').plot(y='price_for_m2', \n",
    "                                              style='o-', grid=True, figsize=(10, 7),\n",
    "    title='Цена за квадратный метр в зависимости от расстояния до центра города')\n",
    "plt.show()"
   ]
  },
  {
   "cell_type": "markdown",
   "metadata": {},
   "source": [
    "Хорошо видно, что график сильно меняется после отметки в 9 км. Значит, граница центральной зоны города проходит именно по этому расстоянию.\\\n",
    "Теперь исследуем влияние различных параметров на стоимость недвижимости в центральной зоне и сравним результаты с общегородскими."
   ]
  },
  {
   "cell_type": "code",
   "execution_count": 52,
   "metadata": {
    "scrolled": false
   },
   "outputs": [
    {
     "data": {
      "image/png": "[encoded data removed]",
      "text/plain": [
       "<Figure size 504x504 with 1 Axes>"
      ]
     },
     "metadata": {
      "needs_background": "light"
     },
     "output_type": "display_data"
    },
    {
     "data": {
      "image/png": "[encoded data removed]",
      "text/plain": [
       "<Figure size 504x504 with 1 Axes>"
      ]
     },
     "metadata": {
      "needs_background": "light"
     },
     "output_type": "display_data"
    },
    {
     "data": {
      "image/png": "[encoded data removed]",
      "text/plain": [
       "<Figure size 504x504 with 1 Axes>"
      ]
     },
     "metadata": {
      "needs_background": "light"
     },
     "output_type": "display_data"
    },
    {
     "data": {
      "image/png": "[encoded data removed]",
      "text/plain": [
       "<Figure size 504x504 with 1 Axes>"
      ]
     },
     "metadata": {
      "needs_background": "light"
     },
     "output_type": "display_data"
    }
   ],
   "source": [
    "#вычленяем данные, относящиеся к центральной зоне и не включающие экстремальные значения исследуемых параметров\n",
    "spb_central_zone = initial_data.query('distance_to_city_center_km<=9 and total_area_m2<110 and last_price<11800000 and number_of_rooms<6 and ceiling_height_m>2.45 and ceiling_height_m<2.85')\n",
    "#строим графики по каждому параметру\n",
    "spb_central_zone.hist('total_area_m2', bins=20, figsize=(7,7), color='#1d8a1f')\n",
    "plt.title('Площади объектов в центральной зоне, м2')\n",
    "plt.show()\n",
    "spb_central_zone.hist('last_price', bins=20, figsize=(7,7))\n",
    "plt.title('Стоимость объектов в центральной зоне')\n",
    "plt.show()\n",
    "spb_central_zone.hist('number_of_rooms', bins=20, figsize=(7,7), color='#8ffff4')\n",
    "plt.title('Количество комнат в объектах в центральной зоне')\n",
    "plt.show()\n",
    "spb_central_zone.hist('ceiling_height_m', bins=20, figsize=(7,7), color='#f7f448')\n",
    "plt.title('Высота потолков объектов в центральной зоне, м')\n",
    "plt.show()"
   ]
  },
  {
   "cell_type": "markdown",
   "metadata": {},
   "source": [
    "Почти по всем исследованным параметрам четко выделяется единоличный лидер по количеству объектов. Чаще всего в центральной зоне Петербурга покупаются объекты недвижимости со следующими характеристиками:\n",
    "- общая площадь от 41 до 45 м2;\n",
    "- стоимость в одном из следующих ценовых диапазонов: 4,8-5,3 и 6,4-7 млн рублей;\n",
    "- двухкомнатные;\n",
    "- высота потолков от 2,65 до 2,67 м.\n",
    "\n",
    "Теперь сравним эти результаты с общегородскими данными."
   ]
  },
  {
   "cell_type": "code",
   "execution_count": 56,
   "metadata": {},
   "outputs": [
    {
     "name": "stderr",
     "output_type": "stream",
     "text": [
      "/opt/conda/lib/python3.9/site-packages/seaborn/distributions.py:2557: FutureWarning: `distplot` is a deprecated function and will be removed in a future version. Please adapt your code to use either `displot` (a figure-level function with similar flexibility) or `histplot` (an axes-level function for histograms).\n",
      "  warnings.warn(msg, FutureWarning)\n"
     ]
    },
    {
     "data": {
      "image/png": "[encoded data removed]",
      "text/plain": [
       "<Figure size 432x288 with 1 Axes>"
      ]
     },
     "metadata": {
      "needs_background": "light"
     },
     "output_type": "display_data"
    },
    {
     "data": {
      "image/png": "[encoded data removed]",
      "text/plain": [
       "<Figure size 432x288 with 1 Axes>"
      ]
     },
     "metadata": {
      "needs_background": "light"
     },
     "output_type": "display_data"
    },
    {
     "data": {
      "image/png": "[encoded data removed]",
      "text/plain": [
       "<Figure size 432x288 with 1 Axes>"
      ]
     },
     "metadata": {
      "needs_background": "light"
     },
     "output_type": "display_data"
    },
    {
     "data": {
      "image/png": "[encoded data removed]",
      "text/plain": [
       "<Figure size 432x288 with 1 Axes>"
      ]
     },
     "metadata": {
      "needs_background": "light"
     },
     "output_type": "display_data"
    }
   ],
   "source": [
    "#вычленяем данные, относящиеся к Санкт-Петербургу и не включающие экстремальные значения исследуемых параметров\n",
    "spb = initial_data.query('locality_name == \"санкт-петербург\" and total_area_m2<110 and last_price<11800000 and number_of_rooms<6 and ceiling_height_m>2.45 and ceiling_height_m<2.85')\n",
    "#строим графики по каждому параметру для города и его центральной зоны\n",
    "sns.distplot(spb['total_area_m2'], color='#f04fc2', kde=False)\n",
    "sns.distplot(spb_central_zone['total_area_m2'], color='#1d8a1f', kde=False)\n",
    "plt.grid()\n",
    "plt.title('Сравнение по площадям объектов')\n",
    "plt.show()\n",
    "sns.distplot(spb['last_price'], color='#f04fc2', kde=False)\n",
    "sns.distplot(spb_central_zone['last_price'], color='#3c8be5', kde=False)\n",
    "plt.grid()\n",
    "plt.title('Сравнение по ценам объектов')\n",
    "plt.show()\n",
    "sns.distplot(spb['number_of_rooms'], color='#f04fc2', kde=False)\n",
    "sns.distplot(spb_central_zone['number_of_rooms'], color='#8ffff4', kde=False)\n",
    "plt.grid()\n",
    "plt.title('Сравнение по количеству комнат')\n",
    "plt.show()\n",
    "sns.distplot(spb['ceiling_height_m'], color='#f04fc2', kde=False)\n",
    "sns.distplot(spb_central_zone['ceiling_height_m'], color='#f7f448', kde=False)\n",
    "plt.grid()\n",
    "plt.title('Сравнение по высоте потолков')\n",
    "plt.show()"
   ]
  },
  {
   "cell_type": "markdown",
   "metadata": {},
   "source": [
    "Графики показали следующее:\n",
    "- в целом по городу петербуржцы предпочитают приобретать чуть более просторную недвижимость, чаще всего площадь объектов составляла от 43,5 до 46 м2 (против 41 и 45 в центральной зоне);\n",
    "- цены в центральной зоне распределены более равномерно: нет таких ярко выраженных пиков как в общегородских данных, а второй по популярности вариант почти не уступает лидеру, в отличие от общегородского. Чаще всего объекты в Питербурге покупаются по ценам от 3,7 млн до 4 млн включительно, что значительно ниже значений даже первого ценового диапазона центральной зоны (4,8-5,3 млн). Т. е. недвижимость в центре города дороже, на что уже ранее указывали результаты этапа 4.3;\n",
    "- интересный результат показало и сравнение по количеству комнат: если в центральной зоне явно преобладали двухкомнатные объекты, то во всем Петербурге отдают предпочтение \"однушкам\", а вот трехкомнатная недвижимость сильно уступает своим конкурентам в обоих случаях;\n",
    "- потолки в центре оказались выше, но совсем незначительно: 2,65-2,67 м против 2,64-2,66 м.\n",
    "\n",
    "Далее рассмотрим, как различные факторы влияют на стоимость недвижимости в центральной зоне и городе вцелом. Оценивать тесноту связи будем как и ранее, по шкале Чеддока."
   ]
  },
  {
   "cell_type": "code",
   "execution_count": 54,
   "metadata": {
    "scrolled": false
   },
   "outputs": [
    {
     "data": {
      "text/html": [
       "<div>\n",
       "<style scoped>\n",
       "    .dataframe tbody tr th:only-of-type {\n",
       "        vertical-align: middle;\n",
       "    }\n",
       "\n",
       "    .dataframe tbody tr th {\n",
       "        vertical-align: top;\n",
       "    }\n",
       "\n",
       "    .dataframe thead th {\n",
       "        text-align: right;\n",
       "    }\n",
       "</style>\n",
       "<table border=\"1\" class=\"dataframe\">\n",
       "  <thead>\n",
       "    <tr style=\"text-align: right;\">\n",
       "      <th></th>\n",
       "      <th>last_price</th>\n",
       "      <th>number_of_rooms</th>\n",
       "      <th>distance_to_city_center_km</th>\n",
       "      <th>floor</th>\n",
       "      <th>number_of_days_exposition</th>\n",
       "    </tr>\n",
       "  </thead>\n",
       "  <tbody>\n",
       "    <tr>\n",
       "      <th>last_price</th>\n",
       "      <td>1.000000</td>\n",
       "      <td>0.460964</td>\n",
       "      <td>-0.316741</td>\n",
       "      <td>0.107067</td>\n",
       "      <td>0.130808</td>\n",
       "    </tr>\n",
       "    <tr>\n",
       "      <th>number_of_rooms</th>\n",
       "      <td>0.460964</td>\n",
       "      <td>1.000000</td>\n",
       "      <td>-0.193367</td>\n",
       "      <td>-0.143297</td>\n",
       "      <td>0.050101</td>\n",
       "    </tr>\n",
       "    <tr>\n",
       "      <th>distance_to_city_center_km</th>\n",
       "      <td>-0.316741</td>\n",
       "      <td>-0.193367</td>\n",
       "      <td>1.000000</td>\n",
       "      <td>0.253935</td>\n",
       "      <td>-0.092497</td>\n",
       "    </tr>\n",
       "    <tr>\n",
       "      <th>floor</th>\n",
       "      <td>0.107067</td>\n",
       "      <td>-0.143297</td>\n",
       "      <td>0.253935</td>\n",
       "      <td>1.000000</td>\n",
       "      <td>-0.017063</td>\n",
       "    </tr>\n",
       "    <tr>\n",
       "      <th>number_of_days_exposition</th>\n",
       "      <td>0.130808</td>\n",
       "      <td>0.050101</td>\n",
       "      <td>-0.092497</td>\n",
       "      <td>-0.017063</td>\n",
       "      <td>1.000000</td>\n",
       "    </tr>\n",
       "  </tbody>\n",
       "</table>\n",
       "</div>"
      ],
      "text/plain": [
       "                            last_price  number_of_rooms  \\\n",
       "last_price                    1.000000         0.460964   \n",
       "number_of_rooms               0.460964         1.000000   \n",
       "distance_to_city_center_km   -0.316741        -0.193367   \n",
       "floor                         0.107067        -0.143297   \n",
       "number_of_days_exposition     0.130808         0.050101   \n",
       "\n",
       "                            distance_to_city_center_km     floor  \\\n",
       "last_price                                   -0.316741  0.107067   \n",
       "number_of_rooms                              -0.193367 -0.143297   \n",
       "distance_to_city_center_km                    1.000000  0.253935   \n",
       "floor                                         0.253935  1.000000   \n",
       "number_of_days_exposition                    -0.092497 -0.017063   \n",
       "\n",
       "                            number_of_days_exposition  \n",
       "last_price                                   0.130808  \n",
       "number_of_rooms                              0.050101  \n",
       "distance_to_city_center_km                  -0.092497  \n",
       "floor                                       -0.017063  \n",
       "number_of_days_exposition                    1.000000  "
      ]
     },
     "metadata": {},
     "output_type": "display_data"
    },
    {
     "data": {
      "text/html": [
       "<div>\n",
       "<style scoped>\n",
       "    .dataframe tbody tr th:only-of-type {\n",
       "        vertical-align: middle;\n",
       "    }\n",
       "\n",
       "    .dataframe tbody tr th {\n",
       "        vertical-align: top;\n",
       "    }\n",
       "\n",
       "    .dataframe thead th {\n",
       "        text-align: right;\n",
       "    }\n",
       "</style>\n",
       "<table border=\"1\" class=\"dataframe\">\n",
       "  <thead>\n",
       "    <tr style=\"text-align: right;\">\n",
       "      <th></th>\n",
       "      <th>last_price</th>\n",
       "      <th>number_of_rooms</th>\n",
       "      <th>distance_to_city_center_km</th>\n",
       "      <th>floor</th>\n",
       "      <th>number_of_days_exposition</th>\n",
       "    </tr>\n",
       "  </thead>\n",
       "  <tbody>\n",
       "    <tr>\n",
       "      <th>last_price</th>\n",
       "      <td>1.000000</td>\n",
       "      <td>0.479106</td>\n",
       "      <td>-0.273904</td>\n",
       "      <td>0.122562</td>\n",
       "      <td>0.083655</td>\n",
       "    </tr>\n",
       "    <tr>\n",
       "      <th>number_of_rooms</th>\n",
       "      <td>0.479106</td>\n",
       "      <td>1.000000</td>\n",
       "      <td>-0.065112</td>\n",
       "      <td>-0.169971</td>\n",
       "      <td>0.061753</td>\n",
       "    </tr>\n",
       "    <tr>\n",
       "      <th>distance_to_city_center_km</th>\n",
       "      <td>-0.273904</td>\n",
       "      <td>-0.065112</td>\n",
       "      <td>1.000000</td>\n",
       "      <td>0.161465</td>\n",
       "      <td>-0.062011</td>\n",
       "    </tr>\n",
       "    <tr>\n",
       "      <th>floor</th>\n",
       "      <td>0.122562</td>\n",
       "      <td>-0.169971</td>\n",
       "      <td>0.161465</td>\n",
       "      <td>1.000000</td>\n",
       "      <td>-0.014543</td>\n",
       "    </tr>\n",
       "    <tr>\n",
       "      <th>number_of_days_exposition</th>\n",
       "      <td>0.083655</td>\n",
       "      <td>0.061753</td>\n",
       "      <td>-0.062011</td>\n",
       "      <td>-0.014543</td>\n",
       "      <td>1.000000</td>\n",
       "    </tr>\n",
       "  </tbody>\n",
       "</table>\n",
       "</div>"
      ],
      "text/plain": [
       "                            last_price  number_of_rooms  \\\n",
       "last_price                    1.000000         0.479106   \n",
       "number_of_rooms               0.479106         1.000000   \n",
       "distance_to_city_center_km   -0.273904        -0.065112   \n",
       "floor                         0.122562        -0.169971   \n",
       "number_of_days_exposition     0.083655         0.061753   \n",
       "\n",
       "                            distance_to_city_center_km     floor  \\\n",
       "last_price                                   -0.273904  0.122562   \n",
       "number_of_rooms                              -0.065112 -0.169971   \n",
       "distance_to_city_center_km                    1.000000  0.161465   \n",
       "floor                                         0.161465  1.000000   \n",
       "number_of_days_exposition                    -0.062011 -0.014543   \n",
       "\n",
       "                            number_of_days_exposition  \n",
       "last_price                                   0.083655  \n",
       "number_of_rooms                              0.061753  \n",
       "distance_to_city_center_km                  -0.062011  \n",
       "floor                                       -0.014543  \n",
       "number_of_days_exposition                    1.000000  "
      ]
     },
     "metadata": {},
     "output_type": "display_data"
    }
   ],
   "source": [
    "data_for_corr_centr = spb_central_zone.loc[:,['last_price', 'number_of_rooms', 'distance_to_city_center_km', 'floor', 'number_of_days_exposition']]\n",
    "data_for_corr_spb = spb.loc[:,['last_price', 'number_of_rooms', 'distance_to_city_center_km', 'floor', 'number_of_days_exposition']]\n",
    "display(data_for_corr_centr.corr())\n",
    "display(data_for_corr_spb.corr())"
   ]
  },
  {
   "cell_type": "markdown",
   "metadata": {},
   "source": [
    "Самая тесная связь выявлена между ценой и количеством комнат. Она оценивается как \"умеренная\" и в центральной зоне чуть слабее. Связь положительная, т.е. чем больше в объекте комнат, тем выше его цена. \n",
    "\n",
    "Интересной выглядит связь между ценой объекта и его удаленностью от центра. В обоих случаях она отрицательная, но в центральной зоне теснота связи выше: \"умеренная\" против \"слабой\" или на 0.043 пункта. Могу предположить, что это связано с определенным статусом недвижимости, расположенной в центральной зоне. Как мы выяснили ранее, цены на нее заметно выше, скорее всего именно из-за близости к центру, поэтому влияние каждого километра на стоимость объекта становится сильнее, а теснота связи выше.\n",
    "\n",
    "Влияние длительности периода активности объявления в центре также выше, а вот теснота связи цены и этажа наоборот слабее - возможно, это связано с тем, что в центре Петербурга не так широко распространена высотная застройка как на окраинах, следовательно вариативность этажей меньше и слабее их влияние на стоимость недвижимости. Это предположение косвенно подтверждает коэффициент корреляции между расстоянием до центра города и этажами: он положительный и в центральной зоне значительно выше, чем в общегородских данных.\n",
    "\n",
    "На этом исследовательский анализ данных можно считать завершенным. Перейдем к итоговым выводам."
   ]
  },
  {
   "cell_type": "markdown",
   "metadata": {},
   "source": [
    "## Итоговые выводы"
   ]
  },
  {
   "cell_type": "markdown",
   "metadata": {},
   "source": [
    "Проведенное исследование недвижимости, продаваемой в Санкт-Петербурге и его пригородах, позволило сделать следующие выводы:\n",
    "- чаще всего приобретаются объекты недвижимости площадью от 40 до 45 м2;\n",
    "- самыми популярными в Санкт-Петербурге и пригородах являются однокомнатные объекты, в то время как в центре города отдают большее предпочтение двухкомнатным;\n",
    "- недвижимость в центре Петербурга гораздо дороже, чем в остальном городе и его пригородах;\n",
    "- чаще всего в исследованных объектах высота потолков составляла 2,65 м (во всех рассмотренных территориальных зонах), однако стоит учесть, что этим значением на этапе предобработки данных были заменены имеющиеся в столбце пропуски. Т.к. отклонения от данного значения в большинстве случаев минимальны (менее 0,05 м), а само значение является медианным, то можно сказать, что это действительно самая часто встречающаяся высота потолков в исследованных объектах;\n",
    "- самыми дорогими оказались объекты, расположенные на последних этажах, а самыми дешевыми - на первом;\n",
    "- среди пригородов с наибольшим числом объявлений о продаже недвижимости самые низкие цены были выявлены в Выборге, Гатчине и Всеволжске, а самые высокие в Пушкине и Сестрорецке;\n",
    "- сильнее всего на стоимость объекта влияет его площадь, также достаточно тесная взаимосвязь выявлена между ценой объекта и количеством комнат в нем; удаленность от центра имеет слабое, но при этом отрицательное влияние(в центральной зоне данная связь усиливается);\n",
    "- цены на недвижимость в рассматриваемом районе снижались с различной скоростью вплоть до 2017 года, после чаго начался убыстряющийся рост;\n",
    "- согласно общим данным, недвижимость продается в течение 45-82 дней с момента размещения объявления."
   ]
  }
 ],
 "metadata": {
  "ExecuteTimeLog": [
   {
    "duration": 549,
    "start_time": "2021-12-11T17:01:40.220Z"
   },
   {
    "duration": 81,
    "start_time": "2021-12-11T17:01:42.448Z"
   },
   {
    "duration": 65,
    "start_time": "2021-12-11T17:01:52.556Z"
   },
   {
    "duration": 64,
    "start_time": "2021-12-11T17:15:28.603Z"
   },
   {
    "duration": 87,
    "start_time": "2021-12-11T17:17:57.491Z"
   },
   {
    "duration": 77,
    "start_time": "2021-12-11T17:18:53.769Z"
   },
   {
    "duration": 33,
    "start_time": "2021-12-11T17:30:46.814Z"
   },
   {
    "duration": 25,
    "start_time": "2021-12-11T17:32:49.819Z"
   },
   {
    "duration": 66,
    "start_time": "2021-12-11T17:35:09.515Z"
   },
   {
    "duration": 794,
    "start_time": "2021-12-12T07:59:43.388Z"
   },
   {
    "duration": 108,
    "start_time": "2021-12-12T07:59:44.189Z"
   },
   {
    "duration": 49,
    "start_time": "2021-12-12T07:59:44.300Z"
   },
   {
    "duration": 46,
    "start_time": "2021-12-12T07:59:44.367Z"
   },
   {
    "duration": 135,
    "start_time": "2021-12-12T07:59:44.415Z"
   },
   {
    "duration": 48,
    "start_time": "2021-12-12T07:59:49.553Z"
   },
   {
    "duration": 466,
    "start_time": "2021-12-12T08:56:51.220Z"
   },
   {
    "duration": 6,
    "start_time": "2021-12-12T08:57:13.786Z"
   },
   {
    "duration": 14,
    "start_time": "2021-12-12T09:14:11.444Z"
   },
   {
    "duration": 42,
    "start_time": "2021-12-12T09:28:57.794Z"
   },
   {
    "duration": 38,
    "start_time": "2021-12-12T10:14:46.047Z"
   },
   {
    "duration": 18,
    "start_time": "2021-12-12T10:15:09.106Z"
   },
   {
    "duration": 46,
    "start_time": "2021-12-12T10:15:45.007Z"
   },
   {
    "duration": 65,
    "start_time": "2021-12-12T10:16:09.023Z"
   },
   {
    "duration": 98,
    "start_time": "2021-12-12T10:44:11.583Z"
   },
   {
    "duration": 14,
    "start_time": "2021-12-12T10:44:28.256Z"
   },
   {
    "duration": 13,
    "start_time": "2021-12-12T10:49:37.864Z"
   },
   {
    "duration": 39,
    "start_time": "2021-12-12T10:49:42.082Z"
   },
   {
    "duration": 11203,
    "start_time": "2021-12-12T10:52:17.040Z"
   },
   {
    "duration": 14,
    "start_time": "2021-12-12T10:54:37.042Z"
   },
   {
    "duration": 14,
    "start_time": "2021-12-12T11:00:21.009Z"
   },
   {
    "duration": 17,
    "start_time": "2021-12-12T11:04:37.511Z"
   },
   {
    "duration": 41,
    "start_time": "2021-12-12T11:05:08.264Z"
   },
   {
    "duration": 60,
    "start_time": "2021-12-12T11:05:51.807Z"
   },
   {
    "duration": 357,
    "start_time": "2021-12-12T11:05:58.260Z"
   },
   {
    "duration": 451,
    "start_time": "2021-12-12T13:15:17.469Z"
   },
   {
    "duration": 805,
    "start_time": "2021-12-12T13:15:24.389Z"
   },
   {
    "duration": 100,
    "start_time": "2021-12-12T13:15:25.197Z"
   },
   {
    "duration": 63,
    "start_time": "2021-12-12T13:15:25.301Z"
   },
   {
    "duration": 39,
    "start_time": "2021-12-12T13:15:25.368Z"
   },
   {
    "duration": 128,
    "start_time": "2021-12-12T13:15:25.409Z"
   },
   {
    "duration": 51,
    "start_time": "2021-12-12T13:15:25.540Z"
   },
   {
    "duration": 5,
    "start_time": "2021-12-12T13:15:25.594Z"
   },
   {
    "duration": 15,
    "start_time": "2021-12-12T13:15:25.603Z"
   },
   {
    "duration": 70,
    "start_time": "2021-12-12T13:15:25.620Z"
   },
   {
    "duration": 456,
    "start_time": "2021-12-12T13:15:32.990Z"
   },
   {
    "duration": 27,
    "start_time": "2021-12-12T13:15:51.314Z"
   },
   {
    "duration": 18,
    "start_time": "2021-12-12T13:16:31.146Z"
   },
   {
    "duration": 12,
    "start_time": "2021-12-12T13:16:49.829Z"
   },
   {
    "duration": 828,
    "start_time": "2021-12-13T14:32:08.310Z"
   },
   {
    "duration": 71,
    "start_time": "2021-12-13T14:32:09.140Z"
   },
   {
    "duration": 28,
    "start_time": "2021-12-13T14:32:09.213Z"
   },
   {
    "duration": 22,
    "start_time": "2021-12-13T14:32:09.242Z"
   },
   {
    "duration": 79,
    "start_time": "2021-12-13T14:32:09.266Z"
   },
   {
    "duration": 23,
    "start_time": "2021-12-13T14:32:09.347Z"
   },
   {
    "duration": 16,
    "start_time": "2021-12-13T14:32:09.372Z"
   },
   {
    "duration": 8,
    "start_time": "2021-12-13T14:32:09.390Z"
   },
   {
    "duration": 22,
    "start_time": "2021-12-13T14:32:09.400Z"
   },
   {
    "duration": 14,
    "start_time": "2021-12-13T14:32:09.424Z"
   },
   {
    "duration": 10,
    "start_time": "2021-12-13T14:32:13.821Z"
   },
   {
    "duration": 3,
    "start_time": "2021-12-13T14:45:39.170Z"
   },
   {
    "duration": 71,
    "start_time": "2021-12-13T14:45:45.019Z"
   },
   {
    "duration": 29,
    "start_time": "2021-12-13T14:45:48.520Z"
   },
   {
    "duration": 41,
    "start_time": "2021-12-13T14:45:51.890Z"
   },
   {
    "duration": 64,
    "start_time": "2021-12-13T14:45:56.609Z"
   },
   {
    "duration": 23,
    "start_time": "2021-12-13T14:45:59.097Z"
   },
   {
    "duration": 3,
    "start_time": "2021-12-13T14:46:05.485Z"
   },
   {
    "duration": 8,
    "start_time": "2021-12-13T14:46:08.660Z"
   },
   {
    "duration": 28,
    "start_time": "2021-12-13T14:46:18.180Z"
   },
   {
    "duration": 10,
    "start_time": "2021-12-13T15:05:49.153Z"
   },
   {
    "duration": 315,
    "start_time": "2021-12-13T15:06:08.157Z"
   },
   {
    "duration": 261,
    "start_time": "2021-12-13T15:07:42.720Z"
   },
   {
    "duration": 296,
    "start_time": "2021-12-13T15:08:15.592Z"
   },
   {
    "duration": 259,
    "start_time": "2021-12-13T15:08:48.804Z"
   },
   {
    "duration": 26,
    "start_time": "2021-12-13T15:09:22.482Z"
   },
   {
    "duration": 16,
    "start_time": "2021-12-13T15:09:28.792Z"
   },
   {
    "duration": 14,
    "start_time": "2021-12-13T15:09:40.243Z"
   },
   {
    "duration": 14,
    "start_time": "2021-12-13T15:09:44.426Z"
   },
   {
    "duration": 6370,
    "start_time": "2021-12-13T15:28:16.018Z"
   },
   {
    "duration": 267,
    "start_time": "2021-12-13T15:40:44.278Z"
   },
   {
    "duration": 10,
    "start_time": "2021-12-13T15:42:06.192Z"
   },
   {
    "duration": 3,
    "start_time": "2021-12-13T15:56:09.491Z"
   },
   {
    "duration": 80,
    "start_time": "2021-12-13T15:56:09.496Z"
   },
   {
    "duration": 26,
    "start_time": "2021-12-13T15:56:09.579Z"
   },
   {
    "duration": 25,
    "start_time": "2021-12-13T15:56:09.607Z"
   },
   {
    "duration": 88,
    "start_time": "2021-12-13T15:56:09.633Z"
   },
   {
    "duration": 23,
    "start_time": "2021-12-13T15:56:09.722Z"
   },
   {
    "duration": 4,
    "start_time": "2021-12-13T15:56:09.747Z"
   },
   {
    "duration": 12,
    "start_time": "2021-12-13T15:56:09.752Z"
   },
   {
    "duration": 25,
    "start_time": "2021-12-13T15:56:09.788Z"
   },
   {
    "duration": 12,
    "start_time": "2021-12-13T15:56:09.815Z"
   },
   {
    "duration": 12,
    "start_time": "2021-12-13T15:56:09.829Z"
   },
   {
    "duration": 47,
    "start_time": "2021-12-13T15:56:09.842Z"
   },
   {
    "duration": 26,
    "start_time": "2021-12-13T16:02:47.561Z"
   },
   {
    "duration": 16,
    "start_time": "2021-12-13T16:04:19.982Z"
   },
   {
    "duration": 579,
    "start_time": "2021-12-13T16:15:07.313Z"
   },
   {
    "duration": 3,
    "start_time": "2021-12-13T16:15:25.013Z"
   },
   {
    "duration": 405,
    "start_time": "2021-12-13T16:15:25.019Z"
   },
   {
    "duration": 28,
    "start_time": "2021-12-13T16:15:25.428Z"
   },
   {
    "duration": 40,
    "start_time": "2021-12-13T16:15:25.458Z"
   },
   {
    "duration": 107,
    "start_time": "2021-12-13T16:15:25.501Z"
   },
   {
    "duration": 23,
    "start_time": "2021-12-13T16:15:25.610Z"
   },
   {
    "duration": 4,
    "start_time": "2021-12-13T16:15:25.635Z"
   },
   {
    "duration": 10,
    "start_time": "2021-12-13T16:15:25.642Z"
   },
   {
    "duration": 62,
    "start_time": "2021-12-13T16:15:25.655Z"
   },
   {
    "duration": 13,
    "start_time": "2021-12-13T16:15:25.719Z"
   },
   {
    "duration": 12,
    "start_time": "2021-12-13T16:15:25.735Z"
   },
   {
    "duration": 16,
    "start_time": "2021-12-13T16:15:30.181Z"
   },
   {
    "duration": 6,
    "start_time": "2021-12-13T16:36:10.733Z"
   },
   {
    "duration": 11,
    "start_time": "2021-12-13T16:39:02.465Z"
   },
   {
    "duration": 11,
    "start_time": "2021-12-13T16:40:29.419Z"
   },
   {
    "duration": 5,
    "start_time": "2021-12-13T16:43:07.552Z"
   },
   {
    "duration": 245,
    "start_time": "2021-12-13T16:45:53.962Z"
   },
   {
    "duration": 4,
    "start_time": "2021-12-13T16:46:16.089Z"
   },
   {
    "duration": 5,
    "start_time": "2021-12-13T16:53:58.579Z"
   },
   {
    "duration": 6,
    "start_time": "2021-12-13T16:54:01.825Z"
   },
   {
    "duration": 6341,
    "start_time": "2021-12-13T16:54:03.395Z"
   },
   {
    "duration": 632,
    "start_time": "2021-12-13T16:54:09.106Z"
   },
   {
    "duration": 4,
    "start_time": "2021-12-13T16:54:54.464Z"
   },
   {
    "duration": 422,
    "start_time": "2021-12-13T16:54:54.471Z"
   },
   {
    "duration": 23,
    "start_time": "2021-12-13T16:54:54.895Z"
   },
   {
    "duration": 27,
    "start_time": "2021-12-13T16:54:54.921Z"
   },
   {
    "duration": 88,
    "start_time": "2021-12-13T16:54:54.950Z"
   },
   {
    "duration": 31,
    "start_time": "2021-12-13T16:54:55.041Z"
   },
   {
    "duration": 14,
    "start_time": "2021-12-13T16:54:55.074Z"
   },
   {
    "duration": 13,
    "start_time": "2021-12-13T16:54:55.091Z"
   },
   {
    "duration": 34,
    "start_time": "2021-12-13T16:54:55.107Z"
   },
   {
    "duration": 23,
    "start_time": "2021-12-13T16:54:55.144Z"
   },
   {
    "duration": 29,
    "start_time": "2021-12-13T16:54:55.169Z"
   },
   {
    "duration": 21,
    "start_time": "2021-12-13T16:54:55.200Z"
   },
   {
    "duration": 25,
    "start_time": "2021-12-13T16:54:55.223Z"
   },
   {
    "duration": 14,
    "start_time": "2021-12-13T16:54:55.250Z"
   },
   {
    "duration": 8,
    "start_time": "2021-12-13T16:55:00.550Z"
   },
   {
    "duration": 4,
    "start_time": "2021-12-13T16:55:02.141Z"
   },
   {
    "duration": 9,
    "start_time": "2021-12-13T16:55:05.730Z"
   },
   {
    "duration": 8,
    "start_time": "2021-12-13T16:55:43.447Z"
   },
   {
    "duration": 9,
    "start_time": "2021-12-13T16:55:45.283Z"
   },
   {
    "duration": 19,
    "start_time": "2021-12-13T16:56:42.587Z"
   },
   {
    "duration": 1150,
    "start_time": "2021-12-13T17:18:52.353Z"
   },
   {
    "duration": 1146,
    "start_time": "2021-12-13T17:20:56.731Z"
   },
   {
    "duration": 1117,
    "start_time": "2021-12-13T17:21:46.620Z"
   },
   {
    "duration": 7129,
    "start_time": "2021-12-13T17:23:15.513Z"
   },
   {
    "duration": 506,
    "start_time": "2021-12-13T17:23:41.737Z"
   },
   {
    "duration": 7,
    "start_time": "2021-12-13T17:34:15.805Z"
   },
   {
    "duration": 13,
    "start_time": "2021-12-13T17:47:22.449Z"
   },
   {
    "duration": 25,
    "start_time": "2021-12-13T17:47:38.386Z"
   },
   {
    "duration": 20,
    "start_time": "2021-12-13T17:47:54.199Z"
   },
   {
    "duration": 263,
    "start_time": "2021-12-13T18:36:20.969Z"
   },
   {
    "duration": 315,
    "start_time": "2021-12-13T18:36:31.766Z"
   },
   {
    "duration": 295,
    "start_time": "2021-12-13T18:37:56.320Z"
   },
   {
    "duration": 560,
    "start_time": "2021-12-13T18:38:11.357Z"
   },
   {
    "duration": 291,
    "start_time": "2021-12-13T18:38:38.130Z"
   },
   {
    "duration": 419,
    "start_time": "2021-12-13T18:38:59.580Z"
   },
   {
    "duration": 3257,
    "start_time": "2021-12-13T18:39:11.720Z"
   },
   {
    "duration": 593,
    "start_time": "2021-12-13T18:39:21.103Z"
   },
   {
    "duration": 372,
    "start_time": "2021-12-13T18:39:37.810Z"
   },
   {
    "duration": 368,
    "start_time": "2021-12-13T18:43:36.893Z"
   },
   {
    "duration": 373,
    "start_time": "2021-12-13T18:49:17.633Z"
   },
   {
    "duration": 369,
    "start_time": "2021-12-13T18:50:13.160Z"
   },
   {
    "duration": 543,
    "start_time": "2021-12-13T18:50:26.283Z"
   },
   {
    "duration": 396,
    "start_time": "2021-12-13T18:54:24.299Z"
   },
   {
    "duration": 245,
    "start_time": "2021-12-13T18:55:29.628Z"
   },
   {
    "duration": 411,
    "start_time": "2021-12-13T18:56:02.060Z"
   },
   {
    "duration": 546,
    "start_time": "2021-12-13T18:56:41.461Z"
   },
   {
    "duration": 597,
    "start_time": "2021-12-13T18:57:20.594Z"
   },
   {
    "duration": 405,
    "start_time": "2021-12-13T18:57:51.916Z"
   },
   {
    "duration": 571,
    "start_time": "2021-12-13T18:58:44.349Z"
   },
   {
    "duration": 326,
    "start_time": "2021-12-13T18:59:43.336Z"
   },
   {
    "duration": 151,
    "start_time": "2021-12-13T19:00:06.804Z"
   },
   {
    "duration": 168,
    "start_time": "2021-12-13T19:00:12.647Z"
   },
   {
    "duration": 208,
    "start_time": "2021-12-13T19:00:24.788Z"
   },
   {
    "duration": 324,
    "start_time": "2021-12-13T19:02:01.568Z"
   },
   {
    "duration": 344,
    "start_time": "2021-12-13T19:02:13.299Z"
   },
   {
    "duration": 367,
    "start_time": "2021-12-13T19:02:51.972Z"
   },
   {
    "duration": 260,
    "start_time": "2021-12-13T19:37:00.187Z"
   },
   {
    "duration": 246,
    "start_time": "2021-12-13T19:37:15.329Z"
   },
   {
    "duration": 368,
    "start_time": "2021-12-13T19:37:43.234Z"
   },
   {
    "duration": 468,
    "start_time": "2021-12-15T05:33:04.632Z"
   },
   {
    "duration": 771,
    "start_time": "2021-12-15T05:33:13.394Z"
   },
   {
    "duration": 79,
    "start_time": "2021-12-15T05:33:14.167Z"
   },
   {
    "duration": 30,
    "start_time": "2021-12-15T05:33:14.248Z"
   },
   {
    "duration": 40,
    "start_time": "2021-12-15T05:33:14.280Z"
   },
   {
    "duration": 68,
    "start_time": "2021-12-15T05:33:14.322Z"
   },
   {
    "duration": 38,
    "start_time": "2021-12-15T05:33:14.391Z"
   },
   {
    "duration": 3,
    "start_time": "2021-12-15T05:33:14.431Z"
   },
   {
    "duration": 10,
    "start_time": "2021-12-15T05:33:14.436Z"
   },
   {
    "duration": 27,
    "start_time": "2021-12-15T05:33:14.449Z"
   },
   {
    "duration": 19,
    "start_time": "2021-12-15T05:33:14.508Z"
   },
   {
    "duration": 12,
    "start_time": "2021-12-15T05:33:14.529Z"
   },
   {
    "duration": 22,
    "start_time": "2021-12-15T05:33:14.543Z"
   },
   {
    "duration": 40,
    "start_time": "2021-12-15T05:33:14.568Z"
   },
   {
    "duration": 3,
    "start_time": "2021-12-15T05:33:14.610Z"
   },
   {
    "duration": 8,
    "start_time": "2021-12-15T05:33:14.615Z"
   },
   {
    "duration": 4,
    "start_time": "2021-12-15T05:33:14.624Z"
   },
   {
    "duration": 9,
    "start_time": "2021-12-15T05:33:14.630Z"
   },
   {
    "duration": 9,
    "start_time": "2021-12-15T05:33:14.640Z"
   },
   {
    "duration": 14,
    "start_time": "2021-12-15T05:33:14.651Z"
   },
   {
    "duration": 57,
    "start_time": "2021-12-15T05:33:14.667Z"
   },
   {
    "duration": 16,
    "start_time": "2021-12-15T05:33:14.726Z"
   },
   {
    "duration": 571,
    "start_time": "2021-12-15T05:33:14.744Z"
   },
   {
    "duration": 21,
    "start_time": "2021-12-15T05:33:15.317Z"
   },
   {
    "duration": 465,
    "start_time": "2021-12-15T05:33:19.849Z"
   },
   {
    "duration": 406,
    "start_time": "2021-12-15T05:33:29.826Z"
   },
   {
    "duration": 3,
    "start_time": "2021-12-15T09:19:49.004Z"
   },
   {
    "duration": 81,
    "start_time": "2021-12-15T09:19:49.009Z"
   },
   {
    "duration": 29,
    "start_time": "2021-12-15T09:19:49.092Z"
   },
   {
    "duration": 26,
    "start_time": "2021-12-15T09:19:49.124Z"
   },
   {
    "duration": 84,
    "start_time": "2021-12-15T09:19:49.151Z"
   },
   {
    "duration": 25,
    "start_time": "2021-12-15T09:19:49.237Z"
   },
   {
    "duration": 4,
    "start_time": "2021-12-15T09:19:49.264Z"
   },
   {
    "duration": 11,
    "start_time": "2021-12-15T09:19:49.271Z"
   },
   {
    "duration": 48,
    "start_time": "2021-12-15T09:19:49.284Z"
   },
   {
    "duration": 9,
    "start_time": "2021-12-15T09:19:49.334Z"
   },
   {
    "duration": 10,
    "start_time": "2021-12-15T09:19:49.345Z"
   },
   {
    "duration": 15,
    "start_time": "2021-12-15T09:19:49.356Z"
   },
   {
    "duration": 41,
    "start_time": "2021-12-15T09:19:49.373Z"
   },
   {
    "duration": 4,
    "start_time": "2021-12-15T09:19:49.416Z"
   },
   {
    "duration": 7,
    "start_time": "2021-12-15T09:19:49.422Z"
   },
   {
    "duration": 4,
    "start_time": "2021-12-15T09:19:49.432Z"
   },
   {
    "duration": 17,
    "start_time": "2021-12-15T09:19:49.438Z"
   },
   {
    "duration": 13,
    "start_time": "2021-12-15T09:19:49.457Z"
   },
   {
    "duration": 35,
    "start_time": "2021-12-15T09:19:49.472Z"
   },
   {
    "duration": 27,
    "start_time": "2021-12-15T09:19:49.509Z"
   },
   {
    "duration": 18,
    "start_time": "2021-12-15T09:19:49.538Z"
   },
   {
    "duration": 565,
    "start_time": "2021-12-15T09:19:49.558Z"
   },
   {
    "duration": 25,
    "start_time": "2021-12-15T09:19:50.125Z"
   },
   {
    "duration": 418,
    "start_time": "2021-12-15T09:19:55.163Z"
   },
   {
    "duration": 379,
    "start_time": "2021-12-15T09:19:57.187Z"
   },
   {
    "duration": 383,
    "start_time": "2021-12-15T09:20:07.427Z"
   },
   {
    "duration": 430,
    "start_time": "2021-12-15T09:20:36.130Z"
   },
   {
    "duration": 403,
    "start_time": "2021-12-15T09:20:44.579Z"
   },
   {
    "duration": 654,
    "start_time": "2021-12-15T09:20:56.107Z"
   },
   {
    "duration": 196,
    "start_time": "2021-12-15T09:21:45.011Z"
   },
   {
    "duration": 421,
    "start_time": "2021-12-15T09:22:28.475Z"
   },
   {
    "duration": 381,
    "start_time": "2021-12-15T09:22:44.827Z"
   },
   {
    "duration": 472,
    "start_time": "2021-12-15T09:22:53.034Z"
   },
   {
    "duration": 439,
    "start_time": "2021-12-15T09:25:50.092Z"
   },
   {
    "duration": 389,
    "start_time": "2021-12-15T09:25:52.628Z"
   },
   {
    "duration": 470,
    "start_time": "2021-12-15T09:27:41.908Z"
   },
   {
    "duration": 712,
    "start_time": "2021-12-15T09:28:15.276Z"
   },
   {
    "duration": 649,
    "start_time": "2021-12-15T09:28:26.060Z"
   },
   {
    "duration": 485,
    "start_time": "2021-12-15T09:28:41.388Z"
   },
   {
    "duration": 445,
    "start_time": "2021-12-15T09:28:51.236Z"
   },
   {
    "duration": 491,
    "start_time": "2021-12-15T09:29:37.440Z"
   },
   {
    "duration": 9,
    "start_time": "2021-12-15T09:31:55.621Z"
   },
   {
    "duration": 739,
    "start_time": "2021-12-15T09:33:29.005Z"
   },
   {
    "duration": 475,
    "start_time": "2021-12-15T09:33:50.397Z"
   },
   {
    "duration": 688,
    "start_time": "2021-12-15T09:34:01.781Z"
   },
   {
    "duration": 901,
    "start_time": "2021-12-15T09:34:26.390Z"
   },
   {
    "duration": 573,
    "start_time": "2021-12-15T09:53:21.801Z"
   },
   {
    "duration": 783,
    "start_time": "2021-12-15T09:54:11.057Z"
   },
   {
    "duration": 8,
    "start_time": "2021-12-15T09:55:26.577Z"
   },
   {
    "duration": 494,
    "start_time": "2021-12-15T09:55:37.281Z"
   },
   {
    "duration": 528,
    "start_time": "2021-12-15T09:56:00.578Z"
   },
   {
    "duration": 462,
    "start_time": "2021-12-15T09:56:32.106Z"
   },
   {
    "duration": 9,
    "start_time": "2021-12-15T09:57:38.210Z"
   },
   {
    "duration": 482,
    "start_time": "2021-12-15T10:00:57.259Z"
   },
   {
    "duration": 468,
    "start_time": "2021-12-15T10:04:49.820Z"
   },
   {
    "duration": 594,
    "start_time": "2021-12-15T10:04:53.515Z"
   },
   {
    "duration": 445,
    "start_time": "2021-12-15T10:04:58.756Z"
   },
   {
    "duration": 499,
    "start_time": "2021-12-15T10:05:01.652Z"
   },
   {
    "duration": 635,
    "start_time": "2021-12-15T10:05:44.724Z"
   },
   {
    "duration": 8,
    "start_time": "2021-12-15T10:06:33.964Z"
   },
   {
    "duration": 479,
    "start_time": "2021-12-15T10:08:00.396Z"
   },
   {
    "duration": 618,
    "start_time": "2021-12-15T10:08:43.364Z"
   },
   {
    "duration": 507,
    "start_time": "2021-12-15T10:09:03.620Z"
   },
   {
    "duration": 543,
    "start_time": "2021-12-15T10:09:36.213Z"
   },
   {
    "duration": 460,
    "start_time": "2021-12-15T10:09:49.373Z"
   },
   {
    "duration": 451,
    "start_time": "2021-12-15T10:10:30.445Z"
   },
   {
    "duration": 517,
    "start_time": "2021-12-15T10:10:46.101Z"
   },
   {
    "duration": 594,
    "start_time": "2021-12-15T10:10:52.228Z"
   },
   {
    "duration": 477,
    "start_time": "2021-12-15T10:11:35.357Z"
   },
   {
    "duration": 577,
    "start_time": "2021-12-15T10:11:46.293Z"
   },
   {
    "duration": 508,
    "start_time": "2021-12-15T10:12:03.740Z"
   },
   {
    "duration": 8,
    "start_time": "2021-12-15T10:25:05.528Z"
   },
   {
    "duration": 125,
    "start_time": "2021-12-15T11:21:34.299Z"
   },
   {
    "duration": 508,
    "start_time": "2021-12-15T11:22:05.339Z"
   },
   {
    "duration": 646,
    "start_time": "2021-12-15T11:22:08.051Z"
   },
   {
    "duration": 488,
    "start_time": "2021-12-15T11:22:09.907Z"
   },
   {
    "duration": 514,
    "start_time": "2021-12-15T11:22:12.379Z"
   },
   {
    "duration": 478,
    "start_time": "2021-12-15T11:29:14.996Z"
   },
   {
    "duration": 479,
    "start_time": "2021-12-15T11:29:36.389Z"
   },
   {
    "duration": 472,
    "start_time": "2021-12-15T11:29:50.124Z"
   },
   {
    "duration": 474,
    "start_time": "2021-12-15T11:30:05.061Z"
   },
   {
    "duration": 682,
    "start_time": "2021-12-15T11:30:49.133Z"
   },
   {
    "duration": 484,
    "start_time": "2021-12-15T11:40:14.768Z"
   },
   {
    "duration": 715,
    "start_time": "2021-12-15T11:40:42.751Z"
   },
   {
    "duration": 15,
    "start_time": "2021-12-15T11:40:51.161Z"
   },
   {
    "duration": 164,
    "start_time": "2021-12-15T11:45:56.713Z"
   },
   {
    "duration": 16,
    "start_time": "2021-12-15T11:51:50.473Z"
   },
   {
    "duration": 11,
    "start_time": "2021-12-15T11:54:22.089Z"
   },
   {
    "duration": 391,
    "start_time": "2021-12-15T18:48:38.982Z"
   },
   {
    "duration": 691,
    "start_time": "2021-12-15T18:48:46.349Z"
   },
   {
    "duration": 78,
    "start_time": "2021-12-15T18:48:47.042Z"
   },
   {
    "duration": 29,
    "start_time": "2021-12-15T18:48:47.122Z"
   },
   {
    "duration": 26,
    "start_time": "2021-12-15T18:48:47.153Z"
   },
   {
    "duration": 96,
    "start_time": "2021-12-15T18:48:47.181Z"
   },
   {
    "duration": 38,
    "start_time": "2021-12-15T18:48:47.279Z"
   },
   {
    "duration": 3,
    "start_time": "2021-12-15T18:48:47.319Z"
   },
   {
    "duration": 10,
    "start_time": "2021-12-15T18:48:47.324Z"
   },
   {
    "duration": 28,
    "start_time": "2021-12-15T18:48:47.337Z"
   },
   {
    "duration": 40,
    "start_time": "2021-12-15T18:48:47.367Z"
   },
   {
    "duration": 9,
    "start_time": "2021-12-15T18:48:47.409Z"
   },
   {
    "duration": 16,
    "start_time": "2021-12-15T18:48:47.420Z"
   },
   {
    "duration": 12,
    "start_time": "2021-12-15T18:48:47.437Z"
   },
   {
    "duration": 5,
    "start_time": "2021-12-15T18:48:47.451Z"
   },
   {
    "duration": 7,
    "start_time": "2021-12-15T18:48:47.458Z"
   },
   {
    "duration": 40,
    "start_time": "2021-12-15T18:48:47.467Z"
   },
   {
    "duration": 16,
    "start_time": "2021-12-15T18:48:47.509Z"
   },
   {
    "duration": 14,
    "start_time": "2021-12-15T18:48:47.527Z"
   },
   {
    "duration": 14,
    "start_time": "2021-12-15T18:48:47.543Z"
   },
   {
    "duration": 29,
    "start_time": "2021-12-15T18:48:47.559Z"
   },
   {
    "duration": 18,
    "start_time": "2021-12-15T18:48:47.606Z"
   },
   {
    "duration": 602,
    "start_time": "2021-12-15T18:48:47.626Z"
   },
   {
    "duration": 23,
    "start_time": "2021-12-15T18:48:48.229Z"
   },
   {
    "duration": 9,
    "start_time": "2021-12-15T18:48:48.253Z"
   },
   {
    "duration": 539,
    "start_time": "2021-12-15T18:48:52.504Z"
   },
   {
    "duration": 444,
    "start_time": "2021-12-15T18:49:13.078Z"
   },
   {
    "duration": 137,
    "start_time": "2021-12-15T18:51:01.889Z"
   },
   {
    "duration": 123,
    "start_time": "2021-12-15T18:52:56.175Z"
   },
   {
    "duration": 134,
    "start_time": "2021-12-15T18:53:05.079Z"
   },
   {
    "duration": 135,
    "start_time": "2021-12-15T18:53:32.006Z"
   },
   {
    "duration": 505,
    "start_time": "2021-12-15T19:02:20.221Z"
   },
   {
    "duration": 302,
    "start_time": "2021-12-15T19:03:15.955Z"
   },
   {
    "duration": 244,
    "start_time": "2021-12-15T19:57:50.960Z"
   },
   {
    "duration": 232,
    "start_time": "2021-12-15T19:58:12.146Z"
   },
   {
    "duration": 416,
    "start_time": "2021-12-16T11:28:09.988Z"
   },
   {
    "duration": 732,
    "start_time": "2021-12-16T11:28:18.536Z"
   },
   {
    "duration": 80,
    "start_time": "2021-12-16T11:28:19.270Z"
   },
   {
    "duration": 27,
    "start_time": "2021-12-16T11:28:19.352Z"
   },
   {
    "duration": 23,
    "start_time": "2021-12-16T11:28:19.380Z"
   },
   {
    "duration": 89,
    "start_time": "2021-12-16T11:28:19.404Z"
   },
   {
    "duration": 26,
    "start_time": "2021-12-16T11:28:19.495Z"
   },
   {
    "duration": 4,
    "start_time": "2021-12-16T11:28:19.523Z"
   },
   {
    "duration": 22,
    "start_time": "2021-12-16T11:28:19.530Z"
   },
   {
    "duration": 24,
    "start_time": "2021-12-16T11:28:19.564Z"
   },
   {
    "duration": 24,
    "start_time": "2021-12-16T11:28:19.590Z"
   },
   {
    "duration": 10,
    "start_time": "2021-12-16T11:28:19.615Z"
   },
   {
    "duration": 26,
    "start_time": "2021-12-16T11:28:19.626Z"
   },
   {
    "duration": 26,
    "start_time": "2021-12-16T11:28:19.653Z"
   },
   {
    "duration": 12,
    "start_time": "2021-12-16T11:28:19.681Z"
   },
   {
    "duration": 15,
    "start_time": "2021-12-16T11:28:19.695Z"
   },
   {
    "duration": 25,
    "start_time": "2021-12-16T11:28:19.712Z"
   },
   {
    "duration": 28,
    "start_time": "2021-12-16T11:28:19.739Z"
   },
   {
    "duration": 16,
    "start_time": "2021-12-16T11:28:19.768Z"
   },
   {
    "duration": 33,
    "start_time": "2021-12-16T11:28:19.786Z"
   },
   {
    "duration": 33,
    "start_time": "2021-12-16T11:28:19.821Z"
   },
   {
    "duration": 24,
    "start_time": "2021-12-16T11:28:19.855Z"
   },
   {
    "duration": 558,
    "start_time": "2021-12-16T11:28:19.881Z"
   },
   {
    "duration": 30,
    "start_time": "2021-12-16T11:28:20.442Z"
   },
   {
    "duration": 22,
    "start_time": "2021-12-16T11:28:20.475Z"
   },
   {
    "duration": 485,
    "start_time": "2021-12-16T11:28:20.499Z"
   },
   {
    "duration": 146,
    "start_time": "2021-12-16T11:28:20.986Z"
   },
   {
    "duration": 225,
    "start_time": "2021-12-16T11:28:21.134Z"
   },
   {
    "duration": 8,
    "start_time": "2021-12-16T11:28:24.068Z"
   },
   {
    "duration": 137,
    "start_time": "2021-12-16T11:28:24.936Z"
   },
   {
    "duration": 125,
    "start_time": "2021-12-16T11:28:53.636Z"
   },
   {
    "duration": 135,
    "start_time": "2021-12-16T11:29:05.165Z"
   },
   {
    "duration": 155,
    "start_time": "2021-12-16T11:29:11.656Z"
   },
   {
    "duration": 131,
    "start_time": "2021-12-16T11:32:39.687Z"
   },
   {
    "duration": 133,
    "start_time": "2021-12-16T11:32:55.863Z"
   },
   {
    "duration": 128,
    "start_time": "2021-12-16T11:33:02.941Z"
   },
   {
    "duration": 212,
    "start_time": "2021-12-16T11:33:28.119Z"
   },
   {
    "duration": 131,
    "start_time": "2021-12-16T11:33:42.886Z"
   },
   {
    "duration": 210,
    "start_time": "2021-12-16T11:42:53.472Z"
   },
   {
    "duration": 408,
    "start_time": "2021-12-16T12:01:55.337Z"
   },
   {
    "duration": 7,
    "start_time": "2021-12-16T12:02:54.908Z"
   },
   {
    "duration": 401,
    "start_time": "2021-12-16T12:02:56.172Z"
   },
   {
    "duration": 140,
    "start_time": "2021-12-16T12:02:58.564Z"
   },
   {
    "duration": 226,
    "start_time": "2021-12-16T12:03:09.764Z"
   },
   {
    "duration": 409,
    "start_time": "2021-12-16T12:04:52.253Z"
   },
   {
    "duration": 496,
    "start_time": "2021-12-16T12:05:06.701Z"
   },
   {
    "duration": 443,
    "start_time": "2021-12-16T12:05:18.869Z"
   },
   {
    "duration": 132,
    "start_time": "2021-12-16T12:05:24.380Z"
   },
   {
    "duration": 132,
    "start_time": "2021-12-16T12:05:36.757Z"
   },
   {
    "duration": 123,
    "start_time": "2021-12-16T12:06:07.821Z"
   },
   {
    "duration": 129,
    "start_time": "2021-12-16T12:09:00.118Z"
   },
   {
    "duration": 224,
    "start_time": "2021-12-16T12:11:28.119Z"
   },
   {
    "duration": 123,
    "start_time": "2021-12-16T12:16:24.326Z"
   },
   {
    "duration": 499,
    "start_time": "2021-12-16T12:18:55.200Z"
   },
   {
    "duration": 139,
    "start_time": "2021-12-16T12:19:45.361Z"
   },
   {
    "duration": 144,
    "start_time": "2021-12-16T12:20:15.769Z"
   },
   {
    "duration": 126,
    "start_time": "2021-12-16T12:20:25.529Z"
   },
   {
    "duration": 145,
    "start_time": "2021-12-16T12:20:59.289Z"
   },
   {
    "duration": 138,
    "start_time": "2021-12-16T12:21:14.712Z"
   },
   {
    "duration": 129,
    "start_time": "2021-12-16T12:21:28.385Z"
   },
   {
    "duration": 133,
    "start_time": "2021-12-16T12:21:35.385Z"
   },
   {
    "duration": 137,
    "start_time": "2021-12-16T12:24:10.369Z"
   },
   {
    "duration": 226,
    "start_time": "2021-12-16T12:27:43.234Z"
   },
   {
    "duration": 927,
    "start_time": "2021-12-16T17:56:57.435Z"
   },
   {
    "duration": 109,
    "start_time": "2021-12-16T17:56:58.367Z"
   },
   {
    "duration": 47,
    "start_time": "2021-12-16T17:56:58.479Z"
   },
   {
    "duration": 70,
    "start_time": "2021-12-16T17:56:58.530Z"
   },
   {
    "duration": 133,
    "start_time": "2021-12-16T17:56:58.602Z"
   },
   {
    "duration": 53,
    "start_time": "2021-12-16T17:56:58.737Z"
   },
   {
    "duration": 5,
    "start_time": "2021-12-16T17:56:58.793Z"
   },
   {
    "duration": 12,
    "start_time": "2021-12-16T17:56:58.802Z"
   },
   {
    "duration": 78,
    "start_time": "2021-12-16T17:56:58.817Z"
   },
   {
    "duration": 18,
    "start_time": "2021-12-16T17:56:58.898Z"
   },
   {
    "duration": 13,
    "start_time": "2021-12-16T17:56:58.919Z"
   },
   {
    "duration": 50,
    "start_time": "2021-12-16T17:56:58.935Z"
   },
   {
    "duration": 17,
    "start_time": "2021-12-16T17:56:58.987Z"
   },
   {
    "duration": 5,
    "start_time": "2021-12-16T17:56:59.006Z"
   },
   {
    "duration": 20,
    "start_time": "2021-12-16T17:56:59.013Z"
   },
   {
    "duration": 7,
    "start_time": "2021-12-16T17:56:59.036Z"
   },
   {
    "duration": 18,
    "start_time": "2021-12-16T17:56:59.068Z"
   },
   {
    "duration": 14,
    "start_time": "2021-12-16T17:56:59.088Z"
   },
   {
    "duration": 36,
    "start_time": "2021-12-16T17:56:59.104Z"
   },
   {
    "duration": 69,
    "start_time": "2021-12-16T17:56:59.142Z"
   },
   {
    "duration": 23,
    "start_time": "2021-12-16T17:56:59.214Z"
   },
   {
    "duration": 1103,
    "start_time": "2021-12-16T17:56:59.240Z"
   },
   {
    "duration": 42,
    "start_time": "2021-12-16T17:57:00.348Z"
   },
   {
    "duration": 13,
    "start_time": "2021-12-16T17:57:00.393Z"
   },
   {
    "duration": 876,
    "start_time": "2021-12-16T17:57:00.408Z"
   },
   {
    "duration": 270,
    "start_time": "2021-12-16T17:57:01.287Z"
   },
   {
    "duration": 423,
    "start_time": "2021-12-16T17:57:01.561Z"
   },
   {
    "duration": 12,
    "start_time": "2021-12-16T17:57:01.987Z"
   },
   {
    "duration": 819,
    "start_time": "2021-12-16T17:57:02.002Z"
   },
   {
    "duration": 288,
    "start_time": "2021-12-16T17:57:02.824Z"
   },
   {
    "duration": 421,
    "start_time": "2021-12-16T17:57:03.115Z"
   },
   {
    "duration": 9,
    "start_time": "2021-12-16T17:57:03.538Z"
   },
   {
    "duration": 837,
    "start_time": "2021-12-16T17:57:03.550Z"
   },
   {
    "duration": 273,
    "start_time": "2021-12-16T17:57:04.390Z"
   },
   {
    "duration": 513,
    "start_time": "2021-12-16T17:57:04.667Z"
   },
   {
    "duration": 13,
    "start_time": "2021-12-16T17:57:05.183Z"
   },
   {
    "duration": 801,
    "start_time": "2021-12-16T17:57:05.199Z"
   },
   {
    "duration": 257,
    "start_time": "2021-12-16T17:57:06.002Z"
   },
   {
    "duration": 419,
    "start_time": "2021-12-16T17:57:06.261Z"
   },
   {
    "duration": 15,
    "start_time": "2021-12-16T17:57:10.469Z"
   },
   {
    "duration": 11,
    "start_time": "2021-12-16T17:57:19.447Z"
   },
   {
    "duration": 265,
    "start_time": "2021-12-16T18:07:07.142Z"
   },
   {
    "duration": 235,
    "start_time": "2021-12-16T18:07:53.497Z"
   },
   {
    "duration": 364,
    "start_time": "2021-12-16T18:08:02.382Z"
   },
   {
    "duration": 275,
    "start_time": "2021-12-16T18:08:12.860Z"
   },
   {
    "duration": 488,
    "start_time": "2021-12-16T18:13:05.518Z"
   },
   {
    "duration": 397,
    "start_time": "2021-12-16T18:13:29.885Z"
   },
   {
    "duration": 493,
    "start_time": "2021-12-16T19:05:15.760Z"
   },
   {
    "duration": 401,
    "start_time": "2021-12-16T19:05:28.119Z"
   },
   {
    "duration": 397,
    "start_time": "2021-12-16T19:05:36.874Z"
   },
   {
    "duration": 501,
    "start_time": "2021-12-16T19:06:02.339Z"
   },
   {
    "duration": 766,
    "start_time": "2021-12-18T11:33:45.680Z"
   },
   {
    "duration": 78,
    "start_time": "2021-12-18T11:33:46.447Z"
   },
   {
    "duration": 27,
    "start_time": "2021-12-18T11:33:46.527Z"
   },
   {
    "duration": 24,
    "start_time": "2021-12-18T11:33:46.556Z"
   },
   {
    "duration": 70,
    "start_time": "2021-12-18T11:33:46.607Z"
   },
   {
    "duration": 38,
    "start_time": "2021-12-18T11:33:46.679Z"
   },
   {
    "duration": 3,
    "start_time": "2021-12-18T11:33:46.719Z"
   },
   {
    "duration": 9,
    "start_time": "2021-12-18T11:33:46.723Z"
   },
   {
    "duration": 25,
    "start_time": "2021-12-18T11:33:46.735Z"
   },
   {
    "duration": 16,
    "start_time": "2021-12-18T11:33:46.762Z"
   },
   {
    "duration": 32,
    "start_time": "2021-12-18T11:33:46.780Z"
   },
   {
    "duration": 16,
    "start_time": "2021-12-18T11:33:46.814Z"
   },
   {
    "duration": 12,
    "start_time": "2021-12-18T11:33:46.831Z"
   },
   {
    "duration": 3,
    "start_time": "2021-12-18T11:33:46.844Z"
   },
   {
    "duration": 11,
    "start_time": "2021-12-18T11:33:46.849Z"
   },
   {
    "duration": 8,
    "start_time": "2021-12-18T11:33:46.861Z"
   },
   {
    "duration": 8,
    "start_time": "2021-12-18T11:33:46.871Z"
   },
   {
    "duration": 33,
    "start_time": "2021-12-18T11:33:46.880Z"
   },
   {
    "duration": 14,
    "start_time": "2021-12-18T11:33:46.915Z"
   },
   {
    "duration": 28,
    "start_time": "2021-12-18T11:33:46.931Z"
   },
   {
    "duration": 45,
    "start_time": "2021-12-18T11:33:46.961Z"
   },
   {
    "duration": 653,
    "start_time": "2021-12-18T11:33:47.008Z"
   },
   {
    "duration": 20,
    "start_time": "2021-12-18T11:33:47.662Z"
   },
   {
    "duration": 25,
    "start_time": "2021-12-18T11:33:47.684Z"
   },
   {
    "duration": 474,
    "start_time": "2021-12-18T11:33:47.710Z"
   },
   {
    "duration": 147,
    "start_time": "2021-12-18T11:33:48.186Z"
   },
   {
    "duration": 233,
    "start_time": "2021-12-18T11:33:48.337Z"
   },
   {
    "duration": 7,
    "start_time": "2021-12-18T11:33:48.572Z"
   },
   {
    "duration": 460,
    "start_time": "2021-12-18T11:33:48.581Z"
   },
   {
    "duration": 166,
    "start_time": "2021-12-18T11:33:49.043Z"
   },
   {
    "duration": 238,
    "start_time": "2021-12-18T11:33:49.211Z"
   },
   {
    "duration": 7,
    "start_time": "2021-12-18T11:33:49.450Z"
   },
   {
    "duration": 440,
    "start_time": "2021-12-18T11:33:49.459Z"
   },
   {
    "duration": 133,
    "start_time": "2021-12-18T11:33:49.901Z"
   },
   {
    "duration": 314,
    "start_time": "2021-12-18T11:33:50.035Z"
   },
   {
    "duration": 8,
    "start_time": "2021-12-18T11:33:50.351Z"
   },
   {
    "duration": 451,
    "start_time": "2021-12-18T11:33:50.360Z"
   },
   {
    "duration": 154,
    "start_time": "2021-12-18T11:33:50.812Z"
   },
   {
    "duration": 226,
    "start_time": "2021-12-18T11:33:50.968Z"
   },
   {
    "duration": 16,
    "start_time": "2021-12-18T11:33:51.196Z"
   },
   {
    "duration": 148,
    "start_time": "2021-12-18T11:33:51.213Z"
   },
   {
    "duration": 230,
    "start_time": "2021-12-18T11:33:51.363Z"
   },
   {
    "duration": 14,
    "start_time": "2021-12-18T11:34:39.120Z"
   },
   {
    "duration": 437,
    "start_time": "2021-12-18T11:35:34.894Z"
   },
   {
    "duration": 5167,
    "start_time": "2021-12-18T11:36:07.549Z"
   },
   {
    "duration": 6931,
    "start_time": "2021-12-18T11:36:40.366Z"
   },
   {
    "duration": 10,
    "start_time": "2021-12-18T11:38:05.991Z"
   },
   {
    "duration": 324,
    "start_time": "2021-12-18T12:36:18.857Z"
   },
   {
    "duration": 353,
    "start_time": "2021-12-18T12:38:27.151Z"
   },
   {
    "duration": 201,
    "start_time": "2021-12-18T12:39:53.927Z"
   },
   {
    "duration": 209,
    "start_time": "2021-12-18T12:48:13.174Z"
   },
   {
    "duration": 198,
    "start_time": "2021-12-18T13:47:24.620Z"
   },
   {
    "duration": 424,
    "start_time": "2021-12-18T13:47:34.876Z"
   },
   {
    "duration": 7,
    "start_time": "2021-12-18T14:11:27.368Z"
   },
   {
    "duration": 236583,
    "start_time": "2021-12-18T14:12:42.759Z"
   },
   {
    "duration": 9,
    "start_time": "2021-12-18T14:16:39.355Z"
   },
   {
    "duration": 240562,
    "start_time": "2021-12-18T17:35:17.746Z"
   },
   {
    "duration": 248170,
    "start_time": "2021-12-18T17:52:07.073Z"
   },
   {
    "duration": 615,
    "start_time": "2021-12-18T18:25:14.367Z"
   },
   {
    "duration": 113,
    "start_time": "2021-12-18T18:30:03.626Z"
   },
   {
    "duration": 706,
    "start_time": "2021-12-18T18:30:19.489Z"
   },
   {
    "duration": 8532,
    "start_time": "2021-12-18T21:08:14.828Z"
   },
   {
    "duration": 162,
    "start_time": "2021-12-18T21:09:19.680Z"
   },
   {
    "duration": 170,
    "start_time": "2021-12-18T21:09:37.125Z"
   },
   {
    "duration": 164,
    "start_time": "2021-12-18T21:09:55.019Z"
   },
   {
    "duration": 880,
    "start_time": "2021-12-19T08:28:04.553Z"
   },
   {
    "duration": 99,
    "start_time": "2021-12-19T08:28:05.435Z"
   },
   {
    "duration": 53,
    "start_time": "2021-12-19T08:28:05.537Z"
   },
   {
    "duration": 41,
    "start_time": "2021-12-19T08:28:05.593Z"
   },
   {
    "duration": 114,
    "start_time": "2021-12-19T08:28:05.660Z"
   },
   {
    "duration": 36,
    "start_time": "2021-12-19T08:28:05.776Z"
   },
   {
    "duration": 5,
    "start_time": "2021-12-19T08:28:05.814Z"
   },
   {
    "duration": 40,
    "start_time": "2021-12-19T08:28:05.822Z"
   },
   {
    "duration": 38,
    "start_time": "2021-12-19T08:28:05.865Z"
   },
   {
    "duration": 102,
    "start_time": "2021-12-19T08:28:05.905Z"
   },
   {
    "duration": 40,
    "start_time": "2021-12-19T08:28:06.011Z"
   },
   {
    "duration": 73,
    "start_time": "2021-12-19T08:28:06.054Z"
   },
   {
    "duration": 16,
    "start_time": "2021-12-19T08:28:06.131Z"
   },
   {
    "duration": 43,
    "start_time": "2021-12-19T08:28:06.150Z"
   },
   {
    "duration": 99,
    "start_time": "2021-12-19T08:28:06.196Z"
   },
   {
    "duration": 18,
    "start_time": "2021-12-19T08:28:06.303Z"
   },
   {
    "duration": 30,
    "start_time": "2021-12-19T08:28:06.324Z"
   },
   {
    "duration": 116,
    "start_time": "2021-12-19T08:28:06.358Z"
   },
   {
    "duration": 78,
    "start_time": "2021-12-19T08:28:06.476Z"
   },
   {
    "duration": 62,
    "start_time": "2021-12-19T08:28:06.557Z"
   },
   {
    "duration": 42,
    "start_time": "2021-12-19T08:28:06.622Z"
   },
   {
    "duration": 928,
    "start_time": "2021-12-19T08:28:06.666Z"
   },
   {
    "duration": 938,
    "start_time": "2021-12-19T08:28:11.140Z"
   },
   {
    "duration": 462,
    "start_time": "2021-12-19T08:28:13.827Z"
   },
   {
    "duration": 44,
    "start_time": "2021-12-19T08:28:55.352Z"
   },
   {
    "duration": 4,
    "start_time": "2021-12-19T08:33:09.048Z"
   },
   {
    "duration": 10,
    "start_time": "2021-12-19T08:36:42.594Z"
   },
   {
    "duration": 778,
    "start_time": "2021-12-19T08:55:34.868Z"
   },
   {
    "duration": 4,
    "start_time": "2021-12-19T08:57:33.580Z"
   },
   {
    "duration": 101,
    "start_time": "2021-12-19T08:57:33.586Z"
   },
   {
    "duration": 68,
    "start_time": "2021-12-19T08:57:33.691Z"
   },
   {
    "duration": 37,
    "start_time": "2021-12-19T08:57:33.762Z"
   },
   {
    "duration": 120,
    "start_time": "2021-12-19T08:57:33.802Z"
   },
   {
    "duration": 46,
    "start_time": "2021-12-19T08:57:33.925Z"
   },
   {
    "duration": 4,
    "start_time": "2021-12-19T08:57:33.975Z"
   },
   {
    "duration": 12,
    "start_time": "2021-12-19T08:57:33.982Z"
   },
   {
    "duration": 73,
    "start_time": "2021-12-19T08:57:33.996Z"
   },
   {
    "duration": 21,
    "start_time": "2021-12-19T08:57:34.072Z"
   },
   {
    "duration": 13,
    "start_time": "2021-12-19T08:57:34.095Z"
   },
   {
    "duration": 24,
    "start_time": "2021-12-19T08:57:34.111Z"
   },
   {
    "duration": 12,
    "start_time": "2021-12-19T08:57:34.160Z"
   },
   {
    "duration": 4,
    "start_time": "2021-12-19T08:57:34.174Z"
   },
   {
    "duration": 9,
    "start_time": "2021-12-19T08:57:34.181Z"
   },
   {
    "duration": 11,
    "start_time": "2021-12-19T08:57:34.192Z"
   },
   {
    "duration": 12,
    "start_time": "2021-12-19T08:57:34.206Z"
   },
   {
    "duration": 12,
    "start_time": "2021-12-19T08:57:34.260Z"
   },
   {
    "duration": 20,
    "start_time": "2021-12-19T08:57:34.277Z"
   },
   {
    "duration": 70,
    "start_time": "2021-12-19T08:57:34.300Z"
   },
   {
    "duration": 23,
    "start_time": "2021-12-19T08:57:34.372Z"
   },
   {
    "duration": 1034,
    "start_time": "2021-12-19T08:57:34.397Z"
   },
   {
    "duration": 57,
    "start_time": "2021-12-19T08:57:35.433Z"
   },
   {
    "duration": 10,
    "start_time": "2021-12-19T08:57:35.492Z"
   },
   {
    "duration": 9,
    "start_time": "2021-12-19T08:57:35.505Z"
   },
   {
    "duration": 730,
    "start_time": "2021-12-19T08:57:35.516Z"
   },
   {
    "duration": 249,
    "start_time": "2021-12-19T08:57:36.260Z"
   },
   {
    "duration": 386,
    "start_time": "2021-12-19T08:57:36.512Z"
   },
   {
    "duration": 11,
    "start_time": "2021-12-19T08:57:36.900Z"
   },
   {
    "duration": 885,
    "start_time": "2021-12-19T08:57:36.913Z"
   },
   {
    "duration": 253,
    "start_time": "2021-12-19T08:57:37.801Z"
   },
   {
    "duration": 382,
    "start_time": "2021-12-19T08:57:38.060Z"
   },
   {
    "duration": 18,
    "start_time": "2021-12-19T08:57:38.444Z"
   },
   {
    "duration": 755,
    "start_time": "2021-12-19T08:57:38.465Z"
   },
   {
    "duration": 226,
    "start_time": "2021-12-19T08:57:39.222Z"
   },
   {
    "duration": 397,
    "start_time": "2021-12-19T08:57:39.450Z"
   },
   {
    "duration": 17,
    "start_time": "2021-12-19T08:57:39.849Z"
   },
   {
    "duration": 728,
    "start_time": "2021-12-19T08:57:39.869Z"
   },
   {
    "duration": 246,
    "start_time": "2021-12-19T08:57:40.599Z"
   },
   {
    "duration": 386,
    "start_time": "2021-12-19T08:57:40.847Z"
   },
   {
    "duration": 11,
    "start_time": "2021-12-19T08:57:41.235Z"
   },
   {
    "duration": 306,
    "start_time": "2021-12-19T08:57:41.258Z"
   },
   {
    "duration": 372,
    "start_time": "2021-12-19T08:57:41.567Z"
   },
   {
    "duration": 7796,
    "start_time": "2021-12-19T08:57:41.941Z"
   },
   {
    "duration": 27,
    "start_time": "2021-12-19T08:57:49.739Z"
   },
   {
    "duration": 1183,
    "start_time": "2021-12-19T08:57:49.768Z"
   },
   {
    "duration": 370,
    "start_time": "2021-12-19T08:58:10.418Z"
   },
   {
    "duration": 419,
    "start_time": "2021-12-19T09:03:51.355Z"
   },
   {
    "duration": 497,
    "start_time": "2021-12-19T09:04:06.661Z"
   },
   {
    "duration": 34,
    "start_time": "2021-12-19T09:05:18.912Z"
   },
   {
    "duration": 33,
    "start_time": "2021-12-19T09:09:55.497Z"
   },
   {
    "duration": 34,
    "start_time": "2021-12-19T09:10:05.099Z"
   },
   {
    "duration": 268,
    "start_time": "2021-12-19T09:17:31.401Z"
   },
   {
    "duration": 483,
    "start_time": "2021-12-19T09:22:53.406Z"
   },
   {
    "duration": 36,
    "start_time": "2021-12-19T09:23:12.430Z"
   },
   {
    "duration": 382,
    "start_time": "2021-12-19T09:24:10.643Z"
   },
   {
    "duration": 1348,
    "start_time": "2021-12-19T09:25:01.713Z"
   },
   {
    "duration": 12477,
    "start_time": "2021-12-19T09:27:25.591Z"
   },
   {
    "duration": 402,
    "start_time": "2021-12-19T09:28:03.331Z"
   },
   {
    "duration": 305,
    "start_time": "2021-12-19T09:28:35.473Z"
   },
   {
    "duration": 846,
    "start_time": "2021-12-19T09:29:04.182Z"
   },
   {
    "duration": 414,
    "start_time": "2021-12-19T09:30:03.545Z"
   },
   {
    "duration": 21290,
    "start_time": "2021-12-19T09:30:23.480Z"
   },
   {
    "duration": 374,
    "start_time": "2021-12-19T09:31:25.867Z"
   },
   {
    "duration": 990,
    "start_time": "2021-12-19T10:45:19.269Z"
   },
   {
    "duration": 569,
    "start_time": "2021-12-19T10:59:29.468Z"
   },
   {
    "duration": 13,
    "start_time": "2021-12-19T11:00:21.579Z"
   },
   {
    "duration": 130,
    "start_time": "2021-12-19T11:06:39.830Z"
   },
   {
    "duration": 316,
    "start_time": "2021-12-19T11:07:30.594Z"
   },
   {
    "duration": 319,
    "start_time": "2021-12-19T11:08:12.653Z"
   },
   {
    "duration": 315,
    "start_time": "2021-12-19T11:08:39.615Z"
   },
   {
    "duration": 319,
    "start_time": "2021-12-19T11:08:52.110Z"
   },
   {
    "duration": 637,
    "start_time": "2021-12-19T11:09:41.773Z"
   },
   {
    "duration": 324,
    "start_time": "2021-12-19T11:10:05.527Z"
   },
   {
    "duration": 10425,
    "start_time": "2021-12-19T11:11:30.874Z"
   },
   {
    "duration": 9867,
    "start_time": "2021-12-19T11:11:49.338Z"
   },
   {
    "duration": 4,
    "start_time": "2021-12-19T11:12:52.708Z"
   },
   {
    "duration": 101,
    "start_time": "2021-12-19T11:12:52.714Z"
   },
   {
    "duration": 48,
    "start_time": "2021-12-19T11:12:52.818Z"
   },
   {
    "duration": 41,
    "start_time": "2021-12-19T11:12:52.870Z"
   },
   {
    "duration": 134,
    "start_time": "2021-12-19T11:12:52.914Z"
   },
   {
    "duration": 40,
    "start_time": "2021-12-19T11:12:53.050Z"
   },
   {
    "duration": 4,
    "start_time": "2021-12-19T11:12:53.093Z"
   },
   {
    "duration": 15,
    "start_time": "2021-12-19T11:12:53.100Z"
   },
   {
    "duration": 72,
    "start_time": "2021-12-19T11:12:53.118Z"
   },
   {
    "duration": 13,
    "start_time": "2021-12-19T11:12:53.192Z"
   },
   {
    "duration": 14,
    "start_time": "2021-12-19T11:12:53.207Z"
   },
   {
    "duration": 52,
    "start_time": "2021-12-19T11:12:53.224Z"
   },
   {
    "duration": 15,
    "start_time": "2021-12-19T11:12:53.279Z"
   },
   {
    "duration": 5,
    "start_time": "2021-12-19T11:12:53.297Z"
   },
   {
    "duration": 7,
    "start_time": "2021-12-19T11:12:53.304Z"
   },
   {
    "duration": 6,
    "start_time": "2021-12-19T11:12:55.785Z"
   },
   {
    "duration": 9,
    "start_time": "2021-12-19T11:12:58.142Z"
   },
   {
    "duration": 12,
    "start_time": "2021-12-19T11:13:02.265Z"
   },
   {
    "duration": 11,
    "start_time": "2021-12-19T11:13:03.332Z"
   },
   {
    "duration": 22,
    "start_time": "2021-12-19T11:13:05.815Z"
   },
   {
    "duration": 508,
    "start_time": "2021-12-19T11:46:35.854Z"
   },
   {
    "duration": 22,
    "start_time": "2021-12-19T11:46:52.798Z"
   },
   {
    "duration": 16,
    "start_time": "2021-12-19T12:06:10.009Z"
   },
   {
    "duration": 413,
    "start_time": "2021-12-19T12:12:53.085Z"
   },
   {
    "duration": 7,
    "start_time": "2021-12-19T12:13:18.498Z"
   },
   {
    "duration": 3,
    "start_time": "2021-12-19T12:13:36.749Z"
   },
   {
    "duration": 123,
    "start_time": "2021-12-19T12:13:36.755Z"
   },
   {
    "duration": 40,
    "start_time": "2021-12-19T12:13:36.881Z"
   },
   {
    "duration": 38,
    "start_time": "2021-12-19T12:13:36.959Z"
   },
   {
    "duration": 120,
    "start_time": "2021-12-19T12:13:37.000Z"
   },
   {
    "duration": 47,
    "start_time": "2021-12-19T12:13:37.123Z"
   },
   {
    "duration": 4,
    "start_time": "2021-12-19T12:13:37.174Z"
   },
   {
    "duration": 12,
    "start_time": "2021-12-19T12:13:37.181Z"
   },
   {
    "duration": 71,
    "start_time": "2021-12-19T12:13:37.195Z"
   },
   {
    "duration": 13,
    "start_time": "2021-12-19T12:13:37.268Z"
   },
   {
    "duration": 13,
    "start_time": "2021-12-19T12:13:37.283Z"
   },
   {
    "duration": 21,
    "start_time": "2021-12-19T12:13:37.299Z"
   },
   {
    "duration": 46,
    "start_time": "2021-12-19T12:13:37.322Z"
   },
   {
    "duration": 4,
    "start_time": "2021-12-19T12:13:37.371Z"
   },
   {
    "duration": 8,
    "start_time": "2021-12-19T12:13:37.377Z"
   },
   {
    "duration": 9,
    "start_time": "2021-12-19T12:13:37.387Z"
   },
   {
    "duration": 11,
    "start_time": "2021-12-19T12:13:37.399Z"
   },
   {
    "duration": 60,
    "start_time": "2021-12-19T12:13:37.412Z"
   },
   {
    "duration": 21,
    "start_time": "2021-12-19T12:13:37.478Z"
   },
   {
    "duration": 59,
    "start_time": "2021-12-19T12:13:37.502Z"
   },
   {
    "duration": 22,
    "start_time": "2021-12-19T12:13:37.563Z"
   },
   {
    "duration": 1118,
    "start_time": "2021-12-19T12:13:37.587Z"
   },
   {
    "duration": 60,
    "start_time": "2021-12-19T12:13:38.708Z"
   },
   {
    "duration": 12,
    "start_time": "2021-12-19T12:13:38.770Z"
   },
   {
    "duration": 11,
    "start_time": "2021-12-19T12:13:38.784Z"
   },
   {
    "duration": 1001,
    "start_time": "2021-12-19T12:13:38.797Z"
   },
   {
    "duration": 238,
    "start_time": "2021-12-19T12:13:39.800Z"
   },
   {
    "duration": 478,
    "start_time": "2021-12-19T12:13:40.040Z"
   },
   {
    "duration": 9,
    "start_time": "2021-12-19T12:13:40.521Z"
   },
   {
    "duration": 855,
    "start_time": "2021-12-19T12:13:40.532Z"
   },
   {
    "duration": 256,
    "start_time": "2021-12-19T12:13:41.390Z"
   },
   {
    "duration": 370,
    "start_time": "2021-12-19T12:13:41.648Z"
   },
   {
    "duration": 9,
    "start_time": "2021-12-19T12:13:42.020Z"
   },
   {
    "duration": 759,
    "start_time": "2021-12-19T12:13:42.031Z"
   },
   {
    "duration": 226,
    "start_time": "2021-12-19T12:13:42.792Z"
   },
   {
    "duration": 530,
    "start_time": "2021-12-19T12:13:43.020Z"
   },
   {
    "duration": 15,
    "start_time": "2021-12-19T12:13:43.552Z"
   },
   {
    "duration": 870,
    "start_time": "2021-12-19T12:13:43.570Z"
   },
   {
    "duration": 250,
    "start_time": "2021-12-19T12:13:44.443Z"
   },
   {
    "duration": 409,
    "start_time": "2021-12-19T12:13:44.696Z"
   },
   {
    "duration": 11,
    "start_time": "2021-12-19T12:13:45.108Z"
   },
   {
    "duration": 258,
    "start_time": "2021-12-19T12:13:45.122Z"
   },
   {
    "duration": 390,
    "start_time": "2021-12-19T12:13:45.382Z"
   },
   {
    "duration": 8465,
    "start_time": "2021-12-19T12:13:45.775Z"
   },
   {
    "duration": 23,
    "start_time": "2021-12-19T12:13:54.242Z"
   },
   {
    "duration": 1279,
    "start_time": "2021-12-19T12:13:54.267Z"
   },
   {
    "duration": 303,
    "start_time": "2021-12-19T12:13:55.548Z"
   },
   {
    "duration": 986,
    "start_time": "2021-12-19T12:13:55.860Z"
   },
   {
    "duration": 19,
    "start_time": "2021-12-19T12:13:56.848Z"
   },
   {
    "duration": 13,
    "start_time": "2021-12-19T12:13:56.870Z"
   },
   {
    "duration": 365,
    "start_time": "2021-12-19T12:13:56.885Z"
   },
   {
    "duration": 11213,
    "start_time": "2021-12-19T12:14:12.206Z"
   },
   {
    "duration": 460,
    "start_time": "2021-12-19T12:14:50.714Z"
   },
   {
    "duration": 389,
    "start_time": "2021-12-19T12:15:12.765Z"
   },
   {
    "duration": 798,
    "start_time": "2021-12-19T12:21:38.798Z"
   },
   {
    "duration": 10811,
    "start_time": "2021-12-19T12:22:51.603Z"
   },
   {
    "duration": 412,
    "start_time": "2021-12-19T12:23:44.959Z"
   },
   {
    "duration": 10,
    "start_time": "2021-12-19T12:26:29.865Z"
   },
   {
    "duration": 19,
    "start_time": "2021-12-19T12:26:56.237Z"
   },
   {
    "duration": 29,
    "start_time": "2021-12-19T12:27:03.264Z"
   },
   {
    "duration": 36,
    "start_time": "2021-12-19T12:34:54.153Z"
   },
   {
    "duration": 36,
    "start_time": "2021-12-19T12:35:00.197Z"
   },
   {
    "duration": 1615,
    "start_time": "2021-12-19T12:38:34.702Z"
   },
   {
    "duration": 17,
    "start_time": "2021-12-19T12:58:01.662Z"
   },
   {
    "duration": 16,
    "start_time": "2021-12-19T12:58:48.183Z"
   },
   {
    "duration": 15,
    "start_time": "2021-12-19T12:59:35.861Z"
   },
   {
    "duration": 16,
    "start_time": "2021-12-19T13:01:23.184Z"
   },
   {
    "duration": 37,
    "start_time": "2021-12-19T16:26:14.852Z"
   },
   {
    "duration": 4,
    "start_time": "2021-12-19T16:37:40.917Z"
   },
   {
    "duration": 104,
    "start_time": "2021-12-19T16:37:40.923Z"
   },
   {
    "duration": 45,
    "start_time": "2021-12-19T16:37:41.030Z"
   },
   {
    "duration": 40,
    "start_time": "2021-12-19T16:37:41.078Z"
   },
   {
    "duration": 142,
    "start_time": "2021-12-19T16:37:41.120Z"
   },
   {
    "duration": 39,
    "start_time": "2021-12-19T16:37:41.265Z"
   },
   {
    "duration": 5,
    "start_time": "2021-12-19T16:37:41.341Z"
   },
   {
    "duration": 25,
    "start_time": "2021-12-19T16:37:41.349Z"
   },
   {
    "duration": 41,
    "start_time": "2021-12-19T16:37:41.377Z"
   },
   {
    "duration": 46,
    "start_time": "2021-12-19T16:37:41.420Z"
   },
   {
    "duration": 12,
    "start_time": "2021-12-19T16:37:41.470Z"
   },
   {
    "duration": 25,
    "start_time": "2021-12-19T16:37:41.624Z"
   },
   {
    "duration": 12,
    "start_time": "2021-12-19T16:37:41.739Z"
   },
   {
    "duration": 5,
    "start_time": "2021-12-19T16:37:41.863Z"
   },
   {
    "duration": 9,
    "start_time": "2021-12-19T16:37:42.347Z"
   },
   {
    "duration": 11,
    "start_time": "2021-12-19T16:37:42.358Z"
   },
   {
    "duration": 12,
    "start_time": "2021-12-19T16:37:42.372Z"
   },
   {
    "duration": 23,
    "start_time": "2021-12-19T16:37:42.388Z"
   },
   {
    "duration": 50,
    "start_time": "2021-12-19T16:37:42.414Z"
   },
   {
    "duration": 35,
    "start_time": "2021-12-19T16:37:42.504Z"
   },
   {
    "duration": 22,
    "start_time": "2021-12-19T16:37:42.648Z"
   },
   {
    "duration": 22,
    "start_time": "2021-12-19T16:37:47.045Z"
   },
   {
    "duration": 1075,
    "start_time": "2021-12-19T16:51:18.177Z"
   },
   {
    "duration": 4,
    "start_time": "2021-12-19T17:17:38.762Z"
   },
   {
    "duration": 104,
    "start_time": "2021-12-19T17:17:38.768Z"
   },
   {
    "duration": 38,
    "start_time": "2021-12-19T17:17:38.874Z"
   },
   {
    "duration": 70,
    "start_time": "2021-12-19T17:17:38.914Z"
   },
   {
    "duration": 118,
    "start_time": "2021-12-19T17:17:38.987Z"
   },
   {
    "duration": 52,
    "start_time": "2021-12-19T17:17:39.107Z"
   },
   {
    "duration": 4,
    "start_time": "2021-12-19T17:17:39.163Z"
   },
   {
    "duration": 15,
    "start_time": "2021-12-19T17:17:39.170Z"
   },
   {
    "duration": 73,
    "start_time": "2021-12-19T17:17:39.188Z"
   },
   {
    "duration": 13,
    "start_time": "2021-12-19T17:17:39.264Z"
   },
   {
    "duration": 12,
    "start_time": "2021-12-19T17:17:39.280Z"
   },
   {
    "duration": 22,
    "start_time": "2021-12-19T17:17:39.294Z"
   },
   {
    "duration": 12,
    "start_time": "2021-12-19T17:17:39.359Z"
   },
   {
    "duration": 5,
    "start_time": "2021-12-19T17:17:39.374Z"
   },
   {
    "duration": 12,
    "start_time": "2021-12-19T17:17:39.383Z"
   },
   {
    "duration": 66,
    "start_time": "2021-12-19T17:17:39.397Z"
   },
   {
    "duration": 15,
    "start_time": "2021-12-19T17:17:39.465Z"
   },
   {
    "duration": 15,
    "start_time": "2021-12-19T17:17:39.483Z"
   },
   {
    "duration": 65,
    "start_time": "2021-12-19T17:17:39.504Z"
   },
   {
    "duration": 41,
    "start_time": "2021-12-19T17:17:39.572Z"
   },
   {
    "duration": 51,
    "start_time": "2021-12-19T17:17:39.615Z"
   },
   {
    "duration": 927,
    "start_time": "2021-12-19T17:17:39.669Z"
   },
   {
    "duration": 23,
    "start_time": "2021-12-19T17:17:40.599Z"
   },
   {
    "duration": 20,
    "start_time": "2021-12-19T17:17:48.236Z"
   },
   {
    "duration": 35,
    "start_time": "2021-12-19T17:17:49.259Z"
   },
   {
    "duration": 4,
    "start_time": "2021-12-19T17:25:39.723Z"
   },
   {
    "duration": 94,
    "start_time": "2021-12-19T17:25:39.729Z"
   },
   {
    "duration": 65,
    "start_time": "2021-12-19T17:25:39.826Z"
   },
   {
    "duration": 77,
    "start_time": "2021-12-19T17:25:39.894Z"
   },
   {
    "duration": 126,
    "start_time": "2021-12-19T17:25:39.974Z"
   },
   {
    "duration": 59,
    "start_time": "2021-12-19T17:25:40.104Z"
   },
   {
    "duration": 5,
    "start_time": "2021-12-19T17:25:40.168Z"
   },
   {
    "duration": 15,
    "start_time": "2021-12-19T17:25:40.177Z"
   },
   {
    "duration": 92,
    "start_time": "2021-12-19T17:25:40.196Z"
   },
   {
    "duration": 17,
    "start_time": "2021-12-19T17:25:40.291Z"
   },
   {
    "duration": 54,
    "start_time": "2021-12-19T17:25:40.311Z"
   },
   {
    "duration": 25,
    "start_time": "2021-12-19T17:25:40.368Z"
   },
   {
    "duration": 12,
    "start_time": "2021-12-19T17:25:40.395Z"
   },
   {
    "duration": 4,
    "start_time": "2021-12-19T17:25:40.410Z"
   },
   {
    "duration": 7,
    "start_time": "2021-12-19T17:25:40.459Z"
   },
   {
    "duration": 9,
    "start_time": "2021-12-19T17:25:40.469Z"
   },
   {
    "duration": 11,
    "start_time": "2021-12-19T17:25:40.481Z"
   },
   {
    "duration": 12,
    "start_time": "2021-12-19T17:25:40.495Z"
   },
   {
    "duration": 21,
    "start_time": "2021-12-19T17:25:40.563Z"
   },
   {
    "duration": 39,
    "start_time": "2021-12-19T17:25:40.588Z"
   },
   {
    "duration": 51,
    "start_time": "2021-12-19T17:25:40.630Z"
   },
   {
    "duration": 976,
    "start_time": "2021-12-19T17:25:40.683Z"
   },
   {
    "duration": 23,
    "start_time": "2021-12-19T17:25:41.662Z"
   },
   {
    "duration": 73,
    "start_time": "2021-12-19T17:25:41.688Z"
   },
   {
    "duration": 11,
    "start_time": "2021-12-19T17:25:41.764Z"
   },
   {
    "duration": 764,
    "start_time": "2021-12-19T17:25:41.777Z"
   },
   {
    "duration": 261,
    "start_time": "2021-12-19T17:25:42.543Z"
   },
   {
    "duration": 388,
    "start_time": "2021-12-19T17:25:42.807Z"
   },
   {
    "duration": 10,
    "start_time": "2021-12-19T17:25:43.198Z"
   },
   {
    "duration": 757,
    "start_time": "2021-12-19T17:25:43.210Z"
   },
   {
    "duration": 435,
    "start_time": "2021-12-19T17:25:43.969Z"
   },
   {
    "duration": 372,
    "start_time": "2021-12-19T17:25:44.407Z"
   },
   {
    "duration": 10,
    "start_time": "2021-12-19T17:25:44.781Z"
   },
   {
    "duration": 772,
    "start_time": "2021-12-19T17:25:44.793Z"
   },
   {
    "duration": 247,
    "start_time": "2021-12-19T17:25:45.568Z"
   },
   {
    "duration": 418,
    "start_time": "2021-12-19T17:25:45.818Z"
   },
   {
    "duration": 28,
    "start_time": "2021-12-19T17:25:46.239Z"
   },
   {
    "duration": 756,
    "start_time": "2021-12-19T17:25:46.269Z"
   },
   {
    "duration": 270,
    "start_time": "2021-12-19T17:25:47.027Z"
   },
   {
    "duration": 416,
    "start_time": "2021-12-19T17:25:47.300Z"
   },
   {
    "duration": 14,
    "start_time": "2021-12-19T17:25:47.718Z"
   },
   {
    "duration": 258,
    "start_time": "2021-12-19T17:25:47.759Z"
   },
   {
    "duration": 412,
    "start_time": "2021-12-19T17:25:48.020Z"
   },
   {
    "duration": 8190,
    "start_time": "2021-12-19T17:25:48.434Z"
   },
   {
    "duration": 35,
    "start_time": "2021-12-19T17:25:56.626Z"
   },
   {
    "duration": 1174,
    "start_time": "2021-12-19T17:25:56.664Z"
   },
   {
    "duration": 302,
    "start_time": "2021-12-19T17:25:57.840Z"
   },
   {
    "duration": 962,
    "start_time": "2021-12-19T17:25:58.144Z"
   },
   {
    "duration": 19,
    "start_time": "2021-12-19T17:25:59.110Z"
   },
   {
    "duration": 15,
    "start_time": "2021-12-19T17:25:59.158Z"
   },
   {
    "duration": 654,
    "start_time": "2021-12-19T17:26:07.517Z"
   },
   {
    "duration": 640,
    "start_time": "2021-12-19T17:28:41.340Z"
   },
   {
    "duration": 326,
    "start_time": "2021-12-19T17:33:09.317Z"
   },
   {
    "duration": 730,
    "start_time": "2021-12-19T17:40:59.952Z"
   },
   {
    "duration": 753,
    "start_time": "2021-12-19T17:42:30.545Z"
   },
   {
    "duration": 387,
    "start_time": "2021-12-19T17:44:20.966Z"
   },
   {
    "duration": 401,
    "start_time": "2021-12-19T17:44:52.423Z"
   },
   {
    "duration": 1097,
    "start_time": "2021-12-19T17:45:06.696Z"
   },
   {
    "duration": 838,
    "start_time": "2021-12-19T17:50:55.357Z"
   },
   {
    "duration": 411,
    "start_time": "2021-12-19T17:52:42.170Z"
   },
   {
    "duration": 397,
    "start_time": "2021-12-19T17:53:36.875Z"
   },
   {
    "duration": 739,
    "start_time": "2021-12-19T17:57:15.683Z"
   },
   {
    "duration": 370,
    "start_time": "2021-12-19T17:58:04.274Z"
   },
   {
    "duration": 116,
    "start_time": "2021-12-19T18:03:07.561Z"
   },
   {
    "duration": 370,
    "start_time": "2021-12-19T18:03:17.614Z"
   },
   {
    "duration": 363,
    "start_time": "2021-12-19T18:04:23.099Z"
   },
   {
    "duration": 567,
    "start_time": "2021-12-19T18:26:55.868Z"
   },
   {
    "duration": 1282,
    "start_time": "2021-12-19T18:27:15.524Z"
   },
   {
    "duration": 1081,
    "start_time": "2021-12-19T18:59:14.581Z"
   },
   {
    "duration": 498,
    "start_time": "2021-12-19T19:00:35.029Z"
   },
   {
    "duration": 146,
    "start_time": "2021-12-19T19:01:45.849Z"
   },
   {
    "duration": 1055,
    "start_time": "2021-12-19T19:02:02.123Z"
   },
   {
    "duration": 992,
    "start_time": "2021-12-19T19:02:21.093Z"
   },
   {
    "duration": 4,
    "start_time": "2021-12-19T19:29:22.897Z"
   },
   {
    "duration": 104,
    "start_time": "2021-12-19T19:29:22.903Z"
   },
   {
    "duration": 49,
    "start_time": "2021-12-19T19:29:23.010Z"
   },
   {
    "duration": 43,
    "start_time": "2021-12-19T19:29:23.062Z"
   },
   {
    "duration": 368,
    "start_time": "2021-12-19T19:29:23.108Z"
   },
   {
    "duration": 48,
    "start_time": "2021-12-19T19:29:23.479Z"
   },
   {
    "duration": 28,
    "start_time": "2021-12-19T19:29:23.532Z"
   },
   {
    "duration": 16,
    "start_time": "2021-12-19T19:29:23.564Z"
   },
   {
    "duration": 95,
    "start_time": "2021-12-19T19:29:23.583Z"
   },
   {
    "duration": 17,
    "start_time": "2021-12-19T19:29:23.681Z"
   },
   {
    "duration": 13,
    "start_time": "2021-12-19T19:29:23.701Z"
   },
   {
    "duration": 62,
    "start_time": "2021-12-19T19:29:23.716Z"
   },
   {
    "duration": 16,
    "start_time": "2021-12-19T19:29:23.781Z"
   },
   {
    "duration": 5,
    "start_time": "2021-12-19T19:29:23.800Z"
   },
   {
    "duration": 53,
    "start_time": "2021-12-19T19:29:23.807Z"
   },
   {
    "duration": 9,
    "start_time": "2021-12-19T19:29:23.862Z"
   },
   {
    "duration": 12,
    "start_time": "2021-12-19T19:29:23.874Z"
   },
   {
    "duration": 16,
    "start_time": "2021-12-19T19:29:23.889Z"
   },
   {
    "duration": 23,
    "start_time": "2021-12-19T19:29:23.959Z"
   },
   {
    "duration": 92,
    "start_time": "2021-12-19T19:29:23.986Z"
   },
   {
    "duration": 31,
    "start_time": "2021-12-19T19:29:24.081Z"
   },
   {
    "duration": 965,
    "start_time": "2021-12-19T19:29:24.115Z"
   },
   {
    "duration": 23,
    "start_time": "2021-12-19T19:29:25.083Z"
   },
   {
    "duration": 68,
    "start_time": "2021-12-19T19:29:25.109Z"
   },
   {
    "duration": 12,
    "start_time": "2021-12-19T19:29:25.179Z"
   },
   {
    "duration": 779,
    "start_time": "2021-12-19T19:29:25.193Z"
   },
   {
    "duration": 251,
    "start_time": "2021-12-19T19:29:25.975Z"
   },
   {
    "duration": 400,
    "start_time": "2021-12-19T19:29:26.229Z"
   },
   {
    "duration": 30,
    "start_time": "2021-12-19T19:29:26.633Z"
   },
   {
    "duration": 768,
    "start_time": "2021-12-19T19:29:26.666Z"
   },
   {
    "duration": 260,
    "start_time": "2021-12-19T19:29:27.436Z"
   },
   {
    "duration": 403,
    "start_time": "2021-12-19T19:29:27.701Z"
   },
   {
    "duration": 11,
    "start_time": "2021-12-19T19:29:28.108Z"
   },
   {
    "duration": 802,
    "start_time": "2021-12-19T19:29:28.121Z"
   },
   {
    "duration": 248,
    "start_time": "2021-12-19T19:29:28.925Z"
   },
   {
    "duration": 432,
    "start_time": "2021-12-19T19:29:29.175Z"
   },
   {
    "duration": 11,
    "start_time": "2021-12-19T19:29:29.609Z"
   },
   {
    "duration": 760,
    "start_time": "2021-12-19T19:29:29.622Z"
   },
   {
    "duration": 253,
    "start_time": "2021-12-19T19:29:30.384Z"
   },
   {
    "duration": 523,
    "start_time": "2021-12-19T19:29:30.640Z"
   },
   {
    "duration": 11,
    "start_time": "2021-12-19T19:29:31.166Z"
   },
   {
    "duration": 790,
    "start_time": "2021-12-19T19:29:31.180Z"
   },
   {
    "duration": 397,
    "start_time": "2021-12-19T19:29:31.973Z"
   },
   {
    "duration": 11461,
    "start_time": "2021-12-19T19:29:32.373Z"
   },
   {
    "duration": 29,
    "start_time": "2021-12-19T19:29:43.837Z"
   },
   {
    "duration": 1208,
    "start_time": "2021-12-19T19:29:43.869Z"
   },
   {
    "duration": 1032,
    "start_time": "2021-12-19T19:29:45.079Z"
   },
   {
    "duration": 22,
    "start_time": "2021-12-19T19:29:46.116Z"
   },
   {
    "duration": 21,
    "start_time": "2021-12-19T19:29:46.168Z"
   },
   {
    "duration": 349,
    "start_time": "2021-12-19T19:30:06.319Z"
   },
   {
    "duration": 333,
    "start_time": "2021-12-19T19:30:41.764Z"
   },
   {
    "duration": 433,
    "start_time": "2021-12-19T20:11:03.346Z"
   },
   {
    "duration": 1491,
    "start_time": "2021-12-19T20:13:32.668Z"
   },
   {
    "duration": 394,
    "start_time": "2021-12-20T14:32:46.922Z"
   },
   {
    "duration": 876,
    "start_time": "2021-12-20T14:32:53.604Z"
   },
   {
    "duration": 97,
    "start_time": "2021-12-20T14:32:54.483Z"
   },
   {
    "duration": 43,
    "start_time": "2021-12-20T14:32:54.583Z"
   },
   {
    "duration": 60,
    "start_time": "2021-12-20T14:32:54.629Z"
   },
   {
    "duration": 120,
    "start_time": "2021-12-20T14:32:54.692Z"
   },
   {
    "duration": 50,
    "start_time": "2021-12-20T14:32:54.815Z"
   },
   {
    "duration": 5,
    "start_time": "2021-12-20T14:32:54.868Z"
   },
   {
    "duration": 14,
    "start_time": "2021-12-20T14:32:54.879Z"
   },
   {
    "duration": 80,
    "start_time": "2021-12-20T14:32:54.897Z"
   },
   {
    "duration": 18,
    "start_time": "2021-12-20T14:32:54.980Z"
   },
   {
    "duration": 14,
    "start_time": "2021-12-20T14:32:55.001Z"
   },
   {
    "duration": 53,
    "start_time": "2021-12-20T14:32:55.017Z"
   },
   {
    "duration": 16,
    "start_time": "2021-12-20T14:32:55.072Z"
   },
   {
    "duration": 6,
    "start_time": "2021-12-20T14:32:55.091Z"
   },
   {
    "duration": 11,
    "start_time": "2021-12-20T14:32:55.100Z"
   },
   {
    "duration": 14,
    "start_time": "2021-12-20T14:32:55.113Z"
   },
   {
    "duration": 41,
    "start_time": "2021-12-20T14:32:55.130Z"
   },
   {
    "duration": 14,
    "start_time": "2021-12-20T14:32:55.173Z"
   },
   {
    "duration": 22,
    "start_time": "2021-12-20T14:32:55.189Z"
   },
   {
    "duration": 71,
    "start_time": "2021-12-20T14:32:55.214Z"
   },
   {
    "duration": 23,
    "start_time": "2021-12-20T14:32:55.287Z"
   },
   {
    "duration": 1631,
    "start_time": "2021-12-20T14:32:55.313Z"
   },
   {
    "duration": 36,
    "start_time": "2021-12-20T14:32:56.952Z"
   },
   {
    "duration": 37,
    "start_time": "2021-12-20T14:32:56.991Z"
   },
   {
    "duration": 36,
    "start_time": "2021-12-20T14:32:57.030Z"
   },
   {
    "duration": 936,
    "start_time": "2021-12-20T14:32:57.068Z"
   },
   {
    "duration": 251,
    "start_time": "2021-12-20T14:32:58.006Z"
   },
   {
    "duration": 449,
    "start_time": "2021-12-20T14:32:58.259Z"
   },
   {
    "duration": 11,
    "start_time": "2021-12-20T14:32:58.711Z"
   },
   {
    "duration": 843,
    "start_time": "2021-12-20T14:32:58.724Z"
   },
   {
    "duration": 260,
    "start_time": "2021-12-20T14:32:59.570Z"
   },
   {
    "duration": 402,
    "start_time": "2021-12-20T14:32:59.832Z"
   },
   {
    "duration": 9,
    "start_time": "2021-12-20T14:33:00.237Z"
   },
   {
    "duration": 801,
    "start_time": "2021-12-20T14:33:00.248Z"
   },
   {
    "duration": 235,
    "start_time": "2021-12-20T14:33:01.052Z"
   },
   {
    "duration": 575,
    "start_time": "2021-12-20T14:33:01.290Z"
   },
   {
    "duration": 10,
    "start_time": "2021-12-20T14:33:01.868Z"
   },
   {
    "duration": 786,
    "start_time": "2021-12-20T14:33:01.880Z"
   },
   {
    "duration": 266,
    "start_time": "2021-12-20T14:33:02.668Z"
   },
   {
    "duration": 382,
    "start_time": "2021-12-20T14:33:02.937Z"
   },
   {
    "duration": 11,
    "start_time": "2021-12-20T14:33:03.321Z"
   },
   {
    "duration": 253,
    "start_time": "2021-12-20T14:33:03.334Z"
   },
   {
    "duration": 538,
    "start_time": "2021-12-20T14:33:03.590Z"
   },
   {
    "duration": 8696,
    "start_time": "2021-12-20T14:33:04.131Z"
   },
   {
    "duration": 32,
    "start_time": "2021-12-20T14:33:12.831Z"
   },
   {
    "duration": 1261,
    "start_time": "2021-12-20T14:33:12.866Z"
   },
   {
    "duration": 1011,
    "start_time": "2021-12-20T14:33:14.130Z"
   },
   {
    "duration": 24,
    "start_time": "2021-12-20T14:33:15.144Z"
   },
   {
    "duration": 19,
    "start_time": "2021-12-20T14:33:15.171Z"
   },
   {
    "duration": 367,
    "start_time": "2021-12-20T14:33:15.192Z"
   },
   {
    "duration": 419,
    "start_time": "2021-12-20T14:33:15.561Z"
   },
   {
    "duration": 1614,
    "start_time": "2021-12-20T14:33:24.698Z"
   },
   {
    "duration": 678,
    "start_time": "2021-12-21T12:59:06.714Z"
   },
   {
    "duration": 77,
    "start_time": "2021-12-21T12:59:07.393Z"
   },
   {
    "duration": 25,
    "start_time": "2021-12-21T12:59:07.472Z"
   },
   {
    "duration": 42,
    "start_time": "2021-12-21T12:59:07.499Z"
   },
   {
    "duration": 64,
    "start_time": "2021-12-21T12:59:07.543Z"
   },
   {
    "duration": 35,
    "start_time": "2021-12-21T12:59:07.609Z"
   },
   {
    "duration": 3,
    "start_time": "2021-12-21T12:59:07.646Z"
   },
   {
    "duration": 9,
    "start_time": "2021-12-21T12:59:07.652Z"
   },
   {
    "duration": 28,
    "start_time": "2021-12-21T12:59:07.663Z"
   },
   {
    "duration": 9,
    "start_time": "2021-12-21T12:59:07.693Z"
   },
   {
    "duration": 38,
    "start_time": "2021-12-21T12:59:07.703Z"
   },
   {
    "duration": 14,
    "start_time": "2021-12-21T12:59:07.743Z"
   },
   {
    "duration": 16,
    "start_time": "2021-12-21T12:59:07.759Z"
   },
   {
    "duration": 3,
    "start_time": "2021-12-21T12:59:07.777Z"
   },
   {
    "duration": 11,
    "start_time": "2021-12-21T12:59:07.782Z"
   },
   {
    "duration": 13,
    "start_time": "2021-12-21T12:59:07.795Z"
   },
   {
    "duration": 31,
    "start_time": "2021-12-21T12:59:07.810Z"
   },
   {
    "duration": 9,
    "start_time": "2021-12-21T12:59:07.843Z"
   },
   {
    "duration": 16,
    "start_time": "2021-12-21T12:59:07.854Z"
   },
   {
    "duration": 40,
    "start_time": "2021-12-21T12:59:07.872Z"
   },
   {
    "duration": 41,
    "start_time": "2021-12-21T12:59:07.914Z"
   },
   {
    "duration": 640,
    "start_time": "2021-12-21T12:59:07.957Z"
   },
   {
    "duration": 17,
    "start_time": "2021-12-21T12:59:08.602Z"
   },
   {
    "duration": 36,
    "start_time": "2021-12-21T12:59:08.621Z"
   },
   {
    "duration": 7,
    "start_time": "2021-12-21T12:59:08.659Z"
   },
   {
    "duration": 483,
    "start_time": "2021-12-21T12:59:08.668Z"
   },
   {
    "duration": 153,
    "start_time": "2021-12-21T12:59:09.153Z"
   },
   {
    "duration": 257,
    "start_time": "2021-12-21T12:59:09.308Z"
   },
   {
    "duration": 7,
    "start_time": "2021-12-21T12:59:09.567Z"
   },
   {
    "duration": 439,
    "start_time": "2021-12-21T12:59:09.575Z"
   },
   {
    "duration": 155,
    "start_time": "2021-12-21T12:59:10.015Z"
   },
   {
    "duration": 223,
    "start_time": "2021-12-21T12:59:10.172Z"
   },
   {
    "duration": 6,
    "start_time": "2021-12-21T12:59:10.397Z"
   },
   {
    "duration": 423,
    "start_time": "2021-12-21T12:59:10.405Z"
   },
   {
    "duration": 135,
    "start_time": "2021-12-21T12:59:10.829Z"
   },
   {
    "duration": 294,
    "start_time": "2021-12-21T12:59:10.966Z"
   },
   {
    "duration": 7,
    "start_time": "2021-12-21T12:59:11.262Z"
   },
   {
    "duration": 421,
    "start_time": "2021-12-21T12:59:11.271Z"
   },
   {
    "duration": 149,
    "start_time": "2021-12-21T12:59:11.694Z"
   },
   {
    "duration": 225,
    "start_time": "2021-12-21T12:59:11.845Z"
   },
   {
    "duration": 8,
    "start_time": "2021-12-21T12:59:12.071Z"
   },
   {
    "duration": 157,
    "start_time": "2021-12-21T12:59:12.081Z"
   },
   {
    "duration": 230,
    "start_time": "2021-12-21T12:59:12.241Z"
   },
   {
    "duration": 5950,
    "start_time": "2021-12-21T12:59:12.473Z"
   },
   {
    "duration": 18,
    "start_time": "2021-12-21T12:59:18.425Z"
   },
   {
    "duration": 702,
    "start_time": "2021-12-21T12:59:18.445Z"
   },
   {
    "duration": 570,
    "start_time": "2021-12-21T12:59:19.149Z"
   },
   {
    "duration": 9,
    "start_time": "2021-12-21T12:59:19.721Z"
   },
   {
    "duration": 18,
    "start_time": "2021-12-21T12:59:19.731Z"
   },
   {
    "duration": 218,
    "start_time": "2021-12-21T12:59:19.750Z"
   },
   {
    "duration": 252,
    "start_time": "2021-12-21T12:59:19.970Z"
   },
   {
    "duration": 1023,
    "start_time": "2021-12-21T13:00:37.403Z"
   },
   {
    "duration": 78,
    "start_time": "2021-12-21T13:01:44.369Z"
   },
   {
    "duration": 507,
    "start_time": "2021-12-21T13:01:52.842Z"
   },
   {
    "duration": 526,
    "start_time": "2021-12-21T13:03:30.964Z"
   },
   {
    "duration": 999,
    "start_time": "2021-12-21T13:04:03.180Z"
   },
   {
    "duration": 864,
    "start_time": "2021-12-21T13:04:50.803Z"
   },
   {
    "duration": 882,
    "start_time": "2021-12-21T13:05:07.579Z"
   },
   {
    "duration": 17,
    "start_time": "2021-12-21T13:17:19.468Z"
   },
   {
    "duration": 1024,
    "start_time": "2021-12-21T13:18:58.932Z"
   },
   {
    "duration": 302,
    "start_time": "2021-12-21T13:19:12.182Z"
   },
   {
    "duration": 79,
    "start_time": "2021-12-21T13:20:13.135Z"
   },
   {
    "duration": 620,
    "start_time": "2021-12-21T13:20:22.542Z"
   },
   {
    "duration": 565,
    "start_time": "2021-12-21T13:20:32.159Z"
   },
   {
    "duration": 286,
    "start_time": "2021-12-21T13:23:04.288Z"
   },
   {
    "duration": 570,
    "start_time": "2021-12-21T13:25:51.856Z"
   },
   {
    "duration": 386,
    "start_time": "2021-12-21T13:26:04.656Z"
   },
   {
    "duration": 286,
    "start_time": "2021-12-21T13:28:56.193Z"
   },
   {
    "duration": 259,
    "start_time": "2021-12-21T13:34:44.536Z"
   },
   {
    "duration": 544,
    "start_time": "2021-12-21T13:35:20.338Z"
   },
   {
    "duration": 303,
    "start_time": "2021-12-21T13:35:31.370Z"
   },
   {
    "duration": 277,
    "start_time": "2021-12-21T13:35:58.106Z"
   },
   {
    "duration": 1098,
    "start_time": "2021-12-21T13:51:55.332Z"
   },
   {
    "duration": 1582,
    "start_time": "2021-12-22T10:27:01.016Z"
   },
   {
    "duration": 100,
    "start_time": "2021-12-22T10:27:02.600Z"
   },
   {
    "duration": 49,
    "start_time": "2021-12-22T10:27:02.704Z"
   },
   {
    "duration": 65,
    "start_time": "2021-12-22T10:27:02.756Z"
   },
   {
    "duration": 129,
    "start_time": "2021-12-22T10:27:02.824Z"
   },
   {
    "duration": 38,
    "start_time": "2021-12-22T10:27:02.956Z"
   },
   {
    "duration": 20,
    "start_time": "2021-12-22T10:27:02.997Z"
   },
   {
    "duration": 11,
    "start_time": "2021-12-22T10:27:03.021Z"
   },
   {
    "duration": 39,
    "start_time": "2021-12-22T10:27:03.035Z"
   },
   {
    "duration": 47,
    "start_time": "2021-12-22T10:27:03.077Z"
   },
   {
    "duration": 12,
    "start_time": "2021-12-22T10:27:03.126Z"
   },
   {
    "duration": 22,
    "start_time": "2021-12-22T10:27:03.141Z"
   },
   {
    "duration": 14,
    "start_time": "2021-12-22T10:27:03.165Z"
   },
   {
    "duration": 37,
    "start_time": "2021-12-22T10:27:03.181Z"
   },
   {
    "duration": 8,
    "start_time": "2021-12-22T10:27:03.220Z"
   },
   {
    "duration": 11,
    "start_time": "2021-12-22T10:27:03.230Z"
   },
   {
    "duration": 11,
    "start_time": "2021-12-22T10:27:03.243Z"
   },
   {
    "duration": 13,
    "start_time": "2021-12-22T10:27:03.257Z"
   },
   {
    "duration": 62,
    "start_time": "2021-12-22T10:27:03.272Z"
   },
   {
    "duration": 39,
    "start_time": "2021-12-22T10:27:03.336Z"
   },
   {
    "duration": 47,
    "start_time": "2021-12-22T10:27:03.377Z"
   },
   {
    "duration": 979,
    "start_time": "2021-12-22T10:27:03.426Z"
   },
   {
    "duration": 26,
    "start_time": "2021-12-22T10:27:04.411Z"
   },
   {
    "duration": 39,
    "start_time": "2021-12-22T10:27:04.440Z"
   },
   {
    "duration": 10,
    "start_time": "2021-12-22T10:27:04.481Z"
   },
   {
    "duration": 941,
    "start_time": "2021-12-22T10:27:04.494Z"
   },
   {
    "duration": 264,
    "start_time": "2021-12-22T10:27:05.437Z"
   },
   {
    "duration": 400,
    "start_time": "2021-12-22T10:27:05.703Z"
   },
   {
    "duration": 18,
    "start_time": "2021-12-22T10:27:06.105Z"
   },
   {
    "duration": 826,
    "start_time": "2021-12-22T10:27:06.125Z"
   },
   {
    "duration": 281,
    "start_time": "2021-12-22T10:27:06.954Z"
   },
   {
    "duration": 390,
    "start_time": "2021-12-22T10:27:07.237Z"
   },
   {
    "duration": 11,
    "start_time": "2021-12-22T10:27:07.629Z"
   },
   {
    "duration": 860,
    "start_time": "2021-12-22T10:27:07.642Z"
   },
   {
    "duration": 343,
    "start_time": "2021-12-22T10:27:08.505Z"
   },
   {
    "duration": 475,
    "start_time": "2021-12-22T10:27:08.851Z"
   },
   {
    "duration": 11,
    "start_time": "2021-12-22T10:27:09.328Z"
   },
   {
    "duration": 777,
    "start_time": "2021-12-22T10:27:09.341Z"
   },
   {
    "duration": 295,
    "start_time": "2021-12-22T10:27:10.122Z"
   },
   {
    "duration": 487,
    "start_time": "2021-12-22T10:27:10.420Z"
   },
   {
    "duration": 15,
    "start_time": "2021-12-22T10:27:10.909Z"
   },
   {
    "duration": 255,
    "start_time": "2021-12-22T10:27:10.926Z"
   },
   {
    "duration": 386,
    "start_time": "2021-12-22T10:27:11.183Z"
   },
   {
    "duration": 8210,
    "start_time": "2021-12-22T10:27:11.571Z"
   },
   {
    "duration": 14,
    "start_time": "2021-12-22T10:27:19.783Z"
   },
   {
    "duration": 1302,
    "start_time": "2021-12-22T10:27:19.800Z"
   },
   {
    "duration": 950,
    "start_time": "2021-12-22T10:27:21.104Z"
   },
   {
    "duration": 15,
    "start_time": "2021-12-22T10:27:22.056Z"
   },
   {
    "duration": 13,
    "start_time": "2021-12-22T10:27:22.073Z"
   },
   {
    "duration": 383,
    "start_time": "2021-12-22T10:27:22.088Z"
   },
   {
    "duration": 406,
    "start_time": "2021-12-22T10:27:22.473Z"
   },
   {
    "duration": 1141,
    "start_time": "2021-12-22T10:27:22.881Z"
   },
   {
    "duration": 32,
    "start_time": "2021-12-22T10:27:23.992Z"
   },
   {
    "duration": 6757,
    "start_time": "2021-12-22T10:27:36.353Z"
   },
   {
    "duration": 289,
    "start_time": "2021-12-22T10:29:50.722Z"
   },
   {
    "duration": 253,
    "start_time": "2021-12-22T10:34:40.053Z"
   },
   {
    "duration": 2025,
    "start_time": "2021-12-22T10:34:58.081Z"
   },
   {
    "duration": 31,
    "start_time": "2021-12-22T10:35:03.774Z"
   },
   {
    "duration": 145,
    "start_time": "2021-12-23T16:40:21.513Z"
   },
   {
    "duration": 1128,
    "start_time": "2021-12-23T16:42:42.147Z"
   },
   {
    "duration": 74,
    "start_time": "2021-12-23T16:42:43.277Z"
   },
   {
    "duration": 23,
    "start_time": "2021-12-23T16:42:43.353Z"
   },
   {
    "duration": 21,
    "start_time": "2021-12-23T16:42:43.378Z"
   },
   {
    "duration": 88,
    "start_time": "2021-12-23T16:42:43.401Z"
   },
   {
    "duration": 37,
    "start_time": "2021-12-23T16:42:43.491Z"
   },
   {
    "duration": 2,
    "start_time": "2021-12-23T16:42:43.530Z"
   },
   {
    "duration": 9,
    "start_time": "2021-12-23T16:42:43.534Z"
   },
   {
    "duration": 23,
    "start_time": "2021-12-23T16:42:43.545Z"
   },
   {
    "duration": 10,
    "start_time": "2021-12-23T16:42:43.569Z"
   },
   {
    "duration": 9,
    "start_time": "2021-12-23T16:42:43.581Z"
   },
   {
    "duration": 46,
    "start_time": "2021-12-23T16:42:43.591Z"
   },
   {
    "duration": 9,
    "start_time": "2021-12-23T16:42:43.639Z"
   },
   {
    "duration": 4,
    "start_time": "2021-12-23T16:42:43.649Z"
   },
   {
    "duration": 11,
    "start_time": "2021-12-23T16:42:43.655Z"
   },
   {
    "duration": 12,
    "start_time": "2021-12-23T16:42:43.668Z"
   },
   {
    "duration": 9,
    "start_time": "2021-12-23T16:42:43.681Z"
   },
   {
    "duration": 12,
    "start_time": "2021-12-23T16:42:43.692Z"
   },
   {
    "duration": 32,
    "start_time": "2021-12-23T16:42:43.705Z"
   },
   {
    "duration": 25,
    "start_time": "2021-12-23T16:42:43.739Z"
   },
   {
    "duration": 14,
    "start_time": "2021-12-23T16:42:43.766Z"
   },
   {
    "duration": 540,
    "start_time": "2021-12-23T16:42:43.781Z"
   },
   {
    "duration": 15,
    "start_time": "2021-12-23T16:42:44.324Z"
   },
   {
    "duration": 22,
    "start_time": "2021-12-23T16:42:44.341Z"
   },
   {
    "duration": 6,
    "start_time": "2021-12-23T16:42:44.364Z"
   },
   {
    "duration": 426,
    "start_time": "2021-12-23T16:42:44.371Z"
   },
   {
    "duration": 136,
    "start_time": "2021-12-23T16:42:44.798Z"
   },
   {
    "duration": 223,
    "start_time": "2021-12-23T16:42:44.936Z"
   },
   {
    "duration": 7,
    "start_time": "2021-12-23T16:42:45.160Z"
   },
   {
    "duration": 476,
    "start_time": "2021-12-23T16:42:45.168Z"
   },
   {
    "duration": 150,
    "start_time": "2021-12-23T16:42:45.645Z"
   },
   {
    "duration": 209,
    "start_time": "2021-12-23T16:42:45.796Z"
   },
   {
    "duration": 7,
    "start_time": "2021-12-23T16:42:46.006Z"
   },
   {
    "duration": 426,
    "start_time": "2021-12-23T16:42:46.014Z"
   },
   {
    "duration": 131,
    "start_time": "2021-12-23T16:42:46.441Z"
   },
   {
    "duration": 218,
    "start_time": "2021-12-23T16:42:46.573Z"
   },
   {
    "duration": 7,
    "start_time": "2021-12-23T16:42:46.793Z"
   },
   {
    "duration": 423,
    "start_time": "2021-12-23T16:42:46.801Z"
   },
   {
    "duration": 139,
    "start_time": "2021-12-23T16:42:47.225Z"
   },
   {
    "duration": 295,
    "start_time": "2021-12-23T16:42:47.365Z"
   },
   {
    "duration": 7,
    "start_time": "2021-12-23T16:42:47.661Z"
   },
   {
    "duration": 142,
    "start_time": "2021-12-23T16:42:47.669Z"
   },
   {
    "duration": 227,
    "start_time": "2021-12-23T16:42:47.812Z"
   },
   {
    "duration": 4889,
    "start_time": "2021-12-23T16:42:48.040Z"
   },
   {
    "duration": 9,
    "start_time": "2021-12-23T16:42:52.931Z"
   },
   {
    "duration": 736,
    "start_time": "2021-12-23T16:42:52.942Z"
   },
   {
    "duration": 567,
    "start_time": "2021-12-23T16:42:53.680Z"
   },
   {
    "duration": 10,
    "start_time": "2021-12-23T16:42:54.248Z"
   },
   {
    "duration": 13,
    "start_time": "2021-12-23T16:42:54.260Z"
   },
   {
    "duration": 197,
    "start_time": "2021-12-23T16:42:54.275Z"
   },
   {
    "duration": 232,
    "start_time": "2021-12-23T16:42:54.474Z"
   },
   {
    "duration": 933,
    "start_time": "2021-12-23T16:42:54.707Z"
   },
   {
    "duration": 616,
    "start_time": "2021-12-23T16:42:55.025Z"
   },
   {
    "duration": 613,
    "start_time": "2021-12-23T16:42:55.029Z"
   },
   {
    "duration": 934,
    "start_time": "2021-12-23T17:20:38.445Z"
   },
   {
    "duration": 698,
    "start_time": "2021-12-23T17:21:29.415Z"
   },
   {
    "duration": 997,
    "start_time": "2021-12-23T17:22:01.793Z"
   },
   {
    "duration": 1126,
    "start_time": "2021-12-23T17:22:27.376Z"
   },
   {
    "duration": 1161,
    "start_time": "2021-12-23T17:22:54.035Z"
   },
   {
    "duration": 1001,
    "start_time": "2021-12-23T17:23:13.688Z"
   },
   {
    "duration": 1118,
    "start_time": "2021-12-23T17:23:34.457Z"
   },
   {
    "duration": 238,
    "start_time": "2021-12-23T17:23:55.436Z"
   },
   {
    "duration": 1178,
    "start_time": "2021-12-23T17:25:29.145Z"
   },
   {
    "duration": 17,
    "start_time": "2021-12-23T17:28:57.319Z"
   },
   {
    "duration": 3,
    "start_time": "2021-12-23T17:33:49.708Z"
   },
   {
    "duration": 76,
    "start_time": "2021-12-23T17:33:49.713Z"
   },
   {
    "duration": 24,
    "start_time": "2021-12-23T17:33:49.791Z"
   },
   {
    "duration": 22,
    "start_time": "2021-12-23T17:33:49.827Z"
   },
   {
    "duration": 77,
    "start_time": "2021-12-23T17:33:49.851Z"
   },
   {
    "duration": 21,
    "start_time": "2021-12-23T17:33:49.930Z"
   },
   {
    "duration": 3,
    "start_time": "2021-12-23T17:33:49.954Z"
   },
   {
    "duration": 10,
    "start_time": "2021-12-23T17:33:49.959Z"
   },
   {
    "duration": 23,
    "start_time": "2021-12-23T17:33:49.970Z"
   },
   {
    "duration": 38,
    "start_time": "2021-12-23T17:33:49.995Z"
   },
   {
    "duration": 9,
    "start_time": "2021-12-23T17:33:50.035Z"
   },
   {
    "duration": 13,
    "start_time": "2021-12-23T17:33:50.046Z"
   },
   {
    "duration": 7,
    "start_time": "2021-12-23T17:33:50.061Z"
   },
   {
    "duration": 4,
    "start_time": "2021-12-23T17:33:50.360Z"
   },
   {
    "duration": 6,
    "start_time": "2021-12-23T17:33:50.367Z"
   },
   {
    "duration": 9,
    "start_time": "2021-12-23T17:33:50.375Z"
   },
   {
    "duration": 8,
    "start_time": "2021-12-23T17:33:50.386Z"
   },
   {
    "duration": 10,
    "start_time": "2021-12-23T17:33:50.396Z"
   },
   {
    "duration": 13,
    "start_time": "2021-12-23T17:33:50.408Z"
   },
   {
    "duration": 27,
    "start_time": "2021-12-23T17:33:50.422Z"
   },
   {
    "duration": 15,
    "start_time": "2021-12-23T17:33:50.450Z"
   },
   {
    "duration": 551,
    "start_time": "2021-12-23T17:33:50.467Z"
   },
   {
    "duration": 16,
    "start_time": "2021-12-23T17:33:51.028Z"
   },
   {
    "duration": 24,
    "start_time": "2021-12-23T17:33:51.046Z"
   },
   {
    "duration": 7,
    "start_time": "2021-12-23T17:33:51.072Z"
   },
   {
    "duration": 543,
    "start_time": "2021-12-23T17:33:51.081Z"
   },
   {
    "duration": 136,
    "start_time": "2021-12-23T17:33:51.627Z"
   },
   {
    "duration": 214,
    "start_time": "2021-12-23T17:33:51.765Z"
   },
   {
    "duration": 9,
    "start_time": "2021-12-23T17:33:51.981Z"
   },
   {
    "duration": 427,
    "start_time": "2021-12-23T17:33:51.991Z"
   },
   {
    "duration": 148,
    "start_time": "2021-12-23T17:33:52.420Z"
   },
   {
    "duration": 215,
    "start_time": "2021-12-23T17:33:52.569Z"
   },
   {
    "duration": 7,
    "start_time": "2021-12-23T17:33:52.785Z"
   },
   {
    "duration": 414,
    "start_time": "2021-12-23T17:33:52.793Z"
   },
   {
    "duration": 129,
    "start_time": "2021-12-23T17:33:53.208Z"
   },
   {
    "duration": 214,
    "start_time": "2021-12-23T17:33:53.338Z"
   },
   {
    "duration": 7,
    "start_time": "2021-12-23T17:33:53.554Z"
   },
   {
    "duration": 536,
    "start_time": "2021-12-23T17:33:53.562Z"
   },
   {
    "duration": 155,
    "start_time": "2021-12-23T17:33:54.100Z"
   },
   {
    "duration": 224,
    "start_time": "2021-12-23T17:33:54.256Z"
   },
   {
    "duration": 7,
    "start_time": "2021-12-23T17:33:54.483Z"
   },
   {
    "duration": 149,
    "start_time": "2021-12-23T17:33:54.492Z"
   },
   {
    "duration": 218,
    "start_time": "2021-12-23T17:33:54.643Z"
   },
   {
    "duration": 5218,
    "start_time": "2021-12-23T17:33:54.863Z"
   },
   {
    "duration": 11,
    "start_time": "2021-12-23T17:34:00.083Z"
   },
   {
    "duration": 831,
    "start_time": "2021-12-23T17:34:00.096Z"
   },
   {
    "duration": 552,
    "start_time": "2021-12-23T17:34:00.928Z"
   },
   {
    "duration": 10,
    "start_time": "2021-12-23T17:34:01.482Z"
   },
   {
    "duration": 13,
    "start_time": "2021-12-23T17:34:01.493Z"
   },
   {
    "duration": 212,
    "start_time": "2021-12-23T17:34:01.507Z"
   },
   {
    "duration": 244,
    "start_time": "2021-12-23T17:34:01.721Z"
   },
   {
    "duration": 954,
    "start_time": "2021-12-23T17:34:01.967Z"
   },
   {
    "duration": 1074,
    "start_time": "2021-12-23T17:34:02.923Z"
   },
   {
    "duration": 34,
    "start_time": "2021-12-23T17:34:03.998Z"
   },
   {
    "duration": 2,
    "start_time": "2021-12-23T17:46:15.371Z"
   },
   {
    "duration": 76,
    "start_time": "2021-12-23T17:46:15.375Z"
   },
   {
    "duration": 22,
    "start_time": "2021-12-23T17:46:15.453Z"
   },
   {
    "duration": 21,
    "start_time": "2021-12-23T17:46:15.477Z"
   },
   {
    "duration": 89,
    "start_time": "2021-12-23T17:46:15.499Z"
   },
   {
    "duration": 38,
    "start_time": "2021-12-23T17:46:15.589Z"
   },
   {
    "duration": 3,
    "start_time": "2021-12-23T17:46:15.629Z"
   },
   {
    "duration": 9,
    "start_time": "2021-12-23T17:46:15.634Z"
   },
   {
    "duration": 24,
    "start_time": "2021-12-23T17:46:15.645Z"
   },
   {
    "duration": 7,
    "start_time": "2021-12-23T17:46:15.671Z"
   },
   {
    "duration": 9,
    "start_time": "2021-12-23T17:46:15.680Z"
   },
   {
    "duration": 47,
    "start_time": "2021-12-23T17:46:15.691Z"
   },
   {
    "duration": 9,
    "start_time": "2021-12-23T17:46:15.740Z"
   },
   {
    "duration": 3,
    "start_time": "2021-12-23T17:46:15.751Z"
   },
   {
    "duration": 6,
    "start_time": "2021-12-23T17:46:15.756Z"
   },
   {
    "duration": 7,
    "start_time": "2021-12-23T17:46:15.764Z"
   },
   {
    "duration": 8,
    "start_time": "2021-12-23T17:46:15.773Z"
   },
   {
    "duration": 44,
    "start_time": "2021-12-23T17:46:15.783Z"
   },
   {
    "duration": 14,
    "start_time": "2021-12-23T17:46:15.830Z"
   },
   {
    "duration": 27,
    "start_time": "2021-12-23T17:46:15.846Z"
   },
   {
    "duration": 14,
    "start_time": "2021-12-23T17:46:15.875Z"
   },
   {
    "duration": 689,
    "start_time": "2021-12-23T17:46:15.891Z"
   },
   {
    "duration": 15,
    "start_time": "2021-12-23T17:46:16.582Z"
   },
   {
    "duration": 34,
    "start_time": "2021-12-23T17:46:16.598Z"
   },
   {
    "duration": 7,
    "start_time": "2021-12-23T17:46:16.633Z"
   },
   {
    "duration": 405,
    "start_time": "2021-12-23T17:46:16.641Z"
   },
   {
    "duration": 140,
    "start_time": "2021-12-23T17:46:17.047Z"
   },
   {
    "duration": 202,
    "start_time": "2021-12-23T17:46:17.188Z"
   },
   {
    "duration": 8,
    "start_time": "2021-12-23T17:46:17.392Z"
   },
   {
    "duration": 410,
    "start_time": "2021-12-23T17:46:17.402Z"
   },
   {
    "duration": 152,
    "start_time": "2021-12-23T17:46:17.814Z"
   },
   {
    "duration": 214,
    "start_time": "2021-12-23T17:46:17.968Z"
   },
   {
    "duration": 7,
    "start_time": "2021-12-23T17:46:18.183Z"
   },
   {
    "duration": 413,
    "start_time": "2021-12-23T17:46:18.191Z"
   },
   {
    "duration": 126,
    "start_time": "2021-12-23T17:46:18.606Z"
   },
   {
    "duration": 218,
    "start_time": "2021-12-23T17:46:18.734Z"
   },
   {
    "duration": 7,
    "start_time": "2021-12-23T17:46:18.954Z"
   },
   {
    "duration": 583,
    "start_time": "2021-12-23T17:46:18.962Z"
   },
   {
    "duration": 142,
    "start_time": "2021-12-23T17:46:19.547Z"
   },
   {
    "duration": 223,
    "start_time": "2021-12-23T17:46:19.691Z"
   },
   {
    "duration": 16,
    "start_time": "2021-12-23T17:46:19.915Z"
   },
   {
    "duration": 143,
    "start_time": "2021-12-23T17:46:19.933Z"
   },
   {
    "duration": 223,
    "start_time": "2021-12-23T17:46:20.078Z"
   },
   {
    "duration": 5415,
    "start_time": "2021-12-23T17:46:20.302Z"
   },
   {
    "duration": 14,
    "start_time": "2021-12-23T17:46:25.718Z"
   },
   {
    "duration": 771,
    "start_time": "2021-12-23T17:46:25.733Z"
   },
   {
    "duration": 540,
    "start_time": "2021-12-23T17:46:26.506Z"
   },
   {
    "duration": 10,
    "start_time": "2021-12-23T17:46:27.048Z"
   },
   {
    "duration": 10,
    "start_time": "2021-12-23T17:46:27.059Z"
   },
   {
    "duration": 205,
    "start_time": "2021-12-23T17:46:27.071Z"
   },
   {
    "duration": 405,
    "start_time": "2021-12-23T17:46:27.277Z"
   },
   {
    "duration": 830,
    "start_time": "2021-12-23T17:46:27.684Z"
   },
   {
    "duration": 1013,
    "start_time": "2021-12-23T17:46:28.516Z"
   },
   {
    "duration": 19,
    "start_time": "2021-12-23T17:46:29.530Z"
   },
   {
    "duration": 1198,
    "start_time": "2021-12-24T09:02:14.878Z"
   },
   {
    "duration": 73,
    "start_time": "2021-12-24T09:02:16.078Z"
   },
   {
    "duration": 26,
    "start_time": "2021-12-24T09:02:16.153Z"
   },
   {
    "duration": 23,
    "start_time": "2021-12-24T09:02:16.181Z"
   },
   {
    "duration": 83,
    "start_time": "2021-12-24T09:02:16.206Z"
   },
   {
    "duration": 28,
    "start_time": "2021-12-24T09:02:16.291Z"
   },
   {
    "duration": 4,
    "start_time": "2021-12-24T09:02:16.320Z"
   },
   {
    "duration": 35,
    "start_time": "2021-12-24T09:02:16.326Z"
   },
   {
    "duration": 26,
    "start_time": "2021-12-24T09:02:16.363Z"
   },
   {
    "duration": 11,
    "start_time": "2021-12-24T09:02:16.390Z"
   },
   {
    "duration": 15,
    "start_time": "2021-12-24T09:02:16.403Z"
   },
   {
    "duration": 17,
    "start_time": "2021-12-24T09:02:16.420Z"
   },
   {
    "duration": 24,
    "start_time": "2021-12-24T09:02:16.438Z"
   },
   {
    "duration": 4,
    "start_time": "2021-12-24T09:02:16.464Z"
   },
   {
    "duration": 6,
    "start_time": "2021-12-24T09:02:16.473Z"
   },
   {
    "duration": 12,
    "start_time": "2021-12-24T09:02:16.480Z"
   },
   {
    "duration": 9,
    "start_time": "2021-12-24T09:02:16.493Z"
   },
   {
    "duration": 11,
    "start_time": "2021-12-24T09:02:16.504Z"
   },
   {
    "duration": 57,
    "start_time": "2021-12-24T09:02:16.516Z"
   },
   {
    "duration": 97,
    "start_time": "2021-12-24T09:02:16.576Z"
   },
   {
    "duration": 22,
    "start_time": "2021-12-24T09:02:16.675Z"
   },
   {
    "duration": 953,
    "start_time": "2021-12-24T09:02:16.700Z"
   },
   {
    "duration": 17,
    "start_time": "2021-12-24T09:02:17.662Z"
   },
   {
    "duration": 26,
    "start_time": "2021-12-24T09:02:17.681Z"
   },
   {
    "duration": 8,
    "start_time": "2021-12-24T09:02:17.710Z"
   },
   {
    "duration": 461,
    "start_time": "2021-12-24T09:02:17.720Z"
   },
   {
    "duration": 157,
    "start_time": "2021-12-24T09:02:18.183Z"
   },
   {
    "duration": 233,
    "start_time": "2021-12-24T09:02:18.342Z"
   },
   {
    "duration": 9,
    "start_time": "2021-12-24T09:02:18.577Z"
   },
   {
    "duration": 518,
    "start_time": "2021-12-24T09:02:18.588Z"
   },
   {
    "duration": 154,
    "start_time": "2021-12-24T09:02:19.108Z"
   },
   {
    "duration": 222,
    "start_time": "2021-12-24T09:02:19.264Z"
   },
   {
    "duration": 6,
    "start_time": "2021-12-24T09:02:19.488Z"
   },
   {
    "duration": 475,
    "start_time": "2021-12-24T09:02:19.496Z"
   },
   {
    "duration": 153,
    "start_time": "2021-12-24T09:02:19.973Z"
   },
   {
    "duration": 249,
    "start_time": "2021-12-24T09:02:20.128Z"
   },
   {
    "duration": 7,
    "start_time": "2021-12-24T09:02:20.379Z"
   },
   {
    "duration": 447,
    "start_time": "2021-12-24T09:02:20.388Z"
   },
   {
    "duration": 166,
    "start_time": "2021-12-24T09:02:20.836Z"
   },
   {
    "duration": 325,
    "start_time": "2021-12-24T09:02:21.004Z"
   },
   {
    "duration": 9,
    "start_time": "2021-12-24T09:02:21.330Z"
   },
   {
    "duration": 185,
    "start_time": "2021-12-24T09:02:21.341Z"
   },
   {
    "duration": 245,
    "start_time": "2021-12-24T09:02:21.528Z"
   },
   {
    "duration": 5055,
    "start_time": "2021-12-24T09:02:21.775Z"
   },
   {
    "duration": 13,
    "start_time": "2021-12-24T09:02:26.832Z"
   },
   {
    "duration": 909,
    "start_time": "2021-12-24T09:02:26.861Z"
   },
   {
    "duration": 577,
    "start_time": "2021-12-24T09:02:27.772Z"
   },
   {
    "duration": 15,
    "start_time": "2021-12-24T09:02:28.351Z"
   },
   {
    "duration": 21,
    "start_time": "2021-12-24T09:02:28.368Z"
   },
   {
    "duration": 206,
    "start_time": "2021-12-24T09:02:28.391Z"
   },
   {
    "duration": 270,
    "start_time": "2021-12-24T09:02:28.598Z"
   },
   {
    "duration": 917,
    "start_time": "2021-12-24T09:02:28.869Z"
   },
   {
    "duration": 1242,
    "start_time": "2021-12-24T09:02:29.787Z"
   },
   {
    "duration": 32,
    "start_time": "2021-12-24T09:02:31.031Z"
   },
   {
    "duration": 1698,
    "start_time": "2021-12-24T15:35:49.123Z"
   },
   {
    "duration": 114,
    "start_time": "2021-12-24T15:35:50.824Z"
   },
   {
    "duration": 72,
    "start_time": "2021-12-24T15:35:50.941Z"
   },
   {
    "duration": 58,
    "start_time": "2021-12-24T15:35:51.017Z"
   },
   {
    "duration": 169,
    "start_time": "2021-12-24T15:35:51.077Z"
   },
   {
    "duration": 61,
    "start_time": "2021-12-24T15:35:51.249Z"
   },
   {
    "duration": 5,
    "start_time": "2021-12-24T15:35:51.313Z"
   },
   {
    "duration": 40,
    "start_time": "2021-12-24T15:35:51.323Z"
   },
   {
    "duration": 47,
    "start_time": "2021-12-24T15:35:51.366Z"
   },
   {
    "duration": 19,
    "start_time": "2021-12-24T15:35:51.416Z"
   },
   {
    "duration": 37,
    "start_time": "2021-12-24T15:35:51.438Z"
   },
   {
    "duration": 35,
    "start_time": "2021-12-24T15:35:51.478Z"
   },
   {
    "duration": 14,
    "start_time": "2021-12-24T15:35:51.515Z"
   },
   {
    "duration": 35,
    "start_time": "2021-12-24T15:35:51.531Z"
   },
   {
    "duration": 21,
    "start_time": "2021-12-24T15:35:51.568Z"
   },
   {
    "duration": 9,
    "start_time": "2021-12-24T15:35:51.592Z"
   },
   {
    "duration": 14,
    "start_time": "2021-12-24T15:35:51.603Z"
   },
   {
    "duration": 12,
    "start_time": "2021-12-24T15:35:51.619Z"
   },
   {
    "duration": 50,
    "start_time": "2021-12-24T15:35:51.633Z"
   },
   {
    "duration": 84,
    "start_time": "2021-12-24T15:35:51.686Z"
   },
   {
    "duration": 28,
    "start_time": "2021-12-24T15:35:51.773Z"
   },
   {
    "duration": 1161,
    "start_time": "2021-12-24T15:35:51.804Z"
   },
   {
    "duration": 25,
    "start_time": "2021-12-24T15:35:52.969Z"
   },
   {
    "duration": 44,
    "start_time": "2021-12-24T15:35:52.996Z"
   },
   {
    "duration": 29,
    "start_time": "2021-12-24T15:35:53.042Z"
   },
   {
    "duration": 937,
    "start_time": "2021-12-24T15:35:53.073Z"
   },
   {
    "duration": 879,
    "start_time": "2021-12-24T15:36:26.348Z"
   },
   {
    "duration": 305,
    "start_time": "2021-12-24T15:39:04.521Z"
   },
   {
    "duration": 889,
    "start_time": "2021-12-24T15:42:14.856Z"
   },
   {
    "duration": 292,
    "start_time": "2021-12-24T15:42:50.780Z"
   },
   {
    "duration": 408,
    "start_time": "2021-12-24T15:44:28.353Z"
   },
   {
    "duration": 1107,
    "start_time": "2021-12-24T15:45:20.071Z"
   },
   {
    "duration": 256,
    "start_time": "2021-12-24T15:45:42.597Z"
   },
   {
    "duration": 403,
    "start_time": "2021-12-24T15:46:59.156Z"
   },
   {
    "duration": 819,
    "start_time": "2021-12-24T15:47:48.555Z"
   },
   {
    "duration": 895,
    "start_time": "2021-12-24T15:48:05.852Z"
   },
   {
    "duration": 816,
    "start_time": "2021-12-24T15:48:46.482Z"
   },
   {
    "duration": 305,
    "start_time": "2021-12-24T15:49:30.385Z"
   },
   {
    "duration": 419,
    "start_time": "2021-12-24T15:49:35.179Z"
   },
   {
    "duration": 772,
    "start_time": "2021-12-24T15:50:07.739Z"
   },
   {
    "duration": 801,
    "start_time": "2021-12-24T15:50:12.645Z"
   },
   {
    "duration": 252,
    "start_time": "2021-12-24T15:50:32.293Z"
   },
   {
    "duration": 398,
    "start_time": "2021-12-24T15:50:52.679Z"
   },
   {
    "duration": 369,
    "start_time": "2021-12-24T15:51:49.265Z"
   },
   {
    "duration": 397,
    "start_time": "2021-12-24T15:52:39.618Z"
   },
   {
    "duration": 8315,
    "start_time": "2021-12-24T15:53:51.301Z"
   },
   {
    "duration": 8548,
    "start_time": "2021-12-24T15:54:09.875Z"
   },
   {
    "duration": 367,
    "start_time": "2021-12-24T16:08:07.684Z"
   },
   {
    "duration": 5,
    "start_time": "2021-12-24T16:08:24.771Z"
   },
   {
    "duration": 142,
    "start_time": "2021-12-24T16:08:24.779Z"
   },
   {
    "duration": 83,
    "start_time": "2021-12-24T16:08:24.925Z"
   },
   {
    "duration": 64,
    "start_time": "2021-12-24T16:08:25.011Z"
   },
   {
    "duration": 121,
    "start_time": "2021-12-24T16:08:25.078Z"
   },
   {
    "duration": 36,
    "start_time": "2021-12-24T16:08:25.202Z"
   },
   {
    "duration": 22,
    "start_time": "2021-12-24T16:08:25.241Z"
   },
   {
    "duration": 13,
    "start_time": "2021-12-24T16:08:25.266Z"
   },
   {
    "duration": 41,
    "start_time": "2021-12-24T16:08:25.281Z"
   },
   {
    "duration": 44,
    "start_time": "2021-12-24T16:08:25.324Z"
   },
   {
    "duration": 13,
    "start_time": "2021-12-24T16:08:25.371Z"
   },
   {
    "duration": 23,
    "start_time": "2021-12-24T16:08:25.387Z"
   },
   {
    "duration": 50,
    "start_time": "2021-12-24T16:08:25.412Z"
   },
   {
    "duration": 7,
    "start_time": "2021-12-24T16:08:25.468Z"
   },
   {
    "duration": 12,
    "start_time": "2021-12-24T16:08:25.478Z"
   },
   {
    "duration": 12,
    "start_time": "2021-12-24T16:08:25.493Z"
   },
   {
    "duration": 11,
    "start_time": "2021-12-24T16:08:25.508Z"
   },
   {
    "duration": 59,
    "start_time": "2021-12-24T16:08:25.522Z"
   },
   {
    "duration": 29,
    "start_time": "2021-12-24T16:08:25.591Z"
   },
   {
    "duration": 61,
    "start_time": "2021-12-24T16:08:25.623Z"
   },
   {
    "duration": 23,
    "start_time": "2021-12-24T16:08:25.687Z"
   },
   {
    "duration": 1033,
    "start_time": "2021-12-24T16:08:25.713Z"
   },
   {
    "duration": 36,
    "start_time": "2021-12-24T16:08:26.748Z"
   },
   {
    "duration": 73,
    "start_time": "2021-12-24T16:08:26.788Z"
   },
   {
    "duration": 14,
    "start_time": "2021-12-24T16:08:26.864Z"
   },
   {
    "duration": 1217,
    "start_time": "2021-12-24T16:08:26.881Z"
   },
   {
    "duration": 278,
    "start_time": "2021-12-24T16:08:28.101Z"
   },
   {
    "duration": 441,
    "start_time": "2021-12-24T16:08:28.381Z"
   },
   {
    "duration": 11,
    "start_time": "2021-12-24T16:08:28.827Z"
   },
   {
    "duration": 1129,
    "start_time": "2021-12-24T16:08:28.841Z"
   },
   {
    "duration": 423,
    "start_time": "2021-12-24T16:08:29.974Z"
   },
   {
    "duration": 440,
    "start_time": "2021-12-24T16:08:30.400Z"
   },
   {
    "duration": 9,
    "start_time": "2021-12-24T16:08:30.842Z"
   },
   {
    "duration": 820,
    "start_time": "2021-12-24T16:08:30.854Z"
   },
   {
    "duration": 321,
    "start_time": "2021-12-24T16:08:31.678Z"
   },
   {
    "duration": 497,
    "start_time": "2021-12-24T16:08:32.002Z"
   },
   {
    "duration": 11,
    "start_time": "2021-12-24T16:08:32.502Z"
   },
   {
    "duration": 755,
    "start_time": "2021-12-24T16:08:32.516Z"
   },
   {
    "duration": 357,
    "start_time": "2021-12-24T16:08:33.274Z"
   },
   {
    "duration": 406,
    "start_time": "2021-12-24T16:08:33.634Z"
   },
   {
    "duration": 20,
    "start_time": "2021-12-24T16:08:34.042Z"
   },
   {
    "duration": 395,
    "start_time": "2021-12-24T16:08:34.064Z"
   },
   {
    "duration": 397,
    "start_time": "2021-12-24T16:08:34.462Z"
   },
   {
    "duration": 8402,
    "start_time": "2021-12-24T16:08:34.861Z"
   },
   {
    "duration": 13,
    "start_time": "2021-12-24T16:08:43.265Z"
   },
   {
    "duration": 1196,
    "start_time": "2021-12-24T16:08:43.281Z"
   },
   {
    "duration": 1311,
    "start_time": "2021-12-24T16:08:50.123Z"
   },
   {
    "duration": 630,
    "start_time": "2021-12-24T16:08:54.331Z"
   },
   {
    "duration": 1261,
    "start_time": "2021-12-24T16:09:25.346Z"
   },
   {
    "duration": 398,
    "start_time": "2021-12-24T16:13:36.449Z"
   },
   {
    "duration": 139,
    "start_time": "2021-12-24T16:14:01.665Z"
   },
   {
    "duration": 422,
    "start_time": "2021-12-24T16:14:14.148Z"
   },
   {
    "duration": 1109,
    "start_time": "2021-12-24T16:15:35.802Z"
   },
   {
    "duration": 1283,
    "start_time": "2021-12-24T16:20:49.976Z"
   },
   {
    "duration": 342,
    "start_time": "2021-12-24T16:23:03.867Z"
   },
   {
    "duration": 357,
    "start_time": "2021-12-24T16:24:44.463Z"
   },
   {
    "duration": 347,
    "start_time": "2021-12-24T16:25:18.101Z"
   },
   {
    "duration": 1587,
    "start_time": "2021-12-24T16:31:08.362Z"
   },
   {
    "duration": 279,
    "start_time": "2022-01-14T11:41:45.826Z"
   },
   {
    "duration": 1222,
    "start_time": "2022-08-06T12:01:58.539Z"
   },
   {
    "duration": 330,
    "start_time": "2022-08-06T12:01:59.763Z"
   },
   {
    "duration": 28,
    "start_time": "2022-08-06T12:02:00.095Z"
   },
   {
    "duration": 25,
    "start_time": "2022-08-06T12:02:00.125Z"
   },
   {
    "duration": 80,
    "start_time": "2022-08-06T12:02:00.152Z"
   },
   {
    "duration": 20,
    "start_time": "2022-08-06T12:02:00.234Z"
   },
   {
    "duration": 3,
    "start_time": "2022-08-06T12:02:00.256Z"
   },
   {
    "duration": 9,
    "start_time": "2022-08-06T12:02:00.260Z"
   },
   {
    "duration": 44,
    "start_time": "2022-08-06T12:02:00.270Z"
   },
   {
    "duration": 8,
    "start_time": "2022-08-06T12:02:00.316Z"
   },
   {
    "duration": 13,
    "start_time": "2022-08-06T12:02:00.326Z"
   },
   {
    "duration": 20,
    "start_time": "2022-08-06T12:02:00.341Z"
   },
   {
    "duration": 12,
    "start_time": "2022-08-06T12:02:00.362Z"
   },
   {
    "duration": 4,
    "start_time": "2022-08-06T12:02:00.375Z"
   },
   {
    "duration": 25,
    "start_time": "2022-08-06T12:02:00.380Z"
   },
   {
    "duration": 9,
    "start_time": "2022-08-06T12:02:00.407Z"
   },
   {
    "duration": 11,
    "start_time": "2022-08-06T12:02:00.418Z"
   },
   {
    "duration": 17,
    "start_time": "2022-08-06T12:02:00.431Z"
   },
   {
    "duration": 14,
    "start_time": "2022-08-06T12:02:00.449Z"
   },
   {
    "duration": 37,
    "start_time": "2022-08-06T12:02:00.464Z"
   },
   {
    "duration": 16,
    "start_time": "2022-08-06T12:02:00.502Z"
   },
   {
    "duration": 306,
    "start_time": "2022-08-06T12:02:00.520Z"
   },
   {
    "duration": 16,
    "start_time": "2022-08-06T12:02:00.828Z"
   },
   {
    "duration": 34,
    "start_time": "2022-08-06T12:02:00.846Z"
   },
   {
    "duration": 21,
    "start_time": "2022-08-06T12:02:00.881Z"
   },
   {
    "duration": 307,
    "start_time": "2022-08-06T12:02:00.903Z"
   },
   {
    "duration": 118,
    "start_time": "2022-08-06T12:02:01.212Z"
   },
   {
    "duration": 176,
    "start_time": "2022-08-06T12:02:01.334Z"
   },
   {
    "duration": 10,
    "start_time": "2022-08-06T12:02:01.512Z"
   },
   {
    "duration": 408,
    "start_time": "2022-08-06T12:02:01.524Z"
   },
   {
    "duration": 127,
    "start_time": "2022-08-06T12:02:01.934Z"
   },
   {
    "duration": 168,
    "start_time": "2022-08-06T12:02:02.063Z"
   },
   {
    "duration": 6,
    "start_time": "2022-08-06T12:02:02.233Z"
   },
   {
    "duration": 303,
    "start_time": "2022-08-06T12:02:02.240Z"
   },
   {
    "duration": 104,
    "start_time": "2022-08-06T12:02:02.544Z"
   },
   {
    "duration": 166,
    "start_time": "2022-08-06T12:02:02.649Z"
   },
   {
    "duration": 8,
    "start_time": "2022-08-06T12:02:02.816Z"
   },
   {
    "duration": 311,
    "start_time": "2022-08-06T12:02:02.826Z"
   },
   {
    "duration": 227,
    "start_time": "2022-08-06T12:02:03.138Z"
   },
   {
    "duration": 149,
    "start_time": "2022-08-06T12:02:03.367Z"
   },
   {
    "duration": 10,
    "start_time": "2022-08-06T12:02:03.518Z"
   },
   {
    "duration": 208,
    "start_time": "2022-08-06T12:02:03.530Z"
   },
   {
    "duration": 304,
    "start_time": "2022-08-06T12:02:03.739Z"
   },
   {
    "duration": 2012,
    "start_time": "2022-08-06T12:02:04.045Z"
   },
   {
    "duration": 11,
    "start_time": "2022-08-06T12:02:06.058Z"
   },
   {
    "duration": 548,
    "start_time": "2022-08-06T12:02:06.070Z"
   },
   {
    "duration": 422,
    "start_time": "2022-08-06T12:02:06.620Z"
   },
   {
    "duration": 10,
    "start_time": "2022-08-06T12:02:07.044Z"
   },
   {
    "duration": 55,
    "start_time": "2022-08-06T12:02:07.055Z"
   },
   {
    "duration": 167,
    "start_time": "2022-08-06T12:02:07.111Z"
   },
   {
    "duration": 175,
    "start_time": "2022-08-06T12:02:07.280Z"
   },
   {
    "duration": 584,
    "start_time": "2022-08-06T12:02:07.456Z"
   },
   {
    "duration": 845,
    "start_time": "2022-08-06T12:02:08.042Z"
   },
   {
    "duration": 25,
    "start_time": "2022-08-06T12:02:08.889Z"
   },
   {
    "duration": 2128,
    "start_time": "2022-08-06T12:04:20.005Z"
   },
   {
    "duration": 728,
    "start_time": "2022-08-06T12:05:07.225Z"
   }
  ],
  "kernelspec": {
   "display_name": "Python 3 (ipykernel)",
   "language": "python",
   "name": "python3"
  },
  "language_info": {
   "codemirror_mode": {
    "name": "ipython",
    "version": 3
   },
   "file_extension": ".py",
   "mimetype": "text/x-python",
   "name": "python",
   "nbconvert_exporter": "python",
   "pygments_lexer": "ipython3",
   "version": "3.9.5"
  },
  "toc": {
   "base_numbering": 1,
   "nav_menu": {},
   "number_sections": true,
   "sideBar": true,
   "skip_h1_title": true,
   "title_cell": "Содержание",
   "title_sidebar": "Contents",
   "toc_cell": true,
   "toc_position": {
    "height": "calc(100% - 180px)",
    "left": "10px",
    "top": "150px",
    "width": "244.977px"
   },
   "toc_section_display": true,
   "toc_window_display": true
  }
 },
 "nbformat": 4,
 "nbformat_minor": 2
}
