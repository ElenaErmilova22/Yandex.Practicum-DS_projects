{
 "cells": [
  {
   "cell_type": "markdown",
   "metadata": {},
   "source": [
    "## Аннотация: Определение перспективного тарифа для телеком-компании"
   ]
  },
  {
   "cell_type": "markdown",
   "metadata": {},
   "source": [
    "На основе данных 500 пользователей федерального оператора сотовой связи «Мегалайн» за 2018 год нужно провести предварительный статистический анализ данных о тарифах «Смарт» и «Ультра». \n",
    "\n",
    "**Цель исследования:** скорректировать рекламный бюджет компании. \n",
    "\n",
    "**Задача исследования:** проанализировать поведение клиентов и сделать вывод о том, какой тариф приносит большую выручку."
   ]
  },
  {
   "cell_type": "markdown",
   "metadata": {},
   "source": [
    "## Знакомство с данными"
   ]
  },
  {
   "cell_type": "code",
   "execution_count": 156,
   "metadata": {},
   "outputs": [],
   "source": [
    "#импортируем библиотеки, которые понадобятся нам в ходе исследования\n",
    "import pandas as pd\n",
    "import numpy as np\n",
    "import matplotlib.pyplot as plt\n",
    "import seaborn as sns\n",
    "from scipy import stats as st"
   ]
  },
  {
   "cell_type": "markdown",
   "metadata": {},
   "source": [
    "Теперь необходимо ознакомиться с имеющимися данными, провести их первичный анализ, чтобы получить общее представление о том, с чем придется работать в ходе исследования, и чтобы выявить проблемы в данных, которые нужно будет устранить на этапе предобработки. \n",
    "\n",
    "Так как в этот раз мы будем работать сразу с несколькими исходными таблицами, то удобнее будет автоматизировать процесс получения необходимой информации. Создадим функцию, которая будет выводить:\n",
    "- общую информацию о таблице;\n",
    "- 10 первых и последних строк фрейма;\n",
    "- описательную статистику таблицы;\n",
    "- результаты проверки на наличие в данных явных дубликатов."
   ]
  },
  {
   "cell_type": "code",
   "execution_count": 157,
   "metadata": {},
   "outputs": [],
   "source": [
    "def study_of_initial_data(data): #создаем функцию\n",
    "    print(data.info())\n",
    "    print()\n",
    "    display(data.head(10))\n",
    "    print()\n",
    "    display(data.tail(10))\n",
    "    print()\n",
    "    display(data.describe())\n",
    "    print()\n",
    "    print(data.duplicated().sum())"
   ]
  },
  {
   "cell_type": "code",
   "execution_count": 158,
   "metadata": {},
   "outputs": [],
   "source": [
    "#применяем специальный метод для чтения файлов формата csv\n",
    "initial_data_about_calls = pd.read_csv('/datasets/calls.csv')\n",
    "initial_data_about_internet = pd.read_csv('/datasets/internet.csv', index_col=0)\n",
    "initial_data_about_messages = pd.read_csv('/datasets/messages.csv')\n",
    "initial_data_about_tariffs = pd.read_csv('/datasets/tariffs.csv')\n",
    "initial_data_about_users = pd.read_csv('/datasets/users.csv')"
   ]
  },
  {
   "cell_type": "code",
   "execution_count": 159,
   "metadata": {},
   "outputs": [
    {
     "name": "stdout",
     "output_type": "stream",
     "text": [
      "<class 'pandas.core.frame.DataFrame'>\n",
      "RangeIndex: 202607 entries, 0 to 202606\n",
      "Data columns (total 4 columns):\n",
      "id           202607 non-null object\n",
      "call_date    202607 non-null object\n",
      "duration     202607 non-null float64\n",
      "user_id      202607 non-null int64\n",
      "dtypes: float64(1), int64(1), object(2)\n",
      "memory usage: 6.2+ MB\n",
      "None\n",
      "\n"
     ]
    },
    {
     "data": {
      "text/html": [
       "<div>\n",
       "<style scoped>\n",
       "    .dataframe tbody tr th:only-of-type {\n",
       "        vertical-align: middle;\n",
       "    }\n",
       "\n",
       "    .dataframe tbody tr th {\n",
       "        vertical-align: top;\n",
       "    }\n",
       "\n",
       "    .dataframe thead th {\n",
       "        text-align: right;\n",
       "    }\n",
       "</style>\n",
       "<table border=\"1\" class=\"dataframe\">\n",
       "  <thead>\n",
       "    <tr style=\"text-align: right;\">\n",
       "      <th></th>\n",
       "      <th>id</th>\n",
       "      <th>call_date</th>\n",
       "      <th>duration</th>\n",
       "      <th>user_id</th>\n",
       "    </tr>\n",
       "  </thead>\n",
       "  <tbody>\n",
       "    <tr>\n",
       "      <td>0</td>\n",
       "      <td>1000_0</td>\n",
       "      <td>2018-07-25</td>\n",
       "      <td>0.00</td>\n",
       "      <td>1000</td>\n",
       "    </tr>\n",
       "    <tr>\n",
       "      <td>1</td>\n",
       "      <td>1000_1</td>\n",
       "      <td>2018-08-17</td>\n",
       "      <td>0.00</td>\n",
       "      <td>1000</td>\n",
       "    </tr>\n",
       "    <tr>\n",
       "      <td>2</td>\n",
       "      <td>1000_2</td>\n",
       "      <td>2018-06-11</td>\n",
       "      <td>2.85</td>\n",
       "      <td>1000</td>\n",
       "    </tr>\n",
       "    <tr>\n",
       "      <td>3</td>\n",
       "      <td>1000_3</td>\n",
       "      <td>2018-09-21</td>\n",
       "      <td>13.80</td>\n",
       "      <td>1000</td>\n",
       "    </tr>\n",
       "    <tr>\n",
       "      <td>4</td>\n",
       "      <td>1000_4</td>\n",
       "      <td>2018-12-15</td>\n",
       "      <td>5.18</td>\n",
       "      <td>1000</td>\n",
       "    </tr>\n",
       "    <tr>\n",
       "      <td>5</td>\n",
       "      <td>1000_5</td>\n",
       "      <td>2018-11-02</td>\n",
       "      <td>0.00</td>\n",
       "      <td>1000</td>\n",
       "    </tr>\n",
       "    <tr>\n",
       "      <td>6</td>\n",
       "      <td>1000_6</td>\n",
       "      <td>2018-10-18</td>\n",
       "      <td>0.00</td>\n",
       "      <td>1000</td>\n",
       "    </tr>\n",
       "    <tr>\n",
       "      <td>7</td>\n",
       "      <td>1000_7</td>\n",
       "      <td>2018-08-22</td>\n",
       "      <td>18.31</td>\n",
       "      <td>1000</td>\n",
       "    </tr>\n",
       "    <tr>\n",
       "      <td>8</td>\n",
       "      <td>1000_8</td>\n",
       "      <td>2018-09-15</td>\n",
       "      <td>18.44</td>\n",
       "      <td>1000</td>\n",
       "    </tr>\n",
       "    <tr>\n",
       "      <td>9</td>\n",
       "      <td>1000_9</td>\n",
       "      <td>2018-08-15</td>\n",
       "      <td>0.00</td>\n",
       "      <td>1000</td>\n",
       "    </tr>\n",
       "  </tbody>\n",
       "</table>\n",
       "</div>"
      ],
      "text/plain": [
       "       id   call_date  duration  user_id\n",
       "0  1000_0  2018-07-25      0.00     1000\n",
       "1  1000_1  2018-08-17      0.00     1000\n",
       "2  1000_2  2018-06-11      2.85     1000\n",
       "3  1000_3  2018-09-21     13.80     1000\n",
       "4  1000_4  2018-12-15      5.18     1000\n",
       "5  1000_5  2018-11-02      0.00     1000\n",
       "6  1000_6  2018-10-18      0.00     1000\n",
       "7  1000_7  2018-08-22     18.31     1000\n",
       "8  1000_8  2018-09-15     18.44     1000\n",
       "9  1000_9  2018-08-15      0.00     1000"
      ]
     },
     "metadata": {},
     "output_type": "display_data"
    },
    {
     "name": "stdout",
     "output_type": "stream",
     "text": [
      "\n"
     ]
    },
    {
     "data": {
      "text/html": [
       "<div>\n",
       "<style scoped>\n",
       "    .dataframe tbody tr th:only-of-type {\n",
       "        vertical-align: middle;\n",
       "    }\n",
       "\n",
       "    .dataframe tbody tr th {\n",
       "        vertical-align: top;\n",
       "    }\n",
       "\n",
       "    .dataframe thead th {\n",
       "        text-align: right;\n",
       "    }\n",
       "</style>\n",
       "<table border=\"1\" class=\"dataframe\">\n",
       "  <thead>\n",
       "    <tr style=\"text-align: right;\">\n",
       "      <th></th>\n",
       "      <th>id</th>\n",
       "      <th>call_date</th>\n",
       "      <th>duration</th>\n",
       "      <th>user_id</th>\n",
       "    </tr>\n",
       "  </thead>\n",
       "  <tbody>\n",
       "    <tr>\n",
       "      <td>202597</td>\n",
       "      <td>1499_210</td>\n",
       "      <td>2018-10-02</td>\n",
       "      <td>8.86</td>\n",
       "      <td>1499</td>\n",
       "    </tr>\n",
       "    <tr>\n",
       "      <td>202598</td>\n",
       "      <td>1499_211</td>\n",
       "      <td>2018-12-29</td>\n",
       "      <td>4.58</td>\n",
       "      <td>1499</td>\n",
       "    </tr>\n",
       "    <tr>\n",
       "      <td>202599</td>\n",
       "      <td>1499_212</td>\n",
       "      <td>2018-12-30</td>\n",
       "      <td>1.35</td>\n",
       "      <td>1499</td>\n",
       "    </tr>\n",
       "    <tr>\n",
       "      <td>202600</td>\n",
       "      <td>1499_213</td>\n",
       "      <td>2018-10-17</td>\n",
       "      <td>10.77</td>\n",
       "      <td>1499</td>\n",
       "    </tr>\n",
       "    <tr>\n",
       "      <td>202601</td>\n",
       "      <td>1499_214</td>\n",
       "      <td>2018-12-05</td>\n",
       "      <td>2.42</td>\n",
       "      <td>1499</td>\n",
       "    </tr>\n",
       "    <tr>\n",
       "      <td>202602</td>\n",
       "      <td>1499_215</td>\n",
       "      <td>2018-12-26</td>\n",
       "      <td>0.76</td>\n",
       "      <td>1499</td>\n",
       "    </tr>\n",
       "    <tr>\n",
       "      <td>202603</td>\n",
       "      <td>1499_216</td>\n",
       "      <td>2018-10-18</td>\n",
       "      <td>18.83</td>\n",
       "      <td>1499</td>\n",
       "    </tr>\n",
       "    <tr>\n",
       "      <td>202604</td>\n",
       "      <td>1499_217</td>\n",
       "      <td>2018-11-10</td>\n",
       "      <td>10.81</td>\n",
       "      <td>1499</td>\n",
       "    </tr>\n",
       "    <tr>\n",
       "      <td>202605</td>\n",
       "      <td>1499_218</td>\n",
       "      <td>2018-10-06</td>\n",
       "      <td>4.27</td>\n",
       "      <td>1499</td>\n",
       "    </tr>\n",
       "    <tr>\n",
       "      <td>202606</td>\n",
       "      <td>1499_219</td>\n",
       "      <td>2018-12-14</td>\n",
       "      <td>19.62</td>\n",
       "      <td>1499</td>\n",
       "    </tr>\n",
       "  </tbody>\n",
       "</table>\n",
       "</div>"
      ],
      "text/plain": [
       "              id   call_date  duration  user_id\n",
       "202597  1499_210  2018-10-02      8.86     1499\n",
       "202598  1499_211  2018-12-29      4.58     1499\n",
       "202599  1499_212  2018-12-30      1.35     1499\n",
       "202600  1499_213  2018-10-17     10.77     1499\n",
       "202601  1499_214  2018-12-05      2.42     1499\n",
       "202602  1499_215  2018-12-26      0.76     1499\n",
       "202603  1499_216  2018-10-18     18.83     1499\n",
       "202604  1499_217  2018-11-10     10.81     1499\n",
       "202605  1499_218  2018-10-06      4.27     1499\n",
       "202606  1499_219  2018-12-14     19.62     1499"
      ]
     },
     "metadata": {},
     "output_type": "display_data"
    },
    {
     "name": "stdout",
     "output_type": "stream",
     "text": [
      "\n"
     ]
    },
    {
     "data": {
      "text/html": [
       "<div>\n",
       "<style scoped>\n",
       "    .dataframe tbody tr th:only-of-type {\n",
       "        vertical-align: middle;\n",
       "    }\n",
       "\n",
       "    .dataframe tbody tr th {\n",
       "        vertical-align: top;\n",
       "    }\n",
       "\n",
       "    .dataframe thead th {\n",
       "        text-align: right;\n",
       "    }\n",
       "</style>\n",
       "<table border=\"1\" class=\"dataframe\">\n",
       "  <thead>\n",
       "    <tr style=\"text-align: right;\">\n",
       "      <th></th>\n",
       "      <th>duration</th>\n",
       "      <th>user_id</th>\n",
       "    </tr>\n",
       "  </thead>\n",
       "  <tbody>\n",
       "    <tr>\n",
       "      <td>count</td>\n",
       "      <td>202607.000000</td>\n",
       "      <td>202607.000000</td>\n",
       "    </tr>\n",
       "    <tr>\n",
       "      <td>mean</td>\n",
       "      <td>6.755887</td>\n",
       "      <td>1253.940619</td>\n",
       "    </tr>\n",
       "    <tr>\n",
       "      <td>std</td>\n",
       "      <td>5.843365</td>\n",
       "      <td>144.722751</td>\n",
       "    </tr>\n",
       "    <tr>\n",
       "      <td>min</td>\n",
       "      <td>0.000000</td>\n",
       "      <td>1000.000000</td>\n",
       "    </tr>\n",
       "    <tr>\n",
       "      <td>25%</td>\n",
       "      <td>1.300000</td>\n",
       "      <td>1126.000000</td>\n",
       "    </tr>\n",
       "    <tr>\n",
       "      <td>50%</td>\n",
       "      <td>6.000000</td>\n",
       "      <td>1260.000000</td>\n",
       "    </tr>\n",
       "    <tr>\n",
       "      <td>75%</td>\n",
       "      <td>10.700000</td>\n",
       "      <td>1379.000000</td>\n",
       "    </tr>\n",
       "    <tr>\n",
       "      <td>max</td>\n",
       "      <td>38.000000</td>\n",
       "      <td>1499.000000</td>\n",
       "    </tr>\n",
       "  </tbody>\n",
       "</table>\n",
       "</div>"
      ],
      "text/plain": [
       "            duration        user_id\n",
       "count  202607.000000  202607.000000\n",
       "mean        6.755887    1253.940619\n",
       "std         5.843365     144.722751\n",
       "min         0.000000    1000.000000\n",
       "25%         1.300000    1126.000000\n",
       "50%         6.000000    1260.000000\n",
       "75%        10.700000    1379.000000\n",
       "max        38.000000    1499.000000"
      ]
     },
     "metadata": {},
     "output_type": "display_data"
    },
    {
     "name": "stdout",
     "output_type": "stream",
     "text": [
      "\n",
      "0\n"
     ]
    }
   ],
   "source": [
    "#применяем функцию study_of_initial_data() к каждой таблице\n",
    "study_of_initial_data(initial_data_about_calls)"
   ]
  },
  {
   "cell_type": "code",
   "execution_count": 160,
   "metadata": {},
   "outputs": [
    {
     "name": "stdout",
     "output_type": "stream",
     "text": [
      "<class 'pandas.core.frame.DataFrame'>\n",
      "Int64Index: 149396 entries, 0 to 149395\n",
      "Data columns (total 4 columns):\n",
      "id              149396 non-null object\n",
      "mb_used         149396 non-null float64\n",
      "session_date    149396 non-null object\n",
      "user_id         149396 non-null int64\n",
      "dtypes: float64(1), int64(1), object(2)\n",
      "memory usage: 5.7+ MB\n",
      "None\n",
      "\n"
     ]
    },
    {
     "data": {
      "text/html": [
       "<div>\n",
       "<style scoped>\n",
       "    .dataframe tbody tr th:only-of-type {\n",
       "        vertical-align: middle;\n",
       "    }\n",
       "\n",
       "    .dataframe tbody tr th {\n",
       "        vertical-align: top;\n",
       "    }\n",
       "\n",
       "    .dataframe thead th {\n",
       "        text-align: right;\n",
       "    }\n",
       "</style>\n",
       "<table border=\"1\" class=\"dataframe\">\n",
       "  <thead>\n",
       "    <tr style=\"text-align: right;\">\n",
       "      <th></th>\n",
       "      <th>id</th>\n",
       "      <th>mb_used</th>\n",
       "      <th>session_date</th>\n",
       "      <th>user_id</th>\n",
       "    </tr>\n",
       "  </thead>\n",
       "  <tbody>\n",
       "    <tr>\n",
       "      <td>0</td>\n",
       "      <td>1000_0</td>\n",
       "      <td>112.95</td>\n",
       "      <td>2018-11-25</td>\n",
       "      <td>1000</td>\n",
       "    </tr>\n",
       "    <tr>\n",
       "      <td>1</td>\n",
       "      <td>1000_1</td>\n",
       "      <td>1052.81</td>\n",
       "      <td>2018-09-07</td>\n",
       "      <td>1000</td>\n",
       "    </tr>\n",
       "    <tr>\n",
       "      <td>2</td>\n",
       "      <td>1000_2</td>\n",
       "      <td>1197.26</td>\n",
       "      <td>2018-06-25</td>\n",
       "      <td>1000</td>\n",
       "    </tr>\n",
       "    <tr>\n",
       "      <td>3</td>\n",
       "      <td>1000_3</td>\n",
       "      <td>550.27</td>\n",
       "      <td>2018-08-22</td>\n",
       "      <td>1000</td>\n",
       "    </tr>\n",
       "    <tr>\n",
       "      <td>4</td>\n",
       "      <td>1000_4</td>\n",
       "      <td>302.56</td>\n",
       "      <td>2018-09-24</td>\n",
       "      <td>1000</td>\n",
       "    </tr>\n",
       "    <tr>\n",
       "      <td>5</td>\n",
       "      <td>1000_5</td>\n",
       "      <td>399.97</td>\n",
       "      <td>2018-10-02</td>\n",
       "      <td>1000</td>\n",
       "    </tr>\n",
       "    <tr>\n",
       "      <td>6</td>\n",
       "      <td>1000_6</td>\n",
       "      <td>540.08</td>\n",
       "      <td>2018-09-07</td>\n",
       "      <td>1000</td>\n",
       "    </tr>\n",
       "    <tr>\n",
       "      <td>7</td>\n",
       "      <td>1000_7</td>\n",
       "      <td>415.70</td>\n",
       "      <td>2018-07-11</td>\n",
       "      <td>1000</td>\n",
       "    </tr>\n",
       "    <tr>\n",
       "      <td>8</td>\n",
       "      <td>1000_8</td>\n",
       "      <td>505.40</td>\n",
       "      <td>2018-10-08</td>\n",
       "      <td>1000</td>\n",
       "    </tr>\n",
       "    <tr>\n",
       "      <td>9</td>\n",
       "      <td>1000_9</td>\n",
       "      <td>345.54</td>\n",
       "      <td>2018-09-03</td>\n",
       "      <td>1000</td>\n",
       "    </tr>\n",
       "  </tbody>\n",
       "</table>\n",
       "</div>"
      ],
      "text/plain": [
       "       id  mb_used session_date  user_id\n",
       "0  1000_0   112.95   2018-11-25     1000\n",
       "1  1000_1  1052.81   2018-09-07     1000\n",
       "2  1000_2  1197.26   2018-06-25     1000\n",
       "3  1000_3   550.27   2018-08-22     1000\n",
       "4  1000_4   302.56   2018-09-24     1000\n",
       "5  1000_5   399.97   2018-10-02     1000\n",
       "6  1000_6   540.08   2018-09-07     1000\n",
       "7  1000_7   415.70   2018-07-11     1000\n",
       "8  1000_8   505.40   2018-10-08     1000\n",
       "9  1000_9   345.54   2018-09-03     1000"
      ]
     },
     "metadata": {},
     "output_type": "display_data"
    },
    {
     "name": "stdout",
     "output_type": "stream",
     "text": [
      "\n"
     ]
    },
    {
     "data": {
      "text/html": [
       "<div>\n",
       "<style scoped>\n",
       "    .dataframe tbody tr th:only-of-type {\n",
       "        vertical-align: middle;\n",
       "    }\n",
       "\n",
       "    .dataframe tbody tr th {\n",
       "        vertical-align: top;\n",
       "    }\n",
       "\n",
       "    .dataframe thead th {\n",
       "        text-align: right;\n",
       "    }\n",
       "</style>\n",
       "<table border=\"1\" class=\"dataframe\">\n",
       "  <thead>\n",
       "    <tr style=\"text-align: right;\">\n",
       "      <th></th>\n",
       "      <th>id</th>\n",
       "      <th>mb_used</th>\n",
       "      <th>session_date</th>\n",
       "      <th>user_id</th>\n",
       "    </tr>\n",
       "  </thead>\n",
       "  <tbody>\n",
       "    <tr>\n",
       "      <td>149386</td>\n",
       "      <td>1499_147</td>\n",
       "      <td>0.00</td>\n",
       "      <td>2018-10-21</td>\n",
       "      <td>1499</td>\n",
       "    </tr>\n",
       "    <tr>\n",
       "      <td>149387</td>\n",
       "      <td>1499_148</td>\n",
       "      <td>268.19</td>\n",
       "      <td>2018-11-13</td>\n",
       "      <td>1499</td>\n",
       "    </tr>\n",
       "    <tr>\n",
       "      <td>149388</td>\n",
       "      <td>1499_149</td>\n",
       "      <td>778.68</td>\n",
       "      <td>2018-11-24</td>\n",
       "      <td>1499</td>\n",
       "    </tr>\n",
       "    <tr>\n",
       "      <td>149389</td>\n",
       "      <td>1499_150</td>\n",
       "      <td>273.98</td>\n",
       "      <td>2018-11-20</td>\n",
       "      <td>1499</td>\n",
       "    </tr>\n",
       "    <tr>\n",
       "      <td>149390</td>\n",
       "      <td>1499_151</td>\n",
       "      <td>752.72</td>\n",
       "      <td>2018-10-11</td>\n",
       "      <td>1499</td>\n",
       "    </tr>\n",
       "    <tr>\n",
       "      <td>149391</td>\n",
       "      <td>1499_152</td>\n",
       "      <td>318.90</td>\n",
       "      <td>2018-10-03</td>\n",
       "      <td>1499</td>\n",
       "    </tr>\n",
       "    <tr>\n",
       "      <td>149392</td>\n",
       "      <td>1499_153</td>\n",
       "      <td>490.13</td>\n",
       "      <td>2018-12-14</td>\n",
       "      <td>1499</td>\n",
       "    </tr>\n",
       "    <tr>\n",
       "      <td>149393</td>\n",
       "      <td>1499_154</td>\n",
       "      <td>0.00</td>\n",
       "      <td>2018-10-27</td>\n",
       "      <td>1499</td>\n",
       "    </tr>\n",
       "    <tr>\n",
       "      <td>149394</td>\n",
       "      <td>1499_155</td>\n",
       "      <td>1246.32</td>\n",
       "      <td>2018-11-26</td>\n",
       "      <td>1499</td>\n",
       "    </tr>\n",
       "    <tr>\n",
       "      <td>149395</td>\n",
       "      <td>1499_156</td>\n",
       "      <td>544.37</td>\n",
       "      <td>2018-10-26</td>\n",
       "      <td>1499</td>\n",
       "    </tr>\n",
       "  </tbody>\n",
       "</table>\n",
       "</div>"
      ],
      "text/plain": [
       "              id  mb_used session_date  user_id\n",
       "149386  1499_147     0.00   2018-10-21     1499\n",
       "149387  1499_148   268.19   2018-11-13     1499\n",
       "149388  1499_149   778.68   2018-11-24     1499\n",
       "149389  1499_150   273.98   2018-11-20     1499\n",
       "149390  1499_151   752.72   2018-10-11     1499\n",
       "149391  1499_152   318.90   2018-10-03     1499\n",
       "149392  1499_153   490.13   2018-12-14     1499\n",
       "149393  1499_154     0.00   2018-10-27     1499\n",
       "149394  1499_155  1246.32   2018-11-26     1499\n",
       "149395  1499_156   544.37   2018-10-26     1499"
      ]
     },
     "metadata": {},
     "output_type": "display_data"
    },
    {
     "name": "stdout",
     "output_type": "stream",
     "text": [
      "\n"
     ]
    },
    {
     "data": {
      "text/html": [
       "<div>\n",
       "<style scoped>\n",
       "    .dataframe tbody tr th:only-of-type {\n",
       "        vertical-align: middle;\n",
       "    }\n",
       "\n",
       "    .dataframe tbody tr th {\n",
       "        vertical-align: top;\n",
       "    }\n",
       "\n",
       "    .dataframe thead th {\n",
       "        text-align: right;\n",
       "    }\n",
       "</style>\n",
       "<table border=\"1\" class=\"dataframe\">\n",
       "  <thead>\n",
       "    <tr style=\"text-align: right;\">\n",
       "      <th></th>\n",
       "      <th>mb_used</th>\n",
       "      <th>user_id</th>\n",
       "    </tr>\n",
       "  </thead>\n",
       "  <tbody>\n",
       "    <tr>\n",
       "      <td>count</td>\n",
       "      <td>149396.000000</td>\n",
       "      <td>149396.000000</td>\n",
       "    </tr>\n",
       "    <tr>\n",
       "      <td>mean</td>\n",
       "      <td>370.192426</td>\n",
       "      <td>1252.099842</td>\n",
       "    </tr>\n",
       "    <tr>\n",
       "      <td>std</td>\n",
       "      <td>278.300951</td>\n",
       "      <td>144.050823</td>\n",
       "    </tr>\n",
       "    <tr>\n",
       "      <td>min</td>\n",
       "      <td>0.000000</td>\n",
       "      <td>1000.000000</td>\n",
       "    </tr>\n",
       "    <tr>\n",
       "      <td>25%</td>\n",
       "      <td>138.187500</td>\n",
       "      <td>1130.000000</td>\n",
       "    </tr>\n",
       "    <tr>\n",
       "      <td>50%</td>\n",
       "      <td>348.015000</td>\n",
       "      <td>1251.000000</td>\n",
       "    </tr>\n",
       "    <tr>\n",
       "      <td>75%</td>\n",
       "      <td>559.552500</td>\n",
       "      <td>1380.000000</td>\n",
       "    </tr>\n",
       "    <tr>\n",
       "      <td>max</td>\n",
       "      <td>1724.830000</td>\n",
       "      <td>1499.000000</td>\n",
       "    </tr>\n",
       "  </tbody>\n",
       "</table>\n",
       "</div>"
      ],
      "text/plain": [
       "             mb_used        user_id\n",
       "count  149396.000000  149396.000000\n",
       "mean      370.192426    1252.099842\n",
       "std       278.300951     144.050823\n",
       "min         0.000000    1000.000000\n",
       "25%       138.187500    1130.000000\n",
       "50%       348.015000    1251.000000\n",
       "75%       559.552500    1380.000000\n",
       "max      1724.830000    1499.000000"
      ]
     },
     "metadata": {},
     "output_type": "display_data"
    },
    {
     "name": "stdout",
     "output_type": "stream",
     "text": [
      "\n",
      "0\n"
     ]
    }
   ],
   "source": [
    "study_of_initial_data(initial_data_about_internet)"
   ]
  },
  {
   "cell_type": "code",
   "execution_count": 161,
   "metadata": {},
   "outputs": [
    {
     "name": "stdout",
     "output_type": "stream",
     "text": [
      "<class 'pandas.core.frame.DataFrame'>\n",
      "RangeIndex: 123036 entries, 0 to 123035\n",
      "Data columns (total 3 columns):\n",
      "id              123036 non-null object\n",
      "message_date    123036 non-null object\n",
      "user_id         123036 non-null int64\n",
      "dtypes: int64(1), object(2)\n",
      "memory usage: 2.8+ MB\n",
      "None\n",
      "\n"
     ]
    },
    {
     "data": {
      "text/html": [
       "<div>\n",
       "<style scoped>\n",
       "    .dataframe tbody tr th:only-of-type {\n",
       "        vertical-align: middle;\n",
       "    }\n",
       "\n",
       "    .dataframe tbody tr th {\n",
       "        vertical-align: top;\n",
       "    }\n",
       "\n",
       "    .dataframe thead th {\n",
       "        text-align: right;\n",
       "    }\n",
       "</style>\n",
       "<table border=\"1\" class=\"dataframe\">\n",
       "  <thead>\n",
       "    <tr style=\"text-align: right;\">\n",
       "      <th></th>\n",
       "      <th>id</th>\n",
       "      <th>message_date</th>\n",
       "      <th>user_id</th>\n",
       "    </tr>\n",
       "  </thead>\n",
       "  <tbody>\n",
       "    <tr>\n",
       "      <td>0</td>\n",
       "      <td>1000_0</td>\n",
       "      <td>2018-06-27</td>\n",
       "      <td>1000</td>\n",
       "    </tr>\n",
       "    <tr>\n",
       "      <td>1</td>\n",
       "      <td>1000_1</td>\n",
       "      <td>2018-10-08</td>\n",
       "      <td>1000</td>\n",
       "    </tr>\n",
       "    <tr>\n",
       "      <td>2</td>\n",
       "      <td>1000_2</td>\n",
       "      <td>2018-08-04</td>\n",
       "      <td>1000</td>\n",
       "    </tr>\n",
       "    <tr>\n",
       "      <td>3</td>\n",
       "      <td>1000_3</td>\n",
       "      <td>2018-06-16</td>\n",
       "      <td>1000</td>\n",
       "    </tr>\n",
       "    <tr>\n",
       "      <td>4</td>\n",
       "      <td>1000_4</td>\n",
       "      <td>2018-12-05</td>\n",
       "      <td>1000</td>\n",
       "    </tr>\n",
       "    <tr>\n",
       "      <td>5</td>\n",
       "      <td>1000_5</td>\n",
       "      <td>2018-06-20</td>\n",
       "      <td>1000</td>\n",
       "    </tr>\n",
       "    <tr>\n",
       "      <td>6</td>\n",
       "      <td>1000_6</td>\n",
       "      <td>2018-11-19</td>\n",
       "      <td>1000</td>\n",
       "    </tr>\n",
       "    <tr>\n",
       "      <td>7</td>\n",
       "      <td>1000_7</td>\n",
       "      <td>2018-10-29</td>\n",
       "      <td>1000</td>\n",
       "    </tr>\n",
       "    <tr>\n",
       "      <td>8</td>\n",
       "      <td>1000_8</td>\n",
       "      <td>2018-06-25</td>\n",
       "      <td>1000</td>\n",
       "    </tr>\n",
       "    <tr>\n",
       "      <td>9</td>\n",
       "      <td>1000_9</td>\n",
       "      <td>2018-12-18</td>\n",
       "      <td>1000</td>\n",
       "    </tr>\n",
       "  </tbody>\n",
       "</table>\n",
       "</div>"
      ],
      "text/plain": [
       "       id message_date  user_id\n",
       "0  1000_0   2018-06-27     1000\n",
       "1  1000_1   2018-10-08     1000\n",
       "2  1000_2   2018-08-04     1000\n",
       "3  1000_3   2018-06-16     1000\n",
       "4  1000_4   2018-12-05     1000\n",
       "5  1000_5   2018-06-20     1000\n",
       "6  1000_6   2018-11-19     1000\n",
       "7  1000_7   2018-10-29     1000\n",
       "8  1000_8   2018-06-25     1000\n",
       "9  1000_9   2018-12-18     1000"
      ]
     },
     "metadata": {},
     "output_type": "display_data"
    },
    {
     "name": "stdout",
     "output_type": "stream",
     "text": [
      "\n"
     ]
    },
    {
     "data": {
      "text/html": [
       "<div>\n",
       "<style scoped>\n",
       "    .dataframe tbody tr th:only-of-type {\n",
       "        vertical-align: middle;\n",
       "    }\n",
       "\n",
       "    .dataframe tbody tr th {\n",
       "        vertical-align: top;\n",
       "    }\n",
       "\n",
       "    .dataframe thead th {\n",
       "        text-align: right;\n",
       "    }\n",
       "</style>\n",
       "<table border=\"1\" class=\"dataframe\">\n",
       "  <thead>\n",
       "    <tr style=\"text-align: right;\">\n",
       "      <th></th>\n",
       "      <th>id</th>\n",
       "      <th>message_date</th>\n",
       "      <th>user_id</th>\n",
       "    </tr>\n",
       "  </thead>\n",
       "  <tbody>\n",
       "    <tr>\n",
       "      <td>123026</td>\n",
       "      <td>1499_174</td>\n",
       "      <td>2018-12-14</td>\n",
       "      <td>1499</td>\n",
       "    </tr>\n",
       "    <tr>\n",
       "      <td>123027</td>\n",
       "      <td>1499_175</td>\n",
       "      <td>2018-10-09</td>\n",
       "      <td>1499</td>\n",
       "    </tr>\n",
       "    <tr>\n",
       "      <td>123028</td>\n",
       "      <td>1499_176</td>\n",
       "      <td>2018-12-17</td>\n",
       "      <td>1499</td>\n",
       "    </tr>\n",
       "    <tr>\n",
       "      <td>123029</td>\n",
       "      <td>1499_177</td>\n",
       "      <td>2018-12-30</td>\n",
       "      <td>1499</td>\n",
       "    </tr>\n",
       "    <tr>\n",
       "      <td>123030</td>\n",
       "      <td>1499_178</td>\n",
       "      <td>2018-10-25</td>\n",
       "      <td>1499</td>\n",
       "    </tr>\n",
       "    <tr>\n",
       "      <td>123031</td>\n",
       "      <td>1499_179</td>\n",
       "      <td>2018-12-12</td>\n",
       "      <td>1499</td>\n",
       "    </tr>\n",
       "    <tr>\n",
       "      <td>123032</td>\n",
       "      <td>1499_180</td>\n",
       "      <td>2018-09-28</td>\n",
       "      <td>1499</td>\n",
       "    </tr>\n",
       "    <tr>\n",
       "      <td>123033</td>\n",
       "      <td>1499_181</td>\n",
       "      <td>2018-09-27</td>\n",
       "      <td>1499</td>\n",
       "    </tr>\n",
       "    <tr>\n",
       "      <td>123034</td>\n",
       "      <td>1499_182</td>\n",
       "      <td>2018-11-15</td>\n",
       "      <td>1499</td>\n",
       "    </tr>\n",
       "    <tr>\n",
       "      <td>123035</td>\n",
       "      <td>1499_183</td>\n",
       "      <td>2018-11-16</td>\n",
       "      <td>1499</td>\n",
       "    </tr>\n",
       "  </tbody>\n",
       "</table>\n",
       "</div>"
      ],
      "text/plain": [
       "              id message_date  user_id\n",
       "123026  1499_174   2018-12-14     1499\n",
       "123027  1499_175   2018-10-09     1499\n",
       "123028  1499_176   2018-12-17     1499\n",
       "123029  1499_177   2018-12-30     1499\n",
       "123030  1499_178   2018-10-25     1499\n",
       "123031  1499_179   2018-12-12     1499\n",
       "123032  1499_180   2018-09-28     1499\n",
       "123033  1499_181   2018-09-27     1499\n",
       "123034  1499_182   2018-11-15     1499\n",
       "123035  1499_183   2018-11-16     1499"
      ]
     },
     "metadata": {},
     "output_type": "display_data"
    },
    {
     "name": "stdout",
     "output_type": "stream",
     "text": [
      "\n"
     ]
    },
    {
     "data": {
      "text/html": [
       "<div>\n",
       "<style scoped>\n",
       "    .dataframe tbody tr th:only-of-type {\n",
       "        vertical-align: middle;\n",
       "    }\n",
       "\n",
       "    .dataframe tbody tr th {\n",
       "        vertical-align: top;\n",
       "    }\n",
       "\n",
       "    .dataframe thead th {\n",
       "        text-align: right;\n",
       "    }\n",
       "</style>\n",
       "<table border=\"1\" class=\"dataframe\">\n",
       "  <thead>\n",
       "    <tr style=\"text-align: right;\">\n",
       "      <th></th>\n",
       "      <th>user_id</th>\n",
       "    </tr>\n",
       "  </thead>\n",
       "  <tbody>\n",
       "    <tr>\n",
       "      <td>count</td>\n",
       "      <td>123036.000000</td>\n",
       "    </tr>\n",
       "    <tr>\n",
       "      <td>mean</td>\n",
       "      <td>1256.989410</td>\n",
       "    </tr>\n",
       "    <tr>\n",
       "      <td>std</td>\n",
       "      <td>143.523967</td>\n",
       "    </tr>\n",
       "    <tr>\n",
       "      <td>min</td>\n",
       "      <td>1000.000000</td>\n",
       "    </tr>\n",
       "    <tr>\n",
       "      <td>25%</td>\n",
       "      <td>1134.000000</td>\n",
       "    </tr>\n",
       "    <tr>\n",
       "      <td>50%</td>\n",
       "      <td>1271.000000</td>\n",
       "    </tr>\n",
       "    <tr>\n",
       "      <td>75%</td>\n",
       "      <td>1381.000000</td>\n",
       "    </tr>\n",
       "    <tr>\n",
       "      <td>max</td>\n",
       "      <td>1499.000000</td>\n",
       "    </tr>\n",
       "  </tbody>\n",
       "</table>\n",
       "</div>"
      ],
      "text/plain": [
       "             user_id\n",
       "count  123036.000000\n",
       "mean     1256.989410\n",
       "std       143.523967\n",
       "min      1000.000000\n",
       "25%      1134.000000\n",
       "50%      1271.000000\n",
       "75%      1381.000000\n",
       "max      1499.000000"
      ]
     },
     "metadata": {},
     "output_type": "display_data"
    },
    {
     "name": "stdout",
     "output_type": "stream",
     "text": [
      "\n",
      "0\n"
     ]
    }
   ],
   "source": [
    "study_of_initial_data(initial_data_about_messages)"
   ]
  },
  {
   "cell_type": "code",
   "execution_count": 162,
   "metadata": {},
   "outputs": [
    {
     "name": "stdout",
     "output_type": "stream",
     "text": [
      "<class 'pandas.core.frame.DataFrame'>\n",
      "RangeIndex: 2 entries, 0 to 1\n",
      "Data columns (total 8 columns):\n",
      "messages_included        2 non-null int64\n",
      "mb_per_month_included    2 non-null int64\n",
      "minutes_included         2 non-null int64\n",
      "rub_monthly_fee          2 non-null int64\n",
      "rub_per_gb               2 non-null int64\n",
      "rub_per_message          2 non-null int64\n",
      "rub_per_minute           2 non-null int64\n",
      "tariff_name              2 non-null object\n",
      "dtypes: int64(7), object(1)\n",
      "memory usage: 256.0+ bytes\n",
      "None\n",
      "\n"
     ]
    },
    {
     "data": {
      "text/html": [
       "<div>\n",
       "<style scoped>\n",
       "    .dataframe tbody tr th:only-of-type {\n",
       "        vertical-align: middle;\n",
       "    }\n",
       "\n",
       "    .dataframe tbody tr th {\n",
       "        vertical-align: top;\n",
       "    }\n",
       "\n",
       "    .dataframe thead th {\n",
       "        text-align: right;\n",
       "    }\n",
       "</style>\n",
       "<table border=\"1\" class=\"dataframe\">\n",
       "  <thead>\n",
       "    <tr style=\"text-align: right;\">\n",
       "      <th></th>\n",
       "      <th>messages_included</th>\n",
       "      <th>mb_per_month_included</th>\n",
       "      <th>minutes_included</th>\n",
       "      <th>rub_monthly_fee</th>\n",
       "      <th>rub_per_gb</th>\n",
       "      <th>rub_per_message</th>\n",
       "      <th>rub_per_minute</th>\n",
       "      <th>tariff_name</th>\n",
       "    </tr>\n",
       "  </thead>\n",
       "  <tbody>\n",
       "    <tr>\n",
       "      <td>0</td>\n",
       "      <td>50</td>\n",
       "      <td>15360</td>\n",
       "      <td>500</td>\n",
       "      <td>550</td>\n",
       "      <td>200</td>\n",
       "      <td>3</td>\n",
       "      <td>3</td>\n",
       "      <td>smart</td>\n",
       "    </tr>\n",
       "    <tr>\n",
       "      <td>1</td>\n",
       "      <td>1000</td>\n",
       "      <td>30720</td>\n",
       "      <td>3000</td>\n",
       "      <td>1950</td>\n",
       "      <td>150</td>\n",
       "      <td>1</td>\n",
       "      <td>1</td>\n",
       "      <td>ultra</td>\n",
       "    </tr>\n",
       "  </tbody>\n",
       "</table>\n",
       "</div>"
      ],
      "text/plain": [
       "   messages_included  mb_per_month_included  minutes_included  \\\n",
       "0                 50                  15360               500   \n",
       "1               1000                  30720              3000   \n",
       "\n",
       "   rub_monthly_fee  rub_per_gb  rub_per_message  rub_per_minute tariff_name  \n",
       "0              550         200                3               3       smart  \n",
       "1             1950         150                1               1       ultra  "
      ]
     },
     "metadata": {},
     "output_type": "display_data"
    },
    {
     "name": "stdout",
     "output_type": "stream",
     "text": [
      "\n"
     ]
    },
    {
     "data": {
      "text/html": [
       "<div>\n",
       "<style scoped>\n",
       "    .dataframe tbody tr th:only-of-type {\n",
       "        vertical-align: middle;\n",
       "    }\n",
       "\n",
       "    .dataframe tbody tr th {\n",
       "        vertical-align: top;\n",
       "    }\n",
       "\n",
       "    .dataframe thead th {\n",
       "        text-align: right;\n",
       "    }\n",
       "</style>\n",
       "<table border=\"1\" class=\"dataframe\">\n",
       "  <thead>\n",
       "    <tr style=\"text-align: right;\">\n",
       "      <th></th>\n",
       "      <th>messages_included</th>\n",
       "      <th>mb_per_month_included</th>\n",
       "      <th>minutes_included</th>\n",
       "      <th>rub_monthly_fee</th>\n",
       "      <th>rub_per_gb</th>\n",
       "      <th>rub_per_message</th>\n",
       "      <th>rub_per_minute</th>\n",
       "      <th>tariff_name</th>\n",
       "    </tr>\n",
       "  </thead>\n",
       "  <tbody>\n",
       "    <tr>\n",
       "      <td>0</td>\n",
       "      <td>50</td>\n",
       "      <td>15360</td>\n",
       "      <td>500</td>\n",
       "      <td>550</td>\n",
       "      <td>200</td>\n",
       "      <td>3</td>\n",
       "      <td>3</td>\n",
       "      <td>smart</td>\n",
       "    </tr>\n",
       "    <tr>\n",
       "      <td>1</td>\n",
       "      <td>1000</td>\n",
       "      <td>30720</td>\n",
       "      <td>3000</td>\n",
       "      <td>1950</td>\n",
       "      <td>150</td>\n",
       "      <td>1</td>\n",
       "      <td>1</td>\n",
       "      <td>ultra</td>\n",
       "    </tr>\n",
       "  </tbody>\n",
       "</table>\n",
       "</div>"
      ],
      "text/plain": [
       "   messages_included  mb_per_month_included  minutes_included  \\\n",
       "0                 50                  15360               500   \n",
       "1               1000                  30720              3000   \n",
       "\n",
       "   rub_monthly_fee  rub_per_gb  rub_per_message  rub_per_minute tariff_name  \n",
       "0              550         200                3               3       smart  \n",
       "1             1950         150                1               1       ultra  "
      ]
     },
     "metadata": {},
     "output_type": "display_data"
    },
    {
     "name": "stdout",
     "output_type": "stream",
     "text": [
      "\n"
     ]
    },
    {
     "data": {
      "text/html": [
       "<div>\n",
       "<style scoped>\n",
       "    .dataframe tbody tr th:only-of-type {\n",
       "        vertical-align: middle;\n",
       "    }\n",
       "\n",
       "    .dataframe tbody tr th {\n",
       "        vertical-align: top;\n",
       "    }\n",
       "\n",
       "    .dataframe thead th {\n",
       "        text-align: right;\n",
       "    }\n",
       "</style>\n",
       "<table border=\"1\" class=\"dataframe\">\n",
       "  <thead>\n",
       "    <tr style=\"text-align: right;\">\n",
       "      <th></th>\n",
       "      <th>messages_included</th>\n",
       "      <th>mb_per_month_included</th>\n",
       "      <th>minutes_included</th>\n",
       "      <th>rub_monthly_fee</th>\n",
       "      <th>rub_per_gb</th>\n",
       "      <th>rub_per_message</th>\n",
       "      <th>rub_per_minute</th>\n",
       "    </tr>\n",
       "  </thead>\n",
       "  <tbody>\n",
       "    <tr>\n",
       "      <td>count</td>\n",
       "      <td>2.000000</td>\n",
       "      <td>2.000000</td>\n",
       "      <td>2.000000</td>\n",
       "      <td>2.000000</td>\n",
       "      <td>2.000000</td>\n",
       "      <td>2.000000</td>\n",
       "      <td>2.000000</td>\n",
       "    </tr>\n",
       "    <tr>\n",
       "      <td>mean</td>\n",
       "      <td>525.000000</td>\n",
       "      <td>23040.000000</td>\n",
       "      <td>1750.000000</td>\n",
       "      <td>1250.000000</td>\n",
       "      <td>175.000000</td>\n",
       "      <td>2.000000</td>\n",
       "      <td>2.000000</td>\n",
       "    </tr>\n",
       "    <tr>\n",
       "      <td>std</td>\n",
       "      <td>671.751442</td>\n",
       "      <td>10861.160159</td>\n",
       "      <td>1767.766953</td>\n",
       "      <td>989.949494</td>\n",
       "      <td>35.355339</td>\n",
       "      <td>1.414214</td>\n",
       "      <td>1.414214</td>\n",
       "    </tr>\n",
       "    <tr>\n",
       "      <td>min</td>\n",
       "      <td>50.000000</td>\n",
       "      <td>15360.000000</td>\n",
       "      <td>500.000000</td>\n",
       "      <td>550.000000</td>\n",
       "      <td>150.000000</td>\n",
       "      <td>1.000000</td>\n",
       "      <td>1.000000</td>\n",
       "    </tr>\n",
       "    <tr>\n",
       "      <td>25%</td>\n",
       "      <td>287.500000</td>\n",
       "      <td>19200.000000</td>\n",
       "      <td>1125.000000</td>\n",
       "      <td>900.000000</td>\n",
       "      <td>162.500000</td>\n",
       "      <td>1.500000</td>\n",
       "      <td>1.500000</td>\n",
       "    </tr>\n",
       "    <tr>\n",
       "      <td>50%</td>\n",
       "      <td>525.000000</td>\n",
       "      <td>23040.000000</td>\n",
       "      <td>1750.000000</td>\n",
       "      <td>1250.000000</td>\n",
       "      <td>175.000000</td>\n",
       "      <td>2.000000</td>\n",
       "      <td>2.000000</td>\n",
       "    </tr>\n",
       "    <tr>\n",
       "      <td>75%</td>\n",
       "      <td>762.500000</td>\n",
       "      <td>26880.000000</td>\n",
       "      <td>2375.000000</td>\n",
       "      <td>1600.000000</td>\n",
       "      <td>187.500000</td>\n",
       "      <td>2.500000</td>\n",
       "      <td>2.500000</td>\n",
       "    </tr>\n",
       "    <tr>\n",
       "      <td>max</td>\n",
       "      <td>1000.000000</td>\n",
       "      <td>30720.000000</td>\n",
       "      <td>3000.000000</td>\n",
       "      <td>1950.000000</td>\n",
       "      <td>200.000000</td>\n",
       "      <td>3.000000</td>\n",
       "      <td>3.000000</td>\n",
       "    </tr>\n",
       "  </tbody>\n",
       "</table>\n",
       "</div>"
      ],
      "text/plain": [
       "       messages_included  mb_per_month_included  minutes_included  \\\n",
       "count           2.000000               2.000000          2.000000   \n",
       "mean          525.000000           23040.000000       1750.000000   \n",
       "std           671.751442           10861.160159       1767.766953   \n",
       "min            50.000000           15360.000000        500.000000   \n",
       "25%           287.500000           19200.000000       1125.000000   \n",
       "50%           525.000000           23040.000000       1750.000000   \n",
       "75%           762.500000           26880.000000       2375.000000   \n",
       "max          1000.000000           30720.000000       3000.000000   \n",
       "\n",
       "       rub_monthly_fee  rub_per_gb  rub_per_message  rub_per_minute  \n",
       "count         2.000000    2.000000         2.000000        2.000000  \n",
       "mean       1250.000000  175.000000         2.000000        2.000000  \n",
       "std         989.949494   35.355339         1.414214        1.414214  \n",
       "min         550.000000  150.000000         1.000000        1.000000  \n",
       "25%         900.000000  162.500000         1.500000        1.500000  \n",
       "50%        1250.000000  175.000000         2.000000        2.000000  \n",
       "75%        1600.000000  187.500000         2.500000        2.500000  \n",
       "max        1950.000000  200.000000         3.000000        3.000000  "
      ]
     },
     "metadata": {},
     "output_type": "display_data"
    },
    {
     "name": "stdout",
     "output_type": "stream",
     "text": [
      "\n",
      "0\n"
     ]
    }
   ],
   "source": [
    "study_of_initial_data(initial_data_about_tariffs)"
   ]
  },
  {
   "cell_type": "code",
   "execution_count": 163,
   "metadata": {},
   "outputs": [
    {
     "name": "stdout",
     "output_type": "stream",
     "text": [
      "<class 'pandas.core.frame.DataFrame'>\n",
      "RangeIndex: 500 entries, 0 to 499\n",
      "Data columns (total 8 columns):\n",
      "user_id       500 non-null int64\n",
      "age           500 non-null int64\n",
      "churn_date    38 non-null object\n",
      "city          500 non-null object\n",
      "first_name    500 non-null object\n",
      "last_name     500 non-null object\n",
      "reg_date      500 non-null object\n",
      "tariff        500 non-null object\n",
      "dtypes: int64(2), object(6)\n",
      "memory usage: 31.4+ KB\n",
      "None\n",
      "\n"
     ]
    },
    {
     "data": {
      "text/html": [
       "<div>\n",
       "<style scoped>\n",
       "    .dataframe tbody tr th:only-of-type {\n",
       "        vertical-align: middle;\n",
       "    }\n",
       "\n",
       "    .dataframe tbody tr th {\n",
       "        vertical-align: top;\n",
       "    }\n",
       "\n",
       "    .dataframe thead th {\n",
       "        text-align: right;\n",
       "    }\n",
       "</style>\n",
       "<table border=\"1\" class=\"dataframe\">\n",
       "  <thead>\n",
       "    <tr style=\"text-align: right;\">\n",
       "      <th></th>\n",
       "      <th>user_id</th>\n",
       "      <th>age</th>\n",
       "      <th>churn_date</th>\n",
       "      <th>city</th>\n",
       "      <th>first_name</th>\n",
       "      <th>last_name</th>\n",
       "      <th>reg_date</th>\n",
       "      <th>tariff</th>\n",
       "    </tr>\n",
       "  </thead>\n",
       "  <tbody>\n",
       "    <tr>\n",
       "      <td>0</td>\n",
       "      <td>1000</td>\n",
       "      <td>52</td>\n",
       "      <td>NaN</td>\n",
       "      <td>Краснодар</td>\n",
       "      <td>Рафаил</td>\n",
       "      <td>Верещагин</td>\n",
       "      <td>2018-05-25</td>\n",
       "      <td>ultra</td>\n",
       "    </tr>\n",
       "    <tr>\n",
       "      <td>1</td>\n",
       "      <td>1001</td>\n",
       "      <td>41</td>\n",
       "      <td>NaN</td>\n",
       "      <td>Москва</td>\n",
       "      <td>Иван</td>\n",
       "      <td>Ежов</td>\n",
       "      <td>2018-11-01</td>\n",
       "      <td>smart</td>\n",
       "    </tr>\n",
       "    <tr>\n",
       "      <td>2</td>\n",
       "      <td>1002</td>\n",
       "      <td>59</td>\n",
       "      <td>NaN</td>\n",
       "      <td>Стерлитамак</td>\n",
       "      <td>Евгений</td>\n",
       "      <td>Абрамович</td>\n",
       "      <td>2018-06-17</td>\n",
       "      <td>smart</td>\n",
       "    </tr>\n",
       "    <tr>\n",
       "      <td>3</td>\n",
       "      <td>1003</td>\n",
       "      <td>23</td>\n",
       "      <td>NaN</td>\n",
       "      <td>Москва</td>\n",
       "      <td>Белла</td>\n",
       "      <td>Белякова</td>\n",
       "      <td>2018-08-17</td>\n",
       "      <td>ultra</td>\n",
       "    </tr>\n",
       "    <tr>\n",
       "      <td>4</td>\n",
       "      <td>1004</td>\n",
       "      <td>68</td>\n",
       "      <td>NaN</td>\n",
       "      <td>Новокузнецк</td>\n",
       "      <td>Татьяна</td>\n",
       "      <td>Авдеенко</td>\n",
       "      <td>2018-05-14</td>\n",
       "      <td>ultra</td>\n",
       "    </tr>\n",
       "    <tr>\n",
       "      <td>5</td>\n",
       "      <td>1005</td>\n",
       "      <td>67</td>\n",
       "      <td>NaN</td>\n",
       "      <td>Набережные Челны</td>\n",
       "      <td>Афанасий</td>\n",
       "      <td>Горлов</td>\n",
       "      <td>2018-01-25</td>\n",
       "      <td>smart</td>\n",
       "    </tr>\n",
       "    <tr>\n",
       "      <td>6</td>\n",
       "      <td>1006</td>\n",
       "      <td>21</td>\n",
       "      <td>NaN</td>\n",
       "      <td>Ульяновск</td>\n",
       "      <td>Леонид</td>\n",
       "      <td>Ермолаев</td>\n",
       "      <td>2018-02-26</td>\n",
       "      <td>smart</td>\n",
       "    </tr>\n",
       "    <tr>\n",
       "      <td>7</td>\n",
       "      <td>1007</td>\n",
       "      <td>65</td>\n",
       "      <td>NaN</td>\n",
       "      <td>Москва</td>\n",
       "      <td>Юна</td>\n",
       "      <td>Березина</td>\n",
       "      <td>2018-04-19</td>\n",
       "      <td>smart</td>\n",
       "    </tr>\n",
       "    <tr>\n",
       "      <td>8</td>\n",
       "      <td>1008</td>\n",
       "      <td>63</td>\n",
       "      <td>NaN</td>\n",
       "      <td>Челябинск</td>\n",
       "      <td>Рустэм</td>\n",
       "      <td>Пономарёв</td>\n",
       "      <td>2018-12-19</td>\n",
       "      <td>smart</td>\n",
       "    </tr>\n",
       "    <tr>\n",
       "      <td>9</td>\n",
       "      <td>1009</td>\n",
       "      <td>24</td>\n",
       "      <td>NaN</td>\n",
       "      <td>Пермь</td>\n",
       "      <td>Василиса</td>\n",
       "      <td>Блинова</td>\n",
       "      <td>2018-03-22</td>\n",
       "      <td>smart</td>\n",
       "    </tr>\n",
       "  </tbody>\n",
       "</table>\n",
       "</div>"
      ],
      "text/plain": [
       "   user_id  age churn_date              city first_name  last_name  \\\n",
       "0     1000   52        NaN         Краснодар     Рафаил  Верещагин   \n",
       "1     1001   41        NaN            Москва       Иван       Ежов   \n",
       "2     1002   59        NaN       Стерлитамак    Евгений  Абрамович   \n",
       "3     1003   23        NaN            Москва      Белла   Белякова   \n",
       "4     1004   68        NaN       Новокузнецк    Татьяна   Авдеенко   \n",
       "5     1005   67        NaN  Набережные Челны   Афанасий     Горлов   \n",
       "6     1006   21        NaN         Ульяновск     Леонид   Ермолаев   \n",
       "7     1007   65        NaN            Москва        Юна   Березина   \n",
       "8     1008   63        NaN         Челябинск     Рустэм  Пономарёв   \n",
       "9     1009   24        NaN             Пермь   Василиса    Блинова   \n",
       "\n",
       "     reg_date tariff  \n",
       "0  2018-05-25  ultra  \n",
       "1  2018-11-01  smart  \n",
       "2  2018-06-17  smart  \n",
       "3  2018-08-17  ultra  \n",
       "4  2018-05-14  ultra  \n",
       "5  2018-01-25  smart  \n",
       "6  2018-02-26  smart  \n",
       "7  2018-04-19  smart  \n",
       "8  2018-12-19  smart  \n",
       "9  2018-03-22  smart  "
      ]
     },
     "metadata": {},
     "output_type": "display_data"
    },
    {
     "name": "stdout",
     "output_type": "stream",
     "text": [
      "\n"
     ]
    },
    {
     "data": {
      "text/html": [
       "<div>\n",
       "<style scoped>\n",
       "    .dataframe tbody tr th:only-of-type {\n",
       "        vertical-align: middle;\n",
       "    }\n",
       "\n",
       "    .dataframe tbody tr th {\n",
       "        vertical-align: top;\n",
       "    }\n",
       "\n",
       "    .dataframe thead th {\n",
       "        text-align: right;\n",
       "    }\n",
       "</style>\n",
       "<table border=\"1\" class=\"dataframe\">\n",
       "  <thead>\n",
       "    <tr style=\"text-align: right;\">\n",
       "      <th></th>\n",
       "      <th>user_id</th>\n",
       "      <th>age</th>\n",
       "      <th>churn_date</th>\n",
       "      <th>city</th>\n",
       "      <th>first_name</th>\n",
       "      <th>last_name</th>\n",
       "      <th>reg_date</th>\n",
       "      <th>tariff</th>\n",
       "    </tr>\n",
       "  </thead>\n",
       "  <tbody>\n",
       "    <tr>\n",
       "      <td>490</td>\n",
       "      <td>1490</td>\n",
       "      <td>30</td>\n",
       "      <td>NaN</td>\n",
       "      <td>Москва</td>\n",
       "      <td>Радомир</td>\n",
       "      <td>Алесин</td>\n",
       "      <td>2018-04-03</td>\n",
       "      <td>smart</td>\n",
       "    </tr>\n",
       "    <tr>\n",
       "      <td>491</td>\n",
       "      <td>1491</td>\n",
       "      <td>56</td>\n",
       "      <td>NaN</td>\n",
       "      <td>Челябинск</td>\n",
       "      <td>Радислав</td>\n",
       "      <td>Андрейкин</td>\n",
       "      <td>2018-04-25</td>\n",
       "      <td>ultra</td>\n",
       "    </tr>\n",
       "    <tr>\n",
       "      <td>492</td>\n",
       "      <td>1492</td>\n",
       "      <td>63</td>\n",
       "      <td>NaN</td>\n",
       "      <td>Санкт-Петербург</td>\n",
       "      <td>Руслана</td>\n",
       "      <td>Артёменко</td>\n",
       "      <td>2018-06-26</td>\n",
       "      <td>smart</td>\n",
       "    </tr>\n",
       "    <tr>\n",
       "      <td>493</td>\n",
       "      <td>1493</td>\n",
       "      <td>71</td>\n",
       "      <td>NaN</td>\n",
       "      <td>Красноярск</td>\n",
       "      <td>Таисия</td>\n",
       "      <td>Ахматулина</td>\n",
       "      <td>2018-11-24</td>\n",
       "      <td>ultra</td>\n",
       "    </tr>\n",
       "    <tr>\n",
       "      <td>494</td>\n",
       "      <td>1494</td>\n",
       "      <td>62</td>\n",
       "      <td>NaN</td>\n",
       "      <td>Омск</td>\n",
       "      <td>Ренат</td>\n",
       "      <td>Андропов</td>\n",
       "      <td>2018-08-17</td>\n",
       "      <td>smart</td>\n",
       "    </tr>\n",
       "    <tr>\n",
       "      <td>495</td>\n",
       "      <td>1495</td>\n",
       "      <td>65</td>\n",
       "      <td>NaN</td>\n",
       "      <td>Иркутск</td>\n",
       "      <td>Авксентий</td>\n",
       "      <td>Фокин</td>\n",
       "      <td>2018-08-28</td>\n",
       "      <td>ultra</td>\n",
       "    </tr>\n",
       "    <tr>\n",
       "      <td>496</td>\n",
       "      <td>1496</td>\n",
       "      <td>36</td>\n",
       "      <td>NaN</td>\n",
       "      <td>Вологда</td>\n",
       "      <td>Трифон</td>\n",
       "      <td>Блохин</td>\n",
       "      <td>2018-01-27</td>\n",
       "      <td>smart</td>\n",
       "    </tr>\n",
       "    <tr>\n",
       "      <td>497</td>\n",
       "      <td>1497</td>\n",
       "      <td>32</td>\n",
       "      <td>NaN</td>\n",
       "      <td>Челябинск</td>\n",
       "      <td>Каролина</td>\n",
       "      <td>Агеева</td>\n",
       "      <td>2018-10-09</td>\n",
       "      <td>smart</td>\n",
       "    </tr>\n",
       "    <tr>\n",
       "      <td>498</td>\n",
       "      <td>1498</td>\n",
       "      <td>68</td>\n",
       "      <td>2018-10-25</td>\n",
       "      <td>Владикавказ</td>\n",
       "      <td>Всеволод</td>\n",
       "      <td>Акимчин</td>\n",
       "      <td>2018-07-19</td>\n",
       "      <td>smart</td>\n",
       "    </tr>\n",
       "    <tr>\n",
       "      <td>499</td>\n",
       "      <td>1499</td>\n",
       "      <td>35</td>\n",
       "      <td>NaN</td>\n",
       "      <td>Пермь</td>\n",
       "      <td>Гектор</td>\n",
       "      <td>Корнилов</td>\n",
       "      <td>2018-09-27</td>\n",
       "      <td>smart</td>\n",
       "    </tr>\n",
       "  </tbody>\n",
       "</table>\n",
       "</div>"
      ],
      "text/plain": [
       "     user_id  age  churn_date             city first_name   last_name  \\\n",
       "490     1490   30         NaN           Москва    Радомир      Алесин   \n",
       "491     1491   56         NaN        Челябинск   Радислав   Андрейкин   \n",
       "492     1492   63         NaN  Санкт-Петербург    Руслана   Артёменко   \n",
       "493     1493   71         NaN       Красноярск     Таисия  Ахматулина   \n",
       "494     1494   62         NaN             Омск      Ренат    Андропов   \n",
       "495     1495   65         NaN          Иркутск  Авксентий       Фокин   \n",
       "496     1496   36         NaN          Вологда     Трифон      Блохин   \n",
       "497     1497   32         NaN        Челябинск   Каролина      Агеева   \n",
       "498     1498   68  2018-10-25      Владикавказ   Всеволод     Акимчин   \n",
       "499     1499   35         NaN            Пермь     Гектор    Корнилов   \n",
       "\n",
       "       reg_date tariff  \n",
       "490  2018-04-03  smart  \n",
       "491  2018-04-25  ultra  \n",
       "492  2018-06-26  smart  \n",
       "493  2018-11-24  ultra  \n",
       "494  2018-08-17  smart  \n",
       "495  2018-08-28  ultra  \n",
       "496  2018-01-27  smart  \n",
       "497  2018-10-09  smart  \n",
       "498  2018-07-19  smart  \n",
       "499  2018-09-27  smart  "
      ]
     },
     "metadata": {},
     "output_type": "display_data"
    },
    {
     "name": "stdout",
     "output_type": "stream",
     "text": [
      "\n"
     ]
    },
    {
     "data": {
      "text/html": [
       "<div>\n",
       "<style scoped>\n",
       "    .dataframe tbody tr th:only-of-type {\n",
       "        vertical-align: middle;\n",
       "    }\n",
       "\n",
       "    .dataframe tbody tr th {\n",
       "        vertical-align: top;\n",
       "    }\n",
       "\n",
       "    .dataframe thead th {\n",
       "        text-align: right;\n",
       "    }\n",
       "</style>\n",
       "<table border=\"1\" class=\"dataframe\">\n",
       "  <thead>\n",
       "    <tr style=\"text-align: right;\">\n",
       "      <th></th>\n",
       "      <th>user_id</th>\n",
       "      <th>age</th>\n",
       "    </tr>\n",
       "  </thead>\n",
       "  <tbody>\n",
       "    <tr>\n",
       "      <td>count</td>\n",
       "      <td>500.000000</td>\n",
       "      <td>500.00000</td>\n",
       "    </tr>\n",
       "    <tr>\n",
       "      <td>mean</td>\n",
       "      <td>1249.500000</td>\n",
       "      <td>46.58800</td>\n",
       "    </tr>\n",
       "    <tr>\n",
       "      <td>std</td>\n",
       "      <td>144.481833</td>\n",
       "      <td>16.66763</td>\n",
       "    </tr>\n",
       "    <tr>\n",
       "      <td>min</td>\n",
       "      <td>1000.000000</td>\n",
       "      <td>18.00000</td>\n",
       "    </tr>\n",
       "    <tr>\n",
       "      <td>25%</td>\n",
       "      <td>1124.750000</td>\n",
       "      <td>32.00000</td>\n",
       "    </tr>\n",
       "    <tr>\n",
       "      <td>50%</td>\n",
       "      <td>1249.500000</td>\n",
       "      <td>46.00000</td>\n",
       "    </tr>\n",
       "    <tr>\n",
       "      <td>75%</td>\n",
       "      <td>1374.250000</td>\n",
       "      <td>62.00000</td>\n",
       "    </tr>\n",
       "    <tr>\n",
       "      <td>max</td>\n",
       "      <td>1499.000000</td>\n",
       "      <td>75.00000</td>\n",
       "    </tr>\n",
       "  </tbody>\n",
       "</table>\n",
       "</div>"
      ],
      "text/plain": [
       "           user_id        age\n",
       "count   500.000000  500.00000\n",
       "mean   1249.500000   46.58800\n",
       "std     144.481833   16.66763\n",
       "min    1000.000000   18.00000\n",
       "25%    1124.750000   32.00000\n",
       "50%    1249.500000   46.00000\n",
       "75%    1374.250000   62.00000\n",
       "max    1499.000000   75.00000"
      ]
     },
     "metadata": {},
     "output_type": "display_data"
    },
    {
     "name": "stdout",
     "output_type": "stream",
     "text": [
      "\n",
      "0\n"
     ]
    }
   ],
   "source": [
    "study_of_initial_data(initial_data_about_users)"
   ]
  },
  {
   "cell_type": "markdown",
   "metadata": {},
   "source": [
    "### Вывод"
   ]
  },
  {
   "cell_type": "markdown",
   "metadata": {},
   "source": [
    "Все исходные таблицы имеют разные размеры и содержат разные объемы данных. Явных проблем, как и явных дубликатов, выявлено практически не было, за исключением формата, в котором указаны даты в датафреймах, и столбца Unnamed: 0, дублирующего индексы в таблице initial_data_about_internet. Однако для удобства при использовании данных из таблиц можно обработать их следующим образом:\n",
    "- привести даты к формату datetime;\n",
    "- округлить и привести к целочисленному формату данные о длительности звонков и объемах трафика;\n",
    "- осуществить группировку данных в таблицах initial_data_about_calls, initial_data_about_messages, initial_data_about_internet;\n",
    "- объединить имеющиеся таблицы в одну."
   ]
  },
  {
   "cell_type": "markdown",
   "metadata": {},
   "source": [
    "## Предобработка данных"
   ]
  },
  {
   "cell_type": "markdown",
   "metadata": {},
   "source": [
    "### Начало предобработки"
   ]
  },
  {
   "cell_type": "markdown",
   "metadata": {},
   "source": [
    "Начнем предобработку с того, что отформатируем даты в имеющихся таблицах и произведем округление. Т.к по условиям тарифов оператор округляет объемы использованных минут и интернета в большую сторону, используем функцию ceil()."
   ]
  },
  {
   "cell_type": "code",
   "execution_count": 164,
   "metadata": {},
   "outputs": [],
   "source": [
    "#форматируем даты\n",
    "initial_data_about_calls['call_date'] = pd.to_datetime(initial_data_about_calls['call_date'], format=\"%Y-%m-%d\")\n",
    "initial_data_about_internet['session_date'] = pd.to_datetime(initial_data_about_internet['session_date'], format=\"%Y-%m-%d\")\n",
    "initial_data_about_messages['message_date'] = pd.to_datetime(initial_data_about_messages['message_date'], format=\"%Y-%m-%d\")\n",
    "initial_data_about_users['reg_date'] = pd.to_datetime(initial_data_about_users['reg_date'], format=\"%Y-%m-%d\")\n",
    "\n",
    "#производим округление\n",
    "initial_data_about_calls['duration'] = np.ceil(initial_data_about_calls['duration']) \n",
    "initial_data_about_internet['mb_used'] = np.ceil(initial_data_about_internet['mb_used'])"
   ]
  },
  {
   "cell_type": "markdown",
   "metadata": {},
   "source": [
    "### Группировка данных"
   ]
  },
  {
   "cell_type": "markdown",
   "metadata": {},
   "source": [
    "Для того, чтобы объединить таблицы с данными о звонках, сообщениях и трафике, сгруппируем данные в них. Группировать будем по месяцам, поэтому сначала добавим в каждую таблицу новый столбец month:"
   ]
  },
  {
   "cell_type": "code",
   "execution_count": 165,
   "metadata": {},
   "outputs": [],
   "source": [
    "initial_data_about_calls['month'] = initial_data_about_calls['call_date'].dt.month\n",
    "initial_data_about_internet['month'] = initial_data_about_internet['session_date'].dt.month\n",
    "initial_data_about_messages['month'] = initial_data_about_messages['message_date'].dt.month"
   ]
  },
  {
   "cell_type": "code",
   "execution_count": 166,
   "metadata": {},
   "outputs": [
    {
     "data": {
      "text/html": [
       "<div>\n",
       "<style scoped>\n",
       "    .dataframe tbody tr th:only-of-type {\n",
       "        vertical-align: middle;\n",
       "    }\n",
       "\n",
       "    .dataframe tbody tr th {\n",
       "        vertical-align: top;\n",
       "    }\n",
       "\n",
       "    .dataframe thead th {\n",
       "        text-align: right;\n",
       "    }\n",
       "</style>\n",
       "<table border=\"1\" class=\"dataframe\">\n",
       "  <thead>\n",
       "    <tr style=\"text-align: right;\">\n",
       "      <th></th>\n",
       "      <th>user_id</th>\n",
       "      <th>month</th>\n",
       "      <th>number_of_calls</th>\n",
       "      <th>minutes_used</th>\n",
       "    </tr>\n",
       "  </thead>\n",
       "  <tbody>\n",
       "    <tr>\n",
       "      <td>0</td>\n",
       "      <td>1000</td>\n",
       "      <td>5</td>\n",
       "      <td>22</td>\n",
       "      <td>159.0</td>\n",
       "    </tr>\n",
       "    <tr>\n",
       "      <td>1</td>\n",
       "      <td>1000</td>\n",
       "      <td>6</td>\n",
       "      <td>43</td>\n",
       "      <td>172.0</td>\n",
       "    </tr>\n",
       "    <tr>\n",
       "      <td>2</td>\n",
       "      <td>1000</td>\n",
       "      <td>7</td>\n",
       "      <td>47</td>\n",
       "      <td>340.0</td>\n",
       "    </tr>\n",
       "    <tr>\n",
       "      <td>3</td>\n",
       "      <td>1000</td>\n",
       "      <td>8</td>\n",
       "      <td>52</td>\n",
       "      <td>408.0</td>\n",
       "    </tr>\n",
       "    <tr>\n",
       "      <td>4</td>\n",
       "      <td>1000</td>\n",
       "      <td>9</td>\n",
       "      <td>58</td>\n",
       "      <td>466.0</td>\n",
       "    </tr>\n",
       "  </tbody>\n",
       "</table>\n",
       "</div>"
      ],
      "text/plain": [
       "   user_id  month  number_of_calls  minutes_used\n",
       "0     1000      5               22         159.0\n",
       "1     1000      6               43         172.0\n",
       "2     1000      7               47         340.0\n",
       "3     1000      8               52         408.0\n",
       "4     1000      9               58         466.0"
      ]
     },
     "metadata": {},
     "output_type": "display_data"
    }
   ],
   "source": [
    "#осуществляем группировку\n",
    "initial_data_about_calls = initial_data_about_calls.groupby(['user_id', 'month']).agg({'duration':['count',\n",
    "                                                                                     'sum']}).reset_index()\n",
    "#переименуем столбцы для более легкого ориентирования в данных и большей информативности\n",
    "initial_data_about_calls.columns = ['user_id','month','number_of_calls','minutes_used'] \n",
    "display(initial_data_about_calls.head()) #проверим результат"
   ]
  },
  {
   "cell_type": "code",
   "execution_count": 167,
   "metadata": {},
   "outputs": [
    {
     "data": {
      "text/html": [
       "<div>\n",
       "<style scoped>\n",
       "    .dataframe tbody tr th:only-of-type {\n",
       "        vertical-align: middle;\n",
       "    }\n",
       "\n",
       "    .dataframe tbody tr th {\n",
       "        vertical-align: top;\n",
       "    }\n",
       "\n",
       "    .dataframe thead th {\n",
       "        text-align: right;\n",
       "    }\n",
       "</style>\n",
       "<table border=\"1\" class=\"dataframe\">\n",
       "  <thead>\n",
       "    <tr style=\"text-align: right;\">\n",
       "      <th></th>\n",
       "      <th>user_id</th>\n",
       "      <th>month</th>\n",
       "      <th>mb_used</th>\n",
       "    </tr>\n",
       "  </thead>\n",
       "  <tbody>\n",
       "    <tr>\n",
       "      <td>0</td>\n",
       "      <td>1000</td>\n",
       "      <td>5</td>\n",
       "      <td>2256.0</td>\n",
       "    </tr>\n",
       "    <tr>\n",
       "      <td>1</td>\n",
       "      <td>1000</td>\n",
       "      <td>6</td>\n",
       "      <td>23257.0</td>\n",
       "    </tr>\n",
       "    <tr>\n",
       "      <td>2</td>\n",
       "      <td>1000</td>\n",
       "      <td>7</td>\n",
       "      <td>14016.0</td>\n",
       "    </tr>\n",
       "    <tr>\n",
       "      <td>3</td>\n",
       "      <td>1000</td>\n",
       "      <td>8</td>\n",
       "      <td>14070.0</td>\n",
       "    </tr>\n",
       "    <tr>\n",
       "      <td>4</td>\n",
       "      <td>1000</td>\n",
       "      <td>9</td>\n",
       "      <td>14581.0</td>\n",
       "    </tr>\n",
       "  </tbody>\n",
       "</table>\n",
       "</div>"
      ],
      "text/plain": [
       "   user_id  month  mb_used\n",
       "0     1000      5   2256.0\n",
       "1     1000      6  23257.0\n",
       "2     1000      7  14016.0\n",
       "3     1000      8  14070.0\n",
       "4     1000      9  14581.0"
      ]
     },
     "metadata": {},
     "output_type": "display_data"
    }
   ],
   "source": [
    "initial_data_about_internet = initial_data_about_internet.groupby(['user_id', 'month']).agg({'mb_used':'sum'}).reset_index()\n",
    "display(initial_data_about_internet.head())"
   ]
  },
  {
   "cell_type": "code",
   "execution_count": 168,
   "metadata": {},
   "outputs": [
    {
     "data": {
      "text/html": [
       "<div>\n",
       "<style scoped>\n",
       "    .dataframe tbody tr th:only-of-type {\n",
       "        vertical-align: middle;\n",
       "    }\n",
       "\n",
       "    .dataframe tbody tr th {\n",
       "        vertical-align: top;\n",
       "    }\n",
       "\n",
       "    .dataframe thead th {\n",
       "        text-align: right;\n",
       "    }\n",
       "</style>\n",
       "<table border=\"1\" class=\"dataframe\">\n",
       "  <thead>\n",
       "    <tr style=\"text-align: right;\">\n",
       "      <th></th>\n",
       "      <th>user_id</th>\n",
       "      <th>month</th>\n",
       "      <th>sent_messages</th>\n",
       "    </tr>\n",
       "  </thead>\n",
       "  <tbody>\n",
       "    <tr>\n",
       "      <td>0</td>\n",
       "      <td>1000</td>\n",
       "      <td>5</td>\n",
       "      <td>22</td>\n",
       "    </tr>\n",
       "    <tr>\n",
       "      <td>1</td>\n",
       "      <td>1000</td>\n",
       "      <td>6</td>\n",
       "      <td>60</td>\n",
       "    </tr>\n",
       "    <tr>\n",
       "      <td>2</td>\n",
       "      <td>1000</td>\n",
       "      <td>7</td>\n",
       "      <td>75</td>\n",
       "    </tr>\n",
       "    <tr>\n",
       "      <td>3</td>\n",
       "      <td>1000</td>\n",
       "      <td>8</td>\n",
       "      <td>81</td>\n",
       "    </tr>\n",
       "    <tr>\n",
       "      <td>4</td>\n",
       "      <td>1000</td>\n",
       "      <td>9</td>\n",
       "      <td>57</td>\n",
       "    </tr>\n",
       "  </tbody>\n",
       "</table>\n",
       "</div>"
      ],
      "text/plain": [
       "   user_id  month  sent_messages\n",
       "0     1000      5             22\n",
       "1     1000      6             60\n",
       "2     1000      7             75\n",
       "3     1000      8             81\n",
       "4     1000      9             57"
      ]
     },
     "metadata": {},
     "output_type": "display_data"
    }
   ],
   "source": [
    "initial_data_about_messages = initial_data_about_messages.groupby(['user_id', 'month']).agg({'id':'count'}).reset_index()\n",
    "initial_data_about_messages = initial_data_about_messages.rename(columns={'id':'sent_messages'}) #переименовываем столбец\n",
    "display(initial_data_about_messages.head())"
   ]
  },
  {
   "cell_type": "markdown",
   "metadata": {},
   "source": [
    "### Создание общей таблицы с данными об использовании услуг"
   ]
  },
  {
   "cell_type": "markdown",
   "metadata": {},
   "source": [
    "Теперь все готово для объединения таблиц. Используем метод merge, выбрав тип объединения outer:"
   ]
  },
  {
   "cell_type": "code",
   "execution_count": 169,
   "metadata": {},
   "outputs": [
    {
     "data": {
      "text/html": [
       "<div>\n",
       "<style scoped>\n",
       "    .dataframe tbody tr th:only-of-type {\n",
       "        vertical-align: middle;\n",
       "    }\n",
       "\n",
       "    .dataframe tbody tr th {\n",
       "        vertical-align: top;\n",
       "    }\n",
       "\n",
       "    .dataframe thead th {\n",
       "        text-align: right;\n",
       "    }\n",
       "</style>\n",
       "<table border=\"1\" class=\"dataframe\">\n",
       "  <thead>\n",
       "    <tr style=\"text-align: right;\">\n",
       "      <th></th>\n",
       "      <th>user_id</th>\n",
       "      <th>month</th>\n",
       "      <th>number_of_calls</th>\n",
       "      <th>minutes_used</th>\n",
       "      <th>mb_used</th>\n",
       "      <th>sent_messages</th>\n",
       "    </tr>\n",
       "  </thead>\n",
       "  <tbody>\n",
       "    <tr>\n",
       "      <td>0</td>\n",
       "      <td>1000</td>\n",
       "      <td>5</td>\n",
       "      <td>22.0</td>\n",
       "      <td>159.0</td>\n",
       "      <td>2256.0</td>\n",
       "      <td>22.0</td>\n",
       "    </tr>\n",
       "    <tr>\n",
       "      <td>1</td>\n",
       "      <td>1000</td>\n",
       "      <td>6</td>\n",
       "      <td>43.0</td>\n",
       "      <td>172.0</td>\n",
       "      <td>23257.0</td>\n",
       "      <td>60.0</td>\n",
       "    </tr>\n",
       "    <tr>\n",
       "      <td>2</td>\n",
       "      <td>1000</td>\n",
       "      <td>7</td>\n",
       "      <td>47.0</td>\n",
       "      <td>340.0</td>\n",
       "      <td>14016.0</td>\n",
       "      <td>75.0</td>\n",
       "    </tr>\n",
       "    <tr>\n",
       "      <td>3</td>\n",
       "      <td>1000</td>\n",
       "      <td>8</td>\n",
       "      <td>52.0</td>\n",
       "      <td>408.0</td>\n",
       "      <td>14070.0</td>\n",
       "      <td>81.0</td>\n",
       "    </tr>\n",
       "    <tr>\n",
       "      <td>4</td>\n",
       "      <td>1000</td>\n",
       "      <td>9</td>\n",
       "      <td>58.0</td>\n",
       "      <td>466.0</td>\n",
       "      <td>14581.0</td>\n",
       "      <td>57.0</td>\n",
       "    </tr>\n",
       "  </tbody>\n",
       "</table>\n",
       "</div>"
      ],
      "text/plain": [
       "   user_id  month  number_of_calls  minutes_used  mb_used  sent_messages\n",
       "0     1000      5             22.0         159.0   2256.0           22.0\n",
       "1     1000      6             43.0         172.0  23257.0           60.0\n",
       "2     1000      7             47.0         340.0  14016.0           75.0\n",
       "3     1000      8             52.0         408.0  14070.0           81.0\n",
       "4     1000      9             58.0         466.0  14581.0           57.0"
      ]
     },
     "metadata": {},
     "output_type": "display_data"
    }
   ],
   "source": [
    "services_usage_data = initial_data_about_calls.merge(initial_data_about_internet, on=['user_id', 'month'], \n",
    "                                                     how='outer').merge(initial_data_about_messages, \n",
    "                                                     on=['user_id', 'month'], how='outer')\n",
    "display(services_usage_data.head())      "
   ]
  },
  {
   "cell_type": "markdown",
   "metadata": {},
   "source": [
    "Итак, мы получили единую таблицу с данными об использовании услуг абонентами \"Мегалайна\", далее будем работать с ней, делая ее более удобной для использования в исследовании, а именно:\n",
    "- заменим пропущенные значения, появившиеся после объединения;\n",
    "- округлим данные о длительности звонков и объемах трафика;\n",
    "- приведем все данные к целочисленному формату."
   ]
  },
  {
   "cell_type": "markdown",
   "metadata": {},
   "source": [
    "Производем замену пропущенных значений (в данном случае уместно заменить их на 0 - это не окажет критического искажающего влияния на результаты исследования)."
   ]
  },
  {
   "cell_type": "code",
   "execution_count": 170,
   "metadata": {},
   "outputs": [
    {
     "name": "stdout",
     "output_type": "stream",
     "text": [
      "user_id            0\n",
      "month              0\n",
      "number_of_calls    0\n",
      "minutes_used       0\n",
      "mb_used            0\n",
      "sent_messages      0\n",
      "dtype: int64\n"
     ]
    }
   ],
   "source": [
    "services_usage_data = services_usage_data.fillna(0) #меняем значения\n",
    "print(services_usage_data.isna().sum()) #проверяем результат замены, а заодно и переименовывания"
   ]
  },
  {
   "cell_type": "markdown",
   "metadata": {},
   "source": [
    "Столбцы переименованы, пропущенных значений больше нет - можно форматировать данные. "
   ]
  },
  {
   "cell_type": "code",
   "execution_count": 171,
   "metadata": {},
   "outputs": [
    {
     "data": {
      "text/html": [
       "<div>\n",
       "<style scoped>\n",
       "    .dataframe tbody tr th:only-of-type {\n",
       "        vertical-align: middle;\n",
       "    }\n",
       "\n",
       "    .dataframe tbody tr th {\n",
       "        vertical-align: top;\n",
       "    }\n",
       "\n",
       "    .dataframe thead th {\n",
       "        text-align: right;\n",
       "    }\n",
       "</style>\n",
       "<table border=\"1\" class=\"dataframe\">\n",
       "  <thead>\n",
       "    <tr style=\"text-align: right;\">\n",
       "      <th></th>\n",
       "      <th>user_id</th>\n",
       "      <th>month</th>\n",
       "      <th>number_of_calls</th>\n",
       "      <th>minutes_used</th>\n",
       "      <th>mb_used</th>\n",
       "      <th>sent_messages</th>\n",
       "    </tr>\n",
       "  </thead>\n",
       "  <tbody>\n",
       "    <tr>\n",
       "      <td>0</td>\n",
       "      <td>1000</td>\n",
       "      <td>5</td>\n",
       "      <td>22</td>\n",
       "      <td>159</td>\n",
       "      <td>2256</td>\n",
       "      <td>22</td>\n",
       "    </tr>\n",
       "    <tr>\n",
       "      <td>1</td>\n",
       "      <td>1000</td>\n",
       "      <td>6</td>\n",
       "      <td>43</td>\n",
       "      <td>172</td>\n",
       "      <td>23257</td>\n",
       "      <td>60</td>\n",
       "    </tr>\n",
       "    <tr>\n",
       "      <td>2</td>\n",
       "      <td>1000</td>\n",
       "      <td>7</td>\n",
       "      <td>47</td>\n",
       "      <td>340</td>\n",
       "      <td>14016</td>\n",
       "      <td>75</td>\n",
       "    </tr>\n",
       "    <tr>\n",
       "      <td>3</td>\n",
       "      <td>1000</td>\n",
       "      <td>8</td>\n",
       "      <td>52</td>\n",
       "      <td>408</td>\n",
       "      <td>14070</td>\n",
       "      <td>81</td>\n",
       "    </tr>\n",
       "    <tr>\n",
       "      <td>4</td>\n",
       "      <td>1000</td>\n",
       "      <td>9</td>\n",
       "      <td>58</td>\n",
       "      <td>466</td>\n",
       "      <td>14581</td>\n",
       "      <td>57</td>\n",
       "    </tr>\n",
       "  </tbody>\n",
       "</table>\n",
       "</div>"
      ],
      "text/plain": [
       "   user_id  month  number_of_calls  minutes_used  mb_used  sent_messages\n",
       "0     1000      5               22           159     2256             22\n",
       "1     1000      6               43           172    23257             60\n",
       "2     1000      7               47           340    14016             75\n",
       "3     1000      8               52           408    14070             81\n",
       "4     1000      9               58           466    14581             57"
      ]
     },
     "metadata": {},
     "output_type": "display_data"
    },
    {
     "name": "stdout",
     "output_type": "stream",
     "text": [
      "<class 'pandas.core.frame.DataFrame'>\n",
      "Int64Index: 3214 entries, 0 to 3213\n",
      "Data columns (total 6 columns):\n",
      "user_id            3214 non-null int64\n",
      "month              3214 non-null int64\n",
      "number_of_calls    3214 non-null int64\n",
      "minutes_used       3214 non-null int64\n",
      "mb_used            3214 non-null int64\n",
      "sent_messages      3214 non-null int64\n",
      "dtypes: int64(6)\n",
      "memory usage: 175.8 KB\n",
      "None\n"
     ]
    }
   ],
   "source": [
    "services_usage_data = services_usage_data.astype('int') #приводим данные к целочисленному формату\n",
    "display(services_usage_data.head()) #проверяем результаты округления\n",
    "print(services_usage_data.info()) #проверяем результаты форматирования"
   ]
  },
  {
   "cell_type": "markdown",
   "metadata": {},
   "source": [
    "### Итоговое объединение данных"
   ]
  },
  {
   "cell_type": "markdown",
   "metadata": {},
   "source": [
    "Для того, чтобы продолжить объединение данных в одну таблицу, переименуем столбец, содержащий сведения о тарифе, в таблице initial_data_about_users:"
   ]
  },
  {
   "cell_type": "code",
   "execution_count": 172,
   "metadata": {},
   "outputs": [
    {
     "data": {
      "text/html": [
       "<div>\n",
       "<style scoped>\n",
       "    .dataframe tbody tr th:only-of-type {\n",
       "        vertical-align: middle;\n",
       "    }\n",
       "\n",
       "    .dataframe tbody tr th {\n",
       "        vertical-align: top;\n",
       "    }\n",
       "\n",
       "    .dataframe thead th {\n",
       "        text-align: right;\n",
       "    }\n",
       "</style>\n",
       "<table border=\"1\" class=\"dataframe\">\n",
       "  <thead>\n",
       "    <tr style=\"text-align: right;\">\n",
       "      <th></th>\n",
       "      <th>user_id</th>\n",
       "      <th>month</th>\n",
       "      <th>number_of_calls</th>\n",
       "      <th>minutes_used</th>\n",
       "      <th>mb_used</th>\n",
       "      <th>sent_messages</th>\n",
       "      <th>age</th>\n",
       "      <th>churn_date</th>\n",
       "      <th>city</th>\n",
       "      <th>first_name</th>\n",
       "      <th>last_name</th>\n",
       "      <th>reg_date</th>\n",
       "      <th>tariff_name</th>\n",
       "      <th>messages_included</th>\n",
       "      <th>mb_per_month_included</th>\n",
       "      <th>minutes_included</th>\n",
       "      <th>rub_monthly_fee</th>\n",
       "      <th>rub_per_gb</th>\n",
       "      <th>rub_per_message</th>\n",
       "      <th>rub_per_minute</th>\n",
       "    </tr>\n",
       "  </thead>\n",
       "  <tbody>\n",
       "    <tr>\n",
       "      <td>0</td>\n",
       "      <td>1000</td>\n",
       "      <td>5</td>\n",
       "      <td>22</td>\n",
       "      <td>159</td>\n",
       "      <td>2256</td>\n",
       "      <td>22</td>\n",
       "      <td>52</td>\n",
       "      <td>NaN</td>\n",
       "      <td>Краснодар</td>\n",
       "      <td>Рафаил</td>\n",
       "      <td>Верещагин</td>\n",
       "      <td>2018-05-25</td>\n",
       "      <td>ultra</td>\n",
       "      <td>1000</td>\n",
       "      <td>30720</td>\n",
       "      <td>3000</td>\n",
       "      <td>1950</td>\n",
       "      <td>150</td>\n",
       "      <td>1</td>\n",
       "      <td>1</td>\n",
       "    </tr>\n",
       "    <tr>\n",
       "      <td>1</td>\n",
       "      <td>1000</td>\n",
       "      <td>6</td>\n",
       "      <td>43</td>\n",
       "      <td>172</td>\n",
       "      <td>23257</td>\n",
       "      <td>60</td>\n",
       "      <td>52</td>\n",
       "      <td>NaN</td>\n",
       "      <td>Краснодар</td>\n",
       "      <td>Рафаил</td>\n",
       "      <td>Верещагин</td>\n",
       "      <td>2018-05-25</td>\n",
       "      <td>ultra</td>\n",
       "      <td>1000</td>\n",
       "      <td>30720</td>\n",
       "      <td>3000</td>\n",
       "      <td>1950</td>\n",
       "      <td>150</td>\n",
       "      <td>1</td>\n",
       "      <td>1</td>\n",
       "    </tr>\n",
       "    <tr>\n",
       "      <td>2</td>\n",
       "      <td>1000</td>\n",
       "      <td>7</td>\n",
       "      <td>47</td>\n",
       "      <td>340</td>\n",
       "      <td>14016</td>\n",
       "      <td>75</td>\n",
       "      <td>52</td>\n",
       "      <td>NaN</td>\n",
       "      <td>Краснодар</td>\n",
       "      <td>Рафаил</td>\n",
       "      <td>Верещагин</td>\n",
       "      <td>2018-05-25</td>\n",
       "      <td>ultra</td>\n",
       "      <td>1000</td>\n",
       "      <td>30720</td>\n",
       "      <td>3000</td>\n",
       "      <td>1950</td>\n",
       "      <td>150</td>\n",
       "      <td>1</td>\n",
       "      <td>1</td>\n",
       "    </tr>\n",
       "    <tr>\n",
       "      <td>3</td>\n",
       "      <td>1000</td>\n",
       "      <td>8</td>\n",
       "      <td>52</td>\n",
       "      <td>408</td>\n",
       "      <td>14070</td>\n",
       "      <td>81</td>\n",
       "      <td>52</td>\n",
       "      <td>NaN</td>\n",
       "      <td>Краснодар</td>\n",
       "      <td>Рафаил</td>\n",
       "      <td>Верещагин</td>\n",
       "      <td>2018-05-25</td>\n",
       "      <td>ultra</td>\n",
       "      <td>1000</td>\n",
       "      <td>30720</td>\n",
       "      <td>3000</td>\n",
       "      <td>1950</td>\n",
       "      <td>150</td>\n",
       "      <td>1</td>\n",
       "      <td>1</td>\n",
       "    </tr>\n",
       "    <tr>\n",
       "      <td>4</td>\n",
       "      <td>1000</td>\n",
       "      <td>9</td>\n",
       "      <td>58</td>\n",
       "      <td>466</td>\n",
       "      <td>14581</td>\n",
       "      <td>57</td>\n",
       "      <td>52</td>\n",
       "      <td>NaN</td>\n",
       "      <td>Краснодар</td>\n",
       "      <td>Рафаил</td>\n",
       "      <td>Верещагин</td>\n",
       "      <td>2018-05-25</td>\n",
       "      <td>ultra</td>\n",
       "      <td>1000</td>\n",
       "      <td>30720</td>\n",
       "      <td>3000</td>\n",
       "      <td>1950</td>\n",
       "      <td>150</td>\n",
       "      <td>1</td>\n",
       "      <td>1</td>\n",
       "    </tr>\n",
       "  </tbody>\n",
       "</table>\n",
       "</div>"
      ],
      "text/plain": [
       "   user_id  month  number_of_calls  minutes_used  mb_used  sent_messages  age  \\\n",
       "0     1000      5               22           159     2256             22   52   \n",
       "1     1000      6               43           172    23257             60   52   \n",
       "2     1000      7               47           340    14016             75   52   \n",
       "3     1000      8               52           408    14070             81   52   \n",
       "4     1000      9               58           466    14581             57   52   \n",
       "\n",
       "  churn_date       city first_name  last_name   reg_date tariff_name  \\\n",
       "0        NaN  Краснодар     Рафаил  Верещагин 2018-05-25       ultra   \n",
       "1        NaN  Краснодар     Рафаил  Верещагин 2018-05-25       ultra   \n",
       "2        NaN  Краснодар     Рафаил  Верещагин 2018-05-25       ultra   \n",
       "3        NaN  Краснодар     Рафаил  Верещагин 2018-05-25       ultra   \n",
       "4        NaN  Краснодар     Рафаил  Верещагин 2018-05-25       ultra   \n",
       "\n",
       "   messages_included  mb_per_month_included  minutes_included  \\\n",
       "0               1000                  30720              3000   \n",
       "1               1000                  30720              3000   \n",
       "2               1000                  30720              3000   \n",
       "3               1000                  30720              3000   \n",
       "4               1000                  30720              3000   \n",
       "\n",
       "   rub_monthly_fee  rub_per_gb  rub_per_message  rub_per_minute  \n",
       "0             1950         150                1               1  \n",
       "1             1950         150                1               1  \n",
       "2             1950         150                1               1  \n",
       "3             1950         150                1               1  \n",
       "4             1950         150                1               1  "
      ]
     },
     "metadata": {},
     "output_type": "display_data"
    }
   ],
   "source": [
    "initial_data_about_users = initial_data_about_users.rename(columns={'tariff':'tariff_name'})\n",
    "\n",
    "#теперь присоединяем к таблице с данными об использовании услуг оставиеся таблицы\n",
    "services_usage_data = services_usage_data.merge(initial_data_about_users, on=['user_id'], \n",
    "                                                     how='left').merge(initial_data_about_tariffs, \n",
    "                                                     on=['tariff_name'], how='left')\n",
    "display(services_usage_data.head()) #проверяем результат объединения"
   ]
  },
  {
   "cell_type": "markdown",
   "metadata": {},
   "source": [
    "Теперь все исходные данные представлены в одном датафрейме. Можно заметить, что в столбце churn_date много отсутствующих значений, при этом с большой долей вероятности его данные (как и данные столбцов reg_date и age) не понадобятся нам в дальнейшем исследовании. Cтолбцы с именем и фамилией пользователя также избыточны, т.к. каждый пользователь имеет уникальный номер id. Удалим их из таблицы методом drop():"
   ]
  },
  {
   "cell_type": "code",
   "execution_count": 173,
   "metadata": {},
   "outputs": [],
   "source": [
    "services_usage_data = services_usage_data.drop(['churn_date', 'reg_date', 'first_name', 'last_name', 'age'], axis = 1)"
   ]
  },
  {
   "cell_type": "markdown",
   "metadata": {},
   "source": [
    "На этом предобработку данных можно считать завершенной и перейти к добавлению в таблицу новых данных."
   ]
  },
  {
   "cell_type": "markdown",
   "metadata": {},
   "source": [
    "## Расчет данных для каждого пользователя"
   ]
  },
  {
   "cell_type": "markdown",
   "metadata": {},
   "source": [
    "Согласно задачам исследования, нам необходимо определить следующие данные по каждому абоненту:\n",
    "- количество сделанных звонков и израсходованных минут разговора по месяцам;\n",
    "- количество отправленных сообщений по месяцам;\n",
    "- объем израсходованного интернет-трафика по месяцам;\n",
    "- помесячную выручку с каждого пользователя.\n",
    "\n",
    "Благодаря группировке, выполненной на этапе 3.2, мы уже имеем данные, указанные в первых трех пунктах. Теперь подсчитаем выручку для каждого пользователя по формуле, данной в условии. Для начала создадим столбцы, содержащие данные о наличии или отсутствии перерасхода выделенных в тарифе минут, сообщений и гигабайтов. Т.к. в данных о тарифах трафик указан в гб, переведем получившиеся данные в них, округлив в большую сторону."
   ]
  },
  {
   "cell_type": "code",
   "execution_count": 174,
   "metadata": {
    "scrolled": true
   },
   "outputs": [],
   "source": [
    "services_usage_data['minutes_over'] = services_usage_data['minutes_used'] - services_usage_data['minutes_included']\n",
    "services_usage_data['message_over'] = services_usage_data['sent_messages'] - services_usage_data['messages_included']\n",
    "services_usage_data['gb_over'] = np.ceil((services_usage_data['mb_used'] - services_usage_data['mb_per_month_included']) / 1024)"
   ]
  },
  {
   "cell_type": "markdown",
   "metadata": {},
   "source": [
    "Далее создадим функцию, которая выявит среди полученных данных превышения пакетов услуг и подсчитает итоговую сумму, которую каждый абонент должен был заплатить в том или ином месяце. Подчеркну, что о превышении лимита услуг будет свидетельствовать положительное значение в соответствующем столбце."
   ]
  },
  {
   "cell_type": "code",
   "execution_count": 175,
   "metadata": {},
   "outputs": [
    {
     "data": {
      "text/html": [
       "<div>\n",
       "<style scoped>\n",
       "    .dataframe tbody tr th:only-of-type {\n",
       "        vertical-align: middle;\n",
       "    }\n",
       "\n",
       "    .dataframe tbody tr th {\n",
       "        vertical-align: top;\n",
       "    }\n",
       "\n",
       "    .dataframe thead th {\n",
       "        text-align: right;\n",
       "    }\n",
       "</style>\n",
       "<table border=\"1\" class=\"dataframe\">\n",
       "  <thead>\n",
       "    <tr style=\"text-align: right;\">\n",
       "      <th></th>\n",
       "      <th>user_id</th>\n",
       "      <th>month</th>\n",
       "      <th>number_of_calls</th>\n",
       "      <th>minutes_used</th>\n",
       "      <th>mb_used</th>\n",
       "      <th>sent_messages</th>\n",
       "      <th>city</th>\n",
       "      <th>tariff_name</th>\n",
       "      <th>messages_included</th>\n",
       "      <th>mb_per_month_included</th>\n",
       "      <th>minutes_included</th>\n",
       "      <th>rub_monthly_fee</th>\n",
       "      <th>rub_per_gb</th>\n",
       "      <th>rub_per_message</th>\n",
       "      <th>rub_per_minute</th>\n",
       "      <th>minutes_over</th>\n",
       "      <th>message_over</th>\n",
       "      <th>gb_over</th>\n",
       "      <th>revenue</th>\n",
       "    </tr>\n",
       "  </thead>\n",
       "  <tbody>\n",
       "    <tr>\n",
       "      <td>0</td>\n",
       "      <td>1000</td>\n",
       "      <td>5</td>\n",
       "      <td>22</td>\n",
       "      <td>159</td>\n",
       "      <td>2256</td>\n",
       "      <td>22</td>\n",
       "      <td>Краснодар</td>\n",
       "      <td>ultra</td>\n",
       "      <td>1000</td>\n",
       "      <td>30720</td>\n",
       "      <td>3000</td>\n",
       "      <td>1950</td>\n",
       "      <td>150</td>\n",
       "      <td>1</td>\n",
       "      <td>1</td>\n",
       "      <td>-2841</td>\n",
       "      <td>-978</td>\n",
       "      <td>-27.0</td>\n",
       "      <td>1950.0</td>\n",
       "    </tr>\n",
       "    <tr>\n",
       "      <td>1</td>\n",
       "      <td>1000</td>\n",
       "      <td>6</td>\n",
       "      <td>43</td>\n",
       "      <td>172</td>\n",
       "      <td>23257</td>\n",
       "      <td>60</td>\n",
       "      <td>Краснодар</td>\n",
       "      <td>ultra</td>\n",
       "      <td>1000</td>\n",
       "      <td>30720</td>\n",
       "      <td>3000</td>\n",
       "      <td>1950</td>\n",
       "      <td>150</td>\n",
       "      <td>1</td>\n",
       "      <td>1</td>\n",
       "      <td>-2828</td>\n",
       "      <td>-940</td>\n",
       "      <td>-7.0</td>\n",
       "      <td>1950.0</td>\n",
       "    </tr>\n",
       "    <tr>\n",
       "      <td>2</td>\n",
       "      <td>1000</td>\n",
       "      <td>7</td>\n",
       "      <td>47</td>\n",
       "      <td>340</td>\n",
       "      <td>14016</td>\n",
       "      <td>75</td>\n",
       "      <td>Краснодар</td>\n",
       "      <td>ultra</td>\n",
       "      <td>1000</td>\n",
       "      <td>30720</td>\n",
       "      <td>3000</td>\n",
       "      <td>1950</td>\n",
       "      <td>150</td>\n",
       "      <td>1</td>\n",
       "      <td>1</td>\n",
       "      <td>-2660</td>\n",
       "      <td>-925</td>\n",
       "      <td>-16.0</td>\n",
       "      <td>1950.0</td>\n",
       "    </tr>\n",
       "    <tr>\n",
       "      <td>3</td>\n",
       "      <td>1000</td>\n",
       "      <td>8</td>\n",
       "      <td>52</td>\n",
       "      <td>408</td>\n",
       "      <td>14070</td>\n",
       "      <td>81</td>\n",
       "      <td>Краснодар</td>\n",
       "      <td>ultra</td>\n",
       "      <td>1000</td>\n",
       "      <td>30720</td>\n",
       "      <td>3000</td>\n",
       "      <td>1950</td>\n",
       "      <td>150</td>\n",
       "      <td>1</td>\n",
       "      <td>1</td>\n",
       "      <td>-2592</td>\n",
       "      <td>-919</td>\n",
       "      <td>-16.0</td>\n",
       "      <td>1950.0</td>\n",
       "    </tr>\n",
       "    <tr>\n",
       "      <td>4</td>\n",
       "      <td>1000</td>\n",
       "      <td>9</td>\n",
       "      <td>58</td>\n",
       "      <td>466</td>\n",
       "      <td>14581</td>\n",
       "      <td>57</td>\n",
       "      <td>Краснодар</td>\n",
       "      <td>ultra</td>\n",
       "      <td>1000</td>\n",
       "      <td>30720</td>\n",
       "      <td>3000</td>\n",
       "      <td>1950</td>\n",
       "      <td>150</td>\n",
       "      <td>1</td>\n",
       "      <td>1</td>\n",
       "      <td>-2534</td>\n",
       "      <td>-943</td>\n",
       "      <td>-15.0</td>\n",
       "      <td>1950.0</td>\n",
       "    </tr>\n",
       "    <tr>\n",
       "      <td>5</td>\n",
       "      <td>1000</td>\n",
       "      <td>10</td>\n",
       "      <td>57</td>\n",
       "      <td>350</td>\n",
       "      <td>14717</td>\n",
       "      <td>73</td>\n",
       "      <td>Краснодар</td>\n",
       "      <td>ultra</td>\n",
       "      <td>1000</td>\n",
       "      <td>30720</td>\n",
       "      <td>3000</td>\n",
       "      <td>1950</td>\n",
       "      <td>150</td>\n",
       "      <td>1</td>\n",
       "      <td>1</td>\n",
       "      <td>-2650</td>\n",
       "      <td>-927</td>\n",
       "      <td>-15.0</td>\n",
       "      <td>1950.0</td>\n",
       "    </tr>\n",
       "    <tr>\n",
       "      <td>6</td>\n",
       "      <td>1000</td>\n",
       "      <td>11</td>\n",
       "      <td>43</td>\n",
       "      <td>338</td>\n",
       "      <td>14768</td>\n",
       "      <td>58</td>\n",
       "      <td>Краснодар</td>\n",
       "      <td>ultra</td>\n",
       "      <td>1000</td>\n",
       "      <td>30720</td>\n",
       "      <td>3000</td>\n",
       "      <td>1950</td>\n",
       "      <td>150</td>\n",
       "      <td>1</td>\n",
       "      <td>1</td>\n",
       "      <td>-2662</td>\n",
       "      <td>-942</td>\n",
       "      <td>-15.0</td>\n",
       "      <td>1950.0</td>\n",
       "    </tr>\n",
       "    <tr>\n",
       "      <td>7</td>\n",
       "      <td>1000</td>\n",
       "      <td>12</td>\n",
       "      <td>46</td>\n",
       "      <td>333</td>\n",
       "      <td>9827</td>\n",
       "      <td>70</td>\n",
       "      <td>Краснодар</td>\n",
       "      <td>ultra</td>\n",
       "      <td>1000</td>\n",
       "      <td>30720</td>\n",
       "      <td>3000</td>\n",
       "      <td>1950</td>\n",
       "      <td>150</td>\n",
       "      <td>1</td>\n",
       "      <td>1</td>\n",
       "      <td>-2667</td>\n",
       "      <td>-930</td>\n",
       "      <td>-20.0</td>\n",
       "      <td>1950.0</td>\n",
       "    </tr>\n",
       "    <tr>\n",
       "      <td>8</td>\n",
       "      <td>1001</td>\n",
       "      <td>11</td>\n",
       "      <td>59</td>\n",
       "      <td>430</td>\n",
       "      <td>18452</td>\n",
       "      <td>0</td>\n",
       "      <td>Москва</td>\n",
       "      <td>smart</td>\n",
       "      <td>50</td>\n",
       "      <td>15360</td>\n",
       "      <td>500</td>\n",
       "      <td>550</td>\n",
       "      <td>200</td>\n",
       "      <td>3</td>\n",
       "      <td>3</td>\n",
       "      <td>-70</td>\n",
       "      <td>-50</td>\n",
       "      <td>4.0</td>\n",
       "      <td>1350.0</td>\n",
       "    </tr>\n",
       "    <tr>\n",
       "      <td>9</td>\n",
       "      <td>1001</td>\n",
       "      <td>12</td>\n",
       "      <td>63</td>\n",
       "      <td>414</td>\n",
       "      <td>14053</td>\n",
       "      <td>0</td>\n",
       "      <td>Москва</td>\n",
       "      <td>smart</td>\n",
       "      <td>50</td>\n",
       "      <td>15360</td>\n",
       "      <td>500</td>\n",
       "      <td>550</td>\n",
       "      <td>200</td>\n",
       "      <td>3</td>\n",
       "      <td>3</td>\n",
       "      <td>-86</td>\n",
       "      <td>-50</td>\n",
       "      <td>-1.0</td>\n",
       "      <td>550.0</td>\n",
       "    </tr>\n",
       "  </tbody>\n",
       "</table>\n",
       "</div>"
      ],
      "text/plain": [
       "   user_id  month  number_of_calls  minutes_used  mb_used  sent_messages  \\\n",
       "0     1000      5               22           159     2256             22   \n",
       "1     1000      6               43           172    23257             60   \n",
       "2     1000      7               47           340    14016             75   \n",
       "3     1000      8               52           408    14070             81   \n",
       "4     1000      9               58           466    14581             57   \n",
       "5     1000     10               57           350    14717             73   \n",
       "6     1000     11               43           338    14768             58   \n",
       "7     1000     12               46           333     9827             70   \n",
       "8     1001     11               59           430    18452              0   \n",
       "9     1001     12               63           414    14053              0   \n",
       "\n",
       "        city tariff_name  messages_included  mb_per_month_included  \\\n",
       "0  Краснодар       ultra               1000                  30720   \n",
       "1  Краснодар       ultra               1000                  30720   \n",
       "2  Краснодар       ultra               1000                  30720   \n",
       "3  Краснодар       ultra               1000                  30720   \n",
       "4  Краснодар       ultra               1000                  30720   \n",
       "5  Краснодар       ultra               1000                  30720   \n",
       "6  Краснодар       ultra               1000                  30720   \n",
       "7  Краснодар       ultra               1000                  30720   \n",
       "8     Москва       smart                 50                  15360   \n",
       "9     Москва       smart                 50                  15360   \n",
       "\n",
       "   minutes_included  rub_monthly_fee  rub_per_gb  rub_per_message  \\\n",
       "0              3000             1950         150                1   \n",
       "1              3000             1950         150                1   \n",
       "2              3000             1950         150                1   \n",
       "3              3000             1950         150                1   \n",
       "4              3000             1950         150                1   \n",
       "5              3000             1950         150                1   \n",
       "6              3000             1950         150                1   \n",
       "7              3000             1950         150                1   \n",
       "8               500              550         200                3   \n",
       "9               500              550         200                3   \n",
       "\n",
       "   rub_per_minute  minutes_over  message_over  gb_over  revenue  \n",
       "0               1         -2841          -978    -27.0   1950.0  \n",
       "1               1         -2828          -940     -7.0   1950.0  \n",
       "2               1         -2660          -925    -16.0   1950.0  \n",
       "3               1         -2592          -919    -16.0   1950.0  \n",
       "4               1         -2534          -943    -15.0   1950.0  \n",
       "5               1         -2650          -927    -15.0   1950.0  \n",
       "6               1         -2662          -942    -15.0   1950.0  \n",
       "7               1         -2667          -930    -20.0   1950.0  \n",
       "8               3           -70           -50      4.0   1350.0  \n",
       "9               3           -86           -50     -1.0    550.0  "
      ]
     },
     "metadata": {},
     "output_type": "display_data"
    }
   ],
   "source": [
    "#создаем функцию для подсчета месячной выручки\n",
    "def revenue(row):\n",
    "    total = row['rub_monthly_fee']\n",
    "    if row['minutes_over'] > 0:\n",
    "        total += row['minutes_over'] * row['rub_per_minute']\n",
    "    if row['message_over'] > 0:\n",
    "        total += row['message_over'] * row['rub_per_message']\n",
    "    if row['gb_over'] > 0:\n",
    "        total += row['gb_over'] * row['rub_per_gb']\n",
    "    return total\n",
    "\n",
    "#применяем функцию к имеющимся данным, создавая новый столбец таблицы\n",
    "services_usage_data['revenue'] = services_usage_data.apply(revenue, axis=1)\n",
    "\n",
    "#проверяем результат \n",
    "display(services_usage_data.head(10))"
   ]
  },
  {
   "cell_type": "markdown",
   "metadata": {},
   "source": [
    "Проверим корректность работы функции. Как мы видим из таблицы, представленной выше, у абонента 1001 в ноябре был превышен лимит по трафику интернета на 3 гб. По условию тарифа, каждый гигабайт свыше пакета оплачивается 200 рублями. Тогда абонент 1001 должен был уплатить:"
   ]
  },
  {
   "cell_type": "code",
   "execution_count": 176,
   "metadata": {},
   "outputs": [
    {
     "name": "stdout",
     "output_type": "stream",
     "text": [
      "1150\n"
     ]
    }
   ],
   "source": [
    "print(550 + (200 * 3))"
   ]
  },
  {
   "cell_type": "markdown",
   "metadata": {},
   "source": [
    "Данные сошлись, значит, можно сделать вывод о корректности работы функции revenue() и полученных в ходе ее использования данных о выручке. Переходим к анализу данных."
   ]
  },
  {
   "cell_type": "markdown",
   "metadata": {},
   "source": [
    "## Анализ данных"
   ]
  },
  {
   "cell_type": "markdown",
   "metadata": {},
   "source": [
    "Нам нужно проанализировать поведение клиентов оператора в зависимости от того, каким тарифным планом они пользуются. Разумным шагом будет разнесение данных из сводной таблицы по двум специализированным. Кроме того, выведем на экран описательную статистику по тем столбцам новых таблиц, для которых нужно посчитать ключевые характеристики: среднее, дисперсию и стандартное отклонение. Для определения дисперсии используем метод var()."
   ]
  },
  {
   "cell_type": "code",
   "execution_count": 177,
   "metadata": {},
   "outputs": [
    {
     "name": "stdout",
     "output_type": "stream",
     "text": [
      "       minutes_used  sent_messages       mb_used\n",
      "count    985.000000     985.000000    985.000000\n",
      "mean     526.623350      49.363452  19486.901523\n",
      "std      317.606098      47.804457  10096.317202\n",
      "min        0.000000       0.000000      0.000000\n",
      "25%      284.000000       6.000000  11785.000000\n",
      "50%      518.000000      38.000000  19324.000000\n",
      "75%      752.000000      79.000000  26863.000000\n",
      "max     1673.000000     224.000000  49789.000000\n"
     ]
    }
   ],
   "source": [
    "#вычленяем данные пользователей тарифа \"Ультра\"\n",
    "services_usage_ultra =  services_usage_data[services_usage_data['tariff_name'] == 'ultra'] \n",
    "#выводим описательную статистику нужных столбцов\n",
    "print(services_usage_ultra[['minutes_used', 'sent_messages', 'mb_used']].describe())"
   ]
  },
  {
   "cell_type": "code",
   "execution_count": 178,
   "metadata": {},
   "outputs": [
    {
     "name": "stdout",
     "output_type": "stream",
     "text": [
      "minutes_used     1.008736e+05\n",
      "sent_messages    2.285266e+03\n",
      "mb_used          1.019356e+08\n",
      "dtype: float64\n"
     ]
    }
   ],
   "source": [
    "#выводим дисперсию нужных столбцов\n",
    "print(np.var(services_usage_ultra[['minutes_used', 'sent_messages', 'mb_used']], ddof=1))"
   ]
  },
  {
   "cell_type": "code",
   "execution_count": 179,
   "metadata": {},
   "outputs": [
    {
     "data": {
      "text/html": [
       "<div>\n",
       "<style scoped>\n",
       "    .dataframe tbody tr th:only-of-type {\n",
       "        vertical-align: middle;\n",
       "    }\n",
       "\n",
       "    .dataframe tbody tr th {\n",
       "        vertical-align: top;\n",
       "    }\n",
       "\n",
       "    .dataframe thead th {\n",
       "        text-align: right;\n",
       "    }\n",
       "</style>\n",
       "<table border=\"1\" class=\"dataframe\">\n",
       "  <thead>\n",
       "    <tr style=\"text-align: right;\">\n",
       "      <th></th>\n",
       "      <th>minutes_used</th>\n",
       "      <th>sent_messages</th>\n",
       "      <th>mb_used</th>\n",
       "    </tr>\n",
       "  </thead>\n",
       "  <tbody>\n",
       "    <tr>\n",
       "      <td>count</td>\n",
       "      <td>2229.000000</td>\n",
       "      <td>2229.000000</td>\n",
       "      <td>2229.000000</td>\n",
       "    </tr>\n",
       "    <tr>\n",
       "      <td>mean</td>\n",
       "      <td>417.934948</td>\n",
       "      <td>33.384029</td>\n",
       "      <td>16229.188425</td>\n",
       "    </tr>\n",
       "    <tr>\n",
       "      <td>std</td>\n",
       "      <td>190.313730</td>\n",
       "      <td>28.227876</td>\n",
       "      <td>5877.576978</td>\n",
       "    </tr>\n",
       "    <tr>\n",
       "      <td>min</td>\n",
       "      <td>0.000000</td>\n",
       "      <td>0.000000</td>\n",
       "      <td>0.000000</td>\n",
       "    </tr>\n",
       "    <tr>\n",
       "      <td>25%</td>\n",
       "      <td>282.000000</td>\n",
       "      <td>10.000000</td>\n",
       "      <td>12658.000000</td>\n",
       "    </tr>\n",
       "    <tr>\n",
       "      <td>50%</td>\n",
       "      <td>422.000000</td>\n",
       "      <td>28.000000</td>\n",
       "      <td>16531.000000</td>\n",
       "    </tr>\n",
       "    <tr>\n",
       "      <td>75%</td>\n",
       "      <td>545.000000</td>\n",
       "      <td>51.000000</td>\n",
       "      <td>20068.000000</td>\n",
       "    </tr>\n",
       "    <tr>\n",
       "      <td>max</td>\n",
       "      <td>1435.000000</td>\n",
       "      <td>143.000000</td>\n",
       "      <td>38610.000000</td>\n",
       "    </tr>\n",
       "  </tbody>\n",
       "</table>\n",
       "</div>"
      ],
      "text/plain": [
       "       minutes_used  sent_messages       mb_used\n",
       "count   2229.000000    2229.000000   2229.000000\n",
       "mean     417.934948      33.384029  16229.188425\n",
       "std      190.313730      28.227876   5877.576978\n",
       "min        0.000000       0.000000      0.000000\n",
       "25%      282.000000      10.000000  12658.000000\n",
       "50%      422.000000      28.000000  16531.000000\n",
       "75%      545.000000      51.000000  20068.000000\n",
       "max     1435.000000     143.000000  38610.000000"
      ]
     },
     "execution_count": 179,
     "metadata": {},
     "output_type": "execute_result"
    }
   ],
   "source": [
    "services_usage_smart = services_usage_data[services_usage_data['tariff_name'] == 'smart']\n",
    "services_usage_smart[['minutes_used', 'sent_messages', 'mb_used']].describe()"
   ]
  },
  {
   "cell_type": "code",
   "execution_count": 180,
   "metadata": {},
   "outputs": [
    {
     "name": "stdout",
     "output_type": "stream",
     "text": [
      "minutes_used     3.621932e+04\n",
      "sent_messages    7.968130e+02\n",
      "mb_used          3.454591e+07\n",
      "dtype: float64\n"
     ]
    }
   ],
   "source": [
    "print(np.var(services_usage_smart[['minutes_used', 'sent_messages', 'mb_used']], ddof=1))"
   ]
  },
  {
   "cell_type": "markdown",
   "metadata": {},
   "source": [
    "Сравним ключевые характеристики по тарифам. Стандартное отклонение и дисперсия показывают сильный разброс и неоднородность данных, при этом стоит отметить, что в данных по тарифу \"Смарт\" характеристики разброса значительно меньше, чем в тарифе \"Ультра\". Среднее мало отличается от медианы (в \"Смарте\" отличия минимальны), что может означать слабое влияние на него экстремальных значений или практически полное его отсутствие.\n",
    "\n",
    "Теперь построим гистограммы для сравнения поведения клиентов обоих тарифов в части использования минут, сообщений и мегабайтов."
   ]
  },
  {
   "cell_type": "code",
   "execution_count": 181,
   "metadata": {},
   "outputs": [
    {
     "data": {
      "image/png": "[encoded data removed]",
      "text/plain": [
       "<Figure size 432x288 with 1 Axes>"
      ]
     },
     "metadata": {
      "needs_background": "light"
     },
     "output_type": "display_data"
    },
    {
     "data": {
      "image/png": "[encoded data removed]",
      "text/plain": [
       "<Figure size 432x288 with 1 Axes>"
      ]
     },
     "metadata": {
      "needs_background": "light"
     },
     "output_type": "display_data"
    },
    {
     "data": {
      "image/png": "[encoded data removed]",
      "text/plain": [
       "<Figure size 432x288 with 1 Axes>"
      ]
     },
     "metadata": {
      "needs_background": "light"
     },
     "output_type": "display_data"
    }
   ],
   "source": [
    "#строим графики по каждому параметру для города и его центральной зоны\n",
    "sns.distplot(services_usage_ultra['minutes_used'], color='#f04fc2', label=\"Ультра\")\n",
    "sns.distplot(services_usage_smart['minutes_used'], color='#3c8be5', label=\"Смарт\")\n",
    "plt.title('Сравнение по количеству использованных минут')\n",
    "plt.legend()\n",
    "plt.grid()\n",
    "plt.show()\n",
    "\n",
    "sns.distplot(services_usage_ultra['mb_used'], color='#f04fc2', label=\"Ультра\")\n",
    "sns.distplot(services_usage_smart['mb_used'], color='#3c8be5', label=\"Смарт\")\n",
    "plt.title('Сравнение по количеству использованного интернета')\n",
    "plt.legend()\n",
    "plt.grid()\n",
    "plt.show()\n",
    "\n",
    "sns.distplot(services_usage_ultra['sent_messages'], color='#f04fc2', label=\"Ультра\")\n",
    "sns.distplot(services_usage_smart['sent_messages'], color='#3c8be5', label=\"Смарт\")\n",
    "plt.title('Сравнение по количеству отправленных сообщений')\n",
    "plt.legend()\n",
    "plt.grid()\n",
    "plt.show()\n"
   ]
  },
  {
   "cell_type": "markdown",
   "metadata": {},
   "source": [
    "Согласно данным гистограммы, чаще всего пользователи тарифа \"Ультра\" используют от 435 до 515 минут, а пользователи \"Смарта\" от 410 до 450. Т.е в первом случае клиенты используют примерно одну шестую выданного им объема минут (а к границе в 3000 не приблизился ни один абонент), а во втором используют большую часть пакета, но чаще всего не превышают его лимита. \n",
    "\n",
    "В то же время абонентам \"Смарта\" зачастую бывает недостаточно того объема трафика, что предлагает им тариф: большая часть абонентов превышает лимит и использует от 16,8 тыс мб (16,4 гб) до 17,7 тыс мб (17,3 гб) интернета. Абонентам \"Ультра\" пакета интернета хватает с лихвой: чаще всего они тратят от 21 тыс мб (20,5 гб) до 23,9 тыс мб (23,3 гб) интернета в месяц. \n",
    "\n",
    "Сообщения не пользуются популярностью у абонентов обоих тарифов, и их пакеты часто остаются нетронутыми. Абоненты \"Ультра\" чаще шлют SMS, но разница крайне мала. Скорее всего это связано с развитием и ростом популярности разнообразных мессенджеров и социальных сетей."
   ]
  },
  {
   "cell_type": "markdown",
   "metadata": {},
   "source": [
    "Если говорить о распределениях, то все анализируемые данные ассиметричны и имеют скошенность вправо в различной степени. \n",
    "\n",
    "Больше всего скошены вправо данные о количестве отправленных сообщений - это заметно на графике и подтверждается сравнением медианы и среднего (медиана ощутимо меньше среднего). Стоит отметить, что данные клиентов тарифа \"Ультра\" более ассиметричны. \n",
    "\n",
    "Данные об использовании минут и мегабайт имеют малую ассиметрию, можно сказать, что они распределены \"практически нормально\". Отклонения в минутах \"Смарта\" и мегабайтах \"Ультра\" минимальны.\n",
    "\n",
    "На этом шаге завершается этап анализа данных. Переходим к формулированию и проверке гипотез."
   ]
  },
  {
   "cell_type": "markdown",
   "metadata": {},
   "source": [
    "## Проверка гипотез"
   ]
  },
  {
   "cell_type": "markdown",
   "metadata": {},
   "source": [
    "### Формулирование гипотез"
   ]
  },
  {
   "cell_type": "markdown",
   "metadata": {},
   "source": [
    "Т.к. H₀ всегда формулируется так, чтобы использовать знак равенства, сформулируем нулевые гипотезы следующим образом:\n",
    "- средняя выручка пользователей тарифов «Ультра» и «Смарт» равны между собой;\n",
    "- средняя выручка пользователей из Москвы равна выручке пользователей из других регионов.\n",
    "\n",
    "Основные утверждения о различиях выручек не уточняют, отличаются ли они в большую или меньшую сторону, поэтому проверять будем двусторонние гипотезы. Тогда альтернативные статистические гипотезы будут звучать так:\n",
    "- средняя выручка пользователей тарифа «Ультра» не равна выручке пользователей тарифа «Смарт»;\n",
    "- средняя выручка пользователей из Москвы не равна выручке пользователей из других регионов.\n",
    "\n",
    "Уровень значимости возьмём равный 5%. Параметру equal_var передадим значение False, так как выборки различаются  и это может сильно исказить результаты исследования."
   ]
  },
  {
   "cell_type": "markdown",
   "metadata": {},
   "source": [
    "### Проверка гипотезы о различной выручке по тарифам"
   ]
  },
  {
   "cell_type": "code",
   "execution_count": 182,
   "metadata": {},
   "outputs": [
    {
     "name": "stdout",
     "output_type": "stream",
     "text": [
      "p-значение: 2.7240946993530856e-246\n",
      "Отвергаем нулевую гипотезу\n"
     ]
    }
   ],
   "source": [
    "alpha = 0.05\n",
    "results = st.ttest_ind (services_usage_ultra['revenue'], services_usage_smart['revenue'], equal_var=False)\n",
    "print('p-значение:', results.pvalue)\n",
    "\n",
    "if results.pvalue < alpha:\n",
    "    print(\"Отвергаем нулевую гипотезу\")\n",
    "else:\n",
    "    print(\"Не получилось отвергнуть нулевую гипотезу\")"
   ]
  },
  {
   "cell_type": "markdown",
   "metadata": {},
   "source": [
    "Р-значение оказалось меньше уровня значимости, поэтому мы отвергаем нулевую гипотезу о равенстве выручек обоих тарифов и принимаем альтернативную гипотезу о том, что средняя выручка пользователей тарифов «Ультра» и «Смарт» различаются."
   ]
  },
  {
   "cell_type": "markdown",
   "metadata": {},
   "source": [
    "### Проверка гипотезы о различной выручке по городам"
   ]
  },
  {
   "cell_type": "code",
   "execution_count": 183,
   "metadata": {},
   "outputs": [
    {
     "name": "stdout",
     "output_type": "stream",
     "text": [
      "p-value: 0.5126564657748214\n",
      "Не отвергаем гипотезу\n"
     ]
    }
   ],
   "source": [
    "services_usage_moscow = services_usage_data[services_usage_data['city'] == 'Москва']\n",
    "services_usage_regions = services_usage_data[services_usage_data['city'] != 'Москва']\n",
    "\n",
    "alpha = 0.05\n",
    "results = st.ttest_ind(services_usage_moscow['revenue'], services_usage_regions['revenue'], equal_var=False)\n",
    "print('p-value:', results.pvalue)\n",
    "if results.pvalue < alpha:\n",
    "    print('Отвергаем гипотезу')\n",
    "else:\n",
    "    print('Не отвергаем гипотезу')"
   ]
  },
  {
   "cell_type": "markdown",
   "metadata": {},
   "source": [
    "В этом случае Р-значение превысило уровень значимости, поэтому мы не смогли отвергнуть нулевую гипотезу о равенстве средней выручки клиентов из Москвы и других городов."
   ]
  },
  {
   "cell_type": "markdown",
   "metadata": {},
   "source": [
    "## Итоговые выводы"
   ]
  },
  {
   "cell_type": "markdown",
   "metadata": {},
   "source": [
    "Проведенное исследование позволило сделать следующие выводы:\n",
    "- пользователям тарифа \"Ультра\" хватает того объема услуг, что предлагает им их тарифный план, а зачастую пакеты оказываются слишком большие и не используются даже наполовину;\n",
    "- пользователи тарифа \"Смарт\" в основном укладываются в лимит по минутам, но часто вынуждены докупать дополнительные гигабайты интернета;\n",
    "- пользователи обоих тарифов практически не используют пакет SMS-сообщений;\n",
    "- данные об использованных услугах ассиметричны в различной степени и скошены вправо: больше всего ассиметрия проявляется в данных об отправленных сообщениях, тогда как распределение данных об использованных минутах и мегабайтах близко к нормальному;\n",
    "- гипотеза о том, что средняя выручка пользователей тарифов «Ультра» и «Смарт» различаются - подтвердилась;\n",
    "- гипотеза о равенстве средней выручки пользователей из Москвы и регионов не была отвергнута.\n",
    "\n",
    "\n",
    "На основании результатов проведенного статистического анализа затруднительно сделать вывод о том, какой из тарифных планов лучше и приносит большую выручку. Мы подтвердили двустороннюю гипотезу о том, что выручка различается в зависимости от тарифа, но для более четкого понимания ситуации нужно провести проверку односторонних гипотез. \n",
    "\n",
    "Нагрузка на сети, которую оказывают абоненты тарифа \"Ультра\" не намного больше, однако абонентская плата за данный тариф существенно выше. В то же время абоненты тарифа \"Смарт\" часто доплачивают за дополнительные пакеты, в частности пакеты интернета.\n",
    "\n",
    "Что касается настроений клиентов, то можно предположить, что они довольно противоречивы. Абоненты \"Ультра\", которые большую часть времени используют лишь малую долю своих пакетов, могут быть недовольны столь высокой абонентской платой. К тому же она является высоким порогом для большинства клиентов, которые не могут позволить себе ежемесячно расходовать подобную сумму на услуги связи и мобильный интернет. В то же время абоненты \"Смарта\", часто покупающие дополнительные пакеты, могут испытывать недовольство из-за вынужденных переплат. Все эти факторы могут побудить клиентов \"Мегалайн\" начать поиск другого оператора. \n",
    "\n",
    "Я бы посоветовала, во избежание оттока клиентов, разработать новый тариф, сочетающий в себе преимущества имеющихся двух. Возможно, он будет дороже \"Смарта\", но предоставлять бОльшие пакеты минут и интернета. Другой вариант - оставить стоимость такой же, но увеличить выше указанные пакеты за счет удаления из тарифного плана пакета SMS, не пользующегося спросом."
   ]
  },
  {
   "cell_type": "code",
   "execution_count": null,
   "metadata": {},
   "outputs": [],
   "source": []
  }
 ],
 "metadata": {
  "ExecuteTimeLog": [
   {
    "duration": 7,
    "start_time": "2022-01-09T12:27:11.897Z"
   },
   {
    "duration": 324,
    "start_time": "2022-01-09T12:32:14.605Z"
   },
   {
    "duration": 1448,
    "start_time": "2022-01-09T12:32:28.200Z"
   },
   {
    "duration": 5,
    "start_time": "2022-01-09T12:32:34.741Z"
   },
   {
    "duration": 501,
    "start_time": "2022-01-09T12:32:36.329Z"
   },
   {
    "duration": 187,
    "start_time": "2022-01-09T12:34:55.736Z"
   },
   {
    "duration": 5,
    "start_time": "2022-01-09T12:36:38.420Z"
   },
   {
    "duration": 598,
    "start_time": "2022-01-09T12:36:40.104Z"
   },
   {
    "duration": 191,
    "start_time": "2022-01-09T12:36:42.355Z"
   },
   {
    "duration": 191,
    "start_time": "2022-01-09T12:38:09.392Z"
   },
   {
    "duration": 129,
    "start_time": "2022-01-09T12:38:12.989Z"
   },
   {
    "duration": 66,
    "start_time": "2022-01-09T12:38:14.164Z"
   },
   {
    "duration": 52,
    "start_time": "2022-01-09T12:38:15.139Z"
   },
   {
    "duration": 331,
    "start_time": "2022-01-12T10:47:04.385Z"
   },
   {
    "duration": 1421,
    "start_time": "2022-01-12T10:47:12.321Z"
   },
   {
    "duration": 4,
    "start_time": "2022-01-12T10:47:13.745Z"
   },
   {
    "duration": 523,
    "start_time": "2022-01-12T10:47:13.752Z"
   },
   {
    "duration": 239,
    "start_time": "2022-01-12T10:47:14.279Z"
   },
   {
    "duration": 215,
    "start_time": "2022-01-12T10:47:14.521Z"
   },
   {
    "duration": 145,
    "start_time": "2022-01-12T10:47:14.738Z"
   },
   {
    "duration": 90,
    "start_time": "2022-01-12T10:47:14.886Z"
   },
   {
    "duration": 88,
    "start_time": "2022-01-12T10:47:14.979Z"
   },
   {
    "duration": 210,
    "start_time": "2022-01-12T10:47:22.315Z"
   },
   {
    "duration": 476,
    "start_time": "2022-01-12T11:37:27.536Z"
   },
   {
    "duration": 65,
    "start_time": "2022-01-12T11:38:11.193Z"
   },
   {
    "duration": 78,
    "start_time": "2022-01-12T11:45:17.657Z"
   },
   {
    "duration": 321,
    "start_time": "2022-01-12T13:02:58.740Z"
   },
   {
    "duration": 16,
    "start_time": "2022-01-12T13:03:11.028Z"
   },
   {
    "duration": 18,
    "start_time": "2022-01-12T13:03:31.771Z"
   },
   {
    "duration": 28,
    "start_time": "2022-01-12T13:05:02.396Z"
   },
   {
    "duration": 19,
    "start_time": "2022-01-12T13:05:51.868Z"
   },
   {
    "duration": 6702,
    "start_time": "2022-01-12T13:07:11.764Z"
   },
   {
    "duration": 6949,
    "start_time": "2022-01-12T13:07:41.444Z"
   },
   {
    "duration": 19,
    "start_time": "2022-01-12T13:10:01.805Z"
   },
   {
    "duration": 32,
    "start_time": "2022-01-12T13:10:08.387Z"
   },
   {
    "duration": 328,
    "start_time": "2022-01-12T13:11:17.764Z"
   },
   {
    "duration": 19,
    "start_time": "2022-01-12T13:19:13.182Z"
   },
   {
    "duration": 280,
    "start_time": "2022-01-12T13:28:48.256Z"
   },
   {
    "duration": 18,
    "start_time": "2022-01-12T13:30:08.376Z"
   },
   {
    "duration": 307,
    "start_time": "2022-01-12T13:30:10.171Z"
   },
   {
    "duration": 322,
    "start_time": "2022-01-12T13:31:36.529Z"
   },
   {
    "duration": 17,
    "start_time": "2022-01-12T13:33:05.113Z"
   },
   {
    "duration": 1466,
    "start_time": "2022-01-12T18:29:40.941Z"
   },
   {
    "duration": 5,
    "start_time": "2022-01-12T18:29:42.410Z"
   },
   {
    "duration": 554,
    "start_time": "2022-01-12T18:29:42.418Z"
   },
   {
    "duration": 251,
    "start_time": "2022-01-12T18:29:42.975Z"
   },
   {
    "duration": 242,
    "start_time": "2022-01-12T18:29:43.229Z"
   },
   {
    "duration": 147,
    "start_time": "2022-01-12T18:29:43.474Z"
   },
   {
    "duration": 99,
    "start_time": "2022-01-12T18:29:43.623Z"
   },
   {
    "duration": 84,
    "start_time": "2022-01-12T18:29:43.725Z"
   },
   {
    "duration": 243,
    "start_time": "2022-01-12T18:29:43.812Z"
   },
   {
    "duration": 107,
    "start_time": "2022-01-12T18:29:44.057Z"
   },
   {
    "duration": 80,
    "start_time": "2022-01-12T18:29:44.166Z"
   },
   {
    "duration": 51,
    "start_time": "2022-01-12T18:29:44.249Z"
   },
   {
    "duration": 20,
    "start_time": "2022-01-12T18:29:49.292Z"
   },
   {
    "duration": 33,
    "start_time": "2022-01-12T18:29:51.108Z"
   },
   {
    "duration": 31,
    "start_time": "2022-01-12T18:29:59.993Z"
   },
   {
    "duration": 511,
    "start_time": "2022-01-12T18:43:31.277Z"
   },
   {
    "duration": 29,
    "start_time": "2022-01-12T18:46:58.485Z"
   },
   {
    "duration": 28,
    "start_time": "2022-01-12T18:56:25.556Z"
   },
   {
    "duration": 6,
    "start_time": "2022-01-12T19:01:52.739Z"
   },
   {
    "duration": 9,
    "start_time": "2022-01-12T19:01:54.925Z"
   },
   {
    "duration": 5,
    "start_time": "2022-01-12T19:05:20.018Z"
   },
   {
    "duration": 8,
    "start_time": "2022-01-12T19:05:21.622Z"
   },
   {
    "duration": 6,
    "start_time": "2022-01-12T19:05:30.094Z"
   },
   {
    "duration": 8,
    "start_time": "2022-01-12T19:05:31.944Z"
   },
   {
    "duration": 3,
    "start_time": "2022-01-12T19:05:43.610Z"
   },
   {
    "duration": 6,
    "start_time": "2022-01-12T19:05:43.616Z"
   },
   {
    "duration": 530,
    "start_time": "2022-01-12T19:05:43.626Z"
   },
   {
    "duration": 217,
    "start_time": "2022-01-12T19:05:44.159Z"
   },
   {
    "duration": 204,
    "start_time": "2022-01-12T19:05:44.379Z"
   },
   {
    "duration": 140,
    "start_time": "2022-01-12T19:05:44.585Z"
   },
   {
    "duration": 88,
    "start_time": "2022-01-12T19:05:44.727Z"
   },
   {
    "duration": 98,
    "start_time": "2022-01-12T19:05:44.819Z"
   },
   {
    "duration": 242,
    "start_time": "2022-01-12T19:05:44.920Z"
   },
   {
    "duration": 116,
    "start_time": "2022-01-12T19:05:45.165Z"
   },
   {
    "duration": 81,
    "start_time": "2022-01-12T19:05:45.283Z"
   },
   {
    "duration": 55,
    "start_time": "2022-01-12T19:05:45.367Z"
   },
   {
    "duration": 32,
    "start_time": "2022-01-12T19:05:45.425Z"
   },
   {
    "duration": 59,
    "start_time": "2022-01-12T19:05:45.460Z"
   },
   {
    "duration": 29,
    "start_time": "2022-01-12T19:05:45.521Z"
   },
   {
    "duration": 6,
    "start_time": "2022-01-12T19:05:45.552Z"
   },
   {
    "duration": 8,
    "start_time": "2022-01-12T19:05:45.561Z"
   },
   {
    "duration": 14,
    "start_time": "2022-01-12T19:08:04.974Z"
   },
   {
    "duration": 236,
    "start_time": "2022-01-13T15:04:01.300Z"
   },
   {
    "duration": 1253,
    "start_time": "2022-01-13T15:04:07.088Z"
   },
   {
    "duration": 3,
    "start_time": "2022-01-13T15:04:08.342Z"
   },
   {
    "duration": 357,
    "start_time": "2022-01-13T15:04:08.347Z"
   },
   {
    "duration": 145,
    "start_time": "2022-01-13T15:04:08.705Z"
   },
   {
    "duration": 111,
    "start_time": "2022-01-13T15:04:08.851Z"
   },
   {
    "duration": 83,
    "start_time": "2022-01-13T15:04:08.964Z"
   },
   {
    "duration": 39,
    "start_time": "2022-01-13T15:04:09.048Z"
   },
   {
    "duration": 32,
    "start_time": "2022-01-13T15:04:09.113Z"
   },
   {
    "duration": 138,
    "start_time": "2022-01-13T15:04:09.146Z"
   },
   {
    "duration": 64,
    "start_time": "2022-01-13T15:04:09.286Z"
   },
   {
    "duration": 46,
    "start_time": "2022-01-13T15:04:09.351Z"
   },
   {
    "duration": 33,
    "start_time": "2022-01-13T15:04:09.398Z"
   },
   {
    "duration": 19,
    "start_time": "2022-01-13T15:04:09.433Z"
   },
   {
    "duration": 20,
    "start_time": "2022-01-13T15:04:09.453Z"
   },
   {
    "duration": 39,
    "start_time": "2022-01-13T15:04:09.474Z"
   },
   {
    "duration": 4,
    "start_time": "2022-01-13T15:04:09.515Z"
   },
   {
    "duration": 6,
    "start_time": "2022-01-13T15:04:09.520Z"
   },
   {
    "duration": 11,
    "start_time": "2022-01-13T15:04:09.527Z"
   },
   {
    "duration": 17,
    "start_time": "2022-01-13T15:04:15.340Z"
   },
   {
    "duration": 253,
    "start_time": "2022-01-13T15:36:46.024Z"
   },
   {
    "duration": 213,
    "start_time": "2022-01-13T15:37:13.660Z"
   },
   {
    "duration": 201,
    "start_time": "2022-01-13T15:37:32.467Z"
   },
   {
    "duration": 3,
    "start_time": "2022-01-13T15:37:41.277Z"
   },
   {
    "duration": 6,
    "start_time": "2022-01-13T15:37:41.281Z"
   },
   {
    "duration": 322,
    "start_time": "2022-01-13T15:37:41.289Z"
   },
   {
    "duration": 138,
    "start_time": "2022-01-13T15:37:41.612Z"
   },
   {
    "duration": 106,
    "start_time": "2022-01-13T15:37:41.751Z"
   },
   {
    "duration": 80,
    "start_time": "2022-01-13T15:37:41.859Z"
   },
   {
    "duration": 38,
    "start_time": "2022-01-13T15:37:41.941Z"
   },
   {
    "duration": 59,
    "start_time": "2022-01-13T15:37:41.981Z"
   },
   {
    "duration": 137,
    "start_time": "2022-01-13T15:37:42.042Z"
   },
   {
    "duration": 63,
    "start_time": "2022-01-13T15:37:42.180Z"
   },
   {
    "duration": 44,
    "start_time": "2022-01-13T15:37:42.244Z"
   },
   {
    "duration": 31,
    "start_time": "2022-01-13T15:37:42.289Z"
   },
   {
    "duration": 19,
    "start_time": "2022-01-13T15:37:42.322Z"
   },
   {
    "duration": 19,
    "start_time": "2022-01-13T15:37:42.343Z"
   },
   {
    "duration": 16,
    "start_time": "2022-01-13T15:37:42.363Z"
   },
   {
    "duration": 4,
    "start_time": "2022-01-13T15:37:42.380Z"
   },
   {
    "duration": 30,
    "start_time": "2022-01-13T15:37:42.385Z"
   },
   {
    "duration": 9,
    "start_time": "2022-01-13T15:37:42.416Z"
   },
   {
    "duration": 20,
    "start_time": "2022-01-13T15:37:47.091Z"
   },
   {
    "duration": 279,
    "start_time": "2022-01-14T11:30:37.191Z"
   },
   {
    "duration": 1053,
    "start_time": "2022-01-14T11:38:42.298Z"
   },
   {
    "duration": 3,
    "start_time": "2022-01-14T11:38:43.352Z"
   },
   {
    "duration": 374,
    "start_time": "2022-01-14T11:38:43.357Z"
   },
   {
    "duration": 155,
    "start_time": "2022-01-14T11:38:43.733Z"
   },
   {
    "duration": 117,
    "start_time": "2022-01-14T11:38:43.889Z"
   },
   {
    "duration": 77,
    "start_time": "2022-01-14T11:38:44.008Z"
   },
   {
    "duration": 63,
    "start_time": "2022-01-14T11:38:44.086Z"
   },
   {
    "duration": 34,
    "start_time": "2022-01-14T11:38:44.151Z"
   },
   {
    "duration": 145,
    "start_time": "2022-01-14T11:38:44.187Z"
   },
   {
    "duration": 61,
    "start_time": "2022-01-14T11:38:44.334Z"
   },
   {
    "duration": 52,
    "start_time": "2022-01-14T11:38:44.397Z"
   },
   {
    "duration": 25,
    "start_time": "2022-01-14T11:38:44.451Z"
   },
   {
    "duration": 25,
    "start_time": "2022-01-14T11:38:44.477Z"
   },
   {
    "duration": 32,
    "start_time": "2022-01-14T11:38:44.503Z"
   },
   {
    "duration": 21,
    "start_time": "2022-01-14T11:38:44.537Z"
   },
   {
    "duration": 8,
    "start_time": "2022-01-14T11:38:44.559Z"
   },
   {
    "duration": 41,
    "start_time": "2022-01-14T11:38:44.569Z"
   },
   {
    "duration": 22,
    "start_time": "2022-01-14T11:38:44.611Z"
   },
   {
    "duration": 21,
    "start_time": "2022-01-14T11:41:55.690Z"
   },
   {
    "duration": 5,
    "start_time": "2022-01-14T11:42:07.154Z"
   },
   {
    "duration": 279,
    "start_time": "2022-01-14T11:42:28.499Z"
   },
   {
    "duration": 298,
    "start_time": "2022-01-14T11:42:44.978Z"
   },
   {
    "duration": 3,
    "start_time": "2022-01-14T11:43:01.607Z"
   },
   {
    "duration": 15,
    "start_time": "2022-01-14T11:43:01.612Z"
   },
   {
    "duration": 397,
    "start_time": "2022-01-14T11:43:01.629Z"
   },
   {
    "duration": 152,
    "start_time": "2022-01-14T11:43:02.028Z"
   },
   {
    "duration": 126,
    "start_time": "2022-01-14T11:43:02.182Z"
   },
   {
    "duration": 90,
    "start_time": "2022-01-14T11:43:02.310Z"
   },
   {
    "duration": 64,
    "start_time": "2022-01-14T11:43:02.401Z"
   },
   {
    "duration": 35,
    "start_time": "2022-01-14T11:43:02.466Z"
   },
   {
    "duration": 172,
    "start_time": "2022-01-14T11:43:02.503Z"
   },
   {
    "duration": 70,
    "start_time": "2022-01-14T11:43:02.677Z"
   },
   {
    "duration": 50,
    "start_time": "2022-01-14T11:43:02.749Z"
   },
   {
    "duration": 25,
    "start_time": "2022-01-14T11:43:02.800Z"
   },
   {
    "duration": 34,
    "start_time": "2022-01-14T11:43:02.826Z"
   },
   {
    "duration": 21,
    "start_time": "2022-01-14T11:43:02.861Z"
   },
   {
    "duration": 35,
    "start_time": "2022-01-14T11:43:02.884Z"
   },
   {
    "duration": 3,
    "start_time": "2022-01-14T11:43:02.921Z"
   },
   {
    "duration": 16,
    "start_time": "2022-01-14T11:43:02.925Z"
   },
   {
    "duration": 11,
    "start_time": "2022-01-14T11:43:02.942Z"
   },
   {
    "duration": 23,
    "start_time": "2022-01-14T11:43:02.955Z"
   },
   {
    "duration": 9,
    "start_time": "2022-01-14T11:43:09.882Z"
   },
   {
    "duration": 3,
    "start_time": "2022-01-14T11:53:14.887Z"
   },
   {
    "duration": 6,
    "start_time": "2022-01-14T11:53:14.892Z"
   },
   {
    "duration": 387,
    "start_time": "2022-01-14T11:53:14.900Z"
   },
   {
    "duration": 137,
    "start_time": "2022-01-14T11:53:15.288Z"
   },
   {
    "duration": 123,
    "start_time": "2022-01-14T11:53:15.426Z"
   },
   {
    "duration": 69,
    "start_time": "2022-01-14T11:53:15.551Z"
   },
   {
    "duration": 42,
    "start_time": "2022-01-14T11:53:15.641Z"
   },
   {
    "duration": 67,
    "start_time": "2022-01-14T11:53:15.685Z"
   },
   {
    "duration": 133,
    "start_time": "2022-01-14T11:53:15.754Z"
   },
   {
    "duration": 71,
    "start_time": "2022-01-14T11:53:15.889Z"
   },
   {
    "duration": 47,
    "start_time": "2022-01-14T11:53:15.962Z"
   },
   {
    "duration": 40,
    "start_time": "2022-01-14T11:53:16.011Z"
   },
   {
    "duration": 19,
    "start_time": "2022-01-14T11:53:16.052Z"
   },
   {
    "duration": 21,
    "start_time": "2022-01-14T11:53:16.073Z"
   },
   {
    "duration": 16,
    "start_time": "2022-01-14T11:53:16.096Z"
   },
   {
    "duration": 27,
    "start_time": "2022-01-14T11:53:16.114Z"
   },
   {
    "duration": 8,
    "start_time": "2022-01-14T11:53:16.143Z"
   },
   {
    "duration": 244,
    "start_time": "2022-01-14T11:53:22.095Z"
   },
   {
    "duration": 3,
    "start_time": "2022-01-14T11:54:17.650Z"
   },
   {
    "duration": 14,
    "start_time": "2022-01-14T11:54:17.655Z"
   },
   {
    "duration": 400,
    "start_time": "2022-01-14T11:54:17.671Z"
   },
   {
    "duration": 135,
    "start_time": "2022-01-14T11:54:18.073Z"
   },
   {
    "duration": 107,
    "start_time": "2022-01-14T11:54:18.210Z"
   },
   {
    "duration": 85,
    "start_time": "2022-01-14T11:54:18.318Z"
   },
   {
    "duration": 60,
    "start_time": "2022-01-14T11:54:18.405Z"
   },
   {
    "duration": 32,
    "start_time": "2022-01-14T11:54:18.467Z"
   },
   {
    "duration": 158,
    "start_time": "2022-01-14T11:54:18.500Z"
   },
   {
    "duration": 59,
    "start_time": "2022-01-14T11:54:18.660Z"
   },
   {
    "duration": 59,
    "start_time": "2022-01-14T11:54:18.720Z"
   },
   {
    "duration": 25,
    "start_time": "2022-01-14T11:54:18.781Z"
   },
   {
    "duration": 34,
    "start_time": "2022-01-14T11:54:18.808Z"
   },
   {
    "duration": 22,
    "start_time": "2022-01-14T11:54:18.844Z"
   },
   {
    "duration": 23,
    "start_time": "2022-01-14T11:54:18.867Z"
   },
   {
    "duration": 4,
    "start_time": "2022-01-14T11:54:18.891Z"
   },
   {
    "duration": 6,
    "start_time": "2022-01-14T11:54:18.896Z"
   },
   {
    "duration": 9,
    "start_time": "2022-01-14T11:54:23.571Z"
   },
   {
    "duration": 3,
    "start_time": "2022-01-14T11:54:31.138Z"
   },
   {
    "duration": 12,
    "start_time": "2022-01-14T11:54:31.143Z"
   },
   {
    "duration": 404,
    "start_time": "2022-01-14T11:54:31.157Z"
   },
   {
    "duration": 142,
    "start_time": "2022-01-14T11:54:31.563Z"
   },
   {
    "duration": 105,
    "start_time": "2022-01-14T11:54:31.707Z"
   },
   {
    "duration": 80,
    "start_time": "2022-01-14T11:54:31.813Z"
   },
   {
    "duration": 59,
    "start_time": "2022-01-14T11:54:31.894Z"
   },
   {
    "duration": 33,
    "start_time": "2022-01-14T11:54:31.954Z"
   },
   {
    "duration": 161,
    "start_time": "2022-01-14T11:54:31.989Z"
   },
   {
    "duration": 61,
    "start_time": "2022-01-14T11:54:32.152Z"
   },
   {
    "duration": 60,
    "start_time": "2022-01-14T11:54:32.215Z"
   },
   {
    "duration": 25,
    "start_time": "2022-01-14T11:54:32.277Z"
   },
   {
    "duration": 18,
    "start_time": "2022-01-14T11:54:32.303Z"
   },
   {
    "duration": 34,
    "start_time": "2022-01-14T11:54:32.323Z"
   },
   {
    "duration": 16,
    "start_time": "2022-01-14T11:54:32.359Z"
   },
   {
    "duration": 7,
    "start_time": "2022-01-14T11:54:32.376Z"
   },
   {
    "duration": 19,
    "start_time": "2022-01-14T11:54:32.384Z"
   },
   {
    "duration": 28,
    "start_time": "2022-01-14T11:54:32.405Z"
   },
   {
    "duration": 28,
    "start_time": "2022-01-14T11:54:32.435Z"
   },
   {
    "duration": 26,
    "start_time": "2022-01-14T11:54:32.465Z"
   },
   {
    "duration": 3,
    "start_time": "2022-01-14T11:56:41.844Z"
   },
   {
    "duration": 11,
    "start_time": "2022-01-14T11:56:41.848Z"
   },
   {
    "duration": 393,
    "start_time": "2022-01-14T11:56:41.861Z"
   },
   {
    "duration": 156,
    "start_time": "2022-01-14T11:56:42.256Z"
   },
   {
    "duration": 113,
    "start_time": "2022-01-14T11:56:42.414Z"
   },
   {
    "duration": 69,
    "start_time": "2022-01-14T11:56:42.541Z"
   },
   {
    "duration": 60,
    "start_time": "2022-01-14T11:56:42.612Z"
   },
   {
    "duration": 33,
    "start_time": "2022-01-14T11:56:42.674Z"
   },
   {
    "duration": 154,
    "start_time": "2022-01-14T11:56:42.742Z"
   },
   {
    "duration": 70,
    "start_time": "2022-01-14T11:56:42.898Z"
   },
   {
    "duration": 48,
    "start_time": "2022-01-14T11:56:42.969Z"
   },
   {
    "duration": 32,
    "start_time": "2022-01-14T11:56:43.018Z"
   },
   {
    "duration": 19,
    "start_time": "2022-01-14T11:56:43.052Z"
   },
   {
    "duration": 21,
    "start_time": "2022-01-14T11:56:43.073Z"
   },
   {
    "duration": 16,
    "start_time": "2022-01-14T11:56:43.096Z"
   },
   {
    "duration": 30,
    "start_time": "2022-01-14T11:56:43.113Z"
   },
   {
    "duration": 5,
    "start_time": "2022-01-14T11:56:43.145Z"
   },
   {
    "duration": 9,
    "start_time": "2022-01-14T11:56:43.152Z"
   },
   {
    "duration": 20,
    "start_time": "2022-01-14T11:56:43.162Z"
   },
   {
    "duration": 4,
    "start_time": "2022-01-14T11:56:43.183Z"
   },
   {
    "duration": 6593,
    "start_time": "2022-01-14T12:02:50.413Z"
   },
   {
    "duration": 3,
    "start_time": "2022-01-14T12:34:11.050Z"
   },
   {
    "duration": 8,
    "start_time": "2022-01-14T12:34:11.055Z"
   },
   {
    "duration": 489,
    "start_time": "2022-01-14T12:34:11.065Z"
   },
   {
    "duration": 150,
    "start_time": "2022-01-14T12:34:11.556Z"
   },
   {
    "duration": 121,
    "start_time": "2022-01-14T12:34:11.708Z"
   },
   {
    "duration": 72,
    "start_time": "2022-01-14T12:34:11.830Z"
   },
   {
    "duration": 63,
    "start_time": "2022-01-14T12:34:11.904Z"
   },
   {
    "duration": 34,
    "start_time": "2022-01-14T12:34:11.969Z"
   },
   {
    "duration": 172,
    "start_time": "2022-01-14T12:34:12.005Z"
   },
   {
    "duration": 68,
    "start_time": "2022-01-14T12:34:12.178Z"
   },
   {
    "duration": 46,
    "start_time": "2022-01-14T12:34:12.248Z"
   },
   {
    "duration": 50,
    "start_time": "2022-01-14T12:34:15.292Z"
   },
   {
    "duration": 6101,
    "start_time": "2022-01-14T12:34:16.306Z"
   },
   {
    "duration": 28,
    "start_time": "2022-01-14T12:34:43.659Z"
   },
   {
    "duration": 336,
    "start_time": "2022-01-14T12:35:05.473Z"
   },
   {
    "duration": 3,
    "start_time": "2022-01-14T12:35:20.046Z"
   },
   {
    "duration": 7,
    "start_time": "2022-01-14T12:35:20.051Z"
   },
   {
    "duration": 378,
    "start_time": "2022-01-14T12:35:20.061Z"
   },
   {
    "duration": 147,
    "start_time": "2022-01-14T12:35:20.441Z"
   },
   {
    "duration": 112,
    "start_time": "2022-01-14T12:35:20.589Z"
   },
   {
    "duration": 81,
    "start_time": "2022-01-14T12:35:20.703Z"
   },
   {
    "duration": 64,
    "start_time": "2022-01-14T12:35:20.785Z"
   },
   {
    "duration": 33,
    "start_time": "2022-01-14T12:35:20.850Z"
   },
   {
    "duration": 154,
    "start_time": "2022-01-14T12:35:20.885Z"
   },
   {
    "duration": 59,
    "start_time": "2022-01-14T12:35:21.041Z"
   },
   {
    "duration": 63,
    "start_time": "2022-01-14T12:35:21.102Z"
   },
   {
    "duration": 23,
    "start_time": "2022-01-14T12:35:21.166Z"
   },
   {
    "duration": 18,
    "start_time": "2022-01-14T12:35:21.191Z"
   },
   {
    "duration": 45,
    "start_time": "2022-01-14T12:35:21.211Z"
   },
   {
    "duration": 18,
    "start_time": "2022-01-14T12:35:21.258Z"
   },
   {
    "duration": 4,
    "start_time": "2022-01-14T12:35:21.277Z"
   },
   {
    "duration": 10,
    "start_time": "2022-01-14T12:35:21.283Z"
   },
   {
    "duration": 18,
    "start_time": "2022-01-14T12:35:21.294Z"
   },
   {
    "duration": 50,
    "start_time": "2022-01-14T12:35:21.314Z"
   },
   {
    "duration": 6,
    "start_time": "2022-01-14T12:35:21.366Z"
   },
   {
    "duration": 6061,
    "start_time": "2022-01-14T12:56:05.522Z"
   },
   {
    "duration": 4,
    "start_time": "2022-01-14T12:56:19.758Z"
   },
   {
    "duration": 7,
    "start_time": "2022-01-14T12:56:19.764Z"
   },
   {
    "duration": 664,
    "start_time": "2022-01-14T12:56:19.773Z"
   },
   {
    "duration": 168,
    "start_time": "2022-01-14T12:56:20.440Z"
   },
   {
    "duration": 150,
    "start_time": "2022-01-14T12:56:20.610Z"
   },
   {
    "duration": 117,
    "start_time": "2022-01-14T12:56:20.762Z"
   },
   {
    "duration": 68,
    "start_time": "2022-01-14T12:56:20.883Z"
   },
   {
    "duration": 41,
    "start_time": "2022-01-14T12:56:20.954Z"
   },
   {
    "duration": 380,
    "start_time": "2022-01-14T12:56:20.997Z"
   },
   {
    "duration": 84,
    "start_time": "2022-01-14T12:56:21.379Z"
   },
   {
    "duration": 49,
    "start_time": "2022-01-14T12:56:21.465Z"
   },
   {
    "duration": 37,
    "start_time": "2022-01-14T12:56:21.516Z"
   },
   {
    "duration": 23,
    "start_time": "2022-01-14T12:56:21.555Z"
   },
   {
    "duration": 30,
    "start_time": "2022-01-14T12:56:21.580Z"
   },
   {
    "duration": 45,
    "start_time": "2022-01-14T12:56:21.611Z"
   },
   {
    "duration": 5,
    "start_time": "2022-01-14T12:56:21.657Z"
   },
   {
    "duration": 12,
    "start_time": "2022-01-14T12:56:21.663Z"
   },
   {
    "duration": 13,
    "start_time": "2022-01-14T12:56:21.678Z"
   },
   {
    "duration": 25,
    "start_time": "2022-01-14T12:56:21.694Z"
   },
   {
    "duration": 24,
    "start_time": "2022-01-14T12:56:21.721Z"
   },
   {
    "duration": 6393,
    "start_time": "2022-01-14T12:56:21.747Z"
   },
   {
    "duration": 12,
    "start_time": "2022-01-14T12:58:06.981Z"
   },
   {
    "duration": 28,
    "start_time": "2022-01-14T12:58:41.424Z"
   },
   {
    "duration": 456,
    "start_time": "2022-01-14T14:42:37.134Z"
   },
   {
    "duration": 17,
    "start_time": "2022-01-14T14:42:55.587Z"
   },
   {
    "duration": 16,
    "start_time": "2022-01-14T14:43:50.219Z"
   },
   {
    "duration": 25,
    "start_time": "2022-01-14T15:15:59.653Z"
   },
   {
    "duration": 250,
    "start_time": "2022-01-14T15:17:26.261Z"
   },
   {
    "duration": 3,
    "start_time": "2022-01-14T15:17:43.309Z"
   },
   {
    "duration": 8,
    "start_time": "2022-01-14T15:17:43.313Z"
   },
   {
    "duration": 414,
    "start_time": "2022-01-14T15:17:43.323Z"
   },
   {
    "duration": 176,
    "start_time": "2022-01-14T15:17:43.739Z"
   },
   {
    "duration": 128,
    "start_time": "2022-01-14T15:17:43.917Z"
   },
   {
    "duration": 68,
    "start_time": "2022-01-14T15:17:44.047Z"
   },
   {
    "duration": 40,
    "start_time": "2022-01-14T15:17:44.141Z"
   },
   {
    "duration": 64,
    "start_time": "2022-01-14T15:17:44.184Z"
   },
   {
    "duration": 153,
    "start_time": "2022-01-14T15:17:44.250Z"
   },
   {
    "duration": 73,
    "start_time": "2022-01-14T15:17:44.405Z"
   },
   {
    "duration": 48,
    "start_time": "2022-01-14T15:17:44.480Z"
   },
   {
    "duration": 37,
    "start_time": "2022-01-14T15:17:44.529Z"
   },
   {
    "duration": 23,
    "start_time": "2022-01-14T15:17:44.567Z"
   },
   {
    "duration": 25,
    "start_time": "2022-01-14T15:17:44.591Z"
   },
   {
    "duration": 39,
    "start_time": "2022-01-14T15:17:44.617Z"
   },
   {
    "duration": 4,
    "start_time": "2022-01-14T15:17:44.658Z"
   },
   {
    "duration": 6,
    "start_time": "2022-01-14T15:17:44.664Z"
   },
   {
    "duration": 19,
    "start_time": "2022-01-14T15:17:44.672Z"
   },
   {
    "duration": 21,
    "start_time": "2022-01-14T15:17:44.692Z"
   },
   {
    "duration": 26,
    "start_time": "2022-01-14T15:17:44.715Z"
   },
   {
    "duration": 263,
    "start_time": "2022-01-14T15:17:44.743Z"
   },
   {
    "duration": 419,
    "start_time": "2022-01-14T15:19:18.659Z"
   },
   {
    "duration": 6107,
    "start_time": "2022-01-14T15:21:24.444Z"
   },
   {
    "duration": 3,
    "start_time": "2022-01-14T15:21:39.039Z"
   },
   {
    "duration": 29,
    "start_time": "2022-01-14T15:21:39.044Z"
   },
   {
    "duration": 397,
    "start_time": "2022-01-14T15:21:39.075Z"
   },
   {
    "duration": 149,
    "start_time": "2022-01-14T15:21:39.474Z"
   },
   {
    "duration": 120,
    "start_time": "2022-01-14T15:21:39.624Z"
   },
   {
    "duration": 96,
    "start_time": "2022-01-14T15:21:39.745Z"
   },
   {
    "duration": 41,
    "start_time": "2022-01-14T15:21:39.843Z"
   },
   {
    "duration": 63,
    "start_time": "2022-01-14T15:21:39.886Z"
   },
   {
    "duration": 141,
    "start_time": "2022-01-14T15:21:39.951Z"
   },
   {
    "duration": 68,
    "start_time": "2022-01-14T15:21:40.094Z"
   },
   {
    "duration": 49,
    "start_time": "2022-01-14T15:21:40.164Z"
   },
   {
    "duration": 57,
    "start_time": "2022-01-14T15:21:40.215Z"
   },
   {
    "duration": 24,
    "start_time": "2022-01-14T15:21:40.274Z"
   },
   {
    "duration": 23,
    "start_time": "2022-01-14T15:21:40.300Z"
   },
   {
    "duration": 37,
    "start_time": "2022-01-14T15:21:40.324Z"
   },
   {
    "duration": 16,
    "start_time": "2022-01-14T15:21:40.363Z"
   },
   {
    "duration": 23,
    "start_time": "2022-01-14T15:21:40.381Z"
   },
   {
    "duration": 25,
    "start_time": "2022-01-14T15:21:40.405Z"
   },
   {
    "duration": 12,
    "start_time": "2022-01-14T15:21:40.431Z"
   },
   {
    "duration": 27,
    "start_time": "2022-01-14T15:21:40.445Z"
   },
   {
    "duration": 5,
    "start_time": "2022-01-14T15:21:40.473Z"
   },
   {
    "duration": 408,
    "start_time": "2022-01-14T15:21:40.480Z"
   },
   {
    "duration": 3,
    "start_time": "2022-01-14T15:23:52.634Z"
   },
   {
    "duration": 46,
    "start_time": "2022-01-14T15:23:52.639Z"
   },
   {
    "duration": 402,
    "start_time": "2022-01-14T15:23:52.687Z"
   },
   {
    "duration": 168,
    "start_time": "2022-01-14T15:23:53.092Z"
   },
   {
    "duration": 116,
    "start_time": "2022-01-14T15:23:53.262Z"
   },
   {
    "duration": 84,
    "start_time": "2022-01-14T15:23:53.379Z"
   },
   {
    "duration": 39,
    "start_time": "2022-01-14T15:23:53.465Z"
   },
   {
    "duration": 57,
    "start_time": "2022-01-14T15:23:53.506Z"
   },
   {
    "duration": 144,
    "start_time": "2022-01-14T15:23:53.564Z"
   },
   {
    "duration": 68,
    "start_time": "2022-01-14T15:23:53.710Z"
   },
   {
    "duration": 46,
    "start_time": "2022-01-14T15:23:53.779Z"
   },
   {
    "duration": 41,
    "start_time": "2022-01-14T15:23:53.826Z"
   },
   {
    "duration": 21,
    "start_time": "2022-01-14T15:23:53.869Z"
   },
   {
    "duration": 19,
    "start_time": "2022-01-14T15:23:53.892Z"
   },
   {
    "duration": 43,
    "start_time": "2022-01-14T15:23:53.913Z"
   },
   {
    "duration": 16,
    "start_time": "2022-01-14T15:23:53.958Z"
   },
   {
    "duration": 4,
    "start_time": "2022-01-14T15:23:53.976Z"
   },
   {
    "duration": 12,
    "start_time": "2022-01-14T15:23:53.981Z"
   },
   {
    "duration": 28,
    "start_time": "2022-01-14T15:23:53.995Z"
   },
   {
    "duration": 33,
    "start_time": "2022-01-14T15:23:54.025Z"
   },
   {
    "duration": 9,
    "start_time": "2022-01-14T15:23:54.060Z"
   },
   {
    "duration": 390,
    "start_time": "2022-01-14T15:23:54.071Z"
   },
   {
    "duration": 12,
    "start_time": "2022-01-14T15:32:07.775Z"
   },
   {
    "duration": 6182,
    "start_time": "2022-01-14T15:34:01.235Z"
   },
   {
    "duration": 3,
    "start_time": "2022-01-14T15:34:32.571Z"
   },
   {
    "duration": 8,
    "start_time": "2022-01-14T15:34:32.576Z"
   },
   {
    "duration": 372,
    "start_time": "2022-01-14T15:34:32.586Z"
   },
   {
    "duration": 139,
    "start_time": "2022-01-14T15:34:32.960Z"
   },
   {
    "duration": 111,
    "start_time": "2022-01-14T15:34:33.100Z"
   },
   {
    "duration": 81,
    "start_time": "2022-01-14T15:34:33.213Z"
   },
   {
    "duration": 62,
    "start_time": "2022-01-14T15:34:33.296Z"
   },
   {
    "duration": 32,
    "start_time": "2022-01-14T15:34:33.360Z"
   },
   {
    "duration": 157,
    "start_time": "2022-01-14T15:34:33.394Z"
   },
   {
    "duration": 59,
    "start_time": "2022-01-14T15:34:33.553Z"
   },
   {
    "duration": 60,
    "start_time": "2022-01-14T15:34:33.614Z"
   },
   {
    "duration": 22,
    "start_time": "2022-01-14T15:34:33.676Z"
   },
   {
    "duration": 6679,
    "start_time": "2022-01-14T15:34:33.700Z"
   },
   {
    "duration": 730,
    "start_time": "2022-01-14T15:34:39.651Z"
   },
   {
    "duration": 718,
    "start_time": "2022-01-14T15:34:39.665Z"
   },
   {
    "duration": 717,
    "start_time": "2022-01-14T15:34:39.667Z"
   },
   {
    "duration": 688,
    "start_time": "2022-01-14T15:34:39.697Z"
   },
   {
    "duration": 678,
    "start_time": "2022-01-14T15:34:39.708Z"
   },
   {
    "duration": 676,
    "start_time": "2022-01-14T15:34:39.711Z"
   },
   {
    "duration": 674,
    "start_time": "2022-01-14T15:34:39.713Z"
   },
   {
    "duration": 672,
    "start_time": "2022-01-14T15:34:39.716Z"
   },
   {
    "duration": 670,
    "start_time": "2022-01-14T15:34:39.719Z"
   },
   {
    "duration": 3,
    "start_time": "2022-01-14T15:37:33.793Z"
   },
   {
    "duration": 5,
    "start_time": "2022-01-14T15:37:33.799Z"
   },
   {
    "duration": 382,
    "start_time": "2022-01-14T15:37:33.807Z"
   },
   {
    "duration": 134,
    "start_time": "2022-01-14T15:37:34.191Z"
   },
   {
    "duration": 118,
    "start_time": "2022-01-14T15:37:34.327Z"
   },
   {
    "duration": 65,
    "start_time": "2022-01-14T15:37:34.447Z"
   },
   {
    "duration": 61,
    "start_time": "2022-01-14T15:37:34.514Z"
   },
   {
    "duration": 63,
    "start_time": "2022-01-14T15:37:34.578Z"
   },
   {
    "duration": 144,
    "start_time": "2022-01-14T15:37:34.643Z"
   },
   {
    "duration": 72,
    "start_time": "2022-01-14T15:37:34.789Z"
   },
   {
    "duration": 51,
    "start_time": "2022-01-14T15:37:34.863Z"
   },
   {
    "duration": 36,
    "start_time": "2022-01-14T15:37:34.916Z"
   },
   {
    "duration": 21,
    "start_time": "2022-01-14T15:37:34.954Z"
   },
   {
    "duration": 22,
    "start_time": "2022-01-14T15:37:34.976Z"
   },
   {
    "duration": 49,
    "start_time": "2022-01-14T15:37:35.000Z"
   },
   {
    "duration": 5,
    "start_time": "2022-01-14T15:37:35.050Z"
   },
   {
    "duration": 7,
    "start_time": "2022-01-14T15:37:35.056Z"
   },
   {
    "duration": 6054,
    "start_time": "2022-01-14T15:37:35.065Z"
   },
   {
    "duration": 850,
    "start_time": "2022-01-14T15:37:40.271Z"
   },
   {
    "duration": 846,
    "start_time": "2022-01-14T15:37:40.276Z"
   },
   {
    "duration": 844,
    "start_time": "2022-01-14T15:37:40.279Z"
   },
   {
    "duration": 7789,
    "start_time": "2022-01-14T15:46:08.590Z"
   },
   {
    "duration": 3,
    "start_time": "2022-01-14T15:46:21.326Z"
   },
   {
    "duration": 8,
    "start_time": "2022-01-14T15:46:21.330Z"
   },
   {
    "duration": 356,
    "start_time": "2022-01-14T15:46:21.339Z"
   },
   {
    "duration": 126,
    "start_time": "2022-01-14T15:46:21.697Z"
   },
   {
    "duration": 120,
    "start_time": "2022-01-14T15:46:21.825Z"
   },
   {
    "duration": 67,
    "start_time": "2022-01-14T15:46:21.946Z"
   },
   {
    "duration": 41,
    "start_time": "2022-01-14T15:46:22.041Z"
   },
   {
    "duration": 65,
    "start_time": "2022-01-14T15:46:22.084Z"
   },
   {
    "duration": 127,
    "start_time": "2022-01-14T15:46:22.151Z"
   },
   {
    "duration": 67,
    "start_time": "2022-01-14T15:46:22.280Z"
   },
   {
    "duration": 46,
    "start_time": "2022-01-14T15:46:25.331Z"
   },
   {
    "duration": 32,
    "start_time": "2022-01-14T15:46:26.411Z"
   },
   {
    "duration": 20,
    "start_time": "2022-01-14T15:46:44.618Z"
   },
   {
    "duration": 24,
    "start_time": "2022-01-14T15:46:45.440Z"
   },
   {
    "duration": 18,
    "start_time": "2022-01-14T15:46:48.916Z"
   },
   {
    "duration": 5,
    "start_time": "2022-01-14T15:48:07.269Z"
   },
   {
    "duration": 6,
    "start_time": "2022-01-14T15:48:21.628Z"
   },
   {
    "duration": 10,
    "start_time": "2022-01-14T15:48:37.060Z"
   },
   {
    "duration": 33,
    "start_time": "2022-01-14T15:51:50.263Z"
   },
   {
    "duration": 251,
    "start_time": "2022-01-14T15:52:00.813Z"
   },
   {
    "duration": 3,
    "start_time": "2022-01-14T15:52:15.797Z"
   },
   {
    "duration": 11,
    "start_time": "2022-01-14T15:52:15.802Z"
   },
   {
    "duration": 377,
    "start_time": "2022-01-14T15:52:15.815Z"
   },
   {
    "duration": 133,
    "start_time": "2022-01-14T15:52:16.194Z"
   },
   {
    "duration": 124,
    "start_time": "2022-01-14T15:52:16.328Z"
   },
   {
    "duration": 91,
    "start_time": "2022-01-14T15:52:16.454Z"
   },
   {
    "duration": 37,
    "start_time": "2022-01-14T15:52:16.546Z"
   },
   {
    "duration": 62,
    "start_time": "2022-01-14T15:52:16.587Z"
   },
   {
    "duration": 132,
    "start_time": "2022-01-14T15:52:16.650Z"
   },
   {
    "duration": 66,
    "start_time": "2022-01-14T15:52:16.783Z"
   },
   {
    "duration": 44,
    "start_time": "2022-01-14T15:52:16.850Z"
   },
   {
    "duration": 24,
    "start_time": "2022-01-14T15:52:16.896Z"
   },
   {
    "duration": 31,
    "start_time": "2022-01-14T15:52:16.921Z"
   },
   {
    "duration": 21,
    "start_time": "2022-01-14T15:52:16.954Z"
   },
   {
    "duration": 17,
    "start_time": "2022-01-14T15:52:16.976Z"
   },
   {
    "duration": 4,
    "start_time": "2022-01-14T15:52:16.994Z"
   },
   {
    "duration": 12,
    "start_time": "2022-01-14T15:52:17.000Z"
   },
   {
    "duration": 35,
    "start_time": "2022-01-14T15:52:17.013Z"
   },
   {
    "duration": 21,
    "start_time": "2022-01-14T15:52:17.049Z"
   },
   {
    "duration": 4,
    "start_time": "2022-01-14T15:52:17.072Z"
   },
   {
    "duration": 379,
    "start_time": "2022-01-14T15:52:17.078Z"
   },
   {
    "duration": 4,
    "start_time": "2022-01-14T17:20:23.099Z"
   },
   {
    "duration": 11,
    "start_time": "2022-01-14T17:20:23.104Z"
   },
   {
    "duration": 385,
    "start_time": "2022-01-14T17:20:23.117Z"
   },
   {
    "duration": 149,
    "start_time": "2022-01-14T17:20:23.504Z"
   },
   {
    "duration": 124,
    "start_time": "2022-01-14T17:20:23.655Z"
   },
   {
    "duration": 93,
    "start_time": "2022-01-14T17:20:23.781Z"
   },
   {
    "duration": 39,
    "start_time": "2022-01-14T17:20:23.875Z"
   },
   {
    "duration": 64,
    "start_time": "2022-01-14T17:20:23.917Z"
   },
   {
    "duration": 164,
    "start_time": "2022-01-14T17:20:23.983Z"
   },
   {
    "duration": 62,
    "start_time": "2022-01-14T17:20:24.148Z"
   },
   {
    "duration": 65,
    "start_time": "2022-01-14T17:20:24.211Z"
   },
   {
    "duration": 30,
    "start_time": "2022-01-14T17:20:24.278Z"
   },
   {
    "duration": 37,
    "start_time": "2022-01-14T17:20:24.310Z"
   },
   {
    "duration": 23,
    "start_time": "2022-01-14T17:20:24.349Z"
   },
   {
    "duration": 19,
    "start_time": "2022-01-14T17:20:24.374Z"
   },
   {
    "duration": 5,
    "start_time": "2022-01-14T17:20:24.394Z"
   },
   {
    "duration": 40,
    "start_time": "2022-01-14T17:20:24.401Z"
   },
   {
    "duration": 11,
    "start_time": "2022-01-14T17:20:24.444Z"
   },
   {
    "duration": 49,
    "start_time": "2022-01-14T17:20:24.457Z"
   },
   {
    "duration": 15,
    "start_time": "2022-01-14T17:20:24.508Z"
   },
   {
    "duration": 96,
    "start_time": "2022-01-14T17:20:24.525Z"
   },
   {
    "duration": 81,
    "start_time": "2022-01-14T17:21:51.976Z"
   },
   {
    "duration": 428,
    "start_time": "2022-01-14T17:22:59.783Z"
   },
   {
    "duration": 409,
    "start_time": "2022-01-14T17:23:54.029Z"
   },
   {
    "duration": 1999,
    "start_time": "2022-01-14T17:25:02.867Z"
   },
   {
    "duration": 2012,
    "start_time": "2022-01-14T17:25:25.204Z"
   },
   {
    "duration": 1925,
    "start_time": "2022-01-14T17:27:09.307Z"
   },
   {
    "duration": 2098,
    "start_time": "2022-01-14T17:36:46.560Z"
   },
   {
    "duration": 1981,
    "start_time": "2022-01-14T17:37:04.374Z"
   },
   {
    "duration": 684,
    "start_time": "2022-01-14T17:38:20.727Z"
   },
   {
    "duration": 667,
    "start_time": "2022-01-14T17:39:14.951Z"
   },
   {
    "duration": 1861,
    "start_time": "2022-01-14T17:41:45.831Z"
   },
   {
    "duration": 1924,
    "start_time": "2022-01-14T17:42:00.020Z"
   },
   {
    "duration": 2571,
    "start_time": "2022-01-14T18:48:02.043Z"
   },
   {
    "duration": 2,
    "start_time": "2022-01-14T18:57:22.681Z"
   },
   {
    "duration": 6,
    "start_time": "2022-01-14T18:57:22.685Z"
   },
   {
    "duration": 407,
    "start_time": "2022-01-14T18:57:22.693Z"
   },
   {
    "duration": 139,
    "start_time": "2022-01-14T18:57:23.102Z"
   },
   {
    "duration": 111,
    "start_time": "2022-01-14T18:57:23.243Z"
   },
   {
    "duration": 62,
    "start_time": "2022-01-14T18:57:23.356Z"
   },
   {
    "duration": 64,
    "start_time": "2022-01-14T18:57:23.420Z"
   },
   {
    "duration": 72,
    "start_time": "2022-01-14T18:57:23.486Z"
   },
   {
    "duration": 156,
    "start_time": "2022-01-14T18:57:23.559Z"
   },
   {
    "duration": 65,
    "start_time": "2022-01-14T18:57:23.716Z"
   },
   {
    "duration": 48,
    "start_time": "2022-01-14T18:57:23.782Z"
   },
   {
    "duration": 30,
    "start_time": "2022-01-14T18:57:23.840Z"
   },
   {
    "duration": 20,
    "start_time": "2022-01-14T18:57:23.872Z"
   },
   {
    "duration": 21,
    "start_time": "2022-01-14T18:57:23.893Z"
   },
   {
    "duration": 40,
    "start_time": "2022-01-14T18:57:23.915Z"
   },
   {
    "duration": 3,
    "start_time": "2022-01-14T18:57:23.957Z"
   },
   {
    "duration": 9,
    "start_time": "2022-01-14T18:57:23.962Z"
   },
   {
    "duration": 15,
    "start_time": "2022-01-14T18:57:23.973Z"
   },
   {
    "duration": 19,
    "start_time": "2022-01-14T18:57:23.991Z"
   },
   {
    "duration": 4,
    "start_time": "2022-01-14T18:57:24.011Z"
   },
   {
    "duration": 6543,
    "start_time": "2022-01-14T18:57:24.016Z"
   },
   {
    "duration": 1925,
    "start_time": "2022-01-14T18:58:06.320Z"
   },
   {
    "duration": 3,
    "start_time": "2022-01-14T19:33:21.793Z"
   },
   {
    "duration": 11,
    "start_time": "2022-01-14T19:33:21.798Z"
   },
   {
    "duration": 405,
    "start_time": "2022-01-14T19:33:21.811Z"
   },
   {
    "duration": 159,
    "start_time": "2022-01-14T19:33:22.218Z"
   },
   {
    "duration": 119,
    "start_time": "2022-01-14T19:33:22.379Z"
   },
   {
    "duration": 91,
    "start_time": "2022-01-14T19:33:22.500Z"
   },
   {
    "duration": 61,
    "start_time": "2022-01-14T19:33:22.592Z"
   },
   {
    "duration": 33,
    "start_time": "2022-01-14T19:33:22.656Z"
   },
   {
    "duration": 163,
    "start_time": "2022-01-14T19:33:22.691Z"
   },
   {
    "duration": 62,
    "start_time": "2022-01-14T19:33:22.855Z"
   },
   {
    "duration": 65,
    "start_time": "2022-01-14T19:33:22.919Z"
   },
   {
    "duration": 36,
    "start_time": "2022-01-14T19:33:22.986Z"
   },
   {
    "duration": 37,
    "start_time": "2022-01-14T19:33:23.023Z"
   },
   {
    "duration": 22,
    "start_time": "2022-01-14T19:33:23.062Z"
   },
   {
    "duration": 18,
    "start_time": "2022-01-14T19:33:23.086Z"
   },
   {
    "duration": 3,
    "start_time": "2022-01-14T19:33:23.106Z"
   },
   {
    "duration": 30,
    "start_time": "2022-01-14T19:33:23.111Z"
   },
   {
    "duration": 10,
    "start_time": "2022-01-14T19:33:23.143Z"
   },
   {
    "duration": 22,
    "start_time": "2022-01-14T19:33:23.155Z"
   },
   {
    "duration": 5,
    "start_time": "2022-01-14T19:33:23.179Z"
   },
   {
    "duration": 6179,
    "start_time": "2022-01-14T19:33:23.185Z"
   },
   {
    "duration": 3,
    "start_time": "2022-01-14T19:34:10.553Z"
   },
   {
    "duration": 5,
    "start_time": "2022-01-14T19:34:10.558Z"
   },
   {
    "duration": 412,
    "start_time": "2022-01-14T19:34:10.565Z"
   },
   {
    "duration": 156,
    "start_time": "2022-01-14T19:34:10.979Z"
   },
   {
    "duration": 131,
    "start_time": "2022-01-14T19:34:11.141Z"
   },
   {
    "duration": 85,
    "start_time": "2022-01-14T19:34:11.274Z"
   },
   {
    "duration": 40,
    "start_time": "2022-01-14T19:34:11.360Z"
   },
   {
    "duration": 62,
    "start_time": "2022-01-14T19:34:11.402Z"
   },
   {
    "duration": 163,
    "start_time": "2022-01-14T19:34:11.465Z"
   },
   {
    "duration": 66,
    "start_time": "2022-01-14T19:34:11.630Z"
   },
   {
    "duration": 56,
    "start_time": "2022-01-14T19:34:11.697Z"
   },
   {
    "duration": 28,
    "start_time": "2022-01-14T19:34:11.755Z"
   },
   {
    "duration": 21,
    "start_time": "2022-01-14T19:34:11.785Z"
   },
   {
    "duration": 48,
    "start_time": "2022-01-14T19:34:11.808Z"
   },
   {
    "duration": 16,
    "start_time": "2022-01-14T19:34:11.858Z"
   },
   {
    "duration": 6,
    "start_time": "2022-01-14T19:34:11.876Z"
   },
   {
    "duration": 8,
    "start_time": "2022-01-14T19:34:11.883Z"
   },
   {
    "duration": 11,
    "start_time": "2022-01-14T19:34:11.893Z"
   },
   {
    "duration": 51,
    "start_time": "2022-01-14T19:34:11.906Z"
   },
   {
    "duration": 4,
    "start_time": "2022-01-14T19:34:11.959Z"
   },
   {
    "duration": 8873,
    "start_time": "2022-01-14T19:34:11.965Z"
   },
   {
    "duration": 4,
    "start_time": "2022-01-14T19:36:22.041Z"
   },
   {
    "duration": 40,
    "start_time": "2022-01-14T19:36:22.046Z"
   },
   {
    "duration": 423,
    "start_time": "2022-01-14T19:36:22.088Z"
   },
   {
    "duration": 169,
    "start_time": "2022-01-14T19:36:22.513Z"
   },
   {
    "duration": 135,
    "start_time": "2022-01-14T19:36:22.683Z"
   },
   {
    "duration": 86,
    "start_time": "2022-01-14T19:36:22.820Z"
   },
   {
    "duration": 71,
    "start_time": "2022-01-14T19:36:22.909Z"
   },
   {
    "duration": 71,
    "start_time": "2022-01-14T19:36:22.983Z"
   },
   {
    "duration": 156,
    "start_time": "2022-01-14T19:36:23.056Z"
   },
   {
    "duration": 71,
    "start_time": "2022-01-14T19:36:23.214Z"
   },
   {
    "duration": 55,
    "start_time": "2022-01-14T19:36:23.286Z"
   },
   {
    "duration": 34,
    "start_time": "2022-01-14T19:36:23.343Z"
   },
   {
    "duration": 28,
    "start_time": "2022-01-14T19:36:23.379Z"
   },
   {
    "duration": 52,
    "start_time": "2022-01-14T19:36:23.409Z"
   },
   {
    "duration": 25,
    "start_time": "2022-01-14T19:36:23.463Z"
   },
   {
    "duration": 4,
    "start_time": "2022-01-14T19:36:23.490Z"
   },
   {
    "duration": 11,
    "start_time": "2022-01-14T19:36:23.496Z"
   },
   {
    "duration": 39,
    "start_time": "2022-01-14T19:36:23.509Z"
   },
   {
    "duration": 23,
    "start_time": "2022-01-14T19:36:23.550Z"
   },
   {
    "duration": 12,
    "start_time": "2022-01-14T19:36:23.575Z"
   },
   {
    "duration": 6833,
    "start_time": "2022-01-14T19:36:23.589Z"
   },
   {
    "duration": 6,
    "start_time": "2022-01-14T19:38:22.230Z"
   },
   {
    "duration": 7002,
    "start_time": "2022-01-14T19:38:27.734Z"
   },
   {
    "duration": 247,
    "start_time": "2022-01-14T19:45:16.114Z"
   },
   {
    "duration": 6889,
    "start_time": "2022-01-14T19:45:41.012Z"
   },
   {
    "duration": 7029,
    "start_time": "2022-01-14T19:48:25.574Z"
   },
   {
    "duration": 128,
    "start_time": "2022-01-14T19:48:48.331Z"
   },
   {
    "duration": 128,
    "start_time": "2022-01-14T19:49:45.914Z"
   },
   {
    "duration": 123,
    "start_time": "2022-01-14T19:51:16.764Z"
   },
   {
    "duration": 252,
    "start_time": "2022-01-14T20:00:01.868Z"
   },
   {
    "duration": 18,
    "start_time": "2022-01-14T20:01:23.596Z"
   },
   {
    "duration": 28,
    "start_time": "2022-01-14T20:02:19.284Z"
   },
   {
    "duration": 30,
    "start_time": "2022-01-14T20:05:25.042Z"
   },
   {
    "duration": 30,
    "start_time": "2022-01-14T20:06:53.894Z"
   },
   {
    "duration": 657,
    "start_time": "2022-01-14T20:13:45.124Z"
   },
   {
    "duration": 630,
    "start_time": "2022-01-14T20:18:01.442Z"
   },
   {
    "duration": 874,
    "start_time": "2022-01-14T20:46:11.238Z"
   },
   {
    "duration": 1581,
    "start_time": "2022-01-15T08:56:10.173Z"
   },
   {
    "duration": 5,
    "start_time": "2022-01-15T08:56:11.757Z"
   },
   {
    "duration": 560,
    "start_time": "2022-01-15T08:56:11.765Z"
   },
   {
    "duration": 246,
    "start_time": "2022-01-15T08:56:12.328Z"
   },
   {
    "duration": 232,
    "start_time": "2022-01-15T08:56:12.578Z"
   },
   {
    "duration": 162,
    "start_time": "2022-01-15T08:56:12.814Z"
   },
   {
    "duration": 104,
    "start_time": "2022-01-15T08:56:12.979Z"
   },
   {
    "duration": 91,
    "start_time": "2022-01-15T08:56:13.087Z"
   },
   {
    "duration": 228,
    "start_time": "2022-01-15T08:56:13.182Z"
   },
   {
    "duration": 106,
    "start_time": "2022-01-15T08:56:13.412Z"
   },
   {
    "duration": 81,
    "start_time": "2022-01-15T08:56:13.520Z"
   },
   {
    "duration": 60,
    "start_time": "2022-01-15T08:56:13.604Z"
   },
   {
    "duration": 33,
    "start_time": "2022-01-15T08:56:13.668Z"
   },
   {
    "duration": 62,
    "start_time": "2022-01-15T08:56:13.704Z"
   },
   {
    "duration": 31,
    "start_time": "2022-01-15T08:56:13.770Z"
   },
   {
    "duration": 5,
    "start_time": "2022-01-15T08:56:13.804Z"
   },
   {
    "duration": 7,
    "start_time": "2022-01-15T08:56:13.812Z"
   },
   {
    "duration": 54,
    "start_time": "2022-01-15T08:56:13.822Z"
   },
   {
    "duration": 53,
    "start_time": "2022-01-15T08:56:13.879Z"
   },
   {
    "duration": 33,
    "start_time": "2022-01-15T08:56:13.934Z"
   },
   {
    "duration": 19,
    "start_time": "2022-01-15T08:56:13.970Z"
   },
   {
    "duration": 260,
    "start_time": "2022-01-15T08:56:13.992Z"
   },
   {
    "duration": 56,
    "start_time": "2022-01-15T08:56:14.264Z"
   },
   {
    "duration": 1583,
    "start_time": "2022-01-15T08:56:14.322Z"
   },
   {
    "duration": 249,
    "start_time": "2022-01-15T08:56:15.908Z"
   },
   {
    "duration": 224,
    "start_time": "2022-01-15T08:59:55.868Z"
   },
   {
    "duration": 4,
    "start_time": "2022-01-15T09:04:12.340Z"
   },
   {
    "duration": 6,
    "start_time": "2022-01-15T09:04:12.347Z"
   },
   {
    "duration": 571,
    "start_time": "2022-01-15T09:04:12.356Z"
   },
   {
    "duration": 213,
    "start_time": "2022-01-15T09:04:12.930Z"
   },
   {
    "duration": 204,
    "start_time": "2022-01-15T09:04:13.145Z"
   },
   {
    "duration": 177,
    "start_time": "2022-01-15T09:04:13.352Z"
   },
   {
    "duration": 137,
    "start_time": "2022-01-15T09:04:13.533Z"
   },
   {
    "duration": 109,
    "start_time": "2022-01-15T09:04:13.676Z"
   },
   {
    "duration": 215,
    "start_time": "2022-01-15T09:04:13.789Z"
   },
   {
    "duration": 110,
    "start_time": "2022-01-15T09:04:14.007Z"
   },
   {
    "duration": 89,
    "start_time": "2022-01-15T09:04:14.120Z"
   },
   {
    "duration": 59,
    "start_time": "2022-01-15T09:04:14.211Z"
   },
   {
    "duration": 42,
    "start_time": "2022-01-15T09:04:14.273Z"
   },
   {
    "duration": 64,
    "start_time": "2022-01-15T09:04:14.319Z"
   },
   {
    "duration": 45,
    "start_time": "2022-01-15T09:04:14.387Z"
   },
   {
    "duration": 7,
    "start_time": "2022-01-15T09:04:14.435Z"
   },
   {
    "duration": 9,
    "start_time": "2022-01-15T09:04:14.465Z"
   },
   {
    "duration": 21,
    "start_time": "2022-01-15T09:04:14.478Z"
   },
   {
    "duration": 87,
    "start_time": "2022-01-15T09:04:14.503Z"
   },
   {
    "duration": 9,
    "start_time": "2022-01-15T09:04:14.593Z"
   },
   {
    "duration": 13,
    "start_time": "2022-01-15T09:04:14.605Z"
   },
   {
    "duration": 383,
    "start_time": "2022-01-15T09:04:14.624Z"
   },
   {
    "duration": 158,
    "start_time": "2022-01-15T09:04:15.010Z"
   },
   {
    "duration": 153,
    "start_time": "2022-01-15T09:04:15.171Z"
   },
   {
    "duration": 167,
    "start_time": "2022-01-15T09:04:15.327Z"
   },
   {
    "duration": 28,
    "start_time": "2022-01-15T09:05:21.711Z"
   },
   {
    "duration": 30,
    "start_time": "2022-01-15T09:05:23.576Z"
   },
   {
    "duration": 151,
    "start_time": "2022-01-15T09:05:27.894Z"
   },
   {
    "duration": 446,
    "start_time": "2022-01-15T09:13:57.464Z"
   },
   {
    "duration": 5,
    "start_time": "2022-01-15T09:14:09.585Z"
   },
   {
    "duration": 7,
    "start_time": "2022-01-15T09:14:09.593Z"
   },
   {
    "duration": 601,
    "start_time": "2022-01-15T09:14:09.604Z"
   },
   {
    "duration": 206,
    "start_time": "2022-01-15T09:14:10.208Z"
   },
   {
    "duration": 199,
    "start_time": "2022-01-15T09:14:10.416Z"
   },
   {
    "duration": 121,
    "start_time": "2022-01-15T09:14:10.617Z"
   },
   {
    "duration": 100,
    "start_time": "2022-01-15T09:14:10.763Z"
   },
   {
    "duration": 97,
    "start_time": "2022-01-15T09:14:10.869Z"
   },
   {
    "duration": 220,
    "start_time": "2022-01-15T09:14:10.970Z"
   },
   {
    "duration": 108,
    "start_time": "2022-01-15T09:14:11.192Z"
   },
   {
    "duration": 89,
    "start_time": "2022-01-15T09:14:11.302Z"
   },
   {
    "duration": 43,
    "start_time": "2022-01-15T09:14:11.393Z"
   },
   {
    "duration": 56,
    "start_time": "2022-01-15T09:14:11.439Z"
   },
   {
    "duration": 29,
    "start_time": "2022-01-15T09:14:11.498Z"
   },
   {
    "duration": 63,
    "start_time": "2022-01-15T09:14:11.529Z"
   },
   {
    "duration": 6,
    "start_time": "2022-01-15T09:14:11.594Z"
   },
   {
    "duration": 7,
    "start_time": "2022-01-15T09:14:11.603Z"
   },
   {
    "duration": 59,
    "start_time": "2022-01-15T09:14:11.612Z"
   },
   {
    "duration": 37,
    "start_time": "2022-01-15T09:14:11.675Z"
   },
   {
    "duration": 9,
    "start_time": "2022-01-15T09:14:11.715Z"
   },
   {
    "duration": 45,
    "start_time": "2022-01-15T09:14:11.726Z"
   },
   {
    "duration": 260,
    "start_time": "2022-01-15T09:14:11.781Z"
   },
   {
    "duration": 42,
    "start_time": "2022-01-15T09:14:12.044Z"
   },
   {
    "duration": 28,
    "start_time": "2022-01-15T09:14:12.089Z"
   },
   {
    "duration": 1463,
    "start_time": "2022-01-15T09:14:12.119Z"
   },
   {
    "duration": 4,
    "start_time": "2022-01-15T09:18:49.764Z"
   },
   {
    "duration": 304,
    "start_time": "2022-01-15T10:15:55.331Z"
   },
   {
    "duration": 5,
    "start_time": "2022-01-15T10:16:03.260Z"
   },
   {
    "duration": 8,
    "start_time": "2022-01-15T10:16:03.280Z"
   },
   {
    "duration": 620,
    "start_time": "2022-01-15T10:16:03.292Z"
   },
   {
    "duration": 235,
    "start_time": "2022-01-15T10:16:03.915Z"
   },
   {
    "duration": 260,
    "start_time": "2022-01-15T10:16:04.166Z"
   },
   {
    "duration": 155,
    "start_time": "2022-01-15T10:16:04.428Z"
   },
   {
    "duration": 106,
    "start_time": "2022-01-15T10:16:04.587Z"
   },
   {
    "duration": 100,
    "start_time": "2022-01-15T10:16:04.697Z"
   },
   {
    "duration": 235,
    "start_time": "2022-01-15T10:16:04.800Z"
   },
   {
    "duration": 117,
    "start_time": "2022-01-15T10:16:05.038Z"
   },
   {
    "duration": 78,
    "start_time": "2022-01-15T10:16:05.158Z"
   },
   {
    "duration": 69,
    "start_time": "2022-01-15T10:16:05.238Z"
   },
   {
    "duration": 28,
    "start_time": "2022-01-15T10:16:05.310Z"
   },
   {
    "duration": 64,
    "start_time": "2022-01-15T10:16:05.341Z"
   },
   {
    "duration": 28,
    "start_time": "2022-01-15T10:16:05.408Z"
   },
   {
    "duration": 8,
    "start_time": "2022-01-15T10:16:05.463Z"
   },
   {
    "duration": 10,
    "start_time": "2022-01-15T10:16:05.475Z"
   },
   {
    "duration": 17,
    "start_time": "2022-01-15T10:16:05.488Z"
   },
   {
    "duration": 96,
    "start_time": "2022-01-15T10:16:05.508Z"
   },
   {
    "duration": 7,
    "start_time": "2022-01-15T10:16:05.606Z"
   },
   {
    "duration": 9,
    "start_time": "2022-01-15T10:16:05.615Z"
   },
   {
    "duration": 320,
    "start_time": "2022-01-15T10:16:05.627Z"
   },
   {
    "duration": 50,
    "start_time": "2022-01-15T10:16:05.952Z"
   },
   {
    "duration": 29,
    "start_time": "2022-01-15T10:16:06.004Z"
   },
   {
    "duration": 1491,
    "start_time": "2022-01-15T10:16:06.035Z"
   },
   {
    "duration": 300,
    "start_time": "2022-01-15T10:16:07.530Z"
   },
   {
    "duration": 7,
    "start_time": "2022-01-15T10:19:35.690Z"
   },
   {
    "duration": 10,
    "start_time": "2022-01-15T10:20:49.977Z"
   },
   {
    "duration": 9,
    "start_time": "2022-01-15T10:20:56.962Z"
   },
   {
    "duration": 13,
    "start_time": "2022-01-15T10:30:27.632Z"
   },
   {
    "duration": 4,
    "start_time": "2022-01-15T10:31:10.830Z"
   },
   {
    "duration": 6,
    "start_time": "2022-01-15T10:31:10.837Z"
   },
   {
    "duration": 758,
    "start_time": "2022-01-15T10:31:10.847Z"
   },
   {
    "duration": 240,
    "start_time": "2022-01-15T10:31:11.609Z"
   },
   {
    "duration": 222,
    "start_time": "2022-01-15T10:31:11.852Z"
   },
   {
    "duration": 166,
    "start_time": "2022-01-15T10:31:12.077Z"
   },
   {
    "duration": 87,
    "start_time": "2022-01-15T10:31:12.245Z"
   },
   {
    "duration": 79,
    "start_time": "2022-01-15T10:31:12.335Z"
   },
   {
    "duration": 231,
    "start_time": "2022-01-15T10:31:12.420Z"
   },
   {
    "duration": 106,
    "start_time": "2022-01-15T10:31:12.654Z"
   },
   {
    "duration": 74,
    "start_time": "2022-01-15T10:31:12.763Z"
   },
   {
    "duration": 61,
    "start_time": "2022-01-15T10:31:12.841Z"
   },
   {
    "duration": 34,
    "start_time": "2022-01-15T10:31:12.906Z"
   },
   {
    "duration": 42,
    "start_time": "2022-01-15T10:31:12.942Z"
   },
   {
    "duration": 40,
    "start_time": "2022-01-15T10:31:12.987Z"
   },
   {
    "duration": 8,
    "start_time": "2022-01-15T10:31:13.030Z"
   },
   {
    "duration": 11,
    "start_time": "2022-01-15T10:31:13.045Z"
   },
   {
    "duration": 24,
    "start_time": "2022-01-15T10:31:13.059Z"
   },
   {
    "duration": 42,
    "start_time": "2022-01-15T10:31:13.086Z"
   },
   {
    "duration": 7,
    "start_time": "2022-01-15T10:31:13.130Z"
   },
   {
    "duration": 12,
    "start_time": "2022-01-15T10:31:13.140Z"
   },
   {
    "duration": 316,
    "start_time": "2022-01-15T10:31:13.163Z"
   },
   {
    "duration": 43,
    "start_time": "2022-01-15T10:31:13.482Z"
   },
   {
    "duration": 45,
    "start_time": "2022-01-15T10:31:13.527Z"
   },
   {
    "duration": 1923,
    "start_time": "2022-01-15T10:31:13.576Z"
   },
   {
    "duration": 9,
    "start_time": "2022-01-15T10:31:15.502Z"
   },
   {
    "duration": 9,
    "start_time": "2022-01-15T10:31:15.518Z"
   },
   {
    "duration": 16,
    "start_time": "2022-01-15T10:31:15.529Z"
   },
   {
    "duration": 4,
    "start_time": "2022-01-15T12:55:52.211Z"
   },
   {
    "duration": 7,
    "start_time": "2022-01-15T12:55:52.217Z"
   },
   {
    "duration": 553,
    "start_time": "2022-01-15T12:55:52.227Z"
   },
   {
    "duration": 224,
    "start_time": "2022-01-15T12:55:52.783Z"
   },
   {
    "duration": 209,
    "start_time": "2022-01-15T12:55:53.010Z"
   },
   {
    "duration": 148,
    "start_time": "2022-01-15T12:55:53.222Z"
   },
   {
    "duration": 203,
    "start_time": "2022-01-15T12:55:53.374Z"
   },
   {
    "duration": 91,
    "start_time": "2022-01-15T12:55:53.580Z"
   },
   {
    "duration": 210,
    "start_time": "2022-01-15T12:55:53.674Z"
   },
   {
    "duration": 109,
    "start_time": "2022-01-15T12:55:53.887Z"
   },
   {
    "duration": 82,
    "start_time": "2022-01-15T12:55:53.999Z"
   },
   {
    "duration": 74,
    "start_time": "2022-01-15T12:55:55.920Z"
   },
   {
    "duration": 51,
    "start_time": "2022-01-15T12:55:56.691Z"
   },
   {
    "duration": 318,
    "start_time": "2022-01-15T12:59:08.810Z"
   },
   {
    "duration": 4,
    "start_time": "2022-01-15T12:59:25.003Z"
   },
   {
    "duration": 7,
    "start_time": "2022-01-15T12:59:25.010Z"
   },
   {
    "duration": 557,
    "start_time": "2022-01-15T12:59:25.020Z"
   },
   {
    "duration": 219,
    "start_time": "2022-01-15T12:59:25.580Z"
   },
   {
    "duration": 208,
    "start_time": "2022-01-15T12:59:25.801Z"
   },
   {
    "duration": 127,
    "start_time": "2022-01-15T12:59:26.011Z"
   },
   {
    "duration": 93,
    "start_time": "2022-01-15T12:59:26.141Z"
   },
   {
    "duration": 62,
    "start_time": "2022-01-15T12:59:26.266Z"
   },
   {
    "duration": 241,
    "start_time": "2022-01-15T12:59:26.330Z"
   },
   {
    "duration": 108,
    "start_time": "2022-01-15T12:59:26.575Z"
   },
   {
    "duration": 77,
    "start_time": "2022-01-15T12:59:26.686Z"
   },
   {
    "duration": 74,
    "start_time": "2022-01-15T12:59:28.249Z"
   },
   {
    "duration": 40,
    "start_time": "2022-01-15T12:59:29.288Z"
   },
   {
    "duration": 30,
    "start_time": "2022-01-15T13:07:53.575Z"
   },
   {
    "duration": 35,
    "start_time": "2022-01-15T13:08:10.277Z"
   },
   {
    "duration": 20,
    "start_time": "2022-01-15T13:09:11.535Z"
   },
   {
    "duration": 5,
    "start_time": "2022-01-15T13:09:55.173Z"
   },
   {
    "duration": 5,
    "start_time": "2022-01-15T13:09:55.181Z"
   },
   {
    "duration": 549,
    "start_time": "2022-01-15T13:09:55.189Z"
   },
   {
    "duration": 242,
    "start_time": "2022-01-15T13:09:55.741Z"
   },
   {
    "duration": 212,
    "start_time": "2022-01-15T13:09:55.985Z"
   },
   {
    "duration": 126,
    "start_time": "2022-01-15T13:09:56.199Z"
   },
   {
    "duration": 100,
    "start_time": "2022-01-15T13:09:56.327Z"
   },
   {
    "duration": 91,
    "start_time": "2022-01-15T13:09:56.430Z"
   },
   {
    "duration": 225,
    "start_time": "2022-01-15T13:09:56.523Z"
   },
   {
    "duration": 112,
    "start_time": "2022-01-15T13:09:56.751Z"
   },
   {
    "duration": 71,
    "start_time": "2022-01-15T13:09:56.866Z"
   },
   {
    "duration": 65,
    "start_time": "2022-01-15T13:09:56.940Z"
   },
   {
    "duration": 27,
    "start_time": "2022-01-15T13:09:57.007Z"
   },
   {
    "duration": 21,
    "start_time": "2022-01-15T13:09:59.551Z"
   },
   {
    "duration": 34,
    "start_time": "2022-01-15T13:10:02.505Z"
   },
   {
    "duration": 8212,
    "start_time": "2022-01-15T13:10:59.472Z"
   },
   {
    "duration": 822,
    "start_time": "2022-01-15T13:11:06.867Z"
   },
   {
    "duration": 819,
    "start_time": "2022-01-15T13:11:06.872Z"
   },
   {
    "duration": 819,
    "start_time": "2022-01-15T13:11:06.874Z"
   },
   {
    "duration": 819,
    "start_time": "2022-01-15T13:11:06.876Z"
   },
   {
    "duration": 818,
    "start_time": "2022-01-15T13:11:06.879Z"
   },
   {
    "duration": 815,
    "start_time": "2022-01-15T13:11:06.884Z"
   },
   {
    "duration": 815,
    "start_time": "2022-01-15T13:11:06.886Z"
   },
   {
    "duration": 814,
    "start_time": "2022-01-15T13:11:06.888Z"
   },
   {
    "duration": 815,
    "start_time": "2022-01-15T13:11:06.890Z"
   },
   {
    "duration": 813,
    "start_time": "2022-01-15T13:11:06.893Z"
   },
   {
    "duration": 813,
    "start_time": "2022-01-15T13:11:06.895Z"
   },
   {
    "duration": 812,
    "start_time": "2022-01-15T13:11:06.898Z"
   },
   {
    "duration": 811,
    "start_time": "2022-01-15T13:11:06.901Z"
   },
   {
    "duration": 24,
    "start_time": "2022-01-15T13:11:09.563Z"
   },
   {
    "duration": 8350,
    "start_time": "2022-01-15T13:11:10.364Z"
   },
   {
    "duration": 5,
    "start_time": "2022-01-15T13:12:05.879Z"
   },
   {
    "duration": 16,
    "start_time": "2022-01-15T13:12:05.887Z"
   },
   {
    "duration": 543,
    "start_time": "2022-01-15T13:12:05.906Z"
   },
   {
    "duration": 242,
    "start_time": "2022-01-15T13:12:06.451Z"
   },
   {
    "duration": 206,
    "start_time": "2022-01-15T13:12:06.695Z"
   },
   {
    "duration": 123,
    "start_time": "2022-01-15T13:12:06.903Z"
   },
   {
    "duration": 95,
    "start_time": "2022-01-15T13:12:07.028Z"
   },
   {
    "duration": 97,
    "start_time": "2022-01-15T13:12:07.127Z"
   },
   {
    "duration": 239,
    "start_time": "2022-01-15T13:12:07.227Z"
   },
   {
    "duration": 109,
    "start_time": "2022-01-15T13:12:07.469Z"
   },
   {
    "duration": 86,
    "start_time": "2022-01-15T13:12:07.580Z"
   },
   {
    "duration": 45,
    "start_time": "2022-01-15T13:12:07.669Z"
   },
   {
    "duration": 57,
    "start_time": "2022-01-15T13:12:07.717Z"
   },
   {
    "duration": 19,
    "start_time": "2022-01-15T13:12:10.530Z"
   },
   {
    "duration": 33,
    "start_time": "2022-01-15T13:12:11.624Z"
   },
   {
    "duration": 5,
    "start_time": "2022-01-15T13:12:57.929Z"
   },
   {
    "duration": 6,
    "start_time": "2022-01-15T13:12:57.938Z"
   },
   {
    "duration": 549,
    "start_time": "2022-01-15T13:12:57.949Z"
   },
   {
    "duration": 224,
    "start_time": "2022-01-15T13:12:58.500Z"
   },
   {
    "duration": 204,
    "start_time": "2022-01-15T13:12:58.728Z"
   },
   {
    "duration": 151,
    "start_time": "2022-01-15T13:12:58.934Z"
   },
   {
    "duration": 145,
    "start_time": "2022-01-15T13:12:59.089Z"
   },
   {
    "duration": 108,
    "start_time": "2022-01-15T13:12:59.246Z"
   },
   {
    "duration": 311,
    "start_time": "2022-01-15T13:12:59.367Z"
   },
   {
    "duration": 191,
    "start_time": "2022-01-15T13:12:59.687Z"
   },
   {
    "duration": 91,
    "start_time": "2022-01-15T13:12:59.891Z"
   },
   {
    "duration": 86,
    "start_time": "2022-01-15T13:12:59.991Z"
   },
   {
    "duration": 36,
    "start_time": "2022-01-15T13:13:00.083Z"
   },
   {
    "duration": 60,
    "start_time": "2022-01-15T13:13:00.122Z"
   },
   {
    "duration": 32,
    "start_time": "2022-01-15T13:13:00.187Z"
   },
   {
    "duration": 9,
    "start_time": "2022-01-15T13:13:00.221Z"
   },
   {
    "duration": 51,
    "start_time": "2022-01-15T13:13:00.232Z"
   },
   {
    "duration": 38,
    "start_time": "2022-01-15T13:13:00.286Z"
   },
   {
    "duration": 7,
    "start_time": "2022-01-15T13:13:00.327Z"
   },
   {
    "duration": 12,
    "start_time": "2022-01-15T13:13:00.363Z"
   },
   {
    "duration": 278,
    "start_time": "2022-01-15T13:13:00.378Z"
   },
   {
    "duration": 35,
    "start_time": "2022-01-15T13:13:00.663Z"
   },
   {
    "duration": 31,
    "start_time": "2022-01-15T13:13:00.702Z"
   },
   {
    "duration": 1402,
    "start_time": "2022-01-15T13:13:00.766Z"
   },
   {
    "duration": 10,
    "start_time": "2022-01-15T13:13:02.172Z"
   },
   {
    "duration": 20,
    "start_time": "2022-01-15T13:13:02.184Z"
   },
   {
    "duration": 20,
    "start_time": "2022-01-15T13:13:02.207Z"
   },
   {
    "duration": 4,
    "start_time": "2022-01-15T13:17:43.333Z"
   },
   {
    "duration": 5,
    "start_time": "2022-01-15T13:17:43.345Z"
   },
   {
    "duration": 572,
    "start_time": "2022-01-15T13:17:43.354Z"
   },
   {
    "duration": 238,
    "start_time": "2022-01-15T13:17:43.930Z"
   },
   {
    "duration": 244,
    "start_time": "2022-01-15T13:17:44.171Z"
   },
   {
    "duration": 154,
    "start_time": "2022-01-15T13:17:44.418Z"
   },
   {
    "duration": 103,
    "start_time": "2022-01-15T13:17:44.575Z"
   },
   {
    "duration": 91,
    "start_time": "2022-01-15T13:17:44.681Z"
   },
   {
    "duration": 234,
    "start_time": "2022-01-15T13:17:44.776Z"
   },
   {
    "duration": 110,
    "start_time": "2022-01-15T13:17:45.014Z"
   },
   {
    "duration": 84,
    "start_time": "2022-01-15T13:17:45.127Z"
   },
   {
    "duration": 66,
    "start_time": "2022-01-15T13:17:45.214Z"
   },
   {
    "duration": 29,
    "start_time": "2022-01-15T13:17:45.283Z"
   },
   {
    "duration": 62,
    "start_time": "2022-01-15T13:17:45.315Z"
   },
   {
    "duration": 32,
    "start_time": "2022-01-15T13:17:45.379Z"
   },
   {
    "duration": 8,
    "start_time": "2022-01-15T13:17:45.413Z"
   },
   {
    "duration": 49,
    "start_time": "2022-01-15T13:17:45.424Z"
   },
   {
    "duration": 38,
    "start_time": "2022-01-15T13:17:45.477Z"
   },
   {
    "duration": 7,
    "start_time": "2022-01-15T13:17:45.517Z"
   },
   {
    "duration": 45,
    "start_time": "2022-01-15T13:17:45.527Z"
   },
   {
    "duration": 270,
    "start_time": "2022-01-15T13:17:45.577Z"
   },
   {
    "duration": 41,
    "start_time": "2022-01-15T13:17:45.850Z"
   },
   {
    "duration": 28,
    "start_time": "2022-01-15T13:17:45.894Z"
   },
   {
    "duration": 1429,
    "start_time": "2022-01-15T13:17:45.925Z"
   },
   {
    "duration": 15,
    "start_time": "2022-01-15T13:17:47.356Z"
   },
   {
    "duration": 12,
    "start_time": "2022-01-15T13:17:47.375Z"
   },
   {
    "duration": 14,
    "start_time": "2022-01-15T13:17:47.390Z"
   },
   {
    "duration": 4,
    "start_time": "2022-01-15T13:37:19.293Z"
   },
   {
    "duration": 4,
    "start_time": "2022-01-15T13:37:19.301Z"
   },
   {
    "duration": 546,
    "start_time": "2022-01-15T13:37:19.308Z"
   },
   {
    "duration": 229,
    "start_time": "2022-01-15T13:37:19.857Z"
   },
   {
    "duration": 211,
    "start_time": "2022-01-15T13:37:20.089Z"
   },
   {
    "duration": 138,
    "start_time": "2022-01-15T13:37:20.303Z"
   },
   {
    "duration": 87,
    "start_time": "2022-01-15T13:37:20.444Z"
   },
   {
    "duration": 58,
    "start_time": "2022-01-15T13:37:20.563Z"
   },
   {
    "duration": 235,
    "start_time": "2022-01-15T13:37:20.624Z"
   },
   {
    "duration": 108,
    "start_time": "2022-01-15T13:37:20.863Z"
   },
   {
    "duration": 72,
    "start_time": "2022-01-15T13:37:20.973Z"
   },
   {
    "duration": 56,
    "start_time": "2022-01-15T13:37:21.048Z"
   },
   {
    "duration": 29,
    "start_time": "2022-01-15T13:37:21.106Z"
   },
   {
    "duration": 55,
    "start_time": "2022-01-15T13:37:21.138Z"
   },
   {
    "duration": 43,
    "start_time": "2022-01-15T13:37:21.196Z"
   },
   {
    "duration": 10,
    "start_time": "2022-01-15T13:37:21.265Z"
   },
   {
    "duration": 31,
    "start_time": "2022-01-15T13:37:21.279Z"
   },
   {
    "duration": 78,
    "start_time": "2022-01-15T13:37:21.318Z"
   },
   {
    "duration": 8,
    "start_time": "2022-01-15T13:37:21.400Z"
   },
   {
    "duration": 14,
    "start_time": "2022-01-15T13:37:21.411Z"
   },
   {
    "duration": 290,
    "start_time": "2022-01-15T13:37:21.427Z"
   },
   {
    "duration": 47,
    "start_time": "2022-01-15T13:37:21.719Z"
   },
   {
    "duration": 31,
    "start_time": "2022-01-15T13:37:21.769Z"
   },
   {
    "duration": 1466,
    "start_time": "2022-01-15T13:37:21.802Z"
   },
   {
    "duration": 7,
    "start_time": "2022-01-15T13:37:23.271Z"
   },
   {
    "duration": 8,
    "start_time": "2022-01-15T13:37:23.281Z"
   },
   {
    "duration": 13,
    "start_time": "2022-01-15T13:37:23.291Z"
   },
   {
    "duration": 5,
    "start_time": "2022-01-15T13:39:02.840Z"
   },
   {
    "duration": 17,
    "start_time": "2022-01-15T13:39:02.848Z"
   },
   {
    "duration": 536,
    "start_time": "2022-01-15T13:39:02.868Z"
   },
   {
    "duration": 215,
    "start_time": "2022-01-15T13:39:03.407Z"
   },
   {
    "duration": 207,
    "start_time": "2022-01-15T13:39:03.624Z"
   },
   {
    "duration": 158,
    "start_time": "2022-01-15T13:39:03.834Z"
   },
   {
    "duration": 109,
    "start_time": "2022-01-15T13:39:03.995Z"
   },
   {
    "duration": 97,
    "start_time": "2022-01-15T13:39:04.110Z"
   },
   {
    "duration": 224,
    "start_time": "2022-01-15T13:39:04.210Z"
   },
   {
    "duration": 108,
    "start_time": "2022-01-15T13:39:04.436Z"
   },
   {
    "duration": 81,
    "start_time": "2022-01-15T13:39:04.546Z"
   },
   {
    "duration": 55,
    "start_time": "2022-01-15T13:39:04.630Z"
   },
   {
    "duration": 30,
    "start_time": "2022-01-15T13:39:04.687Z"
   },
   {
    "duration": 56,
    "start_time": "2022-01-15T13:39:04.719Z"
   },
   {
    "duration": 29,
    "start_time": "2022-01-15T13:39:04.778Z"
   },
   {
    "duration": 7,
    "start_time": "2022-01-15T13:39:04.809Z"
   },
   {
    "duration": 54,
    "start_time": "2022-01-15T13:39:04.819Z"
   },
   {
    "duration": 41,
    "start_time": "2022-01-15T13:39:04.878Z"
   },
   {
    "duration": 9,
    "start_time": "2022-01-15T13:39:04.924Z"
   },
   {
    "duration": 36,
    "start_time": "2022-01-15T13:39:04.936Z"
   },
   {
    "duration": 260,
    "start_time": "2022-01-15T13:39:12.928Z"
   },
   {
    "duration": 101,
    "start_time": "2022-01-15T13:39:54.320Z"
   },
   {
    "duration": 355,
    "start_time": "2022-01-15T13:40:03.386Z"
   },
   {
    "duration": 31,
    "start_time": "2022-01-15T13:40:27.696Z"
   },
   {
    "duration": 6,
    "start_time": "2022-01-15T13:45:01.177Z"
   },
   {
    "duration": 36,
    "start_time": "2022-01-15T14:05:11.604Z"
   },
   {
    "duration": 5,
    "start_time": "2022-01-15T14:05:23.182Z"
   },
   {
    "duration": 5,
    "start_time": "2022-01-15T14:05:23.190Z"
   },
   {
    "duration": 589,
    "start_time": "2022-01-15T14:05:23.198Z"
   },
   {
    "duration": 236,
    "start_time": "2022-01-15T14:05:23.791Z"
   },
   {
    "duration": 238,
    "start_time": "2022-01-15T14:05:24.030Z"
   },
   {
    "duration": 140,
    "start_time": "2022-01-15T14:05:24.271Z"
   },
   {
    "duration": 101,
    "start_time": "2022-01-15T14:05:24.414Z"
   },
   {
    "duration": 83,
    "start_time": "2022-01-15T14:05:24.518Z"
   },
   {
    "duration": 264,
    "start_time": "2022-01-15T14:05:24.605Z"
   },
   {
    "duration": 139,
    "start_time": "2022-01-15T14:05:24.874Z"
   },
   {
    "duration": 85,
    "start_time": "2022-01-15T14:05:25.015Z"
   },
   {
    "duration": 43,
    "start_time": "2022-01-15T14:05:25.102Z"
   },
   {
    "duration": 41,
    "start_time": "2022-01-15T14:05:25.162Z"
   },
   {
    "duration": 57,
    "start_time": "2022-01-15T14:05:25.206Z"
   },
   {
    "duration": 34,
    "start_time": "2022-01-15T14:05:25.265Z"
   },
   {
    "duration": 7,
    "start_time": "2022-01-15T14:05:25.302Z"
   },
   {
    "duration": 54,
    "start_time": "2022-01-15T14:05:25.311Z"
   },
   {
    "duration": 39,
    "start_time": "2022-01-15T14:05:25.369Z"
   },
   {
    "duration": 7,
    "start_time": "2022-01-15T14:05:25.411Z"
   },
   {
    "duration": 49,
    "start_time": "2022-01-15T14:05:25.420Z"
   },
   {
    "duration": 273,
    "start_time": "2022-01-15T14:05:25.473Z"
   },
   {
    "duration": 4,
    "start_time": "2022-01-15T14:05:25.749Z"
   },
   {
    "duration": 43,
    "start_time": "2022-01-15T14:05:25.755Z"
   },
   {
    "duration": 61,
    "start_time": "2022-01-15T14:05:25.801Z"
   },
   {
    "duration": 1441,
    "start_time": "2022-01-15T14:05:25.865Z"
   },
   {
    "duration": 7,
    "start_time": "2022-01-15T14:05:27.309Z"
   },
   {
    "duration": 8,
    "start_time": "2022-01-15T14:05:27.320Z"
   },
   {
    "duration": 45,
    "start_time": "2022-01-15T14:05:27.331Z"
   },
   {
    "duration": 44,
    "start_time": "2022-01-15T14:06:03.842Z"
   },
   {
    "duration": 27,
    "start_time": "2022-01-15T14:06:19.339Z"
   },
   {
    "duration": 18,
    "start_time": "2022-01-15T14:06:25.307Z"
   },
   {
    "duration": 23,
    "start_time": "2022-01-15T14:15:43.381Z"
   },
   {
    "duration": 47,
    "start_time": "2022-01-15T14:15:44.265Z"
   },
   {
    "duration": 24,
    "start_time": "2022-01-15T14:16:00.011Z"
   },
   {
    "duration": 521,
    "start_time": "2022-01-15T16:30:06.774Z"
   },
   {
    "duration": 4,
    "start_time": "2022-01-15T16:58:17.736Z"
   },
   {
    "duration": 17,
    "start_time": "2022-01-15T16:58:17.744Z"
   },
   {
    "duration": 554,
    "start_time": "2022-01-15T16:58:17.764Z"
   },
   {
    "duration": 214,
    "start_time": "2022-01-15T16:58:18.321Z"
   },
   {
    "duration": 221,
    "start_time": "2022-01-15T16:58:18.538Z"
   },
   {
    "duration": 148,
    "start_time": "2022-01-15T16:58:18.762Z"
   },
   {
    "duration": 111,
    "start_time": "2022-01-15T16:58:18.912Z"
   },
   {
    "duration": 104,
    "start_time": "2022-01-15T16:58:19.029Z"
   },
   {
    "duration": 287,
    "start_time": "2022-01-15T16:58:19.164Z"
   },
   {
    "duration": 127,
    "start_time": "2022-01-15T16:58:19.454Z"
   },
   {
    "duration": 81,
    "start_time": "2022-01-15T16:58:19.583Z"
   },
   {
    "duration": 45,
    "start_time": "2022-01-15T16:58:19.667Z"
   },
   {
    "duration": 51,
    "start_time": "2022-01-15T16:58:19.715Z"
   },
   {
    "duration": 31,
    "start_time": "2022-01-15T16:58:19.769Z"
   },
   {
    "duration": 29,
    "start_time": "2022-01-15T16:58:19.802Z"
   },
   {
    "duration": 36,
    "start_time": "2022-01-15T16:58:19.834Z"
   },
   {
    "duration": 21,
    "start_time": "2022-01-15T16:58:19.873Z"
   },
   {
    "duration": 71,
    "start_time": "2022-01-15T16:58:19.896Z"
   },
   {
    "duration": 6,
    "start_time": "2022-01-15T16:58:19.970Z"
   },
   {
    "duration": 8,
    "start_time": "2022-01-15T16:58:19.979Z"
   },
   {
    "duration": 267,
    "start_time": "2022-01-15T16:58:19.989Z"
   },
   {
    "duration": 5,
    "start_time": "2022-01-15T16:58:20.258Z"
   },
   {
    "duration": 25,
    "start_time": "2022-01-15T16:58:20.268Z"
   },
   {
    "duration": 104,
    "start_time": "2022-01-15T16:58:20.296Z"
   },
   {
    "duration": 967,
    "start_time": "2022-01-15T16:58:19.435Z"
   },
   {
    "duration": 958,
    "start_time": "2022-01-15T16:58:19.446Z"
   },
   {
    "duration": 956,
    "start_time": "2022-01-15T16:58:19.449Z"
   },
   {
    "duration": 953,
    "start_time": "2022-01-15T16:58:19.453Z"
   },
   {
    "duration": 950,
    "start_time": "2022-01-15T16:58:19.458Z"
   },
   {
    "duration": 947,
    "start_time": "2022-01-15T16:58:19.462Z"
   },
   {
    "duration": 5,
    "start_time": "2022-01-15T16:58:42.121Z"
   },
   {
    "duration": 7,
    "start_time": "2022-01-15T16:58:42.129Z"
   },
   {
    "duration": 517,
    "start_time": "2022-01-15T16:58:42.139Z"
   },
   {
    "duration": 254,
    "start_time": "2022-01-15T16:58:42.659Z"
   },
   {
    "duration": 203,
    "start_time": "2022-01-15T16:58:42.916Z"
   },
   {
    "duration": 148,
    "start_time": "2022-01-15T16:58:43.122Z"
   },
   {
    "duration": 90,
    "start_time": "2022-01-15T16:58:43.273Z"
   },
   {
    "duration": 57,
    "start_time": "2022-01-15T16:58:43.367Z"
   },
   {
    "duration": 228,
    "start_time": "2022-01-15T16:58:43.427Z"
   },
   {
    "duration": 106,
    "start_time": "2022-01-15T16:58:43.658Z"
   },
   {
    "duration": 70,
    "start_time": "2022-01-15T16:58:43.766Z"
   },
   {
    "duration": 59,
    "start_time": "2022-01-15T16:58:43.838Z"
   },
   {
    "duration": 29,
    "start_time": "2022-01-15T16:58:43.899Z"
   },
   {
    "duration": 53,
    "start_time": "2022-01-15T16:58:43.930Z"
   },
   {
    "duration": 29,
    "start_time": "2022-01-15T16:58:43.985Z"
   },
   {
    "duration": 8,
    "start_time": "2022-01-15T16:58:44.017Z"
   },
   {
    "duration": 51,
    "start_time": "2022-01-15T16:58:44.027Z"
   },
   {
    "duration": 36,
    "start_time": "2022-01-15T16:58:44.081Z"
   },
   {
    "duration": 7,
    "start_time": "2022-01-15T16:58:44.120Z"
   },
   {
    "duration": 44,
    "start_time": "2022-01-15T16:58:44.129Z"
   },
   {
    "duration": 375,
    "start_time": "2022-01-15T16:58:44.176Z"
   },
   {
    "duration": 11,
    "start_time": "2022-01-15T16:58:44.553Z"
   },
   {
    "duration": 24,
    "start_time": "2022-01-15T16:58:44.568Z"
   },
   {
    "duration": 7607,
    "start_time": "2022-01-15T16:58:44.595Z"
   },
   {
    "duration": 916,
    "start_time": "2022-01-15T16:58:51.289Z"
   },
   {
    "duration": 909,
    "start_time": "2022-01-15T16:58:51.297Z"
   },
   {
    "duration": 908,
    "start_time": "2022-01-15T16:58:51.300Z"
   },
   {
    "duration": 906,
    "start_time": "2022-01-15T16:58:51.303Z"
   },
   {
    "duration": 906,
    "start_time": "2022-01-15T16:58:51.305Z"
   },
   {
    "duration": 905,
    "start_time": "2022-01-15T16:58:51.308Z"
   },
   {
    "duration": 16,
    "start_time": "2022-01-15T16:59:31.318Z"
   },
   {
    "duration": 8,
    "start_time": "2022-01-15T16:59:54.505Z"
   },
   {
    "duration": 8,
    "start_time": "2022-01-15T16:59:59.902Z"
   },
   {
    "duration": 9,
    "start_time": "2022-01-15T17:01:30.392Z"
   },
   {
    "duration": 4,
    "start_time": "2022-01-15T17:02:18.109Z"
   },
   {
    "duration": 9,
    "start_time": "2022-01-15T17:02:18.116Z"
   },
   {
    "duration": 525,
    "start_time": "2022-01-15T17:02:18.128Z"
   },
   {
    "duration": 244,
    "start_time": "2022-01-15T17:02:18.656Z"
   },
   {
    "duration": 199,
    "start_time": "2022-01-15T17:02:18.903Z"
   },
   {
    "duration": 126,
    "start_time": "2022-01-15T17:02:19.105Z"
   },
   {
    "duration": 92,
    "start_time": "2022-01-15T17:02:19.234Z"
   },
   {
    "duration": 93,
    "start_time": "2022-01-15T17:02:19.329Z"
   },
   {
    "duration": 202,
    "start_time": "2022-01-15T17:02:19.465Z"
   },
   {
    "duration": 102,
    "start_time": "2022-01-15T17:02:19.670Z"
   },
   {
    "duration": 70,
    "start_time": "2022-01-15T17:02:19.775Z"
   },
   {
    "duration": 58,
    "start_time": "2022-01-15T17:02:19.847Z"
   },
   {
    "duration": 28,
    "start_time": "2022-01-15T17:02:19.907Z"
   },
   {
    "duration": 51,
    "start_time": "2022-01-15T17:02:19.937Z"
   },
   {
    "duration": 28,
    "start_time": "2022-01-15T17:02:19.991Z"
   },
   {
    "duration": 42,
    "start_time": "2022-01-15T17:02:20.021Z"
   },
   {
    "duration": 23,
    "start_time": "2022-01-15T17:02:20.066Z"
   },
   {
    "duration": 72,
    "start_time": "2022-01-15T17:02:20.092Z"
   },
   {
    "duration": 8,
    "start_time": "2022-01-15T17:02:20.168Z"
   },
   {
    "duration": 11,
    "start_time": "2022-01-15T17:02:20.179Z"
   },
   {
    "duration": 272,
    "start_time": "2022-01-15T17:02:20.193Z"
   },
   {
    "duration": 4,
    "start_time": "2022-01-15T17:02:20.468Z"
   },
   {
    "duration": 28,
    "start_time": "2022-01-15T17:02:20.476Z"
   },
   {
    "duration": 8,
    "start_time": "2022-01-15T17:02:20.507Z"
   },
   {
    "duration": 70,
    "start_time": "2022-01-15T17:02:20.518Z"
   },
   {
    "duration": 6,
    "start_time": "2022-01-15T17:02:20.591Z"
   },
   {
    "duration": 1350,
    "start_time": "2022-01-15T17:02:20.602Z"
   },
   {
    "duration": 8,
    "start_time": "2022-01-15T17:02:21.954Z"
   },
   {
    "duration": 14,
    "start_time": "2022-01-15T17:02:21.965Z"
   },
   {
    "duration": 13,
    "start_time": "2022-01-15T17:02:21.981Z"
   },
   {
    "duration": 301,
    "start_time": "2022-01-15T17:08:05.089Z"
   },
   {
    "duration": 7,
    "start_time": "2022-01-15T17:08:22.869Z"
   },
   {
    "duration": 8,
    "start_time": "2022-01-15T17:09:14.788Z"
   },
   {
    "duration": 5,
    "start_time": "2022-01-15T17:46:06.390Z"
   },
   {
    "duration": 5,
    "start_time": "2022-01-15T17:46:06.398Z"
   },
   {
    "duration": 500,
    "start_time": "2022-01-15T17:46:06.406Z"
   },
   {
    "duration": 197,
    "start_time": "2022-01-15T17:46:06.908Z"
   },
   {
    "duration": 188,
    "start_time": "2022-01-15T17:46:07.107Z"
   },
   {
    "duration": 211,
    "start_time": "2022-01-15T17:46:07.298Z"
   },
   {
    "duration": 84,
    "start_time": "2022-01-15T17:46:07.512Z"
   },
   {
    "duration": 85,
    "start_time": "2022-01-15T17:46:07.598Z"
   },
   {
    "duration": 202,
    "start_time": "2022-01-15T17:46:07.686Z"
   },
   {
    "duration": 99,
    "start_time": "2022-01-15T17:46:07.891Z"
   },
   {
    "duration": 78,
    "start_time": "2022-01-15T17:46:07.992Z"
   },
   {
    "duration": 40,
    "start_time": "2022-01-15T17:46:08.072Z"
   },
   {
    "duration": 50,
    "start_time": "2022-01-15T17:46:08.114Z"
   },
   {
    "duration": 33,
    "start_time": "2022-01-15T17:46:08.166Z"
   },
   {
    "duration": 28,
    "start_time": "2022-01-15T17:46:08.201Z"
   },
   {
    "duration": 32,
    "start_time": "2022-01-15T17:46:08.231Z"
   },
   {
    "duration": 25,
    "start_time": "2022-01-15T17:46:08.266Z"
   },
   {
    "duration": 78,
    "start_time": "2022-01-15T17:46:08.294Z"
   },
   {
    "duration": 7,
    "start_time": "2022-01-15T17:46:08.375Z"
   },
   {
    "duration": 10,
    "start_time": "2022-01-15T17:46:08.384Z"
   },
   {
    "duration": 254,
    "start_time": "2022-01-15T17:46:08.396Z"
   },
   {
    "duration": 13,
    "start_time": "2022-01-15T17:46:08.652Z"
   },
   {
    "duration": 26,
    "start_time": "2022-01-15T17:46:08.668Z"
   },
   {
    "duration": 7,
    "start_time": "2022-01-15T17:46:08.697Z"
   },
   {
    "duration": 63,
    "start_time": "2022-01-15T17:46:08.707Z"
   },
   {
    "duration": 7,
    "start_time": "2022-01-15T17:46:08.773Z"
   },
   {
    "duration": 1379,
    "start_time": "2022-01-15T17:46:08.784Z"
   },
   {
    "duration": 10,
    "start_time": "2022-01-15T17:46:10.166Z"
   },
   {
    "duration": 15,
    "start_time": "2022-01-15T17:46:10.179Z"
   },
   {
    "duration": 101,
    "start_time": "2022-01-18T09:31:48.892Z"
   },
   {
    "duration": 1135,
    "start_time": "2022-01-18T09:55:17.620Z"
   },
   {
    "duration": 5,
    "start_time": "2022-01-18T09:55:18.758Z"
   },
   {
    "duration": 369,
    "start_time": "2022-01-18T09:55:18.765Z"
   },
   {
    "duration": 152,
    "start_time": "2022-01-18T09:55:19.135Z"
   },
   {
    "duration": 109,
    "start_time": "2022-01-18T09:55:19.289Z"
   },
   {
    "duration": 78,
    "start_time": "2022-01-18T09:55:19.400Z"
   },
   {
    "duration": 58,
    "start_time": "2022-01-18T09:55:19.480Z"
   },
   {
    "duration": 30,
    "start_time": "2022-01-18T09:55:19.540Z"
   },
   {
    "duration": 144,
    "start_time": "2022-01-18T09:55:19.571Z"
   },
   {
    "duration": 62,
    "start_time": "2022-01-18T09:55:19.716Z"
   },
   {
    "duration": 52,
    "start_time": "2022-01-18T09:55:19.780Z"
   },
   {
    "duration": 28,
    "start_time": "2022-01-18T09:55:19.834Z"
   },
   {
    "duration": 18,
    "start_time": "2022-01-18T09:55:19.863Z"
   },
   {
    "duration": 23,
    "start_time": "2022-01-18T09:55:19.882Z"
   },
   {
    "duration": 33,
    "start_time": "2022-01-18T09:55:19.907Z"
   },
   {
    "duration": 5,
    "start_time": "2022-01-18T09:55:19.942Z"
   },
   {
    "duration": 20,
    "start_time": "2022-01-18T09:55:19.948Z"
   },
   {
    "duration": 36,
    "start_time": "2022-01-18T09:55:19.970Z"
   },
   {
    "duration": 21,
    "start_time": "2022-01-18T09:55:20.007Z"
   },
   {
    "duration": 25,
    "start_time": "2022-01-18T09:55:20.029Z"
   },
   {
    "duration": 148,
    "start_time": "2022-01-18T09:55:20.055Z"
   },
   {
    "duration": 2,
    "start_time": "2022-01-18T09:55:20.205Z"
   },
   {
    "duration": 18,
    "start_time": "2022-01-18T09:55:20.210Z"
   },
   {
    "duration": 4,
    "start_time": "2022-01-18T09:55:20.229Z"
   },
   {
    "duration": 26,
    "start_time": "2022-01-18T09:55:20.234Z"
   },
   {
    "duration": 4,
    "start_time": "2022-01-18T09:55:20.262Z"
   },
   {
    "duration": 887,
    "start_time": "2022-01-18T09:55:20.267Z"
   },
   {
    "duration": -73,
    "start_time": "2022-01-18T09:55:21.229Z"
   },
   {
    "duration": -75,
    "start_time": "2022-01-18T09:55:21.232Z"
   },
   {
    "duration": 3,
    "start_time": "2022-01-18T10:03:35.076Z"
   },
   {
    "duration": 18,
    "start_time": "2022-01-18T10:03:35.080Z"
   },
   {
    "duration": 358,
    "start_time": "2022-01-18T10:03:35.099Z"
   },
   {
    "duration": 123,
    "start_time": "2022-01-18T10:03:35.458Z"
   },
   {
    "duration": 97,
    "start_time": "2022-01-18T10:03:35.583Z"
   },
   {
    "duration": 75,
    "start_time": "2022-01-18T10:03:35.682Z"
   },
   {
    "duration": 37,
    "start_time": "2022-01-18T10:03:35.759Z"
   },
   {
    "duration": 57,
    "start_time": "2022-01-18T10:03:35.798Z"
   },
   {
    "duration": 135,
    "start_time": "2022-01-18T10:03:35.857Z"
   },
   {
    "duration": 67,
    "start_time": "2022-01-18T10:03:35.994Z"
   },
   {
    "duration": 44,
    "start_time": "2022-01-18T10:03:36.062Z"
   },
   {
    "duration": 38,
    "start_time": "2022-01-18T10:03:36.108Z"
   },
   {
    "duration": 18,
    "start_time": "2022-01-18T10:03:36.147Z"
   },
   {
    "duration": 20,
    "start_time": "2022-01-18T10:03:36.166Z"
   },
   {
    "duration": 16,
    "start_time": "2022-01-18T10:03:36.187Z"
   },
   {
    "duration": 26,
    "start_time": "2022-01-18T10:03:36.204Z"
   },
   {
    "duration": 12,
    "start_time": "2022-01-18T10:03:36.231Z"
   },
   {
    "duration": 19,
    "start_time": "2022-01-18T10:03:36.244Z"
   },
   {
    "duration": 4,
    "start_time": "2022-01-18T10:03:36.265Z"
   },
   {
    "duration": 17,
    "start_time": "2022-01-18T10:03:36.270Z"
   },
   {
    "duration": 276,
    "start_time": "2022-01-18T10:03:36.289Z"
   },
   {
    "duration": 3,
    "start_time": "2022-01-18T10:03:36.567Z"
   },
   {
    "duration": 24,
    "start_time": "2022-01-18T10:03:36.572Z"
   },
   {
    "duration": 5,
    "start_time": "2022-01-18T10:03:36.598Z"
   },
   {
    "duration": 33,
    "start_time": "2022-01-18T10:03:36.604Z"
   },
   {
    "duration": 5,
    "start_time": "2022-01-18T10:03:36.639Z"
   },
   {
    "duration": 841,
    "start_time": "2022-01-18T10:03:36.646Z"
   },
   {
    "duration": 5,
    "start_time": "2022-01-18T10:03:37.488Z"
   },
   {
    "duration": 10,
    "start_time": "2022-01-18T10:03:37.494Z"
   },
   {
    "duration": 3,
    "start_time": "2022-01-18T10:05:49.766Z"
   },
   {
    "duration": 8,
    "start_time": "2022-01-18T10:05:49.771Z"
   },
   {
    "duration": 360,
    "start_time": "2022-01-18T10:05:49.784Z"
   },
   {
    "duration": 122,
    "start_time": "2022-01-18T10:05:50.146Z"
   },
   {
    "duration": 120,
    "start_time": "2022-01-18T10:05:50.270Z"
   },
   {
    "duration": 81,
    "start_time": "2022-01-18T10:05:50.392Z"
   },
   {
    "duration": 69,
    "start_time": "2022-01-18T10:05:50.475Z"
   },
   {
    "duration": 37,
    "start_time": "2022-01-18T10:05:50.545Z"
   },
   {
    "duration": 167,
    "start_time": "2022-01-18T10:05:50.584Z"
   },
   {
    "duration": 73,
    "start_time": "2022-01-18T10:05:50.754Z"
   },
   {
    "duration": 49,
    "start_time": "2022-01-18T10:05:50.830Z"
   },
   {
    "duration": 28,
    "start_time": "2022-01-18T10:05:50.880Z"
   },
   {
    "duration": 34,
    "start_time": "2022-01-18T10:05:50.910Z"
   },
   {
    "duration": 23,
    "start_time": "2022-01-18T10:05:50.946Z"
   },
   {
    "duration": 18,
    "start_time": "2022-01-18T10:05:50.970Z"
   },
   {
    "duration": 5,
    "start_time": "2022-01-18T10:05:50.989Z"
   },
   {
    "duration": 41,
    "start_time": "2022-01-18T10:05:50.996Z"
   },
   {
    "duration": 26,
    "start_time": "2022-01-18T10:05:51.039Z"
   },
   {
    "duration": 4,
    "start_time": "2022-01-18T10:05:51.067Z"
   },
   {
    "duration": 29,
    "start_time": "2022-01-18T10:05:51.073Z"
   },
   {
    "duration": 131,
    "start_time": "2022-01-18T10:05:51.103Z"
   },
   {
    "duration": 2,
    "start_time": "2022-01-18T10:05:51.236Z"
   },
   {
    "duration": 22,
    "start_time": "2022-01-18T10:05:51.240Z"
   },
   {
    "duration": 17,
    "start_time": "2022-01-18T10:05:51.264Z"
   },
   {
    "duration": 21,
    "start_time": "2022-01-18T10:05:51.283Z"
   },
   {
    "duration": 4,
    "start_time": "2022-01-18T10:05:51.306Z"
   },
   {
    "duration": 767,
    "start_time": "2022-01-18T10:05:51.311Z"
   },
   {
    "duration": 4,
    "start_time": "2022-01-18T10:05:52.080Z"
   },
   {
    "duration": 13,
    "start_time": "2022-01-18T10:05:52.086Z"
   },
   {
    "duration": 3,
    "start_time": "2022-01-18T10:06:17.779Z"
   },
   {
    "duration": 6,
    "start_time": "2022-01-18T10:06:17.784Z"
   },
   {
    "duration": 358,
    "start_time": "2022-01-18T10:06:17.792Z"
   },
   {
    "duration": 132,
    "start_time": "2022-01-18T10:06:18.152Z"
   },
   {
    "duration": 106,
    "start_time": "2022-01-18T10:06:18.286Z"
   },
   {
    "duration": 80,
    "start_time": "2022-01-18T10:06:18.394Z"
   },
   {
    "duration": 65,
    "start_time": "2022-01-18T10:06:18.476Z"
   },
   {
    "duration": 34,
    "start_time": "2022-01-18T10:06:18.543Z"
   },
   {
    "duration": 152,
    "start_time": "2022-01-18T10:06:18.579Z"
   },
   {
    "duration": 58,
    "start_time": "2022-01-18T10:06:18.733Z"
   },
   {
    "duration": 57,
    "start_time": "2022-01-18T10:06:18.793Z"
   },
   {
    "duration": 30,
    "start_time": "2022-01-18T10:06:18.851Z"
   },
   {
    "duration": 19,
    "start_time": "2022-01-18T10:06:18.882Z"
   },
   {
    "duration": 40,
    "start_time": "2022-01-18T10:06:18.903Z"
   },
   {
    "duration": 17,
    "start_time": "2022-01-18T10:06:18.945Z"
   },
   {
    "duration": 4,
    "start_time": "2022-01-18T10:06:18.963Z"
   },
   {
    "duration": 14,
    "start_time": "2022-01-18T10:06:18.968Z"
   },
   {
    "duration": 44,
    "start_time": "2022-01-18T10:06:18.984Z"
   },
   {
    "duration": 5,
    "start_time": "2022-01-18T10:06:19.030Z"
   },
   {
    "duration": 7,
    "start_time": "2022-01-18T10:06:19.036Z"
   },
   {
    "duration": 143,
    "start_time": "2022-01-18T10:06:19.045Z"
   },
   {
    "duration": 4,
    "start_time": "2022-01-18T10:06:19.189Z"
   },
   {
    "duration": 17,
    "start_time": "2022-01-18T10:06:19.195Z"
   },
   {
    "duration": 14,
    "start_time": "2022-01-18T10:06:19.214Z"
   },
   {
    "duration": 24,
    "start_time": "2022-01-18T10:06:19.230Z"
   },
   {
    "duration": 6,
    "start_time": "2022-01-18T10:06:19.256Z"
   },
   {
    "duration": 809,
    "start_time": "2022-01-18T10:06:19.263Z"
   },
   {
    "duration": 5,
    "start_time": "2022-01-18T10:06:20.073Z"
   },
   {
    "duration": 15,
    "start_time": "2022-01-18T10:06:20.079Z"
   },
   {
    "duration": 8411,
    "start_time": "2022-01-18T10:15:45.763Z"
   },
   {
    "duration": 3,
    "start_time": "2022-01-18T10:17:12.175Z"
   },
   {
    "duration": 19,
    "start_time": "2022-01-18T10:17:12.180Z"
   },
   {
    "duration": 374,
    "start_time": "2022-01-18T10:17:12.200Z"
   },
   {
    "duration": 124,
    "start_time": "2022-01-18T10:17:12.577Z"
   },
   {
    "duration": 100,
    "start_time": "2022-01-18T10:17:12.702Z"
   },
   {
    "duration": 73,
    "start_time": "2022-01-18T10:17:12.803Z"
   },
   {
    "duration": 129,
    "start_time": "2022-01-18T10:17:12.879Z"
   },
   {
    "duration": 48,
    "start_time": "2022-01-18T10:17:13.010Z"
   },
   {
    "duration": 137,
    "start_time": "2022-01-18T10:17:13.059Z"
   },
   {
    "duration": 8320,
    "start_time": "2022-01-18T10:17:13.198Z"
   },
   {
    "duration": 4,
    "start_time": "2022-01-18T10:17:21.516Z"
   },
   {
    "duration": 2,
    "start_time": "2022-01-18T10:17:21.519Z"
   },
   {
    "duration": -3,
    "start_time": "2022-01-18T10:17:21.525Z"
   },
   {
    "duration": -6,
    "start_time": "2022-01-18T10:17:21.529Z"
   },
   {
    "duration": -10,
    "start_time": "2022-01-18T10:17:21.533Z"
   },
   {
    "duration": -12,
    "start_time": "2022-01-18T10:17:21.536Z"
   },
   {
    "duration": -15,
    "start_time": "2022-01-18T10:17:21.540Z"
   },
   {
    "duration": -19,
    "start_time": "2022-01-18T10:17:21.545Z"
   },
   {
    "duration": -20,
    "start_time": "2022-01-18T10:17:21.547Z"
   },
   {
    "duration": -24,
    "start_time": "2022-01-18T10:17:21.552Z"
   },
   {
    "duration": -27,
    "start_time": "2022-01-18T10:17:21.556Z"
   },
   {
    "duration": -31,
    "start_time": "2022-01-18T10:17:21.561Z"
   },
   {
    "duration": -34,
    "start_time": "2022-01-18T10:17:21.565Z"
   },
   {
    "duration": -37,
    "start_time": "2022-01-18T10:17:21.569Z"
   },
   {
    "duration": -40,
    "start_time": "2022-01-18T10:17:21.573Z"
   },
   {
    "duration": -44,
    "start_time": "2022-01-18T10:17:21.578Z"
   },
   {
    "duration": -47,
    "start_time": "2022-01-18T10:17:21.582Z"
   },
   {
    "duration": -49,
    "start_time": "2022-01-18T10:17:21.585Z"
   },
   {
    "duration": -52,
    "start_time": "2022-01-18T10:17:21.589Z"
   },
   {
    "duration": 3,
    "start_time": "2022-01-18T10:18:20.324Z"
   },
   {
    "duration": 17,
    "start_time": "2022-01-18T10:18:20.329Z"
   },
   {
    "duration": 388,
    "start_time": "2022-01-18T10:18:20.348Z"
   },
   {
    "duration": 125,
    "start_time": "2022-01-18T10:18:20.738Z"
   },
   {
    "duration": 101,
    "start_time": "2022-01-18T10:18:20.864Z"
   },
   {
    "duration": 91,
    "start_time": "2022-01-18T10:18:20.966Z"
   },
   {
    "duration": 42,
    "start_time": "2022-01-18T10:18:21.059Z"
   },
   {
    "duration": 54,
    "start_time": "2022-01-18T10:18:21.103Z"
   },
   {
    "duration": 143,
    "start_time": "2022-01-18T10:18:21.159Z"
   },
   {
    "duration": 58,
    "start_time": "2022-01-18T10:18:24.903Z"
   },
   {
    "duration": 47,
    "start_time": "2022-01-18T10:18:31.135Z"
   },
   {
    "duration": 30,
    "start_time": "2022-01-18T10:18:31.939Z"
   },
   {
    "duration": 3,
    "start_time": "2022-01-18T10:49:39.196Z"
   },
   {
    "duration": 9,
    "start_time": "2022-01-18T10:49:39.201Z"
   },
   {
    "duration": 392,
    "start_time": "2022-01-18T10:49:39.212Z"
   },
   {
    "duration": 123,
    "start_time": "2022-01-18T10:49:39.606Z"
   },
   {
    "duration": 103,
    "start_time": "2022-01-18T10:49:39.731Z"
   },
   {
    "duration": 62,
    "start_time": "2022-01-18T10:49:39.835Z"
   },
   {
    "duration": 61,
    "start_time": "2022-01-18T10:49:39.899Z"
   },
   {
    "duration": 31,
    "start_time": "2022-01-18T10:49:39.961Z"
   },
   {
    "duration": 478,
    "start_time": "2022-01-18T10:49:39.994Z"
   },
   {
    "duration": 55,
    "start_time": "2022-01-18T10:49:40.419Z"
   },
   {
    "duration": 52,
    "start_time": "2022-01-18T10:49:40.423Z"
   },
   {
    "duration": 51,
    "start_time": "2022-01-18T10:49:40.425Z"
   },
   {
    "duration": 49,
    "start_time": "2022-01-18T10:49:40.428Z"
   },
   {
    "duration": 44,
    "start_time": "2022-01-18T10:49:40.433Z"
   },
   {
    "duration": 42,
    "start_time": "2022-01-18T10:49:40.436Z"
   },
   {
    "duration": 40,
    "start_time": "2022-01-18T10:49:40.439Z"
   },
   {
    "duration": 38,
    "start_time": "2022-01-18T10:49:40.442Z"
   },
   {
    "duration": 36,
    "start_time": "2022-01-18T10:49:40.445Z"
   },
   {
    "duration": 34,
    "start_time": "2022-01-18T10:49:40.448Z"
   },
   {
    "duration": 32,
    "start_time": "2022-01-18T10:49:40.451Z"
   },
   {
    "duration": 31,
    "start_time": "2022-01-18T10:49:40.453Z"
   },
   {
    "duration": 20,
    "start_time": "2022-01-18T10:49:40.465Z"
   },
   {
    "duration": 18,
    "start_time": "2022-01-18T10:49:40.468Z"
   },
   {
    "duration": 17,
    "start_time": "2022-01-18T10:49:40.470Z"
   },
   {
    "duration": 15,
    "start_time": "2022-01-18T10:49:40.473Z"
   },
   {
    "duration": 12,
    "start_time": "2022-01-18T10:49:40.477Z"
   },
   {
    "duration": 9,
    "start_time": "2022-01-18T10:49:40.481Z"
   },
   {
    "duration": 6,
    "start_time": "2022-01-18T10:49:40.484Z"
   },
   {
    "duration": 4,
    "start_time": "2022-01-18T10:49:40.487Z"
   },
   {
    "duration": 3,
    "start_time": "2022-01-18T10:57:10.438Z"
   },
   {
    "duration": 30,
    "start_time": "2022-01-18T10:57:10.442Z"
   },
   {
    "duration": 449,
    "start_time": "2022-01-18T10:57:10.473Z"
   },
   {
    "duration": 138,
    "start_time": "2022-01-18T10:57:10.924Z"
   },
   {
    "duration": 89,
    "start_time": "2022-01-18T10:57:11.064Z"
   },
   {
    "duration": 76,
    "start_time": "2022-01-18T10:57:11.154Z"
   },
   {
    "duration": 36,
    "start_time": "2022-01-18T10:57:11.232Z"
   },
   {
    "duration": 60,
    "start_time": "2022-01-18T10:57:11.269Z"
   },
   {
    "duration": 535,
    "start_time": "2022-01-18T10:57:11.331Z"
   },
   {
    "duration": 52,
    "start_time": "2022-01-18T10:57:11.816Z"
   },
   {
    "duration": 48,
    "start_time": "2022-01-18T10:57:11.821Z"
   },
   {
    "duration": 44,
    "start_time": "2022-01-18T10:57:11.826Z"
   },
   {
    "duration": 41,
    "start_time": "2022-01-18T10:57:11.830Z"
   },
   {
    "duration": 28,
    "start_time": "2022-01-18T10:57:11.844Z"
   },
   {
    "duration": 23,
    "start_time": "2022-01-18T10:57:11.850Z"
   },
   {
    "duration": 20,
    "start_time": "2022-01-18T10:57:11.854Z"
   },
   {
    "duration": 6,
    "start_time": "2022-01-18T10:57:11.869Z"
   },
   {
    "duration": 4,
    "start_time": "2022-01-18T10:57:11.872Z"
   },
   {
    "duration": -1,
    "start_time": "2022-01-18T10:57:11.877Z"
   },
   {
    "duration": -3,
    "start_time": "2022-01-18T10:57:11.880Z"
   },
   {
    "duration": -6,
    "start_time": "2022-01-18T10:57:11.884Z"
   },
   {
    "duration": -8,
    "start_time": "2022-01-18T10:57:11.887Z"
   },
   {
    "duration": -10,
    "start_time": "2022-01-18T10:57:11.890Z"
   },
   {
    "duration": -12,
    "start_time": "2022-01-18T10:57:11.893Z"
   },
   {
    "duration": -15,
    "start_time": "2022-01-18T10:57:11.896Z"
   },
   {
    "duration": -24,
    "start_time": "2022-01-18T10:57:11.906Z"
   },
   {
    "duration": -27,
    "start_time": "2022-01-18T10:57:11.910Z"
   },
   {
    "duration": -29,
    "start_time": "2022-01-18T10:57:11.913Z"
   },
   {
    "duration": -31,
    "start_time": "2022-01-18T10:57:11.916Z"
   },
   {
    "duration": 3,
    "start_time": "2022-01-18T11:02:21.595Z"
   },
   {
    "duration": 5,
    "start_time": "2022-01-18T11:02:21.599Z"
   },
   {
    "duration": 383,
    "start_time": "2022-01-18T11:02:21.606Z"
   },
   {
    "duration": 117,
    "start_time": "2022-01-18T11:02:21.991Z"
   },
   {
    "duration": 81,
    "start_time": "2022-01-18T11:02:22.110Z"
   },
   {
    "duration": 81,
    "start_time": "2022-01-18T11:02:22.192Z"
   },
   {
    "duration": 64,
    "start_time": "2022-01-18T11:02:22.275Z"
   },
   {
    "duration": 33,
    "start_time": "2022-01-18T11:02:22.341Z"
   },
   {
    "duration": 91,
    "start_time": "2022-01-18T11:02:22.376Z"
   },
   {
    "duration": 45,
    "start_time": "2022-01-18T11:02:22.469Z"
   },
   {
    "duration": 37,
    "start_time": "2022-01-18T11:02:22.515Z"
   },
   {
    "duration": 20,
    "start_time": "2022-01-18T11:02:22.554Z"
   },
   {
    "duration": 20,
    "start_time": "2022-01-18T11:02:22.575Z"
   },
   {
    "duration": 36,
    "start_time": "2022-01-18T11:02:22.597Z"
   },
   {
    "duration": 4,
    "start_time": "2022-01-18T11:02:22.635Z"
   },
   {
    "duration": 13,
    "start_time": "2022-01-18T11:02:22.641Z"
   },
   {
    "duration": 19,
    "start_time": "2022-01-18T11:02:22.656Z"
   },
   {
    "duration": 4,
    "start_time": "2022-01-18T11:02:22.676Z"
   },
   {
    "duration": 6,
    "start_time": "2022-01-18T11:02:22.682Z"
   },
   {
    "duration": 155,
    "start_time": "2022-01-18T11:02:22.689Z"
   },
   {
    "duration": 2,
    "start_time": "2022-01-18T11:02:22.846Z"
   },
   {
    "duration": 19,
    "start_time": "2022-01-18T11:02:22.850Z"
   },
   {
    "duration": 5,
    "start_time": "2022-01-18T11:02:22.870Z"
   },
   {
    "duration": 16,
    "start_time": "2022-01-18T11:02:22.876Z"
   },
   {
    "duration": 4,
    "start_time": "2022-01-18T11:02:22.894Z"
   },
   {
    "duration": 830,
    "start_time": "2022-01-18T11:02:22.899Z"
   },
   {
    "duration": 4,
    "start_time": "2022-01-18T11:02:23.733Z"
   },
   {
    "duration": 15,
    "start_time": "2022-01-18T11:02:23.739Z"
   }
  ],
  "kernelspec": {
   "display_name": "Python 3 (ipykernel)",
   "language": "python",
   "name": "python3"
  },
  "language_info": {
   "codemirror_mode": {
    "name": "ipython",
    "version": 3
   },
   "file_extension": ".py",
   "mimetype": "text/x-python",
   "name": "python",
   "nbconvert_exporter": "python",
   "pygments_lexer": "ipython3",
   "version": "3.9.5"
  },
  "toc": {
   "base_numbering": 1,
   "nav_menu": {
    "height": "133.97px",
    "width": "199.664px"
   },
   "number_sections": true,
   "sideBar": true,
   "skip_h1_title": true,
   "title_cell": "Оглавление",
   "title_sidebar": "Оглавление",
   "toc_cell": false,
   "toc_position": {},
   "toc_section_display": true,
   "toc_window_display": true
  }
 },
 "nbformat": 4,
 "nbformat_minor": 2
}
